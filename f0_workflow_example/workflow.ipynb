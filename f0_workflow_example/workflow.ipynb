{
 "cells": [
  {
   "cell_type": "markdown",
   "metadata": {},
   "source": [
    "## Goal Prediction\n",
    "### 1. Make vectorstore\n",
    "- make document list\n",
    "- make vectorstore or load vectorstore"
   ]
  },
  {
   "cell_type": "code",
   "execution_count": 1,
   "metadata": {},
   "outputs": [
    {
     "name": "stdout",
     "output_type": "stream",
     "text": [
      "goalstep vids: 717 and spatial vids: 60\n",
      "testuid excluded: goalstep vids: 706 and spatial vids: 49\n",
      "testuid list: goalstep vids: 11 and spatial vids: 11\n",
      "goalstep_document_list: 39809\n",
      "spatial_document_list: 551\n",
      "goalstep_document_list: 170\n",
      "spatial_document_list: 170\n",
      "LOAD FAISS GOALSTEP ../data/ego4d_annotation/goalstep/goalstep_docarray_faiss\n",
      "LOAD FAISS SPATIAL: ../data/ego4d_annotation/spatial/spatial_docarray_faiss\n"
     ]
    }
   ],
   "source": [
    "import sys\n",
    "import os\n",
    "import pandas as pd\n",
    "import langchain\n",
    "import logging\n",
    "import json\n",
    "import openai\n",
    "import pickle\n",
    "#from IPython.display import Image, display\n",
    "#from sklearn.metrics.pairwise import cosine_similarity\n",
    "\n",
    "from langchain_openai.embeddings import OpenAIEmbeddings\n",
    "from langchain.vectorstores import FAISS\n",
    "from langchain_core.runnables import RunnableParallel, RunnablePassthrough\n",
    "\n",
    "sys.path.append(os.path.abspath('/usr/local/lib/python3.10/dist-packages'))\n",
    "import agent_database\n",
    "\n",
    "\n",
    "# configure paths\n",
    "data_path = '../data/ego4d_annotation/'\n",
    "GOALSTEP_ANNOTATION_PATH = data_path + 'goalstep/'\n",
    "SPATIAL_ANNOTATION_PATH = data_path + 'spatial/'\n",
    "GOALSTEP_VECSTORE_PATH = GOALSTEP_ANNOTATION_PATH + 'goalstep_docarray_faiss'\n",
    "SPATIAL_VECSTORE_PATH = SPATIAL_ANNOTATION_PATH + 'spatial_docarray_faiss'\n",
    "\n",
    "# Test scenarios to exclude\n",
    "test_uid = [\n",
    "    \"dcd09fa4-afe2-4a0d-9703-83af2867ebd3\", #make potato soap\n",
    "    \"46e07357-6946-4ff0-ba36-ae11840bdc39\", #make tortila soap\n",
    "    \"026dac2d-2ab3-4f9c-9e1d-6198db4fb080\", #prepare steak\n",
    "    \"2f46d1e6-2a85-4d46-b955-10c2eded661c\", #make steak\n",
    "    \"14bcb17c-f70a-41d5-b10d-294388084dfc\", #prepare garlic(peeling done)\n",
    "    \"487d752c-6e22-43e3-9c08-627bc2a6c6d4\", #peel garlic\n",
    "    \"543e4c99-5d9f-407d-be75-c397d633fe56\", #make sandwich\n",
    "    \"24ba7993-7fc8-4447-afd5-7ff6d548b11a\", #prepare sandwich bread\n",
    "    \"e09a667f-04bc-49b5-8246-daf248a29174\", #prepare coffee\n",
    "    \"b17ff269-ec2d-4ad8-88aa-b00b75921427\", #prepare coffee and bread\n",
    "    \"58b2a4a4-b721-4753-bfc3-478cdb5bd1a8\" #prepare tea and pie\n",
    "]\n",
    "\n",
    "# extract videos list\n",
    "goalstep_videos_list = agent_database.merge_json_video_list(GOALSTEP_ANNOTATION_PATH)\n",
    "spatial_videos_list = agent_database.merge_json_video_list(SPATIAL_ANNOTATION_PATH)\n",
    "print(f\"goalstep vids: {len(goalstep_videos_list)} and spatial vids: {len(spatial_videos_list)}\")\n",
    "\n",
    "# exclude test video list\n",
    "goalstep_videos_list, goalstep_test_video_list = agent_database.exclude_test_video_list(goalstep_videos_list, test_uid)\n",
    "spatial_videos_list, spatial_test_video_list = agent_database.exclude_test_video_list(spatial_videos_list, test_uid)\n",
    "print(f\"testuid excluded: goalstep vids: {len(goalstep_videos_list)} and spatial vids: {len(spatial_videos_list)}\")\n",
    "print(f\"testuid list: goalstep vids: {len(goalstep_test_video_list)} and spatial vids: {len(spatial_test_video_list)}\")\n",
    "\n",
    "# make document list\n",
    "goalstep_document_list = agent_database.make_goalstep_document_list(goalstep_videos_list)\n",
    "spatial_document = agent_database.make_spatial_document_list(spatial_videos_list)\n",
    "goalstep_test_document_list = agent_database.make_goalstep_document_list(goalstep_test_video_list)\n",
    "spatial_test_document_list = agent_database.make_spatial_document_list(spatial_test_video_list)\n",
    "\n",
    "print(f\"goalstep_document_list: {len(goalstep_document_list)}\")\n",
    "print(f\"spatial_document_list: {len(spatial_document)}\")\n",
    "print(f\"goalstep_document_list: {len(goalstep_test_document_list)}\")\n",
    "print(f\"spatial_document_list: {len(spatial_test_document_list)}\")\n",
    "\n",
    "\n",
    "# MAKE EMBEDDING\n",
    "embeddings = OpenAIEmbeddings()\n",
    "\n",
    "# MAKE FAISS VECSTORE\n",
    "if not os.path.exists(GOALSTEP_VECSTORE_PATH + '/index.faiss'):\n",
    "    print(f\"MAKE FAISS GOALSTEP {GOALSTEP_VECSTORE_PATH}\")\n",
    "    goalstep_vector_store =  FAISS.from_documents(goalstep_document_list, embeddings)\n",
    "    goalstep_vector_store.save_local(GOALSTEP_VECSTORE_PATH)\n",
    "else:\n",
    "    print(f\"LOAD FAISS GOALSTEP {GOALSTEP_VECSTORE_PATH}\")\n",
    "\n",
    "if not os.path.exists(SPATIAL_VECSTORE_PATH + '/index.faiss'):\n",
    "    print(f\"MAKE FAISS SPATIAL {SPATIAL_VECSTORE_PATH}\")\n",
    "    spatial_vector_store = FAISS.from_documents(spatial_document, embeddings)\n",
    "    spatial_vector_store.save_local(SPATIAL_VECSTORE_PATH)\n",
    "else:\n",
    "    print(f\"LOAD FAISS SPATIAL: {SPATIAL_VECSTORE_PATH}\")\n",
    "\n",
    "\n",
    "# LOAD FAISS VECSTORE\n",
    "goalstep_vector_store = FAISS.load_local(GOALSTEP_VECSTORE_PATH, embeddings, allow_dangerous_deserialization=True)\n",
    "spatial_vector_store = FAISS.load_local(SPATIAL_VECSTORE_PATH, embeddings, allow_dangerous_deserialization=True)\n",
    "\n",
    "# for doc in goalstep_vector_store.docstore._dict.values():\n",
    "#     print(f\"{doc.page_content}\")"
   ]
  },
  {
   "cell_type": "markdown",
   "metadata": {},
   "source": [
    "### 2. Make Input from Source (wip)\n",
    "- extract input sequence and spatial context from test video"
   ]
  },
  {
   "cell_type": "code",
   "execution_count": 2,
   "metadata": {},
   "outputs": [
    {
     "name": "stdout",
     "output_type": "stream",
     "text": [
      "11\n",
      "input index: 4\n",
      "COOKING:MAKE_STEW_OR_SOUP\n",
      "Prepare garlic\n",
      "[]\n",
      "14bcb17c-f70a-41d5-b10d-294388084dfc\n",
      "14bcb17c-f70a-41d5-b10d-294388084dfc\n"
     ]
    }
   ],
   "source": [
    "import agent_input\n",
    "\n",
    "# DEF INPUT VIDEO INDEX\n",
    "input_video_idx = int(input(\"what is the video idx for input?: \"))\n",
    "print(len(goalstep_test_video_list))\n",
    "\n",
    "# SELECT INPUT VIDEO from test video list\n",
    "goalstep_video = goalstep_test_video_list[input_video_idx]\n",
    "spatial_video = spatial_test_video_list[input_video_idx]\n",
    "print(f\"input index: {input_video_idx}\")\n",
    "print(goalstep_video[\"goal_category\"])\n",
    "print(goalstep_video[\"goal_description\"])\n",
    "print(goalstep_video[\"summary\"])\n",
    "print(goalstep_video[\"video_uid\"])\n",
    "print(spatial_video[\"video_uid\"])\n",
    "\n",
    "# EXTRACT (LV3 action sequence) & (Spatial context)\n",
    "input_goalstep_segments = agent_input.extract_lower_goalstep_segments(goalstep_video)\n",
    "input_spatial_context = agent_input.extract_spatial_context(spatial_video)"
   ]
  },
  {
   "cell_type": "markdown",
   "metadata": {},
   "source": [
    "### 3. Query from Database (WIP)"
   ]
  },
  {
   "cell_type": "code",
   "execution_count": 3,
   "metadata": {},
   "outputs": [
    {
     "name": "stderr",
     "output_type": "stream",
     "text": [
      "/tmp/ipykernel_1619526/3294034528.py:9: LangChainDeprecationWarning: The method `BaseRetriever.get_relevant_documents` was deprecated in langchain-core 0.1.46 and will be removed in 1.0. Use :meth:`~invoke` instead.\n",
      "  retrieved_goalstep = goalstep_retriever.get_relevant_documents(database_query)\n"
     ]
    },
    {
     "name": "stdout",
     "output_type": "stream",
     "text": [
      "[Document(metadata={'type': 'level3', 'video_uid': 'd20f6551-0272-4a69-8b02-da7ffcf29e0f', 'parent_level1_start_time': 449.299, 'start_time': 449.73443, 'end_time': 611.00893, 'step_category': 'Peel and cut ingredients: Peel garlic', 'step_description': 'Peel garlic skin '}, page_content='Level 3 Segment 1 for Level 2 Segment 6 in Video d20f6551-0272-4a69-8b02-da7ffcf29e0f\\nStep: Peel garlic skin '), Document(metadata={'type': 'level2', 'video_uid': '3c0dffd0-e38e-4643-bc48-d513943dc20b', 'start_time': 338.33889, 'end_time': 402.0589, 'step_category': 'General cooking activity: Organize and arrange cooking tools or utensils', 'step_description': 'Organise kitchen utensils'}, page_content='Level 2 Segment 10 for Video 3c0dffd0-e38e-4643-bc48-d513943dc20b\\nStep: Organise kitchen utensils'), Document(metadata={'type': 'level3', 'video_uid': '4bc033f3-9bfe-4b00-8595-09148707bb02', 'parent_level1_start_time': 506.25275, 'start_time': 507.67192, 'end_time': 537.71376, 'step_category': 'Peel and cut ingredients: Peel garlic', 'step_description': 'peel garlic '}, page_content='Level 3 Segment 1 for Level 2 Segment 18 in Video 4bc033f3-9bfe-4b00-8595-09148707bb02\\nStep: peel garlic '), Document(metadata={'type': 'level3', 'video_uid': '28bc1ee7-b0c1-4f30-934a-0ab665779d90', 'parent_level1_start_time': 20.84818, 'start_time': 20.86482, 'end_time': 32.02167, 'step_category': 'General cooking activity: Organize and arrange cooking tools or utensils', 'step_description': 'organize the kitchen utensils '}, page_content='Level 3 Segment 1 for Level 2 Segment 2 in Video 28bc1ee7-b0c1-4f30-934a-0ab665779d90\\nStep: organize the kitchen utensils ')] \n",
      " [Document(metadata={'type': 'level1', 'video_uid': '9fabfbc8-1d5c-495e-9bb2-03795f0145ae', 'goal_category': 'COOKING:COOKING_GENERAL', 'goal_description': 'cooking general'}, page_content=\"Video UID: 9fabfbc8-1d5c-495e-9bb2-03795f0145ae\\nGoal: cooking general\\nSpatial_context: {'room1': [{'entity': {'type': 'avatar', 'name': 'player', 'status': 'sit'}, 'relation': 'has', 'target': {'type': 'item', 'id': 1, 'name': 'sofa', 'status': 'default'}}, {'entity': {'type': 'item', 'id': 1, 'name': 'sofa', 'status': 'default'}, 'relation': 'has', 'target': {'type': 'item', 'id': 2, 'name': 'phone', 'status': 'off'}}], 'room2': [{'entity': {'type': 'item', 'id': 3, 'name': 'refrigerator', 'status': 'closed'}, 'relation': 'has', 'target': {'type': 'item', 'id': 4, 'name': 'tofu', 'status': 'default'}}, {'type': 'item', 'id': 5, 'name': 'table', 'status': 'default'}, {'entity': {'type': 'item', 'id': 3, 'name': 'refrigerator', 'status': 'closed'}, 'relation': 'has', 'target': {'type': 'item', 'id': 6, 'name': 'mushroom', 'status': 'packed'}}, {'entity': {'type': 'item', 'id': 3, 'name': 'refrigerator', 'status': 'closed'}, 'relation': 'has', 'target': {'type': 'item', 'id': 7, 'name': 'onion', 'status': 'default'}}, {'entity': {'type': 'item', 'id': 9, 'name': 'kitchen cabinet', 'status': 'closed'}, 'relation': 'has', 'target': {'type': 'item', 'id': 8, 'name': 'skillet', 'status': 'default'}}, {'type': 'item', 'id': 10, 'name': 'gas stove', 'status': 'default'}, {'entity': {'type': 'item', 'id': 9, 'name': 'kitchen cabinet', 'status': 'closed'}, 'relation': 'has', 'target': {'type': 'item', 'id': 10, 'name': 'cutting board', 'status': 'default'}}, {'entity': {'type': 'item', 'id': 11, 'name': 'cabinet', 'status': 'closed'}, 'relation': 'has', 'target': {'type': 'item', 'id': 12, 'name': 'knife', 'status': 'default'}}]}\"), Document(metadata={'type': 'level1', 'video_uid': '0ae6293e-eda5-44f7-b56e-e8f27fcde953', 'goal_category': 'COOKING:COOKING_GENERAL', 'goal_description': 'cooking general'}, page_content=\"Video UID: 0ae6293e-eda5-44f7-b56e-e8f27fcde953\\nGoal: cooking general\\nSpatial_context: {'room1': [{'entity': {'type': 'avatar', 'name': 'player', 'status': 'stand'}, 'relation': 'has', 'target': {'type': 'item', 'id': 2, 'name': 'spice', 'status': 'default'}}, {'entity': {'type': 'item', 'id': 1, 'name': 'table', 'status': 'default'}, 'relation': 'has', 'target': {'type': 'item', 'id': 4, 'name': 'oven tray', 'status': 'default'}}, {'entity': {'type': 'item', 'id': 1, 'name': 'table', 'status': 'default'}, 'relation': 'has', 'target': {'type': 'item', 'id': 3, 'name': 'Fish Fillet', 'status': 'default'}}, {'type': 'item', 'id': 5, 'name': 'trash can', 'status': 'default'}, {'entity': {'type': 'item', 'id': 1, 'name': 'table', 'status': 'default'}, 'relation': 'has', 'target': {'type': 'item', 'id': 6, 'name': 'Guacamole', 'status': 'default'}}, {'entity': {'type': 'item', 'id': 1, 'name': 'table', 'status': 'default'}, 'relation': 'has', 'target': {'type': 'item', 'id': 7, 'name': 'Spoon', 'status': 'default'}}, {'entity': {'type': 'item', 'id': 1, 'name': 'table', 'status': 'default'}, 'relation': 'has', 'target': {'type': 'item', 'id': 8, 'name': 'Spicy', 'status': 'default'}}, {'type': 'item', 'id': 9, 'name': 'oven', 'status': 'default'}, {'entity': {'type': 'item', 'id': 1, 'name': 'table', 'status': 'default'}, 'relation': 'has', 'target': {'type': 'item', 'id': 10, 'name': 'lemon', 'status': 'sliced'}}, {'entity': {'type': 'item', 'id': 1, 'name': 'table', 'status': 'default'}, 'relation': 'has', 'target': {'type': 'item', 'id': 11, 'name': 'broccoli', 'status': 'sliced'}}, {'entity': {'entity': {'type': 'item', 'id': 12, 'name': 'gas stove', 'status': 'heating'}, 'relation': 'change', 'target': {'type': 'item', 'id': 13, 'name': 'pot', 'status': 'contain water'}}, 'relation': 'has', 'target': {'type': 'item', 'id': 14, 'name': 'potato', 'status': 'default'}}, {'entity': {'type': 'item', 'id': 1, 'name': 'table', 'status': 'default'}, 'relation': 'has', 'target': {'type': 'item', 'id': 15, 'name': 'phone', 'status': 'on'}}], 'room2': []}\"), Document(metadata={'type': 'level1', 'video_uid': '78e73d85-db28-4fd0-ab07-df18f397388f', 'goal_category': 'COOKING:MAKE_NOODLE_DISH_GENERAL', 'goal_description': 'Preparing ingredients'}, page_content=\"Video UID: 78e73d85-db28-4fd0-ab07-df18f397388f\\nGoal: Preparing ingredients\\nSpatial_context: {'room1': [{'type': 'avatar', 'name': 'player', 'status': 'stand'}, {'entity': {'entity': {'type': 'item', 'id': 1, 'name': 'sink', 'status': 'default'}, 'relation': 'has', 'target': {'type': 'item', 'id': 2, 'name': 'bowl', 'status': 'default'}}, 'relation': 'has', 'target': {'type': 'item', 'id': 3, 'name': 'sauce', 'status': 'packed'}}, {'entity': {'type': 'item', 'id': 5, 'name': 'refrigerator', 'status': 'default'}, 'relation': 'has', 'target': {'type': 'item', 'id': 4, 'name': 'towel', 'status': 'hanging'}}, {'entity': {'type': 'item', 'id': 6, 'name': 'table', 'status': 'default'}, 'relation': 'has', 'target': {'type': 'item', 'id': 7, 'name': 'paper', 'status': 'default'}}, {'entity': {'type': 'item', 'id': 6, 'name': 'table', 'status': 'default'}, 'relation': 'has', 'target': {'type': 'item', 'id': 8, 'name': 'utesils', 'status': 'disarranged'}}, {'entity': {'type': 'item', 'id': 5, 'name': 'refrigerator', 'status': 'default'}, 'relation': 'has', 'target': {'type': 'item', 'id': 9, 'name': 'tomato', 'status': 'default'}}, {'entity': {'type': 'item', 'id': 5, 'name': 'refrigerator', 'status': 'default'}, 'relation': 'has', 'target': {'type': 'item', 'id': 10, 'name': 'cucumber', 'status': 'wrapped'}}, {'entity': {'type': 'item', 'id': 5, 'name': 'refrigerator', 'status': 'default'}, 'relation': 'has', 'target': {'type': 'item', 'id': 11, 'name': 'enoki mushroom', 'status': 'wrapped'}}, {'entity': {'type': 'item', 'id': 5, 'name': 'refrigerator', 'status': 'default'}, 'relation': 'has', 'target': {'type': 'item', 'id': 12, 'name': 'green onion', 'status': 'wrapped'}}, {'entity': {'type': 'item', 'id': 13, 'name': 'chopping board', 'status': 'default'}, 'relation': 'has', 'target': {'type': 'item', 'id': 14, 'name': 'knife', 'status': 'default'}}, {'entity': {'type': 'item', 'id': 15, 'name': 'counter top', 'status': 'default'}, 'relation': 'has', 'target': {'type': 'item', 'id': 16, 'name': 'jug', 'status': 'disarranged'}}, {'type': 'item', 'id': 17, 'name': 'trash can', 'status': 'default'}, {'entity': {'type': 'item', 'id': 18, 'name': 'Cabinet', 'status': 'default'}, 'relation': 'has', 'target': {'type': 'item', 'id': 19, 'name': 'bag', 'status': 'default'}}, {'type': 'item', 'id': 20, 'name': 'cutting board', 'status': 'default'}]}\"), Document(metadata={'type': 'level1', 'video_uid': '3005b4c5-5f20-4190-af07-4a65ebb478ed', 'goal_category': 'COOKING:COOKING_GENERAL', 'goal_description': 'Prepare dish'}, page_content=\"Video UID: 3005b4c5-5f20-4190-af07-4a65ebb478ed\\nGoal: Prepare dish\\nSpatial_context: {'room1': [{'type': 'avatar', 'name': 'player', 'status': 'stand'}, {'entity': {'type': 'item', 'id': 1, 'name': 'cabinet', 'status': 'default'}, 'relation': 'has', 'target': {'type': 'item', 'id': 2, 'name': 'plate', 'status': 'default'}}, {'entity': {'type': 'item', 'id': 3, 'name': 'refrigerator', 'status': 'default'}, 'relation': 'has', 'target': {'type': 'item', 'id': 4, 'name': 'ingredients', 'status': 'default'}}, {'entity': {'type': 'item', 'id': 5, 'name': 'sink', 'status': 'default'}, 'relation': 'has', 'target': {'type': 'item', 'id': 6, 'name': 'pan', 'status': 'unwashed'}}, {'type': 'item', 'id': 7, 'name': 'countertop', 'status': 'default'}, {'type': 'item', 'id': 8, 'name': 'stovetop', 'status': 'default'}, {'entity': {'type': 'item', 'id': 5, 'name': 'sink', 'status': 'default'}, 'relation': 'has', 'target': {'type': 'item', 'id': 9, 'name': 'utensils', 'status': 'unwashed'}}, {'type': 'item', 'id': 10, 'name': 'stirrer', 'status': 'default'}]}\")]\n",
      "No match: goalstep parent\n",
      "No match: spatial parent\n"
     ]
    }
   ],
   "source": [
    "import agent_query\n",
    "\n",
    "# DEF (Retriever) & (Database Query)\n",
    "goalstep_retriever = goalstep_vector_store.as_retriever()\n",
    "spatial_retriever = spatial_vector_store.as_retriever()\n",
    "database_query = agent_query.return_source_database_query(input_goalstep_segments, input_spatial_context) \n",
    "\n",
    "# GET search result\n",
    "retrieved_goalstep = goalstep_retriever.get_relevant_documents(database_query)\n",
    "retrieved_spatial = spatial_retriever.get_relevant_documents(database_query)\n",
    "print(f\"{retrieved_goalstep} \\n {retrieved_spatial}\")\n",
    "\n",
    "\n",
    "## TODO: FIX parent document search\n",
    "# DEF metafilter for parent document retrieval\n",
    "goalstep_metafilter = {\"level\": 1, \"parent_id\": 10}\n",
    "spatial_metafilter = {\"level\": 1, \"parent_id\": 10}\n",
    "\n",
    "# NOT WORKING! GET parent documents\n",
    "retrieved_goalstep_parent_documents = []\n",
    "try:\n",
    "    goalstep_search_results = goalstep_vector_store.similarity_search_with_score(\n",
    "        query=\"\",\n",
    "        filter=goalstep_metafilter\n",
    "    )\n",
    "\n",
    "    if not goalstep_search_results:\n",
    "        print(\"No match: goalstep parent\")\n",
    "        goalstep_search_results = []  # Ensure results is a null (empty) array\n",
    "    else:\n",
    "        for result, score in goalstep_search_results:\n",
    "            retrieved_goalstep_parent_documents = result\n",
    "except Exception as e:\n",
    "    print(f\"Error : goaistep parent search: {e}\")\n",
    "    goalstep_search_results = []  # Ensure results is a null (empty) array\n",
    "\n",
    "# TODO: spatial context only has initial spatial layout. Maybe we should not search this extensively.\n",
    "retrieved_spatial_parent_documents = []\n",
    "try:\n",
    "    spatial_search_results = spatial_vector_store.similarity_search_with_score(\n",
    "        query=\"\",\n",
    "        filter=spatial_metafilter\n",
    "    )\n",
    "\n",
    "    if not spatial_search_results:\n",
    "        print(\"No match: spatial parent\")\n",
    "        spatial_search_results = []  # Ensure results is a null (empty) array    \n",
    "    else:\n",
    "        for result, score in spatial_search_results:\n",
    "            retrieved_spatial_parent_documents = result        \n",
    "except Exception as e:\n",
    "    print(f\"Error: spatial parent search: {e}\")\n",
    "    spatial_search_results = []  # Ensure results is a null (empty) array\n"
   ]
  },
  {
   "cell_type": "markdown",
   "metadata": {},
   "source": [
    "### 4. Prompt > LLM (WIP)"
   ]
  },
  {
   "cell_type": "markdown",
   "metadata": {},
   "source": []
  },
  {
   "cell_type": "code",
   "execution_count": 5,
   "metadata": {},
   "outputs": [
    {
     "name": "stdout",
     "output_type": "stream",
     "text": [
      "\"Prepare garlic butter\"\n"
     ]
    }
   ],
   "source": [
    "import logging\n",
    "from dotenv import load_dotenv\n",
    "from langchain_openai.chat_models import ChatOpenAI\n",
    "from langchain_core.output_parsers import StrOutputParser\n",
    "from langchain.prompts import PromptTemplate\n",
    "#from langchain.output_parsers import ResponseSchema, StructuredOutputParser\n",
    "#from langchain.prompts import ChatPromptTemplate\n",
    "#from langchain.chains import LLMChain\n",
    "\n",
    "import agent_prompt\n",
    "\n",
    "# SET logging to ERROR level to suppress INFO or DEBUG messages\n",
    "logging.basicConfig(level=logging.ERROR)\n",
    "\n",
    "# DEF (LLM MODEL) & (PARSER)\n",
    "load_dotenv()\n",
    "openai.api_key = os.getenv(\"OPENAI_API_KEY\")\n",
    "#LLM_MODEL1 = ChatOpenAI(openai_api_key=openai.api_key, model=\"gpt-4o\")\n",
    "LLM_MODEL1 = ChatOpenAI(openai_api_key=openai.api_key, model=\"gpt-4o-mini\") #10x cheaper\n",
    "parser_stroutput = StrOutputParser()\n",
    "# parser = StructuredOutputParser.from_response_schemas([\n",
    "#     ResponseSchema(name=\"answer\", description=\"The answer to the question\")\n",
    "# ])\n",
    "\n",
    "# DEF PROMPT, CHAIN\n",
    "prompt0 = PromptTemplate.from_template(agent_prompt.template0)\n",
    "prompt1 = PromptTemplate.from_template(agent_prompt.template1)\n",
    "chain0 = prompt0 | LLM_MODEL1 | parser_stroutput\n",
    "chain1 = prompt1 | LLM_MODEL1 | parser_stroutput\n",
    "\n",
    "inputs0 = {\n",
    "    \"role\":'you are a helpful assisant that predicts the goal of the user inside a scene. You are given the actions of the user and the initial spatial layout of the scene.',\n",
    "    \"question\": 'A person performs a sequence of actions. What is the goal of the current user? Answer in one verb and a noun pair. surround the verb and a noun pair with \"\". Make the noun as specific as possible',\n",
    "    \"action_sequence\": input_goalstep_segments,\n",
    "    \"spatial_layout\": input_spatial_context,\n",
    "}\n",
    "\n",
    "# INVOKE chain\n",
    "response0 = chain0.invoke(inputs0)\n",
    "print(response0)"
   ]
  },
  {
   "cell_type": "markdown",
   "metadata": {},
   "source": [
    "### 5. Process Predicted Goals and Compute Distance ()"
   ]
  },
  {
   "cell_type": "code",
   "execution_count": 6,
   "metadata": {},
   "outputs": [
    {
     "name": "stdout",
     "output_type": "stream",
     "text": [
      "metrics.pssSy\n",
      "Prepare garlic butter\n",
      "Prepare garlic butter\n",
      "input index: 6\n",
      "543e4c99-5d9f-407d-be75-c397d633fe56\n",
      "COOKING:MAKE_SANDWICH\n",
      "Making a bread sandwich\n",
      "543e4c99-5d9f-407d-be75-c397d633fe56\n",
      "{'room1': [{'type': 'avatar', 'name': 'player', 'status': 'stand'}, {'entity': {'type': 'item', 'id': 1, 'name': 'shelter', 'status': 'opened'}, 'relation': 'has', 'target': {'type': 'item', 'id': 2, 'name': 'plate', 'status': 'default'}}, {'entity': {'type': 'item', 'id': 3, 'name': 'table', 'status': 'default'}, 'relation': 'has', 'target': {'type': 'item', 'id': 4, 'name': 'bread', 'status': 'default'}}, {'type': 'item', 'id': 6, 'name': 'trash can', 'status': 'default'}, {'entity': {'type': 'item', 'id': 7, 'name': 'refrigerator', 'status': 'closed'}, 'relation': 'has', 'target': {'type': 'item', 'id': 8, 'name': 'butter', 'status': 'default'}}, {'entity': {'type': 'item', 'id': 7, 'name': 'refrigerator', 'status': 'closed'}, 'relation': 'has', 'target': {'type': 'item', 'id': 9, 'name': 'cheese', 'status': 'default'}}, {'entity': {'type': 'item', 'id': 10, 'name': 'kitchen sink', 'status': 'disarranged'}, 'relation': 'has', 'target': {'type': 'item', 'id': 11, 'name': 'dish', 'status': 'unwashed'}}, {'entity': {'type': 'item', 'id': 3, 'name': 'table', 'status': 'default'}, 'relation': 'has', 'target': {'type': 'item', 'id': 12, 'name': 'towel', 'status': 'hanging'}}, {'entity': {'type': 'item', 'id': 3, 'name': 'table', 'status': 'default'}, 'relation': 'has', 'target': {'type': 'item', 'id': 13, 'name': 'container', 'status': 'default'}}, {'entity': {'type': 'item', 'id': 14, 'name': 'shopping bag', 'status': 'default'}, 'relation': 'has', 'target': {'type': 'item', 'id': 15, 'name': 'olive oil', 'status': 'default'}}, {'entity': {'type': 'item', 'id': 14, 'name': 'shopping bag', 'status': 'default'}, 'relation': 'has', 'target': {'type': 'item', 'id': 16, 'name': 'lettuce', 'status': 'default'}}, {'type': 'item', 'id': 17, 'name': 'shelter2', 'status': 'default'}, {'entity': {'type': 'item', 'id': 10, 'name': 'kitchen sink', 'status': 'disarranged'}, 'relation': 'has', 'target': {'type': 'item', 'id': 19, 'name': 'cup', 'status': 'washed'}}]}\n"
     ]
    }
   ],
   "source": [
    "sys.path.append(os.path.abspath('/root/project')) # add root path to sys.path for external package\n",
    "from util import metrics\n",
    "metrics.printtest()\n",
    "\n",
    "# process goal\n",
    "import re\n",
    "match = re.search(r'\"([^\"]+)\"', response0)\n",
    "if match:\n",
    "    print(match.group(1))  # Output: This is additional context\n",
    "\n",
    "# response -> goal\n",
    "goal0 = match.group(1)\n",
    "print(goal0)\n",
    "\n",
    "# Set Target VIDEO INDEX (Target also has to be not seen in advance)\n",
    "input_video_idx = int(input(\"what is the target video idx?: \"))\n",
    "\n",
    "# SELECT INPUT VIDEO from test video list\n",
    "target_spatial_video = spatial_test_video_list[input_video_idx]\n",
    "print(f\"input index: {input_video_idx}\")\n",
    "print(target_spatial_video[\"video_uid\"])\n",
    "goalstep_video = goalstep_test_video_list[input_video_idx]\n",
    "print(goalstep_video[\"goal_category\"])\n",
    "print(goalstep_video[\"goal_description\"])\n",
    "print(goalstep_video[\"video_uid\"])\n",
    "\n",
    "\n",
    "\n",
    "# EXTRACT (LV3 action sequence) & (Spatial context)\n",
    "target_spatial_context = agent_input.extract_spatial_context(target_spatial_video)\n",
    "print(target_spatial_context)\n",
    "\n",
    "\n"
   ]
  },
  {
   "cell_type": "markdown",
   "metadata": {},
   "source": [
    "### 6-1. Activity Transfer Module(baseline0)\n",
    "- No specific agent structure in action sequence prediction"
   ]
  },
  {
   "cell_type": "code",
   "execution_count": 7,
   "metadata": {},
   "outputs": [
    {
     "name": "stdout",
     "output_type": "stream",
     "text": [
      "transfer activity\n",
      "To accomplish the goal of preparing garlic butter, the person should follow this sequence of actions:\n",
      "\n",
      "1. \"open refrigerator\"\n",
      "2. \"get butter from refrigerator\"\n",
      "3. \"take plate from shelter\"\n",
      "4. \"put butter on plate\"\n",
      "5. \"get olive oil from shopping bag\"\n",
      "6. \"put olive oil on plate\"\n",
      "7. \"mix butter and olive oil on plate\"\n",
      "\n",
      "Entities in the spatial layout:\n",
      "- player\n",
      "- shelter\n",
      "- plate\n",
      "- table\n",
      "- bread\n",
      "- trash can\n",
      "- refrigerator\n",
      "- butter\n",
      "- cheese\n",
      "- kitchen sink\n",
      "- dish\n",
      "- towel\n",
      "- container\n",
      "- shopping bag\n",
      "- olive oil\n",
      "- lettuce\n",
      "- shelter2\n",
      "- cup\n",
      "To accomplish the goal of preparing garlic butter, the person must follow these actions:\n",
      "\n",
      "1. \"open refrigerator\"\n",
      "2. \"take butter from refrigerator\"\n",
      "3. \"take plate from shelter\"\n",
      "4. \"put butter on plate\"\n",
      "5. \"take olive oil from shopping bag\"\n",
      "6. \"put olive oil on plate\"\n",
      "7. \"take garlic from shelter\" (assuming garlic is in the shelter but not listed in the spatial layout, this step cannot be performed with the given context)\n",
      "8. \"mix ingredients on plate\" (assuming mixing is possible but not explicitly listed)\n",
      "\n",
      "However, since garlic is not mentioned in the spatial layout, the actions cannot fully complete the goal with the provided entities. \n",
      "\n",
      "Entities in the spatial layout:\n",
      "- player\n",
      "- shelter\n",
      "- plate\n",
      "- table\n",
      "- bread\n",
      "- trash can\n",
      "- refrigerator\n",
      "- butter\n",
      "- cheese\n",
      "- kitchen sink\n",
      "- dish\n",
      "- towel\n",
      "- container\n",
      "- shopping bag\n",
      "- olive oil\n",
      "- lettuce\n",
      "- shelter2\n",
      "- cup\n"
     ]
    }
   ],
   "source": [
    "print(\"transfer activity\")\n",
    "\n",
    "# baseline0 : No RAG support. only target spatial context and goals\n",
    "prompt_baseline0 = PromptTemplate.from_template(agent_prompt.template_baseline0)\n",
    "chain_baseline0 = prompt_baseline0 | LLM_MODEL1 | parser_stroutput\n",
    "inputs_baseline0 = {\n",
    "    \"role\":'you are a helpful assisant that predicts the goal of the user inside a scene. You are given the actions of the user and the initial spatial layout of the scene.',\n",
    "    \"question\": 'A person if given a goal. This person is given a spatial_layout. Predict the sequence of actions the person must take to accomplish the goal. Please follow the rules! Finally, state all the name of the entities in the spatial_layout',\n",
    "    \"goal\": goal0,\n",
    "    \"spatial_layout\": target_spatial_context,\n",
    "    \"rules\": 'The person must only use entities given by taret_spatial_context. Do not use any words that is not included in entities in spatial_layout. Each action must be expressed in a verb and a noun pair with \"\". Make the noun as specific as possible'\n",
    "}\n",
    "#\"spatial_layout\": target_spatial_context,\n",
    "# INVOKE chain\n",
    "respones_baseline0 = chain_baseline0.invoke(inputs_baseline0)\n",
    "print(respones_baseline0)\n",
    "\n",
    "\n",
    "# baseline1: RAG support, target spatial context, and goals\n",
    "rag_baseline1 = {}\n",
    "prompt_baseline1 = PromptTemplate.from_template(agent_prompt.template_baseline1)\n",
    "chain_baseline1 = prompt_baseline1 | LLM_MODEL1 | parser_stroutput\n",
    "inputs_baseline1 = {\n",
    "    \"role\":'you are a helpful assisant that predicts the goal of the user inside a scene. You are given the actions of the user and the initial spatial layout of the scene.',\n",
    "    \"question\": 'A person if given a goal. This person is given a spatial_layout. Predict the sequence of actions the person must take to accomplish the goal. Please follow the rules! Finally, state all the name of the entities in the spatial_layout',\n",
    "    \"goal\": goal0,\n",
    "    \"spatial_layout\": target_spatial_context,\n",
    "    \"rules\": 'The person must only use entities given by taret_spatial_context. Do not use any words that is not included in entities in spatial_layout. Each action must be expressed in a verb and a noun pair with \"\". Make the noun as specific as possible',\n",
    "    \"relevant_examples\": \"input relevant exaples here\"\n",
    "}\n",
    "response_baseline1 = chain_baseline1.invoke(inputs_baseline1)\n",
    "print(response_baseline1)\n"
   ]
  },
  {
   "cell_type": "markdown",
   "metadata": {},
   "source": [
    "### 7. Action Sequence Prediction"
   ]
  },
  {
   "cell_type": "code",
   "execution_count": null,
   "metadata": {},
   "outputs": [],
   "source": [
    "print(\"\")"
   ]
  },
  {
   "cell_type": "markdown",
   "metadata": {},
   "source": [
    "### 8. Evaluate Action Sequence Results"
   ]
  },
  {
   "cell_type": "code",
   "execution_count": null,
   "metadata": {},
   "outputs": [],
   "source": [
    "print(\"evaluate Action sequence\")"
   ]
  },
  {
   "cell_type": "markdown",
   "metadata": {},
   "source": [
    "### 9. ETC - DELETE WHEN NOT NEEDED"
   ]
  },
  {
   "cell_type": "code",
   "execution_count": null,
   "metadata": {},
   "outputs": [
    {
     "ename": "TypeError",
     "evalue": "list indices must be integers or slices, not str",
     "output_type": "error",
     "traceback": [
      "\u001b[0;31m---------------------------------------------------------------------------\u001b[0m",
      "\u001b[0;31mTypeError\u001b[0m                                 Traceback (most recent call last)",
      "Cell \u001b[0;32mIn[8], line 14\u001b[0m\n\u001b[1;32m     11\u001b[0m source_spatial_context \u001b[38;5;241m=\u001b[39m input_spatial_context\n\u001b[1;32m     13\u001b[0m target_video \u001b[38;5;241m=\u001b[39m []\n\u001b[0;32m---> 14\u001b[0m target_spatial_context \u001b[38;5;241m=\u001b[39m \u001b[43magent_input\u001b[49m\u001b[38;5;241;43m.\u001b[39;49m\u001b[43mextract_spatial_context\u001b[49m\u001b[43m(\u001b[49m\u001b[43mtarget_video\u001b[49m\u001b[43m)\u001b[49m\n\u001b[1;32m     16\u001b[0m \u001b[38;5;66;03m# make target query & retrieve\u001b[39;00m\n\u001b[1;32m     17\u001b[0m input_query \u001b[38;5;241m=\u001b[39m agent_query\u001b[38;5;241m.\u001b[39mreturn_target_input_query(source_goalstep_segments, source_spatial_context, target_spatial_context)\n",
      "File \u001b[0;32m~/project/script_work/agent_input.py:67\u001b[0m, in \u001b[0;36mextract_spatial_context\u001b[0;34m(video)\u001b[0m\n\u001b[1;32m     61\u001b[0m \u001b[38;5;28;01mdef\u001b[39;00m \u001b[38;5;21mextract_spatial_context\u001b[39m(video):\n\u001b[1;32m     62\u001b[0m \u001b[38;5;250m    \u001b[39m\u001b[38;5;124;03m\"\"\"\u001b[39;00m\n\u001b[1;32m     63\u001b[0m \u001b[38;5;124;03m    func: extract spatial_context section from the video dictionary\u001b[39;00m\n\u001b[1;32m     64\u001b[0m \u001b[38;5;124;03m    input: video: video from which to extract spatial context\u001b[39;00m\n\u001b[1;32m     65\u001b[0m \u001b[38;5;124;03m    output: spatial_context = {'room1': [{'entity': {'type': 'avatar', 'name': 'player', 'status': 'sit'}, 'relation':...\u001b[39;00m\n\u001b[1;32m     66\u001b[0m \u001b[38;5;124;03m    \"\"\"\u001b[39;00m\n\u001b[0;32m---> 67\u001b[0m     \u001b[38;5;28;01mreturn\u001b[39;00m \u001b[43mvideo\u001b[49m\u001b[43m[\u001b[49m\u001b[38;5;124;43m\"\u001b[39;49m\u001b[38;5;124;43mspatial_context\u001b[39;49m\u001b[38;5;124;43m\"\u001b[39;49m\u001b[43m]\u001b[49m\n",
      "\u001b[0;31mTypeError\u001b[0m: list indices must be integers or slices, not str"
     ]
    }
   ],
   "source": [
    "# import agent_input\n",
    "# import agent_prompt\n",
    "\n",
    "# from dotenv import load_dotenv\n",
    "# from langchain_openai.chat_models import ChatOpenAI\n",
    "# from langchain_core.output_parsers import StrOutputParser\n",
    "# from langchain.prompts import ChatPromptTemplate\n",
    "\n",
    "# # target space input\n",
    "# source_goalstep_segments = input_goalstep_segments\n",
    "# source_spatial_context = input_spatial_context\n",
    "\n",
    "# target_video = []\n",
    "# target_spatial_context = agent_input.extract_spatial_context(target_video)\n",
    "\n",
    "# # make target query & retrieve\n",
    "# input_query = agent_query.return_target_input_query(source_goalstep_segments, source_spatial_context, target_spatial_context)\n",
    "# retrieved_goalstep = goalstep_retriever.get_relevant_documents(input_query)\n",
    "# retrieved_spatial = spatial_retriever.get_relevant_documents(input_query)\n",
    "\n",
    "# # Retrieve documents' parent documents for goalstep annotation\n",
    "\n",
    "\n",
    "# # Concat the retrieved results\n",
    "\n",
    "\n",
    "# # define prompt\n",
    "# prompt2 = ChatPromptTemplate.from_template(agent_prompt.template_source)\n",
    "# prompt2.format(context=agent_prompt.context, question=agent_prompt.question, rules = agent_prompt.rules)\n",
    "\n",
    "# # Define chain\n",
    "# parser_stroutput = StrOutputParser()\n",
    "# chain2 = prompt2 | LLM_MODEL1 | parser_stroutput \n",
    "\n",
    "# # Get Respone\n",
    "# response2 = chain2.invoke()\n",
    "\n",
    "\n",
    "# # # chain can incorpoate other chains\n",
    "# # chain_action = (\n",
    "# #     {\"source_spatial_context\": itemgetter(source_spatial_context), \"goalstep\": chain1, \"target_spatial_context\": itemgetter(target_spatial_context)} | prompt_action | model | parser\n",
    "# # )\n",
    "\n",
    "\n",
    "\n",
    "# # define llm\n",
    "# load_dotenv()\n",
    "# openai.api_key = os.getenv(\"OPENAI_API_KEY\")\n",
    "# model1 = ChatOpenAI(openai_api_key=openai.api_key, model=\"gpt-3.5-turbo\")\n",
    "\n",
    "# # define prompt\n",
    "# prompt1 = ChatPromptTemplate.from_template(agent_prompt.template_source)\n",
    "# prompt1.format(context=agent_prompt.context, question=agent_prompt.question, rules = agent_prompt.rules)\n",
    "\n",
    "# # Define chain\n",
    "# parser_stroutput = StrOutputParser()\n",
    "# chain1 = prompt1 | model1 | parser_stroutput \n",
    "\n",
    "# # Get Respone\n",
    "# response1 = chain1.invoke()"
   ]
  },
  {
   "cell_type": "code",
   "execution_count": null,
   "metadata": {},
   "outputs": [],
   "source": []
  }
 ],
 "metadata": {
  "kernelspec": {
   "display_name": "Python 3",
   "language": "python",
   "name": "python3"
  },
  "language_info": {
   "codemirror_mode": {
    "name": "ipython",
    "version": 3
   },
   "file_extension": ".py",
   "mimetype": "text/x-python",
   "name": "python",
   "nbconvert_exporter": "python",
   "pygments_lexer": "ipython3",
   "version": "3.10.12"
  }
 },
 "nbformat": 4,
 "nbformat_minor": 2
}
