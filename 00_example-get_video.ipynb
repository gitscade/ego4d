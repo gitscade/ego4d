{
 "cells": [
  {
   "cell_type": "markdown",
   "metadata": {},
   "source": [
    "## Get Video\n",
    "- choose data type\n",
    "1. EgoTrack\n",
    "2. EgoGoal\n",
    "\n",
    "- filter video based on scenario\n",
    "- filter video based on duration length"
   ]
  },
  {
   "cell_type": "code",
   "execution_count": null,
   "metadata": {
    "vscode": {
     "languageId": "plaintext"
    }
   },
   "outputs": [],
   "source": []
  }
 ],
 "metadata": {
  "language_info": {
   "name": "python"
  }
 },
 "nbformat": 4,
 "nbformat_minor": 2
}
