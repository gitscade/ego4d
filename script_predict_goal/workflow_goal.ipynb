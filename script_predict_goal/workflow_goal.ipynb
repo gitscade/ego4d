{
 "cells": [
  {
   "cell_type": "markdown",
   "metadata": {},
   "source": [
    "## Goal Prediction\n",
    "### 1. Make vectorstore"
   ]
  },
  {
   "cell_type": "code",
   "execution_count": 1,
   "metadata": {},
   "outputs": [
    {
     "name": "stdout",
     "output_type": "stream",
     "text": [
      "goalstep vids: 717 and spatial vids: 50\n",
      "goalstep_document_list: 39979\n",
      "spatial_document_list: 588\n"
     ]
    }
   ],
   "source": [
    "import openai\n",
    "import langchain\n",
    "import logging\n",
    "import json\n",
    "import os\n",
    "import pandas as pd\n",
    "import pickle\n",
    "from IPython.display import Image, display\n",
    "\n",
    "# configure paths\n",
    "data_path = '../data/ego4d_annotation/'\n",
    "GOALSTEP_ANNOTATION_PATH = data_path + 'goalstep/'\n",
    "SPATIAL_ANNOTATION_PATH = data_path + 'spatial/'\n",
    "GOALSTEP_VECSTORE_PATH = GOALSTEP_ANNOTATION_PATH + 'goalstep_docarray_faiss'\n",
    "SPATIAL_VECSTORE_PATH = SPATIAL_ANNOTATION_PATH + 'spatial_docarray_faiss'\n",
    "\n",
    "\n",
    "# Embedding Database\n",
    "import database\n",
    "from langchain_openai.embeddings import OpenAIEmbeddings\n",
    "from sklearn.metrics.pairwise import cosine_similarity\n",
    "import sys\n",
    "sys.path.append(os.path.abspath('/usr/local/lib/python3.10/dist-packages'))\n",
    "\n",
    "from langchain.vectorstores import FAISS\n",
    "from langchain_community.vectorstores import DocArrayInMemorySearch # do not use this!\n",
    "from langchain_core.runnables import RunnableParallel, RunnablePassthrough\n",
    "import docarray\n",
    "\n",
    "\n",
    "# extract videos list\n",
    "\n",
    "goalstep_videos_list = database.merge_json_video_list(GOALSTEP_ANNOTATION_PATH)\n",
    "spatial_videos_list = database.merge_json_video_list(SPATIAL_ANNOTATION_PATH)\n",
    "print(f\"goalstep vids: {len(goalstep_videos_list)} and spatial vids: {len(spatial_videos_list)}\")\n",
    "\n",
    "# make document list(langchain.schema) from the video list\n",
    "# TODO: when making document list, make sure each segment's parents are well listed!\n",
    "goalstep_document_list = database.make_goalstep_document_list(goalstep_videos_list)\n",
    "spatial_document = database.make_spatial_document_list(spatial_videos_list)\n",
    "print(f\"goalstep_document_list: {len(goalstep_document_list)}\")\n",
    "print(f\"spatial_document_list: {len(spatial_document)}\")"
   ]
  },
  {
   "cell_type": "markdown",
   "metadata": {},
   "source": [
    "### 1-1. LOAD vectorstore and start instantly"
   ]
  },
  {
   "cell_type": "code",
   "execution_count": 2,
   "metadata": {},
   "outputs": [
    {
     "name": "stdout",
     "output_type": "stream",
     "text": [
      "LOAD FAISS GOALSTEP ../data/ego4d_annotation/goalstep/goalstep_docarray_faiss\n",
      "LOAD FAISS SPATIAL: ../data/ego4d_annotation/spatial/spatial_docarray_faiss\n"
     ]
    }
   ],
   "source": [
    "# Embedding Database\n",
    "import database\n",
    "from langchain_openai.embeddings import OpenAIEmbeddings\n",
    "from sklearn.metrics.pairwise import cosine_similarity\n",
    "import sys\n",
    "sys.path.append(os.path.abspath('/usr/local/lib/python3.10/dist-packages'))\n",
    "\n",
    "from langchain.vectorstores import FAISS\n",
    "from langchain_community.vectorstores import DocArrayInMemorySearch # do not use this!\n",
    "from langchain_core.runnables import RunnableParallel, RunnablePassthrough\n",
    "\n",
    "embeddings = OpenAIEmbeddings()\n",
    "\n",
    "# make vectorstores for each dataset (takes most time-3min)\n",
    "if not os.path.exists(GOALSTEP_VECSTORE_PATH + '/index.faiss'):\n",
    "    print(f\"MAKE FAISS GOALSTEP {GOALSTEP_VECSTORE_PATH}\")\n",
    "    goalstep_vector_store =  FAISS.from_documents(goalstep_document_list, embeddings)\n",
    "    goalstep_vector_store.save_local(GOALSTEP_VECSTORE_PATH)\n",
    "else:\n",
    "    print(f\"LOAD FAISS GOALSTEP {GOALSTEP_VECSTORE_PATH}\")\n",
    "\n",
    "if not os.path.exists(SPATIAL_VECSTORE_PATH + '/index.faiss'):\n",
    "    print(f\"MAKE FAISS SPATIAL {SPATIAL_VECSTORE_PATH}\")\n",
    "    spatial_vector_store = FAISS.from_documents(spatial_document, embeddings)\n",
    "    spatial_vector_store.save_local(SPATIAL_VECSTORE_PATH)\n",
    "else:\n",
    "    print(f\"LOAD FAISS SPATIAL: {SPATIAL_VECSTORE_PATH}\")\n",
    "\n",
    "\n",
    "# load docarray and get docarrayinmemory instance for vectorstore\n",
    "goalstep_vector_store = FAISS.load_local(GOALSTEP_VECSTORE_PATH, embeddings, allow_dangerous_deserialization=True)\n",
    "spatial_vector_store = FAISS.load_local(SPATIAL_VECSTORE_PATH, embeddings, allow_dangerous_deserialization=True)\n",
    "\n",
    "# for doc in goalstep_vector_store.docstore._dict.values():\n",
    "#     print(f\"{doc.page_content}\")"
   ]
  },
  {
   "cell_type": "markdown",
   "metadata": {},
   "source": [
    "### 2. Make Input from Source (wip)\n",
    "- extract input sequence and spatial context from test video"
   ]
  },
  {
   "cell_type": "code",
   "execution_count": 3,
   "metadata": {},
   "outputs": [
    {
     "name": "stdout",
     "output_type": "stream",
     "text": [
      "/root/project/script_predict_goal\n",
      "717\n"
     ]
    }
   ],
   "source": [
    "print(os.getcwd())\n",
    "import sys\n",
    "import input_source\n",
    "\n",
    "input_video_idx = int(input(\"what is the video idx for input?: \"))\n",
    "# goalstep_videos_list = database.merge_json_video_list(GOALSTEP_ANNOTATION_PATH)\n",
    "print(len(goalstep_videos_list))\n",
    "\n",
    "goalstep_video = goalstep_videos_list[input_video_idx]\n",
    "spatial_video = spatial_videos_list[input_video_idx]\n",
    "\n",
    "input_goalstep_segments = input_source.extract_lower_goalstep_segments(goalstep_video)\n",
    "input_spatial_context = input_source.extract_spatial_context(spatial_video)"
   ]
  },
  {
   "cell_type": "markdown",
   "metadata": {},
   "source": [
    "### 3. Query from Database (WIP)"
   ]
  },
  {
   "cell_type": "code",
   "execution_count": 19,
   "metadata": {},
   "outputs": [
    {
     "name": "stdout",
     "output_type": "stream",
     "text": [
      "[Document(metadata={'type': 'level3', 'video_uid': '28bc1ee7-b0c1-4f30-934a-0ab665779d90', 'parent_level1_start_time': 20.84818, 'start_time': 20.86482, 'end_time': 32.02167, 'step_category': 'General cooking activity: Organize and arrange cooking tools or utensils', 'step_description': 'organize the kitchen utensils '}, page_content='Level 3 Segment 1 for Level 2 Segment 2 in Video 28bc1ee7-b0c1-4f30-934a-0ab665779d90\\nStep: organize the kitchen utensils '), Document(metadata={'type': 'level3', 'video_uid': '36248b1e-9ba7-4789-bbf5-b9e33e3ab408', 'parent_level1_start_time': 180.63289, 'start_time': 271.77552, 'end_time': 276.31074, 'step_category': 'Add ingredients to the recipe: Add onion to recipe', 'step_description': 'gather onions on the chopping board '}, page_content='Level 3 Segment 4 for Level 2 Segment 4 in Video 36248b1e-9ba7-4789-bbf5-b9e33e3ab408\\nStep: gather onions on the chopping board '), Document(metadata={'type': 'level2', 'video_uid': '3c0dffd0-e38e-4643-bc48-d513943dc20b', 'start_time': 338.33889, 'end_time': 402.0589, 'step_category': 'General cooking activity: Organize and arrange cooking tools or utensils', 'step_description': 'Organise kitchen utensils'}, page_content='Level 2 Segment 10 for Video 3c0dffd0-e38e-4643-bc48-d513943dc20b\\nStep: Organise kitchen utensils'), Document(metadata={'type': 'level3', 'video_uid': 'grp-9c9a1df7-2423-4e84-8f81-152869f98862', 'parent_level1_start_time': 1444.37338, 'start_time': 1465.44594, 'end_time': 1478.76743, 'step_category': 'General cooking activity: Organize and arrange cooking tools or utensils', 'step_description': 'arrange kitchen items '}, page_content='Level 3 Segment 2 for Level 2 Segment 28 in Video grp-9c9a1df7-2423-4e84-8f81-152869f98862\\nStep: arrange kitchen items ')]\n",
      "[Document(metadata={'type': 'level1', 'video_uid': '9fabfbc8-1d5c-495e-9bb2-03795f0145ae', 'goal_category': 'COOKING:COOKING_GENERAL', 'goal_description': 'cooking general'}, page_content=\"Video UID: 9fabfbc8-1d5c-495e-9bb2-03795f0145ae\\nGoal: cooking general\\nSpatial_context: {'room1': [{'entity': {'type': 'avatar', 'name': 'player', 'status': 'sit'}, 'relation': 'has', 'target': {'type': 'item', 'id': 1, 'name': 'sofa', 'status': 'default'}}, {'entity': {'type': 'item', 'id': 1, 'name': 'sofa', 'status': 'default'}, 'relation': 'has', 'target': {'type': 'item', 'id': 2, 'name': 'phone', 'status': 'off'}}], 'room2': [{'entity': {'type': 'item', 'id': 3, 'name': 'refrigerator', 'status': 'closed'}, 'relation': 'has', 'target': {'type': 'item', 'id': 4, 'name': 'tofu', 'status': 'default'}}, {'type': 'item', 'id': 5, 'name': 'table', 'status': 'default'}, {'entity': {'type': 'item', 'id': 3, 'name': 'refrigerator', 'status': 'closed'}, 'relation': 'has', 'target': {'type': 'item', 'id': 6, 'name': 'mushroom', 'status': 'packed'}}, {'entity': {'type': 'item', 'id': 3, 'name': 'refrigerator', 'status': 'closed'}, 'relation': 'has', 'target': {'type': 'item', 'id': 7, 'name': 'onion', 'status': 'default'}}, {'entity': {'type': 'item', 'id': 9, 'name': 'kitchen cabinet', 'status': 'closed'}, 'relation': 'has', 'target': {'type': 'item', 'id': 8, 'name': 'skillet', 'status': 'default'}}, {'type': 'item', 'id': 10, 'name': 'gas stove', 'status': 'default'}, {'entity': {'type': 'item', 'id': 9, 'name': 'kitchen cabinet', 'status': 'closed'}, 'relation': 'has', 'target': {'type': 'item', 'id': 10, 'name': 'cutting board', 'status': 'default'}}, {'entity': {'type': 'item', 'id': 11, 'name': 'cabinet', 'status': 'closed'}, 'relation': 'has', 'target': {'type': 'item', 'id': 12, 'name': 'knife', 'status': 'default'}}]}\"), Document(metadata={'type': 'level1', 'video_uid': '737e9619-7768-407c-8a4f-6fe1e8d61f04', 'goal_category': 'COOKING:MAKE_PUFFED_RICE', 'goal_description': 'Prepares rice'}, page_content=\"Video UID: 737e9619-7768-407c-8a4f-6fe1e8d61f04\\nGoal: Prepares rice\\nSpatial_context: {'room1': [{'entity': {'type': 'avatar', 'name': 'player', 'status': 'stand'}, 'relation': 'has', 'target': {'type': 'item', 'id': 1, 'name': 'stirrer', 'status': 'default'}}, {'type': 'avatar', 'name': 'player 2', 'status': 'stand'}, {'entity': {'entity': {'type': 'item', 'id': 2, 'name': 'gas stove', 'status': 'heating'}, 'relation': 'has', 'target': {'type': 'item', 'id': 3, 'name': 'pot 2', 'status': 'heating'}}, 'relation': 'has', 'target': {'type': 'item', 'id': 4, 'name': 'rice', 'status': 'heating'}}, {'entity': {'entity': {'type': 'item', 'id': 2, 'name': 'gas stove', 'status': 'heating'}, 'relation': 'has', 'target': {'type': 'item', 'id': 5, 'name': 'pot', 'status': 'heating'}}, 'relation': 'has', 'target': {'type': 'item', 'id': 6, 'name': 'soup', 'status': 'heating'}}, {'type': 'item', 'id': 7, 'name': 'cooker light', 'status': 'off'}, {'entity': {'type': 'item', 'id': 8, 'name': 'kitchen sink', 'status': 'default'}, 'relation': 'has', 'target': {'type': 'item', 'id': 9, 'name': 'dish', 'status': 'unwashed'}}, {'entity': {'type': 'item', 'id': 10, 'name': 'table', 'status': 'default'}, 'relation': 'has', 'target': {'type': 'item', 'id': 11, 'name': 'cutting board', 'status': 'default'}}, {'entity': {'entity': {'type': 'item', 'id': 10, 'name': 'table', 'status': 'default'}, 'relation': 'has', 'target': {'type': 'item', 'id': 12, 'name': 'cup', 'status': 'contain water'}}, 'relation': 'has', 'target': {'type': 'item', 'id': 13, 'name': 'jute leaves', 'status': 'in water'}}, {'type': 'item', 'id': 14, 'name': 'sink', 'status': 'default'}, {'entity': {'type': 'item', 'id': 10, 'name': 'table', 'status': 'default'}, 'relation': 'has', 'target': {'type': 'item', 'id': 15, 'name': 'paper towel', 'status': 'default'}}, {'type': 'item', 'id': 16, 'name': 'knife', 'status': 'default'}, {'entity': {'type': 'item', 'id': 10, 'name': 'table', 'status': 'default'}, 'relation': 'has', 'target': {'type': 'item', 'id': 17, 'name': 'bowl', 'status': 'default'}}, {'entity': {'type': 'item', 'id': 18, 'name': 'refrigerator', 'status': 'closed'}, 'relation': 'has', 'target': {'type': 'item', 'id': 19, 'name': 'vegetables', 'status': 'default'}}], 'room2': [{'type': 'item', 'id': 20, 'name': 'window', 'status': 'unopened'}, {'type': 'item', 'id': 21, 'name': 'door', 'status': 'unopened'}]}\"), Document(metadata={'type': 'level1', 'video_uid': '16a1999e-f488-4da8-a367-a037a94ac79f', 'goal_category': 'COOKING:COOKING_GENERAL', 'goal_description': 'Dicing onion'}, page_content=\"Video UID: 16a1999e-f488-4da8-a367-a037a94ac79f\\nGoal: Dicing onion\\nSpatial_context: {'room1': [{'type': 'avatar', 'name': 'player', 'status': 'stand'}, {'entity': {'type': 'item', 'id': 1, 'name': 'table', 'status': 'default'}, 'relation': 'has', 'target': {'type': 'item', 'id': 8, 'name': 'onion', 'status': 'unpeeled'}}, {'entity': {'type': 'item', 'id': 1, 'name': 'table', 'status': 'default'}, 'relation': 'has', 'target': {'type': 'item', 'id': 2, 'name': 'cutting board', 'status': 'default'}}, {'entity': {'type': 'item', 'id': 3, 'name': 'cabinet', 'status': 'opened'}, 'relation': 'has', 'target': {'type': 'item', 'id': 4, 'name': 'bowl', 'status': 'default'}}, {'entity': {'type': 'item', 'id': 5, 'name': 'refrigerator', 'status': 'closed'}, 'relation': 'has', 'target': {'type': 'item', 'id': 6, 'name': 'bread', 'status': 'packed'}}, {'entity': {'type': 'item', 'id': 1, 'name': 'table', 'status': 'default'}, 'relation': 'has', 'target': {'type': 'item', 'id': 7, 'name': 'knife', 'status': 'default'}}, {'type': 'item', 'id': 9, 'name': 'trash can', 'status': 'default'}]}\"), Document(metadata={'type': 'level1', 'video_uid': 'dcd09fa4-afe2-4a0d-9703-83af2867ebd3', 'goal_category': 'COOKING:MAKE_STEW_OR_SOUP', 'goal_description': 'Making potato soup'}, page_content=\"Video UID: dcd09fa4-afe2-4a0d-9703-83af2867ebd3\\nGoal: Making potato soup\\nSpatial_context: {'room1': [{'type': 'avatar', 'name': 'player', 'status': 'stand'}, {'entity': {'entity': {'type': 'item', 'id': 1, 'name': 'gas stove', 'status': 'default'}, 'relation': 'has', 'target': {'type': 'item', 'id': 2, 'name': 'pot', 'status': 'default'}}, 'relation': 'has', 'target': {'type': 'item', 'id': 3, 'name': 'soup', 'status': 'default'}}, {'entity': {'type': 'item', 'id': 4, 'name': 'table', 'status': 'default'}, 'relation': 'has', 'target': {'type': 'item', 'id': 5, 'name': 'spoon', 'status': 'default'}}, {'entity': {'type': 'item', 'id': 4, 'name': 'table', 'status': 'default'}, 'relation': 'has', 'target': {'type': 'item', 'id': 6, 'name': 'container', 'status': 'default'}}, {'type': 'item', 'id': 7, 'name': 'sink', 'status': 'default'}, {'entity': {'type': 'item', 'id': 8, 'name': 'sink cabinet', 'status': 'default'}, 'relation': 'has', 'target': {'type': 'item', 'id': 9, 'name': 'peeler', 'status': 'default'}}, {'entity': {'type': 'item', 'id': 4, 'name': 'table', 'status': 'default'}, 'relation': 'has', 'target': {'type': 'item', 'id': 10, 'name': 'potato', 'status': 'unpeeled'}}, {'entity': {'type': 'item', 'id': 8, 'name': 'sink cabinet', 'status': 'default'}, 'relation': 'has', 'target': {'type': 'item', 'id': 11, 'name': 'knife', 'status': 'default'}}, {'entity': {'type': 'item', 'id': 4, 'name': 'table', 'status': 'default'}, 'relation': 'has', 'target': {'type': 'item', 'id': 12, 'name': 'salt', 'status': 'default'}}, {'entity': {'type': 'item', 'id': 8, 'name': 'sink cabinet', 'status': 'default'}, 'relation': 'has', 'target': {'type': 'item', 'id': 13, 'name': 'spice container', 'status': 'default'}}, {'type': 'item', 'id': 14, 'name': 'cabinet', 'status': 'default'}, {'type': 'item', 'id': 15, 'name': 'trash can', 'status': 'default'}, {'type': 'item', 'id': 16, 'name': 'sink', 'status': 'default'}, {'entity': {'type': 'item', 'id': 4, 'name': 'table', 'status': 'default'}, 'relation': 'has', 'target': {'type': 'item', 'id': 17, 'name': 'potato', 'status': 'unpeeled'}}, {'type': 'item', 'id': 18, 'name': 'refrigerator', 'status': 'default'}, {'type': 'item', 'id': 19, 'name': 'counter top', 'status': 'default'}]}\")]\n",
      "No match: goalstep parent\n",
      "No match: spatial parent\n"
     ]
    }
   ],
   "source": [
    "import query\n",
    "\n",
    "# Retriever & databse query\n",
    "goalstep_retriever = goalstep_vector_store.as_retriever()\n",
    "spatial_retriever = spatial_vector_store.as_retriever()\n",
    "input_query = query.return_source_input_query(input_goalstep_segments, input_spatial_context) \n",
    "#print(input_query)\n",
    "\n",
    "\n",
    "# retrieve from database\n",
    "retrieved_goalstep = goalstep_retriever.get_relevant_documents(input_query)\n",
    "retrieved_spatial = spatial_retriever.get_relevant_documents(input_query)\n",
    "print(retrieved_goalstep)\n",
    "print(retrieved_spatial)\n",
    "\n",
    "# Retrieve documents' parent documents with metadatasearch\n",
    "# TODO: replace metafilter with real values extracted from input values\n",
    "goalstep_metafilter = {\"level\": 1, \"parent_id\": 10}\n",
    "spatial_metafilter = {\"level\": 1, \"parent_id\": 10}\n",
    "\n",
    "# Search with filter inside vector_Store\n",
    "retrieved_goalstep_parent_documents = []\n",
    "try:\n",
    "    goalstep_search_results = goalstep_vector_store.similarity_search_with_score(\n",
    "        query=\"\",\n",
    "        filter=goalstep_metafilter\n",
    "    )\n",
    "\n",
    "    if not goalstep_search_results:\n",
    "        print(\"No match: goalstep parent\")\n",
    "        goalstep_search_results = []  # Ensure results is a null (empty) array\n",
    "    else:\n",
    "        for result, score in goalstep_search_results:\n",
    "            retrieved_goalstep_parent_documents = result\n",
    "except Exception as e:\n",
    "    print(f\"Error : goaistep parent search: {e}\")\n",
    "    goalstep_search_results = []  # Ensure results is a null (empty) array\n",
    "\n",
    "# TODO: spatial context only has initial spatial layout. Maybe we should not search this extensively.\n",
    "retrieved_spatial_parent_documents = []\n",
    "try:\n",
    "    spatial_search_results = spatial_vector_store.similarity_search_with_score(\n",
    "        query=\"\",\n",
    "        filter=spatial_metafilter\n",
    "    )\n",
    "\n",
    "    if not spatial_search_results:\n",
    "        print(\"No match: spatial parent\")\n",
    "        spatial_search_results = []  # Ensure results is a null (empty) array    \n",
    "    else:\n",
    "        for result, score in spatial_search_results:\n",
    "            retrieved_spatial_parent_documents = result        \n",
    "except Exception as e:\n",
    "    print(f\"Error: spatial parent search: {e}\")\n",
    "    spatial_search_results = []  # Ensure results is a null (empty) array\n",
    "\n",
    "\n",
    "\n"
   ]
  },
  {
   "cell_type": "markdown",
   "metadata": {},
   "source": [
    "### 4. Prompt > LLM (WIP)"
   ]
  },
  {
   "cell_type": "markdown",
   "metadata": {},
   "source": []
  },
  {
   "cell_type": "code",
   "execution_count": 44,
   "metadata": {},
   "outputs": [
    {
     "name": "stdout",
     "output_type": "stream",
     "text": [
      "The goal of the current user is \"making stew or soup.\"\n"
     ]
    }
   ],
   "source": [
    "from dotenv import load_dotenv\n",
    "from langchain_openai.chat_models import ChatOpenAI\n",
    "\n",
    "import prompt_source as promptSource\n",
    "from langchain_core.output_parsers import StrOutputParser\n",
    "from langchain.output_parsers import ResponseSchema, StructuredOutputParser\n",
    "\n",
    "from langchain.prompts import ChatPromptTemplate\n",
    "from langchain.prompts import PromptTemplate\n",
    "\n",
    "from langchain.chains import LLMChain\n",
    "import logging\n",
    "\n",
    "# Set logging to ERROR level to suppress INFO or DEBUG messages\n",
    "logging.basicConfig(level=logging.ERROR)\n",
    "\n",
    "# llm and parser\n",
    "load_dotenv()\n",
    "openai.api_key = os.getenv(\"OPENAI_API_KEY\")\n",
    "model = ChatOpenAI(openai_api_key=openai.api_key, model=\"gpt-3.5-turbo\")\n",
    "parser = StrOutputParser()\n",
    "# parser = StructuredOutputParser.from_response_schemas([\n",
    "#     ResponseSchema(name=\"answer\", description=\"The answer to the question\")\n",
    "# ])\n",
    "\n",
    "# make context # input_goalstep_segments, # input_spatial_context, # retrieved_goalstep, # retrieved_spatial, retrieved_goalstep_parent_documents, retrieved_spatial_parent_documents\n",
    "context = promptSource.make_context(input_goalstep_segments, input_spatial_context, retrieved_goalstep, retrieved_spatial)\n",
    "# print(f\"role: {promptSource.role}\")\n",
    "# print(f\"question: {promptSource.question}\")\n",
    "# print(f\"printing actions {input_goalstep_segments}\")\n",
    "# print(f\"This is the context: {context}\")\n",
    "\n",
    "# Make prompt with template\n",
    "prompt = PromptTemplate.from_template(\n",
    "        \"\"\"You are an assistant for question-answering tasks. \n",
    "    Use the following pieces of retrieved context to answer the question. \n",
    "    If you don't know the answer, just say [don't know].\n",
    "\n",
    "    #Role:\n",
    "    {role}\n",
    "    #Question: \n",
    "    {question} \n",
    "    #Action_Sequence: \n",
    "    {action_sequence} \n",
    "    #Spatial_Layout\n",
    "    {spatial_layout}\n",
    "    #Similar_Space_Example\n",
    "    {relevant_space}\n",
    "    \"\"\"\n",
    ")\n",
    "\n",
    "# Define chain, make input, invoke chain\n",
    "chain = prompt | model | parser\n",
    "inputs = {\n",
    "    \"role\": [{'role':'system', 'content':'you are a helpful assisant that predicts the goal of the user inside a scene. You are given the actions of the user and the initial spatial layout of the scene.'}],\n",
    "    \"question\": [{'role':'user', 'content':'A person has performed the given actions in the form of a sequence of actions. What is the goal of the current user? Answer in one verb and a noun pair. surround the verb and a noun pair with \"\"'}],\n",
    "    \"action_sequence\": input_goalstep_segments,\n",
    "    \"spatial_layout\": input_spatial_context,\n",
    "    \"relevant_actions\": retrieved_goalstep,\n",
    "    \"relevant_space\": retrieved_spatial\n",
    "}\n",
    "response = chain.invoke(inputs)\n",
    "print(response)"
   ]
  },
  {
   "cell_type": "markdown",
   "metadata": {},
   "source": [
    "### 5. Process Response and Compute Distance ()"
   ]
  },
  {
   "cell_type": "code",
   "execution_count": null,
   "metadata": {},
   "outputs": [],
   "source": [
    "sys.path.append(os.path.abspath('/root/project')) # add root path to sys.path for external package\n",
    "from util import metrics\n",
    "# postprocess answers to get goals\n",
    "\n",
    "\n",
    "\n",
    "# postprocess answers to get lv1 steps?\n",
    "# can import other scripts in other folders fine!\n",
    "metrics.printtest()\n"
   ]
  },
  {
   "cell_type": "code",
   "execution_count": null,
   "metadata": {},
   "outputs": [],
   "source": [
    "# compute metrics\n",
    "\n"
   ]
  },
  {
   "cell_type": "markdown",
   "metadata": {},
   "source": [
    "### 6. Configure Prompt2 for Target Space"
   ]
  },
  {
   "cell_type": "code",
   "execution_count": null,
   "metadata": {},
   "outputs": [],
   "source": [
    "import input_source\n",
    "import input_target\n",
    "import prompt_target\n",
    "\n",
    "# target space input\n",
    "source_goalstep_segments = input_goalstep_segments\n",
    "source_spatial_context = input_spatial_context\n",
    "\n",
    "target_video = []\n",
    "target_spatial_context = input_source.extract_spatial_context(target_video)\n",
    "\n",
    "# make target query & retrieve\n",
    "input_query = query.return_target_input_query(source_goalstep_segments, source_spatial_context, target_spatial_context)\n",
    "retrieved_goalstep = goalstep_retriever.get_relevant_documents(input_query)\n",
    "retrieved_spatial = spatial_retriever.get_relevant_documents(input_query)\n",
    "\n",
    "# Retrieve documents' parent documents for goalstep annotation\n",
    "\n",
    "\n",
    "# Concat the retrieved results\n",
    "\n",
    "\n",
    "# define prompt\n",
    "prompt2 = ChatPromptTemplate.from_template(promptSource.template_source)\n",
    "prompt2.format(context=promptSource.context, question=promptSource.question, rules = promptSource.rules)\n",
    "\n",
    "# Define chain\n",
    "parser = StrOutputParser()\n",
    "chain2 = prompt2 | model | parser \n",
    "\n",
    "# Get Respone\n",
    "response2 = chain2.invoke()"
   ]
  },
  {
   "cell_type": "markdown",
   "metadata": {},
   "source": [
    "### 7. Configure Combined chain for simple one-go-prediction"
   ]
  },
  {
   "cell_type": "code",
   "execution_count": null,
   "metadata": {},
   "outputs": [],
   "source": [
    "\n",
    "# # chain can incorpoate other chains\n",
    "# chain_action = (\n",
    "#     {\"source_spatial_context\": itemgetter(source_spatial_context), \"goalstep\": chain1, \"target_spatial_context\": itemgetter(target_spatial_context)} | prompt_action | model | parser\n",
    "# )\n",
    "from dotenv import load_dotenv\n",
    "from langchain_openai.chat_models import ChatOpenAI\n",
    "\n",
    "import prompt_source as promptSource\n",
    "from langchain_core.output_parsers import StrOutputParser\n",
    "from langchain.prompts import ChatPromptTemplate\n",
    "\n",
    "\n",
    "# define llm\n",
    "load_dotenv()\n",
    "openai.api_key = os.getenv(\"OPENAI_API_KEY\")\n",
    "model = ChatOpenAI(openai_api_key=openai.api_key, model=\"gpt-3.5-turbo\")\n",
    "\n",
    "# define prompt\n",
    "prompt = ChatPromptTemplate.from_template(promptSource.template_source)\n",
    "prompt.format(context=promptSource.context, question=promptSource.question, rules = promptSource.rules)\n",
    "\n",
    "# Define chain\n",
    "parser = StrOutputParser()\n",
    "chain1 = prompt | model | parser \n",
    "\n",
    "# Get Respone\n",
    "response = chain1.invoke()"
   ]
  }
 ],
 "metadata": {
  "kernelspec": {
   "display_name": "Python 3",
   "language": "python",
   "name": "python3"
  },
  "language_info": {
   "codemirror_mode": {
    "name": "ipython",
    "version": 3
   },
   "file_extension": ".py",
   "mimetype": "text/x-python",
   "name": "python",
   "nbconvert_exporter": "python",
   "pygments_lexer": "ipython3",
   "version": "3.10.12"
  }
 },
 "nbformat": 4,
 "nbformat_minor": 2
}
