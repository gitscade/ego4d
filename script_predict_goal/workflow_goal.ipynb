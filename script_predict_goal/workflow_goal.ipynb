{
 "cells": [
  {
   "cell_type": "markdown",
   "metadata": {},
   "source": [
    "## Goal Prediction\n",
    "### 1. Make vectorstore"
   ]
  },
  {
   "cell_type": "code",
   "execution_count": 44,
   "metadata": {},
   "outputs": [
    {
     "name": "stdout",
     "output_type": "stream",
     "text": [
      "goalstep vids: 717 and spatial vids: 36\n",
      "goalstep_document_list: 39979\n",
      "spatial_document_list: 400\n"
     ]
    }
   ],
   "source": [
    "import openai\n",
    "import langchain\n",
    "import logging\n",
    "import json\n",
    "import os\n",
    "import pandas as pd\n",
    "import pickle\n",
    "from IPython.display import Image, display\n",
    "\n",
    "# configure paths\n",
    "data_path = '../data/ego4d_annotation/'\n",
    "GOALSTEP_ANNOTATION_PATH = data_path + 'goalstep/'\n",
    "SPATIAL_ANNOTATION_PATH = data_path + 'spatial/'\n",
    "GOALSTEP_VECSTORE_PATH = GOALSTEP_ANNOTATION_PATH + 'goalstep_docarray_faiss'\n",
    "SPATIAL_VECSTORE_PATH = SPATIAL_ANNOTATION_PATH + 'spatial_docarray_faiss'\n",
    "\n",
    "\n",
    "# Embedding Database\n",
    "import database\n",
    "from langchain_openai.embeddings import OpenAIEmbeddings\n",
    "from sklearn.metrics.pairwise import cosine_similarity\n",
    "import sys\n",
    "sys.path.append(os.path.abspath('/usr/local/lib/python3.10/dist-packages'))\n",
    "\n",
    "from langchain.vectorstores import FAISS\n",
    "from langchain_community.vectorstores import DocArrayInMemorySearch # do not use this!\n",
    "from langchain_core.runnables import RunnableParallel, RunnablePassthrough\n",
    "import docarray\n",
    "\n",
    "\n",
    "# extract videos list\n",
    "goalstep_videos_list = database.merge_json_video_list(GOALSTEP_ANNOTATION_PATH)\n",
    "spatial_videos_list = database.merge_json_video_list(SPATIAL_ANNOTATION_PATH)\n",
    "print(f\"goalstep vids: {len(goalstep_videos_list)} and spatial vids: {len(spatial_videos_list)}\")\n",
    "\n",
    "# make document list(langchain.schema) from the video list\n",
    "# TODO: when making document list, make sure each segment's parents are well listed!\n",
    "goalstep_document_list = database.make_goalstep_document_list(goalstep_videos_list)\n",
    "spatial_document = database.make_spatial_document_list(spatial_videos_list)\n",
    "print(f\"goalstep_document_list: {len(goalstep_document_list)}\")\n",
    "print(f\"spatial_document_list: {len(spatial_document)}\")"
   ]
  },
  {
   "cell_type": "markdown",
   "metadata": {},
   "source": [
    "### 1-1. LOAD vectorstore and start instantly"
   ]
  },
  {
   "cell_type": "code",
   "execution_count": 45,
   "metadata": {},
   "outputs": [],
   "source": [
    "# Embedding Database\n",
    "import database\n",
    "from langchain_openai.embeddings import OpenAIEmbeddings\n",
    "from sklearn.metrics.pairwise import cosine_similarity\n",
    "import sys\n",
    "sys.path.append(os.path.abspath('/usr/local/lib/python3.10/dist-packages'))\n",
    "\n",
    "from langchain.vectorstores import FAISS\n",
    "from langchain_community.vectorstores import DocArrayInMemorySearch # do not use this!\n",
    "from langchain_core.runnables import RunnableParallel, RunnablePassthrough\n",
    "\n",
    "# load docarray and get docarrayinmemory instance for vectorstore\n",
    "embeddings = OpenAIEmbeddings()\n",
    "goalstep_vector_store = FAISS.load_local(GOALSTEP_VECSTORE_PATH, embeddings, allow_dangerous_deserialization=True)\n",
    "spatial_vector_store = FAISS.load_local(SPATIAL_VECSTORE_PATH, embeddings, allow_dangerous_deserialization=True)\n",
    "\n",
    "# for doc in goalstep_vector_store.docstore._dict.values():\n",
    "#     print(f\"{doc.page_content}\")"
   ]
  },
  {
   "cell_type": "markdown",
   "metadata": {},
   "source": [
    "### 2. Make Input from Source (wip)\n",
    "- extract input sequence and spatial context from test video"
   ]
  },
  {
   "cell_type": "code",
   "execution_count": 46,
   "metadata": {},
   "outputs": [
    {
     "name": "stdout",
     "output_type": "stream",
     "text": [
      "/root/project/script_predict_goal\n",
      "717\n"
     ]
    }
   ],
   "source": [
    "print(os.getcwd())\n",
    "import sys\n",
    "import input_source\n",
    "\n",
    "input_video_idx = int(input(\"what is the video idx for input?: \"))\n",
    "# goalstep_videos_list = database.merge_json_video_list(GOALSTEP_ANNOTATION_PATH)\n",
    "print(len(goalstep_videos_list))\n",
    "\n",
    "goalstep_video = goalstep_videos_list[input_video_idx]\n",
    "spatial_video = spatial_videos_list[input_video_idx]\n",
    "\n",
    "input_goalstep_segments = input_source.extract_lower_goalstep_segments(goalstep_video)\n",
    "input_spatial_context = input_source.extract_spatial_context(spatial_video)"
   ]
  },
  {
   "cell_type": "markdown",
   "metadata": {},
   "source": [
    "### 3. Query from Database (WIP)"
   ]
  },
  {
   "cell_type": "code",
   "execution_count": 47,
   "metadata": {},
   "outputs": [
    {
     "name": "stdout",
     "output_type": "stream",
     "text": [
      "[Document(metadata={'type': 'level2', 'video_uid': '45dc74e1-c8dd-443a-a7a6-ca4215144e97', 'start_time': 436.82178, 'end_time': 486.56667, 'step_category': 'Make baked goods: Deep fry donuts and pastries', 'step_description': 'Fry some jelabi pastries'}, page_content='Level 2 Segment 5 for Video 45dc74e1-c8dd-443a-a7a6-ca4215144e97\\nStep: Fry some jelabi pastries'), Document(metadata={'type': 'level2', 'video_uid': '45dc74e1-c8dd-443a-a7a6-ca4215144e97', 'start_time': 0, 'end_time': 96.82035, 'step_category': 'Make baked goods: Deep fry donuts and pastries', 'step_description': 'Fry some jelabi pastries'}, page_content='Level 2 Segment 1 for Video 45dc74e1-c8dd-443a-a7a6-ca4215144e97\\nStep: Fry some jelabi pastries'), Document(metadata={'type': 'level2', 'video_uid': '45dc74e1-c8dd-443a-a7a6-ca4215144e97', 'start_time': 407.20567, 'end_time': 436.68723, 'step_category': 'Make baked goods: Deep fry donuts and pastries', 'step_description': 'Fry some jelabi pastries'}, page_content='Level 2 Segment 4 for Video 45dc74e1-c8dd-443a-a7a6-ca4215144e97\\nStep: Fry some jelabi pastries'), Document(metadata={'type': 'level2', 'video_uid': '45dc74e1-c8dd-443a-a7a6-ca4215144e97', 'start_time': 99.91908, 'end_time': 392.028, 'step_category': 'Make baked goods: Deep fry donuts and pastries', 'step_description': 'Fry some jelabi pastries'}, page_content='Level 2 Segment 2 for Video 45dc74e1-c8dd-443a-a7a6-ca4215144e97\\nStep: Fry some jelabi pastries')]\n",
      "[Document(metadata={'type': 'level1', 'video_uid': '603a427f-9191-4ca4-a1b0-dd3c5e7fda70', 'goal_category': 'COOKING:MAKE_PASTRY', 'goal_description': 'Making pastries'}, page_content=\"Video UID: 603a427f-9191-4ca4-a1b0-dd3c5e7fda70\\nGoal: Making pastries\\nSpatial_context: {'room1': [{'entity': {'type': 'avatar', 'name': 'player', 'status': 'stand'}, 'relation': 'has', 'target': {'type': 'item', 'id': 1, 'name': 'phone', 'status': 'off'}}, {'type': 'item', 'id': 2, 'name': 'table', 'status': 'default'}, {'type': 'item', 'id': 3, 'name': 'liquid hand wash', 'status': 'default'}, {'type': 'item', 'id': 4, 'name': 'sink', 'status': 'default'}, {'type': 'item', 'id': 5, 'name': 'towel', 'status': 'hanging'}, {'type': 'item', 'id': 6, 'name': 'apron', 'status': 'hanging'}, {'entity': {'type': 'item', 'id': 9, 'name': 'shelf', 'status': 'opened'}, 'relation': 'has', 'target': {'type': 'item', 'id': 7, 'name': 'flour', 'status': 'packed'}}, {'type': 'item', 'id': 8, 'name': 'weight scale', 'status': 'off'}, {'type': 'item', 'id': 10, 'name': 'bowl', 'status': 'unwashed'}, {'entity': {'type': 'item', 'id': 11, 'name': 'kitchen drawer', 'status': 'closed'}, 'relation': 'has', 'target': {'type': 'item', 'id': 12, 'name': 'sieve', 'status': 'default'}}, {'entity': {'type': 'item', 'id': 14, 'name': 'pantry', 'status': 'default'}, 'relation': 'has', 'target': {'type': 'item', 'id': 13, 'name': 'sour cream container', 'status': 'default'}}, {'entity': {'type': 'item', 'id': 14, 'name': 'pantry', 'status': 'default'}, 'relation': 'has', 'target': {'type': 'item', 'id': 15, 'name': 'baking soda', 'status': 'default'}}, {'entity': {'type': 'item', 'id': 14, 'name': 'pantry', 'status': 'default'}, 'relation': 'has', 'target': {'type': 'item', 'id': 17, 'name': 'sugar', 'status': 'default'}}, {'type': 'item', 'id': 16, 'name': 'spoon', 'status': 'default'}]}\"), Document(metadata={'type': 'level1', 'video_uid': 'bbe7b4ee-0e62-4fb5-877e-d4c76a0c8247', 'goal_category': 'COOKING:MAKE_STEW_OR_SOUP', 'goal_description': 'make sauce'}, page_content=\"Video UID: bbe7b4ee-0e62-4fb5-877e-d4c76a0c8247\\nGoal: make sauce\\nSpatial_context: {'room1': [{'entity': {'type': 'avatar', 'name': 'player', 'status': 'sit'}, 'relation': 'has', 'target': {'type': 'item', 'id': 2, 'name': 'chair', 'status': 'default'}}, {'entity': {'entity': {'type': 'item', 'id': 4, 'name': 'stovetop', 'status': 'heating'}, 'relation': 'has', 'target': {'type': 'item', 'id': 1, 'name': 'pot', 'status': 'heating'}}, 'relation': 'has', 'target': {'type': 'item', 'id': 3, 'name': 'sauce', 'status': 'boiled'}}, {'entity': {'type': 'item', 'id': 1, 'name': 'pot', 'status': 'heating'}, 'relation': 'has', 'target': {'type': 'item', 'id': 5, 'name': 'stirrer', 'status': 'default'}}]}\"), Document(metadata={'type': 'level1', 'video_uid': 'bb2297d3-91b7-4ec4-b39b-cc64694929db', 'goal_category': 'COOKING:COOKING_GENERAL', 'goal_description': 'Make pasta'}, page_content=\"Video UID: bb2297d3-91b7-4ec4-b39b-cc64694929db\\nGoal: Make pasta\\nSpatial_context: {'room1': [{'type': 'avatar', 'name': 'player', 'status': 'stand'}, {'type': 'avatar', 'name': 'dog', 'status': 'sit'}, {'type': 'item', 'id': 1, 'name': 'carton', 'status': 'unfolded'}, {'entity': {'entity': {'type': 'item', 'id': 2, 'name': 'countertop', 'status': 'default'}, 'relation': 'has', 'target': {'type': 'item', 'id': 3, 'name': 'utensils', 'status': 'disarranged'}}, 'relation': 'has', 'target': {'type': 'item', 'id': 4, 'name': 'cup', 'status': 'default'}}, {'type': 'item', 'id': 5, 'name': 'table', 'status': 'default'}, {'type': 'item', 'id': 6, 'name': 'trash can', 'status': 'default'}, {'type': 'item', 'id': 10, 'name': 'table', 'status': 'default'}, {'type': 'item', 'id': 11, 'name': 'bottle', 'status': 'default'}, {'type': 'item', 'id': 12, 'name': 'cloth', 'status': 'default'}, {'entity': {'entity': {'type': 'item', 'id': 14, 'name': 'gas stove', 'status': 'heating'}, 'relation': 'has', 'target': {'type': 'item', 'id': 15, 'name': 'pot', 'status': 'contain water'}}, 'relation': 'has', 'target': {'type': 'item', 'id': 16, 'name': 'pasta', 'status': 'heating'}}, {'type': 'item', 'id': 17, 'name': 'stirrer', 'status': 'default'}, {'type': 'item', 'id': 18, 'name': 'lid', 'status': 'default'}, {'type': 'item', 'id': 19, 'name': 'cup', 'status': 'default'}, {'entity': {'type': 'item', 'id': 20, 'name': 'table2', 'status': 'default'}, 'relation': 'has', 'target': {'type': 'item', 'id': 21, 'name': 'tomato paste', 'status': 'default'}}, {'entity': {'type': 'item', 'id': 22, 'name': 'refrigerator', 'status': 'closed'}, 'relation': 'has', 'target': {'type': 'item', 'id': 23, 'name': 'cheese', 'status': 'default'}}], 'room2': [{'entity': {'type': 'item', 'id': 7, 'name': 'trash bucket', 'status': 'default'}, 'relation': 'has', 'target': {'type': 'item', 'id': 8, 'name': 'trash bag', 'status': 'default'}}, {'type': 'item', 'id': 9, 'name': 'trash bag2', 'status': 'new'}, {'type': 'item', 'id': 13, 'name': 'hanger', 'status': 'default'}]}\"), Document(metadata={'type': 'level1', 'video_uid': 'b17ff269-ec2d-4ad8-88aa-b00b75921427', 'goal_category': 'COOKING:COOKING_GENERAL', 'goal_description': 'cooking general'}, page_content=\"Video UID: b17ff269-ec2d-4ad8-88aa-b00b75921427\\nGoal: cooking general\\nSpatial_context: {'room1': [{'type': 'avatar', 'name': 'player', 'status': 'stand'}, {'entity': {'type': 'item', 'id': 8, 'name': 'table', 'status': 'default'}, 'relation': 'has', 'target': {'type': 'item', 'id': 1, 'name': 'coffee maker', 'status': 'opened'}}, {'entity': {'type': 'item', 'id': 2, 'name': 'coffee jar', 'status': 'half-filled'}, 'relation': 'has', 'target': {'type': 'item', 'id': 3, 'name': 'ground coffee', 'status': 'default'}}, {'entity': {'type': 'item', 'id': 4, 'name': 'refrigerator', 'status': 'closed'}, 'relation': 'has', 'target': {'type': 'item', 'id': 5, 'name': 'a bottle of water', 'status': 'contain water'}}, {'entity': {'type': 'item', 'id': 7, 'name': 'sink', 'status': 'default'}, 'relation': 'has', 'target': {'type': 'item', 'id': 9, 'name': 'pan', 'status': 'unwashed'}}, {'entity': {'type': 'item', 'id': 7, 'name': 'sink', 'status': 'default'}, 'relation': 'has', 'target': {'type': 'item', 'id': 10, 'name': 'washing tool', 'status': 'default'}}, {'entity': {'type': 'item', 'id': 11, 'name': 'table2', 'status': 'default'}, 'relation': 'has', 'target': {'type': 'item', 'id': 12, 'name': 'tissue', 'status': 'default'}}, {'type': 'item', 'id': 13, 'name': 'trash can', 'status': 'default'}, {'type': 'item', 'id': 14, 'name': 'plate', 'status': 'default'}, {'type': 'item', 'id': 15, 'name': 'bread', 'status': 'packed'}]}\")]\n",
      "No match: goalstep parent\n",
      "No match: spatial parent\n"
     ]
    }
   ],
   "source": [
    "import query\n",
    "\n",
    "# Retriever & databse query\n",
    "goalstep_retriever = goalstep_vector_store.as_retriever()\n",
    "spatial_retriever = spatial_vector_store.as_retriever()\n",
    "input_query = query.return_source_input_query(input_goalstep_segments, input_spatial_context) \n",
    "#print(input_query)\n",
    "\n",
    "\n",
    "# retrieve from database\n",
    "retrieved_goalstep = goalstep_retriever.get_relevant_documents(input_query)\n",
    "retrieved_spatial = spatial_retriever.get_relevant_documents(input_query)\n",
    "print(retrieved_goalstep)\n",
    "print(retrieved_spatial)\n",
    "\n",
    "# Retrieve documents' parent documents with metadatasearch\n",
    "# TODO: replace metafilter with real values extracted from input values\n",
    "goalstep_metafilter = {\"level\": 1, \"parent_id\": 10}\n",
    "spatial_metafilter = {\"level\": 1, \"parent_id\": 10}\n",
    "\n",
    "# Search with filter inside vector_Store\n",
    "retrieved_goalstep_parent_documents = []\n",
    "try:\n",
    "    goalstep_search_results = goalstep_vector_store.similarity_search_with_score(\n",
    "        query=\"\",\n",
    "        filter=goalstep_metafilter\n",
    "    )\n",
    "\n",
    "    if not goalstep_search_results:\n",
    "        print(\"No match: goalstep parent\")\n",
    "        goalstep_search_results = []  # Ensure results is a null (empty) array\n",
    "    else:\n",
    "        for result, score in goalstep_search_results:\n",
    "            retrieved_goalstep_parent_documents = result\n",
    "except Exception as e:\n",
    "    print(f\"Error : goaistep parent search: {e}\")\n",
    "    goalstep_search_results = []  # Ensure results is a null (empty) array\n",
    "\n",
    "# TODO: spatial context only has initial spatial layout. Maybe we should not search this extensively.\n",
    "retrieved_spatial_parent_documents = []\n",
    "try:\n",
    "    spatial_search_results = spatial_vector_store.similarity_search_with_score(\n",
    "        query=\"\",\n",
    "        filter=spatial_metafilter\n",
    "    )\n",
    "\n",
    "    if not spatial_search_results:\n",
    "        print(\"No match: spatial parent\")\n",
    "        spatial_search_results = []  # Ensure results is a null (empty) array    \n",
    "    else:\n",
    "        for result, score in spatial_search_results:\n",
    "            retrieved_spatial_parent_documents = result        \n",
    "except Exception as e:\n",
    "    print(f\"Error: spatial parent search: {e}\")\n",
    "    spatial_search_results = []  # Ensure results is a null (empty) array\n",
    "\n",
    "\n",
    "\n"
   ]
  },
  {
   "cell_type": "markdown",
   "metadata": {},
   "source": [
    "### 4. Prompt > LLM (WIP)"
   ]
  },
  {
   "cell_type": "markdown",
   "metadata": {},
   "source": []
  },
  {
   "cell_type": "code",
   "execution_count": 48,
   "metadata": {},
   "outputs": [
    {
     "name": "stdout",
     "output_type": "stream",
     "text": [
      "User performs an action sequence as follows {input_action_sequence}. The scene the user is in had the initial spatial layout as follows {'room1': [{'entity': {'type': 'avatar', 'name': 'player', 'status': 'stand'}, 'relation': 'has', 'target': {'type': 'item', 'id': 1, 'name': 'mustard spinach', 'status': 'unwashed'}}, {'entity': {'entity': {'type': 'item', 'id': 2, 'name': 'bowl', 'status': 'contain water'}, 'relation': 'has', 'target': {'type': 'item', 'id': 3, 'name': 'sieve', 'status': 'in water'}}, 'relation': 'has', 'target': {'type': 'item', 'id': 1, 'name': 'mustard spinach', 'status': 'unwashed'}}, {'entity': {'type': 'item', 'id': 4, 'name': 'pot', 'status': 'heating'}, 'relation': 'has', 'target': {'type': 'item', 'id': 5, 'name': 'water', 'status': 'boiling'}}]}. In database, other people performed similar actions as follows [Document(metadata={'type': 'level2', 'video_uid': '45dc74e1-c8dd-443a-a7a6-ca4215144e97', 'start_time': 436.82178, 'end_time': 486.56667, 'step_category': 'Make baked goods: Deep fry donuts and pastries', 'step_description': 'Fry some jelabi pastries'}, page_content='Level 2 Segment 5 for Video 45dc74e1-c8dd-443a-a7a6-ca4215144e97\\nStep: Fry some jelabi pastries'), Document(metadata={'type': 'level2', 'video_uid': '45dc74e1-c8dd-443a-a7a6-ca4215144e97', 'start_time': 0, 'end_time': 96.82035, 'step_category': 'Make baked goods: Deep fry donuts and pastries', 'step_description': 'Fry some jelabi pastries'}, page_content='Level 2 Segment 1 for Video 45dc74e1-c8dd-443a-a7a6-ca4215144e97\\nStep: Fry some jelabi pastries'), Document(metadata={'type': 'level2', 'video_uid': '45dc74e1-c8dd-443a-a7a6-ca4215144e97', 'start_time': 407.20567, 'end_time': 436.68723, 'step_category': 'Make baked goods: Deep fry donuts and pastries', 'step_description': 'Fry some jelabi pastries'}, page_content='Level 2 Segment 4 for Video 45dc74e1-c8dd-443a-a7a6-ca4215144e97\\nStep: Fry some jelabi pastries'), Document(metadata={'type': 'level2', 'video_uid': '45dc74e1-c8dd-443a-a7a6-ca4215144e97', 'start_time': 99.91908, 'end_time': 392.028, 'step_category': 'Make baked goods: Deep fry donuts and pastries', 'step_description': 'Fry some jelabi pastries'}, page_content='Level 2 Segment 2 for Video 45dc74e1-c8dd-443a-a7a6-ca4215144e97\\nStep: Fry some jelabi pastries')]. In these similar cases, the spatial layout example is as follows [Document(metadata={'type': 'level1', 'video_uid': '603a427f-9191-4ca4-a1b0-dd3c5e7fda70', 'goal_category': 'COOKING:MAKE_PASTRY', 'goal_description': 'Making pastries'}, page_content=\"Video UID: 603a427f-9191-4ca4-a1b0-dd3c5e7fda70\\nGoal: Making pastries\\nSpatial_context: {'room1': [{'entity': {'type': 'avatar', 'name': 'player', 'status': 'stand'}, 'relation': 'has', 'target': {'type': 'item', 'id': 1, 'name': 'phone', 'status': 'off'}}, {'type': 'item', 'id': 2, 'name': 'table', 'status': 'default'}, {'type': 'item', 'id': 3, 'name': 'liquid hand wash', 'status': 'default'}, {'type': 'item', 'id': 4, 'name': 'sink', 'status': 'default'}, {'type': 'item', 'id': 5, 'name': 'towel', 'status': 'hanging'}, {'type': 'item', 'id': 6, 'name': 'apron', 'status': 'hanging'}, {'entity': {'type': 'item', 'id': 9, 'name': 'shelf', 'status': 'opened'}, 'relation': 'has', 'target': {'type': 'item', 'id': 7, 'name': 'flour', 'status': 'packed'}}, {'type': 'item', 'id': 8, 'name': 'weight scale', 'status': 'off'}, {'type': 'item', 'id': 10, 'name': 'bowl', 'status': 'unwashed'}, {'entity': {'type': 'item', 'id': 11, 'name': 'kitchen drawer', 'status': 'closed'}, 'relation': 'has', 'target': {'type': 'item', 'id': 12, 'name': 'sieve', 'status': 'default'}}, {'entity': {'type': 'item', 'id': 14, 'name': 'pantry', 'status': 'default'}, 'relation': 'has', 'target': {'type': 'item', 'id': 13, 'name': 'sour cream container', 'status': 'default'}}, {'entity': {'type': 'item', 'id': 14, 'name': 'pantry', 'status': 'default'}, 'relation': 'has', 'target': {'type': 'item', 'id': 15, 'name': 'baking soda', 'status': 'default'}}, {'entity': {'type': 'item', 'id': 14, 'name': 'pantry', 'status': 'default'}, 'relation': 'has', 'target': {'type': 'item', 'id': 17, 'name': 'sugar', 'status': 'default'}}, {'type': 'item', 'id': 16, 'name': 'spoon', 'status': 'default'}]}\"), Document(metadata={'type': 'level1', 'video_uid': 'bbe7b4ee-0e62-4fb5-877e-d4c76a0c8247', 'goal_category': 'COOKING:MAKE_STEW_OR_SOUP', 'goal_description': 'make sauce'}, page_content=\"Video UID: bbe7b4ee-0e62-4fb5-877e-d4c76a0c8247\\nGoal: make sauce\\nSpatial_context: {'room1': [{'entity': {'type': 'avatar', 'name': 'player', 'status': 'sit'}, 'relation': 'has', 'target': {'type': 'item', 'id': 2, 'name': 'chair', 'status': 'default'}}, {'entity': {'entity': {'type': 'item', 'id': 4, 'name': 'stovetop', 'status': 'heating'}, 'relation': 'has', 'target': {'type': 'item', 'id': 1, 'name': 'pot', 'status': 'heating'}}, 'relation': 'has', 'target': {'type': 'item', 'id': 3, 'name': 'sauce', 'status': 'boiled'}}, {'entity': {'type': 'item', 'id': 1, 'name': 'pot', 'status': 'heating'}, 'relation': 'has', 'target': {'type': 'item', 'id': 5, 'name': 'stirrer', 'status': 'default'}}]}\"), Document(metadata={'type': 'level1', 'video_uid': 'bb2297d3-91b7-4ec4-b39b-cc64694929db', 'goal_category': 'COOKING:COOKING_GENERAL', 'goal_description': 'Make pasta'}, page_content=\"Video UID: bb2297d3-91b7-4ec4-b39b-cc64694929db\\nGoal: Make pasta\\nSpatial_context: {'room1': [{'type': 'avatar', 'name': 'player', 'status': 'stand'}, {'type': 'avatar', 'name': 'dog', 'status': 'sit'}, {'type': 'item', 'id': 1, 'name': 'carton', 'status': 'unfolded'}, {'entity': {'entity': {'type': 'item', 'id': 2, 'name': 'countertop', 'status': 'default'}, 'relation': 'has', 'target': {'type': 'item', 'id': 3, 'name': 'utensils', 'status': 'disarranged'}}, 'relation': 'has', 'target': {'type': 'item', 'id': 4, 'name': 'cup', 'status': 'default'}}, {'type': 'item', 'id': 5, 'name': 'table', 'status': 'default'}, {'type': 'item', 'id': 6, 'name': 'trash can', 'status': 'default'}, {'type': 'item', 'id': 10, 'name': 'table', 'status': 'default'}, {'type': 'item', 'id': 11, 'name': 'bottle', 'status': 'default'}, {'type': 'item', 'id': 12, 'name': 'cloth', 'status': 'default'}, {'entity': {'entity': {'type': 'item', 'id': 14, 'name': 'gas stove', 'status': 'heating'}, 'relation': 'has', 'target': {'type': 'item', 'id': 15, 'name': 'pot', 'status': 'contain water'}}, 'relation': 'has', 'target': {'type': 'item', 'id': 16, 'name': 'pasta', 'status': 'heating'}}, {'type': 'item', 'id': 17, 'name': 'stirrer', 'status': 'default'}, {'type': 'item', 'id': 18, 'name': 'lid', 'status': 'default'}, {'type': 'item', 'id': 19, 'name': 'cup', 'status': 'default'}, {'entity': {'type': 'item', 'id': 20, 'name': 'table2', 'status': 'default'}, 'relation': 'has', 'target': {'type': 'item', 'id': 21, 'name': 'tomato paste', 'status': 'default'}}, {'entity': {'type': 'item', 'id': 22, 'name': 'refrigerator', 'status': 'closed'}, 'relation': 'has', 'target': {'type': 'item', 'id': 23, 'name': 'cheese', 'status': 'default'}}], 'room2': [{'entity': {'type': 'item', 'id': 7, 'name': 'trash bucket', 'status': 'default'}, 'relation': 'has', 'target': {'type': 'item', 'id': 8, 'name': 'trash bag', 'status': 'default'}}, {'type': 'item', 'id': 9, 'name': 'trash bag2', 'status': 'new'}, {'type': 'item', 'id': 13, 'name': 'hanger', 'status': 'default'}]}\"), Document(metadata={'type': 'level1', 'video_uid': 'b17ff269-ec2d-4ad8-88aa-b00b75921427', 'goal_category': 'COOKING:COOKING_GENERAL', 'goal_description': 'cooking general'}, page_content=\"Video UID: b17ff269-ec2d-4ad8-88aa-b00b75921427\\nGoal: cooking general\\nSpatial_context: {'room1': [{'type': 'avatar', 'name': 'player', 'status': 'stand'}, {'entity': {'type': 'item', 'id': 8, 'name': 'table', 'status': 'default'}, 'relation': 'has', 'target': {'type': 'item', 'id': 1, 'name': 'coffee maker', 'status': 'opened'}}, {'entity': {'type': 'item', 'id': 2, 'name': 'coffee jar', 'status': 'half-filled'}, 'relation': 'has', 'target': {'type': 'item', 'id': 3, 'name': 'ground coffee', 'status': 'default'}}, {'entity': {'type': 'item', 'id': 4, 'name': 'refrigerator', 'status': 'closed'}, 'relation': 'has', 'target': {'type': 'item', 'id': 5, 'name': 'a bottle of water', 'status': 'contain water'}}, {'entity': {'type': 'item', 'id': 7, 'name': 'sink', 'status': 'default'}, 'relation': 'has', 'target': {'type': 'item', 'id': 9, 'name': 'pan', 'status': 'unwashed'}}, {'entity': {'type': 'item', 'id': 7, 'name': 'sink', 'status': 'default'}, 'relation': 'has', 'target': {'type': 'item', 'id': 10, 'name': 'washing tool', 'status': 'default'}}, {'entity': {'type': 'item', 'id': 11, 'name': 'table2', 'status': 'default'}, 'relation': 'has', 'target': {'type': 'item', 'id': 12, 'name': 'tissue', 'status': 'default'}}, {'type': 'item', 'id': 13, 'name': 'trash can', 'status': 'default'}, {'type': 'item', 'id': 14, 'name': 'plate', 'status': 'default'}, {'type': 'item', 'id': 15, 'name': 'bread', 'status': 'packed'}]}\")]\n",
      "The goal of the current user is to \"Fry pastries.\"\n"
     ]
    }
   ],
   "source": [
    "from dotenv import load_dotenv\n",
    "from langchain_openai.chat_models import ChatOpenAI\n",
    "\n",
    "import prompt_source as promptSource\n",
    "from langchain_core.output_parsers import StrOutputParser\n",
    "from langchain.output_parsers import ResponseSchema, StructuredOutputParser\n",
    "\n",
    "from langchain.prompts import ChatPromptTemplate\n",
    "from langchain.prompts import PromptTemplate\n",
    "\n",
    "from langchain.chains import LLMChain\n",
    "\n",
    "# ready the documents for making the Prompt\n",
    "# input_goalstep_segments\n",
    "# input_spatial_context\n",
    "# retrieved_goalstep\n",
    "# retrieved_spatial\n",
    "# retrieved_goalstep_parent_documents\n",
    "# retrieved_spatial_parent_documents\n",
    "\n",
    "# define llm\n",
    "parser = StrOutputParser()\n",
    "# parser = StructuredOutputParser.from_response_schemas([\n",
    "    # ResponseSchema(name=\"answer\", description=\"The answer to the question\")\n",
    "# ])\n",
    "\n",
    "load_dotenv()\n",
    "openai.api_key = os.getenv(\"OPENAI_API_KEY\")\n",
    "model = ChatOpenAI(openai_api_key=openai.api_key, model=\"gpt-3.5-turbo\")\n",
    "\n",
    "# make context\n",
    "context = promptSource.make_context(input_goalstep_segments, input_spatial_context, retrieved_goalstep, retrieved_spatial)\n",
    "\n",
    "# print(f\"role: {promptSource.role}\")\n",
    "# print(f\"question: {promptSource.question}\")\n",
    "# print(f\"printing actions {input_goalstep_segments}\")\n",
    "print(context)\n",
    "\n",
    "\n",
    "\n",
    "template_source = \"\"\"\n",
    "Answer the question based on the context below. If you can't \n",
    "answer the question, reply \"I don't know\".\n",
    "\n",
    "{role}\n",
    "{question}\n",
    "\"\"\"\n",
    "prompt = PromptTemplate.from_template(\n",
    "        \"\"\"You are an assistant for question-answering tasks. \n",
    "    Use the following pieces of retrieved context to answer the question. \n",
    "    If you don't know the answer, just say that you don't know.\n",
    "\n",
    "    #Role:\n",
    "    {role}\n",
    "    #Question: \n",
    "    {question} \n",
    "    #Action_Sequence: \n",
    "    {action_sequence} \n",
    "    #Spatial_Layout\n",
    "    {spatial_layout}\n",
    "\n",
    "    #Similar_Space_Example\n",
    "    {relevant_space}\n",
    "\n",
    "    \"\"\"\n",
    ")\n",
    "\n",
    "# #Similar_Actions_From_other_People\n",
    "# {relevant_actions}\n",
    "# Define chain\n",
    "chain = prompt | model | parser\n",
    "\n",
    "\n",
    "\n",
    "# input_goalstep_segments\n",
    "# input_spatial_context\n",
    "# retrieved_goalstep\n",
    "# retrieved_spatial\n",
    "\n",
    "context = input_goalstep_segments\n",
    "\n",
    "inputs = {\n",
    "    \"role\": [{'role':'system', 'content':'you are a helpful assisant that predicts the goal of the user inside a scene. You are given the actions of the user and the initial spatial layout of the scene.'}],\n",
    "    \"question\": [{'role':'user', 'content':'A person has performed the given actions in the form of a sequence of actions.What is the goal of the current user? Provide only one answer in a verb and a noun pair. The noun, if possible should be as specific as possible'}],\n",
    "    \"action_sequence\": input_goalstep_segments,\n",
    "    \"spatial_layout\": input_spatial_context,\n",
    "    \"relevant_actions\": retrieved_goalstep,\n",
    "    \"relevant_space\": retrieved_spatial\n",
    "}\n",
    "\n",
    "response = chain.invoke(inputs)\n",
    "print(response)\n"
   ]
  },
  {
   "cell_type": "markdown",
   "metadata": {},
   "source": [
    "### 5. Process Response and Compute Distance ()"
   ]
  },
  {
   "cell_type": "code",
   "execution_count": null,
   "metadata": {},
   "outputs": [],
   "source": [
    "sys.path.append(os.path.abspath('/root/project')) # add root path to sys.path for external package\n",
    "from util import metrics\n",
    "# postprocess answers to get goals\n",
    "\n",
    "\n",
    "\n",
    "# postprocess answers to get lv1 steps?\n",
    "# can import other scripts in other folders fine!\n",
    "metrics.printtest()\n"
   ]
  },
  {
   "cell_type": "code",
   "execution_count": null,
   "metadata": {},
   "outputs": [],
   "source": [
    "# compute metrics\n",
    "\n"
   ]
  },
  {
   "cell_type": "markdown",
   "metadata": {},
   "source": [
    "### 6. Configure Prompt2 for Target Space"
   ]
  },
  {
   "cell_type": "code",
   "execution_count": null,
   "metadata": {},
   "outputs": [],
   "source": [
    "import input_source\n",
    "import input_target\n",
    "import prompt_target\n",
    "\n",
    "# target space input\n",
    "source_goalstep_segments = input_goalstep_segments\n",
    "source_spatial_context = input_spatial_context\n",
    "\n",
    "target_video = []\n",
    "target_spatial_context = input_source.extract_spatial_context(target_video)\n",
    "\n",
    "# make target query & retrieve\n",
    "input_query = query.return_target_input_query(source_goalstep_segments, source_spatial_context, target_spatial_context)\n",
    "retrieved_goalstep = goalstep_retriever.get_relevant_documents(input_query)\n",
    "retrieved_spatial = spatial_retriever.get_relevant_documents(input_query)\n",
    "\n",
    "# Retrieve documents' parent documents for goalstep annotation\n",
    "\n",
    "\n",
    "# Concat the retrieved results\n",
    "\n",
    "\n",
    "# define prompt\n",
    "prompt2 = ChatPromptTemplate.from_template(promptSource.template_source)\n",
    "prompt2.format(context=promptSource.context, question=promptSource.question, rules = promptSource.rules)\n",
    "\n",
    "# Define chain\n",
    "parser = StrOutputParser()\n",
    "chain2 = prompt2 | model | parser \n",
    "\n",
    "# Get Respone\n",
    "response2 = chain2.invoke()"
   ]
  },
  {
   "cell_type": "markdown",
   "metadata": {},
   "source": [
    "### 7. Configure Combined chain for simple one-go-prediction"
   ]
  },
  {
   "cell_type": "code",
   "execution_count": null,
   "metadata": {},
   "outputs": [],
   "source": [
    "\n",
    "# # chain can incorpoate other chains\n",
    "# chain_action = (\n",
    "#     {\"source_spatial_context\": itemgetter(source_spatial_context), \"goalstep\": chain1, \"target_spatial_context\": itemgetter(target_spatial_context)} | prompt_action | model | parser\n",
    "# )\n",
    "from dotenv import load_dotenv\n",
    "from langchain_openai.chat_models import ChatOpenAI\n",
    "\n",
    "import prompt_source as promptSource\n",
    "from langchain_core.output_parsers import StrOutputParser\n",
    "from langchain.prompts import ChatPromptTemplate\n",
    "\n",
    "\n",
    "# define llm\n",
    "load_dotenv()\n",
    "openai.api_key = os.getenv(\"OPENAI_API_KEY\")\n",
    "model = ChatOpenAI(openai_api_key=openai.api_key, model=\"gpt-3.5-turbo\")\n",
    "\n",
    "# define prompt\n",
    "prompt = ChatPromptTemplate.from_template(promptSource.template_source)\n",
    "prompt.format(context=promptSource.context, question=promptSource.question, rules = promptSource.rules)\n",
    "\n",
    "# Define chain\n",
    "parser = StrOutputParser()\n",
    "chain1 = prompt | model | parser \n",
    "\n",
    "# Get Respone\n",
    "response = chain1.invoke()"
   ]
  }
 ],
 "metadata": {
  "kernelspec": {
   "display_name": "Python 3",
   "language": "python",
   "name": "python3"
  },
  "language_info": {
   "codemirror_mode": {
    "name": "ipython",
    "version": 3
   },
   "file_extension": ".py",
   "mimetype": "text/x-python",
   "name": "python",
   "nbconvert_exporter": "python",
   "pygments_lexer": "ipython3",
   "version": "3.10.12"
  }
 },
 "nbformat": 4,
 "nbformat_minor": 2
}
