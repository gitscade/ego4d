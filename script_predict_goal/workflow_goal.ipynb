{
 "cells": [
  {
   "cell_type": "markdown",
   "metadata": {},
   "source": [
    "## Goal Prediction\n",
    "### 1. Make vectorstore\n",
    "- make document list\n",
    "- make vectorstore or load vectorstore"
   ]
  },
  {
   "cell_type": "code",
   "execution_count": 1,
   "metadata": {},
   "outputs": [
    {
     "name": "stdout",
     "output_type": "stream",
     "text": [
      "goalstep vids: 717 and spatial vids: 50\n",
      "goalstep_document_list: 39979\n",
      "spatial_document_list: 588\n",
      "LOAD FAISS GOALSTEP ../data/ego4d_annotation/goalstep/goalstep_docarray_faiss\n",
      "LOAD FAISS SPATIAL: ../data/ego4d_annotation/spatial/spatial_docarray_faiss\n"
     ]
    }
   ],
   "source": [
    "import openai\n",
    "import langchain\n",
    "import logging\n",
    "import json\n",
    "import os\n",
    "import pandas as pd\n",
    "import pickle\n",
    "from IPython.display import Image, display\n",
    "\n",
    "import database\n",
    "from langchain_openai.embeddings import OpenAIEmbeddings\n",
    "from sklearn.metrics.pairwise import cosine_similarity\n",
    "import sys\n",
    "sys.path.append(os.path.abspath('/usr/local/lib/python3.10/dist-packages'))\n",
    "from langchain.vectorstores import FAISS\n",
    "from langchain_community.vectorstores import DocArrayInMemorySearch # do not use this!\n",
    "from langchain_core.runnables import RunnableParallel, RunnablePassthrough\n",
    "import docarray\n",
    "\n",
    "# configure paths\n",
    "data_path = '../data/ego4d_annotation/'\n",
    "GOALSTEP_ANNOTATION_PATH = data_path + 'goalstep/'\n",
    "SPATIAL_ANNOTATION_PATH = data_path + 'spatial/'\n",
    "GOALSTEP_VECSTORE_PATH = GOALSTEP_ANNOTATION_PATH + 'goalstep_docarray_faiss'\n",
    "SPATIAL_VECSTORE_PATH = SPATIAL_ANNOTATION_PATH + 'spatial_docarray_faiss'\n",
    "\n",
    "# Test scenarios to exclude\n",
    "test_uid = [\n",
    "    \"dcd09fa4-afe2-4a0d-9703-83af2867ebd3\", #make potato soap\n",
    "    \"46e07357-6946-4ff0-ba36-ae11840bdc39\", #make tortila soap\n",
    "    \"026dac2d-2ab3-4f9c-9e1d-6198db4fb080\", #prepare steak\n",
    "    \"2f46d1e6-2a85-4d46-b955-10c2eded661c\", #make steak\n",
    "    \"14bcb17c-f70a-41d5-b10d-294388084dfc\", #prepare garlic(peeling done)\n",
    "    \"487d752c-6e22-43e3-9c08-627bc2a6c6d4\", #peel garlic\n",
    "    \"543e4c99-5d9f-407d-be75-c397d633fe56\", #make sandwich\n",
    "    \"24ba7993-7fc8-4447-afd5-7ff6d548b11a\", #prepare sandwich bread\n",
    "    \"e09a667f-04bc-49b5-8246-daf248a29174\", #prepare coffee\n",
    "    \"b17ff269-ec2d-4ad8-88aa-b00b75921427\", #prepare coffee and bread\n",
    "    \"58b2a4a4-b721-4753-bfc3-478cdb5bd1a8\" #prepare tea and pie\n",
    "]\n",
    "\n",
    "# extract videos list\n",
    "goalstep_videos_list = database.merge_json_video_list(GOALSTEP_ANNOTATION_PATH)\n",
    "spatial_videos_list = database.merge_json_video_list(SPATIAL_ANNOTATION_PATH)\n",
    "print(f\"goalstep vids: {len(goalstep_videos_list)} and spatial vids: {len(spatial_videos_list)}\")\n",
    "\n",
    "# make document list\n",
    "goalstep_document_list = database.make_goalstep_document_list(goalstep_videos_list)\n",
    "spatial_document = database.make_spatial_document_list(spatial_videos_list)\n",
    "print(f\"goalstep_document_list: {len(goalstep_document_list)}\")\n",
    "print(f\"spatial_document_list: {len(spatial_document)}\")\n",
    "\n",
    "# MAKE EMBEDDING\n",
    "embeddings = OpenAIEmbeddings()\n",
    "\n",
    "# MAKE FAISS VECSTORE\n",
    "if not os.path.exists(GOALSTEP_VECSTORE_PATH + '/index.faiss'):\n",
    "    print(f\"MAKE FAISS GOALSTEP {GOALSTEP_VECSTORE_PATH}\")\n",
    "    goalstep_vector_store =  FAISS.from_documents(goalstep_document_list, embeddings)\n",
    "    goalstep_vector_store.save_local(GOALSTEP_VECSTORE_PATH)\n",
    "else:\n",
    "    print(f\"LOAD FAISS GOALSTEP {GOALSTEP_VECSTORE_PATH}\")\n",
    "\n",
    "if not os.path.exists(SPATIAL_VECSTORE_PATH + '/index.faiss'):\n",
    "    print(f\"MAKE FAISS SPATIAL {SPATIAL_VECSTORE_PATH}\")\n",
    "    spatial_vector_store = FAISS.from_documents(spatial_document, embeddings)\n",
    "    spatial_vector_store.save_local(SPATIAL_VECSTORE_PATH)\n",
    "else:\n",
    "    print(f\"LOAD FAISS SPATIAL: {SPATIAL_VECSTORE_PATH}\")\n",
    "\n",
    "\n",
    "# LOAD FAISS VECSTORE\n",
    "goalstep_vector_store = FAISS.load_local(GOALSTEP_VECSTORE_PATH, embeddings, allow_dangerous_deserialization=True)\n",
    "spatial_vector_store = FAISS.load_local(SPATIAL_VECSTORE_PATH, embeddings, allow_dangerous_deserialization=True)\n",
    "\n",
    "# for doc in goalstep_vector_store.docstore._dict.values():\n",
    "#     print(f\"{doc.page_content}\")"
   ]
  },
  {
   "cell_type": "markdown",
   "metadata": {},
   "source": [
    "### 2. Make Input from Source (wip)\n",
    "- extract input sequence and spatial context from test video"
   ]
  },
  {
   "cell_type": "code",
   "execution_count": 3,
   "metadata": {},
   "outputs": [
    {
     "name": "stdout",
     "output_type": "stream",
     "text": [
      "717\n",
      "grp-88bae242-7f3a-45d4-b129-5d69b1a1e15a\n"
     ]
    }
   ],
   "source": [
    "import input_source\n",
    "\n",
    "# DEF INPUT VIDEO INDEX\n",
    "input_video_idx = int(input(\"what is the video idx for input?: \"))\n",
    "print(len(goalstep_videos_list))\n",
    "\n",
    "# SELECT INPUT VIDEO\n",
    "goalstep_video = goalstep_videos_list[input_video_idx]\n",
    "spatial_video = spatial_videos_list[input_video_idx]\n",
    "print(goalstep_video[\"video_uid\"])\n",
    "\n",
    "# EXTRACT (LV3 action sequence) & (Spatial context)\n",
    "input_goalstep_segments = input_source.extract_lower_goalstep_segments(goalstep_video)\n",
    "input_spatial_context = input_source.extract_spatial_context(spatial_video)"
   ]
  },
  {
   "cell_type": "markdown",
   "metadata": {},
   "source": [
    "### 3. Query from Database (WIP)"
   ]
  },
  {
   "cell_type": "code",
   "execution_count": 4,
   "metadata": {},
   "outputs": [
    {
     "name": "stderr",
     "output_type": "stream",
     "text": [
      "/tmp/ipykernel_2835302/2589835297.py:9: LangChainDeprecationWarning: The method `BaseRetriever.get_relevant_documents` was deprecated in langchain-core 0.1.46 and will be removed in 1.0. Use :meth:`~invoke` instead.\n",
      "  retrieved_goalstep = goalstep_retriever.get_relevant_documents(database_query)\n"
     ]
    },
    {
     "name": "stdout",
     "output_type": "stream",
     "text": [
      "[Document(metadata={'type': 'level2', 'video_uid': '5cdf77b8-7bf8-421b-99b6-19fa6429aeb4', 'start_time': 151.9339, 'end_time': 177.60814, 'step_category': 'General cooking activity: Organize and arrange cooking tools or utensils', 'step_description': 'organize kitchen items'}, page_content='Level 2 Segment 1 for Video 5cdf77b8-7bf8-421b-99b6-19fa6429aeb4\\nStep: organize kitchen items'), Document(metadata={'type': 'level2', 'video_uid': '3c0dffd0-e38e-4643-bc48-d513943dc20b', 'start_time': 338.33889, 'end_time': 402.0589, 'step_category': 'General cooking activity: Organize and arrange cooking tools or utensils', 'step_description': 'Organise kitchen utensils'}, page_content='Level 2 Segment 10 for Video 3c0dffd0-e38e-4643-bc48-d513943dc20b\\nStep: Organise kitchen utensils'), Document(metadata={'type': 'level3', 'video_uid': '28bc1ee7-b0c1-4f30-934a-0ab665779d90', 'parent_level1_start_time': 20.84818, 'start_time': 20.86482, 'end_time': 32.02167, 'step_category': 'General cooking activity: Organize and arrange cooking tools or utensils', 'step_description': 'organize the kitchen utensils '}, page_content='Level 3 Segment 1 for Level 2 Segment 2 in Video 28bc1ee7-b0c1-4f30-934a-0ab665779d90\\nStep: organize the kitchen utensils '), Document(metadata={'type': 'level2', 'video_uid': '3c0dffd0-e38e-4643-bc48-d513943dc20b', 'start_time': 589.37276, 'end_time': 592.79777, 'step_category': 'General cooking activity: Organize and arrange cooking tools or utensils', 'step_description': 'organise kitchen utensils'}, page_content='Level 2 Segment 16 for Video 3c0dffd0-e38e-4643-bc48-d513943dc20b\\nStep: organise kitchen utensils')] \n",
      " [Document(metadata={'type': 'level1', 'video_uid': '737e9619-7768-407c-8a4f-6fe1e8d61f04', 'goal_category': 'COOKING:MAKE_PUFFED_RICE', 'goal_description': 'Prepares rice'}, page_content=\"Video UID: 737e9619-7768-407c-8a4f-6fe1e8d61f04\\nGoal: Prepares rice\\nSpatial_context: {'room1': [{'entity': {'type': 'avatar', 'name': 'player', 'status': 'stand'}, 'relation': 'has', 'target': {'type': 'item', 'id': 1, 'name': 'stirrer', 'status': 'default'}}, {'type': 'avatar', 'name': 'player 2', 'status': 'stand'}, {'entity': {'entity': {'type': 'item', 'id': 2, 'name': 'gas stove', 'status': 'heating'}, 'relation': 'has', 'target': {'type': 'item', 'id': 3, 'name': 'pot 2', 'status': 'heating'}}, 'relation': 'has', 'target': {'type': 'item', 'id': 4, 'name': 'rice', 'status': 'heating'}}, {'entity': {'entity': {'type': 'item', 'id': 2, 'name': 'gas stove', 'status': 'heating'}, 'relation': 'has', 'target': {'type': 'item', 'id': 5, 'name': 'pot', 'status': 'heating'}}, 'relation': 'has', 'target': {'type': 'item', 'id': 6, 'name': 'soup', 'status': 'heating'}}, {'type': 'item', 'id': 7, 'name': 'cooker light', 'status': 'off'}, {'entity': {'type': 'item', 'id': 8, 'name': 'kitchen sink', 'status': 'default'}, 'relation': 'has', 'target': {'type': 'item', 'id': 9, 'name': 'dish', 'status': 'unwashed'}}, {'entity': {'type': 'item', 'id': 10, 'name': 'table', 'status': 'default'}, 'relation': 'has', 'target': {'type': 'item', 'id': 11, 'name': 'cutting board', 'status': 'default'}}, {'entity': {'entity': {'type': 'item', 'id': 10, 'name': 'table', 'status': 'default'}, 'relation': 'has', 'target': {'type': 'item', 'id': 12, 'name': 'cup', 'status': 'contain water'}}, 'relation': 'has', 'target': {'type': 'item', 'id': 13, 'name': 'jute leaves', 'status': 'in water'}}, {'type': 'item', 'id': 14, 'name': 'sink', 'status': 'default'}, {'entity': {'type': 'item', 'id': 10, 'name': 'table', 'status': 'default'}, 'relation': 'has', 'target': {'type': 'item', 'id': 15, 'name': 'paper towel', 'status': 'default'}}, {'type': 'item', 'id': 16, 'name': 'knife', 'status': 'default'}, {'entity': {'type': 'item', 'id': 10, 'name': 'table', 'status': 'default'}, 'relation': 'has', 'target': {'type': 'item', 'id': 17, 'name': 'bowl', 'status': 'default'}}, {'entity': {'type': 'item', 'id': 18, 'name': 'refrigerator', 'status': 'closed'}, 'relation': 'has', 'target': {'type': 'item', 'id': 19, 'name': 'vegetables', 'status': 'default'}}], 'room2': [{'type': 'item', 'id': 20, 'name': 'window', 'status': 'unopened'}, {'type': 'item', 'id': 21, 'name': 'door', 'status': 'unopened'}]}\"), Document(metadata={'type': 'level1', 'video_uid': '78e73d85-db28-4fd0-ab07-df18f397388f', 'goal_category': 'COOKING:MAKE_NOODLE_DISH_GENERAL', 'goal_description': 'Preparing ingredients'}, page_content=\"Video UID: 78e73d85-db28-4fd0-ab07-df18f397388f\\nGoal: Preparing ingredients\\nSpatial_context: {'room1': [{'type': 'avatar', 'name': 'player', 'status': 'stand'}, {'entity': {'entity': {'type': 'item', 'id': 1, 'name': 'sink', 'status': 'default'}, 'relation': 'has', 'target': {'type': 'item', 'id': 2, 'name': 'bowl', 'status': 'default'}}, 'relation': 'has', 'target': {'type': 'item', 'id': 3, 'name': 'sauce', 'status': 'packed'}}, {'entity': {'type': 'item', 'id': 5, 'name': 'refrigerator', 'status': 'default'}, 'relation': 'has', 'target': {'type': 'item', 'id': 4, 'name': 'towel', 'status': 'hanging'}}, {'entity': {'type': 'item', 'id': 6, 'name': 'table', 'status': 'default'}, 'relation': 'has', 'target': {'type': 'item', 'id': 7, 'name': 'paper', 'status': 'default'}}, {'entity': {'type': 'item', 'id': 6, 'name': 'table', 'status': 'default'}, 'relation': 'has', 'target': {'type': 'item', 'id': 8, 'name': 'utesils', 'status': 'disarranged'}}, {'entity': {'type': 'item', 'id': 5, 'name': 'refrigerator', 'status': 'default'}, 'relation': 'has', 'target': {'type': 'item', 'id': 9, 'name': 'tomato', 'status': 'default'}}, {'entity': {'type': 'item', 'id': 5, 'name': 'refrigerator', 'status': 'default'}, 'relation': 'has', 'target': {'type': 'item', 'id': 10, 'name': 'cucumber', 'status': 'wrapped'}}, {'entity': {'type': 'item', 'id': 5, 'name': 'refrigerator', 'status': 'default'}, 'relation': 'has', 'target': {'type': 'item', 'id': 11, 'name': 'enoki mushroom', 'status': 'wrapped'}}, {'entity': {'type': 'item', 'id': 5, 'name': 'refrigerator', 'status': 'default'}, 'relation': 'has', 'target': {'type': 'item', 'id': 12, 'name': 'green onion', 'status': 'wrapped'}}, {'entity': {'type': 'item', 'id': 13, 'name': 'chopping board', 'status': 'default'}, 'relation': 'has', 'target': {'type': 'item', 'id': 14, 'name': 'knife', 'status': 'default'}}, {'entity': {'type': 'item', 'id': 15, 'name': 'counter top', 'status': 'default'}, 'relation': 'has', 'target': {'type': 'item', 'id': 16, 'name': 'jug', 'status': 'disarranged'}}, {'type': 'item', 'id': 17, 'name': 'trash can', 'status': 'default'}, {'entity': {'type': 'item', 'id': 18, 'name': 'Cabinet', 'status': 'default'}, 'relation': 'has', 'target': {'type': 'item', 'id': 19, 'name': 'bag', 'status': 'default'}}, {'type': 'item', 'id': 20, 'name': 'cutting board', 'status': 'default'}]}\"), Document(metadata={'type': 'level1', 'video_uid': '9fabfbc8-1d5c-495e-9bb2-03795f0145ae', 'goal_category': 'COOKING:COOKING_GENERAL', 'goal_description': 'cooking general'}, page_content=\"Video UID: 9fabfbc8-1d5c-495e-9bb2-03795f0145ae\\nGoal: cooking general\\nSpatial_context: {'room1': [{'entity': {'type': 'avatar', 'name': 'player', 'status': 'sit'}, 'relation': 'has', 'target': {'type': 'item', 'id': 1, 'name': 'sofa', 'status': 'default'}}, {'entity': {'type': 'item', 'id': 1, 'name': 'sofa', 'status': 'default'}, 'relation': 'has', 'target': {'type': 'item', 'id': 2, 'name': 'phone', 'status': 'off'}}], 'room2': [{'entity': {'type': 'item', 'id': 3, 'name': 'refrigerator', 'status': 'closed'}, 'relation': 'has', 'target': {'type': 'item', 'id': 4, 'name': 'tofu', 'status': 'default'}}, {'type': 'item', 'id': 5, 'name': 'table', 'status': 'default'}, {'entity': {'type': 'item', 'id': 3, 'name': 'refrigerator', 'status': 'closed'}, 'relation': 'has', 'target': {'type': 'item', 'id': 6, 'name': 'mushroom', 'status': 'packed'}}, {'entity': {'type': 'item', 'id': 3, 'name': 'refrigerator', 'status': 'closed'}, 'relation': 'has', 'target': {'type': 'item', 'id': 7, 'name': 'onion', 'status': 'default'}}, {'entity': {'type': 'item', 'id': 9, 'name': 'kitchen cabinet', 'status': 'closed'}, 'relation': 'has', 'target': {'type': 'item', 'id': 8, 'name': 'skillet', 'status': 'default'}}, {'type': 'item', 'id': 10, 'name': 'gas stove', 'status': 'default'}, {'entity': {'type': 'item', 'id': 9, 'name': 'kitchen cabinet', 'status': 'closed'}, 'relation': 'has', 'target': {'type': 'item', 'id': 10, 'name': 'cutting board', 'status': 'default'}}, {'entity': {'type': 'item', 'id': 11, 'name': 'cabinet', 'status': 'closed'}, 'relation': 'has', 'target': {'type': 'item', 'id': 12, 'name': 'knife', 'status': 'default'}}]}\"), Document(metadata={'type': 'level1', 'video_uid': '0ae6293e-eda5-44f7-b56e-e8f27fcde953', 'goal_category': 'COOKING:COOKING_GENERAL', 'goal_description': 'cooking general'}, page_content=\"Video UID: 0ae6293e-eda5-44f7-b56e-e8f27fcde953\\nGoal: cooking general\\nSpatial_context: {'room1': [{'entity': {'type': 'avatar', 'name': 'player', 'status': 'stand'}, 'relation': 'has', 'target': {'type': 'item', 'id': 2, 'name': 'spice', 'status': 'default'}}, {'entity': {'type': 'item', 'id': 1, 'name': 'table', 'status': 'default'}, 'relation': 'has', 'target': {'type': 'item', 'id': 4, 'name': 'oven tray', 'status': 'default'}}, {'entity': {'type': 'item', 'id': 1, 'name': 'table', 'status': 'default'}, 'relation': 'has', 'target': {'type': 'item', 'id': 3, 'name': 'Fish Fillet', 'status': 'default'}}, {'type': 'item', 'id': 5, 'name': 'trash can', 'status': 'default'}, {'entity': {'type': 'item', 'id': 1, 'name': 'table', 'status': 'default'}, 'relation': 'has', 'target': {'type': 'item', 'id': 6, 'name': 'Guacamole', 'status': 'default'}}, {'entity': {'type': 'item', 'id': 1, 'name': 'table', 'status': 'default'}, 'relation': 'has', 'target': {'type': 'item', 'id': 7, 'name': 'Spoon', 'status': 'default'}}, {'entity': {'type': 'item', 'id': 1, 'name': 'table', 'status': 'default'}, 'relation': 'has', 'target': {'type': 'item', 'id': 8, 'name': 'Spicy', 'status': 'default'}}, {'type': 'item', 'id': 9, 'name': 'oven', 'status': 'default'}, {'entity': {'type': 'item', 'id': 1, 'name': 'table', 'status': 'default'}, 'relation': 'has', 'target': {'type': 'item', 'id': 10, 'name': 'lemon', 'status': 'sliced'}}, {'entity': {'type': 'item', 'id': 1, 'name': 'table', 'status': 'default'}, 'relation': 'has', 'target': {'type': 'item', 'id': 11, 'name': 'broccoli', 'status': 'sliced'}}, {'entity': {'entity': {'type': 'item', 'id': 12, 'name': 'gas stove', 'status': 'heating'}, 'relation': 'change', 'target': {'type': 'item', 'id': 13, 'name': 'pot', 'status': 'contain water'}}, 'relation': 'has', 'target': {'type': 'item', 'id': 14, 'name': 'potato', 'status': 'default'}}, {'entity': {'type': 'item', 'id': 1, 'name': 'table', 'status': 'default'}, 'relation': 'has', 'target': {'type': 'item', 'id': 15, 'name': 'phone', 'status': 'on'}}], 'room2': []}\")]\n",
      "No match: goalstep parent\n",
      "No match: spatial parent\n"
     ]
    }
   ],
   "source": [
    "import query\n",
    "\n",
    "# DEF (Retriever) & (Database Query)\n",
    "goalstep_retriever = goalstep_vector_store.as_retriever()\n",
    "spatial_retriever = spatial_vector_store.as_retriever()\n",
    "database_query = query.return_source_database_query(input_goalstep_segments, input_spatial_context) \n",
    "\n",
    "# GET search result\n",
    "retrieved_goalstep = goalstep_retriever.get_relevant_documents(database_query)\n",
    "retrieved_spatial = spatial_retriever.get_relevant_documents(database_query)\n",
    "print(f\"{retrieved_goalstep} \\n {retrieved_spatial}\")\n",
    "\n",
    "\n",
    "\n",
    "## TODO: FIX parent document search\n",
    "# DEF metafilter for parent document retrieval\n",
    "goalstep_metafilter = {\"level\": 1, \"parent_id\": 10}\n",
    "spatial_metafilter = {\"level\": 1, \"parent_id\": 10}\n",
    "\n",
    "# GET parent documents\n",
    "retrieved_goalstep_parent_documents = []\n",
    "try:\n",
    "    goalstep_search_results = goalstep_vector_store.similarity_search_with_score(\n",
    "        query=\"\",\n",
    "        filter=goalstep_metafilter\n",
    "    )\n",
    "\n",
    "    if not goalstep_search_results:\n",
    "        print(\"No match: goalstep parent\")\n",
    "        goalstep_search_results = []  # Ensure results is a null (empty) array\n",
    "    else:\n",
    "        for result, score in goalstep_search_results:\n",
    "            retrieved_goalstep_parent_documents = result\n",
    "except Exception as e:\n",
    "    print(f\"Error : goaistep parent search: {e}\")\n",
    "    goalstep_search_results = []  # Ensure results is a null (empty) array\n",
    "\n",
    "# TODO: spatial context only has initial spatial layout. Maybe we should not search this extensively.\n",
    "retrieved_spatial_parent_documents = []\n",
    "try:\n",
    "    spatial_search_results = spatial_vector_store.similarity_search_with_score(\n",
    "        query=\"\",\n",
    "        filter=spatial_metafilter\n",
    "    )\n",
    "\n",
    "    if not spatial_search_results:\n",
    "        print(\"No match: spatial parent\")\n",
    "        spatial_search_results = []  # Ensure results is a null (empty) array    \n",
    "    else:\n",
    "        for result, score in spatial_search_results:\n",
    "            retrieved_spatial_parent_documents = result        \n",
    "except Exception as e:\n",
    "    print(f\"Error: spatial parent search: {e}\")\n",
    "    spatial_search_results = []  # Ensure results is a null (empty) array\n"
   ]
  },
  {
   "cell_type": "markdown",
   "metadata": {},
   "source": [
    "### 4. Prompt > LLM (WIP)"
   ]
  },
  {
   "cell_type": "markdown",
   "metadata": {},
   "source": []
  },
  {
   "cell_type": "code",
   "execution_count": null,
   "metadata": {},
   "outputs": [
    {
     "name": "stdout",
     "output_type": "stream",
     "text": [
      "\"Serve dish\"\n"
     ]
    }
   ],
   "source": [
    "from dotenv import load_dotenv\n",
    "from langchain_openai.chat_models import ChatOpenAI\n",
    "\n",
    "import prompt_source as promptSource\n",
    "from langchain_core.output_parsers import StrOutputParser\n",
    "from langchain.output_parsers import ResponseSchema, StructuredOutputParser\n",
    "\n",
    "from langchain.prompts import ChatPromptTemplate\n",
    "from langchain.prompts import PromptTemplate\n",
    "\n",
    "from langchain.chains import LLMChain\n",
    "import logging\n",
    "\n",
    "# SET logging to ERROR level to suppress INFO or DEBUG messages\n",
    "logging.basicConfig(level=logging.ERROR)\n",
    "\n",
    "# DEF (LLM MODEL) & (PARSER)\n",
    "load_dotenv()\n",
    "openai.api_key = os.getenv(\"OPENAI_API_KEY\")\n",
    "model1 = ChatOpenAI(openai_api_key=openai.api_key, model=\"gpt-3.5-turbo\")\n",
    "parser1 = StrOutputParser()\n",
    "# parser = StructuredOutputParser.from_response_schemas([\n",
    "#     ResponseSchema(name=\"answer\", description=\"The answer to the question\")\n",
    "# ])\n",
    "\n",
    "# DEF PROMPT, CHAIN\n",
    "prompt1 = PromptTemplate.from_template(promptSource.template1)\n",
    "chain1 = prompt1 | model1 | parser1\n",
    "\n",
    "# DEF INPUT\n",
    "inputs1 = {\n",
    "    \"role\":'you are a helpful assisant that predicts the goal of the user inside a scene. You are given the actions of the user and the initial spatial layout of the scene.',\n",
    "    \"question\": 'A person performs a sequence of actions. What is the goal of the current user? Answer in one verb and a noun pair. surround the verb and a noun pair with \"\". Make the noun as specific as possible',\n",
    "    \"action_sequence\": input_goalstep_segments,\n",
    "    \"spatial_layout\": input_spatial_context,\n",
    "    \"relevant_actions\": retrieved_goalstep,\n",
    "    \"relevant_space\": retrieved_spatial\n",
    "}\n",
    "\n",
    "# INVOKE chain\n",
    "response1 = chain1.invoke(inputs1)\n",
    "print(response1)"
   ]
  },
  {
   "cell_type": "markdown",
   "metadata": {},
   "source": [
    "### 5. Process Predicted Goals and Compute Distance ()"
   ]
  },
  {
   "cell_type": "code",
   "execution_count": null,
   "metadata": {},
   "outputs": [],
   "source": [
    "sys.path.append(os.path.abspath('/root/project')) # add root path to sys.path for external package\n",
    "from util import metrics\n",
    "metrics.printtest()\n",
    "\n",
    "# TODO: Extract Goal=Activity of the test video\n",
    "\n",
    "# Distance Metric is used using Bert Score\n"
   ]
  },
  {
   "cell_type": "markdown",
   "metadata": {},
   "source": [
    "### 6. Activity Transfer Module"
   ]
  },
  {
   "cell_type": "code",
   "execution_count": null,
   "metadata": {},
   "outputs": [],
   "source": [
    "print(\"transfer activity\")\n",
    "\n",
    "# input (source-spatial context)\n",
    "# input (target-spatial context)\n",
    "\n",
    "# compare distance between the two spaces and determine whether spatial-transfer is necessary?\n",
    "\n",
    "# query from database\n",
    "# make prompt and chain and invoke\n",
    "\n",
    "# output (same, or transferred) activity\n",
    "\n",
    "\n",
    "\n"
   ]
  },
  {
   "cell_type": "markdown",
   "metadata": {},
   "source": [
    "### 7. Action Sequence Prediction"
   ]
  },
  {
   "cell_type": "code",
   "execution_count": null,
   "metadata": {},
   "outputs": [],
   "source": [
    "print(\"predict action sequence\")\n",
    "# input (target-spatial context)\n",
    "# input (target-sequence)\n",
    "\n",
    "# query from database\n",
    "# make prompt and chain and invoke\n",
    "\n",
    "# output (action sequence)"
   ]
  },
  {
   "cell_type": "markdown",
   "metadata": {},
   "source": [
    "### 8. Evalutate Action Sequence Results"
   ]
  },
  {
   "cell_type": "code",
   "execution_count": null,
   "metadata": {},
   "outputs": [],
   "source": [
    "print(\"evaluate Action sequence\")\n",
    "\n",
    "\n"
   ]
  },
  {
   "cell_type": "markdown",
   "metadata": {},
   "source": [
    "### 9. ETC - DELETE WHEN NOT NEEDED"
   ]
  },
  {
   "cell_type": "code",
   "execution_count": null,
   "metadata": {},
   "outputs": [],
   "source": [
    "import input_source\n",
    "import input_target\n",
    "import prompt_target\n",
    "\n",
    "# target space input\n",
    "source_goalstep_segments = input_goalstep_segments\n",
    "source_spatial_context = input_spatial_context\n",
    "\n",
    "target_video = []\n",
    "target_spatial_context = input_source.extract_spatial_context(target_video)\n",
    "\n",
    "# make target query & retrieve\n",
    "input_query = query.return_target_input_query(source_goalstep_segments, source_spatial_context, target_spatial_context)\n",
    "retrieved_goalstep = goalstep_retriever.get_relevant_documents(input_query)\n",
    "retrieved_spatial = spatial_retriever.get_relevant_documents(input_query)\n",
    "\n",
    "# Retrieve documents' parent documents for goalstep annotation\n",
    "\n",
    "\n",
    "# Concat the retrieved results\n",
    "\n",
    "\n",
    "# define prompt\n",
    "prompt2 = ChatPromptTemplate.from_template(promptSource.template_source)\n",
    "prompt2.format(context=promptSource.context, question=promptSource.question, rules = promptSource.rules)\n",
    "\n",
    "# Define chain\n",
    "parser1 = StrOutputParser()\n",
    "chain2 = prompt2 | model1 | parser1 \n",
    "\n",
    "# Get Respone\n",
    "response2 = chain2.invoke()\n",
    "\n",
    "\n",
    "\n",
    "\n",
    "\n",
    "# # chain can incorpoate other chains\n",
    "# chain_action = (\n",
    "#     {\"source_spatial_context\": itemgetter(source_spatial_context), \"goalstep\": chain1, \"target_spatial_context\": itemgetter(target_spatial_context)} | prompt_action | model | parser\n",
    "# )\n",
    "from dotenv import load_dotenv\n",
    "from langchain_openai.chat_models import ChatOpenAI\n",
    "\n",
    "import prompt_source as promptSource\n",
    "from langchain_core.output_parsers import StrOutputParser\n",
    "from langchain.prompts import ChatPromptTemplate\n",
    "\n",
    "\n",
    "# define llm\n",
    "load_dotenv()\n",
    "openai.api_key = os.getenv(\"OPENAI_API_KEY\")\n",
    "model1 = ChatOpenAI(openai_api_key=openai.api_key, model=\"gpt-3.5-turbo\")\n",
    "\n",
    "# define prompt\n",
    "prompt1 = ChatPromptTemplate.from_template(promptSource.template_source)\n",
    "prompt1.format(context=promptSource.context, question=promptSource.question, rules = promptSource.rules)\n",
    "\n",
    "# Define chain\n",
    "parser1 = StrOutputParser()\n",
    "chain1 = prompt1 | model1 | parser1 \n",
    "\n",
    "# Get Respone\n",
    "response1 = chain1.invoke()"
   ]
  }
 ],
 "metadata": {
  "kernelspec": {
   "display_name": "Python 3",
   "language": "python",
   "name": "python3"
  },
  "language_info": {
   "codemirror_mode": {
    "name": "ipython",
    "version": 3
   },
   "file_extension": ".py",
   "mimetype": "text/x-python",
   "name": "python",
   "nbconvert_exporter": "python",
   "pygments_lexer": "ipython3",
   "version": "3.10.12"
  }
 },
 "nbformat": 4,
 "nbformat_minor": 2
}
