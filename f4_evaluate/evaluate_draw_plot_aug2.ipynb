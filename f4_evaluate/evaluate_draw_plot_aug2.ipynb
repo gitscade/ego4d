{
 "cells": [
  {
   "cell_type": "markdown",
   "id": "325a1267",
   "metadata": {},
   "source": [
    "# Evaluate Plots V2\n",
    "\n",
    "test pair에 대한 iteration을 수행한다.\n",
    "\n",
    "1. pickle을 통해서 모든 아이템을 다 읽는다.\n",
    "2. 현재 source sequence를 읽는다.\n",
    "3. scene similarity를 읽는다.\n",
    "- mistral로 계산한 inclusion ratio\n",
    "- 직접 계산한 entity similarity\n",
    "\n",
    "4. action sequence similarity를 계산한다.\n",
    "- agent4 필터 통과와 상관없이 플롯\n",
    "- agent4 필터를 통과하면 플롯\n",
    "\n",
    "5. activity taxnomy similarity를 계산한다.\n",
    "- agent4 필터 통과와 상관없이 플롯\n",
    "- agent4 필터를 통과하면 플롯\n",
    "\n",
    "\n",
    "다음의 pandas colum을 구성한다. (568x13 정도 되나?)\n",
    "\n",
    "없는 곳은 None표시를 한다.\n",
    "\n",
    "source idx, target idx, \n",
    "augmentation_id, inclusion_ratio, entity_similarity\n",
    "goal_category, goal_description\n",
    "core activity_gt, core activity_inf\n",
    "sequence sim, taxonomy sim\n",
    "sequence bool, taxonomy bool"
   ]
  },
  {
   "cell_type": "code",
   "execution_count": 15,
   "id": "c38f736f",
   "metadata": {},
   "outputs": [
    {
     "name": "stderr",
     "output_type": "stream",
     "text": [
      "/usr/local/lib/python3.10/dist-packages/tslearn/bases/bases.py:15: UserWarning: h5py not installed, hdf5 features will not be supported.\n",
      "Install h5py to use hdf5 features: http://docs.h5py.org/\n",
      "  warn(h5py_msg)\n"
     ]
    },
    {
     "name": "stdout",
     "output_type": "stream",
     "text": [
      "/root/project/data/ego4d_annotation/goalstep/\n",
      "all: goalstep vids: 717\n",
      "all: spatial vids: 211\n",
      "dbinit: testuid excluded: goalstep vids: 646\n",
      "dbinit: testuid excluded: spatial vids: 140\n",
      "dbinit: testuid list: test goalstep vids: 71\n",
      "dbinit: testuid list: test spatial vids: 71\n",
      "dbinit: MAKE_DOCU: goalstep_document_list: 38613\n",
      "dbinit: MAKE_DOCU: goalstep_document_list: 1366\n",
      "dbinit: MAKE_DOCU: spatial_document_list: 1243\n",
      "dbinit: MAKE_DOCUAKE: spatial_document_list: 752\n",
      "LOAD FAISS GOALSTEP: /root/project/data/ego4d_annotation/goalstep_docarray_faiss\n",
      "LOAD FAISS SPATIAL: /root/project/data/ego4d_annotation/spatial_docarray_faiss\n"
     ]
    }
   ],
   "source": [
    "# %matplotlib qt\n",
    "import sys\n",
    "import os\n",
    "import numpy as np\n",
    "import json\n",
    "import torch\n",
    "import matplotlib.pyplot as plt\n",
    "import mplcursors\n",
    "from sklearn.manifold import TSNE\n",
    "from sentence_transformers import SentenceTransformer\n",
    "from fastdtw import fastdtw\n",
    "from scipy.spatial.distance import cosine\n",
    "from bert_score import score\n",
    "import pickle\n",
    "\n",
    "#soft dtw\n",
    "import torch\n",
    "from tslearn.metrics import soft_dtw\n",
    "\n",
    "sys.path.append(os.path.abspath('/root/project')) # add root path to sys.path\n",
    "sys.path.append(os.path.abspath('/usr/local/lib/python3.10/dist-packages'))\n",
    "from util import util_constants\n",
    "from util import util_funcs\n",
    "import f4_evaluate.evaluate_scene as evaluate_scene\n",
    "import f1_init.database_init as database_init\n",
    "import f1_init.agent_init as agent_init\n",
    "import f1_init.constants_init as constants_init\n",
    "\n",
    "#Computing similarity\n",
    "import json\n",
    "from sentence_transformers import SentenceTransformer\n",
    "from bert_score import score\n",
    "import numpy as np\n",
    "from numpy.linalg import norm\n",
    "import ast\n",
    "import pandas as pd\n",
    "\n",
    "#PATHS\n",
    "PATH_CURR_FOLDER = os.path.abspath('') \n",
    "PATH_DATA_ANNOTATION = os.path.abspath(os.path.join(PATH_CURR_FOLDER, '..', 'data_annotation'))\n",
    "PATH_DATA_INPUT_OUTPUT = os.path.abspath(os.path.join(PATH_CURR_FOLDER, '..', 'data_input_output'))\n",
    "PATH_SOURCE_TARGET_INPUT = os.path.abspath(os.path.join(PATH_CURR_FOLDER, '..', 'data_input_output/input/source_target_video_list.pkl'))\n",
    "TEST_SPATIAL_ANNOTATION_PATH_MANUAL = PATH_DATA_ANNOTATION + '/spatial_testset/manual'\n",
    "\n",
    "# #PAIRSIM DATA#NOT USED\n",
    "# PATH_PAIRSIM = PATH_DATA_ANNOTATION + '/spatial_pairsim_result'\n",
    "\n",
    "# #AUGMENTED DATA PATH#NOT USED\n",
    "# TEST_SPATIAL_ANNOTATION_PATH_SEMI = PATH_DATA_ANNOTATION + '/spatial_testset/semi'    \n",
    "# #NOT USED\n",
    "# TEST_SPATIAL_ANNOTATION_V2_PATH = PATH_DATA_ANNOTATION + '/spatial_augmentation/TESTSET_Augmented_Data_v2/'\n",
    "\n",
    "#BASELINE RESULT PATHS for v5\n",
    "# PATH_BASELINE_RAG = os.path.abspath(os.path.join(PATH_CURR_FOLDER, '..', 'data_input_output/output-rag-0530-runall-newratio/'))\n",
    "# PATH_BASELINE_NORAG = os.path.abspath(os.path.join(PATH_CURR_FOLDER, '..', 'data_input_output/output-norag-0530-runall-newratio/'))\n",
    "# PATH_BASELINE_1DIRECT = os.path.abspath(os.path.join(PATH_CURR_FOLDER, '..', 'data_input_output/output-1direct-0530-runall-newratio/'))\n",
    "# PATH_BASELINE_1GOALMEDIATION = os.path.abspath(os.path.join(PATH_CURR_FOLDER, '..', 'data_input_output/output-1goalmediation-0530-runall-newratio/'))\n",
    "\n",
    "#BASELINE FROM v6\n",
    "PATH_BASELINE_RAG = os.path.abspath(os.path.join(PATH_CURR_FOLDER, '..', 'data_input_output/output-rag-0602/'))\n",
    "PATH_BASELINE_NORAG = os.path.abspath(os.path.join(PATH_CURR_FOLDER, '..', 'data_input_output/output-norag-0602/'))\n",
    "PATH_BASELINE_RAGGOAL = os.path.abspath(os.path.join(PATH_CURR_FOLDER, '..', 'data_input_output/output-1goalmediation-0602/'))\n",
    "PATH_BASELINE_NORAGGOAL = os.path.abspath(os.path.join(PATH_CURR_FOLDER, '..', 'data_input_output/output-1goalmediation-norag-0602/'))\n"
   ]
  },
  {
   "cell_type": "code",
   "execution_count": 16,
   "id": "1d59639f",
   "metadata": {},
   "outputs": [],
   "source": [
    "def load_file(path):\n",
    "    try:          \n",
    "         with open(path, \"rb\") as f:\n",
    "             data = pickle.load(f)\n",
    "             return data\n",
    "    except:\n",
    "         return None\n",
    "    \n",
    "def check_file(path):\n",
    "    try:\n",
    "        with open(path, \"rb\") as f:\n",
    "            pickle.load(f)  # try loading to ensure file is not empty or corrupted\n",
    "        return True\n",
    "    except (EOFError, FileNotFoundError, PermissionError, IsADirectoryError, pickle.UnpicklingError):\n",
    "        return False\n",
    "\n",
    "\n",
    "def normalize_to_string(value):\n",
    "    '''\n",
    "    used so to cope with value from a dictionary that happens to be inside a list bracket    \n",
    "    '''\n",
    "    # If it's a list and the first element is a string, return that\n",
    "    if isinstance(value, list) and len(value) > 0 and isinstance(value[0], str):\n",
    "        return value[0]\n",
    "    # If it's already a string, return it\n",
    "    elif isinstance(value, str):\n",
    "        return value\n",
    "    # Fallback for anything else\n",
    "    else:\n",
    "        return str(value)\n",
    "    \n",
    "\n",
    "#=====================================\n",
    "# SIMILARITIES v1 SINGLE STRING SBERT MODEL\n",
    "#=====================================\n",
    "def cosine_similarity(vec1, vec2):\n",
    "    vec1 = np.array(vec1)\n",
    "    vec2 = np.array(vec2)\n",
    "    if norm(vec1) == 0 or norm(vec2) == 0:\n",
    "        return 0.0\n",
    "    return np.dot(vec1, vec2) / (norm(vec1) * norm(vec2))\n",
    "\n",
    "def safe_parse_sequence(seq):\n",
    "    if seq is None:\n",
    "        return []\n",
    "    if isinstance(seq, list):\n",
    "        return seq\n",
    "    try:\n",
    "        return ast.literal_eval(seq)\n",
    "    except (ValueError, SyntaxError):\n",
    "        print(\"taxonomy safe parse value error\")\n",
    "        return []\n",
    "\n",
    "def safe_parse_taxonomy(tax):\n",
    "    if tax is None:\n",
    "        return {}\n",
    "    if isinstance(tax, dict):\n",
    "        return tax\n",
    "    try:\n",
    "        return json.loads(tax)\n",
    "    except (json.JSONDecodeError, TypeError):\n",
    "        return {}\n",
    "\n",
    "def compute_similarities(entry, embed_model):\n",
    "    # --- Parse sequences ---\n",
    "    source_seq = safe_parse_sequence(entry.get('source_sequence'))\n",
    "    target_seq = safe_parse_sequence(entry.get('target_sequence'))\n",
    "\n",
    "    if not source_seq or not target_seq:\n",
    "        seq_similarity = 0.0\n",
    "    else:\n",
    "        source_seq_str = ' '.join(source_seq)\n",
    "        target_seq_str = ' '.join(target_seq)\n",
    "        source_seq_emb = embed_model.encode(source_seq_str)\n",
    "        target_seq_emb = embed_model.encode(target_seq_str)\n",
    "        seq_similarity = cosine_similarity(source_seq_emb, target_seq_emb)\n",
    "\n",
    "    # --- Parse taxonomies ---\n",
    "    source_tax = safe_parse_taxonomy(entry.get('source_taxonomy'))\n",
    "    target_tax = safe_parse_taxonomy(entry.get('target_taxonomy'))\n",
    "\n",
    "    if not source_tax or not target_tax:\n",
    "        tax_similarity = 0.0\n",
    "    else:\n",
    "        source_tax_str = ' '.join(f\"{k}: {v}\" for k, v in source_tax.items())\n",
    "        target_tax_str = ' '.join(f\"{k}: {v}\" for k, v in target_tax.items())\n",
    "        source_tax_emb = embed_model.encode(source_tax_str)\n",
    "        target_tax_emb = embed_model.encode(target_tax_str)\n",
    "        tax_similarity = cosine_similarity(source_tax_emb, target_tax_emb)\n",
    "\n",
    "    return seq_similarity, tax_similarity\n",
    "\n",
    "#=====================================\n",
    "# SIMILARITIES v2 WEIGHTED LINEAR TAXONOMY SEMANTICS MODEL\n",
    "# weight by level\n",
    "# Compare only values\n",
    "#=====================================\n",
    "def compute_weighted_tax_similarity(entry, embed_model):\n",
    "    '''\n",
    "    func: calculate weighted taxonomy for values only\n",
    "    input: entry: dict element of baseline results\n",
    "    input: embed_model: stuff like sbert of openaiembedding\n",
    "    w = [0.5,0.2,0.1,0.1,0.1]\n",
    "    no source or target: return 0\n",
    "    source empty for 0th level: return 0\n",
    "    1 empty/impossible for both in non-0th: consider as +1.0*w[i]\n",
    "    2 one empty/impossible: +0.0*w[i]\n",
    "    3 +sim(val_source, val_target)*w[i]\n",
    "    return \n",
    "    '''\n",
    "    weighted_tax_similarity = 0\n",
    "    weights = [0.5, 0.2, 0.1, 0.1, 0.1]\n",
    "    source_tax = safe_parse_taxonomy(entry.get('source_taxonomy'))\n",
    "    target_tax = safe_parse_taxonomy(entry.get('target_taxonomy'))\n",
    "\n",
    "    if not source_tax or not target_tax:\n",
    "        weighted_tax_similarity = 0.0\n",
    "        print(f\"No files: entry: {entry}\")\n",
    "        return weighted_tax_similarity\n",
    "    else:\n",
    "        source_items = list(source_tax.items())\n",
    "        target_items = list(target_tax.items())\n",
    "        weighted_tax_similarity = 0\n",
    "\n",
    "        for i in range(len(source_items)):\n",
    "\n",
    "            if len(source_items) != 5:\n",
    "                print(f\"items {len(source_items)} {len(target_items)}\")\n",
    "                weighted_tax_similarity = 0.0\n",
    "                return weighted_tax_similarity\n",
    "            \n",
    "            source_key, source_value = source_items[i]\n",
    "            target_key, target_value = target_items[i]\n",
    "            source_value = normalize_to_string(source_value)\n",
    "            target_value = normalize_to_string(target_value)\n",
    "\n",
    "            # set impossible to empty\n",
    "            if source_value ==\"impossible\":\n",
    "                source_value = \"empty\"\n",
    "            if target_value == \"impossible\":\n",
    "                target_value = \"empty\"\n",
    "\n",
    "\n",
    "            # source is empty for most upper ZERO similarity\n",
    "            if i == 0 and source_value == \"empty\":\n",
    "                weighted_tax_similarity = 0.0\n",
    "                print(f\"0th level empty: entry: {entry}\")\n",
    "                return weighted_tax_similarity\n",
    "            \n",
    "            # source is there but target has value\n",
    "            if source_value != \"empty\" and target_value == \"empty\":\n",
    "                weighted_tax_similarity += 0.0\n",
    "            elif source_value == \"empty\" and target_value != \"empty\":\n",
    "                weighted_tax_similarity += 0.0\n",
    "            elif source_value == \"empty\" and target_value == \"empty\":\n",
    "                weighted_tax_similarity += weights[i]\n",
    "            else:\n",
    "                print(f\"{i}th level: {source_value} {target_value}\")\n",
    "                source_value_emb = embed_model.encode(source_value)\n",
    "                target_value_emb = embed_model.encode(target_value)\n",
    "                weighted_tax_similarity += weights[i] * cosine_similarity(source_value_emb, target_value_emb)\n",
    "\n",
    "    return weighted_tax_similarity\n",
    "\n",
    "def compute_dtw_seq_similarity(entry, embed_model):\n",
    "    '''\n",
    "    compute dynamic time warping similarity between two sequences\n",
    "    '''\n",
    "    seq_similarity =[]\n",
    "    source_seq = safe_parse_sequence(entry.get('source_sequence'))\n",
    "    target_seq = safe_parse_sequence(entry.get('target_sequence'))\n",
    "\n",
    "    if not source_seq or not target_seq:\n",
    "        seq_similarity = 0.0\n",
    "    else:\n",
    "        # Get embeddings for each step in both sequences\n",
    "        emb1 = embed_model.encode(source_seq)\n",
    "        emb2 = embed_model.encode(target_seq)\n",
    "        distance, path = fastdtw(emb1, emb2, dist=cosine)\n",
    "        # Normalize distance to similarity (lower distance = higher similarity)\n",
    "        # Optional: convert to similarity score in [0, 1] range\n",
    "        max_possible_distance = len(path)  # worst case = all pairs unrelated\n",
    "        seq_similarity = 1 - (distance / max_possible_distance)\n",
    "\n",
    "    return seq_similarity\n",
    "\n",
    "\n",
    "def compute_soft_dtw(entry, embed_model):\n",
    "    '''\n",
    "    compute dynamic time warping similarity between two sequences\n",
    "    '''\n",
    "    seq_similarity =[]\n",
    "    source_seq = safe_parse_sequence(entry.get('source_sequence'))\n",
    "    target_seq = safe_parse_sequence(entry.get('target_sequence'))  \n",
    "\n",
    "    if not source_seq or not target_seq:\n",
    "        seq_similarity = 0.0\n",
    "    else:\n",
    "        # Get embeddings for each step in both sequences\n",
    "        emb1 = embed_model.encode(source_seq)\n",
    "        emb2 = embed_model.encode(target_seq)\n",
    "        distance, path = fastdtw(emb1, emb2, dist=cosine)\n",
    "        # Normalize distance to similarity (lower distance = higher similarity)\n",
    "        # Optional: convert to similarity score in [0, 1] range\n",
    "        max_possible_distance = len(path)  # worst case = all pairs unrelated\n",
    "        seq_similarity = 1 - (distance / max_possible_distance)\n",
    "\n",
    "    return seq_similarity\n",
    "\n",
    "#=====================================\n",
    "# SIMILARITIES v3 WEIGHTED SIMILARITY & GED MODEL\n",
    "# COMPLETELY DIFFERENT WEIGHT FOR insertion, deletion of nodes\n",
    "# \n",
    "#=====================================\n"
   ]
  },
  {
   "cell_type": "markdown",
   "id": "6d12e164",
   "metadata": {},
   "source": [
    "## Read Results\n",
    "\n",
    "read a list of 568 pickle sets in 8 elements for 8 levels in augmentation\n",
    "\n",
    "\n",
    "\n",
    "make dictionary\n",
    "-fill every information\n",
    "-fill every calculatable information\n",
    "-save as df"
   ]
  },
  {
   "cell_type": "code",
   "execution_count": 17,
   "id": "cdf074b6",
   "metadata": {},
   "outputs": [],
   "source": [
    "\n",
    "source_list = [] # [0,0,0,0,1,1,1,1,...,283] -> [0,1,2,3,..71,0,1,2,3,4..71,...71]\n",
    "target_list = [] # [augno_0: 55, aug33_0: 33,aug67_0: 28,aug100_0: 22,...] -> [55,26,22,...]\n",
    "# baselines = [\"rag\",\"norag\",\"1direct\",\"1goalmediation\"] #until v5\n",
    "baselines = [\"rag\",\"norag\",\"raggoal\",\"noraggoal\"]#from v6\n",
    "sbert_model = SentenceTransformer('all-MiniLM-L6-v2')\n",
    "\n",
    "def df_inclusion_ratio(baseline_result_path:str, baseline:str):\n",
    "    dict_list=[]\n",
    "    augmodes = [33.3, 66.6, 100]#from v6\n",
    "    length = 71 * len(augmodes) #8levels, 8files    \n",
    "    for i in range(length):\n",
    "        dict = {\"inclusion_ratio\":None}\n",
    "        prefix = f\"pair{i}_\" \n",
    "        sourceinfo_dict = load_file(baseline_result_path + \"/\" + prefix + \"sourceinfo.pkl\")  \n",
    "        dict['inclusion_ratio'] = sourceinfo_dict['spatial_similarity']\n",
    "        dict_list.append(dict)\n",
    "    return pd.DataFrame(dict_list)   \n",
    "\n",
    "def check_missing_index(baseline_result_path:str, baseline:str):\n",
    "    '''\n",
    "    func: return list of missing index for earlier agent set.\n",
    "    output: dict_list of {idx:int, agent:\"agent_name\"} that if missing\n",
    "    '''\n",
    "    dict_list =[]\n",
    "    # augmodes = [30, 40, 50, 60, 70, 80, 90, 100]#until v5\n",
    "    augmodes = [33.3, 66.6, 100]#from v6\n",
    "    length = 71 * len(augmodes) #8levels, 8files    \n",
    "\n",
    "    # daseline different loadout \n",
    "    for i in range(length):\n",
    "        prefix = f\"pair{i}_\" \n",
    "        path_source = baseline_result_path +\"/\"+ prefix + \"sourceinfo.pkl\"\n",
    "        path_target = baseline_result_path +\"/\"+ prefix + \"targetinfo.pkl\"\n",
    "        path_agent1a = baseline_result_path +\"/\"+ prefix + \"agent1a.pkl\"\n",
    "        path_agent1b = baseline_result_path +\"/\"+ prefix + \"agent1b.pkl\"\n",
    "        path_agent2a = baseline_result_path +\"/\"+ prefix + \"agent2a.pkl\"\n",
    "        path_agent2b = baseline_result_path +\"/\"+ prefix + \"agent2b.pkl\"\n",
    "        path_agent3 = baseline_result_path +\"/\"+ prefix + \"agent3.pkl\"\n",
    "        path_agent4 = baseline_result_path +\"/\"+ prefix + \"agent4.pkl\"        \n",
    "        if baseline == \"1direct\":\n",
    "            if not check_file(path_source):\n",
    "                dict_list.append({\"idx\": i, \"agent\": \"sourceinfo\"})\n",
    "                continue\n",
    "            if not check_file(path_target):\n",
    "                dict_list.append({\"idx\": i, \"agent\": \"targetinfo\"})\n",
    "                continue         \n",
    "            if not check_file(path_agent3):\n",
    "                dict_list.append({\"idx\": i, \"agent\": \"agent3\"})\n",
    "                continue                \n",
    "            # if not check_file(path_agent4):\n",
    "            #     dict_list.append({\"idx\": i, \"agent\": \"agent4\"})\n",
    "            #     continue                \n",
    "           \n",
    "        if baseline == \"1goalmediation\":\n",
    "            if not check_file(path_source):\n",
    "                dict_list.append({\"idx\": i, \"agent\": \"sourceinfo\"})\n",
    "                continue\n",
    "            if not check_file(path_target):\n",
    "                dict_list.append({\"idx\": i, \"agent\": \"targetinfo\"})\n",
    "                continue\n",
    "            if not check_file(path_agent1a):\n",
    "                dict_list.append({\"idx\": i, \"agent\": \"agent1a\"})\n",
    "                continue               \n",
    "            if not check_file(path_agent3):\n",
    "                dict_list.append({\"idx\": i, \"agent\": \"agent3\"})\n",
    "                continue               \n",
    "            if not check_file(path_agent4):\n",
    "                dict_list.append({\"idx\": i, \"agent\": \"agent4\"})\n",
    "                continue                  \n",
    "\n",
    "        if baseline == \"raggoal\" or baseline == \"noraggoal\" :\n",
    "            if not check_file(path_source):\n",
    "                dict_list.append({\"idx\": i, \"agent\": \"sourceinfo\"})\n",
    "                continue\n",
    "            if not check_file(path_target):\n",
    "                dict_list.append({\"idx\": i, \"agent\": \"targetinfo\"})\n",
    "                continue\n",
    "            if not check_file(path_agent1a):\n",
    "                dict_list.append({\"idx\": i, \"agent\": \"agent1a\"})\n",
    "                continue               \n",
    "            if not check_file(path_agent3):\n",
    "                dict_list.append({\"idx\": i, \"agent\": \"agent3\"})\n",
    "                continue               \n",
    "            if not check_file(path_agent4):\n",
    "                dict_list.append({\"idx\": i, \"agent\": \"agent4\"})\n",
    "                continue   \n",
    "\n",
    "        elif baseline == \"rag\" or baseline ==\"norag\":\n",
    "            if not check_file(path_source):\n",
    "                dict_list.append({\"idx\": i, \"agent\": \"sourceinfo\"})\n",
    "                continue\n",
    "            if not check_file(path_target):\n",
    "                dict_list.append({\"idx\": i, \"agent\": \"targetinfo\"})\n",
    "                continue\n",
    "            if not check_file(path_agent1a):\n",
    "                dict_list.append({\"idx\": i, \"agent\": \"agent1a\"})\n",
    "                continue       \n",
    "            if not check_file(path_agent1b):\n",
    "                dict_list.append({\"idx\": i, \"agent\": \"agent1b\"})\n",
    "                continue             \n",
    "            if not check_file(path_agent2a):\n",
    "                dict_list.append({\"idx\": i, \"agent\": \"agent2a\"})\n",
    "                continue          \n",
    "            if not check_file(path_agent2b):\n",
    "                dict_list.append({\"idx\": i, \"agent\": \"agent2b\"})\n",
    "                continue        \n",
    "            if not check_file(path_agent3):\n",
    "                dict_list.append({\"idx\": i, \"agent\": \"agent3\"})\n",
    "                continue                                    \n",
    "            if not check_file(path_agent4):\n",
    "                dict_list.append({\"idx\": i, \"agent\": \"agent4\"})\n",
    "                continue               \n",
    "\n",
    "    return dict_list                                  \n",
    "\n",
    "def make_singlebaseline_list(baseline_result_path:str, baseline:str):\n",
    "    '''\n",
    "    func: make single baseline list\n",
    "    '''\n",
    "    baseline_result_path = baseline_result_path + \"/\"\n",
    "    baseline_results = []\n",
    "    # augmodes = [30, 40, 50, 60, 70, 80, 90, 100]#until v5\n",
    "    augmodes = [33.3, 66.6, 100]#from v6\n",
    "    length = 71 * len(augmodes) #8levels, 8files    \n",
    "\n",
    "    \n",
    "    for i in range(length):\n",
    "    # for i in range(568):\n",
    "        print(i)\n",
    "        dict = {\n",
    "            \"idx\":None,\"source_idx\":None, \"target_idx\":None, \"source_uid\": None, \"target_uid\": None, \"baseline\": None, \"augmode\": None, \n",
    "            \"source_sequence\": None, \"source_scene_graph\": None, \"target_scene_graph\": None, \n",
    "            \"inclusion_ratio\":None, #\"pairwise_similarity\": None,\n",
    "            #\"sequence_similarity_sbert\": None, \"taxonomy_similarity_sbert\":None\n",
    "            }\n",
    "\n",
    "        prefix = f\"pair{i}_\"\n",
    "        augmode = i%len(augmodes)\n",
    "        # FILL RAW DATA\n",
    "        # print(i)\n",
    "        sourceinfo_dict = load_file(baseline_result_path + prefix + \"sourceinfo.pkl\")\n",
    "        targetinfo_dict = load_file(baseline_result_path + prefix + \"targetinfo.pkl\")\n",
    "        dict[\"idx\"] = i\n",
    "        dict[\"source_idx\"] = sourceinfo_dict['source_idx']\n",
    "        dict[\"target_idx\"] = targetinfo_dict['target_idx']\n",
    "        dict[\"source_uid\"] = sourceinfo_dict['source_uid']\n",
    "        dict[\"target_uid\"] = targetinfo_dict['target_uid']\n",
    "        dict[\"baseline\"] = baseline\n",
    "        dict[\"augmode\"] = augmode\n",
    "\n",
    "\n",
    "        dict['source_sequence'] =sourceinfo_dict['source_action_sequence']\n",
    "        dict['source_sequence'] = dict['source_sequence'].strip('\"').split(', ') #make into list\n",
    "\n",
    "        dict['source_scene_graph'] =sourceinfo_dict['source_scene_graph']\n",
    "        dict['target_scene_graph'] =targetinfo_dict['target_scene_graph']\n",
    "\n",
    "        \n",
    "        # based on baselines 1direct, 1goalmediation [\"rag\",\"norag\",\"raggoal\",\"noraggoal\"]#from v6\n",
    "        if baseline == \"1direct\":\n",
    "            dict['target_sequence'] =load_file(baseline_result_path + prefix + \"agent3.pkl\")\n",
    "        elif baseline == \"1goalmediation\":\n",
    "            dict['target_sequence'] =load_file(baseline_result_path + prefix + \"agent3.pkl\")\n",
    "            dict['core_activity'] =load_file(baseline_result_path + prefix + \"agent1a.pkl\")\n",
    "        elif baseline == \"raggoal\" or baseline == \"noraggoal\":\n",
    "            dict['target_sequence'] =load_file(baseline_result_path + prefix + \"agent3.pkl\")\n",
    "            dict['core_activity'] =load_file(baseline_result_path + prefix + \"agent1a.pkl\")            \n",
    "        elif baseline == \"rag\" or baseline ==\"norag\":\n",
    "            dict['target_sequence'] =load_file(baseline_result_path + prefix + \"agent3.pkl\")\n",
    "            dict['core_activity'] =load_file(baseline_result_path + prefix + \"agent1a.pkl\")\n",
    "            dict['source_taxonomy'] =load_file(baseline_result_path + prefix + \"agent1b.pkl\")\n",
    "            dict['common_taxonomy'] =load_file(baseline_result_path + prefix + \"agent2a.pkl\")\n",
    "            dict['target_taxonomy'] =load_file(baseline_result_path + prefix + \"agent2b.pkl\")            \n",
    "\n",
    "\n",
    "        booleans= load_file(baseline_result_path+prefix+\"agent4.pkl\")\n",
    "        if(booleans == None):\n",
    "            ## No values whatsover\n",
    "            dict[\"sequence_boolean\"] = False\n",
    "            dict[\"taxonomy_boolean\"] = False \n",
    "        else:\n",
    "            values = [\n",
    "                line.split(\":\")[1].strip()\n",
    "                for line in booleans.strip().splitlines()\n",
    "                if \":\" in line\n",
    "            ]\n",
    "            # print(values)\n",
    "            dict[\"taxonomy_boolean\"] = True if values[0] == 'yes' else False\n",
    "            dict[\"sequence_boolean\"] = True if values[1] == 'yes' else False\n",
    "            # print(f\"{dict['taxonomy_boolean']} {dict['sequence_boolean']}\")\n",
    "        \n",
    "        dict['inclusion_ratio'] = sourceinfo_dict['spatial_similarity']\n",
    "        #dict['pairwise_similarity'] = compare_scene_graph(dict['source_scene_graph'], dict['target_scene_graph'])\n",
    "        # SBERT for block level semantics\n",
    "\n",
    "        if dict['target_sequence'] != None:\n",
    "            \n",
    "            # Preprocess sequece to make sequence a single string\n",
    "            \n",
    "            dict['target_sequence'] = ast.literal_eval(dict['target_sequence'])\n",
    "            print(dict['target_sequence'])\n",
    "            dict['target_sequence'] = [\", \".join(dict['target_sequence'])] # to single item\n",
    "            dict['source_sequence'] = [\", \".join(dict['source_sequence'])]# to single item\n",
    "            \n",
    "            # print(dict['source_taxonomy'])\n",
    "            # print(dict['target_taxonomy'])\n",
    "\n",
    "            sequence_similarity_sbert, taxonomy_similarity_sbert = compute_similarities(dict, sbert_model)\n",
    "            dict[\"sequence_similarity_sbert\"]= sequence_similarity_sbert\n",
    "            dict[\"taxonomy_similarity_sbert\"]= taxonomy_similarity_sbert\n",
    "\n",
    "            taxonomy_weighted_similarity = compute_weighted_tax_similarity(dict, sbert_model)\n",
    "            dict[\"taxonomy_weighted_similarity\"] = taxonomy_weighted_similarity\n",
    "            sequence_dtw_similarity = compute_dtw_seq_similarity(dict, sbert_model)\n",
    "            dict[\"sequence_dtw_similarity\"] = sequence_dtw_similarity\n",
    "            # print(dict[\"taxonomy_similarity_sbert\"])\n",
    "\n",
    "            # BERTSCORE for little more stepwise precision in similarity measurement\n",
    "            # print(len(dict['target_sequence']))\n",
    "            # print(len(dict['source_sequence']))\n",
    "            # print(dict['target_sequence'])\n",
    "            # print(dict['source_sequence'])# not inside bracket\n",
    "            # print(dict['target_taxonomy'])\n",
    "            # print(dict['source_taxonomy'])\n",
    "\n",
    "            #takes very long\n",
    "            # dict[\"sequence_b_P\"], dict[\"sequence_b_R\"], dict[\"sequence_b_F1\"] = score(dict['target_sequence'], dict['source_sequence'], lang=\"en\", rescale_with_baseline=True)\n",
    "\n",
    "            #This part gives trouble\n",
    "            # dict[\"taxonomy_b_P\"], dict[\"taxonomy_b_R\"], dict[\"taxonomy_b_F1\"] =score(dict['target_taxonomy'], dict['source_taxonomy'], lang=\"en\", rescale_with_baseline=True)\n",
    "        baseline_results.append(dict)\n",
    "    return baseline_results\n",
    "\n",
    "\n",
    "# baseline_rag_missing_dict = check_missing_index(PATH_BASELINE_RAG, baselines[0])\n",
    "# baseline_norag_missing_dict = check_missing_index(PATH_BASELINE_NORAG, baselines[1])\n",
    "# # baseline_1direct_missing_dict = check_missing_index(PATH_BASELINE_1DIRECT, baselines[2])\n",
    "# # baseline_1goalmediation_missing_dict = check_missing_index(PATH_BASELINE_1GOALMEDIATION, baselines[3])\n",
    "# baseline_raggoal_missing_dict = check_missing_index(PATH_BASELINE_RAGGOAL, baselines[2])\n",
    "# baseline_noraggoal_missing_dict = check_missing_index(PATH_BASELINE_NORAGGOAL, baselines[3])\n",
    "\n",
    "# print(len(baseline_rag_missing_dict))\n",
    "# print(baseline_rag_missing_dict)\n",
    "# # print(len(baseline_norag_missing_dict))\n",
    "# # print(baseline_norag_missing_dict)\n",
    "# print(len(baseline_raggoal_missing_dict))\n",
    "# print(baseline_raggoal_missing_dict)\n",
    "# print(len(baseline_noraggoal_missing_dict))\n",
    "# print(baseline_noraggoal_missing_dict)\n",
    "\n",
    "# baseline_rag_list = make_singlebaseline_list(PATH_BASELINE_RAG, baselines[0])\n",
    "# baseline_norag_list = make_singlebaseline_list(PATH_BASELINE_NORAG, baselines[1])\n",
    "# # baseline_1direct_list = make_singlebaseline_list(PATH_BASELINE_1DIRECT, baselines[2])\n",
    "# # baseline_1goalmediation_list = make_singlebaseline_list(PATH_BASELINE_1GOALMEDIATION, baselines[3])\n",
    "# baseline_raggoal_list = make_singlebaseline_list(PATH_BASELINE_RAGGOAL, baselines[2])\n",
    "# baseline_noraggoal_list = make_singlebaseline_list(PATH_BASELINE_NORAGGOAL, baselines[3])\n",
    "\n",
    "\n",
    "# rag_inclusion_ratio = df_inclusion_ratio(PATH_BASELINE_RAG, baselines[0])\n",
    "# norag_inclusion_ratio = df_inclusion_ratio(PATH_BASELINE_NORAG, baselines[1])\n",
    "# raggoal_inclusion_ratio = df_inclusion_ratio(PATH_BASELINE_RAGGOAL, baselines[2])\n",
    "# noraggoal_inclusion_ratio = df_inclusion_ratio(PATH_BASELINE_NORAGGOAL, baselines[3])\n",
    "\n"
   ]
  },
  {
   "cell_type": "code",
   "execution_count": null,
   "id": "a1cee638",
   "metadata": {},
   "outputs": [
    {
     "name": "stdout",
     "output_type": "stream",
     "text": [
      "213 22\n",
      "213 19\n",
      "213 19\n"
     ]
    }
   ],
   "source": [
    "# print(f\"{len(baseline_rag_list)} {len(baseline_rag_list[0])}\")\n",
    "# print(f\"{len(baseline_norag_list)} {len(baseline_norag_list[0])}\")\n",
    "# print(f\"{len(baseline_raggoal_list)} {len(baseline_raggoal_list[0])}\")\n",
    "# print(f\"{len(baseline_noraggoal_list)} {len(baseline_noraggoal_list[0])}\")\n"
   ]
  },
  {
   "cell_type": "markdown",
   "id": "27bcc30a",
   "metadata": {},
   "source": [
    "## Perform Numerical Calculation of Results\n",
    "\n",
    "### base results\n",
    "- pairwise scene similarity\n",
    "- seq2seq similarity\n",
    "- seq2seq taxonomy similarity\n",
    "### plot\n",
    "- per scenario similarity analysis\n",
    "- per augmentation, per scenario similarity analysis\n",
    "- per scenario similarity vs similarity\n",
    "\n"
   ]
  },
  {
   "cell_type": "code",
   "execution_count": 18,
   "id": "6f81421b",
   "metadata": {},
   "outputs": [],
   "source": [
    "\n",
    "def mask_nan_df(df):\n",
    "    mask = df.isna().any(axis=1)\n",
    "    df.loc[mask, :] = np.nan \n",
    "    \n",
    "def mask_nan_df_or_condition(df, columns_to_check):\n",
    "    '''\n",
    "    input: columns_to_check = [\"col1\", \"col2\"]\n",
    "    '''\n",
    "    mask = df[columns_to_check].isna().any(axis=1)\n",
    "    df.loc[mask, :] = np.nan    \n",
    "\n",
    "def save_baseline_list(path, baseline_list):\n",
    "    with open(path, 'wb') as f:\n",
    "        pickle.dump(baseline_list, f)\n",
    "        print(f\"saved baseline list at {path}\")\n",
    "\n",
    "# turn list of dictionary into dataframe\n",
    "# df_rag = pd.DataFrame(baseline_rag_list)\n",
    "\n",
    "\n",
    "# df_rag = pd.DataFrame(baseline_rag_list)\n",
    "# # mask_nan_df_or_condition(df_rag, [\"target_taxonomy\",\"target_sequence\"])\n",
    "\n",
    "# df_norag = pd.DataFrame(baseline_norag_list)\n",
    "# # mask_nan_df_or_condition(df_norag, [\"target_taxonomy\",\"target_sequence\"])\n",
    "\n",
    "# # df_1direct = pd.DataFrame(baseline_1direct_list)\n",
    "# # mask_nan_df_or_condition(df_1direct, [\"target_sequence\"])\n",
    "# # # print(df_1direct.head())\n",
    "\n",
    "# # df_1goalmediation = pd.DataFrame(baseline_1goalmediation_list)\n",
    "# # mask_nan_df_or_condition(df_1goalmediation, [\"target_sequence\"])\n",
    "# # # print(df_1goalmediation.head())\n",
    "\n",
    "# df_raggoal = pd.DataFrame(baseline_raggoal_list)\n",
    "# mask_nan_df_or_condition(df_raggoal, [\"target_sequence\"])\n",
    "# # print(df_1direct.head())\n",
    "\n",
    "# df_noraggoal = pd.DataFrame(baseline_noraggoal_list)\n",
    "# mask_nan_df_or_condition(df_noraggoal, [\"target_sequence\"])\n",
    "# # print(df_1goalmediation.head())\n",
    "\n",
    "\n",
    "# baseline_rag_path = 'result_v6/rag_dict.pkl'\n",
    "# baseline_norag_path = 'result_v6/norag_dict.pkl'\n",
    "# # baseline_1direct_path = 'evaluation_result_v4/1direct_dict.pkl'\n",
    "# # baseline_1goalmediation_list_path = 'evaluation_result_v4/1goalmediation_dict.pkl'\n",
    "# baseline_raggoal_path = 'result_v6/raggoal_dict.pkl'\n",
    "# baseline_1noraggoal_list_path = 'result_v6/noraggoal_dict.pkl'\n",
    "\n",
    "# save_baseline_list(baseline_rag_path, baseline_rag_list)\n",
    "# save_baseline_list(baseline_norag_path, baseline_norag_list)\n",
    "# # save_baseline_list(baseline_1direct_path, baseline_1direct_list)\n",
    "# # save_baseline_list(baseline_1goalmediation_list_path, baseline_1goalmediation_list)\n",
    "# save_baseline_list(baseline_raggoal_path, baseline_raggoal_list)\n",
    "# save_baseline_list(baseline_1noraggoal_list_path, baseline_noraggoal_list)\n",
    "\n",
    "\n",
    "# print(df_rag.shape[0])\n",
    "# print(df_norag.shape[0])\n",
    "# # print(df_1direct.shape[0])\n",
    "# # print(df_1goalmediation.shape[0])\n",
    "# print(df_raggoal.shape[0])\n",
    "# print(df_noraggoal.shape[0])\n",
    "\n",
    "# # print(df_rag['sequence_boolean'])\n",
    "# # print(df_norag['sequence_boolean'])\n",
    "\n",
    "# # print(df_rag['taxonomy_boolean'])\n",
    "# # print(df_norag['taxonomy_boolean'])\n",
    "\n",
    "\n"
   ]
  },
  {
   "cell_type": "code",
   "execution_count": null,
   "id": "e360a7da",
   "metadata": {},
   "outputs": [
    {
     "name": "stdout",
     "output_type": "stream",
     "text": [
      "568\n",
      "176\n",
      "176\n",
      "176\n",
      "176\n",
      "168\n",
      "224\n",
      "176\n",
      "168\n",
      "224\n"
     ]
    }
   ],
   "source": [
    "# MANUAL-GOLD, CH-SILVER, ELSE-BRONZE\n",
    "\n",
    "# GOLD (manual)\n",
    "# filtered_df = df[df[\"v1\"].isin(mylist)]\n",
    "gold_list = [\n",
    "\"dcd09fa4-afe2-4a0d-9703-83af2867ebd3\",\n",
    "\"46e07357-6946-4ff0-ba36-ae11840bdc39\",\n",
    "\"026dac2d-2ab3-4f9c-9e1d-6198db4fb080\",\n",
    "\"2f46d1e6-2a85-4d46-b955-10c2eded661c\",\n",
    "\"14bcb17c-f70a-41d5-b10d-294388084dfc\",\n",
    "\"487d752c-6e22-43e3-9c08-627bc2a6c6d4\",\n",
    "\"543e4c99-5d9f-407d-be75-c397d633fe56\",\n",
    "\"24ba7993-7fc8-4447-afd5-7ff6d548b11a\",\n",
    "\"e09a667f-04bc-49b5-8246-daf248a29174\",\n",
    "\"b17ff269-ec2d-4ad8-88aa-b00b75921427\",\n",
    "\"58b2a4a4-b721-4753-bfc3-478cdb5bd1a8\",\n",
    "\"28e0affc-cacb-4db8-ab32-dfc16931b86a\",\n",
    "\"e72082e8-f9e6-42ac-ac45-de30f9adee9d\",\n",
    "\"f0204f83-ea03-4c33-b7e7-13d2188ab3e5\",\n",
    "\"9fabfbc8-1d5c-495e-9bb2-03795f0145ae\",\n",
    "\"01ce4fd6-197a-4792-8778-775b03780369\",\n",
    "\"47bb1fd4-d41f-42b4-8d0c-29c4e9fdff9f\",\n",
    "\"7e8d03f2-2ff9-431d-af81-e5ffcd954a63\",\n",
    "\"89857b33-fa50-469a-bbb3-91c8ab655931\",\n",
    "\"5c2e910c-84e0-4042-b5d6-880a731c3e67\",\n",
    "\"737e9619-7768-407c-8a4f-6fe1e8d61f04\",\n",
    "\"abab0e69-f7e4-40c1-aa58-375798df487a\"\n",
    "]\n",
    "import copy\n",
    "df_rag_g = copy.deepcopy(df_rag)\n",
    "df_norag_g = copy.deepcopy(df_norag)\n",
    "# df_1direct_g = copy.deepcopy(df_1direct)\n",
    "# df_1goalmediation_g = copy.deepcopy(df_1goalmediation)\n",
    "\n",
    "\n",
    "\n",
    "df_rag_gold = df_rag_g[df_rag_g['source_uid'].isin(gold_list)]\n",
    "df_norag_gold = df_norag_g[df_norag_g[\"source_uid\"].isin(gold_list)]\n",
    "# df_1direct_gold = df_1direct_g[df_1direct_g[\"source_uid\"].isin(gold_list)]\n",
    "# df_1goalmediation_gold = df_1goalmediation_g[df_1goalmediation_g[\"source_uid\"].isin(gold_list)]\n",
    "\n",
    "# SILVER (0)\n",
    "silver_list = [\n",
    "\"02a06bf1-51b8-4902-b088-573e29fcd7ec\",\n",
    "\"1dc85adb-fbdd-4275-b9cf-42976acb4d14\",\n",
    "\"2978ddbc-cdc9-4bfa-9a7c-4bf056904010\",\n",
    "\"2bc7d6fa-a02e-4367-b316-d6b4e8a2ce3f\",\n",
    "\"31d6fe77-da70-42da-8f47-66bb79b9285b\",\n",
    "\"321b5e21-2951-40c9-a2f9-6ce0c145cfb8\",\n",
    "\"341b5211-bb72-4bec-bd3d-c0d518887960\",\n",
    "\"35080724-6604-401c-8b06-19b7cece3d45\",\n",
    "\"38a7b760-56f9-4565-8b70-f8dad5768ace\",\n",
    "\"5461912b-69cd-40d7-8f79-50832f92f049\",\n",
    "\"6dafeac7-75b6-4d69-96f7-d08708a0a99e\",\n",
    "\"98434f4c-6216-4067-ad59-4a89cb47bb9b\",\n",
    "\"a267b011-b1db-4e3c-aa49-438e2afdd6dc\",\n",
    "\"b83285c5-0b88-4ced-a52e-5c34ea371507\",\n",
    "\"debfb68a-eae2-464e-847a-cd3fea23f3ca\",\n",
    "\"e4ad6fd7-2e3e-4991-b392-a0056f702286\",\n",
    "\"e6231d1a-1f7f-4198-a499-7635509adfaf\",\n",
    "\"ec3556de-be79-4ad4-aa0f-eaca48abb5d5\",\n",
    "\"ed60dcdb-b273-44e7-b5dc-f9527d7c403f\",\n",
    "\"f5ac654b-8f39-427b-856f-4a9a2d4a3020\",\n",
    "\"fea524d4-a1b6-466c-ac48-8777c3fd173d\"\n",
    "]\n",
    "df_rag_s = copy.deepcopy(df_rag)\n",
    "df_norag_s = copy.deepcopy(df_norag)\n",
    "# df_1direct_s = copy.deepcopy(df_1direct)\n",
    "# df_1goalmediation_s = copy.deepcopy(df_1goalmediation)\n",
    "\n",
    "df_rag_silver = df_rag_s[df_rag_s[\"source_uid\"].isin(silver_list)]\n",
    "df_norag_silver = df_norag_s[df_norag_s[\"source_uid\"].isin(silver_list)]\n",
    "# df_1direct_silver = df_1direct_s[df_1direct_s[\"source_uid\"].isin(silver_list)]\n",
    "# df_1goalmediation_silver = df_1goalmediation_s[df_1goalmediation_s[\"source_uid\"].isin(silver_list)]\n",
    "# BRONZE\n",
    "bronze_list =[\n",
    "\"1a894d3c-b3ef-448a-a3de-2b38677cef36\",\n",
    "\"29e00040-6e0f-4f0e-816d-1ac97c1e5485\",\n",
    "\"2ba0becb-58c2-43a1-97bb-7e153a34eb47\",\n",
    "\"2c27b5f1-4af6-49ad-a43c-3efb0c150868\",\n",
    "\"2da5c1ee-bd40-406d-83a7-2f3d93293949\",\n",
    "\"3728f856-0d47-4614-824f-37b6dda8e357\",\n",
    "\"3ec3eab7-842d-409d-8866-42ddcbd24cd9\",\n",
    "\"4fa75795-ddc4-4582-9715-bb7887439263\",\n",
    "\"56fe0c73-77c4-40d9-a687-b2df28d5f7d7\",\n",
    "\"5c15607b-96af-4503-84b4-d1745f3a3ae0\",\n",
    "\"6628a2fb-19e2-4fe5-aedb-92fe5ceee9c9\",\n",
    "\"690f58f1-f18c-4415-bab0-787c2f83d051\",\n",
    "\"6ac1d2ed-1f6b-4828-a1ab-f81c40bd5e80\",\n",
    "\"748536e4-636a-4dc6-b1a7-d9cbfdc1cffd\",\n",
    "\"892629b0-61eb-425d-97f4-7d213074c435\",\n",
    "\"907fd0e7-6821-4e2d-9c62-6d7afad5a9d1\",\n",
    "\"a6419de9-1e40-4793-b21b-9c8d9038835a\",\n",
    "\"ab7ed4f7-10ee-4ccb-bb21-4853c9018b1e\",\n",
    "\"ae2d99c2-1720-4354-bc4d-f7bc3e4ee28d\",\n",
    "\"b4072935-56a6-4765-bb4d-d5f6bbeb95b9\",\n",
    "\"cf95d6a4-6ad7-462c-9700-9f04bd993667\",\n",
    "\"d7a2e92e-dc74-4e79-be04-a86f829fc3ec\",\n",
    "\"daf5384b-ea5c-4cce-bb8a-540a360075bf\",\n",
    "\"e250017c-16ff-4825-9c30-160f391e1549\",\n",
    "\"edc1869c-8a97-44fd-ab47-63fda4a54df9\",\n",
    "\"grp-690f58f1-f18c-4415-bab0-787c2f83d051\",\n",
    "\"grp-b59f7f5d-2991-49a6-8e88-0e2f2db92585\",\n",
    "\"grp-ffd863cb-f06b-404e-a013-54acb61f1ed9\"\n",
    "]\n",
    "df_rag_b = copy.deepcopy(df_rag)\n",
    "df_norag_b = copy.deepcopy(df_norag)\n",
    "# df_1direct_b = copy.deepcopy(df_1direct)\n",
    "# df_1goalmediation_b = copy.deepcopy(df_1goalmediation)\n",
    "\n",
    "df_rag_bronze = df_rag_b[df_rag_b[\"source_uid\"].isin(bronze_list)]\n",
    "df_norag_bronze = df_norag_b[df_norag_b[\"source_uid\"].isin(bronze_list)]\n",
    "# df_1direct_bronze = df_1direct_b[df_1direct_b[\"source_uid\"].isin(bronze_list)]\n",
    "# df_1goalmediation_bronze = df_1goalmediation_b[df_1goalmediation_b[\"source_uid\"].isin(bronze_list)]\n",
    "\n",
    "print(df_rag.shape[0])\n",
    "\n",
    "print(df_rag_gold.shape[0])\n",
    "print(df_norag_gold.shape[0])\n",
    "# print(df_1direct_gold.shape[0])\n",
    "# print(df_1goalmediation_gold.shape[0])\n",
    "\n",
    "print(df_rag_silver.shape[0])\n",
    "print(df_rag_bronze.shape[0])\n",
    "\n",
    "# print(df_1direct_gold.shape[0])\n",
    "# print(df_1direct_silver.shape[0])\n",
    "# print(df_1direct_bronze.shape[0])"
   ]
  },
  {
   "cell_type": "code",
   "execution_count": 19,
   "id": "a828a742",
   "metadata": {},
   "outputs": [],
   "source": [
    "# %matplotlib inline\n",
    "import pandas as pd\n",
    "import matplotlib.pyplot as plt\n",
    "\n",
    "\n",
    "\n",
    "\n",
    "import plotly.express as px\n",
    "def plot_sequence_cursor_interactive(df: pd.DataFrame, mybool: bool, key2plot: str, bin_num:int):\n",
    "    # df = df.dropna(subset=['inclusion_ratio', 'sequence_similarity_sbert', 'sequence_boolean'])\n",
    "    filtered_df = df[df['sequence_boolean'] == mybool]\n",
    "    size1 = df.shape[0]\n",
    "    size2 = filtered_df.shape[0]\n",
    "    print(size1, size2)\n",
    "\n",
    "    #===============================\n",
    "    #ratio of selection\n",
    "    #===============================\n",
    "    # Step 1: Bin the data by inclusion_ratio\n",
    "    bin_width = 1.0/bin_num\n",
    "    # bins = np.arange(0, 1.0001 + bin_width, bin_width)\n",
    "    bins = np.arange(0, 0.9001 + bin_width, bin_width)\n",
    "    df['inclusion_bin'] = pd.cut(df['inclusion_ratio'], bins=bins, include_lowest=True)\n",
    "\n",
    "    # Step 2: Group by bins and calculate ratio\n",
    "    grouped = df.groupby('inclusion_bin')\n",
    "    bin_centers = [interval.mid for interval in grouped.groups.keys()]\n",
    "\n",
    "    ratios = []\n",
    "    for bin_label, group in grouped:\n",
    "        total = len(group)\n",
    "        true_count = group[group['sequence_boolean'] == True].shape[0]\n",
    "        ratio = true_count / total if total > 0 else 0\n",
    "        ratios.append(ratio)\n",
    "\n",
    "    #===============================\n",
    "    # Polynomial fit\n",
    "    N = 1\n",
    "    coeffs = np.polyfit(filtered_df['inclusion_ratio'], filtered_df[key2plot], deg=N)\n",
    "    poly_func = np.poly1d(coeffs)\n",
    "    x_smooth = np.linspace(filtered_df['inclusion_ratio'].min(), filtered_df['inclusion_ratio'].max(), 200)\n",
    "    y_smooth = poly_func(x_smooth)\n",
    "\n",
    "    # Scatter plot with hover info\n",
    "    fig = px.scatter(\n",
    "        filtered_df,\n",
    "        x='inclusion_ratio',\n",
    "        y=key2plot,\n",
    "        hover_data=['idx','source_uid'],\n",
    "        labels={\n",
    "            'inclusion_ratio': 'Inclusion Ratio',\n",
    "            key2plot: key2plot,\n",
    "        },\n",
    "        title=f'Inclusion Ratio vs. {key2plot} (bool={mybool}) {size2}/{size1}',\n",
    "    )\n",
    "\n",
    "    #===============================\n",
    "    # Add polynomial fit line\n",
    "    fig.add_scatter(\n",
    "        x=x_smooth,\n",
    "        y=y_smooth,\n",
    "        mode='lines',\n",
    "        name=f'{N}° polynomial fit',\n",
    "        line=dict(color='red')\n",
    "    )\n",
    "\n",
    "    fig.update_layout(\n",
    "        xaxis=dict(range=[-0.1, 1.1]),\n",
    "        yaxis=dict(range=[0, 1.1]),\n",
    "    )\n",
    "\n",
    "    #===============================\n",
    "    #ratio of selection\n",
    "    #===============================\n",
    "    # Add ratio line trace with secondary y-axis\n",
    "    fig.add_trace(go.Scatter(\n",
    "        x=bin_centers,\n",
    "        y=ratios,\n",
    "        mode='lines+markers',\n",
    "        name='Ratio (mybool=True / all)',\n",
    "        line=dict(color='green', dash='dot'),\n",
    "        yaxis='y2'\n",
    "    ))\n",
    "\n",
    "    # Configure secondary y-axis\n",
    "    fig.update_layout(\n",
    "        yaxis2=dict(\n",
    "            title='Ratio',\n",
    "            overlaying='y',\n",
    "            side='right',\n",
    "            range=[0, 1.1]\n",
    "        )\n",
    "    )\n",
    "\n",
    "    fig.show()\n",
    "\n",
    "import plotly.graph_objects as go\n",
    "def plot_taxonomy_cursor_interactive(df: pd.DataFrame, togglebool: bool, mybool: bool, key2plot: str, bin_num:int):\n",
    "    # Clean data\n",
    "    df = df.dropna(subset=['inclusion_ratio', 'taxonomy_similarity_sbert', 'taxonomy_boolean', 'taxonomy_weighted_similarity'])\n",
    "    size1 = df.shape[0]\n",
    "    \n",
    "    # Filter based on toggle\n",
    "    if togglebool:\n",
    "        filtered_df = df[df['taxonomy_boolean'] == mybool]\n",
    "    else:\n",
    "        filtered_df = df\n",
    "    size2 = filtered_df.shape[0]\n",
    "\n",
    "    #===============================\n",
    "    #ratio of selection\n",
    "    #===============================\n",
    "    # Step 1: Bin the data by inclusion_ratio\n",
    "    bin_width = 1.0/bin_num\n",
    "    # bins = np.arange(0, 1.0001 + bin_width, bin_width)\n",
    "    bins = np.arange(0, 0.9001 + bin_width, bin_width)\n",
    "    df['inclusion_bin'] = pd.cut(df['inclusion_ratio'], bins=bins, include_lowest=True)\n",
    "\n",
    "    # Step 2: Group by bins and calculate ratio\n",
    "    grouped = df.groupby('inclusion_bin')\n",
    "    bin_centers = [interval.mid for interval in grouped.groups.keys()]\n",
    "\n",
    "    ratios = []\n",
    "    for bin_label, group in grouped:\n",
    "        total = len(group)\n",
    "        true_count = group[group['taxonomy_boolean'] == True].shape[0]\n",
    "        ratio = true_count / total if total > 0 else 0\n",
    "        ratios.append(ratio)\n",
    "\n",
    "\n",
    "    # Polynomial fit (linear)\n",
    "    N = 1\n",
    "    coeffs = np.polyfit(filtered_df['inclusion_ratio'], filtered_df[key2plot], deg=N)\n",
    "    poly_func = np.poly1d(coeffs)\n",
    "    x_smooth = np.linspace(filtered_df['inclusion_ratio'].min(), filtered_df['inclusion_ratio'].max(), 200)\n",
    "    y_smooth = poly_func(x_smooth)\n",
    "\n",
    "    # Plotly scatter plot\n",
    "    fig = px.scatter(\n",
    "        filtered_df,\n",
    "        x='inclusion_ratio',\n",
    "        y=key2plot,\n",
    "        hover_data=['source_uid', 'idx'],\n",
    "        labels={\n",
    "            'inclusion_ratio': 'Inclusion Ratio',\n",
    "            key2plot: 'Taxonomy Similarity'\n",
    "        },\n",
    "        title=f'Inclusion Ratio vs. {key2plot} (taxonomy_boolean={mybool}) {size2}/{size1}'\n",
    "    )\n",
    "\n",
    "    # Add polynomial fit line\n",
    "    fig.add_scatter(\n",
    "        x=x_smooth,\n",
    "        y=y_smooth,\n",
    "        mode='lines',\n",
    "        name=f'{N}° polynomial fit',\n",
    "        line=dict(color='red')\n",
    "    )\n",
    "\n",
    "    # Adjust axis and layout\n",
    "    fig.update_layout(\n",
    "        xaxis=dict(range=[-0.1, 1.1]),\n",
    "        yaxis=dict(range=[0, 1.1]),\n",
    "        height=600,\n",
    "        width=800\n",
    "    )\n",
    "\n",
    "    #===============================\n",
    "    #ratio of selection\n",
    "    #===============================\n",
    "    # Add ratio line trace with secondary y-axis\n",
    "    fig.add_trace(go.Scatter(\n",
    "        x=bin_centers,\n",
    "        y=ratios,\n",
    "        mode='lines+markers',\n",
    "        name='Ratio (mybool=True / all)',\n",
    "        line=dict(color='green', dash='dot'),\n",
    "        yaxis='y2'\n",
    "    ))\n",
    "\n",
    "    # Configure secondary y-axis\n",
    "    fig.update_layout(\n",
    "        yaxis2=dict(\n",
    "            title='Ratio',\n",
    "            overlaying='y',\n",
    "            side='right',\n",
    "            range=[0, 1.1]\n",
    "        )\n",
    "    )\n",
    "\n",
    "    fig.show()\n",
    "\n",
    "\n",
    "# #taxonomy_similarity_sbert\n",
    "# #taxonomy_weighted_similarity\n",
    "\n",
    "# plot_taxonomy_cursor_interactive(df_rag, False, True, 'taxonomy_similarity_sbert', 9)\n",
    "# plot_taxonomy_cursor_interactive(df_norag, False, True, 'taxonomy_similarity_sbert',9)\n",
    "\n",
    "# plot_taxonomy_cursor_interactive(df_rag, False, True, 'taxonomy_weighted_similarity', 9)\n",
    "# plot_taxonomy_cursor_interactive(df_norag, False, True, 'taxonomy_weighted_similarity',9)\n",
    "\n",
    "\n",
    "\n",
    "# plot_sequence_cursor_interactive(df_rag, True, 'sequence_similarity_sbert', 9)\n",
    "# plot_sequence_cursor_interactive(df_norag, True, 'sequence_similarity_sbert',9)\n",
    "# # plot_sequence_cursor(df_1direct, True, 'sequence_similarity_sbert')\n",
    "# # plot_sequence_cursor_interactive(df_1goalmediation, True, 'sequence_similarity_sbert')\n",
    "# plot_sequence_cursor_interactive(df_raggoal, True, 'sequence_similarity_sbert', 9)\n",
    "# plot_sequence_cursor_interactive(df_noraggoal, True, 'sequence_similarity_sbert', 9)\n",
    "\n",
    "\n",
    "# plot_sequence_cursor_interactive(df_rag, True, 'sequence_dtw_similarity', 9)\n",
    "# plot_sequence_cursor_interactive(df_norag, True, 'sequence_dtw_similarity',9)\n",
    "# # plot_sequence_cursor(df_1direct, True, 'sequence_dtw_similarity')\n",
    "# # plot_sequence_cursor_interactive(df_1goalmediation, True, 'sequence_dtw_similarity')\n",
    "# plot_sequence_cursor_interactive(df_raggoal, True, 'sequence_dtw_similarity', 9)\n",
    "# plot_sequence_cursor_interactive(df_noraggoal, True, 'sequence_dtw_similarity', 9)\n",
    "\n"
   ]
  },
  {
   "cell_type": "markdown",
   "id": "2e78b119",
   "metadata": {},
   "source": [
    "## v6_evaluator Plots\n",
    "\n",
    "evaluator_1: (core)  \n",
    "evaluator_2: (entity)(core)  \n",
    "evaluator_3: (entity)(sim)(core)  \n",
    "evaluator_h: (entity)(sim)(human)  "
   ]
  },
  {
   "cell_type": "code",
   "execution_count": 22,
   "id": "bd40cf7e",
   "metadata": {},
   "outputs": [
    {
     "name": "stdout",
     "output_type": "stream",
     "text": [
      "bool\n"
     ]
    }
   ],
   "source": [
    "path_eval_results = constants_init.PATH_ROOT + \"f4_evaluate/result_v6/\"\n",
    "baseline_folders = ['output-rag-0602','output-norag-0602','output-1goalmediation-0602','output-1goalmediation-norag-0602']\n",
    "\n",
    "def read_dicts2list(path):\n",
    "    dict_list = []\n",
    "    file_paths = os.listdir(path)\n",
    "    for i in range(len(file_paths)):\n",
    "        file_path = path + f\"/evaluator_{i}.pkl\"\n",
    "        with open(file_path, 'rb') as f:\n",
    "            dict = pickle.load(f)\n",
    "            dict_list.append(dict)\n",
    "    return dict_list\n",
    "\n",
    "def read_json_utf8(path):\n",
    "    with open(path, 'r', encoding='utf-8') as f:\n",
    "        dict = json.load(path)\n",
    "    return dict\n",
    "\n",
    "def convert_dtypes(df):\n",
    "    if df.shape[1] == 13:  # goal baseline\n",
    "        conversion_strings = ['entity_check_seq', 'core_check_seq', 'human_check_tax', 'human_check_seq']\n",
    "    elif df.shape[1] == 16:  # goal baseline\n",
    "        conversion_strings = ['entity_check_seq', 'core_check_seq', 'human_check_tax', 'human_check_seq']        \n",
    "    elif df.shape[1] == 19:  # ours baseline\n",
    "        conversion_strings = ['entity_check_tax', 'entity_check_seq', 'core_check_tax', 'core_check_seq', 'human_check_tax', 'human_check_seq']\n",
    "    elif df.shape[1] ==22: #ours human\n",
    "        conversion_strings = ['entity_check_tax', 'entity_check_seq', 'core_check_tax', 'core_check_seq', 'human_check_tax', 'human_check_seq'] \n",
    "    else:\n",
    "        print(\"convert_dtypes: THIS FUNC NEEDS ADJUSTMENT\")\n",
    "        return df\n",
    "\n",
    "    for col in conversion_strings:\n",
    "        if col in df.columns:\n",
    "            df[col] = df[col].map(lambda x: True if str(x).lower() == 'true' or x == 1 else False)\n",
    "        else:\n",
    "            print(f\"Warning: column '{col}' not found in DataFrame\")\n",
    "\n",
    "    return df\n",
    "        \n",
    "dict_eval_rag = read_dicts2list(path_eval_results + baseline_folders[0])\n",
    "dict_eval_norag = read_dicts2list(path_eval_results + baseline_folders[1])\n",
    "dict_eval_raggoal = read_dicts2list(path_eval_results + baseline_folders[2])\n",
    "dict_eval_noraggoal = read_dicts2list(path_eval_results + baseline_folders[3])\n",
    "\n",
    "# evaluator dictionaries\n",
    "df_eval_rag = pd.DataFrame(dict_eval_rag)\n",
    "df_eval_norag = pd.DataFrame(dict_eval_norag)\n",
    "df_eval_raggoal = pd.DataFrame(dict_eval_raggoal)\n",
    "df_eval_noraggoal = pd.DataFrame(dict_eval_noraggoal)\n",
    "\n",
    "# bool are stored as object type. convert this to bool\n",
    "df_eval_rag = convert_dtypes(df_eval_rag)\n",
    "df_eval_norag = convert_dtypes(df_eval_norag)\n",
    "df_eval_raggoal = convert_dtypes(df_eval_raggoal)\n",
    "df_eval_noraggoal = convert_dtypes(df_eval_noraggoal)\n",
    "\n",
    "print(df_eval_norag['core_check_seq'].dtype)\n",
    "\n",
    "# inclusion ratio must be in the df\n",
    "rag_inclusion_ratio = df_inclusion_ratio(PATH_BASELINE_RAG, baselines[0])\n",
    "norag_inclusion_ratio = df_inclusion_ratio(PATH_BASELINE_NORAG, baselines[1])\n",
    "raggoal_inclusion_ratio = df_inclusion_ratio(PATH_BASELINE_RAGGOAL, baselines[2])\n",
    "noraggoal_inclusion_ratio = df_inclusion_ratio(PATH_BASELINE_NORAGGOAL, baselines[3])\n",
    "\n",
    "df_eval_rag = pd.concat([df_eval_rag, rag_inclusion_ratio], axis=1)\n",
    "df_eval_norag = pd.concat([df_eval_norag, norag_inclusion_ratio], axis=1)\n",
    "df_eval_raggoal = pd.concat([df_eval_raggoal, raggoal_inclusion_ratio], axis=1)\n",
    "df_eval_noraggoal = pd.concat([df_eval_noraggoal, noraggoal_inclusion_ratio], axis=1)\n"
   ]
  },
  {
   "cell_type": "code",
   "execution_count": 23,
   "id": "3c03975e",
   "metadata": {},
   "outputs": [
    {
     "name": "stdout",
     "output_type": "stream",
     "text": [
      "rag core(tax, seq, both): 140 119 107\n",
      "rag entity/core(tax, seq, both): 115 97 93\n",
      "rag entity/sim/core(tax, seq, both): 110 92 89\n"
     ]
    }
   ],
   "source": [
    "#evaluator_rag_:\n",
    "\n",
    "#core check has 3 versions, tax, seq, both\n",
    "efil1_tax_rag = df_eval_rag[df_eval_rag['core_check_tax']==True]\n",
    "efil1_seq_rag = df_eval_rag[df_eval_rag['core_check_seq']==True]\n",
    "efil1_both_rag = df_eval_rag[(df_eval_rag['core_check_tax']==True)&(df_eval_rag['core_check_seq']==True)]\n",
    "print(f\"rag core(tax, seq, both): {efil1_tax_rag.shape[0]} {efil1_seq_rag.shape[0]} {efil1_both_rag.shape[0]}\")\n",
    "\n",
    "#entity check should both pass for (tax, seq) because otherwise sequence generation is impossible\n",
    "efil2_tax_rag = df_eval_rag[(df_eval_rag['entity_check_tax']==True)&(df_eval_rag['entity_check_seq']==True)&(df_eval_rag['core_check_tax']==True)]\n",
    "efil2_seq_rag = df_eval_rag[(df_eval_rag['entity_check_tax']==True)&(df_eval_rag['entity_check_seq']==True)&(df_eval_rag['core_check_seq']==True)]\n",
    "efil2_both_rag = df_eval_rag[(df_eval_rag['entity_check_tax']==True)&(df_eval_rag['entity_check_seq']==True)&(df_eval_rag['core_check_tax']==True)&(df_eval_rag['core_check_seq']==True)]\n",
    "print(f\"rag entity/core(tax, seq, both): {efil2_tax_rag.shape[0]} {efil2_seq_rag.shape[0]} {efil2_both_rag.shape[0]}\")\n",
    "\n",
    "#similarity threshold should both be applied (tax, seq) because otherwise sequence generation is impossible\n",
    "sim_tax_threshold = 0.4 #main itself is 50% weight\n",
    "sim_seq_threshold = 0.3 #same threhold as goalmediation\n",
    "\n",
    "efil3_tax_rag = df_eval_rag[(df_eval_rag['entity_check_tax']==True)&(df_eval_rag['entity_check_seq']==True)&(df_eval_rag['sim_tax3']>sim_tax_threshold)&(df_eval_rag['sim_seq3']>sim_seq_threshold)&(df_eval_rag['core_check_tax']==True)]\n",
    "efil3_seq_rag = df_eval_rag[(df_eval_rag['entity_check_tax']==True)&(df_eval_rag['entity_check_seq']==True)&(df_eval_rag['sim_tax3']>sim_tax_threshold)&(df_eval_rag['sim_seq3']>sim_seq_threshold)&(df_eval_rag['core_check_seq']==True)]\n",
    "efil3_both_rag = df_eval_rag[(df_eval_rag['entity_check_tax']==True)&(df_eval_rag['entity_check_seq']==True)&(df_eval_rag['sim_tax3']>sim_tax_threshold)&(df_eval_rag['sim_seq3']>sim_seq_threshold)&(df_eval_rag['core_check_tax']==True)&(df_eval_rag['core_check_seq']==True)]\n",
    "print(f\"rag entity/sim/core(tax, seq, both): {efil3_tax_rag.shape[0]} {efil3_seq_rag.shape[0]} {efil3_both_rag.shape[0]}\")"
   ]
  },
  {
   "cell_type": "code",
   "execution_count": 24,
   "id": "b0ea3d45",
   "metadata": {},
   "outputs": [
    {
     "name": "stdout",
     "output_type": "stream",
     "text": [
      "norag core(tax, seq, both): 139 127 112\n",
      "norag entity/core(tax, seq, both): 107 108 95\n",
      "norag entity/sim/core(tax, seq, both): 104 105 92\n"
     ]
    }
   ],
   "source": [
    "#evaluator_norag_: entity_check_tax, entity_check_seq, sim_tax1, sim_tax2, sim_tax3, sim_seq1, sim_seq2, sim_seq3, core_check_tax, core_check_tax\n",
    "#core check has 3 versions, tax, seq, both\n",
    "efil1_tax_norag = df_eval_norag[df_eval_norag['core_check_tax']==True]\n",
    "efil1_seq_norag = df_eval_norag[df_eval_norag['core_check_seq']==True]\n",
    "efil1_both_norag = df_eval_norag[(df_eval_norag['core_check_tax']==True)&(df_eval_norag['core_check_seq']==True)]\n",
    "print(f\"norag core(tax, seq, both): {efil1_tax_norag.shape[0]} {efil1_seq_norag.shape[0]} {efil1_both_norag.shape[0]}\")\n",
    "\n",
    "#entity check should both pass for (tax, seq) because otherwise sequence generation is impossible\n",
    "efil2_tax_norag = df_eval_norag[(df_eval_norag['entity_check_tax']==True)&(df_eval_norag['entity_check_seq']==True)&(df_eval_norag['core_check_tax']==True)]\n",
    "efil2_seq_norag = df_eval_norag[(df_eval_norag['entity_check_tax']==True)&(df_eval_norag['entity_check_seq']==True)&(df_eval_norag['core_check_seq']==True)]\n",
    "efil2_both_norag = df_eval_norag[(df_eval_norag['entity_check_tax']==True)&(df_eval_norag['entity_check_seq']==True)&(df_eval_norag['core_check_tax']==True)&(df_eval_norag['core_check_seq']==True)]\n",
    "print(f\"norag entity/core(tax, seq, both): {efil2_tax_norag.shape[0]} {efil2_seq_norag.shape[0]} {efil2_both_norag.shape[0]}\")\n",
    "\n",
    "#similarity threshold should both be applied (tax, seq) because otherwise sequence generation is impossible\n",
    "sim_tax_threshold = 0.4 #main itself is 50% weight\n",
    "sim_seq_threshold = 0.3 #same threhold as goalmediation\n",
    "\n",
    "efil3_tax_norag = df_eval_norag[(df_eval_norag['entity_check_tax']==True)&(df_eval_norag['entity_check_seq']==True)&(df_eval_norag['sim_tax3']>sim_tax_threshold)&(df_eval_norag['sim_seq3']>sim_seq_threshold)&(df_eval_norag['core_check_tax']==True)]\n",
    "efil3_seq_norag = df_eval_norag[(df_eval_norag['entity_check_tax']==True)&(df_eval_norag['entity_check_seq']==True)&(df_eval_norag['sim_tax3']>sim_tax_threshold)&(df_eval_norag['sim_seq3']>sim_seq_threshold)&(df_eval_norag['core_check_seq']==True)]\n",
    "efil3_both_norag = df_eval_norag[(df_eval_norag['entity_check_tax']==True)&(df_eval_norag['entity_check_seq']==True)&(df_eval_norag['sim_tax3']>sim_tax_threshold)&(df_eval_norag['sim_seq3']>sim_seq_threshold)&(df_eval_norag['core_check_tax']==True)&(df_eval_norag['core_check_seq']==True)]\n",
    "print(f\"norag entity/sim/core(tax, seq, both): {efil3_tax_norag.shape[0]} {efil3_seq_norag.shape[0]} {efil3_both_norag.shape[0]}\")"
   ]
  },
  {
   "cell_type": "code",
   "execution_count": 5,
   "id": "08b91924",
   "metadata": {},
   "outputs": [
    {
     "ename": "NameError",
     "evalue": "name 'df_eval_raggoal' is not defined",
     "output_type": "error",
     "traceback": [
      "\u001b[0;31m---------------------------------------------------------------------------\u001b[0m",
      "\u001b[0;31mNameError\u001b[0m                                 Traceback (most recent call last)",
      "Cell \u001b[0;32mIn[5], line 3\u001b[0m\n\u001b[1;32m      1\u001b[0m \u001b[38;5;66;03m#evaluaotr_raggoal_ entity_check_seq, sim_seq1, sim_seq2, sim_seq3\", core_check_seq, human_check_tax, human_check_seq\u001b[39;00m\n\u001b[1;32m      2\u001b[0m sim_seq_threshold \u001b[38;5;241m=\u001b[39m \u001b[38;5;241m0.3\u001b[39m\n\u001b[0;32m----> 3\u001b[0m efil1_raggoal \u001b[38;5;241m=\u001b[39m \u001b[43mdf_eval_raggoal\u001b[49m[df_eval_raggoal[\u001b[38;5;124m'\u001b[39m\u001b[38;5;124mcore_check_seq\u001b[39m\u001b[38;5;124m'\u001b[39m]\u001b[38;5;241m==\u001b[39m\u001b[38;5;28;01mTrue\u001b[39;00m]\n\u001b[1;32m      4\u001b[0m efil2_raggoal \u001b[38;5;241m=\u001b[39m df_eval_raggoal[(df_eval_raggoal[\u001b[38;5;124m'\u001b[39m\u001b[38;5;124mentity_check_seq\u001b[39m\u001b[38;5;124m'\u001b[39m]\u001b[38;5;241m==\u001b[39m\u001b[38;5;28;01mTrue\u001b[39;00m) \u001b[38;5;241m&\u001b[39m (df_eval_raggoal[\u001b[38;5;124m'\u001b[39m\u001b[38;5;124mcore_check_seq\u001b[39m\u001b[38;5;124m'\u001b[39m]\u001b[38;5;241m==\u001b[39m\u001b[38;5;28;01mTrue\u001b[39;00m)]\n\u001b[1;32m      5\u001b[0m efil3_raggoal\u001b[38;5;241m=\u001b[39m df_eval_raggoal[(df_eval_raggoal[\u001b[38;5;124m'\u001b[39m\u001b[38;5;124mentity_check_seq\u001b[39m\u001b[38;5;124m'\u001b[39m]\u001b[38;5;241m==\u001b[39m\u001b[38;5;28;01mTrue\u001b[39;00m) \u001b[38;5;241m&\u001b[39m (df_eval_raggoal[\u001b[38;5;124m'\u001b[39m\u001b[38;5;124msim_seq3\u001b[39m\u001b[38;5;124m'\u001b[39m]\u001b[38;5;241m>\u001b[39msim_seq_threshold) \u001b[38;5;241m&\u001b[39m (df_eval_raggoal[\u001b[38;5;124m'\u001b[39m\u001b[38;5;124mcore_check_seq\u001b[39m\u001b[38;5;124m'\u001b[39m]\u001b[38;5;241m==\u001b[39m\u001b[38;5;28;01mTrue\u001b[39;00m)]\n",
      "\u001b[0;31mNameError\u001b[0m: name 'df_eval_raggoal' is not defined"
     ]
    }
   ],
   "source": [
    "#evaluaotr_raggoal_ entity_check_seq, sim_seq1, sim_seq2, sim_seq3\", core_check_seq, human_check_tax, human_check_seq\n",
    "sim_seq_threshold = 0.3\n",
    "efil1_raggoal = df_eval_raggoal[df_eval_raggoal['core_check_seq']==True]\n",
    "efil2_raggoal = df_eval_raggoal[(df_eval_raggoal['entity_check_seq']==True) & (df_eval_raggoal['core_check_seq']==True)]\n",
    "efil3_raggoal= df_eval_raggoal[(df_eval_raggoal['entity_check_seq']==True) & (df_eval_raggoal['sim_seq3']>sim_seq_threshold) & (df_eval_raggoal['core_check_seq']==True)]\n",
    "print(f\"rag (core) (entity,core) (entity,sim,core): {efil1_raggoal.shape[0]} {efil2_raggoal.shape[0]} {efil3_raggoal.shape[0]}\")\n",
    "# efilh_raggoal\n",
    "\n",
    "#evaluaotr_noraggoal_ entity_check_seq, sim_seq1, sim_seq2, sim_seq3\", core_check_seq, human_check_tax, human_check_seq\n",
    "efil1_noraggoal = df_eval_noraggoal[df_eval_noraggoal['core_check_seq']==True]\n",
    "efil2_noraggoal = df_eval_noraggoal[(df_eval_noraggoal['entity_check_seq']==True) & (df_eval_noraggoal['core_check_seq']==True)]\n",
    "efil3_noraggoal = df_eval_noraggoal[(df_eval_noraggoal['entity_check_seq']==True) & (df_eval_noraggoal['sim_seq3']> sim_seq_threshold) & (df_eval_noraggoal['core_check_seq'])]\n",
    "print(f\"norag (core) (entity,core) (entity,sim,core): {efil1_noraggoal.shape[0]} {efil2_noraggoal.shape[0]} {efil3_noraggoal.shape[0]}\")"
   ]
  },
  {
   "cell_type": "code",
   "execution_count": 25,
   "id": "4947ed75",
   "metadata": {},
   "outputs": [
    {
     "data": {
      "application/vnd.plotly.v1+json": {
       "config": {
        "plotlyServerURL": "https://plot.ly"
       },
       "data": [
        {
         "line": {
          "color": "blue",
          "dash": "solid"
         },
         "marker": {
          "size": 8,
          "symbol": "circle"
         },
         "mode": "lines+markers",
         "name": "ours",
         "type": "scatter",
         "x": [
          0.0625,
          0.1875,
          0.3125,
          0.4375,
          0.5625,
          0.6875,
          0.8125,
          0.9375
         ],
         "y": {
          "bdata": "KK+hvIbyqj8RERERERHBPxiGYRiGYcg/MzMzMzMz0z8LWchCFrLgP4wxxhhjjOE/0UUXXXTR5T+KndiJndjhPw==",
          "dtype": "f8"
         }
        },
        {
         "line": {
          "color": "red",
          "dash": "dot"
         },
         "marker": {
          "size": 8,
          "symbol": "square"
         },
         "mode": "lines+markers",
         "name": "base1 (no RAG)",
         "type": "scatter",
         "x": [
          0.0625,
          0.1875,
          0.3125,
          0.4375,
          0.5625,
          0.6875,
          0.8125,
          0.9375
         ],
         "y": {
          "bdata": "AAAAAAAAAACamZmZmZnJP5IkSZIkSdI/ERERERERwT/qTW9605veP7bWWmutteY/AAAAAAAA4D+e2Imd2InlPw==",
          "dtype": "f8"
         }
        }
       ],
       "layout": {
        "height": 500,
        "legend": {
         "title": {
          "text": "Legend"
         },
         "x": 0.01,
         "y": 0.99
        },
        "template": {
         "data": {
          "bar": [
           {
            "error_x": {
             "color": "#2a3f5f"
            },
            "error_y": {
             "color": "#2a3f5f"
            },
            "marker": {
             "line": {
              "color": "#E5ECF6",
              "width": 0.5
             },
             "pattern": {
              "fillmode": "overlay",
              "size": 10,
              "solidity": 0.2
             }
            },
            "type": "bar"
           }
          ],
          "barpolar": [
           {
            "marker": {
             "line": {
              "color": "#E5ECF6",
              "width": 0.5
             },
             "pattern": {
              "fillmode": "overlay",
              "size": 10,
              "solidity": 0.2
             }
            },
            "type": "barpolar"
           }
          ],
          "carpet": [
           {
            "aaxis": {
             "endlinecolor": "#2a3f5f",
             "gridcolor": "white",
             "linecolor": "white",
             "minorgridcolor": "white",
             "startlinecolor": "#2a3f5f"
            },
            "baxis": {
             "endlinecolor": "#2a3f5f",
             "gridcolor": "white",
             "linecolor": "white",
             "minorgridcolor": "white",
             "startlinecolor": "#2a3f5f"
            },
            "type": "carpet"
           }
          ],
          "choropleth": [
           {
            "colorbar": {
             "outlinewidth": 0,
             "ticks": ""
            },
            "type": "choropleth"
           }
          ],
          "contour": [
           {
            "colorbar": {
             "outlinewidth": 0,
             "ticks": ""
            },
            "colorscale": [
             [
              0,
              "#0d0887"
             ],
             [
              0.1111111111111111,
              "#46039f"
             ],
             [
              0.2222222222222222,
              "#7201a8"
             ],
             [
              0.3333333333333333,
              "#9c179e"
             ],
             [
              0.4444444444444444,
              "#bd3786"
             ],
             [
              0.5555555555555556,
              "#d8576b"
             ],
             [
              0.6666666666666666,
              "#ed7953"
             ],
             [
              0.7777777777777778,
              "#fb9f3a"
             ],
             [
              0.8888888888888888,
              "#fdca26"
             ],
             [
              1,
              "#f0f921"
             ]
            ],
            "type": "contour"
           }
          ],
          "contourcarpet": [
           {
            "colorbar": {
             "outlinewidth": 0,
             "ticks": ""
            },
            "type": "contourcarpet"
           }
          ],
          "heatmap": [
           {
            "colorbar": {
             "outlinewidth": 0,
             "ticks": ""
            },
            "colorscale": [
             [
              0,
              "#0d0887"
             ],
             [
              0.1111111111111111,
              "#46039f"
             ],
             [
              0.2222222222222222,
              "#7201a8"
             ],
             [
              0.3333333333333333,
              "#9c179e"
             ],
             [
              0.4444444444444444,
              "#bd3786"
             ],
             [
              0.5555555555555556,
              "#d8576b"
             ],
             [
              0.6666666666666666,
              "#ed7953"
             ],
             [
              0.7777777777777778,
              "#fb9f3a"
             ],
             [
              0.8888888888888888,
              "#fdca26"
             ],
             [
              1,
              "#f0f921"
             ]
            ],
            "type": "heatmap"
           }
          ],
          "histogram": [
           {
            "marker": {
             "pattern": {
              "fillmode": "overlay",
              "size": 10,
              "solidity": 0.2
             }
            },
            "type": "histogram"
           }
          ],
          "histogram2d": [
           {
            "colorbar": {
             "outlinewidth": 0,
             "ticks": ""
            },
            "colorscale": [
             [
              0,
              "#0d0887"
             ],
             [
              0.1111111111111111,
              "#46039f"
             ],
             [
              0.2222222222222222,
              "#7201a8"
             ],
             [
              0.3333333333333333,
              "#9c179e"
             ],
             [
              0.4444444444444444,
              "#bd3786"
             ],
             [
              0.5555555555555556,
              "#d8576b"
             ],
             [
              0.6666666666666666,
              "#ed7953"
             ],
             [
              0.7777777777777778,
              "#fb9f3a"
             ],
             [
              0.8888888888888888,
              "#fdca26"
             ],
             [
              1,
              "#f0f921"
             ]
            ],
            "type": "histogram2d"
           }
          ],
          "histogram2dcontour": [
           {
            "colorbar": {
             "outlinewidth": 0,
             "ticks": ""
            },
            "colorscale": [
             [
              0,
              "#0d0887"
             ],
             [
              0.1111111111111111,
              "#46039f"
             ],
             [
              0.2222222222222222,
              "#7201a8"
             ],
             [
              0.3333333333333333,
              "#9c179e"
             ],
             [
              0.4444444444444444,
              "#bd3786"
             ],
             [
              0.5555555555555556,
              "#d8576b"
             ],
             [
              0.6666666666666666,
              "#ed7953"
             ],
             [
              0.7777777777777778,
              "#fb9f3a"
             ],
             [
              0.8888888888888888,
              "#fdca26"
             ],
             [
              1,
              "#f0f921"
             ]
            ],
            "type": "histogram2dcontour"
           }
          ],
          "mesh3d": [
           {
            "colorbar": {
             "outlinewidth": 0,
             "ticks": ""
            },
            "type": "mesh3d"
           }
          ],
          "parcoords": [
           {
            "line": {
             "colorbar": {
              "outlinewidth": 0,
              "ticks": ""
             }
            },
            "type": "parcoords"
           }
          ],
          "pie": [
           {
            "automargin": true,
            "type": "pie"
           }
          ],
          "scatter": [
           {
            "fillpattern": {
             "fillmode": "overlay",
             "size": 10,
             "solidity": 0.2
            },
            "type": "scatter"
           }
          ],
          "scatter3d": [
           {
            "line": {
             "colorbar": {
              "outlinewidth": 0,
              "ticks": ""
             }
            },
            "marker": {
             "colorbar": {
              "outlinewidth": 0,
              "ticks": ""
             }
            },
            "type": "scatter3d"
           }
          ],
          "scattercarpet": [
           {
            "marker": {
             "colorbar": {
              "outlinewidth": 0,
              "ticks": ""
             }
            },
            "type": "scattercarpet"
           }
          ],
          "scattergeo": [
           {
            "marker": {
             "colorbar": {
              "outlinewidth": 0,
              "ticks": ""
             }
            },
            "type": "scattergeo"
           }
          ],
          "scattergl": [
           {
            "marker": {
             "colorbar": {
              "outlinewidth": 0,
              "ticks": ""
             }
            },
            "type": "scattergl"
           }
          ],
          "scattermap": [
           {
            "marker": {
             "colorbar": {
              "outlinewidth": 0,
              "ticks": ""
             }
            },
            "type": "scattermap"
           }
          ],
          "scattermapbox": [
           {
            "marker": {
             "colorbar": {
              "outlinewidth": 0,
              "ticks": ""
             }
            },
            "type": "scattermapbox"
           }
          ],
          "scatterpolar": [
           {
            "marker": {
             "colorbar": {
              "outlinewidth": 0,
              "ticks": ""
             }
            },
            "type": "scatterpolar"
           }
          ],
          "scatterpolargl": [
           {
            "marker": {
             "colorbar": {
              "outlinewidth": 0,
              "ticks": ""
             }
            },
            "type": "scatterpolargl"
           }
          ],
          "scatterternary": [
           {
            "marker": {
             "colorbar": {
              "outlinewidth": 0,
              "ticks": ""
             }
            },
            "type": "scatterternary"
           }
          ],
          "surface": [
           {
            "colorbar": {
             "outlinewidth": 0,
             "ticks": ""
            },
            "colorscale": [
             [
              0,
              "#0d0887"
             ],
             [
              0.1111111111111111,
              "#46039f"
             ],
             [
              0.2222222222222222,
              "#7201a8"
             ],
             [
              0.3333333333333333,
              "#9c179e"
             ],
             [
              0.4444444444444444,
              "#bd3786"
             ],
             [
              0.5555555555555556,
              "#d8576b"
             ],
             [
              0.6666666666666666,
              "#ed7953"
             ],
             [
              0.7777777777777778,
              "#fb9f3a"
             ],
             [
              0.8888888888888888,
              "#fdca26"
             ],
             [
              1,
              "#f0f921"
             ]
            ],
            "type": "surface"
           }
          ],
          "table": [
           {
            "cells": {
             "fill": {
              "color": "#EBF0F8"
             },
             "line": {
              "color": "white"
             }
            },
            "header": {
             "fill": {
              "color": "#C8D4E3"
             },
             "line": {
              "color": "white"
             }
            },
            "type": "table"
           }
          ]
         },
         "layout": {
          "annotationdefaults": {
           "arrowcolor": "#2a3f5f",
           "arrowhead": 0,
           "arrowwidth": 1
          },
          "autotypenumbers": "strict",
          "coloraxis": {
           "colorbar": {
            "outlinewidth": 0,
            "ticks": ""
           }
          },
          "colorscale": {
           "diverging": [
            [
             0,
             "#8e0152"
            ],
            [
             0.1,
             "#c51b7d"
            ],
            [
             0.2,
             "#de77ae"
            ],
            [
             0.3,
             "#f1b6da"
            ],
            [
             0.4,
             "#fde0ef"
            ],
            [
             0.5,
             "#f7f7f7"
            ],
            [
             0.6,
             "#e6f5d0"
            ],
            [
             0.7,
             "#b8e186"
            ],
            [
             0.8,
             "#7fbc41"
            ],
            [
             0.9,
             "#4d9221"
            ],
            [
             1,
             "#276419"
            ]
           ],
           "sequential": [
            [
             0,
             "#0d0887"
            ],
            [
             0.1111111111111111,
             "#46039f"
            ],
            [
             0.2222222222222222,
             "#7201a8"
            ],
            [
             0.3333333333333333,
             "#9c179e"
            ],
            [
             0.4444444444444444,
             "#bd3786"
            ],
            [
             0.5555555555555556,
             "#d8576b"
            ],
            [
             0.6666666666666666,
             "#ed7953"
            ],
            [
             0.7777777777777778,
             "#fb9f3a"
            ],
            [
             0.8888888888888888,
             "#fdca26"
            ],
            [
             1,
             "#f0f921"
            ]
           ],
           "sequentialminus": [
            [
             0,
             "#0d0887"
            ],
            [
             0.1111111111111111,
             "#46039f"
            ],
            [
             0.2222222222222222,
             "#7201a8"
            ],
            [
             0.3333333333333333,
             "#9c179e"
            ],
            [
             0.4444444444444444,
             "#bd3786"
            ],
            [
             0.5555555555555556,
             "#d8576b"
            ],
            [
             0.6666666666666666,
             "#ed7953"
            ],
            [
             0.7777777777777778,
             "#fb9f3a"
            ],
            [
             0.8888888888888888,
             "#fdca26"
            ],
            [
             1,
             "#f0f921"
            ]
           ]
          },
          "colorway": [
           "#636efa",
           "#EF553B",
           "#00cc96",
           "#ab63fa",
           "#FFA15A",
           "#19d3f3",
           "#FF6692",
           "#B6E880",
           "#FF97FF",
           "#FECB52"
          ],
          "font": {
           "color": "#2a3f5f"
          },
          "geo": {
           "bgcolor": "white",
           "lakecolor": "white",
           "landcolor": "#E5ECF6",
           "showlakes": true,
           "showland": true,
           "subunitcolor": "white"
          },
          "hoverlabel": {
           "align": "left"
          },
          "hovermode": "closest",
          "mapbox": {
           "style": "light"
          },
          "paper_bgcolor": "white",
          "plot_bgcolor": "#E5ECF6",
          "polar": {
           "angularaxis": {
            "gridcolor": "white",
            "linecolor": "white",
            "ticks": ""
           },
           "bgcolor": "#E5ECF6",
           "radialaxis": {
            "gridcolor": "white",
            "linecolor": "white",
            "ticks": ""
           }
          },
          "scene": {
           "xaxis": {
            "backgroundcolor": "#E5ECF6",
            "gridcolor": "white",
            "gridwidth": 2,
            "linecolor": "white",
            "showbackground": true,
            "ticks": "",
            "zerolinecolor": "white"
           },
           "yaxis": {
            "backgroundcolor": "#E5ECF6",
            "gridcolor": "white",
            "gridwidth": 2,
            "linecolor": "white",
            "showbackground": true,
            "ticks": "",
            "zerolinecolor": "white"
           },
           "zaxis": {
            "backgroundcolor": "#E5ECF6",
            "gridcolor": "white",
            "gridwidth": 2,
            "linecolor": "white",
            "showbackground": true,
            "ticks": "",
            "zerolinecolor": "white"
           }
          },
          "shapedefaults": {
           "line": {
            "color": "#2a3f5f"
           }
          },
          "ternary": {
           "aaxis": {
            "gridcolor": "white",
            "linecolor": "white",
            "ticks": ""
           },
           "baxis": {
            "gridcolor": "white",
            "linecolor": "white",
            "ticks": ""
           },
           "bgcolor": "#E5ECF6",
           "caxis": {
            "gridcolor": "white",
            "linecolor": "white",
            "ticks": ""
           }
          },
          "title": {
           "x": 0.05
          },
          "xaxis": {
           "automargin": true,
           "gridcolor": "white",
           "linecolor": "white",
           "ticks": "",
           "title": {
            "standoff": 15
           },
           "zerolinecolor": "white",
           "zerolinewidth": 2
          },
          "yaxis": {
           "automargin": true,
           "gridcolor": "white",
           "linecolor": "white",
           "ticks": "",
           "title": {
            "standoff": 15
           },
           "zerolinecolor": "white",
           "zerolinewidth": 2
          }
         }
        },
        "title": {
         "text": "Selection Ratio vs. Inclusion Ratio (strict evaluator)",
         "x": 0.5,
         "xanchor": "center"
        },
        "width": 900,
        "xaxis": {
         "range": [
          0,
          1
         ],
         "title": {
          "text": "Inclusion Ratio"
         }
        },
        "yaxis": {
         "range": [
          0,
          1
         ],
         "title": {
          "text": "Selection Ratio"
         }
        }
       }
      }
     },
     "metadata": {},
     "output_type": "display_data"
    },
    {
     "ename": "NameError",
     "evalue": "name 'efil3_raggoal' is not defined",
     "output_type": "error",
     "traceback": [
      "\u001b[0;31m---------------------------------------------------------------------------\u001b[0m",
      "\u001b[0;31mNameError\u001b[0m                                 Traceback (most recent call last)",
      "Cell \u001b[0;32mIn[25], line 165\u001b[0m\n\u001b[1;32m    124\u001b[0m \u001b[38;5;66;03m# PLOT\u001b[39;00m\n\u001b[1;32m    125\u001b[0m \u001b[38;5;66;03m#-------------------------------------\u001b[39;00m\n\u001b[1;32m    126\u001b[0m \u001b[38;5;66;03m# 베이스라인이 similarity의 변화에 따라서 어느 정도의 수용성 그래프를 보이는지 그린다.(false/positive + positive/positive)\u001b[39;00m\n\u001b[0;32m   (...)\u001b[0m\n\u001b[1;32m    156\u001b[0m \u001b[38;5;66;03m#     (df_eval_norag, efil2_both_norag, \"base1 (no RAG)\"),\u001b[39;00m\n\u001b[1;32m    157\u001b[0m \u001b[38;5;66;03m# ], bins=8, title_str='entity evaluator')\u001b[39;00m\n\u001b[1;32m    159\u001b[0m plot_multiple_selection_vs_inclusion([\n\u001b[1;32m    160\u001b[0m     (df_eval_rag, efil3_both_rag, \u001b[38;5;124m\"\u001b[39m\u001b[38;5;124mours\u001b[39m\u001b[38;5;124m\"\u001b[39m),\n\u001b[1;32m    161\u001b[0m     (df_eval_norag, efil3_both_norag, \u001b[38;5;124m\"\u001b[39m\u001b[38;5;124mbase1 (no RAG)\u001b[39m\u001b[38;5;124m\"\u001b[39m),\n\u001b[1;32m    162\u001b[0m ], bins\u001b[38;5;241m=\u001b[39m\u001b[38;5;241m8\u001b[39m, title_str\u001b[38;5;241m=\u001b[39m\u001b[38;5;124m'\u001b[39m\u001b[38;5;124mstrict evaluator\u001b[39m\u001b[38;5;124m'\u001b[39m)\n\u001b[1;32m    164\u001b[0m plot_multiple_selection_vs_inclusion([\n\u001b[0;32m--> 165\u001b[0m     (df_eval_raggoal, \u001b[43mefil3_raggoal\u001b[49m, \u001b[38;5;124m\"\u001b[39m\u001b[38;5;124mbase2 (no Taxonomy)\u001b[39m\u001b[38;5;124m\"\u001b[39m),\n\u001b[1;32m    166\u001b[0m     (df_eval_noraggoal, efil3_noraggoal, \u001b[38;5;124m\"\u001b[39m\u001b[38;5;124mbase3 (no Taxonomy, no RAG)\u001b[39m\u001b[38;5;124m\"\u001b[39m),\n\u001b[1;32m    167\u001b[0m ], bins\u001b[38;5;241m=\u001b[39m\u001b[38;5;241m8\u001b[39m, title_str\u001b[38;5;241m=\u001b[39m\u001b[38;5;124m'\u001b[39m\u001b[38;5;124mstrict evaluator\u001b[39m\u001b[38;5;124m'\u001b[39m)\n",
      "\u001b[0;31mNameError\u001b[0m: name 'efil3_raggoal' is not defined"
     ]
    }
   ],
   "source": [
    "#HUMAN EVALUATOR가 가장 이상적이라고 가정할 때에 다른 evaluator에 대해서 precision-recall curve를 그릴 수 있다.\n",
    "#PRECISION = TP / (TP+FP)예측한 positive\n",
    "#RECALL = TP / (TP+FN)실제 positive\n",
    "\n",
    "#selection ratio plot\n",
    "#-------------------------------------\n",
    "#scene selection ratio vs selected ratio from baseline \n",
    "#------------------------------------\n",
    "def plot_single_selection_ratio_by_inclusion_bins(df_full, df_selected, num_bins=10):\n",
    "    \"\"\"\n",
    "    Plots the selection ratio per inclusion_ratio bin using Plotly.\n",
    "\n",
    "    Parameters:\n",
    "        df_full (pd.DataFrame): Full dataframe containing 'inclusion_ratio'.\n",
    "        df_selected (pd.DataFrame): Filtered dataframe, subset of df_full.\n",
    "        num_bins (int): Number of bins to divide the inclusion_ratio into (default: 10).\n",
    "    \"\"\"\n",
    "    assert 'inclusion_ratio' in df_full.columns and 'inclusion_ratio' in df_selected.columns, \\\n",
    "        \"Both dataframes must have an 'inclusion_ratio' column.\"\n",
    "\n",
    "    # Define bin edges\n",
    "    bins = np.linspace(0, 1.0, num_bins + 1)\n",
    "    bin_labels = [f\"{round(bins[i], 2)}–{round(bins[i+1], 2)}\" for i in range(len(bins)-1)]\n",
    "\n",
    "    # Assign bins\n",
    "    df_full = df_full.copy()\n",
    "    df_selected = df_selected.copy()\n",
    "    df_full['bin'] = pd.cut(df_full['inclusion_ratio'], bins=bins, labels=bin_labels, include_lowest=True)\n",
    "    df_selected['bin'] = pd.cut(df_selected['inclusion_ratio'], bins=bins, labels=bin_labels, include_lowest=True)\n",
    "\n",
    "    # Count entries in each bin\n",
    "    total_counts = df_full['bin'].value_counts().sort_index()\n",
    "    selected_counts = df_selected['bin'].value_counts().sort_index()\n",
    "\n",
    "    # Compute selection ratio\n",
    "    selection_ratio = (selected_counts / total_counts).fillna(0)\n",
    "\n",
    "    # Plot with Plotly\n",
    "    fig = go.Figure()\n",
    "    fig.add_trace(go.Bar(\n",
    "        x=selection_ratio.index.astype(str),\n",
    "        y=selection_ratio.values,\n",
    "        marker=dict(color='steelblue'),\n",
    "        name='Selection Ratio'\n",
    "    ))\n",
    "\n",
    "    fig.update_layout(\n",
    "        title=\"Selection Ratio vs. Inclusion Ratio\",\n",
    "        xaxis_title=\"Inclusion Ratio (Binned)\",\n",
    "        yaxis_title=\"Selection Ratio\",\n",
    "        yaxis=dict(range=[0, 1]),\n",
    "        width=900,\n",
    "        height=600,\n",
    "        bargap=0.1,\n",
    "    )\n",
    "\n",
    "    fig.show()\n",
    "\n",
    "\n",
    "import pandas as pd\n",
    "import numpy as np\n",
    "import plotly.graph_objects as go\n",
    "\n",
    "def plot_multiple_selection_vs_inclusion(data_pairs, bins=10, title_str=\"\"):\n",
    "    \"\"\"\n",
    "    Plots multiple selection vs. inclusion ratio lines in one graph.\n",
    "    Args:\n",
    "        data_pairs (list of tuples): Each tuple contains (df_total, df_selected, label).\n",
    "        bins (int): Number of bins for inclusion_ratio.\n",
    "    \"\"\"\n",
    "\n",
    "    # Create bins and labels\n",
    "    bin_edges = np.linspace(0, 1, bins + 1)\n",
    "    bin_centers = [(bin_edges[i] + bin_edges[i + 1]) / 2 for i in range(bins)]\n",
    "\n",
    "    # make a list of linecolor, markertype, and linetype\n",
    "    colors = ['blue', 'red', 'green', 'orange', 'purple', 'brown', 'teal', 'pink']\n",
    "    dash_styles = ['solid', 'dot', 'dash', 'longdash', 'dashdot', 'longdashdot']\n",
    "    marker_symbols = ['circle', 'square', 'diamond', 'cross', 'x', 'triangle-up']\n",
    "\n",
    "    fig = go.Figure()\n",
    "\n",
    "    for i, (df_total, df_selected, label) in enumerate(data_pairs):\n",
    "        # Bin the inclusion ratios\n",
    "        total_binned = pd.cut(df_total[\"inclusion_ratio\"], bins=bin_edges, include_lowest=True)\n",
    "        selected_binned = pd.cut(df_selected[\"inclusion_ratio\"], bins=bin_edges, include_lowest=True)\n",
    "\n",
    "        # Count per bin\n",
    "        total_counts = total_binned.value_counts(sort=False)\n",
    "        selected_counts = selected_binned.value_counts(sort=False)\n",
    "        # print(f\"bins num at {i} {selected_counts}\")\n",
    "\n",
    "        # Compute selection ratio\n",
    "        selection_ratio = (selected_counts / total_counts).fillna(0)\n",
    "\n",
    "        # Add line to plot\n",
    "        fig.add_trace(go.Scatter(\n",
    "            x=bin_centers,\n",
    "            y=selection_ratio.values,\n",
    "            mode='lines+markers',\n",
    "            name=label,\n",
    "            line=dict(color=colors[i % len(colors)], dash=dash_styles[i % len(dash_styles)]),\n",
    "            marker=dict(symbol=marker_symbols[i % len(marker_symbols)], size=8),            \n",
    "        ))\n",
    "\n",
    "    # Layout settings\n",
    "    fig.update_layout(\n",
    "        title=dict(\n",
    "        text=f\"Selection Ratio vs. Inclusion Ratio ({title_str})\",\n",
    "        x=0.5,  # Center the title\n",
    "        xanchor='center'  # Anchor the title at the center\n",
    "        ),\n",
    "        # title=f\"Selection Ratio vs. Inclusion Ratio ({title_str})\",\n",
    "        xaxis_title=\"Inclusion Ratio\",\n",
    "        yaxis_title=\"Selection Ratio\",\n",
    "        xaxis=dict(range=[0, 1]),\n",
    "        yaxis=dict(range=[0, 1]),\n",
    "        width=900,\n",
    "        height=500,\n",
    "        legend=dict(title=\"Legend\", x=0.01, y=0.99),\n",
    "    )\n",
    "\n",
    "    fig.show()\n",
    "# PLOT\n",
    "#-------------------------------------\n",
    "# 베이스라인이 similarity의 변화에 따라서 어느 정도의 수용성 그래프를 보이는지 그린다.(false/positive + positive/positive)\n",
    "# input (baselines, filtered_baselines, titlename)\n",
    "# x = inclusion_ratio\n",
    "# y = acceptance_rate per bin\n",
    "#-------------------------------------\n",
    "\n",
    "\n",
    "\n",
    "# plot_single_selection_ratio_by_inclusion_bins(df_eval_rag, efil3_both_rag, 8)\n",
    "# plot_single_selection_ratio_by_inclusion_bins(df_eval_norag, efil3_both_norag, 8)\n",
    "# plot_single_selection_ratio_by_inclusion_bins(df_eval_raggoal, efil3_raggoal, 8)\n",
    "# plot_single_selection_ratio_by_inclusion_bins(df_eval_noraggoal, efil3_noraggoal, 8)\n",
    "\n",
    "\n",
    "# plot_multiple_selection_vs_inclusion([\n",
    "#     # (df_eval_rag, efil1_both_rag, \"ours-(simple examiner)\"),\n",
    "#     # (df_eval_norag, efil1_both_norag, \"norag-(simple examiner)\"),\n",
    "#     # (df_eval_rag, efil2_both_rag, \"ours-(entity check examiner)\"),\n",
    "#     # (df_eval_norag, efil3_both_norag, \"norag-(entity check examiner)\"),\n",
    "#     (df_eval_rag, efil3_seq_rag, \"ours-(strict seq examiner)\"),\n",
    "#     (df_eval_norag, efil3_seq_norag, \"norag-(strict seq examiner)\"),    \n",
    "# ], bins=8, title_str='stric sequence binary examiner')\n",
    "\n",
    "# plot_multiple_selection_vs_inclusion([\n",
    "#     (df_eval_rag, efil1_both_rag, \"ours\"),\n",
    "#     (df_eval_norag, efil1_both_norag, \"base1 (no RAG)\"),\n",
    "# ], bins=8, title_str='simple evaluator')\n",
    "\n",
    "# plot_multiple_selection_vs_inclusion([\n",
    "#     (df_eval_rag, efil2_both_rag, \"ours\"),\n",
    "#     (df_eval_norag, efil2_both_norag, \"base1 (no RAG)\"),\n",
    "# ], bins=8, title_str='entity evaluator')\n",
    "\n",
    "plot_multiple_selection_vs_inclusion([\n",
    "    (df_eval_rag, efil3_both_rag, \"ours\"),\n",
    "    (df_eval_norag, efil3_both_norag, \"base1 (no RAG)\"),\n",
    "], bins=8, title_str='strict evaluator')\n",
    "\n",
    "plot_multiple_selection_vs_inclusion([\n",
    "    (df_eval_raggoal, efil3_raggoal, \"base2 (no Taxonomy)\"),\n",
    "    (df_eval_noraggoal, efil3_noraggoal, \"base3 (no Taxonomy, no RAG)\"),\n",
    "], bins=8, title_str='strict evaluator')"
   ]
  },
  {
   "cell_type": "code",
   "execution_count": 31,
   "id": "eab8bec3",
   "metadata": {},
   "outputs": [
    {
     "data": {
      "application/vnd.plotly.v1+json": {
       "config": {
        "plotlyServerURL": "https://plot.ly"
       },
       "data": [
        {
         "error_y": {
          "array": {
           "bdata": "AAAAAAAAAAAss7aOE0arP9xZB7CgiMM/Qy0FBFc/sD8MjavectW9P3rmsgEHgsA/XWm23nZkwz/pAdU0EQDFPw==",
           "dtype": "f8"
          },
          "color": "blue",
          "type": "data",
          "visible": true
         },
         "line": {
          "color": "blue",
          "dash": "solid"
         },
         "marker": {
          "size": 8,
          "symbol": "circle"
         },
         "mode": "lines+markers",
         "name": "RAG SeqSim",
         "type": "scatter",
         "x": [
          0.0625,
          0.1875,
          0.3125,
          0.4375,
          0.5625,
          0.6875,
          0.8125,
          0.9375
         ],
         "y": {
          "bdata": "hiZLV64j2D9ExNMZL2bkP4ft0WdlieE/G9r3Zjn84D9RdUE+UzLgP2O7Wg8tveE/q5I1l5Ea5D98BRwMAFXmPw==",
          "dtype": "f8"
         }
        },
        {
         "error_y": {
          "array": {
           "bdata": "+VywgcBDzj9i7JS1GbbAP6bSA4vSIK8/7FkG6PuNuz/8X4CFBATBP0jsxJ0hcb0/jHRt++P0wj8=",
           "dtype": "f8"
          },
          "color": "red",
          "type": "data",
          "visible": true
         },
         "line": {
          "color": "red",
          "dash": "dot"
         },
         "marker": {
          "size": 8,
          "symbol": "square"
         },
         "mode": "lines+markers",
         "name": "baseline1",
         "type": "scatter",
         "x": [
          0.0625,
          0.1875,
          0.3125,
          0.4375,
          0.5625,
          0.6875,
          0.8125,
          0.9375
         ],
         "y": {
          "bdata": "6UdEqDw54T+pz8oITU/jP/mHshQYv94/6zUE4TBA4D9U1PyOBxjiP1UzqGlmoOM/2ShaNWgA5T8=",
          "dtype": "f8"
         }
        },
        {
         "error_y": {
          "array": {
           "bdata": "pbC0olxOnz8kih+wMv+/P9y7mZEEn8M/jLzHizWGvj/0TPm56YW7Pxsv1sglqL8/6Wdw8j+avz/Q/aZz083APw==",
           "dtype": "f8"
          },
          "color": "green",
          "type": "data",
          "visible": true
         },
         "line": {
          "color": "green",
          "dash": "dash"
         },
         "marker": {
          "size": 8,
          "symbol": "diamond"
         },
         "mode": "lines+markers",
         "name": "baseline2",
         "type": "scatter",
         "x": [
          0.0625,
          0.1875,
          0.3125,
          0.4375,
          0.5625,
          0.6875,
          0.8125,
          0.9375
         ],
         "y": {
          "bdata": "JGJ+TQaM4D9ceoUn9mziP8kyWfrw5uE/6ydPmiJz4D9n488LX7fgP8i14wB48+M/1Ye/Kg0S5D8GejMXmirmPw==",
          "dtype": "f8"
         }
        },
        {
         "error_y": {
          "array": {
           "bdata": "1qsL/UJqxT86CU5v2tfAP2MbbWe4v8g/5Fkltc0xvj/TThnwYBDDP52U6f60WcU/NFMzmHDrtD/Q71CxBHrFPw==",
           "dtype": "f8"
          },
          "color": "orange",
          "type": "data",
          "visible": true
         },
         "line": {
          "color": "orange",
          "dash": "longdash"
         },
         "marker": {
          "size": 8,
          "symbol": "cross"
         },
         "mode": "lines+markers",
         "name": "baseline3",
         "type": "scatter",
         "x": [
          0.0625,
          0.1875,
          0.3125,
          0.4375,
          0.5625,
          0.6875,
          0.8125,
          0.9375
         ],
         "y": {
          "bdata": "VIC3fH0J4j9bYqyoBy3oP4bDJ2bvcOE/K5z2Fxmv4T++09oqyuTjP4pQzNWTcuU/J2S6PsmB5z8I+o+HcirlPw==",
          "dtype": "f8"
         }
        }
       ],
       "layout": {
        "height": 500,
        "legend": {
         "title": {
          "text": "Legend"
         },
         "x": 0.01,
         "y": 0.05
        },
        "template": {
         "data": {
          "bar": [
           {
            "error_x": {
             "color": "#2a3f5f"
            },
            "error_y": {
             "color": "#2a3f5f"
            },
            "marker": {
             "line": {
              "color": "#E5ECF6",
              "width": 0.5
             },
             "pattern": {
              "fillmode": "overlay",
              "size": 10,
              "solidity": 0.2
             }
            },
            "type": "bar"
           }
          ],
          "barpolar": [
           {
            "marker": {
             "line": {
              "color": "#E5ECF6",
              "width": 0.5
             },
             "pattern": {
              "fillmode": "overlay",
              "size": 10,
              "solidity": 0.2
             }
            },
            "type": "barpolar"
           }
          ],
          "carpet": [
           {
            "aaxis": {
             "endlinecolor": "#2a3f5f",
             "gridcolor": "white",
             "linecolor": "white",
             "minorgridcolor": "white",
             "startlinecolor": "#2a3f5f"
            },
            "baxis": {
             "endlinecolor": "#2a3f5f",
             "gridcolor": "white",
             "linecolor": "white",
             "minorgridcolor": "white",
             "startlinecolor": "#2a3f5f"
            },
            "type": "carpet"
           }
          ],
          "choropleth": [
           {
            "colorbar": {
             "outlinewidth": 0,
             "ticks": ""
            },
            "type": "choropleth"
           }
          ],
          "contour": [
           {
            "colorbar": {
             "outlinewidth": 0,
             "ticks": ""
            },
            "colorscale": [
             [
              0,
              "#0d0887"
             ],
             [
              0.1111111111111111,
              "#46039f"
             ],
             [
              0.2222222222222222,
              "#7201a8"
             ],
             [
              0.3333333333333333,
              "#9c179e"
             ],
             [
              0.4444444444444444,
              "#bd3786"
             ],
             [
              0.5555555555555556,
              "#d8576b"
             ],
             [
              0.6666666666666666,
              "#ed7953"
             ],
             [
              0.7777777777777778,
              "#fb9f3a"
             ],
             [
              0.8888888888888888,
              "#fdca26"
             ],
             [
              1,
              "#f0f921"
             ]
            ],
            "type": "contour"
           }
          ],
          "contourcarpet": [
           {
            "colorbar": {
             "outlinewidth": 0,
             "ticks": ""
            },
            "type": "contourcarpet"
           }
          ],
          "heatmap": [
           {
            "colorbar": {
             "outlinewidth": 0,
             "ticks": ""
            },
            "colorscale": [
             [
              0,
              "#0d0887"
             ],
             [
              0.1111111111111111,
              "#46039f"
             ],
             [
              0.2222222222222222,
              "#7201a8"
             ],
             [
              0.3333333333333333,
              "#9c179e"
             ],
             [
              0.4444444444444444,
              "#bd3786"
             ],
             [
              0.5555555555555556,
              "#d8576b"
             ],
             [
              0.6666666666666666,
              "#ed7953"
             ],
             [
              0.7777777777777778,
              "#fb9f3a"
             ],
             [
              0.8888888888888888,
              "#fdca26"
             ],
             [
              1,
              "#f0f921"
             ]
            ],
            "type": "heatmap"
           }
          ],
          "histogram": [
           {
            "marker": {
             "pattern": {
              "fillmode": "overlay",
              "size": 10,
              "solidity": 0.2
             }
            },
            "type": "histogram"
           }
          ],
          "histogram2d": [
           {
            "colorbar": {
             "outlinewidth": 0,
             "ticks": ""
            },
            "colorscale": [
             [
              0,
              "#0d0887"
             ],
             [
              0.1111111111111111,
              "#46039f"
             ],
             [
              0.2222222222222222,
              "#7201a8"
             ],
             [
              0.3333333333333333,
              "#9c179e"
             ],
             [
              0.4444444444444444,
              "#bd3786"
             ],
             [
              0.5555555555555556,
              "#d8576b"
             ],
             [
              0.6666666666666666,
              "#ed7953"
             ],
             [
              0.7777777777777778,
              "#fb9f3a"
             ],
             [
              0.8888888888888888,
              "#fdca26"
             ],
             [
              1,
              "#f0f921"
             ]
            ],
            "type": "histogram2d"
           }
          ],
          "histogram2dcontour": [
           {
            "colorbar": {
             "outlinewidth": 0,
             "ticks": ""
            },
            "colorscale": [
             [
              0,
              "#0d0887"
             ],
             [
              0.1111111111111111,
              "#46039f"
             ],
             [
              0.2222222222222222,
              "#7201a8"
             ],
             [
              0.3333333333333333,
              "#9c179e"
             ],
             [
              0.4444444444444444,
              "#bd3786"
             ],
             [
              0.5555555555555556,
              "#d8576b"
             ],
             [
              0.6666666666666666,
              "#ed7953"
             ],
             [
              0.7777777777777778,
              "#fb9f3a"
             ],
             [
              0.8888888888888888,
              "#fdca26"
             ],
             [
              1,
              "#f0f921"
             ]
            ],
            "type": "histogram2dcontour"
           }
          ],
          "mesh3d": [
           {
            "colorbar": {
             "outlinewidth": 0,
             "ticks": ""
            },
            "type": "mesh3d"
           }
          ],
          "parcoords": [
           {
            "line": {
             "colorbar": {
              "outlinewidth": 0,
              "ticks": ""
             }
            },
            "type": "parcoords"
           }
          ],
          "pie": [
           {
            "automargin": true,
            "type": "pie"
           }
          ],
          "scatter": [
           {
            "fillpattern": {
             "fillmode": "overlay",
             "size": 10,
             "solidity": 0.2
            },
            "type": "scatter"
           }
          ],
          "scatter3d": [
           {
            "line": {
             "colorbar": {
              "outlinewidth": 0,
              "ticks": ""
             }
            },
            "marker": {
             "colorbar": {
              "outlinewidth": 0,
              "ticks": ""
             }
            },
            "type": "scatter3d"
           }
          ],
          "scattercarpet": [
           {
            "marker": {
             "colorbar": {
              "outlinewidth": 0,
              "ticks": ""
             }
            },
            "type": "scattercarpet"
           }
          ],
          "scattergeo": [
           {
            "marker": {
             "colorbar": {
              "outlinewidth": 0,
              "ticks": ""
             }
            },
            "type": "scattergeo"
           }
          ],
          "scattergl": [
           {
            "marker": {
             "colorbar": {
              "outlinewidth": 0,
              "ticks": ""
             }
            },
            "type": "scattergl"
           }
          ],
          "scattermap": [
           {
            "marker": {
             "colorbar": {
              "outlinewidth": 0,
              "ticks": ""
             }
            },
            "type": "scattermap"
           }
          ],
          "scattermapbox": [
           {
            "marker": {
             "colorbar": {
              "outlinewidth": 0,
              "ticks": ""
             }
            },
            "type": "scattermapbox"
           }
          ],
          "scatterpolar": [
           {
            "marker": {
             "colorbar": {
              "outlinewidth": 0,
              "ticks": ""
             }
            },
            "type": "scatterpolar"
           }
          ],
          "scatterpolargl": [
           {
            "marker": {
             "colorbar": {
              "outlinewidth": 0,
              "ticks": ""
             }
            },
            "type": "scatterpolargl"
           }
          ],
          "scatterternary": [
           {
            "marker": {
             "colorbar": {
              "outlinewidth": 0,
              "ticks": ""
             }
            },
            "type": "scatterternary"
           }
          ],
          "surface": [
           {
            "colorbar": {
             "outlinewidth": 0,
             "ticks": ""
            },
            "colorscale": [
             [
              0,
              "#0d0887"
             ],
             [
              0.1111111111111111,
              "#46039f"
             ],
             [
              0.2222222222222222,
              "#7201a8"
             ],
             [
              0.3333333333333333,
              "#9c179e"
             ],
             [
              0.4444444444444444,
              "#bd3786"
             ],
             [
              0.5555555555555556,
              "#d8576b"
             ],
             [
              0.6666666666666666,
              "#ed7953"
             ],
             [
              0.7777777777777778,
              "#fb9f3a"
             ],
             [
              0.8888888888888888,
              "#fdca26"
             ],
             [
              1,
              "#f0f921"
             ]
            ],
            "type": "surface"
           }
          ],
          "table": [
           {
            "cells": {
             "fill": {
              "color": "#EBF0F8"
             },
             "line": {
              "color": "white"
             }
            },
            "header": {
             "fill": {
              "color": "#C8D4E3"
             },
             "line": {
              "color": "white"
             }
            },
            "type": "table"
           }
          ]
         },
         "layout": {
          "annotationdefaults": {
           "arrowcolor": "#2a3f5f",
           "arrowhead": 0,
           "arrowwidth": 1
          },
          "autotypenumbers": "strict",
          "coloraxis": {
           "colorbar": {
            "outlinewidth": 0,
            "ticks": ""
           }
          },
          "colorscale": {
           "diverging": [
            [
             0,
             "#8e0152"
            ],
            [
             0.1,
             "#c51b7d"
            ],
            [
             0.2,
             "#de77ae"
            ],
            [
             0.3,
             "#f1b6da"
            ],
            [
             0.4,
             "#fde0ef"
            ],
            [
             0.5,
             "#f7f7f7"
            ],
            [
             0.6,
             "#e6f5d0"
            ],
            [
             0.7,
             "#b8e186"
            ],
            [
             0.8,
             "#7fbc41"
            ],
            [
             0.9,
             "#4d9221"
            ],
            [
             1,
             "#276419"
            ]
           ],
           "sequential": [
            [
             0,
             "#0d0887"
            ],
            [
             0.1111111111111111,
             "#46039f"
            ],
            [
             0.2222222222222222,
             "#7201a8"
            ],
            [
             0.3333333333333333,
             "#9c179e"
            ],
            [
             0.4444444444444444,
             "#bd3786"
            ],
            [
             0.5555555555555556,
             "#d8576b"
            ],
            [
             0.6666666666666666,
             "#ed7953"
            ],
            [
             0.7777777777777778,
             "#fb9f3a"
            ],
            [
             0.8888888888888888,
             "#fdca26"
            ],
            [
             1,
             "#f0f921"
            ]
           ],
           "sequentialminus": [
            [
             0,
             "#0d0887"
            ],
            [
             0.1111111111111111,
             "#46039f"
            ],
            [
             0.2222222222222222,
             "#7201a8"
            ],
            [
             0.3333333333333333,
             "#9c179e"
            ],
            [
             0.4444444444444444,
             "#bd3786"
            ],
            [
             0.5555555555555556,
             "#d8576b"
            ],
            [
             0.6666666666666666,
             "#ed7953"
            ],
            [
             0.7777777777777778,
             "#fb9f3a"
            ],
            [
             0.8888888888888888,
             "#fdca26"
            ],
            [
             1,
             "#f0f921"
            ]
           ]
          },
          "colorway": [
           "#636efa",
           "#EF553B",
           "#00cc96",
           "#ab63fa",
           "#FFA15A",
           "#19d3f3",
           "#FF6692",
           "#B6E880",
           "#FF97FF",
           "#FECB52"
          ],
          "font": {
           "color": "#2a3f5f"
          },
          "geo": {
           "bgcolor": "white",
           "lakecolor": "white",
           "landcolor": "#E5ECF6",
           "showlakes": true,
           "showland": true,
           "subunitcolor": "white"
          },
          "hoverlabel": {
           "align": "left"
          },
          "hovermode": "closest",
          "mapbox": {
           "style": "light"
          },
          "paper_bgcolor": "white",
          "plot_bgcolor": "#E5ECF6",
          "polar": {
           "angularaxis": {
            "gridcolor": "white",
            "linecolor": "white",
            "ticks": ""
           },
           "bgcolor": "#E5ECF6",
           "radialaxis": {
            "gridcolor": "white",
            "linecolor": "white",
            "ticks": ""
           }
          },
          "scene": {
           "xaxis": {
            "backgroundcolor": "#E5ECF6",
            "gridcolor": "white",
            "gridwidth": 2,
            "linecolor": "white",
            "showbackground": true,
            "ticks": "",
            "zerolinecolor": "white"
           },
           "yaxis": {
            "backgroundcolor": "#E5ECF6",
            "gridcolor": "white",
            "gridwidth": 2,
            "linecolor": "white",
            "showbackground": true,
            "ticks": "",
            "zerolinecolor": "white"
           },
           "zaxis": {
            "backgroundcolor": "#E5ECF6",
            "gridcolor": "white",
            "gridwidth": 2,
            "linecolor": "white",
            "showbackground": true,
            "ticks": "",
            "zerolinecolor": "white"
           }
          },
          "shapedefaults": {
           "line": {
            "color": "#2a3f5f"
           }
          },
          "ternary": {
           "aaxis": {
            "gridcolor": "white",
            "linecolor": "white",
            "ticks": ""
           },
           "baxis": {
            "gridcolor": "white",
            "linecolor": "white",
            "ticks": ""
           },
           "bgcolor": "#E5ECF6",
           "caxis": {
            "gridcolor": "white",
            "linecolor": "white",
            "ticks": ""
           }
          },
          "title": {
           "x": 0.05
          },
          "xaxis": {
           "automargin": true,
           "gridcolor": "white",
           "linecolor": "white",
           "ticks": "",
           "title": {
            "standoff": 15
           },
           "zerolinecolor": "white",
           "zerolinewidth": 2
          },
          "yaxis": {
           "automargin": true,
           "gridcolor": "white",
           "linecolor": "white",
           "ticks": "",
           "title": {
            "standoff": 15
           },
           "zerolinecolor": "white",
           "zerolinewidth": 2
          }
         }
        },
        "title": {
         "text": "Inclusion vs Sequence Similarity",
         "x": 0.5,
         "xanchor": "center"
        },
        "width": 900,
        "xaxis": {
         "range": [
          0.4375,
          1
         ],
         "title": {
          "text": "Inclusion Ratio"
         }
        },
        "yaxis": {
         "range": [
          0,
          1
         ],
         "title": {
          "text": "Similarity (mean ± std)"
         }
        }
       }
      }
     },
     "metadata": {},
     "output_type": "display_data"
    },
    {
     "data": {
      "application/vnd.plotly.v1+json": {
       "config": {
        "plotlyServerURL": "https://plot.ly"
       },
       "data": [
        {
         "error_y": {
          "array": {
           "bdata": "AAAAAAAAAAAss7aOE0arP9xZB7CgiMM/Qy0FBFc/sD8MjavectW9P3rmsgEHgsA/XWm23nZkwz/pAdU0EQDFPw==",
           "dtype": "f8"
          },
          "color": "blue",
          "type": "data",
          "visible": true
         },
         "line": {
          "color": "blue",
          "dash": "solid"
         },
         "marker": {
          "size": 8,
          "symbol": "circle"
         },
         "mode": "lines+markers",
         "name": "RAG SeqSim",
         "type": "scatter",
         "x": [
          0.0625,
          0.1875,
          0.3125,
          0.4375,
          0.5625,
          0.6875,
          0.8125,
          0.9375
         ],
         "y": {
          "bdata": "hiZLV64j2D9ExNMZL2bkP4ft0WdlieE/G9r3Zjn84D9RdUE+UzLgP2O7Wg8tveE/q5I1l5Ea5D98BRwMAFXmPw==",
          "dtype": "f8"
         }
        },
        {
         "error_y": {
          "array": {
           "bdata": "+VywgcBDzj9i7JS1GbbAP6bSA4vSIK8/7FkG6PuNuz/8X4CFBATBP0jsxJ0hcb0/jHRt++P0wj8=",
           "dtype": "f8"
          },
          "color": "red",
          "type": "data",
          "visible": true
         },
         "line": {
          "color": "red",
          "dash": "dot"
         },
         "marker": {
          "size": 8,
          "symbol": "square"
         },
         "mode": "lines+markers",
         "name": "NoRAG SeqSim",
         "type": "scatter",
         "x": [
          0.0625,
          0.1875,
          0.3125,
          0.4375,
          0.5625,
          0.6875,
          0.8125,
          0.9375
         ],
         "y": {
          "bdata": "6UdEqDw54T+pz8oITU/jP/mHshQYv94/6zUE4TBA4D9U1PyOBxjiP1UzqGlmoOM/2ShaNWgA5T8=",
          "dtype": "f8"
         }
        }
       ],
       "layout": {
        "height": 500,
        "legend": {
         "title": {
          "text": "Legend"
         },
         "x": 0.01,
         "y": 0.05
        },
        "template": {
         "data": {
          "bar": [
           {
            "error_x": {
             "color": "#2a3f5f"
            },
            "error_y": {
             "color": "#2a3f5f"
            },
            "marker": {
             "line": {
              "color": "#E5ECF6",
              "width": 0.5
             },
             "pattern": {
              "fillmode": "overlay",
              "size": 10,
              "solidity": 0.2
             }
            },
            "type": "bar"
           }
          ],
          "barpolar": [
           {
            "marker": {
             "line": {
              "color": "#E5ECF6",
              "width": 0.5
             },
             "pattern": {
              "fillmode": "overlay",
              "size": 10,
              "solidity": 0.2
             }
            },
            "type": "barpolar"
           }
          ],
          "carpet": [
           {
            "aaxis": {
             "endlinecolor": "#2a3f5f",
             "gridcolor": "white",
             "linecolor": "white",
             "minorgridcolor": "white",
             "startlinecolor": "#2a3f5f"
            },
            "baxis": {
             "endlinecolor": "#2a3f5f",
             "gridcolor": "white",
             "linecolor": "white",
             "minorgridcolor": "white",
             "startlinecolor": "#2a3f5f"
            },
            "type": "carpet"
           }
          ],
          "choropleth": [
           {
            "colorbar": {
             "outlinewidth": 0,
             "ticks": ""
            },
            "type": "choropleth"
           }
          ],
          "contour": [
           {
            "colorbar": {
             "outlinewidth": 0,
             "ticks": ""
            },
            "colorscale": [
             [
              0,
              "#0d0887"
             ],
             [
              0.1111111111111111,
              "#46039f"
             ],
             [
              0.2222222222222222,
              "#7201a8"
             ],
             [
              0.3333333333333333,
              "#9c179e"
             ],
             [
              0.4444444444444444,
              "#bd3786"
             ],
             [
              0.5555555555555556,
              "#d8576b"
             ],
             [
              0.6666666666666666,
              "#ed7953"
             ],
             [
              0.7777777777777778,
              "#fb9f3a"
             ],
             [
              0.8888888888888888,
              "#fdca26"
             ],
             [
              1,
              "#f0f921"
             ]
            ],
            "type": "contour"
           }
          ],
          "contourcarpet": [
           {
            "colorbar": {
             "outlinewidth": 0,
             "ticks": ""
            },
            "type": "contourcarpet"
           }
          ],
          "heatmap": [
           {
            "colorbar": {
             "outlinewidth": 0,
             "ticks": ""
            },
            "colorscale": [
             [
              0,
              "#0d0887"
             ],
             [
              0.1111111111111111,
              "#46039f"
             ],
             [
              0.2222222222222222,
              "#7201a8"
             ],
             [
              0.3333333333333333,
              "#9c179e"
             ],
             [
              0.4444444444444444,
              "#bd3786"
             ],
             [
              0.5555555555555556,
              "#d8576b"
             ],
             [
              0.6666666666666666,
              "#ed7953"
             ],
             [
              0.7777777777777778,
              "#fb9f3a"
             ],
             [
              0.8888888888888888,
              "#fdca26"
             ],
             [
              1,
              "#f0f921"
             ]
            ],
            "type": "heatmap"
           }
          ],
          "histogram": [
           {
            "marker": {
             "pattern": {
              "fillmode": "overlay",
              "size": 10,
              "solidity": 0.2
             }
            },
            "type": "histogram"
           }
          ],
          "histogram2d": [
           {
            "colorbar": {
             "outlinewidth": 0,
             "ticks": ""
            },
            "colorscale": [
             [
              0,
              "#0d0887"
             ],
             [
              0.1111111111111111,
              "#46039f"
             ],
             [
              0.2222222222222222,
              "#7201a8"
             ],
             [
              0.3333333333333333,
              "#9c179e"
             ],
             [
              0.4444444444444444,
              "#bd3786"
             ],
             [
              0.5555555555555556,
              "#d8576b"
             ],
             [
              0.6666666666666666,
              "#ed7953"
             ],
             [
              0.7777777777777778,
              "#fb9f3a"
             ],
             [
              0.8888888888888888,
              "#fdca26"
             ],
             [
              1,
              "#f0f921"
             ]
            ],
            "type": "histogram2d"
           }
          ],
          "histogram2dcontour": [
           {
            "colorbar": {
             "outlinewidth": 0,
             "ticks": ""
            },
            "colorscale": [
             [
              0,
              "#0d0887"
             ],
             [
              0.1111111111111111,
              "#46039f"
             ],
             [
              0.2222222222222222,
              "#7201a8"
             ],
             [
              0.3333333333333333,
              "#9c179e"
             ],
             [
              0.4444444444444444,
              "#bd3786"
             ],
             [
              0.5555555555555556,
              "#d8576b"
             ],
             [
              0.6666666666666666,
              "#ed7953"
             ],
             [
              0.7777777777777778,
              "#fb9f3a"
             ],
             [
              0.8888888888888888,
              "#fdca26"
             ],
             [
              1,
              "#f0f921"
             ]
            ],
            "type": "histogram2dcontour"
           }
          ],
          "mesh3d": [
           {
            "colorbar": {
             "outlinewidth": 0,
             "ticks": ""
            },
            "type": "mesh3d"
           }
          ],
          "parcoords": [
           {
            "line": {
             "colorbar": {
              "outlinewidth": 0,
              "ticks": ""
             }
            },
            "type": "parcoords"
           }
          ],
          "pie": [
           {
            "automargin": true,
            "type": "pie"
           }
          ],
          "scatter": [
           {
            "fillpattern": {
             "fillmode": "overlay",
             "size": 10,
             "solidity": 0.2
            },
            "type": "scatter"
           }
          ],
          "scatter3d": [
           {
            "line": {
             "colorbar": {
              "outlinewidth": 0,
              "ticks": ""
             }
            },
            "marker": {
             "colorbar": {
              "outlinewidth": 0,
              "ticks": ""
             }
            },
            "type": "scatter3d"
           }
          ],
          "scattercarpet": [
           {
            "marker": {
             "colorbar": {
              "outlinewidth": 0,
              "ticks": ""
             }
            },
            "type": "scattercarpet"
           }
          ],
          "scattergeo": [
           {
            "marker": {
             "colorbar": {
              "outlinewidth": 0,
              "ticks": ""
             }
            },
            "type": "scattergeo"
           }
          ],
          "scattergl": [
           {
            "marker": {
             "colorbar": {
              "outlinewidth": 0,
              "ticks": ""
             }
            },
            "type": "scattergl"
           }
          ],
          "scattermap": [
           {
            "marker": {
             "colorbar": {
              "outlinewidth": 0,
              "ticks": ""
             }
            },
            "type": "scattermap"
           }
          ],
          "scattermapbox": [
           {
            "marker": {
             "colorbar": {
              "outlinewidth": 0,
              "ticks": ""
             }
            },
            "type": "scattermapbox"
           }
          ],
          "scatterpolar": [
           {
            "marker": {
             "colorbar": {
              "outlinewidth": 0,
              "ticks": ""
             }
            },
            "type": "scatterpolar"
           }
          ],
          "scatterpolargl": [
           {
            "marker": {
             "colorbar": {
              "outlinewidth": 0,
              "ticks": ""
             }
            },
            "type": "scatterpolargl"
           }
          ],
          "scatterternary": [
           {
            "marker": {
             "colorbar": {
              "outlinewidth": 0,
              "ticks": ""
             }
            },
            "type": "scatterternary"
           }
          ],
          "surface": [
           {
            "colorbar": {
             "outlinewidth": 0,
             "ticks": ""
            },
            "colorscale": [
             [
              0,
              "#0d0887"
             ],
             [
              0.1111111111111111,
              "#46039f"
             ],
             [
              0.2222222222222222,
              "#7201a8"
             ],
             [
              0.3333333333333333,
              "#9c179e"
             ],
             [
              0.4444444444444444,
              "#bd3786"
             ],
             [
              0.5555555555555556,
              "#d8576b"
             ],
             [
              0.6666666666666666,
              "#ed7953"
             ],
             [
              0.7777777777777778,
              "#fb9f3a"
             ],
             [
              0.8888888888888888,
              "#fdca26"
             ],
             [
              1,
              "#f0f921"
             ]
            ],
            "type": "surface"
           }
          ],
          "table": [
           {
            "cells": {
             "fill": {
              "color": "#EBF0F8"
             },
             "line": {
              "color": "white"
             }
            },
            "header": {
             "fill": {
              "color": "#C8D4E3"
             },
             "line": {
              "color": "white"
             }
            },
            "type": "table"
           }
          ]
         },
         "layout": {
          "annotationdefaults": {
           "arrowcolor": "#2a3f5f",
           "arrowhead": 0,
           "arrowwidth": 1
          },
          "autotypenumbers": "strict",
          "coloraxis": {
           "colorbar": {
            "outlinewidth": 0,
            "ticks": ""
           }
          },
          "colorscale": {
           "diverging": [
            [
             0,
             "#8e0152"
            ],
            [
             0.1,
             "#c51b7d"
            ],
            [
             0.2,
             "#de77ae"
            ],
            [
             0.3,
             "#f1b6da"
            ],
            [
             0.4,
             "#fde0ef"
            ],
            [
             0.5,
             "#f7f7f7"
            ],
            [
             0.6,
             "#e6f5d0"
            ],
            [
             0.7,
             "#b8e186"
            ],
            [
             0.8,
             "#7fbc41"
            ],
            [
             0.9,
             "#4d9221"
            ],
            [
             1,
             "#276419"
            ]
           ],
           "sequential": [
            [
             0,
             "#0d0887"
            ],
            [
             0.1111111111111111,
             "#46039f"
            ],
            [
             0.2222222222222222,
             "#7201a8"
            ],
            [
             0.3333333333333333,
             "#9c179e"
            ],
            [
             0.4444444444444444,
             "#bd3786"
            ],
            [
             0.5555555555555556,
             "#d8576b"
            ],
            [
             0.6666666666666666,
             "#ed7953"
            ],
            [
             0.7777777777777778,
             "#fb9f3a"
            ],
            [
             0.8888888888888888,
             "#fdca26"
            ],
            [
             1,
             "#f0f921"
            ]
           ],
           "sequentialminus": [
            [
             0,
             "#0d0887"
            ],
            [
             0.1111111111111111,
             "#46039f"
            ],
            [
             0.2222222222222222,
             "#7201a8"
            ],
            [
             0.3333333333333333,
             "#9c179e"
            ],
            [
             0.4444444444444444,
             "#bd3786"
            ],
            [
             0.5555555555555556,
             "#d8576b"
            ],
            [
             0.6666666666666666,
             "#ed7953"
            ],
            [
             0.7777777777777778,
             "#fb9f3a"
            ],
            [
             0.8888888888888888,
             "#fdca26"
            ],
            [
             1,
             "#f0f921"
            ]
           ]
          },
          "colorway": [
           "#636efa",
           "#EF553B",
           "#00cc96",
           "#ab63fa",
           "#FFA15A",
           "#19d3f3",
           "#FF6692",
           "#B6E880",
           "#FF97FF",
           "#FECB52"
          ],
          "font": {
           "color": "#2a3f5f"
          },
          "geo": {
           "bgcolor": "white",
           "lakecolor": "white",
           "landcolor": "#E5ECF6",
           "showlakes": true,
           "showland": true,
           "subunitcolor": "white"
          },
          "hoverlabel": {
           "align": "left"
          },
          "hovermode": "closest",
          "mapbox": {
           "style": "light"
          },
          "paper_bgcolor": "white",
          "plot_bgcolor": "#E5ECF6",
          "polar": {
           "angularaxis": {
            "gridcolor": "white",
            "linecolor": "white",
            "ticks": ""
           },
           "bgcolor": "#E5ECF6",
           "radialaxis": {
            "gridcolor": "white",
            "linecolor": "white",
            "ticks": ""
           }
          },
          "scene": {
           "xaxis": {
            "backgroundcolor": "#E5ECF6",
            "gridcolor": "white",
            "gridwidth": 2,
            "linecolor": "white",
            "showbackground": true,
            "ticks": "",
            "zerolinecolor": "white"
           },
           "yaxis": {
            "backgroundcolor": "#E5ECF6",
            "gridcolor": "white",
            "gridwidth": 2,
            "linecolor": "white",
            "showbackground": true,
            "ticks": "",
            "zerolinecolor": "white"
           },
           "zaxis": {
            "backgroundcolor": "#E5ECF6",
            "gridcolor": "white",
            "gridwidth": 2,
            "linecolor": "white",
            "showbackground": true,
            "ticks": "",
            "zerolinecolor": "white"
           }
          },
          "shapedefaults": {
           "line": {
            "color": "#2a3f5f"
           }
          },
          "ternary": {
           "aaxis": {
            "gridcolor": "white",
            "linecolor": "white",
            "ticks": ""
           },
           "baxis": {
            "gridcolor": "white",
            "linecolor": "white",
            "ticks": ""
           },
           "bgcolor": "#E5ECF6",
           "caxis": {
            "gridcolor": "white",
            "linecolor": "white",
            "ticks": ""
           }
          },
          "title": {
           "x": 0.05
          },
          "xaxis": {
           "automargin": true,
           "gridcolor": "white",
           "linecolor": "white",
           "ticks": "",
           "title": {
            "standoff": 15
           },
           "zerolinecolor": "white",
           "zerolinewidth": 2
          },
          "yaxis": {
           "automargin": true,
           "gridcolor": "white",
           "linecolor": "white",
           "ticks": "",
           "title": {
            "standoff": 15
           },
           "zerolinecolor": "white",
           "zerolinewidth": 2
          }
         }
        },
        "title": {
         "text": "Inclusion vs Taxonomy Similarity",
         "x": 0.5,
         "xanchor": "center"
        },
        "width": 900,
        "xaxis": {
         "range": [
          0.4375,
          1
         ],
         "title": {
          "text": "Inclusion Ratio"
         }
        },
        "yaxis": {
         "range": [
          0,
          1
         ],
         "title": {
          "text": "Similarity (mean ± std)"
         }
        }
       }
      }
     },
     "metadata": {},
     "output_type": "display_data"
    }
   ],
   "source": [
    "# PLOT Similarities of SELECTED VALUES in each bin\n",
    "\n",
    "def plot_similarity_vs_inclusion(data_pairs, bins=10, title_str=\"\", column_name=\"\"):\n",
    "    \"\"\"\n",
    "    Plots similarity (mean ± std) vs. inclusion ratio for multiple (df_selected, label) pairs.\n",
    "    \n",
    "    Args:\n",
    "        data_pairs (list of tuples): Each tuple contains (df_selected, label). df_selected must contain 'inclusion_ratio' and 'similarity'.\n",
    "        bins (int): Number of bins for inclusion_ratio.\n",
    "        title_str (str): Title for the plot.\n",
    "    \"\"\"\n",
    "    bin_edges = np.linspace(0, 1, bins + 1)\n",
    "    bin_centers = [(bin_edges[i] + bin_edges[i + 1]) / 2 for i in range(bins)]\n",
    "\n",
    "    colors = ['blue', 'red', 'green', 'orange', 'purple', 'brown', 'teal', 'pink']\n",
    "    dash_styles = ['solid', 'dot', 'dash', 'longdash', 'dashdot', 'longdashdot']\n",
    "    marker_symbols = ['circle', 'square', 'diamond', 'cross', 'x', 'triangle-up']\n",
    "\n",
    "    fig = go.Figure()\n",
    "\n",
    "    for i, (df_selected, label) in enumerate(data_pairs):\n",
    "        # Bin data\n",
    "        selected_binned = pd.cut(df_selected[\"inclusion_ratio\"], bins=bin_edges, include_lowest=True)\n",
    "\n",
    "        # selected_counts = selected_binned.value_counts(sort=False)\n",
    "        # selected_counts = selected_binned.groupby(selected_binned, observed=True).count()\n",
    "        # print(f\"bins num at {i} {selected_counts}\")\n",
    "\n",
    "        # Compute mean and std of similarity in each bin\n",
    "        # mean_similarity = df_selected.groupby(selected_binned)[column_name].mean()\n",
    "        # std_similarity = df_selected.groupby(selected_binned)[column_name].std().fillna(0)\n",
    "\n",
    "        mean_similarity = df_selected.groupby(selected_binned, observed=True)[column_name].mean()\n",
    "        std_similarity = df_selected.groupby(selected_binned, observed=True)[column_name].std().fillna(0)\n",
    "\n",
    "        # Add mean line with error bars (sticks)\n",
    "        fig.add_trace(go.Scatter(\n",
    "            x=bin_centers,\n",
    "            y=mean_similarity.values,\n",
    "            mode='lines+markers',\n",
    "            name=label,\n",
    "            line=dict(color=colors[i % len(colors)], dash=dash_styles[i % len(dash_styles)]),\n",
    "            marker=dict(symbol=marker_symbols[i % len(marker_symbols)], size=8),\n",
    "            error_y=dict(\n",
    "                type='data',\n",
    "                array=std_similarity.values,\n",
    "                visible=True,\n",
    "                color=colors[i % len(colors)]\n",
    "            )\n",
    "        ))\n",
    "\n",
    "    fig.update_layout(\n",
    "        title=dict(\n",
    "        text=f\"{title_str}\",\n",
    "        x=0.5,  # Center the title\n",
    "        xanchor='center'  # Anchor the title at the center\n",
    "        ),\n",
    "        xaxis_title=\"Inclusion Ratio\",\n",
    "        yaxis_title=\"Similarity (mean ± std)\",\n",
    "        xaxis=dict(range=[0.4375, 1]),\n",
    "        yaxis=dict(range=[0, 1]),\n",
    "        width=900,\n",
    "        height=500,\n",
    "        legend=dict(title=\"Legend\", x=0.01, y=0.05),\n",
    "    )\n",
    "\n",
    "    fig.show()\n",
    "\n",
    "plot_similarity_vs_inclusion(\n",
    "    [\n",
    "    (efil3_seq_rag, \"RAG SeqSim\"),\n",
    "    (efil3_seq_norag, \"baseline1\"),\n",
    "    (efil3_raggoal, \"baseline2\"),\n",
    "    (efil3_noraggoal, \"baseline3\")],\n",
    "    title_str=\"Inclusion vs Sequence Similarity\",\n",
    "    bins=8, column_name='sim_seq3'\n",
    "    )\n",
    "\n",
    "plot_similarity_vs_inclusion(\n",
    "    [\n",
    "    (efil3_seq_rag, \"RAG SeqSim\"),\n",
    "    (efil3_seq_norag, \"NoRAG SeqSim\"),],\n",
    "    title_str=\"Inclusion vs Taxonomy Similarity\",\n",
    "    bins=8, column_name='sim_seq3'\n",
    "    )"
   ]
  },
  {
   "cell_type": "code",
   "execution_count": 30,
   "id": "f1fa542a",
   "metadata": {},
   "outputs": [
    {
     "name": "stdout",
     "output_type": "stream",
     "text": [
      "/root/project/f4_evaluate/result_v6/human/human-norag.json\n",
      "213\n",
      "213\n",
      "213\n",
      "213\n",
      "213\n",
      "213\n",
      "212\n",
      "212\n",
      "213 119\n"
     ]
    },
    {
     "data": {
      "application/vnd.plotly.v1+json": {
       "config": {
        "plotlyServerURL": "https://plot.ly"
       },
       "data": [
        {
         "customdata": [
          [
           2,
           "01ce4fd6-197a-4792-8778-775b03780369"
          ],
          [
           7,
           "02a06bf1-51b8-4902-b088-573e29fcd7ec"
          ],
          [
           8,
           "02a06bf1-51b8-4902-b088-573e29fcd7ec"
          ],
          [
           10,
           "14bcb17c-f70a-41d5-b10d-294388084dfc"
          ],
          [
           11,
           "14bcb17c-f70a-41d5-b10d-294388084dfc"
          ],
          [
           12,
           "1a894d3c-b3ef-448a-a3de-2b38677cef36"
          ],
          [
           13,
           "1a894d3c-b3ef-448a-a3de-2b38677cef36"
          ],
          [
           15,
           "1dc85adb-fbdd-4275-b9cf-42976acb4d14"
          ],
          [
           16,
           "1dc85adb-fbdd-4275-b9cf-42976acb4d14"
          ],
          [
           20,
           "24ba7993-7fc8-4447-afd5-7ff6d548b11a"
          ],
          [
           24,
           "2978ddbc-cdc9-4bfa-9a7c-4bf056904010"
          ],
          [
           25,
           "2978ddbc-cdc9-4bfa-9a7c-4bf056904010"
          ],
          [
           26,
           "2978ddbc-cdc9-4bfa-9a7c-4bf056904010"
          ],
          [
           28,
           "29e00040-6e0f-4f0e-816d-1ac97c1e5485"
          ],
          [
           29,
           "29e00040-6e0f-4f0e-816d-1ac97c1e5485"
          ],
          [
           30,
           "2ba0becb-58c2-43a1-97bb-7e153a34eb47"
          ],
          [
           31,
           "2ba0becb-58c2-43a1-97bb-7e153a34eb47"
          ],
          [
           35,
           "2bc7d6fa-a02e-4367-b316-d6b4e8a2ce3f"
          ],
          [
           36,
           "2c27b5f1-4af6-49ad-a43c-3efb0c150868"
          ],
          [
           37,
           "2c27b5f1-4af6-49ad-a43c-3efb0c150868"
          ],
          [
           38,
           "2c27b5f1-4af6-49ad-a43c-3efb0c150868"
          ],
          [
           39,
           "2da5c1ee-bd40-406d-83a7-2f3d93293949"
          ],
          [
           42,
           "2f46d1e6-2a85-4d46-b955-10c2eded661c"
          ],
          [
           43,
           "2f46d1e6-2a85-4d46-b955-10c2eded661c"
          ],
          [
           44,
           "2f46d1e6-2a85-4d46-b955-10c2eded661c"
          ],
          [
           45,
           "31d6fe77-da70-42da-8f47-66bb79b9285b"
          ],
          [
           46,
           "31d6fe77-da70-42da-8f47-66bb79b9285b"
          ],
          [
           47,
           "31d6fe77-da70-42da-8f47-66bb79b9285b"
          ],
          [
           53,
           "341b5211-bb72-4bec-bd3d-c0d518887960"
          ],
          [
           60,
           "38a7b760-56f9-4565-8b70-f8dad5768ace"
          ],
          [
           61,
           "38a7b760-56f9-4565-8b70-f8dad5768ace"
          ],
          [
           62,
           "38a7b760-56f9-4565-8b70-f8dad5768ace"
          ],
          [
           64,
           "3ec3eab7-842d-409d-8866-42ddcbd24cd9"
          ],
          [
           71,
           "47bb1fd4-d41f-42b4-8d0c-29c4e9fdff9f"
          ],
          [
           74,
           "487d752c-6e22-43e3-9c08-627bc2a6c6d4"
          ],
          [
           78,
           "543e4c99-5d9f-407d-be75-c397d633fe56"
          ],
          [
           79,
           "543e4c99-5d9f-407d-be75-c397d633fe56"
          ],
          [
           80,
           "543e4c99-5d9f-407d-be75-c397d633fe56"
          ],
          [
           81,
           "5461912b-69cd-40d7-8f79-50832f92f049"
          ],
          [
           82,
           "5461912b-69cd-40d7-8f79-50832f92f049"
          ],
          [
           83,
           "5461912b-69cd-40d7-8f79-50832f92f049"
          ],
          [
           84,
           "56fe0c73-77c4-40d9-a687-b2df28d5f7d7"
          ],
          [
           85,
           "56fe0c73-77c4-40d9-a687-b2df28d5f7d7"
          ],
          [
           86,
           "56fe0c73-77c4-40d9-a687-b2df28d5f7d7"
          ],
          [
           92,
           "5c15607b-96af-4503-84b4-d1745f3a3ae0"
          ],
          [
           93,
           "5c2e910c-84e0-4042-b5d6-880a731c3e67"
          ],
          [
           94,
           "5c2e910c-84e0-4042-b5d6-880a731c3e67"
          ],
          [
           96,
           "6628a2fb-19e2-4fe5-aedb-92fe5ceee9c9"
          ],
          [
           97,
           "6628a2fb-19e2-4fe5-aedb-92fe5ceee9c9"
          ],
          [
           98,
           "6628a2fb-19e2-4fe5-aedb-92fe5ceee9c9"
          ],
          [
           99,
           "690f58f1-f18c-4415-bab0-787c2f83d051"
          ],
          [
           100,
           "690f58f1-f18c-4415-bab0-787c2f83d051"
          ],
          [
           101,
           "690f58f1-f18c-4415-bab0-787c2f83d051"
          ],
          [
           102,
           "6ac1d2ed-1f6b-4828-a1ab-f81c40bd5e80"
          ],
          [
           103,
           "6ac1d2ed-1f6b-4828-a1ab-f81c40bd5e80"
          ],
          [
           104,
           "6ac1d2ed-1f6b-4828-a1ab-f81c40bd5e80"
          ],
          [
           105,
           "6dafeac7-75b6-4d69-96f7-d08708a0a99e"
          ],
          [
           106,
           "6dafeac7-75b6-4d69-96f7-d08708a0a99e"
          ],
          [
           107,
           "6dafeac7-75b6-4d69-96f7-d08708a0a99e"
          ],
          [
           108,
           "737e9619-7768-407c-8a4f-6fe1e8d61f04"
          ],
          [
           109,
           "737e9619-7768-407c-8a4f-6fe1e8d61f04"
          ],
          [
           110,
           "737e9619-7768-407c-8a4f-6fe1e8d61f04"
          ],
          [
           111,
           "748536e4-636a-4dc6-b1a7-d9cbfdc1cffd"
          ],
          [
           117,
           "892629b0-61eb-425d-97f4-7d213074c435"
          ],
          [
           118,
           "892629b0-61eb-425d-97f4-7d213074c435"
          ],
          [
           119,
           "892629b0-61eb-425d-97f4-7d213074c435"
          ],
          [
           123,
           "907fd0e7-6821-4e2d-9c62-6d7afad5a9d1"
          ],
          [
           124,
           "907fd0e7-6821-4e2d-9c62-6d7afad5a9d1"
          ],
          [
           125,
           "907fd0e7-6821-4e2d-9c62-6d7afad5a9d1"
          ],
          [
           126,
           "98434f4c-6216-4067-ad59-4a89cb47bb9b"
          ],
          [
           127,
           "98434f4c-6216-4067-ad59-4a89cb47bb9b"
          ],
          [
           128,
           "98434f4c-6216-4067-ad59-4a89cb47bb9b"
          ],
          [
           131,
           "9fabfbc8-1d5c-495e-9bb2-03795f0145ae"
          ],
          [
           133,
           "a267b011-b1db-4e3c-aa49-438e2afdd6dc"
          ],
          [
           134,
           "a267b011-b1db-4e3c-aa49-438e2afdd6dc"
          ],
          [
           136,
           "a6419de9-1e40-4793-b21b-9c8d9038835a"
          ],
          [
           138,
           "ab7ed4f7-10ee-4ccb-bb21-4853c9018b1e"
          ],
          [
           139,
           "ab7ed4f7-10ee-4ccb-bb21-4853c9018b1e"
          ],
          [
           140,
           "ab7ed4f7-10ee-4ccb-bb21-4853c9018b1e"
          ],
          [
           146,
           "ae2d99c2-1720-4354-bc4d-f7bc3e4ee28d"
          ],
          [
           152,
           "b4072935-56a6-4765-bb4d-d5f6bbeb95b9"
          ],
          [
           154,
           "b83285c5-0b88-4ced-a52e-5c34ea371507"
          ],
          [
           155,
           "b83285c5-0b88-4ced-a52e-5c34ea371507"
          ],
          [
           156,
           "cf95d6a4-6ad7-462c-9700-9f04bd993667"
          ],
          [
           157,
           "cf95d6a4-6ad7-462c-9700-9f04bd993667"
          ],
          [
           158,
           "cf95d6a4-6ad7-462c-9700-9f04bd993667"
          ],
          [
           160,
           "d7a2e92e-dc74-4e79-be04-a86f829fc3ec"
          ],
          [
           161,
           "d7a2e92e-dc74-4e79-be04-a86f829fc3ec"
          ],
          [
           164,
           "daf5384b-ea5c-4cce-bb8a-540a360075bf"
          ],
          [
           165,
           "dcd09fa4-afe2-4a0d-9703-83af2867ebd3"
          ],
          [
           166,
           "dcd09fa4-afe2-4a0d-9703-83af2867ebd3"
          ],
          [
           167,
           "dcd09fa4-afe2-4a0d-9703-83af2867ebd3"
          ],
          [
           169,
           "debfb68a-eae2-464e-847a-cd3fea23f3ca"
          ],
          [
           170,
           "debfb68a-eae2-464e-847a-cd3fea23f3ca"
          ],
          [
           174,
           "e250017c-16ff-4825-9c30-160f391e1549"
          ],
          [
           175,
           "e250017c-16ff-4825-9c30-160f391e1549"
          ],
          [
           176,
           "e250017c-16ff-4825-9c30-160f391e1549"
          ],
          [
           177,
           "e4ad6fd7-2e3e-4991-b392-a0056f702286"
          ],
          [
           178,
           "e4ad6fd7-2e3e-4991-b392-a0056f702286"
          ],
          [
           179,
           "e4ad6fd7-2e3e-4991-b392-a0056f702286"
          ],
          [
           180,
           "e6231d1a-1f7f-4198-a499-7635509adfaf"
          ],
          [
           181,
           "e6231d1a-1f7f-4198-a499-7635509adfaf"
          ],
          [
           182,
           "e6231d1a-1f7f-4198-a499-7635509adfaf"
          ],
          [
           187,
           "ec3556de-be79-4ad4-aa0f-eaca48abb5d5"
          ],
          [
           188,
           "ec3556de-be79-4ad4-aa0f-eaca48abb5d5"
          ],
          [
           192,
           "edc1869c-8a97-44fd-ab47-63fda4a54df9"
          ],
          [
           193,
           "edc1869c-8a97-44fd-ab47-63fda4a54df9"
          ],
          [
           199,
           "f5ac654b-8f39-427b-856f-4a9a2d4a3020"
          ],
          [
           200,
           "f5ac654b-8f39-427b-856f-4a9a2d4a3020"
          ],
          [
           201,
           "fea524d4-a1b6-466c-ac48-8777c3fd173d"
          ],
          [
           202,
           "fea524d4-a1b6-466c-ac48-8777c3fd173d"
          ],
          [
           203,
           "fea524d4-a1b6-466c-ac48-8777c3fd173d"
          ],
          [
           204,
           "grp-690f58f1-f18c-4415-bab0-787c2f83d051"
          ],
          [
           205,
           "grp-690f58f1-f18c-4415-bab0-787c2f83d051"
          ],
          [
           206,
           "grp-690f58f1-f18c-4415-bab0-787c2f83d051"
          ],
          [
           207,
           "grp-b59f7f5d-2991-49a6-8e88-0e2f2db92585"
          ],
          [
           210,
           "grp-ffd863cb-f06b-404e-a013-54acb61f1ed9"
          ],
          [
           211,
           "grp-ffd863cb-f06b-404e-a013-54acb61f1ed9"
          ],
          [
           212,
           "grp-ffd863cb-f06b-404e-a013-54acb61f1ed9"
          ]
         ],
         "hovertemplate": "Inclusion Ratio=%{x}<br>sim_tax3=%{y}<br>idx=%{customdata[0]}<br>source_uid=%{customdata[1]}<extra></extra>",
         "legendgroup": "",
         "marker": {
          "color": "#636efa",
          "symbol": "circle"
         },
         "mode": "markers",
         "name": "",
         "orientation": "v",
         "showlegend": false,
         "type": "scatter",
         "x": {
          "bdata": "VVVVVVVV1T9VVVVVVVXlP1VVVVVVVeU/AAAAAAAA8D8AAAAAAADwP5qZmZmZmdk/7FG4HoXr4T/NzMzMzMzsPwAAAAAAAPA/AAAAAAAA7D8zMzMzMzPjP5qZmZmZmek/zczMzMzM7D9mZmZmZmbmP2ZmZmZmZuY/AAAAAAAA4T8AAAAAAADkPwAAAAAAAPA/CtejcD0K1z+4HoXrUbjeP+xRuB6F6+E/MzMzMzMz0z9Ob3rTm97kP05vetOb3uQ/ZCELWchC5j8AAAAAAADQPwAAAAAAAOQ/AAAAAAAA5D8AAAAAAADwP1VVVVVVVeU/VVVVVVVV5T8AAAAAAADwPwAAAAAAAOA/kiRJkiRJ0j8AAAAAAADwPxzHcRzHcew/HMdxHMdx7D8AAAAAAADwP0N5DeU1lOc/Q3kN5TWU5z82lNdQXkPpP57YiZ3Yid0/2Ymd2Imd6D/ZiZ3YiZ3oP5IkSZIkSeI/AAAAAAAA8D8AAAAAAADwPxEREREREeE/MzMzMzMz4z93d3d3d3fnPxQ7sRM7sdM/ntiJndiJ3T+xEzuxEzvhPwAAAAAAANw/AAAAAAAA4j8AAAAAAADiP83MzMzMzOw/7+7u7u7u7j8AAAAAAADwPxQ7sRM7sbM/ntiJndiJzT+e2Imd2InNPwAAAAAAAOA/AAAAAAAA6D8AAAAAAADsPwAAAAAAAPA/mpmZmZmZyT8zMzMzMzPTPzMzMzMzM9M/JUmSJEmS5D8lSZIkSZLkP9u2bdu2bes/AAAAAAAA6D8cx3Ecx3HsPxzHcRzHcew/AAAAAAAA6D+e53me53neP3qe53me5+k/ep7neZ7n6T9iJ3ZiJ3biP5IkSZIkSdI/27Zt27Zt6z8AAAAAAADwP7dt27Zt2+Y/O6iDOqiD6j98xVd8xVfsPwAAAAAAAOg/AAAAAAAA8D8eHh4eHh7eP2ZmZmZmZu4/AAAAAAAA8D8AAAAAAADwPwAAAAAAAPA/AAAAAAAA8D/sxE7sxE7sPwAAAAAAAPA/AAAAAAAA8D8AAAAAAADwPwAAAAAAAPA/AAAAAAAA8D9VVVVVVVXVP6uqqqqqqto/q6qqqqqq2j9VVVVVVVXlPzmO4ziO4+g/KK+hvIby6j82lNdQXkPpPyELWchCFuI/OL3pTW964z9VVVVVVVXtP1VVVVVVVe0/VVVVVVVV7T8or6G8hvLqPyivobyG8uo/jLRjBcJI6z9DFrKQhSzkPyVJkiRJkuQ/AAAAAAAA6D+SJEmSJEnqPw==",
          "dtype": "f8"
         },
         "xaxis": "x",
         "y": {
          "bdata": "Hoq2boev2j8AAAAAAAAAAO7TT9DBV+s/MxuL9C5s6D+8BTpjmZnpP+DojY4EUMs/tIM9/yVP5T8KD0jEa+TrPxOxoW3//+8/KDMzMzMz4z+gW1nMfXrrP0P/0BrTVus/7uTFareS6T+0YhIRZmbmP19mZmZmZuY/pwqW/GVm5j9YZmZmZmbmP+xwb+X16e4/E9K4NP7/7z+HL2NOHXjtP+QqHxBnhO4/4jbo9YBI3j8+isXwvS/oP5SzJD6jxeo/p+Luv1qv6D+gFJC0reDNPw7K/ukxM+M/R2QZR5mZ6T8AAAAAAAAAALmu/ipyQuk/9JmFkH076z/6PxtWy8zsP84Ljq5vTOM/Wy6Z6H/o5z8LHMtJskfjP3quqVHCYOE/NaVoD9Tq4z+KsE4wOPniP28mvYbg1eY/EI64B3/Y4z+6zMzMzMzsP9LOwshjuuM/MF0otP//7z8CddNz7n7uP4qNvpvMzOw/oG0pS1At6T8cOG3F7+jrP0eRaeFkZuY/j57ZP2Vm5j8AAAAAAAAAALnDPleJjt0/BSPekcvM7D/NyrxdmJnpP1tmZmZmZuY/P1bHv5iZ6T8VwZYpmZnpP7/isWPMzOw/DSTzZJ6e7T+uQ7w52XPtP8g2ddkvJd4/+ZVWXB445D9fPb/J0hPjP2ZtK/tlZuY/iV41LUQy6z+7kWhgd2XuP6SMSRJH/e8/GnVEXjkM7j8mBKj4eBfuP7/MzMzMzOw/nbY1NEjO7D979KtVUgjlP+Ml1wf//+8/iZmZmZmZ6T+4/jh////vP7rMzMzMzOw/k+ihyf//7z8AeShl4a3qP6cvUXbLzOw/sOHblMzM7D+djwbho+7bP29SYXgR0tE/Tbe1csvM7D9uLXdk2uTtP9aWx2S7zOw/dUiosf7/7z8GyvqX7v/vP1qHwm3//+8/4Am5asT/7z9Oa2+UHcrrP/ck4Gz+/+8/Zr+ibzO/6z/o///////vPzWUuIz8/+8//7JJp///7z/AzMzMzMzsP+XTFsP+/+8/8v//////7z8cr14EXrDtPzB0re3+/+8/B0RK1KXw7T+RTVjhHaLtP7iq1J/NrOo/PhTMtf//7z+U9bJl///vPwqQwL///+8/Bc5zjf7/7z/fhFD6E+jtPxG8XZ4K0+c/KDMzMzMz4z+PPokc/v/vP+oNa143FOs/0c1NT/D87j8GE+6UzMzsP1A4JJPMzOw/uszMzMzM7D/N5Hadr7HhPx78fJjMzOw/DPiXwf//7z/QxGlh///vPw==",
          "dtype": "f8"
         },
         "yaxis": "y"
        },
        {
         "line": {
          "color": "green",
          "dash": "dot"
         },
         "mode": "lines+markers",
         "name": "Ratio (mybool=True / all)",
         "type": "scatter",
         "x": [
          0.0995,
          0.30000000000000004,
          0.5,
          0.7,
          0.9
         ],
         "y": [
          0.07142857142857142,
          0.3939393939393939,
          0.5238095238095238,
          0.7674418604651163,
          0.7313432835820896
         ],
         "yaxis": "y2"
        }
       ],
       "layout": {
        "legend": {
         "tracegroupgap": 0
        },
        "template": {
         "data": {
          "bar": [
           {
            "error_x": {
             "color": "#2a3f5f"
            },
            "error_y": {
             "color": "#2a3f5f"
            },
            "marker": {
             "line": {
              "color": "#E5ECF6",
              "width": 0.5
             },
             "pattern": {
              "fillmode": "overlay",
              "size": 10,
              "solidity": 0.2
             }
            },
            "type": "bar"
           }
          ],
          "barpolar": [
           {
            "marker": {
             "line": {
              "color": "#E5ECF6",
              "width": 0.5
             },
             "pattern": {
              "fillmode": "overlay",
              "size": 10,
              "solidity": 0.2
             }
            },
            "type": "barpolar"
           }
          ],
          "carpet": [
           {
            "aaxis": {
             "endlinecolor": "#2a3f5f",
             "gridcolor": "white",
             "linecolor": "white",
             "minorgridcolor": "white",
             "startlinecolor": "#2a3f5f"
            },
            "baxis": {
             "endlinecolor": "#2a3f5f",
             "gridcolor": "white",
             "linecolor": "white",
             "minorgridcolor": "white",
             "startlinecolor": "#2a3f5f"
            },
            "type": "carpet"
           }
          ],
          "choropleth": [
           {
            "colorbar": {
             "outlinewidth": 0,
             "ticks": ""
            },
            "type": "choropleth"
           }
          ],
          "contour": [
           {
            "colorbar": {
             "outlinewidth": 0,
             "ticks": ""
            },
            "colorscale": [
             [
              0,
              "#0d0887"
             ],
             [
              0.1111111111111111,
              "#46039f"
             ],
             [
              0.2222222222222222,
              "#7201a8"
             ],
             [
              0.3333333333333333,
              "#9c179e"
             ],
             [
              0.4444444444444444,
              "#bd3786"
             ],
             [
              0.5555555555555556,
              "#d8576b"
             ],
             [
              0.6666666666666666,
              "#ed7953"
             ],
             [
              0.7777777777777778,
              "#fb9f3a"
             ],
             [
              0.8888888888888888,
              "#fdca26"
             ],
             [
              1,
              "#f0f921"
             ]
            ],
            "type": "contour"
           }
          ],
          "contourcarpet": [
           {
            "colorbar": {
             "outlinewidth": 0,
             "ticks": ""
            },
            "type": "contourcarpet"
           }
          ],
          "heatmap": [
           {
            "colorbar": {
             "outlinewidth": 0,
             "ticks": ""
            },
            "colorscale": [
             [
              0,
              "#0d0887"
             ],
             [
              0.1111111111111111,
              "#46039f"
             ],
             [
              0.2222222222222222,
              "#7201a8"
             ],
             [
              0.3333333333333333,
              "#9c179e"
             ],
             [
              0.4444444444444444,
              "#bd3786"
             ],
             [
              0.5555555555555556,
              "#d8576b"
             ],
             [
              0.6666666666666666,
              "#ed7953"
             ],
             [
              0.7777777777777778,
              "#fb9f3a"
             ],
             [
              0.8888888888888888,
              "#fdca26"
             ],
             [
              1,
              "#f0f921"
             ]
            ],
            "type": "heatmap"
           }
          ],
          "histogram": [
           {
            "marker": {
             "pattern": {
              "fillmode": "overlay",
              "size": 10,
              "solidity": 0.2
             }
            },
            "type": "histogram"
           }
          ],
          "histogram2d": [
           {
            "colorbar": {
             "outlinewidth": 0,
             "ticks": ""
            },
            "colorscale": [
             [
              0,
              "#0d0887"
             ],
             [
              0.1111111111111111,
              "#46039f"
             ],
             [
              0.2222222222222222,
              "#7201a8"
             ],
             [
              0.3333333333333333,
              "#9c179e"
             ],
             [
              0.4444444444444444,
              "#bd3786"
             ],
             [
              0.5555555555555556,
              "#d8576b"
             ],
             [
              0.6666666666666666,
              "#ed7953"
             ],
             [
              0.7777777777777778,
              "#fb9f3a"
             ],
             [
              0.8888888888888888,
              "#fdca26"
             ],
             [
              1,
              "#f0f921"
             ]
            ],
            "type": "histogram2d"
           }
          ],
          "histogram2dcontour": [
           {
            "colorbar": {
             "outlinewidth": 0,
             "ticks": ""
            },
            "colorscale": [
             [
              0,
              "#0d0887"
             ],
             [
              0.1111111111111111,
              "#46039f"
             ],
             [
              0.2222222222222222,
              "#7201a8"
             ],
             [
              0.3333333333333333,
              "#9c179e"
             ],
             [
              0.4444444444444444,
              "#bd3786"
             ],
             [
              0.5555555555555556,
              "#d8576b"
             ],
             [
              0.6666666666666666,
              "#ed7953"
             ],
             [
              0.7777777777777778,
              "#fb9f3a"
             ],
             [
              0.8888888888888888,
              "#fdca26"
             ],
             [
              1,
              "#f0f921"
             ]
            ],
            "type": "histogram2dcontour"
           }
          ],
          "mesh3d": [
           {
            "colorbar": {
             "outlinewidth": 0,
             "ticks": ""
            },
            "type": "mesh3d"
           }
          ],
          "parcoords": [
           {
            "line": {
             "colorbar": {
              "outlinewidth": 0,
              "ticks": ""
             }
            },
            "type": "parcoords"
           }
          ],
          "pie": [
           {
            "automargin": true,
            "type": "pie"
           }
          ],
          "scatter": [
           {
            "fillpattern": {
             "fillmode": "overlay",
             "size": 10,
             "solidity": 0.2
            },
            "type": "scatter"
           }
          ],
          "scatter3d": [
           {
            "line": {
             "colorbar": {
              "outlinewidth": 0,
              "ticks": ""
             }
            },
            "marker": {
             "colorbar": {
              "outlinewidth": 0,
              "ticks": ""
             }
            },
            "type": "scatter3d"
           }
          ],
          "scattercarpet": [
           {
            "marker": {
             "colorbar": {
              "outlinewidth": 0,
              "ticks": ""
             }
            },
            "type": "scattercarpet"
           }
          ],
          "scattergeo": [
           {
            "marker": {
             "colorbar": {
              "outlinewidth": 0,
              "ticks": ""
             }
            },
            "type": "scattergeo"
           }
          ],
          "scattergl": [
           {
            "marker": {
             "colorbar": {
              "outlinewidth": 0,
              "ticks": ""
             }
            },
            "type": "scattergl"
           }
          ],
          "scattermap": [
           {
            "marker": {
             "colorbar": {
              "outlinewidth": 0,
              "ticks": ""
             }
            },
            "type": "scattermap"
           }
          ],
          "scattermapbox": [
           {
            "marker": {
             "colorbar": {
              "outlinewidth": 0,
              "ticks": ""
             }
            },
            "type": "scattermapbox"
           }
          ],
          "scatterpolar": [
           {
            "marker": {
             "colorbar": {
              "outlinewidth": 0,
              "ticks": ""
             }
            },
            "type": "scatterpolar"
           }
          ],
          "scatterpolargl": [
           {
            "marker": {
             "colorbar": {
              "outlinewidth": 0,
              "ticks": ""
             }
            },
            "type": "scatterpolargl"
           }
          ],
          "scatterternary": [
           {
            "marker": {
             "colorbar": {
              "outlinewidth": 0,
              "ticks": ""
             }
            },
            "type": "scatterternary"
           }
          ],
          "surface": [
           {
            "colorbar": {
             "outlinewidth": 0,
             "ticks": ""
            },
            "colorscale": [
             [
              0,
              "#0d0887"
             ],
             [
              0.1111111111111111,
              "#46039f"
             ],
             [
              0.2222222222222222,
              "#7201a8"
             ],
             [
              0.3333333333333333,
              "#9c179e"
             ],
             [
              0.4444444444444444,
              "#bd3786"
             ],
             [
              0.5555555555555556,
              "#d8576b"
             ],
             [
              0.6666666666666666,
              "#ed7953"
             ],
             [
              0.7777777777777778,
              "#fb9f3a"
             ],
             [
              0.8888888888888888,
              "#fdca26"
             ],
             [
              1,
              "#f0f921"
             ]
            ],
            "type": "surface"
           }
          ],
          "table": [
           {
            "cells": {
             "fill": {
              "color": "#EBF0F8"
             },
             "line": {
              "color": "white"
             }
            },
            "header": {
             "fill": {
              "color": "#C8D4E3"
             },
             "line": {
              "color": "white"
             }
            },
            "type": "table"
           }
          ]
         },
         "layout": {
          "annotationdefaults": {
           "arrowcolor": "#2a3f5f",
           "arrowhead": 0,
           "arrowwidth": 1
          },
          "autotypenumbers": "strict",
          "coloraxis": {
           "colorbar": {
            "outlinewidth": 0,
            "ticks": ""
           }
          },
          "colorscale": {
           "diverging": [
            [
             0,
             "#8e0152"
            ],
            [
             0.1,
             "#c51b7d"
            ],
            [
             0.2,
             "#de77ae"
            ],
            [
             0.3,
             "#f1b6da"
            ],
            [
             0.4,
             "#fde0ef"
            ],
            [
             0.5,
             "#f7f7f7"
            ],
            [
             0.6,
             "#e6f5d0"
            ],
            [
             0.7,
             "#b8e186"
            ],
            [
             0.8,
             "#7fbc41"
            ],
            [
             0.9,
             "#4d9221"
            ],
            [
             1,
             "#276419"
            ]
           ],
           "sequential": [
            [
             0,
             "#0d0887"
            ],
            [
             0.1111111111111111,
             "#46039f"
            ],
            [
             0.2222222222222222,
             "#7201a8"
            ],
            [
             0.3333333333333333,
             "#9c179e"
            ],
            [
             0.4444444444444444,
             "#bd3786"
            ],
            [
             0.5555555555555556,
             "#d8576b"
            ],
            [
             0.6666666666666666,
             "#ed7953"
            ],
            [
             0.7777777777777778,
             "#fb9f3a"
            ],
            [
             0.8888888888888888,
             "#fdca26"
            ],
            [
             1,
             "#f0f921"
            ]
           ],
           "sequentialminus": [
            [
             0,
             "#0d0887"
            ],
            [
             0.1111111111111111,
             "#46039f"
            ],
            [
             0.2222222222222222,
             "#7201a8"
            ],
            [
             0.3333333333333333,
             "#9c179e"
            ],
            [
             0.4444444444444444,
             "#bd3786"
            ],
            [
             0.5555555555555556,
             "#d8576b"
            ],
            [
             0.6666666666666666,
             "#ed7953"
            ],
            [
             0.7777777777777778,
             "#fb9f3a"
            ],
            [
             0.8888888888888888,
             "#fdca26"
            ],
            [
             1,
             "#f0f921"
            ]
           ]
          },
          "colorway": [
           "#636efa",
           "#EF553B",
           "#00cc96",
           "#ab63fa",
           "#FFA15A",
           "#19d3f3",
           "#FF6692",
           "#B6E880",
           "#FF97FF",
           "#FECB52"
          ],
          "font": {
           "color": "#2a3f5f"
          },
          "geo": {
           "bgcolor": "white",
           "lakecolor": "white",
           "landcolor": "#E5ECF6",
           "showlakes": true,
           "showland": true,
           "subunitcolor": "white"
          },
          "hoverlabel": {
           "align": "left"
          },
          "hovermode": "closest",
          "mapbox": {
           "style": "light"
          },
          "paper_bgcolor": "white",
          "plot_bgcolor": "#E5ECF6",
          "polar": {
           "angularaxis": {
            "gridcolor": "white",
            "linecolor": "white",
            "ticks": ""
           },
           "bgcolor": "#E5ECF6",
           "radialaxis": {
            "gridcolor": "white",
            "linecolor": "white",
            "ticks": ""
           }
          },
          "scene": {
           "xaxis": {
            "backgroundcolor": "#E5ECF6",
            "gridcolor": "white",
            "gridwidth": 2,
            "linecolor": "white",
            "showbackground": true,
            "ticks": "",
            "zerolinecolor": "white"
           },
           "yaxis": {
            "backgroundcolor": "#E5ECF6",
            "gridcolor": "white",
            "gridwidth": 2,
            "linecolor": "white",
            "showbackground": true,
            "ticks": "",
            "zerolinecolor": "white"
           },
           "zaxis": {
            "backgroundcolor": "#E5ECF6",
            "gridcolor": "white",
            "gridwidth": 2,
            "linecolor": "white",
            "showbackground": true,
            "ticks": "",
            "zerolinecolor": "white"
           }
          },
          "shapedefaults": {
           "line": {
            "color": "#2a3f5f"
           }
          },
          "ternary": {
           "aaxis": {
            "gridcolor": "white",
            "linecolor": "white",
            "ticks": ""
           },
           "baxis": {
            "gridcolor": "white",
            "linecolor": "white",
            "ticks": ""
           },
           "bgcolor": "#E5ECF6",
           "caxis": {
            "gridcolor": "white",
            "linecolor": "white",
            "ticks": ""
           }
          },
          "title": {
           "x": 0.05
          },
          "xaxis": {
           "automargin": true,
           "gridcolor": "white",
           "linecolor": "white",
           "ticks": "",
           "title": {
            "standoff": 15
           },
           "zerolinecolor": "white",
           "zerolinewidth": 2
          },
          "yaxis": {
           "automargin": true,
           "gridcolor": "white",
           "linecolor": "white",
           "ticks": "",
           "title": {
            "standoff": 15
           },
           "zerolinecolor": "white",
           "zerolinewidth": 2
          }
         }
        },
        "title": {
         "text": "Inclusion Ratio vs. sim_tax3 (bool=True) 119/213"
        },
        "xaxis": {
         "anchor": "y",
         "domain": [
          0,
          1
         ],
         "range": [
          -0.1,
          1.1
         ],
         "title": {
          "text": "Inclusion Ratio"
         }
        },
        "yaxis": {
         "anchor": "x",
         "domain": [
          0,
          1
         ],
         "range": [
          0,
          1.1
         ],
         "title": {
          "text": "sim_tax3"
         }
        },
        "yaxis2": {
         "overlaying": "y",
         "range": [
          0,
          1.1
         ],
         "side": "right",
         "title": {
          "text": "Ratio"
         }
        }
       }
      }
     },
     "metadata": {},
     "output_type": "display_data"
    },
    {
     "name": "stdout",
     "output_type": "stream",
     "text": [
      "213 127\n"
     ]
    },
    {
     "data": {
      "application/vnd.plotly.v1+json": {
       "config": {
        "plotlyServerURL": "https://plot.ly"
       },
       "data": [
        {
         "customdata": [
          [
           1,
           "01ce4fd6-197a-4792-8778-775b03780369"
          ],
          [
           2,
           "01ce4fd6-197a-4792-8778-775b03780369"
          ],
          [
           4,
           "026dac2d-2ab3-4f9c-9e1d-6198db4fb080"
          ],
          [
           7,
           "02a06bf1-51b8-4902-b088-573e29fcd7ec"
          ],
          [
           8,
           "02a06bf1-51b8-4902-b088-573e29fcd7ec"
          ],
          [
           10,
           "14bcb17c-f70a-41d5-b10d-294388084dfc"
          ],
          [
           11,
           "14bcb17c-f70a-41d5-b10d-294388084dfc"
          ],
          [
           12,
           "1a894d3c-b3ef-448a-a3de-2b38677cef36"
          ],
          [
           13,
           "1a894d3c-b3ef-448a-a3de-2b38677cef36"
          ],
          [
           14,
           "1a894d3c-b3ef-448a-a3de-2b38677cef36"
          ],
          [
           15,
           "1dc85adb-fbdd-4275-b9cf-42976acb4d14"
          ],
          [
           24,
           "2978ddbc-cdc9-4bfa-9a7c-4bf056904010"
          ],
          [
           27,
           "29e00040-6e0f-4f0e-816d-1ac97c1e5485"
          ],
          [
           28,
           "29e00040-6e0f-4f0e-816d-1ac97c1e5485"
          ],
          [
           29,
           "29e00040-6e0f-4f0e-816d-1ac97c1e5485"
          ],
          [
           30,
           "2ba0becb-58c2-43a1-97bb-7e153a34eb47"
          ],
          [
           31,
           "2ba0becb-58c2-43a1-97bb-7e153a34eb47"
          ],
          [
           32,
           "2ba0becb-58c2-43a1-97bb-7e153a34eb47"
          ],
          [
           33,
           "2bc7d6fa-a02e-4367-b316-d6b4e8a2ce3f"
          ],
          [
           34,
           "2bc7d6fa-a02e-4367-b316-d6b4e8a2ce3f"
          ],
          [
           35,
           "2bc7d6fa-a02e-4367-b316-d6b4e8a2ce3f"
          ],
          [
           36,
           "2c27b5f1-4af6-49ad-a43c-3efb0c150868"
          ],
          [
           37,
           "2c27b5f1-4af6-49ad-a43c-3efb0c150868"
          ],
          [
           42,
           "2f46d1e6-2a85-4d46-b955-10c2eded661c"
          ],
          [
           43,
           "2f46d1e6-2a85-4d46-b955-10c2eded661c"
          ],
          [
           44,
           "2f46d1e6-2a85-4d46-b955-10c2eded661c"
          ],
          [
           53,
           "341b5211-bb72-4bec-bd3d-c0d518887960"
          ],
          [
           54,
           "35080724-6604-401c-8b06-19b7cece3d45"
          ],
          [
           55,
           "35080724-6604-401c-8b06-19b7cece3d45"
          ],
          [
           56,
           "35080724-6604-401c-8b06-19b7cece3d45"
          ],
          [
           61,
           "38a7b760-56f9-4565-8b70-f8dad5768ace"
          ],
          [
           62,
           "38a7b760-56f9-4565-8b70-f8dad5768ace"
          ],
          [
           63,
           "3ec3eab7-842d-409d-8866-42ddcbd24cd9"
          ],
          [
           64,
           "3ec3eab7-842d-409d-8866-42ddcbd24cd9"
          ],
          [
           65,
           "3ec3eab7-842d-409d-8866-42ddcbd24cd9"
          ],
          [
           67,
           "46e07357-6946-4ff0-ba36-ae11840bdc39"
          ],
          [
           68,
           "46e07357-6946-4ff0-ba36-ae11840bdc39"
          ],
          [
           69,
           "47bb1fd4-d41f-42b4-8d0c-29c4e9fdff9f"
          ],
          [
           70,
           "47bb1fd4-d41f-42b4-8d0c-29c4e9fdff9f"
          ],
          [
           71,
           "47bb1fd4-d41f-42b4-8d0c-29c4e9fdff9f"
          ],
          [
           74,
           "487d752c-6e22-43e3-9c08-627bc2a6c6d4"
          ],
          [
           78,
           "543e4c99-5d9f-407d-be75-c397d633fe56"
          ],
          [
           79,
           "543e4c99-5d9f-407d-be75-c397d633fe56"
          ],
          [
           80,
           "543e4c99-5d9f-407d-be75-c397d633fe56"
          ],
          [
           81,
           "5461912b-69cd-40d7-8f79-50832f92f049"
          ],
          [
           82,
           "5461912b-69cd-40d7-8f79-50832f92f049"
          ],
          [
           83,
           "5461912b-69cd-40d7-8f79-50832f92f049"
          ],
          [
           84,
           "56fe0c73-77c4-40d9-a687-b2df28d5f7d7"
          ],
          [
           85,
           "56fe0c73-77c4-40d9-a687-b2df28d5f7d7"
          ],
          [
           86,
           "56fe0c73-77c4-40d9-a687-b2df28d5f7d7"
          ],
          [
           91,
           "5c15607b-96af-4503-84b4-d1745f3a3ae0"
          ],
          [
           92,
           "5c15607b-96af-4503-84b4-d1745f3a3ae0"
          ],
          [
           93,
           "5c2e910c-84e0-4042-b5d6-880a731c3e67"
          ],
          [
           94,
           "5c2e910c-84e0-4042-b5d6-880a731c3e67"
          ],
          [
           95,
           "5c2e910c-84e0-4042-b5d6-880a731c3e67"
          ],
          [
           96,
           "6628a2fb-19e2-4fe5-aedb-92fe5ceee9c9"
          ],
          [
           97,
           "6628a2fb-19e2-4fe5-aedb-92fe5ceee9c9"
          ],
          [
           98,
           "6628a2fb-19e2-4fe5-aedb-92fe5ceee9c9"
          ],
          [
           99,
           "690f58f1-f18c-4415-bab0-787c2f83d051"
          ],
          [
           101,
           "690f58f1-f18c-4415-bab0-787c2f83d051"
          ],
          [
           102,
           "6ac1d2ed-1f6b-4828-a1ab-f81c40bd5e80"
          ],
          [
           103,
           "6ac1d2ed-1f6b-4828-a1ab-f81c40bd5e80"
          ],
          [
           104,
           "6ac1d2ed-1f6b-4828-a1ab-f81c40bd5e80"
          ],
          [
           105,
           "6dafeac7-75b6-4d69-96f7-d08708a0a99e"
          ],
          [
           106,
           "6dafeac7-75b6-4d69-96f7-d08708a0a99e"
          ],
          [
           107,
           "6dafeac7-75b6-4d69-96f7-d08708a0a99e"
          ],
          [
           110,
           "737e9619-7768-407c-8a4f-6fe1e8d61f04"
          ],
          [
           112,
           "748536e4-636a-4dc6-b1a7-d9cbfdc1cffd"
          ],
          [
           113,
           "748536e4-636a-4dc6-b1a7-d9cbfdc1cffd"
          ],
          [
           116,
           "7e8d03f2-2ff9-431d-af81-e5ffcd954a63"
          ],
          [
           117,
           "892629b0-61eb-425d-97f4-7d213074c435"
          ],
          [
           118,
           "892629b0-61eb-425d-97f4-7d213074c435"
          ],
          [
           119,
           "892629b0-61eb-425d-97f4-7d213074c435"
          ],
          [
           120,
           "89857b33-fa50-469a-bbb3-91c8ab655931"
          ],
          [
           121,
           "89857b33-fa50-469a-bbb3-91c8ab655931"
          ],
          [
           123,
           "907fd0e7-6821-4e2d-9c62-6d7afad5a9d1"
          ],
          [
           124,
           "907fd0e7-6821-4e2d-9c62-6d7afad5a9d1"
          ],
          [
           125,
           "907fd0e7-6821-4e2d-9c62-6d7afad5a9d1"
          ],
          [
           126,
           "98434f4c-6216-4067-ad59-4a89cb47bb9b"
          ],
          [
           127,
           "98434f4c-6216-4067-ad59-4a89cb47bb9b"
          ],
          [
           128,
           "98434f4c-6216-4067-ad59-4a89cb47bb9b"
          ],
          [
           130,
           "9fabfbc8-1d5c-495e-9bb2-03795f0145ae"
          ],
          [
           131,
           "9fabfbc8-1d5c-495e-9bb2-03795f0145ae"
          ],
          [
           133,
           "a267b011-b1db-4e3c-aa49-438e2afdd6dc"
          ],
          [
           134,
           "a267b011-b1db-4e3c-aa49-438e2afdd6dc"
          ],
          [
           135,
           "a6419de9-1e40-4793-b21b-9c8d9038835a"
          ],
          [
           136,
           "a6419de9-1e40-4793-b21b-9c8d9038835a"
          ],
          [
           137,
           "a6419de9-1e40-4793-b21b-9c8d9038835a"
          ],
          [
           139,
           "ab7ed4f7-10ee-4ccb-bb21-4853c9018b1e"
          ],
          [
           144,
           "ae2d99c2-1720-4354-bc4d-f7bc3e4ee28d"
          ],
          [
           147,
           "b17ff269-ec2d-4ad8-88aa-b00b75921427"
          ],
          [
           148,
           "b17ff269-ec2d-4ad8-88aa-b00b75921427"
          ],
          [
           155,
           "b83285c5-0b88-4ced-a52e-5c34ea371507"
          ],
          [
           156,
           "cf95d6a4-6ad7-462c-9700-9f04bd993667"
          ],
          [
           157,
           "cf95d6a4-6ad7-462c-9700-9f04bd993667"
          ],
          [
           158,
           "cf95d6a4-6ad7-462c-9700-9f04bd993667"
          ],
          [
           160,
           "d7a2e92e-dc74-4e79-be04-a86f829fc3ec"
          ],
          [
           161,
           "d7a2e92e-dc74-4e79-be04-a86f829fc3ec"
          ],
          [
           165,
           "dcd09fa4-afe2-4a0d-9703-83af2867ebd3"
          ],
          [
           166,
           "dcd09fa4-afe2-4a0d-9703-83af2867ebd3"
          ],
          [
           167,
           "dcd09fa4-afe2-4a0d-9703-83af2867ebd3"
          ],
          [
           168,
           "debfb68a-eae2-464e-847a-cd3fea23f3ca"
          ],
          [
           169,
           "debfb68a-eae2-464e-847a-cd3fea23f3ca"
          ],
          [
           170,
           "debfb68a-eae2-464e-847a-cd3fea23f3ca"
          ],
          [
           173,
           "e09a667f-04bc-49b5-8246-daf248a29174"
          ],
          [
           174,
           "e250017c-16ff-4825-9c30-160f391e1549"
          ],
          [
           175,
           "e250017c-16ff-4825-9c30-160f391e1549"
          ],
          [
           176,
           "e250017c-16ff-4825-9c30-160f391e1549"
          ],
          [
           177,
           "e4ad6fd7-2e3e-4991-b392-a0056f702286"
          ],
          [
           178,
           "e4ad6fd7-2e3e-4991-b392-a0056f702286"
          ],
          [
           179,
           "e4ad6fd7-2e3e-4991-b392-a0056f702286"
          ],
          [
           180,
           "e6231d1a-1f7f-4198-a499-7635509adfaf"
          ],
          [
           187,
           "ec3556de-be79-4ad4-aa0f-eaca48abb5d5"
          ],
          [
           188,
           "ec3556de-be79-4ad4-aa0f-eaca48abb5d5"
          ],
          [
           192,
           "edc1869c-8a97-44fd-ab47-63fda4a54df9"
          ],
          [
           194,
           "edc1869c-8a97-44fd-ab47-63fda4a54df9"
          ],
          [
           201,
           "fea524d4-a1b6-466c-ac48-8777c3fd173d"
          ],
          [
           202,
           "fea524d4-a1b6-466c-ac48-8777c3fd173d"
          ],
          [
           203,
           "fea524d4-a1b6-466c-ac48-8777c3fd173d"
          ],
          [
           204,
           "grp-690f58f1-f18c-4415-bab0-787c2f83d051"
          ],
          [
           205,
           "grp-690f58f1-f18c-4415-bab0-787c2f83d051"
          ],
          [
           206,
           "grp-690f58f1-f18c-4415-bab0-787c2f83d051"
          ],
          [
           207,
           "grp-b59f7f5d-2991-49a6-8e88-0e2f2db92585"
          ],
          [
           208,
           "grp-b59f7f5d-2991-49a6-8e88-0e2f2db92585"
          ],
          [
           210,
           "grp-ffd863cb-f06b-404e-a013-54acb61f1ed9"
          ],
          [
           211,
           "grp-ffd863cb-f06b-404e-a013-54acb61f1ed9"
          ],
          [
           212,
           "grp-ffd863cb-f06b-404e-a013-54acb61f1ed9"
          ]
         ],
         "hovertemplate": "Inclusion Ratio=%{x}<br>sim_tax3=%{y}<br>idx=%{customdata[0]}<br>source_uid=%{customdata[1]}<extra></extra>",
         "legendgroup": "",
         "marker": {
          "color": "#636efa",
          "symbol": "circle"
         },
         "mode": "markers",
         "name": "",
         "orientation": "v",
         "showlegend": false,
         "type": "scatter",
         "x": {
          "bdata": "VVVVVVVV1T9VVVVVVVXVPxzHcRzHcew/VVVVVVVV5T9VVVVVVVXlPwAAAAAAAPA/AAAAAAAA8D+amZmZmZnZP+xRuB6F6+E/MzMzMzMz4z/NzMzMzMzsPzMzMzMzM+M/3t3d3d3d3T9mZmZmZmbmP2ZmZmZmZuY/AAAAAAAA4T8AAAAAAADkPwAAAAAAAOQ/AAAAAAAA8D8AAAAAAADwPwAAAAAAAPA/CtejcD0K1z+4HoXrUbjeP05vetOb3uQ/Tm9605ve5D9kIQtZyELmPwAAAAAAAPA/zczMzMzM5D8AAAAAAADoPwAAAAAAAOg/VVVVVVVV5T8AAAAAAADwP6uqqqqqqto/AAAAAAAA4D8AAAAAAADgPwAAAAAAAOA/JUmSJEmS5D8AAAAAAAAAAJIkSZIkSdI/kiRJkiRJ0j8AAAAAAADwPxzHcRzHcew/HMdxHMdx7D8AAAAAAADwP0N5DeU1lOc/Q3kN5TWU5z82lNdQXkPpP57YiZ3Yid0/2Ymd2Imd6D/ZiZ3YiZ3oPxW8nIKXU+A/kiRJkiRJ4j8AAAAAAADwPwAAAAAAAPA/AAAAAAAA8D8RERERERHhPzMzMzMzM+M/d3d3d3d35z8UO7ETO7HTP7ETO7ETO+E/AAAAAAAA3D8AAAAAAADiPwAAAAAAAOI/zczMzMzM7D/v7u7u7u7uPwAAAAAAAPA/ntiJndiJzT+rqqqqqqrqPwAAAAAAAPA/kiRJkiRJ4j8AAAAAAADoPwAAAAAAAOw/AAAAAAAA8D8AAAAAAADwPwAAAAAAAPA/mpmZmZmZyT8zMzMzMzPTPzMzMzMzM9M/JUmSJEmS5D8lSZIkSZLkP9u2bdu2bes/AAAAAAAA0D8AAAAAAADoPxzHcRzHcew/HMdxHMdx7D9JkiRJkiTZPwAAAAAAAOg/SZIkSZIk6T96nud5nufpPwAAAAAAAOA/mpmZmZmZyT8zMzMzMzPTPwAAAAAAAPA/t23btm3b5j87qIM6qIPqP3zFV3zFV+w/AAAAAAAA6D8AAAAAAADwP2ZmZmZmZu4/AAAAAAAA8D8AAAAAAADwP8dxHMdxHOc/AAAAAAAA8D8AAAAAAADwPwAAAAAAAOg/7MRO7MRO7D8AAAAAAADwPwAAAAAAAPA/AAAAAAAA8D8AAAAAAADwPwAAAAAAAPA/VVVVVVVV1T9VVVVVVVXlPzmO4ziO4+g/KK+hvIby6j8bymsor6HsP1VVVVVVVe0/VVVVVVVV7T9VVVVVVVXtPyivobyG8uo/KK+hvIby6j+MtGMFwkjrP0MWspCFLOQ/pze96U1v6j8lSZIkSZLkPwAAAAAAAOg/kiRJkiRJ6j8=",
          "dtype": "f8"
         },
         "xaxis": "x",
         "y": {
          "bdata": "0WgtsQnh4T+VmZmZmZnJP5aPtLn9/98/J4v/zuXr7z/OKz+LXb/rP1tmZmZmZuY/W2ZmZmZm5j/c+8C4zBviPzmIF0dxG+I/gZw+rmLX4j+u+kV7y8zsP1ZxkOQQw+0/uDDBHT1j5z9sYzcJ3lbrP0RpW2DLzOw/WGZmZmZm5j+U5e8BZmbmPzCJunAPZuY/OFxoA/jp7j/yZO/Y/v/vP7Fn4+0JOOw/ytrKJ1n56T9o5OHg+wTvPwTwIpCYxeo/qS/W1r3D6j+kx1vipMXqPygzMzMzM+M/AB36vP7/7z/kgBdy/v/vPylcRZpJv+0/khMalRfD6j/T4IYgk7HtP1zajxCxFdo/MFAMwnX96z+4ZH5sSZ7qP8IUYzmlLeo/M8UPn98a7T/olDC8sGbXPxMYWiGs/+Q/WwtSY1il5D8x1iRj4yjsPzn1faFsZeQ/nwCJ/7AZ2j9HpQro+FzkP5xiACUENe4/fr4LSP7/7z+09eDB/v/vPwfPAJPMzOw/5BexDDv47j/y///////vP2Z9OgTlNu4/5v//////7z/Y2pki6M3tP0h8lXT96Os/zJ6e2O5J6z9uhMQ005LuP5JZvsjji+U/Ks0Y1fjc7T/0IwgZMLTlP16GCpSYmek/rvcDMmZm5j+YozEHjBTuP8Ipe5TEE+4/ufAzWrJh6z+6wPHO///vP8GUA3j//+8/XKFt5R+b7T/y///////vP/sGxZT//+8/TP9A+YzQ6T/glG13upfpP2kPQlZNces/cKTP6f7/7z/o///////vP9aRZaX//+8/jZc7Dt+o7T8i0igCBObqP7m22ugHrOk/Up0IsbTv6j8dGLl1XYrnP+///////+8/RgoC1BWL6j90ed+w///vP2x3HM7//+8/2Ly+Sv7/7z84YoPbwyfnP1TZ06r+/+8/ok7x0P//7z/a3y3WQszsP1M7JjD4Hdk/KlU3Gw/k3D9+vEj45T3pP+VRcANEeOs/IKSumczM7D/SLlmkFJrsP1JfZV9A/+8/QDLjemn66z/W7xXq8efoP7yy5lQjP+c/XWZmZmZm5j/o///////vP21O3u935+4/6VWxm///7z9vtPW3y8zsPzDlmgwk+Os/QpoA0v//7z/y///////vP9ARI8H//+8/6f//////7z/y0Mwt///vP5j41jzYs+Q/GAmm0T/q6z/SKH05zMzsP+rR7KP+/+8/yYcf1P//7z/v///////vP1ypjsljxe4/1ONHbMzM7D/y///////vP7vMzMzMzOw/5qOBycvM7D/kPKQnzMzsP4QskuUL2N8/zf8qYczM7D9J+PkwmZnpP/T//////+8/8///////7z8=",
          "dtype": "f8"
         },
         "yaxis": "y"
        },
        {
         "line": {
          "color": "green",
          "dash": "dot"
         },
         "mode": "lines+markers",
         "name": "Ratio (mybool=True / all)",
         "type": "scatter",
         "x": [
          0.0995,
          0.30000000000000004,
          0.5,
          0.7,
          0.9
         ],
         "y": [
          0.10714285714285714,
          0.42424242424242425,
          0.5,
          0.813953488372093,
          0.8059701492537313
         ],
         "yaxis": "y2"
        }
       ],
       "layout": {
        "legend": {
         "tracegroupgap": 0
        },
        "template": {
         "data": {
          "bar": [
           {
            "error_x": {
             "color": "#2a3f5f"
            },
            "error_y": {
             "color": "#2a3f5f"
            },
            "marker": {
             "line": {
              "color": "#E5ECF6",
              "width": 0.5
             },
             "pattern": {
              "fillmode": "overlay",
              "size": 10,
              "solidity": 0.2
             }
            },
            "type": "bar"
           }
          ],
          "barpolar": [
           {
            "marker": {
             "line": {
              "color": "#E5ECF6",
              "width": 0.5
             },
             "pattern": {
              "fillmode": "overlay",
              "size": 10,
              "solidity": 0.2
             }
            },
            "type": "barpolar"
           }
          ],
          "carpet": [
           {
            "aaxis": {
             "endlinecolor": "#2a3f5f",
             "gridcolor": "white",
             "linecolor": "white",
             "minorgridcolor": "white",
             "startlinecolor": "#2a3f5f"
            },
            "baxis": {
             "endlinecolor": "#2a3f5f",
             "gridcolor": "white",
             "linecolor": "white",
             "minorgridcolor": "white",
             "startlinecolor": "#2a3f5f"
            },
            "type": "carpet"
           }
          ],
          "choropleth": [
           {
            "colorbar": {
             "outlinewidth": 0,
             "ticks": ""
            },
            "type": "choropleth"
           }
          ],
          "contour": [
           {
            "colorbar": {
             "outlinewidth": 0,
             "ticks": ""
            },
            "colorscale": [
             [
              0,
              "#0d0887"
             ],
             [
              0.1111111111111111,
              "#46039f"
             ],
             [
              0.2222222222222222,
              "#7201a8"
             ],
             [
              0.3333333333333333,
              "#9c179e"
             ],
             [
              0.4444444444444444,
              "#bd3786"
             ],
             [
              0.5555555555555556,
              "#d8576b"
             ],
             [
              0.6666666666666666,
              "#ed7953"
             ],
             [
              0.7777777777777778,
              "#fb9f3a"
             ],
             [
              0.8888888888888888,
              "#fdca26"
             ],
             [
              1,
              "#f0f921"
             ]
            ],
            "type": "contour"
           }
          ],
          "contourcarpet": [
           {
            "colorbar": {
             "outlinewidth": 0,
             "ticks": ""
            },
            "type": "contourcarpet"
           }
          ],
          "heatmap": [
           {
            "colorbar": {
             "outlinewidth": 0,
             "ticks": ""
            },
            "colorscale": [
             [
              0,
              "#0d0887"
             ],
             [
              0.1111111111111111,
              "#46039f"
             ],
             [
              0.2222222222222222,
              "#7201a8"
             ],
             [
              0.3333333333333333,
              "#9c179e"
             ],
             [
              0.4444444444444444,
              "#bd3786"
             ],
             [
              0.5555555555555556,
              "#d8576b"
             ],
             [
              0.6666666666666666,
              "#ed7953"
             ],
             [
              0.7777777777777778,
              "#fb9f3a"
             ],
             [
              0.8888888888888888,
              "#fdca26"
             ],
             [
              1,
              "#f0f921"
             ]
            ],
            "type": "heatmap"
           }
          ],
          "histogram": [
           {
            "marker": {
             "pattern": {
              "fillmode": "overlay",
              "size": 10,
              "solidity": 0.2
             }
            },
            "type": "histogram"
           }
          ],
          "histogram2d": [
           {
            "colorbar": {
             "outlinewidth": 0,
             "ticks": ""
            },
            "colorscale": [
             [
              0,
              "#0d0887"
             ],
             [
              0.1111111111111111,
              "#46039f"
             ],
             [
              0.2222222222222222,
              "#7201a8"
             ],
             [
              0.3333333333333333,
              "#9c179e"
             ],
             [
              0.4444444444444444,
              "#bd3786"
             ],
             [
              0.5555555555555556,
              "#d8576b"
             ],
             [
              0.6666666666666666,
              "#ed7953"
             ],
             [
              0.7777777777777778,
              "#fb9f3a"
             ],
             [
              0.8888888888888888,
              "#fdca26"
             ],
             [
              1,
              "#f0f921"
             ]
            ],
            "type": "histogram2d"
           }
          ],
          "histogram2dcontour": [
           {
            "colorbar": {
             "outlinewidth": 0,
             "ticks": ""
            },
            "colorscale": [
             [
              0,
              "#0d0887"
             ],
             [
              0.1111111111111111,
              "#46039f"
             ],
             [
              0.2222222222222222,
              "#7201a8"
             ],
             [
              0.3333333333333333,
              "#9c179e"
             ],
             [
              0.4444444444444444,
              "#bd3786"
             ],
             [
              0.5555555555555556,
              "#d8576b"
             ],
             [
              0.6666666666666666,
              "#ed7953"
             ],
             [
              0.7777777777777778,
              "#fb9f3a"
             ],
             [
              0.8888888888888888,
              "#fdca26"
             ],
             [
              1,
              "#f0f921"
             ]
            ],
            "type": "histogram2dcontour"
           }
          ],
          "mesh3d": [
           {
            "colorbar": {
             "outlinewidth": 0,
             "ticks": ""
            },
            "type": "mesh3d"
           }
          ],
          "parcoords": [
           {
            "line": {
             "colorbar": {
              "outlinewidth": 0,
              "ticks": ""
             }
            },
            "type": "parcoords"
           }
          ],
          "pie": [
           {
            "automargin": true,
            "type": "pie"
           }
          ],
          "scatter": [
           {
            "fillpattern": {
             "fillmode": "overlay",
             "size": 10,
             "solidity": 0.2
            },
            "type": "scatter"
           }
          ],
          "scatter3d": [
           {
            "line": {
             "colorbar": {
              "outlinewidth": 0,
              "ticks": ""
             }
            },
            "marker": {
             "colorbar": {
              "outlinewidth": 0,
              "ticks": ""
             }
            },
            "type": "scatter3d"
           }
          ],
          "scattercarpet": [
           {
            "marker": {
             "colorbar": {
              "outlinewidth": 0,
              "ticks": ""
             }
            },
            "type": "scattercarpet"
           }
          ],
          "scattergeo": [
           {
            "marker": {
             "colorbar": {
              "outlinewidth": 0,
              "ticks": ""
             }
            },
            "type": "scattergeo"
           }
          ],
          "scattergl": [
           {
            "marker": {
             "colorbar": {
              "outlinewidth": 0,
              "ticks": ""
             }
            },
            "type": "scattergl"
           }
          ],
          "scattermap": [
           {
            "marker": {
             "colorbar": {
              "outlinewidth": 0,
              "ticks": ""
             }
            },
            "type": "scattermap"
           }
          ],
          "scattermapbox": [
           {
            "marker": {
             "colorbar": {
              "outlinewidth": 0,
              "ticks": ""
             }
            },
            "type": "scattermapbox"
           }
          ],
          "scatterpolar": [
           {
            "marker": {
             "colorbar": {
              "outlinewidth": 0,
              "ticks": ""
             }
            },
            "type": "scatterpolar"
           }
          ],
          "scatterpolargl": [
           {
            "marker": {
             "colorbar": {
              "outlinewidth": 0,
              "ticks": ""
             }
            },
            "type": "scatterpolargl"
           }
          ],
          "scatterternary": [
           {
            "marker": {
             "colorbar": {
              "outlinewidth": 0,
              "ticks": ""
             }
            },
            "type": "scatterternary"
           }
          ],
          "surface": [
           {
            "colorbar": {
             "outlinewidth": 0,
             "ticks": ""
            },
            "colorscale": [
             [
              0,
              "#0d0887"
             ],
             [
              0.1111111111111111,
              "#46039f"
             ],
             [
              0.2222222222222222,
              "#7201a8"
             ],
             [
              0.3333333333333333,
              "#9c179e"
             ],
             [
              0.4444444444444444,
              "#bd3786"
             ],
             [
              0.5555555555555556,
              "#d8576b"
             ],
             [
              0.6666666666666666,
              "#ed7953"
             ],
             [
              0.7777777777777778,
              "#fb9f3a"
             ],
             [
              0.8888888888888888,
              "#fdca26"
             ],
             [
              1,
              "#f0f921"
             ]
            ],
            "type": "surface"
           }
          ],
          "table": [
           {
            "cells": {
             "fill": {
              "color": "#EBF0F8"
             },
             "line": {
              "color": "white"
             }
            },
            "header": {
             "fill": {
              "color": "#C8D4E3"
             },
             "line": {
              "color": "white"
             }
            },
            "type": "table"
           }
          ]
         },
         "layout": {
          "annotationdefaults": {
           "arrowcolor": "#2a3f5f",
           "arrowhead": 0,
           "arrowwidth": 1
          },
          "autotypenumbers": "strict",
          "coloraxis": {
           "colorbar": {
            "outlinewidth": 0,
            "ticks": ""
           }
          },
          "colorscale": {
           "diverging": [
            [
             0,
             "#8e0152"
            ],
            [
             0.1,
             "#c51b7d"
            ],
            [
             0.2,
             "#de77ae"
            ],
            [
             0.3,
             "#f1b6da"
            ],
            [
             0.4,
             "#fde0ef"
            ],
            [
             0.5,
             "#f7f7f7"
            ],
            [
             0.6,
             "#e6f5d0"
            ],
            [
             0.7,
             "#b8e186"
            ],
            [
             0.8,
             "#7fbc41"
            ],
            [
             0.9,
             "#4d9221"
            ],
            [
             1,
             "#276419"
            ]
           ],
           "sequential": [
            [
             0,
             "#0d0887"
            ],
            [
             0.1111111111111111,
             "#46039f"
            ],
            [
             0.2222222222222222,
             "#7201a8"
            ],
            [
             0.3333333333333333,
             "#9c179e"
            ],
            [
             0.4444444444444444,
             "#bd3786"
            ],
            [
             0.5555555555555556,
             "#d8576b"
            ],
            [
             0.6666666666666666,
             "#ed7953"
            ],
            [
             0.7777777777777778,
             "#fb9f3a"
            ],
            [
             0.8888888888888888,
             "#fdca26"
            ],
            [
             1,
             "#f0f921"
            ]
           ],
           "sequentialminus": [
            [
             0,
             "#0d0887"
            ],
            [
             0.1111111111111111,
             "#46039f"
            ],
            [
             0.2222222222222222,
             "#7201a8"
            ],
            [
             0.3333333333333333,
             "#9c179e"
            ],
            [
             0.4444444444444444,
             "#bd3786"
            ],
            [
             0.5555555555555556,
             "#d8576b"
            ],
            [
             0.6666666666666666,
             "#ed7953"
            ],
            [
             0.7777777777777778,
             "#fb9f3a"
            ],
            [
             0.8888888888888888,
             "#fdca26"
            ],
            [
             1,
             "#f0f921"
            ]
           ]
          },
          "colorway": [
           "#636efa",
           "#EF553B",
           "#00cc96",
           "#ab63fa",
           "#FFA15A",
           "#19d3f3",
           "#FF6692",
           "#B6E880",
           "#FF97FF",
           "#FECB52"
          ],
          "font": {
           "color": "#2a3f5f"
          },
          "geo": {
           "bgcolor": "white",
           "lakecolor": "white",
           "landcolor": "#E5ECF6",
           "showlakes": true,
           "showland": true,
           "subunitcolor": "white"
          },
          "hoverlabel": {
           "align": "left"
          },
          "hovermode": "closest",
          "mapbox": {
           "style": "light"
          },
          "paper_bgcolor": "white",
          "plot_bgcolor": "#E5ECF6",
          "polar": {
           "angularaxis": {
            "gridcolor": "white",
            "linecolor": "white",
            "ticks": ""
           },
           "bgcolor": "#E5ECF6",
           "radialaxis": {
            "gridcolor": "white",
            "linecolor": "white",
            "ticks": ""
           }
          },
          "scene": {
           "xaxis": {
            "backgroundcolor": "#E5ECF6",
            "gridcolor": "white",
            "gridwidth": 2,
            "linecolor": "white",
            "showbackground": true,
            "ticks": "",
            "zerolinecolor": "white"
           },
           "yaxis": {
            "backgroundcolor": "#E5ECF6",
            "gridcolor": "white",
            "gridwidth": 2,
            "linecolor": "white",
            "showbackground": true,
            "ticks": "",
            "zerolinecolor": "white"
           },
           "zaxis": {
            "backgroundcolor": "#E5ECF6",
            "gridcolor": "white",
            "gridwidth": 2,
            "linecolor": "white",
            "showbackground": true,
            "ticks": "",
            "zerolinecolor": "white"
           }
          },
          "shapedefaults": {
           "line": {
            "color": "#2a3f5f"
           }
          },
          "ternary": {
           "aaxis": {
            "gridcolor": "white",
            "linecolor": "white",
            "ticks": ""
           },
           "baxis": {
            "gridcolor": "white",
            "linecolor": "white",
            "ticks": ""
           },
           "bgcolor": "#E5ECF6",
           "caxis": {
            "gridcolor": "white",
            "linecolor": "white",
            "ticks": ""
           }
          },
          "title": {
           "x": 0.05
          },
          "xaxis": {
           "automargin": true,
           "gridcolor": "white",
           "linecolor": "white",
           "ticks": "",
           "title": {
            "standoff": 15
           },
           "zerolinecolor": "white",
           "zerolinewidth": 2
          },
          "yaxis": {
           "automargin": true,
           "gridcolor": "white",
           "linecolor": "white",
           "ticks": "",
           "title": {
            "standoff": 15
           },
           "zerolinecolor": "white",
           "zerolinewidth": 2
          }
         }
        },
        "title": {
         "text": "Inclusion Ratio vs. sim_tax3 (bool=True) 127/213"
        },
        "xaxis": {
         "anchor": "y",
         "domain": [
          0,
          1
         ],
         "range": [
          -0.1,
          1.1
         ],
         "title": {
          "text": "Inclusion Ratio"
         }
        },
        "yaxis": {
         "anchor": "x",
         "domain": [
          0,
          1
         ],
         "range": [
          0,
          1.1
         ],
         "title": {
          "text": "sim_tax3"
         }
        },
        "yaxis2": {
         "overlaying": "y",
         "range": [
          0,
          1.1
         ],
         "side": "right",
         "title": {
          "text": "Ratio"
         }
        }
       }
      }
     },
     "metadata": {},
     "output_type": "display_data"
    },
    {
     "name": "stdout",
     "output_type": "stream",
     "text": [
      "213 119\n"
     ]
    },
    {
     "data": {
      "application/vnd.plotly.v1+json": {
       "config": {
        "plotlyServerURL": "https://plot.ly"
       },
       "data": [
        {
         "customdata": [
          [
           2,
           "01ce4fd6-197a-4792-8778-775b03780369"
          ],
          [
           7,
           "02a06bf1-51b8-4902-b088-573e29fcd7ec"
          ],
          [
           8,
           "02a06bf1-51b8-4902-b088-573e29fcd7ec"
          ],
          [
           10,
           "14bcb17c-f70a-41d5-b10d-294388084dfc"
          ],
          [
           11,
           "14bcb17c-f70a-41d5-b10d-294388084dfc"
          ],
          [
           12,
           "1a894d3c-b3ef-448a-a3de-2b38677cef36"
          ],
          [
           13,
           "1a894d3c-b3ef-448a-a3de-2b38677cef36"
          ],
          [
           15,
           "1dc85adb-fbdd-4275-b9cf-42976acb4d14"
          ],
          [
           16,
           "1dc85adb-fbdd-4275-b9cf-42976acb4d14"
          ],
          [
           20,
           "24ba7993-7fc8-4447-afd5-7ff6d548b11a"
          ],
          [
           24,
           "2978ddbc-cdc9-4bfa-9a7c-4bf056904010"
          ],
          [
           25,
           "2978ddbc-cdc9-4bfa-9a7c-4bf056904010"
          ],
          [
           26,
           "2978ddbc-cdc9-4bfa-9a7c-4bf056904010"
          ],
          [
           28,
           "29e00040-6e0f-4f0e-816d-1ac97c1e5485"
          ],
          [
           29,
           "29e00040-6e0f-4f0e-816d-1ac97c1e5485"
          ],
          [
           30,
           "2ba0becb-58c2-43a1-97bb-7e153a34eb47"
          ],
          [
           31,
           "2ba0becb-58c2-43a1-97bb-7e153a34eb47"
          ],
          [
           35,
           "2bc7d6fa-a02e-4367-b316-d6b4e8a2ce3f"
          ],
          [
           36,
           "2c27b5f1-4af6-49ad-a43c-3efb0c150868"
          ],
          [
           37,
           "2c27b5f1-4af6-49ad-a43c-3efb0c150868"
          ],
          [
           38,
           "2c27b5f1-4af6-49ad-a43c-3efb0c150868"
          ],
          [
           39,
           "2da5c1ee-bd40-406d-83a7-2f3d93293949"
          ],
          [
           42,
           "2f46d1e6-2a85-4d46-b955-10c2eded661c"
          ],
          [
           43,
           "2f46d1e6-2a85-4d46-b955-10c2eded661c"
          ],
          [
           44,
           "2f46d1e6-2a85-4d46-b955-10c2eded661c"
          ],
          [
           45,
           "31d6fe77-da70-42da-8f47-66bb79b9285b"
          ],
          [
           46,
           "31d6fe77-da70-42da-8f47-66bb79b9285b"
          ],
          [
           47,
           "31d6fe77-da70-42da-8f47-66bb79b9285b"
          ],
          [
           53,
           "341b5211-bb72-4bec-bd3d-c0d518887960"
          ],
          [
           60,
           "38a7b760-56f9-4565-8b70-f8dad5768ace"
          ],
          [
           61,
           "38a7b760-56f9-4565-8b70-f8dad5768ace"
          ],
          [
           62,
           "38a7b760-56f9-4565-8b70-f8dad5768ace"
          ],
          [
           64,
           "3ec3eab7-842d-409d-8866-42ddcbd24cd9"
          ],
          [
           71,
           "47bb1fd4-d41f-42b4-8d0c-29c4e9fdff9f"
          ],
          [
           74,
           "487d752c-6e22-43e3-9c08-627bc2a6c6d4"
          ],
          [
           78,
           "543e4c99-5d9f-407d-be75-c397d633fe56"
          ],
          [
           79,
           "543e4c99-5d9f-407d-be75-c397d633fe56"
          ],
          [
           80,
           "543e4c99-5d9f-407d-be75-c397d633fe56"
          ],
          [
           81,
           "5461912b-69cd-40d7-8f79-50832f92f049"
          ],
          [
           82,
           "5461912b-69cd-40d7-8f79-50832f92f049"
          ],
          [
           83,
           "5461912b-69cd-40d7-8f79-50832f92f049"
          ],
          [
           84,
           "56fe0c73-77c4-40d9-a687-b2df28d5f7d7"
          ],
          [
           85,
           "56fe0c73-77c4-40d9-a687-b2df28d5f7d7"
          ],
          [
           86,
           "56fe0c73-77c4-40d9-a687-b2df28d5f7d7"
          ],
          [
           92,
           "5c15607b-96af-4503-84b4-d1745f3a3ae0"
          ],
          [
           93,
           "5c2e910c-84e0-4042-b5d6-880a731c3e67"
          ],
          [
           94,
           "5c2e910c-84e0-4042-b5d6-880a731c3e67"
          ],
          [
           96,
           "6628a2fb-19e2-4fe5-aedb-92fe5ceee9c9"
          ],
          [
           97,
           "6628a2fb-19e2-4fe5-aedb-92fe5ceee9c9"
          ],
          [
           98,
           "6628a2fb-19e2-4fe5-aedb-92fe5ceee9c9"
          ],
          [
           99,
           "690f58f1-f18c-4415-bab0-787c2f83d051"
          ],
          [
           100,
           "690f58f1-f18c-4415-bab0-787c2f83d051"
          ],
          [
           101,
           "690f58f1-f18c-4415-bab0-787c2f83d051"
          ],
          [
           102,
           "6ac1d2ed-1f6b-4828-a1ab-f81c40bd5e80"
          ],
          [
           103,
           "6ac1d2ed-1f6b-4828-a1ab-f81c40bd5e80"
          ],
          [
           104,
           "6ac1d2ed-1f6b-4828-a1ab-f81c40bd5e80"
          ],
          [
           105,
           "6dafeac7-75b6-4d69-96f7-d08708a0a99e"
          ],
          [
           106,
           "6dafeac7-75b6-4d69-96f7-d08708a0a99e"
          ],
          [
           107,
           "6dafeac7-75b6-4d69-96f7-d08708a0a99e"
          ],
          [
           108,
           "737e9619-7768-407c-8a4f-6fe1e8d61f04"
          ],
          [
           109,
           "737e9619-7768-407c-8a4f-6fe1e8d61f04"
          ],
          [
           110,
           "737e9619-7768-407c-8a4f-6fe1e8d61f04"
          ],
          [
           111,
           "748536e4-636a-4dc6-b1a7-d9cbfdc1cffd"
          ],
          [
           117,
           "892629b0-61eb-425d-97f4-7d213074c435"
          ],
          [
           118,
           "892629b0-61eb-425d-97f4-7d213074c435"
          ],
          [
           119,
           "892629b0-61eb-425d-97f4-7d213074c435"
          ],
          [
           123,
           "907fd0e7-6821-4e2d-9c62-6d7afad5a9d1"
          ],
          [
           124,
           "907fd0e7-6821-4e2d-9c62-6d7afad5a9d1"
          ],
          [
           125,
           "907fd0e7-6821-4e2d-9c62-6d7afad5a9d1"
          ],
          [
           126,
           "98434f4c-6216-4067-ad59-4a89cb47bb9b"
          ],
          [
           127,
           "98434f4c-6216-4067-ad59-4a89cb47bb9b"
          ],
          [
           128,
           "98434f4c-6216-4067-ad59-4a89cb47bb9b"
          ],
          [
           131,
           "9fabfbc8-1d5c-495e-9bb2-03795f0145ae"
          ],
          [
           133,
           "a267b011-b1db-4e3c-aa49-438e2afdd6dc"
          ],
          [
           134,
           "a267b011-b1db-4e3c-aa49-438e2afdd6dc"
          ],
          [
           136,
           "a6419de9-1e40-4793-b21b-9c8d9038835a"
          ],
          [
           138,
           "ab7ed4f7-10ee-4ccb-bb21-4853c9018b1e"
          ],
          [
           139,
           "ab7ed4f7-10ee-4ccb-bb21-4853c9018b1e"
          ],
          [
           140,
           "ab7ed4f7-10ee-4ccb-bb21-4853c9018b1e"
          ],
          [
           146,
           "ae2d99c2-1720-4354-bc4d-f7bc3e4ee28d"
          ],
          [
           152,
           "b4072935-56a6-4765-bb4d-d5f6bbeb95b9"
          ],
          [
           154,
           "b83285c5-0b88-4ced-a52e-5c34ea371507"
          ],
          [
           155,
           "b83285c5-0b88-4ced-a52e-5c34ea371507"
          ],
          [
           156,
           "cf95d6a4-6ad7-462c-9700-9f04bd993667"
          ],
          [
           157,
           "cf95d6a4-6ad7-462c-9700-9f04bd993667"
          ],
          [
           158,
           "cf95d6a4-6ad7-462c-9700-9f04bd993667"
          ],
          [
           160,
           "d7a2e92e-dc74-4e79-be04-a86f829fc3ec"
          ],
          [
           161,
           "d7a2e92e-dc74-4e79-be04-a86f829fc3ec"
          ],
          [
           164,
           "daf5384b-ea5c-4cce-bb8a-540a360075bf"
          ],
          [
           165,
           "dcd09fa4-afe2-4a0d-9703-83af2867ebd3"
          ],
          [
           166,
           "dcd09fa4-afe2-4a0d-9703-83af2867ebd3"
          ],
          [
           167,
           "dcd09fa4-afe2-4a0d-9703-83af2867ebd3"
          ],
          [
           169,
           "debfb68a-eae2-464e-847a-cd3fea23f3ca"
          ],
          [
           170,
           "debfb68a-eae2-464e-847a-cd3fea23f3ca"
          ],
          [
           174,
           "e250017c-16ff-4825-9c30-160f391e1549"
          ],
          [
           175,
           "e250017c-16ff-4825-9c30-160f391e1549"
          ],
          [
           176,
           "e250017c-16ff-4825-9c30-160f391e1549"
          ],
          [
           177,
           "e4ad6fd7-2e3e-4991-b392-a0056f702286"
          ],
          [
           178,
           "e4ad6fd7-2e3e-4991-b392-a0056f702286"
          ],
          [
           179,
           "e4ad6fd7-2e3e-4991-b392-a0056f702286"
          ],
          [
           180,
           "e6231d1a-1f7f-4198-a499-7635509adfaf"
          ],
          [
           181,
           "e6231d1a-1f7f-4198-a499-7635509adfaf"
          ],
          [
           182,
           "e6231d1a-1f7f-4198-a499-7635509adfaf"
          ],
          [
           187,
           "ec3556de-be79-4ad4-aa0f-eaca48abb5d5"
          ],
          [
           188,
           "ec3556de-be79-4ad4-aa0f-eaca48abb5d5"
          ],
          [
           192,
           "edc1869c-8a97-44fd-ab47-63fda4a54df9"
          ],
          [
           193,
           "edc1869c-8a97-44fd-ab47-63fda4a54df9"
          ],
          [
           199,
           "f5ac654b-8f39-427b-856f-4a9a2d4a3020"
          ],
          [
           200,
           "f5ac654b-8f39-427b-856f-4a9a2d4a3020"
          ],
          [
           201,
           "fea524d4-a1b6-466c-ac48-8777c3fd173d"
          ],
          [
           202,
           "fea524d4-a1b6-466c-ac48-8777c3fd173d"
          ],
          [
           203,
           "fea524d4-a1b6-466c-ac48-8777c3fd173d"
          ],
          [
           204,
           "grp-690f58f1-f18c-4415-bab0-787c2f83d051"
          ],
          [
           205,
           "grp-690f58f1-f18c-4415-bab0-787c2f83d051"
          ],
          [
           206,
           "grp-690f58f1-f18c-4415-bab0-787c2f83d051"
          ],
          [
           207,
           "grp-b59f7f5d-2991-49a6-8e88-0e2f2db92585"
          ],
          [
           210,
           "grp-ffd863cb-f06b-404e-a013-54acb61f1ed9"
          ],
          [
           211,
           "grp-ffd863cb-f06b-404e-a013-54acb61f1ed9"
          ],
          [
           212,
           "grp-ffd863cb-f06b-404e-a013-54acb61f1ed9"
          ]
         ],
         "hovertemplate": "Inclusion Ratio=%{x}<br>sim_seq3=%{y}<br>idx=%{customdata[0]}<br>source_uid=%{customdata[1]}<extra></extra>",
         "legendgroup": "",
         "marker": {
          "color": "#636efa",
          "symbol": "circle"
         },
         "mode": "markers",
         "name": "",
         "orientation": "v",
         "showlegend": false,
         "type": "scatter",
         "x": {
          "bdata": "VVVVVVVV1T9VVVVVVVXlP1VVVVVVVeU/AAAAAAAA8D8AAAAAAADwP5qZmZmZmdk/7FG4HoXr4T/NzMzMzMzsPwAAAAAAAPA/AAAAAAAA7D8zMzMzMzPjP5qZmZmZmek/zczMzMzM7D9mZmZmZmbmP2ZmZmZmZuY/AAAAAAAA4T8AAAAAAADkPwAAAAAAAPA/CtejcD0K1z+4HoXrUbjeP+xRuB6F6+E/MzMzMzMz0z9Ob3rTm97kP05vetOb3uQ/ZCELWchC5j8AAAAAAADQPwAAAAAAAOQ/AAAAAAAA5D8AAAAAAADwP1VVVVVVVeU/VVVVVVVV5T8AAAAAAADwPwAAAAAAAOA/kiRJkiRJ0j8AAAAAAADwPxzHcRzHcew/HMdxHMdx7D8AAAAAAADwP0N5DeU1lOc/Q3kN5TWU5z82lNdQXkPpP57YiZ3Yid0/2Ymd2Imd6D/ZiZ3YiZ3oP5IkSZIkSeI/AAAAAAAA8D8AAAAAAADwPxEREREREeE/MzMzMzMz4z93d3d3d3fnPxQ7sRM7sdM/ntiJndiJ3T+xEzuxEzvhPwAAAAAAANw/AAAAAAAA4j8AAAAAAADiP83MzMzMzOw/7+7u7u7u7j8AAAAAAADwPxQ7sRM7sbM/ntiJndiJzT+e2Imd2InNPwAAAAAAAOA/AAAAAAAA6D8AAAAAAADsPwAAAAAAAPA/mpmZmZmZyT8zMzMzMzPTPzMzMzMzM9M/JUmSJEmS5D8lSZIkSZLkP9u2bdu2bes/AAAAAAAA6D8cx3Ecx3HsPxzHcRzHcew/AAAAAAAA6D+e53me53neP3qe53me5+k/ep7neZ7n6T9iJ3ZiJ3biP5IkSZIkSdI/27Zt27Zt6z8AAAAAAADwP7dt27Zt2+Y/O6iDOqiD6j98xVd8xVfsPwAAAAAAAOg/AAAAAAAA8D8eHh4eHh7eP2ZmZmZmZu4/AAAAAAAA8D8AAAAAAADwPwAAAAAAAPA/AAAAAAAA8D/sxE7sxE7sPwAAAAAAAPA/AAAAAAAA8D8AAAAAAADwPwAAAAAAAPA/AAAAAAAA8D9VVVVVVVXVP6uqqqqqqto/q6qqqqqq2j9VVVVVVVXlPzmO4ziO4+g/KK+hvIby6j82lNdQXkPpPyELWchCFuI/OL3pTW964z9VVVVVVVXtP1VVVVVVVe0/VVVVVVVV7T8or6G8hvLqPyivobyG8uo/jLRjBcJI6z9DFrKQhSzkPyVJkiRJkuQ/AAAAAAAA6D+SJEmSJEnqPw==",
          "dtype": "f8"
         },
         "xaxis": "x",
         "y": {
          "bdata": "j7+lEhhp5D/AmKtNZKPfP1hTAuIRRtY/O78RSf705j/kTM185WvqP0xCXDK9tdU/86TRTx964j9LpcWBwPHiP7aQKo1Im+Q/NIyr/8Z75j/yb9KRkIfUP7jvyWgZhtk/+DEf03Mh2T/6fExqT+nZPx7eDGbTTdw/GCDE1YMK4j80ig29QNvhP7TRGlcZouQ/3kt/79fi1j/KDb/wi2DgPzq9AR9BZN4/uLi9fu5D4D/cs50auMXdP7rq0/kNENw/Qs1uDfM83j8kT9sfx5zTP8xRhnJZX84/ONTQKWjC3D8AAAAAAADwP461UAi7i9o/pJa+QyyU4T9uTxI5gPDlP0w5ezt/5uM/3Ob97PBK4D8cqV1k4XrXPwKTKHb7s9s/q5ExLnKV4D/+kcbl0J/fP3pcNy+YFd8/uGG0uN+g4z9xYxSwDT3mP4xzi6OV2eM/H7M2RIDC5D8GYH8/PVLpP7hc1coWSt8/pTChnOqm4z8r0jj3vevkP5JUsQRa29Y/JuV65Gja1j/+8uuGx4bbP+iRzTATHNk/gH38Dc8z3T9WQ7E1RnbePy4jjYnQtN0/UAX97pWg4j9e6zBDlX7jP4hY9Y+6rOg/4I5rHnMD5D9ioRGcK3HkP4YmS1euI9g/eIt/7J0x4z8Q/SdHwJrlP8KcvsdXs+g/3kwffBUM6j9GPC5Tk0TuPze5kSI3z+8/FBUF8SR15z8gc1rYKXXnPyBzWtgpdec/CvzNAKNB6j+dn8B6EyzkP5jLqd3/3+s/ZtN8wfvw4D+2onY////vPwAAAAAAAPA/iK5n7OB64j8wlu5i8HXeP2Dok1onkN8/Thh+hjcJ3z9qvPwI36vmP8DWoNjA6dM/xQici0hL4z9K1nzok1PmPyy1QspVdeE/3DVT0lUv4j/chT5jUd3nP3zUwVBShuY/2v+8N0xb7z9mcQncu7HhP+qwskMUcec/psga4cXw4T8mctlr1x3iP+IajLSTMus/KPG8Cepq6j/US//QGsjfP26lLXZ5eeE/vd3ZTj3P4D+Fh6iqCifoP9JT0Mrj1uM/vM+dbQ2G6j++CMcGuA/lP+nJdERqMOI/jpk2sfUr4D/UNjLer7DdP/qgCW9z5eI/0hF8WM9K4D/o9OioGxzjP7+pBUgqPuQ/l4wLeQkG5D8BjntbHjflPwhAIHMB8Og/EMuQH4F05j+AitxfpqXgP9hkFjGsmuM/fctF6x2q5j9weNX5rwDaP2H7Cd3u6OM/4NK6Pf2Q4j+MsFgkypvmPw==",
          "dtype": "f8"
         },
         "yaxis": "y"
        },
        {
         "line": {
          "color": "green",
          "dash": "dot"
         },
         "mode": "lines+markers",
         "name": "Ratio (mybool=True / all)",
         "type": "scatter",
         "x": [
          0.0995,
          0.30000000000000004,
          0.5,
          0.7,
          0.9
         ],
         "y": [
          0.07142857142857142,
          0.3939393939393939,
          0.5238095238095238,
          0.7674418604651163,
          0.7313432835820896
         ],
         "yaxis": "y2"
        }
       ],
       "layout": {
        "legend": {
         "tracegroupgap": 0
        },
        "template": {
         "data": {
          "bar": [
           {
            "error_x": {
             "color": "#2a3f5f"
            },
            "error_y": {
             "color": "#2a3f5f"
            },
            "marker": {
             "line": {
              "color": "#E5ECF6",
              "width": 0.5
             },
             "pattern": {
              "fillmode": "overlay",
              "size": 10,
              "solidity": 0.2
             }
            },
            "type": "bar"
           }
          ],
          "barpolar": [
           {
            "marker": {
             "line": {
              "color": "#E5ECF6",
              "width": 0.5
             },
             "pattern": {
              "fillmode": "overlay",
              "size": 10,
              "solidity": 0.2
             }
            },
            "type": "barpolar"
           }
          ],
          "carpet": [
           {
            "aaxis": {
             "endlinecolor": "#2a3f5f",
             "gridcolor": "white",
             "linecolor": "white",
             "minorgridcolor": "white",
             "startlinecolor": "#2a3f5f"
            },
            "baxis": {
             "endlinecolor": "#2a3f5f",
             "gridcolor": "white",
             "linecolor": "white",
             "minorgridcolor": "white",
             "startlinecolor": "#2a3f5f"
            },
            "type": "carpet"
           }
          ],
          "choropleth": [
           {
            "colorbar": {
             "outlinewidth": 0,
             "ticks": ""
            },
            "type": "choropleth"
           }
          ],
          "contour": [
           {
            "colorbar": {
             "outlinewidth": 0,
             "ticks": ""
            },
            "colorscale": [
             [
              0,
              "#0d0887"
             ],
             [
              0.1111111111111111,
              "#46039f"
             ],
             [
              0.2222222222222222,
              "#7201a8"
             ],
             [
              0.3333333333333333,
              "#9c179e"
             ],
             [
              0.4444444444444444,
              "#bd3786"
             ],
             [
              0.5555555555555556,
              "#d8576b"
             ],
             [
              0.6666666666666666,
              "#ed7953"
             ],
             [
              0.7777777777777778,
              "#fb9f3a"
             ],
             [
              0.8888888888888888,
              "#fdca26"
             ],
             [
              1,
              "#f0f921"
             ]
            ],
            "type": "contour"
           }
          ],
          "contourcarpet": [
           {
            "colorbar": {
             "outlinewidth": 0,
             "ticks": ""
            },
            "type": "contourcarpet"
           }
          ],
          "heatmap": [
           {
            "colorbar": {
             "outlinewidth": 0,
             "ticks": ""
            },
            "colorscale": [
             [
              0,
              "#0d0887"
             ],
             [
              0.1111111111111111,
              "#46039f"
             ],
             [
              0.2222222222222222,
              "#7201a8"
             ],
             [
              0.3333333333333333,
              "#9c179e"
             ],
             [
              0.4444444444444444,
              "#bd3786"
             ],
             [
              0.5555555555555556,
              "#d8576b"
             ],
             [
              0.6666666666666666,
              "#ed7953"
             ],
             [
              0.7777777777777778,
              "#fb9f3a"
             ],
             [
              0.8888888888888888,
              "#fdca26"
             ],
             [
              1,
              "#f0f921"
             ]
            ],
            "type": "heatmap"
           }
          ],
          "histogram": [
           {
            "marker": {
             "pattern": {
              "fillmode": "overlay",
              "size": 10,
              "solidity": 0.2
             }
            },
            "type": "histogram"
           }
          ],
          "histogram2d": [
           {
            "colorbar": {
             "outlinewidth": 0,
             "ticks": ""
            },
            "colorscale": [
             [
              0,
              "#0d0887"
             ],
             [
              0.1111111111111111,
              "#46039f"
             ],
             [
              0.2222222222222222,
              "#7201a8"
             ],
             [
              0.3333333333333333,
              "#9c179e"
             ],
             [
              0.4444444444444444,
              "#bd3786"
             ],
             [
              0.5555555555555556,
              "#d8576b"
             ],
             [
              0.6666666666666666,
              "#ed7953"
             ],
             [
              0.7777777777777778,
              "#fb9f3a"
             ],
             [
              0.8888888888888888,
              "#fdca26"
             ],
             [
              1,
              "#f0f921"
             ]
            ],
            "type": "histogram2d"
           }
          ],
          "histogram2dcontour": [
           {
            "colorbar": {
             "outlinewidth": 0,
             "ticks": ""
            },
            "colorscale": [
             [
              0,
              "#0d0887"
             ],
             [
              0.1111111111111111,
              "#46039f"
             ],
             [
              0.2222222222222222,
              "#7201a8"
             ],
             [
              0.3333333333333333,
              "#9c179e"
             ],
             [
              0.4444444444444444,
              "#bd3786"
             ],
             [
              0.5555555555555556,
              "#d8576b"
             ],
             [
              0.6666666666666666,
              "#ed7953"
             ],
             [
              0.7777777777777778,
              "#fb9f3a"
             ],
             [
              0.8888888888888888,
              "#fdca26"
             ],
             [
              1,
              "#f0f921"
             ]
            ],
            "type": "histogram2dcontour"
           }
          ],
          "mesh3d": [
           {
            "colorbar": {
             "outlinewidth": 0,
             "ticks": ""
            },
            "type": "mesh3d"
           }
          ],
          "parcoords": [
           {
            "line": {
             "colorbar": {
              "outlinewidth": 0,
              "ticks": ""
             }
            },
            "type": "parcoords"
           }
          ],
          "pie": [
           {
            "automargin": true,
            "type": "pie"
           }
          ],
          "scatter": [
           {
            "fillpattern": {
             "fillmode": "overlay",
             "size": 10,
             "solidity": 0.2
            },
            "type": "scatter"
           }
          ],
          "scatter3d": [
           {
            "line": {
             "colorbar": {
              "outlinewidth": 0,
              "ticks": ""
             }
            },
            "marker": {
             "colorbar": {
              "outlinewidth": 0,
              "ticks": ""
             }
            },
            "type": "scatter3d"
           }
          ],
          "scattercarpet": [
           {
            "marker": {
             "colorbar": {
              "outlinewidth": 0,
              "ticks": ""
             }
            },
            "type": "scattercarpet"
           }
          ],
          "scattergeo": [
           {
            "marker": {
             "colorbar": {
              "outlinewidth": 0,
              "ticks": ""
             }
            },
            "type": "scattergeo"
           }
          ],
          "scattergl": [
           {
            "marker": {
             "colorbar": {
              "outlinewidth": 0,
              "ticks": ""
             }
            },
            "type": "scattergl"
           }
          ],
          "scattermap": [
           {
            "marker": {
             "colorbar": {
              "outlinewidth": 0,
              "ticks": ""
             }
            },
            "type": "scattermap"
           }
          ],
          "scattermapbox": [
           {
            "marker": {
             "colorbar": {
              "outlinewidth": 0,
              "ticks": ""
             }
            },
            "type": "scattermapbox"
           }
          ],
          "scatterpolar": [
           {
            "marker": {
             "colorbar": {
              "outlinewidth": 0,
              "ticks": ""
             }
            },
            "type": "scatterpolar"
           }
          ],
          "scatterpolargl": [
           {
            "marker": {
             "colorbar": {
              "outlinewidth": 0,
              "ticks": ""
             }
            },
            "type": "scatterpolargl"
           }
          ],
          "scatterternary": [
           {
            "marker": {
             "colorbar": {
              "outlinewidth": 0,
              "ticks": ""
             }
            },
            "type": "scatterternary"
           }
          ],
          "surface": [
           {
            "colorbar": {
             "outlinewidth": 0,
             "ticks": ""
            },
            "colorscale": [
             [
              0,
              "#0d0887"
             ],
             [
              0.1111111111111111,
              "#46039f"
             ],
             [
              0.2222222222222222,
              "#7201a8"
             ],
             [
              0.3333333333333333,
              "#9c179e"
             ],
             [
              0.4444444444444444,
              "#bd3786"
             ],
             [
              0.5555555555555556,
              "#d8576b"
             ],
             [
              0.6666666666666666,
              "#ed7953"
             ],
             [
              0.7777777777777778,
              "#fb9f3a"
             ],
             [
              0.8888888888888888,
              "#fdca26"
             ],
             [
              1,
              "#f0f921"
             ]
            ],
            "type": "surface"
           }
          ],
          "table": [
           {
            "cells": {
             "fill": {
              "color": "#EBF0F8"
             },
             "line": {
              "color": "white"
             }
            },
            "header": {
             "fill": {
              "color": "#C8D4E3"
             },
             "line": {
              "color": "white"
             }
            },
            "type": "table"
           }
          ]
         },
         "layout": {
          "annotationdefaults": {
           "arrowcolor": "#2a3f5f",
           "arrowhead": 0,
           "arrowwidth": 1
          },
          "autotypenumbers": "strict",
          "coloraxis": {
           "colorbar": {
            "outlinewidth": 0,
            "ticks": ""
           }
          },
          "colorscale": {
           "diverging": [
            [
             0,
             "#8e0152"
            ],
            [
             0.1,
             "#c51b7d"
            ],
            [
             0.2,
             "#de77ae"
            ],
            [
             0.3,
             "#f1b6da"
            ],
            [
             0.4,
             "#fde0ef"
            ],
            [
             0.5,
             "#f7f7f7"
            ],
            [
             0.6,
             "#e6f5d0"
            ],
            [
             0.7,
             "#b8e186"
            ],
            [
             0.8,
             "#7fbc41"
            ],
            [
             0.9,
             "#4d9221"
            ],
            [
             1,
             "#276419"
            ]
           ],
           "sequential": [
            [
             0,
             "#0d0887"
            ],
            [
             0.1111111111111111,
             "#46039f"
            ],
            [
             0.2222222222222222,
             "#7201a8"
            ],
            [
             0.3333333333333333,
             "#9c179e"
            ],
            [
             0.4444444444444444,
             "#bd3786"
            ],
            [
             0.5555555555555556,
             "#d8576b"
            ],
            [
             0.6666666666666666,
             "#ed7953"
            ],
            [
             0.7777777777777778,
             "#fb9f3a"
            ],
            [
             0.8888888888888888,
             "#fdca26"
            ],
            [
             1,
             "#f0f921"
            ]
           ],
           "sequentialminus": [
            [
             0,
             "#0d0887"
            ],
            [
             0.1111111111111111,
             "#46039f"
            ],
            [
             0.2222222222222222,
             "#7201a8"
            ],
            [
             0.3333333333333333,
             "#9c179e"
            ],
            [
             0.4444444444444444,
             "#bd3786"
            ],
            [
             0.5555555555555556,
             "#d8576b"
            ],
            [
             0.6666666666666666,
             "#ed7953"
            ],
            [
             0.7777777777777778,
             "#fb9f3a"
            ],
            [
             0.8888888888888888,
             "#fdca26"
            ],
            [
             1,
             "#f0f921"
            ]
           ]
          },
          "colorway": [
           "#636efa",
           "#EF553B",
           "#00cc96",
           "#ab63fa",
           "#FFA15A",
           "#19d3f3",
           "#FF6692",
           "#B6E880",
           "#FF97FF",
           "#FECB52"
          ],
          "font": {
           "color": "#2a3f5f"
          },
          "geo": {
           "bgcolor": "white",
           "lakecolor": "white",
           "landcolor": "#E5ECF6",
           "showlakes": true,
           "showland": true,
           "subunitcolor": "white"
          },
          "hoverlabel": {
           "align": "left"
          },
          "hovermode": "closest",
          "mapbox": {
           "style": "light"
          },
          "paper_bgcolor": "white",
          "plot_bgcolor": "#E5ECF6",
          "polar": {
           "angularaxis": {
            "gridcolor": "white",
            "linecolor": "white",
            "ticks": ""
           },
           "bgcolor": "#E5ECF6",
           "radialaxis": {
            "gridcolor": "white",
            "linecolor": "white",
            "ticks": ""
           }
          },
          "scene": {
           "xaxis": {
            "backgroundcolor": "#E5ECF6",
            "gridcolor": "white",
            "gridwidth": 2,
            "linecolor": "white",
            "showbackground": true,
            "ticks": "",
            "zerolinecolor": "white"
           },
           "yaxis": {
            "backgroundcolor": "#E5ECF6",
            "gridcolor": "white",
            "gridwidth": 2,
            "linecolor": "white",
            "showbackground": true,
            "ticks": "",
            "zerolinecolor": "white"
           },
           "zaxis": {
            "backgroundcolor": "#E5ECF6",
            "gridcolor": "white",
            "gridwidth": 2,
            "linecolor": "white",
            "showbackground": true,
            "ticks": "",
            "zerolinecolor": "white"
           }
          },
          "shapedefaults": {
           "line": {
            "color": "#2a3f5f"
           }
          },
          "ternary": {
           "aaxis": {
            "gridcolor": "white",
            "linecolor": "white",
            "ticks": ""
           },
           "baxis": {
            "gridcolor": "white",
            "linecolor": "white",
            "ticks": ""
           },
           "bgcolor": "#E5ECF6",
           "caxis": {
            "gridcolor": "white",
            "linecolor": "white",
            "ticks": ""
           }
          },
          "title": {
           "x": 0.05
          },
          "xaxis": {
           "automargin": true,
           "gridcolor": "white",
           "linecolor": "white",
           "ticks": "",
           "title": {
            "standoff": 15
           },
           "zerolinecolor": "white",
           "zerolinewidth": 2
          },
          "yaxis": {
           "automargin": true,
           "gridcolor": "white",
           "linecolor": "white",
           "ticks": "",
           "title": {
            "standoff": 15
           },
           "zerolinecolor": "white",
           "zerolinewidth": 2
          }
         }
        },
        "title": {
         "text": "Inclusion Ratio vs. sim_seq3 (bool=True) 119/213"
        },
        "xaxis": {
         "anchor": "y",
         "domain": [
          0,
          1
         ],
         "range": [
          -0.1,
          1.1
         ],
         "title": {
          "text": "Inclusion Ratio"
         }
        },
        "yaxis": {
         "anchor": "x",
         "domain": [
          0,
          1
         ],
         "range": [
          0,
          1.1
         ],
         "title": {
          "text": "sim_seq3"
         }
        },
        "yaxis2": {
         "overlaying": "y",
         "range": [
          0,
          1.1
         ],
         "side": "right",
         "title": {
          "text": "Ratio"
         }
        }
       }
      }
     },
     "metadata": {},
     "output_type": "display_data"
    },
    {
     "name": "stdout",
     "output_type": "stream",
     "text": [
      "213 127\n"
     ]
    },
    {
     "data": {
      "application/vnd.plotly.v1+json": {
       "config": {
        "plotlyServerURL": "https://plot.ly"
       },
       "data": [
        {
         "customdata": [
          [
           1,
           "01ce4fd6-197a-4792-8778-775b03780369"
          ],
          [
           2,
           "01ce4fd6-197a-4792-8778-775b03780369"
          ],
          [
           4,
           "026dac2d-2ab3-4f9c-9e1d-6198db4fb080"
          ],
          [
           7,
           "02a06bf1-51b8-4902-b088-573e29fcd7ec"
          ],
          [
           8,
           "02a06bf1-51b8-4902-b088-573e29fcd7ec"
          ],
          [
           10,
           "14bcb17c-f70a-41d5-b10d-294388084dfc"
          ],
          [
           11,
           "14bcb17c-f70a-41d5-b10d-294388084dfc"
          ],
          [
           12,
           "1a894d3c-b3ef-448a-a3de-2b38677cef36"
          ],
          [
           13,
           "1a894d3c-b3ef-448a-a3de-2b38677cef36"
          ],
          [
           14,
           "1a894d3c-b3ef-448a-a3de-2b38677cef36"
          ],
          [
           15,
           "1dc85adb-fbdd-4275-b9cf-42976acb4d14"
          ],
          [
           24,
           "2978ddbc-cdc9-4bfa-9a7c-4bf056904010"
          ],
          [
           27,
           "29e00040-6e0f-4f0e-816d-1ac97c1e5485"
          ],
          [
           28,
           "29e00040-6e0f-4f0e-816d-1ac97c1e5485"
          ],
          [
           29,
           "29e00040-6e0f-4f0e-816d-1ac97c1e5485"
          ],
          [
           30,
           "2ba0becb-58c2-43a1-97bb-7e153a34eb47"
          ],
          [
           31,
           "2ba0becb-58c2-43a1-97bb-7e153a34eb47"
          ],
          [
           32,
           "2ba0becb-58c2-43a1-97bb-7e153a34eb47"
          ],
          [
           33,
           "2bc7d6fa-a02e-4367-b316-d6b4e8a2ce3f"
          ],
          [
           34,
           "2bc7d6fa-a02e-4367-b316-d6b4e8a2ce3f"
          ],
          [
           35,
           "2bc7d6fa-a02e-4367-b316-d6b4e8a2ce3f"
          ],
          [
           36,
           "2c27b5f1-4af6-49ad-a43c-3efb0c150868"
          ],
          [
           37,
           "2c27b5f1-4af6-49ad-a43c-3efb0c150868"
          ],
          [
           42,
           "2f46d1e6-2a85-4d46-b955-10c2eded661c"
          ],
          [
           43,
           "2f46d1e6-2a85-4d46-b955-10c2eded661c"
          ],
          [
           44,
           "2f46d1e6-2a85-4d46-b955-10c2eded661c"
          ],
          [
           53,
           "341b5211-bb72-4bec-bd3d-c0d518887960"
          ],
          [
           54,
           "35080724-6604-401c-8b06-19b7cece3d45"
          ],
          [
           55,
           "35080724-6604-401c-8b06-19b7cece3d45"
          ],
          [
           56,
           "35080724-6604-401c-8b06-19b7cece3d45"
          ],
          [
           61,
           "38a7b760-56f9-4565-8b70-f8dad5768ace"
          ],
          [
           62,
           "38a7b760-56f9-4565-8b70-f8dad5768ace"
          ],
          [
           63,
           "3ec3eab7-842d-409d-8866-42ddcbd24cd9"
          ],
          [
           64,
           "3ec3eab7-842d-409d-8866-42ddcbd24cd9"
          ],
          [
           65,
           "3ec3eab7-842d-409d-8866-42ddcbd24cd9"
          ],
          [
           67,
           "46e07357-6946-4ff0-ba36-ae11840bdc39"
          ],
          [
           68,
           "46e07357-6946-4ff0-ba36-ae11840bdc39"
          ],
          [
           69,
           "47bb1fd4-d41f-42b4-8d0c-29c4e9fdff9f"
          ],
          [
           70,
           "47bb1fd4-d41f-42b4-8d0c-29c4e9fdff9f"
          ],
          [
           71,
           "47bb1fd4-d41f-42b4-8d0c-29c4e9fdff9f"
          ],
          [
           74,
           "487d752c-6e22-43e3-9c08-627bc2a6c6d4"
          ],
          [
           78,
           "543e4c99-5d9f-407d-be75-c397d633fe56"
          ],
          [
           79,
           "543e4c99-5d9f-407d-be75-c397d633fe56"
          ],
          [
           80,
           "543e4c99-5d9f-407d-be75-c397d633fe56"
          ],
          [
           81,
           "5461912b-69cd-40d7-8f79-50832f92f049"
          ],
          [
           82,
           "5461912b-69cd-40d7-8f79-50832f92f049"
          ],
          [
           83,
           "5461912b-69cd-40d7-8f79-50832f92f049"
          ],
          [
           84,
           "56fe0c73-77c4-40d9-a687-b2df28d5f7d7"
          ],
          [
           85,
           "56fe0c73-77c4-40d9-a687-b2df28d5f7d7"
          ],
          [
           86,
           "56fe0c73-77c4-40d9-a687-b2df28d5f7d7"
          ],
          [
           91,
           "5c15607b-96af-4503-84b4-d1745f3a3ae0"
          ],
          [
           92,
           "5c15607b-96af-4503-84b4-d1745f3a3ae0"
          ],
          [
           93,
           "5c2e910c-84e0-4042-b5d6-880a731c3e67"
          ],
          [
           94,
           "5c2e910c-84e0-4042-b5d6-880a731c3e67"
          ],
          [
           95,
           "5c2e910c-84e0-4042-b5d6-880a731c3e67"
          ],
          [
           96,
           "6628a2fb-19e2-4fe5-aedb-92fe5ceee9c9"
          ],
          [
           97,
           "6628a2fb-19e2-4fe5-aedb-92fe5ceee9c9"
          ],
          [
           98,
           "6628a2fb-19e2-4fe5-aedb-92fe5ceee9c9"
          ],
          [
           99,
           "690f58f1-f18c-4415-bab0-787c2f83d051"
          ],
          [
           101,
           "690f58f1-f18c-4415-bab0-787c2f83d051"
          ],
          [
           102,
           "6ac1d2ed-1f6b-4828-a1ab-f81c40bd5e80"
          ],
          [
           103,
           "6ac1d2ed-1f6b-4828-a1ab-f81c40bd5e80"
          ],
          [
           104,
           "6ac1d2ed-1f6b-4828-a1ab-f81c40bd5e80"
          ],
          [
           105,
           "6dafeac7-75b6-4d69-96f7-d08708a0a99e"
          ],
          [
           106,
           "6dafeac7-75b6-4d69-96f7-d08708a0a99e"
          ],
          [
           107,
           "6dafeac7-75b6-4d69-96f7-d08708a0a99e"
          ],
          [
           110,
           "737e9619-7768-407c-8a4f-6fe1e8d61f04"
          ],
          [
           112,
           "748536e4-636a-4dc6-b1a7-d9cbfdc1cffd"
          ],
          [
           113,
           "748536e4-636a-4dc6-b1a7-d9cbfdc1cffd"
          ],
          [
           116,
           "7e8d03f2-2ff9-431d-af81-e5ffcd954a63"
          ],
          [
           117,
           "892629b0-61eb-425d-97f4-7d213074c435"
          ],
          [
           118,
           "892629b0-61eb-425d-97f4-7d213074c435"
          ],
          [
           119,
           "892629b0-61eb-425d-97f4-7d213074c435"
          ],
          [
           120,
           "89857b33-fa50-469a-bbb3-91c8ab655931"
          ],
          [
           121,
           "89857b33-fa50-469a-bbb3-91c8ab655931"
          ],
          [
           123,
           "907fd0e7-6821-4e2d-9c62-6d7afad5a9d1"
          ],
          [
           124,
           "907fd0e7-6821-4e2d-9c62-6d7afad5a9d1"
          ],
          [
           125,
           "907fd0e7-6821-4e2d-9c62-6d7afad5a9d1"
          ],
          [
           126,
           "98434f4c-6216-4067-ad59-4a89cb47bb9b"
          ],
          [
           127,
           "98434f4c-6216-4067-ad59-4a89cb47bb9b"
          ],
          [
           128,
           "98434f4c-6216-4067-ad59-4a89cb47bb9b"
          ],
          [
           130,
           "9fabfbc8-1d5c-495e-9bb2-03795f0145ae"
          ],
          [
           131,
           "9fabfbc8-1d5c-495e-9bb2-03795f0145ae"
          ],
          [
           133,
           "a267b011-b1db-4e3c-aa49-438e2afdd6dc"
          ],
          [
           134,
           "a267b011-b1db-4e3c-aa49-438e2afdd6dc"
          ],
          [
           135,
           "a6419de9-1e40-4793-b21b-9c8d9038835a"
          ],
          [
           136,
           "a6419de9-1e40-4793-b21b-9c8d9038835a"
          ],
          [
           137,
           "a6419de9-1e40-4793-b21b-9c8d9038835a"
          ],
          [
           139,
           "ab7ed4f7-10ee-4ccb-bb21-4853c9018b1e"
          ],
          [
           144,
           "ae2d99c2-1720-4354-bc4d-f7bc3e4ee28d"
          ],
          [
           147,
           "b17ff269-ec2d-4ad8-88aa-b00b75921427"
          ],
          [
           148,
           "b17ff269-ec2d-4ad8-88aa-b00b75921427"
          ],
          [
           155,
           "b83285c5-0b88-4ced-a52e-5c34ea371507"
          ],
          [
           156,
           "cf95d6a4-6ad7-462c-9700-9f04bd993667"
          ],
          [
           157,
           "cf95d6a4-6ad7-462c-9700-9f04bd993667"
          ],
          [
           158,
           "cf95d6a4-6ad7-462c-9700-9f04bd993667"
          ],
          [
           160,
           "d7a2e92e-dc74-4e79-be04-a86f829fc3ec"
          ],
          [
           161,
           "d7a2e92e-dc74-4e79-be04-a86f829fc3ec"
          ],
          [
           165,
           "dcd09fa4-afe2-4a0d-9703-83af2867ebd3"
          ],
          [
           166,
           "dcd09fa4-afe2-4a0d-9703-83af2867ebd3"
          ],
          [
           167,
           "dcd09fa4-afe2-4a0d-9703-83af2867ebd3"
          ],
          [
           168,
           "debfb68a-eae2-464e-847a-cd3fea23f3ca"
          ],
          [
           169,
           "debfb68a-eae2-464e-847a-cd3fea23f3ca"
          ],
          [
           170,
           "debfb68a-eae2-464e-847a-cd3fea23f3ca"
          ],
          [
           173,
           "e09a667f-04bc-49b5-8246-daf248a29174"
          ],
          [
           174,
           "e250017c-16ff-4825-9c30-160f391e1549"
          ],
          [
           175,
           "e250017c-16ff-4825-9c30-160f391e1549"
          ],
          [
           176,
           "e250017c-16ff-4825-9c30-160f391e1549"
          ],
          [
           177,
           "e4ad6fd7-2e3e-4991-b392-a0056f702286"
          ],
          [
           178,
           "e4ad6fd7-2e3e-4991-b392-a0056f702286"
          ],
          [
           179,
           "e4ad6fd7-2e3e-4991-b392-a0056f702286"
          ],
          [
           180,
           "e6231d1a-1f7f-4198-a499-7635509adfaf"
          ],
          [
           187,
           "ec3556de-be79-4ad4-aa0f-eaca48abb5d5"
          ],
          [
           188,
           "ec3556de-be79-4ad4-aa0f-eaca48abb5d5"
          ],
          [
           192,
           "edc1869c-8a97-44fd-ab47-63fda4a54df9"
          ],
          [
           194,
           "edc1869c-8a97-44fd-ab47-63fda4a54df9"
          ],
          [
           201,
           "fea524d4-a1b6-466c-ac48-8777c3fd173d"
          ],
          [
           202,
           "fea524d4-a1b6-466c-ac48-8777c3fd173d"
          ],
          [
           203,
           "fea524d4-a1b6-466c-ac48-8777c3fd173d"
          ],
          [
           204,
           "grp-690f58f1-f18c-4415-bab0-787c2f83d051"
          ],
          [
           205,
           "grp-690f58f1-f18c-4415-bab0-787c2f83d051"
          ],
          [
           206,
           "grp-690f58f1-f18c-4415-bab0-787c2f83d051"
          ],
          [
           207,
           "grp-b59f7f5d-2991-49a6-8e88-0e2f2db92585"
          ],
          [
           208,
           "grp-b59f7f5d-2991-49a6-8e88-0e2f2db92585"
          ],
          [
           210,
           "grp-ffd863cb-f06b-404e-a013-54acb61f1ed9"
          ],
          [
           211,
           "grp-ffd863cb-f06b-404e-a013-54acb61f1ed9"
          ],
          [
           212,
           "grp-ffd863cb-f06b-404e-a013-54acb61f1ed9"
          ]
         ],
         "hovertemplate": "Inclusion Ratio=%{x}<br>sim_seq3=%{y}<br>idx=%{customdata[0]}<br>source_uid=%{customdata[1]}<extra></extra>",
         "legendgroup": "",
         "marker": {
          "color": "#636efa",
          "symbol": "circle"
         },
         "mode": "markers",
         "name": "",
         "orientation": "v",
         "showlegend": false,
         "type": "scatter",
         "x": {
          "bdata": "VVVVVVVV1T9VVVVVVVXVPxzHcRzHcew/VVVVVVVV5T9VVVVVVVXlPwAAAAAAAPA/AAAAAAAA8D+amZmZmZnZP+xRuB6F6+E/MzMzMzMz4z/NzMzMzMzsPzMzMzMzM+M/3t3d3d3d3T9mZmZmZmbmP2ZmZmZmZuY/AAAAAAAA4T8AAAAAAADkPwAAAAAAAOQ/AAAAAAAA8D8AAAAAAADwPwAAAAAAAPA/CtejcD0K1z+4HoXrUbjeP05vetOb3uQ/Tm9605ve5D9kIQtZyELmPwAAAAAAAPA/zczMzMzM5D8AAAAAAADoPwAAAAAAAOg/VVVVVVVV5T8AAAAAAADwP6uqqqqqqto/AAAAAAAA4D8AAAAAAADgPwAAAAAAAOA/JUmSJEmS5D8AAAAAAAAAAJIkSZIkSdI/kiRJkiRJ0j8AAAAAAADwPxzHcRzHcew/HMdxHMdx7D8AAAAAAADwP0N5DeU1lOc/Q3kN5TWU5z82lNdQXkPpP57YiZ3Yid0/2Ymd2Imd6D/ZiZ3YiZ3oPxW8nIKXU+A/kiRJkiRJ4j8AAAAAAADwPwAAAAAAAPA/AAAAAAAA8D8RERERERHhPzMzMzMzM+M/d3d3d3d35z8UO7ETO7HTP7ETO7ETO+E/AAAAAAAA3D8AAAAAAADiPwAAAAAAAOI/zczMzMzM7D/v7u7u7u7uPwAAAAAAAPA/ntiJndiJzT+rqqqqqqrqPwAAAAAAAPA/kiRJkiRJ4j8AAAAAAADoPwAAAAAAAOw/AAAAAAAA8D8AAAAAAADwPwAAAAAAAPA/mpmZmZmZyT8zMzMzMzPTPzMzMzMzM9M/JUmSJEmS5D8lSZIkSZLkP9u2bdu2bes/AAAAAAAA0D8AAAAAAADoPxzHcRzHcew/HMdxHMdx7D9JkiRJkiTZPwAAAAAAAOg/SZIkSZIk6T96nud5nufpPwAAAAAAAOA/mpmZmZmZyT8zMzMzMzPTPwAAAAAAAPA/t23btm3b5j87qIM6qIPqP3zFV3zFV+w/AAAAAAAA6D8AAAAAAADwP2ZmZmZmZu4/AAAAAAAA8D8AAAAAAADwP8dxHMdxHOc/AAAAAAAA8D8AAAAAAADwPwAAAAAAAOg/7MRO7MRO7D8AAAAAAADwPwAAAAAAAPA/AAAAAAAA8D8AAAAAAADwPwAAAAAAAPA/VVVVVVVV1T9VVVVVVVXlPzmO4ziO4+g/KK+hvIby6j8bymsor6HsP1VVVVVVVe0/VVVVVVVV7T9VVVVVVVXtPyivobyG8uo/KK+hvIby6j+MtGMFwkjrP0MWspCFLOQ/pze96U1v6j8lSZIkSZLkPwAAAAAAAOg/kiRJkiRJ6j8=",
          "dtype": "f8"
         },
         "xaxis": "x",
         "y": {
          "bdata": "J73o/e/w4z/ylLzM49/jP6I5MzRUCOQ/1nKaQFs63D94DVGuo0/hP0h8ydJwM+A/N50MHOdr6j9EDVPv+yHZPwbXMma7qd0//aV9mg1d4D+koxr0fm3eP3bQDBXhT+g/Qm6lc2b22j8wa8DX1XjZP0ZmNG85Jtw/hhNxU5BZ5D+sH/17gMrkP2QdMl6AyuQ/CMpCb9as6j9xsVPK///vP644UdzxFeM/5s59bagK0z/4+tNHjp3gPwH8EGicCeA/pA4L7J523j+MiyJiQsXcP24wQIUmbOY/xMbSWitQ6j/Kumy3YYDjP/WXJbzxNes/XVriLtUX4T+8ACqj8bXdPx6kWieJNdw/XoD9ViK64D8yX9WUvkzbP+By+aYtHtY/Qimk7xvp1T+4MXJdvq3ZP5pBp4w3Puc/REoNMImZ5T9OBzv27ujWP8D2ytEELeA/NGlHcmV+2j+YjQsSlrPdP1XpcBmezeA/VJ5a4fZy4j9g6tCKzFfmPwMPqTTaluQ/JgtSeWOa5T/k/W3Mp+TkP4zDuJqMQto/KsCCSf8D3D+D8SeWSRTlP7OBL0UPuOQ/+/Y19H7I5j8WY2eWPczWPyC5cF0qMNg/rLfOH9Qf2j8UFMS96UbaPw6zXqgYNNw/GMqOQsno4T/Ad6CbsQ/gP7hlKZQI8uQ/YgOJhK7J5T/O+ucdy97lPyF5aKwyAOU/DHouRdCi2D/RzGb/fnPlP/gjRdfnzuU/4lP8gb5k4D/q/ZRs26/pP/qMkslXNOo/s+fqpXBI7D/4UUwiUKjmP85M7RiyD+c/3FZhCu7v6T8gc1rYKXXnPw7P4yWWx+M/9zFZKGgv4T+QwJQvj/7iP8Jg+K1oG+g/sIeol7/U2j+edZaqSnLjP4yYuey20uM/Rz0OWf9E4T8vDk+ROArgP+DqmZjCR+A/1ImkybpN2D9iVWr3sx7fPyCeFAUm0eY/RRQxXw914j+EoSFy1d3hP8wkRvhAKeQ/MOTzzexb5T9g2GHysP3kPxDh2j0E0eI/FFX3qZSX5j/N4GaJcuPpP/Q0Wf2lqOE/WAM+Uwy32D8s/0b5VDzfPwUEwn6ud+o/ZA1NO8Zt6T/qjCsJnzrsP6ClEDbRcOM/tBYfUcGc4D8i3asQi73hP1xSEDLUd9w/luufSiQS6j8mYDrSdOnnP7A+VNRioec/xDCcS2sE3D9ASj5c0CLkPwUf1MWFQuM/pCwGIttq5D/EpxBYAIvlP3mrZyYjZ+U/nMyXeUr35D+gEUFU9B/rP4R5a/upY94/al0C5YIS4D+gyItFOwriP/6RwPgivds/oN1Qhgwc5D/b3Mgud8fgP6ZgC0ZQoeA/0pICIuL45j8=",
          "dtype": "f8"
         },
         "yaxis": "y"
        },
        {
         "line": {
          "color": "green",
          "dash": "dot"
         },
         "mode": "lines+markers",
         "name": "Ratio (mybool=True / all)",
         "type": "scatter",
         "x": [
          0.0995,
          0.30000000000000004,
          0.5,
          0.7,
          0.9
         ],
         "y": [
          0.10714285714285714,
          0.42424242424242425,
          0.5,
          0.813953488372093,
          0.8059701492537313
         ],
         "yaxis": "y2"
        }
       ],
       "layout": {
        "legend": {
         "tracegroupgap": 0
        },
        "template": {
         "data": {
          "bar": [
           {
            "error_x": {
             "color": "#2a3f5f"
            },
            "error_y": {
             "color": "#2a3f5f"
            },
            "marker": {
             "line": {
              "color": "#E5ECF6",
              "width": 0.5
             },
             "pattern": {
              "fillmode": "overlay",
              "size": 10,
              "solidity": 0.2
             }
            },
            "type": "bar"
           }
          ],
          "barpolar": [
           {
            "marker": {
             "line": {
              "color": "#E5ECF6",
              "width": 0.5
             },
             "pattern": {
              "fillmode": "overlay",
              "size": 10,
              "solidity": 0.2
             }
            },
            "type": "barpolar"
           }
          ],
          "carpet": [
           {
            "aaxis": {
             "endlinecolor": "#2a3f5f",
             "gridcolor": "white",
             "linecolor": "white",
             "minorgridcolor": "white",
             "startlinecolor": "#2a3f5f"
            },
            "baxis": {
             "endlinecolor": "#2a3f5f",
             "gridcolor": "white",
             "linecolor": "white",
             "minorgridcolor": "white",
             "startlinecolor": "#2a3f5f"
            },
            "type": "carpet"
           }
          ],
          "choropleth": [
           {
            "colorbar": {
             "outlinewidth": 0,
             "ticks": ""
            },
            "type": "choropleth"
           }
          ],
          "contour": [
           {
            "colorbar": {
             "outlinewidth": 0,
             "ticks": ""
            },
            "colorscale": [
             [
              0,
              "#0d0887"
             ],
             [
              0.1111111111111111,
              "#46039f"
             ],
             [
              0.2222222222222222,
              "#7201a8"
             ],
             [
              0.3333333333333333,
              "#9c179e"
             ],
             [
              0.4444444444444444,
              "#bd3786"
             ],
             [
              0.5555555555555556,
              "#d8576b"
             ],
             [
              0.6666666666666666,
              "#ed7953"
             ],
             [
              0.7777777777777778,
              "#fb9f3a"
             ],
             [
              0.8888888888888888,
              "#fdca26"
             ],
             [
              1,
              "#f0f921"
             ]
            ],
            "type": "contour"
           }
          ],
          "contourcarpet": [
           {
            "colorbar": {
             "outlinewidth": 0,
             "ticks": ""
            },
            "type": "contourcarpet"
           }
          ],
          "heatmap": [
           {
            "colorbar": {
             "outlinewidth": 0,
             "ticks": ""
            },
            "colorscale": [
             [
              0,
              "#0d0887"
             ],
             [
              0.1111111111111111,
              "#46039f"
             ],
             [
              0.2222222222222222,
              "#7201a8"
             ],
             [
              0.3333333333333333,
              "#9c179e"
             ],
             [
              0.4444444444444444,
              "#bd3786"
             ],
             [
              0.5555555555555556,
              "#d8576b"
             ],
             [
              0.6666666666666666,
              "#ed7953"
             ],
             [
              0.7777777777777778,
              "#fb9f3a"
             ],
             [
              0.8888888888888888,
              "#fdca26"
             ],
             [
              1,
              "#f0f921"
             ]
            ],
            "type": "heatmap"
           }
          ],
          "histogram": [
           {
            "marker": {
             "pattern": {
              "fillmode": "overlay",
              "size": 10,
              "solidity": 0.2
             }
            },
            "type": "histogram"
           }
          ],
          "histogram2d": [
           {
            "colorbar": {
             "outlinewidth": 0,
             "ticks": ""
            },
            "colorscale": [
             [
              0,
              "#0d0887"
             ],
             [
              0.1111111111111111,
              "#46039f"
             ],
             [
              0.2222222222222222,
              "#7201a8"
             ],
             [
              0.3333333333333333,
              "#9c179e"
             ],
             [
              0.4444444444444444,
              "#bd3786"
             ],
             [
              0.5555555555555556,
              "#d8576b"
             ],
             [
              0.6666666666666666,
              "#ed7953"
             ],
             [
              0.7777777777777778,
              "#fb9f3a"
             ],
             [
              0.8888888888888888,
              "#fdca26"
             ],
             [
              1,
              "#f0f921"
             ]
            ],
            "type": "histogram2d"
           }
          ],
          "histogram2dcontour": [
           {
            "colorbar": {
             "outlinewidth": 0,
             "ticks": ""
            },
            "colorscale": [
             [
              0,
              "#0d0887"
             ],
             [
              0.1111111111111111,
              "#46039f"
             ],
             [
              0.2222222222222222,
              "#7201a8"
             ],
             [
              0.3333333333333333,
              "#9c179e"
             ],
             [
              0.4444444444444444,
              "#bd3786"
             ],
             [
              0.5555555555555556,
              "#d8576b"
             ],
             [
              0.6666666666666666,
              "#ed7953"
             ],
             [
              0.7777777777777778,
              "#fb9f3a"
             ],
             [
              0.8888888888888888,
              "#fdca26"
             ],
             [
              1,
              "#f0f921"
             ]
            ],
            "type": "histogram2dcontour"
           }
          ],
          "mesh3d": [
           {
            "colorbar": {
             "outlinewidth": 0,
             "ticks": ""
            },
            "type": "mesh3d"
           }
          ],
          "parcoords": [
           {
            "line": {
             "colorbar": {
              "outlinewidth": 0,
              "ticks": ""
             }
            },
            "type": "parcoords"
           }
          ],
          "pie": [
           {
            "automargin": true,
            "type": "pie"
           }
          ],
          "scatter": [
           {
            "fillpattern": {
             "fillmode": "overlay",
             "size": 10,
             "solidity": 0.2
            },
            "type": "scatter"
           }
          ],
          "scatter3d": [
           {
            "line": {
             "colorbar": {
              "outlinewidth": 0,
              "ticks": ""
             }
            },
            "marker": {
             "colorbar": {
              "outlinewidth": 0,
              "ticks": ""
             }
            },
            "type": "scatter3d"
           }
          ],
          "scattercarpet": [
           {
            "marker": {
             "colorbar": {
              "outlinewidth": 0,
              "ticks": ""
             }
            },
            "type": "scattercarpet"
           }
          ],
          "scattergeo": [
           {
            "marker": {
             "colorbar": {
              "outlinewidth": 0,
              "ticks": ""
             }
            },
            "type": "scattergeo"
           }
          ],
          "scattergl": [
           {
            "marker": {
             "colorbar": {
              "outlinewidth": 0,
              "ticks": ""
             }
            },
            "type": "scattergl"
           }
          ],
          "scattermap": [
           {
            "marker": {
             "colorbar": {
              "outlinewidth": 0,
              "ticks": ""
             }
            },
            "type": "scattermap"
           }
          ],
          "scattermapbox": [
           {
            "marker": {
             "colorbar": {
              "outlinewidth": 0,
              "ticks": ""
             }
            },
            "type": "scattermapbox"
           }
          ],
          "scatterpolar": [
           {
            "marker": {
             "colorbar": {
              "outlinewidth": 0,
              "ticks": ""
             }
            },
            "type": "scatterpolar"
           }
          ],
          "scatterpolargl": [
           {
            "marker": {
             "colorbar": {
              "outlinewidth": 0,
              "ticks": ""
             }
            },
            "type": "scatterpolargl"
           }
          ],
          "scatterternary": [
           {
            "marker": {
             "colorbar": {
              "outlinewidth": 0,
              "ticks": ""
             }
            },
            "type": "scatterternary"
           }
          ],
          "surface": [
           {
            "colorbar": {
             "outlinewidth": 0,
             "ticks": ""
            },
            "colorscale": [
             [
              0,
              "#0d0887"
             ],
             [
              0.1111111111111111,
              "#46039f"
             ],
             [
              0.2222222222222222,
              "#7201a8"
             ],
             [
              0.3333333333333333,
              "#9c179e"
             ],
             [
              0.4444444444444444,
              "#bd3786"
             ],
             [
              0.5555555555555556,
              "#d8576b"
             ],
             [
              0.6666666666666666,
              "#ed7953"
             ],
             [
              0.7777777777777778,
              "#fb9f3a"
             ],
             [
              0.8888888888888888,
              "#fdca26"
             ],
             [
              1,
              "#f0f921"
             ]
            ],
            "type": "surface"
           }
          ],
          "table": [
           {
            "cells": {
             "fill": {
              "color": "#EBF0F8"
             },
             "line": {
              "color": "white"
             }
            },
            "header": {
             "fill": {
              "color": "#C8D4E3"
             },
             "line": {
              "color": "white"
             }
            },
            "type": "table"
           }
          ]
         },
         "layout": {
          "annotationdefaults": {
           "arrowcolor": "#2a3f5f",
           "arrowhead": 0,
           "arrowwidth": 1
          },
          "autotypenumbers": "strict",
          "coloraxis": {
           "colorbar": {
            "outlinewidth": 0,
            "ticks": ""
           }
          },
          "colorscale": {
           "diverging": [
            [
             0,
             "#8e0152"
            ],
            [
             0.1,
             "#c51b7d"
            ],
            [
             0.2,
             "#de77ae"
            ],
            [
             0.3,
             "#f1b6da"
            ],
            [
             0.4,
             "#fde0ef"
            ],
            [
             0.5,
             "#f7f7f7"
            ],
            [
             0.6,
             "#e6f5d0"
            ],
            [
             0.7,
             "#b8e186"
            ],
            [
             0.8,
             "#7fbc41"
            ],
            [
             0.9,
             "#4d9221"
            ],
            [
             1,
             "#276419"
            ]
           ],
           "sequential": [
            [
             0,
             "#0d0887"
            ],
            [
             0.1111111111111111,
             "#46039f"
            ],
            [
             0.2222222222222222,
             "#7201a8"
            ],
            [
             0.3333333333333333,
             "#9c179e"
            ],
            [
             0.4444444444444444,
             "#bd3786"
            ],
            [
             0.5555555555555556,
             "#d8576b"
            ],
            [
             0.6666666666666666,
             "#ed7953"
            ],
            [
             0.7777777777777778,
             "#fb9f3a"
            ],
            [
             0.8888888888888888,
             "#fdca26"
            ],
            [
             1,
             "#f0f921"
            ]
           ],
           "sequentialminus": [
            [
             0,
             "#0d0887"
            ],
            [
             0.1111111111111111,
             "#46039f"
            ],
            [
             0.2222222222222222,
             "#7201a8"
            ],
            [
             0.3333333333333333,
             "#9c179e"
            ],
            [
             0.4444444444444444,
             "#bd3786"
            ],
            [
             0.5555555555555556,
             "#d8576b"
            ],
            [
             0.6666666666666666,
             "#ed7953"
            ],
            [
             0.7777777777777778,
             "#fb9f3a"
            ],
            [
             0.8888888888888888,
             "#fdca26"
            ],
            [
             1,
             "#f0f921"
            ]
           ]
          },
          "colorway": [
           "#636efa",
           "#EF553B",
           "#00cc96",
           "#ab63fa",
           "#FFA15A",
           "#19d3f3",
           "#FF6692",
           "#B6E880",
           "#FF97FF",
           "#FECB52"
          ],
          "font": {
           "color": "#2a3f5f"
          },
          "geo": {
           "bgcolor": "white",
           "lakecolor": "white",
           "landcolor": "#E5ECF6",
           "showlakes": true,
           "showland": true,
           "subunitcolor": "white"
          },
          "hoverlabel": {
           "align": "left"
          },
          "hovermode": "closest",
          "mapbox": {
           "style": "light"
          },
          "paper_bgcolor": "white",
          "plot_bgcolor": "#E5ECF6",
          "polar": {
           "angularaxis": {
            "gridcolor": "white",
            "linecolor": "white",
            "ticks": ""
           },
           "bgcolor": "#E5ECF6",
           "radialaxis": {
            "gridcolor": "white",
            "linecolor": "white",
            "ticks": ""
           }
          },
          "scene": {
           "xaxis": {
            "backgroundcolor": "#E5ECF6",
            "gridcolor": "white",
            "gridwidth": 2,
            "linecolor": "white",
            "showbackground": true,
            "ticks": "",
            "zerolinecolor": "white"
           },
           "yaxis": {
            "backgroundcolor": "#E5ECF6",
            "gridcolor": "white",
            "gridwidth": 2,
            "linecolor": "white",
            "showbackground": true,
            "ticks": "",
            "zerolinecolor": "white"
           },
           "zaxis": {
            "backgroundcolor": "#E5ECF6",
            "gridcolor": "white",
            "gridwidth": 2,
            "linecolor": "white",
            "showbackground": true,
            "ticks": "",
            "zerolinecolor": "white"
           }
          },
          "shapedefaults": {
           "line": {
            "color": "#2a3f5f"
           }
          },
          "ternary": {
           "aaxis": {
            "gridcolor": "white",
            "linecolor": "white",
            "ticks": ""
           },
           "baxis": {
            "gridcolor": "white",
            "linecolor": "white",
            "ticks": ""
           },
           "bgcolor": "#E5ECF6",
           "caxis": {
            "gridcolor": "white",
            "linecolor": "white",
            "ticks": ""
           }
          },
          "title": {
           "x": 0.05
          },
          "xaxis": {
           "automargin": true,
           "gridcolor": "white",
           "linecolor": "white",
           "ticks": "",
           "title": {
            "standoff": 15
           },
           "zerolinecolor": "white",
           "zerolinewidth": 2
          },
          "yaxis": {
           "automargin": true,
           "gridcolor": "white",
           "linecolor": "white",
           "ticks": "",
           "title": {
            "standoff": 15
           },
           "zerolinecolor": "white",
           "zerolinewidth": 2
          }
         }
        },
        "title": {
         "text": "Inclusion Ratio vs. sim_seq3 (bool=True) 127/213"
        },
        "xaxis": {
         "anchor": "y",
         "domain": [
          0,
          1
         ],
         "range": [
          -0.1,
          1.1
         ],
         "title": {
          "text": "Inclusion Ratio"
         }
        },
        "yaxis": {
         "anchor": "x",
         "domain": [
          0,
          1
         ],
         "range": [
          0,
          1.1
         ],
         "title": {
          "text": "sim_seq3"
         }
        },
        "yaxis2": {
         "overlaying": "y",
         "range": [
          0,
          1.1
         ],
         "side": "right",
         "title": {
          "text": "Ratio"
         }
        }
       }
      }
     },
     "metadata": {},
     "output_type": "display_data"
    },
    {
     "name": "stdout",
     "output_type": "stream",
     "text": [
      "213 132\n"
     ]
    },
    {
     "data": {
      "application/vnd.plotly.v1+json": {
       "config": {
        "plotlyServerURL": "https://plot.ly"
       },
       "data": [
        {
         "customdata": [
          [
           2,
           "01ce4fd6-197a-4792-8778-775b03780369"
          ],
          [
           3,
           "026dac2d-2ab3-4f9c-9e1d-6198db4fb080"
          ],
          [
           4,
           "026dac2d-2ab3-4f9c-9e1d-6198db4fb080"
          ],
          [
           7,
           "02a06bf1-51b8-4902-b088-573e29fcd7ec"
          ],
          [
           8,
           "02a06bf1-51b8-4902-b088-573e29fcd7ec"
          ],
          [
           10,
           "14bcb17c-f70a-41d5-b10d-294388084dfc"
          ],
          [
           11,
           "14bcb17c-f70a-41d5-b10d-294388084dfc"
          ],
          [
           13,
           "1a894d3c-b3ef-448a-a3de-2b38677cef36"
          ],
          [
           14,
           "1a894d3c-b3ef-448a-a3de-2b38677cef36"
          ],
          [
           15,
           "1dc85adb-fbdd-4275-b9cf-42976acb4d14"
          ],
          [
           16,
           "1dc85adb-fbdd-4275-b9cf-42976acb4d14"
          ],
          [
           20,
           "24ba7993-7fc8-4447-afd5-7ff6d548b11a"
          ],
          [
           22,
           "28e0affc-cacb-4db8-ab32-dfc16931b86a"
          ],
          [
           24,
           "2978ddbc-cdc9-4bfa-9a7c-4bf056904010"
          ],
          [
           27,
           "29e00040-6e0f-4f0e-816d-1ac97c1e5485"
          ],
          [
           28,
           "29e00040-6e0f-4f0e-816d-1ac97c1e5485"
          ],
          [
           29,
           "29e00040-6e0f-4f0e-816d-1ac97c1e5485"
          ],
          [
           30,
           "2ba0becb-58c2-43a1-97bb-7e153a34eb47"
          ],
          [
           31,
           "2ba0becb-58c2-43a1-97bb-7e153a34eb47"
          ],
          [
           32,
           "2ba0becb-58c2-43a1-97bb-7e153a34eb47"
          ],
          [
           36,
           "2c27b5f1-4af6-49ad-a43c-3efb0c150868"
          ],
          [
           37,
           "2c27b5f1-4af6-49ad-a43c-3efb0c150868"
          ],
          [
           39,
           "2da5c1ee-bd40-406d-83a7-2f3d93293949"
          ],
          [
           40,
           "2da5c1ee-bd40-406d-83a7-2f3d93293949"
          ],
          [
           41,
           "2da5c1ee-bd40-406d-83a7-2f3d93293949"
          ],
          [
           42,
           "2f46d1e6-2a85-4d46-b955-10c2eded661c"
          ],
          [
           43,
           "2f46d1e6-2a85-4d46-b955-10c2eded661c"
          ],
          [
           44,
           "2f46d1e6-2a85-4d46-b955-10c2eded661c"
          ],
          [
           46,
           "31d6fe77-da70-42da-8f47-66bb79b9285b"
          ],
          [
           47,
           "31d6fe77-da70-42da-8f47-66bb79b9285b"
          ],
          [
           53,
           "341b5211-bb72-4bec-bd3d-c0d518887960"
          ],
          [
           60,
           "38a7b760-56f9-4565-8b70-f8dad5768ace"
          ],
          [
           61,
           "38a7b760-56f9-4565-8b70-f8dad5768ace"
          ],
          [
           62,
           "38a7b760-56f9-4565-8b70-f8dad5768ace"
          ],
          [
           63,
           "3ec3eab7-842d-409d-8866-42ddcbd24cd9"
          ],
          [
           64,
           "3ec3eab7-842d-409d-8866-42ddcbd24cd9"
          ],
          [
           65,
           "3ec3eab7-842d-409d-8866-42ddcbd24cd9"
          ],
          [
           69,
           "47bb1fd4-d41f-42b4-8d0c-29c4e9fdff9f"
          ],
          [
           70,
           "47bb1fd4-d41f-42b4-8d0c-29c4e9fdff9f"
          ],
          [
           71,
           "47bb1fd4-d41f-42b4-8d0c-29c4e9fdff9f"
          ],
          [
           74,
           "487d752c-6e22-43e3-9c08-627bc2a6c6d4"
          ],
          [
           79,
           "543e4c99-5d9f-407d-be75-c397d633fe56"
          ],
          [
           80,
           "543e4c99-5d9f-407d-be75-c397d633fe56"
          ],
          [
           81,
           "5461912b-69cd-40d7-8f79-50832f92f049"
          ],
          [
           82,
           "5461912b-69cd-40d7-8f79-50832f92f049"
          ],
          [
           83,
           "5461912b-69cd-40d7-8f79-50832f92f049"
          ],
          [
           84,
           "56fe0c73-77c4-40d9-a687-b2df28d5f7d7"
          ],
          [
           85,
           "56fe0c73-77c4-40d9-a687-b2df28d5f7d7"
          ],
          [
           86,
           "56fe0c73-77c4-40d9-a687-b2df28d5f7d7"
          ],
          [
           92,
           "5c15607b-96af-4503-84b4-d1745f3a3ae0"
          ],
          [
           93,
           "5c2e910c-84e0-4042-b5d6-880a731c3e67"
          ],
          [
           94,
           "5c2e910c-84e0-4042-b5d6-880a731c3e67"
          ],
          [
           95,
           "5c2e910c-84e0-4042-b5d6-880a731c3e67"
          ],
          [
           96,
           "6628a2fb-19e2-4fe5-aedb-92fe5ceee9c9"
          ],
          [
           97,
           "6628a2fb-19e2-4fe5-aedb-92fe5ceee9c9"
          ],
          [
           99,
           "690f58f1-f18c-4415-bab0-787c2f83d051"
          ],
          [
           100,
           "690f58f1-f18c-4415-bab0-787c2f83d051"
          ],
          [
           101,
           "690f58f1-f18c-4415-bab0-787c2f83d051"
          ],
          [
           102,
           "6ac1d2ed-1f6b-4828-a1ab-f81c40bd5e80"
          ],
          [
           103,
           "6ac1d2ed-1f6b-4828-a1ab-f81c40bd5e80"
          ],
          [
           104,
           "6ac1d2ed-1f6b-4828-a1ab-f81c40bd5e80"
          ],
          [
           105,
           "6dafeac7-75b6-4d69-96f7-d08708a0a99e"
          ],
          [
           106,
           "6dafeac7-75b6-4d69-96f7-d08708a0a99e"
          ],
          [
           107,
           "6dafeac7-75b6-4d69-96f7-d08708a0a99e"
          ],
          [
           108,
           "737e9619-7768-407c-8a4f-6fe1e8d61f04"
          ],
          [
           109,
           "737e9619-7768-407c-8a4f-6fe1e8d61f04"
          ],
          [
           110,
           "737e9619-7768-407c-8a4f-6fe1e8d61f04"
          ],
          [
           111,
           "748536e4-636a-4dc6-b1a7-d9cbfdc1cffd"
          ],
          [
           112,
           "748536e4-636a-4dc6-b1a7-d9cbfdc1cffd"
          ],
          [
           113,
           "748536e4-636a-4dc6-b1a7-d9cbfdc1cffd"
          ],
          [
           117,
           "892629b0-61eb-425d-97f4-7d213074c435"
          ],
          [
           118,
           "892629b0-61eb-425d-97f4-7d213074c435"
          ],
          [
           119,
           "892629b0-61eb-425d-97f4-7d213074c435"
          ],
          [
           123,
           "907fd0e7-6821-4e2d-9c62-6d7afad5a9d1"
          ],
          [
           124,
           "907fd0e7-6821-4e2d-9c62-6d7afad5a9d1"
          ],
          [
           125,
           "907fd0e7-6821-4e2d-9c62-6d7afad5a9d1"
          ],
          [
           126,
           "98434f4c-6216-4067-ad59-4a89cb47bb9b"
          ],
          [
           127,
           "98434f4c-6216-4067-ad59-4a89cb47bb9b"
          ],
          [
           128,
           "98434f4c-6216-4067-ad59-4a89cb47bb9b"
          ],
          [
           130,
           "9fabfbc8-1d5c-495e-9bb2-03795f0145ae"
          ],
          [
           131,
           "9fabfbc8-1d5c-495e-9bb2-03795f0145ae"
          ],
          [
           132,
           "a267b011-b1db-4e3c-aa49-438e2afdd6dc"
          ],
          [
           133,
           "a267b011-b1db-4e3c-aa49-438e2afdd6dc"
          ],
          [
           134,
           "a267b011-b1db-4e3c-aa49-438e2afdd6dc"
          ],
          [
           135,
           "a6419de9-1e40-4793-b21b-9c8d9038835a"
          ],
          [
           136,
           "a6419de9-1e40-4793-b21b-9c8d9038835a"
          ],
          [
           137,
           "a6419de9-1e40-4793-b21b-9c8d9038835a"
          ],
          [
           139,
           "ab7ed4f7-10ee-4ccb-bb21-4853c9018b1e"
          ],
          [
           140,
           "ab7ed4f7-10ee-4ccb-bb21-4853c9018b1e"
          ],
          [
           141,
           "abab0e69-f7e4-40c1-aa58-375798df487a"
          ],
          [
           142,
           "abab0e69-f7e4-40c1-aa58-375798df487a"
          ],
          [
           143,
           "abab0e69-f7e4-40c1-aa58-375798df487a"
          ],
          [
           144,
           "ae2d99c2-1720-4354-bc4d-f7bc3e4ee28d"
          ],
          [
           145,
           "ae2d99c2-1720-4354-bc4d-f7bc3e4ee28d"
          ],
          [
           146,
           "ae2d99c2-1720-4354-bc4d-f7bc3e4ee28d"
          ],
          [
           154,
           "b83285c5-0b88-4ced-a52e-5c34ea371507"
          ],
          [
           155,
           "b83285c5-0b88-4ced-a52e-5c34ea371507"
          ],
          [
           156,
           "cf95d6a4-6ad7-462c-9700-9f04bd993667"
          ],
          [
           157,
           "cf95d6a4-6ad7-462c-9700-9f04bd993667"
          ],
          [
           158,
           "cf95d6a4-6ad7-462c-9700-9f04bd993667"
          ],
          [
           160,
           "d7a2e92e-dc74-4e79-be04-a86f829fc3ec"
          ],
          [
           161,
           "d7a2e92e-dc74-4e79-be04-a86f829fc3ec"
          ],
          [
           164,
           "daf5384b-ea5c-4cce-bb8a-540a360075bf"
          ],
          [
           165,
           "dcd09fa4-afe2-4a0d-9703-83af2867ebd3"
          ],
          [
           166,
           "dcd09fa4-afe2-4a0d-9703-83af2867ebd3"
          ],
          [
           167,
           "dcd09fa4-afe2-4a0d-9703-83af2867ebd3"
          ],
          [
           169,
           "debfb68a-eae2-464e-847a-cd3fea23f3ca"
          ],
          [
           170,
           "debfb68a-eae2-464e-847a-cd3fea23f3ca"
          ],
          [
           174,
           "e250017c-16ff-4825-9c30-160f391e1549"
          ],
          [
           175,
           "e250017c-16ff-4825-9c30-160f391e1549"
          ],
          [
           176,
           "e250017c-16ff-4825-9c30-160f391e1549"
          ],
          [
           179,
           "e4ad6fd7-2e3e-4991-b392-a0056f702286"
          ],
          [
           180,
           "e6231d1a-1f7f-4198-a499-7635509adfaf"
          ],
          [
           181,
           "e6231d1a-1f7f-4198-a499-7635509adfaf"
          ],
          [
           182,
           "e6231d1a-1f7f-4198-a499-7635509adfaf"
          ],
          [
           187,
           "ec3556de-be79-4ad4-aa0f-eaca48abb5d5"
          ],
          [
           188,
           "ec3556de-be79-4ad4-aa0f-eaca48abb5d5"
          ],
          [
           192,
           "edc1869c-8a97-44fd-ab47-63fda4a54df9"
          ],
          [
           193,
           "edc1869c-8a97-44fd-ab47-63fda4a54df9"
          ],
          [
           198,
           "f5ac654b-8f39-427b-856f-4a9a2d4a3020"
          ],
          [
           199,
           "f5ac654b-8f39-427b-856f-4a9a2d4a3020"
          ],
          [
           200,
           "f5ac654b-8f39-427b-856f-4a9a2d4a3020"
          ],
          [
           201,
           "fea524d4-a1b6-466c-ac48-8777c3fd173d"
          ],
          [
           203,
           "fea524d4-a1b6-466c-ac48-8777c3fd173d"
          ],
          [
           204,
           "grp-690f58f1-f18c-4415-bab0-787c2f83d051"
          ],
          [
           205,
           "grp-690f58f1-f18c-4415-bab0-787c2f83d051"
          ],
          [
           206,
           "grp-690f58f1-f18c-4415-bab0-787c2f83d051"
          ],
          [
           207,
           "grp-b59f7f5d-2991-49a6-8e88-0e2f2db92585"
          ],
          [
           208,
           "grp-b59f7f5d-2991-49a6-8e88-0e2f2db92585"
          ],
          [
           209,
           "grp-b59f7f5d-2991-49a6-8e88-0e2f2db92585"
          ],
          [
           211,
           "grp-ffd863cb-f06b-404e-a013-54acb61f1ed9"
          ],
          [
           212,
           "grp-ffd863cb-f06b-404e-a013-54acb61f1ed9"
          ]
         ],
         "hovertemplate": "Inclusion Ratio=%{x}<br>sim_seq3=%{y}<br>idx=%{customdata[0]}<br>source_uid=%{customdata[1]}<extra></extra>",
         "legendgroup": "",
         "marker": {
          "color": "#636efa",
          "symbol": "circle"
         },
         "mode": "markers",
         "name": "",
         "orientation": "v",
         "showlegend": false,
         "type": "scatter",
         "x": {
          "bdata": "VVVVVVVV1T8cx3Ecx3HsPxzHcRzHcew/VVVVVVVV5T9VVVVVVVXlPwAAAAAAAPA/AAAAAAAA8D/sUbgehevhPzMzMzMzM+M/zczMzMzM7D8AAAAAAADwPwAAAAAAAOw/AAAAAAAAAAAzMzMzMzPjP97d3d3d3d0/ZmZmZmZm5j9mZmZmZmbmPwAAAAAAAOE/AAAAAAAA5D8AAAAAAADkPwrXo3A9Ctc/uB6F61G43j8zMzMzMzPTP5qZmZmZmdk/zczMzMzM3D9Ob3rTm97kP05vetOb3uQ/ZCELWchC5j8AAAAAAADkPwAAAAAAAOQ/AAAAAAAA8D9VVVVVVVXlP1VVVVVVVeU/AAAAAAAA8D+rqqqqqqraPwAAAAAAAOA/AAAAAAAA4D8AAAAAAAAAAJIkSZIkSdI/kiRJkiRJ0j8AAAAAAADwPxzHcRzHcew/AAAAAAAA8D9DeQ3lNZTnP0N5DeU1lOc/NpTXUF5D6T+e2Imd2IndP9mJndiJneg/2Ymd2Imd6D+SJEmSJEniPwAAAAAAAPA/AAAAAAAA8D8AAAAAAADwPxEREREREeE/MzMzMzMz4z8UO7ETO7HTP57YiZ3Yid0/sRM7sRM74T8AAAAAAADcPwAAAAAAAOI/AAAAAAAA4j/NzMzMzMzsP+/u7u7u7u4/AAAAAAAA8D8UO7ETO7GzP57YiZ3Yic0/ntiJndiJzT8AAAAAAADgP6uqqqqqquo/AAAAAAAA8D8AAAAAAADoPwAAAAAAAOw/AAAAAAAA8D+amZmZmZnJPzMzMzMzM9M/MzMzMzMz0z8lSZIkSZLkPyVJkiRJkuQ/27Zt27Zt6z8AAAAAAADQPwAAAAAAAOg/HMdxHMdx3D8cx3Ecx3HsPxzHcRzHcew/SZIkSZIk2T8AAAAAAADoP0mSJEmSJOk/ep7neZ7n6T96nud5nufpPwAAAAAAAAAAAAAAAAAAAAAAAAAAAAAAAAAAAAAAAOA/Yid2Yid24j9iJ3ZiJ3biP9u2bdu2bes/AAAAAAAA8D+3bdu2bdvmPzuogzqog+o/fMVXfMVX7D8AAAAAAADoPwAAAAAAAPA/Hh4eHh4e3j9mZmZmZmbuPwAAAAAAAPA/AAAAAAAA8D8AAAAAAADwPwAAAAAAAPA/7MRO7MRO7D8AAAAAAADwPwAAAAAAAPA/AAAAAAAA8D9VVVVVVVXVP6uqqqqqqto/q6qqqqqq2j9VVVVVVVXlPzmO4ziO4+g/KK+hvIby6j82lNdQXkPpP+pNb3rTm94/IQtZyEIW4j84velNb3rjP1VVVVVVVe0/VVVVVVVV7T8or6G8hvLqPyivobyG8uo/jLRjBcJI6z9DFrKQhSzkP6c3velNb+o/yEIWspCF7D8AAAAAAADoP5IkSZIkSeo/",
          "dtype": "f8"
         },
         "xaxis": "x",
         "y": {
          "bdata": "fWG/9Yz94z8RUTHi2anrPxSN2f36tOs/xfsJyvmF4D+E7KEAIyXfPwx8ahT9N+c/lwoY+dH/6j9qitamwUvfPzjcpUY7X+M/ECLnOkOV5T/UMPSBXBjoPyKqR7w0kdw/xHTJL5ut3j94a/3UuyzdP3Rey13epts/du9rwDIa2j9efOrD8cvcP7yWUXdLEOQ/asS5KW/P6D8BST3/FpPgP2zjWVRJTNk/ho23I7Si2T+EKA9sMBzeP9CbsSGSNOI/Ivr2fpOp4T8KjxI3/v/cPwZZAZyKYOI/yoVNzhwk4T9OkapeskXgP4qdzSIbT90/IIz0hKQa7j9qKO3BQhHiP9RQvE06wd4/AAAAAAAA8D/wIVR+Ld7YP5QqhmhARNk/NOS/m6y52j/2LZlz3LXfP/vgc1ntlOk/GpuYrxdP6j9gNbPzbkbgP4zjfmYgkt0/BhohaZIc3j9+2LG5zzHiP6QRNO3JCeY/w1UfiTW65T/yhpvVsuPkP+zBd18kweY/2qu22GqS5D8Id0DtrhDcP8QaGeXgFeM/CF91lpGC4z8mobDxAEnjP/DHeEdi6Nc/ZP14ydQW1T9eFdKzcgPXPxTASptydtk/zunuCb293z9SsW9p8aHiPyQsJiYn3eE/jKJeCctx4z8EUJrPgavjP+YZc97LouM/fK1L5wHm5D9MLTBhHj3hP8nf5tiGcOI/bve7vbwh4j9Y3j7c5mDoP6735+m7U+c/XlgAczSe5j/Bv+jiq3bpP6ky8R/feOg/RbaRQ9qJ7D8gc1rYKXXnPyBzWtgpdec/IHNa2Cl15z8oVaCb0WPoPwAP2RQms+U/ksZulUmc6T8uPjFe1ljbP6jg7v2sR+c/LpbkQOsa1D/IIIo1Z8PkPxa1tvA0XOE/ZoDCV/WS4z/UiA4juU/mP1pmBDRsTtw/+GPMCCHs3D+SReauRlzbP6ywQQyyceM/zPYCtNGN4z98RprMidniP8NM+PhWh+Y/vHsV4NOV5z+QXlOy3UbkP+61iT1JS+Q/195db6OW5j/ZWuj1oJnpP4iZ/KKNY+k/T9PmNLUn7D8ZzCvG7AHnP3MXk7arC+8/jXVYz+9e4D/XbecAnMHnP9RlFuDOs+U/OqnmE49V5j/r2jWXWHfsP7oh0N5MNuo/KuREpD2t4j8LPvhFuaziP5WWf9ShKes/C3lKsBEP7D8Xi973vzLjP+xVnJjteOQ/pGX/MP1g4j9OmqZbLAjiP2+V2ww22eI/QDP/lyfF4D9QlRMYhw/jP+ql8LOWeeg/MMu9NVgg6z+0iNlHr1HpP1eog2c4RuU/8irhA9VY6D9G5mwBhgPcP6bILOhjhuc/Ihw8ZTHV5z/mMmqYp9/iP8hpMUmSzuM/0h/0+j6o5j9H2rJV5yLnPw6loKj5Yt8/",
          "dtype": "f8"
         },
         "yaxis": "y"
        },
        {
         "line": {
          "color": "green",
          "dash": "dot"
         },
         "mode": "lines+markers",
         "name": "Ratio (mybool=True / all)",
         "type": "scatter",
         "x": [
          0.0995,
          0.30000000000000004,
          0.5,
          0.7,
          0.9
         ],
         "y": [
          0.25,
          0.42424242424242425,
          0.6904761904761905,
          0.7441860465116279,
          0.746268656716418
         ],
         "yaxis": "y2"
        }
       ],
       "layout": {
        "legend": {
         "tracegroupgap": 0
        },
        "template": {
         "data": {
          "bar": [
           {
            "error_x": {
             "color": "#2a3f5f"
            },
            "error_y": {
             "color": "#2a3f5f"
            },
            "marker": {
             "line": {
              "color": "#E5ECF6",
              "width": 0.5
             },
             "pattern": {
              "fillmode": "overlay",
              "size": 10,
              "solidity": 0.2
             }
            },
            "type": "bar"
           }
          ],
          "barpolar": [
           {
            "marker": {
             "line": {
              "color": "#E5ECF6",
              "width": 0.5
             },
             "pattern": {
              "fillmode": "overlay",
              "size": 10,
              "solidity": 0.2
             }
            },
            "type": "barpolar"
           }
          ],
          "carpet": [
           {
            "aaxis": {
             "endlinecolor": "#2a3f5f",
             "gridcolor": "white",
             "linecolor": "white",
             "minorgridcolor": "white",
             "startlinecolor": "#2a3f5f"
            },
            "baxis": {
             "endlinecolor": "#2a3f5f",
             "gridcolor": "white",
             "linecolor": "white",
             "minorgridcolor": "white",
             "startlinecolor": "#2a3f5f"
            },
            "type": "carpet"
           }
          ],
          "choropleth": [
           {
            "colorbar": {
             "outlinewidth": 0,
             "ticks": ""
            },
            "type": "choropleth"
           }
          ],
          "contour": [
           {
            "colorbar": {
             "outlinewidth": 0,
             "ticks": ""
            },
            "colorscale": [
             [
              0,
              "#0d0887"
             ],
             [
              0.1111111111111111,
              "#46039f"
             ],
             [
              0.2222222222222222,
              "#7201a8"
             ],
             [
              0.3333333333333333,
              "#9c179e"
             ],
             [
              0.4444444444444444,
              "#bd3786"
             ],
             [
              0.5555555555555556,
              "#d8576b"
             ],
             [
              0.6666666666666666,
              "#ed7953"
             ],
             [
              0.7777777777777778,
              "#fb9f3a"
             ],
             [
              0.8888888888888888,
              "#fdca26"
             ],
             [
              1,
              "#f0f921"
             ]
            ],
            "type": "contour"
           }
          ],
          "contourcarpet": [
           {
            "colorbar": {
             "outlinewidth": 0,
             "ticks": ""
            },
            "type": "contourcarpet"
           }
          ],
          "heatmap": [
           {
            "colorbar": {
             "outlinewidth": 0,
             "ticks": ""
            },
            "colorscale": [
             [
              0,
              "#0d0887"
             ],
             [
              0.1111111111111111,
              "#46039f"
             ],
             [
              0.2222222222222222,
              "#7201a8"
             ],
             [
              0.3333333333333333,
              "#9c179e"
             ],
             [
              0.4444444444444444,
              "#bd3786"
             ],
             [
              0.5555555555555556,
              "#d8576b"
             ],
             [
              0.6666666666666666,
              "#ed7953"
             ],
             [
              0.7777777777777778,
              "#fb9f3a"
             ],
             [
              0.8888888888888888,
              "#fdca26"
             ],
             [
              1,
              "#f0f921"
             ]
            ],
            "type": "heatmap"
           }
          ],
          "histogram": [
           {
            "marker": {
             "pattern": {
              "fillmode": "overlay",
              "size": 10,
              "solidity": 0.2
             }
            },
            "type": "histogram"
           }
          ],
          "histogram2d": [
           {
            "colorbar": {
             "outlinewidth": 0,
             "ticks": ""
            },
            "colorscale": [
             [
              0,
              "#0d0887"
             ],
             [
              0.1111111111111111,
              "#46039f"
             ],
             [
              0.2222222222222222,
              "#7201a8"
             ],
             [
              0.3333333333333333,
              "#9c179e"
             ],
             [
              0.4444444444444444,
              "#bd3786"
             ],
             [
              0.5555555555555556,
              "#d8576b"
             ],
             [
              0.6666666666666666,
              "#ed7953"
             ],
             [
              0.7777777777777778,
              "#fb9f3a"
             ],
             [
              0.8888888888888888,
              "#fdca26"
             ],
             [
              1,
              "#f0f921"
             ]
            ],
            "type": "histogram2d"
           }
          ],
          "histogram2dcontour": [
           {
            "colorbar": {
             "outlinewidth": 0,
             "ticks": ""
            },
            "colorscale": [
             [
              0,
              "#0d0887"
             ],
             [
              0.1111111111111111,
              "#46039f"
             ],
             [
              0.2222222222222222,
              "#7201a8"
             ],
             [
              0.3333333333333333,
              "#9c179e"
             ],
             [
              0.4444444444444444,
              "#bd3786"
             ],
             [
              0.5555555555555556,
              "#d8576b"
             ],
             [
              0.6666666666666666,
              "#ed7953"
             ],
             [
              0.7777777777777778,
              "#fb9f3a"
             ],
             [
              0.8888888888888888,
              "#fdca26"
             ],
             [
              1,
              "#f0f921"
             ]
            ],
            "type": "histogram2dcontour"
           }
          ],
          "mesh3d": [
           {
            "colorbar": {
             "outlinewidth": 0,
             "ticks": ""
            },
            "type": "mesh3d"
           }
          ],
          "parcoords": [
           {
            "line": {
             "colorbar": {
              "outlinewidth": 0,
              "ticks": ""
             }
            },
            "type": "parcoords"
           }
          ],
          "pie": [
           {
            "automargin": true,
            "type": "pie"
           }
          ],
          "scatter": [
           {
            "fillpattern": {
             "fillmode": "overlay",
             "size": 10,
             "solidity": 0.2
            },
            "type": "scatter"
           }
          ],
          "scatter3d": [
           {
            "line": {
             "colorbar": {
              "outlinewidth": 0,
              "ticks": ""
             }
            },
            "marker": {
             "colorbar": {
              "outlinewidth": 0,
              "ticks": ""
             }
            },
            "type": "scatter3d"
           }
          ],
          "scattercarpet": [
           {
            "marker": {
             "colorbar": {
              "outlinewidth": 0,
              "ticks": ""
             }
            },
            "type": "scattercarpet"
           }
          ],
          "scattergeo": [
           {
            "marker": {
             "colorbar": {
              "outlinewidth": 0,
              "ticks": ""
             }
            },
            "type": "scattergeo"
           }
          ],
          "scattergl": [
           {
            "marker": {
             "colorbar": {
              "outlinewidth": 0,
              "ticks": ""
             }
            },
            "type": "scattergl"
           }
          ],
          "scattermap": [
           {
            "marker": {
             "colorbar": {
              "outlinewidth": 0,
              "ticks": ""
             }
            },
            "type": "scattermap"
           }
          ],
          "scattermapbox": [
           {
            "marker": {
             "colorbar": {
              "outlinewidth": 0,
              "ticks": ""
             }
            },
            "type": "scattermapbox"
           }
          ],
          "scatterpolar": [
           {
            "marker": {
             "colorbar": {
              "outlinewidth": 0,
              "ticks": ""
             }
            },
            "type": "scatterpolar"
           }
          ],
          "scatterpolargl": [
           {
            "marker": {
             "colorbar": {
              "outlinewidth": 0,
              "ticks": ""
             }
            },
            "type": "scatterpolargl"
           }
          ],
          "scatterternary": [
           {
            "marker": {
             "colorbar": {
              "outlinewidth": 0,
              "ticks": ""
             }
            },
            "type": "scatterternary"
           }
          ],
          "surface": [
           {
            "colorbar": {
             "outlinewidth": 0,
             "ticks": ""
            },
            "colorscale": [
             [
              0,
              "#0d0887"
             ],
             [
              0.1111111111111111,
              "#46039f"
             ],
             [
              0.2222222222222222,
              "#7201a8"
             ],
             [
              0.3333333333333333,
              "#9c179e"
             ],
             [
              0.4444444444444444,
              "#bd3786"
             ],
             [
              0.5555555555555556,
              "#d8576b"
             ],
             [
              0.6666666666666666,
              "#ed7953"
             ],
             [
              0.7777777777777778,
              "#fb9f3a"
             ],
             [
              0.8888888888888888,
              "#fdca26"
             ],
             [
              1,
              "#f0f921"
             ]
            ],
            "type": "surface"
           }
          ],
          "table": [
           {
            "cells": {
             "fill": {
              "color": "#EBF0F8"
             },
             "line": {
              "color": "white"
             }
            },
            "header": {
             "fill": {
              "color": "#C8D4E3"
             },
             "line": {
              "color": "white"
             }
            },
            "type": "table"
           }
          ]
         },
         "layout": {
          "annotationdefaults": {
           "arrowcolor": "#2a3f5f",
           "arrowhead": 0,
           "arrowwidth": 1
          },
          "autotypenumbers": "strict",
          "coloraxis": {
           "colorbar": {
            "outlinewidth": 0,
            "ticks": ""
           }
          },
          "colorscale": {
           "diverging": [
            [
             0,
             "#8e0152"
            ],
            [
             0.1,
             "#c51b7d"
            ],
            [
             0.2,
             "#de77ae"
            ],
            [
             0.3,
             "#f1b6da"
            ],
            [
             0.4,
             "#fde0ef"
            ],
            [
             0.5,
             "#f7f7f7"
            ],
            [
             0.6,
             "#e6f5d0"
            ],
            [
             0.7,
             "#b8e186"
            ],
            [
             0.8,
             "#7fbc41"
            ],
            [
             0.9,
             "#4d9221"
            ],
            [
             1,
             "#276419"
            ]
           ],
           "sequential": [
            [
             0,
             "#0d0887"
            ],
            [
             0.1111111111111111,
             "#46039f"
            ],
            [
             0.2222222222222222,
             "#7201a8"
            ],
            [
             0.3333333333333333,
             "#9c179e"
            ],
            [
             0.4444444444444444,
             "#bd3786"
            ],
            [
             0.5555555555555556,
             "#d8576b"
            ],
            [
             0.6666666666666666,
             "#ed7953"
            ],
            [
             0.7777777777777778,
             "#fb9f3a"
            ],
            [
             0.8888888888888888,
             "#fdca26"
            ],
            [
             1,
             "#f0f921"
            ]
           ],
           "sequentialminus": [
            [
             0,
             "#0d0887"
            ],
            [
             0.1111111111111111,
             "#46039f"
            ],
            [
             0.2222222222222222,
             "#7201a8"
            ],
            [
             0.3333333333333333,
             "#9c179e"
            ],
            [
             0.4444444444444444,
             "#bd3786"
            ],
            [
             0.5555555555555556,
             "#d8576b"
            ],
            [
             0.6666666666666666,
             "#ed7953"
            ],
            [
             0.7777777777777778,
             "#fb9f3a"
            ],
            [
             0.8888888888888888,
             "#fdca26"
            ],
            [
             1,
             "#f0f921"
            ]
           ]
          },
          "colorway": [
           "#636efa",
           "#EF553B",
           "#00cc96",
           "#ab63fa",
           "#FFA15A",
           "#19d3f3",
           "#FF6692",
           "#B6E880",
           "#FF97FF",
           "#FECB52"
          ],
          "font": {
           "color": "#2a3f5f"
          },
          "geo": {
           "bgcolor": "white",
           "lakecolor": "white",
           "landcolor": "#E5ECF6",
           "showlakes": true,
           "showland": true,
           "subunitcolor": "white"
          },
          "hoverlabel": {
           "align": "left"
          },
          "hovermode": "closest",
          "mapbox": {
           "style": "light"
          },
          "paper_bgcolor": "white",
          "plot_bgcolor": "#E5ECF6",
          "polar": {
           "angularaxis": {
            "gridcolor": "white",
            "linecolor": "white",
            "ticks": ""
           },
           "bgcolor": "#E5ECF6",
           "radialaxis": {
            "gridcolor": "white",
            "linecolor": "white",
            "ticks": ""
           }
          },
          "scene": {
           "xaxis": {
            "backgroundcolor": "#E5ECF6",
            "gridcolor": "white",
            "gridwidth": 2,
            "linecolor": "white",
            "showbackground": true,
            "ticks": "",
            "zerolinecolor": "white"
           },
           "yaxis": {
            "backgroundcolor": "#E5ECF6",
            "gridcolor": "white",
            "gridwidth": 2,
            "linecolor": "white",
            "showbackground": true,
            "ticks": "",
            "zerolinecolor": "white"
           },
           "zaxis": {
            "backgroundcolor": "#E5ECF6",
            "gridcolor": "white",
            "gridwidth": 2,
            "linecolor": "white",
            "showbackground": true,
            "ticks": "",
            "zerolinecolor": "white"
           }
          },
          "shapedefaults": {
           "line": {
            "color": "#2a3f5f"
           }
          },
          "ternary": {
           "aaxis": {
            "gridcolor": "white",
            "linecolor": "white",
            "ticks": ""
           },
           "baxis": {
            "gridcolor": "white",
            "linecolor": "white",
            "ticks": ""
           },
           "bgcolor": "#E5ECF6",
           "caxis": {
            "gridcolor": "white",
            "linecolor": "white",
            "ticks": ""
           }
          },
          "title": {
           "x": 0.05
          },
          "xaxis": {
           "automargin": true,
           "gridcolor": "white",
           "linecolor": "white",
           "ticks": "",
           "title": {
            "standoff": 15
           },
           "zerolinecolor": "white",
           "zerolinewidth": 2
          },
          "yaxis": {
           "automargin": true,
           "gridcolor": "white",
           "linecolor": "white",
           "ticks": "",
           "title": {
            "standoff": 15
           },
           "zerolinecolor": "white",
           "zerolinewidth": 2
          }
         }
        },
        "title": {
         "text": "Inclusion Ratio vs. sim_seq3 (bool=True) 132/213"
        },
        "xaxis": {
         "anchor": "y",
         "domain": [
          0,
          1
         ],
         "range": [
          -0.1,
          1.1
         ],
         "title": {
          "text": "Inclusion Ratio"
         }
        },
        "yaxis": {
         "anchor": "x",
         "domain": [
          0,
          1
         ],
         "range": [
          0,
          1.1
         ],
         "title": {
          "text": "sim_seq3"
         }
        },
        "yaxis2": {
         "overlaying": "y",
         "range": [
          0,
          1.1
         ],
         "side": "right",
         "title": {
          "text": "Ratio"
         }
        }
       }
      }
     },
     "metadata": {},
     "output_type": "display_data"
    },
    {
     "name": "stdout",
     "output_type": "stream",
     "text": [
      "213 130\n"
     ]
    },
    {
     "data": {
      "application/vnd.plotly.v1+json": {
       "config": {
        "plotlyServerURL": "https://plot.ly"
       },
       "data": [
        {
         "customdata": [
          [
           7,
           "02a06bf1-51b8-4902-b088-573e29fcd7ec"
          ],
          [
           8,
           "02a06bf1-51b8-4902-b088-573e29fcd7ec"
          ],
          [
           10,
           "14bcb17c-f70a-41d5-b10d-294388084dfc"
          ],
          [
           11,
           "14bcb17c-f70a-41d5-b10d-294388084dfc"
          ],
          [
           12,
           "1a894d3c-b3ef-448a-a3de-2b38677cef36"
          ],
          [
           15,
           "1dc85adb-fbdd-4275-b9cf-42976acb4d14"
          ],
          [
           17,
           "1dc85adb-fbdd-4275-b9cf-42976acb4d14"
          ],
          [
           18,
           "24ba7993-7fc8-4447-afd5-7ff6d548b11a"
          ],
          [
           20,
           "24ba7993-7fc8-4447-afd5-7ff6d548b11a"
          ],
          [
           22,
           "28e0affc-cacb-4db8-ab32-dfc16931b86a"
          ],
          [
           27,
           "29e00040-6e0f-4f0e-816d-1ac97c1e5485"
          ],
          [
           28,
           "29e00040-6e0f-4f0e-816d-1ac97c1e5485"
          ],
          [
           29,
           "29e00040-6e0f-4f0e-816d-1ac97c1e5485"
          ],
          [
           30,
           "2ba0becb-58c2-43a1-97bb-7e153a34eb47"
          ],
          [
           31,
           "2ba0becb-58c2-43a1-97bb-7e153a34eb47"
          ],
          [
           32,
           "2ba0becb-58c2-43a1-97bb-7e153a34eb47"
          ],
          [
           33,
           "2bc7d6fa-a02e-4367-b316-d6b4e8a2ce3f"
          ],
          [
           36,
           "2c27b5f1-4af6-49ad-a43c-3efb0c150868"
          ],
          [
           37,
           "2c27b5f1-4af6-49ad-a43c-3efb0c150868"
          ],
          [
           38,
           "2c27b5f1-4af6-49ad-a43c-3efb0c150868"
          ],
          [
           42,
           "2f46d1e6-2a85-4d46-b955-10c2eded661c"
          ],
          [
           44,
           "2f46d1e6-2a85-4d46-b955-10c2eded661c"
          ],
          [
           53,
           "341b5211-bb72-4bec-bd3d-c0d518887960"
          ],
          [
           54,
           "35080724-6604-401c-8b06-19b7cece3d45"
          ],
          [
           60,
           "38a7b760-56f9-4565-8b70-f8dad5768ace"
          ],
          [
           61,
           "38a7b760-56f9-4565-8b70-f8dad5768ace"
          ],
          [
           62,
           "38a7b760-56f9-4565-8b70-f8dad5768ace"
          ],
          [
           63,
           "3ec3eab7-842d-409d-8866-42ddcbd24cd9"
          ],
          [
           64,
           "3ec3eab7-842d-409d-8866-42ddcbd24cd9"
          ],
          [
           65,
           "3ec3eab7-842d-409d-8866-42ddcbd24cd9"
          ],
          [
           67,
           "46e07357-6946-4ff0-ba36-ae11840bdc39"
          ],
          [
           69,
           "47bb1fd4-d41f-42b4-8d0c-29c4e9fdff9f"
          ],
          [
           70,
           "47bb1fd4-d41f-42b4-8d0c-29c4e9fdff9f"
          ],
          [
           71,
           "47bb1fd4-d41f-42b4-8d0c-29c4e9fdff9f"
          ],
          [
           74,
           "487d752c-6e22-43e3-9c08-627bc2a6c6d4"
          ],
          [
           78,
           "543e4c99-5d9f-407d-be75-c397d633fe56"
          ],
          [
           79,
           "543e4c99-5d9f-407d-be75-c397d633fe56"
          ],
          [
           80,
           "543e4c99-5d9f-407d-be75-c397d633fe56"
          ],
          [
           81,
           "5461912b-69cd-40d7-8f79-50832f92f049"
          ],
          [
           82,
           "5461912b-69cd-40d7-8f79-50832f92f049"
          ],
          [
           83,
           "5461912b-69cd-40d7-8f79-50832f92f049"
          ],
          [
           84,
           "56fe0c73-77c4-40d9-a687-b2df28d5f7d7"
          ],
          [
           85,
           "56fe0c73-77c4-40d9-a687-b2df28d5f7d7"
          ],
          [
           86,
           "56fe0c73-77c4-40d9-a687-b2df28d5f7d7"
          ],
          [
           90,
           "5c15607b-96af-4503-84b4-d1745f3a3ae0"
          ],
          [
           92,
           "5c15607b-96af-4503-84b4-d1745f3a3ae0"
          ],
          [
           93,
           "5c2e910c-84e0-4042-b5d6-880a731c3e67"
          ],
          [
           95,
           "5c2e910c-84e0-4042-b5d6-880a731c3e67"
          ],
          [
           96,
           "6628a2fb-19e2-4fe5-aedb-92fe5ceee9c9"
          ],
          [
           97,
           "6628a2fb-19e2-4fe5-aedb-92fe5ceee9c9"
          ],
          [
           98,
           "6628a2fb-19e2-4fe5-aedb-92fe5ceee9c9"
          ],
          [
           99,
           "690f58f1-f18c-4415-bab0-787c2f83d051"
          ],
          [
           100,
           "690f58f1-f18c-4415-bab0-787c2f83d051"
          ],
          [
           101,
           "690f58f1-f18c-4415-bab0-787c2f83d051"
          ],
          [
           102,
           "6ac1d2ed-1f6b-4828-a1ab-f81c40bd5e80"
          ],
          [
           103,
           "6ac1d2ed-1f6b-4828-a1ab-f81c40bd5e80"
          ],
          [
           104,
           "6ac1d2ed-1f6b-4828-a1ab-f81c40bd5e80"
          ],
          [
           105,
           "6dafeac7-75b6-4d69-96f7-d08708a0a99e"
          ],
          [
           106,
           "6dafeac7-75b6-4d69-96f7-d08708a0a99e"
          ],
          [
           107,
           "6dafeac7-75b6-4d69-96f7-d08708a0a99e"
          ],
          [
           111,
           "748536e4-636a-4dc6-b1a7-d9cbfdc1cffd"
          ],
          [
           112,
           "748536e4-636a-4dc6-b1a7-d9cbfdc1cffd"
          ],
          [
           113,
           "748536e4-636a-4dc6-b1a7-d9cbfdc1cffd"
          ],
          [
           114,
           "7e8d03f2-2ff9-431d-af81-e5ffcd954a63"
          ],
          [
           116,
           "7e8d03f2-2ff9-431d-af81-e5ffcd954a63"
          ],
          [
           117,
           "892629b0-61eb-425d-97f4-7d213074c435"
          ],
          [
           118,
           "892629b0-61eb-425d-97f4-7d213074c435"
          ],
          [
           119,
           "892629b0-61eb-425d-97f4-7d213074c435"
          ],
          [
           120,
           "89857b33-fa50-469a-bbb3-91c8ab655931"
          ],
          [
           121,
           "89857b33-fa50-469a-bbb3-91c8ab655931"
          ],
          [
           124,
           "907fd0e7-6821-4e2d-9c62-6d7afad5a9d1"
          ],
          [
           126,
           "98434f4c-6216-4067-ad59-4a89cb47bb9b"
          ],
          [
           128,
           "98434f4c-6216-4067-ad59-4a89cb47bb9b"
          ],
          [
           130,
           "9fabfbc8-1d5c-495e-9bb2-03795f0145ae"
          ],
          [
           131,
           "9fabfbc8-1d5c-495e-9bb2-03795f0145ae"
          ],
          [
           132,
           "a267b011-b1db-4e3c-aa49-438e2afdd6dc"
          ],
          [
           134,
           "a267b011-b1db-4e3c-aa49-438e2afdd6dc"
          ],
          [
           135,
           "a6419de9-1e40-4793-b21b-9c8d9038835a"
          ],
          [
           136,
           "a6419de9-1e40-4793-b21b-9c8d9038835a"
          ],
          [
           137,
           "a6419de9-1e40-4793-b21b-9c8d9038835a"
          ],
          [
           139,
           "ab7ed4f7-10ee-4ccb-bb21-4853c9018b1e"
          ],
          [
           141,
           "abab0e69-f7e4-40c1-aa58-375798df487a"
          ],
          [
           142,
           "abab0e69-f7e4-40c1-aa58-375798df487a"
          ],
          [
           143,
           "abab0e69-f7e4-40c1-aa58-375798df487a"
          ],
          [
           144,
           "ae2d99c2-1720-4354-bc4d-f7bc3e4ee28d"
          ],
          [
           145,
           "ae2d99c2-1720-4354-bc4d-f7bc3e4ee28d"
          ],
          [
           146,
           "ae2d99c2-1720-4354-bc4d-f7bc3e4ee28d"
          ],
          [
           147,
           "b17ff269-ec2d-4ad8-88aa-b00b75921427"
          ],
          [
           148,
           "b17ff269-ec2d-4ad8-88aa-b00b75921427"
          ],
          [
           149,
           "b17ff269-ec2d-4ad8-88aa-b00b75921427"
          ],
          [
           154,
           "b83285c5-0b88-4ced-a52e-5c34ea371507"
          ],
          [
           155,
           "b83285c5-0b88-4ced-a52e-5c34ea371507"
          ],
          [
           156,
           "cf95d6a4-6ad7-462c-9700-9f04bd993667"
          ],
          [
           157,
           "cf95d6a4-6ad7-462c-9700-9f04bd993667"
          ],
          [
           158,
           "cf95d6a4-6ad7-462c-9700-9f04bd993667"
          ],
          [
           160,
           "d7a2e92e-dc74-4e79-be04-a86f829fc3ec"
          ],
          [
           161,
           "d7a2e92e-dc74-4e79-be04-a86f829fc3ec"
          ],
          [
           162,
           "daf5384b-ea5c-4cce-bb8a-540a360075bf"
          ],
          [
           163,
           "daf5384b-ea5c-4cce-bb8a-540a360075bf"
          ],
          [
           165,
           "dcd09fa4-afe2-4a0d-9703-83af2867ebd3"
          ],
          [
           166,
           "dcd09fa4-afe2-4a0d-9703-83af2867ebd3"
          ],
          [
           167,
           "dcd09fa4-afe2-4a0d-9703-83af2867ebd3"
          ],
          [
           169,
           "debfb68a-eae2-464e-847a-cd3fea23f3ca"
          ],
          [
           170,
           "debfb68a-eae2-464e-847a-cd3fea23f3ca"
          ],
          [
           172,
           "e09a667f-04bc-49b5-8246-daf248a29174"
          ],
          [
           174,
           "e250017c-16ff-4825-9c30-160f391e1549"
          ],
          [
           175,
           "e250017c-16ff-4825-9c30-160f391e1549"
          ],
          [
           176,
           "e250017c-16ff-4825-9c30-160f391e1549"
          ],
          [
           177,
           "e4ad6fd7-2e3e-4991-b392-a0056f702286"
          ],
          [
           178,
           "e4ad6fd7-2e3e-4991-b392-a0056f702286"
          ],
          [
           179,
           "e4ad6fd7-2e3e-4991-b392-a0056f702286"
          ],
          [
           187,
           "ec3556de-be79-4ad4-aa0f-eaca48abb5d5"
          ],
          [
           188,
           "ec3556de-be79-4ad4-aa0f-eaca48abb5d5"
          ],
          [
           192,
           "edc1869c-8a97-44fd-ab47-63fda4a54df9"
          ],
          [
           193,
           "edc1869c-8a97-44fd-ab47-63fda4a54df9"
          ],
          [
           194,
           "edc1869c-8a97-44fd-ab47-63fda4a54df9"
          ],
          [
           198,
           "f5ac654b-8f39-427b-856f-4a9a2d4a3020"
          ],
          [
           199,
           "f5ac654b-8f39-427b-856f-4a9a2d4a3020"
          ],
          [
           200,
           "f5ac654b-8f39-427b-856f-4a9a2d4a3020"
          ],
          [
           201,
           "fea524d4-a1b6-466c-ac48-8777c3fd173d"
          ],
          [
           202,
           "fea524d4-a1b6-466c-ac48-8777c3fd173d"
          ],
          [
           203,
           "fea524d4-a1b6-466c-ac48-8777c3fd173d"
          ],
          [
           204,
           "grp-690f58f1-f18c-4415-bab0-787c2f83d051"
          ],
          [
           205,
           "grp-690f58f1-f18c-4415-bab0-787c2f83d051"
          ],
          [
           206,
           "grp-690f58f1-f18c-4415-bab0-787c2f83d051"
          ],
          [
           207,
           "grp-b59f7f5d-2991-49a6-8e88-0e2f2db92585"
          ],
          [
           209,
           "grp-b59f7f5d-2991-49a6-8e88-0e2f2db92585"
          ],
          [
           210,
           "grp-ffd863cb-f06b-404e-a013-54acb61f1ed9"
          ],
          [
           211,
           "grp-ffd863cb-f06b-404e-a013-54acb61f1ed9"
          ],
          [
           212,
           "grp-ffd863cb-f06b-404e-a013-54acb61f1ed9"
          ]
         ],
         "hovertemplate": "Inclusion Ratio=%{x}<br>sim_seq3=%{y}<br>idx=%{customdata[0]}<br>source_uid=%{customdata[1]}<extra></extra>",
         "legendgroup": "",
         "marker": {
          "color": "#636efa",
          "symbol": "circle"
         },
         "mode": "markers",
         "name": "",
         "orientation": "v",
         "showlegend": false,
         "type": "scatter",
         "x": {
          "bdata": "VVVVVVVV5T9VVVVVVVXlPwAAAAAAAPA/AAAAAAAA8D+amZmZmZnZP83MzMzMzOw/AAAAAAAA8D8AAAAAAADoPwAAAAAAAOw/AAAAAAAAAADe3d3d3d3dP2ZmZmZmZuY/ZmZmZmZm5j8AAAAAAADhPwAAAAAAAOQ/AAAAAAAA5D8AAAAAAADwPwrXo3A9Ctc/uB6F61G43j/sUbgehevhP05vetOb3uQ/ZCELWchC5j8AAAAAAADwP83MzMzMzOQ/AAAAAAAA8D9VVVVVVVXlP1VVVVVVVeU/AAAAAAAA8D+rqqqqqqraPwAAAAAAAOA/kiRJkiRJ0j8lSZIkSZLkPwAAAAAAAAAAkiRJkiRJ0j8AAAAAAAAAAAAAAAAAAOA/HMdxHMdx7D8cx3Ecx3HsPwAAAAAAAPA/Q3kN5TWU5z9DeQ3lNZTnPzaU11BeQ+k/ntiJndiJ3T/ZiZ3YiZ3oPzMzMzMzM+M/FbycgpdT4D+SJEmSJEniPwAAAAAAAPA/AAAAAAAA8D8RERERERHhPzMzMzMzM+M/d3d3d3d35z8UO7ETO7HTP57YiZ3Yid0/sRM7sRM74T8AAAAAAADcPwAAAAAAAOI/AAAAAAAA4j/NzMzMzMzsP+/u7u7u7u4/ntiJndiJzT8AAAAAAADgP6uqqqqqquo/AAAAAAAA8D+SJEmSJEnCP5IkSZIkSeI/AAAAAAAA6D8AAAAAAADsPwAAAAAAAPA/AAAAAAAA8D+amZmZmZnJPzMzMzMzM9M/JUmSJEmS5D8AAAAAAADQPwAAAAAAANA/AAAAAAAA6D8cx3Ecx3HsPxzHcRzHcew/SZIkSZIk2T8AAAAAAADoP57neZ7ned4/ep7neZ7n6T8AAAAAAAAAAAAAAAAAAAAAAAAAAAAAAAAAAAAAAADgP2IndmInduI/Yid2Yid24j+amZmZmZnJPzMzMzMzM9M/t23btm3b5j/btm3btm3rPwAAAAAAAPA/t23btm3b5j87qIM6qIPqPwAAAAAAANA/AAAAAAAA6D8AAAAAAADwP1paWlpaWto/Hh4eHh4e3j9mZmZmZmbuPwAAAAAAAPA/x3Ecx3Ec5z8AAAAAAADwPwAAAAAAAAAAAAAAAAAA6D/sxE7sxE7sPwAAAAAAAPA/AAAAAAAA8D8AAAAAAADwPwAAAAAAAPA/VVVVVVVV1T9VVVVVVVXlP9mJndiJndg/KK+hvIby6j82lNdQXkPpP1VVVVVVVdU/6k1vetOb3j8hC1nIQhbiPzi96U1veuM/VVVVVVVV7T9VVVVVVVXtP1VVVVVVVe0/KK+hvIby6j8or6G8hvLqP4y0YwXCSOs/pze96U1v6j/IQhaykIXsPyVJkiRJkuQ/AAAAAAAA6D8=",
          "dtype": "f8"
         },
         "xaxis": "x",
         "y": {
          "bdata": "TS1+TpHn4T+kOUoKh+fhP0QgK9X+N+c/tJxVieb/6j+2//hGqmLcPxAi5zpDleU/9Ix9vd5I6z9KTAodxhfbPy4gWUXUUt0/7izQnUSP4D84rsDZrujcP8C+Aoa6td0/ftNeXdh22j8cc02PSzzkP/BBCl+AyuQ/rB/9e4DK5D8gOUYHEfziP95VQ/64ktk/TFG9+d6h4z9ObPKWmOPcP73A0IcuuOA/u4avu55c4T97PFEhoBruP8TG0lorUOo/IpWiVE+R3j8kUUBtEBHiPx6VD/McBeQ/7lvIe39F4D/ec97wymPaPwaqUQNln+M/7E0G+1k96j98T4bkCpjcP0WSf+rcYOg/HvHYLE+26j/23qdSHzDXPy/dBp9NT+A/gI1fjwMY3j8oXkBAbKjdP37YsbnPMeI/QhdRBddl6D9A5q6GCa7kP7z7z42WpOQ/HYrVgNju5z8C9Icrpj3lPzxntG5xZeU/Ey4QZ9+65z/wf2q4f9bmPwhkl7ma5uE/iI1hEv3Z1D+uJ0YbEIPVP3jzjHFlCts/wG6REK7X2D8qsiRE3ILYP1DU5oFfWdw/siB7er/74z8YxF+20VPjP07i+xtWJeM/KPQJZNpY5T81K9zXdW/jPwgoPN9oA+U/QjW79u5h6T865OvQ7F7pP2Q5nfXgGOo/GpJCLp5t4j8vg76v5l7kP1rEADxnsus/wOoISuvx5z9umJMgxG/pP8SFLHMKaug/bcw1siuo6T8mLUAJC3XnPzIzq+PRWek/zNRE5iGM6z/wifYjI17lPw0vX4isk+s/zAontNSa4T/kJlQTjmbnP3zudd09bd0/cI9pHhW72j9WGk1patfpPypdsdz4h90/KPQEbGjr4j+uGHhAc0/iP7m26Cv1WuI/SRKILA2M4z9YuQVzyRrkPxNkq8fbd+Q/wgOz7Zvx3D86Nb02nh7bP2A2Dp27JNo/tA4YZ0iN6j+S61BBhGXeP6hqNuMO1uU/akR1blgQ6T+KyVmmDTPqP7p2BkEls+w/zcD3Xkxb7z+qvxxDz0vhP5Iv2gHRauI/1E50HhUs6z+cDzkb7BbsP9EEwrF3COs/egXsgE5T7j8AAAAAAADwP0htgjL8oOA/ovJlBg464j99kzg/lITiPz50g9sPueE/+1p9P12v6j+YCOhFDK/qP/RbO6XyueY/5Na/EyFf4z/uQ3v70nniP05BD4fsZOI/+COr62Dl6D+dwTZyu53qPzYK33RnZ+o/DvGHwP3/7z+/BmuIbDvtP5YVo+8mjeo/aFaATJ/L7T8fyT0fhLXtP/6xAeXzf+c/8h6gXR7B6D/CEZPLCyvnP8/ibnHA/eM/Rpf5Vosi5z8pHOIgcOvkPyJXKv3eM+U/JhPVxzGM6D8=",
          "dtype": "f8"
         },
         "yaxis": "y"
        },
        {
         "line": {
          "color": "green",
          "dash": "dot"
         },
         "mode": "lines+markers",
         "name": "Ratio (mybool=True / all)",
         "type": "scatter",
         "x": [
          0.0995,
          0.30000000000000004,
          0.5,
          0.7,
          0.9
         ],
         "y": [
          0.35714285714285715,
          0.45454545454545453,
          0.6666666666666666,
          0.7441860465116279,
          0.6716417910447762
         ],
         "yaxis": "y2"
        }
       ],
       "layout": {
        "legend": {
         "tracegroupgap": 0
        },
        "template": {
         "data": {
          "bar": [
           {
            "error_x": {
             "color": "#2a3f5f"
            },
            "error_y": {
             "color": "#2a3f5f"
            },
            "marker": {
             "line": {
              "color": "#E5ECF6",
              "width": 0.5
             },
             "pattern": {
              "fillmode": "overlay",
              "size": 10,
              "solidity": 0.2
             }
            },
            "type": "bar"
           }
          ],
          "barpolar": [
           {
            "marker": {
             "line": {
              "color": "#E5ECF6",
              "width": 0.5
             },
             "pattern": {
              "fillmode": "overlay",
              "size": 10,
              "solidity": 0.2
             }
            },
            "type": "barpolar"
           }
          ],
          "carpet": [
           {
            "aaxis": {
             "endlinecolor": "#2a3f5f",
             "gridcolor": "white",
             "linecolor": "white",
             "minorgridcolor": "white",
             "startlinecolor": "#2a3f5f"
            },
            "baxis": {
             "endlinecolor": "#2a3f5f",
             "gridcolor": "white",
             "linecolor": "white",
             "minorgridcolor": "white",
             "startlinecolor": "#2a3f5f"
            },
            "type": "carpet"
           }
          ],
          "choropleth": [
           {
            "colorbar": {
             "outlinewidth": 0,
             "ticks": ""
            },
            "type": "choropleth"
           }
          ],
          "contour": [
           {
            "colorbar": {
             "outlinewidth": 0,
             "ticks": ""
            },
            "colorscale": [
             [
              0,
              "#0d0887"
             ],
             [
              0.1111111111111111,
              "#46039f"
             ],
             [
              0.2222222222222222,
              "#7201a8"
             ],
             [
              0.3333333333333333,
              "#9c179e"
             ],
             [
              0.4444444444444444,
              "#bd3786"
             ],
             [
              0.5555555555555556,
              "#d8576b"
             ],
             [
              0.6666666666666666,
              "#ed7953"
             ],
             [
              0.7777777777777778,
              "#fb9f3a"
             ],
             [
              0.8888888888888888,
              "#fdca26"
             ],
             [
              1,
              "#f0f921"
             ]
            ],
            "type": "contour"
           }
          ],
          "contourcarpet": [
           {
            "colorbar": {
             "outlinewidth": 0,
             "ticks": ""
            },
            "type": "contourcarpet"
           }
          ],
          "heatmap": [
           {
            "colorbar": {
             "outlinewidth": 0,
             "ticks": ""
            },
            "colorscale": [
             [
              0,
              "#0d0887"
             ],
             [
              0.1111111111111111,
              "#46039f"
             ],
             [
              0.2222222222222222,
              "#7201a8"
             ],
             [
              0.3333333333333333,
              "#9c179e"
             ],
             [
              0.4444444444444444,
              "#bd3786"
             ],
             [
              0.5555555555555556,
              "#d8576b"
             ],
             [
              0.6666666666666666,
              "#ed7953"
             ],
             [
              0.7777777777777778,
              "#fb9f3a"
             ],
             [
              0.8888888888888888,
              "#fdca26"
             ],
             [
              1,
              "#f0f921"
             ]
            ],
            "type": "heatmap"
           }
          ],
          "histogram": [
           {
            "marker": {
             "pattern": {
              "fillmode": "overlay",
              "size": 10,
              "solidity": 0.2
             }
            },
            "type": "histogram"
           }
          ],
          "histogram2d": [
           {
            "colorbar": {
             "outlinewidth": 0,
             "ticks": ""
            },
            "colorscale": [
             [
              0,
              "#0d0887"
             ],
             [
              0.1111111111111111,
              "#46039f"
             ],
             [
              0.2222222222222222,
              "#7201a8"
             ],
             [
              0.3333333333333333,
              "#9c179e"
             ],
             [
              0.4444444444444444,
              "#bd3786"
             ],
             [
              0.5555555555555556,
              "#d8576b"
             ],
             [
              0.6666666666666666,
              "#ed7953"
             ],
             [
              0.7777777777777778,
              "#fb9f3a"
             ],
             [
              0.8888888888888888,
              "#fdca26"
             ],
             [
              1,
              "#f0f921"
             ]
            ],
            "type": "histogram2d"
           }
          ],
          "histogram2dcontour": [
           {
            "colorbar": {
             "outlinewidth": 0,
             "ticks": ""
            },
            "colorscale": [
             [
              0,
              "#0d0887"
             ],
             [
              0.1111111111111111,
              "#46039f"
             ],
             [
              0.2222222222222222,
              "#7201a8"
             ],
             [
              0.3333333333333333,
              "#9c179e"
             ],
             [
              0.4444444444444444,
              "#bd3786"
             ],
             [
              0.5555555555555556,
              "#d8576b"
             ],
             [
              0.6666666666666666,
              "#ed7953"
             ],
             [
              0.7777777777777778,
              "#fb9f3a"
             ],
             [
              0.8888888888888888,
              "#fdca26"
             ],
             [
              1,
              "#f0f921"
             ]
            ],
            "type": "histogram2dcontour"
           }
          ],
          "mesh3d": [
           {
            "colorbar": {
             "outlinewidth": 0,
             "ticks": ""
            },
            "type": "mesh3d"
           }
          ],
          "parcoords": [
           {
            "line": {
             "colorbar": {
              "outlinewidth": 0,
              "ticks": ""
             }
            },
            "type": "parcoords"
           }
          ],
          "pie": [
           {
            "automargin": true,
            "type": "pie"
           }
          ],
          "scatter": [
           {
            "fillpattern": {
             "fillmode": "overlay",
             "size": 10,
             "solidity": 0.2
            },
            "type": "scatter"
           }
          ],
          "scatter3d": [
           {
            "line": {
             "colorbar": {
              "outlinewidth": 0,
              "ticks": ""
             }
            },
            "marker": {
             "colorbar": {
              "outlinewidth": 0,
              "ticks": ""
             }
            },
            "type": "scatter3d"
           }
          ],
          "scattercarpet": [
           {
            "marker": {
             "colorbar": {
              "outlinewidth": 0,
              "ticks": ""
             }
            },
            "type": "scattercarpet"
           }
          ],
          "scattergeo": [
           {
            "marker": {
             "colorbar": {
              "outlinewidth": 0,
              "ticks": ""
             }
            },
            "type": "scattergeo"
           }
          ],
          "scattergl": [
           {
            "marker": {
             "colorbar": {
              "outlinewidth": 0,
              "ticks": ""
             }
            },
            "type": "scattergl"
           }
          ],
          "scattermap": [
           {
            "marker": {
             "colorbar": {
              "outlinewidth": 0,
              "ticks": ""
             }
            },
            "type": "scattermap"
           }
          ],
          "scattermapbox": [
           {
            "marker": {
             "colorbar": {
              "outlinewidth": 0,
              "ticks": ""
             }
            },
            "type": "scattermapbox"
           }
          ],
          "scatterpolar": [
           {
            "marker": {
             "colorbar": {
              "outlinewidth": 0,
              "ticks": ""
             }
            },
            "type": "scatterpolar"
           }
          ],
          "scatterpolargl": [
           {
            "marker": {
             "colorbar": {
              "outlinewidth": 0,
              "ticks": ""
             }
            },
            "type": "scatterpolargl"
           }
          ],
          "scatterternary": [
           {
            "marker": {
             "colorbar": {
              "outlinewidth": 0,
              "ticks": ""
             }
            },
            "type": "scatterternary"
           }
          ],
          "surface": [
           {
            "colorbar": {
             "outlinewidth": 0,
             "ticks": ""
            },
            "colorscale": [
             [
              0,
              "#0d0887"
             ],
             [
              0.1111111111111111,
              "#46039f"
             ],
             [
              0.2222222222222222,
              "#7201a8"
             ],
             [
              0.3333333333333333,
              "#9c179e"
             ],
             [
              0.4444444444444444,
              "#bd3786"
             ],
             [
              0.5555555555555556,
              "#d8576b"
             ],
             [
              0.6666666666666666,
              "#ed7953"
             ],
             [
              0.7777777777777778,
              "#fb9f3a"
             ],
             [
              0.8888888888888888,
              "#fdca26"
             ],
             [
              1,
              "#f0f921"
             ]
            ],
            "type": "surface"
           }
          ],
          "table": [
           {
            "cells": {
             "fill": {
              "color": "#EBF0F8"
             },
             "line": {
              "color": "white"
             }
            },
            "header": {
             "fill": {
              "color": "#C8D4E3"
             },
             "line": {
              "color": "white"
             }
            },
            "type": "table"
           }
          ]
         },
         "layout": {
          "annotationdefaults": {
           "arrowcolor": "#2a3f5f",
           "arrowhead": 0,
           "arrowwidth": 1
          },
          "autotypenumbers": "strict",
          "coloraxis": {
           "colorbar": {
            "outlinewidth": 0,
            "ticks": ""
           }
          },
          "colorscale": {
           "diverging": [
            [
             0,
             "#8e0152"
            ],
            [
             0.1,
             "#c51b7d"
            ],
            [
             0.2,
             "#de77ae"
            ],
            [
             0.3,
             "#f1b6da"
            ],
            [
             0.4,
             "#fde0ef"
            ],
            [
             0.5,
             "#f7f7f7"
            ],
            [
             0.6,
             "#e6f5d0"
            ],
            [
             0.7,
             "#b8e186"
            ],
            [
             0.8,
             "#7fbc41"
            ],
            [
             0.9,
             "#4d9221"
            ],
            [
             1,
             "#276419"
            ]
           ],
           "sequential": [
            [
             0,
             "#0d0887"
            ],
            [
             0.1111111111111111,
             "#46039f"
            ],
            [
             0.2222222222222222,
             "#7201a8"
            ],
            [
             0.3333333333333333,
             "#9c179e"
            ],
            [
             0.4444444444444444,
             "#bd3786"
            ],
            [
             0.5555555555555556,
             "#d8576b"
            ],
            [
             0.6666666666666666,
             "#ed7953"
            ],
            [
             0.7777777777777778,
             "#fb9f3a"
            ],
            [
             0.8888888888888888,
             "#fdca26"
            ],
            [
             1,
             "#f0f921"
            ]
           ],
           "sequentialminus": [
            [
             0,
             "#0d0887"
            ],
            [
             0.1111111111111111,
             "#46039f"
            ],
            [
             0.2222222222222222,
             "#7201a8"
            ],
            [
             0.3333333333333333,
             "#9c179e"
            ],
            [
             0.4444444444444444,
             "#bd3786"
            ],
            [
             0.5555555555555556,
             "#d8576b"
            ],
            [
             0.6666666666666666,
             "#ed7953"
            ],
            [
             0.7777777777777778,
             "#fb9f3a"
            ],
            [
             0.8888888888888888,
             "#fdca26"
            ],
            [
             1,
             "#f0f921"
            ]
           ]
          },
          "colorway": [
           "#636efa",
           "#EF553B",
           "#00cc96",
           "#ab63fa",
           "#FFA15A",
           "#19d3f3",
           "#FF6692",
           "#B6E880",
           "#FF97FF",
           "#FECB52"
          ],
          "font": {
           "color": "#2a3f5f"
          },
          "geo": {
           "bgcolor": "white",
           "lakecolor": "white",
           "landcolor": "#E5ECF6",
           "showlakes": true,
           "showland": true,
           "subunitcolor": "white"
          },
          "hoverlabel": {
           "align": "left"
          },
          "hovermode": "closest",
          "mapbox": {
           "style": "light"
          },
          "paper_bgcolor": "white",
          "plot_bgcolor": "#E5ECF6",
          "polar": {
           "angularaxis": {
            "gridcolor": "white",
            "linecolor": "white",
            "ticks": ""
           },
           "bgcolor": "#E5ECF6",
           "radialaxis": {
            "gridcolor": "white",
            "linecolor": "white",
            "ticks": ""
           }
          },
          "scene": {
           "xaxis": {
            "backgroundcolor": "#E5ECF6",
            "gridcolor": "white",
            "gridwidth": 2,
            "linecolor": "white",
            "showbackground": true,
            "ticks": "",
            "zerolinecolor": "white"
           },
           "yaxis": {
            "backgroundcolor": "#E5ECF6",
            "gridcolor": "white",
            "gridwidth": 2,
            "linecolor": "white",
            "showbackground": true,
            "ticks": "",
            "zerolinecolor": "white"
           },
           "zaxis": {
            "backgroundcolor": "#E5ECF6",
            "gridcolor": "white",
            "gridwidth": 2,
            "linecolor": "white",
            "showbackground": true,
            "ticks": "",
            "zerolinecolor": "white"
           }
          },
          "shapedefaults": {
           "line": {
            "color": "#2a3f5f"
           }
          },
          "ternary": {
           "aaxis": {
            "gridcolor": "white",
            "linecolor": "white",
            "ticks": ""
           },
           "baxis": {
            "gridcolor": "white",
            "linecolor": "white",
            "ticks": ""
           },
           "bgcolor": "#E5ECF6",
           "caxis": {
            "gridcolor": "white",
            "linecolor": "white",
            "ticks": ""
           }
          },
          "title": {
           "x": 0.05
          },
          "xaxis": {
           "automargin": true,
           "gridcolor": "white",
           "linecolor": "white",
           "ticks": "",
           "title": {
            "standoff": 15
           },
           "zerolinecolor": "white",
           "zerolinewidth": 2
          },
          "yaxis": {
           "automargin": true,
           "gridcolor": "white",
           "linecolor": "white",
           "ticks": "",
           "title": {
            "standoff": 15
           },
           "zerolinecolor": "white",
           "zerolinewidth": 2
          }
         }
        },
        "title": {
         "text": "Inclusion Ratio vs. sim_seq3 (bool=True) 130/213"
        },
        "xaxis": {
         "anchor": "y",
         "domain": [
          0,
          1
         ],
         "range": [
          -0.1,
          1.1
         ],
         "title": {
          "text": "Inclusion Ratio"
         }
        },
        "yaxis": {
         "anchor": "x",
         "domain": [
          0,
          1
         ],
         "range": [
          0,
          1.1
         ],
         "title": {
          "text": "sim_seq3"
         }
        },
        "yaxis2": {
         "overlaying": "y",
         "range": [
          0,
          1.1
         ],
         "side": "right",
         "title": {
          "text": "Ratio"
         }
        }
       }
      }
     },
     "metadata": {},
     "output_type": "display_data"
    }
   ],
   "source": [
    "import json\n",
    "print(path_eval_results + 'human/human-norag.json')\n",
    "\n",
    "with open('/root/project/f4_evaluate/result_v6/human/human-rag.json', 'r', encoding='utf-8') as f:\n",
    "    eval_ragdata = json.load(f)\n",
    "with open('/root/project/f4_evaluate/result_v6/human/human-norag.json', 'r', encoding='utf-8') as f:\n",
    "    eval_noragdata = json.load(f)\n",
    "with open('/root/project/f4_evaluate/result_v6/human/human-raggoal.json', 'r', encoding='utf-8') as f:\n",
    "    eval_raggoaldata = json.load(f)\n",
    "with open('/root/project/f4_evaluate/result_v6/human/human-noraggoal.json', 'r', encoding='utf-8') as f:\n",
    "    eval_noraggoaldata = json.load(f)    \n",
    "\n",
    "\n",
    "# print(data)\n",
    "eval_ragdata = eval_ragdata['annotations']\n",
    "print(len(eval_ragdata))\n",
    "eval_ragdata = list(eval_ragdata.values())\n",
    "print(len(eval_ragdata))\n",
    "\n",
    "eval_noragdata = eval_noragdata['annotations']\n",
    "print(len(eval_noragdata))\n",
    "eval_noragdata = list(eval_noragdata.values())\n",
    "print(len(eval_noragdata))\n",
    "\n",
    "eval_raggoaldata = eval_raggoaldata['annotations']\n",
    "print(len(eval_raggoaldata))\n",
    "eval_raggoaldata = list(eval_raggoaldata.values())\n",
    "print(len(eval_raggoaldata))\n",
    "\n",
    "eval_noraggoaldata = eval_noraggoaldata['annotations']\n",
    "print(len(eval_noraggoaldata))\n",
    "eval_noraggoaldata = list(eval_noraggoaldata.values())\n",
    "print(len(eval_noraggoaldata))\n",
    "\n",
    "\n",
    "df_eval_rag = pd.DataFrame(eval_ragdata).sort_values(by='idx').reset_index(drop=True)\n",
    "df_eval_norag = pd.DataFrame(eval_noragdata).sort_values(by='idx').reset_index(drop=True)\n",
    "df_eval_raggoal = pd.DataFrame(eval_raggoaldata).sort_values(by='idx').reset_index(drop=True)\n",
    "df_eval_noraggoal = pd.DataFrame(eval_noraggoaldata).sort_values(by='idx').reset_index(drop=True)\n",
    "# print(df_eval_rag)\n",
    "\n",
    "#reorder new df jsons by index number!\n",
    "\n",
    "\n",
    "\n",
    "# bool are stored as object type. convert this to bool\n",
    "df_eval_rag = convert_dtypes(df_eval_rag)\n",
    "df_eval_norag = convert_dtypes(df_eval_norag)\n",
    "df_eval_raggoal = convert_dtypes(df_eval_raggoal)\n",
    "df_eval_noraggoal = convert_dtypes(df_eval_noraggoal)\n",
    "\n",
    "\n",
    "\n",
    "# inclusion ratio must be in the df\n",
    "rag_inclusion_ratio = df_inclusion_ratio(PATH_BASELINE_RAG, baselines[0])\n",
    "norag_inclusion_ratio = df_inclusion_ratio(PATH_BASELINE_NORAG, baselines[1])\n",
    "# print(rag_inclusion_ratio)\n",
    "raggoal_inclusion_ratio = df_inclusion_ratio(PATH_BASELINE_RAGGOAL, baselines[2])\n",
    "noraggoal_inclusion_ratio = df_inclusion_ratio(PATH_BASELINE_NORAGGOAL, baselines[3])\n",
    "\n",
    "df_eval_rag = pd.concat([df_eval_rag, rag_inclusion_ratio], axis=1)\n",
    "df_eval_norag = pd.concat([df_eval_norag, norag_inclusion_ratio], axis=1)\n",
    "df_eval_raggoal = pd.concat([df_eval_raggoal, raggoal_inclusion_ratio], axis=1)\n",
    "df_eval_noraggoal = pd.concat([df_eval_noraggoal, noraggoal_inclusion_ratio], axis=1)\n",
    "\n",
    "\n",
    "\n",
    "def plot_sequence_cursor_interactive2(df: pd.DataFrame, mybool: bool, key2plot: str, bin_num:int):\n",
    "    # df = df.dropna(subset=['inclusion_ratio', 'sequence_similarity_sbert', 'core_check_seq'])\n",
    "    filtered_df = df[df['core_check_seq'] == mybool]\n",
    "    size1 = df.shape[0]\n",
    "    size2 = filtered_df.shape[0]\n",
    "    print(size1, size2)\n",
    "\n",
    "    #===============================\n",
    "    #ratio of selection\n",
    "    #===============================\n",
    "    # Step 1: Bin the data by inclusion_ratio\n",
    "    bin_width = 1.0/bin_num\n",
    "    # bins = np.arange(0, 1.0001 + bin_width, bin_width)\n",
    "    bins = np.arange(0, 0.9001 + bin_width, bin_width)\n",
    "    df['inclusion_bin'] = pd.cut(df['inclusion_ratio'], bins=bins, include_lowest=True)\n",
    "\n",
    "    # Step 2: Group by bins and calculate ratio\n",
    "    grouped = df.groupby('inclusion_bin', observed=True)\n",
    "    bin_centers = [interval.mid for interval in grouped.groups.keys()]\n",
    "\n",
    "    ratios = []\n",
    "    for bin_label, group in grouped:\n",
    "        total = len(group)\n",
    "        true_count = group[group['core_check_seq'] == True].shape[0]\n",
    "        ratio = true_count / total if total > 0 else 0\n",
    "        ratios.append(ratio)\n",
    "\n",
    "    #===============================\n",
    "    # Polynomial fit\n",
    "    N = 1\n",
    "    coeffs = np.polyfit(filtered_df['inclusion_ratio'], filtered_df[key2plot], deg=N)\n",
    "    poly_func = np.poly1d(coeffs)\n",
    "    x_smooth = np.linspace(filtered_df['inclusion_ratio'].min(), filtered_df['inclusion_ratio'].max(), 200)\n",
    "    y_smooth = poly_func(x_smooth)\n",
    "\n",
    "    # Scatter plot with hover info\n",
    "    fig = px.scatter(\n",
    "        filtered_df,\n",
    "        x='inclusion_ratio',\n",
    "        y=key2plot,\n",
    "        hover_data=['idx','source_uid'],\n",
    "        labels={\n",
    "            'inclusion_ratio': 'Inclusion Ratio',\n",
    "            key2plot: key2plot,\n",
    "        },\n",
    "        title=f'Inclusion Ratio vs. {key2plot} (bool={mybool}) {size2}/{size1}',\n",
    "    )\n",
    "\n",
    "    #===============================\n",
    "    # Add polynomial fit line\n",
    "    # fig.add_scatter(\n",
    "    #     x=x_smooth,\n",
    "    #     y=y_smooth,\n",
    "    #     mode='lines',\n",
    "    #     name=f'{N}° polynomial fit',\n",
    "    #     line=dict(color='red')\n",
    "    # )\n",
    "\n",
    "    fig.update_layout(\n",
    "        xaxis=dict(range=[-0.1, 1.1]),\n",
    "        yaxis=dict(range=[0, 1.1]),\n",
    "    )\n",
    "\n",
    "    #===============================\n",
    "    #ratio of selection\n",
    "    #===============================\n",
    "    # Add ratio line trace with secondary y-axis\n",
    "    fig.add_trace(go.Scatter(\n",
    "        x=bin_centers,\n",
    "        y=ratios,\n",
    "        mode='lines+markers',\n",
    "        name='Ratio (mybool=True / all)',\n",
    "        line=dict(color='green', dash='dot'),\n",
    "        yaxis='y2'\n",
    "    ))\n",
    "\n",
    "    # Configure secondary y-axis\n",
    "    fig.update_layout(\n",
    "        yaxis2=dict(\n",
    "            title='Ratio',\n",
    "            overlaying='y',\n",
    "            side='right',\n",
    "            range=[0, 1.1]\n",
    "        )\n",
    "    )\n",
    "\n",
    "    fig.show()\n",
    "\n",
    "plot_sequence_cursor_interactive2(df_eval_rag, True, 'sim_tax3', 5)\n",
    "plot_sequence_cursor_interactive2(df_eval_norag, True, 'sim_tax3', 5)\n",
    "plot_sequence_cursor_interactive2(df_eval_rag, True, 'sim_seq3', 5)\n",
    "plot_sequence_cursor_interactive2(df_eval_norag, True, 'sim_seq3', 5)\n",
    "plot_sequence_cursor_interactive2(df_eval_raggoal, True, 'sim_seq3', 5)\n",
    "plot_sequence_cursor_interactive2(df_eval_noraggoal, True, 'sim_seq3', 5)\n"
   ]
  },
  {
   "cell_type": "code",
   "execution_count": 27,
   "id": "b8913ae5",
   "metadata": {},
   "outputs": [
    {
     "name": "stdout",
     "output_type": "stream",
     "text": [
      "rag core(tax, seq, both): 140 119 107 153\n",
      "rag entity/core(tax, seq, both): 115 97 93 116\n",
      "rag entity/sim/core(tax, seq, both): 110 92 89 109\n",
      "norag core(tax, seq, both): 139 127 112\n",
      "norag entity/core(tax, seq, both): 107 108 95\n",
      "norag entity/sim/core(tax, seq, both): 104 105 92 117\n",
      "raggoal (core) (entity,core) (entity,sim,core): 132 106 106 130\n",
      "norag (core) (entity,core) (entity,sim,core): 130 95 95  122\n"
     ]
    }
   ],
   "source": [
    "#---------------------------------------------------------------------------\n",
    "#evaluator_rag_\n",
    "#---------------------------------------------------------------------------\n",
    "#core check has 3 versions, tax, seq, both\n",
    "efil1_tax_rag = df_eval_rag[df_eval_rag['core_check_tax']==True]\n",
    "efil1_seq_rag = df_eval_rag[df_eval_rag['core_check_seq']==True]\n",
    "efil1_both_rag = df_eval_rag[(df_eval_rag['core_check_tax']==True)&(df_eval_rag['core_check_seq']==True)]\n",
    "efil1_human_rag = df_eval_rag[(df_eval_rag['human_check_tax']==True)&(df_eval_rag['human_check_seq']==True)]\n",
    "print(f\"rag core(tax, seq, both): {efil1_tax_rag.shape[0]} {efil1_seq_rag.shape[0]} {efil1_both_rag.shape[0]} {efil1_human_rag.shape[0]}\")\n",
    "\n",
    "#entity check should both pass for (tax, seq) because otherwise sequence generation is impossible\n",
    "efil2_tax_rag = df_eval_rag[(df_eval_rag['entity_check_tax']==True)&(df_eval_rag['entity_check_seq']==True)&(df_eval_rag['core_check_tax']==True)]\n",
    "efil2_seq_rag = df_eval_rag[(df_eval_rag['entity_check_tax']==True)&(df_eval_rag['entity_check_seq']==True)&(df_eval_rag['core_check_seq']==True)]\n",
    "efil2_both_rag = df_eval_rag[(df_eval_rag['entity_check_tax']==True)&(df_eval_rag['entity_check_seq']==True)&(df_eval_rag['core_check_tax']==True)&(df_eval_rag['core_check_seq']==True)]\n",
    "efil2_human_rag = df_eval_rag[(df_eval_rag['entity_check_tax']==True)&(df_eval_rag['entity_check_seq']==True)&(df_eval_rag['human_check_tax']==True)&(df_eval_rag['human_check_seq']==True)]\n",
    "print(f\"rag entity/core(tax, seq, both): {efil2_tax_rag.shape[0]} {efil2_seq_rag.shape[0]} {efil2_both_rag.shape[0]} {efil2_human_rag.shape[0]}\")\n",
    "\n",
    "#similarity threshold should both be applied (tax, seq) because otherwise sequence generation is impossible\n",
    "sim_tax_threshold = 0.4 #main itself is 50% weight\n",
    "sim_seq_threshold = 0.3 #same threhold as goalmediation\n",
    "\n",
    "efil3_tax_rag = df_eval_rag[(df_eval_rag['entity_check_tax']==True)&(df_eval_rag['entity_check_seq']==True)&(df_eval_rag['sim_tax3']>sim_tax_threshold)&(df_eval_rag['sim_seq3']>sim_seq_threshold)&(df_eval_rag['core_check_tax']==True)]\n",
    "efil3_seq_rag = df_eval_rag[(df_eval_rag['entity_check_tax']==True)&(df_eval_rag['entity_check_seq']==True)&(df_eval_rag['sim_tax3']>sim_tax_threshold)&(df_eval_rag['sim_seq3']>sim_seq_threshold)&(df_eval_rag['core_check_seq']==True)]\n",
    "efil3_both_rag = df_eval_rag[(df_eval_rag['entity_check_tax']==True)&(df_eval_rag['entity_check_seq']==True)&(df_eval_rag['sim_tax3']>sim_tax_threshold)&(df_eval_rag['sim_seq3']>sim_seq_threshold)&(df_eval_rag['core_check_tax']==True)&(df_eval_rag['core_check_seq']==True)]\n",
    "efil3_human_rag = df_eval_rag[(df_eval_rag['entity_check_tax']==True)&(df_eval_rag['entity_check_seq']==True)&(df_eval_rag['sim_tax3']>sim_tax_threshold)&(df_eval_rag['sim_seq3']>sim_seq_threshold)&(df_eval_rag['human_check_tax']==True)&(df_eval_rag['human_check_seq']==True)]\n",
    "# print(f\"rag entity/sim/core(tax, seq, both): {efil3_tax_rag.shape[0]} {efil3_seq_rag.shape[0]} {efil3_both_rag.shape[0]} {efil3_human_rag.shape[0]}\")\n",
    "\n",
    "\n",
    "# Too Strict Rules were not good at all\n",
    "efil3_both_rag2 = df_eval_rag[(df_eval_rag['entity_check_tax']==True)&(df_eval_rag['entity_check_seq']==True)&(df_eval_rag['sim_tax3']>sim_tax_threshold)&(df_eval_rag['sim_seq3']>sim_seq_threshold)&(df_eval_rag['core_check_seq']==True)]\n",
    "\n",
    "efil3_human_rag2 = df_eval_rag[(df_eval_rag['entity_check_tax']==True)&(df_eval_rag['entity_check_seq']==True)&(df_eval_rag['sim_tax3']>sim_tax_threshold)&(df_eval_rag['sim_seq3']>sim_seq_threshold)&(df_eval_rag['human_check_seq']==True)]\n",
    "print(f\"rag entity/sim/core(tax, seq, both): {efil3_tax_rag.shape[0]} {efil3_seq_rag.shape[0]} {efil3_both_rag.shape[0]} {efil3_human_rag.shape[0]}\")\n",
    "\n",
    "\n",
    "\n",
    "\n",
    "\n",
    "#---------------------------------------------------------------------------\n",
    "#evaluator_norag_\n",
    "#---------------------------------------------------------------------------\n",
    "efil1_tax_norag = df_eval_norag[df_eval_norag['core_check_tax']==True]\n",
    "efil1_seq_norag = df_eval_norag[df_eval_norag['core_check_seq']==True]\n",
    "efil1_both_norag = df_eval_norag[(df_eval_norag['core_check_tax']==True)&(df_eval_norag['core_check_seq']==True)]\n",
    "print(f\"norag core(tax, seq, both): {efil1_tax_norag.shape[0]} {efil1_seq_norag.shape[0]} {efil1_both_norag.shape[0]}\")\n",
    "\n",
    "#entity check should both pass for (tax, seq) because otherwise sequence generation is impossible\n",
    "efil2_tax_norag = df_eval_norag[(df_eval_norag['entity_check_tax']==True)&(df_eval_norag['entity_check_seq']==True)&(df_eval_norag['core_check_tax']==True)]\n",
    "efil2_seq_norag = df_eval_norag[(df_eval_norag['entity_check_tax']==True)&(df_eval_norag['entity_check_seq']==True)&(df_eval_norag['core_check_seq']==True)]\n",
    "efil2_both_norag = df_eval_norag[(df_eval_norag['entity_check_tax']==True)&(df_eval_norag['entity_check_seq']==True)&(df_eval_norag['core_check_tax']==True)&(df_eval_norag['core_check_seq']==True)]\n",
    "print(f\"norag entity/core(tax, seq, both): {efil2_tax_norag.shape[0]} {efil2_seq_norag.shape[0]} {efil2_both_norag.shape[0]}\")\n",
    "\n",
    "#similarity threshold should both be applied (tax, seq) because otherwise sequence generation is impossible\n",
    "sim_tax_threshold = 0.4 #main itself is 50% weight\n",
    "sim_seq_threshold = 0.3 #same threhold as goalmediation\n",
    "\n",
    "efil3_tax_norag = df_eval_norag[(df_eval_norag['entity_check_tax']==True)&(df_eval_norag['entity_check_seq']==True)&(df_eval_norag['sim_tax3']>sim_tax_threshold)&(df_eval_norag['sim_seq3']>sim_seq_threshold)&(df_eval_norag['core_check_tax']==True)]\n",
    "efil3_seq_norag = df_eval_norag[(df_eval_norag['entity_check_tax']==True)&(df_eval_norag['entity_check_seq']==True)&(df_eval_norag['sim_tax3']>sim_tax_threshold)&(df_eval_norag['sim_seq3']>sim_seq_threshold)&(df_eval_norag['core_check_seq']==True)]\n",
    "\n",
    "efil3_both_norag = df_eval_norag[(df_eval_norag['entity_check_tax']==True)&(df_eval_norag['entity_check_seq']==True)&(df_eval_norag['sim_tax3']>sim_tax_threshold)&(df_eval_norag['sim_seq3']>sim_seq_threshold)&(df_eval_norag['core_check_tax']==True)&(df_eval_norag['core_check_seq']==True)]\n",
    "efil3_human_norag = df_eval_norag[(df_eval_norag['entity_check_tax']==True)&(df_eval_norag['entity_check_seq']==True)&(df_eval_norag['sim_tax3']>sim_tax_threshold)&(df_eval_norag['sim_seq3']>sim_seq_threshold)&(df_eval_norag['human_check_tax']==True)&(df_eval_norag['human_check_seq']==True)]\n",
    "\n",
    "\n",
    "\n",
    "\n",
    "\n",
    "# More lenient rules on sequences\n",
    "efil3_both_norag2 = df_eval_norag[(df_eval_norag['entity_check_tax']==True)&(df_eval_norag['entity_check_seq']==True)&(df_eval_norag['sim_tax3']>sim_tax_threshold)&(df_eval_norag['sim_seq3']>sim_seq_threshold)&(df_eval_norag['core_check_seq']==True)]\n",
    "\n",
    "efil3_human_norag2 = df_eval_norag[(df_eval_norag['entity_check_tax']==True)&(df_eval_norag['entity_check_seq']==True)&(df_eval_norag['sim_tax3']>sim_tax_threshold)&(df_eval_norag['sim_seq3']>sim_seq_threshold)&(df_eval_norag['human_check_seq']==True)]\n",
    "print(f\"norag entity/sim/core(tax, seq, both): {efil3_tax_norag.shape[0]} {efil3_seq_norag.shape[0]} {efil3_both_norag.shape[0]} {efil3_human_norag.shape[0]}\")\n",
    "\n",
    "\n",
    "\n",
    "#---------------------------------------------------------------------------\n",
    "#evaluator_raggoal\n",
    "#---------------------------------------------------------------------------\n",
    "#evaluaotr_raggoal_ entity_check_seq, sim_seq1, sim_seq2, sim_seq3\", core_check_seq, human_check_tax, human_check_seq\n",
    "sim_seq_threshold = 0.3\n",
    "efil1_raggoal = df_eval_raggoal[df_eval_raggoal['core_check_seq']==True]\n",
    "efil2_raggoal = df_eval_raggoal[(df_eval_raggoal['entity_check_seq']==True) & (df_eval_raggoal['core_check_seq']==True)]\n",
    "efil3_raggoal= df_eval_raggoal[(df_eval_raggoal['entity_check_seq']==True) & (df_eval_raggoal['sim_seq3']>sim_seq_threshold) & (df_eval_raggoal['core_check_seq']==True)]\n",
    "\n",
    "efil3_human_raggoal= df_eval_raggoal[(df_eval_raggoal['entity_check_seq']==True) & (df_eval_raggoal['sim_seq3']>sim_seq_threshold) & (df_eval_raggoal['human_check_seq']==True)]\n",
    "print(f\"raggoal (core) (entity,core) (entity,sim,core): {efil1_raggoal.shape[0]} {efil2_raggoal.shape[0]} {efil3_raggoal.shape[0]} {efil3_human_raggoal.shape[0]}\")\n",
    "# efilh_raggoal\n",
    "\n",
    "\n",
    "\n",
    "\n",
    "# #---------------------------------------------------------------------------\n",
    "# #evaluator_noraggoal\n",
    "# #---------------------------------------------------------------------------\n",
    "#evaluaotr_noraggoal_ entity_check_seq, sim_seq1, sim_seq2, sim_seq3\", core_check_seq, human_check_tax, human_check_seq\n",
    "efil1_noraggoal = df_eval_noraggoal[df_eval_noraggoal['core_check_seq']==True]\n",
    "efil2_noraggoal = df_eval_noraggoal[(df_eval_noraggoal['entity_check_seq']==True) & (df_eval_noraggoal['core_check_seq']==True)]\n",
    "efil3_noraggoal = df_eval_noraggoal[(df_eval_noraggoal['entity_check_seq']==True) & (df_eval_noraggoal['sim_seq3']> sim_seq_threshold) & (df_eval_noraggoal['core_check_seq'])]\n",
    "\n",
    "efil3_human_noraggoal= df_eval_noraggoal[(df_eval_noraggoal['entity_check_seq']==True) & (df_eval_noraggoal['sim_seq3']>sim_seq_threshold) & (df_eval_noraggoal['human_check_seq']==True)]\n",
    "print(f\"norag (core) (entity,core) (entity,sim,core): {efil1_noraggoal.shape[0]} {efil2_noraggoal.shape[0]} {efil3_noraggoal.shape[0]}  {efil3_human_noraggoal.shape[0]}\")\n",
    "\n"
   ]
  },
  {
   "cell_type": "code",
   "execution_count": 28,
   "id": "c2db5759",
   "metadata": {},
   "outputs": [
    {
     "name": "stdout",
     "output_type": "stream",
     "text": [
      "213\n"
     ]
    },
    {
     "data": {
      "application/vnd.plotly.v1+json": {
       "config": {
        "plotlyServerURL": "https://plot.ly"
       },
       "data": [
        {
         "line": {
          "color": "blue",
          "dash": "solid"
         },
         "marker": {
          "size": 8,
          "symbol": "circle"
         },
         "mode": "lines+markers",
         "name": "ours-humaneval",
         "type": "scatter",
         "x": [
          0.16666666666666666,
          0.5,
          0.8333333333333333
         ],
         "y": {
          "bdata": "IjXBeCv7zD8PDw8PDw/fP+pNb3rTm+Y/",
          "dtype": "f8"
         }
        },
        {
         "line": {
          "color": "red",
          "dash": "dot"
         },
         "marker": {
          "size": 8,
          "symbol": "square"
         },
         "mode": "lines+markers",
         "name": "ours-strict",
         "type": "scatter",
         "x": [
          0.16666666666666666,
          0.5,
          0.8333333333333333
         ],
         "y": {
          "bdata": "wXgr+xxSwz88PDw8PDzcPy1kIQtZyOI/",
          "dtype": "f8"
         }
        },
        {
         "line": {
          "color": "green",
          "dash": "dash"
         },
         "marker": {
          "size": 8,
          "symbol": "diamond"
         },
         "mode": "lines+markers",
         "name": "norag-humaneval",
         "type": "scatter",
         "x": [
          0.16666666666666666,
          0.5,
          0.8333333333333333
         ],
         "y": {
          "bdata": "OqQmGG9lzz9aWlpaWlriP+pNb3rTm+Y/",
          "dtype": "f8"
         }
        },
        {
         "line": {
          "color": "orange",
          "dash": "longdash"
         },
         "marker": {
          "size": 8,
          "symbol": "cross"
         },
         "mode": "lines+markers",
         "name": "norag-strict",
         "type": "scatter",
         "x": [
          0.16666666666666666,
          0.5,
          0.8333333333333333
         ],
         "y": {
          "bdata": "8lb2OaQmyD8tLS0tLS3dP2QhC1nIQuY/",
          "dtype": "f8"
         }
        }
       ],
       "layout": {
        "height": 500,
        "legend": {
         "title": {
          "text": "Legend"
         },
         "x": 0.01,
         "y": 0.99
        },
        "template": {
         "data": {
          "bar": [
           {
            "error_x": {
             "color": "#2a3f5f"
            },
            "error_y": {
             "color": "#2a3f5f"
            },
            "marker": {
             "line": {
              "color": "#E5ECF6",
              "width": 0.5
             },
             "pattern": {
              "fillmode": "overlay",
              "size": 10,
              "solidity": 0.2
             }
            },
            "type": "bar"
           }
          ],
          "barpolar": [
           {
            "marker": {
             "line": {
              "color": "#E5ECF6",
              "width": 0.5
             },
             "pattern": {
              "fillmode": "overlay",
              "size": 10,
              "solidity": 0.2
             }
            },
            "type": "barpolar"
           }
          ],
          "carpet": [
           {
            "aaxis": {
             "endlinecolor": "#2a3f5f",
             "gridcolor": "white",
             "linecolor": "white",
             "minorgridcolor": "white",
             "startlinecolor": "#2a3f5f"
            },
            "baxis": {
             "endlinecolor": "#2a3f5f",
             "gridcolor": "white",
             "linecolor": "white",
             "minorgridcolor": "white",
             "startlinecolor": "#2a3f5f"
            },
            "type": "carpet"
           }
          ],
          "choropleth": [
           {
            "colorbar": {
             "outlinewidth": 0,
             "ticks": ""
            },
            "type": "choropleth"
           }
          ],
          "contour": [
           {
            "colorbar": {
             "outlinewidth": 0,
             "ticks": ""
            },
            "colorscale": [
             [
              0,
              "#0d0887"
             ],
             [
              0.1111111111111111,
              "#46039f"
             ],
             [
              0.2222222222222222,
              "#7201a8"
             ],
             [
              0.3333333333333333,
              "#9c179e"
             ],
             [
              0.4444444444444444,
              "#bd3786"
             ],
             [
              0.5555555555555556,
              "#d8576b"
             ],
             [
              0.6666666666666666,
              "#ed7953"
             ],
             [
              0.7777777777777778,
              "#fb9f3a"
             ],
             [
              0.8888888888888888,
              "#fdca26"
             ],
             [
              1,
              "#f0f921"
             ]
            ],
            "type": "contour"
           }
          ],
          "contourcarpet": [
           {
            "colorbar": {
             "outlinewidth": 0,
             "ticks": ""
            },
            "type": "contourcarpet"
           }
          ],
          "heatmap": [
           {
            "colorbar": {
             "outlinewidth": 0,
             "ticks": ""
            },
            "colorscale": [
             [
              0,
              "#0d0887"
             ],
             [
              0.1111111111111111,
              "#46039f"
             ],
             [
              0.2222222222222222,
              "#7201a8"
             ],
             [
              0.3333333333333333,
              "#9c179e"
             ],
             [
              0.4444444444444444,
              "#bd3786"
             ],
             [
              0.5555555555555556,
              "#d8576b"
             ],
             [
              0.6666666666666666,
              "#ed7953"
             ],
             [
              0.7777777777777778,
              "#fb9f3a"
             ],
             [
              0.8888888888888888,
              "#fdca26"
             ],
             [
              1,
              "#f0f921"
             ]
            ],
            "type": "heatmap"
           }
          ],
          "histogram": [
           {
            "marker": {
             "pattern": {
              "fillmode": "overlay",
              "size": 10,
              "solidity": 0.2
             }
            },
            "type": "histogram"
           }
          ],
          "histogram2d": [
           {
            "colorbar": {
             "outlinewidth": 0,
             "ticks": ""
            },
            "colorscale": [
             [
              0,
              "#0d0887"
             ],
             [
              0.1111111111111111,
              "#46039f"
             ],
             [
              0.2222222222222222,
              "#7201a8"
             ],
             [
              0.3333333333333333,
              "#9c179e"
             ],
             [
              0.4444444444444444,
              "#bd3786"
             ],
             [
              0.5555555555555556,
              "#d8576b"
             ],
             [
              0.6666666666666666,
              "#ed7953"
             ],
             [
              0.7777777777777778,
              "#fb9f3a"
             ],
             [
              0.8888888888888888,
              "#fdca26"
             ],
             [
              1,
              "#f0f921"
             ]
            ],
            "type": "histogram2d"
           }
          ],
          "histogram2dcontour": [
           {
            "colorbar": {
             "outlinewidth": 0,
             "ticks": ""
            },
            "colorscale": [
             [
              0,
              "#0d0887"
             ],
             [
              0.1111111111111111,
              "#46039f"
             ],
             [
              0.2222222222222222,
              "#7201a8"
             ],
             [
              0.3333333333333333,
              "#9c179e"
             ],
             [
              0.4444444444444444,
              "#bd3786"
             ],
             [
              0.5555555555555556,
              "#d8576b"
             ],
             [
              0.6666666666666666,
              "#ed7953"
             ],
             [
              0.7777777777777778,
              "#fb9f3a"
             ],
             [
              0.8888888888888888,
              "#fdca26"
             ],
             [
              1,
              "#f0f921"
             ]
            ],
            "type": "histogram2dcontour"
           }
          ],
          "mesh3d": [
           {
            "colorbar": {
             "outlinewidth": 0,
             "ticks": ""
            },
            "type": "mesh3d"
           }
          ],
          "parcoords": [
           {
            "line": {
             "colorbar": {
              "outlinewidth": 0,
              "ticks": ""
             }
            },
            "type": "parcoords"
           }
          ],
          "pie": [
           {
            "automargin": true,
            "type": "pie"
           }
          ],
          "scatter": [
           {
            "fillpattern": {
             "fillmode": "overlay",
             "size": 10,
             "solidity": 0.2
            },
            "type": "scatter"
           }
          ],
          "scatter3d": [
           {
            "line": {
             "colorbar": {
              "outlinewidth": 0,
              "ticks": ""
             }
            },
            "marker": {
             "colorbar": {
              "outlinewidth": 0,
              "ticks": ""
             }
            },
            "type": "scatter3d"
           }
          ],
          "scattercarpet": [
           {
            "marker": {
             "colorbar": {
              "outlinewidth": 0,
              "ticks": ""
             }
            },
            "type": "scattercarpet"
           }
          ],
          "scattergeo": [
           {
            "marker": {
             "colorbar": {
              "outlinewidth": 0,
              "ticks": ""
             }
            },
            "type": "scattergeo"
           }
          ],
          "scattergl": [
           {
            "marker": {
             "colorbar": {
              "outlinewidth": 0,
              "ticks": ""
             }
            },
            "type": "scattergl"
           }
          ],
          "scattermap": [
           {
            "marker": {
             "colorbar": {
              "outlinewidth": 0,
              "ticks": ""
             }
            },
            "type": "scattermap"
           }
          ],
          "scattermapbox": [
           {
            "marker": {
             "colorbar": {
              "outlinewidth": 0,
              "ticks": ""
             }
            },
            "type": "scattermapbox"
           }
          ],
          "scatterpolar": [
           {
            "marker": {
             "colorbar": {
              "outlinewidth": 0,
              "ticks": ""
             }
            },
            "type": "scatterpolar"
           }
          ],
          "scatterpolargl": [
           {
            "marker": {
             "colorbar": {
              "outlinewidth": 0,
              "ticks": ""
             }
            },
            "type": "scatterpolargl"
           }
          ],
          "scatterternary": [
           {
            "marker": {
             "colorbar": {
              "outlinewidth": 0,
              "ticks": ""
             }
            },
            "type": "scatterternary"
           }
          ],
          "surface": [
           {
            "colorbar": {
             "outlinewidth": 0,
             "ticks": ""
            },
            "colorscale": [
             [
              0,
              "#0d0887"
             ],
             [
              0.1111111111111111,
              "#46039f"
             ],
             [
              0.2222222222222222,
              "#7201a8"
             ],
             [
              0.3333333333333333,
              "#9c179e"
             ],
             [
              0.4444444444444444,
              "#bd3786"
             ],
             [
              0.5555555555555556,
              "#d8576b"
             ],
             [
              0.6666666666666666,
              "#ed7953"
             ],
             [
              0.7777777777777778,
              "#fb9f3a"
             ],
             [
              0.8888888888888888,
              "#fdca26"
             ],
             [
              1,
              "#f0f921"
             ]
            ],
            "type": "surface"
           }
          ],
          "table": [
           {
            "cells": {
             "fill": {
              "color": "#EBF0F8"
             },
             "line": {
              "color": "white"
             }
            },
            "header": {
             "fill": {
              "color": "#C8D4E3"
             },
             "line": {
              "color": "white"
             }
            },
            "type": "table"
           }
          ]
         },
         "layout": {
          "annotationdefaults": {
           "arrowcolor": "#2a3f5f",
           "arrowhead": 0,
           "arrowwidth": 1
          },
          "autotypenumbers": "strict",
          "coloraxis": {
           "colorbar": {
            "outlinewidth": 0,
            "ticks": ""
           }
          },
          "colorscale": {
           "diverging": [
            [
             0,
             "#8e0152"
            ],
            [
             0.1,
             "#c51b7d"
            ],
            [
             0.2,
             "#de77ae"
            ],
            [
             0.3,
             "#f1b6da"
            ],
            [
             0.4,
             "#fde0ef"
            ],
            [
             0.5,
             "#f7f7f7"
            ],
            [
             0.6,
             "#e6f5d0"
            ],
            [
             0.7,
             "#b8e186"
            ],
            [
             0.8,
             "#7fbc41"
            ],
            [
             0.9,
             "#4d9221"
            ],
            [
             1,
             "#276419"
            ]
           ],
           "sequential": [
            [
             0,
             "#0d0887"
            ],
            [
             0.1111111111111111,
             "#46039f"
            ],
            [
             0.2222222222222222,
             "#7201a8"
            ],
            [
             0.3333333333333333,
             "#9c179e"
            ],
            [
             0.4444444444444444,
             "#bd3786"
            ],
            [
             0.5555555555555556,
             "#d8576b"
            ],
            [
             0.6666666666666666,
             "#ed7953"
            ],
            [
             0.7777777777777778,
             "#fb9f3a"
            ],
            [
             0.8888888888888888,
             "#fdca26"
            ],
            [
             1,
             "#f0f921"
            ]
           ],
           "sequentialminus": [
            [
             0,
             "#0d0887"
            ],
            [
             0.1111111111111111,
             "#46039f"
            ],
            [
             0.2222222222222222,
             "#7201a8"
            ],
            [
             0.3333333333333333,
             "#9c179e"
            ],
            [
             0.4444444444444444,
             "#bd3786"
            ],
            [
             0.5555555555555556,
             "#d8576b"
            ],
            [
             0.6666666666666666,
             "#ed7953"
            ],
            [
             0.7777777777777778,
             "#fb9f3a"
            ],
            [
             0.8888888888888888,
             "#fdca26"
            ],
            [
             1,
             "#f0f921"
            ]
           ]
          },
          "colorway": [
           "#636efa",
           "#EF553B",
           "#00cc96",
           "#ab63fa",
           "#FFA15A",
           "#19d3f3",
           "#FF6692",
           "#B6E880",
           "#FF97FF",
           "#FECB52"
          ],
          "font": {
           "color": "#2a3f5f"
          },
          "geo": {
           "bgcolor": "white",
           "lakecolor": "white",
           "landcolor": "#E5ECF6",
           "showlakes": true,
           "showland": true,
           "subunitcolor": "white"
          },
          "hoverlabel": {
           "align": "left"
          },
          "hovermode": "closest",
          "mapbox": {
           "style": "light"
          },
          "paper_bgcolor": "white",
          "plot_bgcolor": "#E5ECF6",
          "polar": {
           "angularaxis": {
            "gridcolor": "white",
            "linecolor": "white",
            "ticks": ""
           },
           "bgcolor": "#E5ECF6",
           "radialaxis": {
            "gridcolor": "white",
            "linecolor": "white",
            "ticks": ""
           }
          },
          "scene": {
           "xaxis": {
            "backgroundcolor": "#E5ECF6",
            "gridcolor": "white",
            "gridwidth": 2,
            "linecolor": "white",
            "showbackground": true,
            "ticks": "",
            "zerolinecolor": "white"
           },
           "yaxis": {
            "backgroundcolor": "#E5ECF6",
            "gridcolor": "white",
            "gridwidth": 2,
            "linecolor": "white",
            "showbackground": true,
            "ticks": "",
            "zerolinecolor": "white"
           },
           "zaxis": {
            "backgroundcolor": "#E5ECF6",
            "gridcolor": "white",
            "gridwidth": 2,
            "linecolor": "white",
            "showbackground": true,
            "ticks": "",
            "zerolinecolor": "white"
           }
          },
          "shapedefaults": {
           "line": {
            "color": "#2a3f5f"
           }
          },
          "ternary": {
           "aaxis": {
            "gridcolor": "white",
            "linecolor": "white",
            "ticks": ""
           },
           "baxis": {
            "gridcolor": "white",
            "linecolor": "white",
            "ticks": ""
           },
           "bgcolor": "#E5ECF6",
           "caxis": {
            "gridcolor": "white",
            "linecolor": "white",
            "ticks": ""
           }
          },
          "title": {
           "x": 0.05
          },
          "xaxis": {
           "automargin": true,
           "gridcolor": "white",
           "linecolor": "white",
           "ticks": "",
           "title": {
            "standoff": 15
           },
           "zerolinecolor": "white",
           "zerolinewidth": 2
          },
          "yaxis": {
           "automargin": true,
           "gridcolor": "white",
           "linecolor": "white",
           "ticks": "",
           "title": {
            "standoff": 15
           },
           "zerolinecolor": "white",
           "zerolinewidth": 2
          }
         }
        },
        "title": {
         "text": "Selection Ratio vs. Inclusion Ratio (strict evaluator)",
         "x": 0.5,
         "xanchor": "center"
        },
        "width": 900,
        "xaxis": {
         "range": [
          0,
          1
         ],
         "title": {
          "text": "Inclusion Ratio"
         }
        },
        "yaxis": {
         "range": [
          0,
          1
         ],
         "title": {
          "text": "Selection Ratio"
         }
        }
       }
      }
     },
     "metadata": {},
     "output_type": "display_data"
    },
    {
     "data": {
      "application/vnd.plotly.v1+json": {
       "config": {
        "plotlyServerURL": "https://plot.ly"
       },
       "data": [
        {
         "line": {
          "color": "blue",
          "dash": "solid"
         },
         "marker": {
          "size": 8,
          "symbol": "circle"
         },
         "mode": "lines+markers",
         "name": "ours-humaneval",
         "type": "scatter",
         "x": [
          0.16666666666666666,
          0.5,
          0.8333333333333333
         ],
         "y": {
          "bdata": "IjXBeCv7zD8eHh4eHh7eP+pNb3rTm+Y/",
          "dtype": "f8"
         }
        },
        {
         "line": {
          "color": "red",
          "dash": "dot"
         },
         "marker": {
          "size": 8,
          "symbol": "square"
         },
         "mode": "lines+markers",
         "name": "ours-strict",
         "type": "scatter",
         "x": [
          0.16666666666666666,
          0.5,
          0.8333333333333333
         ],
         "y": {
          "bdata": "IjXBeCv7vD88PDw8PDzcP6c3velNb+I/",
          "dtype": "f8"
         }
        },
        {
         "line": {
          "color": "green",
          "dash": "dash"
         },
         "marker": {
          "size": 8,
          "symbol": "diamond"
         },
         "mode": "lines+markers",
         "name": "norag-humaneval",
         "type": "scatter",
         "x": [
          0.16666666666666666,
          0.5,
          0.8333333333333333
         ],
         "y": {
          "bdata": "OqQmGG9lzz9aWlpaWlriP+pNb3rTm+Y/",
          "dtype": "f8"
         }
        },
        {
         "line": {
          "color": "orange",
          "dash": "longdash"
         },
         "marker": {
          "size": 8,
          "symbol": "cross"
         },
         "mode": "lines+markers",
         "name": "norag-strict",
         "type": "scatter",
         "x": [
          0.16666666666666666,
          0.5,
          0.8333333333333333
         ],
         "y": {
          "bdata": "2eeQmmC8xT+Ih4eHh4fXP0MWspCFLOQ/",
          "dtype": "f8"
         }
        }
       ],
       "layout": {
        "height": 500,
        "legend": {
         "title": {
          "text": "Legend"
         },
         "x": 0.01,
         "y": 0.99
        },
        "template": {
         "data": {
          "bar": [
           {
            "error_x": {
             "color": "#2a3f5f"
            },
            "error_y": {
             "color": "#2a3f5f"
            },
            "marker": {
             "line": {
              "color": "#E5ECF6",
              "width": 0.5
             },
             "pattern": {
              "fillmode": "overlay",
              "size": 10,
              "solidity": 0.2
             }
            },
            "type": "bar"
           }
          ],
          "barpolar": [
           {
            "marker": {
             "line": {
              "color": "#E5ECF6",
              "width": 0.5
             },
             "pattern": {
              "fillmode": "overlay",
              "size": 10,
              "solidity": 0.2
             }
            },
            "type": "barpolar"
           }
          ],
          "carpet": [
           {
            "aaxis": {
             "endlinecolor": "#2a3f5f",
             "gridcolor": "white",
             "linecolor": "white",
             "minorgridcolor": "white",
             "startlinecolor": "#2a3f5f"
            },
            "baxis": {
             "endlinecolor": "#2a3f5f",
             "gridcolor": "white",
             "linecolor": "white",
             "minorgridcolor": "white",
             "startlinecolor": "#2a3f5f"
            },
            "type": "carpet"
           }
          ],
          "choropleth": [
           {
            "colorbar": {
             "outlinewidth": 0,
             "ticks": ""
            },
            "type": "choropleth"
           }
          ],
          "contour": [
           {
            "colorbar": {
             "outlinewidth": 0,
             "ticks": ""
            },
            "colorscale": [
             [
              0,
              "#0d0887"
             ],
             [
              0.1111111111111111,
              "#46039f"
             ],
             [
              0.2222222222222222,
              "#7201a8"
             ],
             [
              0.3333333333333333,
              "#9c179e"
             ],
             [
              0.4444444444444444,
              "#bd3786"
             ],
             [
              0.5555555555555556,
              "#d8576b"
             ],
             [
              0.6666666666666666,
              "#ed7953"
             ],
             [
              0.7777777777777778,
              "#fb9f3a"
             ],
             [
              0.8888888888888888,
              "#fdca26"
             ],
             [
              1,
              "#f0f921"
             ]
            ],
            "type": "contour"
           }
          ],
          "contourcarpet": [
           {
            "colorbar": {
             "outlinewidth": 0,
             "ticks": ""
            },
            "type": "contourcarpet"
           }
          ],
          "heatmap": [
           {
            "colorbar": {
             "outlinewidth": 0,
             "ticks": ""
            },
            "colorscale": [
             [
              0,
              "#0d0887"
             ],
             [
              0.1111111111111111,
              "#46039f"
             ],
             [
              0.2222222222222222,
              "#7201a8"
             ],
             [
              0.3333333333333333,
              "#9c179e"
             ],
             [
              0.4444444444444444,
              "#bd3786"
             ],
             [
              0.5555555555555556,
              "#d8576b"
             ],
             [
              0.6666666666666666,
              "#ed7953"
             ],
             [
              0.7777777777777778,
              "#fb9f3a"
             ],
             [
              0.8888888888888888,
              "#fdca26"
             ],
             [
              1,
              "#f0f921"
             ]
            ],
            "type": "heatmap"
           }
          ],
          "histogram": [
           {
            "marker": {
             "pattern": {
              "fillmode": "overlay",
              "size": 10,
              "solidity": 0.2
             }
            },
            "type": "histogram"
           }
          ],
          "histogram2d": [
           {
            "colorbar": {
             "outlinewidth": 0,
             "ticks": ""
            },
            "colorscale": [
             [
              0,
              "#0d0887"
             ],
             [
              0.1111111111111111,
              "#46039f"
             ],
             [
              0.2222222222222222,
              "#7201a8"
             ],
             [
              0.3333333333333333,
              "#9c179e"
             ],
             [
              0.4444444444444444,
              "#bd3786"
             ],
             [
              0.5555555555555556,
              "#d8576b"
             ],
             [
              0.6666666666666666,
              "#ed7953"
             ],
             [
              0.7777777777777778,
              "#fb9f3a"
             ],
             [
              0.8888888888888888,
              "#fdca26"
             ],
             [
              1,
              "#f0f921"
             ]
            ],
            "type": "histogram2d"
           }
          ],
          "histogram2dcontour": [
           {
            "colorbar": {
             "outlinewidth": 0,
             "ticks": ""
            },
            "colorscale": [
             [
              0,
              "#0d0887"
             ],
             [
              0.1111111111111111,
              "#46039f"
             ],
             [
              0.2222222222222222,
              "#7201a8"
             ],
             [
              0.3333333333333333,
              "#9c179e"
             ],
             [
              0.4444444444444444,
              "#bd3786"
             ],
             [
              0.5555555555555556,
              "#d8576b"
             ],
             [
              0.6666666666666666,
              "#ed7953"
             ],
             [
              0.7777777777777778,
              "#fb9f3a"
             ],
             [
              0.8888888888888888,
              "#fdca26"
             ],
             [
              1,
              "#f0f921"
             ]
            ],
            "type": "histogram2dcontour"
           }
          ],
          "mesh3d": [
           {
            "colorbar": {
             "outlinewidth": 0,
             "ticks": ""
            },
            "type": "mesh3d"
           }
          ],
          "parcoords": [
           {
            "line": {
             "colorbar": {
              "outlinewidth": 0,
              "ticks": ""
             }
            },
            "type": "parcoords"
           }
          ],
          "pie": [
           {
            "automargin": true,
            "type": "pie"
           }
          ],
          "scatter": [
           {
            "fillpattern": {
             "fillmode": "overlay",
             "size": 10,
             "solidity": 0.2
            },
            "type": "scatter"
           }
          ],
          "scatter3d": [
           {
            "line": {
             "colorbar": {
              "outlinewidth": 0,
              "ticks": ""
             }
            },
            "marker": {
             "colorbar": {
              "outlinewidth": 0,
              "ticks": ""
             }
            },
            "type": "scatter3d"
           }
          ],
          "scattercarpet": [
           {
            "marker": {
             "colorbar": {
              "outlinewidth": 0,
              "ticks": ""
             }
            },
            "type": "scattercarpet"
           }
          ],
          "scattergeo": [
           {
            "marker": {
             "colorbar": {
              "outlinewidth": 0,
              "ticks": ""
             }
            },
            "type": "scattergeo"
           }
          ],
          "scattergl": [
           {
            "marker": {
             "colorbar": {
              "outlinewidth": 0,
              "ticks": ""
             }
            },
            "type": "scattergl"
           }
          ],
          "scattermap": [
           {
            "marker": {
             "colorbar": {
              "outlinewidth": 0,
              "ticks": ""
             }
            },
            "type": "scattermap"
           }
          ],
          "scattermapbox": [
           {
            "marker": {
             "colorbar": {
              "outlinewidth": 0,
              "ticks": ""
             }
            },
            "type": "scattermapbox"
           }
          ],
          "scatterpolar": [
           {
            "marker": {
             "colorbar": {
              "outlinewidth": 0,
              "ticks": ""
             }
            },
            "type": "scatterpolar"
           }
          ],
          "scatterpolargl": [
           {
            "marker": {
             "colorbar": {
              "outlinewidth": 0,
              "ticks": ""
             }
            },
            "type": "scatterpolargl"
           }
          ],
          "scatterternary": [
           {
            "marker": {
             "colorbar": {
              "outlinewidth": 0,
              "ticks": ""
             }
            },
            "type": "scatterternary"
           }
          ],
          "surface": [
           {
            "colorbar": {
             "outlinewidth": 0,
             "ticks": ""
            },
            "colorscale": [
             [
              0,
              "#0d0887"
             ],
             [
              0.1111111111111111,
              "#46039f"
             ],
             [
              0.2222222222222222,
              "#7201a8"
             ],
             [
              0.3333333333333333,
              "#9c179e"
             ],
             [
              0.4444444444444444,
              "#bd3786"
             ],
             [
              0.5555555555555556,
              "#d8576b"
             ],
             [
              0.6666666666666666,
              "#ed7953"
             ],
             [
              0.7777777777777778,
              "#fb9f3a"
             ],
             [
              0.8888888888888888,
              "#fdca26"
             ],
             [
              1,
              "#f0f921"
             ]
            ],
            "type": "surface"
           }
          ],
          "table": [
           {
            "cells": {
             "fill": {
              "color": "#EBF0F8"
             },
             "line": {
              "color": "white"
             }
            },
            "header": {
             "fill": {
              "color": "#C8D4E3"
             },
             "line": {
              "color": "white"
             }
            },
            "type": "table"
           }
          ]
         },
         "layout": {
          "annotationdefaults": {
           "arrowcolor": "#2a3f5f",
           "arrowhead": 0,
           "arrowwidth": 1
          },
          "autotypenumbers": "strict",
          "coloraxis": {
           "colorbar": {
            "outlinewidth": 0,
            "ticks": ""
           }
          },
          "colorscale": {
           "diverging": [
            [
             0,
             "#8e0152"
            ],
            [
             0.1,
             "#c51b7d"
            ],
            [
             0.2,
             "#de77ae"
            ],
            [
             0.3,
             "#f1b6da"
            ],
            [
             0.4,
             "#fde0ef"
            ],
            [
             0.5,
             "#f7f7f7"
            ],
            [
             0.6,
             "#e6f5d0"
            ],
            [
             0.7,
             "#b8e186"
            ],
            [
             0.8,
             "#7fbc41"
            ],
            [
             0.9,
             "#4d9221"
            ],
            [
             1,
             "#276419"
            ]
           ],
           "sequential": [
            [
             0,
             "#0d0887"
            ],
            [
             0.1111111111111111,
             "#46039f"
            ],
            [
             0.2222222222222222,
             "#7201a8"
            ],
            [
             0.3333333333333333,
             "#9c179e"
            ],
            [
             0.4444444444444444,
             "#bd3786"
            ],
            [
             0.5555555555555556,
             "#d8576b"
            ],
            [
             0.6666666666666666,
             "#ed7953"
            ],
            [
             0.7777777777777778,
             "#fb9f3a"
            ],
            [
             0.8888888888888888,
             "#fdca26"
            ],
            [
             1,
             "#f0f921"
            ]
           ],
           "sequentialminus": [
            [
             0,
             "#0d0887"
            ],
            [
             0.1111111111111111,
             "#46039f"
            ],
            [
             0.2222222222222222,
             "#7201a8"
            ],
            [
             0.3333333333333333,
             "#9c179e"
            ],
            [
             0.4444444444444444,
             "#bd3786"
            ],
            [
             0.5555555555555556,
             "#d8576b"
            ],
            [
             0.6666666666666666,
             "#ed7953"
            ],
            [
             0.7777777777777778,
             "#fb9f3a"
            ],
            [
             0.8888888888888888,
             "#fdca26"
            ],
            [
             1,
             "#f0f921"
            ]
           ]
          },
          "colorway": [
           "#636efa",
           "#EF553B",
           "#00cc96",
           "#ab63fa",
           "#FFA15A",
           "#19d3f3",
           "#FF6692",
           "#B6E880",
           "#FF97FF",
           "#FECB52"
          ],
          "font": {
           "color": "#2a3f5f"
          },
          "geo": {
           "bgcolor": "white",
           "lakecolor": "white",
           "landcolor": "#E5ECF6",
           "showlakes": true,
           "showland": true,
           "subunitcolor": "white"
          },
          "hoverlabel": {
           "align": "left"
          },
          "hovermode": "closest",
          "mapbox": {
           "style": "light"
          },
          "paper_bgcolor": "white",
          "plot_bgcolor": "#E5ECF6",
          "polar": {
           "angularaxis": {
            "gridcolor": "white",
            "linecolor": "white",
            "ticks": ""
           },
           "bgcolor": "#E5ECF6",
           "radialaxis": {
            "gridcolor": "white",
            "linecolor": "white",
            "ticks": ""
           }
          },
          "scene": {
           "xaxis": {
            "backgroundcolor": "#E5ECF6",
            "gridcolor": "white",
            "gridwidth": 2,
            "linecolor": "white",
            "showbackground": true,
            "ticks": "",
            "zerolinecolor": "white"
           },
           "yaxis": {
            "backgroundcolor": "#E5ECF6",
            "gridcolor": "white",
            "gridwidth": 2,
            "linecolor": "white",
            "showbackground": true,
            "ticks": "",
            "zerolinecolor": "white"
           },
           "zaxis": {
            "backgroundcolor": "#E5ECF6",
            "gridcolor": "white",
            "gridwidth": 2,
            "linecolor": "white",
            "showbackground": true,
            "ticks": "",
            "zerolinecolor": "white"
           }
          },
          "shapedefaults": {
           "line": {
            "color": "#2a3f5f"
           }
          },
          "ternary": {
           "aaxis": {
            "gridcolor": "white",
            "linecolor": "white",
            "ticks": ""
           },
           "baxis": {
            "gridcolor": "white",
            "linecolor": "white",
            "ticks": ""
           },
           "bgcolor": "#E5ECF6",
           "caxis": {
            "gridcolor": "white",
            "linecolor": "white",
            "ticks": ""
           }
          },
          "title": {
           "x": 0.05
          },
          "xaxis": {
           "automargin": true,
           "gridcolor": "white",
           "linecolor": "white",
           "ticks": "",
           "title": {
            "standoff": 15
           },
           "zerolinecolor": "white",
           "zerolinewidth": 2
          },
          "yaxis": {
           "automargin": true,
           "gridcolor": "white",
           "linecolor": "white",
           "ticks": "",
           "title": {
            "standoff": 15
           },
           "zerolinecolor": "white",
           "zerolinewidth": 2
          }
         }
        },
        "title": {
         "text": "Selection Ratio vs. Inclusion Ratio (strict evaluator)",
         "x": 0.5,
         "xanchor": "center"
        },
        "width": 900,
        "xaxis": {
         "range": [
          0,
          1
         ],
         "title": {
          "text": "Inclusion Ratio"
         }
        },
        "yaxis": {
         "range": [
          0,
          1
         ],
         "title": {
          "text": "Selection Ratio"
         }
        }
       }
      }
     },
     "metadata": {},
     "output_type": "display_data"
    },
    {
     "data": {
      "application/vnd.plotly.v1+json": {
       "config": {
        "plotlyServerURL": "https://plot.ly"
       },
       "data": [
        {
         "line": {
          "color": "blue",
          "dash": "solid"
         },
         "marker": {
          "size": 8,
          "symbol": "circle"
         },
         "mode": "lines+markers",
         "name": "ours-human",
         "type": "scatter",
         "x": [
          0.16666666666666666,
          0.5,
          0.8333333333333333
         ],
         "y": {
          "bdata": "IjXBeCv7zD8eHh4eHh7eP+pNb3rTm+Y/",
          "dtype": "f8"
         }
        },
        {
         "line": {
          "color": "red",
          "dash": "dot"
         },
         "marker": {
          "size": 8,
          "symbol": "square"
         },
         "mode": "lines+markers",
         "name": "ours-strict",
         "type": "scatter",
         "x": [
          0.16666666666666666,
          0.5,
          0.8333333333333333
         ],
         "y": {
          "bdata": "IjXBeCv7vD88PDw8PDzcP6c3velNb+I/",
          "dtype": "f8"
         }
        }
       ],
       "layout": {
        "height": 500,
        "legend": {
         "title": {
          "text": "Legend"
         },
         "x": 0.01,
         "y": 0.99
        },
        "template": {
         "data": {
          "bar": [
           {
            "error_x": {
             "color": "#2a3f5f"
            },
            "error_y": {
             "color": "#2a3f5f"
            },
            "marker": {
             "line": {
              "color": "#E5ECF6",
              "width": 0.5
             },
             "pattern": {
              "fillmode": "overlay",
              "size": 10,
              "solidity": 0.2
             }
            },
            "type": "bar"
           }
          ],
          "barpolar": [
           {
            "marker": {
             "line": {
              "color": "#E5ECF6",
              "width": 0.5
             },
             "pattern": {
              "fillmode": "overlay",
              "size": 10,
              "solidity": 0.2
             }
            },
            "type": "barpolar"
           }
          ],
          "carpet": [
           {
            "aaxis": {
             "endlinecolor": "#2a3f5f",
             "gridcolor": "white",
             "linecolor": "white",
             "minorgridcolor": "white",
             "startlinecolor": "#2a3f5f"
            },
            "baxis": {
             "endlinecolor": "#2a3f5f",
             "gridcolor": "white",
             "linecolor": "white",
             "minorgridcolor": "white",
             "startlinecolor": "#2a3f5f"
            },
            "type": "carpet"
           }
          ],
          "choropleth": [
           {
            "colorbar": {
             "outlinewidth": 0,
             "ticks": ""
            },
            "type": "choropleth"
           }
          ],
          "contour": [
           {
            "colorbar": {
             "outlinewidth": 0,
             "ticks": ""
            },
            "colorscale": [
             [
              0,
              "#0d0887"
             ],
             [
              0.1111111111111111,
              "#46039f"
             ],
             [
              0.2222222222222222,
              "#7201a8"
             ],
             [
              0.3333333333333333,
              "#9c179e"
             ],
             [
              0.4444444444444444,
              "#bd3786"
             ],
             [
              0.5555555555555556,
              "#d8576b"
             ],
             [
              0.6666666666666666,
              "#ed7953"
             ],
             [
              0.7777777777777778,
              "#fb9f3a"
             ],
             [
              0.8888888888888888,
              "#fdca26"
             ],
             [
              1,
              "#f0f921"
             ]
            ],
            "type": "contour"
           }
          ],
          "contourcarpet": [
           {
            "colorbar": {
             "outlinewidth": 0,
             "ticks": ""
            },
            "type": "contourcarpet"
           }
          ],
          "heatmap": [
           {
            "colorbar": {
             "outlinewidth": 0,
             "ticks": ""
            },
            "colorscale": [
             [
              0,
              "#0d0887"
             ],
             [
              0.1111111111111111,
              "#46039f"
             ],
             [
              0.2222222222222222,
              "#7201a8"
             ],
             [
              0.3333333333333333,
              "#9c179e"
             ],
             [
              0.4444444444444444,
              "#bd3786"
             ],
             [
              0.5555555555555556,
              "#d8576b"
             ],
             [
              0.6666666666666666,
              "#ed7953"
             ],
             [
              0.7777777777777778,
              "#fb9f3a"
             ],
             [
              0.8888888888888888,
              "#fdca26"
             ],
             [
              1,
              "#f0f921"
             ]
            ],
            "type": "heatmap"
           }
          ],
          "histogram": [
           {
            "marker": {
             "pattern": {
              "fillmode": "overlay",
              "size": 10,
              "solidity": 0.2
             }
            },
            "type": "histogram"
           }
          ],
          "histogram2d": [
           {
            "colorbar": {
             "outlinewidth": 0,
             "ticks": ""
            },
            "colorscale": [
             [
              0,
              "#0d0887"
             ],
             [
              0.1111111111111111,
              "#46039f"
             ],
             [
              0.2222222222222222,
              "#7201a8"
             ],
             [
              0.3333333333333333,
              "#9c179e"
             ],
             [
              0.4444444444444444,
              "#bd3786"
             ],
             [
              0.5555555555555556,
              "#d8576b"
             ],
             [
              0.6666666666666666,
              "#ed7953"
             ],
             [
              0.7777777777777778,
              "#fb9f3a"
             ],
             [
              0.8888888888888888,
              "#fdca26"
             ],
             [
              1,
              "#f0f921"
             ]
            ],
            "type": "histogram2d"
           }
          ],
          "histogram2dcontour": [
           {
            "colorbar": {
             "outlinewidth": 0,
             "ticks": ""
            },
            "colorscale": [
             [
              0,
              "#0d0887"
             ],
             [
              0.1111111111111111,
              "#46039f"
             ],
             [
              0.2222222222222222,
              "#7201a8"
             ],
             [
              0.3333333333333333,
              "#9c179e"
             ],
             [
              0.4444444444444444,
              "#bd3786"
             ],
             [
              0.5555555555555556,
              "#d8576b"
             ],
             [
              0.6666666666666666,
              "#ed7953"
             ],
             [
              0.7777777777777778,
              "#fb9f3a"
             ],
             [
              0.8888888888888888,
              "#fdca26"
             ],
             [
              1,
              "#f0f921"
             ]
            ],
            "type": "histogram2dcontour"
           }
          ],
          "mesh3d": [
           {
            "colorbar": {
             "outlinewidth": 0,
             "ticks": ""
            },
            "type": "mesh3d"
           }
          ],
          "parcoords": [
           {
            "line": {
             "colorbar": {
              "outlinewidth": 0,
              "ticks": ""
             }
            },
            "type": "parcoords"
           }
          ],
          "pie": [
           {
            "automargin": true,
            "type": "pie"
           }
          ],
          "scatter": [
           {
            "fillpattern": {
             "fillmode": "overlay",
             "size": 10,
             "solidity": 0.2
            },
            "type": "scatter"
           }
          ],
          "scatter3d": [
           {
            "line": {
             "colorbar": {
              "outlinewidth": 0,
              "ticks": ""
             }
            },
            "marker": {
             "colorbar": {
              "outlinewidth": 0,
              "ticks": ""
             }
            },
            "type": "scatter3d"
           }
          ],
          "scattercarpet": [
           {
            "marker": {
             "colorbar": {
              "outlinewidth": 0,
              "ticks": ""
             }
            },
            "type": "scattercarpet"
           }
          ],
          "scattergeo": [
           {
            "marker": {
             "colorbar": {
              "outlinewidth": 0,
              "ticks": ""
             }
            },
            "type": "scattergeo"
           }
          ],
          "scattergl": [
           {
            "marker": {
             "colorbar": {
              "outlinewidth": 0,
              "ticks": ""
             }
            },
            "type": "scattergl"
           }
          ],
          "scattermap": [
           {
            "marker": {
             "colorbar": {
              "outlinewidth": 0,
              "ticks": ""
             }
            },
            "type": "scattermap"
           }
          ],
          "scattermapbox": [
           {
            "marker": {
             "colorbar": {
              "outlinewidth": 0,
              "ticks": ""
             }
            },
            "type": "scattermapbox"
           }
          ],
          "scatterpolar": [
           {
            "marker": {
             "colorbar": {
              "outlinewidth": 0,
              "ticks": ""
             }
            },
            "type": "scatterpolar"
           }
          ],
          "scatterpolargl": [
           {
            "marker": {
             "colorbar": {
              "outlinewidth": 0,
              "ticks": ""
             }
            },
            "type": "scatterpolargl"
           }
          ],
          "scatterternary": [
           {
            "marker": {
             "colorbar": {
              "outlinewidth": 0,
              "ticks": ""
             }
            },
            "type": "scatterternary"
           }
          ],
          "surface": [
           {
            "colorbar": {
             "outlinewidth": 0,
             "ticks": ""
            },
            "colorscale": [
             [
              0,
              "#0d0887"
             ],
             [
              0.1111111111111111,
              "#46039f"
             ],
             [
              0.2222222222222222,
              "#7201a8"
             ],
             [
              0.3333333333333333,
              "#9c179e"
             ],
             [
              0.4444444444444444,
              "#bd3786"
             ],
             [
              0.5555555555555556,
              "#d8576b"
             ],
             [
              0.6666666666666666,
              "#ed7953"
             ],
             [
              0.7777777777777778,
              "#fb9f3a"
             ],
             [
              0.8888888888888888,
              "#fdca26"
             ],
             [
              1,
              "#f0f921"
             ]
            ],
            "type": "surface"
           }
          ],
          "table": [
           {
            "cells": {
             "fill": {
              "color": "#EBF0F8"
             },
             "line": {
              "color": "white"
             }
            },
            "header": {
             "fill": {
              "color": "#C8D4E3"
             },
             "line": {
              "color": "white"
             }
            },
            "type": "table"
           }
          ]
         },
         "layout": {
          "annotationdefaults": {
           "arrowcolor": "#2a3f5f",
           "arrowhead": 0,
           "arrowwidth": 1
          },
          "autotypenumbers": "strict",
          "coloraxis": {
           "colorbar": {
            "outlinewidth": 0,
            "ticks": ""
           }
          },
          "colorscale": {
           "diverging": [
            [
             0,
             "#8e0152"
            ],
            [
             0.1,
             "#c51b7d"
            ],
            [
             0.2,
             "#de77ae"
            ],
            [
             0.3,
             "#f1b6da"
            ],
            [
             0.4,
             "#fde0ef"
            ],
            [
             0.5,
             "#f7f7f7"
            ],
            [
             0.6,
             "#e6f5d0"
            ],
            [
             0.7,
             "#b8e186"
            ],
            [
             0.8,
             "#7fbc41"
            ],
            [
             0.9,
             "#4d9221"
            ],
            [
             1,
             "#276419"
            ]
           ],
           "sequential": [
            [
             0,
             "#0d0887"
            ],
            [
             0.1111111111111111,
             "#46039f"
            ],
            [
             0.2222222222222222,
             "#7201a8"
            ],
            [
             0.3333333333333333,
             "#9c179e"
            ],
            [
             0.4444444444444444,
             "#bd3786"
            ],
            [
             0.5555555555555556,
             "#d8576b"
            ],
            [
             0.6666666666666666,
             "#ed7953"
            ],
            [
             0.7777777777777778,
             "#fb9f3a"
            ],
            [
             0.8888888888888888,
             "#fdca26"
            ],
            [
             1,
             "#f0f921"
            ]
           ],
           "sequentialminus": [
            [
             0,
             "#0d0887"
            ],
            [
             0.1111111111111111,
             "#46039f"
            ],
            [
             0.2222222222222222,
             "#7201a8"
            ],
            [
             0.3333333333333333,
             "#9c179e"
            ],
            [
             0.4444444444444444,
             "#bd3786"
            ],
            [
             0.5555555555555556,
             "#d8576b"
            ],
            [
             0.6666666666666666,
             "#ed7953"
            ],
            [
             0.7777777777777778,
             "#fb9f3a"
            ],
            [
             0.8888888888888888,
             "#fdca26"
            ],
            [
             1,
             "#f0f921"
            ]
           ]
          },
          "colorway": [
           "#636efa",
           "#EF553B",
           "#00cc96",
           "#ab63fa",
           "#FFA15A",
           "#19d3f3",
           "#FF6692",
           "#B6E880",
           "#FF97FF",
           "#FECB52"
          ],
          "font": {
           "color": "#2a3f5f"
          },
          "geo": {
           "bgcolor": "white",
           "lakecolor": "white",
           "landcolor": "#E5ECF6",
           "showlakes": true,
           "showland": true,
           "subunitcolor": "white"
          },
          "hoverlabel": {
           "align": "left"
          },
          "hovermode": "closest",
          "mapbox": {
           "style": "light"
          },
          "paper_bgcolor": "white",
          "plot_bgcolor": "#E5ECF6",
          "polar": {
           "angularaxis": {
            "gridcolor": "white",
            "linecolor": "white",
            "ticks": ""
           },
           "bgcolor": "#E5ECF6",
           "radialaxis": {
            "gridcolor": "white",
            "linecolor": "white",
            "ticks": ""
           }
          },
          "scene": {
           "xaxis": {
            "backgroundcolor": "#E5ECF6",
            "gridcolor": "white",
            "gridwidth": 2,
            "linecolor": "white",
            "showbackground": true,
            "ticks": "",
            "zerolinecolor": "white"
           },
           "yaxis": {
            "backgroundcolor": "#E5ECF6",
            "gridcolor": "white",
            "gridwidth": 2,
            "linecolor": "white",
            "showbackground": true,
            "ticks": "",
            "zerolinecolor": "white"
           },
           "zaxis": {
            "backgroundcolor": "#E5ECF6",
            "gridcolor": "white",
            "gridwidth": 2,
            "linecolor": "white",
            "showbackground": true,
            "ticks": "",
            "zerolinecolor": "white"
           }
          },
          "shapedefaults": {
           "line": {
            "color": "#2a3f5f"
           }
          },
          "ternary": {
           "aaxis": {
            "gridcolor": "white",
            "linecolor": "white",
            "ticks": ""
           },
           "baxis": {
            "gridcolor": "white",
            "linecolor": "white",
            "ticks": ""
           },
           "bgcolor": "#E5ECF6",
           "caxis": {
            "gridcolor": "white",
            "linecolor": "white",
            "ticks": ""
           }
          },
          "title": {
           "x": 0.05
          },
          "xaxis": {
           "automargin": true,
           "gridcolor": "white",
           "linecolor": "white",
           "ticks": "",
           "title": {
            "standoff": 15
           },
           "zerolinecolor": "white",
           "zerolinewidth": 2
          },
          "yaxis": {
           "automargin": true,
           "gridcolor": "white",
           "linecolor": "white",
           "ticks": "",
           "title": {
            "standoff": 15
           },
           "zerolinecolor": "white",
           "zerolinewidth": 2
          }
         }
        },
        "title": {
         "text": "Selection Ratio vs. Inclusion Ratio (strict evaluator)",
         "x": 0.5,
         "xanchor": "center"
        },
        "width": 900,
        "xaxis": {
         "range": [
          0,
          1
         ],
         "title": {
          "text": "Inclusion Ratio"
         }
        },
        "yaxis": {
         "range": [
          0,
          1
         ],
         "title": {
          "text": "Selection Ratio"
         }
        }
       }
      }
     },
     "metadata": {},
     "output_type": "display_data"
    },
    {
     "data": {
      "application/vnd.plotly.v1+json": {
       "config": {
        "plotlyServerURL": "https://plot.ly"
       },
       "data": [
        {
         "line": {
          "color": "blue",
          "dash": "solid"
         },
         "marker": {
          "size": 8,
          "symbol": "circle"
         },
         "mode": "lines+markers",
         "name": "baseline1-human",
         "type": "scatter",
         "x": [
          0.16666666666666666,
          0.5,
          0.8333333333333333
         ],
         "y": {
          "bdata": "OqQmGG9lzz9aWlpaWlriP+pNb3rTm+Y/",
          "dtype": "f8"
         }
        },
        {
         "line": {
          "color": "red",
          "dash": "dot"
         },
         "marker": {
          "size": 8,
          "symbol": "square"
         },
         "mode": "lines+markers",
         "name": "baseline1-strict",
         "type": "scatter",
         "x": [
          0.16666666666666666,
          0.5,
          0.8333333333333333
         ],
         "y": {
          "bdata": "2eeQmmC8xT+Ih4eHh4fXP0MWspCFLOQ/",
          "dtype": "f8"
         }
        }
       ],
       "layout": {
        "height": 500,
        "legend": {
         "title": {
          "text": "Legend"
         },
         "x": 0.01,
         "y": 0.99
        },
        "template": {
         "data": {
          "bar": [
           {
            "error_x": {
             "color": "#2a3f5f"
            },
            "error_y": {
             "color": "#2a3f5f"
            },
            "marker": {
             "line": {
              "color": "#E5ECF6",
              "width": 0.5
             },
             "pattern": {
              "fillmode": "overlay",
              "size": 10,
              "solidity": 0.2
             }
            },
            "type": "bar"
           }
          ],
          "barpolar": [
           {
            "marker": {
             "line": {
              "color": "#E5ECF6",
              "width": 0.5
             },
             "pattern": {
              "fillmode": "overlay",
              "size": 10,
              "solidity": 0.2
             }
            },
            "type": "barpolar"
           }
          ],
          "carpet": [
           {
            "aaxis": {
             "endlinecolor": "#2a3f5f",
             "gridcolor": "white",
             "linecolor": "white",
             "minorgridcolor": "white",
             "startlinecolor": "#2a3f5f"
            },
            "baxis": {
             "endlinecolor": "#2a3f5f",
             "gridcolor": "white",
             "linecolor": "white",
             "minorgridcolor": "white",
             "startlinecolor": "#2a3f5f"
            },
            "type": "carpet"
           }
          ],
          "choropleth": [
           {
            "colorbar": {
             "outlinewidth": 0,
             "ticks": ""
            },
            "type": "choropleth"
           }
          ],
          "contour": [
           {
            "colorbar": {
             "outlinewidth": 0,
             "ticks": ""
            },
            "colorscale": [
             [
              0,
              "#0d0887"
             ],
             [
              0.1111111111111111,
              "#46039f"
             ],
             [
              0.2222222222222222,
              "#7201a8"
             ],
             [
              0.3333333333333333,
              "#9c179e"
             ],
             [
              0.4444444444444444,
              "#bd3786"
             ],
             [
              0.5555555555555556,
              "#d8576b"
             ],
             [
              0.6666666666666666,
              "#ed7953"
             ],
             [
              0.7777777777777778,
              "#fb9f3a"
             ],
             [
              0.8888888888888888,
              "#fdca26"
             ],
             [
              1,
              "#f0f921"
             ]
            ],
            "type": "contour"
           }
          ],
          "contourcarpet": [
           {
            "colorbar": {
             "outlinewidth": 0,
             "ticks": ""
            },
            "type": "contourcarpet"
           }
          ],
          "heatmap": [
           {
            "colorbar": {
             "outlinewidth": 0,
             "ticks": ""
            },
            "colorscale": [
             [
              0,
              "#0d0887"
             ],
             [
              0.1111111111111111,
              "#46039f"
             ],
             [
              0.2222222222222222,
              "#7201a8"
             ],
             [
              0.3333333333333333,
              "#9c179e"
             ],
             [
              0.4444444444444444,
              "#bd3786"
             ],
             [
              0.5555555555555556,
              "#d8576b"
             ],
             [
              0.6666666666666666,
              "#ed7953"
             ],
             [
              0.7777777777777778,
              "#fb9f3a"
             ],
             [
              0.8888888888888888,
              "#fdca26"
             ],
             [
              1,
              "#f0f921"
             ]
            ],
            "type": "heatmap"
           }
          ],
          "histogram": [
           {
            "marker": {
             "pattern": {
              "fillmode": "overlay",
              "size": 10,
              "solidity": 0.2
             }
            },
            "type": "histogram"
           }
          ],
          "histogram2d": [
           {
            "colorbar": {
             "outlinewidth": 0,
             "ticks": ""
            },
            "colorscale": [
             [
              0,
              "#0d0887"
             ],
             [
              0.1111111111111111,
              "#46039f"
             ],
             [
              0.2222222222222222,
              "#7201a8"
             ],
             [
              0.3333333333333333,
              "#9c179e"
             ],
             [
              0.4444444444444444,
              "#bd3786"
             ],
             [
              0.5555555555555556,
              "#d8576b"
             ],
             [
              0.6666666666666666,
              "#ed7953"
             ],
             [
              0.7777777777777778,
              "#fb9f3a"
             ],
             [
              0.8888888888888888,
              "#fdca26"
             ],
             [
              1,
              "#f0f921"
             ]
            ],
            "type": "histogram2d"
           }
          ],
          "histogram2dcontour": [
           {
            "colorbar": {
             "outlinewidth": 0,
             "ticks": ""
            },
            "colorscale": [
             [
              0,
              "#0d0887"
             ],
             [
              0.1111111111111111,
              "#46039f"
             ],
             [
              0.2222222222222222,
              "#7201a8"
             ],
             [
              0.3333333333333333,
              "#9c179e"
             ],
             [
              0.4444444444444444,
              "#bd3786"
             ],
             [
              0.5555555555555556,
              "#d8576b"
             ],
             [
              0.6666666666666666,
              "#ed7953"
             ],
             [
              0.7777777777777778,
              "#fb9f3a"
             ],
             [
              0.8888888888888888,
              "#fdca26"
             ],
             [
              1,
              "#f0f921"
             ]
            ],
            "type": "histogram2dcontour"
           }
          ],
          "mesh3d": [
           {
            "colorbar": {
             "outlinewidth": 0,
             "ticks": ""
            },
            "type": "mesh3d"
           }
          ],
          "parcoords": [
           {
            "line": {
             "colorbar": {
              "outlinewidth": 0,
              "ticks": ""
             }
            },
            "type": "parcoords"
           }
          ],
          "pie": [
           {
            "automargin": true,
            "type": "pie"
           }
          ],
          "scatter": [
           {
            "fillpattern": {
             "fillmode": "overlay",
             "size": 10,
             "solidity": 0.2
            },
            "type": "scatter"
           }
          ],
          "scatter3d": [
           {
            "line": {
             "colorbar": {
              "outlinewidth": 0,
              "ticks": ""
             }
            },
            "marker": {
             "colorbar": {
              "outlinewidth": 0,
              "ticks": ""
             }
            },
            "type": "scatter3d"
           }
          ],
          "scattercarpet": [
           {
            "marker": {
             "colorbar": {
              "outlinewidth": 0,
              "ticks": ""
             }
            },
            "type": "scattercarpet"
           }
          ],
          "scattergeo": [
           {
            "marker": {
             "colorbar": {
              "outlinewidth": 0,
              "ticks": ""
             }
            },
            "type": "scattergeo"
           }
          ],
          "scattergl": [
           {
            "marker": {
             "colorbar": {
              "outlinewidth": 0,
              "ticks": ""
             }
            },
            "type": "scattergl"
           }
          ],
          "scattermap": [
           {
            "marker": {
             "colorbar": {
              "outlinewidth": 0,
              "ticks": ""
             }
            },
            "type": "scattermap"
           }
          ],
          "scattermapbox": [
           {
            "marker": {
             "colorbar": {
              "outlinewidth": 0,
              "ticks": ""
             }
            },
            "type": "scattermapbox"
           }
          ],
          "scatterpolar": [
           {
            "marker": {
             "colorbar": {
              "outlinewidth": 0,
              "ticks": ""
             }
            },
            "type": "scatterpolar"
           }
          ],
          "scatterpolargl": [
           {
            "marker": {
             "colorbar": {
              "outlinewidth": 0,
              "ticks": ""
             }
            },
            "type": "scatterpolargl"
           }
          ],
          "scatterternary": [
           {
            "marker": {
             "colorbar": {
              "outlinewidth": 0,
              "ticks": ""
             }
            },
            "type": "scatterternary"
           }
          ],
          "surface": [
           {
            "colorbar": {
             "outlinewidth": 0,
             "ticks": ""
            },
            "colorscale": [
             [
              0,
              "#0d0887"
             ],
             [
              0.1111111111111111,
              "#46039f"
             ],
             [
              0.2222222222222222,
              "#7201a8"
             ],
             [
              0.3333333333333333,
              "#9c179e"
             ],
             [
              0.4444444444444444,
              "#bd3786"
             ],
             [
              0.5555555555555556,
              "#d8576b"
             ],
             [
              0.6666666666666666,
              "#ed7953"
             ],
             [
              0.7777777777777778,
              "#fb9f3a"
             ],
             [
              0.8888888888888888,
              "#fdca26"
             ],
             [
              1,
              "#f0f921"
             ]
            ],
            "type": "surface"
           }
          ],
          "table": [
           {
            "cells": {
             "fill": {
              "color": "#EBF0F8"
             },
             "line": {
              "color": "white"
             }
            },
            "header": {
             "fill": {
              "color": "#C8D4E3"
             },
             "line": {
              "color": "white"
             }
            },
            "type": "table"
           }
          ]
         },
         "layout": {
          "annotationdefaults": {
           "arrowcolor": "#2a3f5f",
           "arrowhead": 0,
           "arrowwidth": 1
          },
          "autotypenumbers": "strict",
          "coloraxis": {
           "colorbar": {
            "outlinewidth": 0,
            "ticks": ""
           }
          },
          "colorscale": {
           "diverging": [
            [
             0,
             "#8e0152"
            ],
            [
             0.1,
             "#c51b7d"
            ],
            [
             0.2,
             "#de77ae"
            ],
            [
             0.3,
             "#f1b6da"
            ],
            [
             0.4,
             "#fde0ef"
            ],
            [
             0.5,
             "#f7f7f7"
            ],
            [
             0.6,
             "#e6f5d0"
            ],
            [
             0.7,
             "#b8e186"
            ],
            [
             0.8,
             "#7fbc41"
            ],
            [
             0.9,
             "#4d9221"
            ],
            [
             1,
             "#276419"
            ]
           ],
           "sequential": [
            [
             0,
             "#0d0887"
            ],
            [
             0.1111111111111111,
             "#46039f"
            ],
            [
             0.2222222222222222,
             "#7201a8"
            ],
            [
             0.3333333333333333,
             "#9c179e"
            ],
            [
             0.4444444444444444,
             "#bd3786"
            ],
            [
             0.5555555555555556,
             "#d8576b"
            ],
            [
             0.6666666666666666,
             "#ed7953"
            ],
            [
             0.7777777777777778,
             "#fb9f3a"
            ],
            [
             0.8888888888888888,
             "#fdca26"
            ],
            [
             1,
             "#f0f921"
            ]
           ],
           "sequentialminus": [
            [
             0,
             "#0d0887"
            ],
            [
             0.1111111111111111,
             "#46039f"
            ],
            [
             0.2222222222222222,
             "#7201a8"
            ],
            [
             0.3333333333333333,
             "#9c179e"
            ],
            [
             0.4444444444444444,
             "#bd3786"
            ],
            [
             0.5555555555555556,
             "#d8576b"
            ],
            [
             0.6666666666666666,
             "#ed7953"
            ],
            [
             0.7777777777777778,
             "#fb9f3a"
            ],
            [
             0.8888888888888888,
             "#fdca26"
            ],
            [
             1,
             "#f0f921"
            ]
           ]
          },
          "colorway": [
           "#636efa",
           "#EF553B",
           "#00cc96",
           "#ab63fa",
           "#FFA15A",
           "#19d3f3",
           "#FF6692",
           "#B6E880",
           "#FF97FF",
           "#FECB52"
          ],
          "font": {
           "color": "#2a3f5f"
          },
          "geo": {
           "bgcolor": "white",
           "lakecolor": "white",
           "landcolor": "#E5ECF6",
           "showlakes": true,
           "showland": true,
           "subunitcolor": "white"
          },
          "hoverlabel": {
           "align": "left"
          },
          "hovermode": "closest",
          "mapbox": {
           "style": "light"
          },
          "paper_bgcolor": "white",
          "plot_bgcolor": "#E5ECF6",
          "polar": {
           "angularaxis": {
            "gridcolor": "white",
            "linecolor": "white",
            "ticks": ""
           },
           "bgcolor": "#E5ECF6",
           "radialaxis": {
            "gridcolor": "white",
            "linecolor": "white",
            "ticks": ""
           }
          },
          "scene": {
           "xaxis": {
            "backgroundcolor": "#E5ECF6",
            "gridcolor": "white",
            "gridwidth": 2,
            "linecolor": "white",
            "showbackground": true,
            "ticks": "",
            "zerolinecolor": "white"
           },
           "yaxis": {
            "backgroundcolor": "#E5ECF6",
            "gridcolor": "white",
            "gridwidth": 2,
            "linecolor": "white",
            "showbackground": true,
            "ticks": "",
            "zerolinecolor": "white"
           },
           "zaxis": {
            "backgroundcolor": "#E5ECF6",
            "gridcolor": "white",
            "gridwidth": 2,
            "linecolor": "white",
            "showbackground": true,
            "ticks": "",
            "zerolinecolor": "white"
           }
          },
          "shapedefaults": {
           "line": {
            "color": "#2a3f5f"
           }
          },
          "ternary": {
           "aaxis": {
            "gridcolor": "white",
            "linecolor": "white",
            "ticks": ""
           },
           "baxis": {
            "gridcolor": "white",
            "linecolor": "white",
            "ticks": ""
           },
           "bgcolor": "#E5ECF6",
           "caxis": {
            "gridcolor": "white",
            "linecolor": "white",
            "ticks": ""
           }
          },
          "title": {
           "x": 0.05
          },
          "xaxis": {
           "automargin": true,
           "gridcolor": "white",
           "linecolor": "white",
           "ticks": "",
           "title": {
            "standoff": 15
           },
           "zerolinecolor": "white",
           "zerolinewidth": 2
          },
          "yaxis": {
           "automargin": true,
           "gridcolor": "white",
           "linecolor": "white",
           "ticks": "",
           "title": {
            "standoff": 15
           },
           "zerolinecolor": "white",
           "zerolinewidth": 2
          }
         }
        },
        "title": {
         "text": "Selection Ratio vs. Inclusion Ratio (strict evaluator)",
         "x": 0.5,
         "xanchor": "center"
        },
        "width": 900,
        "xaxis": {
         "range": [
          0,
          1
         ],
         "title": {
          "text": "Inclusion Ratio"
         }
        },
        "yaxis": {
         "range": [
          0,
          1
         ],
         "title": {
          "text": "Selection Ratio"
         }
        }
       }
      }
     },
     "metadata": {},
     "output_type": "display_data"
    },
    {
     "data": {
      "application/vnd.plotly.v1+json": {
       "config": {
        "plotlyServerURL": "https://plot.ly"
       },
       "data": [
        {
         "line": {
          "color": "blue",
          "dash": "solid"
         },
         "marker": {
          "size": 8,
          "symbol": "circle"
         },
         "mode": "lines+markers",
         "name": "baseline2-human",
         "type": "scatter",
         "x": [
          0.16666666666666666,
          0.5,
          0.8333333333333333
         ],
         "y": {
          "bdata": "2eeQmmC81T+XlpaWlpbmP2QhC1nIQuY/",
          "dtype": "f8"
         }
        },
        {
         "line": {
          "color": "red",
          "dash": "dot"
         },
         "marker": {
          "size": 8,
          "symbol": "square"
         },
         "mode": "lines+markers",
         "name": "baseline2-strict",
         "type": "scatter",
         "x": [
          0.16666666666666666,
          0.5,
          0.8333333333333333
         ],
         "y": {
          "bdata": "IjXBeCv7zD/T0tLS0tLiPy1kIQtZyOI/",
          "dtype": "f8"
         }
        }
       ],
       "layout": {
        "height": 500,
        "legend": {
         "title": {
          "text": "Legend"
         },
         "x": 0.01,
         "y": 0.99
        },
        "template": {
         "data": {
          "bar": [
           {
            "error_x": {
             "color": "#2a3f5f"
            },
            "error_y": {
             "color": "#2a3f5f"
            },
            "marker": {
             "line": {
              "color": "#E5ECF6",
              "width": 0.5
             },
             "pattern": {
              "fillmode": "overlay",
              "size": 10,
              "solidity": 0.2
             }
            },
            "type": "bar"
           }
          ],
          "barpolar": [
           {
            "marker": {
             "line": {
              "color": "#E5ECF6",
              "width": 0.5
             },
             "pattern": {
              "fillmode": "overlay",
              "size": 10,
              "solidity": 0.2
             }
            },
            "type": "barpolar"
           }
          ],
          "carpet": [
           {
            "aaxis": {
             "endlinecolor": "#2a3f5f",
             "gridcolor": "white",
             "linecolor": "white",
             "minorgridcolor": "white",
             "startlinecolor": "#2a3f5f"
            },
            "baxis": {
             "endlinecolor": "#2a3f5f",
             "gridcolor": "white",
             "linecolor": "white",
             "minorgridcolor": "white",
             "startlinecolor": "#2a3f5f"
            },
            "type": "carpet"
           }
          ],
          "choropleth": [
           {
            "colorbar": {
             "outlinewidth": 0,
             "ticks": ""
            },
            "type": "choropleth"
           }
          ],
          "contour": [
           {
            "colorbar": {
             "outlinewidth": 0,
             "ticks": ""
            },
            "colorscale": [
             [
              0,
              "#0d0887"
             ],
             [
              0.1111111111111111,
              "#46039f"
             ],
             [
              0.2222222222222222,
              "#7201a8"
             ],
             [
              0.3333333333333333,
              "#9c179e"
             ],
             [
              0.4444444444444444,
              "#bd3786"
             ],
             [
              0.5555555555555556,
              "#d8576b"
             ],
             [
              0.6666666666666666,
              "#ed7953"
             ],
             [
              0.7777777777777778,
              "#fb9f3a"
             ],
             [
              0.8888888888888888,
              "#fdca26"
             ],
             [
              1,
              "#f0f921"
             ]
            ],
            "type": "contour"
           }
          ],
          "contourcarpet": [
           {
            "colorbar": {
             "outlinewidth": 0,
             "ticks": ""
            },
            "type": "contourcarpet"
           }
          ],
          "heatmap": [
           {
            "colorbar": {
             "outlinewidth": 0,
             "ticks": ""
            },
            "colorscale": [
             [
              0,
              "#0d0887"
             ],
             [
              0.1111111111111111,
              "#46039f"
             ],
             [
              0.2222222222222222,
              "#7201a8"
             ],
             [
              0.3333333333333333,
              "#9c179e"
             ],
             [
              0.4444444444444444,
              "#bd3786"
             ],
             [
              0.5555555555555556,
              "#d8576b"
             ],
             [
              0.6666666666666666,
              "#ed7953"
             ],
             [
              0.7777777777777778,
              "#fb9f3a"
             ],
             [
              0.8888888888888888,
              "#fdca26"
             ],
             [
              1,
              "#f0f921"
             ]
            ],
            "type": "heatmap"
           }
          ],
          "histogram": [
           {
            "marker": {
             "pattern": {
              "fillmode": "overlay",
              "size": 10,
              "solidity": 0.2
             }
            },
            "type": "histogram"
           }
          ],
          "histogram2d": [
           {
            "colorbar": {
             "outlinewidth": 0,
             "ticks": ""
            },
            "colorscale": [
             [
              0,
              "#0d0887"
             ],
             [
              0.1111111111111111,
              "#46039f"
             ],
             [
              0.2222222222222222,
              "#7201a8"
             ],
             [
              0.3333333333333333,
              "#9c179e"
             ],
             [
              0.4444444444444444,
              "#bd3786"
             ],
             [
              0.5555555555555556,
              "#d8576b"
             ],
             [
              0.6666666666666666,
              "#ed7953"
             ],
             [
              0.7777777777777778,
              "#fb9f3a"
             ],
             [
              0.8888888888888888,
              "#fdca26"
             ],
             [
              1,
              "#f0f921"
             ]
            ],
            "type": "histogram2d"
           }
          ],
          "histogram2dcontour": [
           {
            "colorbar": {
             "outlinewidth": 0,
             "ticks": ""
            },
            "colorscale": [
             [
              0,
              "#0d0887"
             ],
             [
              0.1111111111111111,
              "#46039f"
             ],
             [
              0.2222222222222222,
              "#7201a8"
             ],
             [
              0.3333333333333333,
              "#9c179e"
             ],
             [
              0.4444444444444444,
              "#bd3786"
             ],
             [
              0.5555555555555556,
              "#d8576b"
             ],
             [
              0.6666666666666666,
              "#ed7953"
             ],
             [
              0.7777777777777778,
              "#fb9f3a"
             ],
             [
              0.8888888888888888,
              "#fdca26"
             ],
             [
              1,
              "#f0f921"
             ]
            ],
            "type": "histogram2dcontour"
           }
          ],
          "mesh3d": [
           {
            "colorbar": {
             "outlinewidth": 0,
             "ticks": ""
            },
            "type": "mesh3d"
           }
          ],
          "parcoords": [
           {
            "line": {
             "colorbar": {
              "outlinewidth": 0,
              "ticks": ""
             }
            },
            "type": "parcoords"
           }
          ],
          "pie": [
           {
            "automargin": true,
            "type": "pie"
           }
          ],
          "scatter": [
           {
            "fillpattern": {
             "fillmode": "overlay",
             "size": 10,
             "solidity": 0.2
            },
            "type": "scatter"
           }
          ],
          "scatter3d": [
           {
            "line": {
             "colorbar": {
              "outlinewidth": 0,
              "ticks": ""
             }
            },
            "marker": {
             "colorbar": {
              "outlinewidth": 0,
              "ticks": ""
             }
            },
            "type": "scatter3d"
           }
          ],
          "scattercarpet": [
           {
            "marker": {
             "colorbar": {
              "outlinewidth": 0,
              "ticks": ""
             }
            },
            "type": "scattercarpet"
           }
          ],
          "scattergeo": [
           {
            "marker": {
             "colorbar": {
              "outlinewidth": 0,
              "ticks": ""
             }
            },
            "type": "scattergeo"
           }
          ],
          "scattergl": [
           {
            "marker": {
             "colorbar": {
              "outlinewidth": 0,
              "ticks": ""
             }
            },
            "type": "scattergl"
           }
          ],
          "scattermap": [
           {
            "marker": {
             "colorbar": {
              "outlinewidth": 0,
              "ticks": ""
             }
            },
            "type": "scattermap"
           }
          ],
          "scattermapbox": [
           {
            "marker": {
             "colorbar": {
              "outlinewidth": 0,
              "ticks": ""
             }
            },
            "type": "scattermapbox"
           }
          ],
          "scatterpolar": [
           {
            "marker": {
             "colorbar": {
              "outlinewidth": 0,
              "ticks": ""
             }
            },
            "type": "scatterpolar"
           }
          ],
          "scatterpolargl": [
           {
            "marker": {
             "colorbar": {
              "outlinewidth": 0,
              "ticks": ""
             }
            },
            "type": "scatterpolargl"
           }
          ],
          "scatterternary": [
           {
            "marker": {
             "colorbar": {
              "outlinewidth": 0,
              "ticks": ""
             }
            },
            "type": "scatterternary"
           }
          ],
          "surface": [
           {
            "colorbar": {
             "outlinewidth": 0,
             "ticks": ""
            },
            "colorscale": [
             [
              0,
              "#0d0887"
             ],
             [
              0.1111111111111111,
              "#46039f"
             ],
             [
              0.2222222222222222,
              "#7201a8"
             ],
             [
              0.3333333333333333,
              "#9c179e"
             ],
             [
              0.4444444444444444,
              "#bd3786"
             ],
             [
              0.5555555555555556,
              "#d8576b"
             ],
             [
              0.6666666666666666,
              "#ed7953"
             ],
             [
              0.7777777777777778,
              "#fb9f3a"
             ],
             [
              0.8888888888888888,
              "#fdca26"
             ],
             [
              1,
              "#f0f921"
             ]
            ],
            "type": "surface"
           }
          ],
          "table": [
           {
            "cells": {
             "fill": {
              "color": "#EBF0F8"
             },
             "line": {
              "color": "white"
             }
            },
            "header": {
             "fill": {
              "color": "#C8D4E3"
             },
             "line": {
              "color": "white"
             }
            },
            "type": "table"
           }
          ]
         },
         "layout": {
          "annotationdefaults": {
           "arrowcolor": "#2a3f5f",
           "arrowhead": 0,
           "arrowwidth": 1
          },
          "autotypenumbers": "strict",
          "coloraxis": {
           "colorbar": {
            "outlinewidth": 0,
            "ticks": ""
           }
          },
          "colorscale": {
           "diverging": [
            [
             0,
             "#8e0152"
            ],
            [
             0.1,
             "#c51b7d"
            ],
            [
             0.2,
             "#de77ae"
            ],
            [
             0.3,
             "#f1b6da"
            ],
            [
             0.4,
             "#fde0ef"
            ],
            [
             0.5,
             "#f7f7f7"
            ],
            [
             0.6,
             "#e6f5d0"
            ],
            [
             0.7,
             "#b8e186"
            ],
            [
             0.8,
             "#7fbc41"
            ],
            [
             0.9,
             "#4d9221"
            ],
            [
             1,
             "#276419"
            ]
           ],
           "sequential": [
            [
             0,
             "#0d0887"
            ],
            [
             0.1111111111111111,
             "#46039f"
            ],
            [
             0.2222222222222222,
             "#7201a8"
            ],
            [
             0.3333333333333333,
             "#9c179e"
            ],
            [
             0.4444444444444444,
             "#bd3786"
            ],
            [
             0.5555555555555556,
             "#d8576b"
            ],
            [
             0.6666666666666666,
             "#ed7953"
            ],
            [
             0.7777777777777778,
             "#fb9f3a"
            ],
            [
             0.8888888888888888,
             "#fdca26"
            ],
            [
             1,
             "#f0f921"
            ]
           ],
           "sequentialminus": [
            [
             0,
             "#0d0887"
            ],
            [
             0.1111111111111111,
             "#46039f"
            ],
            [
             0.2222222222222222,
             "#7201a8"
            ],
            [
             0.3333333333333333,
             "#9c179e"
            ],
            [
             0.4444444444444444,
             "#bd3786"
            ],
            [
             0.5555555555555556,
             "#d8576b"
            ],
            [
             0.6666666666666666,
             "#ed7953"
            ],
            [
             0.7777777777777778,
             "#fb9f3a"
            ],
            [
             0.8888888888888888,
             "#fdca26"
            ],
            [
             1,
             "#f0f921"
            ]
           ]
          },
          "colorway": [
           "#636efa",
           "#EF553B",
           "#00cc96",
           "#ab63fa",
           "#FFA15A",
           "#19d3f3",
           "#FF6692",
           "#B6E880",
           "#FF97FF",
           "#FECB52"
          ],
          "font": {
           "color": "#2a3f5f"
          },
          "geo": {
           "bgcolor": "white",
           "lakecolor": "white",
           "landcolor": "#E5ECF6",
           "showlakes": true,
           "showland": true,
           "subunitcolor": "white"
          },
          "hoverlabel": {
           "align": "left"
          },
          "hovermode": "closest",
          "mapbox": {
           "style": "light"
          },
          "paper_bgcolor": "white",
          "plot_bgcolor": "#E5ECF6",
          "polar": {
           "angularaxis": {
            "gridcolor": "white",
            "linecolor": "white",
            "ticks": ""
           },
           "bgcolor": "#E5ECF6",
           "radialaxis": {
            "gridcolor": "white",
            "linecolor": "white",
            "ticks": ""
           }
          },
          "scene": {
           "xaxis": {
            "backgroundcolor": "#E5ECF6",
            "gridcolor": "white",
            "gridwidth": 2,
            "linecolor": "white",
            "showbackground": true,
            "ticks": "",
            "zerolinecolor": "white"
           },
           "yaxis": {
            "backgroundcolor": "#E5ECF6",
            "gridcolor": "white",
            "gridwidth": 2,
            "linecolor": "white",
            "showbackground": true,
            "ticks": "",
            "zerolinecolor": "white"
           },
           "zaxis": {
            "backgroundcolor": "#E5ECF6",
            "gridcolor": "white",
            "gridwidth": 2,
            "linecolor": "white",
            "showbackground": true,
            "ticks": "",
            "zerolinecolor": "white"
           }
          },
          "shapedefaults": {
           "line": {
            "color": "#2a3f5f"
           }
          },
          "ternary": {
           "aaxis": {
            "gridcolor": "white",
            "linecolor": "white",
            "ticks": ""
           },
           "baxis": {
            "gridcolor": "white",
            "linecolor": "white",
            "ticks": ""
           },
           "bgcolor": "#E5ECF6",
           "caxis": {
            "gridcolor": "white",
            "linecolor": "white",
            "ticks": ""
           }
          },
          "title": {
           "x": 0.05
          },
          "xaxis": {
           "automargin": true,
           "gridcolor": "white",
           "linecolor": "white",
           "ticks": "",
           "title": {
            "standoff": 15
           },
           "zerolinecolor": "white",
           "zerolinewidth": 2
          },
          "yaxis": {
           "automargin": true,
           "gridcolor": "white",
           "linecolor": "white",
           "ticks": "",
           "title": {
            "standoff": 15
           },
           "zerolinecolor": "white",
           "zerolinewidth": 2
          }
         }
        },
        "title": {
         "text": "Selection Ratio vs. Inclusion Ratio (strict evaluator)",
         "x": 0.5,
         "xanchor": "center"
        },
        "width": 900,
        "xaxis": {
         "range": [
          0,
          1
         ],
         "title": {
          "text": "Inclusion Ratio"
         }
        },
        "yaxis": {
         "range": [
          0,
          1
         ],
         "title": {
          "text": "Selection Ratio"
         }
        }
       }
      }
     },
     "metadata": {},
     "output_type": "display_data"
    },
    {
     "data": {
      "application/vnd.plotly.v1+json": {
       "config": {
        "plotlyServerURL": "https://plot.ly"
       },
       "data": [
        {
         "line": {
          "color": "blue",
          "dash": "solid"
         },
         "marker": {
          "size": 8,
          "symbol": "circle"
         },
         "mode": "lines+markers",
         "name": "baseline3-human",
         "type": "scatter",
         "x": [
          0.16666666666666666,
          0.5,
          0.8333333333333333
         ],
         "y": {
          "bdata": "TTDeyj6H1D+XlpaWlpbmP73pTW960+M/",
          "dtype": "f8"
         }
        },
        {
         "line": {
          "color": "red",
          "dash": "dot"
         },
         "marker": {
          "size": 8,
          "symbol": "square"
         },
         "mode": "lines+markers",
         "name": "baseline3-strict",
         "type": "scatter",
         "x": [
          0.16666666666666666,
          0.5,
          0.8333333333333333
         ],
         "y": {
          "bdata": "8lb2OaQmyD/i4eHh4eHhP4YsZCELWeA/",
          "dtype": "f8"
         }
        }
       ],
       "layout": {
        "height": 500,
        "legend": {
         "title": {
          "text": "Legend"
         },
         "x": 0.01,
         "y": 0.99
        },
        "template": {
         "data": {
          "bar": [
           {
            "error_x": {
             "color": "#2a3f5f"
            },
            "error_y": {
             "color": "#2a3f5f"
            },
            "marker": {
             "line": {
              "color": "#E5ECF6",
              "width": 0.5
             },
             "pattern": {
              "fillmode": "overlay",
              "size": 10,
              "solidity": 0.2
             }
            },
            "type": "bar"
           }
          ],
          "barpolar": [
           {
            "marker": {
             "line": {
              "color": "#E5ECF6",
              "width": 0.5
             },
             "pattern": {
              "fillmode": "overlay",
              "size": 10,
              "solidity": 0.2
             }
            },
            "type": "barpolar"
           }
          ],
          "carpet": [
           {
            "aaxis": {
             "endlinecolor": "#2a3f5f",
             "gridcolor": "white",
             "linecolor": "white",
             "minorgridcolor": "white",
             "startlinecolor": "#2a3f5f"
            },
            "baxis": {
             "endlinecolor": "#2a3f5f",
             "gridcolor": "white",
             "linecolor": "white",
             "minorgridcolor": "white",
             "startlinecolor": "#2a3f5f"
            },
            "type": "carpet"
           }
          ],
          "choropleth": [
           {
            "colorbar": {
             "outlinewidth": 0,
             "ticks": ""
            },
            "type": "choropleth"
           }
          ],
          "contour": [
           {
            "colorbar": {
             "outlinewidth": 0,
             "ticks": ""
            },
            "colorscale": [
             [
              0,
              "#0d0887"
             ],
             [
              0.1111111111111111,
              "#46039f"
             ],
             [
              0.2222222222222222,
              "#7201a8"
             ],
             [
              0.3333333333333333,
              "#9c179e"
             ],
             [
              0.4444444444444444,
              "#bd3786"
             ],
             [
              0.5555555555555556,
              "#d8576b"
             ],
             [
              0.6666666666666666,
              "#ed7953"
             ],
             [
              0.7777777777777778,
              "#fb9f3a"
             ],
             [
              0.8888888888888888,
              "#fdca26"
             ],
             [
              1,
              "#f0f921"
             ]
            ],
            "type": "contour"
           }
          ],
          "contourcarpet": [
           {
            "colorbar": {
             "outlinewidth": 0,
             "ticks": ""
            },
            "type": "contourcarpet"
           }
          ],
          "heatmap": [
           {
            "colorbar": {
             "outlinewidth": 0,
             "ticks": ""
            },
            "colorscale": [
             [
              0,
              "#0d0887"
             ],
             [
              0.1111111111111111,
              "#46039f"
             ],
             [
              0.2222222222222222,
              "#7201a8"
             ],
             [
              0.3333333333333333,
              "#9c179e"
             ],
             [
              0.4444444444444444,
              "#bd3786"
             ],
             [
              0.5555555555555556,
              "#d8576b"
             ],
             [
              0.6666666666666666,
              "#ed7953"
             ],
             [
              0.7777777777777778,
              "#fb9f3a"
             ],
             [
              0.8888888888888888,
              "#fdca26"
             ],
             [
              1,
              "#f0f921"
             ]
            ],
            "type": "heatmap"
           }
          ],
          "histogram": [
           {
            "marker": {
             "pattern": {
              "fillmode": "overlay",
              "size": 10,
              "solidity": 0.2
             }
            },
            "type": "histogram"
           }
          ],
          "histogram2d": [
           {
            "colorbar": {
             "outlinewidth": 0,
             "ticks": ""
            },
            "colorscale": [
             [
              0,
              "#0d0887"
             ],
             [
              0.1111111111111111,
              "#46039f"
             ],
             [
              0.2222222222222222,
              "#7201a8"
             ],
             [
              0.3333333333333333,
              "#9c179e"
             ],
             [
              0.4444444444444444,
              "#bd3786"
             ],
             [
              0.5555555555555556,
              "#d8576b"
             ],
             [
              0.6666666666666666,
              "#ed7953"
             ],
             [
              0.7777777777777778,
              "#fb9f3a"
             ],
             [
              0.8888888888888888,
              "#fdca26"
             ],
             [
              1,
              "#f0f921"
             ]
            ],
            "type": "histogram2d"
           }
          ],
          "histogram2dcontour": [
           {
            "colorbar": {
             "outlinewidth": 0,
             "ticks": ""
            },
            "colorscale": [
             [
              0,
              "#0d0887"
             ],
             [
              0.1111111111111111,
              "#46039f"
             ],
             [
              0.2222222222222222,
              "#7201a8"
             ],
             [
              0.3333333333333333,
              "#9c179e"
             ],
             [
              0.4444444444444444,
              "#bd3786"
             ],
             [
              0.5555555555555556,
              "#d8576b"
             ],
             [
              0.6666666666666666,
              "#ed7953"
             ],
             [
              0.7777777777777778,
              "#fb9f3a"
             ],
             [
              0.8888888888888888,
              "#fdca26"
             ],
             [
              1,
              "#f0f921"
             ]
            ],
            "type": "histogram2dcontour"
           }
          ],
          "mesh3d": [
           {
            "colorbar": {
             "outlinewidth": 0,
             "ticks": ""
            },
            "type": "mesh3d"
           }
          ],
          "parcoords": [
           {
            "line": {
             "colorbar": {
              "outlinewidth": 0,
              "ticks": ""
             }
            },
            "type": "parcoords"
           }
          ],
          "pie": [
           {
            "automargin": true,
            "type": "pie"
           }
          ],
          "scatter": [
           {
            "fillpattern": {
             "fillmode": "overlay",
             "size": 10,
             "solidity": 0.2
            },
            "type": "scatter"
           }
          ],
          "scatter3d": [
           {
            "line": {
             "colorbar": {
              "outlinewidth": 0,
              "ticks": ""
             }
            },
            "marker": {
             "colorbar": {
              "outlinewidth": 0,
              "ticks": ""
             }
            },
            "type": "scatter3d"
           }
          ],
          "scattercarpet": [
           {
            "marker": {
             "colorbar": {
              "outlinewidth": 0,
              "ticks": ""
             }
            },
            "type": "scattercarpet"
           }
          ],
          "scattergeo": [
           {
            "marker": {
             "colorbar": {
              "outlinewidth": 0,
              "ticks": ""
             }
            },
            "type": "scattergeo"
           }
          ],
          "scattergl": [
           {
            "marker": {
             "colorbar": {
              "outlinewidth": 0,
              "ticks": ""
             }
            },
            "type": "scattergl"
           }
          ],
          "scattermap": [
           {
            "marker": {
             "colorbar": {
              "outlinewidth": 0,
              "ticks": ""
             }
            },
            "type": "scattermap"
           }
          ],
          "scattermapbox": [
           {
            "marker": {
             "colorbar": {
              "outlinewidth": 0,
              "ticks": ""
             }
            },
            "type": "scattermapbox"
           }
          ],
          "scatterpolar": [
           {
            "marker": {
             "colorbar": {
              "outlinewidth": 0,
              "ticks": ""
             }
            },
            "type": "scatterpolar"
           }
          ],
          "scatterpolargl": [
           {
            "marker": {
             "colorbar": {
              "outlinewidth": 0,
              "ticks": ""
             }
            },
            "type": "scatterpolargl"
           }
          ],
          "scatterternary": [
           {
            "marker": {
             "colorbar": {
              "outlinewidth": 0,
              "ticks": ""
             }
            },
            "type": "scatterternary"
           }
          ],
          "surface": [
           {
            "colorbar": {
             "outlinewidth": 0,
             "ticks": ""
            },
            "colorscale": [
             [
              0,
              "#0d0887"
             ],
             [
              0.1111111111111111,
              "#46039f"
             ],
             [
              0.2222222222222222,
              "#7201a8"
             ],
             [
              0.3333333333333333,
              "#9c179e"
             ],
             [
              0.4444444444444444,
              "#bd3786"
             ],
             [
              0.5555555555555556,
              "#d8576b"
             ],
             [
              0.6666666666666666,
              "#ed7953"
             ],
             [
              0.7777777777777778,
              "#fb9f3a"
             ],
             [
              0.8888888888888888,
              "#fdca26"
             ],
             [
              1,
              "#f0f921"
             ]
            ],
            "type": "surface"
           }
          ],
          "table": [
           {
            "cells": {
             "fill": {
              "color": "#EBF0F8"
             },
             "line": {
              "color": "white"
             }
            },
            "header": {
             "fill": {
              "color": "#C8D4E3"
             },
             "line": {
              "color": "white"
             }
            },
            "type": "table"
           }
          ]
         },
         "layout": {
          "annotationdefaults": {
           "arrowcolor": "#2a3f5f",
           "arrowhead": 0,
           "arrowwidth": 1
          },
          "autotypenumbers": "strict",
          "coloraxis": {
           "colorbar": {
            "outlinewidth": 0,
            "ticks": ""
           }
          },
          "colorscale": {
           "diverging": [
            [
             0,
             "#8e0152"
            ],
            [
             0.1,
             "#c51b7d"
            ],
            [
             0.2,
             "#de77ae"
            ],
            [
             0.3,
             "#f1b6da"
            ],
            [
             0.4,
             "#fde0ef"
            ],
            [
             0.5,
             "#f7f7f7"
            ],
            [
             0.6,
             "#e6f5d0"
            ],
            [
             0.7,
             "#b8e186"
            ],
            [
             0.8,
             "#7fbc41"
            ],
            [
             0.9,
             "#4d9221"
            ],
            [
             1,
             "#276419"
            ]
           ],
           "sequential": [
            [
             0,
             "#0d0887"
            ],
            [
             0.1111111111111111,
             "#46039f"
            ],
            [
             0.2222222222222222,
             "#7201a8"
            ],
            [
             0.3333333333333333,
             "#9c179e"
            ],
            [
             0.4444444444444444,
             "#bd3786"
            ],
            [
             0.5555555555555556,
             "#d8576b"
            ],
            [
             0.6666666666666666,
             "#ed7953"
            ],
            [
             0.7777777777777778,
             "#fb9f3a"
            ],
            [
             0.8888888888888888,
             "#fdca26"
            ],
            [
             1,
             "#f0f921"
            ]
           ],
           "sequentialminus": [
            [
             0,
             "#0d0887"
            ],
            [
             0.1111111111111111,
             "#46039f"
            ],
            [
             0.2222222222222222,
             "#7201a8"
            ],
            [
             0.3333333333333333,
             "#9c179e"
            ],
            [
             0.4444444444444444,
             "#bd3786"
            ],
            [
             0.5555555555555556,
             "#d8576b"
            ],
            [
             0.6666666666666666,
             "#ed7953"
            ],
            [
             0.7777777777777778,
             "#fb9f3a"
            ],
            [
             0.8888888888888888,
             "#fdca26"
            ],
            [
             1,
             "#f0f921"
            ]
           ]
          },
          "colorway": [
           "#636efa",
           "#EF553B",
           "#00cc96",
           "#ab63fa",
           "#FFA15A",
           "#19d3f3",
           "#FF6692",
           "#B6E880",
           "#FF97FF",
           "#FECB52"
          ],
          "font": {
           "color": "#2a3f5f"
          },
          "geo": {
           "bgcolor": "white",
           "lakecolor": "white",
           "landcolor": "#E5ECF6",
           "showlakes": true,
           "showland": true,
           "subunitcolor": "white"
          },
          "hoverlabel": {
           "align": "left"
          },
          "hovermode": "closest",
          "mapbox": {
           "style": "light"
          },
          "paper_bgcolor": "white",
          "plot_bgcolor": "#E5ECF6",
          "polar": {
           "angularaxis": {
            "gridcolor": "white",
            "linecolor": "white",
            "ticks": ""
           },
           "bgcolor": "#E5ECF6",
           "radialaxis": {
            "gridcolor": "white",
            "linecolor": "white",
            "ticks": ""
           }
          },
          "scene": {
           "xaxis": {
            "backgroundcolor": "#E5ECF6",
            "gridcolor": "white",
            "gridwidth": 2,
            "linecolor": "white",
            "showbackground": true,
            "ticks": "",
            "zerolinecolor": "white"
           },
           "yaxis": {
            "backgroundcolor": "#E5ECF6",
            "gridcolor": "white",
            "gridwidth": 2,
            "linecolor": "white",
            "showbackground": true,
            "ticks": "",
            "zerolinecolor": "white"
           },
           "zaxis": {
            "backgroundcolor": "#E5ECF6",
            "gridcolor": "white",
            "gridwidth": 2,
            "linecolor": "white",
            "showbackground": true,
            "ticks": "",
            "zerolinecolor": "white"
           }
          },
          "shapedefaults": {
           "line": {
            "color": "#2a3f5f"
           }
          },
          "ternary": {
           "aaxis": {
            "gridcolor": "white",
            "linecolor": "white",
            "ticks": ""
           },
           "baxis": {
            "gridcolor": "white",
            "linecolor": "white",
            "ticks": ""
           },
           "bgcolor": "#E5ECF6",
           "caxis": {
            "gridcolor": "white",
            "linecolor": "white",
            "ticks": ""
           }
          },
          "title": {
           "x": 0.05
          },
          "xaxis": {
           "automargin": true,
           "gridcolor": "white",
           "linecolor": "white",
           "ticks": "",
           "title": {
            "standoff": 15
           },
           "zerolinecolor": "white",
           "zerolinewidth": 2
          },
          "yaxis": {
           "automargin": true,
           "gridcolor": "white",
           "linecolor": "white",
           "ticks": "",
           "title": {
            "standoff": 15
           },
           "zerolinecolor": "white",
           "zerolinewidth": 2
          }
         }
        },
        "title": {
         "text": "Selection Ratio vs. Inclusion Ratio (strict evaluator)",
         "x": 0.5,
         "xanchor": "center"
        },
        "width": 900,
        "xaxis": {
         "range": [
          0,
          1
         ],
         "title": {
          "text": "Inclusion Ratio"
         }
        },
        "yaxis": {
         "range": [
          0,
          1
         ],
         "title": {
          "text": "Selection Ratio"
         }
        }
       }
      }
     },
     "metadata": {},
     "output_type": "display_data"
    },
    {
     "name": "stdout",
     "output_type": "stream",
     "text": [
      "=================================================\n",
      "SIMILARITY vs INCLUSION\n",
      "=================================================\n"
     ]
    },
    {
     "ename": "NameError",
     "evalue": "name 'plot_similarity_vs_inclusion' is not defined",
     "output_type": "error",
     "traceback": [
      "\u001b[0;31m---------------------------------------------------------------------------\u001b[0m",
      "\u001b[0;31mNameError\u001b[0m                                 Traceback (most recent call last)",
      "Cell \u001b[0;32mIn[28], line 43\u001b[0m\n\u001b[1;32m     40\u001b[0m \u001b[38;5;28mprint\u001b[39m(\u001b[38;5;124m\"\u001b[39m\u001b[38;5;124mSIMILARITY vs INCLUSION\u001b[39m\u001b[38;5;124m\"\u001b[39m)\n\u001b[1;32m     41\u001b[0m \u001b[38;5;28mprint\u001b[39m(\u001b[38;5;124m\"\u001b[39m\u001b[38;5;124m=================================================\u001b[39m\u001b[38;5;124m\"\u001b[39m)\n\u001b[0;32m---> 43\u001b[0m \u001b[43mplot_similarity_vs_inclusion\u001b[49m(\n\u001b[1;32m     44\u001b[0m     [\n\u001b[1;32m     45\u001b[0m     (efil3_human_rag, \u001b[38;5;124m\"\u001b[39m\u001b[38;5;124mours-human\u001b[39m\u001b[38;5;124m\"\u001b[39m),\n\u001b[1;32m     46\u001b[0m     (efil3_human_norag, \u001b[38;5;124m\"\u001b[39m\u001b[38;5;124mbaseline1-human\u001b[39m\u001b[38;5;124m\"\u001b[39m),\n\u001b[1;32m     47\u001b[0m     ],\n\u001b[1;32m     48\u001b[0m     title_str\u001b[38;5;241m=\u001b[39m\u001b[38;5;124m\"\u001b[39m\u001b[38;5;124mInclusion Ratio vs Taxonomy Weighted Similarity\u001b[39m\u001b[38;5;124m\"\u001b[39m,\n\u001b[1;32m     49\u001b[0m     bins\u001b[38;5;241m=\u001b[39m\u001b[38;5;241m3\u001b[39m, column_name\u001b[38;5;241m=\u001b[39m\u001b[38;5;124m'\u001b[39m\u001b[38;5;124msim_tax3\u001b[39m\u001b[38;5;124m'\u001b[39m\n\u001b[1;32m     50\u001b[0m     )\n\u001b[1;32m     52\u001b[0m plot_similarity_vs_inclusion(\n\u001b[1;32m     53\u001b[0m     [\n\u001b[1;32m     54\u001b[0m     (efil3_human_rag, \u001b[38;5;124m\"\u001b[39m\u001b[38;5;124mours-human\u001b[39m\u001b[38;5;124m\"\u001b[39m),\n\u001b[0;32m   (...)\u001b[0m\n\u001b[1;32m     59\u001b[0m     bins\u001b[38;5;241m=\u001b[39m\u001b[38;5;241m3\u001b[39m, column_name\u001b[38;5;241m=\u001b[39m\u001b[38;5;124m'\u001b[39m\u001b[38;5;124msim_seq3\u001b[39m\u001b[38;5;124m'\u001b[39m\n\u001b[1;32m     60\u001b[0m     )\n\u001b[1;32m     62\u001b[0m plot_similarity_vs_inclusion(\n\u001b[1;32m     63\u001b[0m     [\n\u001b[1;32m     64\u001b[0m     (efil3_both_rag, \u001b[38;5;124m\"\u001b[39m\u001b[38;5;124mours-strict\u001b[39m\u001b[38;5;124m\"\u001b[39m),\n\u001b[0;32m   (...)\u001b[0m\n\u001b[1;32m     69\u001b[0m     bins\u001b[38;5;241m=\u001b[39m\u001b[38;5;241m3\u001b[39m, column_name\u001b[38;5;241m=\u001b[39m\u001b[38;5;124m'\u001b[39m\u001b[38;5;124msim_seq3\u001b[39m\u001b[38;5;124m'\u001b[39m\n\u001b[1;32m     70\u001b[0m     )\n",
      "\u001b[0;31mNameError\u001b[0m: name 'plot_similarity_vs_inclusion' is not defined"
     ]
    }
   ],
   "source": [
    "\n",
    "#plot\n",
    "print(df_eval_rag.shape[0])\n",
    "#Select한 ratio가 높은게 좋은게 아니라, 정답중에 얼마나 골랐느냐와 고른 것중에 정답이 얼마나 있었는가가 더 중요하다.\n",
    "plot_multiple_selection_vs_inclusion([\n",
    "    (df_eval_rag, efil3_human_rag2, \"ours-humaneval\"),\n",
    "    (df_eval_rag, efil3_both_rag2, \"ours-strict\"),\n",
    "    (df_eval_norag, efil3_human_norag2, \"norag-humaneval\"),\n",
    "    (df_eval_norag, efil3_both_norag2, \"norag-strict\"),\n",
    "], bins=3, title_str='strict evaluator')\n",
    "\n",
    "plot_multiple_selection_vs_inclusion([\n",
    "    (df_eval_rag, efil3_human_rag, \"ours-humaneval\"),\n",
    "    (df_eval_rag, efil3_both_rag, \"ours-strict\"),\n",
    "    (df_eval_norag, efil3_human_norag, \"norag-humaneval\"),\n",
    "    (df_eval_norag, efil3_both_norag, \"norag-strict\"),\n",
    "], bins=3, title_str='strict evaluator')\n",
    "\n",
    "plot_multiple_selection_vs_inclusion([\n",
    "    (df_eval_rag, efil3_human_rag, \"ours-human\"),\n",
    "    (df_eval_norag, efil3_both_rag, \"ours-strict\"),\n",
    "], bins=3, title_str='strict evaluator')\n",
    "\n",
    "plot_multiple_selection_vs_inclusion([\n",
    "    (df_eval_rag, efil3_human_norag, \"baseline1-human\"),\n",
    "    (df_eval_norag, efil3_both_norag, \"baseline1-strict\"),\n",
    "], bins=3, title_str='strict evaluator')\n",
    "\n",
    "plot_multiple_selection_vs_inclusion([\n",
    "    (df_eval_raggoal, efil3_human_raggoal, \"baseline2-human\"),\n",
    "    (df_eval_raggoal, efil3_raggoal, \"baseline2-strict\"),\n",
    "], bins=3, title_str='strict evaluator')\n",
    "\n",
    "plot_multiple_selection_vs_inclusion([\n",
    "    (df_eval_noraggoal, efil3_human_noraggoal, \"baseline3-human\"),\n",
    "    (df_eval_noraggoal, efil3_noraggoal, \"baseline3-strict\"),\n",
    "], bins=3, title_str='strict evaluator')\n",
    "\n",
    "\n",
    "print(\"=================================================\")\n",
    "print(\"SIMILARITY vs INCLUSION\")\n",
    "print(\"=================================================\")\n",
    "\n",
    "plot_similarity_vs_inclusion(\n",
    "    [\n",
    "    (efil3_human_rag, \"ours-human\"),\n",
    "    (efil3_human_norag, \"baseline1-human\"),\n",
    "    ],\n",
    "    title_str=\"Inclusion Ratio vs Taxonomy Weighted Similarity\",\n",
    "    bins=3, column_name='sim_tax3'\n",
    "    )\n",
    "\n",
    "plot_similarity_vs_inclusion(\n",
    "    [\n",
    "    (efil3_human_rag, \"ours-human\"),\n",
    "    (efil3_human_norag, \"baseline1-human\"),\n",
    "    (efil3_human_raggoal, \"baseline2-human\")\n",
    "    ],\n",
    "    title_str=\"Inclusion Ratio vs Sequence DTW\",\n",
    "    bins=3, column_name='sim_seq3'\n",
    "    )\n",
    "\n",
    "plot_similarity_vs_inclusion(\n",
    "    [\n",
    "    (efil3_both_rag, \"ours-strict\"),\n",
    "    (efil3_both_norag, \"baseline1-strict\"),\n",
    "    (efil3_raggoal, \"baseline2-strict\")\n",
    "    ],\n",
    "    title_str=\"Inclusion Ratio vs Sequence DTW Similarity\",\n",
    "    bins=3, column_name='sim_seq3'\n",
    "    )\n",
    "    "
   ]
  },
  {
   "cell_type": "code",
   "execution_count": 29,
   "id": "024af0a8",
   "metadata": {},
   "outputs": [
    {
     "name": "stdout",
     "output_type": "stream",
     "text": [
      "    idx           baseline                            source_uid  \\\n",
      "13   13  /output-rag-0602/  1a894d3c-b3ef-448a-a3de-2b38677cef36   \n",
      "15   15  /output-rag-0602/  1dc85adb-fbdd-4275-b9cf-42976acb4d14   \n",
      "16   16  /output-rag-0602/  1dc85adb-fbdd-4275-b9cf-42976acb4d14   \n",
      "24   24  /output-rag-0602/  2978ddbc-cdc9-4bfa-9a7c-4bf056904010   \n",
      "25   25  /output-rag-0602/  2978ddbc-cdc9-4bfa-9a7c-4bf056904010   \n",
      "26   26  /output-rag-0602/  2978ddbc-cdc9-4bfa-9a7c-4bf056904010   \n",
      "29   29  /output-rag-0602/  29e00040-6e0f-4f0e-816d-1ac97c1e5485   \n",
      "30   30  /output-rag-0602/  2ba0becb-58c2-43a1-97bb-7e153a34eb47   \n",
      "31   31  /output-rag-0602/  2ba0becb-58c2-43a1-97bb-7e153a34eb47   \n",
      "35   35  /output-rag-0602/  2bc7d6fa-a02e-4367-b316-d6b4e8a2ce3f   \n",
      "36   36  /output-rag-0602/  2c27b5f1-4af6-49ad-a43c-3efb0c150868   \n",
      "37   37  /output-rag-0602/  2c27b5f1-4af6-49ad-a43c-3efb0c150868   \n",
      "38   38  /output-rag-0602/  2c27b5f1-4af6-49ad-a43c-3efb0c150868   \n",
      "42   42  /output-rag-0602/  2f46d1e6-2a85-4d46-b955-10c2eded661c   \n",
      "43   43  /output-rag-0602/  2f46d1e6-2a85-4d46-b955-10c2eded661c   \n",
      "44   44  /output-rag-0602/  2f46d1e6-2a85-4d46-b955-10c2eded661c   \n",
      "60   60  /output-rag-0602/  38a7b760-56f9-4565-8b70-f8dad5768ace   \n",
      "61   61  /output-rag-0602/  38a7b760-56f9-4565-8b70-f8dad5768ace   \n",
      "62   62  /output-rag-0602/  38a7b760-56f9-4565-8b70-f8dad5768ace   \n",
      "64   64  /output-rag-0602/  3ec3eab7-842d-409d-8866-42ddcbd24cd9   \n",
      "\n",
      "                              target_uid  \\\n",
      "13  2f46d1e6-2a85-4d46-b955-10c2eded661c   \n",
      "15  31d6fe77-da70-42da-8f47-66bb79b9285b   \n",
      "16  31d6fe77-da70-42da-8f47-66bb79b9285b   \n",
      "24  35080724-6604-401c-8b06-19b7cece3d45   \n",
      "25  35080724-6604-401c-8b06-19b7cece3d45   \n",
      "26  35080724-6604-401c-8b06-19b7cece3d45   \n",
      "29  3728f856-0d47-4614-824f-37b6dda8e357   \n",
      "30  38a7b760-56f9-4565-8b70-f8dad5768ace   \n",
      "31  38a7b760-56f9-4565-8b70-f8dad5768ace   \n",
      "35  3ec3eab7-842d-409d-8866-42ddcbd24cd9   \n",
      "36  46e07357-6946-4ff0-ba36-ae11840bdc39   \n",
      "37  46e07357-6946-4ff0-ba36-ae11840bdc39   \n",
      "38  46e07357-6946-4ff0-ba36-ae11840bdc39   \n",
      "42  487d752c-6e22-43e3-9c08-627bc2a6c6d4   \n",
      "43  487d752c-6e22-43e3-9c08-627bc2a6c6d4   \n",
      "44  487d752c-6e22-43e3-9c08-627bc2a6c6d4   \n",
      "60  5c15607b-96af-4503-84b4-d1745f3a3ae0   \n",
      "61  5c15607b-96af-4503-84b4-d1745f3a3ae0   \n",
      "62  5c15607b-96af-4503-84b4-d1745f3a3ae0   \n",
      "64  5c2e910c-84e0-4042-b5d6-880a731c3e67   \n",
      "\n",
      "                                      target_taxonomy  \\\n",
      "13  {\"main ingredient\": \"dough\", \"liquid\": \"juice\"...   \n",
      "15  {\"main ingredient\": \"pepper\", \"secondary ingre...   \n",
      "16  {\"main ingredient\": \"pepper\", \"secondary ingre...   \n",
      "24  {\"main ingredient\": \"meat\", \"preparation metho...   \n",
      "25  {\"main ingredient\": \"meat\", \"preparation metho...   \n",
      "26  {\"main ingredient\": \"meat\", \"preparation metho...   \n",
      "29  {\"main ingredient\": \"noodles\", \"cooking method...   \n",
      "30  {\"main ingredient\": \"avocado\", \"preparation me...   \n",
      "31  {\"main ingredient\": \"avocado\", \"preparation me...   \n",
      "35  {\"main ingredient\": \"flatbread\", \"preparation ...   \n",
      "36  {\"main ingredient\": \"bell pepper\", \"liquid\": \"...   \n",
      "37  {\"main ingredient\": \"bell pepper\", \"preparatio...   \n",
      "38  {\"main ingredient\": \"bell pepper\", \"preparatio...   \n",
      "42  {\"main ingredient\": \"potato\", \"preparation met...   \n",
      "43  {\"main ingredient\": \"potato\", \"preparation met...   \n",
      "44  {\"main ingredient\": \"potato\", \"preparation met...   \n",
      "60  {\"main ingredient\": \"potato\", \"preparation met...   \n",
      "61  {\"main ingredient\": \"potato\", \"preparation met...   \n",
      "62  {\"main ingredient\": \"potato\", \"cooking method\"...   \n",
      "64  {\"main ingredient\": \"nut\", \"cooking method\": \"...   \n",
      "\n",
      "                                      target_sequence       core_activity  \\\n",
      "13  [\"Place dough in dough mixer.\", \"Pour juice in...       prepare dough   \n",
      "15  [\"Retrieve knife from table\", \"Place pepper on...  cutting vegetables   \n",
      "16  [\"Pick up knife\", \"Pick up pepper\", \"Place pep...      cut vegetables   \n",
      "24  [\"Open refrigerator\", \"Take out meat\", \"Place ...        prepare meat   \n",
      "25  [\"Pick up meat from table\", \"Place meat on tab...        prepare meat   \n",
      "26  [\"Select fresh meat from table or refrigerator...        prepare meat   \n",
      "29  [\"Pick up pot\", \"Place pot on stove\", \"Pick up...        boil noodles   \n",
      "30  [\"Pick up avocado from refrigerator\", \"Place a...     prepare avocado   \n",
      "31  [\"Select avocado\", \"Place avocado on chopping ...     prepare avocado   \n",
      "35  [\"pick up pan\", \"pour oil into pan\", \"place pa...       fry flatbread   \n",
      "36  [\"Open refrigerator\", \"Take out bell pepper\", ...     blending pepper   \n",
      "37  [\"Take bell pepper from fridge\", \"Slice bell p...        blend pepper   \n",
      "38  [\"Pick up bell pepper (33)\", \"Wash bell pepper...        blend pepper   \n",
      "42  [\"pick up knife\", \"pick up potato\", \"place pot...         mash potato   \n",
      "43  [\"take potato from table or refrigerator\", \"pl...         mash potato   \n",
      "44  [\"pick up potato\", \"place potato in pan\", \"pla...         mash potato   \n",
      "60  [\"player picks up potato\", \"player opens pot\",...         bake potato   \n",
      "61  [\"pick up potato\", \"place potato in pan\", \"pla...         bake potato   \n",
      "62  [\"Pick up potato\", \"Place potato in oven\", \"Ba...         bake potato   \n",
      "64  [\"turn nuts in pan\", \"strain oil from fried nu...      frying a snack   \n",
      "\n",
      "    entity_check_tax  entity_check_seq  sim_tax1  ...  sim_seq3  \\\n",
      "13              True              True  0.756019  ...  0.577408   \n",
      "15              True              True  0.888057  ...  0.592011   \n",
      "16              True              True  1.000000  ...  0.643955   \n",
      "24              True              True  0.860114  ...  0.320774   \n",
      "25              True              True  0.861086  ...  0.398810   \n",
      "26              True              True  0.805166  ...  0.392667   \n",
      "29              True              True  0.700000  ...  0.442250   \n",
      "30              True              True  0.700000  ...  0.563784   \n",
      "31              True              True  0.700000  ...  0.558014   \n",
      "35              True              True  0.965988  ...  0.644787   \n",
      "36              True              True  1.000000  ...  0.357595   \n",
      "37              True              True  0.910093  ...  0.511785   \n",
      "38              True              True  0.957583  ...  0.474869   \n",
      "42              True              True  0.715320  ...  0.465193   \n",
      "43              True              True  0.842892  ...  0.438480   \n",
      "44              True              True  0.790673  ...  0.472470   \n",
      "60              True              True  0.796970  ...  0.414778   \n",
      "61              True              True  0.845309  ...  0.549338   \n",
      "62              True              True  0.900000  ...  0.685608   \n",
      "64              True              True  0.568289  ...  0.621887   \n",
      "\n",
      "    core_check_tax  core_check_seq  human_check_tax  human_check_seq  \\\n",
      "13            True            True             True             True   \n",
      "15            True            True             True             True   \n",
      "16            True            True             True             True   \n",
      "24            True            True             True             True   \n",
      "25            True            True             True             True   \n",
      "26            True            True             True             True   \n",
      "29            True            True             True             True   \n",
      "30            True            True             True             True   \n",
      "31            True            True             True             True   \n",
      "35            True            True             True             True   \n",
      "36            True            True             True             True   \n",
      "37            True            True             True             True   \n",
      "38            True            True             True             True   \n",
      "42            True            True             True             True   \n",
      "43            True            True             True             True   \n",
      "44            True            True             True             True   \n",
      "60            True            True             True             True   \n",
      "61            True            True             True             True   \n",
      "62            True            True             True             True   \n",
      "64            True            True             True             True   \n",
      "\n",
      "            filename                                          filepath  \\\n",
      "13  evaluator_13.pkl  ../../v6_result/output-rag-0602\\evaluator_13.pkl   \n",
      "15  evaluator_15.pkl  ../../v6_result/output-rag-0602\\evaluator_15.pkl   \n",
      "16  evaluator_16.pkl  ../../v6_result/output-rag-0602\\evaluator_16.pkl   \n",
      "24  evaluator_24.pkl  ../../v6_result/output-rag-0602\\evaluator_24.pkl   \n",
      "25  evaluator_25.pkl  ../../v6_result/output-rag-0602\\evaluator_25.pkl   \n",
      "26  evaluator_26.pkl  ../../v6_result/output-rag-0602\\evaluator_26.pkl   \n",
      "29  evaluator_29.pkl  ../../v6_result/output-rag-0602\\evaluator_29.pkl   \n",
      "30  evaluator_30.pkl  ../../v6_result/output-rag-0602\\evaluator_30.pkl   \n",
      "31  evaluator_31.pkl  ../../v6_result/output-rag-0602\\evaluator_31.pkl   \n",
      "35  evaluator_35.pkl  ../../v6_result/output-rag-0602\\evaluator_35.pkl   \n",
      "36  evaluator_36.pkl  ../../v6_result/output-rag-0602\\evaluator_36.pkl   \n",
      "37  evaluator_37.pkl  ../../v6_result/output-rag-0602\\evaluator_37.pkl   \n",
      "38  evaluator_38.pkl  ../../v6_result/output-rag-0602\\evaluator_38.pkl   \n",
      "42  evaluator_42.pkl  ../../v6_result/output-rag-0602\\evaluator_42.pkl   \n",
      "43  evaluator_43.pkl  ../../v6_result/output-rag-0602\\evaluator_43.pkl   \n",
      "44  evaluator_44.pkl  ../../v6_result/output-rag-0602\\evaluator_44.pkl   \n",
      "60  evaluator_60.pkl  ../../v6_result/output-rag-0602\\evaluator_60.pkl   \n",
      "61  evaluator_61.pkl  ../../v6_result/output-rag-0602\\evaluator_61.pkl   \n",
      "62  evaluator_62.pkl  ../../v6_result/output-rag-0602\\evaluator_62.pkl   \n",
      "64  evaluator_64.pkl  ../../v6_result/output-rag-0602\\evaluator_64.pkl   \n",
      "\n",
      "    extracted_baseline  inclusion_ratio inclusion_bin  \n",
      "13                             0.560000    (0.4, 0.6]  \n",
      "15                             0.900000    (0.8, 1.0]  \n",
      "16                             1.000000    (0.8, 1.0]  \n",
      "24                             0.600000    (0.4, 0.6]  \n",
      "25                             0.800000    (0.6, 0.8]  \n",
      "26                             0.900000    (0.8, 1.0]  \n",
      "29                             0.700000    (0.6, 0.8]  \n",
      "30                             0.531250    (0.4, 0.6]  \n",
      "31                             0.625000    (0.6, 0.8]  \n",
      "35                             1.000000    (0.8, 1.0]  \n",
      "36                             0.360000    (0.2, 0.4]  \n",
      "37                             0.480000    (0.4, 0.6]  \n",
      "38                             0.560000    (0.4, 0.6]  \n",
      "42                             0.652174    (0.6, 0.8]  \n",
      "43                             0.652174    (0.6, 0.8]  \n",
      "44                             0.695652    (0.6, 0.8]  \n",
      "60                             0.666667    (0.6, 0.8]  \n",
      "61                             0.666667    (0.6, 0.8]  \n",
      "62                             1.000000    (0.8, 1.0]  \n",
      "64                             0.500000    (0.4, 0.6]  \n",
      "\n",
      "[20 rows x 24 columns]\n",
      "    idx           baseline                            source_uid  \\\n",
      "0     0  /output-rag-0602/  01ce4fd6-197a-4792-8778-775b03780369   \n",
      "1     1  /output-rag-0602/  01ce4fd6-197a-4792-8778-775b03780369   \n",
      "2     2  /output-rag-0602/  01ce4fd6-197a-4792-8778-775b03780369   \n",
      "3     3  /output-rag-0602/  026dac2d-2ab3-4f9c-9e1d-6198db4fb080   \n",
      "4     4  /output-rag-0602/  026dac2d-2ab3-4f9c-9e1d-6198db4fb080   \n",
      "5     5  /output-rag-0602/  026dac2d-2ab3-4f9c-9e1d-6198db4fb080   \n",
      "6     6  /output-rag-0602/  02a06bf1-51b8-4902-b088-573e29fcd7ec   \n",
      "7     7  /output-rag-0602/  02a06bf1-51b8-4902-b088-573e29fcd7ec   \n",
      "8     8  /output-rag-0602/  02a06bf1-51b8-4902-b088-573e29fcd7ec   \n",
      "9     9  /output-rag-0602/  14bcb17c-f70a-41d5-b10d-294388084dfc   \n",
      "10   10  /output-rag-0602/  14bcb17c-f70a-41d5-b10d-294388084dfc   \n",
      "11   11  /output-rag-0602/  14bcb17c-f70a-41d5-b10d-294388084dfc   \n",
      "12   12  /output-rag-0602/  1a894d3c-b3ef-448a-a3de-2b38677cef36   \n",
      "14   14  /output-rag-0602/  1a894d3c-b3ef-448a-a3de-2b38677cef36   \n",
      "17   17  /output-rag-0602/  1dc85adb-fbdd-4275-b9cf-42976acb4d14   \n",
      "18   18  /output-rag-0602/  24ba7993-7fc8-4447-afd5-7ff6d548b11a   \n",
      "19   19  /output-rag-0602/  24ba7993-7fc8-4447-afd5-7ff6d548b11a   \n",
      "20   20  /output-rag-0602/  24ba7993-7fc8-4447-afd5-7ff6d548b11a   \n",
      "21   21  /output-rag-0602/  28e0affc-cacb-4db8-ab32-dfc16931b86a   \n",
      "22   22  /output-rag-0602/  28e0affc-cacb-4db8-ab32-dfc16931b86a   \n",
      "\n",
      "                              target_uid  \\\n",
      "0   2ba0becb-58c2-43a1-97bb-7e153a34eb47   \n",
      "1   2ba0becb-58c2-43a1-97bb-7e153a34eb47   \n",
      "2   2ba0becb-58c2-43a1-97bb-7e153a34eb47   \n",
      "3   2bc7d6fa-a02e-4367-b316-d6b4e8a2ce3f   \n",
      "4   2bc7d6fa-a02e-4367-b316-d6b4e8a2ce3f   \n",
      "5   2bc7d6fa-a02e-4367-b316-d6b4e8a2ce3f   \n",
      "6   2c27b5f1-4af6-49ad-a43c-3efb0c150868   \n",
      "7   2c27b5f1-4af6-49ad-a43c-3efb0c150868   \n",
      "8   2c27b5f1-4af6-49ad-a43c-3efb0c150868   \n",
      "9   2da5c1ee-bd40-406d-83a7-2f3d93293949   \n",
      "10  2da5c1ee-bd40-406d-83a7-2f3d93293949   \n",
      "11  2da5c1ee-bd40-406d-83a7-2f3d93293949   \n",
      "12  2f46d1e6-2a85-4d46-b955-10c2eded661c   \n",
      "14  2f46d1e6-2a85-4d46-b955-10c2eded661c   \n",
      "17  31d6fe77-da70-42da-8f47-66bb79b9285b   \n",
      "18  321b5e21-2951-40c9-a2f9-6ce0c145cfb8   \n",
      "19  321b5e21-2951-40c9-a2f9-6ce0c145cfb8   \n",
      "20  321b5e21-2951-40c9-a2f9-6ce0c145cfb8   \n",
      "21  341b5211-bb72-4bec-bd3d-c0d518887960   \n",
      "22  341b5211-bb72-4bec-bd3d-c0d518887960   \n",
      "\n",
      "                                      target_taxonomy  \\\n",
      "0   {\"main item\": \"impossible\", \"organization meth...   \n",
      "1   {\"main item\": \"towel\", \"arrangement method\": \"...   \n",
      "2   {\"main item\": \"towel\", \"organization method\": ...   \n",
      "3   {\"main ingredient\": \"steak\", \"oil\": \"impossibl...   \n",
      "4   {\"main activity\": \"seasoning steak\", \"steps\": ...   \n",
      "5   {\"main ingredient\": \"steak\", \"oil\": \"oil\", \"se...   \n",
      "6   {\"main ingredient\": \"bell pepper\", \"processing...   \n",
      "7   {\"activity\": \"shelling\", \"category\": \"preparat...   \n",
      "8   {\"main ingredient\": \"corn\", \"processing method...   \n",
      "9   {\"main ingredient\": \"impossible\", \"preparation...   \n",
      "10  {\"main ingredient\": \"garlic\", \"preparation met...   \n",
      "11  {\"main ingredient\": \"garlic\", \"preparation met...   \n",
      "12  {\"main ingredient\": \"impossible\", \"liquid\": \"j...   \n",
      "14  {\"main ingredient\": \"impossible\", \"liquid\": \"i...   \n",
      "17  {\"main ingredient\": \"pepper\", \"variety\": \"empt...   \n",
      "18  {\"main ingredient\": \"bread\", \"filling\": \"impos...   \n",
      "19  {\"main ingredient\": \"bread\", \"filling\": \"empty...   \n",
      "20  {\"main ingredient\": \"bread\", \"filling\": \"empty...   \n",
      "21  {\"main ingredient\": \"impossible\", \"preparation...   \n",
      "22  {\"main ingredient\": \"impossible\", \"preparation...   \n",
      "\n",
      "                                      target_sequence     core_activity  \\\n",
      "0                                                  []  organize laundry   \n",
      "1   [\"Arrange towel\", \"Arrange towel\", \"Arrange to...     arrange cloth   \n",
      "2   [\"Arrange towel\", \"Arrange towel\", \"Arrange to...  organize laundry   \n",
      "3                                                  []      season steak   \n",
      "4   [\"pick up steak\", \"rub steak\", \"rub steak\", \"r...   seasoning steak   \n",
      "5   [\"select steak\", \"open refrigerator\", \"take oi...      season steak   \n",
      "6   [\"player picks up bell pepper\", \"player moves ...        shell corn   \n",
      "7   [\"open refrigerator\", \"take corn from refriger...        shell corn   \n",
      "8   [\"go to refrigerator\", \"open refrigerator\", \"t...        shell corn   \n",
      "9                                                  []       peel garlic   \n",
      "10  [\"Take garlic from refrigerator\", \"Place garli...    peeling garlic   \n",
      "11                  [\"Peel off outer skin of garlic\"]       peel garlic   \n",
      "12  [\"Open the kitchen drawer.\", \"Take the cup (wi...        make dough   \n",
      "14  [\"Open kitchen drawer.\", \"Take cup from drawer...        make dough   \n",
      "17  [\"Slice pepper\", \"Slice onion\", \"Slice pepper\"...    slicing pepper   \n",
      "18                           [\"slice bread into two\"]     make sandwich   \n",
      "19  [\"take two pieces of bread\", \"take grapes\", \"r...     make sandwich   \n",
      "20  [\"take two slices of bread\", \"open refrigerato...     make sandwich   \n",
      "21                          [\"player turns on stove\"]          heat oil   \n",
      "22                                  [\"Turn on stove\"]          heat oil   \n",
      "\n",
      "    entity_check_tax  entity_check_seq  sim_tax1  ...  sim_seq3  \\\n",
      "0               True              True  0.000000  ...  0.000000   \n",
      "1               True              True  0.492757  ...  0.617376   \n",
      "2               True              True  0.499899  ...  0.637829   \n",
      "3              False              True  0.500000  ...  0.000000   \n",
      "4              False              True  0.000000  ...  0.648668   \n",
      "5              False              True  0.700000  ...  0.530379   \n",
      "6               True              True  0.444556  ...  0.272645   \n",
      "7               True              True  0.000000  ...  0.494348   \n",
      "8              False              True  0.838195  ...  0.348027   \n",
      "9              False              True  0.000000  ...  0.000000   \n",
      "10             False              True  0.772552  ...  0.717406   \n",
      "11             False              True  0.800000  ...  0.825671   \n",
      "12             False              True  0.253308  ...  0.339217   \n",
      "14             False              True  0.300000  ...  0.439010   \n",
      "17              True              True  0.800000  ...  0.898761   \n",
      "18             False              True  0.500000  ...  0.487465   \n",
      "19              True              True  0.600000  ...  0.549502   \n",
      "20              True             False  0.600000  ...  0.702610   \n",
      "21             False              True  0.387245  ...  0.345745   \n",
      "22             False              True  0.387245  ...  0.490860   \n",
      "\n",
      "    core_check_tax  core_check_seq  human_check_tax  human_check_seq  \\\n",
      "0            False           False            False            False   \n",
      "1             True           False             True             True   \n",
      "2            False            True             True             True   \n",
      "3             True           False             True            False   \n",
      "4             True           False            False            False   \n",
      "5             True           False             True             True   \n",
      "6            False           False            False            False   \n",
      "7             True            True             True             True   \n",
      "8             True            True             True             True   \n",
      "9            False           False            False            False   \n",
      "10            True            True             True             True   \n",
      "11            True            True             True             True   \n",
      "12           False            True            False             True   \n",
      "14           False           False             True             True   \n",
      "17            True           False             True             True   \n",
      "18            True           False             True             True   \n",
      "19           False           False             True             True   \n",
      "20           False            True             True             True   \n",
      "21           False           False             True             True   \n",
      "22           False           False             True             True   \n",
      "\n",
      "            filename                                          filepath  \\\n",
      "0    evaluator_0.pkl   ../../v6_result/output-rag-0602\\evaluator_0.pkl   \n",
      "1    evaluator_1.pkl   ../../v6_result/output-rag-0602\\evaluator_1.pkl   \n",
      "2    evaluator_2.pkl   ../../v6_result/output-rag-0602\\evaluator_2.pkl   \n",
      "3    evaluator_3.pkl   ../../v6_result/output-rag-0602\\evaluator_3.pkl   \n",
      "4    evaluator_4.pkl   ../../v6_result/output-rag-0602\\evaluator_4.pkl   \n",
      "5    evaluator_5.pkl   ../../v6_result/output-rag-0602\\evaluator_5.pkl   \n",
      "6    evaluator_6.pkl   ../../v6_result/output-rag-0602\\evaluator_6.pkl   \n",
      "7    evaluator_7.pkl   ../../v6_result/output-rag-0602\\evaluator_7.pkl   \n",
      "8    evaluator_8.pkl   ../../v6_result/output-rag-0602\\evaluator_8.pkl   \n",
      "9    evaluator_9.pkl   ../../v6_result/output-rag-0602\\evaluator_9.pkl   \n",
      "10  evaluator_10.pkl  ../../v6_result/output-rag-0602\\evaluator_10.pkl   \n",
      "11  evaluator_11.pkl  ../../v6_result/output-rag-0602\\evaluator_11.pkl   \n",
      "12  evaluator_12.pkl  ../../v6_result/output-rag-0602\\evaluator_12.pkl   \n",
      "14  evaluator_14.pkl  ../../v6_result/output-rag-0602\\evaluator_14.pkl   \n",
      "17  evaluator_17.pkl  ../../v6_result/output-rag-0602\\evaluator_17.pkl   \n",
      "18  evaluator_18.pkl  ../../v6_result/output-rag-0602\\evaluator_18.pkl   \n",
      "19  evaluator_19.pkl  ../../v6_result/output-rag-0602\\evaluator_19.pkl   \n",
      "20  evaluator_20.pkl  ../../v6_result/output-rag-0602\\evaluator_20.pkl   \n",
      "21  evaluator_21.pkl  ../../v6_result/output-rag-0602\\evaluator_21.pkl   \n",
      "22  evaluator_22.pkl  ../../v6_result/output-rag-0602\\evaluator_22.pkl   \n",
      "\n",
      "    extracted_baseline  inclusion_ratio  inclusion_bin  \n",
      "0                              0.000000  (-0.001, 0.2]  \n",
      "1                              0.333333     (0.2, 0.4]  \n",
      "2                              0.333333     (0.2, 0.4]  \n",
      "3                              0.888889     (0.8, 1.0]  \n",
      "4                              0.888889     (0.8, 1.0]  \n",
      "5                              1.000000     (0.8, 1.0]  \n",
      "6                              0.333333     (0.2, 0.4]  \n",
      "7                              0.666667     (0.6, 0.8]  \n",
      "8                              0.666667     (0.6, 0.8]  \n",
      "9                              0.333333     (0.2, 0.4]  \n",
      "10                             1.000000     (0.8, 1.0]  \n",
      "11                             1.000000     (0.8, 1.0]  \n",
      "12                             0.400000     (0.2, 0.4]  \n",
      "14                             0.600000     (0.4, 0.6]  \n",
      "17                             1.000000     (0.8, 1.0]  \n",
      "18                             0.750000     (0.6, 0.8]  \n",
      "19                             0.875000     (0.8, 1.0]  \n",
      "20                             0.875000     (0.8, 1.0]  \n",
      "21                             0.000000  (-0.001, 0.2]  \n",
      "22                             0.000000  (-0.001, 0.2]  \n",
      "\n",
      "[20 rows x 24 columns]\n",
      "109\n",
      "104\n",
      "89\n",
      "124\n",
      "Final total: 213\n",
      "TP: 87 | TN: 22 | FP: 102 | FN: 2\n"
     ]
    },
    {
     "data": {
      "application/vnd.plotly.v1+json": {
       "config": {
        "plotlyServerURL": "https://plot.ly"
       },
       "data": [
        {
         "insidetextanchor": "middle",
         "marker": {
          "color": "green"
         },
         "name": "TP",
         "text": [
          "40.8%"
         ],
         "textfont": {
          "color": "white",
          "size": 12
         },
         "textposition": "inside",
         "type": "bar",
         "x": [
          "-0.0–1.0"
         ],
         "y": {
          "bdata": "Vw==",
          "dtype": "i1"
         }
        },
        {
         "insidetextanchor": "middle",
         "marker": {
          "color": "gray"
         },
         "name": "TN",
         "text": [
          "10.3%"
         ],
         "textfont": {
          "color": "white",
          "size": 12
         },
         "textposition": "inside",
         "type": "bar",
         "x": [
          "-0.0–1.0"
         ],
         "y": {
          "bdata": "Fg==",
          "dtype": "i1"
         }
        },
        {
         "insidetextanchor": "middle",
         "marker": {
          "color": "red"
         },
         "name": "FP",
         "text": [
          "47.9%"
         ],
         "textfont": {
          "color": "white",
          "size": 12
         },
         "textposition": "inside",
         "type": "bar",
         "x": [
          "-0.0–1.0"
         ],
         "y": {
          "bdata": "Zg==",
          "dtype": "i1"
         }
        },
        {
         "insidetextanchor": "middle",
         "marker": {
          "color": "black"
         },
         "name": "FN",
         "text": [
          "0.9%"
         ],
         "textfont": {
          "color": "white",
          "size": 12
         },
         "textposition": "inside",
         "type": "bar",
         "x": [
          "-0.0–1.0"
         ],
         "y": {
          "bdata": "Ag==",
          "dtype": "i1"
         }
        }
       ],
       "layout": {
        "barmode": "stack",
        "height": 500,
        "template": {
         "data": {
          "bar": [
           {
            "error_x": {
             "color": "#2a3f5f"
            },
            "error_y": {
             "color": "#2a3f5f"
            },
            "marker": {
             "line": {
              "color": "#E5ECF6",
              "width": 0.5
             },
             "pattern": {
              "fillmode": "overlay",
              "size": 10,
              "solidity": 0.2
             }
            },
            "type": "bar"
           }
          ],
          "barpolar": [
           {
            "marker": {
             "line": {
              "color": "#E5ECF6",
              "width": 0.5
             },
             "pattern": {
              "fillmode": "overlay",
              "size": 10,
              "solidity": 0.2
             }
            },
            "type": "barpolar"
           }
          ],
          "carpet": [
           {
            "aaxis": {
             "endlinecolor": "#2a3f5f",
             "gridcolor": "white",
             "linecolor": "white",
             "minorgridcolor": "white",
             "startlinecolor": "#2a3f5f"
            },
            "baxis": {
             "endlinecolor": "#2a3f5f",
             "gridcolor": "white",
             "linecolor": "white",
             "minorgridcolor": "white",
             "startlinecolor": "#2a3f5f"
            },
            "type": "carpet"
           }
          ],
          "choropleth": [
           {
            "colorbar": {
             "outlinewidth": 0,
             "ticks": ""
            },
            "type": "choropleth"
           }
          ],
          "contour": [
           {
            "colorbar": {
             "outlinewidth": 0,
             "ticks": ""
            },
            "colorscale": [
             [
              0,
              "#0d0887"
             ],
             [
              0.1111111111111111,
              "#46039f"
             ],
             [
              0.2222222222222222,
              "#7201a8"
             ],
             [
              0.3333333333333333,
              "#9c179e"
             ],
             [
              0.4444444444444444,
              "#bd3786"
             ],
             [
              0.5555555555555556,
              "#d8576b"
             ],
             [
              0.6666666666666666,
              "#ed7953"
             ],
             [
              0.7777777777777778,
              "#fb9f3a"
             ],
             [
              0.8888888888888888,
              "#fdca26"
             ],
             [
              1,
              "#f0f921"
             ]
            ],
            "type": "contour"
           }
          ],
          "contourcarpet": [
           {
            "colorbar": {
             "outlinewidth": 0,
             "ticks": ""
            },
            "type": "contourcarpet"
           }
          ],
          "heatmap": [
           {
            "colorbar": {
             "outlinewidth": 0,
             "ticks": ""
            },
            "colorscale": [
             [
              0,
              "#0d0887"
             ],
             [
              0.1111111111111111,
              "#46039f"
             ],
             [
              0.2222222222222222,
              "#7201a8"
             ],
             [
              0.3333333333333333,
              "#9c179e"
             ],
             [
              0.4444444444444444,
              "#bd3786"
             ],
             [
              0.5555555555555556,
              "#d8576b"
             ],
             [
              0.6666666666666666,
              "#ed7953"
             ],
             [
              0.7777777777777778,
              "#fb9f3a"
             ],
             [
              0.8888888888888888,
              "#fdca26"
             ],
             [
              1,
              "#f0f921"
             ]
            ],
            "type": "heatmap"
           }
          ],
          "histogram": [
           {
            "marker": {
             "pattern": {
              "fillmode": "overlay",
              "size": 10,
              "solidity": 0.2
             }
            },
            "type": "histogram"
           }
          ],
          "histogram2d": [
           {
            "colorbar": {
             "outlinewidth": 0,
             "ticks": ""
            },
            "colorscale": [
             [
              0,
              "#0d0887"
             ],
             [
              0.1111111111111111,
              "#46039f"
             ],
             [
              0.2222222222222222,
              "#7201a8"
             ],
             [
              0.3333333333333333,
              "#9c179e"
             ],
             [
              0.4444444444444444,
              "#bd3786"
             ],
             [
              0.5555555555555556,
              "#d8576b"
             ],
             [
              0.6666666666666666,
              "#ed7953"
             ],
             [
              0.7777777777777778,
              "#fb9f3a"
             ],
             [
              0.8888888888888888,
              "#fdca26"
             ],
             [
              1,
              "#f0f921"
             ]
            ],
            "type": "histogram2d"
           }
          ],
          "histogram2dcontour": [
           {
            "colorbar": {
             "outlinewidth": 0,
             "ticks": ""
            },
            "colorscale": [
             [
              0,
              "#0d0887"
             ],
             [
              0.1111111111111111,
              "#46039f"
             ],
             [
              0.2222222222222222,
              "#7201a8"
             ],
             [
              0.3333333333333333,
              "#9c179e"
             ],
             [
              0.4444444444444444,
              "#bd3786"
             ],
             [
              0.5555555555555556,
              "#d8576b"
             ],
             [
              0.6666666666666666,
              "#ed7953"
             ],
             [
              0.7777777777777778,
              "#fb9f3a"
             ],
             [
              0.8888888888888888,
              "#fdca26"
             ],
             [
              1,
              "#f0f921"
             ]
            ],
            "type": "histogram2dcontour"
           }
          ],
          "mesh3d": [
           {
            "colorbar": {
             "outlinewidth": 0,
             "ticks": ""
            },
            "type": "mesh3d"
           }
          ],
          "parcoords": [
           {
            "line": {
             "colorbar": {
              "outlinewidth": 0,
              "ticks": ""
             }
            },
            "type": "parcoords"
           }
          ],
          "pie": [
           {
            "automargin": true,
            "type": "pie"
           }
          ],
          "scatter": [
           {
            "fillpattern": {
             "fillmode": "overlay",
             "size": 10,
             "solidity": 0.2
            },
            "type": "scatter"
           }
          ],
          "scatter3d": [
           {
            "line": {
             "colorbar": {
              "outlinewidth": 0,
              "ticks": ""
             }
            },
            "marker": {
             "colorbar": {
              "outlinewidth": 0,
              "ticks": ""
             }
            },
            "type": "scatter3d"
           }
          ],
          "scattercarpet": [
           {
            "marker": {
             "colorbar": {
              "outlinewidth": 0,
              "ticks": ""
             }
            },
            "type": "scattercarpet"
           }
          ],
          "scattergeo": [
           {
            "marker": {
             "colorbar": {
              "outlinewidth": 0,
              "ticks": ""
             }
            },
            "type": "scattergeo"
           }
          ],
          "scattergl": [
           {
            "marker": {
             "colorbar": {
              "outlinewidth": 0,
              "ticks": ""
             }
            },
            "type": "scattergl"
           }
          ],
          "scattermap": [
           {
            "marker": {
             "colorbar": {
              "outlinewidth": 0,
              "ticks": ""
             }
            },
            "type": "scattermap"
           }
          ],
          "scattermapbox": [
           {
            "marker": {
             "colorbar": {
              "outlinewidth": 0,
              "ticks": ""
             }
            },
            "type": "scattermapbox"
           }
          ],
          "scatterpolar": [
           {
            "marker": {
             "colorbar": {
              "outlinewidth": 0,
              "ticks": ""
             }
            },
            "type": "scatterpolar"
           }
          ],
          "scatterpolargl": [
           {
            "marker": {
             "colorbar": {
              "outlinewidth": 0,
              "ticks": ""
             }
            },
            "type": "scatterpolargl"
           }
          ],
          "scatterternary": [
           {
            "marker": {
             "colorbar": {
              "outlinewidth": 0,
              "ticks": ""
             }
            },
            "type": "scatterternary"
           }
          ],
          "surface": [
           {
            "colorbar": {
             "outlinewidth": 0,
             "ticks": ""
            },
            "colorscale": [
             [
              0,
              "#0d0887"
             ],
             [
              0.1111111111111111,
              "#46039f"
             ],
             [
              0.2222222222222222,
              "#7201a8"
             ],
             [
              0.3333333333333333,
              "#9c179e"
             ],
             [
              0.4444444444444444,
              "#bd3786"
             ],
             [
              0.5555555555555556,
              "#d8576b"
             ],
             [
              0.6666666666666666,
              "#ed7953"
             ],
             [
              0.7777777777777778,
              "#fb9f3a"
             ],
             [
              0.8888888888888888,
              "#fdca26"
             ],
             [
              1,
              "#f0f921"
             ]
            ],
            "type": "surface"
           }
          ],
          "table": [
           {
            "cells": {
             "fill": {
              "color": "#EBF0F8"
             },
             "line": {
              "color": "white"
             }
            },
            "header": {
             "fill": {
              "color": "#C8D4E3"
             },
             "line": {
              "color": "white"
             }
            },
            "type": "table"
           }
          ]
         },
         "layout": {
          "annotationdefaults": {
           "arrowcolor": "#2a3f5f",
           "arrowhead": 0,
           "arrowwidth": 1
          },
          "autotypenumbers": "strict",
          "coloraxis": {
           "colorbar": {
            "outlinewidth": 0,
            "ticks": ""
           }
          },
          "colorscale": {
           "diverging": [
            [
             0,
             "#8e0152"
            ],
            [
             0.1,
             "#c51b7d"
            ],
            [
             0.2,
             "#de77ae"
            ],
            [
             0.3,
             "#f1b6da"
            ],
            [
             0.4,
             "#fde0ef"
            ],
            [
             0.5,
             "#f7f7f7"
            ],
            [
             0.6,
             "#e6f5d0"
            ],
            [
             0.7,
             "#b8e186"
            ],
            [
             0.8,
             "#7fbc41"
            ],
            [
             0.9,
             "#4d9221"
            ],
            [
             1,
             "#276419"
            ]
           ],
           "sequential": [
            [
             0,
             "#0d0887"
            ],
            [
             0.1111111111111111,
             "#46039f"
            ],
            [
             0.2222222222222222,
             "#7201a8"
            ],
            [
             0.3333333333333333,
             "#9c179e"
            ],
            [
             0.4444444444444444,
             "#bd3786"
            ],
            [
             0.5555555555555556,
             "#d8576b"
            ],
            [
             0.6666666666666666,
             "#ed7953"
            ],
            [
             0.7777777777777778,
             "#fb9f3a"
            ],
            [
             0.8888888888888888,
             "#fdca26"
            ],
            [
             1,
             "#f0f921"
            ]
           ],
           "sequentialminus": [
            [
             0,
             "#0d0887"
            ],
            [
             0.1111111111111111,
             "#46039f"
            ],
            [
             0.2222222222222222,
             "#7201a8"
            ],
            [
             0.3333333333333333,
             "#9c179e"
            ],
            [
             0.4444444444444444,
             "#bd3786"
            ],
            [
             0.5555555555555556,
             "#d8576b"
            ],
            [
             0.6666666666666666,
             "#ed7953"
            ],
            [
             0.7777777777777778,
             "#fb9f3a"
            ],
            [
             0.8888888888888888,
             "#fdca26"
            ],
            [
             1,
             "#f0f921"
            ]
           ]
          },
          "colorway": [
           "#636efa",
           "#EF553B",
           "#00cc96",
           "#ab63fa",
           "#FFA15A",
           "#19d3f3",
           "#FF6692",
           "#B6E880",
           "#FF97FF",
           "#FECB52"
          ],
          "font": {
           "color": "#2a3f5f"
          },
          "geo": {
           "bgcolor": "white",
           "lakecolor": "white",
           "landcolor": "#E5ECF6",
           "showlakes": true,
           "showland": true,
           "subunitcolor": "white"
          },
          "hoverlabel": {
           "align": "left"
          },
          "hovermode": "closest",
          "mapbox": {
           "style": "light"
          },
          "paper_bgcolor": "white",
          "plot_bgcolor": "#E5ECF6",
          "polar": {
           "angularaxis": {
            "gridcolor": "white",
            "linecolor": "white",
            "ticks": ""
           },
           "bgcolor": "#E5ECF6",
           "radialaxis": {
            "gridcolor": "white",
            "linecolor": "white",
            "ticks": ""
           }
          },
          "scene": {
           "xaxis": {
            "backgroundcolor": "#E5ECF6",
            "gridcolor": "white",
            "gridwidth": 2,
            "linecolor": "white",
            "showbackground": true,
            "ticks": "",
            "zerolinecolor": "white"
           },
           "yaxis": {
            "backgroundcolor": "#E5ECF6",
            "gridcolor": "white",
            "gridwidth": 2,
            "linecolor": "white",
            "showbackground": true,
            "ticks": "",
            "zerolinecolor": "white"
           },
           "zaxis": {
            "backgroundcolor": "#E5ECF6",
            "gridcolor": "white",
            "gridwidth": 2,
            "linecolor": "white",
            "showbackground": true,
            "ticks": "",
            "zerolinecolor": "white"
           }
          },
          "shapedefaults": {
           "line": {
            "color": "#2a3f5f"
           }
          },
          "ternary": {
           "aaxis": {
            "gridcolor": "white",
            "linecolor": "white",
            "ticks": ""
           },
           "baxis": {
            "gridcolor": "white",
            "linecolor": "white",
            "ticks": ""
           },
           "bgcolor": "#E5ECF6",
           "caxis": {
            "gridcolor": "white",
            "linecolor": "white",
            "ticks": ""
           }
          },
          "title": {
           "x": 0.05
          },
          "xaxis": {
           "automargin": true,
           "gridcolor": "white",
           "linecolor": "white",
           "ticks": "",
           "title": {
            "standoff": 15
           },
           "zerolinecolor": "white",
           "zerolinewidth": 2
          },
          "yaxis": {
           "automargin": true,
           "gridcolor": "white",
           "linecolor": "white",
           "ticks": "",
           "title": {
            "standoff": 15
           },
           "zerolinecolor": "white",
           "zerolinewidth": 2
          }
         }
        },
        "title": {
         "text": "Stacked Confusion Counts by Binned 'inclusion_ratio'"
        },
        "width": 950,
        "xaxis": {
         "title": {
          "text": "inclusion_ratio Bins"
         }
        },
        "yaxis": {
         "title": {
          "text": "Count"
         }
        }
       }
      }
     },
     "metadata": {},
     "output_type": "display_data"
    },
    {
     "name": "stdout",
     "output_type": "stream",
     "text": [
      "\n",
      "=== Per-bin Metrics ===\n",
      "\n",
      "Bin -0.0–1.0:\n",
      "  Accuracy:  0.512\n",
      "  Precision: 0.460\n",
      "  Recall:    0.978\n",
      "  F1 Score:  0.626\n",
      "Final total: 213\n",
      "TP: 89 | TN: 28 | FP: 93 | FN: 3\n"
     ]
    },
    {
     "data": {
      "application/vnd.plotly.v1+json": {
       "config": {
        "plotlyServerURL": "https://plot.ly"
       },
       "data": [
        {
         "insidetextanchor": "middle",
         "marker": {
          "color": "green"
         },
         "name": "TP",
         "text": [
          "41.8%"
         ],
         "textfont": {
          "color": "white",
          "size": 12
         },
         "textposition": "inside",
         "type": "bar",
         "x": [
          "-0.0–1.0"
         ],
         "y": {
          "bdata": "WQ==",
          "dtype": "i1"
         }
        },
        {
         "insidetextanchor": "middle",
         "marker": {
          "color": "gray"
         },
         "name": "TN",
         "text": [
          "13.1%"
         ],
         "textfont": {
          "color": "white",
          "size": 12
         },
         "textposition": "inside",
         "type": "bar",
         "x": [
          "-0.0–1.0"
         ],
         "y": {
          "bdata": "HA==",
          "dtype": "i1"
         }
        },
        {
         "insidetextanchor": "middle",
         "marker": {
          "color": "red"
         },
         "name": "FP",
         "text": [
          "43.7%"
         ],
         "textfont": {
          "color": "white",
          "size": 12
         },
         "textposition": "inside",
         "type": "bar",
         "x": [
          "-0.0–1.0"
         ],
         "y": {
          "bdata": "XQ==",
          "dtype": "i1"
         }
        },
        {
         "insidetextanchor": "middle",
         "marker": {
          "color": "black"
         },
         "name": "FN",
         "text": [
          "1.4%"
         ],
         "textfont": {
          "color": "white",
          "size": 12
         },
         "textposition": "inside",
         "type": "bar",
         "x": [
          "-0.0–1.0"
         ],
         "y": {
          "bdata": "Aw==",
          "dtype": "i1"
         }
        }
       ],
       "layout": {
        "barmode": "stack",
        "height": 500,
        "template": {
         "data": {
          "bar": [
           {
            "error_x": {
             "color": "#2a3f5f"
            },
            "error_y": {
             "color": "#2a3f5f"
            },
            "marker": {
             "line": {
              "color": "#E5ECF6",
              "width": 0.5
             },
             "pattern": {
              "fillmode": "overlay",
              "size": 10,
              "solidity": 0.2
             }
            },
            "type": "bar"
           }
          ],
          "barpolar": [
           {
            "marker": {
             "line": {
              "color": "#E5ECF6",
              "width": 0.5
             },
             "pattern": {
              "fillmode": "overlay",
              "size": 10,
              "solidity": 0.2
             }
            },
            "type": "barpolar"
           }
          ],
          "carpet": [
           {
            "aaxis": {
             "endlinecolor": "#2a3f5f",
             "gridcolor": "white",
             "linecolor": "white",
             "minorgridcolor": "white",
             "startlinecolor": "#2a3f5f"
            },
            "baxis": {
             "endlinecolor": "#2a3f5f",
             "gridcolor": "white",
             "linecolor": "white",
             "minorgridcolor": "white",
             "startlinecolor": "#2a3f5f"
            },
            "type": "carpet"
           }
          ],
          "choropleth": [
           {
            "colorbar": {
             "outlinewidth": 0,
             "ticks": ""
            },
            "type": "choropleth"
           }
          ],
          "contour": [
           {
            "colorbar": {
             "outlinewidth": 0,
             "ticks": ""
            },
            "colorscale": [
             [
              0,
              "#0d0887"
             ],
             [
              0.1111111111111111,
              "#46039f"
             ],
             [
              0.2222222222222222,
              "#7201a8"
             ],
             [
              0.3333333333333333,
              "#9c179e"
             ],
             [
              0.4444444444444444,
              "#bd3786"
             ],
             [
              0.5555555555555556,
              "#d8576b"
             ],
             [
              0.6666666666666666,
              "#ed7953"
             ],
             [
              0.7777777777777778,
              "#fb9f3a"
             ],
             [
              0.8888888888888888,
              "#fdca26"
             ],
             [
              1,
              "#f0f921"
             ]
            ],
            "type": "contour"
           }
          ],
          "contourcarpet": [
           {
            "colorbar": {
             "outlinewidth": 0,
             "ticks": ""
            },
            "type": "contourcarpet"
           }
          ],
          "heatmap": [
           {
            "colorbar": {
             "outlinewidth": 0,
             "ticks": ""
            },
            "colorscale": [
             [
              0,
              "#0d0887"
             ],
             [
              0.1111111111111111,
              "#46039f"
             ],
             [
              0.2222222222222222,
              "#7201a8"
             ],
             [
              0.3333333333333333,
              "#9c179e"
             ],
             [
              0.4444444444444444,
              "#bd3786"
             ],
             [
              0.5555555555555556,
              "#d8576b"
             ],
             [
              0.6666666666666666,
              "#ed7953"
             ],
             [
              0.7777777777777778,
              "#fb9f3a"
             ],
             [
              0.8888888888888888,
              "#fdca26"
             ],
             [
              1,
              "#f0f921"
             ]
            ],
            "type": "heatmap"
           }
          ],
          "histogram": [
           {
            "marker": {
             "pattern": {
              "fillmode": "overlay",
              "size": 10,
              "solidity": 0.2
             }
            },
            "type": "histogram"
           }
          ],
          "histogram2d": [
           {
            "colorbar": {
             "outlinewidth": 0,
             "ticks": ""
            },
            "colorscale": [
             [
              0,
              "#0d0887"
             ],
             [
              0.1111111111111111,
              "#46039f"
             ],
             [
              0.2222222222222222,
              "#7201a8"
             ],
             [
              0.3333333333333333,
              "#9c179e"
             ],
             [
              0.4444444444444444,
              "#bd3786"
             ],
             [
              0.5555555555555556,
              "#d8576b"
             ],
             [
              0.6666666666666666,
              "#ed7953"
             ],
             [
              0.7777777777777778,
              "#fb9f3a"
             ],
             [
              0.8888888888888888,
              "#fdca26"
             ],
             [
              1,
              "#f0f921"
             ]
            ],
            "type": "histogram2d"
           }
          ],
          "histogram2dcontour": [
           {
            "colorbar": {
             "outlinewidth": 0,
             "ticks": ""
            },
            "colorscale": [
             [
              0,
              "#0d0887"
             ],
             [
              0.1111111111111111,
              "#46039f"
             ],
             [
              0.2222222222222222,
              "#7201a8"
             ],
             [
              0.3333333333333333,
              "#9c179e"
             ],
             [
              0.4444444444444444,
              "#bd3786"
             ],
             [
              0.5555555555555556,
              "#d8576b"
             ],
             [
              0.6666666666666666,
              "#ed7953"
             ],
             [
              0.7777777777777778,
              "#fb9f3a"
             ],
             [
              0.8888888888888888,
              "#fdca26"
             ],
             [
              1,
              "#f0f921"
             ]
            ],
            "type": "histogram2dcontour"
           }
          ],
          "mesh3d": [
           {
            "colorbar": {
             "outlinewidth": 0,
             "ticks": ""
            },
            "type": "mesh3d"
           }
          ],
          "parcoords": [
           {
            "line": {
             "colorbar": {
              "outlinewidth": 0,
              "ticks": ""
             }
            },
            "type": "parcoords"
           }
          ],
          "pie": [
           {
            "automargin": true,
            "type": "pie"
           }
          ],
          "scatter": [
           {
            "fillpattern": {
             "fillmode": "overlay",
             "size": 10,
             "solidity": 0.2
            },
            "type": "scatter"
           }
          ],
          "scatter3d": [
           {
            "line": {
             "colorbar": {
              "outlinewidth": 0,
              "ticks": ""
             }
            },
            "marker": {
             "colorbar": {
              "outlinewidth": 0,
              "ticks": ""
             }
            },
            "type": "scatter3d"
           }
          ],
          "scattercarpet": [
           {
            "marker": {
             "colorbar": {
              "outlinewidth": 0,
              "ticks": ""
             }
            },
            "type": "scattercarpet"
           }
          ],
          "scattergeo": [
           {
            "marker": {
             "colorbar": {
              "outlinewidth": 0,
              "ticks": ""
             }
            },
            "type": "scattergeo"
           }
          ],
          "scattergl": [
           {
            "marker": {
             "colorbar": {
              "outlinewidth": 0,
              "ticks": ""
             }
            },
            "type": "scattergl"
           }
          ],
          "scattermap": [
           {
            "marker": {
             "colorbar": {
              "outlinewidth": 0,
              "ticks": ""
             }
            },
            "type": "scattermap"
           }
          ],
          "scattermapbox": [
           {
            "marker": {
             "colorbar": {
              "outlinewidth": 0,
              "ticks": ""
             }
            },
            "type": "scattermapbox"
           }
          ],
          "scatterpolar": [
           {
            "marker": {
             "colorbar": {
              "outlinewidth": 0,
              "ticks": ""
             }
            },
            "type": "scatterpolar"
           }
          ],
          "scatterpolargl": [
           {
            "marker": {
             "colorbar": {
              "outlinewidth": 0,
              "ticks": ""
             }
            },
            "type": "scatterpolargl"
           }
          ],
          "scatterternary": [
           {
            "marker": {
             "colorbar": {
              "outlinewidth": 0,
              "ticks": ""
             }
            },
            "type": "scatterternary"
           }
          ],
          "surface": [
           {
            "colorbar": {
             "outlinewidth": 0,
             "ticks": ""
            },
            "colorscale": [
             [
              0,
              "#0d0887"
             ],
             [
              0.1111111111111111,
              "#46039f"
             ],
             [
              0.2222222222222222,
              "#7201a8"
             ],
             [
              0.3333333333333333,
              "#9c179e"
             ],
             [
              0.4444444444444444,
              "#bd3786"
             ],
             [
              0.5555555555555556,
              "#d8576b"
             ],
             [
              0.6666666666666666,
              "#ed7953"
             ],
             [
              0.7777777777777778,
              "#fb9f3a"
             ],
             [
              0.8888888888888888,
              "#fdca26"
             ],
             [
              1,
              "#f0f921"
             ]
            ],
            "type": "surface"
           }
          ],
          "table": [
           {
            "cells": {
             "fill": {
              "color": "#EBF0F8"
             },
             "line": {
              "color": "white"
             }
            },
            "header": {
             "fill": {
              "color": "#C8D4E3"
             },
             "line": {
              "color": "white"
             }
            },
            "type": "table"
           }
          ]
         },
         "layout": {
          "annotationdefaults": {
           "arrowcolor": "#2a3f5f",
           "arrowhead": 0,
           "arrowwidth": 1
          },
          "autotypenumbers": "strict",
          "coloraxis": {
           "colorbar": {
            "outlinewidth": 0,
            "ticks": ""
           }
          },
          "colorscale": {
           "diverging": [
            [
             0,
             "#8e0152"
            ],
            [
             0.1,
             "#c51b7d"
            ],
            [
             0.2,
             "#de77ae"
            ],
            [
             0.3,
             "#f1b6da"
            ],
            [
             0.4,
             "#fde0ef"
            ],
            [
             0.5,
             "#f7f7f7"
            ],
            [
             0.6,
             "#e6f5d0"
            ],
            [
             0.7,
             "#b8e186"
            ],
            [
             0.8,
             "#7fbc41"
            ],
            [
             0.9,
             "#4d9221"
            ],
            [
             1,
             "#276419"
            ]
           ],
           "sequential": [
            [
             0,
             "#0d0887"
            ],
            [
             0.1111111111111111,
             "#46039f"
            ],
            [
             0.2222222222222222,
             "#7201a8"
            ],
            [
             0.3333333333333333,
             "#9c179e"
            ],
            [
             0.4444444444444444,
             "#bd3786"
            ],
            [
             0.5555555555555556,
             "#d8576b"
            ],
            [
             0.6666666666666666,
             "#ed7953"
            ],
            [
             0.7777777777777778,
             "#fb9f3a"
            ],
            [
             0.8888888888888888,
             "#fdca26"
            ],
            [
             1,
             "#f0f921"
            ]
           ],
           "sequentialminus": [
            [
             0,
             "#0d0887"
            ],
            [
             0.1111111111111111,
             "#46039f"
            ],
            [
             0.2222222222222222,
             "#7201a8"
            ],
            [
             0.3333333333333333,
             "#9c179e"
            ],
            [
             0.4444444444444444,
             "#bd3786"
            ],
            [
             0.5555555555555556,
             "#d8576b"
            ],
            [
             0.6666666666666666,
             "#ed7953"
            ],
            [
             0.7777777777777778,
             "#fb9f3a"
            ],
            [
             0.8888888888888888,
             "#fdca26"
            ],
            [
             1,
             "#f0f921"
            ]
           ]
          },
          "colorway": [
           "#636efa",
           "#EF553B",
           "#00cc96",
           "#ab63fa",
           "#FFA15A",
           "#19d3f3",
           "#FF6692",
           "#B6E880",
           "#FF97FF",
           "#FECB52"
          ],
          "font": {
           "color": "#2a3f5f"
          },
          "geo": {
           "bgcolor": "white",
           "lakecolor": "white",
           "landcolor": "#E5ECF6",
           "showlakes": true,
           "showland": true,
           "subunitcolor": "white"
          },
          "hoverlabel": {
           "align": "left"
          },
          "hovermode": "closest",
          "mapbox": {
           "style": "light"
          },
          "paper_bgcolor": "white",
          "plot_bgcolor": "#E5ECF6",
          "polar": {
           "angularaxis": {
            "gridcolor": "white",
            "linecolor": "white",
            "ticks": ""
           },
           "bgcolor": "#E5ECF6",
           "radialaxis": {
            "gridcolor": "white",
            "linecolor": "white",
            "ticks": ""
           }
          },
          "scene": {
           "xaxis": {
            "backgroundcolor": "#E5ECF6",
            "gridcolor": "white",
            "gridwidth": 2,
            "linecolor": "white",
            "showbackground": true,
            "ticks": "",
            "zerolinecolor": "white"
           },
           "yaxis": {
            "backgroundcolor": "#E5ECF6",
            "gridcolor": "white",
            "gridwidth": 2,
            "linecolor": "white",
            "showbackground": true,
            "ticks": "",
            "zerolinecolor": "white"
           },
           "zaxis": {
            "backgroundcolor": "#E5ECF6",
            "gridcolor": "white",
            "gridwidth": 2,
            "linecolor": "white",
            "showbackground": true,
            "ticks": "",
            "zerolinecolor": "white"
           }
          },
          "shapedefaults": {
           "line": {
            "color": "#2a3f5f"
           }
          },
          "ternary": {
           "aaxis": {
            "gridcolor": "white",
            "linecolor": "white",
            "ticks": ""
           },
           "baxis": {
            "gridcolor": "white",
            "linecolor": "white",
            "ticks": ""
           },
           "bgcolor": "#E5ECF6",
           "caxis": {
            "gridcolor": "white",
            "linecolor": "white",
            "ticks": ""
           }
          },
          "title": {
           "x": 0.05
          },
          "xaxis": {
           "automargin": true,
           "gridcolor": "white",
           "linecolor": "white",
           "ticks": "",
           "title": {
            "standoff": 15
           },
           "zerolinecolor": "white",
           "zerolinewidth": 2
          },
          "yaxis": {
           "automargin": true,
           "gridcolor": "white",
           "linecolor": "white",
           "ticks": "",
           "title": {
            "standoff": 15
           },
           "zerolinecolor": "white",
           "zerolinewidth": 2
          }
         }
        },
        "title": {
         "text": "Stacked Confusion Counts by Binned 'inclusion_ratio'"
        },
        "width": 950,
        "xaxis": {
         "title": {
          "text": "inclusion_ratio Bins"
         }
        },
        "yaxis": {
         "title": {
          "text": "Count"
         }
        }
       }
      }
     },
     "metadata": {},
     "output_type": "display_data"
    },
    {
     "name": "stdout",
     "output_type": "stream",
     "text": [
      "\n",
      "=== Per-bin Metrics ===\n",
      "\n",
      "Bin -0.0–1.0:\n",
      "  Accuracy:  0.549\n",
      "  Precision: 0.489\n",
      "  Recall:    0.967\n",
      "  F1 Score:  0.650\n",
      "Final total: 213\n",
      "TP: 103 | TN: 27 | FP: 80 | FN: 3\n"
     ]
    },
    {
     "data": {
      "application/vnd.plotly.v1+json": {
       "config": {
        "plotlyServerURL": "https://plot.ly"
       },
       "data": [
        {
         "insidetextanchor": "middle",
         "marker": {
          "color": "green"
         },
         "name": "TP",
         "text": [
          "48.4%"
         ],
         "textfont": {
          "color": "white",
          "size": 12
         },
         "textposition": "inside",
         "type": "bar",
         "x": [
          "-0.0–1.0"
         ],
         "y": {
          "bdata": "Zw==",
          "dtype": "i1"
         }
        },
        {
         "insidetextanchor": "middle",
         "marker": {
          "color": "gray"
         },
         "name": "TN",
         "text": [
          "12.7%"
         ],
         "textfont": {
          "color": "white",
          "size": 12
         },
         "textposition": "inside",
         "type": "bar",
         "x": [
          "-0.0–1.0"
         ],
         "y": {
          "bdata": "Gw==",
          "dtype": "i1"
         }
        },
        {
         "insidetextanchor": "middle",
         "marker": {
          "color": "red"
         },
         "name": "FP",
         "text": [
          "37.6%"
         ],
         "textfont": {
          "color": "white",
          "size": 12
         },
         "textposition": "inside",
         "type": "bar",
         "x": [
          "-0.0–1.0"
         ],
         "y": {
          "bdata": "UA==",
          "dtype": "i1"
         }
        },
        {
         "insidetextanchor": "middle",
         "marker": {
          "color": "black"
         },
         "name": "FN",
         "text": [
          "1.4%"
         ],
         "textfont": {
          "color": "white",
          "size": 12
         },
         "textposition": "inside",
         "type": "bar",
         "x": [
          "-0.0–1.0"
         ],
         "y": {
          "bdata": "Aw==",
          "dtype": "i1"
         }
        }
       ],
       "layout": {
        "barmode": "stack",
        "height": 500,
        "template": {
         "data": {
          "bar": [
           {
            "error_x": {
             "color": "#2a3f5f"
            },
            "error_y": {
             "color": "#2a3f5f"
            },
            "marker": {
             "line": {
              "color": "#E5ECF6",
              "width": 0.5
             },
             "pattern": {
              "fillmode": "overlay",
              "size": 10,
              "solidity": 0.2
             }
            },
            "type": "bar"
           }
          ],
          "barpolar": [
           {
            "marker": {
             "line": {
              "color": "#E5ECF6",
              "width": 0.5
             },
             "pattern": {
              "fillmode": "overlay",
              "size": 10,
              "solidity": 0.2
             }
            },
            "type": "barpolar"
           }
          ],
          "carpet": [
           {
            "aaxis": {
             "endlinecolor": "#2a3f5f",
             "gridcolor": "white",
             "linecolor": "white",
             "minorgridcolor": "white",
             "startlinecolor": "#2a3f5f"
            },
            "baxis": {
             "endlinecolor": "#2a3f5f",
             "gridcolor": "white",
             "linecolor": "white",
             "minorgridcolor": "white",
             "startlinecolor": "#2a3f5f"
            },
            "type": "carpet"
           }
          ],
          "choropleth": [
           {
            "colorbar": {
             "outlinewidth": 0,
             "ticks": ""
            },
            "type": "choropleth"
           }
          ],
          "contour": [
           {
            "colorbar": {
             "outlinewidth": 0,
             "ticks": ""
            },
            "colorscale": [
             [
              0,
              "#0d0887"
             ],
             [
              0.1111111111111111,
              "#46039f"
             ],
             [
              0.2222222222222222,
              "#7201a8"
             ],
             [
              0.3333333333333333,
              "#9c179e"
             ],
             [
              0.4444444444444444,
              "#bd3786"
             ],
             [
              0.5555555555555556,
              "#d8576b"
             ],
             [
              0.6666666666666666,
              "#ed7953"
             ],
             [
              0.7777777777777778,
              "#fb9f3a"
             ],
             [
              0.8888888888888888,
              "#fdca26"
             ],
             [
              1,
              "#f0f921"
             ]
            ],
            "type": "contour"
           }
          ],
          "contourcarpet": [
           {
            "colorbar": {
             "outlinewidth": 0,
             "ticks": ""
            },
            "type": "contourcarpet"
           }
          ],
          "heatmap": [
           {
            "colorbar": {
             "outlinewidth": 0,
             "ticks": ""
            },
            "colorscale": [
             [
              0,
              "#0d0887"
             ],
             [
              0.1111111111111111,
              "#46039f"
             ],
             [
              0.2222222222222222,
              "#7201a8"
             ],
             [
              0.3333333333333333,
              "#9c179e"
             ],
             [
              0.4444444444444444,
              "#bd3786"
             ],
             [
              0.5555555555555556,
              "#d8576b"
             ],
             [
              0.6666666666666666,
              "#ed7953"
             ],
             [
              0.7777777777777778,
              "#fb9f3a"
             ],
             [
              0.8888888888888888,
              "#fdca26"
             ],
             [
              1,
              "#f0f921"
             ]
            ],
            "type": "heatmap"
           }
          ],
          "histogram": [
           {
            "marker": {
             "pattern": {
              "fillmode": "overlay",
              "size": 10,
              "solidity": 0.2
             }
            },
            "type": "histogram"
           }
          ],
          "histogram2d": [
           {
            "colorbar": {
             "outlinewidth": 0,
             "ticks": ""
            },
            "colorscale": [
             [
              0,
              "#0d0887"
             ],
             [
              0.1111111111111111,
              "#46039f"
             ],
             [
              0.2222222222222222,
              "#7201a8"
             ],
             [
              0.3333333333333333,
              "#9c179e"
             ],
             [
              0.4444444444444444,
              "#bd3786"
             ],
             [
              0.5555555555555556,
              "#d8576b"
             ],
             [
              0.6666666666666666,
              "#ed7953"
             ],
             [
              0.7777777777777778,
              "#fb9f3a"
             ],
             [
              0.8888888888888888,
              "#fdca26"
             ],
             [
              1,
              "#f0f921"
             ]
            ],
            "type": "histogram2d"
           }
          ],
          "histogram2dcontour": [
           {
            "colorbar": {
             "outlinewidth": 0,
             "ticks": ""
            },
            "colorscale": [
             [
              0,
              "#0d0887"
             ],
             [
              0.1111111111111111,
              "#46039f"
             ],
             [
              0.2222222222222222,
              "#7201a8"
             ],
             [
              0.3333333333333333,
              "#9c179e"
             ],
             [
              0.4444444444444444,
              "#bd3786"
             ],
             [
              0.5555555555555556,
              "#d8576b"
             ],
             [
              0.6666666666666666,
              "#ed7953"
             ],
             [
              0.7777777777777778,
              "#fb9f3a"
             ],
             [
              0.8888888888888888,
              "#fdca26"
             ],
             [
              1,
              "#f0f921"
             ]
            ],
            "type": "histogram2dcontour"
           }
          ],
          "mesh3d": [
           {
            "colorbar": {
             "outlinewidth": 0,
             "ticks": ""
            },
            "type": "mesh3d"
           }
          ],
          "parcoords": [
           {
            "line": {
             "colorbar": {
              "outlinewidth": 0,
              "ticks": ""
             }
            },
            "type": "parcoords"
           }
          ],
          "pie": [
           {
            "automargin": true,
            "type": "pie"
           }
          ],
          "scatter": [
           {
            "fillpattern": {
             "fillmode": "overlay",
             "size": 10,
             "solidity": 0.2
            },
            "type": "scatter"
           }
          ],
          "scatter3d": [
           {
            "line": {
             "colorbar": {
              "outlinewidth": 0,
              "ticks": ""
             }
            },
            "marker": {
             "colorbar": {
              "outlinewidth": 0,
              "ticks": ""
             }
            },
            "type": "scatter3d"
           }
          ],
          "scattercarpet": [
           {
            "marker": {
             "colorbar": {
              "outlinewidth": 0,
              "ticks": ""
             }
            },
            "type": "scattercarpet"
           }
          ],
          "scattergeo": [
           {
            "marker": {
             "colorbar": {
              "outlinewidth": 0,
              "ticks": ""
             }
            },
            "type": "scattergeo"
           }
          ],
          "scattergl": [
           {
            "marker": {
             "colorbar": {
              "outlinewidth": 0,
              "ticks": ""
             }
            },
            "type": "scattergl"
           }
          ],
          "scattermap": [
           {
            "marker": {
             "colorbar": {
              "outlinewidth": 0,
              "ticks": ""
             }
            },
            "type": "scattermap"
           }
          ],
          "scattermapbox": [
           {
            "marker": {
             "colorbar": {
              "outlinewidth": 0,
              "ticks": ""
             }
            },
            "type": "scattermapbox"
           }
          ],
          "scatterpolar": [
           {
            "marker": {
             "colorbar": {
              "outlinewidth": 0,
              "ticks": ""
             }
            },
            "type": "scatterpolar"
           }
          ],
          "scatterpolargl": [
           {
            "marker": {
             "colorbar": {
              "outlinewidth": 0,
              "ticks": ""
             }
            },
            "type": "scatterpolargl"
           }
          ],
          "scatterternary": [
           {
            "marker": {
             "colorbar": {
              "outlinewidth": 0,
              "ticks": ""
             }
            },
            "type": "scatterternary"
           }
          ],
          "surface": [
           {
            "colorbar": {
             "outlinewidth": 0,
             "ticks": ""
            },
            "colorscale": [
             [
              0,
              "#0d0887"
             ],
             [
              0.1111111111111111,
              "#46039f"
             ],
             [
              0.2222222222222222,
              "#7201a8"
             ],
             [
              0.3333333333333333,
              "#9c179e"
             ],
             [
              0.4444444444444444,
              "#bd3786"
             ],
             [
              0.5555555555555556,
              "#d8576b"
             ],
             [
              0.6666666666666666,
              "#ed7953"
             ],
             [
              0.7777777777777778,
              "#fb9f3a"
             ],
             [
              0.8888888888888888,
              "#fdca26"
             ],
             [
              1,
              "#f0f921"
             ]
            ],
            "type": "surface"
           }
          ],
          "table": [
           {
            "cells": {
             "fill": {
              "color": "#EBF0F8"
             },
             "line": {
              "color": "white"
             }
            },
            "header": {
             "fill": {
              "color": "#C8D4E3"
             },
             "line": {
              "color": "white"
             }
            },
            "type": "table"
           }
          ]
         },
         "layout": {
          "annotationdefaults": {
           "arrowcolor": "#2a3f5f",
           "arrowhead": 0,
           "arrowwidth": 1
          },
          "autotypenumbers": "strict",
          "coloraxis": {
           "colorbar": {
            "outlinewidth": 0,
            "ticks": ""
           }
          },
          "colorscale": {
           "diverging": [
            [
             0,
             "#8e0152"
            ],
            [
             0.1,
             "#c51b7d"
            ],
            [
             0.2,
             "#de77ae"
            ],
            [
             0.3,
             "#f1b6da"
            ],
            [
             0.4,
             "#fde0ef"
            ],
            [
             0.5,
             "#f7f7f7"
            ],
            [
             0.6,
             "#e6f5d0"
            ],
            [
             0.7,
             "#b8e186"
            ],
            [
             0.8,
             "#7fbc41"
            ],
            [
             0.9,
             "#4d9221"
            ],
            [
             1,
             "#276419"
            ]
           ],
           "sequential": [
            [
             0,
             "#0d0887"
            ],
            [
             0.1111111111111111,
             "#46039f"
            ],
            [
             0.2222222222222222,
             "#7201a8"
            ],
            [
             0.3333333333333333,
             "#9c179e"
            ],
            [
             0.4444444444444444,
             "#bd3786"
            ],
            [
             0.5555555555555556,
             "#d8576b"
            ],
            [
             0.6666666666666666,
             "#ed7953"
            ],
            [
             0.7777777777777778,
             "#fb9f3a"
            ],
            [
             0.8888888888888888,
             "#fdca26"
            ],
            [
             1,
             "#f0f921"
            ]
           ],
           "sequentialminus": [
            [
             0,
             "#0d0887"
            ],
            [
             0.1111111111111111,
             "#46039f"
            ],
            [
             0.2222222222222222,
             "#7201a8"
            ],
            [
             0.3333333333333333,
             "#9c179e"
            ],
            [
             0.4444444444444444,
             "#bd3786"
            ],
            [
             0.5555555555555556,
             "#d8576b"
            ],
            [
             0.6666666666666666,
             "#ed7953"
            ],
            [
             0.7777777777777778,
             "#fb9f3a"
            ],
            [
             0.8888888888888888,
             "#fdca26"
            ],
            [
             1,
             "#f0f921"
            ]
           ]
          },
          "colorway": [
           "#636efa",
           "#EF553B",
           "#00cc96",
           "#ab63fa",
           "#FFA15A",
           "#19d3f3",
           "#FF6692",
           "#B6E880",
           "#FF97FF",
           "#FECB52"
          ],
          "font": {
           "color": "#2a3f5f"
          },
          "geo": {
           "bgcolor": "white",
           "lakecolor": "white",
           "landcolor": "#E5ECF6",
           "showlakes": true,
           "showland": true,
           "subunitcolor": "white"
          },
          "hoverlabel": {
           "align": "left"
          },
          "hovermode": "closest",
          "mapbox": {
           "style": "light"
          },
          "paper_bgcolor": "white",
          "plot_bgcolor": "#E5ECF6",
          "polar": {
           "angularaxis": {
            "gridcolor": "white",
            "linecolor": "white",
            "ticks": ""
           },
           "bgcolor": "#E5ECF6",
           "radialaxis": {
            "gridcolor": "white",
            "linecolor": "white",
            "ticks": ""
           }
          },
          "scene": {
           "xaxis": {
            "backgroundcolor": "#E5ECF6",
            "gridcolor": "white",
            "gridwidth": 2,
            "linecolor": "white",
            "showbackground": true,
            "ticks": "",
            "zerolinecolor": "white"
           },
           "yaxis": {
            "backgroundcolor": "#E5ECF6",
            "gridcolor": "white",
            "gridwidth": 2,
            "linecolor": "white",
            "showbackground": true,
            "ticks": "",
            "zerolinecolor": "white"
           },
           "zaxis": {
            "backgroundcolor": "#E5ECF6",
            "gridcolor": "white",
            "gridwidth": 2,
            "linecolor": "white",
            "showbackground": true,
            "ticks": "",
            "zerolinecolor": "white"
           }
          },
          "shapedefaults": {
           "line": {
            "color": "#2a3f5f"
           }
          },
          "ternary": {
           "aaxis": {
            "gridcolor": "white",
            "linecolor": "white",
            "ticks": ""
           },
           "baxis": {
            "gridcolor": "white",
            "linecolor": "white",
            "ticks": ""
           },
           "bgcolor": "#E5ECF6",
           "caxis": {
            "gridcolor": "white",
            "linecolor": "white",
            "ticks": ""
           }
          },
          "title": {
           "x": 0.05
          },
          "xaxis": {
           "automargin": true,
           "gridcolor": "white",
           "linecolor": "white",
           "ticks": "",
           "title": {
            "standoff": 15
           },
           "zerolinecolor": "white",
           "zerolinewidth": 2
          },
          "yaxis": {
           "automargin": true,
           "gridcolor": "white",
           "linecolor": "white",
           "ticks": "",
           "title": {
            "standoff": 15
           },
           "zerolinecolor": "white",
           "zerolinewidth": 2
          }
         }
        },
        "title": {
         "text": "Stacked Confusion Counts by Binned 'inclusion_ratio'"
        },
        "width": 950,
        "xaxis": {
         "title": {
          "text": "inclusion_ratio Bins"
         }
        },
        "yaxis": {
         "title": {
          "text": "Count"
         }
        }
       }
      }
     },
     "metadata": {},
     "output_type": "display_data"
    },
    {
     "name": "stdout",
     "output_type": "stream",
     "text": [
      "\n",
      "=== Per-bin Metrics ===\n",
      "\n",
      "Bin -0.0–1.0:\n",
      "  Accuracy:  0.610\n",
      "  Precision: 0.563\n",
      "  Recall:    0.972\n",
      "  F1 Score:  0.713\n",
      "Final total: 213\n",
      "TP: 91 | TN: 31 | FP: 87 | FN: 4\n"
     ]
    },
    {
     "data": {
      "application/vnd.plotly.v1+json": {
       "config": {
        "plotlyServerURL": "https://plot.ly"
       },
       "data": [
        {
         "insidetextanchor": "middle",
         "marker": {
          "color": "green"
         },
         "name": "TP",
         "text": [
          "42.7%"
         ],
         "textfont": {
          "color": "white",
          "size": 12
         },
         "textposition": "inside",
         "type": "bar",
         "x": [
          "-0.0–1.0"
         ],
         "y": {
          "bdata": "Ww==",
          "dtype": "i1"
         }
        },
        {
         "insidetextanchor": "middle",
         "marker": {
          "color": "gray"
         },
         "name": "TN",
         "text": [
          "14.6%"
         ],
         "textfont": {
          "color": "white",
          "size": 12
         },
         "textposition": "inside",
         "type": "bar",
         "x": [
          "-0.0–1.0"
         ],
         "y": {
          "bdata": "Hw==",
          "dtype": "i1"
         }
        },
        {
         "insidetextanchor": "middle",
         "marker": {
          "color": "red"
         },
         "name": "FP",
         "text": [
          "40.8%"
         ],
         "textfont": {
          "color": "white",
          "size": 12
         },
         "textposition": "inside",
         "type": "bar",
         "x": [
          "-0.0–1.0"
         ],
         "y": {
          "bdata": "Vw==",
          "dtype": "i1"
         }
        },
        {
         "insidetextanchor": "middle",
         "marker": {
          "color": "black"
         },
         "name": "FN",
         "text": [
          "1.9%"
         ],
         "textfont": {
          "color": "white",
          "size": 12
         },
         "textposition": "inside",
         "type": "bar",
         "x": [
          "-0.0–1.0"
         ],
         "y": {
          "bdata": "BA==",
          "dtype": "i1"
         }
        }
       ],
       "layout": {
        "barmode": "stack",
        "height": 500,
        "template": {
         "data": {
          "bar": [
           {
            "error_x": {
             "color": "#2a3f5f"
            },
            "error_y": {
             "color": "#2a3f5f"
            },
            "marker": {
             "line": {
              "color": "#E5ECF6",
              "width": 0.5
             },
             "pattern": {
              "fillmode": "overlay",
              "size": 10,
              "solidity": 0.2
             }
            },
            "type": "bar"
           }
          ],
          "barpolar": [
           {
            "marker": {
             "line": {
              "color": "#E5ECF6",
              "width": 0.5
             },
             "pattern": {
              "fillmode": "overlay",
              "size": 10,
              "solidity": 0.2
             }
            },
            "type": "barpolar"
           }
          ],
          "carpet": [
           {
            "aaxis": {
             "endlinecolor": "#2a3f5f",
             "gridcolor": "white",
             "linecolor": "white",
             "minorgridcolor": "white",
             "startlinecolor": "#2a3f5f"
            },
            "baxis": {
             "endlinecolor": "#2a3f5f",
             "gridcolor": "white",
             "linecolor": "white",
             "minorgridcolor": "white",
             "startlinecolor": "#2a3f5f"
            },
            "type": "carpet"
           }
          ],
          "choropleth": [
           {
            "colorbar": {
             "outlinewidth": 0,
             "ticks": ""
            },
            "type": "choropleth"
           }
          ],
          "contour": [
           {
            "colorbar": {
             "outlinewidth": 0,
             "ticks": ""
            },
            "colorscale": [
             [
              0,
              "#0d0887"
             ],
             [
              0.1111111111111111,
              "#46039f"
             ],
             [
              0.2222222222222222,
              "#7201a8"
             ],
             [
              0.3333333333333333,
              "#9c179e"
             ],
             [
              0.4444444444444444,
              "#bd3786"
             ],
             [
              0.5555555555555556,
              "#d8576b"
             ],
             [
              0.6666666666666666,
              "#ed7953"
             ],
             [
              0.7777777777777778,
              "#fb9f3a"
             ],
             [
              0.8888888888888888,
              "#fdca26"
             ],
             [
              1,
              "#f0f921"
             ]
            ],
            "type": "contour"
           }
          ],
          "contourcarpet": [
           {
            "colorbar": {
             "outlinewidth": 0,
             "ticks": ""
            },
            "type": "contourcarpet"
           }
          ],
          "heatmap": [
           {
            "colorbar": {
             "outlinewidth": 0,
             "ticks": ""
            },
            "colorscale": [
             [
              0,
              "#0d0887"
             ],
             [
              0.1111111111111111,
              "#46039f"
             ],
             [
              0.2222222222222222,
              "#7201a8"
             ],
             [
              0.3333333333333333,
              "#9c179e"
             ],
             [
              0.4444444444444444,
              "#bd3786"
             ],
             [
              0.5555555555555556,
              "#d8576b"
             ],
             [
              0.6666666666666666,
              "#ed7953"
             ],
             [
              0.7777777777777778,
              "#fb9f3a"
             ],
             [
              0.8888888888888888,
              "#fdca26"
             ],
             [
              1,
              "#f0f921"
             ]
            ],
            "type": "heatmap"
           }
          ],
          "histogram": [
           {
            "marker": {
             "pattern": {
              "fillmode": "overlay",
              "size": 10,
              "solidity": 0.2
             }
            },
            "type": "histogram"
           }
          ],
          "histogram2d": [
           {
            "colorbar": {
             "outlinewidth": 0,
             "ticks": ""
            },
            "colorscale": [
             [
              0,
              "#0d0887"
             ],
             [
              0.1111111111111111,
              "#46039f"
             ],
             [
              0.2222222222222222,
              "#7201a8"
             ],
             [
              0.3333333333333333,
              "#9c179e"
             ],
             [
              0.4444444444444444,
              "#bd3786"
             ],
             [
              0.5555555555555556,
              "#d8576b"
             ],
             [
              0.6666666666666666,
              "#ed7953"
             ],
             [
              0.7777777777777778,
              "#fb9f3a"
             ],
             [
              0.8888888888888888,
              "#fdca26"
             ],
             [
              1,
              "#f0f921"
             ]
            ],
            "type": "histogram2d"
           }
          ],
          "histogram2dcontour": [
           {
            "colorbar": {
             "outlinewidth": 0,
             "ticks": ""
            },
            "colorscale": [
             [
              0,
              "#0d0887"
             ],
             [
              0.1111111111111111,
              "#46039f"
             ],
             [
              0.2222222222222222,
              "#7201a8"
             ],
             [
              0.3333333333333333,
              "#9c179e"
             ],
             [
              0.4444444444444444,
              "#bd3786"
             ],
             [
              0.5555555555555556,
              "#d8576b"
             ],
             [
              0.6666666666666666,
              "#ed7953"
             ],
             [
              0.7777777777777778,
              "#fb9f3a"
             ],
             [
              0.8888888888888888,
              "#fdca26"
             ],
             [
              1,
              "#f0f921"
             ]
            ],
            "type": "histogram2dcontour"
           }
          ],
          "mesh3d": [
           {
            "colorbar": {
             "outlinewidth": 0,
             "ticks": ""
            },
            "type": "mesh3d"
           }
          ],
          "parcoords": [
           {
            "line": {
             "colorbar": {
              "outlinewidth": 0,
              "ticks": ""
             }
            },
            "type": "parcoords"
           }
          ],
          "pie": [
           {
            "automargin": true,
            "type": "pie"
           }
          ],
          "scatter": [
           {
            "fillpattern": {
             "fillmode": "overlay",
             "size": 10,
             "solidity": 0.2
            },
            "type": "scatter"
           }
          ],
          "scatter3d": [
           {
            "line": {
             "colorbar": {
              "outlinewidth": 0,
              "ticks": ""
             }
            },
            "marker": {
             "colorbar": {
              "outlinewidth": 0,
              "ticks": ""
             }
            },
            "type": "scatter3d"
           }
          ],
          "scattercarpet": [
           {
            "marker": {
             "colorbar": {
              "outlinewidth": 0,
              "ticks": ""
             }
            },
            "type": "scattercarpet"
           }
          ],
          "scattergeo": [
           {
            "marker": {
             "colorbar": {
              "outlinewidth": 0,
              "ticks": ""
             }
            },
            "type": "scattergeo"
           }
          ],
          "scattergl": [
           {
            "marker": {
             "colorbar": {
              "outlinewidth": 0,
              "ticks": ""
             }
            },
            "type": "scattergl"
           }
          ],
          "scattermap": [
           {
            "marker": {
             "colorbar": {
              "outlinewidth": 0,
              "ticks": ""
             }
            },
            "type": "scattermap"
           }
          ],
          "scattermapbox": [
           {
            "marker": {
             "colorbar": {
              "outlinewidth": 0,
              "ticks": ""
             }
            },
            "type": "scattermapbox"
           }
          ],
          "scatterpolar": [
           {
            "marker": {
             "colorbar": {
              "outlinewidth": 0,
              "ticks": ""
             }
            },
            "type": "scatterpolar"
           }
          ],
          "scatterpolargl": [
           {
            "marker": {
             "colorbar": {
              "outlinewidth": 0,
              "ticks": ""
             }
            },
            "type": "scatterpolargl"
           }
          ],
          "scatterternary": [
           {
            "marker": {
             "colorbar": {
              "outlinewidth": 0,
              "ticks": ""
             }
            },
            "type": "scatterternary"
           }
          ],
          "surface": [
           {
            "colorbar": {
             "outlinewidth": 0,
             "ticks": ""
            },
            "colorscale": [
             [
              0,
              "#0d0887"
             ],
             [
              0.1111111111111111,
              "#46039f"
             ],
             [
              0.2222222222222222,
              "#7201a8"
             ],
             [
              0.3333333333333333,
              "#9c179e"
             ],
             [
              0.4444444444444444,
              "#bd3786"
             ],
             [
              0.5555555555555556,
              "#d8576b"
             ],
             [
              0.6666666666666666,
              "#ed7953"
             ],
             [
              0.7777777777777778,
              "#fb9f3a"
             ],
             [
              0.8888888888888888,
              "#fdca26"
             ],
             [
              1,
              "#f0f921"
             ]
            ],
            "type": "surface"
           }
          ],
          "table": [
           {
            "cells": {
             "fill": {
              "color": "#EBF0F8"
             },
             "line": {
              "color": "white"
             }
            },
            "header": {
             "fill": {
              "color": "#C8D4E3"
             },
             "line": {
              "color": "white"
             }
            },
            "type": "table"
           }
          ]
         },
         "layout": {
          "annotationdefaults": {
           "arrowcolor": "#2a3f5f",
           "arrowhead": 0,
           "arrowwidth": 1
          },
          "autotypenumbers": "strict",
          "coloraxis": {
           "colorbar": {
            "outlinewidth": 0,
            "ticks": ""
           }
          },
          "colorscale": {
           "diverging": [
            [
             0,
             "#8e0152"
            ],
            [
             0.1,
             "#c51b7d"
            ],
            [
             0.2,
             "#de77ae"
            ],
            [
             0.3,
             "#f1b6da"
            ],
            [
             0.4,
             "#fde0ef"
            ],
            [
             0.5,
             "#f7f7f7"
            ],
            [
             0.6,
             "#e6f5d0"
            ],
            [
             0.7,
             "#b8e186"
            ],
            [
             0.8,
             "#7fbc41"
            ],
            [
             0.9,
             "#4d9221"
            ],
            [
             1,
             "#276419"
            ]
           ],
           "sequential": [
            [
             0,
             "#0d0887"
            ],
            [
             0.1111111111111111,
             "#46039f"
            ],
            [
             0.2222222222222222,
             "#7201a8"
            ],
            [
             0.3333333333333333,
             "#9c179e"
            ],
            [
             0.4444444444444444,
             "#bd3786"
            ],
            [
             0.5555555555555556,
             "#d8576b"
            ],
            [
             0.6666666666666666,
             "#ed7953"
            ],
            [
             0.7777777777777778,
             "#fb9f3a"
            ],
            [
             0.8888888888888888,
             "#fdca26"
            ],
            [
             1,
             "#f0f921"
            ]
           ],
           "sequentialminus": [
            [
             0,
             "#0d0887"
            ],
            [
             0.1111111111111111,
             "#46039f"
            ],
            [
             0.2222222222222222,
             "#7201a8"
            ],
            [
             0.3333333333333333,
             "#9c179e"
            ],
            [
             0.4444444444444444,
             "#bd3786"
            ],
            [
             0.5555555555555556,
             "#d8576b"
            ],
            [
             0.6666666666666666,
             "#ed7953"
            ],
            [
             0.7777777777777778,
             "#fb9f3a"
            ],
            [
             0.8888888888888888,
             "#fdca26"
            ],
            [
             1,
             "#f0f921"
            ]
           ]
          },
          "colorway": [
           "#636efa",
           "#EF553B",
           "#00cc96",
           "#ab63fa",
           "#FFA15A",
           "#19d3f3",
           "#FF6692",
           "#B6E880",
           "#FF97FF",
           "#FECB52"
          ],
          "font": {
           "color": "#2a3f5f"
          },
          "geo": {
           "bgcolor": "white",
           "lakecolor": "white",
           "landcolor": "#E5ECF6",
           "showlakes": true,
           "showland": true,
           "subunitcolor": "white"
          },
          "hoverlabel": {
           "align": "left"
          },
          "hovermode": "closest",
          "mapbox": {
           "style": "light"
          },
          "paper_bgcolor": "white",
          "plot_bgcolor": "#E5ECF6",
          "polar": {
           "angularaxis": {
            "gridcolor": "white",
            "linecolor": "white",
            "ticks": ""
           },
           "bgcolor": "#E5ECF6",
           "radialaxis": {
            "gridcolor": "white",
            "linecolor": "white",
            "ticks": ""
           }
          },
          "scene": {
           "xaxis": {
            "backgroundcolor": "#E5ECF6",
            "gridcolor": "white",
            "gridwidth": 2,
            "linecolor": "white",
            "showbackground": true,
            "ticks": "",
            "zerolinecolor": "white"
           },
           "yaxis": {
            "backgroundcolor": "#E5ECF6",
            "gridcolor": "white",
            "gridwidth": 2,
            "linecolor": "white",
            "showbackground": true,
            "ticks": "",
            "zerolinecolor": "white"
           },
           "zaxis": {
            "backgroundcolor": "#E5ECF6",
            "gridcolor": "white",
            "gridwidth": 2,
            "linecolor": "white",
            "showbackground": true,
            "ticks": "",
            "zerolinecolor": "white"
           }
          },
          "shapedefaults": {
           "line": {
            "color": "#2a3f5f"
           }
          },
          "ternary": {
           "aaxis": {
            "gridcolor": "white",
            "linecolor": "white",
            "ticks": ""
           },
           "baxis": {
            "gridcolor": "white",
            "linecolor": "white",
            "ticks": ""
           },
           "bgcolor": "#E5ECF6",
           "caxis": {
            "gridcolor": "white",
            "linecolor": "white",
            "ticks": ""
           }
          },
          "title": {
           "x": 0.05
          },
          "xaxis": {
           "automargin": true,
           "gridcolor": "white",
           "linecolor": "white",
           "ticks": "",
           "title": {
            "standoff": 15
           },
           "zerolinecolor": "white",
           "zerolinewidth": 2
          },
          "yaxis": {
           "automargin": true,
           "gridcolor": "white",
           "linecolor": "white",
           "ticks": "",
           "title": {
            "standoff": 15
           },
           "zerolinecolor": "white",
           "zerolinewidth": 2
          }
         }
        },
        "title": {
         "text": "Stacked Confusion Counts by Binned 'inclusion_ratio'"
        },
        "width": 950,
        "xaxis": {
         "title": {
          "text": "inclusion_ratio Bins"
         }
        },
        "yaxis": {
         "title": {
          "text": "Count"
         }
        }
       }
      }
     },
     "metadata": {},
     "output_type": "display_data"
    },
    {
     "name": "stdout",
     "output_type": "stream",
     "text": [
      "\n",
      "=== Per-bin Metrics ===\n",
      "\n",
      "Bin -0.0–1.0:\n",
      "  Accuracy:  0.573\n",
      "  Precision: 0.511\n",
      "  Recall:    0.958\n",
      "  F1 Score:  0.667\n",
      "Final total: 213\n",
      "TP: 87 | TN: 22 | FP: 102 | FN: 2\n"
     ]
    },
    {
     "data": {
      "application/vnd.plotly.v1+json": {
       "config": {
        "plotlyServerURL": "https://plot.ly"
       },
       "data": [
        {
         "insidetextanchor": "middle",
         "marker": {
          "color": "green"
         },
         "name": "TP",
         "text": [
          "11.3%",
          "41.2%",
          "57.6%"
         ],
         "textfont": {
          "color": "white",
          "size": 12
         },
         "textposition": "inside",
         "type": "bar",
         "x": [
          "-0.0–0.33",
          "0.33–0.67",
          "0.67–1.0"
         ],
         "y": {
          "bdata": "Bhw1",
          "dtype": "i1"
         }
        },
        {
         "insidetextanchor": "middle",
         "marker": {
          "color": "gray"
         },
         "name": "TN",
         "text": [
          "11.3%",
          "5.9%",
          "13.0%"
         ],
         "textfont": {
          "color": "white",
          "size": 12
         },
         "textposition": "inside",
         "type": "bar",
         "x": [
          "-0.0–0.33",
          "0.33–0.67",
          "0.67–1.0"
         ],
         "y": {
          "bdata": "BgQM",
          "dtype": "i1"
         }
        },
        {
         "insidetextanchor": "middle",
         "marker": {
          "color": "red"
         },
         "name": "FP",
         "text": [
          "77.4%",
          "50.0%",
          "29.3%"
         ],
         "textfont": {
          "color": "white",
          "size": 12
         },
         "textposition": "inside",
         "type": "bar",
         "x": [
          "-0.0–0.33",
          "0.33–0.67",
          "0.67–1.0"
         ],
         "y": {
          "bdata": "KSIb",
          "dtype": "i1"
         }
        },
        {
         "insidetextanchor": "middle",
         "marker": {
          "color": "black"
         },
         "name": "FN",
         "text": [
          "0.0%",
          "2.9%",
          "0.0%"
         ],
         "textfont": {
          "color": "white",
          "size": 12
         },
         "textposition": "inside",
         "type": "bar",
         "x": [
          "-0.0–0.33",
          "0.33–0.67",
          "0.67–1.0"
         ],
         "y": {
          "bdata": "AAIA",
          "dtype": "i1"
         }
        }
       ],
       "layout": {
        "barmode": "stack",
        "height": 500,
        "template": {
         "data": {
          "bar": [
           {
            "error_x": {
             "color": "#2a3f5f"
            },
            "error_y": {
             "color": "#2a3f5f"
            },
            "marker": {
             "line": {
              "color": "#E5ECF6",
              "width": 0.5
             },
             "pattern": {
              "fillmode": "overlay",
              "size": 10,
              "solidity": 0.2
             }
            },
            "type": "bar"
           }
          ],
          "barpolar": [
           {
            "marker": {
             "line": {
              "color": "#E5ECF6",
              "width": 0.5
             },
             "pattern": {
              "fillmode": "overlay",
              "size": 10,
              "solidity": 0.2
             }
            },
            "type": "barpolar"
           }
          ],
          "carpet": [
           {
            "aaxis": {
             "endlinecolor": "#2a3f5f",
             "gridcolor": "white",
             "linecolor": "white",
             "minorgridcolor": "white",
             "startlinecolor": "#2a3f5f"
            },
            "baxis": {
             "endlinecolor": "#2a3f5f",
             "gridcolor": "white",
             "linecolor": "white",
             "minorgridcolor": "white",
             "startlinecolor": "#2a3f5f"
            },
            "type": "carpet"
           }
          ],
          "choropleth": [
           {
            "colorbar": {
             "outlinewidth": 0,
             "ticks": ""
            },
            "type": "choropleth"
           }
          ],
          "contour": [
           {
            "colorbar": {
             "outlinewidth": 0,
             "ticks": ""
            },
            "colorscale": [
             [
              0,
              "#0d0887"
             ],
             [
              0.1111111111111111,
              "#46039f"
             ],
             [
              0.2222222222222222,
              "#7201a8"
             ],
             [
              0.3333333333333333,
              "#9c179e"
             ],
             [
              0.4444444444444444,
              "#bd3786"
             ],
             [
              0.5555555555555556,
              "#d8576b"
             ],
             [
              0.6666666666666666,
              "#ed7953"
             ],
             [
              0.7777777777777778,
              "#fb9f3a"
             ],
             [
              0.8888888888888888,
              "#fdca26"
             ],
             [
              1,
              "#f0f921"
             ]
            ],
            "type": "contour"
           }
          ],
          "contourcarpet": [
           {
            "colorbar": {
             "outlinewidth": 0,
             "ticks": ""
            },
            "type": "contourcarpet"
           }
          ],
          "heatmap": [
           {
            "colorbar": {
             "outlinewidth": 0,
             "ticks": ""
            },
            "colorscale": [
             [
              0,
              "#0d0887"
             ],
             [
              0.1111111111111111,
              "#46039f"
             ],
             [
              0.2222222222222222,
              "#7201a8"
             ],
             [
              0.3333333333333333,
              "#9c179e"
             ],
             [
              0.4444444444444444,
              "#bd3786"
             ],
             [
              0.5555555555555556,
              "#d8576b"
             ],
             [
              0.6666666666666666,
              "#ed7953"
             ],
             [
              0.7777777777777778,
              "#fb9f3a"
             ],
             [
              0.8888888888888888,
              "#fdca26"
             ],
             [
              1,
              "#f0f921"
             ]
            ],
            "type": "heatmap"
           }
          ],
          "histogram": [
           {
            "marker": {
             "pattern": {
              "fillmode": "overlay",
              "size": 10,
              "solidity": 0.2
             }
            },
            "type": "histogram"
           }
          ],
          "histogram2d": [
           {
            "colorbar": {
             "outlinewidth": 0,
             "ticks": ""
            },
            "colorscale": [
             [
              0,
              "#0d0887"
             ],
             [
              0.1111111111111111,
              "#46039f"
             ],
             [
              0.2222222222222222,
              "#7201a8"
             ],
             [
              0.3333333333333333,
              "#9c179e"
             ],
             [
              0.4444444444444444,
              "#bd3786"
             ],
             [
              0.5555555555555556,
              "#d8576b"
             ],
             [
              0.6666666666666666,
              "#ed7953"
             ],
             [
              0.7777777777777778,
              "#fb9f3a"
             ],
             [
              0.8888888888888888,
              "#fdca26"
             ],
             [
              1,
              "#f0f921"
             ]
            ],
            "type": "histogram2d"
           }
          ],
          "histogram2dcontour": [
           {
            "colorbar": {
             "outlinewidth": 0,
             "ticks": ""
            },
            "colorscale": [
             [
              0,
              "#0d0887"
             ],
             [
              0.1111111111111111,
              "#46039f"
             ],
             [
              0.2222222222222222,
              "#7201a8"
             ],
             [
              0.3333333333333333,
              "#9c179e"
             ],
             [
              0.4444444444444444,
              "#bd3786"
             ],
             [
              0.5555555555555556,
              "#d8576b"
             ],
             [
              0.6666666666666666,
              "#ed7953"
             ],
             [
              0.7777777777777778,
              "#fb9f3a"
             ],
             [
              0.8888888888888888,
              "#fdca26"
             ],
             [
              1,
              "#f0f921"
             ]
            ],
            "type": "histogram2dcontour"
           }
          ],
          "mesh3d": [
           {
            "colorbar": {
             "outlinewidth": 0,
             "ticks": ""
            },
            "type": "mesh3d"
           }
          ],
          "parcoords": [
           {
            "line": {
             "colorbar": {
              "outlinewidth": 0,
              "ticks": ""
             }
            },
            "type": "parcoords"
           }
          ],
          "pie": [
           {
            "automargin": true,
            "type": "pie"
           }
          ],
          "scatter": [
           {
            "fillpattern": {
             "fillmode": "overlay",
             "size": 10,
             "solidity": 0.2
            },
            "type": "scatter"
           }
          ],
          "scatter3d": [
           {
            "line": {
             "colorbar": {
              "outlinewidth": 0,
              "ticks": ""
             }
            },
            "marker": {
             "colorbar": {
              "outlinewidth": 0,
              "ticks": ""
             }
            },
            "type": "scatter3d"
           }
          ],
          "scattercarpet": [
           {
            "marker": {
             "colorbar": {
              "outlinewidth": 0,
              "ticks": ""
             }
            },
            "type": "scattercarpet"
           }
          ],
          "scattergeo": [
           {
            "marker": {
             "colorbar": {
              "outlinewidth": 0,
              "ticks": ""
             }
            },
            "type": "scattergeo"
           }
          ],
          "scattergl": [
           {
            "marker": {
             "colorbar": {
              "outlinewidth": 0,
              "ticks": ""
             }
            },
            "type": "scattergl"
           }
          ],
          "scattermap": [
           {
            "marker": {
             "colorbar": {
              "outlinewidth": 0,
              "ticks": ""
             }
            },
            "type": "scattermap"
           }
          ],
          "scattermapbox": [
           {
            "marker": {
             "colorbar": {
              "outlinewidth": 0,
              "ticks": ""
             }
            },
            "type": "scattermapbox"
           }
          ],
          "scatterpolar": [
           {
            "marker": {
             "colorbar": {
              "outlinewidth": 0,
              "ticks": ""
             }
            },
            "type": "scatterpolar"
           }
          ],
          "scatterpolargl": [
           {
            "marker": {
             "colorbar": {
              "outlinewidth": 0,
              "ticks": ""
             }
            },
            "type": "scatterpolargl"
           }
          ],
          "scatterternary": [
           {
            "marker": {
             "colorbar": {
              "outlinewidth": 0,
              "ticks": ""
             }
            },
            "type": "scatterternary"
           }
          ],
          "surface": [
           {
            "colorbar": {
             "outlinewidth": 0,
             "ticks": ""
            },
            "colorscale": [
             [
              0,
              "#0d0887"
             ],
             [
              0.1111111111111111,
              "#46039f"
             ],
             [
              0.2222222222222222,
              "#7201a8"
             ],
             [
              0.3333333333333333,
              "#9c179e"
             ],
             [
              0.4444444444444444,
              "#bd3786"
             ],
             [
              0.5555555555555556,
              "#d8576b"
             ],
             [
              0.6666666666666666,
              "#ed7953"
             ],
             [
              0.7777777777777778,
              "#fb9f3a"
             ],
             [
              0.8888888888888888,
              "#fdca26"
             ],
             [
              1,
              "#f0f921"
             ]
            ],
            "type": "surface"
           }
          ],
          "table": [
           {
            "cells": {
             "fill": {
              "color": "#EBF0F8"
             },
             "line": {
              "color": "white"
             }
            },
            "header": {
             "fill": {
              "color": "#C8D4E3"
             },
             "line": {
              "color": "white"
             }
            },
            "type": "table"
           }
          ]
         },
         "layout": {
          "annotationdefaults": {
           "arrowcolor": "#2a3f5f",
           "arrowhead": 0,
           "arrowwidth": 1
          },
          "autotypenumbers": "strict",
          "coloraxis": {
           "colorbar": {
            "outlinewidth": 0,
            "ticks": ""
           }
          },
          "colorscale": {
           "diverging": [
            [
             0,
             "#8e0152"
            ],
            [
             0.1,
             "#c51b7d"
            ],
            [
             0.2,
             "#de77ae"
            ],
            [
             0.3,
             "#f1b6da"
            ],
            [
             0.4,
             "#fde0ef"
            ],
            [
             0.5,
             "#f7f7f7"
            ],
            [
             0.6,
             "#e6f5d0"
            ],
            [
             0.7,
             "#b8e186"
            ],
            [
             0.8,
             "#7fbc41"
            ],
            [
             0.9,
             "#4d9221"
            ],
            [
             1,
             "#276419"
            ]
           ],
           "sequential": [
            [
             0,
             "#0d0887"
            ],
            [
             0.1111111111111111,
             "#46039f"
            ],
            [
             0.2222222222222222,
             "#7201a8"
            ],
            [
             0.3333333333333333,
             "#9c179e"
            ],
            [
             0.4444444444444444,
             "#bd3786"
            ],
            [
             0.5555555555555556,
             "#d8576b"
            ],
            [
             0.6666666666666666,
             "#ed7953"
            ],
            [
             0.7777777777777778,
             "#fb9f3a"
            ],
            [
             0.8888888888888888,
             "#fdca26"
            ],
            [
             1,
             "#f0f921"
            ]
           ],
           "sequentialminus": [
            [
             0,
             "#0d0887"
            ],
            [
             0.1111111111111111,
             "#46039f"
            ],
            [
             0.2222222222222222,
             "#7201a8"
            ],
            [
             0.3333333333333333,
             "#9c179e"
            ],
            [
             0.4444444444444444,
             "#bd3786"
            ],
            [
             0.5555555555555556,
             "#d8576b"
            ],
            [
             0.6666666666666666,
             "#ed7953"
            ],
            [
             0.7777777777777778,
             "#fb9f3a"
            ],
            [
             0.8888888888888888,
             "#fdca26"
            ],
            [
             1,
             "#f0f921"
            ]
           ]
          },
          "colorway": [
           "#636efa",
           "#EF553B",
           "#00cc96",
           "#ab63fa",
           "#FFA15A",
           "#19d3f3",
           "#FF6692",
           "#B6E880",
           "#FF97FF",
           "#FECB52"
          ],
          "font": {
           "color": "#2a3f5f"
          },
          "geo": {
           "bgcolor": "white",
           "lakecolor": "white",
           "landcolor": "#E5ECF6",
           "showlakes": true,
           "showland": true,
           "subunitcolor": "white"
          },
          "hoverlabel": {
           "align": "left"
          },
          "hovermode": "closest",
          "mapbox": {
           "style": "light"
          },
          "paper_bgcolor": "white",
          "plot_bgcolor": "#E5ECF6",
          "polar": {
           "angularaxis": {
            "gridcolor": "white",
            "linecolor": "white",
            "ticks": ""
           },
           "bgcolor": "#E5ECF6",
           "radialaxis": {
            "gridcolor": "white",
            "linecolor": "white",
            "ticks": ""
           }
          },
          "scene": {
           "xaxis": {
            "backgroundcolor": "#E5ECF6",
            "gridcolor": "white",
            "gridwidth": 2,
            "linecolor": "white",
            "showbackground": true,
            "ticks": "",
            "zerolinecolor": "white"
           },
           "yaxis": {
            "backgroundcolor": "#E5ECF6",
            "gridcolor": "white",
            "gridwidth": 2,
            "linecolor": "white",
            "showbackground": true,
            "ticks": "",
            "zerolinecolor": "white"
           },
           "zaxis": {
            "backgroundcolor": "#E5ECF6",
            "gridcolor": "white",
            "gridwidth": 2,
            "linecolor": "white",
            "showbackground": true,
            "ticks": "",
            "zerolinecolor": "white"
           }
          },
          "shapedefaults": {
           "line": {
            "color": "#2a3f5f"
           }
          },
          "ternary": {
           "aaxis": {
            "gridcolor": "white",
            "linecolor": "white",
            "ticks": ""
           },
           "baxis": {
            "gridcolor": "white",
            "linecolor": "white",
            "ticks": ""
           },
           "bgcolor": "#E5ECF6",
           "caxis": {
            "gridcolor": "white",
            "linecolor": "white",
            "ticks": ""
           }
          },
          "title": {
           "x": 0.05
          },
          "xaxis": {
           "automargin": true,
           "gridcolor": "white",
           "linecolor": "white",
           "ticks": "",
           "title": {
            "standoff": 15
           },
           "zerolinecolor": "white",
           "zerolinewidth": 2
          },
          "yaxis": {
           "automargin": true,
           "gridcolor": "white",
           "linecolor": "white",
           "ticks": "",
           "title": {
            "standoff": 15
           },
           "zerolinecolor": "white",
           "zerolinewidth": 2
          }
         }
        },
        "title": {
         "text": "Stacked Confusion Counts by Binned 'inclusion_ratio'"
        },
        "width": 950,
        "xaxis": {
         "title": {
          "text": "inclusion_ratio Bins"
         }
        },
        "yaxis": {
         "title": {
          "text": "Count"
         }
        }
       }
      }
     },
     "metadata": {},
     "output_type": "display_data"
    },
    {
     "name": "stdout",
     "output_type": "stream",
     "text": [
      "\n",
      "=== Per-bin Metrics ===\n",
      "\n",
      "Bin -0.0–0.33:\n",
      "  Accuracy:  0.226\n",
      "  Precision: 0.128\n",
      "  Recall:    1.000\n",
      "  F1 Score:  0.226\n",
      "\n",
      "Bin 0.33–0.67:\n",
      "  Accuracy:  0.471\n",
      "  Precision: 0.452\n",
      "  Recall:    0.933\n",
      "  F1 Score:  0.609\n",
      "\n",
      "Bin 0.67–1.0:\n",
      "  Accuracy:  0.707\n",
      "  Precision: 0.662\n",
      "  Recall:    1.000\n",
      "  F1 Score:  0.797\n",
      "Final total: 213\n",
      "TP: 89 | TN: 28 | FP: 93 | FN: 3\n"
     ]
    },
    {
     "data": {
      "application/vnd.plotly.v1+json": {
       "config": {
        "plotlyServerURL": "https://plot.ly"
       },
       "data": [
        {
         "insidetextanchor": "middle",
         "marker": {
          "color": "green"
         },
         "name": "TP",
         "text": [
          "15.1%",
          "36.8%",
          "60.9%"
         ],
         "textfont": {
          "color": "white",
          "size": 12
         },
         "textposition": "inside",
         "type": "bar",
         "x": [
          "-0.0–0.33",
          "0.33–0.67",
          "0.67–1.0"
         ],
         "y": {
          "bdata": "CBk4",
          "dtype": "i1"
         }
        },
        {
         "insidetextanchor": "middle",
         "marker": {
          "color": "gray"
         },
         "name": "TN",
         "text": [
          "9.4%",
          "20.6%",
          "9.8%"
         ],
         "textfont": {
          "color": "white",
          "size": 12
         },
         "textposition": "inside",
         "type": "bar",
         "x": [
          "-0.0–0.33",
          "0.33–0.67",
          "0.67–1.0"
         ],
         "y": {
          "bdata": "BQ4J",
          "dtype": "i1"
         }
        },
        {
         "insidetextanchor": "middle",
         "marker": {
          "color": "red"
         },
         "name": "FP",
         "text": [
          "73.6%",
          "42.6%",
          "27.2%"
         ],
         "textfont": {
          "color": "white",
          "size": 12
         },
         "textposition": "inside",
         "type": "bar",
         "x": [
          "-0.0–0.33",
          "0.33–0.67",
          "0.67–1.0"
         ],
         "y": {
          "bdata": "Jx0Z",
          "dtype": "i1"
         }
        },
        {
         "insidetextanchor": "middle",
         "marker": {
          "color": "black"
         },
         "name": "FN",
         "text": [
          "1.9%",
          "0.0%",
          "2.2%"
         ],
         "textfont": {
          "color": "white",
          "size": 12
         },
         "textposition": "inside",
         "type": "bar",
         "x": [
          "-0.0–0.33",
          "0.33–0.67",
          "0.67–1.0"
         ],
         "y": {
          "bdata": "AQAC",
          "dtype": "i1"
         }
        }
       ],
       "layout": {
        "barmode": "stack",
        "height": 500,
        "template": {
         "data": {
          "bar": [
           {
            "error_x": {
             "color": "#2a3f5f"
            },
            "error_y": {
             "color": "#2a3f5f"
            },
            "marker": {
             "line": {
              "color": "#E5ECF6",
              "width": 0.5
             },
             "pattern": {
              "fillmode": "overlay",
              "size": 10,
              "solidity": 0.2
             }
            },
            "type": "bar"
           }
          ],
          "barpolar": [
           {
            "marker": {
             "line": {
              "color": "#E5ECF6",
              "width": 0.5
             },
             "pattern": {
              "fillmode": "overlay",
              "size": 10,
              "solidity": 0.2
             }
            },
            "type": "barpolar"
           }
          ],
          "carpet": [
           {
            "aaxis": {
             "endlinecolor": "#2a3f5f",
             "gridcolor": "white",
             "linecolor": "white",
             "minorgridcolor": "white",
             "startlinecolor": "#2a3f5f"
            },
            "baxis": {
             "endlinecolor": "#2a3f5f",
             "gridcolor": "white",
             "linecolor": "white",
             "minorgridcolor": "white",
             "startlinecolor": "#2a3f5f"
            },
            "type": "carpet"
           }
          ],
          "choropleth": [
           {
            "colorbar": {
             "outlinewidth": 0,
             "ticks": ""
            },
            "type": "choropleth"
           }
          ],
          "contour": [
           {
            "colorbar": {
             "outlinewidth": 0,
             "ticks": ""
            },
            "colorscale": [
             [
              0,
              "#0d0887"
             ],
             [
              0.1111111111111111,
              "#46039f"
             ],
             [
              0.2222222222222222,
              "#7201a8"
             ],
             [
              0.3333333333333333,
              "#9c179e"
             ],
             [
              0.4444444444444444,
              "#bd3786"
             ],
             [
              0.5555555555555556,
              "#d8576b"
             ],
             [
              0.6666666666666666,
              "#ed7953"
             ],
             [
              0.7777777777777778,
              "#fb9f3a"
             ],
             [
              0.8888888888888888,
              "#fdca26"
             ],
             [
              1,
              "#f0f921"
             ]
            ],
            "type": "contour"
           }
          ],
          "contourcarpet": [
           {
            "colorbar": {
             "outlinewidth": 0,
             "ticks": ""
            },
            "type": "contourcarpet"
           }
          ],
          "heatmap": [
           {
            "colorbar": {
             "outlinewidth": 0,
             "ticks": ""
            },
            "colorscale": [
             [
              0,
              "#0d0887"
             ],
             [
              0.1111111111111111,
              "#46039f"
             ],
             [
              0.2222222222222222,
              "#7201a8"
             ],
             [
              0.3333333333333333,
              "#9c179e"
             ],
             [
              0.4444444444444444,
              "#bd3786"
             ],
             [
              0.5555555555555556,
              "#d8576b"
             ],
             [
              0.6666666666666666,
              "#ed7953"
             ],
             [
              0.7777777777777778,
              "#fb9f3a"
             ],
             [
              0.8888888888888888,
              "#fdca26"
             ],
             [
              1,
              "#f0f921"
             ]
            ],
            "type": "heatmap"
           }
          ],
          "histogram": [
           {
            "marker": {
             "pattern": {
              "fillmode": "overlay",
              "size": 10,
              "solidity": 0.2
             }
            },
            "type": "histogram"
           }
          ],
          "histogram2d": [
           {
            "colorbar": {
             "outlinewidth": 0,
             "ticks": ""
            },
            "colorscale": [
             [
              0,
              "#0d0887"
             ],
             [
              0.1111111111111111,
              "#46039f"
             ],
             [
              0.2222222222222222,
              "#7201a8"
             ],
             [
              0.3333333333333333,
              "#9c179e"
             ],
             [
              0.4444444444444444,
              "#bd3786"
             ],
             [
              0.5555555555555556,
              "#d8576b"
             ],
             [
              0.6666666666666666,
              "#ed7953"
             ],
             [
              0.7777777777777778,
              "#fb9f3a"
             ],
             [
              0.8888888888888888,
              "#fdca26"
             ],
             [
              1,
              "#f0f921"
             ]
            ],
            "type": "histogram2d"
           }
          ],
          "histogram2dcontour": [
           {
            "colorbar": {
             "outlinewidth": 0,
             "ticks": ""
            },
            "colorscale": [
             [
              0,
              "#0d0887"
             ],
             [
              0.1111111111111111,
              "#46039f"
             ],
             [
              0.2222222222222222,
              "#7201a8"
             ],
             [
              0.3333333333333333,
              "#9c179e"
             ],
             [
              0.4444444444444444,
              "#bd3786"
             ],
             [
              0.5555555555555556,
              "#d8576b"
             ],
             [
              0.6666666666666666,
              "#ed7953"
             ],
             [
              0.7777777777777778,
              "#fb9f3a"
             ],
             [
              0.8888888888888888,
              "#fdca26"
             ],
             [
              1,
              "#f0f921"
             ]
            ],
            "type": "histogram2dcontour"
           }
          ],
          "mesh3d": [
           {
            "colorbar": {
             "outlinewidth": 0,
             "ticks": ""
            },
            "type": "mesh3d"
           }
          ],
          "parcoords": [
           {
            "line": {
             "colorbar": {
              "outlinewidth": 0,
              "ticks": ""
             }
            },
            "type": "parcoords"
           }
          ],
          "pie": [
           {
            "automargin": true,
            "type": "pie"
           }
          ],
          "scatter": [
           {
            "fillpattern": {
             "fillmode": "overlay",
             "size": 10,
             "solidity": 0.2
            },
            "type": "scatter"
           }
          ],
          "scatter3d": [
           {
            "line": {
             "colorbar": {
              "outlinewidth": 0,
              "ticks": ""
             }
            },
            "marker": {
             "colorbar": {
              "outlinewidth": 0,
              "ticks": ""
             }
            },
            "type": "scatter3d"
           }
          ],
          "scattercarpet": [
           {
            "marker": {
             "colorbar": {
              "outlinewidth": 0,
              "ticks": ""
             }
            },
            "type": "scattercarpet"
           }
          ],
          "scattergeo": [
           {
            "marker": {
             "colorbar": {
              "outlinewidth": 0,
              "ticks": ""
             }
            },
            "type": "scattergeo"
           }
          ],
          "scattergl": [
           {
            "marker": {
             "colorbar": {
              "outlinewidth": 0,
              "ticks": ""
             }
            },
            "type": "scattergl"
           }
          ],
          "scattermap": [
           {
            "marker": {
             "colorbar": {
              "outlinewidth": 0,
              "ticks": ""
             }
            },
            "type": "scattermap"
           }
          ],
          "scattermapbox": [
           {
            "marker": {
             "colorbar": {
              "outlinewidth": 0,
              "ticks": ""
             }
            },
            "type": "scattermapbox"
           }
          ],
          "scatterpolar": [
           {
            "marker": {
             "colorbar": {
              "outlinewidth": 0,
              "ticks": ""
             }
            },
            "type": "scatterpolar"
           }
          ],
          "scatterpolargl": [
           {
            "marker": {
             "colorbar": {
              "outlinewidth": 0,
              "ticks": ""
             }
            },
            "type": "scatterpolargl"
           }
          ],
          "scatterternary": [
           {
            "marker": {
             "colorbar": {
              "outlinewidth": 0,
              "ticks": ""
             }
            },
            "type": "scatterternary"
           }
          ],
          "surface": [
           {
            "colorbar": {
             "outlinewidth": 0,
             "ticks": ""
            },
            "colorscale": [
             [
              0,
              "#0d0887"
             ],
             [
              0.1111111111111111,
              "#46039f"
             ],
             [
              0.2222222222222222,
              "#7201a8"
             ],
             [
              0.3333333333333333,
              "#9c179e"
             ],
             [
              0.4444444444444444,
              "#bd3786"
             ],
             [
              0.5555555555555556,
              "#d8576b"
             ],
             [
              0.6666666666666666,
              "#ed7953"
             ],
             [
              0.7777777777777778,
              "#fb9f3a"
             ],
             [
              0.8888888888888888,
              "#fdca26"
             ],
             [
              1,
              "#f0f921"
             ]
            ],
            "type": "surface"
           }
          ],
          "table": [
           {
            "cells": {
             "fill": {
              "color": "#EBF0F8"
             },
             "line": {
              "color": "white"
             }
            },
            "header": {
             "fill": {
              "color": "#C8D4E3"
             },
             "line": {
              "color": "white"
             }
            },
            "type": "table"
           }
          ]
         },
         "layout": {
          "annotationdefaults": {
           "arrowcolor": "#2a3f5f",
           "arrowhead": 0,
           "arrowwidth": 1
          },
          "autotypenumbers": "strict",
          "coloraxis": {
           "colorbar": {
            "outlinewidth": 0,
            "ticks": ""
           }
          },
          "colorscale": {
           "diverging": [
            [
             0,
             "#8e0152"
            ],
            [
             0.1,
             "#c51b7d"
            ],
            [
             0.2,
             "#de77ae"
            ],
            [
             0.3,
             "#f1b6da"
            ],
            [
             0.4,
             "#fde0ef"
            ],
            [
             0.5,
             "#f7f7f7"
            ],
            [
             0.6,
             "#e6f5d0"
            ],
            [
             0.7,
             "#b8e186"
            ],
            [
             0.8,
             "#7fbc41"
            ],
            [
             0.9,
             "#4d9221"
            ],
            [
             1,
             "#276419"
            ]
           ],
           "sequential": [
            [
             0,
             "#0d0887"
            ],
            [
             0.1111111111111111,
             "#46039f"
            ],
            [
             0.2222222222222222,
             "#7201a8"
            ],
            [
             0.3333333333333333,
             "#9c179e"
            ],
            [
             0.4444444444444444,
             "#bd3786"
            ],
            [
             0.5555555555555556,
             "#d8576b"
            ],
            [
             0.6666666666666666,
             "#ed7953"
            ],
            [
             0.7777777777777778,
             "#fb9f3a"
            ],
            [
             0.8888888888888888,
             "#fdca26"
            ],
            [
             1,
             "#f0f921"
            ]
           ],
           "sequentialminus": [
            [
             0,
             "#0d0887"
            ],
            [
             0.1111111111111111,
             "#46039f"
            ],
            [
             0.2222222222222222,
             "#7201a8"
            ],
            [
             0.3333333333333333,
             "#9c179e"
            ],
            [
             0.4444444444444444,
             "#bd3786"
            ],
            [
             0.5555555555555556,
             "#d8576b"
            ],
            [
             0.6666666666666666,
             "#ed7953"
            ],
            [
             0.7777777777777778,
             "#fb9f3a"
            ],
            [
             0.8888888888888888,
             "#fdca26"
            ],
            [
             1,
             "#f0f921"
            ]
           ]
          },
          "colorway": [
           "#636efa",
           "#EF553B",
           "#00cc96",
           "#ab63fa",
           "#FFA15A",
           "#19d3f3",
           "#FF6692",
           "#B6E880",
           "#FF97FF",
           "#FECB52"
          ],
          "font": {
           "color": "#2a3f5f"
          },
          "geo": {
           "bgcolor": "white",
           "lakecolor": "white",
           "landcolor": "#E5ECF6",
           "showlakes": true,
           "showland": true,
           "subunitcolor": "white"
          },
          "hoverlabel": {
           "align": "left"
          },
          "hovermode": "closest",
          "mapbox": {
           "style": "light"
          },
          "paper_bgcolor": "white",
          "plot_bgcolor": "#E5ECF6",
          "polar": {
           "angularaxis": {
            "gridcolor": "white",
            "linecolor": "white",
            "ticks": ""
           },
           "bgcolor": "#E5ECF6",
           "radialaxis": {
            "gridcolor": "white",
            "linecolor": "white",
            "ticks": ""
           }
          },
          "scene": {
           "xaxis": {
            "backgroundcolor": "#E5ECF6",
            "gridcolor": "white",
            "gridwidth": 2,
            "linecolor": "white",
            "showbackground": true,
            "ticks": "",
            "zerolinecolor": "white"
           },
           "yaxis": {
            "backgroundcolor": "#E5ECF6",
            "gridcolor": "white",
            "gridwidth": 2,
            "linecolor": "white",
            "showbackground": true,
            "ticks": "",
            "zerolinecolor": "white"
           },
           "zaxis": {
            "backgroundcolor": "#E5ECF6",
            "gridcolor": "white",
            "gridwidth": 2,
            "linecolor": "white",
            "showbackground": true,
            "ticks": "",
            "zerolinecolor": "white"
           }
          },
          "shapedefaults": {
           "line": {
            "color": "#2a3f5f"
           }
          },
          "ternary": {
           "aaxis": {
            "gridcolor": "white",
            "linecolor": "white",
            "ticks": ""
           },
           "baxis": {
            "gridcolor": "white",
            "linecolor": "white",
            "ticks": ""
           },
           "bgcolor": "#E5ECF6",
           "caxis": {
            "gridcolor": "white",
            "linecolor": "white",
            "ticks": ""
           }
          },
          "title": {
           "x": 0.05
          },
          "xaxis": {
           "automargin": true,
           "gridcolor": "white",
           "linecolor": "white",
           "ticks": "",
           "title": {
            "standoff": 15
           },
           "zerolinecolor": "white",
           "zerolinewidth": 2
          },
          "yaxis": {
           "automargin": true,
           "gridcolor": "white",
           "linecolor": "white",
           "ticks": "",
           "title": {
            "standoff": 15
           },
           "zerolinecolor": "white",
           "zerolinewidth": 2
          }
         }
        },
        "title": {
         "text": "Stacked Confusion Counts by Binned 'inclusion_ratio'"
        },
        "width": 950,
        "xaxis": {
         "title": {
          "text": "inclusion_ratio Bins"
         }
        },
        "yaxis": {
         "title": {
          "text": "Count"
         }
        }
       }
      }
     },
     "metadata": {},
     "output_type": "display_data"
    },
    {
     "name": "stdout",
     "output_type": "stream",
     "text": [
      "\n",
      "=== Per-bin Metrics ===\n",
      "\n",
      "Bin -0.0–0.33:\n",
      "  Accuracy:  0.245\n",
      "  Precision: 0.170\n",
      "  Recall:    0.889\n",
      "  F1 Score:  0.286\n",
      "\n",
      "Bin 0.33–0.67:\n",
      "  Accuracy:  0.574\n",
      "  Precision: 0.463\n",
      "  Recall:    1.000\n",
      "  F1 Score:  0.633\n",
      "\n",
      "Bin 0.67–1.0:\n",
      "  Accuracy:  0.707\n",
      "  Precision: 0.691\n",
      "  Recall:    0.966\n",
      "  F1 Score:  0.806\n",
      "Final total: 213\n",
      "TP: 103 | TN: 27 | FP: 80 | FN: 3\n"
     ]
    },
    {
     "data": {
      "application/vnd.plotly.v1+json": {
       "config": {
        "plotlyServerURL": "https://plot.ly"
       },
       "data": [
        {
         "insidetextanchor": "middle",
         "marker": {
          "color": "green"
         },
         "name": "TP",
         "text": [
          "22.6%",
          "58.8%",
          "55.4%"
         ],
         "textfont": {
          "color": "white",
          "size": 12
         },
         "textposition": "inside",
         "type": "bar",
         "x": [
          "-0.0–0.33",
          "0.33–0.67",
          "0.67–1.0"
         ],
         "y": {
          "bdata": "DCgz",
          "dtype": "i1"
         }
        },
        {
         "insidetextanchor": "middle",
         "marker": {
          "color": "gray"
         },
         "name": "TN",
         "text": [
          "11.3%",
          "11.8%",
          "14.1%"
         ],
         "textfont": {
          "color": "white",
          "size": 12
         },
         "textposition": "inside",
         "type": "bar",
         "x": [
          "-0.0–0.33",
          "0.33–0.67",
          "0.67–1.0"
         ],
         "y": {
          "bdata": "BggN",
          "dtype": "i1"
         }
        },
        {
         "insidetextanchor": "middle",
         "marker": {
          "color": "red"
         },
         "name": "FP",
         "text": [
          "66.0%",
          "29.4%",
          "27.2%"
         ],
         "textfont": {
          "color": "white",
          "size": 12
         },
         "textposition": "inside",
         "type": "bar",
         "x": [
          "-0.0–0.33",
          "0.33–0.67",
          "0.67–1.0"
         ],
         "y": {
          "bdata": "IxQZ",
          "dtype": "i1"
         }
        },
        {
         "insidetextanchor": "middle",
         "marker": {
          "color": "black"
         },
         "name": "FN",
         "text": [
          "0.0%",
          "0.0%",
          "3.3%"
         ],
         "textfont": {
          "color": "white",
          "size": 12
         },
         "textposition": "inside",
         "type": "bar",
         "x": [
          "-0.0–0.33",
          "0.33–0.67",
          "0.67–1.0"
         ],
         "y": {
          "bdata": "AAAD",
          "dtype": "i1"
         }
        }
       ],
       "layout": {
        "barmode": "stack",
        "height": 500,
        "template": {
         "data": {
          "bar": [
           {
            "error_x": {
             "color": "#2a3f5f"
            },
            "error_y": {
             "color": "#2a3f5f"
            },
            "marker": {
             "line": {
              "color": "#E5ECF6",
              "width": 0.5
             },
             "pattern": {
              "fillmode": "overlay",
              "size": 10,
              "solidity": 0.2
             }
            },
            "type": "bar"
           }
          ],
          "barpolar": [
           {
            "marker": {
             "line": {
              "color": "#E5ECF6",
              "width": 0.5
             },
             "pattern": {
              "fillmode": "overlay",
              "size": 10,
              "solidity": 0.2
             }
            },
            "type": "barpolar"
           }
          ],
          "carpet": [
           {
            "aaxis": {
             "endlinecolor": "#2a3f5f",
             "gridcolor": "white",
             "linecolor": "white",
             "minorgridcolor": "white",
             "startlinecolor": "#2a3f5f"
            },
            "baxis": {
             "endlinecolor": "#2a3f5f",
             "gridcolor": "white",
             "linecolor": "white",
             "minorgridcolor": "white",
             "startlinecolor": "#2a3f5f"
            },
            "type": "carpet"
           }
          ],
          "choropleth": [
           {
            "colorbar": {
             "outlinewidth": 0,
             "ticks": ""
            },
            "type": "choropleth"
           }
          ],
          "contour": [
           {
            "colorbar": {
             "outlinewidth": 0,
             "ticks": ""
            },
            "colorscale": [
             [
              0,
              "#0d0887"
             ],
             [
              0.1111111111111111,
              "#46039f"
             ],
             [
              0.2222222222222222,
              "#7201a8"
             ],
             [
              0.3333333333333333,
              "#9c179e"
             ],
             [
              0.4444444444444444,
              "#bd3786"
             ],
             [
              0.5555555555555556,
              "#d8576b"
             ],
             [
              0.6666666666666666,
              "#ed7953"
             ],
             [
              0.7777777777777778,
              "#fb9f3a"
             ],
             [
              0.8888888888888888,
              "#fdca26"
             ],
             [
              1,
              "#f0f921"
             ]
            ],
            "type": "contour"
           }
          ],
          "contourcarpet": [
           {
            "colorbar": {
             "outlinewidth": 0,
             "ticks": ""
            },
            "type": "contourcarpet"
           }
          ],
          "heatmap": [
           {
            "colorbar": {
             "outlinewidth": 0,
             "ticks": ""
            },
            "colorscale": [
             [
              0,
              "#0d0887"
             ],
             [
              0.1111111111111111,
              "#46039f"
             ],
             [
              0.2222222222222222,
              "#7201a8"
             ],
             [
              0.3333333333333333,
              "#9c179e"
             ],
             [
              0.4444444444444444,
              "#bd3786"
             ],
             [
              0.5555555555555556,
              "#d8576b"
             ],
             [
              0.6666666666666666,
              "#ed7953"
             ],
             [
              0.7777777777777778,
              "#fb9f3a"
             ],
             [
              0.8888888888888888,
              "#fdca26"
             ],
             [
              1,
              "#f0f921"
             ]
            ],
            "type": "heatmap"
           }
          ],
          "histogram": [
           {
            "marker": {
             "pattern": {
              "fillmode": "overlay",
              "size": 10,
              "solidity": 0.2
             }
            },
            "type": "histogram"
           }
          ],
          "histogram2d": [
           {
            "colorbar": {
             "outlinewidth": 0,
             "ticks": ""
            },
            "colorscale": [
             [
              0,
              "#0d0887"
             ],
             [
              0.1111111111111111,
              "#46039f"
             ],
             [
              0.2222222222222222,
              "#7201a8"
             ],
             [
              0.3333333333333333,
              "#9c179e"
             ],
             [
              0.4444444444444444,
              "#bd3786"
             ],
             [
              0.5555555555555556,
              "#d8576b"
             ],
             [
              0.6666666666666666,
              "#ed7953"
             ],
             [
              0.7777777777777778,
              "#fb9f3a"
             ],
             [
              0.8888888888888888,
              "#fdca26"
             ],
             [
              1,
              "#f0f921"
             ]
            ],
            "type": "histogram2d"
           }
          ],
          "histogram2dcontour": [
           {
            "colorbar": {
             "outlinewidth": 0,
             "ticks": ""
            },
            "colorscale": [
             [
              0,
              "#0d0887"
             ],
             [
              0.1111111111111111,
              "#46039f"
             ],
             [
              0.2222222222222222,
              "#7201a8"
             ],
             [
              0.3333333333333333,
              "#9c179e"
             ],
             [
              0.4444444444444444,
              "#bd3786"
             ],
             [
              0.5555555555555556,
              "#d8576b"
             ],
             [
              0.6666666666666666,
              "#ed7953"
             ],
             [
              0.7777777777777778,
              "#fb9f3a"
             ],
             [
              0.8888888888888888,
              "#fdca26"
             ],
             [
              1,
              "#f0f921"
             ]
            ],
            "type": "histogram2dcontour"
           }
          ],
          "mesh3d": [
           {
            "colorbar": {
             "outlinewidth": 0,
             "ticks": ""
            },
            "type": "mesh3d"
           }
          ],
          "parcoords": [
           {
            "line": {
             "colorbar": {
              "outlinewidth": 0,
              "ticks": ""
             }
            },
            "type": "parcoords"
           }
          ],
          "pie": [
           {
            "automargin": true,
            "type": "pie"
           }
          ],
          "scatter": [
           {
            "fillpattern": {
             "fillmode": "overlay",
             "size": 10,
             "solidity": 0.2
            },
            "type": "scatter"
           }
          ],
          "scatter3d": [
           {
            "line": {
             "colorbar": {
              "outlinewidth": 0,
              "ticks": ""
             }
            },
            "marker": {
             "colorbar": {
              "outlinewidth": 0,
              "ticks": ""
             }
            },
            "type": "scatter3d"
           }
          ],
          "scattercarpet": [
           {
            "marker": {
             "colorbar": {
              "outlinewidth": 0,
              "ticks": ""
             }
            },
            "type": "scattercarpet"
           }
          ],
          "scattergeo": [
           {
            "marker": {
             "colorbar": {
              "outlinewidth": 0,
              "ticks": ""
             }
            },
            "type": "scattergeo"
           }
          ],
          "scattergl": [
           {
            "marker": {
             "colorbar": {
              "outlinewidth": 0,
              "ticks": ""
             }
            },
            "type": "scattergl"
           }
          ],
          "scattermap": [
           {
            "marker": {
             "colorbar": {
              "outlinewidth": 0,
              "ticks": ""
             }
            },
            "type": "scattermap"
           }
          ],
          "scattermapbox": [
           {
            "marker": {
             "colorbar": {
              "outlinewidth": 0,
              "ticks": ""
             }
            },
            "type": "scattermapbox"
           }
          ],
          "scatterpolar": [
           {
            "marker": {
             "colorbar": {
              "outlinewidth": 0,
              "ticks": ""
             }
            },
            "type": "scatterpolar"
           }
          ],
          "scatterpolargl": [
           {
            "marker": {
             "colorbar": {
              "outlinewidth": 0,
              "ticks": ""
             }
            },
            "type": "scatterpolargl"
           }
          ],
          "scatterternary": [
           {
            "marker": {
             "colorbar": {
              "outlinewidth": 0,
              "ticks": ""
             }
            },
            "type": "scatterternary"
           }
          ],
          "surface": [
           {
            "colorbar": {
             "outlinewidth": 0,
             "ticks": ""
            },
            "colorscale": [
             [
              0,
              "#0d0887"
             ],
             [
              0.1111111111111111,
              "#46039f"
             ],
             [
              0.2222222222222222,
              "#7201a8"
             ],
             [
              0.3333333333333333,
              "#9c179e"
             ],
             [
              0.4444444444444444,
              "#bd3786"
             ],
             [
              0.5555555555555556,
              "#d8576b"
             ],
             [
              0.6666666666666666,
              "#ed7953"
             ],
             [
              0.7777777777777778,
              "#fb9f3a"
             ],
             [
              0.8888888888888888,
              "#fdca26"
             ],
             [
              1,
              "#f0f921"
             ]
            ],
            "type": "surface"
           }
          ],
          "table": [
           {
            "cells": {
             "fill": {
              "color": "#EBF0F8"
             },
             "line": {
              "color": "white"
             }
            },
            "header": {
             "fill": {
              "color": "#C8D4E3"
             },
             "line": {
              "color": "white"
             }
            },
            "type": "table"
           }
          ]
         },
         "layout": {
          "annotationdefaults": {
           "arrowcolor": "#2a3f5f",
           "arrowhead": 0,
           "arrowwidth": 1
          },
          "autotypenumbers": "strict",
          "coloraxis": {
           "colorbar": {
            "outlinewidth": 0,
            "ticks": ""
           }
          },
          "colorscale": {
           "diverging": [
            [
             0,
             "#8e0152"
            ],
            [
             0.1,
             "#c51b7d"
            ],
            [
             0.2,
             "#de77ae"
            ],
            [
             0.3,
             "#f1b6da"
            ],
            [
             0.4,
             "#fde0ef"
            ],
            [
             0.5,
             "#f7f7f7"
            ],
            [
             0.6,
             "#e6f5d0"
            ],
            [
             0.7,
             "#b8e186"
            ],
            [
             0.8,
             "#7fbc41"
            ],
            [
             0.9,
             "#4d9221"
            ],
            [
             1,
             "#276419"
            ]
           ],
           "sequential": [
            [
             0,
             "#0d0887"
            ],
            [
             0.1111111111111111,
             "#46039f"
            ],
            [
             0.2222222222222222,
             "#7201a8"
            ],
            [
             0.3333333333333333,
             "#9c179e"
            ],
            [
             0.4444444444444444,
             "#bd3786"
            ],
            [
             0.5555555555555556,
             "#d8576b"
            ],
            [
             0.6666666666666666,
             "#ed7953"
            ],
            [
             0.7777777777777778,
             "#fb9f3a"
            ],
            [
             0.8888888888888888,
             "#fdca26"
            ],
            [
             1,
             "#f0f921"
            ]
           ],
           "sequentialminus": [
            [
             0,
             "#0d0887"
            ],
            [
             0.1111111111111111,
             "#46039f"
            ],
            [
             0.2222222222222222,
             "#7201a8"
            ],
            [
             0.3333333333333333,
             "#9c179e"
            ],
            [
             0.4444444444444444,
             "#bd3786"
            ],
            [
             0.5555555555555556,
             "#d8576b"
            ],
            [
             0.6666666666666666,
             "#ed7953"
            ],
            [
             0.7777777777777778,
             "#fb9f3a"
            ],
            [
             0.8888888888888888,
             "#fdca26"
            ],
            [
             1,
             "#f0f921"
            ]
           ]
          },
          "colorway": [
           "#636efa",
           "#EF553B",
           "#00cc96",
           "#ab63fa",
           "#FFA15A",
           "#19d3f3",
           "#FF6692",
           "#B6E880",
           "#FF97FF",
           "#FECB52"
          ],
          "font": {
           "color": "#2a3f5f"
          },
          "geo": {
           "bgcolor": "white",
           "lakecolor": "white",
           "landcolor": "#E5ECF6",
           "showlakes": true,
           "showland": true,
           "subunitcolor": "white"
          },
          "hoverlabel": {
           "align": "left"
          },
          "hovermode": "closest",
          "mapbox": {
           "style": "light"
          },
          "paper_bgcolor": "white",
          "plot_bgcolor": "#E5ECF6",
          "polar": {
           "angularaxis": {
            "gridcolor": "white",
            "linecolor": "white",
            "ticks": ""
           },
           "bgcolor": "#E5ECF6",
           "radialaxis": {
            "gridcolor": "white",
            "linecolor": "white",
            "ticks": ""
           }
          },
          "scene": {
           "xaxis": {
            "backgroundcolor": "#E5ECF6",
            "gridcolor": "white",
            "gridwidth": 2,
            "linecolor": "white",
            "showbackground": true,
            "ticks": "",
            "zerolinecolor": "white"
           },
           "yaxis": {
            "backgroundcolor": "#E5ECF6",
            "gridcolor": "white",
            "gridwidth": 2,
            "linecolor": "white",
            "showbackground": true,
            "ticks": "",
            "zerolinecolor": "white"
           },
           "zaxis": {
            "backgroundcolor": "#E5ECF6",
            "gridcolor": "white",
            "gridwidth": 2,
            "linecolor": "white",
            "showbackground": true,
            "ticks": "",
            "zerolinecolor": "white"
           }
          },
          "shapedefaults": {
           "line": {
            "color": "#2a3f5f"
           }
          },
          "ternary": {
           "aaxis": {
            "gridcolor": "white",
            "linecolor": "white",
            "ticks": ""
           },
           "baxis": {
            "gridcolor": "white",
            "linecolor": "white",
            "ticks": ""
           },
           "bgcolor": "#E5ECF6",
           "caxis": {
            "gridcolor": "white",
            "linecolor": "white",
            "ticks": ""
           }
          },
          "title": {
           "x": 0.05
          },
          "xaxis": {
           "automargin": true,
           "gridcolor": "white",
           "linecolor": "white",
           "ticks": "",
           "title": {
            "standoff": 15
           },
           "zerolinecolor": "white",
           "zerolinewidth": 2
          },
          "yaxis": {
           "automargin": true,
           "gridcolor": "white",
           "linecolor": "white",
           "ticks": "",
           "title": {
            "standoff": 15
           },
           "zerolinecolor": "white",
           "zerolinewidth": 2
          }
         }
        },
        "title": {
         "text": "Stacked Confusion Counts by Binned 'inclusion_ratio'"
        },
        "width": 950,
        "xaxis": {
         "title": {
          "text": "inclusion_ratio Bins"
         }
        },
        "yaxis": {
         "title": {
          "text": "Count"
         }
        }
       }
      }
     },
     "metadata": {},
     "output_type": "display_data"
    },
    {
     "name": "stdout",
     "output_type": "stream",
     "text": [
      "\n",
      "=== Per-bin Metrics ===\n",
      "\n",
      "Bin -0.0–0.33:\n",
      "  Accuracy:  0.340\n",
      "  Precision: 0.255\n",
      "  Recall:    1.000\n",
      "  F1 Score:  0.407\n",
      "\n",
      "Bin 0.33–0.67:\n",
      "  Accuracy:  0.706\n",
      "  Precision: 0.667\n",
      "  Recall:    1.000\n",
      "  F1 Score:  0.800\n",
      "\n",
      "Bin 0.67–1.0:\n",
      "  Accuracy:  0.696\n",
      "  Precision: 0.671\n",
      "  Recall:    0.944\n",
      "  F1 Score:  0.785\n",
      "Final total: 213\n",
      "TP: 91 | TN: 31 | FP: 87 | FN: 4\n"
     ]
    },
    {
     "data": {
      "application/vnd.plotly.v1+json": {
       "config": {
        "plotlyServerURL": "https://plot.ly"
       },
       "data": [
        {
         "insidetextanchor": "middle",
         "marker": {
          "color": "green"
         },
         "name": "TP",
         "text": [
          "17.0%",
          "52.9%",
          "50.0%"
         ],
         "textfont": {
          "color": "white",
          "size": 12
         },
         "textposition": "inside",
         "type": "bar",
         "x": [
          "-0.0–0.33",
          "0.33–0.67",
          "0.67–1.0"
         ],
         "y": {
          "bdata": "CSQu",
          "dtype": "i1"
         }
        },
        {
         "insidetextanchor": "middle",
         "marker": {
          "color": "gray"
         },
         "name": "TN",
         "text": [
          "15.1%",
          "17.6%",
          "12.0%"
         ],
         "textfont": {
          "color": "white",
          "size": 12
         },
         "textposition": "inside",
         "type": "bar",
         "x": [
          "-0.0–0.33",
          "0.33–0.67",
          "0.67–1.0"
         ],
         "y": {
          "bdata": "CAwL",
          "dtype": "i1"
         }
        },
        {
         "insidetextanchor": "middle",
         "marker": {
          "color": "red"
         },
         "name": "FP",
         "text": [
          "66.0%",
          "26.5%",
          "37.0%"
         ],
         "textfont": {
          "color": "white",
          "size": 12
         },
         "textposition": "inside",
         "type": "bar",
         "x": [
          "-0.0–0.33",
          "0.33–0.67",
          "0.67–1.0"
         ],
         "y": {
          "bdata": "IxIi",
          "dtype": "i1"
         }
        },
        {
         "insidetextanchor": "middle",
         "marker": {
          "color": "black"
         },
         "name": "FN",
         "text": [
          "1.9%",
          "2.9%",
          "1.1%"
         ],
         "textfont": {
          "color": "white",
          "size": 12
         },
         "textposition": "inside",
         "type": "bar",
         "x": [
          "-0.0–0.33",
          "0.33–0.67",
          "0.67–1.0"
         ],
         "y": {
          "bdata": "AQIB",
          "dtype": "i1"
         }
        }
       ],
       "layout": {
        "barmode": "stack",
        "height": 500,
        "template": {
         "data": {
          "bar": [
           {
            "error_x": {
             "color": "#2a3f5f"
            },
            "error_y": {
             "color": "#2a3f5f"
            },
            "marker": {
             "line": {
              "color": "#E5ECF6",
              "width": 0.5
             },
             "pattern": {
              "fillmode": "overlay",
              "size": 10,
              "solidity": 0.2
             }
            },
            "type": "bar"
           }
          ],
          "barpolar": [
           {
            "marker": {
             "line": {
              "color": "#E5ECF6",
              "width": 0.5
             },
             "pattern": {
              "fillmode": "overlay",
              "size": 10,
              "solidity": 0.2
             }
            },
            "type": "barpolar"
           }
          ],
          "carpet": [
           {
            "aaxis": {
             "endlinecolor": "#2a3f5f",
             "gridcolor": "white",
             "linecolor": "white",
             "minorgridcolor": "white",
             "startlinecolor": "#2a3f5f"
            },
            "baxis": {
             "endlinecolor": "#2a3f5f",
             "gridcolor": "white",
             "linecolor": "white",
             "minorgridcolor": "white",
             "startlinecolor": "#2a3f5f"
            },
            "type": "carpet"
           }
          ],
          "choropleth": [
           {
            "colorbar": {
             "outlinewidth": 0,
             "ticks": ""
            },
            "type": "choropleth"
           }
          ],
          "contour": [
           {
            "colorbar": {
             "outlinewidth": 0,
             "ticks": ""
            },
            "colorscale": [
             [
              0,
              "#0d0887"
             ],
             [
              0.1111111111111111,
              "#46039f"
             ],
             [
              0.2222222222222222,
              "#7201a8"
             ],
             [
              0.3333333333333333,
              "#9c179e"
             ],
             [
              0.4444444444444444,
              "#bd3786"
             ],
             [
              0.5555555555555556,
              "#d8576b"
             ],
             [
              0.6666666666666666,
              "#ed7953"
             ],
             [
              0.7777777777777778,
              "#fb9f3a"
             ],
             [
              0.8888888888888888,
              "#fdca26"
             ],
             [
              1,
              "#f0f921"
             ]
            ],
            "type": "contour"
           }
          ],
          "contourcarpet": [
           {
            "colorbar": {
             "outlinewidth": 0,
             "ticks": ""
            },
            "type": "contourcarpet"
           }
          ],
          "heatmap": [
           {
            "colorbar": {
             "outlinewidth": 0,
             "ticks": ""
            },
            "colorscale": [
             [
              0,
              "#0d0887"
             ],
             [
              0.1111111111111111,
              "#46039f"
             ],
             [
              0.2222222222222222,
              "#7201a8"
             ],
             [
              0.3333333333333333,
              "#9c179e"
             ],
             [
              0.4444444444444444,
              "#bd3786"
             ],
             [
              0.5555555555555556,
              "#d8576b"
             ],
             [
              0.6666666666666666,
              "#ed7953"
             ],
             [
              0.7777777777777778,
              "#fb9f3a"
             ],
             [
              0.8888888888888888,
              "#fdca26"
             ],
             [
              1,
              "#f0f921"
             ]
            ],
            "type": "heatmap"
           }
          ],
          "histogram": [
           {
            "marker": {
             "pattern": {
              "fillmode": "overlay",
              "size": 10,
              "solidity": 0.2
             }
            },
            "type": "histogram"
           }
          ],
          "histogram2d": [
           {
            "colorbar": {
             "outlinewidth": 0,
             "ticks": ""
            },
            "colorscale": [
             [
              0,
              "#0d0887"
             ],
             [
              0.1111111111111111,
              "#46039f"
             ],
             [
              0.2222222222222222,
              "#7201a8"
             ],
             [
              0.3333333333333333,
              "#9c179e"
             ],
             [
              0.4444444444444444,
              "#bd3786"
             ],
             [
              0.5555555555555556,
              "#d8576b"
             ],
             [
              0.6666666666666666,
              "#ed7953"
             ],
             [
              0.7777777777777778,
              "#fb9f3a"
             ],
             [
              0.8888888888888888,
              "#fdca26"
             ],
             [
              1,
              "#f0f921"
             ]
            ],
            "type": "histogram2d"
           }
          ],
          "histogram2dcontour": [
           {
            "colorbar": {
             "outlinewidth": 0,
             "ticks": ""
            },
            "colorscale": [
             [
              0,
              "#0d0887"
             ],
             [
              0.1111111111111111,
              "#46039f"
             ],
             [
              0.2222222222222222,
              "#7201a8"
             ],
             [
              0.3333333333333333,
              "#9c179e"
             ],
             [
              0.4444444444444444,
              "#bd3786"
             ],
             [
              0.5555555555555556,
              "#d8576b"
             ],
             [
              0.6666666666666666,
              "#ed7953"
             ],
             [
              0.7777777777777778,
              "#fb9f3a"
             ],
             [
              0.8888888888888888,
              "#fdca26"
             ],
             [
              1,
              "#f0f921"
             ]
            ],
            "type": "histogram2dcontour"
           }
          ],
          "mesh3d": [
           {
            "colorbar": {
             "outlinewidth": 0,
             "ticks": ""
            },
            "type": "mesh3d"
           }
          ],
          "parcoords": [
           {
            "line": {
             "colorbar": {
              "outlinewidth": 0,
              "ticks": ""
             }
            },
            "type": "parcoords"
           }
          ],
          "pie": [
           {
            "automargin": true,
            "type": "pie"
           }
          ],
          "scatter": [
           {
            "fillpattern": {
             "fillmode": "overlay",
             "size": 10,
             "solidity": 0.2
            },
            "type": "scatter"
           }
          ],
          "scatter3d": [
           {
            "line": {
             "colorbar": {
              "outlinewidth": 0,
              "ticks": ""
             }
            },
            "marker": {
             "colorbar": {
              "outlinewidth": 0,
              "ticks": ""
             }
            },
            "type": "scatter3d"
           }
          ],
          "scattercarpet": [
           {
            "marker": {
             "colorbar": {
              "outlinewidth": 0,
              "ticks": ""
             }
            },
            "type": "scattercarpet"
           }
          ],
          "scattergeo": [
           {
            "marker": {
             "colorbar": {
              "outlinewidth": 0,
              "ticks": ""
             }
            },
            "type": "scattergeo"
           }
          ],
          "scattergl": [
           {
            "marker": {
             "colorbar": {
              "outlinewidth": 0,
              "ticks": ""
             }
            },
            "type": "scattergl"
           }
          ],
          "scattermap": [
           {
            "marker": {
             "colorbar": {
              "outlinewidth": 0,
              "ticks": ""
             }
            },
            "type": "scattermap"
           }
          ],
          "scattermapbox": [
           {
            "marker": {
             "colorbar": {
              "outlinewidth": 0,
              "ticks": ""
             }
            },
            "type": "scattermapbox"
           }
          ],
          "scatterpolar": [
           {
            "marker": {
             "colorbar": {
              "outlinewidth": 0,
              "ticks": ""
             }
            },
            "type": "scatterpolar"
           }
          ],
          "scatterpolargl": [
           {
            "marker": {
             "colorbar": {
              "outlinewidth": 0,
              "ticks": ""
             }
            },
            "type": "scatterpolargl"
           }
          ],
          "scatterternary": [
           {
            "marker": {
             "colorbar": {
              "outlinewidth": 0,
              "ticks": ""
             }
            },
            "type": "scatterternary"
           }
          ],
          "surface": [
           {
            "colorbar": {
             "outlinewidth": 0,
             "ticks": ""
            },
            "colorscale": [
             [
              0,
              "#0d0887"
             ],
             [
              0.1111111111111111,
              "#46039f"
             ],
             [
              0.2222222222222222,
              "#7201a8"
             ],
             [
              0.3333333333333333,
              "#9c179e"
             ],
             [
              0.4444444444444444,
              "#bd3786"
             ],
             [
              0.5555555555555556,
              "#d8576b"
             ],
             [
              0.6666666666666666,
              "#ed7953"
             ],
             [
              0.7777777777777778,
              "#fb9f3a"
             ],
             [
              0.8888888888888888,
              "#fdca26"
             ],
             [
              1,
              "#f0f921"
             ]
            ],
            "type": "surface"
           }
          ],
          "table": [
           {
            "cells": {
             "fill": {
              "color": "#EBF0F8"
             },
             "line": {
              "color": "white"
             }
            },
            "header": {
             "fill": {
              "color": "#C8D4E3"
             },
             "line": {
              "color": "white"
             }
            },
            "type": "table"
           }
          ]
         },
         "layout": {
          "annotationdefaults": {
           "arrowcolor": "#2a3f5f",
           "arrowhead": 0,
           "arrowwidth": 1
          },
          "autotypenumbers": "strict",
          "coloraxis": {
           "colorbar": {
            "outlinewidth": 0,
            "ticks": ""
           }
          },
          "colorscale": {
           "diverging": [
            [
             0,
             "#8e0152"
            ],
            [
             0.1,
             "#c51b7d"
            ],
            [
             0.2,
             "#de77ae"
            ],
            [
             0.3,
             "#f1b6da"
            ],
            [
             0.4,
             "#fde0ef"
            ],
            [
             0.5,
             "#f7f7f7"
            ],
            [
             0.6,
             "#e6f5d0"
            ],
            [
             0.7,
             "#b8e186"
            ],
            [
             0.8,
             "#7fbc41"
            ],
            [
             0.9,
             "#4d9221"
            ],
            [
             1,
             "#276419"
            ]
           ],
           "sequential": [
            [
             0,
             "#0d0887"
            ],
            [
             0.1111111111111111,
             "#46039f"
            ],
            [
             0.2222222222222222,
             "#7201a8"
            ],
            [
             0.3333333333333333,
             "#9c179e"
            ],
            [
             0.4444444444444444,
             "#bd3786"
            ],
            [
             0.5555555555555556,
             "#d8576b"
            ],
            [
             0.6666666666666666,
             "#ed7953"
            ],
            [
             0.7777777777777778,
             "#fb9f3a"
            ],
            [
             0.8888888888888888,
             "#fdca26"
            ],
            [
             1,
             "#f0f921"
            ]
           ],
           "sequentialminus": [
            [
             0,
             "#0d0887"
            ],
            [
             0.1111111111111111,
             "#46039f"
            ],
            [
             0.2222222222222222,
             "#7201a8"
            ],
            [
             0.3333333333333333,
             "#9c179e"
            ],
            [
             0.4444444444444444,
             "#bd3786"
            ],
            [
             0.5555555555555556,
             "#d8576b"
            ],
            [
             0.6666666666666666,
             "#ed7953"
            ],
            [
             0.7777777777777778,
             "#fb9f3a"
            ],
            [
             0.8888888888888888,
             "#fdca26"
            ],
            [
             1,
             "#f0f921"
            ]
           ]
          },
          "colorway": [
           "#636efa",
           "#EF553B",
           "#00cc96",
           "#ab63fa",
           "#FFA15A",
           "#19d3f3",
           "#FF6692",
           "#B6E880",
           "#FF97FF",
           "#FECB52"
          ],
          "font": {
           "color": "#2a3f5f"
          },
          "geo": {
           "bgcolor": "white",
           "lakecolor": "white",
           "landcolor": "#E5ECF6",
           "showlakes": true,
           "showland": true,
           "subunitcolor": "white"
          },
          "hoverlabel": {
           "align": "left"
          },
          "hovermode": "closest",
          "mapbox": {
           "style": "light"
          },
          "paper_bgcolor": "white",
          "plot_bgcolor": "#E5ECF6",
          "polar": {
           "angularaxis": {
            "gridcolor": "white",
            "linecolor": "white",
            "ticks": ""
           },
           "bgcolor": "#E5ECF6",
           "radialaxis": {
            "gridcolor": "white",
            "linecolor": "white",
            "ticks": ""
           }
          },
          "scene": {
           "xaxis": {
            "backgroundcolor": "#E5ECF6",
            "gridcolor": "white",
            "gridwidth": 2,
            "linecolor": "white",
            "showbackground": true,
            "ticks": "",
            "zerolinecolor": "white"
           },
           "yaxis": {
            "backgroundcolor": "#E5ECF6",
            "gridcolor": "white",
            "gridwidth": 2,
            "linecolor": "white",
            "showbackground": true,
            "ticks": "",
            "zerolinecolor": "white"
           },
           "zaxis": {
            "backgroundcolor": "#E5ECF6",
            "gridcolor": "white",
            "gridwidth": 2,
            "linecolor": "white",
            "showbackground": true,
            "ticks": "",
            "zerolinecolor": "white"
           }
          },
          "shapedefaults": {
           "line": {
            "color": "#2a3f5f"
           }
          },
          "ternary": {
           "aaxis": {
            "gridcolor": "white",
            "linecolor": "white",
            "ticks": ""
           },
           "baxis": {
            "gridcolor": "white",
            "linecolor": "white",
            "ticks": ""
           },
           "bgcolor": "#E5ECF6",
           "caxis": {
            "gridcolor": "white",
            "linecolor": "white",
            "ticks": ""
           }
          },
          "title": {
           "x": 0.05
          },
          "xaxis": {
           "automargin": true,
           "gridcolor": "white",
           "linecolor": "white",
           "ticks": "",
           "title": {
            "standoff": 15
           },
           "zerolinecolor": "white",
           "zerolinewidth": 2
          },
          "yaxis": {
           "automargin": true,
           "gridcolor": "white",
           "linecolor": "white",
           "ticks": "",
           "title": {
            "standoff": 15
           },
           "zerolinecolor": "white",
           "zerolinewidth": 2
          }
         }
        },
        "title": {
         "text": "Stacked Confusion Counts by Binned 'inclusion_ratio'"
        },
        "width": 950,
        "xaxis": {
         "title": {
          "text": "inclusion_ratio Bins"
         }
        },
        "yaxis": {
         "title": {
          "text": "Count"
         }
        }
       }
      }
     },
     "metadata": {},
     "output_type": "display_data"
    },
    {
     "name": "stdout",
     "output_type": "stream",
     "text": [
      "\n",
      "=== Per-bin Metrics ===\n",
      "\n",
      "Bin -0.0–0.33:\n",
      "  Accuracy:  0.321\n",
      "  Precision: 0.205\n",
      "  Recall:    0.900\n",
      "  F1 Score:  0.333\n",
      "\n",
      "Bin 0.33–0.67:\n",
      "  Accuracy:  0.706\n",
      "  Precision: 0.667\n",
      "  Recall:    0.947\n",
      "  F1 Score:  0.783\n",
      "\n",
      "Bin 0.67–1.0:\n",
      "  Accuracy:  0.620\n",
      "  Precision: 0.575\n",
      "  Recall:    0.979\n",
      "  F1 Score:  0.724\n"
     ]
    },
    {
     "data": {
      "application/vnd.plotly.v1+json": {
       "config": {
        "plotlyServerURL": "https://plot.ly"
       },
       "data": [
        {
         "insidetextanchor": "middle",
         "marker": {
          "color": "green"
         },
         "name": "TRUE",
         "text": [
          "7.1%",
          "36.4%",
          "52.4%",
          "55.8%",
          "73.1%"
         ],
         "textfont": {
          "color": "white",
          "size": 12
         },
         "textposition": "inside",
         "type": "bar",
         "x": [
          "-0.0–0.2",
          "0.2–0.4",
          "0.4–0.6",
          "0.6–0.8",
          "0.8–1.0"
         ],
         "y": {
          "bdata": "AgwWGDE=",
          "dtype": "i1"
         }
        },
        {
         "insidetextanchor": "middle",
         "marker": {
          "color": "red"
         },
         "name": "FAlSE",
         "text": [
          "92.9%",
          "63.6%",
          "47.6%",
          "44.2%",
          "26.9%"
         ],
         "textfont": {
          "color": "white",
          "size": 12
         },
         "textposition": "inside",
         "type": "bar",
         "x": [
          "-0.0–0.2",
          "0.2–0.4",
          "0.4–0.6",
          "0.6–0.8",
          "0.8–1.0"
         ],
         "y": {
          "bdata": "GhUUExI=",
          "dtype": "i1"
         }
        }
       ],
       "layout": {
        "barmode": "stack",
        "height": 500,
        "template": {
         "data": {
          "bar": [
           {
            "error_x": {
             "color": "#2a3f5f"
            },
            "error_y": {
             "color": "#2a3f5f"
            },
            "marker": {
             "line": {
              "color": "#E5ECF6",
              "width": 0.5
             },
             "pattern": {
              "fillmode": "overlay",
              "size": 10,
              "solidity": 0.2
             }
            },
            "type": "bar"
           }
          ],
          "barpolar": [
           {
            "marker": {
             "line": {
              "color": "#E5ECF6",
              "width": 0.5
             },
             "pattern": {
              "fillmode": "overlay",
              "size": 10,
              "solidity": 0.2
             }
            },
            "type": "barpolar"
           }
          ],
          "carpet": [
           {
            "aaxis": {
             "endlinecolor": "#2a3f5f",
             "gridcolor": "white",
             "linecolor": "white",
             "minorgridcolor": "white",
             "startlinecolor": "#2a3f5f"
            },
            "baxis": {
             "endlinecolor": "#2a3f5f",
             "gridcolor": "white",
             "linecolor": "white",
             "minorgridcolor": "white",
             "startlinecolor": "#2a3f5f"
            },
            "type": "carpet"
           }
          ],
          "choropleth": [
           {
            "colorbar": {
             "outlinewidth": 0,
             "ticks": ""
            },
            "type": "choropleth"
           }
          ],
          "contour": [
           {
            "colorbar": {
             "outlinewidth": 0,
             "ticks": ""
            },
            "colorscale": [
             [
              0,
              "#0d0887"
             ],
             [
              0.1111111111111111,
              "#46039f"
             ],
             [
              0.2222222222222222,
              "#7201a8"
             ],
             [
              0.3333333333333333,
              "#9c179e"
             ],
             [
              0.4444444444444444,
              "#bd3786"
             ],
             [
              0.5555555555555556,
              "#d8576b"
             ],
             [
              0.6666666666666666,
              "#ed7953"
             ],
             [
              0.7777777777777778,
              "#fb9f3a"
             ],
             [
              0.8888888888888888,
              "#fdca26"
             ],
             [
              1,
              "#f0f921"
             ]
            ],
            "type": "contour"
           }
          ],
          "contourcarpet": [
           {
            "colorbar": {
             "outlinewidth": 0,
             "ticks": ""
            },
            "type": "contourcarpet"
           }
          ],
          "heatmap": [
           {
            "colorbar": {
             "outlinewidth": 0,
             "ticks": ""
            },
            "colorscale": [
             [
              0,
              "#0d0887"
             ],
             [
              0.1111111111111111,
              "#46039f"
             ],
             [
              0.2222222222222222,
              "#7201a8"
             ],
             [
              0.3333333333333333,
              "#9c179e"
             ],
             [
              0.4444444444444444,
              "#bd3786"
             ],
             [
              0.5555555555555556,
              "#d8576b"
             ],
             [
              0.6666666666666666,
              "#ed7953"
             ],
             [
              0.7777777777777778,
              "#fb9f3a"
             ],
             [
              0.8888888888888888,
              "#fdca26"
             ],
             [
              1,
              "#f0f921"
             ]
            ],
            "type": "heatmap"
           }
          ],
          "histogram": [
           {
            "marker": {
             "pattern": {
              "fillmode": "overlay",
              "size": 10,
              "solidity": 0.2
             }
            },
            "type": "histogram"
           }
          ],
          "histogram2d": [
           {
            "colorbar": {
             "outlinewidth": 0,
             "ticks": ""
            },
            "colorscale": [
             [
              0,
              "#0d0887"
             ],
             [
              0.1111111111111111,
              "#46039f"
             ],
             [
              0.2222222222222222,
              "#7201a8"
             ],
             [
              0.3333333333333333,
              "#9c179e"
             ],
             [
              0.4444444444444444,
              "#bd3786"
             ],
             [
              0.5555555555555556,
              "#d8576b"
             ],
             [
              0.6666666666666666,
              "#ed7953"
             ],
             [
              0.7777777777777778,
              "#fb9f3a"
             ],
             [
              0.8888888888888888,
              "#fdca26"
             ],
             [
              1,
              "#f0f921"
             ]
            ],
            "type": "histogram2d"
           }
          ],
          "histogram2dcontour": [
           {
            "colorbar": {
             "outlinewidth": 0,
             "ticks": ""
            },
            "colorscale": [
             [
              0,
              "#0d0887"
             ],
             [
              0.1111111111111111,
              "#46039f"
             ],
             [
              0.2222222222222222,
              "#7201a8"
             ],
             [
              0.3333333333333333,
              "#9c179e"
             ],
             [
              0.4444444444444444,
              "#bd3786"
             ],
             [
              0.5555555555555556,
              "#d8576b"
             ],
             [
              0.6666666666666666,
              "#ed7953"
             ],
             [
              0.7777777777777778,
              "#fb9f3a"
             ],
             [
              0.8888888888888888,
              "#fdca26"
             ],
             [
              1,
              "#f0f921"
             ]
            ],
            "type": "histogram2dcontour"
           }
          ],
          "mesh3d": [
           {
            "colorbar": {
             "outlinewidth": 0,
             "ticks": ""
            },
            "type": "mesh3d"
           }
          ],
          "parcoords": [
           {
            "line": {
             "colorbar": {
              "outlinewidth": 0,
              "ticks": ""
             }
            },
            "type": "parcoords"
           }
          ],
          "pie": [
           {
            "automargin": true,
            "type": "pie"
           }
          ],
          "scatter": [
           {
            "fillpattern": {
             "fillmode": "overlay",
             "size": 10,
             "solidity": 0.2
            },
            "type": "scatter"
           }
          ],
          "scatter3d": [
           {
            "line": {
             "colorbar": {
              "outlinewidth": 0,
              "ticks": ""
             }
            },
            "marker": {
             "colorbar": {
              "outlinewidth": 0,
              "ticks": ""
             }
            },
            "type": "scatter3d"
           }
          ],
          "scattercarpet": [
           {
            "marker": {
             "colorbar": {
              "outlinewidth": 0,
              "ticks": ""
             }
            },
            "type": "scattercarpet"
           }
          ],
          "scattergeo": [
           {
            "marker": {
             "colorbar": {
              "outlinewidth": 0,
              "ticks": ""
             }
            },
            "type": "scattergeo"
           }
          ],
          "scattergl": [
           {
            "marker": {
             "colorbar": {
              "outlinewidth": 0,
              "ticks": ""
             }
            },
            "type": "scattergl"
           }
          ],
          "scattermap": [
           {
            "marker": {
             "colorbar": {
              "outlinewidth": 0,
              "ticks": ""
             }
            },
            "type": "scattermap"
           }
          ],
          "scattermapbox": [
           {
            "marker": {
             "colorbar": {
              "outlinewidth": 0,
              "ticks": ""
             }
            },
            "type": "scattermapbox"
           }
          ],
          "scatterpolar": [
           {
            "marker": {
             "colorbar": {
              "outlinewidth": 0,
              "ticks": ""
             }
            },
            "type": "scatterpolar"
           }
          ],
          "scatterpolargl": [
           {
            "marker": {
             "colorbar": {
              "outlinewidth": 0,
              "ticks": ""
             }
            },
            "type": "scatterpolargl"
           }
          ],
          "scatterternary": [
           {
            "marker": {
             "colorbar": {
              "outlinewidth": 0,
              "ticks": ""
             }
            },
            "type": "scatterternary"
           }
          ],
          "surface": [
           {
            "colorbar": {
             "outlinewidth": 0,
             "ticks": ""
            },
            "colorscale": [
             [
              0,
              "#0d0887"
             ],
             [
              0.1111111111111111,
              "#46039f"
             ],
             [
              0.2222222222222222,
              "#7201a8"
             ],
             [
              0.3333333333333333,
              "#9c179e"
             ],
             [
              0.4444444444444444,
              "#bd3786"
             ],
             [
              0.5555555555555556,
              "#d8576b"
             ],
             [
              0.6666666666666666,
              "#ed7953"
             ],
             [
              0.7777777777777778,
              "#fb9f3a"
             ],
             [
              0.8888888888888888,
              "#fdca26"
             ],
             [
              1,
              "#f0f921"
             ]
            ],
            "type": "surface"
           }
          ],
          "table": [
           {
            "cells": {
             "fill": {
              "color": "#EBF0F8"
             },
             "line": {
              "color": "white"
             }
            },
            "header": {
             "fill": {
              "color": "#C8D4E3"
             },
             "line": {
              "color": "white"
             }
            },
            "type": "table"
           }
          ]
         },
         "layout": {
          "annotationdefaults": {
           "arrowcolor": "#2a3f5f",
           "arrowhead": 0,
           "arrowwidth": 1
          },
          "autotypenumbers": "strict",
          "coloraxis": {
           "colorbar": {
            "outlinewidth": 0,
            "ticks": ""
           }
          },
          "colorscale": {
           "diverging": [
            [
             0,
             "#8e0152"
            ],
            [
             0.1,
             "#c51b7d"
            ],
            [
             0.2,
             "#de77ae"
            ],
            [
             0.3,
             "#f1b6da"
            ],
            [
             0.4,
             "#fde0ef"
            ],
            [
             0.5,
             "#f7f7f7"
            ],
            [
             0.6,
             "#e6f5d0"
            ],
            [
             0.7,
             "#b8e186"
            ],
            [
             0.8,
             "#7fbc41"
            ],
            [
             0.9,
             "#4d9221"
            ],
            [
             1,
             "#276419"
            ]
           ],
           "sequential": [
            [
             0,
             "#0d0887"
            ],
            [
             0.1111111111111111,
             "#46039f"
            ],
            [
             0.2222222222222222,
             "#7201a8"
            ],
            [
             0.3333333333333333,
             "#9c179e"
            ],
            [
             0.4444444444444444,
             "#bd3786"
            ],
            [
             0.5555555555555556,
             "#d8576b"
            ],
            [
             0.6666666666666666,
             "#ed7953"
            ],
            [
             0.7777777777777778,
             "#fb9f3a"
            ],
            [
             0.8888888888888888,
             "#fdca26"
            ],
            [
             1,
             "#f0f921"
            ]
           ],
           "sequentialminus": [
            [
             0,
             "#0d0887"
            ],
            [
             0.1111111111111111,
             "#46039f"
            ],
            [
             0.2222222222222222,
             "#7201a8"
            ],
            [
             0.3333333333333333,
             "#9c179e"
            ],
            [
             0.4444444444444444,
             "#bd3786"
            ],
            [
             0.5555555555555556,
             "#d8576b"
            ],
            [
             0.6666666666666666,
             "#ed7953"
            ],
            [
             0.7777777777777778,
             "#fb9f3a"
            ],
            [
             0.8888888888888888,
             "#fdca26"
            ],
            [
             1,
             "#f0f921"
            ]
           ]
          },
          "colorway": [
           "#636efa",
           "#EF553B",
           "#00cc96",
           "#ab63fa",
           "#FFA15A",
           "#19d3f3",
           "#FF6692",
           "#B6E880",
           "#FF97FF",
           "#FECB52"
          ],
          "font": {
           "color": "#2a3f5f"
          },
          "geo": {
           "bgcolor": "white",
           "lakecolor": "white",
           "landcolor": "#E5ECF6",
           "showlakes": true,
           "showland": true,
           "subunitcolor": "white"
          },
          "hoverlabel": {
           "align": "left"
          },
          "hovermode": "closest",
          "mapbox": {
           "style": "light"
          },
          "paper_bgcolor": "white",
          "plot_bgcolor": "#E5ECF6",
          "polar": {
           "angularaxis": {
            "gridcolor": "white",
            "linecolor": "white",
            "ticks": ""
           },
           "bgcolor": "#E5ECF6",
           "radialaxis": {
            "gridcolor": "white",
            "linecolor": "white",
            "ticks": ""
           }
          },
          "scene": {
           "xaxis": {
            "backgroundcolor": "#E5ECF6",
            "gridcolor": "white",
            "gridwidth": 2,
            "linecolor": "white",
            "showbackground": true,
            "ticks": "",
            "zerolinecolor": "white"
           },
           "yaxis": {
            "backgroundcolor": "#E5ECF6",
            "gridcolor": "white",
            "gridwidth": 2,
            "linecolor": "white",
            "showbackground": true,
            "ticks": "",
            "zerolinecolor": "white"
           },
           "zaxis": {
            "backgroundcolor": "#E5ECF6",
            "gridcolor": "white",
            "gridwidth": 2,
            "linecolor": "white",
            "showbackground": true,
            "ticks": "",
            "zerolinecolor": "white"
           }
          },
          "shapedefaults": {
           "line": {
            "color": "#2a3f5f"
           }
          },
          "ternary": {
           "aaxis": {
            "gridcolor": "white",
            "linecolor": "white",
            "ticks": ""
           },
           "baxis": {
            "gridcolor": "white",
            "linecolor": "white",
            "ticks": ""
           },
           "bgcolor": "#E5ECF6",
           "caxis": {
            "gridcolor": "white",
            "linecolor": "white",
            "ticks": ""
           }
          },
          "title": {
           "x": 0.05
          },
          "xaxis": {
           "automargin": true,
           "gridcolor": "white",
           "linecolor": "white",
           "ticks": "",
           "title": {
            "standoff": 15
           },
           "zerolinecolor": "white",
           "zerolinewidth": 2
          },
          "yaxis": {
           "automargin": true,
           "gridcolor": "white",
           "linecolor": "white",
           "ticks": "",
           "title": {
            "standoff": 15
           },
           "zerolinecolor": "white",
           "zerolinewidth": 2
          }
         }
        },
        "title": {
         "text": "Stacked Bar of 'TRUE' and 'FAlSE' by binned 'inclusion_ratio'"
        },
        "width": 800,
        "xaxis": {
         "title": {
          "text": "inclusion_ratio Bins"
         }
        },
        "yaxis": {
         "title": {
          "text": "Count"
         }
        }
       }
      }
     },
     "metadata": {},
     "output_type": "display_data"
    },
    {
     "data": {
      "application/vnd.plotly.v1+json": {
       "config": {
        "plotlyServerURL": "https://plot.ly"
       },
       "data": [
        {
         "insidetextanchor": "middle",
         "marker": {
          "color": "green"
         },
         "name": "POSITIVE",
         "text": [
          "3.6%",
          "18.2%",
          "47.6%",
          "55.8%",
          "56.7%"
         ],
         "textfont": {
          "color": "white",
          "size": 12
         },
         "textposition": "inside",
         "type": "bar",
         "x": [
          "-0.0–0.2",
          "0.2–0.4",
          "0.4–0.6",
          "0.6–0.8",
          "0.8–1.0"
         ],
         "y": {
          "bdata": "AQYUGCY=",
          "dtype": "i1"
         }
        },
        {
         "insidetextanchor": "middle",
         "marker": {
          "color": "red"
         },
         "name": "NEGATIVE",
         "text": [
          "96.4%",
          "81.8%",
          "52.4%",
          "44.2%",
          "43.3%"
         ],
         "textfont": {
          "color": "white",
          "size": 12
         },
         "textposition": "inside",
         "type": "bar",
         "x": [
          "-0.0–0.2",
          "0.2–0.4",
          "0.4–0.6",
          "0.6–0.8",
          "0.8–1.0"
         ],
         "y": {
          "bdata": "GxsWEx0=",
          "dtype": "i1"
         }
        }
       ],
       "layout": {
        "barmode": "stack",
        "height": 500,
        "template": {
         "data": {
          "bar": [
           {
            "error_x": {
             "color": "#2a3f5f"
            },
            "error_y": {
             "color": "#2a3f5f"
            },
            "marker": {
             "line": {
              "color": "#E5ECF6",
              "width": 0.5
             },
             "pattern": {
              "fillmode": "overlay",
              "size": 10,
              "solidity": 0.2
             }
            },
            "type": "bar"
           }
          ],
          "barpolar": [
           {
            "marker": {
             "line": {
              "color": "#E5ECF6",
              "width": 0.5
             },
             "pattern": {
              "fillmode": "overlay",
              "size": 10,
              "solidity": 0.2
             }
            },
            "type": "barpolar"
           }
          ],
          "carpet": [
           {
            "aaxis": {
             "endlinecolor": "#2a3f5f",
             "gridcolor": "white",
             "linecolor": "white",
             "minorgridcolor": "white",
             "startlinecolor": "#2a3f5f"
            },
            "baxis": {
             "endlinecolor": "#2a3f5f",
             "gridcolor": "white",
             "linecolor": "white",
             "minorgridcolor": "white",
             "startlinecolor": "#2a3f5f"
            },
            "type": "carpet"
           }
          ],
          "choropleth": [
           {
            "colorbar": {
             "outlinewidth": 0,
             "ticks": ""
            },
            "type": "choropleth"
           }
          ],
          "contour": [
           {
            "colorbar": {
             "outlinewidth": 0,
             "ticks": ""
            },
            "colorscale": [
             [
              0,
              "#0d0887"
             ],
             [
              0.1111111111111111,
              "#46039f"
             ],
             [
              0.2222222222222222,
              "#7201a8"
             ],
             [
              0.3333333333333333,
              "#9c179e"
             ],
             [
              0.4444444444444444,
              "#bd3786"
             ],
             [
              0.5555555555555556,
              "#d8576b"
             ],
             [
              0.6666666666666666,
              "#ed7953"
             ],
             [
              0.7777777777777778,
              "#fb9f3a"
             ],
             [
              0.8888888888888888,
              "#fdca26"
             ],
             [
              1,
              "#f0f921"
             ]
            ],
            "type": "contour"
           }
          ],
          "contourcarpet": [
           {
            "colorbar": {
             "outlinewidth": 0,
             "ticks": ""
            },
            "type": "contourcarpet"
           }
          ],
          "heatmap": [
           {
            "colorbar": {
             "outlinewidth": 0,
             "ticks": ""
            },
            "colorscale": [
             [
              0,
              "#0d0887"
             ],
             [
              0.1111111111111111,
              "#46039f"
             ],
             [
              0.2222222222222222,
              "#7201a8"
             ],
             [
              0.3333333333333333,
              "#9c179e"
             ],
             [
              0.4444444444444444,
              "#bd3786"
             ],
             [
              0.5555555555555556,
              "#d8576b"
             ],
             [
              0.6666666666666666,
              "#ed7953"
             ],
             [
              0.7777777777777778,
              "#fb9f3a"
             ],
             [
              0.8888888888888888,
              "#fdca26"
             ],
             [
              1,
              "#f0f921"
             ]
            ],
            "type": "heatmap"
           }
          ],
          "histogram": [
           {
            "marker": {
             "pattern": {
              "fillmode": "overlay",
              "size": 10,
              "solidity": 0.2
             }
            },
            "type": "histogram"
           }
          ],
          "histogram2d": [
           {
            "colorbar": {
             "outlinewidth": 0,
             "ticks": ""
            },
            "colorscale": [
             [
              0,
              "#0d0887"
             ],
             [
              0.1111111111111111,
              "#46039f"
             ],
             [
              0.2222222222222222,
              "#7201a8"
             ],
             [
              0.3333333333333333,
              "#9c179e"
             ],
             [
              0.4444444444444444,
              "#bd3786"
             ],
             [
              0.5555555555555556,
              "#d8576b"
             ],
             [
              0.6666666666666666,
              "#ed7953"
             ],
             [
              0.7777777777777778,
              "#fb9f3a"
             ],
             [
              0.8888888888888888,
              "#fdca26"
             ],
             [
              1,
              "#f0f921"
             ]
            ],
            "type": "histogram2d"
           }
          ],
          "histogram2dcontour": [
           {
            "colorbar": {
             "outlinewidth": 0,
             "ticks": ""
            },
            "colorscale": [
             [
              0,
              "#0d0887"
             ],
             [
              0.1111111111111111,
              "#46039f"
             ],
             [
              0.2222222222222222,
              "#7201a8"
             ],
             [
              0.3333333333333333,
              "#9c179e"
             ],
             [
              0.4444444444444444,
              "#bd3786"
             ],
             [
              0.5555555555555556,
              "#d8576b"
             ],
             [
              0.6666666666666666,
              "#ed7953"
             ],
             [
              0.7777777777777778,
              "#fb9f3a"
             ],
             [
              0.8888888888888888,
              "#fdca26"
             ],
             [
              1,
              "#f0f921"
             ]
            ],
            "type": "histogram2dcontour"
           }
          ],
          "mesh3d": [
           {
            "colorbar": {
             "outlinewidth": 0,
             "ticks": ""
            },
            "type": "mesh3d"
           }
          ],
          "parcoords": [
           {
            "line": {
             "colorbar": {
              "outlinewidth": 0,
              "ticks": ""
             }
            },
            "type": "parcoords"
           }
          ],
          "pie": [
           {
            "automargin": true,
            "type": "pie"
           }
          ],
          "scatter": [
           {
            "fillpattern": {
             "fillmode": "overlay",
             "size": 10,
             "solidity": 0.2
            },
            "type": "scatter"
           }
          ],
          "scatter3d": [
           {
            "line": {
             "colorbar": {
              "outlinewidth": 0,
              "ticks": ""
             }
            },
            "marker": {
             "colorbar": {
              "outlinewidth": 0,
              "ticks": ""
             }
            },
            "type": "scatter3d"
           }
          ],
          "scattercarpet": [
           {
            "marker": {
             "colorbar": {
              "outlinewidth": 0,
              "ticks": ""
             }
            },
            "type": "scattercarpet"
           }
          ],
          "scattergeo": [
           {
            "marker": {
             "colorbar": {
              "outlinewidth": 0,
              "ticks": ""
             }
            },
            "type": "scattergeo"
           }
          ],
          "scattergl": [
           {
            "marker": {
             "colorbar": {
              "outlinewidth": 0,
              "ticks": ""
             }
            },
            "type": "scattergl"
           }
          ],
          "scattermap": [
           {
            "marker": {
             "colorbar": {
              "outlinewidth": 0,
              "ticks": ""
             }
            },
            "type": "scattermap"
           }
          ],
          "scattermapbox": [
           {
            "marker": {
             "colorbar": {
              "outlinewidth": 0,
              "ticks": ""
             }
            },
            "type": "scattermapbox"
           }
          ],
          "scatterpolar": [
           {
            "marker": {
             "colorbar": {
              "outlinewidth": 0,
              "ticks": ""
             }
            },
            "type": "scatterpolar"
           }
          ],
          "scatterpolargl": [
           {
            "marker": {
             "colorbar": {
              "outlinewidth": 0,
              "ticks": ""
             }
            },
            "type": "scatterpolargl"
           }
          ],
          "scatterternary": [
           {
            "marker": {
             "colorbar": {
              "outlinewidth": 0,
              "ticks": ""
             }
            },
            "type": "scatterternary"
           }
          ],
          "surface": [
           {
            "colorbar": {
             "outlinewidth": 0,
             "ticks": ""
            },
            "colorscale": [
             [
              0,
              "#0d0887"
             ],
             [
              0.1111111111111111,
              "#46039f"
             ],
             [
              0.2222222222222222,
              "#7201a8"
             ],
             [
              0.3333333333333333,
              "#9c179e"
             ],
             [
              0.4444444444444444,
              "#bd3786"
             ],
             [
              0.5555555555555556,
              "#d8576b"
             ],
             [
              0.6666666666666666,
              "#ed7953"
             ],
             [
              0.7777777777777778,
              "#fb9f3a"
             ],
             [
              0.8888888888888888,
              "#fdca26"
             ],
             [
              1,
              "#f0f921"
             ]
            ],
            "type": "surface"
           }
          ],
          "table": [
           {
            "cells": {
             "fill": {
              "color": "#EBF0F8"
             },
             "line": {
              "color": "white"
             }
            },
            "header": {
             "fill": {
              "color": "#C8D4E3"
             },
             "line": {
              "color": "white"
             }
            },
            "type": "table"
           }
          ]
         },
         "layout": {
          "annotationdefaults": {
           "arrowcolor": "#2a3f5f",
           "arrowhead": 0,
           "arrowwidth": 1
          },
          "autotypenumbers": "strict",
          "coloraxis": {
           "colorbar": {
            "outlinewidth": 0,
            "ticks": ""
           }
          },
          "colorscale": {
           "diverging": [
            [
             0,
             "#8e0152"
            ],
            [
             0.1,
             "#c51b7d"
            ],
            [
             0.2,
             "#de77ae"
            ],
            [
             0.3,
             "#f1b6da"
            ],
            [
             0.4,
             "#fde0ef"
            ],
            [
             0.5,
             "#f7f7f7"
            ],
            [
             0.6,
             "#e6f5d0"
            ],
            [
             0.7,
             "#b8e186"
            ],
            [
             0.8,
             "#7fbc41"
            ],
            [
             0.9,
             "#4d9221"
            ],
            [
             1,
             "#276419"
            ]
           ],
           "sequential": [
            [
             0,
             "#0d0887"
            ],
            [
             0.1111111111111111,
             "#46039f"
            ],
            [
             0.2222222222222222,
             "#7201a8"
            ],
            [
             0.3333333333333333,
             "#9c179e"
            ],
            [
             0.4444444444444444,
             "#bd3786"
            ],
            [
             0.5555555555555556,
             "#d8576b"
            ],
            [
             0.6666666666666666,
             "#ed7953"
            ],
            [
             0.7777777777777778,
             "#fb9f3a"
            ],
            [
             0.8888888888888888,
             "#fdca26"
            ],
            [
             1,
             "#f0f921"
            ]
           ],
           "sequentialminus": [
            [
             0,
             "#0d0887"
            ],
            [
             0.1111111111111111,
             "#46039f"
            ],
            [
             0.2222222222222222,
             "#7201a8"
            ],
            [
             0.3333333333333333,
             "#9c179e"
            ],
            [
             0.4444444444444444,
             "#bd3786"
            ],
            [
             0.5555555555555556,
             "#d8576b"
            ],
            [
             0.6666666666666666,
             "#ed7953"
            ],
            [
             0.7777777777777778,
             "#fb9f3a"
            ],
            [
             0.8888888888888888,
             "#fdca26"
            ],
            [
             1,
             "#f0f921"
            ]
           ]
          },
          "colorway": [
           "#636efa",
           "#EF553B",
           "#00cc96",
           "#ab63fa",
           "#FFA15A",
           "#19d3f3",
           "#FF6692",
           "#B6E880",
           "#FF97FF",
           "#FECB52"
          ],
          "font": {
           "color": "#2a3f5f"
          },
          "geo": {
           "bgcolor": "white",
           "lakecolor": "white",
           "landcolor": "#E5ECF6",
           "showlakes": true,
           "showland": true,
           "subunitcolor": "white"
          },
          "hoverlabel": {
           "align": "left"
          },
          "hovermode": "closest",
          "mapbox": {
           "style": "light"
          },
          "paper_bgcolor": "white",
          "plot_bgcolor": "#E5ECF6",
          "polar": {
           "angularaxis": {
            "gridcolor": "white",
            "linecolor": "white",
            "ticks": ""
           },
           "bgcolor": "#E5ECF6",
           "radialaxis": {
            "gridcolor": "white",
            "linecolor": "white",
            "ticks": ""
           }
          },
          "scene": {
           "xaxis": {
            "backgroundcolor": "#E5ECF6",
            "gridcolor": "white",
            "gridwidth": 2,
            "linecolor": "white",
            "showbackground": true,
            "ticks": "",
            "zerolinecolor": "white"
           },
           "yaxis": {
            "backgroundcolor": "#E5ECF6",
            "gridcolor": "white",
            "gridwidth": 2,
            "linecolor": "white",
            "showbackground": true,
            "ticks": "",
            "zerolinecolor": "white"
           },
           "zaxis": {
            "backgroundcolor": "#E5ECF6",
            "gridcolor": "white",
            "gridwidth": 2,
            "linecolor": "white",
            "showbackground": true,
            "ticks": "",
            "zerolinecolor": "white"
           }
          },
          "shapedefaults": {
           "line": {
            "color": "#2a3f5f"
           }
          },
          "ternary": {
           "aaxis": {
            "gridcolor": "white",
            "linecolor": "white",
            "ticks": ""
           },
           "baxis": {
            "gridcolor": "white",
            "linecolor": "white",
            "ticks": ""
           },
           "bgcolor": "#E5ECF6",
           "caxis": {
            "gridcolor": "white",
            "linecolor": "white",
            "ticks": ""
           }
          },
          "title": {
           "x": 0.05
          },
          "xaxis": {
           "automargin": true,
           "gridcolor": "white",
           "linecolor": "white",
           "ticks": "",
           "title": {
            "standoff": 15
           },
           "zerolinecolor": "white",
           "zerolinewidth": 2
          },
          "yaxis": {
           "automargin": true,
           "gridcolor": "white",
           "linecolor": "white",
           "ticks": "",
           "title": {
            "standoff": 15
           },
           "zerolinecolor": "white",
           "zerolinewidth": 2
          }
         }
        },
        "title": {
         "text": "Stacked Bar of 'POSITIVE' and 'NEGATIVE' by binned 'inclusion_ratio'"
        },
        "width": 800,
        "xaxis": {
         "title": {
          "text": "inclusion_ratio Bins"
         }
        },
        "yaxis": {
         "title": {
          "text": "Count"
         }
        }
       }
      }
     },
     "metadata": {},
     "output_type": "display_data"
    },
    {
     "data": {
      "application/vnd.plotly.v1+json": {
       "config": {
        "plotlyServerURL": "https://plot.ly"
       },
       "data": [
        {
         "insidetextanchor": "middle",
         "marker": {
          "color": "green"
         },
         "name": "POSITIVE",
         "text": [
          "3.6%",
          "27.3%",
          "28.6%",
          "65.1%",
          "62.7%"
         ],
         "textfont": {
          "color": "white",
          "size": 12
         },
         "textposition": "inside",
         "type": "bar",
         "x": [
          "-0.0–0.2",
          "0.2–0.4",
          "0.4–0.6",
          "0.6–0.8",
          "0.8–1.0"
         ],
         "y": {
          "bdata": "AQkMHCo=",
          "dtype": "i1"
         }
        },
        {
         "insidetextanchor": "middle",
         "marker": {
          "color": "red"
         },
         "name": "NEGATIVE",
         "text": [
          "96.4%",
          "72.7%",
          "71.4%",
          "34.9%",
          "37.3%"
         ],
         "textfont": {
          "color": "white",
          "size": 12
         },
         "textposition": "inside",
         "type": "bar",
         "x": [
          "-0.0–0.2",
          "0.2–0.4",
          "0.4–0.6",
          "0.6–0.8",
          "0.8–1.0"
         ],
         "y": {
          "bdata": "GxgeDxk=",
          "dtype": "i1"
         }
        }
       ],
       "layout": {
        "barmode": "stack",
        "height": 500,
        "template": {
         "data": {
          "bar": [
           {
            "error_x": {
             "color": "#2a3f5f"
            },
            "error_y": {
             "color": "#2a3f5f"
            },
            "marker": {
             "line": {
              "color": "#E5ECF6",
              "width": 0.5
             },
             "pattern": {
              "fillmode": "overlay",
              "size": 10,
              "solidity": 0.2
             }
            },
            "type": "bar"
           }
          ],
          "barpolar": [
           {
            "marker": {
             "line": {
              "color": "#E5ECF6",
              "width": 0.5
             },
             "pattern": {
              "fillmode": "overlay",
              "size": 10,
              "solidity": 0.2
             }
            },
            "type": "barpolar"
           }
          ],
          "carpet": [
           {
            "aaxis": {
             "endlinecolor": "#2a3f5f",
             "gridcolor": "white",
             "linecolor": "white",
             "minorgridcolor": "white",
             "startlinecolor": "#2a3f5f"
            },
            "baxis": {
             "endlinecolor": "#2a3f5f",
             "gridcolor": "white",
             "linecolor": "white",
             "minorgridcolor": "white",
             "startlinecolor": "#2a3f5f"
            },
            "type": "carpet"
           }
          ],
          "choropleth": [
           {
            "colorbar": {
             "outlinewidth": 0,
             "ticks": ""
            },
            "type": "choropleth"
           }
          ],
          "contour": [
           {
            "colorbar": {
             "outlinewidth": 0,
             "ticks": ""
            },
            "colorscale": [
             [
              0,
              "#0d0887"
             ],
             [
              0.1111111111111111,
              "#46039f"
             ],
             [
              0.2222222222222222,
              "#7201a8"
             ],
             [
              0.3333333333333333,
              "#9c179e"
             ],
             [
              0.4444444444444444,
              "#bd3786"
             ],
             [
              0.5555555555555556,
              "#d8576b"
             ],
             [
              0.6666666666666666,
              "#ed7953"
             ],
             [
              0.7777777777777778,
              "#fb9f3a"
             ],
             [
              0.8888888888888888,
              "#fdca26"
             ],
             [
              1,
              "#f0f921"
             ]
            ],
            "type": "contour"
           }
          ],
          "contourcarpet": [
           {
            "colorbar": {
             "outlinewidth": 0,
             "ticks": ""
            },
            "type": "contourcarpet"
           }
          ],
          "heatmap": [
           {
            "colorbar": {
             "outlinewidth": 0,
             "ticks": ""
            },
            "colorscale": [
             [
              0,
              "#0d0887"
             ],
             [
              0.1111111111111111,
              "#46039f"
             ],
             [
              0.2222222222222222,
              "#7201a8"
             ],
             [
              0.3333333333333333,
              "#9c179e"
             ],
             [
              0.4444444444444444,
              "#bd3786"
             ],
             [
              0.5555555555555556,
              "#d8576b"
             ],
             [
              0.6666666666666666,
              "#ed7953"
             ],
             [
              0.7777777777777778,
              "#fb9f3a"
             ],
             [
              0.8888888888888888,
              "#fdca26"
             ],
             [
              1,
              "#f0f921"
             ]
            ],
            "type": "heatmap"
           }
          ],
          "histogram": [
           {
            "marker": {
             "pattern": {
              "fillmode": "overlay",
              "size": 10,
              "solidity": 0.2
             }
            },
            "type": "histogram"
           }
          ],
          "histogram2d": [
           {
            "colorbar": {
             "outlinewidth": 0,
             "ticks": ""
            },
            "colorscale": [
             [
              0,
              "#0d0887"
             ],
             [
              0.1111111111111111,
              "#46039f"
             ],
             [
              0.2222222222222222,
              "#7201a8"
             ],
             [
              0.3333333333333333,
              "#9c179e"
             ],
             [
              0.4444444444444444,
              "#bd3786"
             ],
             [
              0.5555555555555556,
              "#d8576b"
             ],
             [
              0.6666666666666666,
              "#ed7953"
             ],
             [
              0.7777777777777778,
              "#fb9f3a"
             ],
             [
              0.8888888888888888,
              "#fdca26"
             ],
             [
              1,
              "#f0f921"
             ]
            ],
            "type": "histogram2d"
           }
          ],
          "histogram2dcontour": [
           {
            "colorbar": {
             "outlinewidth": 0,
             "ticks": ""
            },
            "colorscale": [
             [
              0,
              "#0d0887"
             ],
             [
              0.1111111111111111,
              "#46039f"
             ],
             [
              0.2222222222222222,
              "#7201a8"
             ],
             [
              0.3333333333333333,
              "#9c179e"
             ],
             [
              0.4444444444444444,
              "#bd3786"
             ],
             [
              0.5555555555555556,
              "#d8576b"
             ],
             [
              0.6666666666666666,
              "#ed7953"
             ],
             [
              0.7777777777777778,
              "#fb9f3a"
             ],
             [
              0.8888888888888888,
              "#fdca26"
             ],
             [
              1,
              "#f0f921"
             ]
            ],
            "type": "histogram2dcontour"
           }
          ],
          "mesh3d": [
           {
            "colorbar": {
             "outlinewidth": 0,
             "ticks": ""
            },
            "type": "mesh3d"
           }
          ],
          "parcoords": [
           {
            "line": {
             "colorbar": {
              "outlinewidth": 0,
              "ticks": ""
             }
            },
            "type": "parcoords"
           }
          ],
          "pie": [
           {
            "automargin": true,
            "type": "pie"
           }
          ],
          "scatter": [
           {
            "fillpattern": {
             "fillmode": "overlay",
             "size": 10,
             "solidity": 0.2
            },
            "type": "scatter"
           }
          ],
          "scatter3d": [
           {
            "line": {
             "colorbar": {
              "outlinewidth": 0,
              "ticks": ""
             }
            },
            "marker": {
             "colorbar": {
              "outlinewidth": 0,
              "ticks": ""
             }
            },
            "type": "scatter3d"
           }
          ],
          "scattercarpet": [
           {
            "marker": {
             "colorbar": {
              "outlinewidth": 0,
              "ticks": ""
             }
            },
            "type": "scattercarpet"
           }
          ],
          "scattergeo": [
           {
            "marker": {
             "colorbar": {
              "outlinewidth": 0,
              "ticks": ""
             }
            },
            "type": "scattergeo"
           }
          ],
          "scattergl": [
           {
            "marker": {
             "colorbar": {
              "outlinewidth": 0,
              "ticks": ""
             }
            },
            "type": "scattergl"
           }
          ],
          "scattermap": [
           {
            "marker": {
             "colorbar": {
              "outlinewidth": 0,
              "ticks": ""
             }
            },
            "type": "scattermap"
           }
          ],
          "scattermapbox": [
           {
            "marker": {
             "colorbar": {
              "outlinewidth": 0,
              "ticks": ""
             }
            },
            "type": "scattermapbox"
           }
          ],
          "scatterpolar": [
           {
            "marker": {
             "colorbar": {
              "outlinewidth": 0,
              "ticks": ""
             }
            },
            "type": "scatterpolar"
           }
          ],
          "scatterpolargl": [
           {
            "marker": {
             "colorbar": {
              "outlinewidth": 0,
              "ticks": ""
             }
            },
            "type": "scatterpolargl"
           }
          ],
          "scatterternary": [
           {
            "marker": {
             "colorbar": {
              "outlinewidth": 0,
              "ticks": ""
             }
            },
            "type": "scatterternary"
           }
          ],
          "surface": [
           {
            "colorbar": {
             "outlinewidth": 0,
             "ticks": ""
            },
            "colorscale": [
             [
              0,
              "#0d0887"
             ],
             [
              0.1111111111111111,
              "#46039f"
             ],
             [
              0.2222222222222222,
              "#7201a8"
             ],
             [
              0.3333333333333333,
              "#9c179e"
             ],
             [
              0.4444444444444444,
              "#bd3786"
             ],
             [
              0.5555555555555556,
              "#d8576b"
             ],
             [
              0.6666666666666666,
              "#ed7953"
             ],
             [
              0.7777777777777778,
              "#fb9f3a"
             ],
             [
              0.8888888888888888,
              "#fdca26"
             ],
             [
              1,
              "#f0f921"
             ]
            ],
            "type": "surface"
           }
          ],
          "table": [
           {
            "cells": {
             "fill": {
              "color": "#EBF0F8"
             },
             "line": {
              "color": "white"
             }
            },
            "header": {
             "fill": {
              "color": "#C8D4E3"
             },
             "line": {
              "color": "white"
             }
            },
            "type": "table"
           }
          ]
         },
         "layout": {
          "annotationdefaults": {
           "arrowcolor": "#2a3f5f",
           "arrowhead": 0,
           "arrowwidth": 1
          },
          "autotypenumbers": "strict",
          "coloraxis": {
           "colorbar": {
            "outlinewidth": 0,
            "ticks": ""
           }
          },
          "colorscale": {
           "diverging": [
            [
             0,
             "#8e0152"
            ],
            [
             0.1,
             "#c51b7d"
            ],
            [
             0.2,
             "#de77ae"
            ],
            [
             0.3,
             "#f1b6da"
            ],
            [
             0.4,
             "#fde0ef"
            ],
            [
             0.5,
             "#f7f7f7"
            ],
            [
             0.6,
             "#e6f5d0"
            ],
            [
             0.7,
             "#b8e186"
            ],
            [
             0.8,
             "#7fbc41"
            ],
            [
             0.9,
             "#4d9221"
            ],
            [
             1,
             "#276419"
            ]
           ],
           "sequential": [
            [
             0,
             "#0d0887"
            ],
            [
             0.1111111111111111,
             "#46039f"
            ],
            [
             0.2222222222222222,
             "#7201a8"
            ],
            [
             0.3333333333333333,
             "#9c179e"
            ],
            [
             0.4444444444444444,
             "#bd3786"
            ],
            [
             0.5555555555555556,
             "#d8576b"
            ],
            [
             0.6666666666666666,
             "#ed7953"
            ],
            [
             0.7777777777777778,
             "#fb9f3a"
            ],
            [
             0.8888888888888888,
             "#fdca26"
            ],
            [
             1,
             "#f0f921"
            ]
           ],
           "sequentialminus": [
            [
             0,
             "#0d0887"
            ],
            [
             0.1111111111111111,
             "#46039f"
            ],
            [
             0.2222222222222222,
             "#7201a8"
            ],
            [
             0.3333333333333333,
             "#9c179e"
            ],
            [
             0.4444444444444444,
             "#bd3786"
            ],
            [
             0.5555555555555556,
             "#d8576b"
            ],
            [
             0.6666666666666666,
             "#ed7953"
            ],
            [
             0.7777777777777778,
             "#fb9f3a"
            ],
            [
             0.8888888888888888,
             "#fdca26"
            ],
            [
             1,
             "#f0f921"
            ]
           ]
          },
          "colorway": [
           "#636efa",
           "#EF553B",
           "#00cc96",
           "#ab63fa",
           "#FFA15A",
           "#19d3f3",
           "#FF6692",
           "#B6E880",
           "#FF97FF",
           "#FECB52"
          ],
          "font": {
           "color": "#2a3f5f"
          },
          "geo": {
           "bgcolor": "white",
           "lakecolor": "white",
           "landcolor": "#E5ECF6",
           "showlakes": true,
           "showland": true,
           "subunitcolor": "white"
          },
          "hoverlabel": {
           "align": "left"
          },
          "hovermode": "closest",
          "mapbox": {
           "style": "light"
          },
          "paper_bgcolor": "white",
          "plot_bgcolor": "#E5ECF6",
          "polar": {
           "angularaxis": {
            "gridcolor": "white",
            "linecolor": "white",
            "ticks": ""
           },
           "bgcolor": "#E5ECF6",
           "radialaxis": {
            "gridcolor": "white",
            "linecolor": "white",
            "ticks": ""
           }
          },
          "scene": {
           "xaxis": {
            "backgroundcolor": "#E5ECF6",
            "gridcolor": "white",
            "gridwidth": 2,
            "linecolor": "white",
            "showbackground": true,
            "ticks": "",
            "zerolinecolor": "white"
           },
           "yaxis": {
            "backgroundcolor": "#E5ECF6",
            "gridcolor": "white",
            "gridwidth": 2,
            "linecolor": "white",
            "showbackground": true,
            "ticks": "",
            "zerolinecolor": "white"
           },
           "zaxis": {
            "backgroundcolor": "#E5ECF6",
            "gridcolor": "white",
            "gridwidth": 2,
            "linecolor": "white",
            "showbackground": true,
            "ticks": "",
            "zerolinecolor": "white"
           }
          },
          "shapedefaults": {
           "line": {
            "color": "#2a3f5f"
           }
          },
          "ternary": {
           "aaxis": {
            "gridcolor": "white",
            "linecolor": "white",
            "ticks": ""
           },
           "baxis": {
            "gridcolor": "white",
            "linecolor": "white",
            "ticks": ""
           },
           "bgcolor": "#E5ECF6",
           "caxis": {
            "gridcolor": "white",
            "linecolor": "white",
            "ticks": ""
           }
          },
          "title": {
           "x": 0.05
          },
          "xaxis": {
           "automargin": true,
           "gridcolor": "white",
           "linecolor": "white",
           "ticks": "",
           "title": {
            "standoff": 15
           },
           "zerolinecolor": "white",
           "zerolinewidth": 2
          },
          "yaxis": {
           "automargin": true,
           "gridcolor": "white",
           "linecolor": "white",
           "ticks": "",
           "title": {
            "standoff": 15
           },
           "zerolinecolor": "white",
           "zerolinewidth": 2
          }
         }
        },
        "title": {
         "text": "Stacked Bar of 'POSITIVE' and 'NEGATIVE' by binned 'inclusion_ratio'"
        },
        "width": 800,
        "xaxis": {
         "title": {
          "text": "inclusion_ratio Bins"
         }
        },
        "yaxis": {
         "title": {
          "text": "Count"
         }
        }
       }
      }
     },
     "metadata": {},
     "output_type": "display_data"
    },
    {
     "data": {
      "application/vnd.plotly.v1+json": {
       "config": {
        "plotlyServerURL": "https://plot.ly"
       },
       "data": [
        {
         "insidetextanchor": "middle",
         "marker": {
          "color": "green"
         },
         "name": "POSITIVE",
         "text": [
          "10.7%",
          "36.4%",
          "59.5%",
          "60.5%",
          "59.7%"
         ],
         "textfont": {
          "color": "white",
          "size": 12
         },
         "textposition": "inside",
         "type": "bar",
         "x": [
          "-0.0–0.2",
          "0.2–0.4",
          "0.4–0.6",
          "0.6–0.8",
          "0.8–1.0"
         ],
         "y": {
          "bdata": "AwwZGig=",
          "dtype": "i1"
         }
        },
        {
         "insidetextanchor": "middle",
         "marker": {
          "color": "red"
         },
         "name": "NEGATIVE",
         "text": [
          "89.3%",
          "63.6%",
          "40.5%",
          "39.5%",
          "40.3%"
         ],
         "textfont": {
          "color": "white",
          "size": 12
         },
         "textposition": "inside",
         "type": "bar",
         "x": [
          "-0.0–0.2",
          "0.2–0.4",
          "0.4–0.6",
          "0.6–0.8",
          "0.8–1.0"
         ],
         "y": {
          "bdata": "GRURERs=",
          "dtype": "i1"
         }
        }
       ],
       "layout": {
        "barmode": "stack",
        "height": 500,
        "template": {
         "data": {
          "bar": [
           {
            "error_x": {
             "color": "#2a3f5f"
            },
            "error_y": {
             "color": "#2a3f5f"
            },
            "marker": {
             "line": {
              "color": "#E5ECF6",
              "width": 0.5
             },
             "pattern": {
              "fillmode": "overlay",
              "size": 10,
              "solidity": 0.2
             }
            },
            "type": "bar"
           }
          ],
          "barpolar": [
           {
            "marker": {
             "line": {
              "color": "#E5ECF6",
              "width": 0.5
             },
             "pattern": {
              "fillmode": "overlay",
              "size": 10,
              "solidity": 0.2
             }
            },
            "type": "barpolar"
           }
          ],
          "carpet": [
           {
            "aaxis": {
             "endlinecolor": "#2a3f5f",
             "gridcolor": "white",
             "linecolor": "white",
             "minorgridcolor": "white",
             "startlinecolor": "#2a3f5f"
            },
            "baxis": {
             "endlinecolor": "#2a3f5f",
             "gridcolor": "white",
             "linecolor": "white",
             "minorgridcolor": "white",
             "startlinecolor": "#2a3f5f"
            },
            "type": "carpet"
           }
          ],
          "choropleth": [
           {
            "colorbar": {
             "outlinewidth": 0,
             "ticks": ""
            },
            "type": "choropleth"
           }
          ],
          "contour": [
           {
            "colorbar": {
             "outlinewidth": 0,
             "ticks": ""
            },
            "colorscale": [
             [
              0,
              "#0d0887"
             ],
             [
              0.1111111111111111,
              "#46039f"
             ],
             [
              0.2222222222222222,
              "#7201a8"
             ],
             [
              0.3333333333333333,
              "#9c179e"
             ],
             [
              0.4444444444444444,
              "#bd3786"
             ],
             [
              0.5555555555555556,
              "#d8576b"
             ],
             [
              0.6666666666666666,
              "#ed7953"
             ],
             [
              0.7777777777777778,
              "#fb9f3a"
             ],
             [
              0.8888888888888888,
              "#fdca26"
             ],
             [
              1,
              "#f0f921"
             ]
            ],
            "type": "contour"
           }
          ],
          "contourcarpet": [
           {
            "colorbar": {
             "outlinewidth": 0,
             "ticks": ""
            },
            "type": "contourcarpet"
           }
          ],
          "heatmap": [
           {
            "colorbar": {
             "outlinewidth": 0,
             "ticks": ""
            },
            "colorscale": [
             [
              0,
              "#0d0887"
             ],
             [
              0.1111111111111111,
              "#46039f"
             ],
             [
              0.2222222222222222,
              "#7201a8"
             ],
             [
              0.3333333333333333,
              "#9c179e"
             ],
             [
              0.4444444444444444,
              "#bd3786"
             ],
             [
              0.5555555555555556,
              "#d8576b"
             ],
             [
              0.6666666666666666,
              "#ed7953"
             ],
             [
              0.7777777777777778,
              "#fb9f3a"
             ],
             [
              0.8888888888888888,
              "#fdca26"
             ],
             [
              1,
              "#f0f921"
             ]
            ],
            "type": "heatmap"
           }
          ],
          "histogram": [
           {
            "marker": {
             "pattern": {
              "fillmode": "overlay",
              "size": 10,
              "solidity": 0.2
             }
            },
            "type": "histogram"
           }
          ],
          "histogram2d": [
           {
            "colorbar": {
             "outlinewidth": 0,
             "ticks": ""
            },
            "colorscale": [
             [
              0,
              "#0d0887"
             ],
             [
              0.1111111111111111,
              "#46039f"
             ],
             [
              0.2222222222222222,
              "#7201a8"
             ],
             [
              0.3333333333333333,
              "#9c179e"
             ],
             [
              0.4444444444444444,
              "#bd3786"
             ],
             [
              0.5555555555555556,
              "#d8576b"
             ],
             [
              0.6666666666666666,
              "#ed7953"
             ],
             [
              0.7777777777777778,
              "#fb9f3a"
             ],
             [
              0.8888888888888888,
              "#fdca26"
             ],
             [
              1,
              "#f0f921"
             ]
            ],
            "type": "histogram2d"
           }
          ],
          "histogram2dcontour": [
           {
            "colorbar": {
             "outlinewidth": 0,
             "ticks": ""
            },
            "colorscale": [
             [
              0,
              "#0d0887"
             ],
             [
              0.1111111111111111,
              "#46039f"
             ],
             [
              0.2222222222222222,
              "#7201a8"
             ],
             [
              0.3333333333333333,
              "#9c179e"
             ],
             [
              0.4444444444444444,
              "#bd3786"
             ],
             [
              0.5555555555555556,
              "#d8576b"
             ],
             [
              0.6666666666666666,
              "#ed7953"
             ],
             [
              0.7777777777777778,
              "#fb9f3a"
             ],
             [
              0.8888888888888888,
              "#fdca26"
             ],
             [
              1,
              "#f0f921"
             ]
            ],
            "type": "histogram2dcontour"
           }
          ],
          "mesh3d": [
           {
            "colorbar": {
             "outlinewidth": 0,
             "ticks": ""
            },
            "type": "mesh3d"
           }
          ],
          "parcoords": [
           {
            "line": {
             "colorbar": {
              "outlinewidth": 0,
              "ticks": ""
             }
            },
            "type": "parcoords"
           }
          ],
          "pie": [
           {
            "automargin": true,
            "type": "pie"
           }
          ],
          "scatter": [
           {
            "fillpattern": {
             "fillmode": "overlay",
             "size": 10,
             "solidity": 0.2
            },
            "type": "scatter"
           }
          ],
          "scatter3d": [
           {
            "line": {
             "colorbar": {
              "outlinewidth": 0,
              "ticks": ""
             }
            },
            "marker": {
             "colorbar": {
              "outlinewidth": 0,
              "ticks": ""
             }
            },
            "type": "scatter3d"
           }
          ],
          "scattercarpet": [
           {
            "marker": {
             "colorbar": {
              "outlinewidth": 0,
              "ticks": ""
             }
            },
            "type": "scattercarpet"
           }
          ],
          "scattergeo": [
           {
            "marker": {
             "colorbar": {
              "outlinewidth": 0,
              "ticks": ""
             }
            },
            "type": "scattergeo"
           }
          ],
          "scattergl": [
           {
            "marker": {
             "colorbar": {
              "outlinewidth": 0,
              "ticks": ""
             }
            },
            "type": "scattergl"
           }
          ],
          "scattermap": [
           {
            "marker": {
             "colorbar": {
              "outlinewidth": 0,
              "ticks": ""
             }
            },
            "type": "scattermap"
           }
          ],
          "scattermapbox": [
           {
            "marker": {
             "colorbar": {
              "outlinewidth": 0,
              "ticks": ""
             }
            },
            "type": "scattermapbox"
           }
          ],
          "scatterpolar": [
           {
            "marker": {
             "colorbar": {
              "outlinewidth": 0,
              "ticks": ""
             }
            },
            "type": "scatterpolar"
           }
          ],
          "scatterpolargl": [
           {
            "marker": {
             "colorbar": {
              "outlinewidth": 0,
              "ticks": ""
             }
            },
            "type": "scatterpolargl"
           }
          ],
          "scatterternary": [
           {
            "marker": {
             "colorbar": {
              "outlinewidth": 0,
              "ticks": ""
             }
            },
            "type": "scatterternary"
           }
          ],
          "surface": [
           {
            "colorbar": {
             "outlinewidth": 0,
             "ticks": ""
            },
            "colorscale": [
             [
              0,
              "#0d0887"
             ],
             [
              0.1111111111111111,
              "#46039f"
             ],
             [
              0.2222222222222222,
              "#7201a8"
             ],
             [
              0.3333333333333333,
              "#9c179e"
             ],
             [
              0.4444444444444444,
              "#bd3786"
             ],
             [
              0.5555555555555556,
              "#d8576b"
             ],
             [
              0.6666666666666666,
              "#ed7953"
             ],
             [
              0.7777777777777778,
              "#fb9f3a"
             ],
             [
              0.8888888888888888,
              "#fdca26"
             ],
             [
              1,
              "#f0f921"
             ]
            ],
            "type": "surface"
           }
          ],
          "table": [
           {
            "cells": {
             "fill": {
              "color": "#EBF0F8"
             },
             "line": {
              "color": "white"
             }
            },
            "header": {
             "fill": {
              "color": "#C8D4E3"
             },
             "line": {
              "color": "white"
             }
            },
            "type": "table"
           }
          ]
         },
         "layout": {
          "annotationdefaults": {
           "arrowcolor": "#2a3f5f",
           "arrowhead": 0,
           "arrowwidth": 1
          },
          "autotypenumbers": "strict",
          "coloraxis": {
           "colorbar": {
            "outlinewidth": 0,
            "ticks": ""
           }
          },
          "colorscale": {
           "diverging": [
            [
             0,
             "#8e0152"
            ],
            [
             0.1,
             "#c51b7d"
            ],
            [
             0.2,
             "#de77ae"
            ],
            [
             0.3,
             "#f1b6da"
            ],
            [
             0.4,
             "#fde0ef"
            ],
            [
             0.5,
             "#f7f7f7"
            ],
            [
             0.6,
             "#e6f5d0"
            ],
            [
             0.7,
             "#b8e186"
            ],
            [
             0.8,
             "#7fbc41"
            ],
            [
             0.9,
             "#4d9221"
            ],
            [
             1,
             "#276419"
            ]
           ],
           "sequential": [
            [
             0,
             "#0d0887"
            ],
            [
             0.1111111111111111,
             "#46039f"
            ],
            [
             0.2222222222222222,
             "#7201a8"
            ],
            [
             0.3333333333333333,
             "#9c179e"
            ],
            [
             0.4444444444444444,
             "#bd3786"
            ],
            [
             0.5555555555555556,
             "#d8576b"
            ],
            [
             0.6666666666666666,
             "#ed7953"
            ],
            [
             0.7777777777777778,
             "#fb9f3a"
            ],
            [
             0.8888888888888888,
             "#fdca26"
            ],
            [
             1,
             "#f0f921"
            ]
           ],
           "sequentialminus": [
            [
             0,
             "#0d0887"
            ],
            [
             0.1111111111111111,
             "#46039f"
            ],
            [
             0.2222222222222222,
             "#7201a8"
            ],
            [
             0.3333333333333333,
             "#9c179e"
            ],
            [
             0.4444444444444444,
             "#bd3786"
            ],
            [
             0.5555555555555556,
             "#d8576b"
            ],
            [
             0.6666666666666666,
             "#ed7953"
            ],
            [
             0.7777777777777778,
             "#fb9f3a"
            ],
            [
             0.8888888888888888,
             "#fdca26"
            ],
            [
             1,
             "#f0f921"
            ]
           ]
          },
          "colorway": [
           "#636efa",
           "#EF553B",
           "#00cc96",
           "#ab63fa",
           "#FFA15A",
           "#19d3f3",
           "#FF6692",
           "#B6E880",
           "#FF97FF",
           "#FECB52"
          ],
          "font": {
           "color": "#2a3f5f"
          },
          "geo": {
           "bgcolor": "white",
           "lakecolor": "white",
           "landcolor": "#E5ECF6",
           "showlakes": true,
           "showland": true,
           "subunitcolor": "white"
          },
          "hoverlabel": {
           "align": "left"
          },
          "hovermode": "closest",
          "mapbox": {
           "style": "light"
          },
          "paper_bgcolor": "white",
          "plot_bgcolor": "#E5ECF6",
          "polar": {
           "angularaxis": {
            "gridcolor": "white",
            "linecolor": "white",
            "ticks": ""
           },
           "bgcolor": "#E5ECF6",
           "radialaxis": {
            "gridcolor": "white",
            "linecolor": "white",
            "ticks": ""
           }
          },
          "scene": {
           "xaxis": {
            "backgroundcolor": "#E5ECF6",
            "gridcolor": "white",
            "gridwidth": 2,
            "linecolor": "white",
            "showbackground": true,
            "ticks": "",
            "zerolinecolor": "white"
           },
           "yaxis": {
            "backgroundcolor": "#E5ECF6",
            "gridcolor": "white",
            "gridwidth": 2,
            "linecolor": "white",
            "showbackground": true,
            "ticks": "",
            "zerolinecolor": "white"
           },
           "zaxis": {
            "backgroundcolor": "#E5ECF6",
            "gridcolor": "white",
            "gridwidth": 2,
            "linecolor": "white",
            "showbackground": true,
            "ticks": "",
            "zerolinecolor": "white"
           }
          },
          "shapedefaults": {
           "line": {
            "color": "#2a3f5f"
           }
          },
          "ternary": {
           "aaxis": {
            "gridcolor": "white",
            "linecolor": "white",
            "ticks": ""
           },
           "baxis": {
            "gridcolor": "white",
            "linecolor": "white",
            "ticks": ""
           },
           "bgcolor": "#E5ECF6",
           "caxis": {
            "gridcolor": "white",
            "linecolor": "white",
            "ticks": ""
           }
          },
          "title": {
           "x": 0.05
          },
          "xaxis": {
           "automargin": true,
           "gridcolor": "white",
           "linecolor": "white",
           "ticks": "",
           "title": {
            "standoff": 15
           },
           "zerolinecolor": "white",
           "zerolinewidth": 2
          },
          "yaxis": {
           "automargin": true,
           "gridcolor": "white",
           "linecolor": "white",
           "ticks": "",
           "title": {
            "standoff": 15
           },
           "zerolinecolor": "white",
           "zerolinewidth": 2
          }
         }
        },
        "title": {
         "text": "Stacked Bar of 'POSITIVE' and 'NEGATIVE' by binned 'inclusion_ratio'"
        },
        "width": 800,
        "xaxis": {
         "title": {
          "text": "inclusion_ratio Bins"
         }
        },
        "yaxis": {
         "title": {
          "text": "Count"
         }
        }
       }
      }
     },
     "metadata": {},
     "output_type": "display_data"
    }
   ],
   "source": [
    "# TRUE POSITIVE / FALSE POSITIVE\n",
    "def plot_confusion_matrix_bins4(df_true, df_false, df_positive, df_negative, classstr='class', N=5):\n",
    "    import pandas as pd\n",
    "    import numpy as np\n",
    "    import plotly.graph_objects as go\n",
    "\n",
    "    # Make clean copies\n",
    "    df_true = df_true.copy()\n",
    "    df_false = df_false.copy()\n",
    "    df_positive = df_positive.copy()\n",
    "    df_negative = df_negative.copy()\n",
    "\n",
    "    # Define bin edges\n",
    "    bin_edges = np.linspace(0, 1, N + 1)\n",
    "\n",
    "    # Intersections to compute TP, FP, FN, TN correctly\n",
    "    df_tp = pd.merge(df_true, df_positive, how='inner')\n",
    "    df_fn = pd.merge(df_false, df_positive, how='inner')\n",
    "    df_fp = pd.merge(df_false, df_negative, how='inner')\n",
    "    df_tn = pd.merge(df_true, df_negative, how='inner')\n",
    "    print(f\"final number: {len(df_tp) + len(df_fn) + len(df_fp) + len(df_tn)}\") \n",
    "    print(f\"false negative {len(df_fn)}\")\n",
    "    # Assign bins\n",
    "    for df in [df_tp, df_fp, df_fn, df_tn]:\n",
    "        df['bin'] = pd.cut(df[classstr], bins=bin_edges, include_lowest=True)\n",
    "\n",
    "    # Count values per bin\n",
    "    tp_counts = df_tp['bin'].value_counts().sort_index()\n",
    "    fp_counts = df_fp['bin'].value_counts().sort_index()\n",
    "    fn_counts = df_fn['bin'].value_counts().sort_index()\n",
    "    tn_counts = df_tn['bin'].value_counts().sort_index()\n",
    "\n",
    "    # Align bins\n",
    "    all_bins = sorted(set(tp_counts.index).union(fn_counts.index, fp_counts.index, tn_counts.index))\n",
    "    bin_labels = [f\"{round(interval.left, 2)}–{round(interval.right, 2)}\" for interval in all_bins]\n",
    "\n",
    "    # Create counts dataframe\n",
    "    counts_df = pd.DataFrame(index=bin_labels)\n",
    "    counts_df['TP'] = [tp_counts.get(b, 0) for b in all_bins]\n",
    "    counts_df['FN'] = [fn_counts.get(b, 0) for b in all_bins]\n",
    "    counts_df['FP'] = [fp_counts.get(b, 0) for b in all_bins]\n",
    "    counts_df['TN'] = [tn_counts.get(b, 0) for b in all_bins]\n",
    "\n",
    "    # Compute percentages\n",
    "    counts_df['Total'] = counts_df.sum(axis=1)\n",
    "    for col in ['TP', 'FN', 'FP', 'TN']:\n",
    "        counts_df[f'{col}_pct'] = (\n",
    "            (counts_df[col] / counts_df['Total'] * 100).round(1).astype(str) + '%'\n",
    "        )\n",
    "\n",
    "    # Plot\n",
    "    fig = go.Figure()\n",
    "    for label, color in zip(['TP', 'TN', 'FP', 'FN'], ['green', 'gray', 'red', 'black']):\n",
    "        fig.add_trace(go.Bar(\n",
    "            x=counts_df.index,\n",
    "            y=counts_df[label],\n",
    "            name=label,\n",
    "            marker_color=color,\n",
    "            text=counts_df[f'{label}_pct'],\n",
    "            textposition='inside',\n",
    "            insidetextanchor='middle',\n",
    "            textfont=dict(color='white', size=12),\n",
    "        ))\n",
    "\n",
    "    fig.update_layout(\n",
    "        title=f\"Stacked Confusion Counts by Binned '{classstr}'\",\n",
    "        xaxis_title=f\"{classstr} Bins\",\n",
    "        yaxis_title=\"Count\",\n",
    "        barmode='stack',\n",
    "        width=950,\n",
    "        height=500\n",
    "    )\n",
    "\n",
    "    fig.show()   \n",
    "\n",
    "# score for all data\n",
    "def plot_confusion_matrix_bins2(df_true, df_false, df_positive, df_negative, classstr='class', N=5):\n",
    "    import pandas as pd\n",
    "    import numpy as np\n",
    "    import plotly.graph_objects as go\n",
    "\n",
    "    # Make clean copies\n",
    "    df_true = df_true.copy()\n",
    "    df_false = df_false.copy()\n",
    "    df_positive = df_positive.copy()\n",
    "    df_negative = df_negative.copy()\n",
    "\n",
    "    # Define bin edges\n",
    "    bin_edges = np.linspace(0, 1, N + 1)\n",
    "\n",
    "    # Intersections to compute TP, FP, FN, TN correctly\n",
    "    df_tp = pd.merge(df_true, df_positive, how='inner')\n",
    "    df_fn = pd.merge(df_false, df_positive, how='inner')\n",
    "    df_fp = pd.merge(df_false, df_negative, how='inner')\n",
    "    df_tn = pd.merge(df_true, df_negative, how='inner')\n",
    "\n",
    "    # Print final counts\n",
    "    total = len(df_tp) + len(df_fn) + len(df_fp) + len(df_tn)\n",
    "    print(f\"Final total: {total}\")\n",
    "    print(f\"TP: {len(df_tp)} | TN: {len(df_tn)} | FP: {len(df_fp)} | FN: {len(df_fn)}\")\n",
    "\n",
    "    # Assign bins\n",
    "    for df in [df_tp, df_fp, df_fn, df_tn]:\n",
    "        df['bin'] = pd.cut(df[classstr], bins=bin_edges, include_lowest=True)\n",
    "\n",
    "    # Count values per bin\n",
    "    tp_counts = df_tp['bin'].value_counts().sort_index()\n",
    "    fp_counts = df_fp['bin'].value_counts().sort_index()\n",
    "    fn_counts = df_fn['bin'].value_counts().sort_index()\n",
    "    tn_counts = df_tn['bin'].value_counts().sort_index()\n",
    "\n",
    "    # Align bins\n",
    "    all_bins = sorted(set(tp_counts.index).union(fn_counts.index, fp_counts.index, tn_counts.index))\n",
    "    bin_labels = [f\"{round(interval.left, 2)}–{round(interval.right, 2)}\" for interval in all_bins]\n",
    "\n",
    "    # Create counts dataframe\n",
    "    counts_df = pd.DataFrame(index=bin_labels)\n",
    "    counts_df['TP'] = [tp_counts.get(b, 0) for b in all_bins]\n",
    "    counts_df['FN'] = [fn_counts.get(b, 0) for b in all_bins]\n",
    "    counts_df['FP'] = [fp_counts.get(b, 0) for b in all_bins]\n",
    "    counts_df['TN'] = [tn_counts.get(b, 0) for b in all_bins]\n",
    "\n",
    "    # Compute percentages\n",
    "    counts_df['Total'] = counts_df.sum(axis=1)\n",
    "    for col in ['TP', 'FN', 'FP', 'TN']:\n",
    "        counts_df[f'{col}_pct'] = (\n",
    "            (counts_df[col] / counts_df['Total'] * 100).round(1).astype(str) + '%'\n",
    "        )\n",
    "\n",
    "    # Plot\n",
    "    fig = go.Figure()\n",
    "    for label, color in zip(['TP', 'TN', 'FP', 'FN'], ['green', 'gray', 'red', 'black']):\n",
    "        fig.add_trace(go.Bar(\n",
    "            x=counts_df.index,\n",
    "            y=counts_df[label],\n",
    "            name=label,\n",
    "            marker_color=color,\n",
    "            text=counts_df[f'{label}_pct'],\n",
    "            textposition='inside',\n",
    "            insidetextanchor='middle',\n",
    "            textfont=dict(color='white', size=12),\n",
    "        ))\n",
    "\n",
    "    fig.update_layout(\n",
    "        title=f\"Stacked Confusion Counts by Binned '{classstr}'\",\n",
    "        xaxis_title=f\"{classstr} Bins\",\n",
    "        yaxis_title=\"Count\",\n",
    "        barmode='stack',\n",
    "        width=950,\n",
    "        height=500\n",
    "    )\n",
    "\n",
    "    fig.show()\n",
    "\n",
    "    # === Compute Global Metrics ===\n",
    "    TP, TN, FP, FN = len(df_tp), len(df_tn), len(df_fp), len(df_fn)\n",
    "    accuracy = (TP + TN) / (TP + TN + FP + FN) if (TP + TN + FP + FN) > 0 else 0\n",
    "    precision = TP / (TP + FP) if (TP + FP) > 0 else 0\n",
    "    recall = TP / (TP + FN) if (TP + FN) > 0 else 0\n",
    "    f1 = 2 * (precision * recall) / (precision + recall) if (precision + recall) > 0 else 0\n",
    "\n",
    "    print(\"\\n=== Global Metrics ===\")\n",
    "    print(f\"Accuracy:  {accuracy:.3f}\")\n",
    "    print(f\"Precision: {precision:.3f}\")\n",
    "    print(f\"Recall:    {recall:.3f}\")\n",
    "    print(f\"F1 Score:  {f1:.3f}\")\n",
    "\n",
    "\n",
    "\n",
    "# scores per bin\n",
    "def plot_confusion_matrix_bins3(df_true, df_false, df_positive, df_negative, classstr='class', N=5):\n",
    "    import pandas as pd\n",
    "    import numpy as np\n",
    "    import plotly.graph_objects as go\n",
    "\n",
    "    # Make clean copies\n",
    "    df_true = df_true.copy()\n",
    "    df_false = df_false.copy()\n",
    "    df_positive = df_positive.copy()\n",
    "    df_negative = df_negative.copy()\n",
    "\n",
    "    # Define bin edges\n",
    "    bin_edges = np.linspace(0, 1, N + 1)\n",
    "\n",
    "    # Intersections to compute TP, FP, FN, TN correctly\n",
    "    df_tp = pd.merge(df_true, df_positive, how='inner')\n",
    "    df_fn = pd.merge(df_false, df_positive, how='inner')\n",
    "    df_fp = pd.merge(df_false, df_negative, how='inner')\n",
    "    df_tn = pd.merge(df_true, df_negative, how='inner')\n",
    "\n",
    "    # Print final counts\n",
    "    total = len(df_tp) + len(df_fn) + len(df_fp) + len(df_tn)\n",
    "    print(f\"Final total: {total}\")\n",
    "    print(f\"TP: {len(df_tp)} | TN: {len(df_tn)} | FP: {len(df_fp)} | FN: {len(df_fn)}\")\n",
    "\n",
    "    # Assign bins\n",
    "    for df in [df_tp, df_fp, df_fn, df_tn]:\n",
    "        df['bin'] = pd.cut(df[classstr], bins=bin_edges, include_lowest=True)\n",
    "\n",
    "    # Count values per bin\n",
    "    tp_counts = df_tp['bin'].value_counts().sort_index()\n",
    "    fp_counts = df_fp['bin'].value_counts().sort_index()\n",
    "    fn_counts = df_fn['bin'].value_counts().sort_index()\n",
    "    tn_counts = df_tn['bin'].value_counts().sort_index()\n",
    "\n",
    "    # Align bins\n",
    "    all_bins = sorted(set(tp_counts.index).union(fn_counts.index, fp_counts.index, tn_counts.index))\n",
    "    bin_labels = [f\"{round(interval.left, 2)}–{round(interval.right, 2)}\" for interval in all_bins]\n",
    "\n",
    "    # Create counts dataframe\n",
    "    counts_df = pd.DataFrame(index=bin_labels)\n",
    "    counts_df['TP'] = [tp_counts.get(b, 0) for b in all_bins]\n",
    "    counts_df['FN'] = [fn_counts.get(b, 0) for b in all_bins]\n",
    "    counts_df['FP'] = [fp_counts.get(b, 0) for b in all_bins]\n",
    "    counts_df['TN'] = [tn_counts.get(b, 0) for b in all_bins]\n",
    "\n",
    "    # Compute percentages\n",
    "    counts_df['Total'] = counts_df[['TP', 'FN', 'FP', 'TN']].sum(axis=1)\n",
    "    for col in ['TP', 'FN', 'FP', 'TN']:\n",
    "        counts_df[f'{col}_pct'] = (\n",
    "            (counts_df[col] / counts_df['Total'] * 100).round(1).astype(str) + '%'\n",
    "        )\n",
    "\n",
    "    # Compute per-bin metrics\n",
    "    def safe_div(n, d):\n",
    "        return n / d if d != 0 else 0\n",
    "\n",
    "    counts_df['accuracy'] = counts_df.apply(lambda row: safe_div(row['TP'] + row['TN'], row['Total']), axis=1)\n",
    "    counts_df['precision'] = counts_df.apply(lambda row: safe_div(row['TP'], row['TP'] + row['FP']), axis=1)\n",
    "    counts_df['recall'] = counts_df.apply(lambda row: safe_div(row['TP'], row['TP'] + row['FN']), axis=1)\n",
    "    counts_df['f1'] = counts_df.apply(lambda row: safe_div(2 * row['precision'] * row['recall'],\n",
    "                                                           row['precision'] + row['recall']), axis=1)\n",
    "\n",
    "    # Plot\n",
    "    fig = go.Figure()\n",
    "    for label, color in zip(['TP', 'TN', 'FP', 'FN'], ['green', 'gray', 'red', 'black']):\n",
    "        fig.add_trace(go.Bar(\n",
    "            x=counts_df.index,\n",
    "            y=counts_df[label],\n",
    "            name=label,\n",
    "            marker_color=color,\n",
    "            text=counts_df[f'{label}_pct'],\n",
    "            textposition='inside',\n",
    "            insidetextanchor='middle',\n",
    "            textfont=dict(color='white', size=12),\n",
    "        ))\n",
    "\n",
    "    fig.update_layout(\n",
    "        title=f\"Stacked Confusion Counts by Binned '{classstr}'\",\n",
    "        xaxis_title=f\"{classstr} Bins\",\n",
    "        yaxis_title=\"Count\",\n",
    "        barmode='stack',\n",
    "        width=950,\n",
    "        height=500\n",
    "    )\n",
    "    fig.show()\n",
    "\n",
    "    # Print per-bin metrics\n",
    "    print(\"\\n=== Per-bin Metrics ===\")\n",
    "    for idx, row in counts_df.iterrows():\n",
    "        print(f\"\\nBin {idx}:\")\n",
    "        print(f\"  Accuracy:  {row['accuracy']:.3f}\")\n",
    "        print(f\"  Precision: {row['precision']:.3f}\")\n",
    "        print(f\"  Recall:    {row['recall']:.3f}\")\n",
    "        print(f\"  F1 Score:  {row['f1']:.3f}\")\n",
    "\n",
    "\n",
    "\n",
    "\n",
    "\n",
    "def plot_binary_stack_by_bin(df_a, df_b, classstr='class', N=5, label_a='A', label_b='B'):\n",
    "    # Define bin edges\n",
    "    bin_edges = np.linspace(0, 1, N + 1)\n",
    "\n",
    "    # Make copies to avoid warnings\n",
    "    df_a = df_a.copy()\n",
    "    df_b = df_b.copy()\n",
    "\n",
    "    # Assign bins\n",
    "    df_a.loc[:, 'bin'] = pd.cut(df_a[classstr], bins=bin_edges, include_lowest=True)\n",
    "    df_b.loc[:, 'bin'] = pd.cut(df_b[classstr], bins=bin_edges, include_lowest=True)\n",
    "\n",
    "    # Count values in each bin\n",
    "    a_counts = df_a['bin'].value_counts().sort_index()\n",
    "    b_counts = df_b['bin'].value_counts().sort_index()\n",
    "\n",
    "    # Ensure all bins present\n",
    "    all_bins = sorted(set(a_counts.index).union(b_counts.index))\n",
    "    bin_labels = [f\"{round(interval.left, 2)}–{round(interval.right, 2)}\" for interval in all_bins]\n",
    "\n",
    "    # Create counts DataFrame\n",
    "    counts_df = pd.DataFrame(index=bin_labels)\n",
    "    counts_df[label_a] = [a_counts.get(b, 0) for b in all_bins]\n",
    "    counts_df[label_b] = [b_counts.get(b, 0) for b in all_bins]\n",
    "\n",
    "    # Calculate total and percentage\n",
    "    counts_df['Total'] = counts_df[label_a] + counts_df[label_b]\n",
    "    for label in [label_a, label_b]:\n",
    "        counts_df[f'{label}_pct'] = (counts_df[label] / counts_df['Total'] * 100).round(1).astype(str) + '%'\n",
    "\n",
    "    # Plot\n",
    "    fig = go.Figure()\n",
    "    for label, color in zip([label_a, label_b], ['green', 'red']):\n",
    "        fig.add_trace(go.Bar(\n",
    "            x=counts_df.index,\n",
    "            y=counts_df[label],\n",
    "            name=label,\n",
    "            marker_color=color,\n",
    "            text=counts_df[f'{label}_pct'],\n",
    "            textposition='inside',\n",
    "            insidetextanchor='middle',\n",
    "            textfont=dict(color='white', size=12),\n",
    "        ))\n",
    "\n",
    "    fig.update_layout(\n",
    "        title=f\"Stacked Bar of '{label_a}' and '{label_b}' by binned '{classstr}'\",\n",
    "        xaxis_title=f\"{classstr} Bins\",\n",
    "        yaxis_title=\"Count\",\n",
    "        barmode='stack',\n",
    "        width=800,\n",
    "        height=500\n",
    "    )\n",
    "\n",
    "    fig.show() \n",
    "# Plot True Positive and False Positive in Bar Graph for all strict baselines\n",
    "#Select한 ratio가 높은게 좋은게 아니라, 정답중에 얼마나 골랐느냐와 고른 것중에 정답이 얼마나 있었는가가 더 중요하다.\n",
    "\n",
    "#=======================\n",
    "# POSITIVES & NEGATIVES\n",
    "#=======================\n",
    "#strict rules\n",
    "rag_positive = efil3_both_rag #POSITIVE\n",
    "rag_negative = df_eval_rag.drop(efil3_both_rag.index) #NEGETIVE\n",
    "rag_true = efil3_human_rag #TRUE\n",
    "rag_false = df_eval_rag.drop(efil3_human_rag.index) #FALSE\n",
    "print(rag_positive.head(20))\n",
    "print(rag_negative.head(20))\n",
    "\n",
    "\n",
    "norag_positive = efil3_both_norag\n",
    "norag_negative = df_eval_norag.drop(efil3_both_norag.index)\n",
    "norag_true = efil3_human_norag\n",
    "norag_false = df_eval_norag.drop(efil3_human_norag.index)\n",
    "\n",
    "#------lenient rules------ for (all entity, all sim, only sequence)\n",
    "# rag_positive = efil3_both_rag2 #TP\n",
    "# rag_negative = df_eval_rag.drop(efil3_both_rag2.index) #TN\n",
    "# rag_true = efil3_human_rag2 #\n",
    "# rag_false = df_eval_rag.drop(efil3_human_rag2.index)\n",
    "\n",
    "# norag_positive = efil3_both_norag2\n",
    "# norag_negative = df_eval_norag.drop(efil3_both_norag2.index)\n",
    "# norag_true = efil3_human_norag2\n",
    "# norag_false = df_eval_norag.drop(efil3_human_norag2.index)\n",
    "#--------------------------\n",
    "\n",
    "raggoal_positive = efil3_raggoal\n",
    "raggoal_negative = df_eval_raggoal.drop(efil3_raggoal.index)\n",
    "raggoal_true = efil3_human_raggoal\n",
    "raggoal_false = df_eval_raggoal.drop(efil3_human_raggoal.index)\n",
    "\n",
    "noraggoal_positive = efil3_noraggoal\n",
    "noraggoal_negative = df_eval_noraggoal.drop(efil3_noraggoal.index)\n",
    "noraggoal_true = efil3_human_noraggoal\n",
    "noraggoal_false = df_eval_noraggoal.drop(efil3_human_noraggoal.index)\n",
    "\n",
    "\n",
    "#=======================\n",
    "# Drawing each values\n",
    "#=======================\n",
    "#N=1\n",
    "print(rag_true.shape[0])\n",
    "print(rag_false.shape[0])\n",
    "print(rag_positive.shape[0])\n",
    "print(rag_negative.shape[0])\n",
    "\n",
    "\n",
    "plot_confusion_matrix_bins3(rag_true, rag_false,rag_positive, rag_negative, classstr='inclusion_ratio', N=1)\n",
    " \n",
    "plot_confusion_matrix_bins3(norag_true, norag_false, norag_positive, norag_negative, classstr='inclusion_ratio', N=1)\n",
    "\n",
    "plot_confusion_matrix_bins3(raggoal_true, raggoal_false, raggoal_positive, raggoal_negative, classstr='inclusion_ratio', N=1)\n",
    "\n",
    "plot_confusion_matrix_bins3(noraggoal_true, noraggoal_false, noraggoal_positive, noraggoal_negative, classstr='inclusion_ratio', N=1)\n",
    "\n",
    "\n",
    "plot_confusion_matrix_bins3(rag_true, rag_false,rag_positive, rag_negative, classstr='inclusion_ratio', N=3)\n",
    " \n",
    "plot_confusion_matrix_bins3(norag_true, norag_false, norag_positive, norag_negative, classstr='inclusion_ratio', N=3)\n",
    "\n",
    "plot_confusion_matrix_bins3(raggoal_true, raggoal_false, raggoal_positive, raggoal_negative, classstr='inclusion_ratio', N=3)\n",
    "\n",
    "plot_confusion_matrix_bins3(noraggoal_true, noraggoal_false, noraggoal_positive, noraggoal_negative, classstr='inclusion_ratio', N=3)\n",
    "\n",
    "\n",
    "\n",
    "# def plot_binary_stack_by_bin(df_a, df_b, classstr='class', N=5, label_a='A', label_b='B'):\n",
    "plot_binary_stack_by_bin(rag_true, rag_false, classstr='inclusion_ratio', N=5, label_a='TRUE', label_b='FAlSE')\n",
    "\n",
    "plot_binary_stack_by_bin(rag_positive, rag_negative, classstr='inclusion_ratio', N=5, label_a='POSITIVE', label_b='NEGATIVE')\n",
    "\n",
    "plot_binary_stack_by_bin(norag_positive, norag_negative, classstr='inclusion_ratio', N=5, label_a='POSITIVE', label_b='NEGATIVE')\n",
    "\n",
    "plot_binary_stack_by_bin(raggoal_positive, raggoal_negative, classstr='inclusion_ratio', N=5, label_a='POSITIVE', label_b='NEGATIVE')\n",
    "#N=3\n",
    "# plot_confusion_matrix_bins3(rag_true, rag_false,rag_positive, rag_negative, classstr='inclusion_ratio', N=3)\n",
    "\n",
    "# plot_confusion_matrix_bins3(norag_true, norag_false, norag_positive, norag_negative, classstr='inclusion_ratio', N=3)\n",
    "\n",
    "# plot_confusion_matrix_bins3(raggoal_true, raggoal_false, raggoal_positive, raggoal_negative, classstr='inclusion_ratio', N=3)\n",
    "\n",
    "# plot_confusion_matrix_bins3(noraggoal_true, noraggoal_false, noraggoal_positive, noraggoal_negative, classstr='inclusion_ratio', N=3)"
   ]
  },
  {
   "cell_type": "code",
   "execution_count": null,
   "id": "689422e2",
   "metadata": {},
   "outputs": [
    {
     "name": "stdout",
     "output_type": "stream",
     "text": [
      "/root/project/f4_evaluate/result_v6/human/human-norag.json\n",
      "213\n",
      "213\n",
      "213\n",
      "213\n",
      "213\n",
      "213\n",
      "212\n",
      "212\n",
      "     idx           baseline                                source_uid  \\\n",
      "183  183  /output-rag-0602/      e72082e8-f9e6-42ac-ac45-de30f9adee9d   \n",
      "184  184  /output-rag-0602/      e72082e8-f9e6-42ac-ac45-de30f9adee9d   \n",
      "185  185  /output-rag-0602/      e72082e8-f9e6-42ac-ac45-de30f9adee9d   \n",
      "186  186  /output-rag-0602/      ec3556de-be79-4ad4-aa0f-eaca48abb5d5   \n",
      "187  187  /output-rag-0602/      ec3556de-be79-4ad4-aa0f-eaca48abb5d5   \n",
      "188  188  /output-rag-0602/      ec3556de-be79-4ad4-aa0f-eaca48abb5d5   \n",
      "189  189  /output-rag-0602/      ed60dcdb-b273-44e7-b5dc-f9527d7c403f   \n",
      "190  190  /output-rag-0602/      ed60dcdb-b273-44e7-b5dc-f9527d7c403f   \n",
      "191  191  /output-rag-0602/      ed60dcdb-b273-44e7-b5dc-f9527d7c403f   \n",
      "192  192  /output-rag-0602/      edc1869c-8a97-44fd-ab47-63fda4a54df9   \n",
      "193  193  /output-rag-0602/      edc1869c-8a97-44fd-ab47-63fda4a54df9   \n",
      "194  194  /output-rag-0602/      edc1869c-8a97-44fd-ab47-63fda4a54df9   \n",
      "195  195  /output-rag-0602/      f0204f83-ea03-4c33-b7e7-13d2188ab3e5   \n",
      "196  196  /output-rag-0602/      f0204f83-ea03-4c33-b7e7-13d2188ab3e5   \n",
      "197  197  /output-rag-0602/      f0204f83-ea03-4c33-b7e7-13d2188ab3e5   \n",
      "198  198  /output-rag-0602/      f5ac654b-8f39-427b-856f-4a9a2d4a3020   \n",
      "199  199  /output-rag-0602/      f5ac654b-8f39-427b-856f-4a9a2d4a3020   \n",
      "200  200  /output-rag-0602/      f5ac654b-8f39-427b-856f-4a9a2d4a3020   \n",
      "201  201  /output-rag-0602/      fea524d4-a1b6-466c-ac48-8777c3fd173d   \n",
      "202  202  /output-rag-0602/      fea524d4-a1b6-466c-ac48-8777c3fd173d   \n",
      "203  203  /output-rag-0602/      fea524d4-a1b6-466c-ac48-8777c3fd173d   \n",
      "204  204  /output-rag-0602/  grp-690f58f1-f18c-4415-bab0-787c2f83d051   \n",
      "205  205  /output-rag-0602/  grp-690f58f1-f18c-4415-bab0-787c2f83d051   \n",
      "206  206  /output-rag-0602/  grp-690f58f1-f18c-4415-bab0-787c2f83d051   \n",
      "207  207  /output-rag-0602/  grp-b59f7f5d-2991-49a6-8e88-0e2f2db92585   \n",
      "208  208  /output-rag-0602/  grp-b59f7f5d-2991-49a6-8e88-0e2f2db92585   \n",
      "209  209  /output-rag-0602/  grp-b59f7f5d-2991-49a6-8e88-0e2f2db92585   \n",
      "210  210  /output-rag-0602/  grp-ffd863cb-f06b-404e-a013-54acb61f1ed9   \n",
      "211  211  /output-rag-0602/  grp-ffd863cb-f06b-404e-a013-54acb61f1ed9   \n",
      "212  212  /output-rag-0602/  grp-ffd863cb-f06b-404e-a013-54acb61f1ed9   \n",
      "\n",
      "                               target_uid  \\\n",
      "183  01ce4fd6-197a-4792-8778-775b03780369   \n",
      "184  01ce4fd6-197a-4792-8778-775b03780369   \n",
      "185  01ce4fd6-197a-4792-8778-775b03780369   \n",
      "186  026dac2d-2ab3-4f9c-9e1d-6198db4fb080   \n",
      "187  026dac2d-2ab3-4f9c-9e1d-6198db4fb080   \n",
      "188  026dac2d-2ab3-4f9c-9e1d-6198db4fb080   \n",
      "189  02a06bf1-51b8-4902-b088-573e29fcd7ec   \n",
      "190  02a06bf1-51b8-4902-b088-573e29fcd7ec   \n",
      "191  02a06bf1-51b8-4902-b088-573e29fcd7ec   \n",
      "192  14bcb17c-f70a-41d5-b10d-294388084dfc   \n",
      "193  14bcb17c-f70a-41d5-b10d-294388084dfc   \n",
      "194  14bcb17c-f70a-41d5-b10d-294388084dfc   \n",
      "195  1a894d3c-b3ef-448a-a3de-2b38677cef36   \n",
      "196  1a894d3c-b3ef-448a-a3de-2b38677cef36   \n",
      "197  1a894d3c-b3ef-448a-a3de-2b38677cef36   \n",
      "198  1dc85adb-fbdd-4275-b9cf-42976acb4d14   \n",
      "199  1dc85adb-fbdd-4275-b9cf-42976acb4d14   \n",
      "200  1dc85adb-fbdd-4275-b9cf-42976acb4d14   \n",
      "201  24ba7993-7fc8-4447-afd5-7ff6d548b11a   \n",
      "202  24ba7993-7fc8-4447-afd5-7ff6d548b11a   \n",
      "203  24ba7993-7fc8-4447-afd5-7ff6d548b11a   \n",
      "204  28e0affc-cacb-4db8-ab32-dfc16931b86a   \n",
      "205  28e0affc-cacb-4db8-ab32-dfc16931b86a   \n",
      "206  28e0affc-cacb-4db8-ab32-dfc16931b86a   \n",
      "207  2978ddbc-cdc9-4bfa-9a7c-4bf056904010   \n",
      "208  2978ddbc-cdc9-4bfa-9a7c-4bf056904010   \n",
      "209  2978ddbc-cdc9-4bfa-9a7c-4bf056904010   \n",
      "210  29e00040-6e0f-4f0e-816d-1ac97c1e5485   \n",
      "211  29e00040-6e0f-4f0e-816d-1ac97c1e5485   \n",
      "212  29e00040-6e0f-4f0e-816d-1ac97c1e5485   \n",
      "\n",
      "                                       target_taxonomy  \\\n",
      "183  {\"domain\": \"impossible\", \"activity\": \"impossib...   \n",
      "184  {\"core\": \"impossible\", \"object\": \"impossible\",...   \n",
      "185  {\"domain\": \"food\", \"activity\": \"impossible\", \"...   \n",
      "186  {\"domain\": \"cooking\", \"type\": \"stir-fry\", \"obj...   \n",
      "187  {\"main ingredient\": \"vegetable\", \"preparation\"...   \n",
      "188  {\"domain\": \"cooking\", \"type\": \"preparation\", \"...   \n",
      "189  {\"activity\": \"preheat\", \"object\": \"stove\", \"ag...   \n",
      "190  {\"domain\": \"cooking\", \"type\": \"preparation\", \"...   \n",
      "191  {\"activity\": \"preheat stove\", \"object\": \"stove...   \n",
      "192  {\"ingredient\": \"onion\", \"preparation\": \"diced\"...   \n",
      "193  {\"domain\": \"cooking\", \"object\": \"onion\", \"tool...   \n",
      "194  {\"ingredient\": \"onion\", \"cut\": \"diced\", \"vesse...   \n",
      "195  {\"main ingredient\": \"dough\", \"preparation\": \"e...   \n",
      "196  {\"domain\": \"food\", \"subdomain\": \"preparation\",...   \n",
      "197  {\"domain\": \"food\", \"type\": \"preparation\", \"obj...   \n",
      "198  {\"object\": \"cutting board\", \"location\": \"impos...   \n",
      "199  {\"activity\": \"clean\", \"object\": \"cutting_board...   \n",
      "200  {\"object\": \"cutting board\", \"location\": \"impos...   \n",
      "201  {\"domain\": \"food\", \"category\": \"pastry\", \"type...   \n",
      "202  {\"domain\": \"cooking\", \"subdomain\": \"baking\", \"...   \n",
      "203  {\"domain\": \"cooking\", \"category\": \"pastry\", \"s...   \n",
      "204  {\"domain\": \"cooking\", \"type\": \"stirfry\", \"main...   \n",
      "205  {\"main\": \"chicken\", \"vegetable\": \"cabbage\", \"s...   \n",
      "206  {\"main\": \"chicken\", \"vegetable\": \"cabbage\", \"s...   \n",
      "207  {\"main\": \"broccoli\", \"protein\": \"meat\", \"veget...   \n",
      "208  {\"main\": \"pasta\", \"protein\": \"meat\", \"vegetabl...   \n",
      "209  {\"main\": \"pasta\", \"protein\": \"egg\", \"vegetable...   \n",
      "210  {\"main\": \"eggplant\", \"method\": \"pan-fried\", \"s...   \n",
      "211  {\"main\": \"eggplant\", \"method\": \"stirfried\", \"s...   \n",
      "212  {\"main\": \"eggplant\", \"method\": \"pan-fried\", \"s...   \n",
      "\n",
      "                                       target_sequence        core_activity  \\\n",
      "183                                     [\"impossible\"]         spread sauce   \n",
      "184                                     [\"impossible\"]         spread sauce   \n",
      "185                                                 []         spread sauce   \n",
      "186  [\"Gather steak from table\", \"Gather oil\", \"Gat...   stir-fry vegetable   \n",
      "187  [\"Pick up vegetable (16)\", \"Pick up vegetable ...    stirfry vegetable   \n",
      "188  [\"Gather vegetables, oil, seasoning (salt, pep...       cook vegetable   \n",
      "189     [\"Approach stove\", \"Turn on stove to preheat\"]        preheat grill   \n",
      "190                                  [\"turn on stove\"]        preheat grill   \n",
      "191                 [\"Move to stove\", \"Turn on stove\"]        preheat grill   \n",
      "192  [\"Open refrigerator\", \"Take onion from refrige...           cook onion   \n",
      "193  [\"Pick up onion\", \"Peel onion\", \"Discard onion...           cook onion   \n",
      "194  [\"Pick up onion from table\", \"Peel onion\", \"Pl...           cook onion   \n",
      "195  [\"pick up dough\", \"place dough on table\", \"pic...         slice turkey   \n",
      "196  [\"slice dough with razor\", \"serve dough in tray\"]         slice turkey   \n",
      "197  [\"grab razor\", \"grab dough\", \"slice dough with...         slice turkey   \n",
      "198                                                 []  clean cutting board   \n",
      "199      [\"grab cutting board\", \"clean cutting board\"]  clean cutting_board   \n",
      "200  [\"pick up cutting board\", \"place cutting board...  clean cutting board   \n",
      "201  [\"open refrigerator\", \"take goyna bori out of ...          make pastry   \n",
      "202  [\"pick up piping bag\", \"pick up goyna bori fro...          make pastry   \n",
      "203  [\"pick up piping bag\", \"pick up goyna bori\", \"...          make pastry   \n",
      "204  [\"unpack cabbage\", \"dice cabbage with knife\", ...        cook stir-fry   \n",
      "205  [\"put peas into bowl\", \"dice cabbage\", \"rinse ...        cook stir-fry   \n",
      "206  [\"put chicken pieces into bowl\", \"add peas int...        cook stir-fry   \n",
      "207  [\"take broccoli from refrigerator\", \"place bro...        prepare salad   \n",
      "208  [\"take tomato from refrigerator\", \"slice tomat...       assemble salad   \n",
      "209  [\"get cucumber\", \"slice cucumber on chopping b...        prepare salad   \n",
      "210  [\"open refrigerator\", \"take eggplant from refr...        cook eggplant   \n",
      "211  [\"take eggplant from refrigerator\", \"dice eggp...        cook eggplant   \n",
      "212  [\"get eggplant from refrigerator\", \"place eggp...        cook eggplant   \n",
      "\n",
      "    entity_check_tax entity_check_seq  sim_tax1  ...  sim_seq1  sim_seq2  \\\n",
      "183             True            False  0.000000  ...  0.109843  0.158815   \n",
      "184             True            False  0.100000  ...  0.109843  0.158815   \n",
      "185            False             True  0.558228  ...  0.000000  0.000000   \n",
      "186            False            False  0.900000  ...  0.421507  0.486145   \n",
      "187             True             True  1.000000  ...  0.477762  0.478146   \n",
      "188             True             True  1.000000  ...  0.572873  0.574000   \n",
      "189             True             True  0.715242  ...  0.472215  0.465135   \n",
      "190            False             True  0.700000  ...  0.340841  0.392085   \n",
      "191             True             True  0.639629  ...  0.335321  0.385680   \n",
      "192             True             True  1.000000  ...  0.443152  0.480117   \n",
      "193             True             True  0.955011  ...  0.548958  0.552877   \n",
      "194             True             True  1.000000  ...  0.534868  0.554526   \n",
      "195            False             True  0.258420  ...  0.150656  0.262906   \n",
      "196             True             True  0.797020  ...  0.343962  0.377581   \n",
      "197             True             True  0.867932  ...  0.357046  0.360447   \n",
      "198            False             True  0.500000  ...  0.000000  0.000000   \n",
      "199            False             True  0.750966  ...  0.552610  0.754975   \n",
      "200            False             True  0.600000  ...  0.596017  0.695322   \n",
      "201             True             True  1.000000  ...  0.589611  0.647858   \n",
      "202             True             True  0.845094  ...  0.749461  0.772242   \n",
      "203             True             True  0.974535  ...  0.669478  0.690333   \n",
      "204             True             True  0.900000  ...  0.553413  0.522470   \n",
      "205             True            False  0.900000  ...  0.588707  0.630919   \n",
      "206             True            False  0.900000  ...  0.697788  0.699089   \n",
      "207             True             True  0.590937  ...  0.391906  0.376731   \n",
      "208             True             True  0.845028  ...  0.580793  0.597686   \n",
      "209             True             True  0.872727  ...  0.579379  0.640898   \n",
      "210            False             True  0.900000  ...  0.586526  0.613424   \n",
      "211             True             True  1.000000  ...  0.510859  0.532492   \n",
      "212             True             True  1.000000  ...  0.669015  0.677587   \n",
      "\n",
      "     sim_seq3  core_check_tax  core_check_seq human_check_tax human_check_seq  \\\n",
      "183  0.147979           False           False           False           False   \n",
      "184  0.147945           False           False           False           False   \n",
      "185  0.000000           False           False           False           False   \n",
      "186  0.469617           False           False            True            True   \n",
      "187  0.463909            True            True            True            True   \n",
      "188  0.590509            True            True            True            True   \n",
      "189  0.450377           False           False            True            True   \n",
      "190  0.387964           False           False            True            True   \n",
      "191  0.420421           False           False            True            True   \n",
      "192  0.509132            True            True            True            True   \n",
      "193  0.597181            True            True            True            True   \n",
      "194  0.567396            True           False            True            True   \n",
      "195  0.328562           False           False           False           False   \n",
      "196  0.593956           False           False           False           False   \n",
      "197  0.451662           False           False           False           False   \n",
      "198  0.000000            True           False            True           False   \n",
      "199  0.632589            True            True            True            True   \n",
      "200  0.625737            True            True            True            True   \n",
      "201  0.662978            True            True            True            True   \n",
      "202  0.779298           False            True           False           False   \n",
      "203  0.701722            True            True            True            True   \n",
      "204  0.520221            True            True            True            True   \n",
      "205  0.612631           False            True            True            True   \n",
      "206  0.708266           False            True            True            True   \n",
      "207  0.406292            True            True            True            True   \n",
      "208  0.603164           False           False           False           False   \n",
      "209  0.616199           False           False           False           False   \n",
      "210  0.622184            True            True            True            True   \n",
      "211  0.580199            True            True            True            True   \n",
      "212  0.706517            True            True            True            True   \n",
      "\n",
      "              filename                                           filepath  \\\n",
      "183  evaluator_183.pkl  ../../v6_result/output-rag-0602\\evaluator_183.pkl   \n",
      "184  evaluator_184.pkl  ../../v6_result/output-rag-0602\\evaluator_184.pkl   \n",
      "185  evaluator_185.pkl  ../../v6_result/output-rag-0602\\evaluator_185.pkl   \n",
      "186  evaluator_186.pkl  ../../v6_result/output-rag-0602\\evaluator_186.pkl   \n",
      "187  evaluator_187.pkl  ../../v6_result/output-rag-0602\\evaluator_187.pkl   \n",
      "188  evaluator_188.pkl  ../../v6_result/output-rag-0602\\evaluator_188.pkl   \n",
      "189  evaluator_189.pkl  ../../v6_result/output-rag-0602\\evaluator_189.pkl   \n",
      "190  evaluator_190.pkl  ../../v6_result/output-rag-0602\\evaluator_190.pkl   \n",
      "191  evaluator_191.pkl  ../../v6_result/output-rag-0602\\evaluator_191.pkl   \n",
      "192  evaluator_192.pkl  ../../v6_result/output-rag-0602\\evaluator_192.pkl   \n",
      "193  evaluator_193.pkl  ../../v6_result/output-rag-0602\\evaluator_193.pkl   \n",
      "194  evaluator_194.pkl  ../../v6_result/output-rag-0602\\evaluator_194.pkl   \n",
      "195  evaluator_195.pkl  ../../v6_result/output-rag-0602\\evaluator_195.pkl   \n",
      "196  evaluator_196.pkl  ../../v6_result/output-rag-0602\\evaluator_196.pkl   \n",
      "197  evaluator_197.pkl  ../../v6_result/output-rag-0602\\evaluator_197.pkl   \n",
      "198  evaluator_198.pkl  ../../v6_result/output-rag-0602\\evaluator_198.pkl   \n",
      "199  evaluator_199.pkl  ../../v6_result/output-rag-0602\\evaluator_199.pkl   \n",
      "200  evaluator_200.pkl  ../../v6_result/output-rag-0602\\evaluator_200.pkl   \n",
      "201  evaluator_201.pkl  ../../v6_result/output-rag-0602\\evaluator_201.pkl   \n",
      "202  evaluator_202.pkl  ../../v6_result/output-rag-0602\\evaluator_202.pkl   \n",
      "203  evaluator_203.pkl  ../../v6_result/output-rag-0602\\evaluator_203.pkl   \n",
      "204  evaluator_204.pkl  ../../v6_result/output-rag-0602\\evaluator_204.pkl   \n",
      "205  evaluator_205.pkl  ../../v6_result/output-rag-0602\\evaluator_205.pkl   \n",
      "206  evaluator_206.pkl  ../../v6_result/output-rag-0602\\evaluator_206.pkl   \n",
      "207  evaluator_207.pkl  ../../v6_result/output-rag-0602\\evaluator_207.pkl   \n",
      "208  evaluator_208.pkl  ../../v6_result/output-rag-0602\\evaluator_208.pkl   \n",
      "209  evaluator_209.pkl  ../../v6_result/output-rag-0602\\evaluator_209.pkl   \n",
      "210  evaluator_210.pkl  ../../v6_result/output-rag-0602\\evaluator_210.pkl   \n",
      "211  evaluator_211.pkl  ../../v6_result/output-rag-0602\\evaluator_211.pkl   \n",
      "212  evaluator_212.pkl  ../../v6_result/output-rag-0602\\evaluator_212.pkl   \n",
      "\n",
      "    extracted_baseline  \n",
      "183                     \n",
      "184                     \n",
      "185                     \n",
      "186                     \n",
      "187                     \n",
      "188                     \n",
      "189                     \n",
      "190                     \n",
      "191                     \n",
      "192                     \n",
      "193                     \n",
      "194                     \n",
      "195                     \n",
      "196                     \n",
      "197                     \n",
      "198                     \n",
      "199                     \n",
      "200                     \n",
      "201                     \n",
      "202                     \n",
      "203                     \n",
      "204                     \n",
      "205                     \n",
      "206                     \n",
      "207                     \n",
      "208                     \n",
      "209                     \n",
      "210                     \n",
      "211                     \n",
      "212                     \n",
      "\n",
      "[30 rows x 22 columns]\n",
      "convert_dtypes: THIS FUNC NEEDS ADJUSTMENT\n",
      "convert_dtypes: THIS FUNC NEEDS ADJUSTMENT\n",
      "convert_dtypes: THIS FUNC NEEDS ADJUSTMENT\n",
      "     inclusion_ratio\n",
      "173         0.750000\n",
      "174         0.884615\n",
      "175         1.000000\n",
      "176         1.000000\n",
      "177         1.000000\n",
      "178         1.000000\n",
      "179         1.000000\n",
      "180         0.333333\n",
      "181         0.416667\n",
      "182         0.416667\n",
      "183         0.000000\n",
      "184         0.333333\n",
      "185         0.333333\n",
      "186         0.333333\n",
      "187         0.666667\n",
      "188         0.777778\n",
      "189         0.307692\n",
      "190         0.384615\n",
      "191         0.384615\n",
      "192         0.842105\n",
      "193         0.789474\n",
      "194         0.894737\n",
      "195         0.000000\n",
      "196         0.000000\n",
      "197         0.333333\n",
      "198         0.478261\n",
      "199         0.565217\n",
      "200         0.608696\n",
      "201         0.916667\n",
      "202         0.916667\n",
      "203         0.916667\n",
      "204         0.842105\n",
      "205         0.842105\n",
      "206         0.852632\n",
      "207         0.630435\n",
      "208         0.826087\n",
      "209         0.891304\n",
      "210         0.642857\n",
      "211         0.750000\n",
      "212         0.821429\n"
     ]
    }
   ],
   "source": []
  },
  {
   "cell_type": "code",
   "execution_count": null,
   "id": "6ed6191e",
   "metadata": {},
   "outputs": [],
   "source": []
  }
 ],
 "metadata": {
  "kernelspec": {
   "display_name": "Python 3",
   "language": "python",
   "name": "python3"
  },
  "language_info": {
   "codemirror_mode": {
    "name": "ipython",
    "version": 3
   },
   "file_extension": ".py",
   "mimetype": "text/x-python",
   "name": "python",
   "nbconvert_exporter": "python",
   "pygments_lexer": "ipython3",
   "version": "3.10.12"
  }
 },
 "nbformat": 4,
 "nbformat_minor": 5
}
