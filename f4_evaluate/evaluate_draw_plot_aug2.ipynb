{
 "cells": [
  {
   "cell_type": "markdown",
   "id": "325a1267",
   "metadata": {},
   "source": [
    "# Evaluate Plots V2\n",
    "\n",
    "test pair에 대한 iteration을 수행한다.\n",
    "\n",
    "1. pickle을 통해서 모든 아이템을 다 읽는다.\n",
    "2. 현재 source sequence를 읽는다.\n",
    "3. scene similarity를 읽는다.\n",
    "- mistral로 계산한 inclusion ratio\n",
    "- 직접 계산한 entity similarity\n",
    "\n",
    "4. action sequence similarity를 계산한다.\n",
    "- agent4 필터 통과와 상관없이 플롯\n",
    "- agent4 필터를 통과하면 플롯\n",
    "\n",
    "5. activity taxnomy similarity를 계산한다.\n",
    "- agent4 필터 통과와 상관없이 플롯\n",
    "- agent4 필터를 통과하면 플롯\n",
    "\n",
    "\n",
    "다음의 pandas colum을 구성한다. (568x13 정도 되나?)\n",
    "\n",
    "없는 곳은 None표시를 한다.\n",
    "\n",
    "source idx, target idx, \n",
    "augmentation_id, inclusion_ratio, entity_similarity\n",
    "goal_category, goal_description\n",
    "core activity_gt, core activity_inf\n",
    "sequence sim, taxonomy sim\n",
    "sequence bool, taxonomy bool"
   ]
  },
  {
   "cell_type": "code",
   "execution_count": 1,
   "id": "c38f736f",
   "metadata": {},
   "outputs": [
    {
     "name": "stderr",
     "output_type": "stream",
     "text": [
      "/usr/local/lib/python3.10/dist-packages/tslearn/bases/bases.py:15: UserWarning: h5py not installed, hdf5 features will not be supported.\n",
      "Install h5py to use hdf5 features: http://docs.h5py.org/\n",
      "  warn(h5py_msg)\n"
     ]
    },
    {
     "name": "stdout",
     "output_type": "stream",
     "text": [
      "/root/project/data/ego4d_annotation/goalstep/\n",
      "all: goalstep vids: 717\n",
      "all: spatial vids: 211\n",
      "dbinit: testuid excluded: goalstep vids: 646\n",
      "dbinit: testuid excluded: spatial vids: 140\n",
      "dbinit: testuid list: test goalstep vids: 71\n",
      "dbinit: testuid list: test spatial vids: 71\n",
      "dbinit: MAKE_DOCU: goalstep_document_list: 38613\n",
      "dbinit: MAKE_DOCU: goalstep_document_list: 1366\n",
      "dbinit: MAKE_DOCU: spatial_document_list: 1243\n",
      "dbinit: MAKE_DOCUAKE: spatial_document_list: 752\n",
      "LOAD FAISS GOALSTEP: /root/project/data/ego4d_annotation/goalstep_docarray_faiss\n",
      "LOAD FAISS SPATIAL: /root/project/data/ego4d_annotation/spatial_docarray_faiss\n"
     ]
    }
   ],
   "source": [
    "# %matplotlib qt\n",
    "import sys\n",
    "import os\n",
    "import numpy as np\n",
    "import json\n",
    "import torch\n",
    "import matplotlib.pyplot as plt\n",
    "import mplcursors\n",
    "from sklearn.manifold import TSNE\n",
    "from sentence_transformers import SentenceTransformer\n",
    "from fastdtw import fastdtw\n",
    "from scipy.spatial.distance import cosine\n",
    "from bert_score import score\n",
    "import pickle\n",
    "\n",
    "#soft dtw\n",
    "import torch\n",
    "from tslearn.metrics import soft_dtw\n",
    "\n",
    "sys.path.append(os.path.abspath('/root/project')) # add root path to sys.path\n",
    "sys.path.append(os.path.abspath('/usr/local/lib/python3.10/dist-packages'))\n",
    "from util import util_constants\n",
    "from util import util_funcs\n",
    "import f4_evaluate.evaluate_scene as evaluate_scene\n",
    "import f1_init.database_init as database_init\n",
    "import f1_init.agent_init as agent_init\n",
    "import f1_init.constants_init as constants_init\n",
    "\n",
    "#Computing similarity\n",
    "import json\n",
    "from sentence_transformers import SentenceTransformer\n",
    "from bert_score import score\n",
    "import numpy as np\n",
    "from numpy.linalg import norm\n",
    "import ast\n",
    "import pandas as pd\n",
    "\n",
    "#PATHS\n",
    "PATH_CURR_FOLDER = os.path.abspath('') \n",
    "PATH_DATA_ANNOTATION = os.path.abspath(os.path.join(PATH_CURR_FOLDER, '..', 'data_annotation'))\n",
    "PATH_DATA_INPUT_OUTPUT = os.path.abspath(os.path.join(PATH_CURR_FOLDER, '..', 'data_input_output'))\n",
    "PATH_SOURCE_TARGET_INPUT = os.path.abspath(os.path.join(PATH_CURR_FOLDER, '..', 'data_input_output/input/source_target_video_list.pkl'))\n",
    "TEST_SPATIAL_ANNOTATION_PATH_MANUAL = PATH_DATA_ANNOTATION + '/spatial_testset/manual'\n",
    "\n",
    "# #PAIRSIM DATA#NOT USED\n",
    "# PATH_PAIRSIM = PATH_DATA_ANNOTATION + '/spatial_pairsim_result'\n",
    "\n",
    "# #AUGMENTED DATA PATH#NOT USED\n",
    "# TEST_SPATIAL_ANNOTATION_PATH_SEMI = PATH_DATA_ANNOTATION + '/spatial_testset/semi'    \n",
    "# #NOT USED\n",
    "# TEST_SPATIAL_ANNOTATION_V2_PATH = PATH_DATA_ANNOTATION + '/spatial_augmentation/TESTSET_Augmented_Data_v2/'\n",
    "\n",
    "#BASELINE RESULT PATHS for v5\n",
    "# PATH_BASELINE_RAG = os.path.abspath(os.path.join(PATH_CURR_FOLDER, '..', 'data_input_output/output-rag-0530-runall-newratio/'))\n",
    "# PATH_BASELINE_NORAG = os.path.abspath(os.path.join(PATH_CURR_FOLDER, '..', 'data_input_output/output-norag-0530-runall-newratio/'))\n",
    "# PATH_BASELINE_1DIRECT = os.path.abspath(os.path.join(PATH_CURR_FOLDER, '..', 'data_input_output/output-1direct-0530-runall-newratio/'))\n",
    "# PATH_BASELINE_1GOALMEDIATION = os.path.abspath(os.path.join(PATH_CURR_FOLDER, '..', 'data_input_output/output-1goalmediation-0530-runall-newratio/'))\n",
    "\n",
    "#BASELINE FROM v6\n",
    "PATH_BASELINE_RAG = os.path.abspath(os.path.join(PATH_CURR_FOLDER, '..', 'data_input_output/output-rag-0602/'))\n",
    "PATH_BASELINE_NORAG = os.path.abspath(os.path.join(PATH_CURR_FOLDER, '..', 'data_input_output/output-norag-0602/'))\n",
    "PATH_BASELINE_RAGGOAL = os.path.abspath(os.path.join(PATH_CURR_FOLDER, '..', 'data_input_output/output-1goalmediation-0602/'))\n",
    "PATH_BASELINE_NORAGGOAL = os.path.abspath(os.path.join(PATH_CURR_FOLDER, '..', 'data_input_output/output-1goalmediation-norag-0602/'))\n"
   ]
  },
  {
   "cell_type": "code",
   "execution_count": 2,
   "id": "1d59639f",
   "metadata": {},
   "outputs": [],
   "source": [
    "def load_file(path):\n",
    "    try:          \n",
    "         with open(path, \"rb\") as f:\n",
    "             data = pickle.load(f)\n",
    "             return data\n",
    "    except:\n",
    "         return None\n",
    "    \n",
    "def check_file(path):\n",
    "    try:\n",
    "        with open(path, \"rb\") as f:\n",
    "            pickle.load(f)  # try loading to ensure file is not empty or corrupted\n",
    "        return True\n",
    "    except (EOFError, FileNotFoundError, PermissionError, IsADirectoryError, pickle.UnpicklingError):\n",
    "        return False\n",
    "\n",
    "\n",
    "def normalize_to_string(value):\n",
    "    '''\n",
    "    used so to cope with value from a dictionary that happens to be inside a list bracket    \n",
    "    '''\n",
    "    # If it's a list and the first element is a string, return that\n",
    "    if isinstance(value, list) and len(value) > 0 and isinstance(value[0], str):\n",
    "        return value[0]\n",
    "    # If it's already a string, return it\n",
    "    elif isinstance(value, str):\n",
    "        return value\n",
    "    # Fallback for anything else\n",
    "    else:\n",
    "        return str(value)\n",
    "    \n",
    "\n",
    "#=====================================\n",
    "# SIMILARITIES v1 SINGLE STRING SBERT MODEL\n",
    "#=====================================\n",
    "def cosine_similarity(vec1, vec2):\n",
    "    vec1 = np.array(vec1)\n",
    "    vec2 = np.array(vec2)\n",
    "    if norm(vec1) == 0 or norm(vec2) == 0:\n",
    "        return 0.0\n",
    "    return np.dot(vec1, vec2) / (norm(vec1) * norm(vec2))\n",
    "\n",
    "def safe_parse_sequence(seq):\n",
    "    if seq is None:\n",
    "        return []\n",
    "    if isinstance(seq, list):\n",
    "        return seq\n",
    "    try:\n",
    "        return ast.literal_eval(seq)\n",
    "    except (ValueError, SyntaxError):\n",
    "        print(\"taxonomy safe parse value error\")\n",
    "        return []\n",
    "\n",
    "def safe_parse_taxonomy(tax):\n",
    "    if tax is None:\n",
    "        return {}\n",
    "    if isinstance(tax, dict):\n",
    "        return tax\n",
    "    try:\n",
    "        return json.loads(tax)\n",
    "    except (json.JSONDecodeError, TypeError):\n",
    "        return {}\n",
    "\n",
    "def compute_similarities(entry, embed_model):\n",
    "    # --- Parse sequences ---\n",
    "    source_seq = safe_parse_sequence(entry.get('source_sequence'))\n",
    "    target_seq = safe_parse_sequence(entry.get('target_sequence'))\n",
    "\n",
    "    if not source_seq or not target_seq:\n",
    "        seq_similarity = 0.0\n",
    "    else:\n",
    "        source_seq_str = ' '.join(source_seq)\n",
    "        target_seq_str = ' '.join(target_seq)\n",
    "        source_seq_emb = embed_model.encode(source_seq_str)\n",
    "        target_seq_emb = embed_model.encode(target_seq_str)\n",
    "        seq_similarity = cosine_similarity(source_seq_emb, target_seq_emb)\n",
    "\n",
    "    # --- Parse taxonomies ---\n",
    "    source_tax = safe_parse_taxonomy(entry.get('source_taxonomy'))\n",
    "    target_tax = safe_parse_taxonomy(entry.get('target_taxonomy'))\n",
    "\n",
    "    if not source_tax or not target_tax:\n",
    "        tax_similarity = 0.0\n",
    "    else:\n",
    "        source_tax_str = ' '.join(f\"{k}: {v}\" for k, v in source_tax.items())\n",
    "        target_tax_str = ' '.join(f\"{k}: {v}\" for k, v in target_tax.items())\n",
    "        source_tax_emb = embed_model.encode(source_tax_str)\n",
    "        target_tax_emb = embed_model.encode(target_tax_str)\n",
    "        tax_similarity = cosine_similarity(source_tax_emb, target_tax_emb)\n",
    "\n",
    "    return seq_similarity, tax_similarity\n",
    "\n",
    "#=====================================\n",
    "# SIMILARITIES v2 WEIGHTED LINEAR TAXONOMY SEMANTICS MODEL\n",
    "# weight by level\n",
    "# Compare only values\n",
    "#=====================================\n",
    "def compute_weighted_tax_similarity(entry, embed_model):\n",
    "    '''\n",
    "    func: calculate weighted taxonomy for values only\n",
    "    input: entry: dict element of baseline results\n",
    "    input: embed_model: stuff like sbert of openaiembedding\n",
    "    w = [0.5,0.2,0.1,0.1,0.1]\n",
    "    no source or target: return 0\n",
    "    source empty for 0th level: return 0\n",
    "    1 empty/impossible for both in non-0th: consider as +1.0*w[i]\n",
    "    2 one empty/impossible: +0.0*w[i]\n",
    "    3 +sim(val_source, val_target)*w[i]\n",
    "    return \n",
    "    '''\n",
    "    weighted_tax_similarity = 0\n",
    "    weights = [0.5, 0.2, 0.1, 0.1, 0.1]\n",
    "    source_tax = safe_parse_taxonomy(entry.get('source_taxonomy'))\n",
    "    target_tax = safe_parse_taxonomy(entry.get('target_taxonomy'))\n",
    "\n",
    "    if not source_tax or not target_tax:\n",
    "        weighted_tax_similarity = 0.0\n",
    "        print(f\"No files: entry: {entry}\")\n",
    "        return weighted_tax_similarity\n",
    "    else:\n",
    "        source_items = list(source_tax.items())\n",
    "        target_items = list(target_tax.items())\n",
    "        weighted_tax_similarity = 0\n",
    "\n",
    "        for i in range(len(source_items)):\n",
    "\n",
    "            if len(source_items) != 5:\n",
    "                print(f\"items {len(source_items)} {len(target_items)}\")\n",
    "                weighted_tax_similarity = 0.0\n",
    "                return weighted_tax_similarity\n",
    "            \n",
    "            source_key, source_value = source_items[i]\n",
    "            target_key, target_value = target_items[i]\n",
    "            source_value = normalize_to_string(source_value)\n",
    "            target_value = normalize_to_string(target_value)\n",
    "\n",
    "            # set impossible to empty\n",
    "            if source_value ==\"impossible\":\n",
    "                source_value = \"empty\"\n",
    "            if target_value == \"impossible\":\n",
    "                target_value = \"empty\"\n",
    "\n",
    "\n",
    "            # source is empty for most upper ZERO similarity\n",
    "            if i == 0 and source_value == \"empty\":\n",
    "                weighted_tax_similarity = 0.0\n",
    "                print(f\"0th level empty: entry: {entry}\")\n",
    "                return weighted_tax_similarity\n",
    "            \n",
    "            # source is there but target has value\n",
    "            if source_value != \"empty\" and target_value == \"empty\":\n",
    "                weighted_tax_similarity += 0.0\n",
    "            elif source_value == \"empty\" and target_value != \"empty\":\n",
    "                weighted_tax_similarity += 0.0\n",
    "            elif source_value == \"empty\" and target_value == \"empty\":\n",
    "                weighted_tax_similarity += weights[i]\n",
    "            else:\n",
    "                print(f\"{i}th level: {source_value} {target_value}\")\n",
    "                source_value_emb = embed_model.encode(source_value)\n",
    "                target_value_emb = embed_model.encode(target_value)\n",
    "                weighted_tax_similarity += weights[i] * cosine_similarity(source_value_emb, target_value_emb)\n",
    "\n",
    "    return weighted_tax_similarity\n",
    "\n",
    "def compute_dtw_seq_similarity(entry, embed_model):\n",
    "    '''\n",
    "    compute dynamic time warping similarity between two sequences\n",
    "    '''\n",
    "    seq_similarity =[]\n",
    "    source_seq = safe_parse_sequence(entry.get('source_sequence'))\n",
    "    target_seq = safe_parse_sequence(entry.get('target_sequence'))\n",
    "\n",
    "    if not source_seq or not target_seq:\n",
    "        seq_similarity = 0.0\n",
    "    else:\n",
    "        # Get embeddings for each step in both sequences\n",
    "        emb1 = embed_model.encode(source_seq)\n",
    "        emb2 = embed_model.encode(target_seq)\n",
    "        distance, path = fastdtw(emb1, emb2, dist=cosine)\n",
    "        # Normalize distance to similarity (lower distance = higher similarity)\n",
    "        # Optional: convert to similarity score in [0, 1] range\n",
    "        max_possible_distance = len(path)  # worst case = all pairs unrelated\n",
    "        seq_similarity = 1 - (distance / max_possible_distance)\n",
    "\n",
    "    return seq_similarity\n",
    "\n",
    "\n",
    "def compute_soft_dtw(entry, embed_model):\n",
    "    '''\n",
    "    compute dynamic time warping similarity between two sequences\n",
    "    '''\n",
    "    seq_similarity =[]\n",
    "    source_seq = safe_parse_sequence(entry.get('source_sequence'))\n",
    "    target_seq = safe_parse_sequence(entry.get('target_sequence'))  \n",
    "\n",
    "    if not source_seq or not target_seq:\n",
    "        seq_similarity = 0.0\n",
    "    else:\n",
    "        # Get embeddings for each step in both sequences\n",
    "        emb1 = embed_model.encode(source_seq)\n",
    "        emb2 = embed_model.encode(target_seq)\n",
    "        distance, path = fastdtw(emb1, emb2, dist=cosine)\n",
    "        # Normalize distance to similarity (lower distance = higher similarity)\n",
    "        # Optional: convert to similarity score in [0, 1] range\n",
    "        max_possible_distance = len(path)  # worst case = all pairs unrelated\n",
    "        seq_similarity = 1 - (distance / max_possible_distance)\n",
    "\n",
    "    return seq_similarity\n",
    "\n",
    "#=====================================\n",
    "# SIMILARITIES v3 WEIGHTED SIMILARITY & GED MODEL\n",
    "# COMPLETELY DIFFERENT WEIGHT FOR insertion, deletion of nodes\n",
    "# \n",
    "#=====================================\n"
   ]
  },
  {
   "cell_type": "markdown",
   "id": "6d12e164",
   "metadata": {},
   "source": [
    "## Read Results\n",
    "\n",
    "read a list of 568 pickle sets in 8 elements for 8 levels in augmentation\n",
    "\n",
    "\n",
    "\n",
    "make dictionary\n",
    "-fill every information\n",
    "-fill every calculatable information\n",
    "-save as df"
   ]
  },
  {
   "cell_type": "code",
   "execution_count": 3,
   "id": "cdf074b6",
   "metadata": {},
   "outputs": [],
   "source": [
    "\n",
    "source_list = [] # [0,0,0,0,1,1,1,1,...,283] -> [0,1,2,3,..71,0,1,2,3,4..71,...71]\n",
    "target_list = [] # [augno_0: 55, aug33_0: 33,aug67_0: 28,aug100_0: 22,...] -> [55,26,22,...]\n",
    "# baselines = [\"rag\",\"norag\",\"1direct\",\"1goalmediation\"] #until v5\n",
    "baselines = [\"rag\",\"norag\",\"raggoal\",\"noraggoal\"]#from v6\n",
    "sbert_model = SentenceTransformer('all-MiniLM-L6-v2')\n",
    "\n",
    "def df_inclusion_ratio(baseline_result_path:str, baseline:str):\n",
    "    dict_list=[]\n",
    "    augmodes = [33.3, 66.6, 100]#from v6\n",
    "    length = 71 * len(augmodes) #8levels, 8files    \n",
    "    for i in range(length):\n",
    "        dict = {\"inclusion_ratio\":None}\n",
    "        prefix = f\"pair{i}_\" \n",
    "        sourceinfo_dict = load_file(baseline_result_path + \"/\" + prefix + \"sourceinfo.pkl\")  \n",
    "        dict['inclusion_ratio'] = sourceinfo_dict['spatial_similarity']\n",
    "        dict_list.append(dict)\n",
    "    return pd.DataFrame(dict_list)   \n",
    "\n",
    "def check_missing_index(baseline_result_path:str, baseline:str):\n",
    "    '''\n",
    "    func: return list of missing index for earlier agent set.\n",
    "    output: dict_list of {idx:int, agent:\"agent_name\"} that if missing\n",
    "    '''\n",
    "    dict_list =[]\n",
    "    # augmodes = [30, 40, 50, 60, 70, 80, 90, 100]#until v5\n",
    "    augmodes = [33.3, 66.6, 100]#from v6\n",
    "    length = 71 * len(augmodes) #8levels, 8files    \n",
    "\n",
    "    # daseline different loadout \n",
    "    for i in range(length):\n",
    "        prefix = f\"pair{i}_\" \n",
    "        path_source = baseline_result_path +\"/\"+ prefix + \"sourceinfo.pkl\"\n",
    "        path_target = baseline_result_path +\"/\"+ prefix + \"targetinfo.pkl\"\n",
    "        path_agent1a = baseline_result_path +\"/\"+ prefix + \"agent1a.pkl\"\n",
    "        path_agent1b = baseline_result_path +\"/\"+ prefix + \"agent1b.pkl\"\n",
    "        path_agent2a = baseline_result_path +\"/\"+ prefix + \"agent2a.pkl\"\n",
    "        path_agent2b = baseline_result_path +\"/\"+ prefix + \"agent2b.pkl\"\n",
    "        path_agent3 = baseline_result_path +\"/\"+ prefix + \"agent3.pkl\"\n",
    "        path_agent4 = baseline_result_path +\"/\"+ prefix + \"agent4.pkl\"        \n",
    "        if baseline == \"1direct\":\n",
    "            if not check_file(path_source):\n",
    "                dict_list.append({\"idx\": i, \"agent\": \"sourceinfo\"})\n",
    "                continue\n",
    "            if not check_file(path_target):\n",
    "                dict_list.append({\"idx\": i, \"agent\": \"targetinfo\"})\n",
    "                continue         \n",
    "            if not check_file(path_agent3):\n",
    "                dict_list.append({\"idx\": i, \"agent\": \"agent3\"})\n",
    "                continue                \n",
    "            # if not check_file(path_agent4):\n",
    "            #     dict_list.append({\"idx\": i, \"agent\": \"agent4\"})\n",
    "            #     continue                \n",
    "           \n",
    "        if baseline == \"1goalmediation\":\n",
    "            if not check_file(path_source):\n",
    "                dict_list.append({\"idx\": i, \"agent\": \"sourceinfo\"})\n",
    "                continue\n",
    "            if not check_file(path_target):\n",
    "                dict_list.append({\"idx\": i, \"agent\": \"targetinfo\"})\n",
    "                continue\n",
    "            if not check_file(path_agent1a):\n",
    "                dict_list.append({\"idx\": i, \"agent\": \"agent1a\"})\n",
    "                continue               \n",
    "            if not check_file(path_agent3):\n",
    "                dict_list.append({\"idx\": i, \"agent\": \"agent3\"})\n",
    "                continue               \n",
    "            if not check_file(path_agent4):\n",
    "                dict_list.append({\"idx\": i, \"agent\": \"agent4\"})\n",
    "                continue                  \n",
    "\n",
    "        if baseline == \"raggoal\" or baseline == \"noraggoal\" :\n",
    "            if not check_file(path_source):\n",
    "                dict_list.append({\"idx\": i, \"agent\": \"sourceinfo\"})\n",
    "                continue\n",
    "            if not check_file(path_target):\n",
    "                dict_list.append({\"idx\": i, \"agent\": \"targetinfo\"})\n",
    "                continue\n",
    "            if not check_file(path_agent1a):\n",
    "                dict_list.append({\"idx\": i, \"agent\": \"agent1a\"})\n",
    "                continue               \n",
    "            if not check_file(path_agent3):\n",
    "                dict_list.append({\"idx\": i, \"agent\": \"agent3\"})\n",
    "                continue               \n",
    "            if not check_file(path_agent4):\n",
    "                dict_list.append({\"idx\": i, \"agent\": \"agent4\"})\n",
    "                continue   \n",
    "\n",
    "        elif baseline == \"rag\" or baseline ==\"norag\":\n",
    "            if not check_file(path_source):\n",
    "                dict_list.append({\"idx\": i, \"agent\": \"sourceinfo\"})\n",
    "                continue\n",
    "            if not check_file(path_target):\n",
    "                dict_list.append({\"idx\": i, \"agent\": \"targetinfo\"})\n",
    "                continue\n",
    "            if not check_file(path_agent1a):\n",
    "                dict_list.append({\"idx\": i, \"agent\": \"agent1a\"})\n",
    "                continue       \n",
    "            if not check_file(path_agent1b):\n",
    "                dict_list.append({\"idx\": i, \"agent\": \"agent1b\"})\n",
    "                continue             \n",
    "            if not check_file(path_agent2a):\n",
    "                dict_list.append({\"idx\": i, \"agent\": \"agent2a\"})\n",
    "                continue          \n",
    "            if not check_file(path_agent2b):\n",
    "                dict_list.append({\"idx\": i, \"agent\": \"agent2b\"})\n",
    "                continue        \n",
    "            if not check_file(path_agent3):\n",
    "                dict_list.append({\"idx\": i, \"agent\": \"agent3\"})\n",
    "                continue                                    \n",
    "            if not check_file(path_agent4):\n",
    "                dict_list.append({\"idx\": i, \"agent\": \"agent4\"})\n",
    "                continue               \n",
    "\n",
    "    return dict_list                                  \n",
    "\n",
    "def make_singlebaseline_list(baseline_result_path:str, baseline:str):\n",
    "    '''\n",
    "    func: make single baseline list\n",
    "    '''\n",
    "    baseline_result_path = baseline_result_path + \"/\"\n",
    "    baseline_results = []\n",
    "    # augmodes = [30, 40, 50, 60, 70, 80, 90, 100]#until v5\n",
    "    augmodes = [33.3, 66.6, 100]#from v6\n",
    "    length = 71 * len(augmodes) #8levels, 8files    \n",
    "\n",
    "    \n",
    "    for i in range(length):\n",
    "    # for i in range(568):\n",
    "        print(i)\n",
    "        dict = {\n",
    "            \"idx\":None,\"source_idx\":None, \"target_idx\":None, \"source_uid\": None, \"target_uid\": None, \"baseline\": None, \"augmode\": None, \n",
    "            \"source_sequence\": None, \"source_scene_graph\": None, \"target_scene_graph\": None, \n",
    "            \"inclusion_ratio\":None, #\"pairwise_similarity\": None,\n",
    "            #\"sequence_similarity_sbert\": None, \"taxonomy_similarity_sbert\":None\n",
    "            }\n",
    "\n",
    "        prefix = f\"pair{i}_\"\n",
    "        augmode = i%len(augmodes)\n",
    "        # FILL RAW DATA\n",
    "        # print(i)\n",
    "        sourceinfo_dict = load_file(baseline_result_path + prefix + \"sourceinfo.pkl\")\n",
    "        targetinfo_dict = load_file(baseline_result_path + prefix + \"targetinfo.pkl\")\n",
    "        dict[\"idx\"] = i\n",
    "        dict[\"source_idx\"] = sourceinfo_dict['source_idx']\n",
    "        dict[\"target_idx\"] = targetinfo_dict['target_idx']\n",
    "        dict[\"source_uid\"] = sourceinfo_dict['source_uid']\n",
    "        dict[\"target_uid\"] = targetinfo_dict['target_uid']\n",
    "        dict[\"baseline\"] = baseline\n",
    "        dict[\"augmode\"] = augmode\n",
    "\n",
    "\n",
    "        dict['source_sequence'] =sourceinfo_dict['source_action_sequence']\n",
    "        dict['source_sequence'] = dict['source_sequence'].strip('\"').split(', ') #make into list\n",
    "\n",
    "        dict['source_scene_graph'] =sourceinfo_dict['source_scene_graph']\n",
    "        dict['target_scene_graph'] =targetinfo_dict['target_scene_graph']\n",
    "\n",
    "        \n",
    "        # based on baselines 1direct, 1goalmediation [\"rag\",\"norag\",\"raggoal\",\"noraggoal\"]#from v6\n",
    "        if baseline == \"1direct\":\n",
    "            dict['target_sequence'] =load_file(baseline_result_path + prefix + \"agent3.pkl\")\n",
    "        elif baseline == \"1goalmediation\":\n",
    "            dict['target_sequence'] =load_file(baseline_result_path + prefix + \"agent3.pkl\")\n",
    "            dict['core_activity'] =load_file(baseline_result_path + prefix + \"agent1a.pkl\")\n",
    "        elif baseline == \"raggoal\" or baseline == \"noraggoal\":\n",
    "            dict['target_sequence'] =load_file(baseline_result_path + prefix + \"agent3.pkl\")\n",
    "            dict['core_activity'] =load_file(baseline_result_path + prefix + \"agent1a.pkl\")            \n",
    "        elif baseline == \"rag\" or baseline ==\"norag\":\n",
    "            dict['target_sequence'] =load_file(baseline_result_path + prefix + \"agent3.pkl\")\n",
    "            dict['core_activity'] =load_file(baseline_result_path + prefix + \"agent1a.pkl\")\n",
    "            dict['source_taxonomy'] =load_file(baseline_result_path + prefix + \"agent1b.pkl\")\n",
    "            dict['common_taxonomy'] =load_file(baseline_result_path + prefix + \"agent2a.pkl\")\n",
    "            dict['target_taxonomy'] =load_file(baseline_result_path + prefix + \"agent2b.pkl\")            \n",
    "\n",
    "\n",
    "        booleans= load_file(baseline_result_path+prefix+\"agent4.pkl\")\n",
    "        if(booleans == None):\n",
    "            ## No values whatsover\n",
    "            dict[\"sequence_boolean\"] = False\n",
    "            dict[\"taxonomy_boolean\"] = False \n",
    "        else:\n",
    "            values = [\n",
    "                line.split(\":\")[1].strip()\n",
    "                for line in booleans.strip().splitlines()\n",
    "                if \":\" in line\n",
    "            ]\n",
    "            # print(values)\n",
    "            dict[\"taxonomy_boolean\"] = True if values[0] == 'yes' else False\n",
    "            dict[\"sequence_boolean\"] = True if values[1] == 'yes' else False\n",
    "            # print(f\"{dict['taxonomy_boolean']} {dict['sequence_boolean']}\")\n",
    "        \n",
    "        dict['inclusion_ratio'] = sourceinfo_dict['spatial_similarity']\n",
    "        #dict['pairwise_similarity'] = compare_scene_graph(dict['source_scene_graph'], dict['target_scene_graph'])\n",
    "        # SBERT for block level semantics\n",
    "\n",
    "        if dict['target_sequence'] != None:\n",
    "            \n",
    "            # Preprocess sequece to make sequence a single string\n",
    "            \n",
    "            dict['target_sequence'] = ast.literal_eval(dict['target_sequence'])\n",
    "            print(dict['target_sequence'])\n",
    "            dict['target_sequence'] = [\", \".join(dict['target_sequence'])] # to single item\n",
    "            dict['source_sequence'] = [\", \".join(dict['source_sequence'])]# to single item\n",
    "            \n",
    "            # print(dict['source_taxonomy'])\n",
    "            # print(dict['target_taxonomy'])\n",
    "\n",
    "            sequence_similarity_sbert, taxonomy_similarity_sbert = compute_similarities(dict, sbert_model)\n",
    "            dict[\"sequence_similarity_sbert\"]= sequence_similarity_sbert\n",
    "            dict[\"taxonomy_similarity_sbert\"]= taxonomy_similarity_sbert\n",
    "\n",
    "            taxonomy_weighted_similarity = compute_weighted_tax_similarity(dict, sbert_model)\n",
    "            dict[\"taxonomy_weighted_similarity\"] = taxonomy_weighted_similarity\n",
    "            sequence_dtw_similarity = compute_dtw_seq_similarity(dict, sbert_model)\n",
    "            dict[\"sequence_dtw_similarity\"] = sequence_dtw_similarity\n",
    "            # print(dict[\"taxonomy_similarity_sbert\"])\n",
    "\n",
    "            # BERTSCORE for little more stepwise precision in similarity measurement\n",
    "            # print(len(dict['target_sequence']))\n",
    "            # print(len(dict['source_sequence']))\n",
    "            # print(dict['target_sequence'])\n",
    "            # print(dict['source_sequence'])# not inside bracket\n",
    "            # print(dict['target_taxonomy'])\n",
    "            # print(dict['source_taxonomy'])\n",
    "\n",
    "            #takes very long\n",
    "            # dict[\"sequence_b_P\"], dict[\"sequence_b_R\"], dict[\"sequence_b_F1\"] = score(dict['target_sequence'], dict['source_sequence'], lang=\"en\", rescale_with_baseline=True)\n",
    "\n",
    "            #This part gives trouble\n",
    "            # dict[\"taxonomy_b_P\"], dict[\"taxonomy_b_R\"], dict[\"taxonomy_b_F1\"] =score(dict['target_taxonomy'], dict['source_taxonomy'], lang=\"en\", rescale_with_baseline=True)\n",
    "        baseline_results.append(dict)\n",
    "    return baseline_results\n",
    "\n",
    "\n",
    "# baseline_rag_missing_dict = check_missing_index(PATH_BASELINE_RAG, baselines[0])\n",
    "# baseline_norag_missing_dict = check_missing_index(PATH_BASELINE_NORAG, baselines[1])\n",
    "# # baseline_1direct_missing_dict = check_missing_index(PATH_BASELINE_1DIRECT, baselines[2])\n",
    "# # baseline_1goalmediation_missing_dict = check_missing_index(PATH_BASELINE_1GOALMEDIATION, baselines[3])\n",
    "# baseline_raggoal_missing_dict = check_missing_index(PATH_BASELINE_RAGGOAL, baselines[2])\n",
    "# baseline_noraggoal_missing_dict = check_missing_index(PATH_BASELINE_NORAGGOAL, baselines[3])\n",
    "\n",
    "# print(len(baseline_rag_missing_dict))\n",
    "# print(baseline_rag_missing_dict)\n",
    "# # print(len(baseline_norag_missing_dict))\n",
    "# # print(baseline_norag_missing_dict)\n",
    "# print(len(baseline_raggoal_missing_dict))\n",
    "# print(baseline_raggoal_missing_dict)\n",
    "# print(len(baseline_noraggoal_missing_dict))\n",
    "# print(baseline_noraggoal_missing_dict)\n",
    "\n",
    "# baseline_rag_list = make_singlebaseline_list(PATH_BASELINE_RAG, baselines[0])\n",
    "# baseline_norag_list = make_singlebaseline_list(PATH_BASELINE_NORAG, baselines[1])\n",
    "# # baseline_1direct_list = make_singlebaseline_list(PATH_BASELINE_1DIRECT, baselines[2])\n",
    "# # baseline_1goalmediation_list = make_singlebaseline_list(PATH_BASELINE_1GOALMEDIATION, baselines[3])\n",
    "# baseline_raggoal_list = make_singlebaseline_list(PATH_BASELINE_RAGGOAL, baselines[2])\n",
    "# baseline_noraggoal_list = make_singlebaseline_list(PATH_BASELINE_NORAGGOAL, baselines[3])\n",
    "\n",
    "\n",
    "# rag_inclusion_ratio = df_inclusion_ratio(PATH_BASELINE_RAG, baselines[0])\n",
    "# norag_inclusion_ratio = df_inclusion_ratio(PATH_BASELINE_NORAG, baselines[1])\n",
    "# raggoal_inclusion_ratio = df_inclusion_ratio(PATH_BASELINE_RAGGOAL, baselines[2])\n",
    "# noraggoal_inclusion_ratio = df_inclusion_ratio(PATH_BASELINE_NORAGGOAL, baselines[3])\n",
    "\n"
   ]
  },
  {
   "cell_type": "code",
   "execution_count": null,
   "id": "a1cee638",
   "metadata": {},
   "outputs": [
    {
     "name": "stdout",
     "output_type": "stream",
     "text": [
      "213 22\n",
      "213 19\n",
      "213 19\n"
     ]
    }
   ],
   "source": [
    "# print(f\"{len(baseline_rag_list)} {len(baseline_rag_list[0])}\")\n",
    "# print(f\"{len(baseline_norag_list)} {len(baseline_norag_list[0])}\")\n",
    "# print(f\"{len(baseline_raggoal_list)} {len(baseline_raggoal_list[0])}\")\n",
    "# print(f\"{len(baseline_noraggoal_list)} {len(baseline_noraggoal_list[0])}\")\n"
   ]
  },
  {
   "cell_type": "markdown",
   "id": "27bcc30a",
   "metadata": {},
   "source": [
    "## Perform Numerical Calculation of Results\n",
    "\n",
    "### base results\n",
    "- pairwise scene similarity\n",
    "- seq2seq similarity\n",
    "- seq2seq taxonomy similarity\n",
    "### plot\n",
    "- per scenario similarity analysis\n",
    "- per augmentation, per scenario similarity analysis\n",
    "- per scenario similarity vs similarity\n",
    "\n"
   ]
  },
  {
   "cell_type": "code",
   "execution_count": 4,
   "id": "6f81421b",
   "metadata": {},
   "outputs": [],
   "source": [
    "\n",
    "def mask_nan_df(df):\n",
    "    mask = df.isna().any(axis=1)\n",
    "    df.loc[mask, :] = np.nan \n",
    "    \n",
    "def mask_nan_df_or_condition(df, columns_to_check):\n",
    "    '''\n",
    "    input: columns_to_check = [\"col1\", \"col2\"]\n",
    "    '''\n",
    "    mask = df[columns_to_check].isna().any(axis=1)\n",
    "    df.loc[mask, :] = np.nan    \n",
    "\n",
    "def save_baseline_list(path, baseline_list):\n",
    "    with open(path, 'wb') as f:\n",
    "        pickle.dump(baseline_list, f)\n",
    "        print(f\"saved baseline list at {path}\")\n",
    "\n",
    "# turn list of dictionary into dataframe\n",
    "# df_rag = pd.DataFrame(baseline_rag_list)\n",
    "\n",
    "\n",
    "# df_rag = pd.DataFrame(baseline_rag_list)\n",
    "# # mask_nan_df_or_condition(df_rag, [\"target_taxonomy\",\"target_sequence\"])\n",
    "\n",
    "# df_norag = pd.DataFrame(baseline_norag_list)\n",
    "# # mask_nan_df_or_condition(df_norag, [\"target_taxonomy\",\"target_sequence\"])\n",
    "\n",
    "# # df_1direct = pd.DataFrame(baseline_1direct_list)\n",
    "# # mask_nan_df_or_condition(df_1direct, [\"target_sequence\"])\n",
    "# # # print(df_1direct.head())\n",
    "\n",
    "# # df_1goalmediation = pd.DataFrame(baseline_1goalmediation_list)\n",
    "# # mask_nan_df_or_condition(df_1goalmediation, [\"target_sequence\"])\n",
    "# # # print(df_1goalmediation.head())\n",
    "\n",
    "# df_raggoal = pd.DataFrame(baseline_raggoal_list)\n",
    "# mask_nan_df_or_condition(df_raggoal, [\"target_sequence\"])\n",
    "# # print(df_1direct.head())\n",
    "\n",
    "# df_noraggoal = pd.DataFrame(baseline_noraggoal_list)\n",
    "# mask_nan_df_or_condition(df_noraggoal, [\"target_sequence\"])\n",
    "# # print(df_1goalmediation.head())\n",
    "\n",
    "\n",
    "# baseline_rag_path = 'result_v6/rag_dict.pkl'\n",
    "# baseline_norag_path = 'result_v6/norag_dict.pkl'\n",
    "# # baseline_1direct_path = 'evaluation_result_v4/1direct_dict.pkl'\n",
    "# # baseline_1goalmediation_list_path = 'evaluation_result_v4/1goalmediation_dict.pkl'\n",
    "# baseline_raggoal_path = 'result_v6/raggoal_dict.pkl'\n",
    "# baseline_1noraggoal_list_path = 'result_v6/noraggoal_dict.pkl'\n",
    "\n",
    "# save_baseline_list(baseline_rag_path, baseline_rag_list)\n",
    "# save_baseline_list(baseline_norag_path, baseline_norag_list)\n",
    "# # save_baseline_list(baseline_1direct_path, baseline_1direct_list)\n",
    "# # save_baseline_list(baseline_1goalmediation_list_path, baseline_1goalmediation_list)\n",
    "# save_baseline_list(baseline_raggoal_path, baseline_raggoal_list)\n",
    "# save_baseline_list(baseline_1noraggoal_list_path, baseline_noraggoal_list)\n",
    "\n",
    "\n",
    "# print(df_rag.shape[0])\n",
    "# print(df_norag.shape[0])\n",
    "# # print(df_1direct.shape[0])\n",
    "# # print(df_1goalmediation.shape[0])\n",
    "# print(df_raggoal.shape[0])\n",
    "# print(df_noraggoal.shape[0])\n",
    "\n",
    "# # print(df_rag['sequence_boolean'])\n",
    "# # print(df_norag['sequence_boolean'])\n",
    "\n",
    "# # print(df_rag['taxonomy_boolean'])\n",
    "# # print(df_norag['taxonomy_boolean'])\n",
    "\n",
    "\n"
   ]
  },
  {
   "cell_type": "code",
   "execution_count": null,
   "id": "e360a7da",
   "metadata": {},
   "outputs": [
    {
     "name": "stdout",
     "output_type": "stream",
     "text": [
      "568\n",
      "176\n",
      "176\n",
      "176\n",
      "176\n",
      "168\n",
      "224\n",
      "176\n",
      "168\n",
      "224\n"
     ]
    }
   ],
   "source": [
    "# MANUAL-GOLD, CH-SILVER, ELSE-BRONZE\n",
    "\n",
    "# GOLD (manual)\n",
    "# filtered_df = df[df[\"v1\"].isin(mylist)]\n",
    "gold_list = [\n",
    "\"dcd09fa4-afe2-4a0d-9703-83af2867ebd3\",\n",
    "\"46e07357-6946-4ff0-ba36-ae11840bdc39\",\n",
    "\"026dac2d-2ab3-4f9c-9e1d-6198db4fb080\",\n",
    "\"2f46d1e6-2a85-4d46-b955-10c2eded661c\",\n",
    "\"14bcb17c-f70a-41d5-b10d-294388084dfc\",\n",
    "\"487d752c-6e22-43e3-9c08-627bc2a6c6d4\",\n",
    "\"543e4c99-5d9f-407d-be75-c397d633fe56\",\n",
    "\"24ba7993-7fc8-4447-afd5-7ff6d548b11a\",\n",
    "\"e09a667f-04bc-49b5-8246-daf248a29174\",\n",
    "\"b17ff269-ec2d-4ad8-88aa-b00b75921427\",\n",
    "\"58b2a4a4-b721-4753-bfc3-478cdb5bd1a8\",\n",
    "\"28e0affc-cacb-4db8-ab32-dfc16931b86a\",\n",
    "\"e72082e8-f9e6-42ac-ac45-de30f9adee9d\",\n",
    "\"f0204f83-ea03-4c33-b7e7-13d2188ab3e5\",\n",
    "\"9fabfbc8-1d5c-495e-9bb2-03795f0145ae\",\n",
    "\"01ce4fd6-197a-4792-8778-775b03780369\",\n",
    "\"47bb1fd4-d41f-42b4-8d0c-29c4e9fdff9f\",\n",
    "\"7e8d03f2-2ff9-431d-af81-e5ffcd954a63\",\n",
    "\"89857b33-fa50-469a-bbb3-91c8ab655931\",\n",
    "\"5c2e910c-84e0-4042-b5d6-880a731c3e67\",\n",
    "\"737e9619-7768-407c-8a4f-6fe1e8d61f04\",\n",
    "\"abab0e69-f7e4-40c1-aa58-375798df487a\"\n",
    "]\n",
    "import copy\n",
    "df_rag_g = copy.deepcopy(df_rag)\n",
    "df_norag_g = copy.deepcopy(df_norag)\n",
    "# df_1direct_g = copy.deepcopy(df_1direct)\n",
    "# df_1goalmediation_g = copy.deepcopy(df_1goalmediation)\n",
    "\n",
    "\n",
    "\n",
    "df_rag_gold = df_rag_g[df_rag_g['source_uid'].isin(gold_list)]\n",
    "df_norag_gold = df_norag_g[df_norag_g[\"source_uid\"].isin(gold_list)]\n",
    "# df_1direct_gold = df_1direct_g[df_1direct_g[\"source_uid\"].isin(gold_list)]\n",
    "# df_1goalmediation_gold = df_1goalmediation_g[df_1goalmediation_g[\"source_uid\"].isin(gold_list)]\n",
    "\n",
    "# SILVER (0)\n",
    "silver_list = [\n",
    "\"02a06bf1-51b8-4902-b088-573e29fcd7ec\",\n",
    "\"1dc85adb-fbdd-4275-b9cf-42976acb4d14\",\n",
    "\"2978ddbc-cdc9-4bfa-9a7c-4bf056904010\",\n",
    "\"2bc7d6fa-a02e-4367-b316-d6b4e8a2ce3f\",\n",
    "\"31d6fe77-da70-42da-8f47-66bb79b9285b\",\n",
    "\"321b5e21-2951-40c9-a2f9-6ce0c145cfb8\",\n",
    "\"341b5211-bb72-4bec-bd3d-c0d518887960\",\n",
    "\"35080724-6604-401c-8b06-19b7cece3d45\",\n",
    "\"38a7b760-56f9-4565-8b70-f8dad5768ace\",\n",
    "\"5461912b-69cd-40d7-8f79-50832f92f049\",\n",
    "\"6dafeac7-75b6-4d69-96f7-d08708a0a99e\",\n",
    "\"98434f4c-6216-4067-ad59-4a89cb47bb9b\",\n",
    "\"a267b011-b1db-4e3c-aa49-438e2afdd6dc\",\n",
    "\"b83285c5-0b88-4ced-a52e-5c34ea371507\",\n",
    "\"debfb68a-eae2-464e-847a-cd3fea23f3ca\",\n",
    "\"e4ad6fd7-2e3e-4991-b392-a0056f702286\",\n",
    "\"e6231d1a-1f7f-4198-a499-7635509adfaf\",\n",
    "\"ec3556de-be79-4ad4-aa0f-eaca48abb5d5\",\n",
    "\"ed60dcdb-b273-44e7-b5dc-f9527d7c403f\",\n",
    "\"f5ac654b-8f39-427b-856f-4a9a2d4a3020\",\n",
    "\"fea524d4-a1b6-466c-ac48-8777c3fd173d\"\n",
    "]\n",
    "df_rag_s = copy.deepcopy(df_rag)\n",
    "df_norag_s = copy.deepcopy(df_norag)\n",
    "# df_1direct_s = copy.deepcopy(df_1direct)\n",
    "# df_1goalmediation_s = copy.deepcopy(df_1goalmediation)\n",
    "\n",
    "df_rag_silver = df_rag_s[df_rag_s[\"source_uid\"].isin(silver_list)]\n",
    "df_norag_silver = df_norag_s[df_norag_s[\"source_uid\"].isin(silver_list)]\n",
    "# df_1direct_silver = df_1direct_s[df_1direct_s[\"source_uid\"].isin(silver_list)]\n",
    "# df_1goalmediation_silver = df_1goalmediation_s[df_1goalmediation_s[\"source_uid\"].isin(silver_list)]\n",
    "# BRONZE\n",
    "bronze_list =[\n",
    "\"1a894d3c-b3ef-448a-a3de-2b38677cef36\",\n",
    "\"29e00040-6e0f-4f0e-816d-1ac97c1e5485\",\n",
    "\"2ba0becb-58c2-43a1-97bb-7e153a34eb47\",\n",
    "\"2c27b5f1-4af6-49ad-a43c-3efb0c150868\",\n",
    "\"2da5c1ee-bd40-406d-83a7-2f3d93293949\",\n",
    "\"3728f856-0d47-4614-824f-37b6dda8e357\",\n",
    "\"3ec3eab7-842d-409d-8866-42ddcbd24cd9\",\n",
    "\"4fa75795-ddc4-4582-9715-bb7887439263\",\n",
    "\"56fe0c73-77c4-40d9-a687-b2df28d5f7d7\",\n",
    "\"5c15607b-96af-4503-84b4-d1745f3a3ae0\",\n",
    "\"6628a2fb-19e2-4fe5-aedb-92fe5ceee9c9\",\n",
    "\"690f58f1-f18c-4415-bab0-787c2f83d051\",\n",
    "\"6ac1d2ed-1f6b-4828-a1ab-f81c40bd5e80\",\n",
    "\"748536e4-636a-4dc6-b1a7-d9cbfdc1cffd\",\n",
    "\"892629b0-61eb-425d-97f4-7d213074c435\",\n",
    "\"907fd0e7-6821-4e2d-9c62-6d7afad5a9d1\",\n",
    "\"a6419de9-1e40-4793-b21b-9c8d9038835a\",\n",
    "\"ab7ed4f7-10ee-4ccb-bb21-4853c9018b1e\",\n",
    "\"ae2d99c2-1720-4354-bc4d-f7bc3e4ee28d\",\n",
    "\"b4072935-56a6-4765-bb4d-d5f6bbeb95b9\",\n",
    "\"cf95d6a4-6ad7-462c-9700-9f04bd993667\",\n",
    "\"d7a2e92e-dc74-4e79-be04-a86f829fc3ec\",\n",
    "\"daf5384b-ea5c-4cce-bb8a-540a360075bf\",\n",
    "\"e250017c-16ff-4825-9c30-160f391e1549\",\n",
    "\"edc1869c-8a97-44fd-ab47-63fda4a54df9\",\n",
    "\"grp-690f58f1-f18c-4415-bab0-787c2f83d051\",\n",
    "\"grp-b59f7f5d-2991-49a6-8e88-0e2f2db92585\",\n",
    "\"grp-ffd863cb-f06b-404e-a013-54acb61f1ed9\"\n",
    "]\n",
    "df_rag_b = copy.deepcopy(df_rag)\n",
    "df_norag_b = copy.deepcopy(df_norag)\n",
    "# df_1direct_b = copy.deepcopy(df_1direct)\n",
    "# df_1goalmediation_b = copy.deepcopy(df_1goalmediation)\n",
    "\n",
    "df_rag_bronze = df_rag_b[df_rag_b[\"source_uid\"].isin(bronze_list)]\n",
    "df_norag_bronze = df_norag_b[df_norag_b[\"source_uid\"].isin(bronze_list)]\n",
    "# df_1direct_bronze = df_1direct_b[df_1direct_b[\"source_uid\"].isin(bronze_list)]\n",
    "# df_1goalmediation_bronze = df_1goalmediation_b[df_1goalmediation_b[\"source_uid\"].isin(bronze_list)]\n",
    "\n",
    "print(df_rag.shape[0])\n",
    "\n",
    "print(df_rag_gold.shape[0])\n",
    "print(df_norag_gold.shape[0])\n",
    "# print(df_1direct_gold.shape[0])\n",
    "# print(df_1goalmediation_gold.shape[0])\n",
    "\n",
    "print(df_rag_silver.shape[0])\n",
    "print(df_rag_bronze.shape[0])\n",
    "\n",
    "# print(df_1direct_gold.shape[0])\n",
    "# print(df_1direct_silver.shape[0])\n",
    "# print(df_1direct_bronze.shape[0])"
   ]
  },
  {
   "cell_type": "code",
   "execution_count": 5,
   "id": "a828a742",
   "metadata": {},
   "outputs": [],
   "source": [
    "# %matplotlib inline\n",
    "import pandas as pd\n",
    "import matplotlib.pyplot as plt\n",
    "\n",
    "\n",
    "\n",
    "\n",
    "import plotly.express as px\n",
    "def plot_sequence_cursor_interactive(df: pd.DataFrame, mybool: bool, key2plot: str, bin_num:int):\n",
    "    # df = df.dropna(subset=['inclusion_ratio', 'sequence_similarity_sbert', 'sequence_boolean'])\n",
    "    filtered_df = df[df['sequence_boolean'] == mybool]\n",
    "    size1 = df.shape[0]\n",
    "    size2 = filtered_df.shape[0]\n",
    "    print(size1, size2)\n",
    "\n",
    "    #===============================\n",
    "    #ratio of selection\n",
    "    #===============================\n",
    "    # Step 1: Bin the data by inclusion_ratio\n",
    "    bin_width = 1.0/bin_num\n",
    "    # bins = np.arange(0, 1.0001 + bin_width, bin_width)\n",
    "    bins = np.arange(0, 0.9001 + bin_width, bin_width)\n",
    "    df['inclusion_bin'] = pd.cut(df['inclusion_ratio'], bins=bins, include_lowest=True)\n",
    "\n",
    "    # Step 2: Group by bins and calculate ratio\n",
    "    grouped = df.groupby('inclusion_bin')\n",
    "    bin_centers = [interval.mid for interval in grouped.groups.keys()]\n",
    "\n",
    "    ratios = []\n",
    "    for bin_label, group in grouped:\n",
    "        total = len(group)\n",
    "        true_count = group[group['sequence_boolean'] == True].shape[0]\n",
    "        ratio = true_count / total if total > 0 else 0\n",
    "        ratios.append(ratio)\n",
    "\n",
    "    #===============================\n",
    "    # Polynomial fit\n",
    "    N = 1\n",
    "    coeffs = np.polyfit(filtered_df['inclusion_ratio'], filtered_df[key2plot], deg=N)\n",
    "    poly_func = np.poly1d(coeffs)\n",
    "    x_smooth = np.linspace(filtered_df['inclusion_ratio'].min(), filtered_df['inclusion_ratio'].max(), 200)\n",
    "    y_smooth = poly_func(x_smooth)\n",
    "\n",
    "    # Scatter plot with hover info\n",
    "    fig = px.scatter(\n",
    "        filtered_df,\n",
    "        x='inclusion_ratio',\n",
    "        y=key2plot,\n",
    "        hover_data=['idx','source_uid'],\n",
    "        labels={\n",
    "            'inclusion_ratio': 'Inclusion Ratio',\n",
    "            key2plot: key2plot,\n",
    "        },\n",
    "        title=f'Inclusion Ratio vs. {key2plot} (bool={mybool}) {size2}/{size1}',\n",
    "    )\n",
    "\n",
    "    #===============================\n",
    "    # Add polynomial fit line\n",
    "    fig.add_scatter(\n",
    "        x=x_smooth,\n",
    "        y=y_smooth,\n",
    "        mode='lines',\n",
    "        name=f'{N}° polynomial fit',\n",
    "        line=dict(color='red')\n",
    "    )\n",
    "\n",
    "    fig.update_layout(\n",
    "        xaxis=dict(range=[-0.1, 1.1]),\n",
    "        yaxis=dict(range=[0, 1.1]),\n",
    "    )\n",
    "\n",
    "    #===============================\n",
    "    #ratio of selection\n",
    "    #===============================\n",
    "    # Add ratio line trace with secondary y-axis\n",
    "    fig.add_trace(go.Scatter(\n",
    "        x=bin_centers,\n",
    "        y=ratios,\n",
    "        mode='lines+markers',\n",
    "        name='Ratio (mybool=True / all)',\n",
    "        line=dict(color='green', dash='dot'),\n",
    "        yaxis='y2'\n",
    "    ))\n",
    "\n",
    "    # Configure secondary y-axis\n",
    "    fig.update_layout(\n",
    "        yaxis2=dict(\n",
    "            title='Ratio',\n",
    "            overlaying='y',\n",
    "            side='right',\n",
    "            range=[0, 1.1]\n",
    "        )\n",
    "    )\n",
    "\n",
    "    fig.show()\n",
    "\n",
    "import plotly.graph_objects as go\n",
    "def plot_taxonomy_cursor_interactive(df: pd.DataFrame, togglebool: bool, mybool: bool, key2plot: str, bin_num:int):\n",
    "    # Clean data\n",
    "    df = df.dropna(subset=['inclusion_ratio', 'taxonomy_similarity_sbert', 'taxonomy_boolean', 'taxonomy_weighted_similarity'])\n",
    "    size1 = df.shape[0]\n",
    "    \n",
    "    # Filter based on toggle\n",
    "    if togglebool:\n",
    "        filtered_df = df[df['taxonomy_boolean'] == mybool]\n",
    "    else:\n",
    "        filtered_df = df\n",
    "    size2 = filtered_df.shape[0]\n",
    "\n",
    "    #===============================\n",
    "    #ratio of selection\n",
    "    #===============================\n",
    "    # Step 1: Bin the data by inclusion_ratio\n",
    "    bin_width = 1.0/bin_num\n",
    "    # bins = np.arange(0, 1.0001 + bin_width, bin_width)\n",
    "    bins = np.arange(0, 0.9001 + bin_width, bin_width)\n",
    "    df['inclusion_bin'] = pd.cut(df['inclusion_ratio'], bins=bins, include_lowest=True)\n",
    "\n",
    "    # Step 2: Group by bins and calculate ratio\n",
    "    grouped = df.groupby('inclusion_bin')\n",
    "    bin_centers = [interval.mid for interval in grouped.groups.keys()]\n",
    "\n",
    "    ratios = []\n",
    "    for bin_label, group in grouped:\n",
    "        total = len(group)\n",
    "        true_count = group[group['taxonomy_boolean'] == True].shape[0]\n",
    "        ratio = true_count / total if total > 0 else 0\n",
    "        ratios.append(ratio)\n",
    "\n",
    "\n",
    "    # Polynomial fit (linear)\n",
    "    N = 1\n",
    "    coeffs = np.polyfit(filtered_df['inclusion_ratio'], filtered_df[key2plot], deg=N)\n",
    "    poly_func = np.poly1d(coeffs)\n",
    "    x_smooth = np.linspace(filtered_df['inclusion_ratio'].min(), filtered_df['inclusion_ratio'].max(), 200)\n",
    "    y_smooth = poly_func(x_smooth)\n",
    "\n",
    "    # Plotly scatter plot\n",
    "    fig = px.scatter(\n",
    "        filtered_df,\n",
    "        x='inclusion_ratio',\n",
    "        y=key2plot,\n",
    "        hover_data=['source_uid', 'idx'],\n",
    "        labels={\n",
    "            'inclusion_ratio': 'Inclusion Ratio',\n",
    "            key2plot: 'Taxonomy Similarity'\n",
    "        },\n",
    "        title=f'Inclusion Ratio vs. {key2plot} (taxonomy_boolean={mybool}) {size2}/{size1}'\n",
    "    )\n",
    "\n",
    "    # Add polynomial fit line\n",
    "    fig.add_scatter(\n",
    "        x=x_smooth,\n",
    "        y=y_smooth,\n",
    "        mode='lines',\n",
    "        name=f'{N}° polynomial fit',\n",
    "        line=dict(color='red')\n",
    "    )\n",
    "\n",
    "    # Adjust axis and layout\n",
    "    fig.update_layout(\n",
    "        xaxis=dict(range=[-0.1, 1.1]),\n",
    "        yaxis=dict(range=[0, 1.1]),\n",
    "        height=600,\n",
    "        width=800\n",
    "    )\n",
    "\n",
    "    #===============================\n",
    "    #ratio of selection\n",
    "    #===============================\n",
    "    # Add ratio line trace with secondary y-axis\n",
    "    fig.add_trace(go.Scatter(\n",
    "        x=bin_centers,\n",
    "        y=ratios,\n",
    "        mode='lines+markers',\n",
    "        name='Ratio (mybool=True / all)',\n",
    "        line=dict(color='green', dash='dot'),\n",
    "        yaxis='y2'\n",
    "    ))\n",
    "\n",
    "    # Configure secondary y-axis\n",
    "    fig.update_layout(\n",
    "        yaxis2=dict(\n",
    "            title='Ratio',\n",
    "            overlaying='y',\n",
    "            side='right',\n",
    "            range=[0, 1.1]\n",
    "        )\n",
    "    )\n",
    "\n",
    "    fig.show()\n",
    "\n",
    "\n",
    "# #taxonomy_similarity_sbert\n",
    "# #taxonomy_weighted_similarity\n",
    "\n",
    "# plot_taxonomy_cursor_interactive(df_rag, False, True, 'taxonomy_similarity_sbert', 9)\n",
    "# plot_taxonomy_cursor_interactive(df_norag, False, True, 'taxonomy_similarity_sbert',9)\n",
    "\n",
    "# plot_taxonomy_cursor_interactive(df_rag, False, True, 'taxonomy_weighted_similarity', 9)\n",
    "# plot_taxonomy_cursor_interactive(df_norag, False, True, 'taxonomy_weighted_similarity',9)\n",
    "\n",
    "\n",
    "\n",
    "# plot_sequence_cursor_interactive(df_rag, True, 'sequence_similarity_sbert', 9)\n",
    "# plot_sequence_cursor_interactive(df_norag, True, 'sequence_similarity_sbert',9)\n",
    "# # plot_sequence_cursor(df_1direct, True, 'sequence_similarity_sbert')\n",
    "# # plot_sequence_cursor_interactive(df_1goalmediation, True, 'sequence_similarity_sbert')\n",
    "# plot_sequence_cursor_interactive(df_raggoal, True, 'sequence_similarity_sbert', 9)\n",
    "# plot_sequence_cursor_interactive(df_noraggoal, True, 'sequence_similarity_sbert', 9)\n",
    "\n",
    "\n",
    "# plot_sequence_cursor_interactive(df_rag, True, 'sequence_dtw_similarity', 9)\n",
    "# plot_sequence_cursor_interactive(df_norag, True, 'sequence_dtw_similarity',9)\n",
    "# # plot_sequence_cursor(df_1direct, True, 'sequence_dtw_similarity')\n",
    "# # plot_sequence_cursor_interactive(df_1goalmediation, True, 'sequence_dtw_similarity')\n",
    "# plot_sequence_cursor_interactive(df_raggoal, True, 'sequence_dtw_similarity', 9)\n",
    "# plot_sequence_cursor_interactive(df_noraggoal, True, 'sequence_dtw_similarity', 9)\n",
    "\n"
   ]
  },
  {
   "cell_type": "markdown",
   "id": "2e78b119",
   "metadata": {},
   "source": [
    "## v6_evaluator Plots\n",
    "\n",
    "evaluator_1: (core)  \n",
    "evaluator_2: (entity)(core)  \n",
    "evaluator_3: (entity)(sim)(core)  \n",
    "evaluator_h: (entity)(sim)(human)  "
   ]
  },
  {
   "cell_type": "code",
   "execution_count": 18,
   "id": "bd40cf7e",
   "metadata": {},
   "outputs": [
    {
     "name": "stdout",
     "output_type": "stream",
     "text": [
      "bool\n"
     ]
    }
   ],
   "source": [
    "path_eval_results = constants_init.PATH_ROOT + \"f4_evaluate/result_v6/\"\n",
    "baseline_folders = ['output-rag-0602','output-norag-0602','output-1goalmediation-0602','output-1goalmediation-norag-0602']\n",
    "\n",
    "def read_dicts2list(path):\n",
    "    dict_list = []\n",
    "    file_paths = os.listdir(path)\n",
    "    for i in range(len(file_paths)):\n",
    "        file_path = path + f\"/evaluator_{i}.pkl\"\n",
    "        with open(file_path, 'rb') as f:\n",
    "            dict = pickle.load(f)\n",
    "            dict_list.append(dict)\n",
    "    return dict_list\n",
    "\n",
    "def read_json_utf8(path):\n",
    "    with open(path, 'r', encoding='utf-8') as f:\n",
    "        dict = json.load(path)\n",
    "    return dict\n",
    "\n",
    "def convert_dtypes(df):\n",
    "    if df.shape[1] == 13:  # goal baseline\n",
    "        conversion_strings = ['entity_check_seq', 'core_check_seq', 'human_check_tax', 'human_check_seq']\n",
    "    elif df.shape[1] == 16:  # goal baseline\n",
    "        conversion_strings = ['entity_check_seq', 'core_check_seq', 'human_check_tax', 'human_check_seq']        \n",
    "    elif df.shape[1] == 19:  # ours baseline\n",
    "        conversion_strings = ['entity_check_tax', 'entity_check_seq', 'core_check_tax', 'core_check_seq', 'human_check_tax', 'human_check_seq']\n",
    "    elif df.shape[1] ==22: #ours human\n",
    "        conversion_strings = ['entity_check_tax', 'entity_check_seq', 'core_check_tax', 'core_check_seq', 'human_check_tax', 'human_check_seq'] \n",
    "    else:\n",
    "        print(\"convert_dtypes: THIS FUNC NEEDS ADJUSTMENT\")\n",
    "        return df\n",
    "\n",
    "    for col in conversion_strings:\n",
    "        if col in df.columns:\n",
    "            df[col] = df[col].map(lambda x: True if str(x).lower() == 'true' or x == 1 else False)\n",
    "        else:\n",
    "            print(f\"Warning: column '{col}' not found in DataFrame\")\n",
    "\n",
    "    return df\n",
    "        \n",
    "dict_eval_rag = read_dicts2list(path_eval_results + baseline_folders[0])\n",
    "dict_eval_norag = read_dicts2list(path_eval_results + baseline_folders[1])\n",
    "dict_eval_raggoal = read_dicts2list(path_eval_results + baseline_folders[2])\n",
    "dict_eval_noraggoal = read_dicts2list(path_eval_results + baseline_folders[3])\n",
    "\n",
    "# evaluator dictionaries\n",
    "df_eval_rag = pd.DataFrame(dict_eval_rag)\n",
    "df_eval_norag = pd.DataFrame(dict_eval_norag)\n",
    "df_eval_raggoal = pd.DataFrame(dict_eval_raggoal)\n",
    "df_eval_noraggoal = pd.DataFrame(dict_eval_noraggoal)\n",
    "\n",
    "# bool are stored as object type. convert this to bool\n",
    "df_eval_rag = convert_dtypes(df_eval_rag)\n",
    "df_eval_norag = convert_dtypes(df_eval_norag)\n",
    "df_eval_raggoal = convert_dtypes(df_eval_raggoal)\n",
    "df_eval_noraggoal = convert_dtypes(df_eval_noraggoal)\n",
    "\n",
    "print(df_eval_norag['core_check_seq'].dtype)\n",
    "\n",
    "# inclusion ratio must be in the df\n",
    "rag_inclusion_ratio = df_inclusion_ratio(PATH_BASELINE_RAG, baselines[0])\n",
    "norag_inclusion_ratio = df_inclusion_ratio(PATH_BASELINE_NORAG, baselines[1])\n",
    "raggoal_inclusion_ratio = df_inclusion_ratio(PATH_BASELINE_RAGGOAL, baselines[2])\n",
    "noraggoal_inclusion_ratio = df_inclusion_ratio(PATH_BASELINE_NORAGGOAL, baselines[3])\n",
    "\n",
    "df_eval_rag = pd.concat([df_eval_rag, rag_inclusion_ratio], axis=1)\n",
    "df_eval_norag = pd.concat([df_eval_norag, norag_inclusion_ratio], axis=1)\n",
    "df_eval_raggoal = pd.concat([df_eval_raggoal, raggoal_inclusion_ratio], axis=1)\n",
    "df_eval_noraggoal = pd.concat([df_eval_noraggoal, noraggoal_inclusion_ratio], axis=1)\n"
   ]
  },
  {
   "cell_type": "code",
   "execution_count": 7,
   "id": "3c03975e",
   "metadata": {},
   "outputs": [
    {
     "name": "stdout",
     "output_type": "stream",
     "text": [
      "rag core(tax, seq, both): 140 119 107\n",
      "rag entity/core(tax, seq, both): 115 97 93\n",
      "rag entity/sim/core(tax, seq, both): 110 92 89\n"
     ]
    }
   ],
   "source": [
    "#evaluator_rag_:\n",
    "\n",
    "#core check has 3 versions, tax, seq, both\n",
    "efil1_tax_rag = df_eval_rag[df_eval_rag['core_check_tax']==True]\n",
    "efil1_seq_rag = df_eval_rag[df_eval_rag['core_check_seq']==True]\n",
    "efil1_both_rag = df_eval_rag[(df_eval_rag['core_check_tax']==True)&(df_eval_rag['core_check_seq']==True)]\n",
    "print(f\"rag core(tax, seq, both): {efil1_tax_rag.shape[0]} {efil1_seq_rag.shape[0]} {efil1_both_rag.shape[0]}\")\n",
    "\n",
    "#entity check should both pass for (tax, seq) because otherwise sequence generation is impossible\n",
    "efil2_tax_rag = df_eval_rag[(df_eval_rag['entity_check_tax']==True)&(df_eval_rag['entity_check_seq']==True)&(df_eval_rag['core_check_tax']==True)]\n",
    "efil2_seq_rag = df_eval_rag[(df_eval_rag['entity_check_tax']==True)&(df_eval_rag['entity_check_seq']==True)&(df_eval_rag['core_check_seq']==True)]\n",
    "efil2_both_rag = df_eval_rag[(df_eval_rag['entity_check_tax']==True)&(df_eval_rag['entity_check_seq']==True)&(df_eval_rag['core_check_tax']==True)&(df_eval_rag['core_check_seq']==True)]\n",
    "print(f\"rag entity/core(tax, seq, both): {efil2_tax_rag.shape[0]} {efil2_seq_rag.shape[0]} {efil2_both_rag.shape[0]}\")\n",
    "\n",
    "#similarity threshold should both be applied (tax, seq) because otherwise sequence generation is impossible\n",
    "sim_tax_threshold = 0.4 #main itself is 50% weight\n",
    "sim_seq_threshold = 0.3 #same threhold as goalmediation\n",
    "\n",
    "efil3_tax_rag = df_eval_rag[(df_eval_rag['entity_check_tax']==True)&(df_eval_rag['entity_check_seq']==True)&(df_eval_rag['sim_tax3']>sim_tax_threshold)&(df_eval_rag['sim_seq3']>sim_seq_threshold)&(df_eval_rag['core_check_tax']==True)]\n",
    "efil3_seq_rag = df_eval_rag[(df_eval_rag['entity_check_tax']==True)&(df_eval_rag['entity_check_seq']==True)&(df_eval_rag['sim_tax3']>sim_tax_threshold)&(df_eval_rag['sim_seq3']>sim_seq_threshold)&(df_eval_rag['core_check_seq']==True)]\n",
    "efil3_both_rag = df_eval_rag[(df_eval_rag['entity_check_tax']==True)&(df_eval_rag['entity_check_seq']==True)&(df_eval_rag['sim_tax3']>sim_tax_threshold)&(df_eval_rag['sim_seq3']>sim_seq_threshold)&(df_eval_rag['core_check_tax']==True)&(df_eval_rag['core_check_seq']==True)]\n",
    "print(f\"rag entity/sim/core(tax, seq, both): {efil3_tax_rag.shape[0]} {efil3_seq_rag.shape[0]} {efil3_both_rag.shape[0]}\")"
   ]
  },
  {
   "cell_type": "code",
   "execution_count": 8,
   "id": "b0ea3d45",
   "metadata": {},
   "outputs": [
    {
     "name": "stdout",
     "output_type": "stream",
     "text": [
      "norag core(tax, seq, both): 139 127 112\n",
      "norag entity/core(tax, seq, both): 107 108 95\n",
      "norag entity/sim/core(tax, seq, both): 104 105 92\n"
     ]
    }
   ],
   "source": [
    "#evaluator_norag_: entity_check_tax, entity_check_seq, sim_tax1, sim_tax2, sim_tax3, sim_seq1, sim_seq2, sim_seq3, core_check_tax, core_check_tax\n",
    "#core check has 3 versions, tax, seq, both\n",
    "efil1_tax_norag = df_eval_norag[df_eval_norag['core_check_tax']==True]\n",
    "efil1_seq_norag = df_eval_norag[df_eval_norag['core_check_seq']==True]\n",
    "efil1_both_norag = df_eval_norag[(df_eval_norag['core_check_tax']==True)&(df_eval_norag['core_check_seq']==True)]\n",
    "print(f\"norag core(tax, seq, both): {efil1_tax_norag.shape[0]} {efil1_seq_norag.shape[0]} {efil1_both_norag.shape[0]}\")\n",
    "\n",
    "#entity check should both pass for (tax, seq) because otherwise sequence generation is impossible\n",
    "efil2_tax_norag = df_eval_norag[(df_eval_norag['entity_check_tax']==True)&(df_eval_norag['entity_check_seq']==True)&(df_eval_norag['core_check_tax']==True)]\n",
    "efil2_seq_norag = df_eval_norag[(df_eval_norag['entity_check_tax']==True)&(df_eval_norag['entity_check_seq']==True)&(df_eval_norag['core_check_seq']==True)]\n",
    "efil2_both_norag = df_eval_norag[(df_eval_norag['entity_check_tax']==True)&(df_eval_norag['entity_check_seq']==True)&(df_eval_norag['core_check_tax']==True)&(df_eval_norag['core_check_seq']==True)]\n",
    "print(f\"norag entity/core(tax, seq, both): {efil2_tax_norag.shape[0]} {efil2_seq_norag.shape[0]} {efil2_both_norag.shape[0]}\")\n",
    "\n",
    "#similarity threshold should both be applied (tax, seq) because otherwise sequence generation is impossible\n",
    "sim_tax_threshold = 0.4 #main itself is 50% weight\n",
    "sim_seq_threshold = 0.3 #same threhold as goalmediation\n",
    "\n",
    "efil3_tax_norag = df_eval_norag[(df_eval_norag['entity_check_tax']==True)&(df_eval_norag['entity_check_seq']==True)&(df_eval_norag['sim_tax3']>sim_tax_threshold)&(df_eval_norag['sim_seq3']>sim_seq_threshold)&(df_eval_norag['core_check_tax']==True)]\n",
    "efil3_seq_norag = df_eval_norag[(df_eval_norag['entity_check_tax']==True)&(df_eval_norag['entity_check_seq']==True)&(df_eval_norag['sim_tax3']>sim_tax_threshold)&(df_eval_norag['sim_seq3']>sim_seq_threshold)&(df_eval_norag['core_check_seq']==True)]\n",
    "efil3_both_norag = df_eval_norag[(df_eval_norag['entity_check_tax']==True)&(df_eval_norag['entity_check_seq']==True)&(df_eval_norag['sim_tax3']>sim_tax_threshold)&(df_eval_norag['sim_seq3']>sim_seq_threshold)&(df_eval_norag['core_check_tax']==True)&(df_eval_norag['core_check_seq']==True)]\n",
    "print(f\"norag entity/sim/core(tax, seq, both): {efil3_tax_norag.shape[0]} {efil3_seq_norag.shape[0]} {efil3_both_norag.shape[0]}\")"
   ]
  },
  {
   "cell_type": "code",
   "execution_count": 9,
   "id": "08b91924",
   "metadata": {},
   "outputs": [
    {
     "name": "stdout",
     "output_type": "stream",
     "text": [
      "rag (core) (entity,core) (entity,sim,core): 132 106 106\n",
      "norag (core) (entity,core) (entity,sim,core): 130 95 95\n"
     ]
    }
   ],
   "source": [
    "#evaluaotr_raggoal_ entity_check_seq, sim_seq1, sim_seq2, sim_seq3\", core_check_seq, human_check_tax, human_check_seq\n",
    "sim_seq_threshold = 0.3\n",
    "efil1_raggoal = df_eval_raggoal[df_eval_raggoal['core_check_seq']==True]\n",
    "efil2_raggoal = df_eval_raggoal[(df_eval_raggoal['entity_check_seq']==True) & (df_eval_raggoal['core_check_seq']==True)]\n",
    "efil3_raggoal= df_eval_raggoal[(df_eval_raggoal['entity_check_seq']==True) & (df_eval_raggoal['sim_seq3']>sim_seq_threshold) & (df_eval_raggoal['core_check_seq']==True)]\n",
    "print(f\"rag (core) (entity,core) (entity,sim,core): {efil1_raggoal.shape[0]} {efil2_raggoal.shape[0]} {efil3_raggoal.shape[0]}\")\n",
    "# efilh_raggoal\n",
    "\n",
    "#evaluaotr_noraggoal_ entity_check_seq, sim_seq1, sim_seq2, sim_seq3\", core_check_seq, human_check_tax, human_check_seq\n",
    "efil1_noraggoal = df_eval_noraggoal[df_eval_noraggoal['core_check_seq']==True]\n",
    "efil2_noraggoal = df_eval_noraggoal[(df_eval_noraggoal['entity_check_seq']==True) & (df_eval_noraggoal['core_check_seq']==True)]\n",
    "efil3_noraggoal = df_eval_noraggoal[(df_eval_noraggoal['entity_check_seq']==True) & (df_eval_noraggoal['sim_seq3']> sim_seq_threshold) & (df_eval_noraggoal['core_check_seq'])]\n",
    "print(f\"norag (core) (entity,core) (entity,sim,core): {efil1_noraggoal.shape[0]} {efil2_noraggoal.shape[0]} {efil3_noraggoal.shape[0]}\")"
   ]
  },
  {
   "cell_type": "code",
   "execution_count": 10,
   "id": "4947ed75",
   "metadata": {},
   "outputs": [
    {
     "data": {
      "application/vnd.plotly.v1+json": {
       "config": {
        "plotlyServerURL": "https://plot.ly"
       },
       "data": [
        {
         "line": {
          "color": "blue",
          "dash": "solid"
         },
         "marker": {
          "size": 8,
          "symbol": "circle"
         },
         "mode": "lines+markers",
         "name": "ours-(strict seq examiner)",
         "type": "scatter",
         "x": [
          0.0625,
          0.1875,
          0.3125,
          0.4375,
          0.5625,
          0.6875,
          0.8125,
          0.9375
         ],
         "y": {
          "bdata": "KK+hvIbyqj8RERERERHBP5IkSZIkSdI/MzMzMzMz0z8LWchCFrLgP4wxxhhjjOE/0UUXXXTR5T9iJ3ZiJ3biPw==",
          "dtype": "f8"
         }
        },
        {
         "line": {
          "color": "red",
          "dash": "dot"
         },
         "marker": {
          "size": 8,
          "symbol": "square"
         },
         "mode": "lines+markers",
         "name": "norag-(strict seq examiner)",
         "type": "scatter",
         "x": [
          0.0625,
          0.1875,
          0.3125,
          0.4375,
          0.5625,
          0.6875,
          0.8125,
          0.9375
         ],
         "y": {
          "bdata": "AAAAAAAAAACamZmZmZnJP1VVVVVVVdU/3t3d3d3dzT8hC1nIQhbiP84555xzzuk/0UUXXXTR5T+e2Imd2InlPw==",
          "dtype": "f8"
         }
        }
       ],
       "layout": {
        "height": 500,
        "legend": {
         "title": {
          "text": "Legend"
         },
         "x": 0.01,
         "y": 0.99
        },
        "template": {
         "data": {
          "bar": [
           {
            "error_x": {
             "color": "#2a3f5f"
            },
            "error_y": {
             "color": "#2a3f5f"
            },
            "marker": {
             "line": {
              "color": "#E5ECF6",
              "width": 0.5
             },
             "pattern": {
              "fillmode": "overlay",
              "size": 10,
              "solidity": 0.2
             }
            },
            "type": "bar"
           }
          ],
          "barpolar": [
           {
            "marker": {
             "line": {
              "color": "#E5ECF6",
              "width": 0.5
             },
             "pattern": {
              "fillmode": "overlay",
              "size": 10,
              "solidity": 0.2
             }
            },
            "type": "barpolar"
           }
          ],
          "carpet": [
           {
            "aaxis": {
             "endlinecolor": "#2a3f5f",
             "gridcolor": "white",
             "linecolor": "white",
             "minorgridcolor": "white",
             "startlinecolor": "#2a3f5f"
            },
            "baxis": {
             "endlinecolor": "#2a3f5f",
             "gridcolor": "white",
             "linecolor": "white",
             "minorgridcolor": "white",
             "startlinecolor": "#2a3f5f"
            },
            "type": "carpet"
           }
          ],
          "choropleth": [
           {
            "colorbar": {
             "outlinewidth": 0,
             "ticks": ""
            },
            "type": "choropleth"
           }
          ],
          "contour": [
           {
            "colorbar": {
             "outlinewidth": 0,
             "ticks": ""
            },
            "colorscale": [
             [
              0,
              "#0d0887"
             ],
             [
              0.1111111111111111,
              "#46039f"
             ],
             [
              0.2222222222222222,
              "#7201a8"
             ],
             [
              0.3333333333333333,
              "#9c179e"
             ],
             [
              0.4444444444444444,
              "#bd3786"
             ],
             [
              0.5555555555555556,
              "#d8576b"
             ],
             [
              0.6666666666666666,
              "#ed7953"
             ],
             [
              0.7777777777777778,
              "#fb9f3a"
             ],
             [
              0.8888888888888888,
              "#fdca26"
             ],
             [
              1,
              "#f0f921"
             ]
            ],
            "type": "contour"
           }
          ],
          "contourcarpet": [
           {
            "colorbar": {
             "outlinewidth": 0,
             "ticks": ""
            },
            "type": "contourcarpet"
           }
          ],
          "heatmap": [
           {
            "colorbar": {
             "outlinewidth": 0,
             "ticks": ""
            },
            "colorscale": [
             [
              0,
              "#0d0887"
             ],
             [
              0.1111111111111111,
              "#46039f"
             ],
             [
              0.2222222222222222,
              "#7201a8"
             ],
             [
              0.3333333333333333,
              "#9c179e"
             ],
             [
              0.4444444444444444,
              "#bd3786"
             ],
             [
              0.5555555555555556,
              "#d8576b"
             ],
             [
              0.6666666666666666,
              "#ed7953"
             ],
             [
              0.7777777777777778,
              "#fb9f3a"
             ],
             [
              0.8888888888888888,
              "#fdca26"
             ],
             [
              1,
              "#f0f921"
             ]
            ],
            "type": "heatmap"
           }
          ],
          "histogram": [
           {
            "marker": {
             "pattern": {
              "fillmode": "overlay",
              "size": 10,
              "solidity": 0.2
             }
            },
            "type": "histogram"
           }
          ],
          "histogram2d": [
           {
            "colorbar": {
             "outlinewidth": 0,
             "ticks": ""
            },
            "colorscale": [
             [
              0,
              "#0d0887"
             ],
             [
              0.1111111111111111,
              "#46039f"
             ],
             [
              0.2222222222222222,
              "#7201a8"
             ],
             [
              0.3333333333333333,
              "#9c179e"
             ],
             [
              0.4444444444444444,
              "#bd3786"
             ],
             [
              0.5555555555555556,
              "#d8576b"
             ],
             [
              0.6666666666666666,
              "#ed7953"
             ],
             [
              0.7777777777777778,
              "#fb9f3a"
             ],
             [
              0.8888888888888888,
              "#fdca26"
             ],
             [
              1,
              "#f0f921"
             ]
            ],
            "type": "histogram2d"
           }
          ],
          "histogram2dcontour": [
           {
            "colorbar": {
             "outlinewidth": 0,
             "ticks": ""
            },
            "colorscale": [
             [
              0,
              "#0d0887"
             ],
             [
              0.1111111111111111,
              "#46039f"
             ],
             [
              0.2222222222222222,
              "#7201a8"
             ],
             [
              0.3333333333333333,
              "#9c179e"
             ],
             [
              0.4444444444444444,
              "#bd3786"
             ],
             [
              0.5555555555555556,
              "#d8576b"
             ],
             [
              0.6666666666666666,
              "#ed7953"
             ],
             [
              0.7777777777777778,
              "#fb9f3a"
             ],
             [
              0.8888888888888888,
              "#fdca26"
             ],
             [
              1,
              "#f0f921"
             ]
            ],
            "type": "histogram2dcontour"
           }
          ],
          "mesh3d": [
           {
            "colorbar": {
             "outlinewidth": 0,
             "ticks": ""
            },
            "type": "mesh3d"
           }
          ],
          "parcoords": [
           {
            "line": {
             "colorbar": {
              "outlinewidth": 0,
              "ticks": ""
             }
            },
            "type": "parcoords"
           }
          ],
          "pie": [
           {
            "automargin": true,
            "type": "pie"
           }
          ],
          "scatter": [
           {
            "fillpattern": {
             "fillmode": "overlay",
             "size": 10,
             "solidity": 0.2
            },
            "type": "scatter"
           }
          ],
          "scatter3d": [
           {
            "line": {
             "colorbar": {
              "outlinewidth": 0,
              "ticks": ""
             }
            },
            "marker": {
             "colorbar": {
              "outlinewidth": 0,
              "ticks": ""
             }
            },
            "type": "scatter3d"
           }
          ],
          "scattercarpet": [
           {
            "marker": {
             "colorbar": {
              "outlinewidth": 0,
              "ticks": ""
             }
            },
            "type": "scattercarpet"
           }
          ],
          "scattergeo": [
           {
            "marker": {
             "colorbar": {
              "outlinewidth": 0,
              "ticks": ""
             }
            },
            "type": "scattergeo"
           }
          ],
          "scattergl": [
           {
            "marker": {
             "colorbar": {
              "outlinewidth": 0,
              "ticks": ""
             }
            },
            "type": "scattergl"
           }
          ],
          "scattermap": [
           {
            "marker": {
             "colorbar": {
              "outlinewidth": 0,
              "ticks": ""
             }
            },
            "type": "scattermap"
           }
          ],
          "scattermapbox": [
           {
            "marker": {
             "colorbar": {
              "outlinewidth": 0,
              "ticks": ""
             }
            },
            "type": "scattermapbox"
           }
          ],
          "scatterpolar": [
           {
            "marker": {
             "colorbar": {
              "outlinewidth": 0,
              "ticks": ""
             }
            },
            "type": "scatterpolar"
           }
          ],
          "scatterpolargl": [
           {
            "marker": {
             "colorbar": {
              "outlinewidth": 0,
              "ticks": ""
             }
            },
            "type": "scatterpolargl"
           }
          ],
          "scatterternary": [
           {
            "marker": {
             "colorbar": {
              "outlinewidth": 0,
              "ticks": ""
             }
            },
            "type": "scatterternary"
           }
          ],
          "surface": [
           {
            "colorbar": {
             "outlinewidth": 0,
             "ticks": ""
            },
            "colorscale": [
             [
              0,
              "#0d0887"
             ],
             [
              0.1111111111111111,
              "#46039f"
             ],
             [
              0.2222222222222222,
              "#7201a8"
             ],
             [
              0.3333333333333333,
              "#9c179e"
             ],
             [
              0.4444444444444444,
              "#bd3786"
             ],
             [
              0.5555555555555556,
              "#d8576b"
             ],
             [
              0.6666666666666666,
              "#ed7953"
             ],
             [
              0.7777777777777778,
              "#fb9f3a"
             ],
             [
              0.8888888888888888,
              "#fdca26"
             ],
             [
              1,
              "#f0f921"
             ]
            ],
            "type": "surface"
           }
          ],
          "table": [
           {
            "cells": {
             "fill": {
              "color": "#EBF0F8"
             },
             "line": {
              "color": "white"
             }
            },
            "header": {
             "fill": {
              "color": "#C8D4E3"
             },
             "line": {
              "color": "white"
             }
            },
            "type": "table"
           }
          ]
         },
         "layout": {
          "annotationdefaults": {
           "arrowcolor": "#2a3f5f",
           "arrowhead": 0,
           "arrowwidth": 1
          },
          "autotypenumbers": "strict",
          "coloraxis": {
           "colorbar": {
            "outlinewidth": 0,
            "ticks": ""
           }
          },
          "colorscale": {
           "diverging": [
            [
             0,
             "#8e0152"
            ],
            [
             0.1,
             "#c51b7d"
            ],
            [
             0.2,
             "#de77ae"
            ],
            [
             0.3,
             "#f1b6da"
            ],
            [
             0.4,
             "#fde0ef"
            ],
            [
             0.5,
             "#f7f7f7"
            ],
            [
             0.6,
             "#e6f5d0"
            ],
            [
             0.7,
             "#b8e186"
            ],
            [
             0.8,
             "#7fbc41"
            ],
            [
             0.9,
             "#4d9221"
            ],
            [
             1,
             "#276419"
            ]
           ],
           "sequential": [
            [
             0,
             "#0d0887"
            ],
            [
             0.1111111111111111,
             "#46039f"
            ],
            [
             0.2222222222222222,
             "#7201a8"
            ],
            [
             0.3333333333333333,
             "#9c179e"
            ],
            [
             0.4444444444444444,
             "#bd3786"
            ],
            [
             0.5555555555555556,
             "#d8576b"
            ],
            [
             0.6666666666666666,
             "#ed7953"
            ],
            [
             0.7777777777777778,
             "#fb9f3a"
            ],
            [
             0.8888888888888888,
             "#fdca26"
            ],
            [
             1,
             "#f0f921"
            ]
           ],
           "sequentialminus": [
            [
             0,
             "#0d0887"
            ],
            [
             0.1111111111111111,
             "#46039f"
            ],
            [
             0.2222222222222222,
             "#7201a8"
            ],
            [
             0.3333333333333333,
             "#9c179e"
            ],
            [
             0.4444444444444444,
             "#bd3786"
            ],
            [
             0.5555555555555556,
             "#d8576b"
            ],
            [
             0.6666666666666666,
             "#ed7953"
            ],
            [
             0.7777777777777778,
             "#fb9f3a"
            ],
            [
             0.8888888888888888,
             "#fdca26"
            ],
            [
             1,
             "#f0f921"
            ]
           ]
          },
          "colorway": [
           "#636efa",
           "#EF553B",
           "#00cc96",
           "#ab63fa",
           "#FFA15A",
           "#19d3f3",
           "#FF6692",
           "#B6E880",
           "#FF97FF",
           "#FECB52"
          ],
          "font": {
           "color": "#2a3f5f"
          },
          "geo": {
           "bgcolor": "white",
           "lakecolor": "white",
           "landcolor": "#E5ECF6",
           "showlakes": true,
           "showland": true,
           "subunitcolor": "white"
          },
          "hoverlabel": {
           "align": "left"
          },
          "hovermode": "closest",
          "mapbox": {
           "style": "light"
          },
          "paper_bgcolor": "white",
          "plot_bgcolor": "#E5ECF6",
          "polar": {
           "angularaxis": {
            "gridcolor": "white",
            "linecolor": "white",
            "ticks": ""
           },
           "bgcolor": "#E5ECF6",
           "radialaxis": {
            "gridcolor": "white",
            "linecolor": "white",
            "ticks": ""
           }
          },
          "scene": {
           "xaxis": {
            "backgroundcolor": "#E5ECF6",
            "gridcolor": "white",
            "gridwidth": 2,
            "linecolor": "white",
            "showbackground": true,
            "ticks": "",
            "zerolinecolor": "white"
           },
           "yaxis": {
            "backgroundcolor": "#E5ECF6",
            "gridcolor": "white",
            "gridwidth": 2,
            "linecolor": "white",
            "showbackground": true,
            "ticks": "",
            "zerolinecolor": "white"
           },
           "zaxis": {
            "backgroundcolor": "#E5ECF6",
            "gridcolor": "white",
            "gridwidth": 2,
            "linecolor": "white",
            "showbackground": true,
            "ticks": "",
            "zerolinecolor": "white"
           }
          },
          "shapedefaults": {
           "line": {
            "color": "#2a3f5f"
           }
          },
          "ternary": {
           "aaxis": {
            "gridcolor": "white",
            "linecolor": "white",
            "ticks": ""
           },
           "baxis": {
            "gridcolor": "white",
            "linecolor": "white",
            "ticks": ""
           },
           "bgcolor": "#E5ECF6",
           "caxis": {
            "gridcolor": "white",
            "linecolor": "white",
            "ticks": ""
           }
          },
          "title": {
           "x": 0.05
          },
          "xaxis": {
           "automargin": true,
           "gridcolor": "white",
           "linecolor": "white",
           "ticks": "",
           "title": {
            "standoff": 15
           },
           "zerolinecolor": "white",
           "zerolinewidth": 2
          },
          "yaxis": {
           "automargin": true,
           "gridcolor": "white",
           "linecolor": "white",
           "ticks": "",
           "title": {
            "standoff": 15
           },
           "zerolinecolor": "white",
           "zerolinewidth": 2
          }
         }
        },
        "title": {
         "text": "Selection Ratio vs. Inclusion Ratio (stric sequence binary examiner)",
         "x": 0.5,
         "xanchor": "center"
        },
        "width": 900,
        "xaxis": {
         "range": [
          0,
          1
         ],
         "title": {
          "text": "Inclusion Ratio"
         }
        },
        "yaxis": {
         "range": [
          0,
          1
         ],
         "title": {
          "text": "Selection Ratio"
         }
        }
       }
      }
     },
     "metadata": {},
     "output_type": "display_data"
    },
    {
     "data": {
      "application/vnd.plotly.v1+json": {
       "config": {
        "plotlyServerURL": "https://plot.ly"
       },
       "data": [
        {
         "line": {
          "color": "blue",
          "dash": "solid"
         },
         "marker": {
          "size": 8,
          "symbol": "circle"
         },
         "mode": "lines+markers",
         "name": "ours",
         "type": "scatter",
         "x": [
          0.0625,
          0.1875,
          0.3125,
          0.4375,
          0.5625,
          0.6875,
          0.8125,
          0.9375
         ],
         "y": {
          "bdata": "KK+hvIbyqj8RERERERHBPxiGYRiGYcg/MzMzMzMz0z8LWchCFrLgP4wxxhhjjOE/0UUXXXTR5T+KndiJndjhPw==",
          "dtype": "f8"
         }
        },
        {
         "line": {
          "color": "red",
          "dash": "dot"
         },
         "marker": {
          "size": 8,
          "symbol": "square"
         },
         "mode": "lines+markers",
         "name": "base1 (no RAG)",
         "type": "scatter",
         "x": [
          0.0625,
          0.1875,
          0.3125,
          0.4375,
          0.5625,
          0.6875,
          0.8125,
          0.9375
         ],
         "y": {
          "bdata": "AAAAAAAAAACamZmZmZnJP5IkSZIkSdI/ERERERERwT/qTW9605veP7bWWmutteY/AAAAAAAA4D+e2Imd2InlPw==",
          "dtype": "f8"
         }
        }
       ],
       "layout": {
        "height": 500,
        "legend": {
         "title": {
          "text": "Legend"
         },
         "x": 0.01,
         "y": 0.99
        },
        "template": {
         "data": {
          "bar": [
           {
            "error_x": {
             "color": "#2a3f5f"
            },
            "error_y": {
             "color": "#2a3f5f"
            },
            "marker": {
             "line": {
              "color": "#E5ECF6",
              "width": 0.5
             },
             "pattern": {
              "fillmode": "overlay",
              "size": 10,
              "solidity": 0.2
             }
            },
            "type": "bar"
           }
          ],
          "barpolar": [
           {
            "marker": {
             "line": {
              "color": "#E5ECF6",
              "width": 0.5
             },
             "pattern": {
              "fillmode": "overlay",
              "size": 10,
              "solidity": 0.2
             }
            },
            "type": "barpolar"
           }
          ],
          "carpet": [
           {
            "aaxis": {
             "endlinecolor": "#2a3f5f",
             "gridcolor": "white",
             "linecolor": "white",
             "minorgridcolor": "white",
             "startlinecolor": "#2a3f5f"
            },
            "baxis": {
             "endlinecolor": "#2a3f5f",
             "gridcolor": "white",
             "linecolor": "white",
             "minorgridcolor": "white",
             "startlinecolor": "#2a3f5f"
            },
            "type": "carpet"
           }
          ],
          "choropleth": [
           {
            "colorbar": {
             "outlinewidth": 0,
             "ticks": ""
            },
            "type": "choropleth"
           }
          ],
          "contour": [
           {
            "colorbar": {
             "outlinewidth": 0,
             "ticks": ""
            },
            "colorscale": [
             [
              0,
              "#0d0887"
             ],
             [
              0.1111111111111111,
              "#46039f"
             ],
             [
              0.2222222222222222,
              "#7201a8"
             ],
             [
              0.3333333333333333,
              "#9c179e"
             ],
             [
              0.4444444444444444,
              "#bd3786"
             ],
             [
              0.5555555555555556,
              "#d8576b"
             ],
             [
              0.6666666666666666,
              "#ed7953"
             ],
             [
              0.7777777777777778,
              "#fb9f3a"
             ],
             [
              0.8888888888888888,
              "#fdca26"
             ],
             [
              1,
              "#f0f921"
             ]
            ],
            "type": "contour"
           }
          ],
          "contourcarpet": [
           {
            "colorbar": {
             "outlinewidth": 0,
             "ticks": ""
            },
            "type": "contourcarpet"
           }
          ],
          "heatmap": [
           {
            "colorbar": {
             "outlinewidth": 0,
             "ticks": ""
            },
            "colorscale": [
             [
              0,
              "#0d0887"
             ],
             [
              0.1111111111111111,
              "#46039f"
             ],
             [
              0.2222222222222222,
              "#7201a8"
             ],
             [
              0.3333333333333333,
              "#9c179e"
             ],
             [
              0.4444444444444444,
              "#bd3786"
             ],
             [
              0.5555555555555556,
              "#d8576b"
             ],
             [
              0.6666666666666666,
              "#ed7953"
             ],
             [
              0.7777777777777778,
              "#fb9f3a"
             ],
             [
              0.8888888888888888,
              "#fdca26"
             ],
             [
              1,
              "#f0f921"
             ]
            ],
            "type": "heatmap"
           }
          ],
          "histogram": [
           {
            "marker": {
             "pattern": {
              "fillmode": "overlay",
              "size": 10,
              "solidity": 0.2
             }
            },
            "type": "histogram"
           }
          ],
          "histogram2d": [
           {
            "colorbar": {
             "outlinewidth": 0,
             "ticks": ""
            },
            "colorscale": [
             [
              0,
              "#0d0887"
             ],
             [
              0.1111111111111111,
              "#46039f"
             ],
             [
              0.2222222222222222,
              "#7201a8"
             ],
             [
              0.3333333333333333,
              "#9c179e"
             ],
             [
              0.4444444444444444,
              "#bd3786"
             ],
             [
              0.5555555555555556,
              "#d8576b"
             ],
             [
              0.6666666666666666,
              "#ed7953"
             ],
             [
              0.7777777777777778,
              "#fb9f3a"
             ],
             [
              0.8888888888888888,
              "#fdca26"
             ],
             [
              1,
              "#f0f921"
             ]
            ],
            "type": "histogram2d"
           }
          ],
          "histogram2dcontour": [
           {
            "colorbar": {
             "outlinewidth": 0,
             "ticks": ""
            },
            "colorscale": [
             [
              0,
              "#0d0887"
             ],
             [
              0.1111111111111111,
              "#46039f"
             ],
             [
              0.2222222222222222,
              "#7201a8"
             ],
             [
              0.3333333333333333,
              "#9c179e"
             ],
             [
              0.4444444444444444,
              "#bd3786"
             ],
             [
              0.5555555555555556,
              "#d8576b"
             ],
             [
              0.6666666666666666,
              "#ed7953"
             ],
             [
              0.7777777777777778,
              "#fb9f3a"
             ],
             [
              0.8888888888888888,
              "#fdca26"
             ],
             [
              1,
              "#f0f921"
             ]
            ],
            "type": "histogram2dcontour"
           }
          ],
          "mesh3d": [
           {
            "colorbar": {
             "outlinewidth": 0,
             "ticks": ""
            },
            "type": "mesh3d"
           }
          ],
          "parcoords": [
           {
            "line": {
             "colorbar": {
              "outlinewidth": 0,
              "ticks": ""
             }
            },
            "type": "parcoords"
           }
          ],
          "pie": [
           {
            "automargin": true,
            "type": "pie"
           }
          ],
          "scatter": [
           {
            "fillpattern": {
             "fillmode": "overlay",
             "size": 10,
             "solidity": 0.2
            },
            "type": "scatter"
           }
          ],
          "scatter3d": [
           {
            "line": {
             "colorbar": {
              "outlinewidth": 0,
              "ticks": ""
             }
            },
            "marker": {
             "colorbar": {
              "outlinewidth": 0,
              "ticks": ""
             }
            },
            "type": "scatter3d"
           }
          ],
          "scattercarpet": [
           {
            "marker": {
             "colorbar": {
              "outlinewidth": 0,
              "ticks": ""
             }
            },
            "type": "scattercarpet"
           }
          ],
          "scattergeo": [
           {
            "marker": {
             "colorbar": {
              "outlinewidth": 0,
              "ticks": ""
             }
            },
            "type": "scattergeo"
           }
          ],
          "scattergl": [
           {
            "marker": {
             "colorbar": {
              "outlinewidth": 0,
              "ticks": ""
             }
            },
            "type": "scattergl"
           }
          ],
          "scattermap": [
           {
            "marker": {
             "colorbar": {
              "outlinewidth": 0,
              "ticks": ""
             }
            },
            "type": "scattermap"
           }
          ],
          "scattermapbox": [
           {
            "marker": {
             "colorbar": {
              "outlinewidth": 0,
              "ticks": ""
             }
            },
            "type": "scattermapbox"
           }
          ],
          "scatterpolar": [
           {
            "marker": {
             "colorbar": {
              "outlinewidth": 0,
              "ticks": ""
             }
            },
            "type": "scatterpolar"
           }
          ],
          "scatterpolargl": [
           {
            "marker": {
             "colorbar": {
              "outlinewidth": 0,
              "ticks": ""
             }
            },
            "type": "scatterpolargl"
           }
          ],
          "scatterternary": [
           {
            "marker": {
             "colorbar": {
              "outlinewidth": 0,
              "ticks": ""
             }
            },
            "type": "scatterternary"
           }
          ],
          "surface": [
           {
            "colorbar": {
             "outlinewidth": 0,
             "ticks": ""
            },
            "colorscale": [
             [
              0,
              "#0d0887"
             ],
             [
              0.1111111111111111,
              "#46039f"
             ],
             [
              0.2222222222222222,
              "#7201a8"
             ],
             [
              0.3333333333333333,
              "#9c179e"
             ],
             [
              0.4444444444444444,
              "#bd3786"
             ],
             [
              0.5555555555555556,
              "#d8576b"
             ],
             [
              0.6666666666666666,
              "#ed7953"
             ],
             [
              0.7777777777777778,
              "#fb9f3a"
             ],
             [
              0.8888888888888888,
              "#fdca26"
             ],
             [
              1,
              "#f0f921"
             ]
            ],
            "type": "surface"
           }
          ],
          "table": [
           {
            "cells": {
             "fill": {
              "color": "#EBF0F8"
             },
             "line": {
              "color": "white"
             }
            },
            "header": {
             "fill": {
              "color": "#C8D4E3"
             },
             "line": {
              "color": "white"
             }
            },
            "type": "table"
           }
          ]
         },
         "layout": {
          "annotationdefaults": {
           "arrowcolor": "#2a3f5f",
           "arrowhead": 0,
           "arrowwidth": 1
          },
          "autotypenumbers": "strict",
          "coloraxis": {
           "colorbar": {
            "outlinewidth": 0,
            "ticks": ""
           }
          },
          "colorscale": {
           "diverging": [
            [
             0,
             "#8e0152"
            ],
            [
             0.1,
             "#c51b7d"
            ],
            [
             0.2,
             "#de77ae"
            ],
            [
             0.3,
             "#f1b6da"
            ],
            [
             0.4,
             "#fde0ef"
            ],
            [
             0.5,
             "#f7f7f7"
            ],
            [
             0.6,
             "#e6f5d0"
            ],
            [
             0.7,
             "#b8e186"
            ],
            [
             0.8,
             "#7fbc41"
            ],
            [
             0.9,
             "#4d9221"
            ],
            [
             1,
             "#276419"
            ]
           ],
           "sequential": [
            [
             0,
             "#0d0887"
            ],
            [
             0.1111111111111111,
             "#46039f"
            ],
            [
             0.2222222222222222,
             "#7201a8"
            ],
            [
             0.3333333333333333,
             "#9c179e"
            ],
            [
             0.4444444444444444,
             "#bd3786"
            ],
            [
             0.5555555555555556,
             "#d8576b"
            ],
            [
             0.6666666666666666,
             "#ed7953"
            ],
            [
             0.7777777777777778,
             "#fb9f3a"
            ],
            [
             0.8888888888888888,
             "#fdca26"
            ],
            [
             1,
             "#f0f921"
            ]
           ],
           "sequentialminus": [
            [
             0,
             "#0d0887"
            ],
            [
             0.1111111111111111,
             "#46039f"
            ],
            [
             0.2222222222222222,
             "#7201a8"
            ],
            [
             0.3333333333333333,
             "#9c179e"
            ],
            [
             0.4444444444444444,
             "#bd3786"
            ],
            [
             0.5555555555555556,
             "#d8576b"
            ],
            [
             0.6666666666666666,
             "#ed7953"
            ],
            [
             0.7777777777777778,
             "#fb9f3a"
            ],
            [
             0.8888888888888888,
             "#fdca26"
            ],
            [
             1,
             "#f0f921"
            ]
           ]
          },
          "colorway": [
           "#636efa",
           "#EF553B",
           "#00cc96",
           "#ab63fa",
           "#FFA15A",
           "#19d3f3",
           "#FF6692",
           "#B6E880",
           "#FF97FF",
           "#FECB52"
          ],
          "font": {
           "color": "#2a3f5f"
          },
          "geo": {
           "bgcolor": "white",
           "lakecolor": "white",
           "landcolor": "#E5ECF6",
           "showlakes": true,
           "showland": true,
           "subunitcolor": "white"
          },
          "hoverlabel": {
           "align": "left"
          },
          "hovermode": "closest",
          "mapbox": {
           "style": "light"
          },
          "paper_bgcolor": "white",
          "plot_bgcolor": "#E5ECF6",
          "polar": {
           "angularaxis": {
            "gridcolor": "white",
            "linecolor": "white",
            "ticks": ""
           },
           "bgcolor": "#E5ECF6",
           "radialaxis": {
            "gridcolor": "white",
            "linecolor": "white",
            "ticks": ""
           }
          },
          "scene": {
           "xaxis": {
            "backgroundcolor": "#E5ECF6",
            "gridcolor": "white",
            "gridwidth": 2,
            "linecolor": "white",
            "showbackground": true,
            "ticks": "",
            "zerolinecolor": "white"
           },
           "yaxis": {
            "backgroundcolor": "#E5ECF6",
            "gridcolor": "white",
            "gridwidth": 2,
            "linecolor": "white",
            "showbackground": true,
            "ticks": "",
            "zerolinecolor": "white"
           },
           "zaxis": {
            "backgroundcolor": "#E5ECF6",
            "gridcolor": "white",
            "gridwidth": 2,
            "linecolor": "white",
            "showbackground": true,
            "ticks": "",
            "zerolinecolor": "white"
           }
          },
          "shapedefaults": {
           "line": {
            "color": "#2a3f5f"
           }
          },
          "ternary": {
           "aaxis": {
            "gridcolor": "white",
            "linecolor": "white",
            "ticks": ""
           },
           "baxis": {
            "gridcolor": "white",
            "linecolor": "white",
            "ticks": ""
           },
           "bgcolor": "#E5ECF6",
           "caxis": {
            "gridcolor": "white",
            "linecolor": "white",
            "ticks": ""
           }
          },
          "title": {
           "x": 0.05
          },
          "xaxis": {
           "automargin": true,
           "gridcolor": "white",
           "linecolor": "white",
           "ticks": "",
           "title": {
            "standoff": 15
           },
           "zerolinecolor": "white",
           "zerolinewidth": 2
          },
          "yaxis": {
           "automargin": true,
           "gridcolor": "white",
           "linecolor": "white",
           "ticks": "",
           "title": {
            "standoff": 15
           },
           "zerolinecolor": "white",
           "zerolinewidth": 2
          }
         }
        },
        "title": {
         "text": "Selection Ratio vs. Inclusion Ratio (strict evaluator)",
         "x": 0.5,
         "xanchor": "center"
        },
        "width": 900,
        "xaxis": {
         "range": [
          0,
          1
         ],
         "title": {
          "text": "Inclusion Ratio"
         }
        },
        "yaxis": {
         "range": [
          0,
          1
         ],
         "title": {
          "text": "Selection Ratio"
         }
        }
       }
      }
     },
     "metadata": {},
     "output_type": "display_data"
    },
    {
     "data": {
      "application/vnd.plotly.v1+json": {
       "config": {
        "plotlyServerURL": "https://plot.ly"
       },
       "data": [
        {
         "line": {
          "color": "blue",
          "dash": "solid"
         },
         "marker": {
          "size": 8,
          "symbol": "circle"
         },
         "mode": "lines+markers",
         "name": "base2 (no Taxonomy)",
         "type": "scatter",
         "x": [
          0.0625,
          0.1875,
          0.3125,
          0.4375,
          0.5625,
          0.6875,
          0.8125,
          0.9375
         ],
         "y": {
          "bdata": "KK+hvIbyuj8RERERERHRP1VVVVVVVdU/AAAAAAAA4D9Ob3rTm97kP5VSSimllOI/0UUXXXTR5T9iJ3ZiJ3biPw==",
          "dtype": "f8"
         }
        },
        {
         "line": {
          "color": "red",
          "dash": "dot"
         },
         "marker": {
          "size": 8,
          "symbol": "square"
         },
         "mode": "lines+markers",
         "name": "base3 (no Taxonomy, no RAG)",
         "type": "scatter",
         "x": [
          0.0625,
          0.1875,
          0.3125,
          0.4375,
          0.5625,
          0.6875,
          0.8125,
          0.9375
         ],
         "y": {
          "bdata": "KK+hvIbyqj8RERERERGxPxiGYRiGYcg/AAAAAAAA4D8LWchCFrLgP4wxxhhjjOE/6aKLLrro4j8UO7ETO7HjPw==",
          "dtype": "f8"
         }
        }
       ],
       "layout": {
        "height": 500,
        "legend": {
         "title": {
          "text": "Legend"
         },
         "x": 0.01,
         "y": 0.99
        },
        "template": {
         "data": {
          "bar": [
           {
            "error_x": {
             "color": "#2a3f5f"
            },
            "error_y": {
             "color": "#2a3f5f"
            },
            "marker": {
             "line": {
              "color": "#E5ECF6",
              "width": 0.5
             },
             "pattern": {
              "fillmode": "overlay",
              "size": 10,
              "solidity": 0.2
             }
            },
            "type": "bar"
           }
          ],
          "barpolar": [
           {
            "marker": {
             "line": {
              "color": "#E5ECF6",
              "width": 0.5
             },
             "pattern": {
              "fillmode": "overlay",
              "size": 10,
              "solidity": 0.2
             }
            },
            "type": "barpolar"
           }
          ],
          "carpet": [
           {
            "aaxis": {
             "endlinecolor": "#2a3f5f",
             "gridcolor": "white",
             "linecolor": "white",
             "minorgridcolor": "white",
             "startlinecolor": "#2a3f5f"
            },
            "baxis": {
             "endlinecolor": "#2a3f5f",
             "gridcolor": "white",
             "linecolor": "white",
             "minorgridcolor": "white",
             "startlinecolor": "#2a3f5f"
            },
            "type": "carpet"
           }
          ],
          "choropleth": [
           {
            "colorbar": {
             "outlinewidth": 0,
             "ticks": ""
            },
            "type": "choropleth"
           }
          ],
          "contour": [
           {
            "colorbar": {
             "outlinewidth": 0,
             "ticks": ""
            },
            "colorscale": [
             [
              0,
              "#0d0887"
             ],
             [
              0.1111111111111111,
              "#46039f"
             ],
             [
              0.2222222222222222,
              "#7201a8"
             ],
             [
              0.3333333333333333,
              "#9c179e"
             ],
             [
              0.4444444444444444,
              "#bd3786"
             ],
             [
              0.5555555555555556,
              "#d8576b"
             ],
             [
              0.6666666666666666,
              "#ed7953"
             ],
             [
              0.7777777777777778,
              "#fb9f3a"
             ],
             [
              0.8888888888888888,
              "#fdca26"
             ],
             [
              1,
              "#f0f921"
             ]
            ],
            "type": "contour"
           }
          ],
          "contourcarpet": [
           {
            "colorbar": {
             "outlinewidth": 0,
             "ticks": ""
            },
            "type": "contourcarpet"
           }
          ],
          "heatmap": [
           {
            "colorbar": {
             "outlinewidth": 0,
             "ticks": ""
            },
            "colorscale": [
             [
              0,
              "#0d0887"
             ],
             [
              0.1111111111111111,
              "#46039f"
             ],
             [
              0.2222222222222222,
              "#7201a8"
             ],
             [
              0.3333333333333333,
              "#9c179e"
             ],
             [
              0.4444444444444444,
              "#bd3786"
             ],
             [
              0.5555555555555556,
              "#d8576b"
             ],
             [
              0.6666666666666666,
              "#ed7953"
             ],
             [
              0.7777777777777778,
              "#fb9f3a"
             ],
             [
              0.8888888888888888,
              "#fdca26"
             ],
             [
              1,
              "#f0f921"
             ]
            ],
            "type": "heatmap"
           }
          ],
          "histogram": [
           {
            "marker": {
             "pattern": {
              "fillmode": "overlay",
              "size": 10,
              "solidity": 0.2
             }
            },
            "type": "histogram"
           }
          ],
          "histogram2d": [
           {
            "colorbar": {
             "outlinewidth": 0,
             "ticks": ""
            },
            "colorscale": [
             [
              0,
              "#0d0887"
             ],
             [
              0.1111111111111111,
              "#46039f"
             ],
             [
              0.2222222222222222,
              "#7201a8"
             ],
             [
              0.3333333333333333,
              "#9c179e"
             ],
             [
              0.4444444444444444,
              "#bd3786"
             ],
             [
              0.5555555555555556,
              "#d8576b"
             ],
             [
              0.6666666666666666,
              "#ed7953"
             ],
             [
              0.7777777777777778,
              "#fb9f3a"
             ],
             [
              0.8888888888888888,
              "#fdca26"
             ],
             [
              1,
              "#f0f921"
             ]
            ],
            "type": "histogram2d"
           }
          ],
          "histogram2dcontour": [
           {
            "colorbar": {
             "outlinewidth": 0,
             "ticks": ""
            },
            "colorscale": [
             [
              0,
              "#0d0887"
             ],
             [
              0.1111111111111111,
              "#46039f"
             ],
             [
              0.2222222222222222,
              "#7201a8"
             ],
             [
              0.3333333333333333,
              "#9c179e"
             ],
             [
              0.4444444444444444,
              "#bd3786"
             ],
             [
              0.5555555555555556,
              "#d8576b"
             ],
             [
              0.6666666666666666,
              "#ed7953"
             ],
             [
              0.7777777777777778,
              "#fb9f3a"
             ],
             [
              0.8888888888888888,
              "#fdca26"
             ],
             [
              1,
              "#f0f921"
             ]
            ],
            "type": "histogram2dcontour"
           }
          ],
          "mesh3d": [
           {
            "colorbar": {
             "outlinewidth": 0,
             "ticks": ""
            },
            "type": "mesh3d"
           }
          ],
          "parcoords": [
           {
            "line": {
             "colorbar": {
              "outlinewidth": 0,
              "ticks": ""
             }
            },
            "type": "parcoords"
           }
          ],
          "pie": [
           {
            "automargin": true,
            "type": "pie"
           }
          ],
          "scatter": [
           {
            "fillpattern": {
             "fillmode": "overlay",
             "size": 10,
             "solidity": 0.2
            },
            "type": "scatter"
           }
          ],
          "scatter3d": [
           {
            "line": {
             "colorbar": {
              "outlinewidth": 0,
              "ticks": ""
             }
            },
            "marker": {
             "colorbar": {
              "outlinewidth": 0,
              "ticks": ""
             }
            },
            "type": "scatter3d"
           }
          ],
          "scattercarpet": [
           {
            "marker": {
             "colorbar": {
              "outlinewidth": 0,
              "ticks": ""
             }
            },
            "type": "scattercarpet"
           }
          ],
          "scattergeo": [
           {
            "marker": {
             "colorbar": {
              "outlinewidth": 0,
              "ticks": ""
             }
            },
            "type": "scattergeo"
           }
          ],
          "scattergl": [
           {
            "marker": {
             "colorbar": {
              "outlinewidth": 0,
              "ticks": ""
             }
            },
            "type": "scattergl"
           }
          ],
          "scattermap": [
           {
            "marker": {
             "colorbar": {
              "outlinewidth": 0,
              "ticks": ""
             }
            },
            "type": "scattermap"
           }
          ],
          "scattermapbox": [
           {
            "marker": {
             "colorbar": {
              "outlinewidth": 0,
              "ticks": ""
             }
            },
            "type": "scattermapbox"
           }
          ],
          "scatterpolar": [
           {
            "marker": {
             "colorbar": {
              "outlinewidth": 0,
              "ticks": ""
             }
            },
            "type": "scatterpolar"
           }
          ],
          "scatterpolargl": [
           {
            "marker": {
             "colorbar": {
              "outlinewidth": 0,
              "ticks": ""
             }
            },
            "type": "scatterpolargl"
           }
          ],
          "scatterternary": [
           {
            "marker": {
             "colorbar": {
              "outlinewidth": 0,
              "ticks": ""
             }
            },
            "type": "scatterternary"
           }
          ],
          "surface": [
           {
            "colorbar": {
             "outlinewidth": 0,
             "ticks": ""
            },
            "colorscale": [
             [
              0,
              "#0d0887"
             ],
             [
              0.1111111111111111,
              "#46039f"
             ],
             [
              0.2222222222222222,
              "#7201a8"
             ],
             [
              0.3333333333333333,
              "#9c179e"
             ],
             [
              0.4444444444444444,
              "#bd3786"
             ],
             [
              0.5555555555555556,
              "#d8576b"
             ],
             [
              0.6666666666666666,
              "#ed7953"
             ],
             [
              0.7777777777777778,
              "#fb9f3a"
             ],
             [
              0.8888888888888888,
              "#fdca26"
             ],
             [
              1,
              "#f0f921"
             ]
            ],
            "type": "surface"
           }
          ],
          "table": [
           {
            "cells": {
             "fill": {
              "color": "#EBF0F8"
             },
             "line": {
              "color": "white"
             }
            },
            "header": {
             "fill": {
              "color": "#C8D4E3"
             },
             "line": {
              "color": "white"
             }
            },
            "type": "table"
           }
          ]
         },
         "layout": {
          "annotationdefaults": {
           "arrowcolor": "#2a3f5f",
           "arrowhead": 0,
           "arrowwidth": 1
          },
          "autotypenumbers": "strict",
          "coloraxis": {
           "colorbar": {
            "outlinewidth": 0,
            "ticks": ""
           }
          },
          "colorscale": {
           "diverging": [
            [
             0,
             "#8e0152"
            ],
            [
             0.1,
             "#c51b7d"
            ],
            [
             0.2,
             "#de77ae"
            ],
            [
             0.3,
             "#f1b6da"
            ],
            [
             0.4,
             "#fde0ef"
            ],
            [
             0.5,
             "#f7f7f7"
            ],
            [
             0.6,
             "#e6f5d0"
            ],
            [
             0.7,
             "#b8e186"
            ],
            [
             0.8,
             "#7fbc41"
            ],
            [
             0.9,
             "#4d9221"
            ],
            [
             1,
             "#276419"
            ]
           ],
           "sequential": [
            [
             0,
             "#0d0887"
            ],
            [
             0.1111111111111111,
             "#46039f"
            ],
            [
             0.2222222222222222,
             "#7201a8"
            ],
            [
             0.3333333333333333,
             "#9c179e"
            ],
            [
             0.4444444444444444,
             "#bd3786"
            ],
            [
             0.5555555555555556,
             "#d8576b"
            ],
            [
             0.6666666666666666,
             "#ed7953"
            ],
            [
             0.7777777777777778,
             "#fb9f3a"
            ],
            [
             0.8888888888888888,
             "#fdca26"
            ],
            [
             1,
             "#f0f921"
            ]
           ],
           "sequentialminus": [
            [
             0,
             "#0d0887"
            ],
            [
             0.1111111111111111,
             "#46039f"
            ],
            [
             0.2222222222222222,
             "#7201a8"
            ],
            [
             0.3333333333333333,
             "#9c179e"
            ],
            [
             0.4444444444444444,
             "#bd3786"
            ],
            [
             0.5555555555555556,
             "#d8576b"
            ],
            [
             0.6666666666666666,
             "#ed7953"
            ],
            [
             0.7777777777777778,
             "#fb9f3a"
            ],
            [
             0.8888888888888888,
             "#fdca26"
            ],
            [
             1,
             "#f0f921"
            ]
           ]
          },
          "colorway": [
           "#636efa",
           "#EF553B",
           "#00cc96",
           "#ab63fa",
           "#FFA15A",
           "#19d3f3",
           "#FF6692",
           "#B6E880",
           "#FF97FF",
           "#FECB52"
          ],
          "font": {
           "color": "#2a3f5f"
          },
          "geo": {
           "bgcolor": "white",
           "lakecolor": "white",
           "landcolor": "#E5ECF6",
           "showlakes": true,
           "showland": true,
           "subunitcolor": "white"
          },
          "hoverlabel": {
           "align": "left"
          },
          "hovermode": "closest",
          "mapbox": {
           "style": "light"
          },
          "paper_bgcolor": "white",
          "plot_bgcolor": "#E5ECF6",
          "polar": {
           "angularaxis": {
            "gridcolor": "white",
            "linecolor": "white",
            "ticks": ""
           },
           "bgcolor": "#E5ECF6",
           "radialaxis": {
            "gridcolor": "white",
            "linecolor": "white",
            "ticks": ""
           }
          },
          "scene": {
           "xaxis": {
            "backgroundcolor": "#E5ECF6",
            "gridcolor": "white",
            "gridwidth": 2,
            "linecolor": "white",
            "showbackground": true,
            "ticks": "",
            "zerolinecolor": "white"
           },
           "yaxis": {
            "backgroundcolor": "#E5ECF6",
            "gridcolor": "white",
            "gridwidth": 2,
            "linecolor": "white",
            "showbackground": true,
            "ticks": "",
            "zerolinecolor": "white"
           },
           "zaxis": {
            "backgroundcolor": "#E5ECF6",
            "gridcolor": "white",
            "gridwidth": 2,
            "linecolor": "white",
            "showbackground": true,
            "ticks": "",
            "zerolinecolor": "white"
           }
          },
          "shapedefaults": {
           "line": {
            "color": "#2a3f5f"
           }
          },
          "ternary": {
           "aaxis": {
            "gridcolor": "white",
            "linecolor": "white",
            "ticks": ""
           },
           "baxis": {
            "gridcolor": "white",
            "linecolor": "white",
            "ticks": ""
           },
           "bgcolor": "#E5ECF6",
           "caxis": {
            "gridcolor": "white",
            "linecolor": "white",
            "ticks": ""
           }
          },
          "title": {
           "x": 0.05
          },
          "xaxis": {
           "automargin": true,
           "gridcolor": "white",
           "linecolor": "white",
           "ticks": "",
           "title": {
            "standoff": 15
           },
           "zerolinecolor": "white",
           "zerolinewidth": 2
          },
          "yaxis": {
           "automargin": true,
           "gridcolor": "white",
           "linecolor": "white",
           "ticks": "",
           "title": {
            "standoff": 15
           },
           "zerolinecolor": "white",
           "zerolinewidth": 2
          }
         }
        },
        "title": {
         "text": "Selection Ratio vs. Inclusion Ratio (strict evaluator)",
         "x": 0.5,
         "xanchor": "center"
        },
        "width": 900,
        "xaxis": {
         "range": [
          0,
          1
         ],
         "title": {
          "text": "Inclusion Ratio"
         }
        },
        "yaxis": {
         "range": [
          0,
          1
         ],
         "title": {
          "text": "Selection Ratio"
         }
        }
       }
      }
     },
     "metadata": {},
     "output_type": "display_data"
    }
   ],
   "source": [
    "#HUMAN EVALUATOR가 가장 이상적이라고 가정할 때에 다른 evaluator에 대해서 precision-recall curve를 그릴 수 있다.\n",
    "#PRECISION = TP / (TP+FP)예측한 positive\n",
    "#RECALL = TP / (TP+FN)실제 positive\n",
    "\n",
    "#selection ratio plot\n",
    "#-------------------------------------\n",
    "#scene selection ratio vs selected ratio from baseline \n",
    "#------------------------------------\n",
    "def plot_single_selection_ratio_by_inclusion_bins(df_full, df_selected, num_bins=10):\n",
    "    \"\"\"\n",
    "    Plots the selection ratio per inclusion_ratio bin using Plotly.\n",
    "\n",
    "    Parameters:\n",
    "        df_full (pd.DataFrame): Full dataframe containing 'inclusion_ratio'.\n",
    "        df_selected (pd.DataFrame): Filtered dataframe, subset of df_full.\n",
    "        num_bins (int): Number of bins to divide the inclusion_ratio into (default: 10).\n",
    "    \"\"\"\n",
    "    assert 'inclusion_ratio' in df_full.columns and 'inclusion_ratio' in df_selected.columns, \\\n",
    "        \"Both dataframes must have an 'inclusion_ratio' column.\"\n",
    "\n",
    "    # Define bin edges\n",
    "    bins = np.linspace(0, 1.0, num_bins + 1)\n",
    "    bin_labels = [f\"{round(bins[i], 2)}–{round(bins[i+1], 2)}\" for i in range(len(bins)-1)]\n",
    "\n",
    "    # Assign bins\n",
    "    df_full = df_full.copy()\n",
    "    df_selected = df_selected.copy()\n",
    "    df_full['bin'] = pd.cut(df_full['inclusion_ratio'], bins=bins, labels=bin_labels, include_lowest=True)\n",
    "    df_selected['bin'] = pd.cut(df_selected['inclusion_ratio'], bins=bins, labels=bin_labels, include_lowest=True)\n",
    "\n",
    "    # Count entries in each bin\n",
    "    total_counts = df_full['bin'].value_counts().sort_index()\n",
    "    selected_counts = df_selected['bin'].value_counts().sort_index()\n",
    "\n",
    "    # Compute selection ratio\n",
    "    selection_ratio = (selected_counts / total_counts).fillna(0)\n",
    "\n",
    "    # Plot with Plotly\n",
    "    fig = go.Figure()\n",
    "    fig.add_trace(go.Bar(\n",
    "        x=selection_ratio.index.astype(str),\n",
    "        y=selection_ratio.values,\n",
    "        marker=dict(color='steelblue'),\n",
    "        name='Selection Ratio'\n",
    "    ))\n",
    "\n",
    "    fig.update_layout(\n",
    "        title=\"Selection Ratio vs. Inclusion Ratio\",\n",
    "        xaxis_title=\"Inclusion Ratio (Binned)\",\n",
    "        yaxis_title=\"Selection Ratio\",\n",
    "        yaxis=dict(range=[0, 1]),\n",
    "        width=900,\n",
    "        height=600,\n",
    "        bargap=0.1,\n",
    "    )\n",
    "\n",
    "    fig.show()\n",
    "\n",
    "\n",
    "import pandas as pd\n",
    "import numpy as np\n",
    "import plotly.graph_objects as go\n",
    "\n",
    "def plot_multiple_selection_vs_inclusion(data_pairs, bins=10, title_str=\"\"):\n",
    "    \"\"\"\n",
    "    Plots multiple selection vs. inclusion ratio lines in one graph.\n",
    "    Args:\n",
    "        data_pairs (list of tuples): Each tuple contains (df_total, df_selected, label).\n",
    "        bins (int): Number of bins for inclusion_ratio.\n",
    "    \"\"\"\n",
    "\n",
    "    # Create bins and labels\n",
    "    bin_edges = np.linspace(0, 1, bins + 1)\n",
    "    bin_centers = [(bin_edges[i] + bin_edges[i + 1]) / 2 for i in range(bins)]\n",
    "\n",
    "    # make a list of linecolor, markertype, and linetype\n",
    "    colors = ['blue', 'red', 'green', 'orange', 'purple', 'brown', 'teal', 'pink']\n",
    "    dash_styles = ['solid', 'dot', 'dash', 'longdash', 'dashdot', 'longdashdot']\n",
    "    marker_symbols = ['circle', 'square', 'diamond', 'cross', 'x', 'triangle-up']\n",
    "\n",
    "    fig = go.Figure()\n",
    "\n",
    "    for i, (df_total, df_selected, label) in enumerate(data_pairs):\n",
    "        # Bin the inclusion ratios\n",
    "        total_binned = pd.cut(df_total[\"inclusion_ratio\"], bins=bin_edges, include_lowest=True)\n",
    "        selected_binned = pd.cut(df_selected[\"inclusion_ratio\"], bins=bin_edges, include_lowest=True)\n",
    "\n",
    "        # Count per bin\n",
    "        total_counts = total_binned.value_counts(sort=False)\n",
    "        selected_counts = selected_binned.value_counts(sort=False)\n",
    "        # print(f\"bins num at {i} {selected_counts}\")\n",
    "\n",
    "        # Compute selection ratio\n",
    "        selection_ratio = (selected_counts / total_counts).fillna(0)\n",
    "\n",
    "        # Add line to plot\n",
    "        fig.add_trace(go.Scatter(\n",
    "            x=bin_centers,\n",
    "            y=selection_ratio.values,\n",
    "            mode='lines+markers',\n",
    "            name=label,\n",
    "            line=dict(color=colors[i % len(colors)], dash=dash_styles[i % len(dash_styles)]),\n",
    "            marker=dict(symbol=marker_symbols[i % len(marker_symbols)], size=8),            \n",
    "        ))\n",
    "\n",
    "    # Layout settings\n",
    "    fig.update_layout(\n",
    "        title=dict(\n",
    "        text=f\"Selection Ratio vs. Inclusion Ratio ({title_str})\",\n",
    "        x=0.5,  # Center the title\n",
    "        xanchor='center'  # Anchor the title at the center\n",
    "        ),\n",
    "        # title=f\"Selection Ratio vs. Inclusion Ratio ({title_str})\",\n",
    "        xaxis_title=\"Inclusion Ratio\",\n",
    "        yaxis_title=\"Selection Ratio\",\n",
    "        xaxis=dict(range=[0, 1]),\n",
    "        yaxis=dict(range=[0, 1]),\n",
    "        width=900,\n",
    "        height=500,\n",
    "        legend=dict(title=\"Legend\", x=0.01, y=0.99),\n",
    "    )\n",
    "\n",
    "    fig.show()\n",
    "# PLOT\n",
    "#-------------------------------------\n",
    "# 베이스라인이 similarity의 변화에 따라서 어느 정도의 수용성 그래프를 보이는지 그린다.(false/positive + positive/positive)\n",
    "# input (baselines, filtered_baselines, titlename)\n",
    "# x = inclusion_ratio\n",
    "# y = acceptance_rate per bin\n",
    "#-------------------------------------\n",
    "\n",
    "\n",
    "\n",
    "# plot_single_selection_ratio_by_inclusion_bins(df_eval_rag, efil3_both_rag, 8)\n",
    "# plot_single_selection_ratio_by_inclusion_bins(df_eval_norag, efil3_both_norag, 8)\n",
    "# plot_single_selection_ratio_by_inclusion_bins(df_eval_raggoal, efil3_raggoal, 8)\n",
    "# plot_single_selection_ratio_by_inclusion_bins(df_eval_noraggoal, efil3_noraggoal, 8)\n",
    "\n",
    "\n",
    "plot_multiple_selection_vs_inclusion([\n",
    "    # (df_eval_rag, efil1_both_rag, \"ours-(simple examiner)\"),\n",
    "    # (df_eval_norag, efil1_both_norag, \"norag-(simple examiner)\"),\n",
    "    # (df_eval_rag, efil2_both_rag, \"ours-(entity check examiner)\"),\n",
    "    # (df_eval_norag, efil3_both_norag, \"norag-(entity check examiner)\"),\n",
    "    (df_eval_rag, efil3_seq_rag, \"ours-(strict seq examiner)\"),\n",
    "    (df_eval_norag, efil3_seq_norag, \"norag-(strict seq examiner)\"),    \n",
    "], bins=8, title_str='stric sequence binary examiner')\n",
    "\n",
    "# plot_multiple_selection_vs_inclusion([\n",
    "#     (df_eval_rag, efil1_both_rag, \"ours\"),\n",
    "#     (df_eval_norag, efil1_both_norag, \"base1 (no RAG)\"),\n",
    "# ], bins=8, title_str='simple evaluator')\n",
    "\n",
    "# plot_multiple_selection_vs_inclusion([\n",
    "#     (df_eval_rag, efil2_both_rag, \"ours\"),\n",
    "#     (df_eval_norag, efil2_both_norag, \"base1 (no RAG)\"),\n",
    "# ], bins=8, title_str='entity evaluator')\n",
    "\n",
    "plot_multiple_selection_vs_inclusion([\n",
    "    (df_eval_rag, efil3_both_rag, \"ours\"),\n",
    "    (df_eval_norag, efil3_both_norag, \"base1 (no RAG)\"),\n",
    "], bins=8, title_str='strict evaluator')\n",
    "\n",
    "plot_multiple_selection_vs_inclusion([\n",
    "    (df_eval_raggoal, efil3_raggoal, \"base2 (no Taxonomy)\"),\n",
    "    (df_eval_noraggoal, efil3_noraggoal, \"base3 (no Taxonomy, no RAG)\"),\n",
    "], bins=8, title_str='strict evaluator')"
   ]
  },
  {
   "cell_type": "code",
   "execution_count": 60,
   "id": "eab8bec3",
   "metadata": {},
   "outputs": [
    {
     "data": {
      "application/vnd.plotly.v1+json": {
       "config": {
        "plotlyServerURL": "https://plot.ly"
       },
       "data": [
        {
         "error_y": {
          "array": {
           "bdata": "AAAAAAAAAAAss7aOE0arP9xZB7CgiMM/Qy0FBFc/sD8MjavectW9P3rmsgEHgsA/XWm23nZkwz/pAdU0EQDFPw==",
           "dtype": "f8"
          },
          "color": "blue",
          "type": "data",
          "visible": true
         },
         "line": {
          "color": "blue",
          "dash": "solid"
         },
         "marker": {
          "size": 8,
          "symbol": "circle"
         },
         "mode": "lines+markers",
         "name": "RAG SeqSim",
         "type": "scatter",
         "x": [
          0.0625,
          0.1875,
          0.3125,
          0.4375,
          0.5625,
          0.6875,
          0.8125,
          0.9375
         ],
         "y": {
          "bdata": "hiZLV64j2D9ExNMZL2bkP4ft0WdlieE/G9r3Zjn84D9RdUE+UzLgP2O7Wg8tveE/q5I1l5Ea5D98BRwMAFXmPw==",
          "dtype": "f8"
         }
        },
        {
         "error_y": {
          "array": {
           "bdata": "+VywgcBDzj9i7JS1GbbAP6bSA4vSIK8/7FkG6PuNuz/8X4CFBATBP0jsxJ0hcb0/jHRt++P0wj8=",
           "dtype": "f8"
          },
          "color": "red",
          "type": "data",
          "visible": true
         },
         "line": {
          "color": "red",
          "dash": "dot"
         },
         "marker": {
          "size": 8,
          "symbol": "square"
         },
         "mode": "lines+markers",
         "name": "baseline1",
         "type": "scatter",
         "x": [
          0.0625,
          0.1875,
          0.3125,
          0.4375,
          0.5625,
          0.6875,
          0.8125,
          0.9375
         ],
         "y": {
          "bdata": "6UdEqDw54T+pz8oITU/jP/mHshQYv94/6zUE4TBA4D9U1PyOBxjiP1UzqGlmoOM/2ShaNWgA5T8=",
          "dtype": "f8"
         }
        },
        {
         "error_y": {
          "array": {
           "bdata": "pbC0olxOnz8kih+wMv+/P9y7mZEEn8M/jLzHizWGvj/0TPm56YW7Pxsv1sglqL8/6Wdw8j+avz/Q/aZz083APw==",
           "dtype": "f8"
          },
          "color": "green",
          "type": "data",
          "visible": true
         },
         "line": {
          "color": "green",
          "dash": "dash"
         },
         "marker": {
          "size": 8,
          "symbol": "diamond"
         },
         "mode": "lines+markers",
         "name": "baseline2",
         "type": "scatter",
         "x": [
          0.0625,
          0.1875,
          0.3125,
          0.4375,
          0.5625,
          0.6875,
          0.8125,
          0.9375
         ],
         "y": {
          "bdata": "JGJ+TQaM4D9ceoUn9mziP8kyWfrw5uE/6ydPmiJz4D9n488LX7fgP8i14wB48+M/1Ye/Kg0S5D8GejMXmirmPw==",
          "dtype": "f8"
         }
        },
        {
         "error_y": {
          "array": {
           "bdata": "AAAAAAAAAAAAAAAAAAAAAPSZVeSnLco/P3kwRid6tz8r0kQtbuW/P5ke0WOB1MM/4K6a37DsvT+FoBT9ZcHEPw==",
           "dtype": "f8"
          },
          "color": "orange",
          "type": "data",
          "visible": true
         },
         "line": {
          "color": "orange",
          "dash": "longdash"
         },
         "marker": {
          "size": 8,
          "symbol": "cross"
         },
         "mode": "lines+markers",
         "name": "baseline3",
         "type": "scatter",
         "x": [
          0.0625,
          0.1875,
          0.3125,
          0.4375,
          0.5625,
          0.6875,
          0.8125,
          0.9375
         ],
         "y": {
          "bdata": "fE+G5AqY3D8akkIunm3iP26Iyt7GQuI/vWUqJLk84T/jYd2QFZbhPwhqO3PZJ+Q/Pw+Og1e55j8AEGFEpPbmPw==",
          "dtype": "f8"
         }
        }
       ],
       "layout": {
        "height": 500,
        "legend": {
         "title": {
          "text": "Legend"
         },
         "x": 0.01,
         "y": 0.05
        },
        "template": {
         "data": {
          "bar": [
           {
            "error_x": {
             "color": "#2a3f5f"
            },
            "error_y": {
             "color": "#2a3f5f"
            },
            "marker": {
             "line": {
              "color": "#E5ECF6",
              "width": 0.5
             },
             "pattern": {
              "fillmode": "overlay",
              "size": 10,
              "solidity": 0.2
             }
            },
            "type": "bar"
           }
          ],
          "barpolar": [
           {
            "marker": {
             "line": {
              "color": "#E5ECF6",
              "width": 0.5
             },
             "pattern": {
              "fillmode": "overlay",
              "size": 10,
              "solidity": 0.2
             }
            },
            "type": "barpolar"
           }
          ],
          "carpet": [
           {
            "aaxis": {
             "endlinecolor": "#2a3f5f",
             "gridcolor": "white",
             "linecolor": "white",
             "minorgridcolor": "white",
             "startlinecolor": "#2a3f5f"
            },
            "baxis": {
             "endlinecolor": "#2a3f5f",
             "gridcolor": "white",
             "linecolor": "white",
             "minorgridcolor": "white",
             "startlinecolor": "#2a3f5f"
            },
            "type": "carpet"
           }
          ],
          "choropleth": [
           {
            "colorbar": {
             "outlinewidth": 0,
             "ticks": ""
            },
            "type": "choropleth"
           }
          ],
          "contour": [
           {
            "colorbar": {
             "outlinewidth": 0,
             "ticks": ""
            },
            "colorscale": [
             [
              0,
              "#0d0887"
             ],
             [
              0.1111111111111111,
              "#46039f"
             ],
             [
              0.2222222222222222,
              "#7201a8"
             ],
             [
              0.3333333333333333,
              "#9c179e"
             ],
             [
              0.4444444444444444,
              "#bd3786"
             ],
             [
              0.5555555555555556,
              "#d8576b"
             ],
             [
              0.6666666666666666,
              "#ed7953"
             ],
             [
              0.7777777777777778,
              "#fb9f3a"
             ],
             [
              0.8888888888888888,
              "#fdca26"
             ],
             [
              1,
              "#f0f921"
             ]
            ],
            "type": "contour"
           }
          ],
          "contourcarpet": [
           {
            "colorbar": {
             "outlinewidth": 0,
             "ticks": ""
            },
            "type": "contourcarpet"
           }
          ],
          "heatmap": [
           {
            "colorbar": {
             "outlinewidth": 0,
             "ticks": ""
            },
            "colorscale": [
             [
              0,
              "#0d0887"
             ],
             [
              0.1111111111111111,
              "#46039f"
             ],
             [
              0.2222222222222222,
              "#7201a8"
             ],
             [
              0.3333333333333333,
              "#9c179e"
             ],
             [
              0.4444444444444444,
              "#bd3786"
             ],
             [
              0.5555555555555556,
              "#d8576b"
             ],
             [
              0.6666666666666666,
              "#ed7953"
             ],
             [
              0.7777777777777778,
              "#fb9f3a"
             ],
             [
              0.8888888888888888,
              "#fdca26"
             ],
             [
              1,
              "#f0f921"
             ]
            ],
            "type": "heatmap"
           }
          ],
          "histogram": [
           {
            "marker": {
             "pattern": {
              "fillmode": "overlay",
              "size": 10,
              "solidity": 0.2
             }
            },
            "type": "histogram"
           }
          ],
          "histogram2d": [
           {
            "colorbar": {
             "outlinewidth": 0,
             "ticks": ""
            },
            "colorscale": [
             [
              0,
              "#0d0887"
             ],
             [
              0.1111111111111111,
              "#46039f"
             ],
             [
              0.2222222222222222,
              "#7201a8"
             ],
             [
              0.3333333333333333,
              "#9c179e"
             ],
             [
              0.4444444444444444,
              "#bd3786"
             ],
             [
              0.5555555555555556,
              "#d8576b"
             ],
             [
              0.6666666666666666,
              "#ed7953"
             ],
             [
              0.7777777777777778,
              "#fb9f3a"
             ],
             [
              0.8888888888888888,
              "#fdca26"
             ],
             [
              1,
              "#f0f921"
             ]
            ],
            "type": "histogram2d"
           }
          ],
          "histogram2dcontour": [
           {
            "colorbar": {
             "outlinewidth": 0,
             "ticks": ""
            },
            "colorscale": [
             [
              0,
              "#0d0887"
             ],
             [
              0.1111111111111111,
              "#46039f"
             ],
             [
              0.2222222222222222,
              "#7201a8"
             ],
             [
              0.3333333333333333,
              "#9c179e"
             ],
             [
              0.4444444444444444,
              "#bd3786"
             ],
             [
              0.5555555555555556,
              "#d8576b"
             ],
             [
              0.6666666666666666,
              "#ed7953"
             ],
             [
              0.7777777777777778,
              "#fb9f3a"
             ],
             [
              0.8888888888888888,
              "#fdca26"
             ],
             [
              1,
              "#f0f921"
             ]
            ],
            "type": "histogram2dcontour"
           }
          ],
          "mesh3d": [
           {
            "colorbar": {
             "outlinewidth": 0,
             "ticks": ""
            },
            "type": "mesh3d"
           }
          ],
          "parcoords": [
           {
            "line": {
             "colorbar": {
              "outlinewidth": 0,
              "ticks": ""
             }
            },
            "type": "parcoords"
           }
          ],
          "pie": [
           {
            "automargin": true,
            "type": "pie"
           }
          ],
          "scatter": [
           {
            "fillpattern": {
             "fillmode": "overlay",
             "size": 10,
             "solidity": 0.2
            },
            "type": "scatter"
           }
          ],
          "scatter3d": [
           {
            "line": {
             "colorbar": {
              "outlinewidth": 0,
              "ticks": ""
             }
            },
            "marker": {
             "colorbar": {
              "outlinewidth": 0,
              "ticks": ""
             }
            },
            "type": "scatter3d"
           }
          ],
          "scattercarpet": [
           {
            "marker": {
             "colorbar": {
              "outlinewidth": 0,
              "ticks": ""
             }
            },
            "type": "scattercarpet"
           }
          ],
          "scattergeo": [
           {
            "marker": {
             "colorbar": {
              "outlinewidth": 0,
              "ticks": ""
             }
            },
            "type": "scattergeo"
           }
          ],
          "scattergl": [
           {
            "marker": {
             "colorbar": {
              "outlinewidth": 0,
              "ticks": ""
             }
            },
            "type": "scattergl"
           }
          ],
          "scattermap": [
           {
            "marker": {
             "colorbar": {
              "outlinewidth": 0,
              "ticks": ""
             }
            },
            "type": "scattermap"
           }
          ],
          "scattermapbox": [
           {
            "marker": {
             "colorbar": {
              "outlinewidth": 0,
              "ticks": ""
             }
            },
            "type": "scattermapbox"
           }
          ],
          "scatterpolar": [
           {
            "marker": {
             "colorbar": {
              "outlinewidth": 0,
              "ticks": ""
             }
            },
            "type": "scatterpolar"
           }
          ],
          "scatterpolargl": [
           {
            "marker": {
             "colorbar": {
              "outlinewidth": 0,
              "ticks": ""
             }
            },
            "type": "scatterpolargl"
           }
          ],
          "scatterternary": [
           {
            "marker": {
             "colorbar": {
              "outlinewidth": 0,
              "ticks": ""
             }
            },
            "type": "scatterternary"
           }
          ],
          "surface": [
           {
            "colorbar": {
             "outlinewidth": 0,
             "ticks": ""
            },
            "colorscale": [
             [
              0,
              "#0d0887"
             ],
             [
              0.1111111111111111,
              "#46039f"
             ],
             [
              0.2222222222222222,
              "#7201a8"
             ],
             [
              0.3333333333333333,
              "#9c179e"
             ],
             [
              0.4444444444444444,
              "#bd3786"
             ],
             [
              0.5555555555555556,
              "#d8576b"
             ],
             [
              0.6666666666666666,
              "#ed7953"
             ],
             [
              0.7777777777777778,
              "#fb9f3a"
             ],
             [
              0.8888888888888888,
              "#fdca26"
             ],
             [
              1,
              "#f0f921"
             ]
            ],
            "type": "surface"
           }
          ],
          "table": [
           {
            "cells": {
             "fill": {
              "color": "#EBF0F8"
             },
             "line": {
              "color": "white"
             }
            },
            "header": {
             "fill": {
              "color": "#C8D4E3"
             },
             "line": {
              "color": "white"
             }
            },
            "type": "table"
           }
          ]
         },
         "layout": {
          "annotationdefaults": {
           "arrowcolor": "#2a3f5f",
           "arrowhead": 0,
           "arrowwidth": 1
          },
          "autotypenumbers": "strict",
          "coloraxis": {
           "colorbar": {
            "outlinewidth": 0,
            "ticks": ""
           }
          },
          "colorscale": {
           "diverging": [
            [
             0,
             "#8e0152"
            ],
            [
             0.1,
             "#c51b7d"
            ],
            [
             0.2,
             "#de77ae"
            ],
            [
             0.3,
             "#f1b6da"
            ],
            [
             0.4,
             "#fde0ef"
            ],
            [
             0.5,
             "#f7f7f7"
            ],
            [
             0.6,
             "#e6f5d0"
            ],
            [
             0.7,
             "#b8e186"
            ],
            [
             0.8,
             "#7fbc41"
            ],
            [
             0.9,
             "#4d9221"
            ],
            [
             1,
             "#276419"
            ]
           ],
           "sequential": [
            [
             0,
             "#0d0887"
            ],
            [
             0.1111111111111111,
             "#46039f"
            ],
            [
             0.2222222222222222,
             "#7201a8"
            ],
            [
             0.3333333333333333,
             "#9c179e"
            ],
            [
             0.4444444444444444,
             "#bd3786"
            ],
            [
             0.5555555555555556,
             "#d8576b"
            ],
            [
             0.6666666666666666,
             "#ed7953"
            ],
            [
             0.7777777777777778,
             "#fb9f3a"
            ],
            [
             0.8888888888888888,
             "#fdca26"
            ],
            [
             1,
             "#f0f921"
            ]
           ],
           "sequentialminus": [
            [
             0,
             "#0d0887"
            ],
            [
             0.1111111111111111,
             "#46039f"
            ],
            [
             0.2222222222222222,
             "#7201a8"
            ],
            [
             0.3333333333333333,
             "#9c179e"
            ],
            [
             0.4444444444444444,
             "#bd3786"
            ],
            [
             0.5555555555555556,
             "#d8576b"
            ],
            [
             0.6666666666666666,
             "#ed7953"
            ],
            [
             0.7777777777777778,
             "#fb9f3a"
            ],
            [
             0.8888888888888888,
             "#fdca26"
            ],
            [
             1,
             "#f0f921"
            ]
           ]
          },
          "colorway": [
           "#636efa",
           "#EF553B",
           "#00cc96",
           "#ab63fa",
           "#FFA15A",
           "#19d3f3",
           "#FF6692",
           "#B6E880",
           "#FF97FF",
           "#FECB52"
          ],
          "font": {
           "color": "#2a3f5f"
          },
          "geo": {
           "bgcolor": "white",
           "lakecolor": "white",
           "landcolor": "#E5ECF6",
           "showlakes": true,
           "showland": true,
           "subunitcolor": "white"
          },
          "hoverlabel": {
           "align": "left"
          },
          "hovermode": "closest",
          "mapbox": {
           "style": "light"
          },
          "paper_bgcolor": "white",
          "plot_bgcolor": "#E5ECF6",
          "polar": {
           "angularaxis": {
            "gridcolor": "white",
            "linecolor": "white",
            "ticks": ""
           },
           "bgcolor": "#E5ECF6",
           "radialaxis": {
            "gridcolor": "white",
            "linecolor": "white",
            "ticks": ""
           }
          },
          "scene": {
           "xaxis": {
            "backgroundcolor": "#E5ECF6",
            "gridcolor": "white",
            "gridwidth": 2,
            "linecolor": "white",
            "showbackground": true,
            "ticks": "",
            "zerolinecolor": "white"
           },
           "yaxis": {
            "backgroundcolor": "#E5ECF6",
            "gridcolor": "white",
            "gridwidth": 2,
            "linecolor": "white",
            "showbackground": true,
            "ticks": "",
            "zerolinecolor": "white"
           },
           "zaxis": {
            "backgroundcolor": "#E5ECF6",
            "gridcolor": "white",
            "gridwidth": 2,
            "linecolor": "white",
            "showbackground": true,
            "ticks": "",
            "zerolinecolor": "white"
           }
          },
          "shapedefaults": {
           "line": {
            "color": "#2a3f5f"
           }
          },
          "ternary": {
           "aaxis": {
            "gridcolor": "white",
            "linecolor": "white",
            "ticks": ""
           },
           "baxis": {
            "gridcolor": "white",
            "linecolor": "white",
            "ticks": ""
           },
           "bgcolor": "#E5ECF6",
           "caxis": {
            "gridcolor": "white",
            "linecolor": "white",
            "ticks": ""
           }
          },
          "title": {
           "x": 0.05
          },
          "xaxis": {
           "automargin": true,
           "gridcolor": "white",
           "linecolor": "white",
           "ticks": "",
           "title": {
            "standoff": 15
           },
           "zerolinecolor": "white",
           "zerolinewidth": 2
          },
          "yaxis": {
           "automargin": true,
           "gridcolor": "white",
           "linecolor": "white",
           "ticks": "",
           "title": {
            "standoff": 15
           },
           "zerolinecolor": "white",
           "zerolinewidth": 2
          }
         }
        },
        "title": {
         "text": "Inclusion vs Sequence Similarity",
         "x": 0.5,
         "xanchor": "center"
        },
        "width": 900,
        "xaxis": {
         "range": [
          0.4375,
          1
         ],
         "title": {
          "text": "Inclusion Ratio"
         }
        },
        "yaxis": {
         "range": [
          0,
          1
         ],
         "title": {
          "text": "Similarity (mean ± std)"
         }
        }
       }
      }
     },
     "metadata": {},
     "output_type": "display_data"
    },
    {
     "data": {
      "application/vnd.plotly.v1+json": {
       "config": {
        "plotlyServerURL": "https://plot.ly"
       },
       "data": [
        {
         "error_y": {
          "array": {
           "bdata": "AAAAAAAAAAAss7aOE0arP9xZB7CgiMM/Qy0FBFc/sD8MjavectW9P3rmsgEHgsA/XWm23nZkwz/pAdU0EQDFPw==",
           "dtype": "f8"
          },
          "color": "blue",
          "type": "data",
          "visible": true
         },
         "line": {
          "color": "blue",
          "dash": "solid"
         },
         "marker": {
          "size": 8,
          "symbol": "circle"
         },
         "mode": "lines+markers",
         "name": "RAG SeqSim",
         "type": "scatter",
         "x": [
          0.0625,
          0.1875,
          0.3125,
          0.4375,
          0.5625,
          0.6875,
          0.8125,
          0.9375
         ],
         "y": {
          "bdata": "hiZLV64j2D9ExNMZL2bkP4ft0WdlieE/G9r3Zjn84D9RdUE+UzLgP2O7Wg8tveE/q5I1l5Ea5D98BRwMAFXmPw==",
          "dtype": "f8"
         }
        },
        {
         "error_y": {
          "array": {
           "bdata": "+VywgcBDzj9i7JS1GbbAP6bSA4vSIK8/7FkG6PuNuz/8X4CFBATBP0jsxJ0hcb0/jHRt++P0wj8=",
           "dtype": "f8"
          },
          "color": "red",
          "type": "data",
          "visible": true
         },
         "line": {
          "color": "red",
          "dash": "dot"
         },
         "marker": {
          "size": 8,
          "symbol": "square"
         },
         "mode": "lines+markers",
         "name": "NoRAG SeqSim",
         "type": "scatter",
         "x": [
          0.0625,
          0.1875,
          0.3125,
          0.4375,
          0.5625,
          0.6875,
          0.8125,
          0.9375
         ],
         "y": {
          "bdata": "6UdEqDw54T+pz8oITU/jP/mHshQYv94/6zUE4TBA4D9U1PyOBxjiP1UzqGlmoOM/2ShaNWgA5T8=",
          "dtype": "f8"
         }
        }
       ],
       "layout": {
        "height": 500,
        "legend": {
         "title": {
          "text": "Legend"
         },
         "x": 0.01,
         "y": 0.05
        },
        "template": {
         "data": {
          "bar": [
           {
            "error_x": {
             "color": "#2a3f5f"
            },
            "error_y": {
             "color": "#2a3f5f"
            },
            "marker": {
             "line": {
              "color": "#E5ECF6",
              "width": 0.5
             },
             "pattern": {
              "fillmode": "overlay",
              "size": 10,
              "solidity": 0.2
             }
            },
            "type": "bar"
           }
          ],
          "barpolar": [
           {
            "marker": {
             "line": {
              "color": "#E5ECF6",
              "width": 0.5
             },
             "pattern": {
              "fillmode": "overlay",
              "size": 10,
              "solidity": 0.2
             }
            },
            "type": "barpolar"
           }
          ],
          "carpet": [
           {
            "aaxis": {
             "endlinecolor": "#2a3f5f",
             "gridcolor": "white",
             "linecolor": "white",
             "minorgridcolor": "white",
             "startlinecolor": "#2a3f5f"
            },
            "baxis": {
             "endlinecolor": "#2a3f5f",
             "gridcolor": "white",
             "linecolor": "white",
             "minorgridcolor": "white",
             "startlinecolor": "#2a3f5f"
            },
            "type": "carpet"
           }
          ],
          "choropleth": [
           {
            "colorbar": {
             "outlinewidth": 0,
             "ticks": ""
            },
            "type": "choropleth"
           }
          ],
          "contour": [
           {
            "colorbar": {
             "outlinewidth": 0,
             "ticks": ""
            },
            "colorscale": [
             [
              0,
              "#0d0887"
             ],
             [
              0.1111111111111111,
              "#46039f"
             ],
             [
              0.2222222222222222,
              "#7201a8"
             ],
             [
              0.3333333333333333,
              "#9c179e"
             ],
             [
              0.4444444444444444,
              "#bd3786"
             ],
             [
              0.5555555555555556,
              "#d8576b"
             ],
             [
              0.6666666666666666,
              "#ed7953"
             ],
             [
              0.7777777777777778,
              "#fb9f3a"
             ],
             [
              0.8888888888888888,
              "#fdca26"
             ],
             [
              1,
              "#f0f921"
             ]
            ],
            "type": "contour"
           }
          ],
          "contourcarpet": [
           {
            "colorbar": {
             "outlinewidth": 0,
             "ticks": ""
            },
            "type": "contourcarpet"
           }
          ],
          "heatmap": [
           {
            "colorbar": {
             "outlinewidth": 0,
             "ticks": ""
            },
            "colorscale": [
             [
              0,
              "#0d0887"
             ],
             [
              0.1111111111111111,
              "#46039f"
             ],
             [
              0.2222222222222222,
              "#7201a8"
             ],
             [
              0.3333333333333333,
              "#9c179e"
             ],
             [
              0.4444444444444444,
              "#bd3786"
             ],
             [
              0.5555555555555556,
              "#d8576b"
             ],
             [
              0.6666666666666666,
              "#ed7953"
             ],
             [
              0.7777777777777778,
              "#fb9f3a"
             ],
             [
              0.8888888888888888,
              "#fdca26"
             ],
             [
              1,
              "#f0f921"
             ]
            ],
            "type": "heatmap"
           }
          ],
          "histogram": [
           {
            "marker": {
             "pattern": {
              "fillmode": "overlay",
              "size": 10,
              "solidity": 0.2
             }
            },
            "type": "histogram"
           }
          ],
          "histogram2d": [
           {
            "colorbar": {
             "outlinewidth": 0,
             "ticks": ""
            },
            "colorscale": [
             [
              0,
              "#0d0887"
             ],
             [
              0.1111111111111111,
              "#46039f"
             ],
             [
              0.2222222222222222,
              "#7201a8"
             ],
             [
              0.3333333333333333,
              "#9c179e"
             ],
             [
              0.4444444444444444,
              "#bd3786"
             ],
             [
              0.5555555555555556,
              "#d8576b"
             ],
             [
              0.6666666666666666,
              "#ed7953"
             ],
             [
              0.7777777777777778,
              "#fb9f3a"
             ],
             [
              0.8888888888888888,
              "#fdca26"
             ],
             [
              1,
              "#f0f921"
             ]
            ],
            "type": "histogram2d"
           }
          ],
          "histogram2dcontour": [
           {
            "colorbar": {
             "outlinewidth": 0,
             "ticks": ""
            },
            "colorscale": [
             [
              0,
              "#0d0887"
             ],
             [
              0.1111111111111111,
              "#46039f"
             ],
             [
              0.2222222222222222,
              "#7201a8"
             ],
             [
              0.3333333333333333,
              "#9c179e"
             ],
             [
              0.4444444444444444,
              "#bd3786"
             ],
             [
              0.5555555555555556,
              "#d8576b"
             ],
             [
              0.6666666666666666,
              "#ed7953"
             ],
             [
              0.7777777777777778,
              "#fb9f3a"
             ],
             [
              0.8888888888888888,
              "#fdca26"
             ],
             [
              1,
              "#f0f921"
             ]
            ],
            "type": "histogram2dcontour"
           }
          ],
          "mesh3d": [
           {
            "colorbar": {
             "outlinewidth": 0,
             "ticks": ""
            },
            "type": "mesh3d"
           }
          ],
          "parcoords": [
           {
            "line": {
             "colorbar": {
              "outlinewidth": 0,
              "ticks": ""
             }
            },
            "type": "parcoords"
           }
          ],
          "pie": [
           {
            "automargin": true,
            "type": "pie"
           }
          ],
          "scatter": [
           {
            "fillpattern": {
             "fillmode": "overlay",
             "size": 10,
             "solidity": 0.2
            },
            "type": "scatter"
           }
          ],
          "scatter3d": [
           {
            "line": {
             "colorbar": {
              "outlinewidth": 0,
              "ticks": ""
             }
            },
            "marker": {
             "colorbar": {
              "outlinewidth": 0,
              "ticks": ""
             }
            },
            "type": "scatter3d"
           }
          ],
          "scattercarpet": [
           {
            "marker": {
             "colorbar": {
              "outlinewidth": 0,
              "ticks": ""
             }
            },
            "type": "scattercarpet"
           }
          ],
          "scattergeo": [
           {
            "marker": {
             "colorbar": {
              "outlinewidth": 0,
              "ticks": ""
             }
            },
            "type": "scattergeo"
           }
          ],
          "scattergl": [
           {
            "marker": {
             "colorbar": {
              "outlinewidth": 0,
              "ticks": ""
             }
            },
            "type": "scattergl"
           }
          ],
          "scattermap": [
           {
            "marker": {
             "colorbar": {
              "outlinewidth": 0,
              "ticks": ""
             }
            },
            "type": "scattermap"
           }
          ],
          "scattermapbox": [
           {
            "marker": {
             "colorbar": {
              "outlinewidth": 0,
              "ticks": ""
             }
            },
            "type": "scattermapbox"
           }
          ],
          "scatterpolar": [
           {
            "marker": {
             "colorbar": {
              "outlinewidth": 0,
              "ticks": ""
             }
            },
            "type": "scatterpolar"
           }
          ],
          "scatterpolargl": [
           {
            "marker": {
             "colorbar": {
              "outlinewidth": 0,
              "ticks": ""
             }
            },
            "type": "scatterpolargl"
           }
          ],
          "scatterternary": [
           {
            "marker": {
             "colorbar": {
              "outlinewidth": 0,
              "ticks": ""
             }
            },
            "type": "scatterternary"
           }
          ],
          "surface": [
           {
            "colorbar": {
             "outlinewidth": 0,
             "ticks": ""
            },
            "colorscale": [
             [
              0,
              "#0d0887"
             ],
             [
              0.1111111111111111,
              "#46039f"
             ],
             [
              0.2222222222222222,
              "#7201a8"
             ],
             [
              0.3333333333333333,
              "#9c179e"
             ],
             [
              0.4444444444444444,
              "#bd3786"
             ],
             [
              0.5555555555555556,
              "#d8576b"
             ],
             [
              0.6666666666666666,
              "#ed7953"
             ],
             [
              0.7777777777777778,
              "#fb9f3a"
             ],
             [
              0.8888888888888888,
              "#fdca26"
             ],
             [
              1,
              "#f0f921"
             ]
            ],
            "type": "surface"
           }
          ],
          "table": [
           {
            "cells": {
             "fill": {
              "color": "#EBF0F8"
             },
             "line": {
              "color": "white"
             }
            },
            "header": {
             "fill": {
              "color": "#C8D4E3"
             },
             "line": {
              "color": "white"
             }
            },
            "type": "table"
           }
          ]
         },
         "layout": {
          "annotationdefaults": {
           "arrowcolor": "#2a3f5f",
           "arrowhead": 0,
           "arrowwidth": 1
          },
          "autotypenumbers": "strict",
          "coloraxis": {
           "colorbar": {
            "outlinewidth": 0,
            "ticks": ""
           }
          },
          "colorscale": {
           "diverging": [
            [
             0,
             "#8e0152"
            ],
            [
             0.1,
             "#c51b7d"
            ],
            [
             0.2,
             "#de77ae"
            ],
            [
             0.3,
             "#f1b6da"
            ],
            [
             0.4,
             "#fde0ef"
            ],
            [
             0.5,
             "#f7f7f7"
            ],
            [
             0.6,
             "#e6f5d0"
            ],
            [
             0.7,
             "#b8e186"
            ],
            [
             0.8,
             "#7fbc41"
            ],
            [
             0.9,
             "#4d9221"
            ],
            [
             1,
             "#276419"
            ]
           ],
           "sequential": [
            [
             0,
             "#0d0887"
            ],
            [
             0.1111111111111111,
             "#46039f"
            ],
            [
             0.2222222222222222,
             "#7201a8"
            ],
            [
             0.3333333333333333,
             "#9c179e"
            ],
            [
             0.4444444444444444,
             "#bd3786"
            ],
            [
             0.5555555555555556,
             "#d8576b"
            ],
            [
             0.6666666666666666,
             "#ed7953"
            ],
            [
             0.7777777777777778,
             "#fb9f3a"
            ],
            [
             0.8888888888888888,
             "#fdca26"
            ],
            [
             1,
             "#f0f921"
            ]
           ],
           "sequentialminus": [
            [
             0,
             "#0d0887"
            ],
            [
             0.1111111111111111,
             "#46039f"
            ],
            [
             0.2222222222222222,
             "#7201a8"
            ],
            [
             0.3333333333333333,
             "#9c179e"
            ],
            [
             0.4444444444444444,
             "#bd3786"
            ],
            [
             0.5555555555555556,
             "#d8576b"
            ],
            [
             0.6666666666666666,
             "#ed7953"
            ],
            [
             0.7777777777777778,
             "#fb9f3a"
            ],
            [
             0.8888888888888888,
             "#fdca26"
            ],
            [
             1,
             "#f0f921"
            ]
           ]
          },
          "colorway": [
           "#636efa",
           "#EF553B",
           "#00cc96",
           "#ab63fa",
           "#FFA15A",
           "#19d3f3",
           "#FF6692",
           "#B6E880",
           "#FF97FF",
           "#FECB52"
          ],
          "font": {
           "color": "#2a3f5f"
          },
          "geo": {
           "bgcolor": "white",
           "lakecolor": "white",
           "landcolor": "#E5ECF6",
           "showlakes": true,
           "showland": true,
           "subunitcolor": "white"
          },
          "hoverlabel": {
           "align": "left"
          },
          "hovermode": "closest",
          "mapbox": {
           "style": "light"
          },
          "paper_bgcolor": "white",
          "plot_bgcolor": "#E5ECF6",
          "polar": {
           "angularaxis": {
            "gridcolor": "white",
            "linecolor": "white",
            "ticks": ""
           },
           "bgcolor": "#E5ECF6",
           "radialaxis": {
            "gridcolor": "white",
            "linecolor": "white",
            "ticks": ""
           }
          },
          "scene": {
           "xaxis": {
            "backgroundcolor": "#E5ECF6",
            "gridcolor": "white",
            "gridwidth": 2,
            "linecolor": "white",
            "showbackground": true,
            "ticks": "",
            "zerolinecolor": "white"
           },
           "yaxis": {
            "backgroundcolor": "#E5ECF6",
            "gridcolor": "white",
            "gridwidth": 2,
            "linecolor": "white",
            "showbackground": true,
            "ticks": "",
            "zerolinecolor": "white"
           },
           "zaxis": {
            "backgroundcolor": "#E5ECF6",
            "gridcolor": "white",
            "gridwidth": 2,
            "linecolor": "white",
            "showbackground": true,
            "ticks": "",
            "zerolinecolor": "white"
           }
          },
          "shapedefaults": {
           "line": {
            "color": "#2a3f5f"
           }
          },
          "ternary": {
           "aaxis": {
            "gridcolor": "white",
            "linecolor": "white",
            "ticks": ""
           },
           "baxis": {
            "gridcolor": "white",
            "linecolor": "white",
            "ticks": ""
           },
           "bgcolor": "#E5ECF6",
           "caxis": {
            "gridcolor": "white",
            "linecolor": "white",
            "ticks": ""
           }
          },
          "title": {
           "x": 0.05
          },
          "xaxis": {
           "automargin": true,
           "gridcolor": "white",
           "linecolor": "white",
           "ticks": "",
           "title": {
            "standoff": 15
           },
           "zerolinecolor": "white",
           "zerolinewidth": 2
          },
          "yaxis": {
           "automargin": true,
           "gridcolor": "white",
           "linecolor": "white",
           "ticks": "",
           "title": {
            "standoff": 15
           },
           "zerolinecolor": "white",
           "zerolinewidth": 2
          }
         }
        },
        "title": {
         "text": "Inclusion vs Taxonomy Similarity",
         "x": 0.5,
         "xanchor": "center"
        },
        "width": 900,
        "xaxis": {
         "range": [
          0.4375,
          1
         ],
         "title": {
          "text": "Inclusion Ratio"
         }
        },
        "yaxis": {
         "range": [
          0,
          1
         ],
         "title": {
          "text": "Similarity (mean ± std)"
         }
        }
       }
      }
     },
     "metadata": {},
     "output_type": "display_data"
    }
   ],
   "source": [
    "# PLOT Similarities of SELECTED VALUES in each bin\n",
    "\n",
    "def plot_similarity_vs_inclusion(data_pairs, bins=10, title_str=\"\", column_name=\"\"):\n",
    "    \"\"\"\n",
    "    Plots similarity (mean ± std) vs. inclusion ratio for multiple (df_selected, label) pairs.\n",
    "    \n",
    "    Args:\n",
    "        data_pairs (list of tuples): Each tuple contains (df_selected, label). df_selected must contain 'inclusion_ratio' and 'similarity'.\n",
    "        bins (int): Number of bins for inclusion_ratio.\n",
    "        title_str (str): Title for the plot.\n",
    "    \"\"\"\n",
    "    bin_edges = np.linspace(0, 1, bins + 1)\n",
    "    bin_centers = [(bin_edges[i] + bin_edges[i + 1]) / 2 for i in range(bins)]\n",
    "\n",
    "    colors = ['blue', 'red', 'green', 'orange', 'purple', 'brown', 'teal', 'pink']\n",
    "    dash_styles = ['solid', 'dot', 'dash', 'longdash', 'dashdot', 'longdashdot']\n",
    "    marker_symbols = ['circle', 'square', 'diamond', 'cross', 'x', 'triangle-up']\n",
    "\n",
    "    fig = go.Figure()\n",
    "\n",
    "    for i, (df_selected, label) in enumerate(data_pairs):\n",
    "        # Bin data\n",
    "        selected_binned = pd.cut(df_selected[\"inclusion_ratio\"], bins=bin_edges, include_lowest=True)\n",
    "\n",
    "        # selected_counts = selected_binned.value_counts(sort=False)\n",
    "        # selected_counts = selected_binned.groupby(selected_binned, observed=True).count()\n",
    "        # print(f\"bins num at {i} {selected_counts}\")\n",
    "\n",
    "        # Compute mean and std of similarity in each bin\n",
    "        # mean_similarity = df_selected.groupby(selected_binned)[column_name].mean()\n",
    "        # std_similarity = df_selected.groupby(selected_binned)[column_name].std().fillna(0)\n",
    "\n",
    "        mean_similarity = df_selected.groupby(selected_binned, observed=True)[column_name].mean()\n",
    "        std_similarity = df_selected.groupby(selected_binned, observed=True)[column_name].std().fillna(0)\n",
    "\n",
    "        # Add mean line with error bars (sticks)\n",
    "        fig.add_trace(go.Scatter(\n",
    "            x=bin_centers,\n",
    "            y=mean_similarity.values,\n",
    "            mode='lines+markers',\n",
    "            name=label,\n",
    "            line=dict(color=colors[i % len(colors)], dash=dash_styles[i % len(dash_styles)]),\n",
    "            marker=dict(symbol=marker_symbols[i % len(marker_symbols)], size=8),\n",
    "            error_y=dict(\n",
    "                type='data',\n",
    "                array=std_similarity.values,\n",
    "                visible=True,\n",
    "                color=colors[i % len(colors)]\n",
    "            )\n",
    "        ))\n",
    "\n",
    "    fig.update_layout(\n",
    "        title=dict(\n",
    "        text=f\"{title_str}\",\n",
    "        x=0.5,  # Center the title\n",
    "        xanchor='center'  # Anchor the title at the center\n",
    "        ),\n",
    "        xaxis_title=\"Inclusion Ratio\",\n",
    "        yaxis_title=\"Similarity (mean ± std)\",\n",
    "        xaxis=dict(range=[0.4375, 1]),\n",
    "        yaxis=dict(range=[0, 1]),\n",
    "        width=900,\n",
    "        height=500,\n",
    "        legend=dict(title=\"Legend\", x=0.01, y=0.05),\n",
    "    )\n",
    "\n",
    "    fig.show()\n",
    "\n",
    "plot_similarity_vs_inclusion(\n",
    "    [\n",
    "    (efil3_seq_rag, \"RAG SeqSim\"),\n",
    "    (efil3_seq_norag, \"baseline1\"),\n",
    "    (efil3_raggoal, \"baseline2\"),\n",
    "    (efil3_noraggoal, \"baseline3\")],\n",
    "    title_str=\"Inclusion vs Sequence Similarity\",\n",
    "    bins=8, column_name='sim_seq3'\n",
    "    )\n",
    "\n",
    "plot_similarity_vs_inclusion(\n",
    "    [\n",
    "    (efil3_seq_rag, \"RAG SeqSim\"),\n",
    "    (efil3_seq_norag, \"NoRAG SeqSim\"),],\n",
    "    title_str=\"Inclusion vs Taxonomy Similarity\",\n",
    "    bins=8, column_name='sim_seq3'\n",
    "    )"
   ]
  },
  {
   "cell_type": "code",
   "execution_count": 52,
   "id": "f1fa542a",
   "metadata": {},
   "outputs": [
    {
     "name": "stdout",
     "output_type": "stream",
     "text": [
      "/root/project/f4_evaluate/result_v6/human/human-norag.json\n",
      "213\n",
      "213\n",
      "213\n",
      "213\n",
      "213\n",
      "213\n",
      "213 119\n"
     ]
    },
    {
     "data": {
      "application/vnd.plotly.v1+json": {
       "config": {
        "plotlyServerURL": "https://plot.ly"
       },
       "data": [
        {
         "customdata": [
          [
           2,
           "01ce4fd6-197a-4792-8778-775b03780369"
          ],
          [
           7,
           "02a06bf1-51b8-4902-b088-573e29fcd7ec"
          ],
          [
           8,
           "02a06bf1-51b8-4902-b088-573e29fcd7ec"
          ],
          [
           10,
           "14bcb17c-f70a-41d5-b10d-294388084dfc"
          ],
          [
           11,
           "14bcb17c-f70a-41d5-b10d-294388084dfc"
          ],
          [
           12,
           "1a894d3c-b3ef-448a-a3de-2b38677cef36"
          ],
          [
           13,
           "1a894d3c-b3ef-448a-a3de-2b38677cef36"
          ],
          [
           15,
           "1dc85adb-fbdd-4275-b9cf-42976acb4d14"
          ],
          [
           16,
           "1dc85adb-fbdd-4275-b9cf-42976acb4d14"
          ],
          [
           20,
           "24ba7993-7fc8-4447-afd5-7ff6d548b11a"
          ],
          [
           24,
           "2978ddbc-cdc9-4bfa-9a7c-4bf056904010"
          ],
          [
           25,
           "2978ddbc-cdc9-4bfa-9a7c-4bf056904010"
          ],
          [
           26,
           "2978ddbc-cdc9-4bfa-9a7c-4bf056904010"
          ],
          [
           28,
           "29e00040-6e0f-4f0e-816d-1ac97c1e5485"
          ],
          [
           29,
           "29e00040-6e0f-4f0e-816d-1ac97c1e5485"
          ],
          [
           30,
           "2ba0becb-58c2-43a1-97bb-7e153a34eb47"
          ],
          [
           31,
           "2ba0becb-58c2-43a1-97bb-7e153a34eb47"
          ],
          [
           35,
           "2bc7d6fa-a02e-4367-b316-d6b4e8a2ce3f"
          ],
          [
           36,
           "2c27b5f1-4af6-49ad-a43c-3efb0c150868"
          ],
          [
           37,
           "2c27b5f1-4af6-49ad-a43c-3efb0c150868"
          ],
          [
           38,
           "2c27b5f1-4af6-49ad-a43c-3efb0c150868"
          ],
          [
           39,
           "2da5c1ee-bd40-406d-83a7-2f3d93293949"
          ],
          [
           42,
           "2f46d1e6-2a85-4d46-b955-10c2eded661c"
          ],
          [
           43,
           "2f46d1e6-2a85-4d46-b955-10c2eded661c"
          ],
          [
           44,
           "2f46d1e6-2a85-4d46-b955-10c2eded661c"
          ],
          [
           45,
           "31d6fe77-da70-42da-8f47-66bb79b9285b"
          ],
          [
           46,
           "31d6fe77-da70-42da-8f47-66bb79b9285b"
          ],
          [
           47,
           "31d6fe77-da70-42da-8f47-66bb79b9285b"
          ],
          [
           53,
           "341b5211-bb72-4bec-bd3d-c0d518887960"
          ],
          [
           60,
           "38a7b760-56f9-4565-8b70-f8dad5768ace"
          ],
          [
           61,
           "38a7b760-56f9-4565-8b70-f8dad5768ace"
          ],
          [
           62,
           "38a7b760-56f9-4565-8b70-f8dad5768ace"
          ],
          [
           64,
           "3ec3eab7-842d-409d-8866-42ddcbd24cd9"
          ],
          [
           71,
           "47bb1fd4-d41f-42b4-8d0c-29c4e9fdff9f"
          ],
          [
           74,
           "487d752c-6e22-43e3-9c08-627bc2a6c6d4"
          ],
          [
           78,
           "543e4c99-5d9f-407d-be75-c397d633fe56"
          ],
          [
           79,
           "543e4c99-5d9f-407d-be75-c397d633fe56"
          ],
          [
           80,
           "543e4c99-5d9f-407d-be75-c397d633fe56"
          ],
          [
           81,
           "5461912b-69cd-40d7-8f79-50832f92f049"
          ],
          [
           82,
           "5461912b-69cd-40d7-8f79-50832f92f049"
          ],
          [
           83,
           "5461912b-69cd-40d7-8f79-50832f92f049"
          ],
          [
           84,
           "56fe0c73-77c4-40d9-a687-b2df28d5f7d7"
          ],
          [
           85,
           "56fe0c73-77c4-40d9-a687-b2df28d5f7d7"
          ],
          [
           86,
           "56fe0c73-77c4-40d9-a687-b2df28d5f7d7"
          ],
          [
           92,
           "5c15607b-96af-4503-84b4-d1745f3a3ae0"
          ],
          [
           93,
           "5c2e910c-84e0-4042-b5d6-880a731c3e67"
          ],
          [
           94,
           "5c2e910c-84e0-4042-b5d6-880a731c3e67"
          ],
          [
           96,
           "6628a2fb-19e2-4fe5-aedb-92fe5ceee9c9"
          ],
          [
           97,
           "6628a2fb-19e2-4fe5-aedb-92fe5ceee9c9"
          ],
          [
           98,
           "6628a2fb-19e2-4fe5-aedb-92fe5ceee9c9"
          ],
          [
           99,
           "690f58f1-f18c-4415-bab0-787c2f83d051"
          ],
          [
           100,
           "690f58f1-f18c-4415-bab0-787c2f83d051"
          ],
          [
           101,
           "690f58f1-f18c-4415-bab0-787c2f83d051"
          ],
          [
           102,
           "6ac1d2ed-1f6b-4828-a1ab-f81c40bd5e80"
          ],
          [
           103,
           "6ac1d2ed-1f6b-4828-a1ab-f81c40bd5e80"
          ],
          [
           104,
           "6ac1d2ed-1f6b-4828-a1ab-f81c40bd5e80"
          ],
          [
           105,
           "6dafeac7-75b6-4d69-96f7-d08708a0a99e"
          ],
          [
           106,
           "6dafeac7-75b6-4d69-96f7-d08708a0a99e"
          ],
          [
           107,
           "6dafeac7-75b6-4d69-96f7-d08708a0a99e"
          ],
          [
           108,
           "737e9619-7768-407c-8a4f-6fe1e8d61f04"
          ],
          [
           109,
           "737e9619-7768-407c-8a4f-6fe1e8d61f04"
          ],
          [
           110,
           "737e9619-7768-407c-8a4f-6fe1e8d61f04"
          ],
          [
           111,
           "748536e4-636a-4dc6-b1a7-d9cbfdc1cffd"
          ],
          [
           117,
           "892629b0-61eb-425d-97f4-7d213074c435"
          ],
          [
           118,
           "892629b0-61eb-425d-97f4-7d213074c435"
          ],
          [
           119,
           "892629b0-61eb-425d-97f4-7d213074c435"
          ],
          [
           123,
           "907fd0e7-6821-4e2d-9c62-6d7afad5a9d1"
          ],
          [
           124,
           "907fd0e7-6821-4e2d-9c62-6d7afad5a9d1"
          ],
          [
           125,
           "907fd0e7-6821-4e2d-9c62-6d7afad5a9d1"
          ],
          [
           126,
           "98434f4c-6216-4067-ad59-4a89cb47bb9b"
          ],
          [
           127,
           "98434f4c-6216-4067-ad59-4a89cb47bb9b"
          ],
          [
           128,
           "98434f4c-6216-4067-ad59-4a89cb47bb9b"
          ],
          [
           131,
           "9fabfbc8-1d5c-495e-9bb2-03795f0145ae"
          ],
          [
           133,
           "a267b011-b1db-4e3c-aa49-438e2afdd6dc"
          ],
          [
           134,
           "a267b011-b1db-4e3c-aa49-438e2afdd6dc"
          ],
          [
           136,
           "a6419de9-1e40-4793-b21b-9c8d9038835a"
          ],
          [
           138,
           "ab7ed4f7-10ee-4ccb-bb21-4853c9018b1e"
          ],
          [
           139,
           "ab7ed4f7-10ee-4ccb-bb21-4853c9018b1e"
          ],
          [
           140,
           "ab7ed4f7-10ee-4ccb-bb21-4853c9018b1e"
          ],
          [
           146,
           "ae2d99c2-1720-4354-bc4d-f7bc3e4ee28d"
          ],
          [
           152,
           "b4072935-56a6-4765-bb4d-d5f6bbeb95b9"
          ],
          [
           154,
           "b83285c5-0b88-4ced-a52e-5c34ea371507"
          ],
          [
           155,
           "b83285c5-0b88-4ced-a52e-5c34ea371507"
          ],
          [
           156,
           "cf95d6a4-6ad7-462c-9700-9f04bd993667"
          ],
          [
           157,
           "cf95d6a4-6ad7-462c-9700-9f04bd993667"
          ],
          [
           158,
           "cf95d6a4-6ad7-462c-9700-9f04bd993667"
          ],
          [
           160,
           "d7a2e92e-dc74-4e79-be04-a86f829fc3ec"
          ],
          [
           161,
           "d7a2e92e-dc74-4e79-be04-a86f829fc3ec"
          ],
          [
           164,
           "daf5384b-ea5c-4cce-bb8a-540a360075bf"
          ],
          [
           165,
           "dcd09fa4-afe2-4a0d-9703-83af2867ebd3"
          ],
          [
           166,
           "dcd09fa4-afe2-4a0d-9703-83af2867ebd3"
          ],
          [
           167,
           "dcd09fa4-afe2-4a0d-9703-83af2867ebd3"
          ],
          [
           169,
           "debfb68a-eae2-464e-847a-cd3fea23f3ca"
          ],
          [
           170,
           "debfb68a-eae2-464e-847a-cd3fea23f3ca"
          ],
          [
           174,
           "e250017c-16ff-4825-9c30-160f391e1549"
          ],
          [
           175,
           "e250017c-16ff-4825-9c30-160f391e1549"
          ],
          [
           176,
           "e250017c-16ff-4825-9c30-160f391e1549"
          ],
          [
           177,
           "e4ad6fd7-2e3e-4991-b392-a0056f702286"
          ],
          [
           178,
           "e4ad6fd7-2e3e-4991-b392-a0056f702286"
          ],
          [
           179,
           "e4ad6fd7-2e3e-4991-b392-a0056f702286"
          ],
          [
           180,
           "e6231d1a-1f7f-4198-a499-7635509adfaf"
          ],
          [
           181,
           "e6231d1a-1f7f-4198-a499-7635509adfaf"
          ],
          [
           182,
           "e6231d1a-1f7f-4198-a499-7635509adfaf"
          ],
          [
           187,
           "ec3556de-be79-4ad4-aa0f-eaca48abb5d5"
          ],
          [
           188,
           "ec3556de-be79-4ad4-aa0f-eaca48abb5d5"
          ],
          [
           192,
           "edc1869c-8a97-44fd-ab47-63fda4a54df9"
          ],
          [
           193,
           "edc1869c-8a97-44fd-ab47-63fda4a54df9"
          ],
          [
           199,
           "f5ac654b-8f39-427b-856f-4a9a2d4a3020"
          ],
          [
           200,
           "f5ac654b-8f39-427b-856f-4a9a2d4a3020"
          ],
          [
           201,
           "fea524d4-a1b6-466c-ac48-8777c3fd173d"
          ],
          [
           202,
           "fea524d4-a1b6-466c-ac48-8777c3fd173d"
          ],
          [
           203,
           "fea524d4-a1b6-466c-ac48-8777c3fd173d"
          ],
          [
           204,
           "grp-690f58f1-f18c-4415-bab0-787c2f83d051"
          ],
          [
           205,
           "grp-690f58f1-f18c-4415-bab0-787c2f83d051"
          ],
          [
           206,
           "grp-690f58f1-f18c-4415-bab0-787c2f83d051"
          ],
          [
           207,
           "grp-b59f7f5d-2991-49a6-8e88-0e2f2db92585"
          ],
          [
           210,
           "grp-ffd863cb-f06b-404e-a013-54acb61f1ed9"
          ],
          [
           211,
           "grp-ffd863cb-f06b-404e-a013-54acb61f1ed9"
          ],
          [
           212,
           "grp-ffd863cb-f06b-404e-a013-54acb61f1ed9"
          ]
         ],
         "hovertemplate": "Inclusion Ratio=%{x}<br>sim_tax3=%{y}<br>idx=%{customdata[0]}<br>source_uid=%{customdata[1]}<extra></extra>",
         "legendgroup": "",
         "marker": {
          "color": "#636efa",
          "symbol": "circle"
         },
         "mode": "markers",
         "name": "",
         "orientation": "v",
         "showlegend": false,
         "type": "scatter",
         "x": {
          "bdata": "VVVVVVVV1T9VVVVVVVXlP1VVVVVVVeU/AAAAAAAA8D8AAAAAAADwP5qZmZmZmdk/7FG4HoXr4T/NzMzMzMzsPwAAAAAAAPA/AAAAAAAA7D8zMzMzMzPjP5qZmZmZmek/zczMzMzM7D9mZmZmZmbmP2ZmZmZmZuY/AAAAAAAA4T8AAAAAAADkPwAAAAAAAPA/CtejcD0K1z+4HoXrUbjeP+xRuB6F6+E/MzMzMzMz0z9Ob3rTm97kP05vetOb3uQ/ZCELWchC5j8AAAAAAADQPwAAAAAAAOQ/AAAAAAAA5D8AAAAAAADwP1VVVVVVVeU/VVVVVVVV5T8AAAAAAADwPwAAAAAAAOA/kiRJkiRJ0j8AAAAAAADwPxzHcRzHcew/HMdxHMdx7D8AAAAAAADwP0N5DeU1lOc/Q3kN5TWU5z82lNdQXkPpP57YiZ3Yid0/2Ymd2Imd6D/ZiZ3YiZ3oP5IkSZIkSeI/AAAAAAAA8D8AAAAAAADwPxEREREREeE/MzMzMzMz4z93d3d3d3fnPxQ7sRM7sdM/ntiJndiJ3T+xEzuxEzvhPwAAAAAAANw/AAAAAAAA4j8AAAAAAADiP83MzMzMzOw/7+7u7u7u7j8AAAAAAADwPxQ7sRM7sbM/ntiJndiJzT+e2Imd2InNPwAAAAAAAOA/AAAAAAAA6D8AAAAAAADsPwAAAAAAAPA/mpmZmZmZyT8zMzMzMzPTPzMzMzMzM9M/JUmSJEmS5D8lSZIkSZLkP9u2bdu2bes/AAAAAAAA6D8cx3Ecx3HsPxzHcRzHcew/AAAAAAAA6D+e53me53neP3qe53me5+k/ep7neZ7n6T9iJ3ZiJ3biP5IkSZIkSdI/27Zt27Zt6z8AAAAAAADwP7dt27Zt2+Y/O6iDOqiD6j98xVd8xVfsPwAAAAAAAOg/AAAAAAAA8D8eHh4eHh7eP2ZmZmZmZu4/AAAAAAAA8D8AAAAAAADwPwAAAAAAAPA/AAAAAAAA8D/sxE7sxE7sPwAAAAAAAPA/AAAAAAAA8D8AAAAAAADwPwAAAAAAAPA/AAAAAAAA8D9VVVVVVVXVP6uqqqqqqto/q6qqqqqq2j9VVVVVVVXlPzmO4ziO4+g/KK+hvIby6j82lNdQXkPpPyELWchCFuI/OL3pTW964z9VVVVVVVXtP1VVVVVVVe0/VVVVVVVV7T8or6G8hvLqPyivobyG8uo/jLRjBcJI6z9DFrKQhSzkPyVJkiRJkuQ/AAAAAAAA6D+SJEmSJEnqPw==",
          "dtype": "f8"
         },
         "xaxis": "x",
         "y": {
          "bdata": "Hoq2boev2j8AAAAAAAAAAO7TT9DBV+s/MxuL9C5s6D+8BTpjmZnpP+DojY4EUMs/tIM9/yVP5T8KD0jEa+TrPxOxoW3//+8/KDMzMzMz4z+gW1nMfXrrP0P/0BrTVus/7uTFareS6T+0YhIRZmbmP19mZmZmZuY/pwqW/GVm5j9YZmZmZmbmP+xwb+X16e4/E9K4NP7/7z+HL2NOHXjtP+QqHxBnhO4/4jbo9YBI3j8+isXwvS/oP5SzJD6jxeo/p+Luv1qv6D+gFJC0reDNPw7K/ukxM+M/R2QZR5mZ6T8AAAAAAAAAALmu/ipyQuk/9JmFkH076z/6PxtWy8zsP84Ljq5vTOM/Wy6Z6H/o5z8LHMtJskfjP3quqVHCYOE/NaVoD9Tq4z+KsE4wOPniP28mvYbg1eY/EI64B3/Y4z+6zMzMzMzsP9LOwshjuuM/MF0otP//7z8CddNz7n7uP4qNvpvMzOw/oG0pS1At6T8cOG3F7+jrP0eRaeFkZuY/j57ZP2Vm5j8AAAAAAAAAALnDPleJjt0/BSPekcvM7D/NyrxdmJnpP1tmZmZmZuY/P1bHv5iZ6T8VwZYpmZnpP7/isWPMzOw/DSTzZJ6e7T+uQ7w52XPtP8g2ddkvJd4/+ZVWXB445D9fPb/J0hPjP2ZtK/tlZuY/iV41LUQy6z+7kWhgd2XuP6SMSRJH/e8/GnVEXjkM7j8mBKj4eBfuP7/MzMzMzOw/nbY1NEjO7D979KtVUgjlP+Ml1wf//+8/iZmZmZmZ6T+4/jh////vP7rMzMzMzOw/k+ihyf//7z8AeShl4a3qP6cvUXbLzOw/sOHblMzM7D+djwbho+7bP29SYXgR0tE/Tbe1csvM7D9uLXdk2uTtP9aWx2S7zOw/dUiosf7/7z8GyvqX7v/vP1qHwm3//+8/4Am5asT/7z9Oa2+UHcrrP/ck4Gz+/+8/Zr+ibzO/6z/o///////vPzWUuIz8/+8//7JJp///7z/AzMzMzMzsP+XTFsP+/+8/8v//////7z8cr14EXrDtPzB0re3+/+8/B0RK1KXw7T+RTVjhHaLtP7iq1J/NrOo/PhTMtf//7z+U9bJl///vPwqQwL///+8/Bc5zjf7/7z/fhFD6E+jtPxG8XZ4K0+c/KDMzMzMz4z+PPokc/v/vP+oNa143FOs/0c1NT/D87j8GE+6UzMzsP1A4JJPMzOw/uszMzMzM7D/N5Hadr7HhPx78fJjMzOw/DPiXwf//7z/QxGlh///vPw==",
          "dtype": "f8"
         },
         "yaxis": "y"
        },
        {
         "line": {
          "color": "green",
          "dash": "dot"
         },
         "mode": "lines+markers",
         "name": "Ratio (mybool=True / all)",
         "type": "scatter",
         "x": [
          0.0995,
          0.30000000000000004,
          0.5,
          0.7,
          0.9
         ],
         "y": [
          0.07142857142857142,
          0.3939393939393939,
          0.5238095238095238,
          0.7674418604651163,
          0.7313432835820896
         ],
         "yaxis": "y2"
        }
       ],
       "layout": {
        "legend": {
         "tracegroupgap": 0
        },
        "template": {
         "data": {
          "bar": [
           {
            "error_x": {
             "color": "#2a3f5f"
            },
            "error_y": {
             "color": "#2a3f5f"
            },
            "marker": {
             "line": {
              "color": "#E5ECF6",
              "width": 0.5
             },
             "pattern": {
              "fillmode": "overlay",
              "size": 10,
              "solidity": 0.2
             }
            },
            "type": "bar"
           }
          ],
          "barpolar": [
           {
            "marker": {
             "line": {
              "color": "#E5ECF6",
              "width": 0.5
             },
             "pattern": {
              "fillmode": "overlay",
              "size": 10,
              "solidity": 0.2
             }
            },
            "type": "barpolar"
           }
          ],
          "carpet": [
           {
            "aaxis": {
             "endlinecolor": "#2a3f5f",
             "gridcolor": "white",
             "linecolor": "white",
             "minorgridcolor": "white",
             "startlinecolor": "#2a3f5f"
            },
            "baxis": {
             "endlinecolor": "#2a3f5f",
             "gridcolor": "white",
             "linecolor": "white",
             "minorgridcolor": "white",
             "startlinecolor": "#2a3f5f"
            },
            "type": "carpet"
           }
          ],
          "choropleth": [
           {
            "colorbar": {
             "outlinewidth": 0,
             "ticks": ""
            },
            "type": "choropleth"
           }
          ],
          "contour": [
           {
            "colorbar": {
             "outlinewidth": 0,
             "ticks": ""
            },
            "colorscale": [
             [
              0,
              "#0d0887"
             ],
             [
              0.1111111111111111,
              "#46039f"
             ],
             [
              0.2222222222222222,
              "#7201a8"
             ],
             [
              0.3333333333333333,
              "#9c179e"
             ],
             [
              0.4444444444444444,
              "#bd3786"
             ],
             [
              0.5555555555555556,
              "#d8576b"
             ],
             [
              0.6666666666666666,
              "#ed7953"
             ],
             [
              0.7777777777777778,
              "#fb9f3a"
             ],
             [
              0.8888888888888888,
              "#fdca26"
             ],
             [
              1,
              "#f0f921"
             ]
            ],
            "type": "contour"
           }
          ],
          "contourcarpet": [
           {
            "colorbar": {
             "outlinewidth": 0,
             "ticks": ""
            },
            "type": "contourcarpet"
           }
          ],
          "heatmap": [
           {
            "colorbar": {
             "outlinewidth": 0,
             "ticks": ""
            },
            "colorscale": [
             [
              0,
              "#0d0887"
             ],
             [
              0.1111111111111111,
              "#46039f"
             ],
             [
              0.2222222222222222,
              "#7201a8"
             ],
             [
              0.3333333333333333,
              "#9c179e"
             ],
             [
              0.4444444444444444,
              "#bd3786"
             ],
             [
              0.5555555555555556,
              "#d8576b"
             ],
             [
              0.6666666666666666,
              "#ed7953"
             ],
             [
              0.7777777777777778,
              "#fb9f3a"
             ],
             [
              0.8888888888888888,
              "#fdca26"
             ],
             [
              1,
              "#f0f921"
             ]
            ],
            "type": "heatmap"
           }
          ],
          "histogram": [
           {
            "marker": {
             "pattern": {
              "fillmode": "overlay",
              "size": 10,
              "solidity": 0.2
             }
            },
            "type": "histogram"
           }
          ],
          "histogram2d": [
           {
            "colorbar": {
             "outlinewidth": 0,
             "ticks": ""
            },
            "colorscale": [
             [
              0,
              "#0d0887"
             ],
             [
              0.1111111111111111,
              "#46039f"
             ],
             [
              0.2222222222222222,
              "#7201a8"
             ],
             [
              0.3333333333333333,
              "#9c179e"
             ],
             [
              0.4444444444444444,
              "#bd3786"
             ],
             [
              0.5555555555555556,
              "#d8576b"
             ],
             [
              0.6666666666666666,
              "#ed7953"
             ],
             [
              0.7777777777777778,
              "#fb9f3a"
             ],
             [
              0.8888888888888888,
              "#fdca26"
             ],
             [
              1,
              "#f0f921"
             ]
            ],
            "type": "histogram2d"
           }
          ],
          "histogram2dcontour": [
           {
            "colorbar": {
             "outlinewidth": 0,
             "ticks": ""
            },
            "colorscale": [
             [
              0,
              "#0d0887"
             ],
             [
              0.1111111111111111,
              "#46039f"
             ],
             [
              0.2222222222222222,
              "#7201a8"
             ],
             [
              0.3333333333333333,
              "#9c179e"
             ],
             [
              0.4444444444444444,
              "#bd3786"
             ],
             [
              0.5555555555555556,
              "#d8576b"
             ],
             [
              0.6666666666666666,
              "#ed7953"
             ],
             [
              0.7777777777777778,
              "#fb9f3a"
             ],
             [
              0.8888888888888888,
              "#fdca26"
             ],
             [
              1,
              "#f0f921"
             ]
            ],
            "type": "histogram2dcontour"
           }
          ],
          "mesh3d": [
           {
            "colorbar": {
             "outlinewidth": 0,
             "ticks": ""
            },
            "type": "mesh3d"
           }
          ],
          "parcoords": [
           {
            "line": {
             "colorbar": {
              "outlinewidth": 0,
              "ticks": ""
             }
            },
            "type": "parcoords"
           }
          ],
          "pie": [
           {
            "automargin": true,
            "type": "pie"
           }
          ],
          "scatter": [
           {
            "fillpattern": {
             "fillmode": "overlay",
             "size": 10,
             "solidity": 0.2
            },
            "type": "scatter"
           }
          ],
          "scatter3d": [
           {
            "line": {
             "colorbar": {
              "outlinewidth": 0,
              "ticks": ""
             }
            },
            "marker": {
             "colorbar": {
              "outlinewidth": 0,
              "ticks": ""
             }
            },
            "type": "scatter3d"
           }
          ],
          "scattercarpet": [
           {
            "marker": {
             "colorbar": {
              "outlinewidth": 0,
              "ticks": ""
             }
            },
            "type": "scattercarpet"
           }
          ],
          "scattergeo": [
           {
            "marker": {
             "colorbar": {
              "outlinewidth": 0,
              "ticks": ""
             }
            },
            "type": "scattergeo"
           }
          ],
          "scattergl": [
           {
            "marker": {
             "colorbar": {
              "outlinewidth": 0,
              "ticks": ""
             }
            },
            "type": "scattergl"
           }
          ],
          "scattermap": [
           {
            "marker": {
             "colorbar": {
              "outlinewidth": 0,
              "ticks": ""
             }
            },
            "type": "scattermap"
           }
          ],
          "scattermapbox": [
           {
            "marker": {
             "colorbar": {
              "outlinewidth": 0,
              "ticks": ""
             }
            },
            "type": "scattermapbox"
           }
          ],
          "scatterpolar": [
           {
            "marker": {
             "colorbar": {
              "outlinewidth": 0,
              "ticks": ""
             }
            },
            "type": "scatterpolar"
           }
          ],
          "scatterpolargl": [
           {
            "marker": {
             "colorbar": {
              "outlinewidth": 0,
              "ticks": ""
             }
            },
            "type": "scatterpolargl"
           }
          ],
          "scatterternary": [
           {
            "marker": {
             "colorbar": {
              "outlinewidth": 0,
              "ticks": ""
             }
            },
            "type": "scatterternary"
           }
          ],
          "surface": [
           {
            "colorbar": {
             "outlinewidth": 0,
             "ticks": ""
            },
            "colorscale": [
             [
              0,
              "#0d0887"
             ],
             [
              0.1111111111111111,
              "#46039f"
             ],
             [
              0.2222222222222222,
              "#7201a8"
             ],
             [
              0.3333333333333333,
              "#9c179e"
             ],
             [
              0.4444444444444444,
              "#bd3786"
             ],
             [
              0.5555555555555556,
              "#d8576b"
             ],
             [
              0.6666666666666666,
              "#ed7953"
             ],
             [
              0.7777777777777778,
              "#fb9f3a"
             ],
             [
              0.8888888888888888,
              "#fdca26"
             ],
             [
              1,
              "#f0f921"
             ]
            ],
            "type": "surface"
           }
          ],
          "table": [
           {
            "cells": {
             "fill": {
              "color": "#EBF0F8"
             },
             "line": {
              "color": "white"
             }
            },
            "header": {
             "fill": {
              "color": "#C8D4E3"
             },
             "line": {
              "color": "white"
             }
            },
            "type": "table"
           }
          ]
         },
         "layout": {
          "annotationdefaults": {
           "arrowcolor": "#2a3f5f",
           "arrowhead": 0,
           "arrowwidth": 1
          },
          "autotypenumbers": "strict",
          "coloraxis": {
           "colorbar": {
            "outlinewidth": 0,
            "ticks": ""
           }
          },
          "colorscale": {
           "diverging": [
            [
             0,
             "#8e0152"
            ],
            [
             0.1,
             "#c51b7d"
            ],
            [
             0.2,
             "#de77ae"
            ],
            [
             0.3,
             "#f1b6da"
            ],
            [
             0.4,
             "#fde0ef"
            ],
            [
             0.5,
             "#f7f7f7"
            ],
            [
             0.6,
             "#e6f5d0"
            ],
            [
             0.7,
             "#b8e186"
            ],
            [
             0.8,
             "#7fbc41"
            ],
            [
             0.9,
             "#4d9221"
            ],
            [
             1,
             "#276419"
            ]
           ],
           "sequential": [
            [
             0,
             "#0d0887"
            ],
            [
             0.1111111111111111,
             "#46039f"
            ],
            [
             0.2222222222222222,
             "#7201a8"
            ],
            [
             0.3333333333333333,
             "#9c179e"
            ],
            [
             0.4444444444444444,
             "#bd3786"
            ],
            [
             0.5555555555555556,
             "#d8576b"
            ],
            [
             0.6666666666666666,
             "#ed7953"
            ],
            [
             0.7777777777777778,
             "#fb9f3a"
            ],
            [
             0.8888888888888888,
             "#fdca26"
            ],
            [
             1,
             "#f0f921"
            ]
           ],
           "sequentialminus": [
            [
             0,
             "#0d0887"
            ],
            [
             0.1111111111111111,
             "#46039f"
            ],
            [
             0.2222222222222222,
             "#7201a8"
            ],
            [
             0.3333333333333333,
             "#9c179e"
            ],
            [
             0.4444444444444444,
             "#bd3786"
            ],
            [
             0.5555555555555556,
             "#d8576b"
            ],
            [
             0.6666666666666666,
             "#ed7953"
            ],
            [
             0.7777777777777778,
             "#fb9f3a"
            ],
            [
             0.8888888888888888,
             "#fdca26"
            ],
            [
             1,
             "#f0f921"
            ]
           ]
          },
          "colorway": [
           "#636efa",
           "#EF553B",
           "#00cc96",
           "#ab63fa",
           "#FFA15A",
           "#19d3f3",
           "#FF6692",
           "#B6E880",
           "#FF97FF",
           "#FECB52"
          ],
          "font": {
           "color": "#2a3f5f"
          },
          "geo": {
           "bgcolor": "white",
           "lakecolor": "white",
           "landcolor": "#E5ECF6",
           "showlakes": true,
           "showland": true,
           "subunitcolor": "white"
          },
          "hoverlabel": {
           "align": "left"
          },
          "hovermode": "closest",
          "mapbox": {
           "style": "light"
          },
          "paper_bgcolor": "white",
          "plot_bgcolor": "#E5ECF6",
          "polar": {
           "angularaxis": {
            "gridcolor": "white",
            "linecolor": "white",
            "ticks": ""
           },
           "bgcolor": "#E5ECF6",
           "radialaxis": {
            "gridcolor": "white",
            "linecolor": "white",
            "ticks": ""
           }
          },
          "scene": {
           "xaxis": {
            "backgroundcolor": "#E5ECF6",
            "gridcolor": "white",
            "gridwidth": 2,
            "linecolor": "white",
            "showbackground": true,
            "ticks": "",
            "zerolinecolor": "white"
           },
           "yaxis": {
            "backgroundcolor": "#E5ECF6",
            "gridcolor": "white",
            "gridwidth": 2,
            "linecolor": "white",
            "showbackground": true,
            "ticks": "",
            "zerolinecolor": "white"
           },
           "zaxis": {
            "backgroundcolor": "#E5ECF6",
            "gridcolor": "white",
            "gridwidth": 2,
            "linecolor": "white",
            "showbackground": true,
            "ticks": "",
            "zerolinecolor": "white"
           }
          },
          "shapedefaults": {
           "line": {
            "color": "#2a3f5f"
           }
          },
          "ternary": {
           "aaxis": {
            "gridcolor": "white",
            "linecolor": "white",
            "ticks": ""
           },
           "baxis": {
            "gridcolor": "white",
            "linecolor": "white",
            "ticks": ""
           },
           "bgcolor": "#E5ECF6",
           "caxis": {
            "gridcolor": "white",
            "linecolor": "white",
            "ticks": ""
           }
          },
          "title": {
           "x": 0.05
          },
          "xaxis": {
           "automargin": true,
           "gridcolor": "white",
           "linecolor": "white",
           "ticks": "",
           "title": {
            "standoff": 15
           },
           "zerolinecolor": "white",
           "zerolinewidth": 2
          },
          "yaxis": {
           "automargin": true,
           "gridcolor": "white",
           "linecolor": "white",
           "ticks": "",
           "title": {
            "standoff": 15
           },
           "zerolinecolor": "white",
           "zerolinewidth": 2
          }
         }
        },
        "title": {
         "text": "Inclusion Ratio vs. sim_tax3 (bool=True) 119/213"
        },
        "xaxis": {
         "anchor": "y",
         "domain": [
          0,
          1
         ],
         "range": [
          -0.1,
          1.1
         ],
         "title": {
          "text": "Inclusion Ratio"
         }
        },
        "yaxis": {
         "anchor": "x",
         "domain": [
          0,
          1
         ],
         "range": [
          0,
          1.1
         ],
         "title": {
          "text": "sim_tax3"
         }
        },
        "yaxis2": {
         "overlaying": "y",
         "range": [
          0,
          1.1
         ],
         "side": "right",
         "title": {
          "text": "Ratio"
         }
        }
       }
      }
     },
     "metadata": {},
     "output_type": "display_data"
    },
    {
     "name": "stdout",
     "output_type": "stream",
     "text": [
      "213 127\n"
     ]
    },
    {
     "data": {
      "application/vnd.plotly.v1+json": {
       "config": {
        "plotlyServerURL": "https://plot.ly"
       },
       "data": [
        {
         "customdata": [
          [
           1,
           "01ce4fd6-197a-4792-8778-775b03780369"
          ],
          [
           2,
           "01ce4fd6-197a-4792-8778-775b03780369"
          ],
          [
           4,
           "026dac2d-2ab3-4f9c-9e1d-6198db4fb080"
          ],
          [
           7,
           "02a06bf1-51b8-4902-b088-573e29fcd7ec"
          ],
          [
           8,
           "02a06bf1-51b8-4902-b088-573e29fcd7ec"
          ],
          [
           10,
           "14bcb17c-f70a-41d5-b10d-294388084dfc"
          ],
          [
           11,
           "14bcb17c-f70a-41d5-b10d-294388084dfc"
          ],
          [
           12,
           "1a894d3c-b3ef-448a-a3de-2b38677cef36"
          ],
          [
           13,
           "1a894d3c-b3ef-448a-a3de-2b38677cef36"
          ],
          [
           14,
           "1a894d3c-b3ef-448a-a3de-2b38677cef36"
          ],
          [
           15,
           "1dc85adb-fbdd-4275-b9cf-42976acb4d14"
          ],
          [
           24,
           "2978ddbc-cdc9-4bfa-9a7c-4bf056904010"
          ],
          [
           27,
           "29e00040-6e0f-4f0e-816d-1ac97c1e5485"
          ],
          [
           28,
           "29e00040-6e0f-4f0e-816d-1ac97c1e5485"
          ],
          [
           29,
           "29e00040-6e0f-4f0e-816d-1ac97c1e5485"
          ],
          [
           30,
           "2ba0becb-58c2-43a1-97bb-7e153a34eb47"
          ],
          [
           31,
           "2ba0becb-58c2-43a1-97bb-7e153a34eb47"
          ],
          [
           32,
           "2ba0becb-58c2-43a1-97bb-7e153a34eb47"
          ],
          [
           33,
           "2bc7d6fa-a02e-4367-b316-d6b4e8a2ce3f"
          ],
          [
           34,
           "2bc7d6fa-a02e-4367-b316-d6b4e8a2ce3f"
          ],
          [
           35,
           "2bc7d6fa-a02e-4367-b316-d6b4e8a2ce3f"
          ],
          [
           36,
           "2c27b5f1-4af6-49ad-a43c-3efb0c150868"
          ],
          [
           37,
           "2c27b5f1-4af6-49ad-a43c-3efb0c150868"
          ],
          [
           42,
           "2f46d1e6-2a85-4d46-b955-10c2eded661c"
          ],
          [
           43,
           "2f46d1e6-2a85-4d46-b955-10c2eded661c"
          ],
          [
           44,
           "2f46d1e6-2a85-4d46-b955-10c2eded661c"
          ],
          [
           53,
           "341b5211-bb72-4bec-bd3d-c0d518887960"
          ],
          [
           54,
           "35080724-6604-401c-8b06-19b7cece3d45"
          ],
          [
           55,
           "35080724-6604-401c-8b06-19b7cece3d45"
          ],
          [
           56,
           "35080724-6604-401c-8b06-19b7cece3d45"
          ],
          [
           61,
           "38a7b760-56f9-4565-8b70-f8dad5768ace"
          ],
          [
           62,
           "38a7b760-56f9-4565-8b70-f8dad5768ace"
          ],
          [
           63,
           "3ec3eab7-842d-409d-8866-42ddcbd24cd9"
          ],
          [
           64,
           "3ec3eab7-842d-409d-8866-42ddcbd24cd9"
          ],
          [
           65,
           "3ec3eab7-842d-409d-8866-42ddcbd24cd9"
          ],
          [
           67,
           "46e07357-6946-4ff0-ba36-ae11840bdc39"
          ],
          [
           68,
           "46e07357-6946-4ff0-ba36-ae11840bdc39"
          ],
          [
           69,
           "47bb1fd4-d41f-42b4-8d0c-29c4e9fdff9f"
          ],
          [
           70,
           "47bb1fd4-d41f-42b4-8d0c-29c4e9fdff9f"
          ],
          [
           71,
           "47bb1fd4-d41f-42b4-8d0c-29c4e9fdff9f"
          ],
          [
           74,
           "487d752c-6e22-43e3-9c08-627bc2a6c6d4"
          ],
          [
           78,
           "543e4c99-5d9f-407d-be75-c397d633fe56"
          ],
          [
           79,
           "543e4c99-5d9f-407d-be75-c397d633fe56"
          ],
          [
           80,
           "543e4c99-5d9f-407d-be75-c397d633fe56"
          ],
          [
           81,
           "5461912b-69cd-40d7-8f79-50832f92f049"
          ],
          [
           82,
           "5461912b-69cd-40d7-8f79-50832f92f049"
          ],
          [
           83,
           "5461912b-69cd-40d7-8f79-50832f92f049"
          ],
          [
           84,
           "56fe0c73-77c4-40d9-a687-b2df28d5f7d7"
          ],
          [
           85,
           "56fe0c73-77c4-40d9-a687-b2df28d5f7d7"
          ],
          [
           86,
           "56fe0c73-77c4-40d9-a687-b2df28d5f7d7"
          ],
          [
           91,
           "5c15607b-96af-4503-84b4-d1745f3a3ae0"
          ],
          [
           92,
           "5c15607b-96af-4503-84b4-d1745f3a3ae0"
          ],
          [
           93,
           "5c2e910c-84e0-4042-b5d6-880a731c3e67"
          ],
          [
           94,
           "5c2e910c-84e0-4042-b5d6-880a731c3e67"
          ],
          [
           95,
           "5c2e910c-84e0-4042-b5d6-880a731c3e67"
          ],
          [
           96,
           "6628a2fb-19e2-4fe5-aedb-92fe5ceee9c9"
          ],
          [
           97,
           "6628a2fb-19e2-4fe5-aedb-92fe5ceee9c9"
          ],
          [
           98,
           "6628a2fb-19e2-4fe5-aedb-92fe5ceee9c9"
          ],
          [
           99,
           "690f58f1-f18c-4415-bab0-787c2f83d051"
          ],
          [
           101,
           "690f58f1-f18c-4415-bab0-787c2f83d051"
          ],
          [
           102,
           "6ac1d2ed-1f6b-4828-a1ab-f81c40bd5e80"
          ],
          [
           103,
           "6ac1d2ed-1f6b-4828-a1ab-f81c40bd5e80"
          ],
          [
           104,
           "6ac1d2ed-1f6b-4828-a1ab-f81c40bd5e80"
          ],
          [
           105,
           "6dafeac7-75b6-4d69-96f7-d08708a0a99e"
          ],
          [
           106,
           "6dafeac7-75b6-4d69-96f7-d08708a0a99e"
          ],
          [
           107,
           "6dafeac7-75b6-4d69-96f7-d08708a0a99e"
          ],
          [
           110,
           "737e9619-7768-407c-8a4f-6fe1e8d61f04"
          ],
          [
           112,
           "748536e4-636a-4dc6-b1a7-d9cbfdc1cffd"
          ],
          [
           113,
           "748536e4-636a-4dc6-b1a7-d9cbfdc1cffd"
          ],
          [
           116,
           "7e8d03f2-2ff9-431d-af81-e5ffcd954a63"
          ],
          [
           117,
           "892629b0-61eb-425d-97f4-7d213074c435"
          ],
          [
           118,
           "892629b0-61eb-425d-97f4-7d213074c435"
          ],
          [
           119,
           "892629b0-61eb-425d-97f4-7d213074c435"
          ],
          [
           120,
           "89857b33-fa50-469a-bbb3-91c8ab655931"
          ],
          [
           121,
           "89857b33-fa50-469a-bbb3-91c8ab655931"
          ],
          [
           123,
           "907fd0e7-6821-4e2d-9c62-6d7afad5a9d1"
          ],
          [
           124,
           "907fd0e7-6821-4e2d-9c62-6d7afad5a9d1"
          ],
          [
           125,
           "907fd0e7-6821-4e2d-9c62-6d7afad5a9d1"
          ],
          [
           126,
           "98434f4c-6216-4067-ad59-4a89cb47bb9b"
          ],
          [
           127,
           "98434f4c-6216-4067-ad59-4a89cb47bb9b"
          ],
          [
           128,
           "98434f4c-6216-4067-ad59-4a89cb47bb9b"
          ],
          [
           130,
           "9fabfbc8-1d5c-495e-9bb2-03795f0145ae"
          ],
          [
           131,
           "9fabfbc8-1d5c-495e-9bb2-03795f0145ae"
          ],
          [
           133,
           "a267b011-b1db-4e3c-aa49-438e2afdd6dc"
          ],
          [
           134,
           "a267b011-b1db-4e3c-aa49-438e2afdd6dc"
          ],
          [
           135,
           "a6419de9-1e40-4793-b21b-9c8d9038835a"
          ],
          [
           136,
           "a6419de9-1e40-4793-b21b-9c8d9038835a"
          ],
          [
           137,
           "a6419de9-1e40-4793-b21b-9c8d9038835a"
          ],
          [
           139,
           "ab7ed4f7-10ee-4ccb-bb21-4853c9018b1e"
          ],
          [
           144,
           "ae2d99c2-1720-4354-bc4d-f7bc3e4ee28d"
          ],
          [
           147,
           "b17ff269-ec2d-4ad8-88aa-b00b75921427"
          ],
          [
           148,
           "b17ff269-ec2d-4ad8-88aa-b00b75921427"
          ],
          [
           155,
           "b83285c5-0b88-4ced-a52e-5c34ea371507"
          ],
          [
           156,
           "cf95d6a4-6ad7-462c-9700-9f04bd993667"
          ],
          [
           157,
           "cf95d6a4-6ad7-462c-9700-9f04bd993667"
          ],
          [
           158,
           "cf95d6a4-6ad7-462c-9700-9f04bd993667"
          ],
          [
           160,
           "d7a2e92e-dc74-4e79-be04-a86f829fc3ec"
          ],
          [
           161,
           "d7a2e92e-dc74-4e79-be04-a86f829fc3ec"
          ],
          [
           165,
           "dcd09fa4-afe2-4a0d-9703-83af2867ebd3"
          ],
          [
           166,
           "dcd09fa4-afe2-4a0d-9703-83af2867ebd3"
          ],
          [
           167,
           "dcd09fa4-afe2-4a0d-9703-83af2867ebd3"
          ],
          [
           168,
           "debfb68a-eae2-464e-847a-cd3fea23f3ca"
          ],
          [
           169,
           "debfb68a-eae2-464e-847a-cd3fea23f3ca"
          ],
          [
           170,
           "debfb68a-eae2-464e-847a-cd3fea23f3ca"
          ],
          [
           173,
           "e09a667f-04bc-49b5-8246-daf248a29174"
          ],
          [
           174,
           "e250017c-16ff-4825-9c30-160f391e1549"
          ],
          [
           175,
           "e250017c-16ff-4825-9c30-160f391e1549"
          ],
          [
           176,
           "e250017c-16ff-4825-9c30-160f391e1549"
          ],
          [
           177,
           "e4ad6fd7-2e3e-4991-b392-a0056f702286"
          ],
          [
           178,
           "e4ad6fd7-2e3e-4991-b392-a0056f702286"
          ],
          [
           179,
           "e4ad6fd7-2e3e-4991-b392-a0056f702286"
          ],
          [
           180,
           "e6231d1a-1f7f-4198-a499-7635509adfaf"
          ],
          [
           187,
           "ec3556de-be79-4ad4-aa0f-eaca48abb5d5"
          ],
          [
           188,
           "ec3556de-be79-4ad4-aa0f-eaca48abb5d5"
          ],
          [
           192,
           "edc1869c-8a97-44fd-ab47-63fda4a54df9"
          ],
          [
           194,
           "edc1869c-8a97-44fd-ab47-63fda4a54df9"
          ],
          [
           201,
           "fea524d4-a1b6-466c-ac48-8777c3fd173d"
          ],
          [
           202,
           "fea524d4-a1b6-466c-ac48-8777c3fd173d"
          ],
          [
           203,
           "fea524d4-a1b6-466c-ac48-8777c3fd173d"
          ],
          [
           204,
           "grp-690f58f1-f18c-4415-bab0-787c2f83d051"
          ],
          [
           205,
           "grp-690f58f1-f18c-4415-bab0-787c2f83d051"
          ],
          [
           206,
           "grp-690f58f1-f18c-4415-bab0-787c2f83d051"
          ],
          [
           207,
           "grp-b59f7f5d-2991-49a6-8e88-0e2f2db92585"
          ],
          [
           208,
           "grp-b59f7f5d-2991-49a6-8e88-0e2f2db92585"
          ],
          [
           210,
           "grp-ffd863cb-f06b-404e-a013-54acb61f1ed9"
          ],
          [
           211,
           "grp-ffd863cb-f06b-404e-a013-54acb61f1ed9"
          ],
          [
           212,
           "grp-ffd863cb-f06b-404e-a013-54acb61f1ed9"
          ]
         ],
         "hovertemplate": "Inclusion Ratio=%{x}<br>sim_tax3=%{y}<br>idx=%{customdata[0]}<br>source_uid=%{customdata[1]}<extra></extra>",
         "legendgroup": "",
         "marker": {
          "color": "#636efa",
          "symbol": "circle"
         },
         "mode": "markers",
         "name": "",
         "orientation": "v",
         "showlegend": false,
         "type": "scatter",
         "x": {
          "bdata": "VVVVVVVV1T9VVVVVVVXVPxzHcRzHcew/VVVVVVVV5T9VVVVVVVXlPwAAAAAAAPA/AAAAAAAA8D+amZmZmZnZP+xRuB6F6+E/MzMzMzMz4z/NzMzMzMzsPzMzMzMzM+M/3t3d3d3d3T9mZmZmZmbmP2ZmZmZmZuY/AAAAAAAA4T8AAAAAAADkPwAAAAAAAOQ/AAAAAAAA8D8AAAAAAADwPwAAAAAAAPA/CtejcD0K1z+4HoXrUbjeP05vetOb3uQ/Tm9605ve5D9kIQtZyELmPwAAAAAAAPA/zczMzMzM5D8AAAAAAADoPwAAAAAAAOg/VVVVVVVV5T8AAAAAAADwP6uqqqqqqto/AAAAAAAA4D8AAAAAAADgPwAAAAAAAOA/JUmSJEmS5D8AAAAAAAAAAJIkSZIkSdI/kiRJkiRJ0j8AAAAAAADwPxzHcRzHcew/HMdxHMdx7D8AAAAAAADwP0N5DeU1lOc/Q3kN5TWU5z82lNdQXkPpP57YiZ3Yid0/2Ymd2Imd6D/ZiZ3YiZ3oPxW8nIKXU+A/kiRJkiRJ4j8AAAAAAADwPwAAAAAAAPA/AAAAAAAA8D8RERERERHhPzMzMzMzM+M/d3d3d3d35z8UO7ETO7HTP7ETO7ETO+E/AAAAAAAA3D8AAAAAAADiPwAAAAAAAOI/zczMzMzM7D/v7u7u7u7uPwAAAAAAAPA/ntiJndiJzT+rqqqqqqrqPwAAAAAAAPA/kiRJkiRJ4j8AAAAAAADoPwAAAAAAAOw/AAAAAAAA8D8AAAAAAADwPwAAAAAAAPA/mpmZmZmZyT8zMzMzMzPTPzMzMzMzM9M/JUmSJEmS5D8lSZIkSZLkP9u2bdu2bes/AAAAAAAA0D8AAAAAAADoPxzHcRzHcew/HMdxHMdx7D9JkiRJkiTZPwAAAAAAAOg/SZIkSZIk6T96nud5nufpPwAAAAAAAOA/mpmZmZmZyT8zMzMzMzPTPwAAAAAAAPA/t23btm3b5j87qIM6qIPqP3zFV3zFV+w/AAAAAAAA6D8AAAAAAADwP2ZmZmZmZu4/AAAAAAAA8D8AAAAAAADwP8dxHMdxHOc/AAAAAAAA8D8AAAAAAADwPwAAAAAAAOg/7MRO7MRO7D8AAAAAAADwPwAAAAAAAPA/AAAAAAAA8D8AAAAAAADwPwAAAAAAAPA/VVVVVVVV1T9VVVVVVVXlPzmO4ziO4+g/KK+hvIby6j8bymsor6HsP1VVVVVVVe0/VVVVVVVV7T9VVVVVVVXtPyivobyG8uo/KK+hvIby6j+MtGMFwkjrP0MWspCFLOQ/pze96U1v6j8lSZIkSZLkPwAAAAAAAOg/kiRJkiRJ6j8=",
          "dtype": "f8"
         },
         "xaxis": "x",
         "y": {
          "bdata": "0WgtsQnh4T+VmZmZmZnJP5aPtLn9/98/J4v/zuXr7z/OKz+LXb/rP1tmZmZmZuY/W2ZmZmZm5j/c+8C4zBviPzmIF0dxG+I/gZw+rmLX4j+u+kV7y8zsP1ZxkOQQw+0/uDDBHT1j5z9sYzcJ3lbrP0RpW2DLzOw/WGZmZmZm5j+U5e8BZmbmPzCJunAPZuY/OFxoA/jp7j/yZO/Y/v/vP7Fn4+0JOOw/ytrKJ1n56T9o5OHg+wTvPwTwIpCYxeo/qS/W1r3D6j+kx1vipMXqPygzMzMzM+M/AB36vP7/7z/kgBdy/v/vPylcRZpJv+0/khMalRfD6j/T4IYgk7HtP1zajxCxFdo/MFAMwnX96z+4ZH5sSZ7qP8IUYzmlLeo/M8UPn98a7T/olDC8sGbXPxMYWiGs/+Q/WwtSY1il5D8x1iRj4yjsPzn1faFsZeQ/nwCJ/7AZ2j9HpQro+FzkP5xiACUENe4/fr4LSP7/7z+09eDB/v/vPwfPAJPMzOw/5BexDDv47j/y///////vP2Z9OgTlNu4/5v//////7z/Y2pki6M3tP0h8lXT96Os/zJ6e2O5J6z9uhMQ005LuP5JZvsjji+U/Ks0Y1fjc7T/0IwgZMLTlP16GCpSYmek/rvcDMmZm5j+YozEHjBTuP8Ipe5TEE+4/ufAzWrJh6z+6wPHO///vP8GUA3j//+8/XKFt5R+b7T/y///////vP/sGxZT//+8/TP9A+YzQ6T/glG13upfpP2kPQlZNces/cKTP6f7/7z/o///////vP9aRZaX//+8/jZc7Dt+o7T8i0igCBObqP7m22ugHrOk/Up0IsbTv6j8dGLl1XYrnP+///////+8/RgoC1BWL6j90ed+w///vP2x3HM7//+8/2Ly+Sv7/7z84YoPbwyfnP1TZ06r+/+8/ok7x0P//7z/a3y3WQszsP1M7JjD4Hdk/KlU3Gw/k3D9+vEj45T3pP+VRcANEeOs/IKSumczM7D/SLlmkFJrsP1JfZV9A/+8/QDLjemn66z/W7xXq8efoP7yy5lQjP+c/XWZmZmZm5j/o///////vP21O3u935+4/6VWxm///7z9vtPW3y8zsPzDlmgwk+Os/QpoA0v//7z/y///////vP9ARI8H//+8/6f//////7z/y0Mwt///vP5j41jzYs+Q/GAmm0T/q6z/SKH05zMzsP+rR7KP+/+8/yYcf1P//7z/v///////vP1ypjsljxe4/1ONHbMzM7D/y///////vP7vMzMzMzOw/5qOBycvM7D/kPKQnzMzsP4QskuUL2N8/zf8qYczM7D9J+PkwmZnpP/T//////+8/8///////7z8=",
          "dtype": "f8"
         },
         "yaxis": "y"
        },
        {
         "line": {
          "color": "green",
          "dash": "dot"
         },
         "mode": "lines+markers",
         "name": "Ratio (mybool=True / all)",
         "type": "scatter",
         "x": [
          0.0995,
          0.30000000000000004,
          0.5,
          0.7,
          0.9
         ],
         "y": [
          0.10714285714285714,
          0.42424242424242425,
          0.5,
          0.813953488372093,
          0.8059701492537313
         ],
         "yaxis": "y2"
        }
       ],
       "layout": {
        "legend": {
         "tracegroupgap": 0
        },
        "template": {
         "data": {
          "bar": [
           {
            "error_x": {
             "color": "#2a3f5f"
            },
            "error_y": {
             "color": "#2a3f5f"
            },
            "marker": {
             "line": {
              "color": "#E5ECF6",
              "width": 0.5
             },
             "pattern": {
              "fillmode": "overlay",
              "size": 10,
              "solidity": 0.2
             }
            },
            "type": "bar"
           }
          ],
          "barpolar": [
           {
            "marker": {
             "line": {
              "color": "#E5ECF6",
              "width": 0.5
             },
             "pattern": {
              "fillmode": "overlay",
              "size": 10,
              "solidity": 0.2
             }
            },
            "type": "barpolar"
           }
          ],
          "carpet": [
           {
            "aaxis": {
             "endlinecolor": "#2a3f5f",
             "gridcolor": "white",
             "linecolor": "white",
             "minorgridcolor": "white",
             "startlinecolor": "#2a3f5f"
            },
            "baxis": {
             "endlinecolor": "#2a3f5f",
             "gridcolor": "white",
             "linecolor": "white",
             "minorgridcolor": "white",
             "startlinecolor": "#2a3f5f"
            },
            "type": "carpet"
           }
          ],
          "choropleth": [
           {
            "colorbar": {
             "outlinewidth": 0,
             "ticks": ""
            },
            "type": "choropleth"
           }
          ],
          "contour": [
           {
            "colorbar": {
             "outlinewidth": 0,
             "ticks": ""
            },
            "colorscale": [
             [
              0,
              "#0d0887"
             ],
             [
              0.1111111111111111,
              "#46039f"
             ],
             [
              0.2222222222222222,
              "#7201a8"
             ],
             [
              0.3333333333333333,
              "#9c179e"
             ],
             [
              0.4444444444444444,
              "#bd3786"
             ],
             [
              0.5555555555555556,
              "#d8576b"
             ],
             [
              0.6666666666666666,
              "#ed7953"
             ],
             [
              0.7777777777777778,
              "#fb9f3a"
             ],
             [
              0.8888888888888888,
              "#fdca26"
             ],
             [
              1,
              "#f0f921"
             ]
            ],
            "type": "contour"
           }
          ],
          "contourcarpet": [
           {
            "colorbar": {
             "outlinewidth": 0,
             "ticks": ""
            },
            "type": "contourcarpet"
           }
          ],
          "heatmap": [
           {
            "colorbar": {
             "outlinewidth": 0,
             "ticks": ""
            },
            "colorscale": [
             [
              0,
              "#0d0887"
             ],
             [
              0.1111111111111111,
              "#46039f"
             ],
             [
              0.2222222222222222,
              "#7201a8"
             ],
             [
              0.3333333333333333,
              "#9c179e"
             ],
             [
              0.4444444444444444,
              "#bd3786"
             ],
             [
              0.5555555555555556,
              "#d8576b"
             ],
             [
              0.6666666666666666,
              "#ed7953"
             ],
             [
              0.7777777777777778,
              "#fb9f3a"
             ],
             [
              0.8888888888888888,
              "#fdca26"
             ],
             [
              1,
              "#f0f921"
             ]
            ],
            "type": "heatmap"
           }
          ],
          "histogram": [
           {
            "marker": {
             "pattern": {
              "fillmode": "overlay",
              "size": 10,
              "solidity": 0.2
             }
            },
            "type": "histogram"
           }
          ],
          "histogram2d": [
           {
            "colorbar": {
             "outlinewidth": 0,
             "ticks": ""
            },
            "colorscale": [
             [
              0,
              "#0d0887"
             ],
             [
              0.1111111111111111,
              "#46039f"
             ],
             [
              0.2222222222222222,
              "#7201a8"
             ],
             [
              0.3333333333333333,
              "#9c179e"
             ],
             [
              0.4444444444444444,
              "#bd3786"
             ],
             [
              0.5555555555555556,
              "#d8576b"
             ],
             [
              0.6666666666666666,
              "#ed7953"
             ],
             [
              0.7777777777777778,
              "#fb9f3a"
             ],
             [
              0.8888888888888888,
              "#fdca26"
             ],
             [
              1,
              "#f0f921"
             ]
            ],
            "type": "histogram2d"
           }
          ],
          "histogram2dcontour": [
           {
            "colorbar": {
             "outlinewidth": 0,
             "ticks": ""
            },
            "colorscale": [
             [
              0,
              "#0d0887"
             ],
             [
              0.1111111111111111,
              "#46039f"
             ],
             [
              0.2222222222222222,
              "#7201a8"
             ],
             [
              0.3333333333333333,
              "#9c179e"
             ],
             [
              0.4444444444444444,
              "#bd3786"
             ],
             [
              0.5555555555555556,
              "#d8576b"
             ],
             [
              0.6666666666666666,
              "#ed7953"
             ],
             [
              0.7777777777777778,
              "#fb9f3a"
             ],
             [
              0.8888888888888888,
              "#fdca26"
             ],
             [
              1,
              "#f0f921"
             ]
            ],
            "type": "histogram2dcontour"
           }
          ],
          "mesh3d": [
           {
            "colorbar": {
             "outlinewidth": 0,
             "ticks": ""
            },
            "type": "mesh3d"
           }
          ],
          "parcoords": [
           {
            "line": {
             "colorbar": {
              "outlinewidth": 0,
              "ticks": ""
             }
            },
            "type": "parcoords"
           }
          ],
          "pie": [
           {
            "automargin": true,
            "type": "pie"
           }
          ],
          "scatter": [
           {
            "fillpattern": {
             "fillmode": "overlay",
             "size": 10,
             "solidity": 0.2
            },
            "type": "scatter"
           }
          ],
          "scatter3d": [
           {
            "line": {
             "colorbar": {
              "outlinewidth": 0,
              "ticks": ""
             }
            },
            "marker": {
             "colorbar": {
              "outlinewidth": 0,
              "ticks": ""
             }
            },
            "type": "scatter3d"
           }
          ],
          "scattercarpet": [
           {
            "marker": {
             "colorbar": {
              "outlinewidth": 0,
              "ticks": ""
             }
            },
            "type": "scattercarpet"
           }
          ],
          "scattergeo": [
           {
            "marker": {
             "colorbar": {
              "outlinewidth": 0,
              "ticks": ""
             }
            },
            "type": "scattergeo"
           }
          ],
          "scattergl": [
           {
            "marker": {
             "colorbar": {
              "outlinewidth": 0,
              "ticks": ""
             }
            },
            "type": "scattergl"
           }
          ],
          "scattermap": [
           {
            "marker": {
             "colorbar": {
              "outlinewidth": 0,
              "ticks": ""
             }
            },
            "type": "scattermap"
           }
          ],
          "scattermapbox": [
           {
            "marker": {
             "colorbar": {
              "outlinewidth": 0,
              "ticks": ""
             }
            },
            "type": "scattermapbox"
           }
          ],
          "scatterpolar": [
           {
            "marker": {
             "colorbar": {
              "outlinewidth": 0,
              "ticks": ""
             }
            },
            "type": "scatterpolar"
           }
          ],
          "scatterpolargl": [
           {
            "marker": {
             "colorbar": {
              "outlinewidth": 0,
              "ticks": ""
             }
            },
            "type": "scatterpolargl"
           }
          ],
          "scatterternary": [
           {
            "marker": {
             "colorbar": {
              "outlinewidth": 0,
              "ticks": ""
             }
            },
            "type": "scatterternary"
           }
          ],
          "surface": [
           {
            "colorbar": {
             "outlinewidth": 0,
             "ticks": ""
            },
            "colorscale": [
             [
              0,
              "#0d0887"
             ],
             [
              0.1111111111111111,
              "#46039f"
             ],
             [
              0.2222222222222222,
              "#7201a8"
             ],
             [
              0.3333333333333333,
              "#9c179e"
             ],
             [
              0.4444444444444444,
              "#bd3786"
             ],
             [
              0.5555555555555556,
              "#d8576b"
             ],
             [
              0.6666666666666666,
              "#ed7953"
             ],
             [
              0.7777777777777778,
              "#fb9f3a"
             ],
             [
              0.8888888888888888,
              "#fdca26"
             ],
             [
              1,
              "#f0f921"
             ]
            ],
            "type": "surface"
           }
          ],
          "table": [
           {
            "cells": {
             "fill": {
              "color": "#EBF0F8"
             },
             "line": {
              "color": "white"
             }
            },
            "header": {
             "fill": {
              "color": "#C8D4E3"
             },
             "line": {
              "color": "white"
             }
            },
            "type": "table"
           }
          ]
         },
         "layout": {
          "annotationdefaults": {
           "arrowcolor": "#2a3f5f",
           "arrowhead": 0,
           "arrowwidth": 1
          },
          "autotypenumbers": "strict",
          "coloraxis": {
           "colorbar": {
            "outlinewidth": 0,
            "ticks": ""
           }
          },
          "colorscale": {
           "diverging": [
            [
             0,
             "#8e0152"
            ],
            [
             0.1,
             "#c51b7d"
            ],
            [
             0.2,
             "#de77ae"
            ],
            [
             0.3,
             "#f1b6da"
            ],
            [
             0.4,
             "#fde0ef"
            ],
            [
             0.5,
             "#f7f7f7"
            ],
            [
             0.6,
             "#e6f5d0"
            ],
            [
             0.7,
             "#b8e186"
            ],
            [
             0.8,
             "#7fbc41"
            ],
            [
             0.9,
             "#4d9221"
            ],
            [
             1,
             "#276419"
            ]
           ],
           "sequential": [
            [
             0,
             "#0d0887"
            ],
            [
             0.1111111111111111,
             "#46039f"
            ],
            [
             0.2222222222222222,
             "#7201a8"
            ],
            [
             0.3333333333333333,
             "#9c179e"
            ],
            [
             0.4444444444444444,
             "#bd3786"
            ],
            [
             0.5555555555555556,
             "#d8576b"
            ],
            [
             0.6666666666666666,
             "#ed7953"
            ],
            [
             0.7777777777777778,
             "#fb9f3a"
            ],
            [
             0.8888888888888888,
             "#fdca26"
            ],
            [
             1,
             "#f0f921"
            ]
           ],
           "sequentialminus": [
            [
             0,
             "#0d0887"
            ],
            [
             0.1111111111111111,
             "#46039f"
            ],
            [
             0.2222222222222222,
             "#7201a8"
            ],
            [
             0.3333333333333333,
             "#9c179e"
            ],
            [
             0.4444444444444444,
             "#bd3786"
            ],
            [
             0.5555555555555556,
             "#d8576b"
            ],
            [
             0.6666666666666666,
             "#ed7953"
            ],
            [
             0.7777777777777778,
             "#fb9f3a"
            ],
            [
             0.8888888888888888,
             "#fdca26"
            ],
            [
             1,
             "#f0f921"
            ]
           ]
          },
          "colorway": [
           "#636efa",
           "#EF553B",
           "#00cc96",
           "#ab63fa",
           "#FFA15A",
           "#19d3f3",
           "#FF6692",
           "#B6E880",
           "#FF97FF",
           "#FECB52"
          ],
          "font": {
           "color": "#2a3f5f"
          },
          "geo": {
           "bgcolor": "white",
           "lakecolor": "white",
           "landcolor": "#E5ECF6",
           "showlakes": true,
           "showland": true,
           "subunitcolor": "white"
          },
          "hoverlabel": {
           "align": "left"
          },
          "hovermode": "closest",
          "mapbox": {
           "style": "light"
          },
          "paper_bgcolor": "white",
          "plot_bgcolor": "#E5ECF6",
          "polar": {
           "angularaxis": {
            "gridcolor": "white",
            "linecolor": "white",
            "ticks": ""
           },
           "bgcolor": "#E5ECF6",
           "radialaxis": {
            "gridcolor": "white",
            "linecolor": "white",
            "ticks": ""
           }
          },
          "scene": {
           "xaxis": {
            "backgroundcolor": "#E5ECF6",
            "gridcolor": "white",
            "gridwidth": 2,
            "linecolor": "white",
            "showbackground": true,
            "ticks": "",
            "zerolinecolor": "white"
           },
           "yaxis": {
            "backgroundcolor": "#E5ECF6",
            "gridcolor": "white",
            "gridwidth": 2,
            "linecolor": "white",
            "showbackground": true,
            "ticks": "",
            "zerolinecolor": "white"
           },
           "zaxis": {
            "backgroundcolor": "#E5ECF6",
            "gridcolor": "white",
            "gridwidth": 2,
            "linecolor": "white",
            "showbackground": true,
            "ticks": "",
            "zerolinecolor": "white"
           }
          },
          "shapedefaults": {
           "line": {
            "color": "#2a3f5f"
           }
          },
          "ternary": {
           "aaxis": {
            "gridcolor": "white",
            "linecolor": "white",
            "ticks": ""
           },
           "baxis": {
            "gridcolor": "white",
            "linecolor": "white",
            "ticks": ""
           },
           "bgcolor": "#E5ECF6",
           "caxis": {
            "gridcolor": "white",
            "linecolor": "white",
            "ticks": ""
           }
          },
          "title": {
           "x": 0.05
          },
          "xaxis": {
           "automargin": true,
           "gridcolor": "white",
           "linecolor": "white",
           "ticks": "",
           "title": {
            "standoff": 15
           },
           "zerolinecolor": "white",
           "zerolinewidth": 2
          },
          "yaxis": {
           "automargin": true,
           "gridcolor": "white",
           "linecolor": "white",
           "ticks": "",
           "title": {
            "standoff": 15
           },
           "zerolinecolor": "white",
           "zerolinewidth": 2
          }
         }
        },
        "title": {
         "text": "Inclusion Ratio vs. sim_tax3 (bool=True) 127/213"
        },
        "xaxis": {
         "anchor": "y",
         "domain": [
          0,
          1
         ],
         "range": [
          -0.1,
          1.1
         ],
         "title": {
          "text": "Inclusion Ratio"
         }
        },
        "yaxis": {
         "anchor": "x",
         "domain": [
          0,
          1
         ],
         "range": [
          0,
          1.1
         ],
         "title": {
          "text": "sim_tax3"
         }
        },
        "yaxis2": {
         "overlaying": "y",
         "range": [
          0,
          1.1
         ],
         "side": "right",
         "title": {
          "text": "Ratio"
         }
        }
       }
      }
     },
     "metadata": {},
     "output_type": "display_data"
    },
    {
     "name": "stdout",
     "output_type": "stream",
     "text": [
      "213 119\n"
     ]
    },
    {
     "data": {
      "application/vnd.plotly.v1+json": {
       "config": {
        "plotlyServerURL": "https://plot.ly"
       },
       "data": [
        {
         "customdata": [
          [
           2,
           "01ce4fd6-197a-4792-8778-775b03780369"
          ],
          [
           7,
           "02a06bf1-51b8-4902-b088-573e29fcd7ec"
          ],
          [
           8,
           "02a06bf1-51b8-4902-b088-573e29fcd7ec"
          ],
          [
           10,
           "14bcb17c-f70a-41d5-b10d-294388084dfc"
          ],
          [
           11,
           "14bcb17c-f70a-41d5-b10d-294388084dfc"
          ],
          [
           12,
           "1a894d3c-b3ef-448a-a3de-2b38677cef36"
          ],
          [
           13,
           "1a894d3c-b3ef-448a-a3de-2b38677cef36"
          ],
          [
           15,
           "1dc85adb-fbdd-4275-b9cf-42976acb4d14"
          ],
          [
           16,
           "1dc85adb-fbdd-4275-b9cf-42976acb4d14"
          ],
          [
           20,
           "24ba7993-7fc8-4447-afd5-7ff6d548b11a"
          ],
          [
           24,
           "2978ddbc-cdc9-4bfa-9a7c-4bf056904010"
          ],
          [
           25,
           "2978ddbc-cdc9-4bfa-9a7c-4bf056904010"
          ],
          [
           26,
           "2978ddbc-cdc9-4bfa-9a7c-4bf056904010"
          ],
          [
           28,
           "29e00040-6e0f-4f0e-816d-1ac97c1e5485"
          ],
          [
           29,
           "29e00040-6e0f-4f0e-816d-1ac97c1e5485"
          ],
          [
           30,
           "2ba0becb-58c2-43a1-97bb-7e153a34eb47"
          ],
          [
           31,
           "2ba0becb-58c2-43a1-97bb-7e153a34eb47"
          ],
          [
           35,
           "2bc7d6fa-a02e-4367-b316-d6b4e8a2ce3f"
          ],
          [
           36,
           "2c27b5f1-4af6-49ad-a43c-3efb0c150868"
          ],
          [
           37,
           "2c27b5f1-4af6-49ad-a43c-3efb0c150868"
          ],
          [
           38,
           "2c27b5f1-4af6-49ad-a43c-3efb0c150868"
          ],
          [
           39,
           "2da5c1ee-bd40-406d-83a7-2f3d93293949"
          ],
          [
           42,
           "2f46d1e6-2a85-4d46-b955-10c2eded661c"
          ],
          [
           43,
           "2f46d1e6-2a85-4d46-b955-10c2eded661c"
          ],
          [
           44,
           "2f46d1e6-2a85-4d46-b955-10c2eded661c"
          ],
          [
           45,
           "31d6fe77-da70-42da-8f47-66bb79b9285b"
          ],
          [
           46,
           "31d6fe77-da70-42da-8f47-66bb79b9285b"
          ],
          [
           47,
           "31d6fe77-da70-42da-8f47-66bb79b9285b"
          ],
          [
           53,
           "341b5211-bb72-4bec-bd3d-c0d518887960"
          ],
          [
           60,
           "38a7b760-56f9-4565-8b70-f8dad5768ace"
          ],
          [
           61,
           "38a7b760-56f9-4565-8b70-f8dad5768ace"
          ],
          [
           62,
           "38a7b760-56f9-4565-8b70-f8dad5768ace"
          ],
          [
           64,
           "3ec3eab7-842d-409d-8866-42ddcbd24cd9"
          ],
          [
           71,
           "47bb1fd4-d41f-42b4-8d0c-29c4e9fdff9f"
          ],
          [
           74,
           "487d752c-6e22-43e3-9c08-627bc2a6c6d4"
          ],
          [
           78,
           "543e4c99-5d9f-407d-be75-c397d633fe56"
          ],
          [
           79,
           "543e4c99-5d9f-407d-be75-c397d633fe56"
          ],
          [
           80,
           "543e4c99-5d9f-407d-be75-c397d633fe56"
          ],
          [
           81,
           "5461912b-69cd-40d7-8f79-50832f92f049"
          ],
          [
           82,
           "5461912b-69cd-40d7-8f79-50832f92f049"
          ],
          [
           83,
           "5461912b-69cd-40d7-8f79-50832f92f049"
          ],
          [
           84,
           "56fe0c73-77c4-40d9-a687-b2df28d5f7d7"
          ],
          [
           85,
           "56fe0c73-77c4-40d9-a687-b2df28d5f7d7"
          ],
          [
           86,
           "56fe0c73-77c4-40d9-a687-b2df28d5f7d7"
          ],
          [
           92,
           "5c15607b-96af-4503-84b4-d1745f3a3ae0"
          ],
          [
           93,
           "5c2e910c-84e0-4042-b5d6-880a731c3e67"
          ],
          [
           94,
           "5c2e910c-84e0-4042-b5d6-880a731c3e67"
          ],
          [
           96,
           "6628a2fb-19e2-4fe5-aedb-92fe5ceee9c9"
          ],
          [
           97,
           "6628a2fb-19e2-4fe5-aedb-92fe5ceee9c9"
          ],
          [
           98,
           "6628a2fb-19e2-4fe5-aedb-92fe5ceee9c9"
          ],
          [
           99,
           "690f58f1-f18c-4415-bab0-787c2f83d051"
          ],
          [
           100,
           "690f58f1-f18c-4415-bab0-787c2f83d051"
          ],
          [
           101,
           "690f58f1-f18c-4415-bab0-787c2f83d051"
          ],
          [
           102,
           "6ac1d2ed-1f6b-4828-a1ab-f81c40bd5e80"
          ],
          [
           103,
           "6ac1d2ed-1f6b-4828-a1ab-f81c40bd5e80"
          ],
          [
           104,
           "6ac1d2ed-1f6b-4828-a1ab-f81c40bd5e80"
          ],
          [
           105,
           "6dafeac7-75b6-4d69-96f7-d08708a0a99e"
          ],
          [
           106,
           "6dafeac7-75b6-4d69-96f7-d08708a0a99e"
          ],
          [
           107,
           "6dafeac7-75b6-4d69-96f7-d08708a0a99e"
          ],
          [
           108,
           "737e9619-7768-407c-8a4f-6fe1e8d61f04"
          ],
          [
           109,
           "737e9619-7768-407c-8a4f-6fe1e8d61f04"
          ],
          [
           110,
           "737e9619-7768-407c-8a4f-6fe1e8d61f04"
          ],
          [
           111,
           "748536e4-636a-4dc6-b1a7-d9cbfdc1cffd"
          ],
          [
           117,
           "892629b0-61eb-425d-97f4-7d213074c435"
          ],
          [
           118,
           "892629b0-61eb-425d-97f4-7d213074c435"
          ],
          [
           119,
           "892629b0-61eb-425d-97f4-7d213074c435"
          ],
          [
           123,
           "907fd0e7-6821-4e2d-9c62-6d7afad5a9d1"
          ],
          [
           124,
           "907fd0e7-6821-4e2d-9c62-6d7afad5a9d1"
          ],
          [
           125,
           "907fd0e7-6821-4e2d-9c62-6d7afad5a9d1"
          ],
          [
           126,
           "98434f4c-6216-4067-ad59-4a89cb47bb9b"
          ],
          [
           127,
           "98434f4c-6216-4067-ad59-4a89cb47bb9b"
          ],
          [
           128,
           "98434f4c-6216-4067-ad59-4a89cb47bb9b"
          ],
          [
           131,
           "9fabfbc8-1d5c-495e-9bb2-03795f0145ae"
          ],
          [
           133,
           "a267b011-b1db-4e3c-aa49-438e2afdd6dc"
          ],
          [
           134,
           "a267b011-b1db-4e3c-aa49-438e2afdd6dc"
          ],
          [
           136,
           "a6419de9-1e40-4793-b21b-9c8d9038835a"
          ],
          [
           138,
           "ab7ed4f7-10ee-4ccb-bb21-4853c9018b1e"
          ],
          [
           139,
           "ab7ed4f7-10ee-4ccb-bb21-4853c9018b1e"
          ],
          [
           140,
           "ab7ed4f7-10ee-4ccb-bb21-4853c9018b1e"
          ],
          [
           146,
           "ae2d99c2-1720-4354-bc4d-f7bc3e4ee28d"
          ],
          [
           152,
           "b4072935-56a6-4765-bb4d-d5f6bbeb95b9"
          ],
          [
           154,
           "b83285c5-0b88-4ced-a52e-5c34ea371507"
          ],
          [
           155,
           "b83285c5-0b88-4ced-a52e-5c34ea371507"
          ],
          [
           156,
           "cf95d6a4-6ad7-462c-9700-9f04bd993667"
          ],
          [
           157,
           "cf95d6a4-6ad7-462c-9700-9f04bd993667"
          ],
          [
           158,
           "cf95d6a4-6ad7-462c-9700-9f04bd993667"
          ],
          [
           160,
           "d7a2e92e-dc74-4e79-be04-a86f829fc3ec"
          ],
          [
           161,
           "d7a2e92e-dc74-4e79-be04-a86f829fc3ec"
          ],
          [
           164,
           "daf5384b-ea5c-4cce-bb8a-540a360075bf"
          ],
          [
           165,
           "dcd09fa4-afe2-4a0d-9703-83af2867ebd3"
          ],
          [
           166,
           "dcd09fa4-afe2-4a0d-9703-83af2867ebd3"
          ],
          [
           167,
           "dcd09fa4-afe2-4a0d-9703-83af2867ebd3"
          ],
          [
           169,
           "debfb68a-eae2-464e-847a-cd3fea23f3ca"
          ],
          [
           170,
           "debfb68a-eae2-464e-847a-cd3fea23f3ca"
          ],
          [
           174,
           "e250017c-16ff-4825-9c30-160f391e1549"
          ],
          [
           175,
           "e250017c-16ff-4825-9c30-160f391e1549"
          ],
          [
           176,
           "e250017c-16ff-4825-9c30-160f391e1549"
          ],
          [
           177,
           "e4ad6fd7-2e3e-4991-b392-a0056f702286"
          ],
          [
           178,
           "e4ad6fd7-2e3e-4991-b392-a0056f702286"
          ],
          [
           179,
           "e4ad6fd7-2e3e-4991-b392-a0056f702286"
          ],
          [
           180,
           "e6231d1a-1f7f-4198-a499-7635509adfaf"
          ],
          [
           181,
           "e6231d1a-1f7f-4198-a499-7635509adfaf"
          ],
          [
           182,
           "e6231d1a-1f7f-4198-a499-7635509adfaf"
          ],
          [
           187,
           "ec3556de-be79-4ad4-aa0f-eaca48abb5d5"
          ],
          [
           188,
           "ec3556de-be79-4ad4-aa0f-eaca48abb5d5"
          ],
          [
           192,
           "edc1869c-8a97-44fd-ab47-63fda4a54df9"
          ],
          [
           193,
           "edc1869c-8a97-44fd-ab47-63fda4a54df9"
          ],
          [
           199,
           "f5ac654b-8f39-427b-856f-4a9a2d4a3020"
          ],
          [
           200,
           "f5ac654b-8f39-427b-856f-4a9a2d4a3020"
          ],
          [
           201,
           "fea524d4-a1b6-466c-ac48-8777c3fd173d"
          ],
          [
           202,
           "fea524d4-a1b6-466c-ac48-8777c3fd173d"
          ],
          [
           203,
           "fea524d4-a1b6-466c-ac48-8777c3fd173d"
          ],
          [
           204,
           "grp-690f58f1-f18c-4415-bab0-787c2f83d051"
          ],
          [
           205,
           "grp-690f58f1-f18c-4415-bab0-787c2f83d051"
          ],
          [
           206,
           "grp-690f58f1-f18c-4415-bab0-787c2f83d051"
          ],
          [
           207,
           "grp-b59f7f5d-2991-49a6-8e88-0e2f2db92585"
          ],
          [
           210,
           "grp-ffd863cb-f06b-404e-a013-54acb61f1ed9"
          ],
          [
           211,
           "grp-ffd863cb-f06b-404e-a013-54acb61f1ed9"
          ],
          [
           212,
           "grp-ffd863cb-f06b-404e-a013-54acb61f1ed9"
          ]
         ],
         "hovertemplate": "Inclusion Ratio=%{x}<br>sim_seq3=%{y}<br>idx=%{customdata[0]}<br>source_uid=%{customdata[1]}<extra></extra>",
         "legendgroup": "",
         "marker": {
          "color": "#636efa",
          "symbol": "circle"
         },
         "mode": "markers",
         "name": "",
         "orientation": "v",
         "showlegend": false,
         "type": "scatter",
         "x": {
          "bdata": "VVVVVVVV1T9VVVVVVVXlP1VVVVVVVeU/AAAAAAAA8D8AAAAAAADwP5qZmZmZmdk/7FG4HoXr4T/NzMzMzMzsPwAAAAAAAPA/AAAAAAAA7D8zMzMzMzPjP5qZmZmZmek/zczMzMzM7D9mZmZmZmbmP2ZmZmZmZuY/AAAAAAAA4T8AAAAAAADkPwAAAAAAAPA/CtejcD0K1z+4HoXrUbjeP+xRuB6F6+E/MzMzMzMz0z9Ob3rTm97kP05vetOb3uQ/ZCELWchC5j8AAAAAAADQPwAAAAAAAOQ/AAAAAAAA5D8AAAAAAADwP1VVVVVVVeU/VVVVVVVV5T8AAAAAAADwPwAAAAAAAOA/kiRJkiRJ0j8AAAAAAADwPxzHcRzHcew/HMdxHMdx7D8AAAAAAADwP0N5DeU1lOc/Q3kN5TWU5z82lNdQXkPpP57YiZ3Yid0/2Ymd2Imd6D/ZiZ3YiZ3oP5IkSZIkSeI/AAAAAAAA8D8AAAAAAADwPxEREREREeE/MzMzMzMz4z93d3d3d3fnPxQ7sRM7sdM/ntiJndiJ3T+xEzuxEzvhPwAAAAAAANw/AAAAAAAA4j8AAAAAAADiP83MzMzMzOw/7+7u7u7u7j8AAAAAAADwPxQ7sRM7sbM/ntiJndiJzT+e2Imd2InNPwAAAAAAAOA/AAAAAAAA6D8AAAAAAADsPwAAAAAAAPA/mpmZmZmZyT8zMzMzMzPTPzMzMzMzM9M/JUmSJEmS5D8lSZIkSZLkP9u2bdu2bes/AAAAAAAA6D8cx3Ecx3HsPxzHcRzHcew/AAAAAAAA6D+e53me53neP3qe53me5+k/ep7neZ7n6T9iJ3ZiJ3biP5IkSZIkSdI/27Zt27Zt6z8AAAAAAADwP7dt27Zt2+Y/O6iDOqiD6j98xVd8xVfsPwAAAAAAAOg/AAAAAAAA8D8eHh4eHh7eP2ZmZmZmZu4/AAAAAAAA8D8AAAAAAADwPwAAAAAAAPA/AAAAAAAA8D/sxE7sxE7sPwAAAAAAAPA/AAAAAAAA8D8AAAAAAADwPwAAAAAAAPA/AAAAAAAA8D9VVVVVVVXVP6uqqqqqqto/q6qqqqqq2j9VVVVVVVXlPzmO4ziO4+g/KK+hvIby6j82lNdQXkPpPyELWchCFuI/OL3pTW964z9VVVVVVVXtP1VVVVVVVe0/VVVVVVVV7T8or6G8hvLqPyivobyG8uo/jLRjBcJI6z9DFrKQhSzkPyVJkiRJkuQ/AAAAAAAA6D+SJEmSJEnqPw==",
          "dtype": "f8"
         },
         "xaxis": "x",
         "y": {
          "bdata": "j7+lEhhp5D/AmKtNZKPfP1hTAuIRRtY/O78RSf705j/kTM185WvqP0xCXDK9tdU/86TRTx964j9LpcWBwPHiP7aQKo1Im+Q/NIyr/8Z75j/yb9KRkIfUP7jvyWgZhtk/+DEf03Mh2T/6fExqT+nZPx7eDGbTTdw/GCDE1YMK4j80ig29QNvhP7TRGlcZouQ/3kt/79fi1j/KDb/wi2DgPzq9AR9BZN4/uLi9fu5D4D/cs50auMXdP7rq0/kNENw/Qs1uDfM83j8kT9sfx5zTP8xRhnJZX84/ONTQKWjC3D8AAAAAAADwP461UAi7i9o/pJa+QyyU4T9uTxI5gPDlP0w5ezt/5uM/3Ob97PBK4D8cqV1k4XrXPwKTKHb7s9s/q5ExLnKV4D/+kcbl0J/fP3pcNy+YFd8/uGG0uN+g4z9xYxSwDT3mP4xzi6OV2eM/H7M2RIDC5D8GYH8/PVLpP7hc1coWSt8/pTChnOqm4z8r0jj3vevkP5JUsQRa29Y/JuV65Gja1j/+8uuGx4bbP+iRzTATHNk/gH38Dc8z3T9WQ7E1RnbePy4jjYnQtN0/UAX97pWg4j9e6zBDlX7jP4hY9Y+6rOg/4I5rHnMD5D9ioRGcK3HkP4YmS1euI9g/eIt/7J0x4z8Q/SdHwJrlP8KcvsdXs+g/3kwffBUM6j9GPC5Tk0TuPze5kSI3z+8/FBUF8SR15z8gc1rYKXXnPyBzWtgpdec/CvzNAKNB6j+dn8B6EyzkP5jLqd3/3+s/ZtN8wfvw4D+2onY////vPwAAAAAAAPA/iK5n7OB64j8wlu5i8HXeP2Dok1onkN8/Thh+hjcJ3z9qvPwI36vmP8DWoNjA6dM/xQici0hL4z9K1nzok1PmPyy1QspVdeE/3DVT0lUv4j/chT5jUd3nP3zUwVBShuY/2v+8N0xb7z9mcQncu7HhP+qwskMUcec/psga4cXw4T8mctlr1x3iP+IajLSTMus/KPG8Cepq6j/US//QGsjfP26lLXZ5eeE/vd3ZTj3P4D+Fh6iqCifoP9JT0Mrj1uM/vM+dbQ2G6j++CMcGuA/lP+nJdERqMOI/jpk2sfUr4D/UNjLer7DdP/qgCW9z5eI/0hF8WM9K4D/o9OioGxzjP7+pBUgqPuQ/l4wLeQkG5D8BjntbHjflPwhAIHMB8Og/EMuQH4F05j+AitxfpqXgP9hkFjGsmuM/fctF6x2q5j9weNX5rwDaP2H7Cd3u6OM/4NK6Pf2Q4j+MsFgkypvmPw==",
          "dtype": "f8"
         },
         "yaxis": "y"
        },
        {
         "line": {
          "color": "green",
          "dash": "dot"
         },
         "mode": "lines+markers",
         "name": "Ratio (mybool=True / all)",
         "type": "scatter",
         "x": [
          0.0995,
          0.30000000000000004,
          0.5,
          0.7,
          0.9
         ],
         "y": [
          0.07142857142857142,
          0.3939393939393939,
          0.5238095238095238,
          0.7674418604651163,
          0.7313432835820896
         ],
         "yaxis": "y2"
        }
       ],
       "layout": {
        "legend": {
         "tracegroupgap": 0
        },
        "template": {
         "data": {
          "bar": [
           {
            "error_x": {
             "color": "#2a3f5f"
            },
            "error_y": {
             "color": "#2a3f5f"
            },
            "marker": {
             "line": {
              "color": "#E5ECF6",
              "width": 0.5
             },
             "pattern": {
              "fillmode": "overlay",
              "size": 10,
              "solidity": 0.2
             }
            },
            "type": "bar"
           }
          ],
          "barpolar": [
           {
            "marker": {
             "line": {
              "color": "#E5ECF6",
              "width": 0.5
             },
             "pattern": {
              "fillmode": "overlay",
              "size": 10,
              "solidity": 0.2
             }
            },
            "type": "barpolar"
           }
          ],
          "carpet": [
           {
            "aaxis": {
             "endlinecolor": "#2a3f5f",
             "gridcolor": "white",
             "linecolor": "white",
             "minorgridcolor": "white",
             "startlinecolor": "#2a3f5f"
            },
            "baxis": {
             "endlinecolor": "#2a3f5f",
             "gridcolor": "white",
             "linecolor": "white",
             "minorgridcolor": "white",
             "startlinecolor": "#2a3f5f"
            },
            "type": "carpet"
           }
          ],
          "choropleth": [
           {
            "colorbar": {
             "outlinewidth": 0,
             "ticks": ""
            },
            "type": "choropleth"
           }
          ],
          "contour": [
           {
            "colorbar": {
             "outlinewidth": 0,
             "ticks": ""
            },
            "colorscale": [
             [
              0,
              "#0d0887"
             ],
             [
              0.1111111111111111,
              "#46039f"
             ],
             [
              0.2222222222222222,
              "#7201a8"
             ],
             [
              0.3333333333333333,
              "#9c179e"
             ],
             [
              0.4444444444444444,
              "#bd3786"
             ],
             [
              0.5555555555555556,
              "#d8576b"
             ],
             [
              0.6666666666666666,
              "#ed7953"
             ],
             [
              0.7777777777777778,
              "#fb9f3a"
             ],
             [
              0.8888888888888888,
              "#fdca26"
             ],
             [
              1,
              "#f0f921"
             ]
            ],
            "type": "contour"
           }
          ],
          "contourcarpet": [
           {
            "colorbar": {
             "outlinewidth": 0,
             "ticks": ""
            },
            "type": "contourcarpet"
           }
          ],
          "heatmap": [
           {
            "colorbar": {
             "outlinewidth": 0,
             "ticks": ""
            },
            "colorscale": [
             [
              0,
              "#0d0887"
             ],
             [
              0.1111111111111111,
              "#46039f"
             ],
             [
              0.2222222222222222,
              "#7201a8"
             ],
             [
              0.3333333333333333,
              "#9c179e"
             ],
             [
              0.4444444444444444,
              "#bd3786"
             ],
             [
              0.5555555555555556,
              "#d8576b"
             ],
             [
              0.6666666666666666,
              "#ed7953"
             ],
             [
              0.7777777777777778,
              "#fb9f3a"
             ],
             [
              0.8888888888888888,
              "#fdca26"
             ],
             [
              1,
              "#f0f921"
             ]
            ],
            "type": "heatmap"
           }
          ],
          "histogram": [
           {
            "marker": {
             "pattern": {
              "fillmode": "overlay",
              "size": 10,
              "solidity": 0.2
             }
            },
            "type": "histogram"
           }
          ],
          "histogram2d": [
           {
            "colorbar": {
             "outlinewidth": 0,
             "ticks": ""
            },
            "colorscale": [
             [
              0,
              "#0d0887"
             ],
             [
              0.1111111111111111,
              "#46039f"
             ],
             [
              0.2222222222222222,
              "#7201a8"
             ],
             [
              0.3333333333333333,
              "#9c179e"
             ],
             [
              0.4444444444444444,
              "#bd3786"
             ],
             [
              0.5555555555555556,
              "#d8576b"
             ],
             [
              0.6666666666666666,
              "#ed7953"
             ],
             [
              0.7777777777777778,
              "#fb9f3a"
             ],
             [
              0.8888888888888888,
              "#fdca26"
             ],
             [
              1,
              "#f0f921"
             ]
            ],
            "type": "histogram2d"
           }
          ],
          "histogram2dcontour": [
           {
            "colorbar": {
             "outlinewidth": 0,
             "ticks": ""
            },
            "colorscale": [
             [
              0,
              "#0d0887"
             ],
             [
              0.1111111111111111,
              "#46039f"
             ],
             [
              0.2222222222222222,
              "#7201a8"
             ],
             [
              0.3333333333333333,
              "#9c179e"
             ],
             [
              0.4444444444444444,
              "#bd3786"
             ],
             [
              0.5555555555555556,
              "#d8576b"
             ],
             [
              0.6666666666666666,
              "#ed7953"
             ],
             [
              0.7777777777777778,
              "#fb9f3a"
             ],
             [
              0.8888888888888888,
              "#fdca26"
             ],
             [
              1,
              "#f0f921"
             ]
            ],
            "type": "histogram2dcontour"
           }
          ],
          "mesh3d": [
           {
            "colorbar": {
             "outlinewidth": 0,
             "ticks": ""
            },
            "type": "mesh3d"
           }
          ],
          "parcoords": [
           {
            "line": {
             "colorbar": {
              "outlinewidth": 0,
              "ticks": ""
             }
            },
            "type": "parcoords"
           }
          ],
          "pie": [
           {
            "automargin": true,
            "type": "pie"
           }
          ],
          "scatter": [
           {
            "fillpattern": {
             "fillmode": "overlay",
             "size": 10,
             "solidity": 0.2
            },
            "type": "scatter"
           }
          ],
          "scatter3d": [
           {
            "line": {
             "colorbar": {
              "outlinewidth": 0,
              "ticks": ""
             }
            },
            "marker": {
             "colorbar": {
              "outlinewidth": 0,
              "ticks": ""
             }
            },
            "type": "scatter3d"
           }
          ],
          "scattercarpet": [
           {
            "marker": {
             "colorbar": {
              "outlinewidth": 0,
              "ticks": ""
             }
            },
            "type": "scattercarpet"
           }
          ],
          "scattergeo": [
           {
            "marker": {
             "colorbar": {
              "outlinewidth": 0,
              "ticks": ""
             }
            },
            "type": "scattergeo"
           }
          ],
          "scattergl": [
           {
            "marker": {
             "colorbar": {
              "outlinewidth": 0,
              "ticks": ""
             }
            },
            "type": "scattergl"
           }
          ],
          "scattermap": [
           {
            "marker": {
             "colorbar": {
              "outlinewidth": 0,
              "ticks": ""
             }
            },
            "type": "scattermap"
           }
          ],
          "scattermapbox": [
           {
            "marker": {
             "colorbar": {
              "outlinewidth": 0,
              "ticks": ""
             }
            },
            "type": "scattermapbox"
           }
          ],
          "scatterpolar": [
           {
            "marker": {
             "colorbar": {
              "outlinewidth": 0,
              "ticks": ""
             }
            },
            "type": "scatterpolar"
           }
          ],
          "scatterpolargl": [
           {
            "marker": {
             "colorbar": {
              "outlinewidth": 0,
              "ticks": ""
             }
            },
            "type": "scatterpolargl"
           }
          ],
          "scatterternary": [
           {
            "marker": {
             "colorbar": {
              "outlinewidth": 0,
              "ticks": ""
             }
            },
            "type": "scatterternary"
           }
          ],
          "surface": [
           {
            "colorbar": {
             "outlinewidth": 0,
             "ticks": ""
            },
            "colorscale": [
             [
              0,
              "#0d0887"
             ],
             [
              0.1111111111111111,
              "#46039f"
             ],
             [
              0.2222222222222222,
              "#7201a8"
             ],
             [
              0.3333333333333333,
              "#9c179e"
             ],
             [
              0.4444444444444444,
              "#bd3786"
             ],
             [
              0.5555555555555556,
              "#d8576b"
             ],
             [
              0.6666666666666666,
              "#ed7953"
             ],
             [
              0.7777777777777778,
              "#fb9f3a"
             ],
             [
              0.8888888888888888,
              "#fdca26"
             ],
             [
              1,
              "#f0f921"
             ]
            ],
            "type": "surface"
           }
          ],
          "table": [
           {
            "cells": {
             "fill": {
              "color": "#EBF0F8"
             },
             "line": {
              "color": "white"
             }
            },
            "header": {
             "fill": {
              "color": "#C8D4E3"
             },
             "line": {
              "color": "white"
             }
            },
            "type": "table"
           }
          ]
         },
         "layout": {
          "annotationdefaults": {
           "arrowcolor": "#2a3f5f",
           "arrowhead": 0,
           "arrowwidth": 1
          },
          "autotypenumbers": "strict",
          "coloraxis": {
           "colorbar": {
            "outlinewidth": 0,
            "ticks": ""
           }
          },
          "colorscale": {
           "diverging": [
            [
             0,
             "#8e0152"
            ],
            [
             0.1,
             "#c51b7d"
            ],
            [
             0.2,
             "#de77ae"
            ],
            [
             0.3,
             "#f1b6da"
            ],
            [
             0.4,
             "#fde0ef"
            ],
            [
             0.5,
             "#f7f7f7"
            ],
            [
             0.6,
             "#e6f5d0"
            ],
            [
             0.7,
             "#b8e186"
            ],
            [
             0.8,
             "#7fbc41"
            ],
            [
             0.9,
             "#4d9221"
            ],
            [
             1,
             "#276419"
            ]
           ],
           "sequential": [
            [
             0,
             "#0d0887"
            ],
            [
             0.1111111111111111,
             "#46039f"
            ],
            [
             0.2222222222222222,
             "#7201a8"
            ],
            [
             0.3333333333333333,
             "#9c179e"
            ],
            [
             0.4444444444444444,
             "#bd3786"
            ],
            [
             0.5555555555555556,
             "#d8576b"
            ],
            [
             0.6666666666666666,
             "#ed7953"
            ],
            [
             0.7777777777777778,
             "#fb9f3a"
            ],
            [
             0.8888888888888888,
             "#fdca26"
            ],
            [
             1,
             "#f0f921"
            ]
           ],
           "sequentialminus": [
            [
             0,
             "#0d0887"
            ],
            [
             0.1111111111111111,
             "#46039f"
            ],
            [
             0.2222222222222222,
             "#7201a8"
            ],
            [
             0.3333333333333333,
             "#9c179e"
            ],
            [
             0.4444444444444444,
             "#bd3786"
            ],
            [
             0.5555555555555556,
             "#d8576b"
            ],
            [
             0.6666666666666666,
             "#ed7953"
            ],
            [
             0.7777777777777778,
             "#fb9f3a"
            ],
            [
             0.8888888888888888,
             "#fdca26"
            ],
            [
             1,
             "#f0f921"
            ]
           ]
          },
          "colorway": [
           "#636efa",
           "#EF553B",
           "#00cc96",
           "#ab63fa",
           "#FFA15A",
           "#19d3f3",
           "#FF6692",
           "#B6E880",
           "#FF97FF",
           "#FECB52"
          ],
          "font": {
           "color": "#2a3f5f"
          },
          "geo": {
           "bgcolor": "white",
           "lakecolor": "white",
           "landcolor": "#E5ECF6",
           "showlakes": true,
           "showland": true,
           "subunitcolor": "white"
          },
          "hoverlabel": {
           "align": "left"
          },
          "hovermode": "closest",
          "mapbox": {
           "style": "light"
          },
          "paper_bgcolor": "white",
          "plot_bgcolor": "#E5ECF6",
          "polar": {
           "angularaxis": {
            "gridcolor": "white",
            "linecolor": "white",
            "ticks": ""
           },
           "bgcolor": "#E5ECF6",
           "radialaxis": {
            "gridcolor": "white",
            "linecolor": "white",
            "ticks": ""
           }
          },
          "scene": {
           "xaxis": {
            "backgroundcolor": "#E5ECF6",
            "gridcolor": "white",
            "gridwidth": 2,
            "linecolor": "white",
            "showbackground": true,
            "ticks": "",
            "zerolinecolor": "white"
           },
           "yaxis": {
            "backgroundcolor": "#E5ECF6",
            "gridcolor": "white",
            "gridwidth": 2,
            "linecolor": "white",
            "showbackground": true,
            "ticks": "",
            "zerolinecolor": "white"
           },
           "zaxis": {
            "backgroundcolor": "#E5ECF6",
            "gridcolor": "white",
            "gridwidth": 2,
            "linecolor": "white",
            "showbackground": true,
            "ticks": "",
            "zerolinecolor": "white"
           }
          },
          "shapedefaults": {
           "line": {
            "color": "#2a3f5f"
           }
          },
          "ternary": {
           "aaxis": {
            "gridcolor": "white",
            "linecolor": "white",
            "ticks": ""
           },
           "baxis": {
            "gridcolor": "white",
            "linecolor": "white",
            "ticks": ""
           },
           "bgcolor": "#E5ECF6",
           "caxis": {
            "gridcolor": "white",
            "linecolor": "white",
            "ticks": ""
           }
          },
          "title": {
           "x": 0.05
          },
          "xaxis": {
           "automargin": true,
           "gridcolor": "white",
           "linecolor": "white",
           "ticks": "",
           "title": {
            "standoff": 15
           },
           "zerolinecolor": "white",
           "zerolinewidth": 2
          },
          "yaxis": {
           "automargin": true,
           "gridcolor": "white",
           "linecolor": "white",
           "ticks": "",
           "title": {
            "standoff": 15
           },
           "zerolinecolor": "white",
           "zerolinewidth": 2
          }
         }
        },
        "title": {
         "text": "Inclusion Ratio vs. sim_seq3 (bool=True) 119/213"
        },
        "xaxis": {
         "anchor": "y",
         "domain": [
          0,
          1
         ],
         "range": [
          -0.1,
          1.1
         ],
         "title": {
          "text": "Inclusion Ratio"
         }
        },
        "yaxis": {
         "anchor": "x",
         "domain": [
          0,
          1
         ],
         "range": [
          0,
          1.1
         ],
         "title": {
          "text": "sim_seq3"
         }
        },
        "yaxis2": {
         "overlaying": "y",
         "range": [
          0,
          1.1
         ],
         "side": "right",
         "title": {
          "text": "Ratio"
         }
        }
       }
      }
     },
     "metadata": {},
     "output_type": "display_data"
    },
    {
     "name": "stdout",
     "output_type": "stream",
     "text": [
      "213 127\n"
     ]
    },
    {
     "data": {
      "application/vnd.plotly.v1+json": {
       "config": {
        "plotlyServerURL": "https://plot.ly"
       },
       "data": [
        {
         "customdata": [
          [
           1,
           "01ce4fd6-197a-4792-8778-775b03780369"
          ],
          [
           2,
           "01ce4fd6-197a-4792-8778-775b03780369"
          ],
          [
           4,
           "026dac2d-2ab3-4f9c-9e1d-6198db4fb080"
          ],
          [
           7,
           "02a06bf1-51b8-4902-b088-573e29fcd7ec"
          ],
          [
           8,
           "02a06bf1-51b8-4902-b088-573e29fcd7ec"
          ],
          [
           10,
           "14bcb17c-f70a-41d5-b10d-294388084dfc"
          ],
          [
           11,
           "14bcb17c-f70a-41d5-b10d-294388084dfc"
          ],
          [
           12,
           "1a894d3c-b3ef-448a-a3de-2b38677cef36"
          ],
          [
           13,
           "1a894d3c-b3ef-448a-a3de-2b38677cef36"
          ],
          [
           14,
           "1a894d3c-b3ef-448a-a3de-2b38677cef36"
          ],
          [
           15,
           "1dc85adb-fbdd-4275-b9cf-42976acb4d14"
          ],
          [
           24,
           "2978ddbc-cdc9-4bfa-9a7c-4bf056904010"
          ],
          [
           27,
           "29e00040-6e0f-4f0e-816d-1ac97c1e5485"
          ],
          [
           28,
           "29e00040-6e0f-4f0e-816d-1ac97c1e5485"
          ],
          [
           29,
           "29e00040-6e0f-4f0e-816d-1ac97c1e5485"
          ],
          [
           30,
           "2ba0becb-58c2-43a1-97bb-7e153a34eb47"
          ],
          [
           31,
           "2ba0becb-58c2-43a1-97bb-7e153a34eb47"
          ],
          [
           32,
           "2ba0becb-58c2-43a1-97bb-7e153a34eb47"
          ],
          [
           33,
           "2bc7d6fa-a02e-4367-b316-d6b4e8a2ce3f"
          ],
          [
           34,
           "2bc7d6fa-a02e-4367-b316-d6b4e8a2ce3f"
          ],
          [
           35,
           "2bc7d6fa-a02e-4367-b316-d6b4e8a2ce3f"
          ],
          [
           36,
           "2c27b5f1-4af6-49ad-a43c-3efb0c150868"
          ],
          [
           37,
           "2c27b5f1-4af6-49ad-a43c-3efb0c150868"
          ],
          [
           42,
           "2f46d1e6-2a85-4d46-b955-10c2eded661c"
          ],
          [
           43,
           "2f46d1e6-2a85-4d46-b955-10c2eded661c"
          ],
          [
           44,
           "2f46d1e6-2a85-4d46-b955-10c2eded661c"
          ],
          [
           53,
           "341b5211-bb72-4bec-bd3d-c0d518887960"
          ],
          [
           54,
           "35080724-6604-401c-8b06-19b7cece3d45"
          ],
          [
           55,
           "35080724-6604-401c-8b06-19b7cece3d45"
          ],
          [
           56,
           "35080724-6604-401c-8b06-19b7cece3d45"
          ],
          [
           61,
           "38a7b760-56f9-4565-8b70-f8dad5768ace"
          ],
          [
           62,
           "38a7b760-56f9-4565-8b70-f8dad5768ace"
          ],
          [
           63,
           "3ec3eab7-842d-409d-8866-42ddcbd24cd9"
          ],
          [
           64,
           "3ec3eab7-842d-409d-8866-42ddcbd24cd9"
          ],
          [
           65,
           "3ec3eab7-842d-409d-8866-42ddcbd24cd9"
          ],
          [
           67,
           "46e07357-6946-4ff0-ba36-ae11840bdc39"
          ],
          [
           68,
           "46e07357-6946-4ff0-ba36-ae11840bdc39"
          ],
          [
           69,
           "47bb1fd4-d41f-42b4-8d0c-29c4e9fdff9f"
          ],
          [
           70,
           "47bb1fd4-d41f-42b4-8d0c-29c4e9fdff9f"
          ],
          [
           71,
           "47bb1fd4-d41f-42b4-8d0c-29c4e9fdff9f"
          ],
          [
           74,
           "487d752c-6e22-43e3-9c08-627bc2a6c6d4"
          ],
          [
           78,
           "543e4c99-5d9f-407d-be75-c397d633fe56"
          ],
          [
           79,
           "543e4c99-5d9f-407d-be75-c397d633fe56"
          ],
          [
           80,
           "543e4c99-5d9f-407d-be75-c397d633fe56"
          ],
          [
           81,
           "5461912b-69cd-40d7-8f79-50832f92f049"
          ],
          [
           82,
           "5461912b-69cd-40d7-8f79-50832f92f049"
          ],
          [
           83,
           "5461912b-69cd-40d7-8f79-50832f92f049"
          ],
          [
           84,
           "56fe0c73-77c4-40d9-a687-b2df28d5f7d7"
          ],
          [
           85,
           "56fe0c73-77c4-40d9-a687-b2df28d5f7d7"
          ],
          [
           86,
           "56fe0c73-77c4-40d9-a687-b2df28d5f7d7"
          ],
          [
           91,
           "5c15607b-96af-4503-84b4-d1745f3a3ae0"
          ],
          [
           92,
           "5c15607b-96af-4503-84b4-d1745f3a3ae0"
          ],
          [
           93,
           "5c2e910c-84e0-4042-b5d6-880a731c3e67"
          ],
          [
           94,
           "5c2e910c-84e0-4042-b5d6-880a731c3e67"
          ],
          [
           95,
           "5c2e910c-84e0-4042-b5d6-880a731c3e67"
          ],
          [
           96,
           "6628a2fb-19e2-4fe5-aedb-92fe5ceee9c9"
          ],
          [
           97,
           "6628a2fb-19e2-4fe5-aedb-92fe5ceee9c9"
          ],
          [
           98,
           "6628a2fb-19e2-4fe5-aedb-92fe5ceee9c9"
          ],
          [
           99,
           "690f58f1-f18c-4415-bab0-787c2f83d051"
          ],
          [
           101,
           "690f58f1-f18c-4415-bab0-787c2f83d051"
          ],
          [
           102,
           "6ac1d2ed-1f6b-4828-a1ab-f81c40bd5e80"
          ],
          [
           103,
           "6ac1d2ed-1f6b-4828-a1ab-f81c40bd5e80"
          ],
          [
           104,
           "6ac1d2ed-1f6b-4828-a1ab-f81c40bd5e80"
          ],
          [
           105,
           "6dafeac7-75b6-4d69-96f7-d08708a0a99e"
          ],
          [
           106,
           "6dafeac7-75b6-4d69-96f7-d08708a0a99e"
          ],
          [
           107,
           "6dafeac7-75b6-4d69-96f7-d08708a0a99e"
          ],
          [
           110,
           "737e9619-7768-407c-8a4f-6fe1e8d61f04"
          ],
          [
           112,
           "748536e4-636a-4dc6-b1a7-d9cbfdc1cffd"
          ],
          [
           113,
           "748536e4-636a-4dc6-b1a7-d9cbfdc1cffd"
          ],
          [
           116,
           "7e8d03f2-2ff9-431d-af81-e5ffcd954a63"
          ],
          [
           117,
           "892629b0-61eb-425d-97f4-7d213074c435"
          ],
          [
           118,
           "892629b0-61eb-425d-97f4-7d213074c435"
          ],
          [
           119,
           "892629b0-61eb-425d-97f4-7d213074c435"
          ],
          [
           120,
           "89857b33-fa50-469a-bbb3-91c8ab655931"
          ],
          [
           121,
           "89857b33-fa50-469a-bbb3-91c8ab655931"
          ],
          [
           123,
           "907fd0e7-6821-4e2d-9c62-6d7afad5a9d1"
          ],
          [
           124,
           "907fd0e7-6821-4e2d-9c62-6d7afad5a9d1"
          ],
          [
           125,
           "907fd0e7-6821-4e2d-9c62-6d7afad5a9d1"
          ],
          [
           126,
           "98434f4c-6216-4067-ad59-4a89cb47bb9b"
          ],
          [
           127,
           "98434f4c-6216-4067-ad59-4a89cb47bb9b"
          ],
          [
           128,
           "98434f4c-6216-4067-ad59-4a89cb47bb9b"
          ],
          [
           130,
           "9fabfbc8-1d5c-495e-9bb2-03795f0145ae"
          ],
          [
           131,
           "9fabfbc8-1d5c-495e-9bb2-03795f0145ae"
          ],
          [
           133,
           "a267b011-b1db-4e3c-aa49-438e2afdd6dc"
          ],
          [
           134,
           "a267b011-b1db-4e3c-aa49-438e2afdd6dc"
          ],
          [
           135,
           "a6419de9-1e40-4793-b21b-9c8d9038835a"
          ],
          [
           136,
           "a6419de9-1e40-4793-b21b-9c8d9038835a"
          ],
          [
           137,
           "a6419de9-1e40-4793-b21b-9c8d9038835a"
          ],
          [
           139,
           "ab7ed4f7-10ee-4ccb-bb21-4853c9018b1e"
          ],
          [
           144,
           "ae2d99c2-1720-4354-bc4d-f7bc3e4ee28d"
          ],
          [
           147,
           "b17ff269-ec2d-4ad8-88aa-b00b75921427"
          ],
          [
           148,
           "b17ff269-ec2d-4ad8-88aa-b00b75921427"
          ],
          [
           155,
           "b83285c5-0b88-4ced-a52e-5c34ea371507"
          ],
          [
           156,
           "cf95d6a4-6ad7-462c-9700-9f04bd993667"
          ],
          [
           157,
           "cf95d6a4-6ad7-462c-9700-9f04bd993667"
          ],
          [
           158,
           "cf95d6a4-6ad7-462c-9700-9f04bd993667"
          ],
          [
           160,
           "d7a2e92e-dc74-4e79-be04-a86f829fc3ec"
          ],
          [
           161,
           "d7a2e92e-dc74-4e79-be04-a86f829fc3ec"
          ],
          [
           165,
           "dcd09fa4-afe2-4a0d-9703-83af2867ebd3"
          ],
          [
           166,
           "dcd09fa4-afe2-4a0d-9703-83af2867ebd3"
          ],
          [
           167,
           "dcd09fa4-afe2-4a0d-9703-83af2867ebd3"
          ],
          [
           168,
           "debfb68a-eae2-464e-847a-cd3fea23f3ca"
          ],
          [
           169,
           "debfb68a-eae2-464e-847a-cd3fea23f3ca"
          ],
          [
           170,
           "debfb68a-eae2-464e-847a-cd3fea23f3ca"
          ],
          [
           173,
           "e09a667f-04bc-49b5-8246-daf248a29174"
          ],
          [
           174,
           "e250017c-16ff-4825-9c30-160f391e1549"
          ],
          [
           175,
           "e250017c-16ff-4825-9c30-160f391e1549"
          ],
          [
           176,
           "e250017c-16ff-4825-9c30-160f391e1549"
          ],
          [
           177,
           "e4ad6fd7-2e3e-4991-b392-a0056f702286"
          ],
          [
           178,
           "e4ad6fd7-2e3e-4991-b392-a0056f702286"
          ],
          [
           179,
           "e4ad6fd7-2e3e-4991-b392-a0056f702286"
          ],
          [
           180,
           "e6231d1a-1f7f-4198-a499-7635509adfaf"
          ],
          [
           187,
           "ec3556de-be79-4ad4-aa0f-eaca48abb5d5"
          ],
          [
           188,
           "ec3556de-be79-4ad4-aa0f-eaca48abb5d5"
          ],
          [
           192,
           "edc1869c-8a97-44fd-ab47-63fda4a54df9"
          ],
          [
           194,
           "edc1869c-8a97-44fd-ab47-63fda4a54df9"
          ],
          [
           201,
           "fea524d4-a1b6-466c-ac48-8777c3fd173d"
          ],
          [
           202,
           "fea524d4-a1b6-466c-ac48-8777c3fd173d"
          ],
          [
           203,
           "fea524d4-a1b6-466c-ac48-8777c3fd173d"
          ],
          [
           204,
           "grp-690f58f1-f18c-4415-bab0-787c2f83d051"
          ],
          [
           205,
           "grp-690f58f1-f18c-4415-bab0-787c2f83d051"
          ],
          [
           206,
           "grp-690f58f1-f18c-4415-bab0-787c2f83d051"
          ],
          [
           207,
           "grp-b59f7f5d-2991-49a6-8e88-0e2f2db92585"
          ],
          [
           208,
           "grp-b59f7f5d-2991-49a6-8e88-0e2f2db92585"
          ],
          [
           210,
           "grp-ffd863cb-f06b-404e-a013-54acb61f1ed9"
          ],
          [
           211,
           "grp-ffd863cb-f06b-404e-a013-54acb61f1ed9"
          ],
          [
           212,
           "grp-ffd863cb-f06b-404e-a013-54acb61f1ed9"
          ]
         ],
         "hovertemplate": "Inclusion Ratio=%{x}<br>sim_seq3=%{y}<br>idx=%{customdata[0]}<br>source_uid=%{customdata[1]}<extra></extra>",
         "legendgroup": "",
         "marker": {
          "color": "#636efa",
          "symbol": "circle"
         },
         "mode": "markers",
         "name": "",
         "orientation": "v",
         "showlegend": false,
         "type": "scatter",
         "x": {
          "bdata": "VVVVVVVV1T9VVVVVVVXVPxzHcRzHcew/VVVVVVVV5T9VVVVVVVXlPwAAAAAAAPA/AAAAAAAA8D+amZmZmZnZP+xRuB6F6+E/MzMzMzMz4z/NzMzMzMzsPzMzMzMzM+M/3t3d3d3d3T9mZmZmZmbmP2ZmZmZmZuY/AAAAAAAA4T8AAAAAAADkPwAAAAAAAOQ/AAAAAAAA8D8AAAAAAADwPwAAAAAAAPA/CtejcD0K1z+4HoXrUbjeP05vetOb3uQ/Tm9605ve5D9kIQtZyELmPwAAAAAAAPA/zczMzMzM5D8AAAAAAADoPwAAAAAAAOg/VVVVVVVV5T8AAAAAAADwP6uqqqqqqto/AAAAAAAA4D8AAAAAAADgPwAAAAAAAOA/JUmSJEmS5D8AAAAAAAAAAJIkSZIkSdI/kiRJkiRJ0j8AAAAAAADwPxzHcRzHcew/HMdxHMdx7D8AAAAAAADwP0N5DeU1lOc/Q3kN5TWU5z82lNdQXkPpP57YiZ3Yid0/2Ymd2Imd6D/ZiZ3YiZ3oPxW8nIKXU+A/kiRJkiRJ4j8AAAAAAADwPwAAAAAAAPA/AAAAAAAA8D8RERERERHhPzMzMzMzM+M/d3d3d3d35z8UO7ETO7HTP7ETO7ETO+E/AAAAAAAA3D8AAAAAAADiPwAAAAAAAOI/zczMzMzM7D/v7u7u7u7uPwAAAAAAAPA/ntiJndiJzT+rqqqqqqrqPwAAAAAAAPA/kiRJkiRJ4j8AAAAAAADoPwAAAAAAAOw/AAAAAAAA8D8AAAAAAADwPwAAAAAAAPA/mpmZmZmZyT8zMzMzMzPTPzMzMzMzM9M/JUmSJEmS5D8lSZIkSZLkP9u2bdu2bes/AAAAAAAA0D8AAAAAAADoPxzHcRzHcew/HMdxHMdx7D9JkiRJkiTZPwAAAAAAAOg/SZIkSZIk6T96nud5nufpPwAAAAAAAOA/mpmZmZmZyT8zMzMzMzPTPwAAAAAAAPA/t23btm3b5j87qIM6qIPqP3zFV3zFV+w/AAAAAAAA6D8AAAAAAADwP2ZmZmZmZu4/AAAAAAAA8D8AAAAAAADwP8dxHMdxHOc/AAAAAAAA8D8AAAAAAADwPwAAAAAAAOg/7MRO7MRO7D8AAAAAAADwPwAAAAAAAPA/AAAAAAAA8D8AAAAAAADwPwAAAAAAAPA/VVVVVVVV1T9VVVVVVVXlPzmO4ziO4+g/KK+hvIby6j8bymsor6HsP1VVVVVVVe0/VVVVVVVV7T9VVVVVVVXtPyivobyG8uo/KK+hvIby6j+MtGMFwkjrP0MWspCFLOQ/pze96U1v6j8lSZIkSZLkPwAAAAAAAOg/kiRJkiRJ6j8=",
          "dtype": "f8"
         },
         "xaxis": "x",
         "y": {
          "bdata": "J73o/e/w4z/ylLzM49/jP6I5MzRUCOQ/1nKaQFs63D94DVGuo0/hP0h8ydJwM+A/N50MHOdr6j9EDVPv+yHZPwbXMma7qd0//aV9mg1d4D+koxr0fm3eP3bQDBXhT+g/Qm6lc2b22j8wa8DX1XjZP0ZmNG85Jtw/hhNxU5BZ5D+sH/17gMrkP2QdMl6AyuQ/CMpCb9as6j9xsVPK///vP644UdzxFeM/5s59bagK0z/4+tNHjp3gPwH8EGicCeA/pA4L7J523j+MiyJiQsXcP24wQIUmbOY/xMbSWitQ6j/Kumy3YYDjP/WXJbzxNes/XVriLtUX4T+8ACqj8bXdPx6kWieJNdw/XoD9ViK64D8yX9WUvkzbP+By+aYtHtY/Qimk7xvp1T+4MXJdvq3ZP5pBp4w3Puc/REoNMImZ5T9OBzv27ujWP8D2ytEELeA/NGlHcmV+2j+YjQsSlrPdP1XpcBmezeA/VJ5a4fZy4j9g6tCKzFfmPwMPqTTaluQ/JgtSeWOa5T/k/W3Mp+TkP4zDuJqMQto/KsCCSf8D3D+D8SeWSRTlP7OBL0UPuOQ/+/Y19H7I5j8WY2eWPczWPyC5cF0qMNg/rLfOH9Qf2j8UFMS96UbaPw6zXqgYNNw/GMqOQsno4T/Ad6CbsQ/gP7hlKZQI8uQ/YgOJhK7J5T/O+ucdy97lPyF5aKwyAOU/DHouRdCi2D/RzGb/fnPlP/gjRdfnzuU/4lP8gb5k4D/q/ZRs26/pP/qMkslXNOo/s+fqpXBI7D/4UUwiUKjmP85M7RiyD+c/3FZhCu7v6T8gc1rYKXXnPw7P4yWWx+M/9zFZKGgv4T+QwJQvj/7iP8Jg+K1oG+g/sIeol7/U2j+edZaqSnLjP4yYuey20uM/Rz0OWf9E4T8vDk+ROArgP+DqmZjCR+A/1ImkybpN2D9iVWr3sx7fPyCeFAUm0eY/RRQxXw914j+EoSFy1d3hP8wkRvhAKeQ/MOTzzexb5T9g2GHysP3kPxDh2j0E0eI/FFX3qZSX5j/N4GaJcuPpP/Q0Wf2lqOE/WAM+Uwy32D8s/0b5VDzfPwUEwn6ud+o/ZA1NO8Zt6T/qjCsJnzrsP6ClEDbRcOM/tBYfUcGc4D8i3asQi73hP1xSEDLUd9w/luufSiQS6j8mYDrSdOnnP7A+VNRioec/xDCcS2sE3D9ASj5c0CLkPwUf1MWFQuM/pCwGIttq5D/EpxBYAIvlP3mrZyYjZ+U/nMyXeUr35D+gEUFU9B/rP4R5a/upY94/al0C5YIS4D+gyItFOwriP/6RwPgivds/oN1Qhgwc5D/b3Mgud8fgP6ZgC0ZQoeA/0pICIuL45j8=",
          "dtype": "f8"
         },
         "yaxis": "y"
        },
        {
         "line": {
          "color": "green",
          "dash": "dot"
         },
         "mode": "lines+markers",
         "name": "Ratio (mybool=True / all)",
         "type": "scatter",
         "x": [
          0.0995,
          0.30000000000000004,
          0.5,
          0.7,
          0.9
         ],
         "y": [
          0.10714285714285714,
          0.42424242424242425,
          0.5,
          0.813953488372093,
          0.8059701492537313
         ],
         "yaxis": "y2"
        }
       ],
       "layout": {
        "legend": {
         "tracegroupgap": 0
        },
        "template": {
         "data": {
          "bar": [
           {
            "error_x": {
             "color": "#2a3f5f"
            },
            "error_y": {
             "color": "#2a3f5f"
            },
            "marker": {
             "line": {
              "color": "#E5ECF6",
              "width": 0.5
             },
             "pattern": {
              "fillmode": "overlay",
              "size": 10,
              "solidity": 0.2
             }
            },
            "type": "bar"
           }
          ],
          "barpolar": [
           {
            "marker": {
             "line": {
              "color": "#E5ECF6",
              "width": 0.5
             },
             "pattern": {
              "fillmode": "overlay",
              "size": 10,
              "solidity": 0.2
             }
            },
            "type": "barpolar"
           }
          ],
          "carpet": [
           {
            "aaxis": {
             "endlinecolor": "#2a3f5f",
             "gridcolor": "white",
             "linecolor": "white",
             "minorgridcolor": "white",
             "startlinecolor": "#2a3f5f"
            },
            "baxis": {
             "endlinecolor": "#2a3f5f",
             "gridcolor": "white",
             "linecolor": "white",
             "minorgridcolor": "white",
             "startlinecolor": "#2a3f5f"
            },
            "type": "carpet"
           }
          ],
          "choropleth": [
           {
            "colorbar": {
             "outlinewidth": 0,
             "ticks": ""
            },
            "type": "choropleth"
           }
          ],
          "contour": [
           {
            "colorbar": {
             "outlinewidth": 0,
             "ticks": ""
            },
            "colorscale": [
             [
              0,
              "#0d0887"
             ],
             [
              0.1111111111111111,
              "#46039f"
             ],
             [
              0.2222222222222222,
              "#7201a8"
             ],
             [
              0.3333333333333333,
              "#9c179e"
             ],
             [
              0.4444444444444444,
              "#bd3786"
             ],
             [
              0.5555555555555556,
              "#d8576b"
             ],
             [
              0.6666666666666666,
              "#ed7953"
             ],
             [
              0.7777777777777778,
              "#fb9f3a"
             ],
             [
              0.8888888888888888,
              "#fdca26"
             ],
             [
              1,
              "#f0f921"
             ]
            ],
            "type": "contour"
           }
          ],
          "contourcarpet": [
           {
            "colorbar": {
             "outlinewidth": 0,
             "ticks": ""
            },
            "type": "contourcarpet"
           }
          ],
          "heatmap": [
           {
            "colorbar": {
             "outlinewidth": 0,
             "ticks": ""
            },
            "colorscale": [
             [
              0,
              "#0d0887"
             ],
             [
              0.1111111111111111,
              "#46039f"
             ],
             [
              0.2222222222222222,
              "#7201a8"
             ],
             [
              0.3333333333333333,
              "#9c179e"
             ],
             [
              0.4444444444444444,
              "#bd3786"
             ],
             [
              0.5555555555555556,
              "#d8576b"
             ],
             [
              0.6666666666666666,
              "#ed7953"
             ],
             [
              0.7777777777777778,
              "#fb9f3a"
             ],
             [
              0.8888888888888888,
              "#fdca26"
             ],
             [
              1,
              "#f0f921"
             ]
            ],
            "type": "heatmap"
           }
          ],
          "histogram": [
           {
            "marker": {
             "pattern": {
              "fillmode": "overlay",
              "size": 10,
              "solidity": 0.2
             }
            },
            "type": "histogram"
           }
          ],
          "histogram2d": [
           {
            "colorbar": {
             "outlinewidth": 0,
             "ticks": ""
            },
            "colorscale": [
             [
              0,
              "#0d0887"
             ],
             [
              0.1111111111111111,
              "#46039f"
             ],
             [
              0.2222222222222222,
              "#7201a8"
             ],
             [
              0.3333333333333333,
              "#9c179e"
             ],
             [
              0.4444444444444444,
              "#bd3786"
             ],
             [
              0.5555555555555556,
              "#d8576b"
             ],
             [
              0.6666666666666666,
              "#ed7953"
             ],
             [
              0.7777777777777778,
              "#fb9f3a"
             ],
             [
              0.8888888888888888,
              "#fdca26"
             ],
             [
              1,
              "#f0f921"
             ]
            ],
            "type": "histogram2d"
           }
          ],
          "histogram2dcontour": [
           {
            "colorbar": {
             "outlinewidth": 0,
             "ticks": ""
            },
            "colorscale": [
             [
              0,
              "#0d0887"
             ],
             [
              0.1111111111111111,
              "#46039f"
             ],
             [
              0.2222222222222222,
              "#7201a8"
             ],
             [
              0.3333333333333333,
              "#9c179e"
             ],
             [
              0.4444444444444444,
              "#bd3786"
             ],
             [
              0.5555555555555556,
              "#d8576b"
             ],
             [
              0.6666666666666666,
              "#ed7953"
             ],
             [
              0.7777777777777778,
              "#fb9f3a"
             ],
             [
              0.8888888888888888,
              "#fdca26"
             ],
             [
              1,
              "#f0f921"
             ]
            ],
            "type": "histogram2dcontour"
           }
          ],
          "mesh3d": [
           {
            "colorbar": {
             "outlinewidth": 0,
             "ticks": ""
            },
            "type": "mesh3d"
           }
          ],
          "parcoords": [
           {
            "line": {
             "colorbar": {
              "outlinewidth": 0,
              "ticks": ""
             }
            },
            "type": "parcoords"
           }
          ],
          "pie": [
           {
            "automargin": true,
            "type": "pie"
           }
          ],
          "scatter": [
           {
            "fillpattern": {
             "fillmode": "overlay",
             "size": 10,
             "solidity": 0.2
            },
            "type": "scatter"
           }
          ],
          "scatter3d": [
           {
            "line": {
             "colorbar": {
              "outlinewidth": 0,
              "ticks": ""
             }
            },
            "marker": {
             "colorbar": {
              "outlinewidth": 0,
              "ticks": ""
             }
            },
            "type": "scatter3d"
           }
          ],
          "scattercarpet": [
           {
            "marker": {
             "colorbar": {
              "outlinewidth": 0,
              "ticks": ""
             }
            },
            "type": "scattercarpet"
           }
          ],
          "scattergeo": [
           {
            "marker": {
             "colorbar": {
              "outlinewidth": 0,
              "ticks": ""
             }
            },
            "type": "scattergeo"
           }
          ],
          "scattergl": [
           {
            "marker": {
             "colorbar": {
              "outlinewidth": 0,
              "ticks": ""
             }
            },
            "type": "scattergl"
           }
          ],
          "scattermap": [
           {
            "marker": {
             "colorbar": {
              "outlinewidth": 0,
              "ticks": ""
             }
            },
            "type": "scattermap"
           }
          ],
          "scattermapbox": [
           {
            "marker": {
             "colorbar": {
              "outlinewidth": 0,
              "ticks": ""
             }
            },
            "type": "scattermapbox"
           }
          ],
          "scatterpolar": [
           {
            "marker": {
             "colorbar": {
              "outlinewidth": 0,
              "ticks": ""
             }
            },
            "type": "scatterpolar"
           }
          ],
          "scatterpolargl": [
           {
            "marker": {
             "colorbar": {
              "outlinewidth": 0,
              "ticks": ""
             }
            },
            "type": "scatterpolargl"
           }
          ],
          "scatterternary": [
           {
            "marker": {
             "colorbar": {
              "outlinewidth": 0,
              "ticks": ""
             }
            },
            "type": "scatterternary"
           }
          ],
          "surface": [
           {
            "colorbar": {
             "outlinewidth": 0,
             "ticks": ""
            },
            "colorscale": [
             [
              0,
              "#0d0887"
             ],
             [
              0.1111111111111111,
              "#46039f"
             ],
             [
              0.2222222222222222,
              "#7201a8"
             ],
             [
              0.3333333333333333,
              "#9c179e"
             ],
             [
              0.4444444444444444,
              "#bd3786"
             ],
             [
              0.5555555555555556,
              "#d8576b"
             ],
             [
              0.6666666666666666,
              "#ed7953"
             ],
             [
              0.7777777777777778,
              "#fb9f3a"
             ],
             [
              0.8888888888888888,
              "#fdca26"
             ],
             [
              1,
              "#f0f921"
             ]
            ],
            "type": "surface"
           }
          ],
          "table": [
           {
            "cells": {
             "fill": {
              "color": "#EBF0F8"
             },
             "line": {
              "color": "white"
             }
            },
            "header": {
             "fill": {
              "color": "#C8D4E3"
             },
             "line": {
              "color": "white"
             }
            },
            "type": "table"
           }
          ]
         },
         "layout": {
          "annotationdefaults": {
           "arrowcolor": "#2a3f5f",
           "arrowhead": 0,
           "arrowwidth": 1
          },
          "autotypenumbers": "strict",
          "coloraxis": {
           "colorbar": {
            "outlinewidth": 0,
            "ticks": ""
           }
          },
          "colorscale": {
           "diverging": [
            [
             0,
             "#8e0152"
            ],
            [
             0.1,
             "#c51b7d"
            ],
            [
             0.2,
             "#de77ae"
            ],
            [
             0.3,
             "#f1b6da"
            ],
            [
             0.4,
             "#fde0ef"
            ],
            [
             0.5,
             "#f7f7f7"
            ],
            [
             0.6,
             "#e6f5d0"
            ],
            [
             0.7,
             "#b8e186"
            ],
            [
             0.8,
             "#7fbc41"
            ],
            [
             0.9,
             "#4d9221"
            ],
            [
             1,
             "#276419"
            ]
           ],
           "sequential": [
            [
             0,
             "#0d0887"
            ],
            [
             0.1111111111111111,
             "#46039f"
            ],
            [
             0.2222222222222222,
             "#7201a8"
            ],
            [
             0.3333333333333333,
             "#9c179e"
            ],
            [
             0.4444444444444444,
             "#bd3786"
            ],
            [
             0.5555555555555556,
             "#d8576b"
            ],
            [
             0.6666666666666666,
             "#ed7953"
            ],
            [
             0.7777777777777778,
             "#fb9f3a"
            ],
            [
             0.8888888888888888,
             "#fdca26"
            ],
            [
             1,
             "#f0f921"
            ]
           ],
           "sequentialminus": [
            [
             0,
             "#0d0887"
            ],
            [
             0.1111111111111111,
             "#46039f"
            ],
            [
             0.2222222222222222,
             "#7201a8"
            ],
            [
             0.3333333333333333,
             "#9c179e"
            ],
            [
             0.4444444444444444,
             "#bd3786"
            ],
            [
             0.5555555555555556,
             "#d8576b"
            ],
            [
             0.6666666666666666,
             "#ed7953"
            ],
            [
             0.7777777777777778,
             "#fb9f3a"
            ],
            [
             0.8888888888888888,
             "#fdca26"
            ],
            [
             1,
             "#f0f921"
            ]
           ]
          },
          "colorway": [
           "#636efa",
           "#EF553B",
           "#00cc96",
           "#ab63fa",
           "#FFA15A",
           "#19d3f3",
           "#FF6692",
           "#B6E880",
           "#FF97FF",
           "#FECB52"
          ],
          "font": {
           "color": "#2a3f5f"
          },
          "geo": {
           "bgcolor": "white",
           "lakecolor": "white",
           "landcolor": "#E5ECF6",
           "showlakes": true,
           "showland": true,
           "subunitcolor": "white"
          },
          "hoverlabel": {
           "align": "left"
          },
          "hovermode": "closest",
          "mapbox": {
           "style": "light"
          },
          "paper_bgcolor": "white",
          "plot_bgcolor": "#E5ECF6",
          "polar": {
           "angularaxis": {
            "gridcolor": "white",
            "linecolor": "white",
            "ticks": ""
           },
           "bgcolor": "#E5ECF6",
           "radialaxis": {
            "gridcolor": "white",
            "linecolor": "white",
            "ticks": ""
           }
          },
          "scene": {
           "xaxis": {
            "backgroundcolor": "#E5ECF6",
            "gridcolor": "white",
            "gridwidth": 2,
            "linecolor": "white",
            "showbackground": true,
            "ticks": "",
            "zerolinecolor": "white"
           },
           "yaxis": {
            "backgroundcolor": "#E5ECF6",
            "gridcolor": "white",
            "gridwidth": 2,
            "linecolor": "white",
            "showbackground": true,
            "ticks": "",
            "zerolinecolor": "white"
           },
           "zaxis": {
            "backgroundcolor": "#E5ECF6",
            "gridcolor": "white",
            "gridwidth": 2,
            "linecolor": "white",
            "showbackground": true,
            "ticks": "",
            "zerolinecolor": "white"
           }
          },
          "shapedefaults": {
           "line": {
            "color": "#2a3f5f"
           }
          },
          "ternary": {
           "aaxis": {
            "gridcolor": "white",
            "linecolor": "white",
            "ticks": ""
           },
           "baxis": {
            "gridcolor": "white",
            "linecolor": "white",
            "ticks": ""
           },
           "bgcolor": "#E5ECF6",
           "caxis": {
            "gridcolor": "white",
            "linecolor": "white",
            "ticks": ""
           }
          },
          "title": {
           "x": 0.05
          },
          "xaxis": {
           "automargin": true,
           "gridcolor": "white",
           "linecolor": "white",
           "ticks": "",
           "title": {
            "standoff": 15
           },
           "zerolinecolor": "white",
           "zerolinewidth": 2
          },
          "yaxis": {
           "automargin": true,
           "gridcolor": "white",
           "linecolor": "white",
           "ticks": "",
           "title": {
            "standoff": 15
           },
           "zerolinecolor": "white",
           "zerolinewidth": 2
          }
         }
        },
        "title": {
         "text": "Inclusion Ratio vs. sim_seq3 (bool=True) 127/213"
        },
        "xaxis": {
         "anchor": "y",
         "domain": [
          0,
          1
         ],
         "range": [
          -0.1,
          1.1
         ],
         "title": {
          "text": "Inclusion Ratio"
         }
        },
        "yaxis": {
         "anchor": "x",
         "domain": [
          0,
          1
         ],
         "range": [
          0,
          1.1
         ],
         "title": {
          "text": "sim_seq3"
         }
        },
        "yaxis2": {
         "overlaying": "y",
         "range": [
          0,
          1.1
         ],
         "side": "right",
         "title": {
          "text": "Ratio"
         }
        }
       }
      }
     },
     "metadata": {},
     "output_type": "display_data"
    },
    {
     "name": "stdout",
     "output_type": "stream",
     "text": [
      "213 132\n"
     ]
    },
    {
     "data": {
      "application/vnd.plotly.v1+json": {
       "config": {
        "plotlyServerURL": "https://plot.ly"
       },
       "data": [
        {
         "customdata": [
          [
           2,
           "01ce4fd6-197a-4792-8778-775b03780369"
          ],
          [
           3,
           "026dac2d-2ab3-4f9c-9e1d-6198db4fb080"
          ],
          [
           4,
           "026dac2d-2ab3-4f9c-9e1d-6198db4fb080"
          ],
          [
           7,
           "02a06bf1-51b8-4902-b088-573e29fcd7ec"
          ],
          [
           8,
           "02a06bf1-51b8-4902-b088-573e29fcd7ec"
          ],
          [
           10,
           "14bcb17c-f70a-41d5-b10d-294388084dfc"
          ],
          [
           11,
           "14bcb17c-f70a-41d5-b10d-294388084dfc"
          ],
          [
           13,
           "1a894d3c-b3ef-448a-a3de-2b38677cef36"
          ],
          [
           14,
           "1a894d3c-b3ef-448a-a3de-2b38677cef36"
          ],
          [
           15,
           "1dc85adb-fbdd-4275-b9cf-42976acb4d14"
          ],
          [
           16,
           "1dc85adb-fbdd-4275-b9cf-42976acb4d14"
          ],
          [
           20,
           "24ba7993-7fc8-4447-afd5-7ff6d548b11a"
          ],
          [
           22,
           "28e0affc-cacb-4db8-ab32-dfc16931b86a"
          ],
          [
           24,
           "2978ddbc-cdc9-4bfa-9a7c-4bf056904010"
          ],
          [
           27,
           "29e00040-6e0f-4f0e-816d-1ac97c1e5485"
          ],
          [
           28,
           "29e00040-6e0f-4f0e-816d-1ac97c1e5485"
          ],
          [
           29,
           "29e00040-6e0f-4f0e-816d-1ac97c1e5485"
          ],
          [
           30,
           "2ba0becb-58c2-43a1-97bb-7e153a34eb47"
          ],
          [
           31,
           "2ba0becb-58c2-43a1-97bb-7e153a34eb47"
          ],
          [
           32,
           "2ba0becb-58c2-43a1-97bb-7e153a34eb47"
          ],
          [
           36,
           "2c27b5f1-4af6-49ad-a43c-3efb0c150868"
          ],
          [
           37,
           "2c27b5f1-4af6-49ad-a43c-3efb0c150868"
          ],
          [
           39,
           "2da5c1ee-bd40-406d-83a7-2f3d93293949"
          ],
          [
           40,
           "2da5c1ee-bd40-406d-83a7-2f3d93293949"
          ],
          [
           41,
           "2da5c1ee-bd40-406d-83a7-2f3d93293949"
          ],
          [
           42,
           "2f46d1e6-2a85-4d46-b955-10c2eded661c"
          ],
          [
           43,
           "2f46d1e6-2a85-4d46-b955-10c2eded661c"
          ],
          [
           44,
           "2f46d1e6-2a85-4d46-b955-10c2eded661c"
          ],
          [
           46,
           "31d6fe77-da70-42da-8f47-66bb79b9285b"
          ],
          [
           47,
           "31d6fe77-da70-42da-8f47-66bb79b9285b"
          ],
          [
           53,
           "341b5211-bb72-4bec-bd3d-c0d518887960"
          ],
          [
           60,
           "38a7b760-56f9-4565-8b70-f8dad5768ace"
          ],
          [
           61,
           "38a7b760-56f9-4565-8b70-f8dad5768ace"
          ],
          [
           62,
           "38a7b760-56f9-4565-8b70-f8dad5768ace"
          ],
          [
           63,
           "3ec3eab7-842d-409d-8866-42ddcbd24cd9"
          ],
          [
           64,
           "3ec3eab7-842d-409d-8866-42ddcbd24cd9"
          ],
          [
           65,
           "3ec3eab7-842d-409d-8866-42ddcbd24cd9"
          ],
          [
           69,
           "47bb1fd4-d41f-42b4-8d0c-29c4e9fdff9f"
          ],
          [
           70,
           "47bb1fd4-d41f-42b4-8d0c-29c4e9fdff9f"
          ],
          [
           71,
           "47bb1fd4-d41f-42b4-8d0c-29c4e9fdff9f"
          ],
          [
           74,
           "487d752c-6e22-43e3-9c08-627bc2a6c6d4"
          ],
          [
           79,
           "543e4c99-5d9f-407d-be75-c397d633fe56"
          ],
          [
           80,
           "543e4c99-5d9f-407d-be75-c397d633fe56"
          ],
          [
           81,
           "5461912b-69cd-40d7-8f79-50832f92f049"
          ],
          [
           82,
           "5461912b-69cd-40d7-8f79-50832f92f049"
          ],
          [
           83,
           "5461912b-69cd-40d7-8f79-50832f92f049"
          ],
          [
           84,
           "56fe0c73-77c4-40d9-a687-b2df28d5f7d7"
          ],
          [
           85,
           "56fe0c73-77c4-40d9-a687-b2df28d5f7d7"
          ],
          [
           86,
           "56fe0c73-77c4-40d9-a687-b2df28d5f7d7"
          ],
          [
           92,
           "5c15607b-96af-4503-84b4-d1745f3a3ae0"
          ],
          [
           93,
           "5c2e910c-84e0-4042-b5d6-880a731c3e67"
          ],
          [
           94,
           "5c2e910c-84e0-4042-b5d6-880a731c3e67"
          ],
          [
           95,
           "5c2e910c-84e0-4042-b5d6-880a731c3e67"
          ],
          [
           96,
           "6628a2fb-19e2-4fe5-aedb-92fe5ceee9c9"
          ],
          [
           97,
           "6628a2fb-19e2-4fe5-aedb-92fe5ceee9c9"
          ],
          [
           99,
           "690f58f1-f18c-4415-bab0-787c2f83d051"
          ],
          [
           100,
           "690f58f1-f18c-4415-bab0-787c2f83d051"
          ],
          [
           101,
           "690f58f1-f18c-4415-bab0-787c2f83d051"
          ],
          [
           102,
           "6ac1d2ed-1f6b-4828-a1ab-f81c40bd5e80"
          ],
          [
           103,
           "6ac1d2ed-1f6b-4828-a1ab-f81c40bd5e80"
          ],
          [
           104,
           "6ac1d2ed-1f6b-4828-a1ab-f81c40bd5e80"
          ],
          [
           105,
           "6dafeac7-75b6-4d69-96f7-d08708a0a99e"
          ],
          [
           106,
           "6dafeac7-75b6-4d69-96f7-d08708a0a99e"
          ],
          [
           107,
           "6dafeac7-75b6-4d69-96f7-d08708a0a99e"
          ],
          [
           108,
           "737e9619-7768-407c-8a4f-6fe1e8d61f04"
          ],
          [
           109,
           "737e9619-7768-407c-8a4f-6fe1e8d61f04"
          ],
          [
           110,
           "737e9619-7768-407c-8a4f-6fe1e8d61f04"
          ],
          [
           111,
           "748536e4-636a-4dc6-b1a7-d9cbfdc1cffd"
          ],
          [
           112,
           "748536e4-636a-4dc6-b1a7-d9cbfdc1cffd"
          ],
          [
           113,
           "748536e4-636a-4dc6-b1a7-d9cbfdc1cffd"
          ],
          [
           117,
           "892629b0-61eb-425d-97f4-7d213074c435"
          ],
          [
           118,
           "892629b0-61eb-425d-97f4-7d213074c435"
          ],
          [
           119,
           "892629b0-61eb-425d-97f4-7d213074c435"
          ],
          [
           123,
           "907fd0e7-6821-4e2d-9c62-6d7afad5a9d1"
          ],
          [
           124,
           "907fd0e7-6821-4e2d-9c62-6d7afad5a9d1"
          ],
          [
           125,
           "907fd0e7-6821-4e2d-9c62-6d7afad5a9d1"
          ],
          [
           126,
           "98434f4c-6216-4067-ad59-4a89cb47bb9b"
          ],
          [
           127,
           "98434f4c-6216-4067-ad59-4a89cb47bb9b"
          ],
          [
           128,
           "98434f4c-6216-4067-ad59-4a89cb47bb9b"
          ],
          [
           130,
           "9fabfbc8-1d5c-495e-9bb2-03795f0145ae"
          ],
          [
           131,
           "9fabfbc8-1d5c-495e-9bb2-03795f0145ae"
          ],
          [
           132,
           "a267b011-b1db-4e3c-aa49-438e2afdd6dc"
          ],
          [
           133,
           "a267b011-b1db-4e3c-aa49-438e2afdd6dc"
          ],
          [
           134,
           "a267b011-b1db-4e3c-aa49-438e2afdd6dc"
          ],
          [
           135,
           "a6419de9-1e40-4793-b21b-9c8d9038835a"
          ],
          [
           136,
           "a6419de9-1e40-4793-b21b-9c8d9038835a"
          ],
          [
           137,
           "a6419de9-1e40-4793-b21b-9c8d9038835a"
          ],
          [
           139,
           "ab7ed4f7-10ee-4ccb-bb21-4853c9018b1e"
          ],
          [
           140,
           "ab7ed4f7-10ee-4ccb-bb21-4853c9018b1e"
          ],
          [
           141,
           "abab0e69-f7e4-40c1-aa58-375798df487a"
          ],
          [
           142,
           "abab0e69-f7e4-40c1-aa58-375798df487a"
          ],
          [
           143,
           "abab0e69-f7e4-40c1-aa58-375798df487a"
          ],
          [
           144,
           "ae2d99c2-1720-4354-bc4d-f7bc3e4ee28d"
          ],
          [
           145,
           "ae2d99c2-1720-4354-bc4d-f7bc3e4ee28d"
          ],
          [
           146,
           "ae2d99c2-1720-4354-bc4d-f7bc3e4ee28d"
          ],
          [
           154,
           "b83285c5-0b88-4ced-a52e-5c34ea371507"
          ],
          [
           155,
           "b83285c5-0b88-4ced-a52e-5c34ea371507"
          ],
          [
           156,
           "cf95d6a4-6ad7-462c-9700-9f04bd993667"
          ],
          [
           157,
           "cf95d6a4-6ad7-462c-9700-9f04bd993667"
          ],
          [
           158,
           "cf95d6a4-6ad7-462c-9700-9f04bd993667"
          ],
          [
           160,
           "d7a2e92e-dc74-4e79-be04-a86f829fc3ec"
          ],
          [
           161,
           "d7a2e92e-dc74-4e79-be04-a86f829fc3ec"
          ],
          [
           164,
           "daf5384b-ea5c-4cce-bb8a-540a360075bf"
          ],
          [
           165,
           "dcd09fa4-afe2-4a0d-9703-83af2867ebd3"
          ],
          [
           166,
           "dcd09fa4-afe2-4a0d-9703-83af2867ebd3"
          ],
          [
           167,
           "dcd09fa4-afe2-4a0d-9703-83af2867ebd3"
          ],
          [
           169,
           "debfb68a-eae2-464e-847a-cd3fea23f3ca"
          ],
          [
           170,
           "debfb68a-eae2-464e-847a-cd3fea23f3ca"
          ],
          [
           174,
           "e250017c-16ff-4825-9c30-160f391e1549"
          ],
          [
           175,
           "e250017c-16ff-4825-9c30-160f391e1549"
          ],
          [
           176,
           "e250017c-16ff-4825-9c30-160f391e1549"
          ],
          [
           179,
           "e4ad6fd7-2e3e-4991-b392-a0056f702286"
          ],
          [
           180,
           "e6231d1a-1f7f-4198-a499-7635509adfaf"
          ],
          [
           181,
           "e6231d1a-1f7f-4198-a499-7635509adfaf"
          ],
          [
           182,
           "e6231d1a-1f7f-4198-a499-7635509adfaf"
          ],
          [
           187,
           "ec3556de-be79-4ad4-aa0f-eaca48abb5d5"
          ],
          [
           188,
           "ec3556de-be79-4ad4-aa0f-eaca48abb5d5"
          ],
          [
           192,
           "edc1869c-8a97-44fd-ab47-63fda4a54df9"
          ],
          [
           193,
           "edc1869c-8a97-44fd-ab47-63fda4a54df9"
          ],
          [
           198,
           "f5ac654b-8f39-427b-856f-4a9a2d4a3020"
          ],
          [
           199,
           "f5ac654b-8f39-427b-856f-4a9a2d4a3020"
          ],
          [
           200,
           "f5ac654b-8f39-427b-856f-4a9a2d4a3020"
          ],
          [
           201,
           "fea524d4-a1b6-466c-ac48-8777c3fd173d"
          ],
          [
           203,
           "fea524d4-a1b6-466c-ac48-8777c3fd173d"
          ],
          [
           204,
           "grp-690f58f1-f18c-4415-bab0-787c2f83d051"
          ],
          [
           205,
           "grp-690f58f1-f18c-4415-bab0-787c2f83d051"
          ],
          [
           206,
           "grp-690f58f1-f18c-4415-bab0-787c2f83d051"
          ],
          [
           207,
           "grp-b59f7f5d-2991-49a6-8e88-0e2f2db92585"
          ],
          [
           208,
           "grp-b59f7f5d-2991-49a6-8e88-0e2f2db92585"
          ],
          [
           209,
           "grp-b59f7f5d-2991-49a6-8e88-0e2f2db92585"
          ],
          [
           211,
           "grp-ffd863cb-f06b-404e-a013-54acb61f1ed9"
          ],
          [
           212,
           "grp-ffd863cb-f06b-404e-a013-54acb61f1ed9"
          ]
         ],
         "hovertemplate": "Inclusion Ratio=%{x}<br>sim_seq3=%{y}<br>idx=%{customdata[0]}<br>source_uid=%{customdata[1]}<extra></extra>",
         "legendgroup": "",
         "marker": {
          "color": "#636efa",
          "symbol": "circle"
         },
         "mode": "markers",
         "name": "",
         "orientation": "v",
         "showlegend": false,
         "type": "scatter",
         "x": {
          "bdata": "VVVVVVVV1T8cx3Ecx3HsPxzHcRzHcew/VVVVVVVV5T9VVVVVVVXlPwAAAAAAAPA/AAAAAAAA8D/sUbgehevhPzMzMzMzM+M/zczMzMzM7D8AAAAAAADwPwAAAAAAAOw/AAAAAAAAAAAzMzMzMzPjP97d3d3d3d0/ZmZmZmZm5j9mZmZmZmbmPwAAAAAAAOE/AAAAAAAA5D8AAAAAAADkPwrXo3A9Ctc/uB6F61G43j8zMzMzMzPTP5qZmZmZmdk/zczMzMzM3D9Ob3rTm97kP05vetOb3uQ/ZCELWchC5j8AAAAAAADkPwAAAAAAAOQ/AAAAAAAA8D9VVVVVVVXlP1VVVVVVVeU/AAAAAAAA8D+rqqqqqqraPwAAAAAAAOA/AAAAAAAA4D8AAAAAAAAAAJIkSZIkSdI/kiRJkiRJ0j8AAAAAAADwPxzHcRzHcew/AAAAAAAA8D9DeQ3lNZTnP0N5DeU1lOc/NpTXUF5D6T+e2Imd2IndP9mJndiJneg/2Ymd2Imd6D+SJEmSJEniPwAAAAAAAPA/AAAAAAAA8D8AAAAAAADwPxEREREREeE/MzMzMzMz4z8UO7ETO7HTP57YiZ3Yid0/sRM7sRM74T8AAAAAAADcPwAAAAAAAOI/AAAAAAAA4j/NzMzMzMzsP+/u7u7u7u4/AAAAAAAA8D8UO7ETO7GzP57YiZ3Yic0/ntiJndiJzT8AAAAAAADgP6uqqqqqquo/AAAAAAAA8D8AAAAAAADoPwAAAAAAAOw/AAAAAAAA8D+amZmZmZnJPzMzMzMzM9M/MzMzMzMz0z8lSZIkSZLkPyVJkiRJkuQ/27Zt27Zt6z8AAAAAAADQPwAAAAAAAOg/HMdxHMdx3D8cx3Ecx3HsPxzHcRzHcew/SZIkSZIk2T8AAAAAAADoP0mSJEmSJOk/ep7neZ7n6T96nud5nufpPwAAAAAAAAAAAAAAAAAAAAAAAAAAAAAAAAAAAAAAAOA/Yid2Yid24j9iJ3ZiJ3biP9u2bdu2bes/AAAAAAAA8D+3bdu2bdvmPzuogzqog+o/fMVXfMVX7D8AAAAAAADoPwAAAAAAAPA/Hh4eHh4e3j9mZmZmZmbuPwAAAAAAAPA/AAAAAAAA8D8AAAAAAADwPwAAAAAAAPA/7MRO7MRO7D8AAAAAAADwPwAAAAAAAPA/AAAAAAAA8D9VVVVVVVXVP6uqqqqqqto/q6qqqqqq2j9VVVVVVVXlPzmO4ziO4+g/KK+hvIby6j82lNdQXkPpP+pNb3rTm94/IQtZyEIW4j84velNb3rjP1VVVVVVVe0/VVVVVVVV7T8or6G8hvLqPyivobyG8uo/jLRjBcJI6z9DFrKQhSzkP6c3velNb+o/yEIWspCF7D8AAAAAAADoP5IkSZIkSeo/",
          "dtype": "f8"
         },
         "xaxis": "x",
         "y": {
          "bdata": "fWG/9Yz94z8RUTHi2anrPxSN2f36tOs/xfsJyvmF4D+E7KEAIyXfPwx8ahT9N+c/lwoY+dH/6j9qitamwUvfPzjcpUY7X+M/ECLnOkOV5T/UMPSBXBjoPyKqR7w0kdw/xHTJL5ut3j94a/3UuyzdP3Rey13epts/du9rwDIa2j9efOrD8cvcP7yWUXdLEOQ/asS5KW/P6D8BST3/FpPgP2zjWVRJTNk/ho23I7Si2T+EKA9sMBzeP9CbsSGSNOI/Ivr2fpOp4T8KjxI3/v/cPwZZAZyKYOI/yoVNzhwk4T9OkapeskXgP4qdzSIbT90/IIz0hKQa7j9qKO3BQhHiP9RQvE06wd4/AAAAAAAA8D/wIVR+Ld7YP5QqhmhARNk/NOS/m6y52j/2LZlz3LXfP/vgc1ntlOk/GpuYrxdP6j9gNbPzbkbgP4zjfmYgkt0/BhohaZIc3j9+2LG5zzHiP6QRNO3JCeY/w1UfiTW65T/yhpvVsuPkP+zBd18kweY/2qu22GqS5D8Id0DtrhDcP8QaGeXgFeM/CF91lpGC4z8mobDxAEnjP/DHeEdi6Nc/ZP14ydQW1T9eFdKzcgPXPxTASptydtk/zunuCb293z9SsW9p8aHiPyQsJiYn3eE/jKJeCctx4z8EUJrPgavjP+YZc97LouM/fK1L5wHm5D9MLTBhHj3hP8nf5tiGcOI/bve7vbwh4j9Y3j7c5mDoP6735+m7U+c/XlgAczSe5j/Bv+jiq3bpP6ky8R/feOg/RbaRQ9qJ7D8gc1rYKXXnPyBzWtgpdec/IHNa2Cl15z8oVaCb0WPoPwAP2RQms+U/ksZulUmc6T8uPjFe1ljbP6jg7v2sR+c/LpbkQOsa1D/IIIo1Z8PkPxa1tvA0XOE/ZoDCV/WS4z/UiA4juU/mP1pmBDRsTtw/+GPMCCHs3D+SReauRlzbP6ywQQyyceM/zPYCtNGN4z98RprMidniP8NM+PhWh+Y/vHsV4NOV5z+QXlOy3UbkP+61iT1JS+Q/195db6OW5j/ZWuj1oJnpP4iZ/KKNY+k/T9PmNLUn7D8ZzCvG7AHnP3MXk7arC+8/jXVYz+9e4D/XbecAnMHnP9RlFuDOs+U/OqnmE49V5j/r2jWXWHfsP7oh0N5MNuo/KuREpD2t4j8LPvhFuaziP5WWf9ShKes/C3lKsBEP7D8Xi973vzLjP+xVnJjteOQ/pGX/MP1g4j9OmqZbLAjiP2+V2ww22eI/QDP/lyfF4D9QlRMYhw/jP+ql8LOWeeg/MMu9NVgg6z+0iNlHr1HpP1eog2c4RuU/8irhA9VY6D9G5mwBhgPcP6bILOhjhuc/Ihw8ZTHV5z/mMmqYp9/iP8hpMUmSzuM/0h/0+j6o5j9H2rJV5yLnPw6loKj5Yt8/",
          "dtype": "f8"
         },
         "yaxis": "y"
        },
        {
         "line": {
          "color": "green",
          "dash": "dot"
         },
         "mode": "lines+markers",
         "name": "Ratio (mybool=True / all)",
         "type": "scatter",
         "x": [
          0.0995,
          0.30000000000000004,
          0.5,
          0.7,
          0.9
         ],
         "y": [
          0.25,
          0.42424242424242425,
          0.6904761904761905,
          0.7441860465116279,
          0.746268656716418
         ],
         "yaxis": "y2"
        }
       ],
       "layout": {
        "legend": {
         "tracegroupgap": 0
        },
        "template": {
         "data": {
          "bar": [
           {
            "error_x": {
             "color": "#2a3f5f"
            },
            "error_y": {
             "color": "#2a3f5f"
            },
            "marker": {
             "line": {
              "color": "#E5ECF6",
              "width": 0.5
             },
             "pattern": {
              "fillmode": "overlay",
              "size": 10,
              "solidity": 0.2
             }
            },
            "type": "bar"
           }
          ],
          "barpolar": [
           {
            "marker": {
             "line": {
              "color": "#E5ECF6",
              "width": 0.5
             },
             "pattern": {
              "fillmode": "overlay",
              "size": 10,
              "solidity": 0.2
             }
            },
            "type": "barpolar"
           }
          ],
          "carpet": [
           {
            "aaxis": {
             "endlinecolor": "#2a3f5f",
             "gridcolor": "white",
             "linecolor": "white",
             "minorgridcolor": "white",
             "startlinecolor": "#2a3f5f"
            },
            "baxis": {
             "endlinecolor": "#2a3f5f",
             "gridcolor": "white",
             "linecolor": "white",
             "minorgridcolor": "white",
             "startlinecolor": "#2a3f5f"
            },
            "type": "carpet"
           }
          ],
          "choropleth": [
           {
            "colorbar": {
             "outlinewidth": 0,
             "ticks": ""
            },
            "type": "choropleth"
           }
          ],
          "contour": [
           {
            "colorbar": {
             "outlinewidth": 0,
             "ticks": ""
            },
            "colorscale": [
             [
              0,
              "#0d0887"
             ],
             [
              0.1111111111111111,
              "#46039f"
             ],
             [
              0.2222222222222222,
              "#7201a8"
             ],
             [
              0.3333333333333333,
              "#9c179e"
             ],
             [
              0.4444444444444444,
              "#bd3786"
             ],
             [
              0.5555555555555556,
              "#d8576b"
             ],
             [
              0.6666666666666666,
              "#ed7953"
             ],
             [
              0.7777777777777778,
              "#fb9f3a"
             ],
             [
              0.8888888888888888,
              "#fdca26"
             ],
             [
              1,
              "#f0f921"
             ]
            ],
            "type": "contour"
           }
          ],
          "contourcarpet": [
           {
            "colorbar": {
             "outlinewidth": 0,
             "ticks": ""
            },
            "type": "contourcarpet"
           }
          ],
          "heatmap": [
           {
            "colorbar": {
             "outlinewidth": 0,
             "ticks": ""
            },
            "colorscale": [
             [
              0,
              "#0d0887"
             ],
             [
              0.1111111111111111,
              "#46039f"
             ],
             [
              0.2222222222222222,
              "#7201a8"
             ],
             [
              0.3333333333333333,
              "#9c179e"
             ],
             [
              0.4444444444444444,
              "#bd3786"
             ],
             [
              0.5555555555555556,
              "#d8576b"
             ],
             [
              0.6666666666666666,
              "#ed7953"
             ],
             [
              0.7777777777777778,
              "#fb9f3a"
             ],
             [
              0.8888888888888888,
              "#fdca26"
             ],
             [
              1,
              "#f0f921"
             ]
            ],
            "type": "heatmap"
           }
          ],
          "histogram": [
           {
            "marker": {
             "pattern": {
              "fillmode": "overlay",
              "size": 10,
              "solidity": 0.2
             }
            },
            "type": "histogram"
           }
          ],
          "histogram2d": [
           {
            "colorbar": {
             "outlinewidth": 0,
             "ticks": ""
            },
            "colorscale": [
             [
              0,
              "#0d0887"
             ],
             [
              0.1111111111111111,
              "#46039f"
             ],
             [
              0.2222222222222222,
              "#7201a8"
             ],
             [
              0.3333333333333333,
              "#9c179e"
             ],
             [
              0.4444444444444444,
              "#bd3786"
             ],
             [
              0.5555555555555556,
              "#d8576b"
             ],
             [
              0.6666666666666666,
              "#ed7953"
             ],
             [
              0.7777777777777778,
              "#fb9f3a"
             ],
             [
              0.8888888888888888,
              "#fdca26"
             ],
             [
              1,
              "#f0f921"
             ]
            ],
            "type": "histogram2d"
           }
          ],
          "histogram2dcontour": [
           {
            "colorbar": {
             "outlinewidth": 0,
             "ticks": ""
            },
            "colorscale": [
             [
              0,
              "#0d0887"
             ],
             [
              0.1111111111111111,
              "#46039f"
             ],
             [
              0.2222222222222222,
              "#7201a8"
             ],
             [
              0.3333333333333333,
              "#9c179e"
             ],
             [
              0.4444444444444444,
              "#bd3786"
             ],
             [
              0.5555555555555556,
              "#d8576b"
             ],
             [
              0.6666666666666666,
              "#ed7953"
             ],
             [
              0.7777777777777778,
              "#fb9f3a"
             ],
             [
              0.8888888888888888,
              "#fdca26"
             ],
             [
              1,
              "#f0f921"
             ]
            ],
            "type": "histogram2dcontour"
           }
          ],
          "mesh3d": [
           {
            "colorbar": {
             "outlinewidth": 0,
             "ticks": ""
            },
            "type": "mesh3d"
           }
          ],
          "parcoords": [
           {
            "line": {
             "colorbar": {
              "outlinewidth": 0,
              "ticks": ""
             }
            },
            "type": "parcoords"
           }
          ],
          "pie": [
           {
            "automargin": true,
            "type": "pie"
           }
          ],
          "scatter": [
           {
            "fillpattern": {
             "fillmode": "overlay",
             "size": 10,
             "solidity": 0.2
            },
            "type": "scatter"
           }
          ],
          "scatter3d": [
           {
            "line": {
             "colorbar": {
              "outlinewidth": 0,
              "ticks": ""
             }
            },
            "marker": {
             "colorbar": {
              "outlinewidth": 0,
              "ticks": ""
             }
            },
            "type": "scatter3d"
           }
          ],
          "scattercarpet": [
           {
            "marker": {
             "colorbar": {
              "outlinewidth": 0,
              "ticks": ""
             }
            },
            "type": "scattercarpet"
           }
          ],
          "scattergeo": [
           {
            "marker": {
             "colorbar": {
              "outlinewidth": 0,
              "ticks": ""
             }
            },
            "type": "scattergeo"
           }
          ],
          "scattergl": [
           {
            "marker": {
             "colorbar": {
              "outlinewidth": 0,
              "ticks": ""
             }
            },
            "type": "scattergl"
           }
          ],
          "scattermap": [
           {
            "marker": {
             "colorbar": {
              "outlinewidth": 0,
              "ticks": ""
             }
            },
            "type": "scattermap"
           }
          ],
          "scattermapbox": [
           {
            "marker": {
             "colorbar": {
              "outlinewidth": 0,
              "ticks": ""
             }
            },
            "type": "scattermapbox"
           }
          ],
          "scatterpolar": [
           {
            "marker": {
             "colorbar": {
              "outlinewidth": 0,
              "ticks": ""
             }
            },
            "type": "scatterpolar"
           }
          ],
          "scatterpolargl": [
           {
            "marker": {
             "colorbar": {
              "outlinewidth": 0,
              "ticks": ""
             }
            },
            "type": "scatterpolargl"
           }
          ],
          "scatterternary": [
           {
            "marker": {
             "colorbar": {
              "outlinewidth": 0,
              "ticks": ""
             }
            },
            "type": "scatterternary"
           }
          ],
          "surface": [
           {
            "colorbar": {
             "outlinewidth": 0,
             "ticks": ""
            },
            "colorscale": [
             [
              0,
              "#0d0887"
             ],
             [
              0.1111111111111111,
              "#46039f"
             ],
             [
              0.2222222222222222,
              "#7201a8"
             ],
             [
              0.3333333333333333,
              "#9c179e"
             ],
             [
              0.4444444444444444,
              "#bd3786"
             ],
             [
              0.5555555555555556,
              "#d8576b"
             ],
             [
              0.6666666666666666,
              "#ed7953"
             ],
             [
              0.7777777777777778,
              "#fb9f3a"
             ],
             [
              0.8888888888888888,
              "#fdca26"
             ],
             [
              1,
              "#f0f921"
             ]
            ],
            "type": "surface"
           }
          ],
          "table": [
           {
            "cells": {
             "fill": {
              "color": "#EBF0F8"
             },
             "line": {
              "color": "white"
             }
            },
            "header": {
             "fill": {
              "color": "#C8D4E3"
             },
             "line": {
              "color": "white"
             }
            },
            "type": "table"
           }
          ]
         },
         "layout": {
          "annotationdefaults": {
           "arrowcolor": "#2a3f5f",
           "arrowhead": 0,
           "arrowwidth": 1
          },
          "autotypenumbers": "strict",
          "coloraxis": {
           "colorbar": {
            "outlinewidth": 0,
            "ticks": ""
           }
          },
          "colorscale": {
           "diverging": [
            [
             0,
             "#8e0152"
            ],
            [
             0.1,
             "#c51b7d"
            ],
            [
             0.2,
             "#de77ae"
            ],
            [
             0.3,
             "#f1b6da"
            ],
            [
             0.4,
             "#fde0ef"
            ],
            [
             0.5,
             "#f7f7f7"
            ],
            [
             0.6,
             "#e6f5d0"
            ],
            [
             0.7,
             "#b8e186"
            ],
            [
             0.8,
             "#7fbc41"
            ],
            [
             0.9,
             "#4d9221"
            ],
            [
             1,
             "#276419"
            ]
           ],
           "sequential": [
            [
             0,
             "#0d0887"
            ],
            [
             0.1111111111111111,
             "#46039f"
            ],
            [
             0.2222222222222222,
             "#7201a8"
            ],
            [
             0.3333333333333333,
             "#9c179e"
            ],
            [
             0.4444444444444444,
             "#bd3786"
            ],
            [
             0.5555555555555556,
             "#d8576b"
            ],
            [
             0.6666666666666666,
             "#ed7953"
            ],
            [
             0.7777777777777778,
             "#fb9f3a"
            ],
            [
             0.8888888888888888,
             "#fdca26"
            ],
            [
             1,
             "#f0f921"
            ]
           ],
           "sequentialminus": [
            [
             0,
             "#0d0887"
            ],
            [
             0.1111111111111111,
             "#46039f"
            ],
            [
             0.2222222222222222,
             "#7201a8"
            ],
            [
             0.3333333333333333,
             "#9c179e"
            ],
            [
             0.4444444444444444,
             "#bd3786"
            ],
            [
             0.5555555555555556,
             "#d8576b"
            ],
            [
             0.6666666666666666,
             "#ed7953"
            ],
            [
             0.7777777777777778,
             "#fb9f3a"
            ],
            [
             0.8888888888888888,
             "#fdca26"
            ],
            [
             1,
             "#f0f921"
            ]
           ]
          },
          "colorway": [
           "#636efa",
           "#EF553B",
           "#00cc96",
           "#ab63fa",
           "#FFA15A",
           "#19d3f3",
           "#FF6692",
           "#B6E880",
           "#FF97FF",
           "#FECB52"
          ],
          "font": {
           "color": "#2a3f5f"
          },
          "geo": {
           "bgcolor": "white",
           "lakecolor": "white",
           "landcolor": "#E5ECF6",
           "showlakes": true,
           "showland": true,
           "subunitcolor": "white"
          },
          "hoverlabel": {
           "align": "left"
          },
          "hovermode": "closest",
          "mapbox": {
           "style": "light"
          },
          "paper_bgcolor": "white",
          "plot_bgcolor": "#E5ECF6",
          "polar": {
           "angularaxis": {
            "gridcolor": "white",
            "linecolor": "white",
            "ticks": ""
           },
           "bgcolor": "#E5ECF6",
           "radialaxis": {
            "gridcolor": "white",
            "linecolor": "white",
            "ticks": ""
           }
          },
          "scene": {
           "xaxis": {
            "backgroundcolor": "#E5ECF6",
            "gridcolor": "white",
            "gridwidth": 2,
            "linecolor": "white",
            "showbackground": true,
            "ticks": "",
            "zerolinecolor": "white"
           },
           "yaxis": {
            "backgroundcolor": "#E5ECF6",
            "gridcolor": "white",
            "gridwidth": 2,
            "linecolor": "white",
            "showbackground": true,
            "ticks": "",
            "zerolinecolor": "white"
           },
           "zaxis": {
            "backgroundcolor": "#E5ECF6",
            "gridcolor": "white",
            "gridwidth": 2,
            "linecolor": "white",
            "showbackground": true,
            "ticks": "",
            "zerolinecolor": "white"
           }
          },
          "shapedefaults": {
           "line": {
            "color": "#2a3f5f"
           }
          },
          "ternary": {
           "aaxis": {
            "gridcolor": "white",
            "linecolor": "white",
            "ticks": ""
           },
           "baxis": {
            "gridcolor": "white",
            "linecolor": "white",
            "ticks": ""
           },
           "bgcolor": "#E5ECF6",
           "caxis": {
            "gridcolor": "white",
            "linecolor": "white",
            "ticks": ""
           }
          },
          "title": {
           "x": 0.05
          },
          "xaxis": {
           "automargin": true,
           "gridcolor": "white",
           "linecolor": "white",
           "ticks": "",
           "title": {
            "standoff": 15
           },
           "zerolinecolor": "white",
           "zerolinewidth": 2
          },
          "yaxis": {
           "automargin": true,
           "gridcolor": "white",
           "linecolor": "white",
           "ticks": "",
           "title": {
            "standoff": 15
           },
           "zerolinecolor": "white",
           "zerolinewidth": 2
          }
         }
        },
        "title": {
         "text": "Inclusion Ratio vs. sim_seq3 (bool=True) 132/213"
        },
        "xaxis": {
         "anchor": "y",
         "domain": [
          0,
          1
         ],
         "range": [
          -0.1,
          1.1
         ],
         "title": {
          "text": "Inclusion Ratio"
         }
        },
        "yaxis": {
         "anchor": "x",
         "domain": [
          0,
          1
         ],
         "range": [
          0,
          1.1
         ],
         "title": {
          "text": "sim_seq3"
         }
        },
        "yaxis2": {
         "overlaying": "y",
         "range": [
          0,
          1.1
         ],
         "side": "right",
         "title": {
          "text": "Ratio"
         }
        }
       }
      }
     },
     "metadata": {},
     "output_type": "display_data"
    }
   ],
   "source": [
    "import json\n",
    "print(path_eval_results + 'human/human-norag.json')\n",
    "\n",
    "with open('/root/project/f4_evaluate/result_v6/human/human-rag.json', 'r', encoding='utf-8') as f:\n",
    "    eval_ragdata = json.load(f)\n",
    "with open('/root/project/f4_evaluate/result_v6/human/human-norag.json', 'r', encoding='utf-8') as f:\n",
    "    eval_noragdata = json.load(f)\n",
    "with open('/root/project/f4_evaluate/result_v6/human/human-raggoal.json', 'r', encoding='utf-8') as f:\n",
    "    eval_raggoaldata = json.load(f)\n",
    "\n",
    "\n",
    "# print(data)\n",
    "eval_ragdata = eval_ragdata['annotations']\n",
    "print(len(eval_ragdata))\n",
    "eval_ragdata = list(eval_ragdata.values())\n",
    "print(len(eval_ragdata))\n",
    "\n",
    "eval_noragdata = eval_noragdata['annotations']\n",
    "print(len(eval_noragdata))\n",
    "eval_noragdata = list(eval_noragdata.values())\n",
    "print(len(eval_noragdata))\n",
    "\n",
    "eval_raggoaldata = eval_raggoaldata['annotations']\n",
    "print(len(eval_raggoaldata))\n",
    "eval_raggoaldata = list(eval_raggoaldata.values())\n",
    "print(len(eval_raggoaldata))\n",
    "\n",
    "\n",
    "df_eval_rag = pd.DataFrame(eval_ragdata).sort_values(by='idx').reset_index(drop=True)\n",
    "df_eval_norag = pd.DataFrame(eval_noragdata).sort_values(by='idx').reset_index(drop=True)\n",
    "df_eval_raggoal = pd.DataFrame(eval_raggoaldata).sort_values(by='idx').reset_index(drop=True)\n",
    "# print(df_eval_rag)\n",
    "\n",
    "#reorder new df jsons by index number!\n",
    "\n",
    "\n",
    "\n",
    "# bool are stored as object type. convert this to bool\n",
    "df_eval_rag = convert_dtypes(df_eval_rag)\n",
    "df_eval_norag = convert_dtypes(df_eval_norag)\n",
    "df_eval_raggoal = convert_dtypes(df_eval_raggoal)\n",
    "# df_eval_noraggoal = convert_dtypes(df_eval_noraggoal)\n",
    "\n",
    "\n",
    "\n",
    "# inclusion ratio must be in the df\n",
    "rag_inclusion_ratio = df_inclusion_ratio(PATH_BASELINE_RAG, baselines[0])\n",
    "norag_inclusion_ratio = df_inclusion_ratio(PATH_BASELINE_NORAG, baselines[1])\n",
    "# print(rag_inclusion_ratio)\n",
    "raggoal_inclusion_ratio = df_inclusion_ratio(PATH_BASELINE_RAGGOAL, baselines[2])\n",
    "# noraggoal_inclusion_ratio = df_inclusion_ratio(PATH_BASELINE_NORAGGOAL, baselines[3])\n",
    "\n",
    "df_eval_rag = pd.concat([df_eval_rag, rag_inclusion_ratio], axis=1)\n",
    "df_eval_norag = pd.concat([df_eval_norag, norag_inclusion_ratio], axis=1)\n",
    "df_eval_raggoal = pd.concat([df_eval_raggoal, raggoal_inclusion_ratio], axis=1)\n",
    "# df_eval_noraggoal = pd.concat([df_eval_noraggoal, noraggoal_inclusion_ratio], axis=1)\n",
    "\n",
    "\n",
    "\n",
    "def plot_sequence_cursor_interactive2(df: pd.DataFrame, mybool: bool, key2plot: str, bin_num:int):\n",
    "    # df = df.dropna(subset=['inclusion_ratio', 'sequence_similarity_sbert', 'core_check_seq'])\n",
    "    filtered_df = df[df['core_check_seq'] == mybool]\n",
    "    size1 = df.shape[0]\n",
    "    size2 = filtered_df.shape[0]\n",
    "    print(size1, size2)\n",
    "\n",
    "    #===============================\n",
    "    #ratio of selection\n",
    "    #===============================\n",
    "    # Step 1: Bin the data by inclusion_ratio\n",
    "    bin_width = 1.0/bin_num\n",
    "    # bins = np.arange(0, 1.0001 + bin_width, bin_width)\n",
    "    bins = np.arange(0, 0.9001 + bin_width, bin_width)\n",
    "    df['inclusion_bin'] = pd.cut(df['inclusion_ratio'], bins=bins, include_lowest=True)\n",
    "\n",
    "    # Step 2: Group by bins and calculate ratio\n",
    "    grouped = df.groupby('inclusion_bin', observed=True)\n",
    "    bin_centers = [interval.mid for interval in grouped.groups.keys()]\n",
    "\n",
    "    ratios = []\n",
    "    for bin_label, group in grouped:\n",
    "        total = len(group)\n",
    "        true_count = group[group['core_check_seq'] == True].shape[0]\n",
    "        ratio = true_count / total if total > 0 else 0\n",
    "        ratios.append(ratio)\n",
    "\n",
    "    #===============================\n",
    "    # Polynomial fit\n",
    "    N = 1\n",
    "    coeffs = np.polyfit(filtered_df['inclusion_ratio'], filtered_df[key2plot], deg=N)\n",
    "    poly_func = np.poly1d(coeffs)\n",
    "    x_smooth = np.linspace(filtered_df['inclusion_ratio'].min(), filtered_df['inclusion_ratio'].max(), 200)\n",
    "    y_smooth = poly_func(x_smooth)\n",
    "\n",
    "    # Scatter plot with hover info\n",
    "    fig = px.scatter(\n",
    "        filtered_df,\n",
    "        x='inclusion_ratio',\n",
    "        y=key2plot,\n",
    "        hover_data=['idx','source_uid'],\n",
    "        labels={\n",
    "            'inclusion_ratio': 'Inclusion Ratio',\n",
    "            key2plot: key2plot,\n",
    "        },\n",
    "        title=f'Inclusion Ratio vs. {key2plot} (bool={mybool}) {size2}/{size1}',\n",
    "    )\n",
    "\n",
    "    #===============================\n",
    "    # Add polynomial fit line\n",
    "    # fig.add_scatter(\n",
    "    #     x=x_smooth,\n",
    "    #     y=y_smooth,\n",
    "    #     mode='lines',\n",
    "    #     name=f'{N}° polynomial fit',\n",
    "    #     line=dict(color='red')\n",
    "    # )\n",
    "\n",
    "    fig.update_layout(\n",
    "        xaxis=dict(range=[-0.1, 1.1]),\n",
    "        yaxis=dict(range=[0, 1.1]),\n",
    "    )\n",
    "\n",
    "    #===============================\n",
    "    #ratio of selection\n",
    "    #===============================\n",
    "    # Add ratio line trace with secondary y-axis\n",
    "    fig.add_trace(go.Scatter(\n",
    "        x=bin_centers,\n",
    "        y=ratios,\n",
    "        mode='lines+markers',\n",
    "        name='Ratio (mybool=True / all)',\n",
    "        line=dict(color='green', dash='dot'),\n",
    "        yaxis='y2'\n",
    "    ))\n",
    "\n",
    "    # Configure secondary y-axis\n",
    "    fig.update_layout(\n",
    "        yaxis2=dict(\n",
    "            title='Ratio',\n",
    "            overlaying='y',\n",
    "            side='right',\n",
    "            range=[0, 1.1]\n",
    "        )\n",
    "    )\n",
    "\n",
    "    fig.show()\n",
    "\n",
    "plot_sequence_cursor_interactive2(df_eval_rag, True, 'sim_tax3', 5)\n",
    "plot_sequence_cursor_interactive2(df_eval_norag, True, 'sim_tax3', 5)\n",
    "plot_sequence_cursor_interactive2(df_eval_rag, True, 'sim_seq3', 5)\n",
    "plot_sequence_cursor_interactive2(df_eval_norag, True, 'sim_seq3', 5)\n",
    "plot_sequence_cursor_interactive2(df_eval_raggoal, True, 'sim_seq3', 5)\n"
   ]
  },
  {
   "cell_type": "code",
   "execution_count": 53,
   "id": "b8913ae5",
   "metadata": {},
   "outputs": [
    {
     "name": "stdout",
     "output_type": "stream",
     "text": [
      "rag core(tax, seq, both): 140 119 107 153\n",
      "rag entity/core(tax, seq, both): 115 97 93 116\n",
      "rag entity/sim/core(tax, seq, both): 110 92 89 109\n",
      "norag core(tax, seq, both): 139 127 112\n",
      "norag entity/core(tax, seq, both): 107 108 95\n",
      "norag entity/sim/core(tax, seq, both): 104 105 92 117\n",
      "rag (core) (entity,core) (entity,sim,core): 132 106 106 130\n"
     ]
    }
   ],
   "source": [
    "#---------------------------------------------------------------------------\n",
    "#evaluator_rag_\n",
    "#---------------------------------------------------------------------------\n",
    "#core check has 3 versions, tax, seq, both\n",
    "efil1_tax_rag = df_eval_rag[df_eval_rag['core_check_tax']==True]\n",
    "efil1_seq_rag = df_eval_rag[df_eval_rag['core_check_seq']==True]\n",
    "efil1_both_rag = df_eval_rag[(df_eval_rag['core_check_tax']==True)&(df_eval_rag['core_check_seq']==True)]\n",
    "efil1_human_rag = df_eval_rag[(df_eval_rag['human_check_tax']==True)&(df_eval_rag['human_check_seq']==True)]\n",
    "print(f\"rag core(tax, seq, both): {efil1_tax_rag.shape[0]} {efil1_seq_rag.shape[0]} {efil1_both_rag.shape[0]} {efil1_human_rag.shape[0]}\")\n",
    "\n",
    "#entity check should both pass for (tax, seq) because otherwise sequence generation is impossible\n",
    "efil2_tax_rag = df_eval_rag[(df_eval_rag['entity_check_tax']==True)&(df_eval_rag['entity_check_seq']==True)&(df_eval_rag['core_check_tax']==True)]\n",
    "efil2_seq_rag = df_eval_rag[(df_eval_rag['entity_check_tax']==True)&(df_eval_rag['entity_check_seq']==True)&(df_eval_rag['core_check_seq']==True)]\n",
    "efil2_both_rag = df_eval_rag[(df_eval_rag['entity_check_tax']==True)&(df_eval_rag['entity_check_seq']==True)&(df_eval_rag['core_check_tax']==True)&(df_eval_rag['core_check_seq']==True)]\n",
    "efil2_human_rag = df_eval_rag[(df_eval_rag['entity_check_tax']==True)&(df_eval_rag['entity_check_seq']==True)&(df_eval_rag['human_check_tax']==True)&(df_eval_rag['human_check_seq']==True)]\n",
    "print(f\"rag entity/core(tax, seq, both): {efil2_tax_rag.shape[0]} {efil2_seq_rag.shape[0]} {efil2_both_rag.shape[0]} {efil2_human_rag.shape[0]}\")\n",
    "\n",
    "#similarity threshold should both be applied (tax, seq) because otherwise sequence generation is impossible\n",
    "sim_tax_threshold = 0.4 #main itself is 50% weight\n",
    "sim_seq_threshold = 0.3 #same threhold as goalmediation\n",
    "\n",
    "efil3_tax_rag = df_eval_rag[(df_eval_rag['entity_check_tax']==True)&(df_eval_rag['entity_check_seq']==True)&(df_eval_rag['sim_tax3']>sim_tax_threshold)&(df_eval_rag['sim_seq3']>sim_seq_threshold)&(df_eval_rag['core_check_tax']==True)]\n",
    "efil3_seq_rag = df_eval_rag[(df_eval_rag['entity_check_tax']==True)&(df_eval_rag['entity_check_seq']==True)&(df_eval_rag['sim_tax3']>sim_tax_threshold)&(df_eval_rag['sim_seq3']>sim_seq_threshold)&(df_eval_rag['core_check_seq']==True)]\n",
    "efil3_both_rag = df_eval_rag[(df_eval_rag['entity_check_tax']==True)&(df_eval_rag['entity_check_seq']==True)&(df_eval_rag['sim_tax3']>sim_tax_threshold)&(df_eval_rag['sim_seq3']>sim_seq_threshold)&(df_eval_rag['core_check_tax']==True)&(df_eval_rag['core_check_seq']==True)]\n",
    "efil3_human_rag = df_eval_rag[(df_eval_rag['entity_check_tax']==True)&(df_eval_rag['entity_check_seq']==True)&(df_eval_rag['sim_tax3']>sim_tax_threshold)&(df_eval_rag['sim_seq3']>sim_seq_threshold)&(df_eval_rag['human_check_tax']==True)&(df_eval_rag['human_check_seq']==True)]\n",
    "print(f\"rag entity/sim/core(tax, seq, both): {efil3_tax_rag.shape[0]} {efil3_seq_rag.shape[0]} {efil3_both_rag.shape[0]} {efil3_human_rag.shape[0]}\")\n",
    "\n",
    "#---------------------------------------------------------------------------\n",
    "#evaluator_norag_\n",
    "#---------------------------------------------------------------------------\n",
    "efil1_tax_norag = df_eval_norag[df_eval_norag['core_check_tax']==True]\n",
    "efil1_seq_norag = df_eval_norag[df_eval_norag['core_check_seq']==True]\n",
    "efil1_both_norag = df_eval_norag[(df_eval_norag['core_check_tax']==True)&(df_eval_norag['core_check_seq']==True)]\n",
    "print(f\"norag core(tax, seq, both): {efil1_tax_norag.shape[0]} {efil1_seq_norag.shape[0]} {efil1_both_norag.shape[0]}\")\n",
    "\n",
    "#entity check should both pass for (tax, seq) because otherwise sequence generation is impossible\n",
    "efil2_tax_norag = df_eval_norag[(df_eval_norag['entity_check_tax']==True)&(df_eval_norag['entity_check_seq']==True)&(df_eval_norag['core_check_tax']==True)]\n",
    "efil2_seq_norag = df_eval_norag[(df_eval_norag['entity_check_tax']==True)&(df_eval_norag['entity_check_seq']==True)&(df_eval_norag['core_check_seq']==True)]\n",
    "efil2_both_norag = df_eval_norag[(df_eval_norag['entity_check_tax']==True)&(df_eval_norag['entity_check_seq']==True)&(df_eval_norag['core_check_tax']==True)&(df_eval_norag['core_check_seq']==True)]\n",
    "print(f\"norag entity/core(tax, seq, both): {efil2_tax_norag.shape[0]} {efil2_seq_norag.shape[0]} {efil2_both_norag.shape[0]}\")\n",
    "\n",
    "#similarity threshold should both be applied (tax, seq) because otherwise sequence generation is impossible\n",
    "sim_tax_threshold = 0.4 #main itself is 50% weight\n",
    "sim_seq_threshold = 0.3 #same threhold as goalmediation\n",
    "\n",
    "efil3_tax_norag = df_eval_norag[(df_eval_norag['entity_check_tax']==True)&(df_eval_norag['entity_check_seq']==True)&(df_eval_norag['sim_tax3']>sim_tax_threshold)&(df_eval_norag['sim_seq3']>sim_seq_threshold)&(df_eval_norag['core_check_tax']==True)]\n",
    "efil3_seq_norag = df_eval_norag[(df_eval_norag['entity_check_tax']==True)&(df_eval_norag['entity_check_seq']==True)&(df_eval_norag['sim_tax3']>sim_tax_threshold)&(df_eval_norag['sim_seq3']>sim_seq_threshold)&(df_eval_norag['core_check_seq']==True)]\n",
    "efil3_both_norag = df_eval_norag[(df_eval_norag['entity_check_tax']==True)&(df_eval_norag['entity_check_seq']==True)&(df_eval_norag['sim_tax3']>sim_tax_threshold)&(df_eval_norag['sim_seq3']>sim_seq_threshold)&(df_eval_norag['core_check_tax']==True)&(df_eval_norag['core_check_seq']==True)]\n",
    "efil3_human_norag = df_eval_norag[(df_eval_norag['entity_check_tax']==True)&(df_eval_norag['entity_check_seq']==True)&(df_eval_norag['sim_tax3']>sim_tax_threshold)&(df_eval_norag['sim_seq3']>sim_seq_threshold)&(df_eval_norag['human_check_tax']==True)&(df_eval_norag['human_check_seq']==True)]\n",
    "\n",
    "print(f\"norag entity/sim/core(tax, seq, both): {efil3_tax_norag.shape[0]} {efil3_seq_norag.shape[0]} {efil3_both_norag.shape[0]} {efil3_human_norag.shape[0]}\")\n",
    "\n",
    "\n",
    "\n",
    "#---------------------------------------------------------------------------\n",
    "#evaluator_raggoal\n",
    "#---------------------------------------------------------------------------\n",
    "#evaluaotr_raggoal_ entity_check_seq, sim_seq1, sim_seq2, sim_seq3\", core_check_seq, human_check_tax, human_check_seq\n",
    "sim_seq_threshold = 0.3\n",
    "efil1_raggoal = df_eval_raggoal[df_eval_raggoal['core_check_seq']==True]\n",
    "efil2_raggoal = df_eval_raggoal[(df_eval_raggoal['entity_check_seq']==True) & (df_eval_raggoal['core_check_seq']==True)]\n",
    "efil3_raggoal= df_eval_raggoal[(df_eval_raggoal['entity_check_seq']==True) & (df_eval_raggoal['sim_seq3']>sim_seq_threshold) & (df_eval_raggoal['core_check_seq']==True)]\n",
    "efil3_human_raggoal= df_eval_raggoal[(df_eval_raggoal['entity_check_seq']==True) & (df_eval_raggoal['sim_seq3']>sim_seq_threshold) & (df_eval_raggoal['human_check_seq']==True)]\n",
    "print(f\"rag (core) (entity,core) (entity,sim,core): {efil1_raggoal.shape[0]} {efil2_raggoal.shape[0]} {efil3_raggoal.shape[0]} {efil3_human_raggoal.shape[0]}\")\n",
    "# efilh_raggoal\n",
    "\n",
    "\n",
    "\n",
    "\n",
    "# #---------------------------------------------------------------------------\n",
    "# #evaluator_noraggoal\n",
    "# #---------------------------------------------------------------------------\n",
    "# #evaluaotr_noraggoal_ entity_check_seq, sim_seq1, sim_seq2, sim_seq3\", core_check_seq, human_check_tax, human_check_seq\n",
    "# efil1_noraggoal = df_eval_noraggoal[df_eval_noraggoal['core_check_seq']==True]\n",
    "# efil2_noraggoal = df_eval_noraggoal[(df_eval_noraggoal['entity_check_seq']==True) & (df_eval_noraggoal['core_check_seq']==True)]\n",
    "# efil3_noraggoal = df_eval_noraggoal[(df_eval_noraggoal['entity_check_seq']==True) & (df_eval_noraggoal['sim_seq3']> sim_seq_threshold) & (df_eval_noraggoal['core_check_seq'])]\n",
    "# print(f\"norag (core) (entity,core) (entity,sim,core): {efil1_noraggoal.shape[0]} {efil2_noraggoal.shape[0]} {efil3_noraggoal.shape[0]}\")\n",
    "\n"
   ]
  },
  {
   "cell_type": "code",
   "execution_count": null,
   "id": "c2db5759",
   "metadata": {},
   "outputs": [
    {
     "name": "stdout",
     "output_type": "stream",
     "text": [
      "213\n"
     ]
    },
    {
     "data": {
      "application/vnd.plotly.v1+json": {
       "config": {
        "plotlyServerURL": "https://plot.ly"
       },
       "data": [
        {
         "line": {
          "color": "blue",
          "dash": "solid"
         },
         "marker": {
          "size": 8,
          "symbol": "circle"
         },
         "mode": "lines+markers",
         "name": "ours-humaneval",
         "type": "scatter",
         "x": [
          0.5
         ],
         "y": {
          "bdata": "r7bIdSZg4D8=",
          "dtype": "f8"
         }
        },
        {
         "line": {
          "color": "red",
          "dash": "dot"
         },
         "marker": {
          "size": 8,
          "symbol": "square"
         },
         "mode": "lines+markers",
         "name": "ours-strict",
         "type": "scatter",
         "x": [
          0.5
         ],
         "y": {
          "bdata": "ZwIGj+W92j8=",
          "dtype": "f8"
         }
        },
        {
         "line": {
          "color": "green",
          "dash": "dash"
         },
         "marker": {
          "size": 8,
          "symbol": "diamond"
         },
         "mode": "lines+markers",
         "name": "norag-humaneval",
         "type": "scatter",
         "x": [
          0.5
         ],
         "y": {
          "bdata": "ezJ+u9ST4T8=",
          "dtype": "f8"
         }
        },
        {
         "line": {
          "color": "orange",
          "dash": "longdash"
         },
         "marker": {
          "size": 8,
          "symbol": "cross"
         },
         "mode": "lines+markers",
         "name": "norag-strict",
         "type": "scatter",
         "x": [
          0.5
         ],
         "y": {
          "bdata": "QB9OQ6ik2z8=",
          "dtype": "f8"
         }
        }
       ],
       "layout": {
        "height": 500,
        "legend": {
         "title": {
          "text": "Legend"
         },
         "x": 0.01,
         "y": 0.99
        },
        "template": {
         "data": {
          "bar": [
           {
            "error_x": {
             "color": "#2a3f5f"
            },
            "error_y": {
             "color": "#2a3f5f"
            },
            "marker": {
             "line": {
              "color": "#E5ECF6",
              "width": 0.5
             },
             "pattern": {
              "fillmode": "overlay",
              "size": 10,
              "solidity": 0.2
             }
            },
            "type": "bar"
           }
          ],
          "barpolar": [
           {
            "marker": {
             "line": {
              "color": "#E5ECF6",
              "width": 0.5
             },
             "pattern": {
              "fillmode": "overlay",
              "size": 10,
              "solidity": 0.2
             }
            },
            "type": "barpolar"
           }
          ],
          "carpet": [
           {
            "aaxis": {
             "endlinecolor": "#2a3f5f",
             "gridcolor": "white",
             "linecolor": "white",
             "minorgridcolor": "white",
             "startlinecolor": "#2a3f5f"
            },
            "baxis": {
             "endlinecolor": "#2a3f5f",
             "gridcolor": "white",
             "linecolor": "white",
             "minorgridcolor": "white",
             "startlinecolor": "#2a3f5f"
            },
            "type": "carpet"
           }
          ],
          "choropleth": [
           {
            "colorbar": {
             "outlinewidth": 0,
             "ticks": ""
            },
            "type": "choropleth"
           }
          ],
          "contour": [
           {
            "colorbar": {
             "outlinewidth": 0,
             "ticks": ""
            },
            "colorscale": [
             [
              0,
              "#0d0887"
             ],
             [
              0.1111111111111111,
              "#46039f"
             ],
             [
              0.2222222222222222,
              "#7201a8"
             ],
             [
              0.3333333333333333,
              "#9c179e"
             ],
             [
              0.4444444444444444,
              "#bd3786"
             ],
             [
              0.5555555555555556,
              "#d8576b"
             ],
             [
              0.6666666666666666,
              "#ed7953"
             ],
             [
              0.7777777777777778,
              "#fb9f3a"
             ],
             [
              0.8888888888888888,
              "#fdca26"
             ],
             [
              1,
              "#f0f921"
             ]
            ],
            "type": "contour"
           }
          ],
          "contourcarpet": [
           {
            "colorbar": {
             "outlinewidth": 0,
             "ticks": ""
            },
            "type": "contourcarpet"
           }
          ],
          "heatmap": [
           {
            "colorbar": {
             "outlinewidth": 0,
             "ticks": ""
            },
            "colorscale": [
             [
              0,
              "#0d0887"
             ],
             [
              0.1111111111111111,
              "#46039f"
             ],
             [
              0.2222222222222222,
              "#7201a8"
             ],
             [
              0.3333333333333333,
              "#9c179e"
             ],
             [
              0.4444444444444444,
              "#bd3786"
             ],
             [
              0.5555555555555556,
              "#d8576b"
             ],
             [
              0.6666666666666666,
              "#ed7953"
             ],
             [
              0.7777777777777778,
              "#fb9f3a"
             ],
             [
              0.8888888888888888,
              "#fdca26"
             ],
             [
              1,
              "#f0f921"
             ]
            ],
            "type": "heatmap"
           }
          ],
          "histogram": [
           {
            "marker": {
             "pattern": {
              "fillmode": "overlay",
              "size": 10,
              "solidity": 0.2
             }
            },
            "type": "histogram"
           }
          ],
          "histogram2d": [
           {
            "colorbar": {
             "outlinewidth": 0,
             "ticks": ""
            },
            "colorscale": [
             [
              0,
              "#0d0887"
             ],
             [
              0.1111111111111111,
              "#46039f"
             ],
             [
              0.2222222222222222,
              "#7201a8"
             ],
             [
              0.3333333333333333,
              "#9c179e"
             ],
             [
              0.4444444444444444,
              "#bd3786"
             ],
             [
              0.5555555555555556,
              "#d8576b"
             ],
             [
              0.6666666666666666,
              "#ed7953"
             ],
             [
              0.7777777777777778,
              "#fb9f3a"
             ],
             [
              0.8888888888888888,
              "#fdca26"
             ],
             [
              1,
              "#f0f921"
             ]
            ],
            "type": "histogram2d"
           }
          ],
          "histogram2dcontour": [
           {
            "colorbar": {
             "outlinewidth": 0,
             "ticks": ""
            },
            "colorscale": [
             [
              0,
              "#0d0887"
             ],
             [
              0.1111111111111111,
              "#46039f"
             ],
             [
              0.2222222222222222,
              "#7201a8"
             ],
             [
              0.3333333333333333,
              "#9c179e"
             ],
             [
              0.4444444444444444,
              "#bd3786"
             ],
             [
              0.5555555555555556,
              "#d8576b"
             ],
             [
              0.6666666666666666,
              "#ed7953"
             ],
             [
              0.7777777777777778,
              "#fb9f3a"
             ],
             [
              0.8888888888888888,
              "#fdca26"
             ],
             [
              1,
              "#f0f921"
             ]
            ],
            "type": "histogram2dcontour"
           }
          ],
          "mesh3d": [
           {
            "colorbar": {
             "outlinewidth": 0,
             "ticks": ""
            },
            "type": "mesh3d"
           }
          ],
          "parcoords": [
           {
            "line": {
             "colorbar": {
              "outlinewidth": 0,
              "ticks": ""
             }
            },
            "type": "parcoords"
           }
          ],
          "pie": [
           {
            "automargin": true,
            "type": "pie"
           }
          ],
          "scatter": [
           {
            "fillpattern": {
             "fillmode": "overlay",
             "size": 10,
             "solidity": 0.2
            },
            "type": "scatter"
           }
          ],
          "scatter3d": [
           {
            "line": {
             "colorbar": {
              "outlinewidth": 0,
              "ticks": ""
             }
            },
            "marker": {
             "colorbar": {
              "outlinewidth": 0,
              "ticks": ""
             }
            },
            "type": "scatter3d"
           }
          ],
          "scattercarpet": [
           {
            "marker": {
             "colorbar": {
              "outlinewidth": 0,
              "ticks": ""
             }
            },
            "type": "scattercarpet"
           }
          ],
          "scattergeo": [
           {
            "marker": {
             "colorbar": {
              "outlinewidth": 0,
              "ticks": ""
             }
            },
            "type": "scattergeo"
           }
          ],
          "scattergl": [
           {
            "marker": {
             "colorbar": {
              "outlinewidth": 0,
              "ticks": ""
             }
            },
            "type": "scattergl"
           }
          ],
          "scattermap": [
           {
            "marker": {
             "colorbar": {
              "outlinewidth": 0,
              "ticks": ""
             }
            },
            "type": "scattermap"
           }
          ],
          "scattermapbox": [
           {
            "marker": {
             "colorbar": {
              "outlinewidth": 0,
              "ticks": ""
             }
            },
            "type": "scattermapbox"
           }
          ],
          "scatterpolar": [
           {
            "marker": {
             "colorbar": {
              "outlinewidth": 0,
              "ticks": ""
             }
            },
            "type": "scatterpolar"
           }
          ],
          "scatterpolargl": [
           {
            "marker": {
             "colorbar": {
              "outlinewidth": 0,
              "ticks": ""
             }
            },
            "type": "scatterpolargl"
           }
          ],
          "scatterternary": [
           {
            "marker": {
             "colorbar": {
              "outlinewidth": 0,
              "ticks": ""
             }
            },
            "type": "scatterternary"
           }
          ],
          "surface": [
           {
            "colorbar": {
             "outlinewidth": 0,
             "ticks": ""
            },
            "colorscale": [
             [
              0,
              "#0d0887"
             ],
             [
              0.1111111111111111,
              "#46039f"
             ],
             [
              0.2222222222222222,
              "#7201a8"
             ],
             [
              0.3333333333333333,
              "#9c179e"
             ],
             [
              0.4444444444444444,
              "#bd3786"
             ],
             [
              0.5555555555555556,
              "#d8576b"
             ],
             [
              0.6666666666666666,
              "#ed7953"
             ],
             [
              0.7777777777777778,
              "#fb9f3a"
             ],
             [
              0.8888888888888888,
              "#fdca26"
             ],
             [
              1,
              "#f0f921"
             ]
            ],
            "type": "surface"
           }
          ],
          "table": [
           {
            "cells": {
             "fill": {
              "color": "#EBF0F8"
             },
             "line": {
              "color": "white"
             }
            },
            "header": {
             "fill": {
              "color": "#C8D4E3"
             },
             "line": {
              "color": "white"
             }
            },
            "type": "table"
           }
          ]
         },
         "layout": {
          "annotationdefaults": {
           "arrowcolor": "#2a3f5f",
           "arrowhead": 0,
           "arrowwidth": 1
          },
          "autotypenumbers": "strict",
          "coloraxis": {
           "colorbar": {
            "outlinewidth": 0,
            "ticks": ""
           }
          },
          "colorscale": {
           "diverging": [
            [
             0,
             "#8e0152"
            ],
            [
             0.1,
             "#c51b7d"
            ],
            [
             0.2,
             "#de77ae"
            ],
            [
             0.3,
             "#f1b6da"
            ],
            [
             0.4,
             "#fde0ef"
            ],
            [
             0.5,
             "#f7f7f7"
            ],
            [
             0.6,
             "#e6f5d0"
            ],
            [
             0.7,
             "#b8e186"
            ],
            [
             0.8,
             "#7fbc41"
            ],
            [
             0.9,
             "#4d9221"
            ],
            [
             1,
             "#276419"
            ]
           ],
           "sequential": [
            [
             0,
             "#0d0887"
            ],
            [
             0.1111111111111111,
             "#46039f"
            ],
            [
             0.2222222222222222,
             "#7201a8"
            ],
            [
             0.3333333333333333,
             "#9c179e"
            ],
            [
             0.4444444444444444,
             "#bd3786"
            ],
            [
             0.5555555555555556,
             "#d8576b"
            ],
            [
             0.6666666666666666,
             "#ed7953"
            ],
            [
             0.7777777777777778,
             "#fb9f3a"
            ],
            [
             0.8888888888888888,
             "#fdca26"
            ],
            [
             1,
             "#f0f921"
            ]
           ],
           "sequentialminus": [
            [
             0,
             "#0d0887"
            ],
            [
             0.1111111111111111,
             "#46039f"
            ],
            [
             0.2222222222222222,
             "#7201a8"
            ],
            [
             0.3333333333333333,
             "#9c179e"
            ],
            [
             0.4444444444444444,
             "#bd3786"
            ],
            [
             0.5555555555555556,
             "#d8576b"
            ],
            [
             0.6666666666666666,
             "#ed7953"
            ],
            [
             0.7777777777777778,
             "#fb9f3a"
            ],
            [
             0.8888888888888888,
             "#fdca26"
            ],
            [
             1,
             "#f0f921"
            ]
           ]
          },
          "colorway": [
           "#636efa",
           "#EF553B",
           "#00cc96",
           "#ab63fa",
           "#FFA15A",
           "#19d3f3",
           "#FF6692",
           "#B6E880",
           "#FF97FF",
           "#FECB52"
          ],
          "font": {
           "color": "#2a3f5f"
          },
          "geo": {
           "bgcolor": "white",
           "lakecolor": "white",
           "landcolor": "#E5ECF6",
           "showlakes": true,
           "showland": true,
           "subunitcolor": "white"
          },
          "hoverlabel": {
           "align": "left"
          },
          "hovermode": "closest",
          "mapbox": {
           "style": "light"
          },
          "paper_bgcolor": "white",
          "plot_bgcolor": "#E5ECF6",
          "polar": {
           "angularaxis": {
            "gridcolor": "white",
            "linecolor": "white",
            "ticks": ""
           },
           "bgcolor": "#E5ECF6",
           "radialaxis": {
            "gridcolor": "white",
            "linecolor": "white",
            "ticks": ""
           }
          },
          "scene": {
           "xaxis": {
            "backgroundcolor": "#E5ECF6",
            "gridcolor": "white",
            "gridwidth": 2,
            "linecolor": "white",
            "showbackground": true,
            "ticks": "",
            "zerolinecolor": "white"
           },
           "yaxis": {
            "backgroundcolor": "#E5ECF6",
            "gridcolor": "white",
            "gridwidth": 2,
            "linecolor": "white",
            "showbackground": true,
            "ticks": "",
            "zerolinecolor": "white"
           },
           "zaxis": {
            "backgroundcolor": "#E5ECF6",
            "gridcolor": "white",
            "gridwidth": 2,
            "linecolor": "white",
            "showbackground": true,
            "ticks": "",
            "zerolinecolor": "white"
           }
          },
          "shapedefaults": {
           "line": {
            "color": "#2a3f5f"
           }
          },
          "ternary": {
           "aaxis": {
            "gridcolor": "white",
            "linecolor": "white",
            "ticks": ""
           },
           "baxis": {
            "gridcolor": "white",
            "linecolor": "white",
            "ticks": ""
           },
           "bgcolor": "#E5ECF6",
           "caxis": {
            "gridcolor": "white",
            "linecolor": "white",
            "ticks": ""
           }
          },
          "title": {
           "x": 0.05
          },
          "xaxis": {
           "automargin": true,
           "gridcolor": "white",
           "linecolor": "white",
           "ticks": "",
           "title": {
            "standoff": 15
           },
           "zerolinecolor": "white",
           "zerolinewidth": 2
          },
          "yaxis": {
           "automargin": true,
           "gridcolor": "white",
           "linecolor": "white",
           "ticks": "",
           "title": {
            "standoff": 15
           },
           "zerolinecolor": "white",
           "zerolinewidth": 2
          }
         }
        },
        "title": {
         "text": "Selection Ratio vs. Inclusion Ratio (strict evaluator)",
         "x": 0.5,
         "xanchor": "center"
        },
        "width": 900,
        "xaxis": {
         "range": [
          0,
          1
         ],
         "title": {
          "text": "Inclusion Ratio"
         }
        },
        "yaxis": {
         "range": [
          0,
          1
         ],
         "title": {
          "text": "Selection Ratio"
         }
        }
       }
      }
     },
     "metadata": {},
     "output_type": "display_data"
    },
    {
     "data": {
      "application/vnd.plotly.v1+json": {
       "config": {
        "plotlyServerURL": "https://plot.ly"
       },
       "data": [
        {
         "line": {
          "color": "blue",
          "dash": "solid"
         },
         "marker": {
          "size": 8,
          "symbol": "circle"
         },
         "mode": "lines+markers",
         "name": "ours-humaneval",
         "type": "scatter",
         "x": [
          0.1,
          0.30000000000000004,
          0.5,
          0.7000000000000001,
          0.9
         ],
         "y": {
          "bdata": "kiRJkiRJsj9GF1100UXXPzEMwzAMw+A/d8QdcUfc4T9rTKQHKmfnPw==",
          "dtype": "f8"
         }
        },
        {
         "line": {
          "color": "red",
          "dash": "dot"
         },
         "marker": {
          "size": 8,
          "symbol": "square"
         },
         "mode": "lines+markers",
         "name": "ours-strict",
         "type": "scatter",
         "x": [
          0.1,
          0.30000000000000004,
          0.5,
          0.7000000000000001,
          0.9
         ],
         "y": {
          "bdata": "kiRJkiRJoj9GF1100UXHP57neZ7ned4/d8QdcUfc4T/l7BZ+NSbiPw==",
          "dtype": "f8"
         }
        },
        {
         "line": {
          "color": "green",
          "dash": "dash"
         },
         "marker": {
          "size": 8,
          "symbol": "diamond"
         },
         "mode": "lines+markers",
         "name": "norag-humaneval",
         "type": "scatter",
         "x": [
          0.1,
          0.30000000000000004,
          0.5,
          0.7000000000000001,
          0.9
         ],
         "y": {
          "bdata": "27Zt27Ztuz8XXXTRRRfdP57neZ7ned4/U9aUNWVN6T/1QOXsFn7lPw==",
          "dtype": "f8"
         }
        },
        {
         "line": {
          "color": "orange",
          "dash": "longdash"
         },
         "marker": {
          "size": 8,
          "symbol": "cross"
         },
         "mode": "lines+markers",
         "name": "norag-strict",
         "type": "scatter",
         "x": [
          0.1,
          0.30000000000000004,
          0.5,
          0.7000000000000001,
          0.9
         ],
         "y": {
          "bdata": "kiRJkiRJoj900UUXXXTRP5IkSZIkSdI/NmVNWVPW5D9c+NWYSA/kPw==",
          "dtype": "f8"
         }
        }
       ],
       "layout": {
        "height": 500,
        "legend": {
         "title": {
          "text": "Legend"
         },
         "x": 0.01,
         "y": 0.99
        },
        "template": {
         "data": {
          "bar": [
           {
            "error_x": {
             "color": "#2a3f5f"
            },
            "error_y": {
             "color": "#2a3f5f"
            },
            "marker": {
             "line": {
              "color": "#E5ECF6",
              "width": 0.5
             },
             "pattern": {
              "fillmode": "overlay",
              "size": 10,
              "solidity": 0.2
             }
            },
            "type": "bar"
           }
          ],
          "barpolar": [
           {
            "marker": {
             "line": {
              "color": "#E5ECF6",
              "width": 0.5
             },
             "pattern": {
              "fillmode": "overlay",
              "size": 10,
              "solidity": 0.2
             }
            },
            "type": "barpolar"
           }
          ],
          "carpet": [
           {
            "aaxis": {
             "endlinecolor": "#2a3f5f",
             "gridcolor": "white",
             "linecolor": "white",
             "minorgridcolor": "white",
             "startlinecolor": "#2a3f5f"
            },
            "baxis": {
             "endlinecolor": "#2a3f5f",
             "gridcolor": "white",
             "linecolor": "white",
             "minorgridcolor": "white",
             "startlinecolor": "#2a3f5f"
            },
            "type": "carpet"
           }
          ],
          "choropleth": [
           {
            "colorbar": {
             "outlinewidth": 0,
             "ticks": ""
            },
            "type": "choropleth"
           }
          ],
          "contour": [
           {
            "colorbar": {
             "outlinewidth": 0,
             "ticks": ""
            },
            "colorscale": [
             [
              0,
              "#0d0887"
             ],
             [
              0.1111111111111111,
              "#46039f"
             ],
             [
              0.2222222222222222,
              "#7201a8"
             ],
             [
              0.3333333333333333,
              "#9c179e"
             ],
             [
              0.4444444444444444,
              "#bd3786"
             ],
             [
              0.5555555555555556,
              "#d8576b"
             ],
             [
              0.6666666666666666,
              "#ed7953"
             ],
             [
              0.7777777777777778,
              "#fb9f3a"
             ],
             [
              0.8888888888888888,
              "#fdca26"
             ],
             [
              1,
              "#f0f921"
             ]
            ],
            "type": "contour"
           }
          ],
          "contourcarpet": [
           {
            "colorbar": {
             "outlinewidth": 0,
             "ticks": ""
            },
            "type": "contourcarpet"
           }
          ],
          "heatmap": [
           {
            "colorbar": {
             "outlinewidth": 0,
             "ticks": ""
            },
            "colorscale": [
             [
              0,
              "#0d0887"
             ],
             [
              0.1111111111111111,
              "#46039f"
             ],
             [
              0.2222222222222222,
              "#7201a8"
             ],
             [
              0.3333333333333333,
              "#9c179e"
             ],
             [
              0.4444444444444444,
              "#bd3786"
             ],
             [
              0.5555555555555556,
              "#d8576b"
             ],
             [
              0.6666666666666666,
              "#ed7953"
             ],
             [
              0.7777777777777778,
              "#fb9f3a"
             ],
             [
              0.8888888888888888,
              "#fdca26"
             ],
             [
              1,
              "#f0f921"
             ]
            ],
            "type": "heatmap"
           }
          ],
          "histogram": [
           {
            "marker": {
             "pattern": {
              "fillmode": "overlay",
              "size": 10,
              "solidity": 0.2
             }
            },
            "type": "histogram"
           }
          ],
          "histogram2d": [
           {
            "colorbar": {
             "outlinewidth": 0,
             "ticks": ""
            },
            "colorscale": [
             [
              0,
              "#0d0887"
             ],
             [
              0.1111111111111111,
              "#46039f"
             ],
             [
              0.2222222222222222,
              "#7201a8"
             ],
             [
              0.3333333333333333,
              "#9c179e"
             ],
             [
              0.4444444444444444,
              "#bd3786"
             ],
             [
              0.5555555555555556,
              "#d8576b"
             ],
             [
              0.6666666666666666,
              "#ed7953"
             ],
             [
              0.7777777777777778,
              "#fb9f3a"
             ],
             [
              0.8888888888888888,
              "#fdca26"
             ],
             [
              1,
              "#f0f921"
             ]
            ],
            "type": "histogram2d"
           }
          ],
          "histogram2dcontour": [
           {
            "colorbar": {
             "outlinewidth": 0,
             "ticks": ""
            },
            "colorscale": [
             [
              0,
              "#0d0887"
             ],
             [
              0.1111111111111111,
              "#46039f"
             ],
             [
              0.2222222222222222,
              "#7201a8"
             ],
             [
              0.3333333333333333,
              "#9c179e"
             ],
             [
              0.4444444444444444,
              "#bd3786"
             ],
             [
              0.5555555555555556,
              "#d8576b"
             ],
             [
              0.6666666666666666,
              "#ed7953"
             ],
             [
              0.7777777777777778,
              "#fb9f3a"
             ],
             [
              0.8888888888888888,
              "#fdca26"
             ],
             [
              1,
              "#f0f921"
             ]
            ],
            "type": "histogram2dcontour"
           }
          ],
          "mesh3d": [
           {
            "colorbar": {
             "outlinewidth": 0,
             "ticks": ""
            },
            "type": "mesh3d"
           }
          ],
          "parcoords": [
           {
            "line": {
             "colorbar": {
              "outlinewidth": 0,
              "ticks": ""
             }
            },
            "type": "parcoords"
           }
          ],
          "pie": [
           {
            "automargin": true,
            "type": "pie"
           }
          ],
          "scatter": [
           {
            "fillpattern": {
             "fillmode": "overlay",
             "size": 10,
             "solidity": 0.2
            },
            "type": "scatter"
           }
          ],
          "scatter3d": [
           {
            "line": {
             "colorbar": {
              "outlinewidth": 0,
              "ticks": ""
             }
            },
            "marker": {
             "colorbar": {
              "outlinewidth": 0,
              "ticks": ""
             }
            },
            "type": "scatter3d"
           }
          ],
          "scattercarpet": [
           {
            "marker": {
             "colorbar": {
              "outlinewidth": 0,
              "ticks": ""
             }
            },
            "type": "scattercarpet"
           }
          ],
          "scattergeo": [
           {
            "marker": {
             "colorbar": {
              "outlinewidth": 0,
              "ticks": ""
             }
            },
            "type": "scattergeo"
           }
          ],
          "scattergl": [
           {
            "marker": {
             "colorbar": {
              "outlinewidth": 0,
              "ticks": ""
             }
            },
            "type": "scattergl"
           }
          ],
          "scattermap": [
           {
            "marker": {
             "colorbar": {
              "outlinewidth": 0,
              "ticks": ""
             }
            },
            "type": "scattermap"
           }
          ],
          "scattermapbox": [
           {
            "marker": {
             "colorbar": {
              "outlinewidth": 0,
              "ticks": ""
             }
            },
            "type": "scattermapbox"
           }
          ],
          "scatterpolar": [
           {
            "marker": {
             "colorbar": {
              "outlinewidth": 0,
              "ticks": ""
             }
            },
            "type": "scatterpolar"
           }
          ],
          "scatterpolargl": [
           {
            "marker": {
             "colorbar": {
              "outlinewidth": 0,
              "ticks": ""
             }
            },
            "type": "scatterpolargl"
           }
          ],
          "scatterternary": [
           {
            "marker": {
             "colorbar": {
              "outlinewidth": 0,
              "ticks": ""
             }
            },
            "type": "scatterternary"
           }
          ],
          "surface": [
           {
            "colorbar": {
             "outlinewidth": 0,
             "ticks": ""
            },
            "colorscale": [
             [
              0,
              "#0d0887"
             ],
             [
              0.1111111111111111,
              "#46039f"
             ],
             [
              0.2222222222222222,
              "#7201a8"
             ],
             [
              0.3333333333333333,
              "#9c179e"
             ],
             [
              0.4444444444444444,
              "#bd3786"
             ],
             [
              0.5555555555555556,
              "#d8576b"
             ],
             [
              0.6666666666666666,
              "#ed7953"
             ],
             [
              0.7777777777777778,
              "#fb9f3a"
             ],
             [
              0.8888888888888888,
              "#fdca26"
             ],
             [
              1,
              "#f0f921"
             ]
            ],
            "type": "surface"
           }
          ],
          "table": [
           {
            "cells": {
             "fill": {
              "color": "#EBF0F8"
             },
             "line": {
              "color": "white"
             }
            },
            "header": {
             "fill": {
              "color": "#C8D4E3"
             },
             "line": {
              "color": "white"
             }
            },
            "type": "table"
           }
          ]
         },
         "layout": {
          "annotationdefaults": {
           "arrowcolor": "#2a3f5f",
           "arrowhead": 0,
           "arrowwidth": 1
          },
          "autotypenumbers": "strict",
          "coloraxis": {
           "colorbar": {
            "outlinewidth": 0,
            "ticks": ""
           }
          },
          "colorscale": {
           "diverging": [
            [
             0,
             "#8e0152"
            ],
            [
             0.1,
             "#c51b7d"
            ],
            [
             0.2,
             "#de77ae"
            ],
            [
             0.3,
             "#f1b6da"
            ],
            [
             0.4,
             "#fde0ef"
            ],
            [
             0.5,
             "#f7f7f7"
            ],
            [
             0.6,
             "#e6f5d0"
            ],
            [
             0.7,
             "#b8e186"
            ],
            [
             0.8,
             "#7fbc41"
            ],
            [
             0.9,
             "#4d9221"
            ],
            [
             1,
             "#276419"
            ]
           ],
           "sequential": [
            [
             0,
             "#0d0887"
            ],
            [
             0.1111111111111111,
             "#46039f"
            ],
            [
             0.2222222222222222,
             "#7201a8"
            ],
            [
             0.3333333333333333,
             "#9c179e"
            ],
            [
             0.4444444444444444,
             "#bd3786"
            ],
            [
             0.5555555555555556,
             "#d8576b"
            ],
            [
             0.6666666666666666,
             "#ed7953"
            ],
            [
             0.7777777777777778,
             "#fb9f3a"
            ],
            [
             0.8888888888888888,
             "#fdca26"
            ],
            [
             1,
             "#f0f921"
            ]
           ],
           "sequentialminus": [
            [
             0,
             "#0d0887"
            ],
            [
             0.1111111111111111,
             "#46039f"
            ],
            [
             0.2222222222222222,
             "#7201a8"
            ],
            [
             0.3333333333333333,
             "#9c179e"
            ],
            [
             0.4444444444444444,
             "#bd3786"
            ],
            [
             0.5555555555555556,
             "#d8576b"
            ],
            [
             0.6666666666666666,
             "#ed7953"
            ],
            [
             0.7777777777777778,
             "#fb9f3a"
            ],
            [
             0.8888888888888888,
             "#fdca26"
            ],
            [
             1,
             "#f0f921"
            ]
           ]
          },
          "colorway": [
           "#636efa",
           "#EF553B",
           "#00cc96",
           "#ab63fa",
           "#FFA15A",
           "#19d3f3",
           "#FF6692",
           "#B6E880",
           "#FF97FF",
           "#FECB52"
          ],
          "font": {
           "color": "#2a3f5f"
          },
          "geo": {
           "bgcolor": "white",
           "lakecolor": "white",
           "landcolor": "#E5ECF6",
           "showlakes": true,
           "showland": true,
           "subunitcolor": "white"
          },
          "hoverlabel": {
           "align": "left"
          },
          "hovermode": "closest",
          "mapbox": {
           "style": "light"
          },
          "paper_bgcolor": "white",
          "plot_bgcolor": "#E5ECF6",
          "polar": {
           "angularaxis": {
            "gridcolor": "white",
            "linecolor": "white",
            "ticks": ""
           },
           "bgcolor": "#E5ECF6",
           "radialaxis": {
            "gridcolor": "white",
            "linecolor": "white",
            "ticks": ""
           }
          },
          "scene": {
           "xaxis": {
            "backgroundcolor": "#E5ECF6",
            "gridcolor": "white",
            "gridwidth": 2,
            "linecolor": "white",
            "showbackground": true,
            "ticks": "",
            "zerolinecolor": "white"
           },
           "yaxis": {
            "backgroundcolor": "#E5ECF6",
            "gridcolor": "white",
            "gridwidth": 2,
            "linecolor": "white",
            "showbackground": true,
            "ticks": "",
            "zerolinecolor": "white"
           },
           "zaxis": {
            "backgroundcolor": "#E5ECF6",
            "gridcolor": "white",
            "gridwidth": 2,
            "linecolor": "white",
            "showbackground": true,
            "ticks": "",
            "zerolinecolor": "white"
           }
          },
          "shapedefaults": {
           "line": {
            "color": "#2a3f5f"
           }
          },
          "ternary": {
           "aaxis": {
            "gridcolor": "white",
            "linecolor": "white",
            "ticks": ""
           },
           "baxis": {
            "gridcolor": "white",
            "linecolor": "white",
            "ticks": ""
           },
           "bgcolor": "#E5ECF6",
           "caxis": {
            "gridcolor": "white",
            "linecolor": "white",
            "ticks": ""
           }
          },
          "title": {
           "x": 0.05
          },
          "xaxis": {
           "automargin": true,
           "gridcolor": "white",
           "linecolor": "white",
           "ticks": "",
           "title": {
            "standoff": 15
           },
           "zerolinecolor": "white",
           "zerolinewidth": 2
          },
          "yaxis": {
           "automargin": true,
           "gridcolor": "white",
           "linecolor": "white",
           "ticks": "",
           "title": {
            "standoff": 15
           },
           "zerolinecolor": "white",
           "zerolinewidth": 2
          }
         }
        },
        "title": {
         "text": "Selection Ratio vs. Inclusion Ratio (strict evaluator)",
         "x": 0.5,
         "xanchor": "center"
        },
        "width": 900,
        "xaxis": {
         "range": [
          0,
          1
         ],
         "title": {
          "text": "Inclusion Ratio"
         }
        },
        "yaxis": {
         "range": [
          0,
          1
         ],
         "title": {
          "text": "Selection Ratio"
         }
        }
       }
      }
     },
     "metadata": {},
     "output_type": "display_data"
    },
    {
     "data": {
      "application/vnd.plotly.v1+json": {
       "config": {
        "plotlyServerURL": "https://plot.ly"
       },
       "data": [
        {
         "line": {
          "color": "blue",
          "dash": "solid"
         },
         "marker": {
          "size": 8,
          "symbol": "circle"
         },
         "mode": "lines+markers",
         "name": "ours-human",
         "type": "scatter",
         "x": [
          0.1,
          0.30000000000000004,
          0.5,
          0.7000000000000001,
          0.9
         ],
         "y": {
          "bdata": "kiRJkiRJsj9GF1100UXXPzEMwzAMw+A/d8QdcUfc4T9rTKQHKmfnPw==",
          "dtype": "f8"
         }
        },
        {
         "line": {
          "color": "red",
          "dash": "dot"
         },
         "marker": {
          "size": 8,
          "symbol": "square"
         },
         "mode": "lines+markers",
         "name": "ours-strict",
         "type": "scatter",
         "x": [
          0.1,
          0.30000000000000004,
          0.5,
          0.7000000000000001,
          0.9
         ],
         "y": {
          "bdata": "kiRJkiRJoj9GF1100UXHP57neZ7ned4/d8QdcUfc4T/l7BZ+NSbiPw==",
          "dtype": "f8"
         }
        }
       ],
       "layout": {
        "height": 500,
        "legend": {
         "title": {
          "text": "Legend"
         },
         "x": 0.01,
         "y": 0.99
        },
        "template": {
         "data": {
          "bar": [
           {
            "error_x": {
             "color": "#2a3f5f"
            },
            "error_y": {
             "color": "#2a3f5f"
            },
            "marker": {
             "line": {
              "color": "#E5ECF6",
              "width": 0.5
             },
             "pattern": {
              "fillmode": "overlay",
              "size": 10,
              "solidity": 0.2
             }
            },
            "type": "bar"
           }
          ],
          "barpolar": [
           {
            "marker": {
             "line": {
              "color": "#E5ECF6",
              "width": 0.5
             },
             "pattern": {
              "fillmode": "overlay",
              "size": 10,
              "solidity": 0.2
             }
            },
            "type": "barpolar"
           }
          ],
          "carpet": [
           {
            "aaxis": {
             "endlinecolor": "#2a3f5f",
             "gridcolor": "white",
             "linecolor": "white",
             "minorgridcolor": "white",
             "startlinecolor": "#2a3f5f"
            },
            "baxis": {
             "endlinecolor": "#2a3f5f",
             "gridcolor": "white",
             "linecolor": "white",
             "minorgridcolor": "white",
             "startlinecolor": "#2a3f5f"
            },
            "type": "carpet"
           }
          ],
          "choropleth": [
           {
            "colorbar": {
             "outlinewidth": 0,
             "ticks": ""
            },
            "type": "choropleth"
           }
          ],
          "contour": [
           {
            "colorbar": {
             "outlinewidth": 0,
             "ticks": ""
            },
            "colorscale": [
             [
              0,
              "#0d0887"
             ],
             [
              0.1111111111111111,
              "#46039f"
             ],
             [
              0.2222222222222222,
              "#7201a8"
             ],
             [
              0.3333333333333333,
              "#9c179e"
             ],
             [
              0.4444444444444444,
              "#bd3786"
             ],
             [
              0.5555555555555556,
              "#d8576b"
             ],
             [
              0.6666666666666666,
              "#ed7953"
             ],
             [
              0.7777777777777778,
              "#fb9f3a"
             ],
             [
              0.8888888888888888,
              "#fdca26"
             ],
             [
              1,
              "#f0f921"
             ]
            ],
            "type": "contour"
           }
          ],
          "contourcarpet": [
           {
            "colorbar": {
             "outlinewidth": 0,
             "ticks": ""
            },
            "type": "contourcarpet"
           }
          ],
          "heatmap": [
           {
            "colorbar": {
             "outlinewidth": 0,
             "ticks": ""
            },
            "colorscale": [
             [
              0,
              "#0d0887"
             ],
             [
              0.1111111111111111,
              "#46039f"
             ],
             [
              0.2222222222222222,
              "#7201a8"
             ],
             [
              0.3333333333333333,
              "#9c179e"
             ],
             [
              0.4444444444444444,
              "#bd3786"
             ],
             [
              0.5555555555555556,
              "#d8576b"
             ],
             [
              0.6666666666666666,
              "#ed7953"
             ],
             [
              0.7777777777777778,
              "#fb9f3a"
             ],
             [
              0.8888888888888888,
              "#fdca26"
             ],
             [
              1,
              "#f0f921"
             ]
            ],
            "type": "heatmap"
           }
          ],
          "histogram": [
           {
            "marker": {
             "pattern": {
              "fillmode": "overlay",
              "size": 10,
              "solidity": 0.2
             }
            },
            "type": "histogram"
           }
          ],
          "histogram2d": [
           {
            "colorbar": {
             "outlinewidth": 0,
             "ticks": ""
            },
            "colorscale": [
             [
              0,
              "#0d0887"
             ],
             [
              0.1111111111111111,
              "#46039f"
             ],
             [
              0.2222222222222222,
              "#7201a8"
             ],
             [
              0.3333333333333333,
              "#9c179e"
             ],
             [
              0.4444444444444444,
              "#bd3786"
             ],
             [
              0.5555555555555556,
              "#d8576b"
             ],
             [
              0.6666666666666666,
              "#ed7953"
             ],
             [
              0.7777777777777778,
              "#fb9f3a"
             ],
             [
              0.8888888888888888,
              "#fdca26"
             ],
             [
              1,
              "#f0f921"
             ]
            ],
            "type": "histogram2d"
           }
          ],
          "histogram2dcontour": [
           {
            "colorbar": {
             "outlinewidth": 0,
             "ticks": ""
            },
            "colorscale": [
             [
              0,
              "#0d0887"
             ],
             [
              0.1111111111111111,
              "#46039f"
             ],
             [
              0.2222222222222222,
              "#7201a8"
             ],
             [
              0.3333333333333333,
              "#9c179e"
             ],
             [
              0.4444444444444444,
              "#bd3786"
             ],
             [
              0.5555555555555556,
              "#d8576b"
             ],
             [
              0.6666666666666666,
              "#ed7953"
             ],
             [
              0.7777777777777778,
              "#fb9f3a"
             ],
             [
              0.8888888888888888,
              "#fdca26"
             ],
             [
              1,
              "#f0f921"
             ]
            ],
            "type": "histogram2dcontour"
           }
          ],
          "mesh3d": [
           {
            "colorbar": {
             "outlinewidth": 0,
             "ticks": ""
            },
            "type": "mesh3d"
           }
          ],
          "parcoords": [
           {
            "line": {
             "colorbar": {
              "outlinewidth": 0,
              "ticks": ""
             }
            },
            "type": "parcoords"
           }
          ],
          "pie": [
           {
            "automargin": true,
            "type": "pie"
           }
          ],
          "scatter": [
           {
            "fillpattern": {
             "fillmode": "overlay",
             "size": 10,
             "solidity": 0.2
            },
            "type": "scatter"
           }
          ],
          "scatter3d": [
           {
            "line": {
             "colorbar": {
              "outlinewidth": 0,
              "ticks": ""
             }
            },
            "marker": {
             "colorbar": {
              "outlinewidth": 0,
              "ticks": ""
             }
            },
            "type": "scatter3d"
           }
          ],
          "scattercarpet": [
           {
            "marker": {
             "colorbar": {
              "outlinewidth": 0,
              "ticks": ""
             }
            },
            "type": "scattercarpet"
           }
          ],
          "scattergeo": [
           {
            "marker": {
             "colorbar": {
              "outlinewidth": 0,
              "ticks": ""
             }
            },
            "type": "scattergeo"
           }
          ],
          "scattergl": [
           {
            "marker": {
             "colorbar": {
              "outlinewidth": 0,
              "ticks": ""
             }
            },
            "type": "scattergl"
           }
          ],
          "scattermap": [
           {
            "marker": {
             "colorbar": {
              "outlinewidth": 0,
              "ticks": ""
             }
            },
            "type": "scattermap"
           }
          ],
          "scattermapbox": [
           {
            "marker": {
             "colorbar": {
              "outlinewidth": 0,
              "ticks": ""
             }
            },
            "type": "scattermapbox"
           }
          ],
          "scatterpolar": [
           {
            "marker": {
             "colorbar": {
              "outlinewidth": 0,
              "ticks": ""
             }
            },
            "type": "scatterpolar"
           }
          ],
          "scatterpolargl": [
           {
            "marker": {
             "colorbar": {
              "outlinewidth": 0,
              "ticks": ""
             }
            },
            "type": "scatterpolargl"
           }
          ],
          "scatterternary": [
           {
            "marker": {
             "colorbar": {
              "outlinewidth": 0,
              "ticks": ""
             }
            },
            "type": "scatterternary"
           }
          ],
          "surface": [
           {
            "colorbar": {
             "outlinewidth": 0,
             "ticks": ""
            },
            "colorscale": [
             [
              0,
              "#0d0887"
             ],
             [
              0.1111111111111111,
              "#46039f"
             ],
             [
              0.2222222222222222,
              "#7201a8"
             ],
             [
              0.3333333333333333,
              "#9c179e"
             ],
             [
              0.4444444444444444,
              "#bd3786"
             ],
             [
              0.5555555555555556,
              "#d8576b"
             ],
             [
              0.6666666666666666,
              "#ed7953"
             ],
             [
              0.7777777777777778,
              "#fb9f3a"
             ],
             [
              0.8888888888888888,
              "#fdca26"
             ],
             [
              1,
              "#f0f921"
             ]
            ],
            "type": "surface"
           }
          ],
          "table": [
           {
            "cells": {
             "fill": {
              "color": "#EBF0F8"
             },
             "line": {
              "color": "white"
             }
            },
            "header": {
             "fill": {
              "color": "#C8D4E3"
             },
             "line": {
              "color": "white"
             }
            },
            "type": "table"
           }
          ]
         },
         "layout": {
          "annotationdefaults": {
           "arrowcolor": "#2a3f5f",
           "arrowhead": 0,
           "arrowwidth": 1
          },
          "autotypenumbers": "strict",
          "coloraxis": {
           "colorbar": {
            "outlinewidth": 0,
            "ticks": ""
           }
          },
          "colorscale": {
           "diverging": [
            [
             0,
             "#8e0152"
            ],
            [
             0.1,
             "#c51b7d"
            ],
            [
             0.2,
             "#de77ae"
            ],
            [
             0.3,
             "#f1b6da"
            ],
            [
             0.4,
             "#fde0ef"
            ],
            [
             0.5,
             "#f7f7f7"
            ],
            [
             0.6,
             "#e6f5d0"
            ],
            [
             0.7,
             "#b8e186"
            ],
            [
             0.8,
             "#7fbc41"
            ],
            [
             0.9,
             "#4d9221"
            ],
            [
             1,
             "#276419"
            ]
           ],
           "sequential": [
            [
             0,
             "#0d0887"
            ],
            [
             0.1111111111111111,
             "#46039f"
            ],
            [
             0.2222222222222222,
             "#7201a8"
            ],
            [
             0.3333333333333333,
             "#9c179e"
            ],
            [
             0.4444444444444444,
             "#bd3786"
            ],
            [
             0.5555555555555556,
             "#d8576b"
            ],
            [
             0.6666666666666666,
             "#ed7953"
            ],
            [
             0.7777777777777778,
             "#fb9f3a"
            ],
            [
             0.8888888888888888,
             "#fdca26"
            ],
            [
             1,
             "#f0f921"
            ]
           ],
           "sequentialminus": [
            [
             0,
             "#0d0887"
            ],
            [
             0.1111111111111111,
             "#46039f"
            ],
            [
             0.2222222222222222,
             "#7201a8"
            ],
            [
             0.3333333333333333,
             "#9c179e"
            ],
            [
             0.4444444444444444,
             "#bd3786"
            ],
            [
             0.5555555555555556,
             "#d8576b"
            ],
            [
             0.6666666666666666,
             "#ed7953"
            ],
            [
             0.7777777777777778,
             "#fb9f3a"
            ],
            [
             0.8888888888888888,
             "#fdca26"
            ],
            [
             1,
             "#f0f921"
            ]
           ]
          },
          "colorway": [
           "#636efa",
           "#EF553B",
           "#00cc96",
           "#ab63fa",
           "#FFA15A",
           "#19d3f3",
           "#FF6692",
           "#B6E880",
           "#FF97FF",
           "#FECB52"
          ],
          "font": {
           "color": "#2a3f5f"
          },
          "geo": {
           "bgcolor": "white",
           "lakecolor": "white",
           "landcolor": "#E5ECF6",
           "showlakes": true,
           "showland": true,
           "subunitcolor": "white"
          },
          "hoverlabel": {
           "align": "left"
          },
          "hovermode": "closest",
          "mapbox": {
           "style": "light"
          },
          "paper_bgcolor": "white",
          "plot_bgcolor": "#E5ECF6",
          "polar": {
           "angularaxis": {
            "gridcolor": "white",
            "linecolor": "white",
            "ticks": ""
           },
           "bgcolor": "#E5ECF6",
           "radialaxis": {
            "gridcolor": "white",
            "linecolor": "white",
            "ticks": ""
           }
          },
          "scene": {
           "xaxis": {
            "backgroundcolor": "#E5ECF6",
            "gridcolor": "white",
            "gridwidth": 2,
            "linecolor": "white",
            "showbackground": true,
            "ticks": "",
            "zerolinecolor": "white"
           },
           "yaxis": {
            "backgroundcolor": "#E5ECF6",
            "gridcolor": "white",
            "gridwidth": 2,
            "linecolor": "white",
            "showbackground": true,
            "ticks": "",
            "zerolinecolor": "white"
           },
           "zaxis": {
            "backgroundcolor": "#E5ECF6",
            "gridcolor": "white",
            "gridwidth": 2,
            "linecolor": "white",
            "showbackground": true,
            "ticks": "",
            "zerolinecolor": "white"
           }
          },
          "shapedefaults": {
           "line": {
            "color": "#2a3f5f"
           }
          },
          "ternary": {
           "aaxis": {
            "gridcolor": "white",
            "linecolor": "white",
            "ticks": ""
           },
           "baxis": {
            "gridcolor": "white",
            "linecolor": "white",
            "ticks": ""
           },
           "bgcolor": "#E5ECF6",
           "caxis": {
            "gridcolor": "white",
            "linecolor": "white",
            "ticks": ""
           }
          },
          "title": {
           "x": 0.05
          },
          "xaxis": {
           "automargin": true,
           "gridcolor": "white",
           "linecolor": "white",
           "ticks": "",
           "title": {
            "standoff": 15
           },
           "zerolinecolor": "white",
           "zerolinewidth": 2
          },
          "yaxis": {
           "automargin": true,
           "gridcolor": "white",
           "linecolor": "white",
           "ticks": "",
           "title": {
            "standoff": 15
           },
           "zerolinecolor": "white",
           "zerolinewidth": 2
          }
         }
        },
        "title": {
         "text": "Selection Ratio vs. Inclusion Ratio (strict evaluator)",
         "x": 0.5,
         "xanchor": "center"
        },
        "width": 900,
        "xaxis": {
         "range": [
          0,
          1
         ],
         "title": {
          "text": "Inclusion Ratio"
         }
        },
        "yaxis": {
         "range": [
          0,
          1
         ],
         "title": {
          "text": "Selection Ratio"
         }
        }
       }
      }
     },
     "metadata": {},
     "output_type": "display_data"
    },
    {
     "data": {
      "application/vnd.plotly.v1+json": {
       "config": {
        "plotlyServerURL": "https://plot.ly"
       },
       "data": [
        {
         "line": {
          "color": "blue",
          "dash": "solid"
         },
         "marker": {
          "size": 8,
          "symbol": "circle"
         },
         "mode": "lines+markers",
         "name": "baseline1-human",
         "type": "scatter",
         "x": [
          0.1,
          0.30000000000000004,
          0.5,
          0.7000000000000001,
          0.9
         ],
         "y": {
          "bdata": "27Zt27Ztuz8XXXTRRRfdP57neZ7ned4/U9aUNWVN6T/1QOXsFn7lPw==",
          "dtype": "f8"
         }
        },
        {
         "line": {
          "color": "red",
          "dash": "dot"
         },
         "marker": {
          "size": 8,
          "symbol": "square"
         },
         "mode": "lines+markers",
         "name": "baseline1-strict",
         "type": "scatter",
         "x": [
          0.1,
          0.30000000000000004,
          0.5,
          0.7000000000000001,
          0.9
         ],
         "y": {
          "bdata": "kiRJkiRJoj900UUXXXTRP5IkSZIkSdI/NmVNWVPW5D9c+NWYSA/kPw==",
          "dtype": "f8"
         }
        }
       ],
       "layout": {
        "height": 500,
        "legend": {
         "title": {
          "text": "Legend"
         },
         "x": 0.01,
         "y": 0.99
        },
        "template": {
         "data": {
          "bar": [
           {
            "error_x": {
             "color": "#2a3f5f"
            },
            "error_y": {
             "color": "#2a3f5f"
            },
            "marker": {
             "line": {
              "color": "#E5ECF6",
              "width": 0.5
             },
             "pattern": {
              "fillmode": "overlay",
              "size": 10,
              "solidity": 0.2
             }
            },
            "type": "bar"
           }
          ],
          "barpolar": [
           {
            "marker": {
             "line": {
              "color": "#E5ECF6",
              "width": 0.5
             },
             "pattern": {
              "fillmode": "overlay",
              "size": 10,
              "solidity": 0.2
             }
            },
            "type": "barpolar"
           }
          ],
          "carpet": [
           {
            "aaxis": {
             "endlinecolor": "#2a3f5f",
             "gridcolor": "white",
             "linecolor": "white",
             "minorgridcolor": "white",
             "startlinecolor": "#2a3f5f"
            },
            "baxis": {
             "endlinecolor": "#2a3f5f",
             "gridcolor": "white",
             "linecolor": "white",
             "minorgridcolor": "white",
             "startlinecolor": "#2a3f5f"
            },
            "type": "carpet"
           }
          ],
          "choropleth": [
           {
            "colorbar": {
             "outlinewidth": 0,
             "ticks": ""
            },
            "type": "choropleth"
           }
          ],
          "contour": [
           {
            "colorbar": {
             "outlinewidth": 0,
             "ticks": ""
            },
            "colorscale": [
             [
              0,
              "#0d0887"
             ],
             [
              0.1111111111111111,
              "#46039f"
             ],
             [
              0.2222222222222222,
              "#7201a8"
             ],
             [
              0.3333333333333333,
              "#9c179e"
             ],
             [
              0.4444444444444444,
              "#bd3786"
             ],
             [
              0.5555555555555556,
              "#d8576b"
             ],
             [
              0.6666666666666666,
              "#ed7953"
             ],
             [
              0.7777777777777778,
              "#fb9f3a"
             ],
             [
              0.8888888888888888,
              "#fdca26"
             ],
             [
              1,
              "#f0f921"
             ]
            ],
            "type": "contour"
           }
          ],
          "contourcarpet": [
           {
            "colorbar": {
             "outlinewidth": 0,
             "ticks": ""
            },
            "type": "contourcarpet"
           }
          ],
          "heatmap": [
           {
            "colorbar": {
             "outlinewidth": 0,
             "ticks": ""
            },
            "colorscale": [
             [
              0,
              "#0d0887"
             ],
             [
              0.1111111111111111,
              "#46039f"
             ],
             [
              0.2222222222222222,
              "#7201a8"
             ],
             [
              0.3333333333333333,
              "#9c179e"
             ],
             [
              0.4444444444444444,
              "#bd3786"
             ],
             [
              0.5555555555555556,
              "#d8576b"
             ],
             [
              0.6666666666666666,
              "#ed7953"
             ],
             [
              0.7777777777777778,
              "#fb9f3a"
             ],
             [
              0.8888888888888888,
              "#fdca26"
             ],
             [
              1,
              "#f0f921"
             ]
            ],
            "type": "heatmap"
           }
          ],
          "histogram": [
           {
            "marker": {
             "pattern": {
              "fillmode": "overlay",
              "size": 10,
              "solidity": 0.2
             }
            },
            "type": "histogram"
           }
          ],
          "histogram2d": [
           {
            "colorbar": {
             "outlinewidth": 0,
             "ticks": ""
            },
            "colorscale": [
             [
              0,
              "#0d0887"
             ],
             [
              0.1111111111111111,
              "#46039f"
             ],
             [
              0.2222222222222222,
              "#7201a8"
             ],
             [
              0.3333333333333333,
              "#9c179e"
             ],
             [
              0.4444444444444444,
              "#bd3786"
             ],
             [
              0.5555555555555556,
              "#d8576b"
             ],
             [
              0.6666666666666666,
              "#ed7953"
             ],
             [
              0.7777777777777778,
              "#fb9f3a"
             ],
             [
              0.8888888888888888,
              "#fdca26"
             ],
             [
              1,
              "#f0f921"
             ]
            ],
            "type": "histogram2d"
           }
          ],
          "histogram2dcontour": [
           {
            "colorbar": {
             "outlinewidth": 0,
             "ticks": ""
            },
            "colorscale": [
             [
              0,
              "#0d0887"
             ],
             [
              0.1111111111111111,
              "#46039f"
             ],
             [
              0.2222222222222222,
              "#7201a8"
             ],
             [
              0.3333333333333333,
              "#9c179e"
             ],
             [
              0.4444444444444444,
              "#bd3786"
             ],
             [
              0.5555555555555556,
              "#d8576b"
             ],
             [
              0.6666666666666666,
              "#ed7953"
             ],
             [
              0.7777777777777778,
              "#fb9f3a"
             ],
             [
              0.8888888888888888,
              "#fdca26"
             ],
             [
              1,
              "#f0f921"
             ]
            ],
            "type": "histogram2dcontour"
           }
          ],
          "mesh3d": [
           {
            "colorbar": {
             "outlinewidth": 0,
             "ticks": ""
            },
            "type": "mesh3d"
           }
          ],
          "parcoords": [
           {
            "line": {
             "colorbar": {
              "outlinewidth": 0,
              "ticks": ""
             }
            },
            "type": "parcoords"
           }
          ],
          "pie": [
           {
            "automargin": true,
            "type": "pie"
           }
          ],
          "scatter": [
           {
            "fillpattern": {
             "fillmode": "overlay",
             "size": 10,
             "solidity": 0.2
            },
            "type": "scatter"
           }
          ],
          "scatter3d": [
           {
            "line": {
             "colorbar": {
              "outlinewidth": 0,
              "ticks": ""
             }
            },
            "marker": {
             "colorbar": {
              "outlinewidth": 0,
              "ticks": ""
             }
            },
            "type": "scatter3d"
           }
          ],
          "scattercarpet": [
           {
            "marker": {
             "colorbar": {
              "outlinewidth": 0,
              "ticks": ""
             }
            },
            "type": "scattercarpet"
           }
          ],
          "scattergeo": [
           {
            "marker": {
             "colorbar": {
              "outlinewidth": 0,
              "ticks": ""
             }
            },
            "type": "scattergeo"
           }
          ],
          "scattergl": [
           {
            "marker": {
             "colorbar": {
              "outlinewidth": 0,
              "ticks": ""
             }
            },
            "type": "scattergl"
           }
          ],
          "scattermap": [
           {
            "marker": {
             "colorbar": {
              "outlinewidth": 0,
              "ticks": ""
             }
            },
            "type": "scattermap"
           }
          ],
          "scattermapbox": [
           {
            "marker": {
             "colorbar": {
              "outlinewidth": 0,
              "ticks": ""
             }
            },
            "type": "scattermapbox"
           }
          ],
          "scatterpolar": [
           {
            "marker": {
             "colorbar": {
              "outlinewidth": 0,
              "ticks": ""
             }
            },
            "type": "scatterpolar"
           }
          ],
          "scatterpolargl": [
           {
            "marker": {
             "colorbar": {
              "outlinewidth": 0,
              "ticks": ""
             }
            },
            "type": "scatterpolargl"
           }
          ],
          "scatterternary": [
           {
            "marker": {
             "colorbar": {
              "outlinewidth": 0,
              "ticks": ""
             }
            },
            "type": "scatterternary"
           }
          ],
          "surface": [
           {
            "colorbar": {
             "outlinewidth": 0,
             "ticks": ""
            },
            "colorscale": [
             [
              0,
              "#0d0887"
             ],
             [
              0.1111111111111111,
              "#46039f"
             ],
             [
              0.2222222222222222,
              "#7201a8"
             ],
             [
              0.3333333333333333,
              "#9c179e"
             ],
             [
              0.4444444444444444,
              "#bd3786"
             ],
             [
              0.5555555555555556,
              "#d8576b"
             ],
             [
              0.6666666666666666,
              "#ed7953"
             ],
             [
              0.7777777777777778,
              "#fb9f3a"
             ],
             [
              0.8888888888888888,
              "#fdca26"
             ],
             [
              1,
              "#f0f921"
             ]
            ],
            "type": "surface"
           }
          ],
          "table": [
           {
            "cells": {
             "fill": {
              "color": "#EBF0F8"
             },
             "line": {
              "color": "white"
             }
            },
            "header": {
             "fill": {
              "color": "#C8D4E3"
             },
             "line": {
              "color": "white"
             }
            },
            "type": "table"
           }
          ]
         },
         "layout": {
          "annotationdefaults": {
           "arrowcolor": "#2a3f5f",
           "arrowhead": 0,
           "arrowwidth": 1
          },
          "autotypenumbers": "strict",
          "coloraxis": {
           "colorbar": {
            "outlinewidth": 0,
            "ticks": ""
           }
          },
          "colorscale": {
           "diverging": [
            [
             0,
             "#8e0152"
            ],
            [
             0.1,
             "#c51b7d"
            ],
            [
             0.2,
             "#de77ae"
            ],
            [
             0.3,
             "#f1b6da"
            ],
            [
             0.4,
             "#fde0ef"
            ],
            [
             0.5,
             "#f7f7f7"
            ],
            [
             0.6,
             "#e6f5d0"
            ],
            [
             0.7,
             "#b8e186"
            ],
            [
             0.8,
             "#7fbc41"
            ],
            [
             0.9,
             "#4d9221"
            ],
            [
             1,
             "#276419"
            ]
           ],
           "sequential": [
            [
             0,
             "#0d0887"
            ],
            [
             0.1111111111111111,
             "#46039f"
            ],
            [
             0.2222222222222222,
             "#7201a8"
            ],
            [
             0.3333333333333333,
             "#9c179e"
            ],
            [
             0.4444444444444444,
             "#bd3786"
            ],
            [
             0.5555555555555556,
             "#d8576b"
            ],
            [
             0.6666666666666666,
             "#ed7953"
            ],
            [
             0.7777777777777778,
             "#fb9f3a"
            ],
            [
             0.8888888888888888,
             "#fdca26"
            ],
            [
             1,
             "#f0f921"
            ]
           ],
           "sequentialminus": [
            [
             0,
             "#0d0887"
            ],
            [
             0.1111111111111111,
             "#46039f"
            ],
            [
             0.2222222222222222,
             "#7201a8"
            ],
            [
             0.3333333333333333,
             "#9c179e"
            ],
            [
             0.4444444444444444,
             "#bd3786"
            ],
            [
             0.5555555555555556,
             "#d8576b"
            ],
            [
             0.6666666666666666,
             "#ed7953"
            ],
            [
             0.7777777777777778,
             "#fb9f3a"
            ],
            [
             0.8888888888888888,
             "#fdca26"
            ],
            [
             1,
             "#f0f921"
            ]
           ]
          },
          "colorway": [
           "#636efa",
           "#EF553B",
           "#00cc96",
           "#ab63fa",
           "#FFA15A",
           "#19d3f3",
           "#FF6692",
           "#B6E880",
           "#FF97FF",
           "#FECB52"
          ],
          "font": {
           "color": "#2a3f5f"
          },
          "geo": {
           "bgcolor": "white",
           "lakecolor": "white",
           "landcolor": "#E5ECF6",
           "showlakes": true,
           "showland": true,
           "subunitcolor": "white"
          },
          "hoverlabel": {
           "align": "left"
          },
          "hovermode": "closest",
          "mapbox": {
           "style": "light"
          },
          "paper_bgcolor": "white",
          "plot_bgcolor": "#E5ECF6",
          "polar": {
           "angularaxis": {
            "gridcolor": "white",
            "linecolor": "white",
            "ticks": ""
           },
           "bgcolor": "#E5ECF6",
           "radialaxis": {
            "gridcolor": "white",
            "linecolor": "white",
            "ticks": ""
           }
          },
          "scene": {
           "xaxis": {
            "backgroundcolor": "#E5ECF6",
            "gridcolor": "white",
            "gridwidth": 2,
            "linecolor": "white",
            "showbackground": true,
            "ticks": "",
            "zerolinecolor": "white"
           },
           "yaxis": {
            "backgroundcolor": "#E5ECF6",
            "gridcolor": "white",
            "gridwidth": 2,
            "linecolor": "white",
            "showbackground": true,
            "ticks": "",
            "zerolinecolor": "white"
           },
           "zaxis": {
            "backgroundcolor": "#E5ECF6",
            "gridcolor": "white",
            "gridwidth": 2,
            "linecolor": "white",
            "showbackground": true,
            "ticks": "",
            "zerolinecolor": "white"
           }
          },
          "shapedefaults": {
           "line": {
            "color": "#2a3f5f"
           }
          },
          "ternary": {
           "aaxis": {
            "gridcolor": "white",
            "linecolor": "white",
            "ticks": ""
           },
           "baxis": {
            "gridcolor": "white",
            "linecolor": "white",
            "ticks": ""
           },
           "bgcolor": "#E5ECF6",
           "caxis": {
            "gridcolor": "white",
            "linecolor": "white",
            "ticks": ""
           }
          },
          "title": {
           "x": 0.05
          },
          "xaxis": {
           "automargin": true,
           "gridcolor": "white",
           "linecolor": "white",
           "ticks": "",
           "title": {
            "standoff": 15
           },
           "zerolinecolor": "white",
           "zerolinewidth": 2
          },
          "yaxis": {
           "automargin": true,
           "gridcolor": "white",
           "linecolor": "white",
           "ticks": "",
           "title": {
            "standoff": 15
           },
           "zerolinecolor": "white",
           "zerolinewidth": 2
          }
         }
        },
        "title": {
         "text": "Selection Ratio vs. Inclusion Ratio (strict evaluator)",
         "x": 0.5,
         "xanchor": "center"
        },
        "width": 900,
        "xaxis": {
         "range": [
          0,
          1
         ],
         "title": {
          "text": "Inclusion Ratio"
         }
        },
        "yaxis": {
         "range": [
          0,
          1
         ],
         "title": {
          "text": "Selection Ratio"
         }
        }
       }
      }
     },
     "metadata": {},
     "output_type": "display_data"
    },
    {
     "data": {
      "application/vnd.plotly.v1+json": {
       "config": {
        "plotlyServerURL": "https://plot.ly"
       },
       "data": [
        {
         "line": {
          "color": "blue",
          "dash": "solid"
         },
         "marker": {
          "size": 8,
          "symbol": "circle"
         },
         "mode": "lines+markers",
         "name": "baseline2-human",
         "type": "scatter",
         "x": [
          0.1,
          0.30000000000000004,
          0.5,
          0.7000000000000001,
          0.9
         ],
         "y": {
          "bdata": "AAAAAAAA0D8IH3zwwQffP7dt27Zt2+Y/Bn1BX9AX5D9JD1TObuHnPw==",
          "dtype": "f8"
         }
        },
        {
         "line": {
          "color": "red",
          "dash": "dot"
         },
         "marker": {
          "size": 8,
          "symbol": "square"
         },
         "mode": "lines+markers",
         "name": "baseline2-strict",
         "type": "scatter",
         "x": [
          0.1,
          0.30000000000000004,
          0.5,
          0.7000000000000001,
          0.9
         ],
         "y": {
          "bdata": "27Zt27Ztuz9GF1100UXXP8MwDMMwDOM/1pQ1ZU1Z4z+gcnYLvxrjPw==",
          "dtype": "f8"
         }
        }
       ],
       "layout": {
        "height": 500,
        "legend": {
         "title": {
          "text": "Legend"
         },
         "x": 0.01,
         "y": 0.99
        },
        "template": {
         "data": {
          "bar": [
           {
            "error_x": {
             "color": "#2a3f5f"
            },
            "error_y": {
             "color": "#2a3f5f"
            },
            "marker": {
             "line": {
              "color": "#E5ECF6",
              "width": 0.5
             },
             "pattern": {
              "fillmode": "overlay",
              "size": 10,
              "solidity": 0.2
             }
            },
            "type": "bar"
           }
          ],
          "barpolar": [
           {
            "marker": {
             "line": {
              "color": "#E5ECF6",
              "width": 0.5
             },
             "pattern": {
              "fillmode": "overlay",
              "size": 10,
              "solidity": 0.2
             }
            },
            "type": "barpolar"
           }
          ],
          "carpet": [
           {
            "aaxis": {
             "endlinecolor": "#2a3f5f",
             "gridcolor": "white",
             "linecolor": "white",
             "minorgridcolor": "white",
             "startlinecolor": "#2a3f5f"
            },
            "baxis": {
             "endlinecolor": "#2a3f5f",
             "gridcolor": "white",
             "linecolor": "white",
             "minorgridcolor": "white",
             "startlinecolor": "#2a3f5f"
            },
            "type": "carpet"
           }
          ],
          "choropleth": [
           {
            "colorbar": {
             "outlinewidth": 0,
             "ticks": ""
            },
            "type": "choropleth"
           }
          ],
          "contour": [
           {
            "colorbar": {
             "outlinewidth": 0,
             "ticks": ""
            },
            "colorscale": [
             [
              0,
              "#0d0887"
             ],
             [
              0.1111111111111111,
              "#46039f"
             ],
             [
              0.2222222222222222,
              "#7201a8"
             ],
             [
              0.3333333333333333,
              "#9c179e"
             ],
             [
              0.4444444444444444,
              "#bd3786"
             ],
             [
              0.5555555555555556,
              "#d8576b"
             ],
             [
              0.6666666666666666,
              "#ed7953"
             ],
             [
              0.7777777777777778,
              "#fb9f3a"
             ],
             [
              0.8888888888888888,
              "#fdca26"
             ],
             [
              1,
              "#f0f921"
             ]
            ],
            "type": "contour"
           }
          ],
          "contourcarpet": [
           {
            "colorbar": {
             "outlinewidth": 0,
             "ticks": ""
            },
            "type": "contourcarpet"
           }
          ],
          "heatmap": [
           {
            "colorbar": {
             "outlinewidth": 0,
             "ticks": ""
            },
            "colorscale": [
             [
              0,
              "#0d0887"
             ],
             [
              0.1111111111111111,
              "#46039f"
             ],
             [
              0.2222222222222222,
              "#7201a8"
             ],
             [
              0.3333333333333333,
              "#9c179e"
             ],
             [
              0.4444444444444444,
              "#bd3786"
             ],
             [
              0.5555555555555556,
              "#d8576b"
             ],
             [
              0.6666666666666666,
              "#ed7953"
             ],
             [
              0.7777777777777778,
              "#fb9f3a"
             ],
             [
              0.8888888888888888,
              "#fdca26"
             ],
             [
              1,
              "#f0f921"
             ]
            ],
            "type": "heatmap"
           }
          ],
          "histogram": [
           {
            "marker": {
             "pattern": {
              "fillmode": "overlay",
              "size": 10,
              "solidity": 0.2
             }
            },
            "type": "histogram"
           }
          ],
          "histogram2d": [
           {
            "colorbar": {
             "outlinewidth": 0,
             "ticks": ""
            },
            "colorscale": [
             [
              0,
              "#0d0887"
             ],
             [
              0.1111111111111111,
              "#46039f"
             ],
             [
              0.2222222222222222,
              "#7201a8"
             ],
             [
              0.3333333333333333,
              "#9c179e"
             ],
             [
              0.4444444444444444,
              "#bd3786"
             ],
             [
              0.5555555555555556,
              "#d8576b"
             ],
             [
              0.6666666666666666,
              "#ed7953"
             ],
             [
              0.7777777777777778,
              "#fb9f3a"
             ],
             [
              0.8888888888888888,
              "#fdca26"
             ],
             [
              1,
              "#f0f921"
             ]
            ],
            "type": "histogram2d"
           }
          ],
          "histogram2dcontour": [
           {
            "colorbar": {
             "outlinewidth": 0,
             "ticks": ""
            },
            "colorscale": [
             [
              0,
              "#0d0887"
             ],
             [
              0.1111111111111111,
              "#46039f"
             ],
             [
              0.2222222222222222,
              "#7201a8"
             ],
             [
              0.3333333333333333,
              "#9c179e"
             ],
             [
              0.4444444444444444,
              "#bd3786"
             ],
             [
              0.5555555555555556,
              "#d8576b"
             ],
             [
              0.6666666666666666,
              "#ed7953"
             ],
             [
              0.7777777777777778,
              "#fb9f3a"
             ],
             [
              0.8888888888888888,
              "#fdca26"
             ],
             [
              1,
              "#f0f921"
             ]
            ],
            "type": "histogram2dcontour"
           }
          ],
          "mesh3d": [
           {
            "colorbar": {
             "outlinewidth": 0,
             "ticks": ""
            },
            "type": "mesh3d"
           }
          ],
          "parcoords": [
           {
            "line": {
             "colorbar": {
              "outlinewidth": 0,
              "ticks": ""
             }
            },
            "type": "parcoords"
           }
          ],
          "pie": [
           {
            "automargin": true,
            "type": "pie"
           }
          ],
          "scatter": [
           {
            "fillpattern": {
             "fillmode": "overlay",
             "size": 10,
             "solidity": 0.2
            },
            "type": "scatter"
           }
          ],
          "scatter3d": [
           {
            "line": {
             "colorbar": {
              "outlinewidth": 0,
              "ticks": ""
             }
            },
            "marker": {
             "colorbar": {
              "outlinewidth": 0,
              "ticks": ""
             }
            },
            "type": "scatter3d"
           }
          ],
          "scattercarpet": [
           {
            "marker": {
             "colorbar": {
              "outlinewidth": 0,
              "ticks": ""
             }
            },
            "type": "scattercarpet"
           }
          ],
          "scattergeo": [
           {
            "marker": {
             "colorbar": {
              "outlinewidth": 0,
              "ticks": ""
             }
            },
            "type": "scattergeo"
           }
          ],
          "scattergl": [
           {
            "marker": {
             "colorbar": {
              "outlinewidth": 0,
              "ticks": ""
             }
            },
            "type": "scattergl"
           }
          ],
          "scattermap": [
           {
            "marker": {
             "colorbar": {
              "outlinewidth": 0,
              "ticks": ""
             }
            },
            "type": "scattermap"
           }
          ],
          "scattermapbox": [
           {
            "marker": {
             "colorbar": {
              "outlinewidth": 0,
              "ticks": ""
             }
            },
            "type": "scattermapbox"
           }
          ],
          "scatterpolar": [
           {
            "marker": {
             "colorbar": {
              "outlinewidth": 0,
              "ticks": ""
             }
            },
            "type": "scatterpolar"
           }
          ],
          "scatterpolargl": [
           {
            "marker": {
             "colorbar": {
              "outlinewidth": 0,
              "ticks": ""
             }
            },
            "type": "scatterpolargl"
           }
          ],
          "scatterternary": [
           {
            "marker": {
             "colorbar": {
              "outlinewidth": 0,
              "ticks": ""
             }
            },
            "type": "scatterternary"
           }
          ],
          "surface": [
           {
            "colorbar": {
             "outlinewidth": 0,
             "ticks": ""
            },
            "colorscale": [
             [
              0,
              "#0d0887"
             ],
             [
              0.1111111111111111,
              "#46039f"
             ],
             [
              0.2222222222222222,
              "#7201a8"
             ],
             [
              0.3333333333333333,
              "#9c179e"
             ],
             [
              0.4444444444444444,
              "#bd3786"
             ],
             [
              0.5555555555555556,
              "#d8576b"
             ],
             [
              0.6666666666666666,
              "#ed7953"
             ],
             [
              0.7777777777777778,
              "#fb9f3a"
             ],
             [
              0.8888888888888888,
              "#fdca26"
             ],
             [
              1,
              "#f0f921"
             ]
            ],
            "type": "surface"
           }
          ],
          "table": [
           {
            "cells": {
             "fill": {
              "color": "#EBF0F8"
             },
             "line": {
              "color": "white"
             }
            },
            "header": {
             "fill": {
              "color": "#C8D4E3"
             },
             "line": {
              "color": "white"
             }
            },
            "type": "table"
           }
          ]
         },
         "layout": {
          "annotationdefaults": {
           "arrowcolor": "#2a3f5f",
           "arrowhead": 0,
           "arrowwidth": 1
          },
          "autotypenumbers": "strict",
          "coloraxis": {
           "colorbar": {
            "outlinewidth": 0,
            "ticks": ""
           }
          },
          "colorscale": {
           "diverging": [
            [
             0,
             "#8e0152"
            ],
            [
             0.1,
             "#c51b7d"
            ],
            [
             0.2,
             "#de77ae"
            ],
            [
             0.3,
             "#f1b6da"
            ],
            [
             0.4,
             "#fde0ef"
            ],
            [
             0.5,
             "#f7f7f7"
            ],
            [
             0.6,
             "#e6f5d0"
            ],
            [
             0.7,
             "#b8e186"
            ],
            [
             0.8,
             "#7fbc41"
            ],
            [
             0.9,
             "#4d9221"
            ],
            [
             1,
             "#276419"
            ]
           ],
           "sequential": [
            [
             0,
             "#0d0887"
            ],
            [
             0.1111111111111111,
             "#46039f"
            ],
            [
             0.2222222222222222,
             "#7201a8"
            ],
            [
             0.3333333333333333,
             "#9c179e"
            ],
            [
             0.4444444444444444,
             "#bd3786"
            ],
            [
             0.5555555555555556,
             "#d8576b"
            ],
            [
             0.6666666666666666,
             "#ed7953"
            ],
            [
             0.7777777777777778,
             "#fb9f3a"
            ],
            [
             0.8888888888888888,
             "#fdca26"
            ],
            [
             1,
             "#f0f921"
            ]
           ],
           "sequentialminus": [
            [
             0,
             "#0d0887"
            ],
            [
             0.1111111111111111,
             "#46039f"
            ],
            [
             0.2222222222222222,
             "#7201a8"
            ],
            [
             0.3333333333333333,
             "#9c179e"
            ],
            [
             0.4444444444444444,
             "#bd3786"
            ],
            [
             0.5555555555555556,
             "#d8576b"
            ],
            [
             0.6666666666666666,
             "#ed7953"
            ],
            [
             0.7777777777777778,
             "#fb9f3a"
            ],
            [
             0.8888888888888888,
             "#fdca26"
            ],
            [
             1,
             "#f0f921"
            ]
           ]
          },
          "colorway": [
           "#636efa",
           "#EF553B",
           "#00cc96",
           "#ab63fa",
           "#FFA15A",
           "#19d3f3",
           "#FF6692",
           "#B6E880",
           "#FF97FF",
           "#FECB52"
          ],
          "font": {
           "color": "#2a3f5f"
          },
          "geo": {
           "bgcolor": "white",
           "lakecolor": "white",
           "landcolor": "#E5ECF6",
           "showlakes": true,
           "showland": true,
           "subunitcolor": "white"
          },
          "hoverlabel": {
           "align": "left"
          },
          "hovermode": "closest",
          "mapbox": {
           "style": "light"
          },
          "paper_bgcolor": "white",
          "plot_bgcolor": "#E5ECF6",
          "polar": {
           "angularaxis": {
            "gridcolor": "white",
            "linecolor": "white",
            "ticks": ""
           },
           "bgcolor": "#E5ECF6",
           "radialaxis": {
            "gridcolor": "white",
            "linecolor": "white",
            "ticks": ""
           }
          },
          "scene": {
           "xaxis": {
            "backgroundcolor": "#E5ECF6",
            "gridcolor": "white",
            "gridwidth": 2,
            "linecolor": "white",
            "showbackground": true,
            "ticks": "",
            "zerolinecolor": "white"
           },
           "yaxis": {
            "backgroundcolor": "#E5ECF6",
            "gridcolor": "white",
            "gridwidth": 2,
            "linecolor": "white",
            "showbackground": true,
            "ticks": "",
            "zerolinecolor": "white"
           },
           "zaxis": {
            "backgroundcolor": "#E5ECF6",
            "gridcolor": "white",
            "gridwidth": 2,
            "linecolor": "white",
            "showbackground": true,
            "ticks": "",
            "zerolinecolor": "white"
           }
          },
          "shapedefaults": {
           "line": {
            "color": "#2a3f5f"
           }
          },
          "ternary": {
           "aaxis": {
            "gridcolor": "white",
            "linecolor": "white",
            "ticks": ""
           },
           "baxis": {
            "gridcolor": "white",
            "linecolor": "white",
            "ticks": ""
           },
           "bgcolor": "#E5ECF6",
           "caxis": {
            "gridcolor": "white",
            "linecolor": "white",
            "ticks": ""
           }
          },
          "title": {
           "x": 0.05
          },
          "xaxis": {
           "automargin": true,
           "gridcolor": "white",
           "linecolor": "white",
           "ticks": "",
           "title": {
            "standoff": 15
           },
           "zerolinecolor": "white",
           "zerolinewidth": 2
          },
          "yaxis": {
           "automargin": true,
           "gridcolor": "white",
           "linecolor": "white",
           "ticks": "",
           "title": {
            "standoff": 15
           },
           "zerolinecolor": "white",
           "zerolinewidth": 2
          }
         }
        },
        "title": {
         "text": "Selection Ratio vs. Inclusion Ratio (strict evaluator)",
         "x": 0.5,
         "xanchor": "center"
        },
        "width": 900,
        "xaxis": {
         "range": [
          0,
          1
         ],
         "title": {
          "text": "Inclusion Ratio"
         }
        },
        "yaxis": {
         "range": [
          0,
          1
         ],
         "title": {
          "text": "Selection Ratio"
         }
        }
       }
      }
     },
     "metadata": {},
     "output_type": "display_data"
    },
    {
     "name": "stdout",
     "output_type": "stream",
     "text": [
      "=================================================\n",
      "SIMILARITY vs INCLUSION\n",
      "=================================================\n"
     ]
    },
    {
     "data": {
      "application/vnd.plotly.v1+json": {
       "config": {
        "plotlyServerURL": "https://plot.ly"
       },
       "data": [
        {
         "error_y": {
          "array": {
           "bdata": "1bWJE4U1nz8yEEyw4tWZP5LRz3FE/sw/gY7YxRHwwT9u95gBsDPBP3sPgqj27cE/kERqnWbEuD8wL7JivNS5Pw==",
           "dtype": "f8"
          },
          "color": "blue",
          "type": "data",
          "visible": true
         },
         "line": {
          "color": "blue",
          "dash": "solid"
         },
         "marker": {
          "size": 8,
          "symbol": "circle"
         },
         "mode": "lines+markers",
         "name": "ours-human",
         "type": "scatter",
         "x": [
          0.0625,
          0.1875,
          0.3125,
          0.4375,
          0.5625,
          0.6875,
          0.8125,
          0.9375
         ],
         "y": {
          "bdata": "+bREwBjE3D+s6QqT+KXjPxAUa38GhOY/z39iQwMe6T+L3UaECwroP5Gf0JJxjeo/B2P5+SLa7T8NjEZnTFHtPw==",
          "dtype": "f8"
         }
        },
        {
         "error_y": {
          "array": {
           "bdata": "AAAAAAAAAABlwI4u1N+1P2wUbCeB+bo/w1LhU8W2xD+OJnGh8ZbDPyfDdTrpaME/e12X/t4Cuj8i4Rq2NYjBPw==",
           "dtype": "f8"
          },
          "color": "red",
          "type": "data",
          "visible": true
         },
         "line": {
          "color": "red",
          "dash": "dot"
         },
         "marker": {
          "size": 8,
          "symbol": "square"
         },
         "mode": "lines+markers",
         "name": "baseline1-human",
         "type": "scatter",
         "x": [
          0.0625,
          0.1875,
          0.3125,
          0.4375,
          0.5625,
          0.6875,
          0.8125,
          0.9375
         ],
         "y": {
          "bdata": "dm6SYOj85T8D1grXTCDsPy00pgm3TOY/gMTK7Btn5z+cbeW0BIPpPxbmsfI/E+w/IWCl8NG37T+0mcORZ+DsPw==",
          "dtype": "f8"
         }
        }
       ],
       "layout": {
        "height": 500,
        "legend": {
         "title": {
          "text": "Legend"
         },
         "x": 0.01,
         "y": 0.05
        },
        "template": {
         "data": {
          "bar": [
           {
            "error_x": {
             "color": "#2a3f5f"
            },
            "error_y": {
             "color": "#2a3f5f"
            },
            "marker": {
             "line": {
              "color": "#E5ECF6",
              "width": 0.5
             },
             "pattern": {
              "fillmode": "overlay",
              "size": 10,
              "solidity": 0.2
             }
            },
            "type": "bar"
           }
          ],
          "barpolar": [
           {
            "marker": {
             "line": {
              "color": "#E5ECF6",
              "width": 0.5
             },
             "pattern": {
              "fillmode": "overlay",
              "size": 10,
              "solidity": 0.2
             }
            },
            "type": "barpolar"
           }
          ],
          "carpet": [
           {
            "aaxis": {
             "endlinecolor": "#2a3f5f",
             "gridcolor": "white",
             "linecolor": "white",
             "minorgridcolor": "white",
             "startlinecolor": "#2a3f5f"
            },
            "baxis": {
             "endlinecolor": "#2a3f5f",
             "gridcolor": "white",
             "linecolor": "white",
             "minorgridcolor": "white",
             "startlinecolor": "#2a3f5f"
            },
            "type": "carpet"
           }
          ],
          "choropleth": [
           {
            "colorbar": {
             "outlinewidth": 0,
             "ticks": ""
            },
            "type": "choropleth"
           }
          ],
          "contour": [
           {
            "colorbar": {
             "outlinewidth": 0,
             "ticks": ""
            },
            "colorscale": [
             [
              0,
              "#0d0887"
             ],
             [
              0.1111111111111111,
              "#46039f"
             ],
             [
              0.2222222222222222,
              "#7201a8"
             ],
             [
              0.3333333333333333,
              "#9c179e"
             ],
             [
              0.4444444444444444,
              "#bd3786"
             ],
             [
              0.5555555555555556,
              "#d8576b"
             ],
             [
              0.6666666666666666,
              "#ed7953"
             ],
             [
              0.7777777777777778,
              "#fb9f3a"
             ],
             [
              0.8888888888888888,
              "#fdca26"
             ],
             [
              1,
              "#f0f921"
             ]
            ],
            "type": "contour"
           }
          ],
          "contourcarpet": [
           {
            "colorbar": {
             "outlinewidth": 0,
             "ticks": ""
            },
            "type": "contourcarpet"
           }
          ],
          "heatmap": [
           {
            "colorbar": {
             "outlinewidth": 0,
             "ticks": ""
            },
            "colorscale": [
             [
              0,
              "#0d0887"
             ],
             [
              0.1111111111111111,
              "#46039f"
             ],
             [
              0.2222222222222222,
              "#7201a8"
             ],
             [
              0.3333333333333333,
              "#9c179e"
             ],
             [
              0.4444444444444444,
              "#bd3786"
             ],
             [
              0.5555555555555556,
              "#d8576b"
             ],
             [
              0.6666666666666666,
              "#ed7953"
             ],
             [
              0.7777777777777778,
              "#fb9f3a"
             ],
             [
              0.8888888888888888,
              "#fdca26"
             ],
             [
              1,
              "#f0f921"
             ]
            ],
            "type": "heatmap"
           }
          ],
          "histogram": [
           {
            "marker": {
             "pattern": {
              "fillmode": "overlay",
              "size": 10,
              "solidity": 0.2
             }
            },
            "type": "histogram"
           }
          ],
          "histogram2d": [
           {
            "colorbar": {
             "outlinewidth": 0,
             "ticks": ""
            },
            "colorscale": [
             [
              0,
              "#0d0887"
             ],
             [
              0.1111111111111111,
              "#46039f"
             ],
             [
              0.2222222222222222,
              "#7201a8"
             ],
             [
              0.3333333333333333,
              "#9c179e"
             ],
             [
              0.4444444444444444,
              "#bd3786"
             ],
             [
              0.5555555555555556,
              "#d8576b"
             ],
             [
              0.6666666666666666,
              "#ed7953"
             ],
             [
              0.7777777777777778,
              "#fb9f3a"
             ],
             [
              0.8888888888888888,
              "#fdca26"
             ],
             [
              1,
              "#f0f921"
             ]
            ],
            "type": "histogram2d"
           }
          ],
          "histogram2dcontour": [
           {
            "colorbar": {
             "outlinewidth": 0,
             "ticks": ""
            },
            "colorscale": [
             [
              0,
              "#0d0887"
             ],
             [
              0.1111111111111111,
              "#46039f"
             ],
             [
              0.2222222222222222,
              "#7201a8"
             ],
             [
              0.3333333333333333,
              "#9c179e"
             ],
             [
              0.4444444444444444,
              "#bd3786"
             ],
             [
              0.5555555555555556,
              "#d8576b"
             ],
             [
              0.6666666666666666,
              "#ed7953"
             ],
             [
              0.7777777777777778,
              "#fb9f3a"
             ],
             [
              0.8888888888888888,
              "#fdca26"
             ],
             [
              1,
              "#f0f921"
             ]
            ],
            "type": "histogram2dcontour"
           }
          ],
          "mesh3d": [
           {
            "colorbar": {
             "outlinewidth": 0,
             "ticks": ""
            },
            "type": "mesh3d"
           }
          ],
          "parcoords": [
           {
            "line": {
             "colorbar": {
              "outlinewidth": 0,
              "ticks": ""
             }
            },
            "type": "parcoords"
           }
          ],
          "pie": [
           {
            "automargin": true,
            "type": "pie"
           }
          ],
          "scatter": [
           {
            "fillpattern": {
             "fillmode": "overlay",
             "size": 10,
             "solidity": 0.2
            },
            "type": "scatter"
           }
          ],
          "scatter3d": [
           {
            "line": {
             "colorbar": {
              "outlinewidth": 0,
              "ticks": ""
             }
            },
            "marker": {
             "colorbar": {
              "outlinewidth": 0,
              "ticks": ""
             }
            },
            "type": "scatter3d"
           }
          ],
          "scattercarpet": [
           {
            "marker": {
             "colorbar": {
              "outlinewidth": 0,
              "ticks": ""
             }
            },
            "type": "scattercarpet"
           }
          ],
          "scattergeo": [
           {
            "marker": {
             "colorbar": {
              "outlinewidth": 0,
              "ticks": ""
             }
            },
            "type": "scattergeo"
           }
          ],
          "scattergl": [
           {
            "marker": {
             "colorbar": {
              "outlinewidth": 0,
              "ticks": ""
             }
            },
            "type": "scattergl"
           }
          ],
          "scattermap": [
           {
            "marker": {
             "colorbar": {
              "outlinewidth": 0,
              "ticks": ""
             }
            },
            "type": "scattermap"
           }
          ],
          "scattermapbox": [
           {
            "marker": {
             "colorbar": {
              "outlinewidth": 0,
              "ticks": ""
             }
            },
            "type": "scattermapbox"
           }
          ],
          "scatterpolar": [
           {
            "marker": {
             "colorbar": {
              "outlinewidth": 0,
              "ticks": ""
             }
            },
            "type": "scatterpolar"
           }
          ],
          "scatterpolargl": [
           {
            "marker": {
             "colorbar": {
              "outlinewidth": 0,
              "ticks": ""
             }
            },
            "type": "scatterpolargl"
           }
          ],
          "scatterternary": [
           {
            "marker": {
             "colorbar": {
              "outlinewidth": 0,
              "ticks": ""
             }
            },
            "type": "scatterternary"
           }
          ],
          "surface": [
           {
            "colorbar": {
             "outlinewidth": 0,
             "ticks": ""
            },
            "colorscale": [
             [
              0,
              "#0d0887"
             ],
             [
              0.1111111111111111,
              "#46039f"
             ],
             [
              0.2222222222222222,
              "#7201a8"
             ],
             [
              0.3333333333333333,
              "#9c179e"
             ],
             [
              0.4444444444444444,
              "#bd3786"
             ],
             [
              0.5555555555555556,
              "#d8576b"
             ],
             [
              0.6666666666666666,
              "#ed7953"
             ],
             [
              0.7777777777777778,
              "#fb9f3a"
             ],
             [
              0.8888888888888888,
              "#fdca26"
             ],
             [
              1,
              "#f0f921"
             ]
            ],
            "type": "surface"
           }
          ],
          "table": [
           {
            "cells": {
             "fill": {
              "color": "#EBF0F8"
             },
             "line": {
              "color": "white"
             }
            },
            "header": {
             "fill": {
              "color": "#C8D4E3"
             },
             "line": {
              "color": "white"
             }
            },
            "type": "table"
           }
          ]
         },
         "layout": {
          "annotationdefaults": {
           "arrowcolor": "#2a3f5f",
           "arrowhead": 0,
           "arrowwidth": 1
          },
          "autotypenumbers": "strict",
          "coloraxis": {
           "colorbar": {
            "outlinewidth": 0,
            "ticks": ""
           }
          },
          "colorscale": {
           "diverging": [
            [
             0,
             "#8e0152"
            ],
            [
             0.1,
             "#c51b7d"
            ],
            [
             0.2,
             "#de77ae"
            ],
            [
             0.3,
             "#f1b6da"
            ],
            [
             0.4,
             "#fde0ef"
            ],
            [
             0.5,
             "#f7f7f7"
            ],
            [
             0.6,
             "#e6f5d0"
            ],
            [
             0.7,
             "#b8e186"
            ],
            [
             0.8,
             "#7fbc41"
            ],
            [
             0.9,
             "#4d9221"
            ],
            [
             1,
             "#276419"
            ]
           ],
           "sequential": [
            [
             0,
             "#0d0887"
            ],
            [
             0.1111111111111111,
             "#46039f"
            ],
            [
             0.2222222222222222,
             "#7201a8"
            ],
            [
             0.3333333333333333,
             "#9c179e"
            ],
            [
             0.4444444444444444,
             "#bd3786"
            ],
            [
             0.5555555555555556,
             "#d8576b"
            ],
            [
             0.6666666666666666,
             "#ed7953"
            ],
            [
             0.7777777777777778,
             "#fb9f3a"
            ],
            [
             0.8888888888888888,
             "#fdca26"
            ],
            [
             1,
             "#f0f921"
            ]
           ],
           "sequentialminus": [
            [
             0,
             "#0d0887"
            ],
            [
             0.1111111111111111,
             "#46039f"
            ],
            [
             0.2222222222222222,
             "#7201a8"
            ],
            [
             0.3333333333333333,
             "#9c179e"
            ],
            [
             0.4444444444444444,
             "#bd3786"
            ],
            [
             0.5555555555555556,
             "#d8576b"
            ],
            [
             0.6666666666666666,
             "#ed7953"
            ],
            [
             0.7777777777777778,
             "#fb9f3a"
            ],
            [
             0.8888888888888888,
             "#fdca26"
            ],
            [
             1,
             "#f0f921"
            ]
           ]
          },
          "colorway": [
           "#636efa",
           "#EF553B",
           "#00cc96",
           "#ab63fa",
           "#FFA15A",
           "#19d3f3",
           "#FF6692",
           "#B6E880",
           "#FF97FF",
           "#FECB52"
          ],
          "font": {
           "color": "#2a3f5f"
          },
          "geo": {
           "bgcolor": "white",
           "lakecolor": "white",
           "landcolor": "#E5ECF6",
           "showlakes": true,
           "showland": true,
           "subunitcolor": "white"
          },
          "hoverlabel": {
           "align": "left"
          },
          "hovermode": "closest",
          "mapbox": {
           "style": "light"
          },
          "paper_bgcolor": "white",
          "plot_bgcolor": "#E5ECF6",
          "polar": {
           "angularaxis": {
            "gridcolor": "white",
            "linecolor": "white",
            "ticks": ""
           },
           "bgcolor": "#E5ECF6",
           "radialaxis": {
            "gridcolor": "white",
            "linecolor": "white",
            "ticks": ""
           }
          },
          "scene": {
           "xaxis": {
            "backgroundcolor": "#E5ECF6",
            "gridcolor": "white",
            "gridwidth": 2,
            "linecolor": "white",
            "showbackground": true,
            "ticks": "",
            "zerolinecolor": "white"
           },
           "yaxis": {
            "backgroundcolor": "#E5ECF6",
            "gridcolor": "white",
            "gridwidth": 2,
            "linecolor": "white",
            "showbackground": true,
            "ticks": "",
            "zerolinecolor": "white"
           },
           "zaxis": {
            "backgroundcolor": "#E5ECF6",
            "gridcolor": "white",
            "gridwidth": 2,
            "linecolor": "white",
            "showbackground": true,
            "ticks": "",
            "zerolinecolor": "white"
           }
          },
          "shapedefaults": {
           "line": {
            "color": "#2a3f5f"
           }
          },
          "ternary": {
           "aaxis": {
            "gridcolor": "white",
            "linecolor": "white",
            "ticks": ""
           },
           "baxis": {
            "gridcolor": "white",
            "linecolor": "white",
            "ticks": ""
           },
           "bgcolor": "#E5ECF6",
           "caxis": {
            "gridcolor": "white",
            "linecolor": "white",
            "ticks": ""
           }
          },
          "title": {
           "x": 0.05
          },
          "xaxis": {
           "automargin": true,
           "gridcolor": "white",
           "linecolor": "white",
           "ticks": "",
           "title": {
            "standoff": 15
           },
           "zerolinecolor": "white",
           "zerolinewidth": 2
          },
          "yaxis": {
           "automargin": true,
           "gridcolor": "white",
           "linecolor": "white",
           "ticks": "",
           "title": {
            "standoff": 15
           },
           "zerolinecolor": "white",
           "zerolinewidth": 2
          }
         }
        },
        "title": {
         "text": "Inclusion Ratio vs Taxonomy Weighted Similarity",
         "x": 0.5,
         "xanchor": "center"
        },
        "width": 900,
        "xaxis": {
         "range": [
          0.4375,
          1
         ],
         "title": {
          "text": "Inclusion Ratio"
         }
        },
        "yaxis": {
         "range": [
          0,
          1
         ],
         "title": {
          "text": "Similarity (mean ± std)"
         }
        }
       }
      }
     },
     "metadata": {},
     "output_type": "display_data"
    },
    {
     "data": {
      "application/vnd.plotly.v1+json": {
       "config": {
        "plotlyServerURL": "https://plot.ly"
       },
       "data": [
        {
         "error_y": {
          "array": {
           "bdata": "drWH7yZKqz8ss7aOE0arPw5bt+vtZsA/VG9gNfBVsj8MjavectW9P/O41J/AAb0/D0Hf9DoKwz+6mem/AgrFPw==",
           "dtype": "f8"
          },
          "color": "blue",
          "type": "data",
          "visible": true
         },
         "line": {
          "color": "blue",
          "dash": "solid"
         },
         "marker": {
          "size": 8,
          "symbol": "circle"
         },
         "mode": "lines+markers",
         "name": "ours-human",
         "type": "scatter",
         "x": [
          0.0625,
          0.1875,
          0.3125,
          0.4375,
          0.5625,
          0.6875,
          0.8125,
          0.9375
         ],
         "y": {
          "bdata": "cqjn6iyN2j9ExNMZL2bkP+Kny2JlU+E/lY9tw1DC4D9RdUE+UzLgPx7bfFl4OeE/YCzLE3fl4z9D1GOAllXmPw==",
          "dtype": "f8"
         }
        },
        {
         "error_y": {
          "array": {
           "bdata": "AAAAAAAAAAAAtw129kLFP1CIoGRfWL4/2colNS6CsD/TTEq1gwLBP5NOW9N9L8E/MoIHBCOdvD+MdG374/TCPw==",
           "dtype": "f8"
          },
          "color": "red",
          "type": "data",
          "visible": true
         },
         "line": {
          "color": "red",
          "dash": "dot"
         },
         "marker": {
          "size": 8,
          "symbol": "square"
         },
         "mode": "lines+markers",
         "name": "baseline1-human",
         "type": "scatter",
         "x": [
          0.0625,
          0.1875,
          0.3125,
          0.4375,
          0.5625,
          0.6875,
          0.8125,
          0.9375
         ],
         "y": {
          "bdata": "sCryJ7Lr4D+LeOklheLeP4pDSpl7MeQ/sSkU1Mp33T+DRllK/zXhP061c76sxuE/Kx3BR6514z/ZKFo1aADlPw==",
          "dtype": "f8"
         }
        },
        {
         "error_y": {
          "array": {
           "bdata": "kT4/0q6Xuz9s1RAhbanDP4qn/wlt6MI/az9Yhn3puz+Q8ugB7cW8P4NvyUlAdsI/i2ywVDIXvz/81nKAXrLCPw==",
           "dtype": "f8"
          },
          "color": "green",
          "type": "data",
          "visible": true
         },
         "line": {
          "color": "green",
          "dash": "dash"
         },
         "marker": {
          "size": 8,
          "symbol": "diamond"
         },
         "mode": "lines+markers",
         "name": "baseline2-human",
         "type": "scatter",
         "x": [
          0.0625,
          0.1875,
          0.3125,
          0.4375,
          0.5625,
          0.6875,
          0.8125,
          0.9375
         ],
         "y": {
          "bdata": "Zl3fwzxv2z9IA0BU7+7fP1w6Y62a2+A/b6o5fhkX4D+Z4KdcUw/hP3in3tkcgeM/uYbjJBLj4z8v2rV+X0HmPw==",
          "dtype": "f8"
         }
        }
       ],
       "layout": {
        "height": 500,
        "legend": {
         "title": {
          "text": "Legend"
         },
         "x": 0.01,
         "y": 0.05
        },
        "template": {
         "data": {
          "bar": [
           {
            "error_x": {
             "color": "#2a3f5f"
            },
            "error_y": {
             "color": "#2a3f5f"
            },
            "marker": {
             "line": {
              "color": "#E5ECF6",
              "width": 0.5
             },
             "pattern": {
              "fillmode": "overlay",
              "size": 10,
              "solidity": 0.2
             }
            },
            "type": "bar"
           }
          ],
          "barpolar": [
           {
            "marker": {
             "line": {
              "color": "#E5ECF6",
              "width": 0.5
             },
             "pattern": {
              "fillmode": "overlay",
              "size": 10,
              "solidity": 0.2
             }
            },
            "type": "barpolar"
           }
          ],
          "carpet": [
           {
            "aaxis": {
             "endlinecolor": "#2a3f5f",
             "gridcolor": "white",
             "linecolor": "white",
             "minorgridcolor": "white",
             "startlinecolor": "#2a3f5f"
            },
            "baxis": {
             "endlinecolor": "#2a3f5f",
             "gridcolor": "white",
             "linecolor": "white",
             "minorgridcolor": "white",
             "startlinecolor": "#2a3f5f"
            },
            "type": "carpet"
           }
          ],
          "choropleth": [
           {
            "colorbar": {
             "outlinewidth": 0,
             "ticks": ""
            },
            "type": "choropleth"
           }
          ],
          "contour": [
           {
            "colorbar": {
             "outlinewidth": 0,
             "ticks": ""
            },
            "colorscale": [
             [
              0,
              "#0d0887"
             ],
             [
              0.1111111111111111,
              "#46039f"
             ],
             [
              0.2222222222222222,
              "#7201a8"
             ],
             [
              0.3333333333333333,
              "#9c179e"
             ],
             [
              0.4444444444444444,
              "#bd3786"
             ],
             [
              0.5555555555555556,
              "#d8576b"
             ],
             [
              0.6666666666666666,
              "#ed7953"
             ],
             [
              0.7777777777777778,
              "#fb9f3a"
             ],
             [
              0.8888888888888888,
              "#fdca26"
             ],
             [
              1,
              "#f0f921"
             ]
            ],
            "type": "contour"
           }
          ],
          "contourcarpet": [
           {
            "colorbar": {
             "outlinewidth": 0,
             "ticks": ""
            },
            "type": "contourcarpet"
           }
          ],
          "heatmap": [
           {
            "colorbar": {
             "outlinewidth": 0,
             "ticks": ""
            },
            "colorscale": [
             [
              0,
              "#0d0887"
             ],
             [
              0.1111111111111111,
              "#46039f"
             ],
             [
              0.2222222222222222,
              "#7201a8"
             ],
             [
              0.3333333333333333,
              "#9c179e"
             ],
             [
              0.4444444444444444,
              "#bd3786"
             ],
             [
              0.5555555555555556,
              "#d8576b"
             ],
             [
              0.6666666666666666,
              "#ed7953"
             ],
             [
              0.7777777777777778,
              "#fb9f3a"
             ],
             [
              0.8888888888888888,
              "#fdca26"
             ],
             [
              1,
              "#f0f921"
             ]
            ],
            "type": "heatmap"
           }
          ],
          "histogram": [
           {
            "marker": {
             "pattern": {
              "fillmode": "overlay",
              "size": 10,
              "solidity": 0.2
             }
            },
            "type": "histogram"
           }
          ],
          "histogram2d": [
           {
            "colorbar": {
             "outlinewidth": 0,
             "ticks": ""
            },
            "colorscale": [
             [
              0,
              "#0d0887"
             ],
             [
              0.1111111111111111,
              "#46039f"
             ],
             [
              0.2222222222222222,
              "#7201a8"
             ],
             [
              0.3333333333333333,
              "#9c179e"
             ],
             [
              0.4444444444444444,
              "#bd3786"
             ],
             [
              0.5555555555555556,
              "#d8576b"
             ],
             [
              0.6666666666666666,
              "#ed7953"
             ],
             [
              0.7777777777777778,
              "#fb9f3a"
             ],
             [
              0.8888888888888888,
              "#fdca26"
             ],
             [
              1,
              "#f0f921"
             ]
            ],
            "type": "histogram2d"
           }
          ],
          "histogram2dcontour": [
           {
            "colorbar": {
             "outlinewidth": 0,
             "ticks": ""
            },
            "colorscale": [
             [
              0,
              "#0d0887"
             ],
             [
              0.1111111111111111,
              "#46039f"
             ],
             [
              0.2222222222222222,
              "#7201a8"
             ],
             [
              0.3333333333333333,
              "#9c179e"
             ],
             [
              0.4444444444444444,
              "#bd3786"
             ],
             [
              0.5555555555555556,
              "#d8576b"
             ],
             [
              0.6666666666666666,
              "#ed7953"
             ],
             [
              0.7777777777777778,
              "#fb9f3a"
             ],
             [
              0.8888888888888888,
              "#fdca26"
             ],
             [
              1,
              "#f0f921"
             ]
            ],
            "type": "histogram2dcontour"
           }
          ],
          "mesh3d": [
           {
            "colorbar": {
             "outlinewidth": 0,
             "ticks": ""
            },
            "type": "mesh3d"
           }
          ],
          "parcoords": [
           {
            "line": {
             "colorbar": {
              "outlinewidth": 0,
              "ticks": ""
             }
            },
            "type": "parcoords"
           }
          ],
          "pie": [
           {
            "automargin": true,
            "type": "pie"
           }
          ],
          "scatter": [
           {
            "fillpattern": {
             "fillmode": "overlay",
             "size": 10,
             "solidity": 0.2
            },
            "type": "scatter"
           }
          ],
          "scatter3d": [
           {
            "line": {
             "colorbar": {
              "outlinewidth": 0,
              "ticks": ""
             }
            },
            "marker": {
             "colorbar": {
              "outlinewidth": 0,
              "ticks": ""
             }
            },
            "type": "scatter3d"
           }
          ],
          "scattercarpet": [
           {
            "marker": {
             "colorbar": {
              "outlinewidth": 0,
              "ticks": ""
             }
            },
            "type": "scattercarpet"
           }
          ],
          "scattergeo": [
           {
            "marker": {
             "colorbar": {
              "outlinewidth": 0,
              "ticks": ""
             }
            },
            "type": "scattergeo"
           }
          ],
          "scattergl": [
           {
            "marker": {
             "colorbar": {
              "outlinewidth": 0,
              "ticks": ""
             }
            },
            "type": "scattergl"
           }
          ],
          "scattermap": [
           {
            "marker": {
             "colorbar": {
              "outlinewidth": 0,
              "ticks": ""
             }
            },
            "type": "scattermap"
           }
          ],
          "scattermapbox": [
           {
            "marker": {
             "colorbar": {
              "outlinewidth": 0,
              "ticks": ""
             }
            },
            "type": "scattermapbox"
           }
          ],
          "scatterpolar": [
           {
            "marker": {
             "colorbar": {
              "outlinewidth": 0,
              "ticks": ""
             }
            },
            "type": "scatterpolar"
           }
          ],
          "scatterpolargl": [
           {
            "marker": {
             "colorbar": {
              "outlinewidth": 0,
              "ticks": ""
             }
            },
            "type": "scatterpolargl"
           }
          ],
          "scatterternary": [
           {
            "marker": {
             "colorbar": {
              "outlinewidth": 0,
              "ticks": ""
             }
            },
            "type": "scatterternary"
           }
          ],
          "surface": [
           {
            "colorbar": {
             "outlinewidth": 0,
             "ticks": ""
            },
            "colorscale": [
             [
              0,
              "#0d0887"
             ],
             [
              0.1111111111111111,
              "#46039f"
             ],
             [
              0.2222222222222222,
              "#7201a8"
             ],
             [
              0.3333333333333333,
              "#9c179e"
             ],
             [
              0.4444444444444444,
              "#bd3786"
             ],
             [
              0.5555555555555556,
              "#d8576b"
             ],
             [
              0.6666666666666666,
              "#ed7953"
             ],
             [
              0.7777777777777778,
              "#fb9f3a"
             ],
             [
              0.8888888888888888,
              "#fdca26"
             ],
             [
              1,
              "#f0f921"
             ]
            ],
            "type": "surface"
           }
          ],
          "table": [
           {
            "cells": {
             "fill": {
              "color": "#EBF0F8"
             },
             "line": {
              "color": "white"
             }
            },
            "header": {
             "fill": {
              "color": "#C8D4E3"
             },
             "line": {
              "color": "white"
             }
            },
            "type": "table"
           }
          ]
         },
         "layout": {
          "annotationdefaults": {
           "arrowcolor": "#2a3f5f",
           "arrowhead": 0,
           "arrowwidth": 1
          },
          "autotypenumbers": "strict",
          "coloraxis": {
           "colorbar": {
            "outlinewidth": 0,
            "ticks": ""
           }
          },
          "colorscale": {
           "diverging": [
            [
             0,
             "#8e0152"
            ],
            [
             0.1,
             "#c51b7d"
            ],
            [
             0.2,
             "#de77ae"
            ],
            [
             0.3,
             "#f1b6da"
            ],
            [
             0.4,
             "#fde0ef"
            ],
            [
             0.5,
             "#f7f7f7"
            ],
            [
             0.6,
             "#e6f5d0"
            ],
            [
             0.7,
             "#b8e186"
            ],
            [
             0.8,
             "#7fbc41"
            ],
            [
             0.9,
             "#4d9221"
            ],
            [
             1,
             "#276419"
            ]
           ],
           "sequential": [
            [
             0,
             "#0d0887"
            ],
            [
             0.1111111111111111,
             "#46039f"
            ],
            [
             0.2222222222222222,
             "#7201a8"
            ],
            [
             0.3333333333333333,
             "#9c179e"
            ],
            [
             0.4444444444444444,
             "#bd3786"
            ],
            [
             0.5555555555555556,
             "#d8576b"
            ],
            [
             0.6666666666666666,
             "#ed7953"
            ],
            [
             0.7777777777777778,
             "#fb9f3a"
            ],
            [
             0.8888888888888888,
             "#fdca26"
            ],
            [
             1,
             "#f0f921"
            ]
           ],
           "sequentialminus": [
            [
             0,
             "#0d0887"
            ],
            [
             0.1111111111111111,
             "#46039f"
            ],
            [
             0.2222222222222222,
             "#7201a8"
            ],
            [
             0.3333333333333333,
             "#9c179e"
            ],
            [
             0.4444444444444444,
             "#bd3786"
            ],
            [
             0.5555555555555556,
             "#d8576b"
            ],
            [
             0.6666666666666666,
             "#ed7953"
            ],
            [
             0.7777777777777778,
             "#fb9f3a"
            ],
            [
             0.8888888888888888,
             "#fdca26"
            ],
            [
             1,
             "#f0f921"
            ]
           ]
          },
          "colorway": [
           "#636efa",
           "#EF553B",
           "#00cc96",
           "#ab63fa",
           "#FFA15A",
           "#19d3f3",
           "#FF6692",
           "#B6E880",
           "#FF97FF",
           "#FECB52"
          ],
          "font": {
           "color": "#2a3f5f"
          },
          "geo": {
           "bgcolor": "white",
           "lakecolor": "white",
           "landcolor": "#E5ECF6",
           "showlakes": true,
           "showland": true,
           "subunitcolor": "white"
          },
          "hoverlabel": {
           "align": "left"
          },
          "hovermode": "closest",
          "mapbox": {
           "style": "light"
          },
          "paper_bgcolor": "white",
          "plot_bgcolor": "#E5ECF6",
          "polar": {
           "angularaxis": {
            "gridcolor": "white",
            "linecolor": "white",
            "ticks": ""
           },
           "bgcolor": "#E5ECF6",
           "radialaxis": {
            "gridcolor": "white",
            "linecolor": "white",
            "ticks": ""
           }
          },
          "scene": {
           "xaxis": {
            "backgroundcolor": "#E5ECF6",
            "gridcolor": "white",
            "gridwidth": 2,
            "linecolor": "white",
            "showbackground": true,
            "ticks": "",
            "zerolinecolor": "white"
           },
           "yaxis": {
            "backgroundcolor": "#E5ECF6",
            "gridcolor": "white",
            "gridwidth": 2,
            "linecolor": "white",
            "showbackground": true,
            "ticks": "",
            "zerolinecolor": "white"
           },
           "zaxis": {
            "backgroundcolor": "#E5ECF6",
            "gridcolor": "white",
            "gridwidth": 2,
            "linecolor": "white",
            "showbackground": true,
            "ticks": "",
            "zerolinecolor": "white"
           }
          },
          "shapedefaults": {
           "line": {
            "color": "#2a3f5f"
           }
          },
          "ternary": {
           "aaxis": {
            "gridcolor": "white",
            "linecolor": "white",
            "ticks": ""
           },
           "baxis": {
            "gridcolor": "white",
            "linecolor": "white",
            "ticks": ""
           },
           "bgcolor": "#E5ECF6",
           "caxis": {
            "gridcolor": "white",
            "linecolor": "white",
            "ticks": ""
           }
          },
          "title": {
           "x": 0.05
          },
          "xaxis": {
           "automargin": true,
           "gridcolor": "white",
           "linecolor": "white",
           "ticks": "",
           "title": {
            "standoff": 15
           },
           "zerolinecolor": "white",
           "zerolinewidth": 2
          },
          "yaxis": {
           "automargin": true,
           "gridcolor": "white",
           "linecolor": "white",
           "ticks": "",
           "title": {
            "standoff": 15
           },
           "zerolinecolor": "white",
           "zerolinewidth": 2
          }
         }
        },
        "title": {
         "text": "Inclusion Ratio vs Sequence DTW",
         "x": 0.5,
         "xanchor": "center"
        },
        "width": 900,
        "xaxis": {
         "range": [
          0.4375,
          1
         ],
         "title": {
          "text": "Inclusion Ratio"
         }
        },
        "yaxis": {
         "range": [
          0,
          1
         ],
         "title": {
          "text": "Similarity (mean ± std)"
         }
        }
       }
      }
     },
     "metadata": {},
     "output_type": "display_data"
    },
    {
     "data": {
      "application/vnd.plotly.v1+json": {
       "config": {
        "plotlyServerURL": "https://plot.ly"
       },
       "data": [
        {
         "error_y": {
          "array": {
           "bdata": "AAAAAAAAAAAss7aOE0arPzCkgbFAX8E/Qy0FBFc/sD8MjavectW9P3rmsgEHgsA/XWm23nZkwz8bNleXI0fFPw==",
           "dtype": "f8"
          },
          "color": "blue",
          "type": "data",
          "visible": true
         },
         "line": {
          "color": "blue",
          "dash": "solid"
         },
         "marker": {
          "size": 8,
          "symbol": "circle"
         },
         "mode": "lines+markers",
         "name": "ours-strict",
         "type": "scatter",
         "x": [
          0.0625,
          0.1875,
          0.3125,
          0.4375,
          0.5625,
          0.6875,
          0.8125,
          0.9375
         ],
         "y": {
          "bdata": "hiZLV64j2D9ExNMZL2bkPz6v9UEPrd4/G9r3Zjn84D9RdUE+UzLgP2O7Wg8tveE/q5I1l5Ea5D+sxbr//z3mPw==",
          "dtype": "f8"
         }
        },
        {
         "error_y": {
          "array": {
           "bdata": "+VywgcBDzj/jA5WSAUTCPx+f4qVIa6s/YXgAttaZvT9UxyCqjxLCPzreMKG8i7U/jHRt++P0wj8=",
           "dtype": "f8"
          },
          "color": "red",
          "type": "data",
          "visible": true
         },
         "line": {
          "color": "red",
          "dash": "dot"
         },
         "marker": {
          "size": 8,
          "symbol": "square"
         },
         "mode": "lines+markers",
         "name": "baseline1-strict",
         "type": "scatter",
         "x": [
          0.0625,
          0.1875,
          0.3125,
          0.4375,
          0.5625,
          0.6875,
          0.8125,
          0.9375
         ],
         "y": {
          "bdata": "6UdEqDw54T8UKJuKXDTjP6HByg7Yd9w//7rzNBFx4D+XS9asRgfiPwfOtFQkLeU/2ShaNWgA5T8=",
          "dtype": "f8"
         }
        },
        {
         "error_y": {
          "array": {
           "bdata": "pbC0olxOnz8kih+wMv+/P9y7mZEEn8M/jLzHizWGvj/0TPm56YW7Pxsv1sglqL8/6Wdw8j+avz/Q/aZz083APw==",
           "dtype": "f8"
          },
          "color": "green",
          "type": "data",
          "visible": true
         },
         "line": {
          "color": "green",
          "dash": "dash"
         },
         "marker": {
          "size": 8,
          "symbol": "diamond"
         },
         "mode": "lines+markers",
         "name": "baseline2-strict",
         "type": "scatter",
         "x": [
          0.0625,
          0.1875,
          0.3125,
          0.4375,
          0.5625,
          0.6875,
          0.8125,
          0.9375
         ],
         "y": {
          "bdata": "JGJ+TQaM4D9ceoUn9mziP8kyWfrw5uE/6ydPmiJz4D9n488LX7fgP8i14wB48+M/1Ye/Kg0S5D8GejMXmirmPw==",
          "dtype": "f8"
         }
        }
       ],
       "layout": {
        "height": 500,
        "legend": {
         "title": {
          "text": "Legend"
         },
         "x": 0.01,
         "y": 0.05
        },
        "template": {
         "data": {
          "bar": [
           {
            "error_x": {
             "color": "#2a3f5f"
            },
            "error_y": {
             "color": "#2a3f5f"
            },
            "marker": {
             "line": {
              "color": "#E5ECF6",
              "width": 0.5
             },
             "pattern": {
              "fillmode": "overlay",
              "size": 10,
              "solidity": 0.2
             }
            },
            "type": "bar"
           }
          ],
          "barpolar": [
           {
            "marker": {
             "line": {
              "color": "#E5ECF6",
              "width": 0.5
             },
             "pattern": {
              "fillmode": "overlay",
              "size": 10,
              "solidity": 0.2
             }
            },
            "type": "barpolar"
           }
          ],
          "carpet": [
           {
            "aaxis": {
             "endlinecolor": "#2a3f5f",
             "gridcolor": "white",
             "linecolor": "white",
             "minorgridcolor": "white",
             "startlinecolor": "#2a3f5f"
            },
            "baxis": {
             "endlinecolor": "#2a3f5f",
             "gridcolor": "white",
             "linecolor": "white",
             "minorgridcolor": "white",
             "startlinecolor": "#2a3f5f"
            },
            "type": "carpet"
           }
          ],
          "choropleth": [
           {
            "colorbar": {
             "outlinewidth": 0,
             "ticks": ""
            },
            "type": "choropleth"
           }
          ],
          "contour": [
           {
            "colorbar": {
             "outlinewidth": 0,
             "ticks": ""
            },
            "colorscale": [
             [
              0,
              "#0d0887"
             ],
             [
              0.1111111111111111,
              "#46039f"
             ],
             [
              0.2222222222222222,
              "#7201a8"
             ],
             [
              0.3333333333333333,
              "#9c179e"
             ],
             [
              0.4444444444444444,
              "#bd3786"
             ],
             [
              0.5555555555555556,
              "#d8576b"
             ],
             [
              0.6666666666666666,
              "#ed7953"
             ],
             [
              0.7777777777777778,
              "#fb9f3a"
             ],
             [
              0.8888888888888888,
              "#fdca26"
             ],
             [
              1,
              "#f0f921"
             ]
            ],
            "type": "contour"
           }
          ],
          "contourcarpet": [
           {
            "colorbar": {
             "outlinewidth": 0,
             "ticks": ""
            },
            "type": "contourcarpet"
           }
          ],
          "heatmap": [
           {
            "colorbar": {
             "outlinewidth": 0,
             "ticks": ""
            },
            "colorscale": [
             [
              0,
              "#0d0887"
             ],
             [
              0.1111111111111111,
              "#46039f"
             ],
             [
              0.2222222222222222,
              "#7201a8"
             ],
             [
              0.3333333333333333,
              "#9c179e"
             ],
             [
              0.4444444444444444,
              "#bd3786"
             ],
             [
              0.5555555555555556,
              "#d8576b"
             ],
             [
              0.6666666666666666,
              "#ed7953"
             ],
             [
              0.7777777777777778,
              "#fb9f3a"
             ],
             [
              0.8888888888888888,
              "#fdca26"
             ],
             [
              1,
              "#f0f921"
             ]
            ],
            "type": "heatmap"
           }
          ],
          "histogram": [
           {
            "marker": {
             "pattern": {
              "fillmode": "overlay",
              "size": 10,
              "solidity": 0.2
             }
            },
            "type": "histogram"
           }
          ],
          "histogram2d": [
           {
            "colorbar": {
             "outlinewidth": 0,
             "ticks": ""
            },
            "colorscale": [
             [
              0,
              "#0d0887"
             ],
             [
              0.1111111111111111,
              "#46039f"
             ],
             [
              0.2222222222222222,
              "#7201a8"
             ],
             [
              0.3333333333333333,
              "#9c179e"
             ],
             [
              0.4444444444444444,
              "#bd3786"
             ],
             [
              0.5555555555555556,
              "#d8576b"
             ],
             [
              0.6666666666666666,
              "#ed7953"
             ],
             [
              0.7777777777777778,
              "#fb9f3a"
             ],
             [
              0.8888888888888888,
              "#fdca26"
             ],
             [
              1,
              "#f0f921"
             ]
            ],
            "type": "histogram2d"
           }
          ],
          "histogram2dcontour": [
           {
            "colorbar": {
             "outlinewidth": 0,
             "ticks": ""
            },
            "colorscale": [
             [
              0,
              "#0d0887"
             ],
             [
              0.1111111111111111,
              "#46039f"
             ],
             [
              0.2222222222222222,
              "#7201a8"
             ],
             [
              0.3333333333333333,
              "#9c179e"
             ],
             [
              0.4444444444444444,
              "#bd3786"
             ],
             [
              0.5555555555555556,
              "#d8576b"
             ],
             [
              0.6666666666666666,
              "#ed7953"
             ],
             [
              0.7777777777777778,
              "#fb9f3a"
             ],
             [
              0.8888888888888888,
              "#fdca26"
             ],
             [
              1,
              "#f0f921"
             ]
            ],
            "type": "histogram2dcontour"
           }
          ],
          "mesh3d": [
           {
            "colorbar": {
             "outlinewidth": 0,
             "ticks": ""
            },
            "type": "mesh3d"
           }
          ],
          "parcoords": [
           {
            "line": {
             "colorbar": {
              "outlinewidth": 0,
              "ticks": ""
             }
            },
            "type": "parcoords"
           }
          ],
          "pie": [
           {
            "automargin": true,
            "type": "pie"
           }
          ],
          "scatter": [
           {
            "fillpattern": {
             "fillmode": "overlay",
             "size": 10,
             "solidity": 0.2
            },
            "type": "scatter"
           }
          ],
          "scatter3d": [
           {
            "line": {
             "colorbar": {
              "outlinewidth": 0,
              "ticks": ""
             }
            },
            "marker": {
             "colorbar": {
              "outlinewidth": 0,
              "ticks": ""
             }
            },
            "type": "scatter3d"
           }
          ],
          "scattercarpet": [
           {
            "marker": {
             "colorbar": {
              "outlinewidth": 0,
              "ticks": ""
             }
            },
            "type": "scattercarpet"
           }
          ],
          "scattergeo": [
           {
            "marker": {
             "colorbar": {
              "outlinewidth": 0,
              "ticks": ""
             }
            },
            "type": "scattergeo"
           }
          ],
          "scattergl": [
           {
            "marker": {
             "colorbar": {
              "outlinewidth": 0,
              "ticks": ""
             }
            },
            "type": "scattergl"
           }
          ],
          "scattermap": [
           {
            "marker": {
             "colorbar": {
              "outlinewidth": 0,
              "ticks": ""
             }
            },
            "type": "scattermap"
           }
          ],
          "scattermapbox": [
           {
            "marker": {
             "colorbar": {
              "outlinewidth": 0,
              "ticks": ""
             }
            },
            "type": "scattermapbox"
           }
          ],
          "scatterpolar": [
           {
            "marker": {
             "colorbar": {
              "outlinewidth": 0,
              "ticks": ""
             }
            },
            "type": "scatterpolar"
           }
          ],
          "scatterpolargl": [
           {
            "marker": {
             "colorbar": {
              "outlinewidth": 0,
              "ticks": ""
             }
            },
            "type": "scatterpolargl"
           }
          ],
          "scatterternary": [
           {
            "marker": {
             "colorbar": {
              "outlinewidth": 0,
              "ticks": ""
             }
            },
            "type": "scatterternary"
           }
          ],
          "surface": [
           {
            "colorbar": {
             "outlinewidth": 0,
             "ticks": ""
            },
            "colorscale": [
             [
              0,
              "#0d0887"
             ],
             [
              0.1111111111111111,
              "#46039f"
             ],
             [
              0.2222222222222222,
              "#7201a8"
             ],
             [
              0.3333333333333333,
              "#9c179e"
             ],
             [
              0.4444444444444444,
              "#bd3786"
             ],
             [
              0.5555555555555556,
              "#d8576b"
             ],
             [
              0.6666666666666666,
              "#ed7953"
             ],
             [
              0.7777777777777778,
              "#fb9f3a"
             ],
             [
              0.8888888888888888,
              "#fdca26"
             ],
             [
              1,
              "#f0f921"
             ]
            ],
            "type": "surface"
           }
          ],
          "table": [
           {
            "cells": {
             "fill": {
              "color": "#EBF0F8"
             },
             "line": {
              "color": "white"
             }
            },
            "header": {
             "fill": {
              "color": "#C8D4E3"
             },
             "line": {
              "color": "white"
             }
            },
            "type": "table"
           }
          ]
         },
         "layout": {
          "annotationdefaults": {
           "arrowcolor": "#2a3f5f",
           "arrowhead": 0,
           "arrowwidth": 1
          },
          "autotypenumbers": "strict",
          "coloraxis": {
           "colorbar": {
            "outlinewidth": 0,
            "ticks": ""
           }
          },
          "colorscale": {
           "diverging": [
            [
             0,
             "#8e0152"
            ],
            [
             0.1,
             "#c51b7d"
            ],
            [
             0.2,
             "#de77ae"
            ],
            [
             0.3,
             "#f1b6da"
            ],
            [
             0.4,
             "#fde0ef"
            ],
            [
             0.5,
             "#f7f7f7"
            ],
            [
             0.6,
             "#e6f5d0"
            ],
            [
             0.7,
             "#b8e186"
            ],
            [
             0.8,
             "#7fbc41"
            ],
            [
             0.9,
             "#4d9221"
            ],
            [
             1,
             "#276419"
            ]
           ],
           "sequential": [
            [
             0,
             "#0d0887"
            ],
            [
             0.1111111111111111,
             "#46039f"
            ],
            [
             0.2222222222222222,
             "#7201a8"
            ],
            [
             0.3333333333333333,
             "#9c179e"
            ],
            [
             0.4444444444444444,
             "#bd3786"
            ],
            [
             0.5555555555555556,
             "#d8576b"
            ],
            [
             0.6666666666666666,
             "#ed7953"
            ],
            [
             0.7777777777777778,
             "#fb9f3a"
            ],
            [
             0.8888888888888888,
             "#fdca26"
            ],
            [
             1,
             "#f0f921"
            ]
           ],
           "sequentialminus": [
            [
             0,
             "#0d0887"
            ],
            [
             0.1111111111111111,
             "#46039f"
            ],
            [
             0.2222222222222222,
             "#7201a8"
            ],
            [
             0.3333333333333333,
             "#9c179e"
            ],
            [
             0.4444444444444444,
             "#bd3786"
            ],
            [
             0.5555555555555556,
             "#d8576b"
            ],
            [
             0.6666666666666666,
             "#ed7953"
            ],
            [
             0.7777777777777778,
             "#fb9f3a"
            ],
            [
             0.8888888888888888,
             "#fdca26"
            ],
            [
             1,
             "#f0f921"
            ]
           ]
          },
          "colorway": [
           "#636efa",
           "#EF553B",
           "#00cc96",
           "#ab63fa",
           "#FFA15A",
           "#19d3f3",
           "#FF6692",
           "#B6E880",
           "#FF97FF",
           "#FECB52"
          ],
          "font": {
           "color": "#2a3f5f"
          },
          "geo": {
           "bgcolor": "white",
           "lakecolor": "white",
           "landcolor": "#E5ECF6",
           "showlakes": true,
           "showland": true,
           "subunitcolor": "white"
          },
          "hoverlabel": {
           "align": "left"
          },
          "hovermode": "closest",
          "mapbox": {
           "style": "light"
          },
          "paper_bgcolor": "white",
          "plot_bgcolor": "#E5ECF6",
          "polar": {
           "angularaxis": {
            "gridcolor": "white",
            "linecolor": "white",
            "ticks": ""
           },
           "bgcolor": "#E5ECF6",
           "radialaxis": {
            "gridcolor": "white",
            "linecolor": "white",
            "ticks": ""
           }
          },
          "scene": {
           "xaxis": {
            "backgroundcolor": "#E5ECF6",
            "gridcolor": "white",
            "gridwidth": 2,
            "linecolor": "white",
            "showbackground": true,
            "ticks": "",
            "zerolinecolor": "white"
           },
           "yaxis": {
            "backgroundcolor": "#E5ECF6",
            "gridcolor": "white",
            "gridwidth": 2,
            "linecolor": "white",
            "showbackground": true,
            "ticks": "",
            "zerolinecolor": "white"
           },
           "zaxis": {
            "backgroundcolor": "#E5ECF6",
            "gridcolor": "white",
            "gridwidth": 2,
            "linecolor": "white",
            "showbackground": true,
            "ticks": "",
            "zerolinecolor": "white"
           }
          },
          "shapedefaults": {
           "line": {
            "color": "#2a3f5f"
           }
          },
          "ternary": {
           "aaxis": {
            "gridcolor": "white",
            "linecolor": "white",
            "ticks": ""
           },
           "baxis": {
            "gridcolor": "white",
            "linecolor": "white",
            "ticks": ""
           },
           "bgcolor": "#E5ECF6",
           "caxis": {
            "gridcolor": "white",
            "linecolor": "white",
            "ticks": ""
           }
          },
          "title": {
           "x": 0.05
          },
          "xaxis": {
           "automargin": true,
           "gridcolor": "white",
           "linecolor": "white",
           "ticks": "",
           "title": {
            "standoff": 15
           },
           "zerolinecolor": "white",
           "zerolinewidth": 2
          },
          "yaxis": {
           "automargin": true,
           "gridcolor": "white",
           "linecolor": "white",
           "ticks": "",
           "title": {
            "standoff": 15
           },
           "zerolinecolor": "white",
           "zerolinewidth": 2
          }
         }
        },
        "title": {
         "text": "Inclusion Ratio vs Sequence DTW Similarity",
         "x": 0.5,
         "xanchor": "center"
        },
        "width": 900,
        "xaxis": {
         "range": [
          0.4375,
          1
         ],
         "title": {
          "text": "Inclusion Ratio"
         }
        },
        "yaxis": {
         "range": [
          0,
          1
         ],
         "title": {
          "text": "Similarity (mean ± std)"
         }
        }
       }
      }
     },
     "metadata": {},
     "output_type": "display_data"
    }
   ],
   "source": [
    "\n",
    "#plot\n",
    "print(df_eval_rag.shape[0])\n",
    "#Select한 ratio가 높은게 좋은게 아니라, 정답중에 얼마나 골랐느냐와 고른 것중에 정답이 얼마나 있었는가가 더 중요하다.\n",
    "plot_multiple_selection_vs_inclusion([\n",
    "    (df_eval_rag, efil3_human_rag, \"ours-humaneval\"),\n",
    "    (df_eval_rag, efil3_both_rag, \"ours-strict\"),\n",
    "    (df_eval_norag, efil3_human_norag, \"norag-humaneval\"),\n",
    "    (df_eval_norag, efil3_both_norag, \"norag-strict\"),\n",
    "], bins=1, title_str='strict evaluator')\n",
    "\n",
    "plot_multiple_selection_vs_inclusion([\n",
    "    (df_eval_rag, efil3_human_rag, \"ours-humaneval\"),\n",
    "    (df_eval_rag, efil3_both_rag, \"ours-strict\"),\n",
    "    (df_eval_norag, efil3_human_norag, \"norag-humaneval\"),\n",
    "    (df_eval_norag, efil3_both_norag, \"norag-strict\"),\n",
    "], bins=5, title_str='strict evaluator')\n",
    "\n",
    "plot_multiple_selection_vs_inclusion([\n",
    "    (df_eval_rag, efil3_human_rag, \"ours-human\"),\n",
    "    (df_eval_norag, efil3_both_rag, \"ours-strict\"),\n",
    "], bins=5, title_str='strict evaluator')\n",
    "\n",
    "plot_multiple_selection_vs_inclusion([\n",
    "    (df_eval_rag, efil3_human_norag, \"baseline1-human\"),\n",
    "    (df_eval_norag, efil3_both_norag, \"baseline1-strict\"),\n",
    "], bins=5, title_str='strict evaluator')\n",
    "\n",
    "plot_multiple_selection_vs_inclusion([\n",
    "    (df_eval_raggoal, efil3_human_raggoal, \"baseline2-human\"),\n",
    "    (df_eval_raggoal, efil3_raggoal, \"baseline2-strict\"),\n",
    "], bins=5, title_str='strict evaluator')\n",
    "\n",
    "# plot_multiple_selection_vs_inclusion([\n",
    "#     (df_eval_raggoal, efil3_raggoal, \"baseline2\"),\n",
    "#     (df_eval_noraggoal, efil3_noraggoal, \"baseline3\"),\n",
    "# ], bins=5, title_str='strict evaluator')\n",
    "\n",
    "\n",
    "print(\"=================================================\")\n",
    "print(\"SIMILARITY vs INCLUSION\")\n",
    "print(\"=================================================\")\n",
    "\n",
    "plot_similarity_vs_inclusion(\n",
    "    [\n",
    "    (efil3_human_rag, \"ours-human\"),\n",
    "    (efil3_human_norag, \"baseline1-human\"),\n",
    "    ],\n",
    "    title_str=\"Inclusion Ratio vs Taxonomy Weighted Similarity\",\n",
    "    bins=8, column_name='sim_tax3'\n",
    "    )\n",
    "\n",
    "plot_similarity_vs_inclusion(\n",
    "    [\n",
    "    (efil3_human_rag, \"ours-human\"),\n",
    "    (efil3_human_norag, \"baseline1-human\"),\n",
    "    (efil3_human_raggoal, \"baseline2-human\")\n",
    "    ],\n",
    "    title_str=\"Inclusion Ratio vs Sequence DTW\",\n",
    "    bins=8, column_name='sim_seq3'\n",
    "    )\n",
    "\n",
    "plot_similarity_vs_inclusion(\n",
    "    [\n",
    "    (efil3_both_rag, \"ours-strict\"),\n",
    "    (efil3_both_norag, \"baseline1-strict\"),\n",
    "    (efil3_raggoal, \"baseline2-strict\")\n",
    "    ],\n",
    "    title_str=\"Inclusion Ratio vs Sequence DTW Similarity\",\n",
    "    bins=8, column_name='sim_seq3'\n",
    "    )\n",
    "    "
   ]
  },
  {
   "cell_type": "code",
   "execution_count": null,
   "id": "024af0a8",
   "metadata": {},
   "outputs": [],
   "source": [
    "# Plot True Positive and False Positive in Bar Graph for all strict baselines\n",
    "#Select한 ratio가 높은게 좋은게 아니라, 정답중에 얼마나 골랐느냐와 고른 것중에 정답이 얼마나 있었는가가 더 중요하다.\n",
    "\n",
    "# Bin1\n",
    "\n",
    "\n",
    "# Bin5"
   ]
  }
 ],
 "metadata": {
  "kernelspec": {
   "display_name": "Python 3",
   "language": "python",
   "name": "python3"
  },
  "language_info": {
   "codemirror_mode": {
    "name": "ipython",
    "version": 3
   },
   "file_extension": ".py",
   "mimetype": "text/x-python",
   "name": "python",
   "nbconvert_exporter": "python",
   "pygments_lexer": "ipython3",
   "version": "3.10.12"
  }
 },
 "nbformat": 4,
 "nbformat_minor": 5
}
