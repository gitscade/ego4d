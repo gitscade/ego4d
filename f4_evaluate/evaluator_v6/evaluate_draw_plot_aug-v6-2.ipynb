{
 "cells": [
  {
   "cell_type": "markdown",
   "id": "325a1267",
   "metadata": {},
   "source": [
    "# Evaluate Plots V2\n",
    "\n",
    "test pair에 대한 iteration을 수행한다.\n",
    "\n",
    "1. pickle을 통해서 모든 아이템을 다 읽는다.\n",
    "2. 현재 source sequence를 읽는다.\n",
    "3. scene similarity를 읽는다.\n",
    "- mistral로 계산한 inclusion ratio\n",
    "- 직접 계산한 entity similarity\n",
    "\n",
    "4. action sequence similarity를 계산한다.\n",
    "- agent4 필터 통과와 상관없이 플롯\n",
    "- agent4 필터를 통과하면 플롯\n",
    "\n",
    "5. activity taxnomy similarity를 계산한다.\n",
    "- agent4 필터 통과와 상관없이 플롯\n",
    "- agent4 필터를 통과하면 플롯\n",
    "\n",
    "\n",
    "다음의 pandas colum을 구성한다. (568x13 정도 되나?)\n",
    "\n",
    "없는 곳은 None표시를 한다.\n",
    "\n",
    "source idx, target idx, \n",
    "augmentation_id, inclusion_ratio, entity_similarity\n",
    "goal_category, goal_description\n",
    "core activity_gt, core activity_inf\n",
    "sequence sim, taxonomy sim\n",
    "sequence bool, taxonomy bool"
   ]
  },
  {
   "cell_type": "code",
   "execution_count": null,
   "id": "c38f736f",
   "metadata": {},
   "outputs": [
    {
     "name": "stderr",
     "output_type": "stream",
     "text": [
      "/usr/local/lib/python3.10/dist-packages/tslearn/bases/bases.py:15: UserWarning: h5py not installed, hdf5 features will not be supported.\n",
      "Install h5py to use hdf5 features: http://docs.h5py.org/\n",
      "  warn(h5py_msg)\n"
     ]
    },
    {
     "name": "stdout",
     "output_type": "stream",
     "text": [
      "/root/project/data/ego4d_annotation/goalstep/\n",
      "all: goalstep vids: 717\n",
      "all: spatial vids: 211\n",
      "dbinit: testuid excluded: goalstep vids: 646\n",
      "dbinit: testuid excluded: spatial vids: 140\n",
      "dbinit: testuid list: test goalstep vids: 71\n",
      "dbinit: testuid list: test spatial vids: 71\n",
      "dbinit: MAKE_DOCU: goalstep_document_list: 38613\n",
      "dbinit: MAKE_DOCU: goalstep_document_list: 1366\n",
      "dbinit: MAKE_DOCU: spatial_document_list: 1243\n",
      "dbinit: MAKE_DOCUAKE: spatial_document_list: 752\n",
      "LOAD FAISS GOALSTEP: /root/project/data/ego4d_annotation/goalstep_docarray_faiss\n",
      "LOAD FAISS SPATIAL: /root/project/data/ego4d_annotation/spatial_docarray_faiss\n"
     ]
    }
   ],
   "source": [
    "# %matplotlib qt\n",
    "import sys\n",
    "import os\n",
    "import numpy as np\n",
    "import json\n",
    "import torch\n",
    "import matplotlib.pyplot as plt\n",
    "import mplcursors\n",
    "from sklearn.manifold import TSNE\n",
    "from sentence_transformers import SentenceTransformer\n",
    "from fastdtw import fastdtw\n",
    "from scipy.spatial.distance import cosine\n",
    "from bert_score import score\n",
    "import pickle\n",
    "\n",
    "#soft dtw\n",
    "import torch\n",
    "from tslearn.metrics import soft_dtw\n",
    "\n",
    "sys.path.append(os.path.abspath('/root/project')) # add root path to sys.path\n",
    "sys.path.append(os.path.abspath('/usr/local/lib/python3.10/dist-packages'))\n",
    "from util import util_constants\n",
    "from util import util_funcs\n",
    "import f4_evaluate.evaluate_scene as evaluate_scene\n",
    "import f1_init.database_init as database_init\n",
    "import f1_init.agent_init as agent_init\n",
    "import f1_init.constants_init as constants_init\n",
    "\n",
    "#Computing similarity\n",
    "import json\n",
    "from sentence_transformers import SentenceTransformer\n",
    "from bert_score import score\n",
    "import numpy as np\n",
    "from numpy.linalg import norm\n",
    "import ast\n",
    "import pandas as pd\n",
    "\n",
    "#PATHSd\n",
    "PATH_CURR_FOLDER = os.path.abspath('') \n",
    "PATH_DATA_ANNOTATION = os.path.abspath(os.path.join(PATH_CURR_FOLDER, '..', 'data_annotation'))\n",
    "PATH_DATA_INPUT_OUTPUT = os.path.abspath(os.path.join(PATH_CURR_FOLDER, '..', 'data_input_output'))\n",
    "PATH_SOURCE_TARGET_INPUT = os.path.abspath(os.path.join(PATH_CURR_FOLDER, '..', 'data_input_output/input/source_target_video_list.pkl'))\n",
    "TEST_SPATIAL_ANNOTATION_PATH_MANUAL = PATH_DATA_ANNOTATION + '/spatial_testset/manual'\n",
    "\n",
    "#BASELINE RESULT PATHS for v5\n",
    "# PATH_BASELINE_RAG = os.path.abspath(os.path.join(PATH_CURR_FOLDER, '..', 'data_input_output/output-rag-0530-runall-newratio/'))\n",
    "# PATH_BASELINE_NORAG = os.path.abspath(os.path.join(PATH_CURR_FOLDER, '..', 'data_input_output/output-norag-0530-runall-newratio/'))\n",
    "# PATH_BASELINE_1DIRECT = os.path.abspath(os.path.join(PATH_CURR_FOLDER, '..', 'data_input_output/output-1direct-0530-runall-newratio/'))\n",
    "# PATH_BASELINE_1GOALMEDIATION = os.path.abspath(os.path.join(PATH_CURR_FOLDER, '..', 'data_input_output/output-1goalmediation-0530-runall-newratio/'))\n",
    "\n",
    "#BASELINE FROM v6\n",
    "PATH_BASELINE_RAG = os.path.abspath(os.path.join(PATH_CURR_FOLDER, '..', 'data_input_output/output-rag-0602/'))\n",
    "PATH_BASELINE_NORAG = os.path.abspath(os.path.join(PATH_CURR_FOLDER, '..', 'data_input_output/output-norag-0602/'))\n",
    "PATH_BASELINE_RAGGOAL = os.path.abspath(os.path.join(PATH_CURR_FOLDER, '..', 'data_input_output/output-1goalmediation-0602/'))\n",
    "PATH_BASELINE_NORAGGOAL = os.path.abspath(os.path.join(PATH_CURR_FOLDER, '..', 'data_input_output/output-1goalmediation-norag-0602/'))\n"
   ]
  },
  {
   "cell_type": "code",
   "execution_count": 7,
   "id": "1d59639f",
   "metadata": {},
   "outputs": [],
   "source": [
    "def load_file(path):\n",
    "    try:          \n",
    "         with open(path, \"rb\") as f:\n",
    "             data = pickle.load(f)\n",
    "             return data\n",
    "    except:\n",
    "         return None\n",
    "    \n",
    "def check_file(path):\n",
    "    try:\n",
    "        with open(path, \"rb\") as f:\n",
    "            pickle.load(f)  # try loading to ensure file is not empty or corrupted\n",
    "        return True\n",
    "    except (EOFError, FileNotFoundError, PermissionError, IsADirectoryError, pickle.UnpicklingError):\n",
    "        return False\n",
    "\n",
    "def normalize_to_string(value):\n",
    "    '''\n",
    "    used so to cope with value from a dictionary that happens to be inside a list bracket    \n",
    "    '''\n",
    "    # If it's a list and the first element is a string, return that\n",
    "    if isinstance(value, list) and len(value) > 0 and isinstance(value[0], str):\n",
    "        return value[0]\n",
    "    # If it's already a string, return it\n",
    "    elif isinstance(value, str):\n",
    "        return value\n",
    "    # Fallback for anything else\n",
    "    else:\n",
    "        return str(value)\n",
    "    \n",
    "#=====================================\n",
    "# SIMILARITIES v1 SINGLE STRING SBERT MODEL\n",
    "#=====================================\n",
    "def cosine_similarity(vec1, vec2):\n",
    "    vec1 = np.array(vec1)\n",
    "    vec2 = np.array(vec2)\n",
    "    if norm(vec1) == 0 or norm(vec2) == 0:\n",
    "        return 0.0\n",
    "    return np.dot(vec1, vec2) / (norm(vec1) * norm(vec2))\n",
    "\n",
    "def safe_parse_sequence(seq):\n",
    "    if seq is None:\n",
    "        return []\n",
    "    if isinstance(seq, list):\n",
    "        return seq\n",
    "    try:\n",
    "        return ast.literal_eval(seq)\n",
    "    except (ValueError, SyntaxError):\n",
    "        print(\"taxonomy safe parse value error\")\n",
    "        return []\n",
    "\n",
    "def safe_parse_taxonomy(tax):\n",
    "    if tax is None:\n",
    "        return {}\n",
    "    if isinstance(tax, dict):\n",
    "        return tax\n",
    "    try:\n",
    "        return json.loads(tax)\n",
    "    except (json.JSONDecodeError, TypeError):\n",
    "        return {}\n",
    "\n",
    "def compute_similarities(entry, embed_model):\n",
    "    # --- Parse sequences ---\n",
    "    source_seq = safe_parse_sequence(entry.get('source_sequence'))\n",
    "    target_seq = safe_parse_sequence(entry.get('target_sequence'))\n",
    "\n",
    "    if not source_seq or not target_seq:\n",
    "        seq_similarity = 0.0\n",
    "    else:\n",
    "        source_seq_str = ' '.join(source_seq)\n",
    "        target_seq_str = ' '.join(target_seq)\n",
    "        source_seq_emb = embed_model.encode(source_seq_str)\n",
    "        target_seq_emb = embed_model.encode(target_seq_str)\n",
    "        seq_similarity = cosine_similarity(source_seq_emb, target_seq_emb)\n",
    "\n",
    "    # --- Parse taxonomies ---\n",
    "    source_tax = safe_parse_taxonomy(entry.get('source_taxonomy'))\n",
    "    target_tax = safe_parse_taxonomy(entry.get('target_taxonomy'))\n",
    "\n",
    "    if not source_tax or not target_tax:\n",
    "        tax_similarity = 0.0\n",
    "    else:\n",
    "        source_tax_str = ' '.join(f\"{k}: {v}\" for k, v in source_tax.items())\n",
    "        target_tax_str = ' '.join(f\"{k}: {v}\" for k, v in target_tax.items())\n",
    "        source_tax_emb = embed_model.encode(source_tax_str)\n",
    "        target_tax_emb = embed_model.encode(target_tax_str)\n",
    "        tax_similarity = cosine_similarity(source_tax_emb, target_tax_emb)\n",
    "\n",
    "    return seq_similarity, tax_similarity\n",
    "\n",
    "#=====================================\n",
    "# SIMILARITIES v2 WEIGHTED LINEAR TAXONOMY SEMANTICS MODEL\n",
    "# weight by level\n",
    "# Compare only values\n",
    "#=====================================\n",
    "def compute_weighted_tax_similarity(entry, embed_model):\n",
    "    '''\n",
    "    func: calculate weighted taxonomy for values only\n",
    "    input: entry: dict element of baseline results\n",
    "    input: embed_model: stuff like sbert of openaiembedding\n",
    "    w = [0.5,0.2,0.1,0.1,0.1]\n",
    "    no source or target: return 0\n",
    "    source empty for 0th level: return 0\n",
    "    1 empty/impossible for both in non-0th: consider as +1.0*w[i]\n",
    "    2 one empty/impossible: +0.0*w[i]\n",
    "    3 +sim(val_source, val_target)*w[i]\n",
    "    return \n",
    "    '''\n",
    "    weighted_tax_similarity = 0\n",
    "    weights = [0.5, 0.2, 0.1, 0.1, 0.1]\n",
    "    source_tax = safe_parse_taxonomy(entry.get('source_taxonomy'))\n",
    "    target_tax = safe_parse_taxonomy(entry.get('target_taxonomy'))\n",
    "\n",
    "    if not source_tax or not target_tax:\n",
    "        weighted_tax_similarity = 0.0\n",
    "        print(f\"No files: entry: {entry}\")\n",
    "        return weighted_tax_similarity\n",
    "    else:\n",
    "        source_items = list(source_tax.items())\n",
    "        target_items = list(target_tax.items())\n",
    "        weighted_tax_similarity = 0\n",
    "\n",
    "        for i in range(len(source_items)):\n",
    "\n",
    "            if len(source_items) != 5:\n",
    "                print(f\"items {len(source_items)} {len(target_items)}\")\n",
    "                weighted_tax_similarity = 0.0\n",
    "                return weighted_tax_similarity\n",
    "            \n",
    "            source_key, source_value = source_items[i]\n",
    "            target_key, target_value = target_items[i]\n",
    "            source_value = normalize_to_string(source_value)\n",
    "            target_value = normalize_to_string(target_value)\n",
    "\n",
    "            # set impossible to empty\n",
    "            if source_value ==\"impossible\":\n",
    "                source_value = \"empty\"\n",
    "            if target_value == \"impossible\":\n",
    "                target_value = \"empty\"\n",
    "\n",
    "\n",
    "            # source is empty for most upper ZERO similarity\n",
    "            if i == 0 and source_value == \"empty\":\n",
    "                weighted_tax_similarity = 0.0\n",
    "                print(f\"0th level empty: entry: {entry}\")\n",
    "                return weighted_tax_similarity\n",
    "            \n",
    "            # source is there but target has value\n",
    "            if source_value != \"empty\" and target_value == \"empty\":\n",
    "                weighted_tax_similarity += 0.0\n",
    "            elif source_value == \"empty\" and target_value != \"empty\":\n",
    "                weighted_tax_similarity += 0.0\n",
    "            elif source_value == \"empty\" and target_value == \"empty\":\n",
    "                weighted_tax_similarity += weights[i]\n",
    "            else:\n",
    "                print(f\"{i}th level: {source_value} {target_value}\")\n",
    "                source_value_emb = embed_model.encode(source_value)\n",
    "                target_value_emb = embed_model.encode(target_value)\n",
    "                weighted_tax_similarity += weights[i] * cosine_similarity(source_value_emb, target_value_emb)\n",
    "\n",
    "    return weighted_tax_similarity\n",
    "\n",
    "def compute_dtw_seq_similarity(entry, embed_model):\n",
    "    '''\n",
    "    compute dynamic time warping similarity between two sequences\n",
    "    '''\n",
    "    seq_similarity =[]\n",
    "    source_seq = safe_parse_sequence(entry.get('source_sequence'))\n",
    "    target_seq = safe_parse_sequence(entry.get('target_sequence'))\n",
    "\n",
    "    if not source_seq or not target_seq:\n",
    "        seq_similarity = 0.0\n",
    "    else:\n",
    "        # Get embeddings for each step in both sequences\n",
    "        emb1 = embed_model.encode(source_seq)\n",
    "        emb2 = embed_model.encode(target_seq)\n",
    "        distance, path = fastdtw(emb1, emb2, dist=cosine)\n",
    "        # Normalize distance to similarity (lower distance = higher similarity)\n",
    "        # Optional: convert to similarity score in [0, 1] range\n",
    "        max_possible_distance = len(path)  # worst case = all pairs unrelated\n",
    "        seq_similarity = 1 - (distance / max_possible_distance)\n",
    "\n",
    "    return seq_similarity\n",
    "\n",
    "\n",
    "def compute_soft_dtw(entry, embed_model):\n",
    "    '''\n",
    "    compute dynamic time warping similarity between two sequences\n",
    "    '''\n",
    "    seq_similarity =[]\n",
    "    source_seq = safe_parse_sequence(entry.get('source_sequence'))\n",
    "    target_seq = safe_parse_sequence(entry.get('target_sequence'))  \n",
    "\n",
    "    if not source_seq or not target_seq:\n",
    "        seq_similarity = 0.0\n",
    "    else:\n",
    "        # Get embeddings for each step in both sequences\n",
    "        emb1 = embed_model.encode(source_seq)\n",
    "        emb2 = embed_model.encode(target_seq)\n",
    "        distance, path = fastdtw(emb1, emb2, dist=cosine)\n",
    "        # Normalize distance to similarity (lower distance = higher similarity)\n",
    "        # Optional: convert to similarity score in [0, 1] range\n",
    "        max_possible_distance = len(path)  # worst case = all pairs unrelated\n",
    "        seq_similarity = 1 - (distance / max_possible_distance)\n",
    "\n",
    "    return seq_similarity\n",
    "\n",
    "#=====================================\n",
    "# functions for reading raw v6 results\n",
    "#=====================================\n",
    "def df_inclusion_ratio(baseline_result_path:str, baseline:str):\n",
    "    dict_list=[]\n",
    "    augmodes = [33.3, 66.6, 100]#from v6\n",
    "    length = 71 * len(augmodes) #8levels, 8files    \n",
    "    for i in range(length):\n",
    "        dict = {\"inclusion_ratio\":None}\n",
    "        prefix = f\"pair{i}_\" \n",
    "        sourceinfo_dict = load_file(baseline_result_path + \"/\" + prefix + \"sourceinfo.pkl\")  \n",
    "        dict['inclusion_ratio'] = sourceinfo_dict['spatial_similarity']\n",
    "        dict_list.append(dict)\n",
    "    return pd.DataFrame(dict_list)   \n",
    "\n",
    "def check_missing_index(baseline_result_path:str, baseline:str):\n",
    "    '''\n",
    "    func: return list of missing index for earlier agent set.\n",
    "    output: dict_list of {idx:int, agent:\"agent_name\"} that if missing\n",
    "    '''\n",
    "    dict_list =[]\n",
    "    # augmodes = [30, 40, 50, 60, 70, 80, 90, 100]#until v5\n",
    "    augmodes = [33.3, 66.6, 100]#from v6\n",
    "    length = 71 * len(augmodes) #8levels, 8files    \n",
    "\n",
    "    # daseline different loadout \n",
    "    for i in range(length):\n",
    "        prefix = f\"pair{i}_\" \n",
    "        path_source = baseline_result_path +\"/\"+ prefix + \"sourceinfo.pkl\"\n",
    "        path_target = baseline_result_path +\"/\"+ prefix + \"targetinfo.pkl\"\n",
    "        path_agent1a = baseline_result_path +\"/\"+ prefix + \"agent1a.pkl\"\n",
    "        path_agent1b = baseline_result_path +\"/\"+ prefix + \"agent1b.pkl\"\n",
    "        path_agent2a = baseline_result_path +\"/\"+ prefix + \"agent2a.pkl\"\n",
    "        path_agent2b = baseline_result_path +\"/\"+ prefix + \"agent2b.pkl\"\n",
    "        path_agent3 = baseline_result_path +\"/\"+ prefix + \"agent3.pkl\"\n",
    "        path_agent4 = baseline_result_path +\"/\"+ prefix + \"agent4.pkl\"        \n",
    "        if baseline == \"1direct\":\n",
    "            if not check_file(path_source):\n",
    "                dict_list.append({\"idx\": i, \"agent\": \"sourceinfo\"})\n",
    "                continue\n",
    "            if not check_file(path_target):\n",
    "                dict_list.append({\"idx\": i, \"agent\": \"targetinfo\"})\n",
    "                continue         \n",
    "            if not check_file(path_agent3):\n",
    "                dict_list.append({\"idx\": i, \"agent\": \"agent3\"})\n",
    "                continue                \n",
    "            # if not check_file(path_agent4):\n",
    "            #     dict_list.append({\"idx\": i, \"agent\": \"agent4\"})\n",
    "            #     continue                \n",
    "           \n",
    "        if baseline == \"1goalmediation\":\n",
    "            if not check_file(path_source):\n",
    "                dict_list.append({\"idx\": i, \"agent\": \"sourceinfo\"})\n",
    "                continue\n",
    "            if not check_file(path_target):\n",
    "                dict_list.append({\"idx\": i, \"agent\": \"targetinfo\"})\n",
    "                continue\n",
    "            if not check_file(path_agent1a):\n",
    "                dict_list.append({\"idx\": i, \"agent\": \"agent1a\"})\n",
    "                continue               \n",
    "            if not check_file(path_agent3):\n",
    "                dict_list.append({\"idx\": i, \"agent\": \"agent3\"})\n",
    "                continue               \n",
    "            if not check_file(path_agent4):\n",
    "                dict_list.append({\"idx\": i, \"agent\": \"agent4\"})\n",
    "                continue                  \n",
    "\n",
    "        if baseline == \"raggoal\" or baseline == \"noraggoal\" :\n",
    "            if not check_file(path_source):\n",
    "                dict_list.append({\"idx\": i, \"agent\": \"sourceinfo\"})\n",
    "                continue\n",
    "            if not check_file(path_target):\n",
    "                dict_list.append({\"idx\": i, \"agent\": \"targetinfo\"})\n",
    "                continue\n",
    "            if not check_file(path_agent1a):\n",
    "                dict_list.append({\"idx\": i, \"agent\": \"agent1a\"})\n",
    "                continue               \n",
    "            if not check_file(path_agent3):\n",
    "                dict_list.append({\"idx\": i, \"agent\": \"agent3\"})\n",
    "                continue               \n",
    "            if not check_file(path_agent4):\n",
    "                dict_list.append({\"idx\": i, \"agent\": \"agent4\"})\n",
    "                continue   \n",
    "\n",
    "        elif baseline == \"rag\" or baseline ==\"norag\":\n",
    "            if not check_file(path_source):\n",
    "                dict_list.append({\"idx\": i, \"agent\": \"sourceinfo\"})\n",
    "                continue\n",
    "            if not check_file(path_target):\n",
    "                dict_list.append({\"idx\": i, \"agent\": \"targetinfo\"})\n",
    "                continue\n",
    "            if not check_file(path_agent1a):\n",
    "                dict_list.append({\"idx\": i, \"agent\": \"agent1a\"})\n",
    "                continue       \n",
    "            if not check_file(path_agent1b):\n",
    "                dict_list.append({\"idx\": i, \"agent\": \"agent1b\"})\n",
    "                continue             \n",
    "            if not check_file(path_agent2a):\n",
    "                dict_list.append({\"idx\": i, \"agent\": \"agent2a\"})\n",
    "                continue          \n",
    "            if not check_file(path_agent2b):\n",
    "                dict_list.append({\"idx\": i, \"agent\": \"agent2b\"})\n",
    "                continue        \n",
    "            if not check_file(path_agent3):\n",
    "                dict_list.append({\"idx\": i, \"agent\": \"agent3\"})\n",
    "                continue                                    \n",
    "            if not check_file(path_agent4):\n",
    "                dict_list.append({\"idx\": i, \"agent\": \"agent4\"})\n",
    "                continue               \n",
    "\n",
    "    return dict_list                                  \n",
    "\n",
    "def make_singlebaseline_list(baseline_result_path:str, baseline:str):\n",
    "    '''\n",
    "    func: make single baseline list\n",
    "    '''\n",
    "    baseline_result_path = baseline_result_path + \"/\"\n",
    "    baseline_results = []\n",
    "    # augmodes = [30, 40, 50, 60, 70, 80, 90, 100]#until v5\n",
    "    augmodes = [33.3, 66.6, 100]#from v6\n",
    "    length = 71 * len(augmodes) #8levels, 8files    \n",
    "\n",
    "    \n",
    "    for i in range(length):\n",
    "    # for i in range(568):\n",
    "        print(i)\n",
    "        dict = {\n",
    "            \"idx\":None,\"source_idx\":None, \"target_idx\":None, \"source_uid\": None, \"target_uid\": None, \"baseline\": None, \"augmode\": None, \n",
    "            \"source_sequence\": None, \"source_scene_graph\": None, \"target_scene_graph\": None, \n",
    "            \"inclusion_ratio\":None, #\"pairwise_similarity\": None,\n",
    "            #\"sequence_similarity_sbert\": None, \"taxonomy_similarity_sbert\":None\n",
    "            }\n",
    "\n",
    "        prefix = f\"pair{i}_\"\n",
    "        augmode = i%len(augmodes)\n",
    "        # FILL RAW DATA\n",
    "        # print(i)\n",
    "        sourceinfo_dict = load_file(baseline_result_path + prefix + \"sourceinfo.pkl\")\n",
    "        targetinfo_dict = load_file(baseline_result_path + prefix + \"targetinfo.pkl\")\n",
    "        dict[\"idx\"] = i\n",
    "        dict[\"source_idx\"] = sourceinfo_dict['source_idx']\n",
    "        dict[\"target_idx\"] = targetinfo_dict['target_idx']\n",
    "        dict[\"source_uid\"] = sourceinfo_dict['source_uid']\n",
    "        dict[\"target_uid\"] = targetinfo_dict['target_uid']\n",
    "        dict[\"baseline\"] = baseline\n",
    "        dict[\"augmode\"] = augmode\n",
    "\n",
    "\n",
    "        dict['source_sequence'] =sourceinfo_dict['source_action_sequence']\n",
    "        dict['source_sequence'] = dict['source_sequence'].strip('\"').split(', ') #make into list\n",
    "\n",
    "        dict['source_scene_graph'] =sourceinfo_dict['source_scene_graph']\n",
    "        dict['target_scene_graph'] =targetinfo_dict['target_scene_graph']\n",
    "\n",
    "        \n",
    "        # based on baselines 1direct, 1goalmediation [\"rag\",\"norag\",\"raggoal\",\"noraggoal\"]#from v6\n",
    "        if baseline == \"1direct\":\n",
    "            dict['target_sequence'] =load_file(baseline_result_path + prefix + \"agent3.pkl\")\n",
    "        elif baseline == \"1goalmediation\":\n",
    "            dict['target_sequence'] =load_file(baseline_result_path + prefix + \"agent3.pkl\")\n",
    "            dict['core_activity'] =load_file(baseline_result_path + prefix + \"agent1a.pkl\")\n",
    "        elif baseline == \"raggoal\" or baseline == \"noraggoal\":\n",
    "            dict['target_sequence'] =load_file(baseline_result_path + prefix + \"agent3.pkl\")\n",
    "            dict['core_activity'] =load_file(baseline_result_path + prefix + \"agent1a.pkl\")            \n",
    "        elif baseline == \"rag\" or baseline ==\"norag\":\n",
    "            dict['target_sequence'] =load_file(baseline_result_path + prefix + \"agent3.pkl\")\n",
    "            dict['core_activity'] =load_file(baseline_result_path + prefix + \"agent1a.pkl\")\n",
    "            dict['source_taxonomy'] =load_file(baseline_result_path + prefix + \"agent1b.pkl\")\n",
    "            dict['common_taxonomy'] =load_file(baseline_result_path + prefix + \"agent2a.pkl\")\n",
    "            dict['target_taxonomy'] =load_file(baseline_result_path + prefix + \"agent2b.pkl\")            \n",
    "\n",
    "\n",
    "        booleans= load_file(baseline_result_path+prefix+\"agent4.pkl\")\n",
    "        if(booleans == None):\n",
    "            ## No values whatsover\n",
    "            dict[\"sequence_boolean\"] = False\n",
    "            dict[\"taxonomy_boolean\"] = False \n",
    "        else:\n",
    "            values = [\n",
    "                line.split(\":\")[1].strip()\n",
    "                for line in booleans.strip().splitlines()\n",
    "                if \":\" in line\n",
    "            ]\n",
    "            # print(values)\n",
    "            dict[\"taxonomy_boolean\"] = True if values[0] == 'yes' else False\n",
    "            dict[\"sequence_boolean\"] = True if values[1] == 'yes' else False\n",
    "            # print(f\"{dict['taxonomy_boolean']} {dict['sequence_boolean']}\")\n",
    "        \n",
    "        dict['inclusion_ratio'] = sourceinfo_dict['spatial_similarity']\n",
    "        #dict['pairwise_similarity'] = compare_scene_graph(dict['source_scene_graph'], dict['target_scene_graph'])\n",
    "        # SBERT for block level semantics\n",
    "\n",
    "        if dict['target_sequence'] != None:\n",
    "            \n",
    "            # Preprocess sequece to make sequence a single string\n",
    "            \n",
    "            dict['target_sequence'] = ast.literal_eval(dict['target_sequence'])\n",
    "            print(dict['target_sequence'])\n",
    "            dict['target_sequence'] = [\", \".join(dict['target_sequence'])] # to single item\n",
    "            dict['source_sequence'] = [\", \".join(dict['source_sequence'])]# to single item\n",
    "            \n",
    "            # print(dict['source_taxonomy'])\n",
    "            # print(dict['target_taxonomy'])\n",
    "\n",
    "            sequence_similarity_sbert, taxonomy_similarity_sbert = compute_similarities(dict, sbert_model)\n",
    "            dict[\"sequence_similarity_sbert\"]= sequence_similarity_sbert\n",
    "            dict[\"taxonomy_similarity_sbert\"]= taxonomy_similarity_sbert\n",
    "\n",
    "            taxonomy_weighted_similarity = compute_weighted_tax_similarity(dict, sbert_model)\n",
    "            dict[\"taxonomy_weighted_similarity\"] = taxonomy_weighted_similarity\n",
    "            sequence_dtw_similarity = compute_dtw_seq_similarity(dict, sbert_model)\n",
    "            dict[\"sequence_dtw_similarity\"] = sequence_dtw_similarity\n",
    "            # print(dict[\"taxonomy_similarity_sbert\"])\n",
    "\n",
    "            # BERTSCORE for little more stepwise precision in similarity measurement\n",
    "            # print(len(dict['target_sequence']))\n",
    "            # print(len(dict['source_sequence']))\n",
    "            # print(dict['target_sequence'])\n",
    "            # print(dict['source_sequence'])# not inside bracket\n",
    "            # print(dict['target_taxonomy'])\n",
    "            # print(dict['source_taxonomy'])\n",
    "\n",
    "            #takes very long\n",
    "            # dict[\"sequence_b_P\"], dict[\"sequence_b_R\"], dict[\"sequence_b_F1\"] = score(dict['target_sequence'], dict['source_sequence'], lang=\"en\", rescale_with_baseline=True)\n",
    "\n",
    "            #This part gives trouble\n",
    "            # dict[\"taxonomy_b_P\"], dict[\"taxonomy_b_R\"], dict[\"taxonomy_b_F1\"] =score(dict['target_taxonomy'], dict['source_taxonomy'], lang=\"en\", rescale_with_baseline=True)\n",
    "        baseline_results.append(dict)\n",
    "    return baseline_results\n",
    "\n",
    "#====================================\n",
    "# dataframe related functions\n",
    "#====================================\n",
    "def read_dicts2list(path):\n",
    "    dict_list = []\n",
    "    file_paths = os.listdir(path)\n",
    "    for i in range(len(file_paths)):\n",
    "        file_path = path + f\"/evaluator_{i}.pkl\"\n",
    "        with open(file_path, 'rb') as f:\n",
    "            dict = pickle.load(f)\n",
    "            dict_list.append(dict)\n",
    "    return dict_list\n",
    "\n",
    "def read_json_utf8(path):\n",
    "    with open(path, 'r', encoding='utf-8') as f:\n",
    "        dict = json.load(path)\n",
    "    return dict\n",
    "\n",
    "def convert_dtypes(df):\n",
    "    if df.shape[1] == 13:  # goal baseline\n",
    "        conversion_strings = ['entity_check_seq', 'core_check_seq', 'human_check_tax', 'human_check_seq']\n",
    "    elif df.shape[1] == 16:  # goal baseline\n",
    "        conversion_strings = ['entity_check_seq', 'core_check_seq', 'human_check_tax', 'human_check_seq']        \n",
    "    elif df.shape[1] == 19:  # ours baseline\n",
    "        conversion_strings = ['entity_check_tax', 'entity_check_seq', 'core_check_tax', 'core_check_seq', 'human_check_tax', 'human_check_seq']\n",
    "    elif df.shape[1] ==22: #ours human\n",
    "        conversion_strings = ['entity_check_tax', 'entity_check_seq', 'core_check_tax', 'core_check_seq', 'human_check_tax', 'human_check_seq'] \n",
    "    else:\n",
    "        print(\"convert_dtypes: THIS FUNC NEEDS ADJUSTMENT\")\n",
    "        return df\n",
    "\n",
    "    for col in conversion_strings:\n",
    "        if col in df.columns:\n",
    "            df[col] = df[col].map(lambda x: True if str(x).lower() == 'true' or x == 1 else False)\n",
    "        else:\n",
    "            print(f\"Warning: column '{col}' not found in DataFrame\")\n",
    "\n",
    "    return df"
   ]
  },
  {
   "cell_type": "markdown",
   "id": "6d12e164",
   "metadata": {},
   "source": [
    "## Read Results\n",
    "\n",
    "make dictionary\n",
    "-fill every information\n",
    "-fill every calculatable information\n",
    "-save as df"
   ]
  },
  {
   "cell_type": "code",
   "execution_count": 9,
   "id": "cdf074b6",
   "metadata": {},
   "outputs": [],
   "source": [
    "\n",
    "source_list = [] # [0,0,0,0,1,1,1,1,...,283] -> [0,1,2,3,..71,0,1,2,3,4..71,...71]\n",
    "target_list = [] # [augno_0: 55, aug33_0: 33,aug67_0: 28,aug100_0: 22,...] -> [55,26,22,...]\n",
    "# baselines = [\"rag\",\"norag\",\"1direct\",\"1goalmediation\"] #until v5\n",
    "baselines = [\"rag\",\"norag\",\"raggoal\",\"noraggoal\"]#from v6\n",
    "sbert_model = SentenceTransformer('all-MiniLM-L6-v2')\n",
    "\n",
    "# baseline_rag_missing_dict = check_missing_index(PATH_BASELINE_RAG, baselines[0])\n",
    "# baseline_norag_missing_dict = check_missing_index(PATH_BASELINE_NORAG, baselines[1])\n",
    "# # baseline_1direct_missing_dict = check_missing_index(PATH_BASELINE_1DIRECT, baselines[2])\n",
    "# # baseline_1goalmediation_missing_dict = check_missing_index(PATH_BASELINE_1GOALMEDIATION, baselines[3])\n",
    "# baseline_raggoal_missing_dict = check_missing_index(PATH_BASELINE_RAGGOAL, baselines[2])\n",
    "# baseline_noraggoal_missing_dict = check_missing_index(PATH_BASELINE_NORAGGOAL, baselines[3])\n",
    "\n",
    "# print(len(baseline_rag_missing_dict))\n",
    "# print(baseline_rag_missing_dict)\n",
    "# # print(len(baseline_norag_missing_dict))\n",
    "# # print(baseline_norag_missing_dict)\n",
    "# print(len(baseline_raggoal_missing_dict))\n",
    "# print(baseline_raggoal_missing_dict)\n",
    "# print(len(baseline_noraggoal_missing_dict))\n",
    "# print(baseline_noraggoal_missing_dict)\n",
    "\n",
    "# baseline_rag_list = make_singlebaseline_list(PATH_BASELINE_RAG, baselines[0])\n",
    "# baseline_norag_list = make_singlebaseline_list(PATH_BASELINE_NORAG, baselines[1])\n",
    "# # baseline_1direct_list = make_singlebaseline_list(PATH_BASELINE_1DIRECT, baselines[2])\n",
    "# # baseline_1goalmediation_list = make_singlebaseline_list(PATH_BASELINE_1GOALMEDIATION, baselines[3])\n",
    "# baseline_raggoal_list = make_singlebaseline_list(PATH_BASELINE_RAGGOAL, baselines[2])\n",
    "# baseline_noraggoal_list = make_singlebaseline_list(PATH_BASELINE_NORAGGOAL, baselines[3])\n",
    "\n",
    "\n",
    "# rag_inclusion_ratio = df_inclusion_ratio(PATH_BASELINE_RAG, baselines[0])\n",
    "# norag_inclusion_ratio = df_inclusion_ratio(PATH_BASELINE_NORAG, baselines[1])\n",
    "# raggoal_inclusion_ratio = df_inclusion_ratio(PATH_BASELINE_RAGGOAL, baselines[2])\n",
    "# noraggoal_inclusion_ratio = df_inclusion_ratio(PATH_BASELINE_NORAGGOAL, baselines[3])\n",
    "\n",
    "# print(f\"{len(baseline_rag_list)} {len(baseline_rag_list[0])}\")\n",
    "# print(f\"{len(baseline_norag_list)} {len(baseline_norag_list[0])}\")\n",
    "# print(f\"{len(baseline_raggoal_list)} {len(baseline_raggoal_list[0])}\")\n",
    "# print(f\"{len(baseline_noraggoal_list)} {len(baseline_noraggoal_list[0])}\")"
   ]
  },
  {
   "cell_type": "markdown",
   "id": "27bcc30a",
   "metadata": {},
   "source": [
    "## Perform Numerical Calculation of Results\n",
    "\n",
    "### base results\n",
    "- pairwise scene similarity\n",
    "- seq2seq similarity\n",
    "- seq2seq taxonomy similarity\n",
    "### plot\n",
    "- per scenario similarity analysis\n",
    "- per augmentation, per scenario similarity analysis\n",
    "- per scenario similarity vs similarity\n",
    "\n"
   ]
  },
  {
   "cell_type": "code",
   "execution_count": 10,
   "id": "6f81421b",
   "metadata": {},
   "outputs": [],
   "source": [
    "\n",
    "def mask_nan_df(df):\n",
    "    mask = df.isna().any(axis=1)\n",
    "    df.loc[mask, :] = np.nan \n",
    "    \n",
    "def mask_nan_df_or_condition(df, columns_to_check):\n",
    "    '''\n",
    "    input: columns_to_check = [\"col1\", \"col2\"]\n",
    "    '''\n",
    "    mask = df[columns_to_check].isna().any(axis=1)\n",
    "    df.loc[mask, :] = np.nan    \n",
    "\n",
    "def save_baseline_list(path, baseline_list):\n",
    "    with open(path, 'wb') as f:\n",
    "        pickle.dump(baseline_list, f)\n",
    "        print(f\"saved baseline list at {path}\")\n",
    "\n",
    "# turn list of dictionary into dataframe\n",
    "# df_rag = pd.DataFrame(baseline_rag_list)\n",
    "\n",
    "# df_rag = pd.DataFrame(baseline_rag_list)\n",
    "# # mask_nan_df_or_condition(df_rag, [\"target_taxonomy\",\"target_sequence\"])\n",
    "\n",
    "# df_norag = pd.DataFrame(baseline_norag_list)\n",
    "# # mask_nan_df_or_condition(df_norag, [\"target_taxonomy\",\"target_sequence\"])\n",
    "\n",
    "# # df_1direct = pd.DataFrame(baseline_1direct_list)\n",
    "# # mask_nan_df_or_condition(df_1direct, [\"target_sequence\"])\n",
    "# # # print(df_1direct.head())\n",
    "\n",
    "# # df_1goalmediation = pd.DataFrame(baseline_1goalmediation_list)\n",
    "# # mask_nan_df_or_condition(df_1goalmediation, [\"target_sequence\"])\n",
    "# # # print(df_1goalmediation.head())\n",
    "\n",
    "# df_raggoal = pd.DataFrame(baseline_raggoal_list)\n",
    "# mask_nan_df_or_condition(df_raggoal, [\"target_sequence\"])\n",
    "# # print(df_1direct.head())\n",
    "\n",
    "# df_noraggoal = pd.DataFrame(baseline_noraggoal_list)\n",
    "# mask_nan_df_or_condition(df_noraggoal, [\"target_sequence\"])\n",
    "# # print(df_1goalmediation.head())\n",
    "\n",
    "\n",
    "# baseline_rag_path = 'result_v6/rag_dict.pkl'\n",
    "# baseline_norag_path = 'result_v6/norag_dict.pkl'\n",
    "# # baseline_1direct_path = 'evaluation_result_v4/1direct_dict.pkl'\n",
    "# # baseline_1goalmediation_list_path = 'evaluation_result_v4/1goalmediation_dict.pkl'\n",
    "# baseline_raggoal_path = 'result_v6/raggoal_dict.pkl'\n",
    "# baseline_1noraggoal_list_path = 'result_v6/noraggoal_dict.pkl'\n",
    "\n",
    "# save_baseline_list(baseline_rag_path, baseline_rag_list)\n",
    "# save_baseline_list(baseline_norag_path, baseline_norag_list)\n",
    "# # save_baseline_list(baseline_1direct_path, baseline_1direct_list)\n",
    "# # save_baseline_list(baseline_1goalmediation_list_path, baseline_1goalmediation_list)\n",
    "# save_baseline_list(baseline_raggoal_path, baseline_raggoal_list)\n",
    "# save_baseline_list(baseline_1noraggoal_list_path, baseline_noraggoal_list)\n",
    "\n",
    "\n",
    "# print(df_rag.shape[0])\n",
    "# print(df_norag.shape[0])\n",
    "# # print(df_1direct.shape[0])\n",
    "# # print(df_1goalmediation.shape[0])\n",
    "# print(df_raggoal.shape[0])\n",
    "# print(df_noraggoal.shape[0])\n",
    "\n",
    "# # print(df_rag['sequence_boolean'])\n",
    "# # print(df_norag['sequence_boolean'])\n",
    "\n",
    "# # print(df_rag['taxonomy_boolean'])\n",
    "# # print(df_norag['taxonomy_boolean'])"
   ]
  },
  {
   "cell_type": "code",
   "execution_count": 5,
   "id": "e360a7da",
   "metadata": {},
   "outputs": [],
   "source": [
    "# MANUAL-GOLD, CH-SILVER, ELSE-BRONZE\n",
    "\n",
    "# GOLD (manual)\n",
    "# filtered_df = df[df[\"v1\"].isin(mylist)]\n",
    "gold_list = [\n",
    "\"dcd09fa4-afe2-4a0d-9703-83af2867ebd3\",\n",
    "\"46e07357-6946-4ff0-ba36-ae11840bdc39\",\n",
    "\"026dac2d-2ab3-4f9c-9e1d-6198db4fb080\",\n",
    "\"2f46d1e6-2a85-4d46-b955-10c2eded661c\",\n",
    "\"14bcb17c-f70a-41d5-b10d-294388084dfc\",\n",
    "\"487d752c-6e22-43e3-9c08-627bc2a6c6d4\",\n",
    "\"543e4c99-5d9f-407d-be75-c397d633fe56\",\n",
    "\"24ba7993-7fc8-4447-afd5-7ff6d548b11a\",\n",
    "\"e09a667f-04bc-49b5-8246-daf248a29174\",\n",
    "\"b17ff269-ec2d-4ad8-88aa-b00b75921427\",\n",
    "\"58b2a4a4-b721-4753-bfc3-478cdb5bd1a8\",\n",
    "\"28e0affc-cacb-4db8-ab32-dfc16931b86a\",\n",
    "\"e72082e8-f9e6-42ac-ac45-de30f9adee9d\",\n",
    "\"f0204f83-ea03-4c33-b7e7-13d2188ab3e5\",\n",
    "\"9fabfbc8-1d5c-495e-9bb2-03795f0145ae\",\n",
    "\"01ce4fd6-197a-4792-8778-775b03780369\",\n",
    "\"47bb1fd4-d41f-42b4-8d0c-29c4e9fdff9f\",\n",
    "\"7e8d03f2-2ff9-431d-af81-e5ffcd954a63\",\n",
    "\"89857b33-fa50-469a-bbb3-91c8ab655931\",\n",
    "\"5c2e910c-84e0-4042-b5d6-880a731c3e67\",\n",
    "\"737e9619-7768-407c-8a4f-6fe1e8d61f04\",\n",
    "\"abab0e69-f7e4-40c1-aa58-375798df487a\"\n",
    "]\n",
    "# SILVER (0)\n",
    "silver_list = [\n",
    "\"02a06bf1-51b8-4902-b088-573e29fcd7ec\",\n",
    "\"1dc85adb-fbdd-4275-b9cf-42976acb4d14\",\n",
    "\"2978ddbc-cdc9-4bfa-9a7c-4bf056904010\",\n",
    "\"2bc7d6fa-a02e-4367-b316-d6b4e8a2ce3f\",\n",
    "\"31d6fe77-da70-42da-8f47-66bb79b9285b\",\n",
    "\"321b5e21-2951-40c9-a2f9-6ce0c145cfb8\",\n",
    "\"341b5211-bb72-4bec-bd3d-c0d518887960\",\n",
    "\"35080724-6604-401c-8b06-19b7cece3d45\",\n",
    "\"38a7b760-56f9-4565-8b70-f8dad5768ace\",\n",
    "\"5461912b-69cd-40d7-8f79-50832f92f049\",\n",
    "\"6dafeac7-75b6-4d69-96f7-d08708a0a99e\",\n",
    "\"98434f4c-6216-4067-ad59-4a89cb47bb9b\",\n",
    "\"a267b011-b1db-4e3c-aa49-438e2afdd6dc\",\n",
    "\"b83285c5-0b88-4ced-a52e-5c34ea371507\",\n",
    "\"debfb68a-eae2-464e-847a-cd3fea23f3ca\",\n",
    "\"e4ad6fd7-2e3e-4991-b392-a0056f702286\",\n",
    "\"e6231d1a-1f7f-4198-a499-7635509adfaf\",\n",
    "\"ec3556de-be79-4ad4-aa0f-eaca48abb5d5\",\n",
    "\"ed60dcdb-b273-44e7-b5dc-f9527d7c403f\",\n",
    "\"f5ac654b-8f39-427b-856f-4a9a2d4a3020\",\n",
    "\"fea524d4-a1b6-466c-ac48-8777c3fd173d\"\n",
    "]\n",
    "bronze_list =[\n",
    "\"1a894d3c-b3ef-448a-a3de-2b38677cef36\",\n",
    "\"29e00040-6e0f-4f0e-816d-1ac97c1e5485\",\n",
    "\"2ba0becb-58c2-43a1-97bb-7e153a34eb47\",\n",
    "\"2c27b5f1-4af6-49ad-a43c-3efb0c150868\",\n",
    "\"2da5c1ee-bd40-406d-83a7-2f3d93293949\",\n",
    "\"3728f856-0d47-4614-824f-37b6dda8e357\",\n",
    "\"3ec3eab7-842d-409d-8866-42ddcbd24cd9\",\n",
    "\"4fa75795-ddc4-4582-9715-bb7887439263\",\n",
    "\"56fe0c73-77c4-40d9-a687-b2df28d5f7d7\",\n",
    "\"5c15607b-96af-4503-84b4-d1745f3a3ae0\",\n",
    "\"6628a2fb-19e2-4fe5-aedb-92fe5ceee9c9\",\n",
    "\"690f58f1-f18c-4415-bab0-787c2f83d051\",\n",
    "\"6ac1d2ed-1f6b-4828-a1ab-f81c40bd5e80\",\n",
    "\"748536e4-636a-4dc6-b1a7-d9cbfdc1cffd\",\n",
    "\"892629b0-61eb-425d-97f4-7d213074c435\",\n",
    "\"907fd0e7-6821-4e2d-9c62-6d7afad5a9d1\",\n",
    "\"a6419de9-1e40-4793-b21b-9c8d9038835a\",\n",
    "\"ab7ed4f7-10ee-4ccb-bb21-4853c9018b1e\",\n",
    "\"ae2d99c2-1720-4354-bc4d-f7bc3e4ee28d\",\n",
    "\"b4072935-56a6-4765-bb4d-d5f6bbeb95b9\",\n",
    "\"cf95d6a4-6ad7-462c-9700-9f04bd993667\",\n",
    "\"d7a2e92e-dc74-4e79-be04-a86f829fc3ec\",\n",
    "\"daf5384b-ea5c-4cce-bb8a-540a360075bf\",\n",
    "\"e250017c-16ff-4825-9c30-160f391e1549\",\n",
    "\"edc1869c-8a97-44fd-ab47-63fda4a54df9\",\n",
    "\"grp-690f58f1-f18c-4415-bab0-787c2f83d051\",\n",
    "\"grp-b59f7f5d-2991-49a6-8e88-0e2f2db92585\",\n",
    "\"grp-ffd863cb-f06b-404e-a013-54acb61f1ed9\"\n",
    "]\n"
   ]
  },
  {
   "cell_type": "code",
   "execution_count": null,
   "id": "a828a742",
   "metadata": {},
   "outputs": [],
   "source": [
    "# %matplotlib inline\n",
    "import pandas as pd\n",
    "import matplotlib.pyplot as plt\n",
    "import plotly.express as px\n",
    "import plotly.graph_objects as go\n",
    "\n",
    "\n"
   ]
  },
  {
   "cell_type": "markdown",
   "id": "2e78b119",
   "metadata": {},
   "source": [
    "## v6_evaluator Plots\n",
    "\n",
    "evaluator_1: (core)  \n",
    "evaluator_2: (entity)(core)  \n",
    "evaluator_3: (entity)(sim)(core)  \n",
    "evaluator_h: (entity)(sim)(human)  "
   ]
  },
  {
   "cell_type": "code",
   "execution_count": 12,
   "id": "bd40cf7e",
   "metadata": {},
   "outputs": [
    {
     "name": "stdout",
     "output_type": "stream",
     "text": [
      "/root/project/f4_evaluate/result_v6/human/human-norag.json\n"
     ]
    }
   ],
   "source": [
    "path_eval_results = constants_init.PATH_ROOT + \"f4_evaluate/result_v6/\"\n",
    "baseline_folders = ['output-rag-0602','output-norag-0602','output-1goalmediation-0602','output-1goalmediation-norag-0602']\n",
    "\n",
    "# #---------------------------------------\n",
    "# # read evaluator folder results\n",
    "# #---------------------------------------\n",
    "\n",
    "        \n",
    "# dict_eval_rag = read_dicts2list(path_eval_results + baseline_folders[0])\n",
    "# dict_eval_norag = read_dicts2list(path_eval_results + baseline_folders[1])\n",
    "# dict_eval_raggoal = read_dicts2list(path_eval_results + baseline_folders[2])\n",
    "# dict_eval_noraggoal = read_dicts2list(path_eval_results + baseline_folders[3])\n",
    "\n",
    "# # evaluator dictionaries\n",
    "# df_eval_rag = pd.DataFrame(dict_eval_rag)\n",
    "# df_eval_norag = pd.DataFrame(dict_eval_norag)\n",
    "# df_eval_raggoal = pd.DataFrame(dict_eval_raggoal)\n",
    "# df_eval_noraggoal = pd.DataFrame(dict_eval_noraggoal)\n",
    "\n",
    "# # bool are stored as object type. convert this to bool\n",
    "# df_eval_rag = convert_dtypes(df_eval_rag)\n",
    "# df_eval_norag = convert_dtypes(df_eval_norag)\n",
    "# df_eval_raggoal = convert_dtypes(df_eval_raggoal)\n",
    "# df_eval_noraggoal = convert_dtypes(df_eval_noraggoal)\n",
    "\n",
    "# print(df_eval_norag['core_check_seq'].dtype)\n",
    "\n",
    "# # inclusion ratio must be in the df\n",
    "# rag_inclusion_ratio = df_inclusion_ratio(PATH_BASELINE_RAG, baselines[0])\n",
    "# norag_inclusion_ratio = df_inclusion_ratio(PATH_BASELINE_NORAG, baselines[1])\n",
    "# raggoal_inclusion_ratio = df_inclusion_ratio(PATH_BASELINE_RAGGOAL, baselines[2])\n",
    "# noraggoal_inclusion_ratio = df_inclusion_ratio(PATH_BASELINE_NORAGGOAL, baselines[3])\n",
    "\n",
    "# df_eval_rag = pd.concat([df_eval_rag, rag_inclusion_ratio], axis=1)\n",
    "# df_eval_norag = pd.concat([df_eval_norag, norag_inclusion_ratio], axis=1)\n",
    "# df_eval_raggoal = pd.concat([df_eval_raggoal, raggoal_inclusion_ratio], axis=1)\n",
    "# df_eval_noraggoal = pd.concat([df_eval_noraggoal, noraggoal_inclusion_ratio], axis=1)\n",
    "\n",
    "\n",
    "# #---------------------------------------\n",
    "# # read human annotated list\n",
    "# #---------------------------------------\n",
    "import json\n",
    "print(path_eval_results + 'human/human-norag.json')\n",
    "with open('/root/project/f4_evaluate/result_v6/human/human-rag.json', 'r', encoding='utf-8') as f:\n",
    "    eval_ragdata = json.load(f)\n",
    "with open('/root/project/f4_evaluate/result_v6/human/human-norag.json', 'r', encoding='utf-8') as f:\n",
    "    eval_noragdata = json.load(f)\n",
    "with open('/root/project/f4_evaluate/result_v6/human/human-raggoal.json', 'r', encoding='utf-8') as f:\n",
    "    eval_raggoaldata = json.load(f)\n",
    "with open('/root/project/f4_evaluate/result_v6/human/human-noraggoal.json', 'r', encoding='utf-8') as f:\n",
    "    eval_noraggoaldata = json.load(f)    \n",
    "\n",
    "# print(data)\n",
    "eval_ragdata = eval_ragdata['annotations']\n",
    "eval_ragdata = list(eval_ragdata.values())\n",
    "eval_noragdata = eval_noragdata['annotations']\n",
    "eval_noragdata = list(eval_noragdata.values())\n",
    "eval_raggoaldata = eval_raggoaldata['annotations']\n",
    "eval_raggoaldata = list(eval_raggoaldata.values())\n",
    "eval_noraggoaldata = eval_noraggoaldata['annotations']\n",
    "eval_noraggoaldata = list(eval_noraggoaldata.values())\n",
    "\n",
    "# evaluator dictionaries & reset mixed indices to normal\n",
    "df_eval_rag = pd.DataFrame(eval_ragdata).sort_values(by='idx').reset_index(drop=True)\n",
    "df_eval_norag = pd.DataFrame(eval_noragdata).sort_values(by='idx').reset_index(drop=True)\n",
    "df_eval_raggoal = pd.DataFrame(eval_raggoaldata).sort_values(by='idx').reset_index(drop=True)\n",
    "df_eval_noraggoal = pd.DataFrame(eval_noraggoaldata).sort_values(by='idx').reset_index(drop=True)\n",
    "# print(df_eval_rag)\n",
    "\n",
    "# bool are stored as object type. convert this to bool\n",
    "df_eval_rag = convert_dtypes(df_eval_rag)\n",
    "df_eval_norag = convert_dtypes(df_eval_norag)\n",
    "df_eval_raggoal = convert_dtypes(df_eval_raggoal)\n",
    "df_eval_noraggoal = convert_dtypes(df_eval_noraggoal)\n",
    "\n",
    "# inclusion ratio must be in the df\n",
    "rag_inclusion_ratio = df_inclusion_ratio(PATH_BASELINE_RAG, [0])\n",
    "norag_inclusion_ratio = df_inclusion_ratio(PATH_BASELINE_NORAG, baselines[1])\n",
    "raggoal_inclusion_ratio = df_inclusion_ratio(PATH_BASELINE_RAGGOAL, baselines[2])\n",
    "noraggoal_inclusion_ratio = df_inclusion_ratio(PATH_BASELINE_NORAGGOAL, baselines[3])\n",
    "\n",
    "df_eval_rag = pd.concat([df_eval_rag, rag_inclusion_ratio], axis=1)\n",
    "df_eval_norag = pd.concat([df_eval_norag, norag_inclusion_ratio], axis=1)\n",
    "df_eval_raggoal = pd.concat([df_eval_raggoal, raggoal_inclusion_ratio], axis=1)\n",
    "df_eval_noraggoal = pd.concat([df_eval_noraggoal, noraggoal_inclusion_ratio], axis=1)"
   ]
  },
  {
   "cell_type": "code",
   "execution_count": null,
   "id": "3c03975e",
   "metadata": {},
   "outputs": [
    {
     "name": "stdout",
     "output_type": "stream",
     "text": [
      "rag core(tax, seq, both): 140 119 107\n",
      "rag entity/core(tax, seq, both): 115 97 93\n",
      "rag entity/sim/core(tax, seq, both): 110 92 89\n"
     ]
    }
   ],
   "source": [
    "# #evaluator_rag_:\n",
    "\n",
    "# #core check has 3 versions, tax, seq, both\n",
    "# efil1_tax_rag = df_eval_rag[df_eval_rag['core_check_tax']==True]\n",
    "# efil1_seq_rag = df_eval_rag[df_eval_rag['core_check_seq']==True]\n",
    "# efil1_both_rag = df_eval_rag[(df_eval_rag['core_check_tax']==True)&(df_eval_rag['core_check_seq']==True)]\n",
    "# print(f\"rag core(tax, seq, both): {efil1_tax_rag.shape[0]} {efil1_seq_rag.shape[0]} {efil1_both_rag.shape[0]}\")\n",
    "\n",
    "# #entity check should both pass for (tax, seq) because otherwise sequence generation is impossible\n",
    "# efil2_tax_rag = df_eval_rag[(df_eval_rag['entity_check_tax']==True)&(df_eval_rag['entity_check_seq']==True)&(df_eval_rag['core_check_tax']==True)]\n",
    "# efil2_seq_rag = df_eval_rag[(df_eval_rag['entity_check_tax']==True)&(df_eval_rag['entity_check_seq']==True)&(df_eval_rag['core_check_seq']==True)]\n",
    "# efil2_both_rag = df_eval_rag[(df_eval_rag['entity_check_tax']==True)&(df_eval_rag['entity_check_seq']==True)&(df_eval_rag['core_check_tax']==True)&(df_eval_rag['core_check_seq']==True)]\n",
    "# print(f\"rag entity/core(tax, seq, both): {efil2_tax_rag.shape[0]} {efil2_seq_rag.shape[0]} {efil2_both_rag.shape[0]}\")\n",
    "\n",
    "# #similarity threshold should both be applied (tax, seq) because otherwise sequence generation is impossible\n",
    "# sim_tax_threshold = 0.4 #main itself is 50% weight\n",
    "# sim_seq_threshold = 0.3 #same threhold as goalmediation\n",
    "\n",
    "# efil3_tax_rag = df_eval_rag[(df_eval_rag['entity_check_tax']==True)&(df_eval_rag['entity_check_seq']==True)&(df_eval_rag['sim_tax3']>sim_tax_threshold)&(df_eval_rag['sim_seq3']>sim_seq_threshold)&(df_eval_rag['core_check_tax']==True)]\n",
    "# efil3_seq_rag = df_eval_rag[(df_eval_rag['entity_check_tax']==True)&(df_eval_rag['entity_check_seq']==True)&(df_eval_rag['sim_tax3']>sim_tax_threshold)&(df_eval_rag['sim_seq3']>sim_seq_threshold)&(df_eval_rag['core_check_seq']==True)]\n",
    "# efil3_both_rag = df_eval_rag[(df_eval_rag['entity_check_tax']==True)&(df_eval_rag['entity_check_seq']==True)&(df_eval_rag['sim_tax3']>sim_tax_threshold)&(df_eval_rag['sim_seq3']>sim_seq_threshold)&(df_eval_rag['core_check_tax']==True)&(df_eval_rag['core_check_seq']==True)]\n",
    "# print(f\"rag entity/sim/core(tax, seq, both): {efil3_tax_rag.shape[0]} {efil3_seq_rag.shape[0]} {efil3_both_rag.shape[0]}\")\n",
    "\n",
    "\n",
    "\n",
    "# #evaluator_norag_: entity_check_tax, entity_check_seq, sim_tax1, sim_tax2, sim_tax3, sim_seq1, sim_seq2, sim_seq3, core_check_tax, core_check_tax\n",
    "# #core check has 3 versions, tax, seq, both\n",
    "# efil1_tax_norag = df_eval_norag[df_eval_norag['core_check_tax']==True]\n",
    "# efil1_seq_norag = df_eval_norag[df_eval_norag['core_check_seq']==True]\n",
    "# efil1_both_norag = df_eval_norag[(df_eval_norag['core_check_tax']==True)&(df_eval_norag['core_check_seq']==True)]\n",
    "# print(f\"norag core(tax, seq, both): {efil1_tax_norag.shape[0]} {efil1_seq_norag.shape[0]} {efil1_both_norag.shape[0]}\")\n",
    "\n",
    "# #entity check should both pass for (tax, seq) because otherwise sequence generation is impossible\n",
    "# efil2_tax_norag = df_eval_norag[(df_eval_norag['entity_check_tax']==True)&(df_eval_norag['entity_check_seq']==True)&(df_eval_norag['core_check_tax']==True)]\n",
    "# efil2_seq_norag = df_eval_norag[(df_eval_norag['entity_check_tax']==True)&(df_eval_norag['entity_check_seq']==True)&(df_eval_norag['core_check_seq']==True)]\n",
    "# efil2_both_norag = df_eval_norag[(df_eval_norag['entity_check_tax']==True)&(df_eval_norag['entity_check_seq']==True)&(df_eval_norag['core_check_tax']==True)&(df_eval_norag['core_check_seq']==True)]\n",
    "# print(f\"norag entity/core(tax, seq, both): {efil2_tax_norag.shape[0]} {efil2_seq_norag.shape[0]} {efil2_both_norag.shape[0]}\")\n",
    "\n",
    "# #similarity threshold should both be applied (tax, seq) because otherwise sequence generation is impossible\n",
    "# sim_tax_threshold = 0.4 #main itself is 50% weight\n",
    "# sim_seq_threshold = 0.3 #same threhold as goalmediation\n",
    "\n",
    "# efil3_tax_norag = df_eval_norag[(df_eval_norag['entity_check_tax']==True)&(df_eval_norag['entity_check_seq']==True)&(df_eval_norag['sim_tax3']>sim_tax_threshold)&(df_eval_norag['sim_seq3']>sim_seq_threshold)&(df_eval_norag['core_check_tax']==True)]\n",
    "# efil3_seq_norag = df_eval_norag[(df_eval_norag['entity_check_tax']==True)&(df_eval_norag['entity_check_seq']==True)&(df_eval_norag['sim_tax3']>sim_tax_threshold)&(df_eval_norag['sim_seq3']>sim_seq_threshold)&(df_eval_norag['core_check_seq']==True)]\n",
    "# efil3_both_norag = df_eval_norag[(df_eval_norag['entity_check_tax']==True)&(df_eval_norag['entity_check_seq']==True)&(df_eval_norag['sim_tax3']>sim_tax_threshold)&(df_eval_norag['sim_seq3']>sim_seq_threshold)&(df_eval_norag['core_check_tax']==True)&(df_eval_norag['core_check_seq']==True)]\n",
    "# print(f\"norag entity/sim/core(tax, seq, both): {efil3_tax_norag.shape[0]} {efil3_seq_norag.shape[0]} {efil3_both_norag.shape[0]}\")\n",
    "\n",
    "# #evaluaotr_raggoal_ entity_check_seq, sim_seq1, sim_seq2, sim_seq3\", core_check_seq, human_check_tax, human_check_seq\n",
    "# sim_seq_threshold = 0.3\n",
    "# efil1_raggoal = df_eval_raggoal[df_eval_raggoal['core_check_seq']==True]\n",
    "# efil2_raggoal = df_eval_raggoal[(df_eval_raggoal['entity_check_seq']==True) & (df_eval_raggoal['core_check_seq']==True)]\n",
    "# efil3_raggoal= df_eval_raggoal[(df_eval_raggoal['entity_check_seq']==True) & (df_eval_raggoal['sim_seq3']>sim_seq_threshold) & (df_eval_raggoal['core_check_seq']==True)]\n",
    "# print(f\"rag (core) (entity,core) (entity,sim,core): {efil1_raggoal.shape[0]} {efil2_raggoal.shape[0]} {efil3_raggoal.shape[0]}\")\n",
    "# # efilh_raggoal\n",
    "\n",
    "# #evaluaotr_noraggoal_ entity_check_seq, sim_seq1, sim_seq2, sim_seq3\", core_check_seq, human_check_tax, human_check_seq\n",
    "# efil1_noraggoal = df_eval_noraggoal[df_eval_noraggoal['core_check_seq']==True]\n",
    "# efil2_noraggoal = df_eval_noraggoal[(df_eval_noraggoal['entity_check_seq']==True) & (df_eval_noraggoal['core_check_seq']==True)]\n",
    "# efil3_noraggoal = df_eval_noraggoal[(df_eval_noraggoal['entity_check_seq']==True) & (df_eval_noraggoal['sim_seq3']> sim_seq_threshold) & (df_eval_noraggoal['core_check_seq'])]\n",
    "# print(f\"norag (core) (entity,core) (entity,sim,core): {efil1_noraggoal.shape[0]} {efil2_noraggoal.shape[0]} {efil3_noraggoal.shape[0]}\")"
   ]
  },
  {
   "cell_type": "code",
   "execution_count": 46,
   "id": "08b91924",
   "metadata": {},
   "outputs": [
    {
     "name": "stdout",
     "output_type": "stream",
     "text": [
      "rag core(tax, seq, both): 140 119 107 153\n",
      "rag entity/core(tax, seq, both): 115 97 93 116\n",
      "rag entity/sim/core(tax, seq, both): 110 92 89 109\n",
      "norag core(tax, seq, both): 139 127 112\n",
      "norag entity/core(tax, seq, both): 107 108 95\n",
      "norag entity/sim/core(tax, seq, both): 104 105 92 117\n",
      "raggoal (core) (entity,core) (entity,sim,core): 132 106 106 130\n",
      "norag (core) (entity,core) (entity,sim,core): 130 95 95  122\n"
     ]
    }
   ],
   "source": [
    "#---------------------------------------------------------------------------\n",
    "# json file filtered evaluator dataframe_\n",
    "#---------------------------------------------------------------------------\n",
    "#core check has 3 versions, tax, seq, both\n",
    "efil1_tax_rag = df_eval_rag[df_eval_rag['core_check_tax']==True]\n",
    "efil1_seq_rag = df_eval_rag[df_eval_rag['core_check_seq']==True]\n",
    "efil1_both_rag = df_eval_rag[(df_eval_rag['core_check_tax']==True)&(df_eval_rag['core_check_seq']==True)]\n",
    "efil1_human_rag = df_eval_rag[(df_eval_rag['human_check_tax']==True)&(df_eval_rag['human_check_seq']==True)]\n",
    "print(f\"rag core(tax, seq, both): {efil1_tax_rag.shape[0]} {efil1_seq_rag.shape[0]} {efil1_both_rag.shape[0]} {efil1_human_rag.shape[0]}\")\n",
    "\n",
    "#entity check should both pass for (tax, seq) because otherwise sequence generation is impossible\n",
    "efil2_tax_rag = df_eval_rag[(df_eval_rag['entity_check_tax']==True)&(df_eval_rag['entity_check_seq']==True)&(df_eval_rag['core_check_tax']==True)]\n",
    "efil2_seq_rag = df_eval_rag[(df_eval_rag['entity_check_tax']==True)&(df_eval_rag['entity_check_seq']==True)&(df_eval_rag['core_check_seq']==True)]\n",
    "efil2_both_rag = df_eval_rag[(df_eval_rag['entity_check_tax']==True)&(df_eval_rag['entity_check_seq']==True)&(df_eval_rag['core_check_tax']==True)&(df_eval_rag['core_check_seq']==True)]\n",
    "efil2_human_rag = df_eval_rag[(df_eval_rag['entity_check_tax']==True)&(df_eval_rag['entity_check_seq']==True)&(df_eval_rag['human_check_tax']==True)&(df_eval_rag['human_check_seq']==True)]\n",
    "print(f\"rag entity/core(tax, seq, both): {efil2_tax_rag.shape[0]} {efil2_seq_rag.shape[0]} {efil2_both_rag.shape[0]} {efil2_human_rag.shape[0]}\")\n",
    "\n",
    "#similarity threshold should both be applied (tax, seq) because otherwise sequence generation is impossible\n",
    "sim_tax_threshold = 0.4 #main itself is 50% weight\n",
    "sim_seq_threshold = 0.3 #same threhold as goalmediation\n",
    "\n",
    "efil3_tax_rag = df_eval_rag[(df_eval_rag['entity_check_tax']==True)&(df_eval_rag['entity_check_seq']==True)&(df_eval_rag['sim_tax3']>sim_tax_threshold)&(df_eval_rag['sim_seq3']>sim_seq_threshold)&(df_eval_rag['core_check_tax']==True)]\n",
    "efil3_seq_rag = df_eval_rag[(df_eval_rag['entity_check_tax']==True)&(df_eval_rag['entity_check_seq']==True)&(df_eval_rag['sim_tax3']>sim_tax_threshold)&(df_eval_rag['sim_seq3']>sim_seq_threshold)&(df_eval_rag['core_check_seq']==True)]\n",
    "efil3_both_rag = df_eval_rag[(df_eval_rag['entity_check_tax']==True)&(df_eval_rag['entity_check_seq']==True)&(df_eval_rag['sim_tax3']>sim_tax_threshold)&(df_eval_rag['sim_seq3']>sim_seq_threshold)&(df_eval_rag['core_check_tax']==True)&(df_eval_rag['core_check_seq']==True)]\n",
    "efil3_human_rag = df_eval_rag[(df_eval_rag['entity_check_tax']==True)&(df_eval_rag['entity_check_seq']==True)&(df_eval_rag['sim_tax3']>sim_tax_threshold)&(df_eval_rag['sim_seq3']>sim_seq_threshold)&(df_eval_rag['human_check_tax']==True)&(df_eval_rag['human_check_seq']==True)]\n",
    "\n",
    "efil3_human_seq_rag = df_eval_rag[(df_eval_rag['entity_check_tax']==True)&(df_eval_rag['entity_check_seq']==True)&(df_eval_rag['sim_tax3']>sim_tax_threshold)&(df_eval_rag['sim_seq3']>sim_seq_threshold)&(df_eval_rag['human_check_seq']==True)]\n",
    "# print(f\"rag entity/sim/core(tax, seq, both): {efil3_tax_rag.shape[0]} {efil3_seq_rag.shape[0]} {efil3_both_rag.shape[0]} {efil3_human_rag.shape[0]}\")\n",
    "\n",
    "\n",
    "# Too Strict Rules were not good at all\n",
    "efil3_both_rag2 = df_eval_rag[(df_eval_rag['entity_check_tax']==True)&(df_eval_rag['entity_check_seq']==True)&(df_eval_rag['sim_tax3']>sim_tax_threshold)&(df_eval_rag['sim_seq3']>sim_seq_threshold)&(df_eval_rag['core_check_seq']==True)]\n",
    "\n",
    "efil3_human_rag2 = df_eval_rag[(df_eval_rag['entity_check_tax']==True)&(df_eval_rag['entity_check_seq']==True)&(df_eval_rag['sim_tax3']>sim_tax_threshold)&(df_eval_rag['sim_seq3']>sim_seq_threshold)&(df_eval_rag['human_check_seq']==True)]\n",
    "print(f\"rag entity/sim/core(tax, seq, both): {efil3_tax_rag.shape[0]} {efil3_seq_rag.shape[0]} {efil3_both_rag.shape[0]} {efil3_human_rag.shape[0]}\")\n",
    "\n",
    "\n",
    "\n",
    "\n",
    "\n",
    "#---------------------------------------------------------------------------\n",
    "#evaluator_norag_\n",
    "#---------------------------------------------------------------------------\n",
    "efil1_tax_norag = df_eval_norag[df_eval_norag['core_check_tax']==True]\n",
    "efil1_seq_norag = df_eval_norag[df_eval_norag['core_check_seq']==True]\n",
    "efil1_both_norag = df_eval_norag[(df_eval_norag['core_check_tax']==True)&(df_eval_norag['core_check_seq']==True)]\n",
    "print(f\"norag core(tax, seq, both): {efil1_tax_norag.shape[0]} {efil1_seq_norag.shape[0]} {efil1_both_norag.shape[0]}\")\n",
    "\n",
    "#entity check should both pass for (tax, seq) because otherwise sequence generation is impossible\n",
    "efil2_tax_norag = df_eval_norag[(df_eval_norag['entity_check_tax']==True)&(df_eval_norag['entity_check_seq']==True)&(df_eval_norag['core_check_tax']==True)]\n",
    "efil2_seq_norag = df_eval_norag[(df_eval_norag['entity_check_tax']==True)&(df_eval_norag['entity_check_seq']==True)&(df_eval_norag['core_check_seq']==True)]\n",
    "efil2_both_norag = df_eval_norag[(df_eval_norag['entity_check_tax']==True)&(df_eval_norag['entity_check_seq']==True)&(df_eval_norag['core_check_tax']==True)&(df_eval_norag['core_check_seq']==True)]\n",
    "print(f\"norag entity/core(tax, seq, both): {efil2_tax_norag.shape[0]} {efil2_seq_norag.shape[0]} {efil2_both_norag.shape[0]}\")\n",
    "\n",
    "#similarity threshold should both be applied (tax, seq) because otherwise sequence generation is impossible\n",
    "sim_tax_threshold = 0.4 #main itself is 50% weight\n",
    "sim_seq_threshold = 0.3 #same threhold as goalmediation\n",
    "\n",
    "efil3_tax_norag = df_eval_norag[(df_eval_norag['entity_check_tax']==True)&(df_eval_norag['entity_check_seq']==True)&(df_eval_norag['sim_tax3']>sim_tax_threshold)&(df_eval_norag['sim_seq3']>sim_seq_threshold)&(df_eval_norag['core_check_tax']==True)]\n",
    "efil3_seq_norag = df_eval_norag[(df_eval_norag['entity_check_tax']==True)&(df_eval_norag['entity_check_seq']==True)&(df_eval_norag['sim_tax3']>sim_tax_threshold)&(df_eval_norag['sim_seq3']>sim_seq_threshold)&(df_eval_norag['core_check_seq']==True)]\n",
    "\n",
    "efil3_both_norag = df_eval_norag[(df_eval_norag['entity_check_tax']==True)&(df_eval_norag['entity_check_seq']==True)&(df_eval_norag['sim_tax3']>sim_tax_threshold)&(df_eval_norag['sim_seq3']>sim_seq_threshold)&(df_eval_norag['core_check_tax']==True)&(df_eval_norag['core_check_seq']==True)]\n",
    "efil3_human_norag = df_eval_norag[(df_eval_norag['entity_check_tax']==True)&(df_eval_norag['entity_check_seq']==True)&(df_eval_norag['sim_tax3']>sim_tax_threshold)&(df_eval_norag['sim_seq3']>sim_seq_threshold)&(df_eval_norag['human_check_tax']==True)&(df_eval_norag['human_check_seq']==True)]\n",
    "\n",
    "efil3_human_seq_norag = df_eval_norag[(df_eval_norag['entity_check_tax']==True)&(df_eval_norag['entity_check_seq']==True)&(df_eval_norag['sim_tax3']>sim_tax_threshold)&(df_eval_norag['sim_seq3']>sim_seq_threshold)&(df_eval_norag['human_check_seq']==True)]\n",
    "\n",
    "\n",
    "\n",
    "\n",
    "# More lenient rules on sequences\n",
    "efil3_both_norag2 = df_eval_norag[(df_eval_norag['entity_check_tax']==True)&(df_eval_norag['entity_check_seq']==True)&(df_eval_norag['sim_tax3']>sim_tax_threshold)&(df_eval_norag['sim_seq3']>sim_seq_threshold)&(df_eval_norag['core_check_seq']==True)]\n",
    "\n",
    "efil3_human_norag2 = df_eval_norag[(df_eval_norag['entity_check_tax']==True)&(df_eval_norag['entity_check_seq']==True)&(df_eval_norag['sim_tax3']>sim_tax_threshold)&(df_eval_norag['sim_seq3']>sim_seq_threshold)&(df_eval_norag['human_check_seq']==True)]\n",
    "print(f\"norag entity/sim/core(tax, seq, both): {efil3_tax_norag.shape[0]} {efil3_seq_norag.shape[0]} {efil3_both_norag.shape[0]} {efil3_human_norag.shape[0]}\")\n",
    "\n",
    "\n",
    "\n",
    "#---------------------------------------------------------------------------\n",
    "#evaluator_raggoal\n",
    "#---------------------------------------------------------------------------\n",
    "#evaluaotr_raggoal_ entity_check_seq, sim_seq1, sim_seq2, sim_seq3\", core_check_seq, human_check_tax, human_check_seq\n",
    "sim_seq_threshold = 0.3\n",
    "efil1_raggoal = df_eval_raggoal[df_eval_raggoal['core_check_seq']==True]\n",
    "efil2_raggoal = df_eval_raggoal[(df_eval_raggoal['entity_check_seq']==True) & (df_eval_raggoal['core_check_seq']==True)]\n",
    "efil3_raggoal= df_eval_raggoal[(df_eval_raggoal['entity_check_seq']==True) & (df_eval_raggoal['sim_seq3']>sim_seq_threshold) & (df_eval_raggoal['core_check_seq']==True)]\n",
    "\n",
    "efil3_human_raggoal= df_eval_raggoal[(df_eval_raggoal['entity_check_seq']==True) & (df_eval_raggoal['sim_seq3']>sim_seq_threshold) & (df_eval_raggoal['human_check_seq']==True)]\n",
    "print(f\"raggoal (core) (entity,core) (entity,sim,core): {efil1_raggoal.shape[0]} {efil2_raggoal.shape[0]} {efil3_raggoal.shape[0]} {efil3_human_raggoal.shape[0]}\")\n",
    "# efilh_raggoal\n",
    "\n",
    "\n",
    "\n",
    "\n",
    "# #---------------------------------------------------------------------------\n",
    "# #evaluator_noraggoal\n",
    "# #---------------------------------------------------------------------------\n",
    "#evaluaotr_noraggoal_ entity_check_seq, sim_seq1, sim_seq2, sim_seq3\", core_check_seq, human_check_tax, human_check_seq\n",
    "efil1_noraggoal = df_eval_noraggoal[df_eval_noraggoal['core_check_seq']==True]\n",
    "efil2_noraggoal = df_eval_noraggoal[(df_eval_noraggoal['entity_check_seq']==True) & (df_eval_noraggoal['core_check_seq']==True)]\n",
    "efil3_noraggoal = df_eval_noraggoal[(df_eval_noraggoal['entity_check_seq']==True) & (df_eval_noraggoal['sim_seq3']> sim_seq_threshold) & (df_eval_noraggoal['core_check_seq'])]\n",
    "\n",
    "efil3_human_noraggoal= df_eval_noraggoal[(df_eval_noraggoal['entity_check_seq']==True) & (df_eval_noraggoal['sim_seq3']>sim_seq_threshold) & (df_eval_noraggoal['human_check_seq']==True)]\n",
    "print(f\"norag (core) (entity,core) (entity,sim,core): {efil1_noraggoal.shape[0]} {efil2_noraggoal.shape[0]} {efil3_noraggoal.shape[0]}  {efil3_human_noraggoal.shape[0]}\")\n",
    "\n"
   ]
  },
  {
   "cell_type": "code",
   "execution_count": null,
   "id": "4947ed75",
   "metadata": {},
   "outputs": [],
   "source": [
    "#-------------------------------------\n",
    "# SELECTION RATIO FUNCTIONS\n",
    "#-------------------------------------\n",
    "#HUMAN EVALUATOR가 가장 이상적이라고 가정할 때에 다른 evaluator에 대해서 precision-recall curve를 그릴 수 있다.\n",
    "#PRECISION = TP / (TP+FP)예측한 positive\n",
    "#RECALL = TP / (TP+FN)실제 positive\n",
    "#-------------------------------------\n",
    "# OLDER PLOTS with scatters\n",
    "#-------------------------------------\n",
    "def plot_sequence_cursor_interactive(df: pd.DataFrame, mybool: bool, key2plot: str, bin_num:int):\n",
    "    # df = df.dropna(subset=['inclusion_ratio', 'sequence_similarity_sbert', 'sequence_boolean'])\n",
    "    filtered_df = df[df['sequence_boolean'] == mybool]\n",
    "    size1 = df.shape[0]\n",
    "    size2 = filtered_df.shape[0]\n",
    "    print(size1, size2)\n",
    "\n",
    "    #===============================\n",
    "    #ratio of selection\n",
    "    #===============================\n",
    "    # Step 1: Bin the data by inclusion_ratio\n",
    "    bin_width = 1.0/bin_num\n",
    "    # bins = np.arange(0, 1.0001 + bin_width, bin_width)\n",
    "    bins = np.arange(0, 0.9001 + bin_width, bin_width)\n",
    "    df['inclusion_bin'] = pd.cut(df['inclusion_ratio'], bins=bins, include_lowest=True)\n",
    "\n",
    "    # Step 2: Group by bins and calculate ratio\n",
    "    grouped = df.groupby('inclusion_bin')\n",
    "    bin_centers = [interval.mid for interval in grouped.groups.keys()]\n",
    "\n",
    "    ratios = []\n",
    "    for bin_label, group in grouped:\n",
    "        total = len(group)\n",
    "        true_count = group[group['sequence_boolean'] == True].shape[0]\n",
    "        ratio = true_count / total if total > 0 else 0\n",
    "        ratios.append(ratio)\n",
    "\n",
    "    #===============================\n",
    "    # Polynomial fit\n",
    "    N = 1\n",
    "    coeffs = np.polyfit(filtered_df['inclusion_ratio'], filtered_df[key2plot], deg=N)\n",
    "    poly_func = np.poly1d(coeffs)\n",
    "    x_smooth = np.linspace(filtered_df['inclusion_ratio'].min(), filtered_df['inclusion_ratio'].max(), 200)\n",
    "    y_smooth = poly_func(x_smooth)\n",
    "\n",
    "    # Scatter plot with hover info\n",
    "    fig = px.scatter(\n",
    "        filtered_df,\n",
    "        x='inclusion_ratio',\n",
    "        y=key2plot,\n",
    "        hover_data=['idx','source_uid'],\n",
    "        labels={\n",
    "            'inclusion_ratio': 'Inclusion Ratio',\n",
    "            key2plot: key2plot,\n",
    "        },\n",
    "        title=f'Inclusion Ratio vs. {key2plot} (bool={mybool}) {size2}/{size1}',\n",
    "    )\n",
    "\n",
    "    #===============================\n",
    "    # Add polynomial fit line\n",
    "    fig.add_scatter(\n",
    "        x=x_smooth,\n",
    "        y=y_smooth,\n",
    "        mode='lines',\n",
    "        name=f'{N}° polynomial fit',\n",
    "        line=dict(color='red')\n",
    "    )\n",
    "\n",
    "    fig.update_layout(\n",
    "        xaxis=dict(range=[-0.1, 1.1]),\n",
    "        yaxis=dict(range=[0, 1.1]),\n",
    "    )\n",
    "\n",
    "    #===============================\n",
    "    #ratio of selection\n",
    "    #===============================\n",
    "    # Add ratio line trace with secondary y-axis\n",
    "    fig.add_trace(go.Scatter(\n",
    "        x=bin_centers,\n",
    "        y=ratios,\n",
    "        mode='lines+markers',\n",
    "        name='Ratio (mybool=True / all)',\n",
    "        line=dict(color='green', dash='dot'),\n",
    "        yaxis='y2'\n",
    "    ))\n",
    "\n",
    "    # Configure secondary y-axis\n",
    "    fig.update_layout(\n",
    "        yaxis2=dict(\n",
    "            title='Ratio',\n",
    "            overlaying='y',\n",
    "            side='right',\n",
    "            range=[0, 1.1]\n",
    "        )\n",
    "    )\n",
    "\n",
    "    fig.show()\n",
    "\n",
    "def plot_taxonomy_cursor_interactive(df: pd.DataFrame, togglebool: bool, mybool: bool, key2plot: str, bin_num:int):\n",
    "    # Clean data\n",
    "    df = df.dropna(subset=['inclusion_ratio', 'taxonomy_similarity_sbert', 'taxonomy_boolean', 'taxonomy_weighted_similarity'])\n",
    "    size1 = df.shape[0]\n",
    "    \n",
    "    # Filter based on toggle\n",
    "    if togglebool:\n",
    "        filtered_df = df[df['taxonomy_boolean'] == mybool]\n",
    "    else:\n",
    "        filtered_df = df\n",
    "    size2 = filtered_df.shape[0]\n",
    "\n",
    "    #===============================\n",
    "    #ratio of selection\n",
    "    #===============================\n",
    "    # Step 1: Bin the data by inclusion_ratio\n",
    "    bin_width = 1.0/bin_num\n",
    "    # bins = np.arange(0, 1.0001 + bin_width, bin_width)\n",
    "    bins = np.arange(0, 0.9001 + bin_width, bin_width)\n",
    "    df['inclusion_bin'] = pd.cut(df['inclusion_ratio'], bins=bins, include_lowest=True)\n",
    "\n",
    "    # Step 2: Group by bins and calculate ratio\n",
    "    grouped = df.groupby('inclusion_bin')\n",
    "    bin_centers = [interval.mid for interval in grouped.groups.keys()]\n",
    "\n",
    "    ratios = []\n",
    "    for bin_label, group in grouped:\n",
    "        total = len(group)\n",
    "        true_count = group[group['taxonomy_boolean'] == True].shape[0]\n",
    "        ratio = true_count / total if total > 0 else 0\n",
    "        ratios.append(ratio)\n",
    "\n",
    "\n",
    "    # Polynomial fit (linear)\n",
    "    N = 1\n",
    "    coeffs = np.polyfit(filtered_df['inclusion_ratio'], filtered_df[key2plot], deg=N)\n",
    "    poly_func = np.poly1d(coeffs)\n",
    "    x_smooth = np.linspace(filtered_df['inclusion_ratio'].min(), filtered_df['inclusion_ratio'].max(), 200)\n",
    "    y_smooth = poly_func(x_smooth)\n",
    "\n",
    "    # Plotly scatter plot\n",
    "    fig = px.scatter(\n",
    "        filtered_df,\n",
    "        x='inclusion_ratio',\n",
    "        y=key2plot,\n",
    "        hover_data=['source_uid', 'idx'],\n",
    "        labels={\n",
    "            'inclusion_ratio': 'Inclusion Ratio',\n",
    "            key2plot: 'Taxonomy Similarity'\n",
    "        },\n",
    "        title=f'Inclusion Ratio vs. {key2plot} (taxonomy_boolean={mybool}) {size2}/{size1}'\n",
    "    )\n",
    "\n",
    "    # Add polynomial fit line\n",
    "    fig.add_scatter(\n",
    "        x=x_smooth,\n",
    "        y=y_smooth,\n",
    "        mode='lines',\n",
    "        name=f'{N}° polynomial fit',\n",
    "        line=dict(color='red')\n",
    "    )\n",
    "\n",
    "    # Adjust axis and layout\n",
    "    fig.update_layout(\n",
    "        xaxis=dict(range=[-0.1, 1.1]),\n",
    "        yaxis=dict(range=[0, 1.1]),\n",
    "        height=600,\n",
    "        width=800\n",
    "    )\n",
    "\n",
    "    #===============================\n",
    "    #ratio of selection\n",
    "    #===============================\n",
    "    # Add ratio line trace with secondary y-axis\n",
    "    fig.add_trace(go.Scatter(\n",
    "        x=bin_centers,\n",
    "        y=ratios,\n",
    "        mode='lines+markers',\n",
    "        name='Ratio (mybool=True / all)',\n",
    "        line=dict(color='green', dash='dot'),\n",
    "        yaxis='y2'\n",
    "    ))\n",
    "\n",
    "    # Configure secondary y-axis\n",
    "    fig.update_layout(\n",
    "        yaxis2=dict(\n",
    "            title='Ratio',\n",
    "            overlaying='y',\n",
    "            side='right',\n",
    "            range=[0, 1.1]\n",
    "        )\n",
    "    )\n",
    "\n",
    "    fig.show()\n",
    "\n",
    "def plot_sequence_cursor_interactive2(df: pd.DataFrame, mybool: bool, key2plot: str, bin_num:int):\n",
    "    # df = df.dropna(subset=['inclusion_ratio', 'sequence_similarity_sbert', 'core_check_seq'])\n",
    "    filtered_df = df[df['core_check_seq'] == mybool]\n",
    "    size1 = df.shape[0]\n",
    "    size2 = filtered_df.shape[0]\n",
    "    print(size1, size2)\n",
    "\n",
    "    #===============================\n",
    "    #ratio of selection\n",
    "    #===============================\n",
    "    # Step 1: Bin the data by inclusion_ratio\n",
    "    bin_width = 1.0/bin_num\n",
    "    # bins = np.arange(0, 1.0001 + bin_width, bin_width)\n",
    "    bins = np.arange(0, 0.9001 + bin_width, bin_width)\n",
    "    df['inclusion_bin'] = pd.cut(df['inclusion_ratio'], bins=bins, include_lowest=True)\n",
    "\n",
    "    # Step 2: Group by bins and calculate ratio\n",
    "    grouped = df.groupby('inclusion_bin', observed=True)\n",
    "    bin_centers = [interval.mid for interval in grouped.groups.keys()]\n",
    "\n",
    "    ratios = []\n",
    "    for bin_label, group in grouped:\n",
    "        total = len(group)\n",
    "        true_count = group[group['core_check_seq'] == True].shape[0]\n",
    "        ratio = true_count / total if total > 0 else 0\n",
    "        ratios.append(ratio)\n",
    "\n",
    "    #===============================\n",
    "    # Polynomial fit\n",
    "    N = 1\n",
    "    coeffs = np.polyfit(filtered_df['inclusion_ratio'], filtered_df[key2plot], deg=N)\n",
    "    poly_func = np.poly1d(coeffs)\n",
    "    x_smooth = np.linspace(filtered_df['inclusion_ratio'].min(), filtered_df['inclusion_ratio'].max(), 200)\n",
    "    y_smooth = poly_func(x_smooth)\n",
    "\n",
    "    # Scatter plot with hover info\n",
    "    fig = px.scatter(\n",
    "        filtered_df,\n",
    "        x='inclusion_ratio',\n",
    "        y=key2plot,\n",
    "        hover_data=['idx','source_uid'],\n",
    "        labels={\n",
    "            'inclusion_ratio': 'Inclusion Ratio',\n",
    "            key2plot: key2plot,\n",
    "        },\n",
    "        title=f'Inclusion Ratio vs. {key2plot} (bool={mybool}) {size2}/{size1}',\n",
    "    )\n",
    "\n",
    "    fig.update_layout(\n",
    "        xaxis=dict(range=[-0.1, 1.1]),\n",
    "        yaxis=dict(range=[0, 1.1]),\n",
    "    )\n",
    "\n",
    "    #===============================\n",
    "    #ratio of selection\n",
    "    #===============================\n",
    "    # Add ratio line trace with secondary y-axis\n",
    "    fig.add_trace(go.Scatter(\n",
    "        x=bin_centers,\n",
    "        y=ratios,\n",
    "        mode='lines+markers',\n",
    "        name='Ratio (mybool=True / all)',\n",
    "        line=dict(color='green', dash='dot'),\n",
    "        yaxis='y2'\n",
    "    ))\n",
    "\n",
    "    # Configure secondary y-axis\n",
    "    fig.update_layout(\n",
    "        yaxis2=dict(\n",
    "            title='Ratio',\n",
    "            overlaying='y',\n",
    "            side='right',\n",
    "            range=[0, 1.1]\n",
    "        )\n",
    "    )\n",
    "\n",
    "    fig.update_layout(\n",
    "        title={\n",
    "            'text': f'Inclusion Ratio vs. {key2plot} (bool={mybool}) {size2}/{size1}',\n",
    "            'x': 0.5,  # Center title\n",
    "            'xanchor': 'center'\n",
    "        },\n",
    "        xaxis=dict(range=[-0.1, 1.1]),\n",
    "        yaxis=dict(range=[0, 1.1]),\n",
    "        width=700,   # Adjust width to be closer to height\n",
    "        height=700,  # Make height the same or slightly less/more\n",
    "    )    \n",
    "\n",
    "    fig.show()\n",
    "\n",
    "#taxonomy_similarity_sbert\n",
    "#taxonomy_weighted_similarity\n",
    "# plot_taxonomy_cursor_interactive(df_rag, False, True, 'taxonomy_similarity_sbert', 9)\n",
    "# plot_taxonomy_cursor_interactive(df_norag, False, True, 'taxonomy_similarity_sbert',9)\n",
    "# plot_taxonomy_cursor_interactive(df_rag, False, True, 'taxonomy_weighted_similarity', 9)\n",
    "# plot_taxonomy_cursor_interactive(df_norag, False, True, 'taxonomy_weighted_similarity',9)\n",
    "\n",
    "# plot_sequence_cursor_interactive(df_rag, True, 'sequence_similarity_sbert', 9)\n",
    "# plot_sequence_cursor_interactive(df_norag, True, 'sequence_similarity_sbert',9)\n",
    "# plot_sequence_cursor_interactive(df_raggoal, True, 'sequence_similarity_sbert', 9)\n",
    "# plot_sequence_cursor_interactive(df_noraggoal, True, 'sequence_similarity_sbert', 9)\n",
    "\n",
    "# plot_sequence_cursor_interactive(df_rag, True, 'sequence_dtw_similarity', 9)\n",
    "# plot_sequence_cursor_interactive(df_norag, True, 'sequence_dtw_similarity',9)\n",
    "# plot_sequence_cursor_interactive(df_raggoal, True, 'sequence_dtw_similarity', 9)\n",
    "# plot_sequence_cursor_interactive(df_noraggoal, True, 'sequence_dtw_similarity', 9)\n",
    "\n",
    "# plot_sequence_cursor_interactive2(df_eval_rag, True, 'sim_tax3', 5)\n",
    "# plot_sequence_cursor_interactive2(df_eval_norag, True, 'sim_tax3', 5)\n",
    "# plot_sequence_cursor_interactive2(df_eval_rag, True, 'sim_seq3', 5)\n",
    "# plot_sequence_cursor_interactive2(df_eval_norag, True, 'sim_seq3', 5)\n",
    "# plot_sequence_cursor_interactive2(df_eval_raggoal, True, 'sim_seq3', 5)\n",
    "# plot_sequence_cursor_interactive2(df_eval_noraggoal, True, 'sim_seq3', 5)\n",
    "\n",
    "\n",
    "#selection ratio plot\n",
    "#-------------------------------------\n",
    "#scene selection ratio vs selected ratio from baseline \n",
    "#------------------------------------\n",
    "def plot_single_selection_ratio_by_inclusion_bins(df_full, df_selected, num_bins=10):\n",
    "    \"\"\"\n",
    "    Plots the selection ratio per inclusion_ratio bin using Plotly.\n",
    "\n",
    "    Parameters:\n",
    "        df_full (pd.DataFrame): Full dataframe containing 'inclusion_ratio'.\n",
    "        df_selected (pd.DataFrame): Filtered dataframe, subset of df_full.\n",
    "        num_bins (int): Number of bins to divide the inclusion_ratio into (default: 10).\n",
    "    \"\"\"\n",
    "    assert 'inclusion_ratio' in df_full.columns and 'inclusion_ratio' in df_selected.columns, \\\n",
    "        \"Both dataframes must have an 'inclusion_ratio' column.\"\n",
    "\n",
    "    # Define bin edges\n",
    "    bins = np.linspace(0, 1.0, num_bins + 1)\n",
    "    bin_labels = [f\"{round(bins[i], 2)}–{round(bins[i+1], 2)}\" for i in range(len(bins)-1)]\n",
    "\n",
    "    # Assign bins\n",
    "    df_full = df_full.copy()\n",
    "    df_selected = df_selected.copy()\n",
    "    df_full['bin'] = pd.cut(df_full['inclusion_ratio'], bins=bins, labels=bin_labels, include_lowest=True)\n",
    "    df_selected['bin'] = pd.cut(df_selected['inclusion_ratio'], bins=bins, labels=bin_labels, include_lowest=True)\n",
    "\n",
    "    # Count entries in each bin\n",
    "    total_counts = df_full['bin'].value_counts().sort_index()\n",
    "    selected_counts = df_selected['bin'].value_counts().sort_index()\n",
    "\n",
    "    # Compute selection ratio\n",
    "    selection_ratio = (selected_counts / total_counts).fillna(0)\n",
    "\n",
    "    # Plot with Plotly\n",
    "    fig = go.Figure()\n",
    "    fig.add_trace(go.Bar(\n",
    "        x=selection_ratio.index.astype(str),\n",
    "        y=selection_ratio.values,\n",
    "        marker=dict(color='steelblue'),\n",
    "        name='Selection Ratio'\n",
    "    ))\n",
    "\n",
    "    fig.update_layout(\n",
    "        title=\"Selection Ratio vs. Inclusion Ratio\",\n",
    "        xaxis_title=\"Inclusion Ratio (Binned)\",\n",
    "        yaxis_title=\"Selection Ratio\",\n",
    "        yaxis=dict(range=[0, 1]),\n",
    "        width=900,\n",
    "        height=600,\n",
    "        bargap=0.1,\n",
    "    )\n",
    "\n",
    "    fig.show()\n",
    "\n",
    "# draw without barplot\n",
    "def plot_multiple_selection_vs_inclusion_ratio(data_pairs, bins=10, title_str=\"\"):\n",
    "    \"\"\"\n",
    "    Plots multiple selection vs. inclusion ratio lines in one graph.\n",
    "    Args:\n",
    "        data_pairs (list of tuples): Each tuple contains (df_total, df_selected, label).\n",
    "        bins (int): Number of bins for inclusion_ratio.\n",
    "    \"\"\"\n",
    "\n",
    "    # Create bins and labels\n",
    "    bin_edges = np.linspace(0, 1, bins + 1)\n",
    "    bin_centers = [(bin_edges[i] + bin_edges[i + 1]) / 2 for i in range(bins)]\n",
    "\n",
    "    # make a list of linecolor, markertype, and linetype\n",
    "    colors = ['blue', 'red', 'green', 'orange', 'purple', 'brown', 'teal', 'pink']\n",
    "    dash_styles = ['solid', 'dot', 'dash', 'longdash', 'dashdot', 'longdashdot']\n",
    "    marker_symbols = ['circle', 'square', 'diamond', 'cross', 'x', 'triangle-up']\n",
    "\n",
    "    fig = go.Figure()\n",
    "\n",
    "    for i, (df_total, df_selected, label) in enumerate(data_pairs):\n",
    "        # Bin the inclusion ratios\n",
    "        total_binned = pd.cut(df_total[\"inclusion_ratio\"], bins=bin_edges, include_lowest=True)\n",
    "        selected_binned = pd.cut(df_selected[\"inclusion_ratio\"], bins=bin_edges, include_lowest=True)\n",
    "\n",
    "        # Count per bin\n",
    "        total_counts = total_binned.value_counts(sort=False)\n",
    "        selected_counts = selected_binned.value_counts(sort=False)\n",
    "        # print(f\"bins num at {i} {selected_counts}\")\n",
    "\n",
    "        # Compute selection ratio\n",
    "        selection_ratio = (selected_counts / total_counts).fillna(0)\n",
    "\n",
    "        # Add line to plot\n",
    "        fig.add_trace(go.Scatter(\n",
    "            x=bin_centers,\n",
    "            y=selection_ratio.values,\n",
    "            mode='lines+markers',\n",
    "            name=label,\n",
    "            line=dict(color=colors[i % len(colors)], dash=dash_styles[i % len(dash_styles)]),\n",
    "            marker=dict(symbol=marker_symbols[i % len(marker_symbols)], size=8),            \n",
    "        ))\n",
    "\n",
    "    # Layout settings\n",
    "    fig.update_layout(\n",
    "        title=dict(\n",
    "        text=f\"Selection Ratio vs. Inclusion Ratio ({title_str})\",\n",
    "        x=0.5,  # Center the title\n",
    "        xanchor='center'  # Anchor the title at the center\n",
    "        ),\n",
    "        # title=f\"Selection Ratio vs. Inclusion Ratio ({title_str})\",\n",
    "        xaxis_title=\"Inclusion Ratio\",\n",
    "        yaxis_title=\"Selection Ratio\",\n",
    "        xaxis=dict(range=[0, 1]),\n",
    "        yaxis=dict(range=[0, 1]),\n",
    "        width=500,\n",
    "        height=500,\n",
    "        legend=dict(title=\"Legend\", x=0.01, y=0.99),\n",
    "    )\n",
    "\n",
    "    fig.show()\n",
    "\n",
    "\n",
    "# PLOT\n",
    "#-------------------------------------\n",
    "# 베이스라인이 similarity의 변화에 따라서 어느 정도의 수용성 그래프를 보이는지 그린다.(false/positive + positive/positive)\n",
    "# input (baselines, filtered_baselines, titlename)\n",
    "# x = inclusion_ratio\n",
    "# y = acceptance_rate per bin\n",
    "#-------------------------------------\n",
    "\n",
    "# plot_single_selection_ratio_by_inclusion_bins(df_eval_rag, efil3_both_rag, 8)\n",
    "# plot_single_selection_ratio_by_inclusion_bins(df_eval_norag, efil3_both_norag, 8)\n",
    "# plot_single_selection_ratio_by_inclusion_bins(df_eval_raggoal, efil3_raggoal, 8)\n",
    "# plot_single_selection_ratio_by_inclusion_bins(df_eval_noraggoal, efil3_noraggoal, 8)\n",
    "\n",
    "\n",
    "# plot_multiple_selection_vs_inclusion_ratio([\n",
    "#     # (df_eval_rag, efil1_both_rag, \"ours-(simple examiner)\"),\n",
    "#     # (df_eval_norag, efil1_both_norag, \"norag-(simple examiner)\"),\n",
    "#     # (df_eval_rag, efil2_both_rag, \"ours-(entity check examiner)\"),\n",
    "#     # (df_eval_norag, efil3_both_norag, \"norag-(entity check examiner)\"),\n",
    "#     (df_eval_rag, efil3_seq_rag, \"ours-(strict seq examiner)\"),\n",
    "#     (df_eval_norag, efil3_seq_norag, \"norag-(strict seq examiner)\"),    \n",
    "# ], bins=8, title_str='stric sequence binary examiner')\n",
    "\n",
    "# plot_multiple_selection_vs_inclusion_ratio([\n",
    "#     (df_eval_rag, efil1_both_rag, \"ours\"),\n",
    "#     (df_eval_norag, efil1_both_norag, \"base1 (no RAG)\"),\n",
    "# ], bins=8, title_str='simple evaluator')\n",
    "\n",
    "# plot_multiple_selection_vs_inclusion_ratio([\n",
    "#     (df_eval_rag, efil2_both_rag, \"ours\"),\n",
    "#     (df_eval_norag, efil2_both_norag, \"base1 (no RAG)\"),\n",
    "# ], bins=8, title_str='entity evaluator')\n",
    "\n",
    "# plot_multiple_selection_vs_inclusion_ratio([\n",
    "#     (df_eval_rag, efil3_both_rag, \"ours\"),\n",
    "#     (df_eval_norag, efil3_both_norag, \"base1 (no RAG)\"),\n",
    "# ], bins=8, title_str='strict evaluator')\n",
    "\n",
    "# plot_multiple_selection_vs_inclusion_ratio([\n",
    "#     (df_eval_raggoal, efil3_raggoal, \"base2 (no Taxonomy)\"),\n",
    "#     (df_eval_noraggoal, efil3_noraggoal, \"base3 (no Taxonomy, no RAG)\"),\n",
    "# ], bins=8, title_str='strict evaluator')\n",
    "\n",
    "\n"
   ]
  },
  {
   "cell_type": "code",
   "execution_count": 86,
   "id": "c2db5759",
   "metadata": {},
   "outputs": [
    {
     "name": "stdout",
     "output_type": "stream",
     "text": [
      "=================================================\n",
      "SIMILARITY vs INCLUSION\n",
      "=================================================\n"
     ]
    },
    {
     "data": {
      "application/vnd.plotly.v1+json": {
       "config": {
        "plotlyServerURL": "https://plot.ly"
       },
       "data": [
        {
         "error_y": {
          "array": {
           "bdata": "5WjGicZCyT9fYx6vIoHBP4K/LvWEEsE/YFfBWPl8uj8=",
           "dtype": "f8"
          },
          "color": "blue",
          "type": "data",
          "visible": true
         },
         "line": {
          "color": "blue",
          "dash": "solid"
         },
         "marker": {
          "size": 8,
          "symbol": "circle"
         },
         "mode": "lines+markers",
         "name": "taxo-med-rag",
         "type": "scatter",
         "x": [
          0.30000000000000004,
          0.5,
          0.7000000000000001,
          0.9
         ],
         "y": {
          "bdata": "T+XpkWfQ5T9G2idanuToP0RDkgqsfes/r7C6elRd7T8=",
          "dtype": "f8"
         }
        },
        {
         "error_y": {
          "array": {
           "bdata": "mbw/XBBMwT9Azca79tfEP/JGW2SdDMI/KER7WTHSwD8=",
           "dtype": "f8"
          },
          "color": "red",
          "type": "data",
          "visible": true
         },
         "line": {
          "color": "red",
          "dash": "dot"
         },
         "marker": {
          "size": 8,
          "symbol": "square"
         },
         "mode": "lines+markers",
         "name": "taxo-med-norag",
         "type": "scatter",
         "x": [
          0.30000000000000004,
          0.5,
          0.7000000000000001,
          0.9
         ],
         "y": {
          "bdata": "/wW9rlLQ5z8F3VNH29/pP2mlBNr+Few/7+BZxC/T7D8=",
          "dtype": "f8"
         }
        }
       ],
       "layout": {
        "height": 500,
        "legend": {
         "title": {
          "text": "Legend"
         },
         "x": 0.01,
         "y": 0.05
        },
        "template": {
         "data": {
          "bar": [
           {
            "error_x": {
             "color": "#2a3f5f"
            },
            "error_y": {
             "color": "#2a3f5f"
            },
            "marker": {
             "line": {
              "color": "#E5ECF6",
              "width": 0.5
             },
             "pattern": {
              "fillmode": "overlay",
              "size": 10,
              "solidity": 0.2
             }
            },
            "type": "bar"
           }
          ],
          "barpolar": [
           {
            "marker": {
             "line": {
              "color": "#E5ECF6",
              "width": 0.5
             },
             "pattern": {
              "fillmode": "overlay",
              "size": 10,
              "solidity": 0.2
             }
            },
            "type": "barpolar"
           }
          ],
          "carpet": [
           {
            "aaxis": {
             "endlinecolor": "#2a3f5f",
             "gridcolor": "white",
             "linecolor": "white",
             "minorgridcolor": "white",
             "startlinecolor": "#2a3f5f"
            },
            "baxis": {
             "endlinecolor": "#2a3f5f",
             "gridcolor": "white",
             "linecolor": "white",
             "minorgridcolor": "white",
             "startlinecolor": "#2a3f5f"
            },
            "type": "carpet"
           }
          ],
          "choropleth": [
           {
            "colorbar": {
             "outlinewidth": 0,
             "ticks": ""
            },
            "type": "choropleth"
           }
          ],
          "contour": [
           {
            "colorbar": {
             "outlinewidth": 0,
             "ticks": ""
            },
            "colorscale": [
             [
              0,
              "#0d0887"
             ],
             [
              0.1111111111111111,
              "#46039f"
             ],
             [
              0.2222222222222222,
              "#7201a8"
             ],
             [
              0.3333333333333333,
              "#9c179e"
             ],
             [
              0.4444444444444444,
              "#bd3786"
             ],
             [
              0.5555555555555556,
              "#d8576b"
             ],
             [
              0.6666666666666666,
              "#ed7953"
             ],
             [
              0.7777777777777778,
              "#fb9f3a"
             ],
             [
              0.8888888888888888,
              "#fdca26"
             ],
             [
              1,
              "#f0f921"
             ]
            ],
            "type": "contour"
           }
          ],
          "contourcarpet": [
           {
            "colorbar": {
             "outlinewidth": 0,
             "ticks": ""
            },
            "type": "contourcarpet"
           }
          ],
          "heatmap": [
           {
            "colorbar": {
             "outlinewidth": 0,
             "ticks": ""
            },
            "colorscale": [
             [
              0,
              "#0d0887"
             ],
             [
              0.1111111111111111,
              "#46039f"
             ],
             [
              0.2222222222222222,
              "#7201a8"
             ],
             [
              0.3333333333333333,
              "#9c179e"
             ],
             [
              0.4444444444444444,
              "#bd3786"
             ],
             [
              0.5555555555555556,
              "#d8576b"
             ],
             [
              0.6666666666666666,
              "#ed7953"
             ],
             [
              0.7777777777777778,
              "#fb9f3a"
             ],
             [
              0.8888888888888888,
              "#fdca26"
             ],
             [
              1,
              "#f0f921"
             ]
            ],
            "type": "heatmap"
           }
          ],
          "histogram": [
           {
            "marker": {
             "pattern": {
              "fillmode": "overlay",
              "size": 10,
              "solidity": 0.2
             }
            },
            "type": "histogram"
           }
          ],
          "histogram2d": [
           {
            "colorbar": {
             "outlinewidth": 0,
             "ticks": ""
            },
            "colorscale": [
             [
              0,
              "#0d0887"
             ],
             [
              0.1111111111111111,
              "#46039f"
             ],
             [
              0.2222222222222222,
              "#7201a8"
             ],
             [
              0.3333333333333333,
              "#9c179e"
             ],
             [
              0.4444444444444444,
              "#bd3786"
             ],
             [
              0.5555555555555556,
              "#d8576b"
             ],
             [
              0.6666666666666666,
              "#ed7953"
             ],
             [
              0.7777777777777778,
              "#fb9f3a"
             ],
             [
              0.8888888888888888,
              "#fdca26"
             ],
             [
              1,
              "#f0f921"
             ]
            ],
            "type": "histogram2d"
           }
          ],
          "histogram2dcontour": [
           {
            "colorbar": {
             "outlinewidth": 0,
             "ticks": ""
            },
            "colorscale": [
             [
              0,
              "#0d0887"
             ],
             [
              0.1111111111111111,
              "#46039f"
             ],
             [
              0.2222222222222222,
              "#7201a8"
             ],
             [
              0.3333333333333333,
              "#9c179e"
             ],
             [
              0.4444444444444444,
              "#bd3786"
             ],
             [
              0.5555555555555556,
              "#d8576b"
             ],
             [
              0.6666666666666666,
              "#ed7953"
             ],
             [
              0.7777777777777778,
              "#fb9f3a"
             ],
             [
              0.8888888888888888,
              "#fdca26"
             ],
             [
              1,
              "#f0f921"
             ]
            ],
            "type": "histogram2dcontour"
           }
          ],
          "mesh3d": [
           {
            "colorbar": {
             "outlinewidth": 0,
             "ticks": ""
            },
            "type": "mesh3d"
           }
          ],
          "parcoords": [
           {
            "line": {
             "colorbar": {
              "outlinewidth": 0,
              "ticks": ""
             }
            },
            "type": "parcoords"
           }
          ],
          "pie": [
           {
            "automargin": true,
            "type": "pie"
           }
          ],
          "scatter": [
           {
            "fillpattern": {
             "fillmode": "overlay",
             "size": 10,
             "solidity": 0.2
            },
            "type": "scatter"
           }
          ],
          "scatter3d": [
           {
            "line": {
             "colorbar": {
              "outlinewidth": 0,
              "ticks": ""
             }
            },
            "marker": {
             "colorbar": {
              "outlinewidth": 0,
              "ticks": ""
             }
            },
            "type": "scatter3d"
           }
          ],
          "scattercarpet": [
           {
            "marker": {
             "colorbar": {
              "outlinewidth": 0,
              "ticks": ""
             }
            },
            "type": "scattercarpet"
           }
          ],
          "scattergeo": [
           {
            "marker": {
             "colorbar": {
              "outlinewidth": 0,
              "ticks": ""
             }
            },
            "type": "scattergeo"
           }
          ],
          "scattergl": [
           {
            "marker": {
             "colorbar": {
              "outlinewidth": 0,
              "ticks": ""
             }
            },
            "type": "scattergl"
           }
          ],
          "scattermap": [
           {
            "marker": {
             "colorbar": {
              "outlinewidth": 0,
              "ticks": ""
             }
            },
            "type": "scattermap"
           }
          ],
          "scattermapbox": [
           {
            "marker": {
             "colorbar": {
              "outlinewidth": 0,
              "ticks": ""
             }
            },
            "type": "scattermapbox"
           }
          ],
          "scatterpolar": [
           {
            "marker": {
             "colorbar": {
              "outlinewidth": 0,
              "ticks": ""
             }
            },
            "type": "scatterpolar"
           }
          ],
          "scatterpolargl": [
           {
            "marker": {
             "colorbar": {
              "outlinewidth": 0,
              "ticks": ""
             }
            },
            "type": "scatterpolargl"
           }
          ],
          "scatterternary": [
           {
            "marker": {
             "colorbar": {
              "outlinewidth": 0,
              "ticks": ""
             }
            },
            "type": "scatterternary"
           }
          ],
          "surface": [
           {
            "colorbar": {
             "outlinewidth": 0,
             "ticks": ""
            },
            "colorscale": [
             [
              0,
              "#0d0887"
             ],
             [
              0.1111111111111111,
              "#46039f"
             ],
             [
              0.2222222222222222,
              "#7201a8"
             ],
             [
              0.3333333333333333,
              "#9c179e"
             ],
             [
              0.4444444444444444,
              "#bd3786"
             ],
             [
              0.5555555555555556,
              "#d8576b"
             ],
             [
              0.6666666666666666,
              "#ed7953"
             ],
             [
              0.7777777777777778,
              "#fb9f3a"
             ],
             [
              0.8888888888888888,
              "#fdca26"
             ],
             [
              1,
              "#f0f921"
             ]
            ],
            "type": "surface"
           }
          ],
          "table": [
           {
            "cells": {
             "fill": {
              "color": "#EBF0F8"
             },
             "line": {
              "color": "white"
             }
            },
            "header": {
             "fill": {
              "color": "#C8D4E3"
             },
             "line": {
              "color": "white"
             }
            },
            "type": "table"
           }
          ]
         },
         "layout": {
          "annotationdefaults": {
           "arrowcolor": "#2a3f5f",
           "arrowhead": 0,
           "arrowwidth": 1
          },
          "autotypenumbers": "strict",
          "coloraxis": {
           "colorbar": {
            "outlinewidth": 0,
            "ticks": ""
           }
          },
          "colorscale": {
           "diverging": [
            [
             0,
             "#8e0152"
            ],
            [
             0.1,
             "#c51b7d"
            ],
            [
             0.2,
             "#de77ae"
            ],
            [
             0.3,
             "#f1b6da"
            ],
            [
             0.4,
             "#fde0ef"
            ],
            [
             0.5,
             "#f7f7f7"
            ],
            [
             0.6,
             "#e6f5d0"
            ],
            [
             0.7,
             "#b8e186"
            ],
            [
             0.8,
             "#7fbc41"
            ],
            [
             0.9,
             "#4d9221"
            ],
            [
             1,
             "#276419"
            ]
           ],
           "sequential": [
            [
             0,
             "#0d0887"
            ],
            [
             0.1111111111111111,
             "#46039f"
            ],
            [
             0.2222222222222222,
             "#7201a8"
            ],
            [
             0.3333333333333333,
             "#9c179e"
            ],
            [
             0.4444444444444444,
             "#bd3786"
            ],
            [
             0.5555555555555556,
             "#d8576b"
            ],
            [
             0.6666666666666666,
             "#ed7953"
            ],
            [
             0.7777777777777778,
             "#fb9f3a"
            ],
            [
             0.8888888888888888,
             "#fdca26"
            ],
            [
             1,
             "#f0f921"
            ]
           ],
           "sequentialminus": [
            [
             0,
             "#0d0887"
            ],
            [
             0.1111111111111111,
             "#46039f"
            ],
            [
             0.2222222222222222,
             "#7201a8"
            ],
            [
             0.3333333333333333,
             "#9c179e"
            ],
            [
             0.4444444444444444,
             "#bd3786"
            ],
            [
             0.5555555555555556,
             "#d8576b"
            ],
            [
             0.6666666666666666,
             "#ed7953"
            ],
            [
             0.7777777777777778,
             "#fb9f3a"
            ],
            [
             0.8888888888888888,
             "#fdca26"
            ],
            [
             1,
             "#f0f921"
            ]
           ]
          },
          "colorway": [
           "#636efa",
           "#EF553B",
           "#00cc96",
           "#ab63fa",
           "#FFA15A",
           "#19d3f3",
           "#FF6692",
           "#B6E880",
           "#FF97FF",
           "#FECB52"
          ],
          "font": {
           "color": "#2a3f5f"
          },
          "geo": {
           "bgcolor": "white",
           "lakecolor": "white",
           "landcolor": "#E5ECF6",
           "showlakes": true,
           "showland": true,
           "subunitcolor": "white"
          },
          "hoverlabel": {
           "align": "left"
          },
          "hovermode": "closest",
          "mapbox": {
           "style": "light"
          },
          "paper_bgcolor": "white",
          "plot_bgcolor": "#E5ECF6",
          "polar": {
           "angularaxis": {
            "gridcolor": "white",
            "linecolor": "white",
            "ticks": ""
           },
           "bgcolor": "#E5ECF6",
           "radialaxis": {
            "gridcolor": "white",
            "linecolor": "white",
            "ticks": ""
           }
          },
          "scene": {
           "xaxis": {
            "backgroundcolor": "#E5ECF6",
            "gridcolor": "white",
            "gridwidth": 2,
            "linecolor": "white",
            "showbackground": true,
            "ticks": "",
            "zerolinecolor": "white"
           },
           "yaxis": {
            "backgroundcolor": "#E5ECF6",
            "gridcolor": "white",
            "gridwidth": 2,
            "linecolor": "white",
            "showbackground": true,
            "ticks": "",
            "zerolinecolor": "white"
           },
           "zaxis": {
            "backgroundcolor": "#E5ECF6",
            "gridcolor": "white",
            "gridwidth": 2,
            "linecolor": "white",
            "showbackground": true,
            "ticks": "",
            "zerolinecolor": "white"
           }
          },
          "shapedefaults": {
           "line": {
            "color": "#2a3f5f"
           }
          },
          "ternary": {
           "aaxis": {
            "gridcolor": "white",
            "linecolor": "white",
            "ticks": ""
           },
           "baxis": {
            "gridcolor": "white",
            "linecolor": "white",
            "ticks": ""
           },
           "bgcolor": "#E5ECF6",
           "caxis": {
            "gridcolor": "white",
            "linecolor": "white",
            "ticks": ""
           }
          },
          "title": {
           "x": 0.05
          },
          "xaxis": {
           "automargin": true,
           "gridcolor": "white",
           "linecolor": "white",
           "ticks": "",
           "title": {
            "standoff": 15
           },
           "zerolinecolor": "white",
           "zerolinewidth": 2
          },
          "yaxis": {
           "automargin": true,
           "gridcolor": "white",
           "linecolor": "white",
           "ticks": "",
           "title": {
            "standoff": 15
           },
           "zerolinecolor": "white",
           "zerolinewidth": 2
          }
         }
        },
        "title": {
         "text": "Inclusion Ratio vs Taxonomy Weighted Similarity",
         "x": 0.5,
         "xanchor": "center"
        },
        "width": 600,
        "xaxis": {
         "range": [
          0,
          1
         ],
         "title": {
          "text": "Inclusion Ratio"
         }
        },
        "yaxis": {
         "range": [
          0,
          1
         ],
         "title": {
          "text": "Similarity (mean ± std)"
         }
        }
       }
      }
     },
     "metadata": {},
     "output_type": "display_data"
    },
    {
     "data": {
      "application/vnd.plotly.v1+json": {
       "config": {
        "plotlyServerURL": "https://plot.ly"
       },
       "data": [
        {
         "error_y": {
          "array": {
           "bdata": "QSsHpwIDvz/bA+U2Xb6+P6F1FAG7Cb0/7triLAqkwT8=",
           "dtype": "f8"
          },
          "color": "blue",
          "type": "data",
          "visible": true
         },
         "line": {
          "color": "blue",
          "dash": "solid"
         },
         "marker": {
          "size": 8,
          "symbol": "circle"
         },
         "mode": "lines+markers",
         "name": "goal-med-rag",
         "type": "scatter",
         "x": [
          0.30000000000000004,
          0.5,
          0.7000000000000001,
          0.9
         ],
         "y": {
          "bdata": "K//3wTvH4T8PW/ZzB33gP9N5hRxvmeM/sxvgDsKT5T8=",
          "dtype": "f8"
         }
        },
        {
         "error_y": {
          "array": {
           "bdata": "KAwo+oawyD9jvxjj4SnBP8NdQZybj8M/qCG3NFdjxD8=",
           "dtype": "f8"
          },
          "color": "red",
          "type": "data",
          "visible": true
         },
         "line": {
          "color": "red",
          "dash": "dot"
         },
         "marker": {
          "size": 8,
          "symbol": "square"
         },
         "mode": "lines+markers",
         "name": "goal-med-norag",
         "type": "scatter",
         "x": [
          0.30000000000000004,
          0.5,
          0.7000000000000001,
          0.9
         ],
         "y": {
          "bdata": "t8Fs4lUN4j+YZ+p6faDiPxtTCW3vveU/dp6zMEOY5T8=",
          "dtype": "f8"
         }
        }
       ],
       "layout": {
        "height": 500,
        "legend": {
         "title": {
          "text": "Legend"
         },
         "x": 0.01,
         "y": 0.05
        },
        "template": {
         "data": {
          "bar": [
           {
            "error_x": {
             "color": "#2a3f5f"
            },
            "error_y": {
             "color": "#2a3f5f"
            },
            "marker": {
             "line": {
              "color": "#E5ECF6",
              "width": 0.5
             },
             "pattern": {
              "fillmode": "overlay",
              "size": 10,
              "solidity": 0.2
             }
            },
            "type": "bar"
           }
          ],
          "barpolar": [
           {
            "marker": {
             "line": {
              "color": "#E5ECF6",
              "width": 0.5
             },
             "pattern": {
              "fillmode": "overlay",
              "size": 10,
              "solidity": 0.2
             }
            },
            "type": "barpolar"
           }
          ],
          "carpet": [
           {
            "aaxis": {
             "endlinecolor": "#2a3f5f",
             "gridcolor": "white",
             "linecolor": "white",
             "minorgridcolor": "white",
             "startlinecolor": "#2a3f5f"
            },
            "baxis": {
             "endlinecolor": "#2a3f5f",
             "gridcolor": "white",
             "linecolor": "white",
             "minorgridcolor": "white",
             "startlinecolor": "#2a3f5f"
            },
            "type": "carpet"
           }
          ],
          "choropleth": [
           {
            "colorbar": {
             "outlinewidth": 0,
             "ticks": ""
            },
            "type": "choropleth"
           }
          ],
          "contour": [
           {
            "colorbar": {
             "outlinewidth": 0,
             "ticks": ""
            },
            "colorscale": [
             [
              0,
              "#0d0887"
             ],
             [
              0.1111111111111111,
              "#46039f"
             ],
             [
              0.2222222222222222,
              "#7201a8"
             ],
             [
              0.3333333333333333,
              "#9c179e"
             ],
             [
              0.4444444444444444,
              "#bd3786"
             ],
             [
              0.5555555555555556,
              "#d8576b"
             ],
             [
              0.6666666666666666,
              "#ed7953"
             ],
             [
              0.7777777777777778,
              "#fb9f3a"
             ],
             [
              0.8888888888888888,
              "#fdca26"
             ],
             [
              1,
              "#f0f921"
             ]
            ],
            "type": "contour"
           }
          ],
          "contourcarpet": [
           {
            "colorbar": {
             "outlinewidth": 0,
             "ticks": ""
            },
            "type": "contourcarpet"
           }
          ],
          "heatmap": [
           {
            "colorbar": {
             "outlinewidth": 0,
             "ticks": ""
            },
            "colorscale": [
             [
              0,
              "#0d0887"
             ],
             [
              0.1111111111111111,
              "#46039f"
             ],
             [
              0.2222222222222222,
              "#7201a8"
             ],
             [
              0.3333333333333333,
              "#9c179e"
             ],
             [
              0.4444444444444444,
              "#bd3786"
             ],
             [
              0.5555555555555556,
              "#d8576b"
             ],
             [
              0.6666666666666666,
              "#ed7953"
             ],
             [
              0.7777777777777778,
              "#fb9f3a"
             ],
             [
              0.8888888888888888,
              "#fdca26"
             ],
             [
              1,
              "#f0f921"
             ]
            ],
            "type": "heatmap"
           }
          ],
          "histogram": [
           {
            "marker": {
             "pattern": {
              "fillmode": "overlay",
              "size": 10,
              "solidity": 0.2
             }
            },
            "type": "histogram"
           }
          ],
          "histogram2d": [
           {
            "colorbar": {
             "outlinewidth": 0,
             "ticks": ""
            },
            "colorscale": [
             [
              0,
              "#0d0887"
             ],
             [
              0.1111111111111111,
              "#46039f"
             ],
             [
              0.2222222222222222,
              "#7201a8"
             ],
             [
              0.3333333333333333,
              "#9c179e"
             ],
             [
              0.4444444444444444,
              "#bd3786"
             ],
             [
              0.5555555555555556,
              "#d8576b"
             ],
             [
              0.6666666666666666,
              "#ed7953"
             ],
             [
              0.7777777777777778,
              "#fb9f3a"
             ],
             [
              0.8888888888888888,
              "#fdca26"
             ],
             [
              1,
              "#f0f921"
             ]
            ],
            "type": "histogram2d"
           }
          ],
          "histogram2dcontour": [
           {
            "colorbar": {
             "outlinewidth": 0,
             "ticks": ""
            },
            "colorscale": [
             [
              0,
              "#0d0887"
             ],
             [
              0.1111111111111111,
              "#46039f"
             ],
             [
              0.2222222222222222,
              "#7201a8"
             ],
             [
              0.3333333333333333,
              "#9c179e"
             ],
             [
              0.4444444444444444,
              "#bd3786"
             ],
             [
              0.5555555555555556,
              "#d8576b"
             ],
             [
              0.6666666666666666,
              "#ed7953"
             ],
             [
              0.7777777777777778,
              "#fb9f3a"
             ],
             [
              0.8888888888888888,
              "#fdca26"
             ],
             [
              1,
              "#f0f921"
             ]
            ],
            "type": "histogram2dcontour"
           }
          ],
          "mesh3d": [
           {
            "colorbar": {
             "outlinewidth": 0,
             "ticks": ""
            },
            "type": "mesh3d"
           }
          ],
          "parcoords": [
           {
            "line": {
             "colorbar": {
              "outlinewidth": 0,
              "ticks": ""
             }
            },
            "type": "parcoords"
           }
          ],
          "pie": [
           {
            "automargin": true,
            "type": "pie"
           }
          ],
          "scatter": [
           {
            "fillpattern": {
             "fillmode": "overlay",
             "size": 10,
             "solidity": 0.2
            },
            "type": "scatter"
           }
          ],
          "scatter3d": [
           {
            "line": {
             "colorbar": {
              "outlinewidth": 0,
              "ticks": ""
             }
            },
            "marker": {
             "colorbar": {
              "outlinewidth": 0,
              "ticks": ""
             }
            },
            "type": "scatter3d"
           }
          ],
          "scattercarpet": [
           {
            "marker": {
             "colorbar": {
              "outlinewidth": 0,
              "ticks": ""
             }
            },
            "type": "scattercarpet"
           }
          ],
          "scattergeo": [
           {
            "marker": {
             "colorbar": {
              "outlinewidth": 0,
              "ticks": ""
             }
            },
            "type": "scattergeo"
           }
          ],
          "scattergl": [
           {
            "marker": {
             "colorbar": {
              "outlinewidth": 0,
              "ticks": ""
             }
            },
            "type": "scattergl"
           }
          ],
          "scattermap": [
           {
            "marker": {
             "colorbar": {
              "outlinewidth": 0,
              "ticks": ""
             }
            },
            "type": "scattermap"
           }
          ],
          "scattermapbox": [
           {
            "marker": {
             "colorbar": {
              "outlinewidth": 0,
              "ticks": ""
             }
            },
            "type": "scattermapbox"
           }
          ],
          "scatterpolar": [
           {
            "marker": {
             "colorbar": {
              "outlinewidth": 0,
              "ticks": ""
             }
            },
            "type": "scatterpolar"
           }
          ],
          "scatterpolargl": [
           {
            "marker": {
             "colorbar": {
              "outlinewidth": 0,
              "ticks": ""
             }
            },
            "type": "scatterpolargl"
           }
          ],
          "scatterternary": [
           {
            "marker": {
             "colorbar": {
              "outlinewidth": 0,
              "ticks": ""
             }
            },
            "type": "scatterternary"
           }
          ],
          "surface": [
           {
            "colorbar": {
             "outlinewidth": 0,
             "ticks": ""
            },
            "colorscale": [
             [
              0,
              "#0d0887"
             ],
             [
              0.1111111111111111,
              "#46039f"
             ],
             [
              0.2222222222222222,
              "#7201a8"
             ],
             [
              0.3333333333333333,
              "#9c179e"
             ],
             [
              0.4444444444444444,
              "#bd3786"
             ],
             [
              0.5555555555555556,
              "#d8576b"
             ],
             [
              0.6666666666666666,
              "#ed7953"
             ],
             [
              0.7777777777777778,
              "#fb9f3a"
             ],
             [
              0.8888888888888888,
              "#fdca26"
             ],
             [
              1,
              "#f0f921"
             ]
            ],
            "type": "surface"
           }
          ],
          "table": [
           {
            "cells": {
             "fill": {
              "color": "#EBF0F8"
             },
             "line": {
              "color": "white"
             }
            },
            "header": {
             "fill": {
              "color": "#C8D4E3"
             },
             "line": {
              "color": "white"
             }
            },
            "type": "table"
           }
          ]
         },
         "layout": {
          "annotationdefaults": {
           "arrowcolor": "#2a3f5f",
           "arrowhead": 0,
           "arrowwidth": 1
          },
          "autotypenumbers": "strict",
          "coloraxis": {
           "colorbar": {
            "outlinewidth": 0,
            "ticks": ""
           }
          },
          "colorscale": {
           "diverging": [
            [
             0,
             "#8e0152"
            ],
            [
             0.1,
             "#c51b7d"
            ],
            [
             0.2,
             "#de77ae"
            ],
            [
             0.3,
             "#f1b6da"
            ],
            [
             0.4,
             "#fde0ef"
            ],
            [
             0.5,
             "#f7f7f7"
            ],
            [
             0.6,
             "#e6f5d0"
            ],
            [
             0.7,
             "#b8e186"
            ],
            [
             0.8,
             "#7fbc41"
            ],
            [
             0.9,
             "#4d9221"
            ],
            [
             1,
             "#276419"
            ]
           ],
           "sequential": [
            [
             0,
             "#0d0887"
            ],
            [
             0.1111111111111111,
             "#46039f"
            ],
            [
             0.2222222222222222,
             "#7201a8"
            ],
            [
             0.3333333333333333,
             "#9c179e"
            ],
            [
             0.4444444444444444,
             "#bd3786"
            ],
            [
             0.5555555555555556,
             "#d8576b"
            ],
            [
             0.6666666666666666,
             "#ed7953"
            ],
            [
             0.7777777777777778,
             "#fb9f3a"
            ],
            [
             0.8888888888888888,
             "#fdca26"
            ],
            [
             1,
             "#f0f921"
            ]
           ],
           "sequentialminus": [
            [
             0,
             "#0d0887"
            ],
            [
             0.1111111111111111,
             "#46039f"
            ],
            [
             0.2222222222222222,
             "#7201a8"
            ],
            [
             0.3333333333333333,
             "#9c179e"
            ],
            [
             0.4444444444444444,
             "#bd3786"
            ],
            [
             0.5555555555555556,
             "#d8576b"
            ],
            [
             0.6666666666666666,
             "#ed7953"
            ],
            [
             0.7777777777777778,
             "#fb9f3a"
            ],
            [
             0.8888888888888888,
             "#fdca26"
            ],
            [
             1,
             "#f0f921"
            ]
           ]
          },
          "colorway": [
           "#636efa",
           "#EF553B",
           "#00cc96",
           "#ab63fa",
           "#FFA15A",
           "#19d3f3",
           "#FF6692",
           "#B6E880",
           "#FF97FF",
           "#FECB52"
          ],
          "font": {
           "color": "#2a3f5f"
          },
          "geo": {
           "bgcolor": "white",
           "lakecolor": "white",
           "landcolor": "#E5ECF6",
           "showlakes": true,
           "showland": true,
           "subunitcolor": "white"
          },
          "hoverlabel": {
           "align": "left"
          },
          "hovermode": "closest",
          "mapbox": {
           "style": "light"
          },
          "paper_bgcolor": "white",
          "plot_bgcolor": "#E5ECF6",
          "polar": {
           "angularaxis": {
            "gridcolor": "white",
            "linecolor": "white",
            "ticks": ""
           },
           "bgcolor": "#E5ECF6",
           "radialaxis": {
            "gridcolor": "white",
            "linecolor": "white",
            "ticks": ""
           }
          },
          "scene": {
           "xaxis": {
            "backgroundcolor": "#E5ECF6",
            "gridcolor": "white",
            "gridwidth": 2,
            "linecolor": "white",
            "showbackground": true,
            "ticks": "",
            "zerolinecolor": "white"
           },
           "yaxis": {
            "backgroundcolor": "#E5ECF6",
            "gridcolor": "white",
            "gridwidth": 2,
            "linecolor": "white",
            "showbackground": true,
            "ticks": "",
            "zerolinecolor": "white"
           },
           "zaxis": {
            "backgroundcolor": "#E5ECF6",
            "gridcolor": "white",
            "gridwidth": 2,
            "linecolor": "white",
            "showbackground": true,
            "ticks": "",
            "zerolinecolor": "white"
           }
          },
          "shapedefaults": {
           "line": {
            "color": "#2a3f5f"
           }
          },
          "ternary": {
           "aaxis": {
            "gridcolor": "white",
            "linecolor": "white",
            "ticks": ""
           },
           "baxis": {
            "gridcolor": "white",
            "linecolor": "white",
            "ticks": ""
           },
           "bgcolor": "#E5ECF6",
           "caxis": {
            "gridcolor": "white",
            "linecolor": "white",
            "ticks": ""
           }
          },
          "title": {
           "x": 0.05
          },
          "xaxis": {
           "automargin": true,
           "gridcolor": "white",
           "linecolor": "white",
           "ticks": "",
           "title": {
            "standoff": 15
           },
           "zerolinecolor": "white",
           "zerolinewidth": 2
          },
          "yaxis": {
           "automargin": true,
           "gridcolor": "white",
           "linecolor": "white",
           "ticks": "",
           "title": {
            "standoff": 15
           },
           "zerolinecolor": "white",
           "zerolinewidth": 2
          }
         }
        },
        "title": {
         "text": "Inclusion Ratio vs Sequence Similarity (DTW)",
         "x": 0.5,
         "xanchor": "center"
        },
        "width": 600,
        "xaxis": {
         "range": [
          0,
          1
         ],
         "title": {
          "text": "Inclusion Ratio"
         }
        },
        "yaxis": {
         "range": [
          0,
          1
         ],
         "title": {
          "text": "Similarity (mean ± std)"
         }
        }
       }
      }
     },
     "metadata": {},
     "output_type": "display_data"
    },
    {
     "name": "stdout",
     "output_type": "stream",
     "text": [
      "\n",
      "🔹 Per-bin stats:\n",
      "            bin      mean       std  count\n",
      "0  (0.199, 0.4]  0.681690  0.197350     12\n",
      "1    (0.4, 0.6]  0.777908  0.136753     22\n",
      "2    (0.6, 0.8]  0.859091  0.133378     24\n",
      "3    (0.8, 1.0]  0.917643  0.103469     49\n",
      "\n",
      "🔸 Overall stats:\n",
      "Mean = 0.842, Std = 0.159, Count = 109\n",
      "\n",
      "🔹 Per-bin stats:\n",
      "            bin      mean       std  count\n",
      "0  (0.199, 0.4]  0.755598  0.138310     16\n",
      "1    (0.4, 0.6]  0.808576  0.162841     20\n",
      "2    (0.6, 0.8]  0.877685  0.141010     34\n",
      "3    (0.8, 1.0]  0.900780  0.131415     45\n",
      "\n",
      "🔸 Overall stats:\n",
      "Mean = 0.855, Std = 0.149, Count = 117\n",
      "\n",
      "🔹 Per-bin stats:\n",
      "            bin      mean       std  count\n",
      "0  (0.199, 0.4]  0.547353  0.123166     12\n",
      "1    (0.4, 0.6]  0.517269  0.096798     22\n",
      "2    (0.6, 0.8]  0.559018  0.116249     25\n",
      "3    (0.8, 1.0]  0.684467  0.163884     49\n",
      "\n",
      "🔸 Overall stats:\n",
      "Mean = 0.603, Std = 0.155, Count = 110\n",
      "\n",
      "🔹 Per-bin stats:\n",
      "            bin      mean       std  count\n",
      "0  (0.199, 0.4]  0.517553  0.153386     16\n",
      "1    (0.4, 0.6]  0.495662  0.090786     20\n",
      "2    (0.6, 0.8]  0.576933  0.133290     34\n",
      "3    (0.8, 1.0]  0.646594  0.141486     45\n",
      "\n",
      "🔸 Overall stats:\n",
      "Mean = 0.581, Std = 0.144, Count = 117\n",
      "\n",
      "🔹 Per-bin stats:\n",
      "            bin      mean       std  count\n",
      "0  (0.199, 0.4]  0.529845  0.131802     17\n",
      "1    (0.4, 0.6]  0.521395  0.115499     30\n",
      "2    (0.6, 0.8]  0.603063  0.128865     27\n",
      "3    (0.8, 1.0]  0.676993  0.148323     50\n",
      "\n",
      "🔸 Overall stats:\n",
      "Mean = 0.594, Std = 0.153, Count = 130\n",
      "\n",
      "🔹 Per-bin stats:\n",
      "            bin      mean       std  count\n",
      "0  (0.199, 0.4]  0.573464  0.181314     14\n",
      "1    (0.4, 0.6]  0.602152  0.147062     28\n",
      "2    (0.6, 0.8]  0.672221  0.156787     29\n",
      "3    (0.8, 1.0]  0.653022  0.166277     42\n",
      "\n",
      "🔸 Overall stats:\n",
      "Mean = 0.629, Std = 0.164, Count = 122\n"
     ]
    },
    {
     "name": "stderr",
     "output_type": "stream",
     "text": [
      "/tmp/ipykernel_3396103/4226305059.py:159: SettingWithCopyWarning:\n",
      "\n",
      "\n",
      "A value is trying to be set on a copy of a slice from a DataFrame.\n",
      "Try using .loc[row_indexer,col_indexer] = value instead\n",
      "\n",
      "See the caveats in the documentation: https://pandas.pydata.org/pandas-docs/stable/user_guide/indexing.html#returning-a-view-versus-a-copy\n",
      "\n",
      "/tmp/ipykernel_3396103/4226305059.py:159: SettingWithCopyWarning:\n",
      "\n",
      "\n",
      "A value is trying to be set on a copy of a slice from a DataFrame.\n",
      "Try using .loc[row_indexer,col_indexer] = value instead\n",
      "\n",
      "See the caveats in the documentation: https://pandas.pydata.org/pandas-docs/stable/user_guide/indexing.html#returning-a-view-versus-a-copy\n",
      "\n",
      "/tmp/ipykernel_3396103/4226305059.py:159: SettingWithCopyWarning:\n",
      "\n",
      "\n",
      "A value is trying to be set on a copy of a slice from a DataFrame.\n",
      "Try using .loc[row_indexer,col_indexer] = value instead\n",
      "\n",
      "See the caveats in the documentation: https://pandas.pydata.org/pandas-docs/stable/user_guide/indexing.html#returning-a-view-versus-a-copy\n",
      "\n",
      "/tmp/ipykernel_3396103/4226305059.py:159: SettingWithCopyWarning:\n",
      "\n",
      "\n",
      "A value is trying to be set on a copy of a slice from a DataFrame.\n",
      "Try using .loc[row_indexer,col_indexer] = value instead\n",
      "\n",
      "See the caveats in the documentation: https://pandas.pydata.org/pandas-docs/stable/user_guide/indexing.html#returning-a-view-versus-a-copy\n",
      "\n",
      "/tmp/ipykernel_3396103/4226305059.py:159: SettingWithCopyWarning:\n",
      "\n",
      "\n",
      "A value is trying to be set on a copy of a slice from a DataFrame.\n",
      "Try using .loc[row_indexer,col_indexer] = value instead\n",
      "\n",
      "See the caveats in the documentation: https://pandas.pydata.org/pandas-docs/stable/user_guide/indexing.html#returning-a-view-versus-a-copy\n",
      "\n",
      "/tmp/ipykernel_3396103/4226305059.py:159: SettingWithCopyWarning:\n",
      "\n",
      "\n",
      "A value is trying to be set on a copy of a slice from a DataFrame.\n",
      "Try using .loc[row_indexer,col_indexer] = value instead\n",
      "\n",
      "See the caveats in the documentation: https://pandas.pydata.org/pandas-docs/stable/user_guide/indexing.html#returning-a-view-versus-a-copy\n",
      "\n"
     ]
    },
    {
     "data": {
      "text/plain": [
       "(            bin      mean       std  count\n",
       " 0  (0.199, 0.4]  0.573464  0.181314     14\n",
       " 1    (0.4, 0.6]  0.602152  0.147062     28\n",
       " 2    (0.6, 0.8]  0.672221  0.156787     29\n",
       " 3    (0.8, 1.0]  0.653022  0.166277     42,\n",
       " 0.6290025191936346,\n",
       " 0.16402700000232404)"
      ]
     },
     "execution_count": 86,
     "metadata": {},
     "output_type": "execute_result"
    }
   ],
   "source": [
    "#------------------------------------------------\n",
    "# Q0: Selection Ratios\n",
    "#------------------------------------------------\n",
    "\n",
    "\n",
    "# THIS IS FUNCTION WITHOUT ERROR BAR\n",
    "# plot_multiple_selection_vs_inclusion_ratio([\n",
    "#     (df_eval_rag, efil3_human_rag2, \"ours-humaneval\"),\n",
    "#     (df_eval_rag, efil3_both_rag2, \"ours-strict\"),\n",
    "#     (df_eval_norag, efil3_human_norag2, \"norag-humaneval\"),\n",
    "#     (df_eval_norag, efil3_both_norag2, \"norag-strict\"),\n",
    "# ], bins=5, title_str='strict evaluator')\n",
    "\n",
    "# plot_multiple_selection_vs_inclusion_ratio([\n",
    "#     (df_eval_rag, efil3_human_rag, \"ours-humaneval\"),\n",
    "#     (df_eval_rag, efil3_both_rag, \"ours-strict\"),\n",
    "#     (df_eval_norag, efil3_human_norag, \"norag-humaneval\"),\n",
    "#     (df_eval_norag, efil3_both_norag, \"norag-strict\"),\n",
    "# ], bins=5, title_str='strict evaluator')\n",
    "\n",
    "# plot_multiple_selection_vs_inclusion_ratio([\n",
    "#     (df_eval_rag, efil3_human_rag, \"ours-human\"),\n",
    "#     (df_eval_norag, efil3_both_rag, \"ours-strict\"),\n",
    "# ], bins=5, title_str='strict evaluator')\n",
    "\n",
    "# plot_multiple_selection_vs_inclusion_ratio([\n",
    "#     (df_eval_rag, efil3_human_norag, \"baseline1-human\"),\n",
    "#     (df_eval_norag, efil3_both_norag, \"baseline1-strict\"),\n",
    "# ], bins=5, title_str='strict evaluator')\n",
    "\n",
    "# plot_multiple_selection_vs_inclusion_ratio([\n",
    "#     (df_eval_raggoal, efil3_human_raggoal, \"baseline2-human\"),\n",
    "#     (df_eval_raggoal, efil3_raggoal, \"baseline2-strict\"),\n",
    "# ], bins=5, title_str='strict evaluator')\n",
    "\n",
    "# plot_multiple_selection_vs_inclusion_ratio([\n",
    "#     (df_eval_noraggoal, efil3_human_noraggoal, \"baseline3-human\"),\n",
    "#     (df_eval_noraggoal, efil3_noraggoal, \"baseline3-strict\"),\n",
    "# ], bins=5, title_str='strict evaluator')\n",
    "\n",
    "# draw with barplot\n",
    "def plot_similarity_vs_inclusion(data_pairs, bins=10, title_str=\"\", column_name=\"\"):\n",
    "    \"\"\"\n",
    "    Plots similarity (mean ± std) vs. inclusion ratio for multiple (df_selected, label) pairs.\n",
    "    \n",
    "    Args:\n",
    "        data_pairs (list of tuples): Each tuple contains (df_selected, label). df_selected must contain 'inclusion_ratio' and 'similarity'.\n",
    "        bins (int): Number of bins for inclusion_ratio.\n",
    "        title_str (str): Title for the plot.\n",
    "    \"\"\"\n",
    "    bin_edges = np.linspace(0, 1, bins + 1)\n",
    "    bin_centers = [(bin_edges[i] + bin_edges[i + 1]) / 2 for i in range(bins)]\n",
    "\n",
    "    colors = ['blue', 'red', 'green', 'orange', 'purple', 'brown', 'teal', 'pink']\n",
    "    dash_styles = ['solid', 'dot', 'dash', 'longdash', 'dashdot', 'longdashdot']\n",
    "    marker_symbols = ['circle', 'square', 'diamond', 'cross', 'x', 'triangle-up']\n",
    "\n",
    "    fig = go.Figure()\n",
    "\n",
    "    for i, (df_selected, label) in enumerate(data_pairs):\n",
    "        # Bin data\n",
    "        selected_binned = pd.cut(df_selected[\"inclusion_ratio\"], bins=bin_edges, include_lowest=True)\n",
    "        mean_similarity = df_selected.groupby(selected_binned, observed=True)[column_name].mean()\n",
    "        std_similarity = df_selected.groupby(selected_binned, observed=True)[column_name].std().fillna(0)\n",
    "\n",
    "        # Count how many samples are in each bin\n",
    "        counts = df_selected.groupby(selected_binned, observed=True).size()\n",
    "        print(f\"Counts per bin for {label}:\")\n",
    "        print(counts)\n",
    "\n",
    "\n",
    "        # Add mean line with error bars (sticks)\n",
    "        fig.add_trace(go.Scatter(\n",
    "            x=bin_centers,\n",
    "            y=mean_similarity.values,\n",
    "            mode='lines+markers',\n",
    "            name=label,\n",
    "            line=dict(color=colors[i % len(colors)], dash=dash_styles[i % len(dash_styles)]),\n",
    "            marker=dict(symbol=marker_symbols[i % len(marker_symbols)], size=8),\n",
    "            error_y=dict(\n",
    "                type='data',\n",
    "                array=std_similarity.values,\n",
    "                visible=True,\n",
    "                color=colors[i % len(colors)]\n",
    "            )\n",
    "        ))\n",
    "\n",
    "    fig.update_layout(\n",
    "        title=dict(\n",
    "        text=f\"{title_str}\",\n",
    "        x=0.5,  # Center the title\n",
    "        xanchor='center'  # Anchor the title at the center\n",
    "        ),\n",
    "        xaxis_title=\"Inclusion Ratio\",\n",
    "        yaxis_title=\"Similarity (mean ± std)\",\n",
    "        xaxis=dict(range=[0.0, 1]),\n",
    "        yaxis=dict(range=[0, 1]),\n",
    "        width=600,\n",
    "        height=500,\n",
    "        legend=dict(title=\"Legend\", x=0.01, y=0.05),\n",
    "    )\n",
    "\n",
    "    fig.show()\n",
    "\n",
    "def plot_similarity_vs_inclusion_trimmed(data_pairs, bins=4, title_str=\"\", column_name=\"\"):\n",
    "    import numpy as np\n",
    "    import pandas as pd\n",
    "    import plotly.graph_objects as go\n",
    "\n",
    "    bin_edges = np.linspace(0.2, 1.0, bins + 1)  # Start at 0.2 instead of 0.0\n",
    "    bin_centers = [(bin_edges[i] + bin_edges[i + 1]) / 2 for i in range(bins)]\n",
    "\n",
    "    colors = ['blue', 'red', 'green', 'orange']\n",
    "    dash_styles = ['solid', 'dot', 'dash', 'longdash']\n",
    "    marker_symbols = ['circle', 'square', 'diamond', 'cross']\n",
    "\n",
    "    fig = go.Figure()\n",
    "\n",
    "    for i, (df_selected, label) in enumerate(data_pairs):\n",
    "        selected_binned = pd.cut(df_selected[\"inclusion_ratio\"], bins=bin_edges, include_lowest=True)\n",
    "        mean_similarity = df_selected.groupby(selected_binned, observed=True)[column_name].mean()\n",
    "        std_similarity = df_selected.groupby(selected_binned, observed=True)[column_name].std().fillna(0)\n",
    "\n",
    "        fig.add_trace(go.Scatter(\n",
    "            x=bin_centers,\n",
    "            y=mean_similarity.values,\n",
    "            mode='lines+markers',\n",
    "            name=label,\n",
    "            line=dict(color=colors[i % len(colors)], dash=dash_styles[i % len(dash_styles)]),\n",
    "            marker=dict(symbol=marker_symbols[i % len(marker_symbols)], size=8),\n",
    "            error_y=dict(\n",
    "                type='data',\n",
    "                array=std_similarity.values,\n",
    "                visible=True,\n",
    "                color=colors[i % len(colors)]\n",
    "            )\n",
    "        ))\n",
    "\n",
    "    fig.update_layout(\n",
    "        title=dict(\n",
    "            text=f\"{title_str}\",\n",
    "            x=0.5,\n",
    "            xanchor='center'\n",
    "        ),\n",
    "        xaxis_title=\"Inclusion Ratio\",\n",
    "        yaxis_title=\"Similarity (mean ± std)\",\n",
    "        xaxis=dict(range=[0, 1.0]),\n",
    "        yaxis=dict(range=[0, 1]),\n",
    "        width=600,\n",
    "        height=500,\n",
    "        legend=dict(title=\"Legend\", x=0.01, y=0.05),\n",
    "    )\n",
    "\n",
    "    fig.show()\n",
    "\n",
    "def compute_bin_stats(df, column_name, start=0.0, stop=1.0, bins=5):\n",
    "    # Step 1: Define bin edges\n",
    "    bin_edges = np.linspace(start, stop, bins + 1)\n",
    "    df['bin'] = pd.cut(df['inclusion_ratio'], bins=bin_edges, include_lowest=True)\n",
    "\n",
    "    # Step 2: Compute per-bin stats\n",
    "    bin_stats = df.groupby('bin', observed=True)[column_name].agg(['mean', 'std', 'count']).reset_index()\n",
    "\n",
    "    # Step 3: Overall stats\n",
    "    overall_mean = df[column_name].mean()\n",
    "    overall_std = df[column_name].std()\n",
    "    overall_count = len(df)\n",
    "\n",
    "    print(\"\\n🔹 Per-bin stats:\")\n",
    "    print(bin_stats)\n",
    "\n",
    "    print(f\"\\n🔸 Overall stats:\\nMean = {overall_mean:.3f}, Std = {overall_std:.3f}, Count = {overall_count}\")\n",
    "    \n",
    "    return bin_stats, overall_mean, overall_std\n",
    "\n",
    "print(\"=================================================\")\n",
    "print(\"SIMILARITY vs INCLUSION\")\n",
    "print(\"=================================================\")\n",
    "#------------------------------------------------\n",
    "# Q1: Similarity for EACH BASELINES under Human PASS/FAIL\n",
    "#------------------------------------------------\n",
    "# PLOT Similarities of SELECTED VALUES in each bin\n",
    "# Remove first-bin data (e.g., 0–0.2 if 5 bins)\n",
    "filtered_data_pairs = []\n",
    "for df, label in [\n",
    "    (efil3_human_rag, \"taxo-med-rag\"),\n",
    "    (efil3_human_norag, \"taxo-med-norag\")\n",
    "]:\n",
    "    df_filtered = df[df['inclusion_ratio'] > 0.2]  # adjust based on actual bin edges\n",
    "    filtered_data_pairs.append((df_filtered, label))\n",
    "\n",
    "plot_similarity_vs_inclusion_trimmed(\n",
    "    filtered_data_pairs,\n",
    "    title_str=\"Inclusion Ratio vs Taxonomy Weighted Similarity\",\n",
    "    bins=4,\n",
    "    column_name='sim_tax3'\n",
    ")\n",
    "\n",
    "\n",
    "filtered_data_pairs2 = []\n",
    "for df, label in [\n",
    "    (efil3_raggoal, \"goal-med-rag\"),\n",
    "    (efil3_noraggoal, \"goal-med-norag\")\n",
    "]:\n",
    "    df_filtered = df[df['inclusion_ratio'] > 0.2]  # adjust based on actual bin edges\n",
    "    filtered_data_pairs2.append((df_filtered, label))\n",
    "\n",
    "plot_similarity_vs_inclusion_trimmed(\n",
    "    filtered_data_pairs2,\n",
    "    title_str=\"Inclusion Ratio vs Sequence Similarity (DTW)\",\n",
    "    bins=4, column_name='sim_seq3'\n",
    "    )\n",
    "\n",
    "# similarity between taxonomy\n",
    "compute_bin_stats(efil3_human_rag, column_name='sim_tax3', start=0.2, stop=1.0, bins=4)\n",
    "compute_bin_stats(efil3_human_norag, column_name='sim_tax3', start=0.2, stop=1.0, bins=4)\n",
    "\n",
    "# similarity between sequences\n",
    "compute_bin_stats(efil3_human_seq_rag, column_name='sim_seq3', start=0.2, stop=1.0, bins=4)\n",
    "compute_bin_stats(efil3_human_seq_norag, column_name='sim_seq3', start=0.2, stop=1.0, bins=4)\n",
    "compute_bin_stats(efil3_human_raggoal, column_name='sim_seq3', start=0.2, stop=1.0, bins=4)\n",
    "compute_bin_stats(efil3_human_noraggoal, column_name='sim_seq3', start=0.2, stop=1.0, bins=4)"
   ]
  },
  {
   "cell_type": "code",
   "execution_count": 52,
   "id": "024af0a8",
   "metadata": {},
   "outputs": [
    {
     "name": "stdout",
     "output_type": "stream",
     "text": [
      "    idx           baseline                            source_uid  \\\n",
      "13   13  /output-rag-0602/  1a894d3c-b3ef-448a-a3de-2b38677cef36   \n",
      "15   15  /output-rag-0602/  1dc85adb-fbdd-4275-b9cf-42976acb4d14   \n",
      "16   16  /output-rag-0602/  1dc85adb-fbdd-4275-b9cf-42976acb4d14   \n",
      "24   24  /output-rag-0602/  2978ddbc-cdc9-4bfa-9a7c-4bf056904010   \n",
      "25   25  /output-rag-0602/  2978ddbc-cdc9-4bfa-9a7c-4bf056904010   \n",
      "26   26  /output-rag-0602/  2978ddbc-cdc9-4bfa-9a7c-4bf056904010   \n",
      "29   29  /output-rag-0602/  29e00040-6e0f-4f0e-816d-1ac97c1e5485   \n",
      "30   30  /output-rag-0602/  2ba0becb-58c2-43a1-97bb-7e153a34eb47   \n",
      "31   31  /output-rag-0602/  2ba0becb-58c2-43a1-97bb-7e153a34eb47   \n",
      "35   35  /output-rag-0602/  2bc7d6fa-a02e-4367-b316-d6b4e8a2ce3f   \n",
      "36   36  /output-rag-0602/  2c27b5f1-4af6-49ad-a43c-3efb0c150868   \n",
      "37   37  /output-rag-0602/  2c27b5f1-4af6-49ad-a43c-3efb0c150868   \n",
      "38   38  /output-rag-0602/  2c27b5f1-4af6-49ad-a43c-3efb0c150868   \n",
      "42   42  /output-rag-0602/  2f46d1e6-2a85-4d46-b955-10c2eded661c   \n",
      "43   43  /output-rag-0602/  2f46d1e6-2a85-4d46-b955-10c2eded661c   \n",
      "44   44  /output-rag-0602/  2f46d1e6-2a85-4d46-b955-10c2eded661c   \n",
      "60   60  /output-rag-0602/  38a7b760-56f9-4565-8b70-f8dad5768ace   \n",
      "61   61  /output-rag-0602/  38a7b760-56f9-4565-8b70-f8dad5768ace   \n",
      "62   62  /output-rag-0602/  38a7b760-56f9-4565-8b70-f8dad5768ace   \n",
      "64   64  /output-rag-0602/  3ec3eab7-842d-409d-8866-42ddcbd24cd9   \n",
      "\n",
      "                              target_uid  \\\n",
      "13  2f46d1e6-2a85-4d46-b955-10c2eded661c   \n",
      "15  31d6fe77-da70-42da-8f47-66bb79b9285b   \n",
      "16  31d6fe77-da70-42da-8f47-66bb79b9285b   \n",
      "24  35080724-6604-401c-8b06-19b7cece3d45   \n",
      "25  35080724-6604-401c-8b06-19b7cece3d45   \n",
      "26  35080724-6604-401c-8b06-19b7cece3d45   \n",
      "29  3728f856-0d47-4614-824f-37b6dda8e357   \n",
      "30  38a7b760-56f9-4565-8b70-f8dad5768ace   \n",
      "31  38a7b760-56f9-4565-8b70-f8dad5768ace   \n",
      "35  3ec3eab7-842d-409d-8866-42ddcbd24cd9   \n",
      "36  46e07357-6946-4ff0-ba36-ae11840bdc39   \n",
      "37  46e07357-6946-4ff0-ba36-ae11840bdc39   \n",
      "38  46e07357-6946-4ff0-ba36-ae11840bdc39   \n",
      "42  487d752c-6e22-43e3-9c08-627bc2a6c6d4   \n",
      "43  487d752c-6e22-43e3-9c08-627bc2a6c6d4   \n",
      "44  487d752c-6e22-43e3-9c08-627bc2a6c6d4   \n",
      "60  5c15607b-96af-4503-84b4-d1745f3a3ae0   \n",
      "61  5c15607b-96af-4503-84b4-d1745f3a3ae0   \n",
      "62  5c15607b-96af-4503-84b4-d1745f3a3ae0   \n",
      "64  5c2e910c-84e0-4042-b5d6-880a731c3e67   \n",
      "\n",
      "                                      target_taxonomy  \\\n",
      "13  {\"main ingredient\": \"dough\", \"liquid\": \"juice\"...   \n",
      "15  {\"main ingredient\": \"pepper\", \"secondary ingre...   \n",
      "16  {\"main ingredient\": \"pepper\", \"secondary ingre...   \n",
      "24  {\"main ingredient\": \"meat\", \"preparation metho...   \n",
      "25  {\"main ingredient\": \"meat\", \"preparation metho...   \n",
      "26  {\"main ingredient\": \"meat\", \"preparation metho...   \n",
      "29  {\"main ingredient\": \"noodles\", \"cooking method...   \n",
      "30  {\"main ingredient\": \"avocado\", \"preparation me...   \n",
      "31  {\"main ingredient\": \"avocado\", \"preparation me...   \n",
      "35  {\"main ingredient\": \"flatbread\", \"preparation ...   \n",
      "36  {\"main ingredient\": \"bell pepper\", \"liquid\": \"...   \n",
      "37  {\"main ingredient\": \"bell pepper\", \"preparatio...   \n",
      "38  {\"main ingredient\": \"bell pepper\", \"preparatio...   \n",
      "42  {\"main ingredient\": \"potato\", \"preparation met...   \n",
      "43  {\"main ingredient\": \"potato\", \"preparation met...   \n",
      "44  {\"main ingredient\": \"potato\", \"preparation met...   \n",
      "60  {\"main ingredient\": \"potato\", \"preparation met...   \n",
      "61  {\"main ingredient\": \"potato\", \"preparation met...   \n",
      "62  {\"main ingredient\": \"potato\", \"cooking method\"...   \n",
      "64  {\"main ingredient\": \"nut\", \"cooking method\": \"...   \n",
      "\n",
      "                                      target_sequence       core_activity  \\\n",
      "13  [\"Place dough in dough mixer.\", \"Pour juice in...       prepare dough   \n",
      "15  [\"Retrieve knife from table\", \"Place pepper on...  cutting vegetables   \n",
      "16  [\"Pick up knife\", \"Pick up pepper\", \"Place pep...      cut vegetables   \n",
      "24  [\"Open refrigerator\", \"Take out meat\", \"Place ...        prepare meat   \n",
      "25  [\"Pick up meat from table\", \"Place meat on tab...        prepare meat   \n",
      "26  [\"Select fresh meat from table or refrigerator...        prepare meat   \n",
      "29  [\"Pick up pot\", \"Place pot on stove\", \"Pick up...        boil noodles   \n",
      "30  [\"Pick up avocado from refrigerator\", \"Place a...     prepare avocado   \n",
      "31  [\"Select avocado\", \"Place avocado on chopping ...     prepare avocado   \n",
      "35  [\"pick up pan\", \"pour oil into pan\", \"place pa...       fry flatbread   \n",
      "36  [\"Open refrigerator\", \"Take out bell pepper\", ...     blending pepper   \n",
      "37  [\"Take bell pepper from fridge\", \"Slice bell p...        blend pepper   \n",
      "38  [\"Pick up bell pepper (33)\", \"Wash bell pepper...        blend pepper   \n",
      "42  [\"pick up knife\", \"pick up potato\", \"place pot...         mash potato   \n",
      "43  [\"take potato from table or refrigerator\", \"pl...         mash potato   \n",
      "44  [\"pick up potato\", \"place potato in pan\", \"pla...         mash potato   \n",
      "60  [\"player picks up potato\", \"player opens pot\",...         bake potato   \n",
      "61  [\"pick up potato\", \"place potato in pan\", \"pla...         bake potato   \n",
      "62  [\"Pick up potato\", \"Place potato in oven\", \"Ba...         bake potato   \n",
      "64  [\"turn nuts in pan\", \"strain oil from fried nu...      frying a snack   \n",
      "\n",
      "    entity_check_tax  entity_check_seq  sim_tax1  ...  sim_seq3  \\\n",
      "13              True              True  0.756019  ...  0.577408   \n",
      "15              True              True  0.888057  ...  0.592011   \n",
      "16              True              True  1.000000  ...  0.643955   \n",
      "24              True              True  0.860114  ...  0.320774   \n",
      "25              True              True  0.861086  ...  0.398810   \n",
      "26              True              True  0.805166  ...  0.392667   \n",
      "29              True              True  0.700000  ...  0.442250   \n",
      "30              True              True  0.700000  ...  0.563784   \n",
      "31              True              True  0.700000  ...  0.558014   \n",
      "35              True              True  0.965988  ...  0.644787   \n",
      "36              True              True  1.000000  ...  0.357595   \n",
      "37              True              True  0.910093  ...  0.511785   \n",
      "38              True              True  0.957583  ...  0.474869   \n",
      "42              True              True  0.715320  ...  0.465193   \n",
      "43              True              True  0.842892  ...  0.438480   \n",
      "44              True              True  0.790673  ...  0.472470   \n",
      "60              True              True  0.796970  ...  0.414778   \n",
      "61              True              True  0.845309  ...  0.549338   \n",
      "62              True              True  0.900000  ...  0.685608   \n",
      "64              True              True  0.568289  ...  0.621887   \n",
      "\n",
      "    core_check_tax  core_check_seq  human_check_tax  human_check_seq  \\\n",
      "13            True            True             True             True   \n",
      "15            True            True             True             True   \n",
      "16            True            True             True             True   \n",
      "24            True            True             True             True   \n",
      "25            True            True             True             True   \n",
      "26            True            True             True             True   \n",
      "29            True            True             True             True   \n",
      "30            True            True             True             True   \n",
      "31            True            True             True             True   \n",
      "35            True            True             True             True   \n",
      "36            True            True             True             True   \n",
      "37            True            True             True             True   \n",
      "38            True            True             True             True   \n",
      "42            True            True             True             True   \n",
      "43            True            True             True             True   \n",
      "44            True            True             True             True   \n",
      "60            True            True             True             True   \n",
      "61            True            True             True             True   \n",
      "62            True            True             True             True   \n",
      "64            True            True             True             True   \n",
      "\n",
      "            filename                                          filepath  \\\n",
      "13  evaluator_13.pkl  ../../v6_result/output-rag-0602\\evaluator_13.pkl   \n",
      "15  evaluator_15.pkl  ../../v6_result/output-rag-0602\\evaluator_15.pkl   \n",
      "16  evaluator_16.pkl  ../../v6_result/output-rag-0602\\evaluator_16.pkl   \n",
      "24  evaluator_24.pkl  ../../v6_result/output-rag-0602\\evaluator_24.pkl   \n",
      "25  evaluator_25.pkl  ../../v6_result/output-rag-0602\\evaluator_25.pkl   \n",
      "26  evaluator_26.pkl  ../../v6_result/output-rag-0602\\evaluator_26.pkl   \n",
      "29  evaluator_29.pkl  ../../v6_result/output-rag-0602\\evaluator_29.pkl   \n",
      "30  evaluator_30.pkl  ../../v6_result/output-rag-0602\\evaluator_30.pkl   \n",
      "31  evaluator_31.pkl  ../../v6_result/output-rag-0602\\evaluator_31.pkl   \n",
      "35  evaluator_35.pkl  ../../v6_result/output-rag-0602\\evaluator_35.pkl   \n",
      "36  evaluator_36.pkl  ../../v6_result/output-rag-0602\\evaluator_36.pkl   \n",
      "37  evaluator_37.pkl  ../../v6_result/output-rag-0602\\evaluator_37.pkl   \n",
      "38  evaluator_38.pkl  ../../v6_result/output-rag-0602\\evaluator_38.pkl   \n",
      "42  evaluator_42.pkl  ../../v6_result/output-rag-0602\\evaluator_42.pkl   \n",
      "43  evaluator_43.pkl  ../../v6_result/output-rag-0602\\evaluator_43.pkl   \n",
      "44  evaluator_44.pkl  ../../v6_result/output-rag-0602\\evaluator_44.pkl   \n",
      "60  evaluator_60.pkl  ../../v6_result/output-rag-0602\\evaluator_60.pkl   \n",
      "61  evaluator_61.pkl  ../../v6_result/output-rag-0602\\evaluator_61.pkl   \n",
      "62  evaluator_62.pkl  ../../v6_result/output-rag-0602\\evaluator_62.pkl   \n",
      "64  evaluator_64.pkl  ../../v6_result/output-rag-0602\\evaluator_64.pkl   \n",
      "\n",
      "    extracted_baseline  inclusion_ratio inclusion_bin  \n",
      "13                             0.560000    (0.4, 0.6]  \n",
      "15                             0.900000    (0.8, 1.0]  \n",
      "16                             1.000000    (0.8, 1.0]  \n",
      "24                             0.600000    (0.4, 0.6]  \n",
      "25                             0.800000    (0.6, 0.8]  \n",
      "26                             0.900000    (0.8, 1.0]  \n",
      "29                             0.700000    (0.6, 0.8]  \n",
      "30                             0.531250    (0.4, 0.6]  \n",
      "31                             0.625000    (0.6, 0.8]  \n",
      "35                             1.000000    (0.8, 1.0]  \n",
      "36                             0.360000    (0.2, 0.4]  \n",
      "37                             0.480000    (0.4, 0.6]  \n",
      "38                             0.560000    (0.4, 0.6]  \n",
      "42                             0.652174    (0.6, 0.8]  \n",
      "43                             0.652174    (0.6, 0.8]  \n",
      "44                             0.695652    (0.6, 0.8]  \n",
      "60                             0.666667    (0.6, 0.8]  \n",
      "61                             0.666667    (0.6, 0.8]  \n",
      "62                             1.000000    (0.8, 1.0]  \n",
      "64                             0.500000    (0.4, 0.6]  \n",
      "\n",
      "[20 rows x 24 columns]\n",
      "    idx           baseline                            source_uid  \\\n",
      "0     0  /output-rag-0602/  01ce4fd6-197a-4792-8778-775b03780369   \n",
      "1     1  /output-rag-0602/  01ce4fd6-197a-4792-8778-775b03780369   \n",
      "2     2  /output-rag-0602/  01ce4fd6-197a-4792-8778-775b03780369   \n",
      "3     3  /output-rag-0602/  026dac2d-2ab3-4f9c-9e1d-6198db4fb080   \n",
      "4     4  /output-rag-0602/  026dac2d-2ab3-4f9c-9e1d-6198db4fb080   \n",
      "5     5  /output-rag-0602/  026dac2d-2ab3-4f9c-9e1d-6198db4fb080   \n",
      "6     6  /output-rag-0602/  02a06bf1-51b8-4902-b088-573e29fcd7ec   \n",
      "7     7  /output-rag-0602/  02a06bf1-51b8-4902-b088-573e29fcd7ec   \n",
      "8     8  /output-rag-0602/  02a06bf1-51b8-4902-b088-573e29fcd7ec   \n",
      "9     9  /output-rag-0602/  14bcb17c-f70a-41d5-b10d-294388084dfc   \n",
      "10   10  /output-rag-0602/  14bcb17c-f70a-41d5-b10d-294388084dfc   \n",
      "11   11  /output-rag-0602/  14bcb17c-f70a-41d5-b10d-294388084dfc   \n",
      "12   12  /output-rag-0602/  1a894d3c-b3ef-448a-a3de-2b38677cef36   \n",
      "14   14  /output-rag-0602/  1a894d3c-b3ef-448a-a3de-2b38677cef36   \n",
      "17   17  /output-rag-0602/  1dc85adb-fbdd-4275-b9cf-42976acb4d14   \n",
      "18   18  /output-rag-0602/  24ba7993-7fc8-4447-afd5-7ff6d548b11a   \n",
      "19   19  /output-rag-0602/  24ba7993-7fc8-4447-afd5-7ff6d548b11a   \n",
      "20   20  /output-rag-0602/  24ba7993-7fc8-4447-afd5-7ff6d548b11a   \n",
      "21   21  /output-rag-0602/  28e0affc-cacb-4db8-ab32-dfc16931b86a   \n",
      "22   22  /output-rag-0602/  28e0affc-cacb-4db8-ab32-dfc16931b86a   \n",
      "\n",
      "                              target_uid  \\\n",
      "0   2ba0becb-58c2-43a1-97bb-7e153a34eb47   \n",
      "1   2ba0becb-58c2-43a1-97bb-7e153a34eb47   \n",
      "2   2ba0becb-58c2-43a1-97bb-7e153a34eb47   \n",
      "3   2bc7d6fa-a02e-4367-b316-d6b4e8a2ce3f   \n",
      "4   2bc7d6fa-a02e-4367-b316-d6b4e8a2ce3f   \n",
      "5   2bc7d6fa-a02e-4367-b316-d6b4e8a2ce3f   \n",
      "6   2c27b5f1-4af6-49ad-a43c-3efb0c150868   \n",
      "7   2c27b5f1-4af6-49ad-a43c-3efb0c150868   \n",
      "8   2c27b5f1-4af6-49ad-a43c-3efb0c150868   \n",
      "9   2da5c1ee-bd40-406d-83a7-2f3d93293949   \n",
      "10  2da5c1ee-bd40-406d-83a7-2f3d93293949   \n",
      "11  2da5c1ee-bd40-406d-83a7-2f3d93293949   \n",
      "12  2f46d1e6-2a85-4d46-b955-10c2eded661c   \n",
      "14  2f46d1e6-2a85-4d46-b955-10c2eded661c   \n",
      "17  31d6fe77-da70-42da-8f47-66bb79b9285b   \n",
      "18  321b5e21-2951-40c9-a2f9-6ce0c145cfb8   \n",
      "19  321b5e21-2951-40c9-a2f9-6ce0c145cfb8   \n",
      "20  321b5e21-2951-40c9-a2f9-6ce0c145cfb8   \n",
      "21  341b5211-bb72-4bec-bd3d-c0d518887960   \n",
      "22  341b5211-bb72-4bec-bd3d-c0d518887960   \n",
      "\n",
      "                                      target_taxonomy  \\\n",
      "0   {\"main item\": \"impossible\", \"organization meth...   \n",
      "1   {\"main item\": \"towel\", \"arrangement method\": \"...   \n",
      "2   {\"main item\": \"towel\", \"organization method\": ...   \n",
      "3   {\"main ingredient\": \"steak\", \"oil\": \"impossibl...   \n",
      "4   {\"main activity\": \"seasoning steak\", \"steps\": ...   \n",
      "5   {\"main ingredient\": \"steak\", \"oil\": \"oil\", \"se...   \n",
      "6   {\"main ingredient\": \"bell pepper\", \"processing...   \n",
      "7   {\"activity\": \"shelling\", \"category\": \"preparat...   \n",
      "8   {\"main ingredient\": \"corn\", \"processing method...   \n",
      "9   {\"main ingredient\": \"impossible\", \"preparation...   \n",
      "10  {\"main ingredient\": \"garlic\", \"preparation met...   \n",
      "11  {\"main ingredient\": \"garlic\", \"preparation met...   \n",
      "12  {\"main ingredient\": \"impossible\", \"liquid\": \"j...   \n",
      "14  {\"main ingredient\": \"impossible\", \"liquid\": \"i...   \n",
      "17  {\"main ingredient\": \"pepper\", \"variety\": \"empt...   \n",
      "18  {\"main ingredient\": \"bread\", \"filling\": \"impos...   \n",
      "19  {\"main ingredient\": \"bread\", \"filling\": \"empty...   \n",
      "20  {\"main ingredient\": \"bread\", \"filling\": \"empty...   \n",
      "21  {\"main ingredient\": \"impossible\", \"preparation...   \n",
      "22  {\"main ingredient\": \"impossible\", \"preparation...   \n",
      "\n",
      "                                      target_sequence     core_activity  \\\n",
      "0                                                  []  organize laundry   \n",
      "1   [\"Arrange towel\", \"Arrange towel\", \"Arrange to...     arrange cloth   \n",
      "2   [\"Arrange towel\", \"Arrange towel\", \"Arrange to...  organize laundry   \n",
      "3                                                  []      season steak   \n",
      "4   [\"pick up steak\", \"rub steak\", \"rub steak\", \"r...   seasoning steak   \n",
      "5   [\"select steak\", \"open refrigerator\", \"take oi...      season steak   \n",
      "6   [\"player picks up bell pepper\", \"player moves ...        shell corn   \n",
      "7   [\"open refrigerator\", \"take corn from refriger...        shell corn   \n",
      "8   [\"go to refrigerator\", \"open refrigerator\", \"t...        shell corn   \n",
      "9                                                  []       peel garlic   \n",
      "10  [\"Take garlic from refrigerator\", \"Place garli...    peeling garlic   \n",
      "11                  [\"Peel off outer skin of garlic\"]       peel garlic   \n",
      "12  [\"Open the kitchen drawer.\", \"Take the cup (wi...        make dough   \n",
      "14  [\"Open kitchen drawer.\", \"Take cup from drawer...        make dough   \n",
      "17  [\"Slice pepper\", \"Slice onion\", \"Slice pepper\"...    slicing pepper   \n",
      "18                           [\"slice bread into two\"]     make sandwich   \n",
      "19  [\"take two pieces of bread\", \"take grapes\", \"r...     make sandwich   \n",
      "20  [\"take two slices of bread\", \"open refrigerato...     make sandwich   \n",
      "21                          [\"player turns on stove\"]          heat oil   \n",
      "22                                  [\"Turn on stove\"]          heat oil   \n",
      "\n",
      "    entity_check_tax  entity_check_seq  sim_tax1  ...  sim_seq3  \\\n",
      "0               True              True  0.000000  ...  0.000000   \n",
      "1               True              True  0.492757  ...  0.617376   \n",
      "2               True              True  0.499899  ...  0.637829   \n",
      "3              False              True  0.500000  ...  0.000000   \n",
      "4              False              True  0.000000  ...  0.648668   \n",
      "5              False              True  0.700000  ...  0.530379   \n",
      "6               True              True  0.444556  ...  0.272645   \n",
      "7               True              True  0.000000  ...  0.494348   \n",
      "8              False              True  0.838195  ...  0.348027   \n",
      "9              False              True  0.000000  ...  0.000000   \n",
      "10             False              True  0.772552  ...  0.717406   \n",
      "11             False              True  0.800000  ...  0.825671   \n",
      "12             False              True  0.253308  ...  0.339217   \n",
      "14             False              True  0.300000  ...  0.439010   \n",
      "17              True              True  0.800000  ...  0.898761   \n",
      "18             False              True  0.500000  ...  0.487465   \n",
      "19              True              True  0.600000  ...  0.549502   \n",
      "20              True             False  0.600000  ...  0.702610   \n",
      "21             False              True  0.387245  ...  0.345745   \n",
      "22             False              True  0.387245  ...  0.490860   \n",
      "\n",
      "    core_check_tax  core_check_seq  human_check_tax  human_check_seq  \\\n",
      "0            False           False            False            False   \n",
      "1             True           False             True             True   \n",
      "2            False            True             True             True   \n",
      "3             True           False             True            False   \n",
      "4             True           False            False            False   \n",
      "5             True           False             True             True   \n",
      "6            False           False            False            False   \n",
      "7             True            True             True             True   \n",
      "8             True            True             True             True   \n",
      "9            False           False            False            False   \n",
      "10            True            True             True             True   \n",
      "11            True            True             True             True   \n",
      "12           False            True            False             True   \n",
      "14           False           False             True             True   \n",
      "17            True           False             True             True   \n",
      "18            True           False             True             True   \n",
      "19           False           False             True             True   \n",
      "20           False            True             True             True   \n",
      "21           False           False             True             True   \n",
      "22           False           False             True             True   \n",
      "\n",
      "            filename                                          filepath  \\\n",
      "0    evaluator_0.pkl   ../../v6_result/output-rag-0602\\evaluator_0.pkl   \n",
      "1    evaluator_1.pkl   ../../v6_result/output-rag-0602\\evaluator_1.pkl   \n",
      "2    evaluator_2.pkl   ../../v6_result/output-rag-0602\\evaluator_2.pkl   \n",
      "3    evaluator_3.pkl   ../../v6_result/output-rag-0602\\evaluator_3.pkl   \n",
      "4    evaluator_4.pkl   ../../v6_result/output-rag-0602\\evaluator_4.pkl   \n",
      "5    evaluator_5.pkl   ../../v6_result/output-rag-0602\\evaluator_5.pkl   \n",
      "6    evaluator_6.pkl   ../../v6_result/output-rag-0602\\evaluator_6.pkl   \n",
      "7    evaluator_7.pkl   ../../v6_result/output-rag-0602\\evaluator_7.pkl   \n",
      "8    evaluator_8.pkl   ../../v6_result/output-rag-0602\\evaluator_8.pkl   \n",
      "9    evaluator_9.pkl   ../../v6_result/output-rag-0602\\evaluator_9.pkl   \n",
      "10  evaluator_10.pkl  ../../v6_result/output-rag-0602\\evaluator_10.pkl   \n",
      "11  evaluator_11.pkl  ../../v6_result/output-rag-0602\\evaluator_11.pkl   \n",
      "12  evaluator_12.pkl  ../../v6_result/output-rag-0602\\evaluator_12.pkl   \n",
      "14  evaluator_14.pkl  ../../v6_result/output-rag-0602\\evaluator_14.pkl   \n",
      "17  evaluator_17.pkl  ../../v6_result/output-rag-0602\\evaluator_17.pkl   \n",
      "18  evaluator_18.pkl  ../../v6_result/output-rag-0602\\evaluator_18.pkl   \n",
      "19  evaluator_19.pkl  ../../v6_result/output-rag-0602\\evaluator_19.pkl   \n",
      "20  evaluator_20.pkl  ../../v6_result/output-rag-0602\\evaluator_20.pkl   \n",
      "21  evaluator_21.pkl  ../../v6_result/output-rag-0602\\evaluator_21.pkl   \n",
      "22  evaluator_22.pkl  ../../v6_result/output-rag-0602\\evaluator_22.pkl   \n",
      "\n",
      "    extracted_baseline  inclusion_ratio  inclusion_bin  \n",
      "0                              0.000000  (-0.001, 0.2]  \n",
      "1                              0.333333     (0.2, 0.4]  \n",
      "2                              0.333333     (0.2, 0.4]  \n",
      "3                              0.888889     (0.8, 1.0]  \n",
      "4                              0.888889     (0.8, 1.0]  \n",
      "5                              1.000000     (0.8, 1.0]  \n",
      "6                              0.333333     (0.2, 0.4]  \n",
      "7                              0.666667     (0.6, 0.8]  \n",
      "8                              0.666667     (0.6, 0.8]  \n",
      "9                              0.333333     (0.2, 0.4]  \n",
      "10                             1.000000     (0.8, 1.0]  \n",
      "11                             1.000000     (0.8, 1.0]  \n",
      "12                             0.400000     (0.2, 0.4]  \n",
      "14                             0.600000     (0.4, 0.6]  \n",
      "17                             1.000000     (0.8, 1.0]  \n",
      "18                             0.750000     (0.6, 0.8]  \n",
      "19                             0.875000     (0.8, 1.0]  \n",
      "20                             0.875000     (0.8, 1.0]  \n",
      "21                             0.000000  (-0.001, 0.2]  \n",
      "22                             0.000000  (-0.001, 0.2]  \n",
      "\n",
      "[20 rows x 24 columns]\n",
      "109\n",
      "104\n",
      "89\n",
      "124\n",
      "Final total: 213\n",
      "TP: 87 | TN: 22 | FP: 102 | FN: 2\n"
     ]
    },
    {
     "data": {
      "application/vnd.plotly.v1+json": {
       "config": {
        "plotlyServerURL": "https://plot.ly"
       },
       "data": [
        {
         "insidetextanchor": "middle",
         "marker": {
          "color": "green"
         },
         "name": "TP",
         "text": [
          "40.8%"
         ],
         "textfont": {
          "color": "white",
          "size": 12
         },
         "textposition": "inside",
         "type": "bar",
         "x": [
          "-0.0–1.0"
         ],
         "y": {
          "bdata": "Vw==",
          "dtype": "i1"
         }
        },
        {
         "insidetextanchor": "middle",
         "marker": {
          "color": "gray"
         },
         "name": "TN",
         "text": [
          "10.3%"
         ],
         "textfont": {
          "color": "white",
          "size": 12
         },
         "textposition": "inside",
         "type": "bar",
         "x": [
          "-0.0–1.0"
         ],
         "y": {
          "bdata": "Fg==",
          "dtype": "i1"
         }
        },
        {
         "insidetextanchor": "middle",
         "marker": {
          "color": "red"
         },
         "name": "FP",
         "text": [
          "47.9%"
         ],
         "textfont": {
          "color": "white",
          "size": 12
         },
         "textposition": "inside",
         "type": "bar",
         "x": [
          "-0.0–1.0"
         ],
         "y": {
          "bdata": "Zg==",
          "dtype": "i1"
         }
        },
        {
         "insidetextanchor": "middle",
         "marker": {
          "color": "black"
         },
         "name": "FN",
         "text": [
          "0.9%"
         ],
         "textfont": {
          "color": "white",
          "size": 12
         },
         "textposition": "inside",
         "type": "bar",
         "x": [
          "-0.0–1.0"
         ],
         "y": {
          "bdata": "Ag==",
          "dtype": "i1"
         }
        }
       ],
       "layout": {
        "bargap": 0.4,
        "barmode": "stack",
        "height": 500,
        "template": {
         "data": {
          "bar": [
           {
            "error_x": {
             "color": "#2a3f5f"
            },
            "error_y": {
             "color": "#2a3f5f"
            },
            "marker": {
             "line": {
              "color": "#E5ECF6",
              "width": 0.5
             },
             "pattern": {
              "fillmode": "overlay",
              "size": 10,
              "solidity": 0.2
             }
            },
            "type": "bar"
           }
          ],
          "barpolar": [
           {
            "marker": {
             "line": {
              "color": "#E5ECF6",
              "width": 0.5
             },
             "pattern": {
              "fillmode": "overlay",
              "size": 10,
              "solidity": 0.2
             }
            },
            "type": "barpolar"
           }
          ],
          "carpet": [
           {
            "aaxis": {
             "endlinecolor": "#2a3f5f",
             "gridcolor": "white",
             "linecolor": "white",
             "minorgridcolor": "white",
             "startlinecolor": "#2a3f5f"
            },
            "baxis": {
             "endlinecolor": "#2a3f5f",
             "gridcolor": "white",
             "linecolor": "white",
             "minorgridcolor": "white",
             "startlinecolor": "#2a3f5f"
            },
            "type": "carpet"
           }
          ],
          "choropleth": [
           {
            "colorbar": {
             "outlinewidth": 0,
             "ticks": ""
            },
            "type": "choropleth"
           }
          ],
          "contour": [
           {
            "colorbar": {
             "outlinewidth": 0,
             "ticks": ""
            },
            "colorscale": [
             [
              0,
              "#0d0887"
             ],
             [
              0.1111111111111111,
              "#46039f"
             ],
             [
              0.2222222222222222,
              "#7201a8"
             ],
             [
              0.3333333333333333,
              "#9c179e"
             ],
             [
              0.4444444444444444,
              "#bd3786"
             ],
             [
              0.5555555555555556,
              "#d8576b"
             ],
             [
              0.6666666666666666,
              "#ed7953"
             ],
             [
              0.7777777777777778,
              "#fb9f3a"
             ],
             [
              0.8888888888888888,
              "#fdca26"
             ],
             [
              1,
              "#f0f921"
             ]
            ],
            "type": "contour"
           }
          ],
          "contourcarpet": [
           {
            "colorbar": {
             "outlinewidth": 0,
             "ticks": ""
            },
            "type": "contourcarpet"
           }
          ],
          "heatmap": [
           {
            "colorbar": {
             "outlinewidth": 0,
             "ticks": ""
            },
            "colorscale": [
             [
              0,
              "#0d0887"
             ],
             [
              0.1111111111111111,
              "#46039f"
             ],
             [
              0.2222222222222222,
              "#7201a8"
             ],
             [
              0.3333333333333333,
              "#9c179e"
             ],
             [
              0.4444444444444444,
              "#bd3786"
             ],
             [
              0.5555555555555556,
              "#d8576b"
             ],
             [
              0.6666666666666666,
              "#ed7953"
             ],
             [
              0.7777777777777778,
              "#fb9f3a"
             ],
             [
              0.8888888888888888,
              "#fdca26"
             ],
             [
              1,
              "#f0f921"
             ]
            ],
            "type": "heatmap"
           }
          ],
          "histogram": [
           {
            "marker": {
             "pattern": {
              "fillmode": "overlay",
              "size": 10,
              "solidity": 0.2
             }
            },
            "type": "histogram"
           }
          ],
          "histogram2d": [
           {
            "colorbar": {
             "outlinewidth": 0,
             "ticks": ""
            },
            "colorscale": [
             [
              0,
              "#0d0887"
             ],
             [
              0.1111111111111111,
              "#46039f"
             ],
             [
              0.2222222222222222,
              "#7201a8"
             ],
             [
              0.3333333333333333,
              "#9c179e"
             ],
             [
              0.4444444444444444,
              "#bd3786"
             ],
             [
              0.5555555555555556,
              "#d8576b"
             ],
             [
              0.6666666666666666,
              "#ed7953"
             ],
             [
              0.7777777777777778,
              "#fb9f3a"
             ],
             [
              0.8888888888888888,
              "#fdca26"
             ],
             [
              1,
              "#f0f921"
             ]
            ],
            "type": "histogram2d"
           }
          ],
          "histogram2dcontour": [
           {
            "colorbar": {
             "outlinewidth": 0,
             "ticks": ""
            },
            "colorscale": [
             [
              0,
              "#0d0887"
             ],
             [
              0.1111111111111111,
              "#46039f"
             ],
             [
              0.2222222222222222,
              "#7201a8"
             ],
             [
              0.3333333333333333,
              "#9c179e"
             ],
             [
              0.4444444444444444,
              "#bd3786"
             ],
             [
              0.5555555555555556,
              "#d8576b"
             ],
             [
              0.6666666666666666,
              "#ed7953"
             ],
             [
              0.7777777777777778,
              "#fb9f3a"
             ],
             [
              0.8888888888888888,
              "#fdca26"
             ],
             [
              1,
              "#f0f921"
             ]
            ],
            "type": "histogram2dcontour"
           }
          ],
          "mesh3d": [
           {
            "colorbar": {
             "outlinewidth": 0,
             "ticks": ""
            },
            "type": "mesh3d"
           }
          ],
          "parcoords": [
           {
            "line": {
             "colorbar": {
              "outlinewidth": 0,
              "ticks": ""
             }
            },
            "type": "parcoords"
           }
          ],
          "pie": [
           {
            "automargin": true,
            "type": "pie"
           }
          ],
          "scatter": [
           {
            "fillpattern": {
             "fillmode": "overlay",
             "size": 10,
             "solidity": 0.2
            },
            "type": "scatter"
           }
          ],
          "scatter3d": [
           {
            "line": {
             "colorbar": {
              "outlinewidth": 0,
              "ticks": ""
             }
            },
            "marker": {
             "colorbar": {
              "outlinewidth": 0,
              "ticks": ""
             }
            },
            "type": "scatter3d"
           }
          ],
          "scattercarpet": [
           {
            "marker": {
             "colorbar": {
              "outlinewidth": 0,
              "ticks": ""
             }
            },
            "type": "scattercarpet"
           }
          ],
          "scattergeo": [
           {
            "marker": {
             "colorbar": {
              "outlinewidth": 0,
              "ticks": ""
             }
            },
            "type": "scattergeo"
           }
          ],
          "scattergl": [
           {
            "marker": {
             "colorbar": {
              "outlinewidth": 0,
              "ticks": ""
             }
            },
            "type": "scattergl"
           }
          ],
          "scattermap": [
           {
            "marker": {
             "colorbar": {
              "outlinewidth": 0,
              "ticks": ""
             }
            },
            "type": "scattermap"
           }
          ],
          "scattermapbox": [
           {
            "marker": {
             "colorbar": {
              "outlinewidth": 0,
              "ticks": ""
             }
            },
            "type": "scattermapbox"
           }
          ],
          "scatterpolar": [
           {
            "marker": {
             "colorbar": {
              "outlinewidth": 0,
              "ticks": ""
             }
            },
            "type": "scatterpolar"
           }
          ],
          "scatterpolargl": [
           {
            "marker": {
             "colorbar": {
              "outlinewidth": 0,
              "ticks": ""
             }
            },
            "type": "scatterpolargl"
           }
          ],
          "scatterternary": [
           {
            "marker": {
             "colorbar": {
              "outlinewidth": 0,
              "ticks": ""
             }
            },
            "type": "scatterternary"
           }
          ],
          "surface": [
           {
            "colorbar": {
             "outlinewidth": 0,
             "ticks": ""
            },
            "colorscale": [
             [
              0,
              "#0d0887"
             ],
             [
              0.1111111111111111,
              "#46039f"
             ],
             [
              0.2222222222222222,
              "#7201a8"
             ],
             [
              0.3333333333333333,
              "#9c179e"
             ],
             [
              0.4444444444444444,
              "#bd3786"
             ],
             [
              0.5555555555555556,
              "#d8576b"
             ],
             [
              0.6666666666666666,
              "#ed7953"
             ],
             [
              0.7777777777777778,
              "#fb9f3a"
             ],
             [
              0.8888888888888888,
              "#fdca26"
             ],
             [
              1,
              "#f0f921"
             ]
            ],
            "type": "surface"
           }
          ],
          "table": [
           {
            "cells": {
             "fill": {
              "color": "#EBF0F8"
             },
             "line": {
              "color": "white"
             }
            },
            "header": {
             "fill": {
              "color": "#C8D4E3"
             },
             "line": {
              "color": "white"
             }
            },
            "type": "table"
           }
          ]
         },
         "layout": {
          "annotationdefaults": {
           "arrowcolor": "#2a3f5f",
           "arrowhead": 0,
           "arrowwidth": 1
          },
          "autotypenumbers": "strict",
          "coloraxis": {
           "colorbar": {
            "outlinewidth": 0,
            "ticks": ""
           }
          },
          "colorscale": {
           "diverging": [
            [
             0,
             "#8e0152"
            ],
            [
             0.1,
             "#c51b7d"
            ],
            [
             0.2,
             "#de77ae"
            ],
            [
             0.3,
             "#f1b6da"
            ],
            [
             0.4,
             "#fde0ef"
            ],
            [
             0.5,
             "#f7f7f7"
            ],
            [
             0.6,
             "#e6f5d0"
            ],
            [
             0.7,
             "#b8e186"
            ],
            [
             0.8,
             "#7fbc41"
            ],
            [
             0.9,
             "#4d9221"
            ],
            [
             1,
             "#276419"
            ]
           ],
           "sequential": [
            [
             0,
             "#0d0887"
            ],
            [
             0.1111111111111111,
             "#46039f"
            ],
            [
             0.2222222222222222,
             "#7201a8"
            ],
            [
             0.3333333333333333,
             "#9c179e"
            ],
            [
             0.4444444444444444,
             "#bd3786"
            ],
            [
             0.5555555555555556,
             "#d8576b"
            ],
            [
             0.6666666666666666,
             "#ed7953"
            ],
            [
             0.7777777777777778,
             "#fb9f3a"
            ],
            [
             0.8888888888888888,
             "#fdca26"
            ],
            [
             1,
             "#f0f921"
            ]
           ],
           "sequentialminus": [
            [
             0,
             "#0d0887"
            ],
            [
             0.1111111111111111,
             "#46039f"
            ],
            [
             0.2222222222222222,
             "#7201a8"
            ],
            [
             0.3333333333333333,
             "#9c179e"
            ],
            [
             0.4444444444444444,
             "#bd3786"
            ],
            [
             0.5555555555555556,
             "#d8576b"
            ],
            [
             0.6666666666666666,
             "#ed7953"
            ],
            [
             0.7777777777777778,
             "#fb9f3a"
            ],
            [
             0.8888888888888888,
             "#fdca26"
            ],
            [
             1,
             "#f0f921"
            ]
           ]
          },
          "colorway": [
           "#636efa",
           "#EF553B",
           "#00cc96",
           "#ab63fa",
           "#FFA15A",
           "#19d3f3",
           "#FF6692",
           "#B6E880",
           "#FF97FF",
           "#FECB52"
          ],
          "font": {
           "color": "#2a3f5f"
          },
          "geo": {
           "bgcolor": "white",
           "lakecolor": "white",
           "landcolor": "#E5ECF6",
           "showlakes": true,
           "showland": true,
           "subunitcolor": "white"
          },
          "hoverlabel": {
           "align": "left"
          },
          "hovermode": "closest",
          "mapbox": {
           "style": "light"
          },
          "paper_bgcolor": "white",
          "plot_bgcolor": "#E5ECF6",
          "polar": {
           "angularaxis": {
            "gridcolor": "white",
            "linecolor": "white",
            "ticks": ""
           },
           "bgcolor": "#E5ECF6",
           "radialaxis": {
            "gridcolor": "white",
            "linecolor": "white",
            "ticks": ""
           }
          },
          "scene": {
           "xaxis": {
            "backgroundcolor": "#E5ECF6",
            "gridcolor": "white",
            "gridwidth": 2,
            "linecolor": "white",
            "showbackground": true,
            "ticks": "",
            "zerolinecolor": "white"
           },
           "yaxis": {
            "backgroundcolor": "#E5ECF6",
            "gridcolor": "white",
            "gridwidth": 2,
            "linecolor": "white",
            "showbackground": true,
            "ticks": "",
            "zerolinecolor": "white"
           },
           "zaxis": {
            "backgroundcolor": "#E5ECF6",
            "gridcolor": "white",
            "gridwidth": 2,
            "linecolor": "white",
            "showbackground": true,
            "ticks": "",
            "zerolinecolor": "white"
           }
          },
          "shapedefaults": {
           "line": {
            "color": "#2a3f5f"
           }
          },
          "ternary": {
           "aaxis": {
            "gridcolor": "white",
            "linecolor": "white",
            "ticks": ""
           },
           "baxis": {
            "gridcolor": "white",
            "linecolor": "white",
            "ticks": ""
           },
           "bgcolor": "#E5ECF6",
           "caxis": {
            "gridcolor": "white",
            "linecolor": "white",
            "ticks": ""
           }
          },
          "title": {
           "x": 0.05
          },
          "xaxis": {
           "automargin": true,
           "gridcolor": "white",
           "linecolor": "white",
           "ticks": "",
           "title": {
            "standoff": 15
           },
           "zerolinecolor": "white",
           "zerolinewidth": 2
          },
          "yaxis": {
           "automargin": true,
           "gridcolor": "white",
           "linecolor": "white",
           "ticks": "",
           "title": {
            "standoff": 15
           },
           "zerolinecolor": "white",
           "zerolinewidth": 2
          }
         }
        },
        "title": {
         "text": "Stacked Confusion Chart (taxo-med-rag)",
         "x": 0.5,
         "xanchor": "center"
        },
        "width": 600,
        "xaxis": {
         "title": {
          "text": "inclusion_ratio Bins"
         }
        },
        "yaxis": {
         "title": {
          "text": "Count"
         }
        }
       }
      }
     },
     "metadata": {},
     "output_type": "display_data"
    },
    {
     "name": "stdout",
     "output_type": "stream",
     "text": [
      "\n",
      "=== Per-bin Metrics ===\n",
      "\n",
      "Bin -0.0–1.0:\n",
      "  Accuracy:  0.512\n",
      "  Precision: 0.460\n",
      "  Recall:    0.978\n",
      "  F1 Score:  0.626\n",
      "Final total: 213\n",
      "TP: 89 | TN: 28 | FP: 93 | FN: 3\n"
     ]
    },
    {
     "data": {
      "application/vnd.plotly.v1+json": {
       "config": {
        "plotlyServerURL": "https://plot.ly"
       },
       "data": [
        {
         "insidetextanchor": "middle",
         "marker": {
          "color": "green"
         },
         "name": "TP",
         "text": [
          "41.8%"
         ],
         "textfont": {
          "color": "white",
          "size": 12
         },
         "textposition": "inside",
         "type": "bar",
         "x": [
          "-0.0–1.0"
         ],
         "y": {
          "bdata": "WQ==",
          "dtype": "i1"
         }
        },
        {
         "insidetextanchor": "middle",
         "marker": {
          "color": "gray"
         },
         "name": "TN",
         "text": [
          "13.1%"
         ],
         "textfont": {
          "color": "white",
          "size": 12
         },
         "textposition": "inside",
         "type": "bar",
         "x": [
          "-0.0–1.0"
         ],
         "y": {
          "bdata": "HA==",
          "dtype": "i1"
         }
        },
        {
         "insidetextanchor": "middle",
         "marker": {
          "color": "red"
         },
         "name": "FP",
         "text": [
          "43.7%"
         ],
         "textfont": {
          "color": "white",
          "size": 12
         },
         "textposition": "inside",
         "type": "bar",
         "x": [
          "-0.0–1.0"
         ],
         "y": {
          "bdata": "XQ==",
          "dtype": "i1"
         }
        },
        {
         "insidetextanchor": "middle",
         "marker": {
          "color": "black"
         },
         "name": "FN",
         "text": [
          "1.4%"
         ],
         "textfont": {
          "color": "white",
          "size": 12
         },
         "textposition": "inside",
         "type": "bar",
         "x": [
          "-0.0–1.0"
         ],
         "y": {
          "bdata": "Aw==",
          "dtype": "i1"
         }
        }
       ],
       "layout": {
        "bargap": 0.4,
        "barmode": "stack",
        "height": 500,
        "template": {
         "data": {
          "bar": [
           {
            "error_x": {
             "color": "#2a3f5f"
            },
            "error_y": {
             "color": "#2a3f5f"
            },
            "marker": {
             "line": {
              "color": "#E5ECF6",
              "width": 0.5
             },
             "pattern": {
              "fillmode": "overlay",
              "size": 10,
              "solidity": 0.2
             }
            },
            "type": "bar"
           }
          ],
          "barpolar": [
           {
            "marker": {
             "line": {
              "color": "#E5ECF6",
              "width": 0.5
             },
             "pattern": {
              "fillmode": "overlay",
              "size": 10,
              "solidity": 0.2
             }
            },
            "type": "barpolar"
           }
          ],
          "carpet": [
           {
            "aaxis": {
             "endlinecolor": "#2a3f5f",
             "gridcolor": "white",
             "linecolor": "white",
             "minorgridcolor": "white",
             "startlinecolor": "#2a3f5f"
            },
            "baxis": {
             "endlinecolor": "#2a3f5f",
             "gridcolor": "white",
             "linecolor": "white",
             "minorgridcolor": "white",
             "startlinecolor": "#2a3f5f"
            },
            "type": "carpet"
           }
          ],
          "choropleth": [
           {
            "colorbar": {
             "outlinewidth": 0,
             "ticks": ""
            },
            "type": "choropleth"
           }
          ],
          "contour": [
           {
            "colorbar": {
             "outlinewidth": 0,
             "ticks": ""
            },
            "colorscale": [
             [
              0,
              "#0d0887"
             ],
             [
              0.1111111111111111,
              "#46039f"
             ],
             [
              0.2222222222222222,
              "#7201a8"
             ],
             [
              0.3333333333333333,
              "#9c179e"
             ],
             [
              0.4444444444444444,
              "#bd3786"
             ],
             [
              0.5555555555555556,
              "#d8576b"
             ],
             [
              0.6666666666666666,
              "#ed7953"
             ],
             [
              0.7777777777777778,
              "#fb9f3a"
             ],
             [
              0.8888888888888888,
              "#fdca26"
             ],
             [
              1,
              "#f0f921"
             ]
            ],
            "type": "contour"
           }
          ],
          "contourcarpet": [
           {
            "colorbar": {
             "outlinewidth": 0,
             "ticks": ""
            },
            "type": "contourcarpet"
           }
          ],
          "heatmap": [
           {
            "colorbar": {
             "outlinewidth": 0,
             "ticks": ""
            },
            "colorscale": [
             [
              0,
              "#0d0887"
             ],
             [
              0.1111111111111111,
              "#46039f"
             ],
             [
              0.2222222222222222,
              "#7201a8"
             ],
             [
              0.3333333333333333,
              "#9c179e"
             ],
             [
              0.4444444444444444,
              "#bd3786"
             ],
             [
              0.5555555555555556,
              "#d8576b"
             ],
             [
              0.6666666666666666,
              "#ed7953"
             ],
             [
              0.7777777777777778,
              "#fb9f3a"
             ],
             [
              0.8888888888888888,
              "#fdca26"
             ],
             [
              1,
              "#f0f921"
             ]
            ],
            "type": "heatmap"
           }
          ],
          "histogram": [
           {
            "marker": {
             "pattern": {
              "fillmode": "overlay",
              "size": 10,
              "solidity": 0.2
             }
            },
            "type": "histogram"
           }
          ],
          "histogram2d": [
           {
            "colorbar": {
             "outlinewidth": 0,
             "ticks": ""
            },
            "colorscale": [
             [
              0,
              "#0d0887"
             ],
             [
              0.1111111111111111,
              "#46039f"
             ],
             [
              0.2222222222222222,
              "#7201a8"
             ],
             [
              0.3333333333333333,
              "#9c179e"
             ],
             [
              0.4444444444444444,
              "#bd3786"
             ],
             [
              0.5555555555555556,
              "#d8576b"
             ],
             [
              0.6666666666666666,
              "#ed7953"
             ],
             [
              0.7777777777777778,
              "#fb9f3a"
             ],
             [
              0.8888888888888888,
              "#fdca26"
             ],
             [
              1,
              "#f0f921"
             ]
            ],
            "type": "histogram2d"
           }
          ],
          "histogram2dcontour": [
           {
            "colorbar": {
             "outlinewidth": 0,
             "ticks": ""
            },
            "colorscale": [
             [
              0,
              "#0d0887"
             ],
             [
              0.1111111111111111,
              "#46039f"
             ],
             [
              0.2222222222222222,
              "#7201a8"
             ],
             [
              0.3333333333333333,
              "#9c179e"
             ],
             [
              0.4444444444444444,
              "#bd3786"
             ],
             [
              0.5555555555555556,
              "#d8576b"
             ],
             [
              0.6666666666666666,
              "#ed7953"
             ],
             [
              0.7777777777777778,
              "#fb9f3a"
             ],
             [
              0.8888888888888888,
              "#fdca26"
             ],
             [
              1,
              "#f0f921"
             ]
            ],
            "type": "histogram2dcontour"
           }
          ],
          "mesh3d": [
           {
            "colorbar": {
             "outlinewidth": 0,
             "ticks": ""
            },
            "type": "mesh3d"
           }
          ],
          "parcoords": [
           {
            "line": {
             "colorbar": {
              "outlinewidth": 0,
              "ticks": ""
             }
            },
            "type": "parcoords"
           }
          ],
          "pie": [
           {
            "automargin": true,
            "type": "pie"
           }
          ],
          "scatter": [
           {
            "fillpattern": {
             "fillmode": "overlay",
             "size": 10,
             "solidity": 0.2
            },
            "type": "scatter"
           }
          ],
          "scatter3d": [
           {
            "line": {
             "colorbar": {
              "outlinewidth": 0,
              "ticks": ""
             }
            },
            "marker": {
             "colorbar": {
              "outlinewidth": 0,
              "ticks": ""
             }
            },
            "type": "scatter3d"
           }
          ],
          "scattercarpet": [
           {
            "marker": {
             "colorbar": {
              "outlinewidth": 0,
              "ticks": ""
             }
            },
            "type": "scattercarpet"
           }
          ],
          "scattergeo": [
           {
            "marker": {
             "colorbar": {
              "outlinewidth": 0,
              "ticks": ""
             }
            },
            "type": "scattergeo"
           }
          ],
          "scattergl": [
           {
            "marker": {
             "colorbar": {
              "outlinewidth": 0,
              "ticks": ""
             }
            },
            "type": "scattergl"
           }
          ],
          "scattermap": [
           {
            "marker": {
             "colorbar": {
              "outlinewidth": 0,
              "ticks": ""
             }
            },
            "type": "scattermap"
           }
          ],
          "scattermapbox": [
           {
            "marker": {
             "colorbar": {
              "outlinewidth": 0,
              "ticks": ""
             }
            },
            "type": "scattermapbox"
           }
          ],
          "scatterpolar": [
           {
            "marker": {
             "colorbar": {
              "outlinewidth": 0,
              "ticks": ""
             }
            },
            "type": "scatterpolar"
           }
          ],
          "scatterpolargl": [
           {
            "marker": {
             "colorbar": {
              "outlinewidth": 0,
              "ticks": ""
             }
            },
            "type": "scatterpolargl"
           }
          ],
          "scatterternary": [
           {
            "marker": {
             "colorbar": {
              "outlinewidth": 0,
              "ticks": ""
             }
            },
            "type": "scatterternary"
           }
          ],
          "surface": [
           {
            "colorbar": {
             "outlinewidth": 0,
             "ticks": ""
            },
            "colorscale": [
             [
              0,
              "#0d0887"
             ],
             [
              0.1111111111111111,
              "#46039f"
             ],
             [
              0.2222222222222222,
              "#7201a8"
             ],
             [
              0.3333333333333333,
              "#9c179e"
             ],
             [
              0.4444444444444444,
              "#bd3786"
             ],
             [
              0.5555555555555556,
              "#d8576b"
             ],
             [
              0.6666666666666666,
              "#ed7953"
             ],
             [
              0.7777777777777778,
              "#fb9f3a"
             ],
             [
              0.8888888888888888,
              "#fdca26"
             ],
             [
              1,
              "#f0f921"
             ]
            ],
            "type": "surface"
           }
          ],
          "table": [
           {
            "cells": {
             "fill": {
              "color": "#EBF0F8"
             },
             "line": {
              "color": "white"
             }
            },
            "header": {
             "fill": {
              "color": "#C8D4E3"
             },
             "line": {
              "color": "white"
             }
            },
            "type": "table"
           }
          ]
         },
         "layout": {
          "annotationdefaults": {
           "arrowcolor": "#2a3f5f",
           "arrowhead": 0,
           "arrowwidth": 1
          },
          "autotypenumbers": "strict",
          "coloraxis": {
           "colorbar": {
            "outlinewidth": 0,
            "ticks": ""
           }
          },
          "colorscale": {
           "diverging": [
            [
             0,
             "#8e0152"
            ],
            [
             0.1,
             "#c51b7d"
            ],
            [
             0.2,
             "#de77ae"
            ],
            [
             0.3,
             "#f1b6da"
            ],
            [
             0.4,
             "#fde0ef"
            ],
            [
             0.5,
             "#f7f7f7"
            ],
            [
             0.6,
             "#e6f5d0"
            ],
            [
             0.7,
             "#b8e186"
            ],
            [
             0.8,
             "#7fbc41"
            ],
            [
             0.9,
             "#4d9221"
            ],
            [
             1,
             "#276419"
            ]
           ],
           "sequential": [
            [
             0,
             "#0d0887"
            ],
            [
             0.1111111111111111,
             "#46039f"
            ],
            [
             0.2222222222222222,
             "#7201a8"
            ],
            [
             0.3333333333333333,
             "#9c179e"
            ],
            [
             0.4444444444444444,
             "#bd3786"
            ],
            [
             0.5555555555555556,
             "#d8576b"
            ],
            [
             0.6666666666666666,
             "#ed7953"
            ],
            [
             0.7777777777777778,
             "#fb9f3a"
            ],
            [
             0.8888888888888888,
             "#fdca26"
            ],
            [
             1,
             "#f0f921"
            ]
           ],
           "sequentialminus": [
            [
             0,
             "#0d0887"
            ],
            [
             0.1111111111111111,
             "#46039f"
            ],
            [
             0.2222222222222222,
             "#7201a8"
            ],
            [
             0.3333333333333333,
             "#9c179e"
            ],
            [
             0.4444444444444444,
             "#bd3786"
            ],
            [
             0.5555555555555556,
             "#d8576b"
            ],
            [
             0.6666666666666666,
             "#ed7953"
            ],
            [
             0.7777777777777778,
             "#fb9f3a"
            ],
            [
             0.8888888888888888,
             "#fdca26"
            ],
            [
             1,
             "#f0f921"
            ]
           ]
          },
          "colorway": [
           "#636efa",
           "#EF553B",
           "#00cc96",
           "#ab63fa",
           "#FFA15A",
           "#19d3f3",
           "#FF6692",
           "#B6E880",
           "#FF97FF",
           "#FECB52"
          ],
          "font": {
           "color": "#2a3f5f"
          },
          "geo": {
           "bgcolor": "white",
           "lakecolor": "white",
           "landcolor": "#E5ECF6",
           "showlakes": true,
           "showland": true,
           "subunitcolor": "white"
          },
          "hoverlabel": {
           "align": "left"
          },
          "hovermode": "closest",
          "mapbox": {
           "style": "light"
          },
          "paper_bgcolor": "white",
          "plot_bgcolor": "#E5ECF6",
          "polar": {
           "angularaxis": {
            "gridcolor": "white",
            "linecolor": "white",
            "ticks": ""
           },
           "bgcolor": "#E5ECF6",
           "radialaxis": {
            "gridcolor": "white",
            "linecolor": "white",
            "ticks": ""
           }
          },
          "scene": {
           "xaxis": {
            "backgroundcolor": "#E5ECF6",
            "gridcolor": "white",
            "gridwidth": 2,
            "linecolor": "white",
            "showbackground": true,
            "ticks": "",
            "zerolinecolor": "white"
           },
           "yaxis": {
            "backgroundcolor": "#E5ECF6",
            "gridcolor": "white",
            "gridwidth": 2,
            "linecolor": "white",
            "showbackground": true,
            "ticks": "",
            "zerolinecolor": "white"
           },
           "zaxis": {
            "backgroundcolor": "#E5ECF6",
            "gridcolor": "white",
            "gridwidth": 2,
            "linecolor": "white",
            "showbackground": true,
            "ticks": "",
            "zerolinecolor": "white"
           }
          },
          "shapedefaults": {
           "line": {
            "color": "#2a3f5f"
           }
          },
          "ternary": {
           "aaxis": {
            "gridcolor": "white",
            "linecolor": "white",
            "ticks": ""
           },
           "baxis": {
            "gridcolor": "white",
            "linecolor": "white",
            "ticks": ""
           },
           "bgcolor": "#E5ECF6",
           "caxis": {
            "gridcolor": "white",
            "linecolor": "white",
            "ticks": ""
           }
          },
          "title": {
           "x": 0.05
          },
          "xaxis": {
           "automargin": true,
           "gridcolor": "white",
           "linecolor": "white",
           "ticks": "",
           "title": {
            "standoff": 15
           },
           "zerolinecolor": "white",
           "zerolinewidth": 2
          },
          "yaxis": {
           "automargin": true,
           "gridcolor": "white",
           "linecolor": "white",
           "ticks": "",
           "title": {
            "standoff": 15
           },
           "zerolinecolor": "white",
           "zerolinewidth": 2
          }
         }
        },
        "title": {
         "text": "Stacked Confusion Chart (taxo-med)",
         "x": 0.5,
         "xanchor": "center"
        },
        "width": 600,
        "xaxis": {
         "title": {
          "text": "inclusion_ratio Bins"
         }
        },
        "yaxis": {
         "title": {
          "text": "Count"
         }
        }
       }
      }
     },
     "metadata": {},
     "output_type": "display_data"
    },
    {
     "name": "stdout",
     "output_type": "stream",
     "text": [
      "\n",
      "=== Per-bin Metrics ===\n",
      "\n",
      "Bin -0.0–1.0:\n",
      "  Accuracy:  0.549\n",
      "  Precision: 0.489\n",
      "  Recall:    0.967\n",
      "  F1 Score:  0.650\n",
      "Final total: 213\n",
      "TP: 103 | TN: 27 | FP: 80 | FN: 3\n"
     ]
    },
    {
     "data": {
      "application/vnd.plotly.v1+json": {
       "config": {
        "plotlyServerURL": "https://plot.ly"
       },
       "data": [
        {
         "insidetextanchor": "middle",
         "marker": {
          "color": "green"
         },
         "name": "TP",
         "text": [
          "48.4%"
         ],
         "textfont": {
          "color": "white",
          "size": 12
         },
         "textposition": "inside",
         "type": "bar",
         "x": [
          "-0.0–1.0"
         ],
         "y": {
          "bdata": "Zw==",
          "dtype": "i1"
         }
        },
        {
         "insidetextanchor": "middle",
         "marker": {
          "color": "gray"
         },
         "name": "TN",
         "text": [
          "12.7%"
         ],
         "textfont": {
          "color": "white",
          "size": 12
         },
         "textposition": "inside",
         "type": "bar",
         "x": [
          "-0.0–1.0"
         ],
         "y": {
          "bdata": "Gw==",
          "dtype": "i1"
         }
        },
        {
         "insidetextanchor": "middle",
         "marker": {
          "color": "red"
         },
         "name": "FP",
         "text": [
          "37.6%"
         ],
         "textfont": {
          "color": "white",
          "size": 12
         },
         "textposition": "inside",
         "type": "bar",
         "x": [
          "-0.0–1.0"
         ],
         "y": {
          "bdata": "UA==",
          "dtype": "i1"
         }
        },
        {
         "insidetextanchor": "middle",
         "marker": {
          "color": "black"
         },
         "name": "FN",
         "text": [
          "1.4%"
         ],
         "textfont": {
          "color": "white",
          "size": 12
         },
         "textposition": "inside",
         "type": "bar",
         "x": [
          "-0.0–1.0"
         ],
         "y": {
          "bdata": "Aw==",
          "dtype": "i1"
         }
        }
       ],
       "layout": {
        "bargap": 0.4,
        "barmode": "stack",
        "height": 500,
        "template": {
         "data": {
          "bar": [
           {
            "error_x": {
             "color": "#2a3f5f"
            },
            "error_y": {
             "color": "#2a3f5f"
            },
            "marker": {
             "line": {
              "color": "#E5ECF6",
              "width": 0.5
             },
             "pattern": {
              "fillmode": "overlay",
              "size": 10,
              "solidity": 0.2
             }
            },
            "type": "bar"
           }
          ],
          "barpolar": [
           {
            "marker": {
             "line": {
              "color": "#E5ECF6",
              "width": 0.5
             },
             "pattern": {
              "fillmode": "overlay",
              "size": 10,
              "solidity": 0.2
             }
            },
            "type": "barpolar"
           }
          ],
          "carpet": [
           {
            "aaxis": {
             "endlinecolor": "#2a3f5f",
             "gridcolor": "white",
             "linecolor": "white",
             "minorgridcolor": "white",
             "startlinecolor": "#2a3f5f"
            },
            "baxis": {
             "endlinecolor": "#2a3f5f",
             "gridcolor": "white",
             "linecolor": "white",
             "minorgridcolor": "white",
             "startlinecolor": "#2a3f5f"
            },
            "type": "carpet"
           }
          ],
          "choropleth": [
           {
            "colorbar": {
             "outlinewidth": 0,
             "ticks": ""
            },
            "type": "choropleth"
           }
          ],
          "contour": [
           {
            "colorbar": {
             "outlinewidth": 0,
             "ticks": ""
            },
            "colorscale": [
             [
              0,
              "#0d0887"
             ],
             [
              0.1111111111111111,
              "#46039f"
             ],
             [
              0.2222222222222222,
              "#7201a8"
             ],
             [
              0.3333333333333333,
              "#9c179e"
             ],
             [
              0.4444444444444444,
              "#bd3786"
             ],
             [
              0.5555555555555556,
              "#d8576b"
             ],
             [
              0.6666666666666666,
              "#ed7953"
             ],
             [
              0.7777777777777778,
              "#fb9f3a"
             ],
             [
              0.8888888888888888,
              "#fdca26"
             ],
             [
              1,
              "#f0f921"
             ]
            ],
            "type": "contour"
           }
          ],
          "contourcarpet": [
           {
            "colorbar": {
             "outlinewidth": 0,
             "ticks": ""
            },
            "type": "contourcarpet"
           }
          ],
          "heatmap": [
           {
            "colorbar": {
             "outlinewidth": 0,
             "ticks": ""
            },
            "colorscale": [
             [
              0,
              "#0d0887"
             ],
             [
              0.1111111111111111,
              "#46039f"
             ],
             [
              0.2222222222222222,
              "#7201a8"
             ],
             [
              0.3333333333333333,
              "#9c179e"
             ],
             [
              0.4444444444444444,
              "#bd3786"
             ],
             [
              0.5555555555555556,
              "#d8576b"
             ],
             [
              0.6666666666666666,
              "#ed7953"
             ],
             [
              0.7777777777777778,
              "#fb9f3a"
             ],
             [
              0.8888888888888888,
              "#fdca26"
             ],
             [
              1,
              "#f0f921"
             ]
            ],
            "type": "heatmap"
           }
          ],
          "histogram": [
           {
            "marker": {
             "pattern": {
              "fillmode": "overlay",
              "size": 10,
              "solidity": 0.2
             }
            },
            "type": "histogram"
           }
          ],
          "histogram2d": [
           {
            "colorbar": {
             "outlinewidth": 0,
             "ticks": ""
            },
            "colorscale": [
             [
              0,
              "#0d0887"
             ],
             [
              0.1111111111111111,
              "#46039f"
             ],
             [
              0.2222222222222222,
              "#7201a8"
             ],
             [
              0.3333333333333333,
              "#9c179e"
             ],
             [
              0.4444444444444444,
              "#bd3786"
             ],
             [
              0.5555555555555556,
              "#d8576b"
             ],
             [
              0.6666666666666666,
              "#ed7953"
             ],
             [
              0.7777777777777778,
              "#fb9f3a"
             ],
             [
              0.8888888888888888,
              "#fdca26"
             ],
             [
              1,
              "#f0f921"
             ]
            ],
            "type": "histogram2d"
           }
          ],
          "histogram2dcontour": [
           {
            "colorbar": {
             "outlinewidth": 0,
             "ticks": ""
            },
            "colorscale": [
             [
              0,
              "#0d0887"
             ],
             [
              0.1111111111111111,
              "#46039f"
             ],
             [
              0.2222222222222222,
              "#7201a8"
             ],
             [
              0.3333333333333333,
              "#9c179e"
             ],
             [
              0.4444444444444444,
              "#bd3786"
             ],
             [
              0.5555555555555556,
              "#d8576b"
             ],
             [
              0.6666666666666666,
              "#ed7953"
             ],
             [
              0.7777777777777778,
              "#fb9f3a"
             ],
             [
              0.8888888888888888,
              "#fdca26"
             ],
             [
              1,
              "#f0f921"
             ]
            ],
            "type": "histogram2dcontour"
           }
          ],
          "mesh3d": [
           {
            "colorbar": {
             "outlinewidth": 0,
             "ticks": ""
            },
            "type": "mesh3d"
           }
          ],
          "parcoords": [
           {
            "line": {
             "colorbar": {
              "outlinewidth": 0,
              "ticks": ""
             }
            },
            "type": "parcoords"
           }
          ],
          "pie": [
           {
            "automargin": true,
            "type": "pie"
           }
          ],
          "scatter": [
           {
            "fillpattern": {
             "fillmode": "overlay",
             "size": 10,
             "solidity": 0.2
            },
            "type": "scatter"
           }
          ],
          "scatter3d": [
           {
            "line": {
             "colorbar": {
              "outlinewidth": 0,
              "ticks": ""
             }
            },
            "marker": {
             "colorbar": {
              "outlinewidth": 0,
              "ticks": ""
             }
            },
            "type": "scatter3d"
           }
          ],
          "scattercarpet": [
           {
            "marker": {
             "colorbar": {
              "outlinewidth": 0,
              "ticks": ""
             }
            },
            "type": "scattercarpet"
           }
          ],
          "scattergeo": [
           {
            "marker": {
             "colorbar": {
              "outlinewidth": 0,
              "ticks": ""
             }
            },
            "type": "scattergeo"
           }
          ],
          "scattergl": [
           {
            "marker": {
             "colorbar": {
              "outlinewidth": 0,
              "ticks": ""
             }
            },
            "type": "scattergl"
           }
          ],
          "scattermap": [
           {
            "marker": {
             "colorbar": {
              "outlinewidth": 0,
              "ticks": ""
             }
            },
            "type": "scattermap"
           }
          ],
          "scattermapbox": [
           {
            "marker": {
             "colorbar": {
              "outlinewidth": 0,
              "ticks": ""
             }
            },
            "type": "scattermapbox"
           }
          ],
          "scatterpolar": [
           {
            "marker": {
             "colorbar": {
              "outlinewidth": 0,
              "ticks": ""
             }
            },
            "type": "scatterpolar"
           }
          ],
          "scatterpolargl": [
           {
            "marker": {
             "colorbar": {
              "outlinewidth": 0,
              "ticks": ""
             }
            },
            "type": "scatterpolargl"
           }
          ],
          "scatterternary": [
           {
            "marker": {
             "colorbar": {
              "outlinewidth": 0,
              "ticks": ""
             }
            },
            "type": "scatterternary"
           }
          ],
          "surface": [
           {
            "colorbar": {
             "outlinewidth": 0,
             "ticks": ""
            },
            "colorscale": [
             [
              0,
              "#0d0887"
             ],
             [
              0.1111111111111111,
              "#46039f"
             ],
             [
              0.2222222222222222,
              "#7201a8"
             ],
             [
              0.3333333333333333,
              "#9c179e"
             ],
             [
              0.4444444444444444,
              "#bd3786"
             ],
             [
              0.5555555555555556,
              "#d8576b"
             ],
             [
              0.6666666666666666,
              "#ed7953"
             ],
             [
              0.7777777777777778,
              "#fb9f3a"
             ],
             [
              0.8888888888888888,
              "#fdca26"
             ],
             [
              1,
              "#f0f921"
             ]
            ],
            "type": "surface"
           }
          ],
          "table": [
           {
            "cells": {
             "fill": {
              "color": "#EBF0F8"
             },
             "line": {
              "color": "white"
             }
            },
            "header": {
             "fill": {
              "color": "#C8D4E3"
             },
             "line": {
              "color": "white"
             }
            },
            "type": "table"
           }
          ]
         },
         "layout": {
          "annotationdefaults": {
           "arrowcolor": "#2a3f5f",
           "arrowhead": 0,
           "arrowwidth": 1
          },
          "autotypenumbers": "strict",
          "coloraxis": {
           "colorbar": {
            "outlinewidth": 0,
            "ticks": ""
           }
          },
          "colorscale": {
           "diverging": [
            [
             0,
             "#8e0152"
            ],
            [
             0.1,
             "#c51b7d"
            ],
            [
             0.2,
             "#de77ae"
            ],
            [
             0.3,
             "#f1b6da"
            ],
            [
             0.4,
             "#fde0ef"
            ],
            [
             0.5,
             "#f7f7f7"
            ],
            [
             0.6,
             "#e6f5d0"
            ],
            [
             0.7,
             "#b8e186"
            ],
            [
             0.8,
             "#7fbc41"
            ],
            [
             0.9,
             "#4d9221"
            ],
            [
             1,
             "#276419"
            ]
           ],
           "sequential": [
            [
             0,
             "#0d0887"
            ],
            [
             0.1111111111111111,
             "#46039f"
            ],
            [
             0.2222222222222222,
             "#7201a8"
            ],
            [
             0.3333333333333333,
             "#9c179e"
            ],
            [
             0.4444444444444444,
             "#bd3786"
            ],
            [
             0.5555555555555556,
             "#d8576b"
            ],
            [
             0.6666666666666666,
             "#ed7953"
            ],
            [
             0.7777777777777778,
             "#fb9f3a"
            ],
            [
             0.8888888888888888,
             "#fdca26"
            ],
            [
             1,
             "#f0f921"
            ]
           ],
           "sequentialminus": [
            [
             0,
             "#0d0887"
            ],
            [
             0.1111111111111111,
             "#46039f"
            ],
            [
             0.2222222222222222,
             "#7201a8"
            ],
            [
             0.3333333333333333,
             "#9c179e"
            ],
            [
             0.4444444444444444,
             "#bd3786"
            ],
            [
             0.5555555555555556,
             "#d8576b"
            ],
            [
             0.6666666666666666,
             "#ed7953"
            ],
            [
             0.7777777777777778,
             "#fb9f3a"
            ],
            [
             0.8888888888888888,
             "#fdca26"
            ],
            [
             1,
             "#f0f921"
            ]
           ]
          },
          "colorway": [
           "#636efa",
           "#EF553B",
           "#00cc96",
           "#ab63fa",
           "#FFA15A",
           "#19d3f3",
           "#FF6692",
           "#B6E880",
           "#FF97FF",
           "#FECB52"
          ],
          "font": {
           "color": "#2a3f5f"
          },
          "geo": {
           "bgcolor": "white",
           "lakecolor": "white",
           "landcolor": "#E5ECF6",
           "showlakes": true,
           "showland": true,
           "subunitcolor": "white"
          },
          "hoverlabel": {
           "align": "left"
          },
          "hovermode": "closest",
          "mapbox": {
           "style": "light"
          },
          "paper_bgcolor": "white",
          "plot_bgcolor": "#E5ECF6",
          "polar": {
           "angularaxis": {
            "gridcolor": "white",
            "linecolor": "white",
            "ticks": ""
           },
           "bgcolor": "#E5ECF6",
           "radialaxis": {
            "gridcolor": "white",
            "linecolor": "white",
            "ticks": ""
           }
          },
          "scene": {
           "xaxis": {
            "backgroundcolor": "#E5ECF6",
            "gridcolor": "white",
            "gridwidth": 2,
            "linecolor": "white",
            "showbackground": true,
            "ticks": "",
            "zerolinecolor": "white"
           },
           "yaxis": {
            "backgroundcolor": "#E5ECF6",
            "gridcolor": "white",
            "gridwidth": 2,
            "linecolor": "white",
            "showbackground": true,
            "ticks": "",
            "zerolinecolor": "white"
           },
           "zaxis": {
            "backgroundcolor": "#E5ECF6",
            "gridcolor": "white",
            "gridwidth": 2,
            "linecolor": "white",
            "showbackground": true,
            "ticks": "",
            "zerolinecolor": "white"
           }
          },
          "shapedefaults": {
           "line": {
            "color": "#2a3f5f"
           }
          },
          "ternary": {
           "aaxis": {
            "gridcolor": "white",
            "linecolor": "white",
            "ticks": ""
           },
           "baxis": {
            "gridcolor": "white",
            "linecolor": "white",
            "ticks": ""
           },
           "bgcolor": "#E5ECF6",
           "caxis": {
            "gridcolor": "white",
            "linecolor": "white",
            "ticks": ""
           }
          },
          "title": {
           "x": 0.05
          },
          "xaxis": {
           "automargin": true,
           "gridcolor": "white",
           "linecolor": "white",
           "ticks": "",
           "title": {
            "standoff": 15
           },
           "zerolinecolor": "white",
           "zerolinewidth": 2
          },
          "yaxis": {
           "automargin": true,
           "gridcolor": "white",
           "linecolor": "white",
           "ticks": "",
           "title": {
            "standoff": 15
           },
           "zerolinecolor": "white",
           "zerolinewidth": 2
          }
         }
        },
        "title": {
         "text": "Stacked Confusion Chart (goal-med-rag)",
         "x": 0.5,
         "xanchor": "center"
        },
        "width": 600,
        "xaxis": {
         "title": {
          "text": "inclusion_ratio Bins"
         }
        },
        "yaxis": {
         "title": {
          "text": "Count"
         }
        }
       }
      }
     },
     "metadata": {},
     "output_type": "display_data"
    },
    {
     "name": "stdout",
     "output_type": "stream",
     "text": [
      "\n",
      "=== Per-bin Metrics ===\n",
      "\n",
      "Bin -0.0–1.0:\n",
      "  Accuracy:  0.610\n",
      "  Precision: 0.563\n",
      "  Recall:    0.972\n",
      "  F1 Score:  0.713\n",
      "Final total: 213\n",
      "TP: 91 | TN: 31 | FP: 87 | FN: 4\n"
     ]
    },
    {
     "data": {
      "application/vnd.plotly.v1+json": {
       "config": {
        "plotlyServerURL": "https://plot.ly"
       },
       "data": [
        {
         "insidetextanchor": "middle",
         "marker": {
          "color": "green"
         },
         "name": "TP",
         "text": [
          "42.7%"
         ],
         "textfont": {
          "color": "white",
          "size": 12
         },
         "textposition": "inside",
         "type": "bar",
         "x": [
          "-0.0–1.0"
         ],
         "y": {
          "bdata": "Ww==",
          "dtype": "i1"
         }
        },
        {
         "insidetextanchor": "middle",
         "marker": {
          "color": "gray"
         },
         "name": "TN",
         "text": [
          "14.6%"
         ],
         "textfont": {
          "color": "white",
          "size": 12
         },
         "textposition": "inside",
         "type": "bar",
         "x": [
          "-0.0–1.0"
         ],
         "y": {
          "bdata": "Hw==",
          "dtype": "i1"
         }
        },
        {
         "insidetextanchor": "middle",
         "marker": {
          "color": "red"
         },
         "name": "FP",
         "text": [
          "40.8%"
         ],
         "textfont": {
          "color": "white",
          "size": 12
         },
         "textposition": "inside",
         "type": "bar",
         "x": [
          "-0.0–1.0"
         ],
         "y": {
          "bdata": "Vw==",
          "dtype": "i1"
         }
        },
        {
         "insidetextanchor": "middle",
         "marker": {
          "color": "black"
         },
         "name": "FN",
         "text": [
          "1.9%"
         ],
         "textfont": {
          "color": "white",
          "size": 12
         },
         "textposition": "inside",
         "type": "bar",
         "x": [
          "-0.0–1.0"
         ],
         "y": {
          "bdata": "BA==",
          "dtype": "i1"
         }
        }
       ],
       "layout": {
        "bargap": 0.4,
        "barmode": "stack",
        "height": 500,
        "template": {
         "data": {
          "bar": [
           {
            "error_x": {
             "color": "#2a3f5f"
            },
            "error_y": {
             "color": "#2a3f5f"
            },
            "marker": {
             "line": {
              "color": "#E5ECF6",
              "width": 0.5
             },
             "pattern": {
              "fillmode": "overlay",
              "size": 10,
              "solidity": 0.2
             }
            },
            "type": "bar"
           }
          ],
          "barpolar": [
           {
            "marker": {
             "line": {
              "color": "#E5ECF6",
              "width": 0.5
             },
             "pattern": {
              "fillmode": "overlay",
              "size": 10,
              "solidity": 0.2
             }
            },
            "type": "barpolar"
           }
          ],
          "carpet": [
           {
            "aaxis": {
             "endlinecolor": "#2a3f5f",
             "gridcolor": "white",
             "linecolor": "white",
             "minorgridcolor": "white",
             "startlinecolor": "#2a3f5f"
            },
            "baxis": {
             "endlinecolor": "#2a3f5f",
             "gridcolor": "white",
             "linecolor": "white",
             "minorgridcolor": "white",
             "startlinecolor": "#2a3f5f"
            },
            "type": "carpet"
           }
          ],
          "choropleth": [
           {
            "colorbar": {
             "outlinewidth": 0,
             "ticks": ""
            },
            "type": "choropleth"
           }
          ],
          "contour": [
           {
            "colorbar": {
             "outlinewidth": 0,
             "ticks": ""
            },
            "colorscale": [
             [
              0,
              "#0d0887"
             ],
             [
              0.1111111111111111,
              "#46039f"
             ],
             [
              0.2222222222222222,
              "#7201a8"
             ],
             [
              0.3333333333333333,
              "#9c179e"
             ],
             [
              0.4444444444444444,
              "#bd3786"
             ],
             [
              0.5555555555555556,
              "#d8576b"
             ],
             [
              0.6666666666666666,
              "#ed7953"
             ],
             [
              0.7777777777777778,
              "#fb9f3a"
             ],
             [
              0.8888888888888888,
              "#fdca26"
             ],
             [
              1,
              "#f0f921"
             ]
            ],
            "type": "contour"
           }
          ],
          "contourcarpet": [
           {
            "colorbar": {
             "outlinewidth": 0,
             "ticks": ""
            },
            "type": "contourcarpet"
           }
          ],
          "heatmap": [
           {
            "colorbar": {
             "outlinewidth": 0,
             "ticks": ""
            },
            "colorscale": [
             [
              0,
              "#0d0887"
             ],
             [
              0.1111111111111111,
              "#46039f"
             ],
             [
              0.2222222222222222,
              "#7201a8"
             ],
             [
              0.3333333333333333,
              "#9c179e"
             ],
             [
              0.4444444444444444,
              "#bd3786"
             ],
             [
              0.5555555555555556,
              "#d8576b"
             ],
             [
              0.6666666666666666,
              "#ed7953"
             ],
             [
              0.7777777777777778,
              "#fb9f3a"
             ],
             [
              0.8888888888888888,
              "#fdca26"
             ],
             [
              1,
              "#f0f921"
             ]
            ],
            "type": "heatmap"
           }
          ],
          "histogram": [
           {
            "marker": {
             "pattern": {
              "fillmode": "overlay",
              "size": 10,
              "solidity": 0.2
             }
            },
            "type": "histogram"
           }
          ],
          "histogram2d": [
           {
            "colorbar": {
             "outlinewidth": 0,
             "ticks": ""
            },
            "colorscale": [
             [
              0,
              "#0d0887"
             ],
             [
              0.1111111111111111,
              "#46039f"
             ],
             [
              0.2222222222222222,
              "#7201a8"
             ],
             [
              0.3333333333333333,
              "#9c179e"
             ],
             [
              0.4444444444444444,
              "#bd3786"
             ],
             [
              0.5555555555555556,
              "#d8576b"
             ],
             [
              0.6666666666666666,
              "#ed7953"
             ],
             [
              0.7777777777777778,
              "#fb9f3a"
             ],
             [
              0.8888888888888888,
              "#fdca26"
             ],
             [
              1,
              "#f0f921"
             ]
            ],
            "type": "histogram2d"
           }
          ],
          "histogram2dcontour": [
           {
            "colorbar": {
             "outlinewidth": 0,
             "ticks": ""
            },
            "colorscale": [
             [
              0,
              "#0d0887"
             ],
             [
              0.1111111111111111,
              "#46039f"
             ],
             [
              0.2222222222222222,
              "#7201a8"
             ],
             [
              0.3333333333333333,
              "#9c179e"
             ],
             [
              0.4444444444444444,
              "#bd3786"
             ],
             [
              0.5555555555555556,
              "#d8576b"
             ],
             [
              0.6666666666666666,
              "#ed7953"
             ],
             [
              0.7777777777777778,
              "#fb9f3a"
             ],
             [
              0.8888888888888888,
              "#fdca26"
             ],
             [
              1,
              "#f0f921"
             ]
            ],
            "type": "histogram2dcontour"
           }
          ],
          "mesh3d": [
           {
            "colorbar": {
             "outlinewidth": 0,
             "ticks": ""
            },
            "type": "mesh3d"
           }
          ],
          "parcoords": [
           {
            "line": {
             "colorbar": {
              "outlinewidth": 0,
              "ticks": ""
             }
            },
            "type": "parcoords"
           }
          ],
          "pie": [
           {
            "automargin": true,
            "type": "pie"
           }
          ],
          "scatter": [
           {
            "fillpattern": {
             "fillmode": "overlay",
             "size": 10,
             "solidity": 0.2
            },
            "type": "scatter"
           }
          ],
          "scatter3d": [
           {
            "line": {
             "colorbar": {
              "outlinewidth": 0,
              "ticks": ""
             }
            },
            "marker": {
             "colorbar": {
              "outlinewidth": 0,
              "ticks": ""
             }
            },
            "type": "scatter3d"
           }
          ],
          "scattercarpet": [
           {
            "marker": {
             "colorbar": {
              "outlinewidth": 0,
              "ticks": ""
             }
            },
            "type": "scattercarpet"
           }
          ],
          "scattergeo": [
           {
            "marker": {
             "colorbar": {
              "outlinewidth": 0,
              "ticks": ""
             }
            },
            "type": "scattergeo"
           }
          ],
          "scattergl": [
           {
            "marker": {
             "colorbar": {
              "outlinewidth": 0,
              "ticks": ""
             }
            },
            "type": "scattergl"
           }
          ],
          "scattermap": [
           {
            "marker": {
             "colorbar": {
              "outlinewidth": 0,
              "ticks": ""
             }
            },
            "type": "scattermap"
           }
          ],
          "scattermapbox": [
           {
            "marker": {
             "colorbar": {
              "outlinewidth": 0,
              "ticks": ""
             }
            },
            "type": "scattermapbox"
           }
          ],
          "scatterpolar": [
           {
            "marker": {
             "colorbar": {
              "outlinewidth": 0,
              "ticks": ""
             }
            },
            "type": "scatterpolar"
           }
          ],
          "scatterpolargl": [
           {
            "marker": {
             "colorbar": {
              "outlinewidth": 0,
              "ticks": ""
             }
            },
            "type": "scatterpolargl"
           }
          ],
          "scatterternary": [
           {
            "marker": {
             "colorbar": {
              "outlinewidth": 0,
              "ticks": ""
             }
            },
            "type": "scatterternary"
           }
          ],
          "surface": [
           {
            "colorbar": {
             "outlinewidth": 0,
             "ticks": ""
            },
            "colorscale": [
             [
              0,
              "#0d0887"
             ],
             [
              0.1111111111111111,
              "#46039f"
             ],
             [
              0.2222222222222222,
              "#7201a8"
             ],
             [
              0.3333333333333333,
              "#9c179e"
             ],
             [
              0.4444444444444444,
              "#bd3786"
             ],
             [
              0.5555555555555556,
              "#d8576b"
             ],
             [
              0.6666666666666666,
              "#ed7953"
             ],
             [
              0.7777777777777778,
              "#fb9f3a"
             ],
             [
              0.8888888888888888,
              "#fdca26"
             ],
             [
              1,
              "#f0f921"
             ]
            ],
            "type": "surface"
           }
          ],
          "table": [
           {
            "cells": {
             "fill": {
              "color": "#EBF0F8"
             },
             "line": {
              "color": "white"
             }
            },
            "header": {
             "fill": {
              "color": "#C8D4E3"
             },
             "line": {
              "color": "white"
             }
            },
            "type": "table"
           }
          ]
         },
         "layout": {
          "annotationdefaults": {
           "arrowcolor": "#2a3f5f",
           "arrowhead": 0,
           "arrowwidth": 1
          },
          "autotypenumbers": "strict",
          "coloraxis": {
           "colorbar": {
            "outlinewidth": 0,
            "ticks": ""
           }
          },
          "colorscale": {
           "diverging": [
            [
             0,
             "#8e0152"
            ],
            [
             0.1,
             "#c51b7d"
            ],
            [
             0.2,
             "#de77ae"
            ],
            [
             0.3,
             "#f1b6da"
            ],
            [
             0.4,
             "#fde0ef"
            ],
            [
             0.5,
             "#f7f7f7"
            ],
            [
             0.6,
             "#e6f5d0"
            ],
            [
             0.7,
             "#b8e186"
            ],
            [
             0.8,
             "#7fbc41"
            ],
            [
             0.9,
             "#4d9221"
            ],
            [
             1,
             "#276419"
            ]
           ],
           "sequential": [
            [
             0,
             "#0d0887"
            ],
            [
             0.1111111111111111,
             "#46039f"
            ],
            [
             0.2222222222222222,
             "#7201a8"
            ],
            [
             0.3333333333333333,
             "#9c179e"
            ],
            [
             0.4444444444444444,
             "#bd3786"
            ],
            [
             0.5555555555555556,
             "#d8576b"
            ],
            [
             0.6666666666666666,
             "#ed7953"
            ],
            [
             0.7777777777777778,
             "#fb9f3a"
            ],
            [
             0.8888888888888888,
             "#fdca26"
            ],
            [
             1,
             "#f0f921"
            ]
           ],
           "sequentialminus": [
            [
             0,
             "#0d0887"
            ],
            [
             0.1111111111111111,
             "#46039f"
            ],
            [
             0.2222222222222222,
             "#7201a8"
            ],
            [
             0.3333333333333333,
             "#9c179e"
            ],
            [
             0.4444444444444444,
             "#bd3786"
            ],
            [
             0.5555555555555556,
             "#d8576b"
            ],
            [
             0.6666666666666666,
             "#ed7953"
            ],
            [
             0.7777777777777778,
             "#fb9f3a"
            ],
            [
             0.8888888888888888,
             "#fdca26"
            ],
            [
             1,
             "#f0f921"
            ]
           ]
          },
          "colorway": [
           "#636efa",
           "#EF553B",
           "#00cc96",
           "#ab63fa",
           "#FFA15A",
           "#19d3f3",
           "#FF6692",
           "#B6E880",
           "#FF97FF",
           "#FECB52"
          ],
          "font": {
           "color": "#2a3f5f"
          },
          "geo": {
           "bgcolor": "white",
           "lakecolor": "white",
           "landcolor": "#E5ECF6",
           "showlakes": true,
           "showland": true,
           "subunitcolor": "white"
          },
          "hoverlabel": {
           "align": "left"
          },
          "hovermode": "closest",
          "mapbox": {
           "style": "light"
          },
          "paper_bgcolor": "white",
          "plot_bgcolor": "#E5ECF6",
          "polar": {
           "angularaxis": {
            "gridcolor": "white",
            "linecolor": "white",
            "ticks": ""
           },
           "bgcolor": "#E5ECF6",
           "radialaxis": {
            "gridcolor": "white",
            "linecolor": "white",
            "ticks": ""
           }
          },
          "scene": {
           "xaxis": {
            "backgroundcolor": "#E5ECF6",
            "gridcolor": "white",
            "gridwidth": 2,
            "linecolor": "white",
            "showbackground": true,
            "ticks": "",
            "zerolinecolor": "white"
           },
           "yaxis": {
            "backgroundcolor": "#E5ECF6",
            "gridcolor": "white",
            "gridwidth": 2,
            "linecolor": "white",
            "showbackground": true,
            "ticks": "",
            "zerolinecolor": "white"
           },
           "zaxis": {
            "backgroundcolor": "#E5ECF6",
            "gridcolor": "white",
            "gridwidth": 2,
            "linecolor": "white",
            "showbackground": true,
            "ticks": "",
            "zerolinecolor": "white"
           }
          },
          "shapedefaults": {
           "line": {
            "color": "#2a3f5f"
           }
          },
          "ternary": {
           "aaxis": {
            "gridcolor": "white",
            "linecolor": "white",
            "ticks": ""
           },
           "baxis": {
            "gridcolor": "white",
            "linecolor": "white",
            "ticks": ""
           },
           "bgcolor": "#E5ECF6",
           "caxis": {
            "gridcolor": "white",
            "linecolor": "white",
            "ticks": ""
           }
          },
          "title": {
           "x": 0.05
          },
          "xaxis": {
           "automargin": true,
           "gridcolor": "white",
           "linecolor": "white",
           "ticks": "",
           "title": {
            "standoff": 15
           },
           "zerolinecolor": "white",
           "zerolinewidth": 2
          },
          "yaxis": {
           "automargin": true,
           "gridcolor": "white",
           "linecolor": "white",
           "ticks": "",
           "title": {
            "standoff": 15
           },
           "zerolinecolor": "white",
           "zerolinewidth": 2
          }
         }
        },
        "title": {
         "text": "Stacked Confusion Chart (goal-med)",
         "x": 0.5,
         "xanchor": "center"
        },
        "width": 600,
        "xaxis": {
         "title": {
          "text": "inclusion_ratio Bins"
         }
        },
        "yaxis": {
         "title": {
          "text": "Count"
         }
        }
       }
      }
     },
     "metadata": {},
     "output_type": "display_data"
    },
    {
     "name": "stdout",
     "output_type": "stream",
     "text": [
      "\n",
      "=== Per-bin Metrics ===\n",
      "\n",
      "Bin -0.0–1.0:\n",
      "  Accuracy:  0.573\n",
      "  Precision: 0.511\n",
      "  Recall:    0.958\n",
      "  F1 Score:  0.667\n",
      "Final total: 213\n",
      "TP: 87 | TN: 22 | FP: 102 | FN: 2\n"
     ]
    },
    {
     "data": {
      "application/vnd.plotly.v1+json": {
       "config": {
        "plotlyServerURL": "https://plot.ly"
       },
       "data": [
        {
         "insidetextanchor": "middle",
         "marker": {
          "color": "green"
         },
         "name": "TP",
         "text": [
          "11.3%",
          "41.2%",
          "57.6%"
         ],
         "textfont": {
          "color": "white",
          "size": 12
         },
         "textposition": "inside",
         "type": "bar",
         "x": [
          "-0.0–0.33",
          "0.33–0.67",
          "0.67–1.0"
         ],
         "y": {
          "bdata": "Bhw1",
          "dtype": "i1"
         }
        },
        {
         "insidetextanchor": "middle",
         "marker": {
          "color": "gray"
         },
         "name": "TN",
         "text": [
          "11.3%",
          "5.9%",
          "13.0%"
         ],
         "textfont": {
          "color": "white",
          "size": 12
         },
         "textposition": "inside",
         "type": "bar",
         "x": [
          "-0.0–0.33",
          "0.33–0.67",
          "0.67–1.0"
         ],
         "y": {
          "bdata": "BgQM",
          "dtype": "i1"
         }
        },
        {
         "insidetextanchor": "middle",
         "marker": {
          "color": "red"
         },
         "name": "FP",
         "text": [
          "77.4%",
          "50.0%",
          "29.3%"
         ],
         "textfont": {
          "color": "white",
          "size": 12
         },
         "textposition": "inside",
         "type": "bar",
         "x": [
          "-0.0–0.33",
          "0.33–0.67",
          "0.67–1.0"
         ],
         "y": {
          "bdata": "KSIb",
          "dtype": "i1"
         }
        },
        {
         "insidetextanchor": "middle",
         "marker": {
          "color": "black"
         },
         "name": "FN",
         "text": [
          "0.0%",
          "2.9%",
          "0.0%"
         ],
         "textfont": {
          "color": "white",
          "size": 12
         },
         "textposition": "inside",
         "type": "bar",
         "x": [
          "-0.0–0.33",
          "0.33–0.67",
          "0.67–1.0"
         ],
         "y": {
          "bdata": "AAIA",
          "dtype": "i1"
         }
        }
       ],
       "layout": {
        "bargap": 0.4,
        "barmode": "stack",
        "height": 500,
        "template": {
         "data": {
          "bar": [
           {
            "error_x": {
             "color": "#2a3f5f"
            },
            "error_y": {
             "color": "#2a3f5f"
            },
            "marker": {
             "line": {
              "color": "#E5ECF6",
              "width": 0.5
             },
             "pattern": {
              "fillmode": "overlay",
              "size": 10,
              "solidity": 0.2
             }
            },
            "type": "bar"
           }
          ],
          "barpolar": [
           {
            "marker": {
             "line": {
              "color": "#E5ECF6",
              "width": 0.5
             },
             "pattern": {
              "fillmode": "overlay",
              "size": 10,
              "solidity": 0.2
             }
            },
            "type": "barpolar"
           }
          ],
          "carpet": [
           {
            "aaxis": {
             "endlinecolor": "#2a3f5f",
             "gridcolor": "white",
             "linecolor": "white",
             "minorgridcolor": "white",
             "startlinecolor": "#2a3f5f"
            },
            "baxis": {
             "endlinecolor": "#2a3f5f",
             "gridcolor": "white",
             "linecolor": "white",
             "minorgridcolor": "white",
             "startlinecolor": "#2a3f5f"
            },
            "type": "carpet"
           }
          ],
          "choropleth": [
           {
            "colorbar": {
             "outlinewidth": 0,
             "ticks": ""
            },
            "type": "choropleth"
           }
          ],
          "contour": [
           {
            "colorbar": {
             "outlinewidth": 0,
             "ticks": ""
            },
            "colorscale": [
             [
              0,
              "#0d0887"
             ],
             [
              0.1111111111111111,
              "#46039f"
             ],
             [
              0.2222222222222222,
              "#7201a8"
             ],
             [
              0.3333333333333333,
              "#9c179e"
             ],
             [
              0.4444444444444444,
              "#bd3786"
             ],
             [
              0.5555555555555556,
              "#d8576b"
             ],
             [
              0.6666666666666666,
              "#ed7953"
             ],
             [
              0.7777777777777778,
              "#fb9f3a"
             ],
             [
              0.8888888888888888,
              "#fdca26"
             ],
             [
              1,
              "#f0f921"
             ]
            ],
            "type": "contour"
           }
          ],
          "contourcarpet": [
           {
            "colorbar": {
             "outlinewidth": 0,
             "ticks": ""
            },
            "type": "contourcarpet"
           }
          ],
          "heatmap": [
           {
            "colorbar": {
             "outlinewidth": 0,
             "ticks": ""
            },
            "colorscale": [
             [
              0,
              "#0d0887"
             ],
             [
              0.1111111111111111,
              "#46039f"
             ],
             [
              0.2222222222222222,
              "#7201a8"
             ],
             [
              0.3333333333333333,
              "#9c179e"
             ],
             [
              0.4444444444444444,
              "#bd3786"
             ],
             [
              0.5555555555555556,
              "#d8576b"
             ],
             [
              0.6666666666666666,
              "#ed7953"
             ],
             [
              0.7777777777777778,
              "#fb9f3a"
             ],
             [
              0.8888888888888888,
              "#fdca26"
             ],
             [
              1,
              "#f0f921"
             ]
            ],
            "type": "heatmap"
           }
          ],
          "histogram": [
           {
            "marker": {
             "pattern": {
              "fillmode": "overlay",
              "size": 10,
              "solidity": 0.2
             }
            },
            "type": "histogram"
           }
          ],
          "histogram2d": [
           {
            "colorbar": {
             "outlinewidth": 0,
             "ticks": ""
            },
            "colorscale": [
             [
              0,
              "#0d0887"
             ],
             [
              0.1111111111111111,
              "#46039f"
             ],
             [
              0.2222222222222222,
              "#7201a8"
             ],
             [
              0.3333333333333333,
              "#9c179e"
             ],
             [
              0.4444444444444444,
              "#bd3786"
             ],
             [
              0.5555555555555556,
              "#d8576b"
             ],
             [
              0.6666666666666666,
              "#ed7953"
             ],
             [
              0.7777777777777778,
              "#fb9f3a"
             ],
             [
              0.8888888888888888,
              "#fdca26"
             ],
             [
              1,
              "#f0f921"
             ]
            ],
            "type": "histogram2d"
           }
          ],
          "histogram2dcontour": [
           {
            "colorbar": {
             "outlinewidth": 0,
             "ticks": ""
            },
            "colorscale": [
             [
              0,
              "#0d0887"
             ],
             [
              0.1111111111111111,
              "#46039f"
             ],
             [
              0.2222222222222222,
              "#7201a8"
             ],
             [
              0.3333333333333333,
              "#9c179e"
             ],
             [
              0.4444444444444444,
              "#bd3786"
             ],
             [
              0.5555555555555556,
              "#d8576b"
             ],
             [
              0.6666666666666666,
              "#ed7953"
             ],
             [
              0.7777777777777778,
              "#fb9f3a"
             ],
             [
              0.8888888888888888,
              "#fdca26"
             ],
             [
              1,
              "#f0f921"
             ]
            ],
            "type": "histogram2dcontour"
           }
          ],
          "mesh3d": [
           {
            "colorbar": {
             "outlinewidth": 0,
             "ticks": ""
            },
            "type": "mesh3d"
           }
          ],
          "parcoords": [
           {
            "line": {
             "colorbar": {
              "outlinewidth": 0,
              "ticks": ""
             }
            },
            "type": "parcoords"
           }
          ],
          "pie": [
           {
            "automargin": true,
            "type": "pie"
           }
          ],
          "scatter": [
           {
            "fillpattern": {
             "fillmode": "overlay",
             "size": 10,
             "solidity": 0.2
            },
            "type": "scatter"
           }
          ],
          "scatter3d": [
           {
            "line": {
             "colorbar": {
              "outlinewidth": 0,
              "ticks": ""
             }
            },
            "marker": {
             "colorbar": {
              "outlinewidth": 0,
              "ticks": ""
             }
            },
            "type": "scatter3d"
           }
          ],
          "scattercarpet": [
           {
            "marker": {
             "colorbar": {
              "outlinewidth": 0,
              "ticks": ""
             }
            },
            "type": "scattercarpet"
           }
          ],
          "scattergeo": [
           {
            "marker": {
             "colorbar": {
              "outlinewidth": 0,
              "ticks": ""
             }
            },
            "type": "scattergeo"
           }
          ],
          "scattergl": [
           {
            "marker": {
             "colorbar": {
              "outlinewidth": 0,
              "ticks": ""
             }
            },
            "type": "scattergl"
           }
          ],
          "scattermap": [
           {
            "marker": {
             "colorbar": {
              "outlinewidth": 0,
              "ticks": ""
             }
            },
            "type": "scattermap"
           }
          ],
          "scattermapbox": [
           {
            "marker": {
             "colorbar": {
              "outlinewidth": 0,
              "ticks": ""
             }
            },
            "type": "scattermapbox"
           }
          ],
          "scatterpolar": [
           {
            "marker": {
             "colorbar": {
              "outlinewidth": 0,
              "ticks": ""
             }
            },
            "type": "scatterpolar"
           }
          ],
          "scatterpolargl": [
           {
            "marker": {
             "colorbar": {
              "outlinewidth": 0,
              "ticks": ""
             }
            },
            "type": "scatterpolargl"
           }
          ],
          "scatterternary": [
           {
            "marker": {
             "colorbar": {
              "outlinewidth": 0,
              "ticks": ""
             }
            },
            "type": "scatterternary"
           }
          ],
          "surface": [
           {
            "colorbar": {
             "outlinewidth": 0,
             "ticks": ""
            },
            "colorscale": [
             [
              0,
              "#0d0887"
             ],
             [
              0.1111111111111111,
              "#46039f"
             ],
             [
              0.2222222222222222,
              "#7201a8"
             ],
             [
              0.3333333333333333,
              "#9c179e"
             ],
             [
              0.4444444444444444,
              "#bd3786"
             ],
             [
              0.5555555555555556,
              "#d8576b"
             ],
             [
              0.6666666666666666,
              "#ed7953"
             ],
             [
              0.7777777777777778,
              "#fb9f3a"
             ],
             [
              0.8888888888888888,
              "#fdca26"
             ],
             [
              1,
              "#f0f921"
             ]
            ],
            "type": "surface"
           }
          ],
          "table": [
           {
            "cells": {
             "fill": {
              "color": "#EBF0F8"
             },
             "line": {
              "color": "white"
             }
            },
            "header": {
             "fill": {
              "color": "#C8D4E3"
             },
             "line": {
              "color": "white"
             }
            },
            "type": "table"
           }
          ]
         },
         "layout": {
          "annotationdefaults": {
           "arrowcolor": "#2a3f5f",
           "arrowhead": 0,
           "arrowwidth": 1
          },
          "autotypenumbers": "strict",
          "coloraxis": {
           "colorbar": {
            "outlinewidth": 0,
            "ticks": ""
           }
          },
          "colorscale": {
           "diverging": [
            [
             0,
             "#8e0152"
            ],
            [
             0.1,
             "#c51b7d"
            ],
            [
             0.2,
             "#de77ae"
            ],
            [
             0.3,
             "#f1b6da"
            ],
            [
             0.4,
             "#fde0ef"
            ],
            [
             0.5,
             "#f7f7f7"
            ],
            [
             0.6,
             "#e6f5d0"
            ],
            [
             0.7,
             "#b8e186"
            ],
            [
             0.8,
             "#7fbc41"
            ],
            [
             0.9,
             "#4d9221"
            ],
            [
             1,
             "#276419"
            ]
           ],
           "sequential": [
            [
             0,
             "#0d0887"
            ],
            [
             0.1111111111111111,
             "#46039f"
            ],
            [
             0.2222222222222222,
             "#7201a8"
            ],
            [
             0.3333333333333333,
             "#9c179e"
            ],
            [
             0.4444444444444444,
             "#bd3786"
            ],
            [
             0.5555555555555556,
             "#d8576b"
            ],
            [
             0.6666666666666666,
             "#ed7953"
            ],
            [
             0.7777777777777778,
             "#fb9f3a"
            ],
            [
             0.8888888888888888,
             "#fdca26"
            ],
            [
             1,
             "#f0f921"
            ]
           ],
           "sequentialminus": [
            [
             0,
             "#0d0887"
            ],
            [
             0.1111111111111111,
             "#46039f"
            ],
            [
             0.2222222222222222,
             "#7201a8"
            ],
            [
             0.3333333333333333,
             "#9c179e"
            ],
            [
             0.4444444444444444,
             "#bd3786"
            ],
            [
             0.5555555555555556,
             "#d8576b"
            ],
            [
             0.6666666666666666,
             "#ed7953"
            ],
            [
             0.7777777777777778,
             "#fb9f3a"
            ],
            [
             0.8888888888888888,
             "#fdca26"
            ],
            [
             1,
             "#f0f921"
            ]
           ]
          },
          "colorway": [
           "#636efa",
           "#EF553B",
           "#00cc96",
           "#ab63fa",
           "#FFA15A",
           "#19d3f3",
           "#FF6692",
           "#B6E880",
           "#FF97FF",
           "#FECB52"
          ],
          "font": {
           "color": "#2a3f5f"
          },
          "geo": {
           "bgcolor": "white",
           "lakecolor": "white",
           "landcolor": "#E5ECF6",
           "showlakes": true,
           "showland": true,
           "subunitcolor": "white"
          },
          "hoverlabel": {
           "align": "left"
          },
          "hovermode": "closest",
          "mapbox": {
           "style": "light"
          },
          "paper_bgcolor": "white",
          "plot_bgcolor": "#E5ECF6",
          "polar": {
           "angularaxis": {
            "gridcolor": "white",
            "linecolor": "white",
            "ticks": ""
           },
           "bgcolor": "#E5ECF6",
           "radialaxis": {
            "gridcolor": "white",
            "linecolor": "white",
            "ticks": ""
           }
          },
          "scene": {
           "xaxis": {
            "backgroundcolor": "#E5ECF6",
            "gridcolor": "white",
            "gridwidth": 2,
            "linecolor": "white",
            "showbackground": true,
            "ticks": "",
            "zerolinecolor": "white"
           },
           "yaxis": {
            "backgroundcolor": "#E5ECF6",
            "gridcolor": "white",
            "gridwidth": 2,
            "linecolor": "white",
            "showbackground": true,
            "ticks": "",
            "zerolinecolor": "white"
           },
           "zaxis": {
            "backgroundcolor": "#E5ECF6",
            "gridcolor": "white",
            "gridwidth": 2,
            "linecolor": "white",
            "showbackground": true,
            "ticks": "",
            "zerolinecolor": "white"
           }
          },
          "shapedefaults": {
           "line": {
            "color": "#2a3f5f"
           }
          },
          "ternary": {
           "aaxis": {
            "gridcolor": "white",
            "linecolor": "white",
            "ticks": ""
           },
           "baxis": {
            "gridcolor": "white",
            "linecolor": "white",
            "ticks": ""
           },
           "bgcolor": "#E5ECF6",
           "caxis": {
            "gridcolor": "white",
            "linecolor": "white",
            "ticks": ""
           }
          },
          "title": {
           "x": 0.05
          },
          "xaxis": {
           "automargin": true,
           "gridcolor": "white",
           "linecolor": "white",
           "ticks": "",
           "title": {
            "standoff": 15
           },
           "zerolinecolor": "white",
           "zerolinewidth": 2
          },
          "yaxis": {
           "automargin": true,
           "gridcolor": "white",
           "linecolor": "white",
           "ticks": "",
           "title": {
            "standoff": 15
           },
           "zerolinecolor": "white",
           "zerolinewidth": 2
          }
         }
        },
        "title": {
         "text": "Stacked Confusion Chart (taxo-med-rag)",
         "x": 0.5,
         "xanchor": "center"
        },
        "width": 600,
        "xaxis": {
         "title": {
          "text": "inclusion_ratio Bins"
         }
        },
        "yaxis": {
         "title": {
          "text": "Count"
         }
        }
       }
      }
     },
     "metadata": {},
     "output_type": "display_data"
    },
    {
     "name": "stdout",
     "output_type": "stream",
     "text": [
      "\n",
      "=== Per-bin Metrics ===\n",
      "\n",
      "Bin -0.0–0.33:\n",
      "  Accuracy:  0.226\n",
      "  Precision: 0.128\n",
      "  Recall:    1.000\n",
      "  F1 Score:  0.226\n",
      "\n",
      "Bin 0.33–0.67:\n",
      "  Accuracy:  0.471\n",
      "  Precision: 0.452\n",
      "  Recall:    0.933\n",
      "  F1 Score:  0.609\n",
      "\n",
      "Bin 0.67–1.0:\n",
      "  Accuracy:  0.707\n",
      "  Precision: 0.662\n",
      "  Recall:    1.000\n",
      "  F1 Score:  0.797\n",
      "Final total: 213\n",
      "TP: 89 | TN: 28 | FP: 93 | FN: 3\n"
     ]
    },
    {
     "data": {
      "application/vnd.plotly.v1+json": {
       "config": {
        "plotlyServerURL": "https://plot.ly"
       },
       "data": [
        {
         "insidetextanchor": "middle",
         "marker": {
          "color": "green"
         },
         "name": "TP",
         "text": [
          "15.1%",
          "36.8%",
          "60.9%"
         ],
         "textfont": {
          "color": "white",
          "size": 12
         },
         "textposition": "inside",
         "type": "bar",
         "x": [
          "-0.0–0.33",
          "0.33–0.67",
          "0.67–1.0"
         ],
         "y": {
          "bdata": "CBk4",
          "dtype": "i1"
         }
        },
        {
         "insidetextanchor": "middle",
         "marker": {
          "color": "gray"
         },
         "name": "TN",
         "text": [
          "9.4%",
          "20.6%",
          "9.8%"
         ],
         "textfont": {
          "color": "white",
          "size": 12
         },
         "textposition": "inside",
         "type": "bar",
         "x": [
          "-0.0–0.33",
          "0.33–0.67",
          "0.67–1.0"
         ],
         "y": {
          "bdata": "BQ4J",
          "dtype": "i1"
         }
        },
        {
         "insidetextanchor": "middle",
         "marker": {
          "color": "red"
         },
         "name": "FP",
         "text": [
          "73.6%",
          "42.6%",
          "27.2%"
         ],
         "textfont": {
          "color": "white",
          "size": 12
         },
         "textposition": "inside",
         "type": "bar",
         "x": [
          "-0.0–0.33",
          "0.33–0.67",
          "0.67–1.0"
         ],
         "y": {
          "bdata": "Jx0Z",
          "dtype": "i1"
         }
        },
        {
         "insidetextanchor": "middle",
         "marker": {
          "color": "black"
         },
         "name": "FN",
         "text": [
          "1.9%",
          "0.0%",
          "2.2%"
         ],
         "textfont": {
          "color": "white",
          "size": 12
         },
         "textposition": "inside",
         "type": "bar",
         "x": [
          "-0.0–0.33",
          "0.33–0.67",
          "0.67–1.0"
         ],
         "y": {
          "bdata": "AQAC",
          "dtype": "i1"
         }
        }
       ],
       "layout": {
        "bargap": 0.4,
        "barmode": "stack",
        "height": 500,
        "template": {
         "data": {
          "bar": [
           {
            "error_x": {
             "color": "#2a3f5f"
            },
            "error_y": {
             "color": "#2a3f5f"
            },
            "marker": {
             "line": {
              "color": "#E5ECF6",
              "width": 0.5
             },
             "pattern": {
              "fillmode": "overlay",
              "size": 10,
              "solidity": 0.2
             }
            },
            "type": "bar"
           }
          ],
          "barpolar": [
           {
            "marker": {
             "line": {
              "color": "#E5ECF6",
              "width": 0.5
             },
             "pattern": {
              "fillmode": "overlay",
              "size": 10,
              "solidity": 0.2
             }
            },
            "type": "barpolar"
           }
          ],
          "carpet": [
           {
            "aaxis": {
             "endlinecolor": "#2a3f5f",
             "gridcolor": "white",
             "linecolor": "white",
             "minorgridcolor": "white",
             "startlinecolor": "#2a3f5f"
            },
            "baxis": {
             "endlinecolor": "#2a3f5f",
             "gridcolor": "white",
             "linecolor": "white",
             "minorgridcolor": "white",
             "startlinecolor": "#2a3f5f"
            },
            "type": "carpet"
           }
          ],
          "choropleth": [
           {
            "colorbar": {
             "outlinewidth": 0,
             "ticks": ""
            },
            "type": "choropleth"
           }
          ],
          "contour": [
           {
            "colorbar": {
             "outlinewidth": 0,
             "ticks": ""
            },
            "colorscale": [
             [
              0,
              "#0d0887"
             ],
             [
              0.1111111111111111,
              "#46039f"
             ],
             [
              0.2222222222222222,
              "#7201a8"
             ],
             [
              0.3333333333333333,
              "#9c179e"
             ],
             [
              0.4444444444444444,
              "#bd3786"
             ],
             [
              0.5555555555555556,
              "#d8576b"
             ],
             [
              0.6666666666666666,
              "#ed7953"
             ],
             [
              0.7777777777777778,
              "#fb9f3a"
             ],
             [
              0.8888888888888888,
              "#fdca26"
             ],
             [
              1,
              "#f0f921"
             ]
            ],
            "type": "contour"
           }
          ],
          "contourcarpet": [
           {
            "colorbar": {
             "outlinewidth": 0,
             "ticks": ""
            },
            "type": "contourcarpet"
           }
          ],
          "heatmap": [
           {
            "colorbar": {
             "outlinewidth": 0,
             "ticks": ""
            },
            "colorscale": [
             [
              0,
              "#0d0887"
             ],
             [
              0.1111111111111111,
              "#46039f"
             ],
             [
              0.2222222222222222,
              "#7201a8"
             ],
             [
              0.3333333333333333,
              "#9c179e"
             ],
             [
              0.4444444444444444,
              "#bd3786"
             ],
             [
              0.5555555555555556,
              "#d8576b"
             ],
             [
              0.6666666666666666,
              "#ed7953"
             ],
             [
              0.7777777777777778,
              "#fb9f3a"
             ],
             [
              0.8888888888888888,
              "#fdca26"
             ],
             [
              1,
              "#f0f921"
             ]
            ],
            "type": "heatmap"
           }
          ],
          "histogram": [
           {
            "marker": {
             "pattern": {
              "fillmode": "overlay",
              "size": 10,
              "solidity": 0.2
             }
            },
            "type": "histogram"
           }
          ],
          "histogram2d": [
           {
            "colorbar": {
             "outlinewidth": 0,
             "ticks": ""
            },
            "colorscale": [
             [
              0,
              "#0d0887"
             ],
             [
              0.1111111111111111,
              "#46039f"
             ],
             [
              0.2222222222222222,
              "#7201a8"
             ],
             [
              0.3333333333333333,
              "#9c179e"
             ],
             [
              0.4444444444444444,
              "#bd3786"
             ],
             [
              0.5555555555555556,
              "#d8576b"
             ],
             [
              0.6666666666666666,
              "#ed7953"
             ],
             [
              0.7777777777777778,
              "#fb9f3a"
             ],
             [
              0.8888888888888888,
              "#fdca26"
             ],
             [
              1,
              "#f0f921"
             ]
            ],
            "type": "histogram2d"
           }
          ],
          "histogram2dcontour": [
           {
            "colorbar": {
             "outlinewidth": 0,
             "ticks": ""
            },
            "colorscale": [
             [
              0,
              "#0d0887"
             ],
             [
              0.1111111111111111,
              "#46039f"
             ],
             [
              0.2222222222222222,
              "#7201a8"
             ],
             [
              0.3333333333333333,
              "#9c179e"
             ],
             [
              0.4444444444444444,
              "#bd3786"
             ],
             [
              0.5555555555555556,
              "#d8576b"
             ],
             [
              0.6666666666666666,
              "#ed7953"
             ],
             [
              0.7777777777777778,
              "#fb9f3a"
             ],
             [
              0.8888888888888888,
              "#fdca26"
             ],
             [
              1,
              "#f0f921"
             ]
            ],
            "type": "histogram2dcontour"
           }
          ],
          "mesh3d": [
           {
            "colorbar": {
             "outlinewidth": 0,
             "ticks": ""
            },
            "type": "mesh3d"
           }
          ],
          "parcoords": [
           {
            "line": {
             "colorbar": {
              "outlinewidth": 0,
              "ticks": ""
             }
            },
            "type": "parcoords"
           }
          ],
          "pie": [
           {
            "automargin": true,
            "type": "pie"
           }
          ],
          "scatter": [
           {
            "fillpattern": {
             "fillmode": "overlay",
             "size": 10,
             "solidity": 0.2
            },
            "type": "scatter"
           }
          ],
          "scatter3d": [
           {
            "line": {
             "colorbar": {
              "outlinewidth": 0,
              "ticks": ""
             }
            },
            "marker": {
             "colorbar": {
              "outlinewidth": 0,
              "ticks": ""
             }
            },
            "type": "scatter3d"
           }
          ],
          "scattercarpet": [
           {
            "marker": {
             "colorbar": {
              "outlinewidth": 0,
              "ticks": ""
             }
            },
            "type": "scattercarpet"
           }
          ],
          "scattergeo": [
           {
            "marker": {
             "colorbar": {
              "outlinewidth": 0,
              "ticks": ""
             }
            },
            "type": "scattergeo"
           }
          ],
          "scattergl": [
           {
            "marker": {
             "colorbar": {
              "outlinewidth": 0,
              "ticks": ""
             }
            },
            "type": "scattergl"
           }
          ],
          "scattermap": [
           {
            "marker": {
             "colorbar": {
              "outlinewidth": 0,
              "ticks": ""
             }
            },
            "type": "scattermap"
           }
          ],
          "scattermapbox": [
           {
            "marker": {
             "colorbar": {
              "outlinewidth": 0,
              "ticks": ""
             }
            },
            "type": "scattermapbox"
           }
          ],
          "scatterpolar": [
           {
            "marker": {
             "colorbar": {
              "outlinewidth": 0,
              "ticks": ""
             }
            },
            "type": "scatterpolar"
           }
          ],
          "scatterpolargl": [
           {
            "marker": {
             "colorbar": {
              "outlinewidth": 0,
              "ticks": ""
             }
            },
            "type": "scatterpolargl"
           }
          ],
          "scatterternary": [
           {
            "marker": {
             "colorbar": {
              "outlinewidth": 0,
              "ticks": ""
             }
            },
            "type": "scatterternary"
           }
          ],
          "surface": [
           {
            "colorbar": {
             "outlinewidth": 0,
             "ticks": ""
            },
            "colorscale": [
             [
              0,
              "#0d0887"
             ],
             [
              0.1111111111111111,
              "#46039f"
             ],
             [
              0.2222222222222222,
              "#7201a8"
             ],
             [
              0.3333333333333333,
              "#9c179e"
             ],
             [
              0.4444444444444444,
              "#bd3786"
             ],
             [
              0.5555555555555556,
              "#d8576b"
             ],
             [
              0.6666666666666666,
              "#ed7953"
             ],
             [
              0.7777777777777778,
              "#fb9f3a"
             ],
             [
              0.8888888888888888,
              "#fdca26"
             ],
             [
              1,
              "#f0f921"
             ]
            ],
            "type": "surface"
           }
          ],
          "table": [
           {
            "cells": {
             "fill": {
              "color": "#EBF0F8"
             },
             "line": {
              "color": "white"
             }
            },
            "header": {
             "fill": {
              "color": "#C8D4E3"
             },
             "line": {
              "color": "white"
             }
            },
            "type": "table"
           }
          ]
         },
         "layout": {
          "annotationdefaults": {
           "arrowcolor": "#2a3f5f",
           "arrowhead": 0,
           "arrowwidth": 1
          },
          "autotypenumbers": "strict",
          "coloraxis": {
           "colorbar": {
            "outlinewidth": 0,
            "ticks": ""
           }
          },
          "colorscale": {
           "diverging": [
            [
             0,
             "#8e0152"
            ],
            [
             0.1,
             "#c51b7d"
            ],
            [
             0.2,
             "#de77ae"
            ],
            [
             0.3,
             "#f1b6da"
            ],
            [
             0.4,
             "#fde0ef"
            ],
            [
             0.5,
             "#f7f7f7"
            ],
            [
             0.6,
             "#e6f5d0"
            ],
            [
             0.7,
             "#b8e186"
            ],
            [
             0.8,
             "#7fbc41"
            ],
            [
             0.9,
             "#4d9221"
            ],
            [
             1,
             "#276419"
            ]
           ],
           "sequential": [
            [
             0,
             "#0d0887"
            ],
            [
             0.1111111111111111,
             "#46039f"
            ],
            [
             0.2222222222222222,
             "#7201a8"
            ],
            [
             0.3333333333333333,
             "#9c179e"
            ],
            [
             0.4444444444444444,
             "#bd3786"
            ],
            [
             0.5555555555555556,
             "#d8576b"
            ],
            [
             0.6666666666666666,
             "#ed7953"
            ],
            [
             0.7777777777777778,
             "#fb9f3a"
            ],
            [
             0.8888888888888888,
             "#fdca26"
            ],
            [
             1,
             "#f0f921"
            ]
           ],
           "sequentialminus": [
            [
             0,
             "#0d0887"
            ],
            [
             0.1111111111111111,
             "#46039f"
            ],
            [
             0.2222222222222222,
             "#7201a8"
            ],
            [
             0.3333333333333333,
             "#9c179e"
            ],
            [
             0.4444444444444444,
             "#bd3786"
            ],
            [
             0.5555555555555556,
             "#d8576b"
            ],
            [
             0.6666666666666666,
             "#ed7953"
            ],
            [
             0.7777777777777778,
             "#fb9f3a"
            ],
            [
             0.8888888888888888,
             "#fdca26"
            ],
            [
             1,
             "#f0f921"
            ]
           ]
          },
          "colorway": [
           "#636efa",
           "#EF553B",
           "#00cc96",
           "#ab63fa",
           "#FFA15A",
           "#19d3f3",
           "#FF6692",
           "#B6E880",
           "#FF97FF",
           "#FECB52"
          ],
          "font": {
           "color": "#2a3f5f"
          },
          "geo": {
           "bgcolor": "white",
           "lakecolor": "white",
           "landcolor": "#E5ECF6",
           "showlakes": true,
           "showland": true,
           "subunitcolor": "white"
          },
          "hoverlabel": {
           "align": "left"
          },
          "hovermode": "closest",
          "mapbox": {
           "style": "light"
          },
          "paper_bgcolor": "white",
          "plot_bgcolor": "#E5ECF6",
          "polar": {
           "angularaxis": {
            "gridcolor": "white",
            "linecolor": "white",
            "ticks": ""
           },
           "bgcolor": "#E5ECF6",
           "radialaxis": {
            "gridcolor": "white",
            "linecolor": "white",
            "ticks": ""
           }
          },
          "scene": {
           "xaxis": {
            "backgroundcolor": "#E5ECF6",
            "gridcolor": "white",
            "gridwidth": 2,
            "linecolor": "white",
            "showbackground": true,
            "ticks": "",
            "zerolinecolor": "white"
           },
           "yaxis": {
            "backgroundcolor": "#E5ECF6",
            "gridcolor": "white",
            "gridwidth": 2,
            "linecolor": "white",
            "showbackground": true,
            "ticks": "",
            "zerolinecolor": "white"
           },
           "zaxis": {
            "backgroundcolor": "#E5ECF6",
            "gridcolor": "white",
            "gridwidth": 2,
            "linecolor": "white",
            "showbackground": true,
            "ticks": "",
            "zerolinecolor": "white"
           }
          },
          "shapedefaults": {
           "line": {
            "color": "#2a3f5f"
           }
          },
          "ternary": {
           "aaxis": {
            "gridcolor": "white",
            "linecolor": "white",
            "ticks": ""
           },
           "baxis": {
            "gridcolor": "white",
            "linecolor": "white",
            "ticks": ""
           },
           "bgcolor": "#E5ECF6",
           "caxis": {
            "gridcolor": "white",
            "linecolor": "white",
            "ticks": ""
           }
          },
          "title": {
           "x": 0.05
          },
          "xaxis": {
           "automargin": true,
           "gridcolor": "white",
           "linecolor": "white",
           "ticks": "",
           "title": {
            "standoff": 15
           },
           "zerolinecolor": "white",
           "zerolinewidth": 2
          },
          "yaxis": {
           "automargin": true,
           "gridcolor": "white",
           "linecolor": "white",
           "ticks": "",
           "title": {
            "standoff": 15
           },
           "zerolinecolor": "white",
           "zerolinewidth": 2
          }
         }
        },
        "title": {
         "text": "Stacked Confusion Chart (taxo-med)",
         "x": 0.5,
         "xanchor": "center"
        },
        "width": 600,
        "xaxis": {
         "title": {
          "text": "inclusion_ratio Bins"
         }
        },
        "yaxis": {
         "title": {
          "text": "Count"
         }
        }
       }
      }
     },
     "metadata": {},
     "output_type": "display_data"
    },
    {
     "name": "stdout",
     "output_type": "stream",
     "text": [
      "\n",
      "=== Per-bin Metrics ===\n",
      "\n",
      "Bin -0.0–0.33:\n",
      "  Accuracy:  0.245\n",
      "  Precision: 0.170\n",
      "  Recall:    0.889\n",
      "  F1 Score:  0.286\n",
      "\n",
      "Bin 0.33–0.67:\n",
      "  Accuracy:  0.574\n",
      "  Precision: 0.463\n",
      "  Recall:    1.000\n",
      "  F1 Score:  0.633\n",
      "\n",
      "Bin 0.67–1.0:\n",
      "  Accuracy:  0.707\n",
      "  Precision: 0.691\n",
      "  Recall:    0.966\n",
      "  F1 Score:  0.806\n",
      "Final total: 213\n",
      "TP: 103 | TN: 27 | FP: 80 | FN: 3\n"
     ]
    },
    {
     "data": {
      "application/vnd.plotly.v1+json": {
       "config": {
        "plotlyServerURL": "https://plot.ly"
       },
       "data": [
        {
         "insidetextanchor": "middle",
         "marker": {
          "color": "green"
         },
         "name": "TP",
         "text": [
          "22.6%",
          "58.8%",
          "55.4%"
         ],
         "textfont": {
          "color": "white",
          "size": 12
         },
         "textposition": "inside",
         "type": "bar",
         "x": [
          "-0.0–0.33",
          "0.33–0.67",
          "0.67–1.0"
         ],
         "y": {
          "bdata": "DCgz",
          "dtype": "i1"
         }
        },
        {
         "insidetextanchor": "middle",
         "marker": {
          "color": "gray"
         },
         "name": "TN",
         "text": [
          "11.3%",
          "11.8%",
          "14.1%"
         ],
         "textfont": {
          "color": "white",
          "size": 12
         },
         "textposition": "inside",
         "type": "bar",
         "x": [
          "-0.0–0.33",
          "0.33–0.67",
          "0.67–1.0"
         ],
         "y": {
          "bdata": "BggN",
          "dtype": "i1"
         }
        },
        {
         "insidetextanchor": "middle",
         "marker": {
          "color": "red"
         },
         "name": "FP",
         "text": [
          "66.0%",
          "29.4%",
          "27.2%"
         ],
         "textfont": {
          "color": "white",
          "size": 12
         },
         "textposition": "inside",
         "type": "bar",
         "x": [
          "-0.0–0.33",
          "0.33–0.67",
          "0.67–1.0"
         ],
         "y": {
          "bdata": "IxQZ",
          "dtype": "i1"
         }
        },
        {
         "insidetextanchor": "middle",
         "marker": {
          "color": "black"
         },
         "name": "FN",
         "text": [
          "0.0%",
          "0.0%",
          "3.3%"
         ],
         "textfont": {
          "color": "white",
          "size": 12
         },
         "textposition": "inside",
         "type": "bar",
         "x": [
          "-0.0–0.33",
          "0.33–0.67",
          "0.67–1.0"
         ],
         "y": {
          "bdata": "AAAD",
          "dtype": "i1"
         }
        }
       ],
       "layout": {
        "bargap": 0.4,
        "barmode": "stack",
        "height": 500,
        "template": {
         "data": {
          "bar": [
           {
            "error_x": {
             "color": "#2a3f5f"
            },
            "error_y": {
             "color": "#2a3f5f"
            },
            "marker": {
             "line": {
              "color": "#E5ECF6",
              "width": 0.5
             },
             "pattern": {
              "fillmode": "overlay",
              "size": 10,
              "solidity": 0.2
             }
            },
            "type": "bar"
           }
          ],
          "barpolar": [
           {
            "marker": {
             "line": {
              "color": "#E5ECF6",
              "width": 0.5
             },
             "pattern": {
              "fillmode": "overlay",
              "size": 10,
              "solidity": 0.2
             }
            },
            "type": "barpolar"
           }
          ],
          "carpet": [
           {
            "aaxis": {
             "endlinecolor": "#2a3f5f",
             "gridcolor": "white",
             "linecolor": "white",
             "minorgridcolor": "white",
             "startlinecolor": "#2a3f5f"
            },
            "baxis": {
             "endlinecolor": "#2a3f5f",
             "gridcolor": "white",
             "linecolor": "white",
             "minorgridcolor": "white",
             "startlinecolor": "#2a3f5f"
            },
            "type": "carpet"
           }
          ],
          "choropleth": [
           {
            "colorbar": {
             "outlinewidth": 0,
             "ticks": ""
            },
            "type": "choropleth"
           }
          ],
          "contour": [
           {
            "colorbar": {
             "outlinewidth": 0,
             "ticks": ""
            },
            "colorscale": [
             [
              0,
              "#0d0887"
             ],
             [
              0.1111111111111111,
              "#46039f"
             ],
             [
              0.2222222222222222,
              "#7201a8"
             ],
             [
              0.3333333333333333,
              "#9c179e"
             ],
             [
              0.4444444444444444,
              "#bd3786"
             ],
             [
              0.5555555555555556,
              "#d8576b"
             ],
             [
              0.6666666666666666,
              "#ed7953"
             ],
             [
              0.7777777777777778,
              "#fb9f3a"
             ],
             [
              0.8888888888888888,
              "#fdca26"
             ],
             [
              1,
              "#f0f921"
             ]
            ],
            "type": "contour"
           }
          ],
          "contourcarpet": [
           {
            "colorbar": {
             "outlinewidth": 0,
             "ticks": ""
            },
            "type": "contourcarpet"
           }
          ],
          "heatmap": [
           {
            "colorbar": {
             "outlinewidth": 0,
             "ticks": ""
            },
            "colorscale": [
             [
              0,
              "#0d0887"
             ],
             [
              0.1111111111111111,
              "#46039f"
             ],
             [
              0.2222222222222222,
              "#7201a8"
             ],
             [
              0.3333333333333333,
              "#9c179e"
             ],
             [
              0.4444444444444444,
              "#bd3786"
             ],
             [
              0.5555555555555556,
              "#d8576b"
             ],
             [
              0.6666666666666666,
              "#ed7953"
             ],
             [
              0.7777777777777778,
              "#fb9f3a"
             ],
             [
              0.8888888888888888,
              "#fdca26"
             ],
             [
              1,
              "#f0f921"
             ]
            ],
            "type": "heatmap"
           }
          ],
          "histogram": [
           {
            "marker": {
             "pattern": {
              "fillmode": "overlay",
              "size": 10,
              "solidity": 0.2
             }
            },
            "type": "histogram"
           }
          ],
          "histogram2d": [
           {
            "colorbar": {
             "outlinewidth": 0,
             "ticks": ""
            },
            "colorscale": [
             [
              0,
              "#0d0887"
             ],
             [
              0.1111111111111111,
              "#46039f"
             ],
             [
              0.2222222222222222,
              "#7201a8"
             ],
             [
              0.3333333333333333,
              "#9c179e"
             ],
             [
              0.4444444444444444,
              "#bd3786"
             ],
             [
              0.5555555555555556,
              "#d8576b"
             ],
             [
              0.6666666666666666,
              "#ed7953"
             ],
             [
              0.7777777777777778,
              "#fb9f3a"
             ],
             [
              0.8888888888888888,
              "#fdca26"
             ],
             [
              1,
              "#f0f921"
             ]
            ],
            "type": "histogram2d"
           }
          ],
          "histogram2dcontour": [
           {
            "colorbar": {
             "outlinewidth": 0,
             "ticks": ""
            },
            "colorscale": [
             [
              0,
              "#0d0887"
             ],
             [
              0.1111111111111111,
              "#46039f"
             ],
             [
              0.2222222222222222,
              "#7201a8"
             ],
             [
              0.3333333333333333,
              "#9c179e"
             ],
             [
              0.4444444444444444,
              "#bd3786"
             ],
             [
              0.5555555555555556,
              "#d8576b"
             ],
             [
              0.6666666666666666,
              "#ed7953"
             ],
             [
              0.7777777777777778,
              "#fb9f3a"
             ],
             [
              0.8888888888888888,
              "#fdca26"
             ],
             [
              1,
              "#f0f921"
             ]
            ],
            "type": "histogram2dcontour"
           }
          ],
          "mesh3d": [
           {
            "colorbar": {
             "outlinewidth": 0,
             "ticks": ""
            },
            "type": "mesh3d"
           }
          ],
          "parcoords": [
           {
            "line": {
             "colorbar": {
              "outlinewidth": 0,
              "ticks": ""
             }
            },
            "type": "parcoords"
           }
          ],
          "pie": [
           {
            "automargin": true,
            "type": "pie"
           }
          ],
          "scatter": [
           {
            "fillpattern": {
             "fillmode": "overlay",
             "size": 10,
             "solidity": 0.2
            },
            "type": "scatter"
           }
          ],
          "scatter3d": [
           {
            "line": {
             "colorbar": {
              "outlinewidth": 0,
              "ticks": ""
             }
            },
            "marker": {
             "colorbar": {
              "outlinewidth": 0,
              "ticks": ""
             }
            },
            "type": "scatter3d"
           }
          ],
          "scattercarpet": [
           {
            "marker": {
             "colorbar": {
              "outlinewidth": 0,
              "ticks": ""
             }
            },
            "type": "scattercarpet"
           }
          ],
          "scattergeo": [
           {
            "marker": {
             "colorbar": {
              "outlinewidth": 0,
              "ticks": ""
             }
            },
            "type": "scattergeo"
           }
          ],
          "scattergl": [
           {
            "marker": {
             "colorbar": {
              "outlinewidth": 0,
              "ticks": ""
             }
            },
            "type": "scattergl"
           }
          ],
          "scattermap": [
           {
            "marker": {
             "colorbar": {
              "outlinewidth": 0,
              "ticks": ""
             }
            },
            "type": "scattermap"
           }
          ],
          "scattermapbox": [
           {
            "marker": {
             "colorbar": {
              "outlinewidth": 0,
              "ticks": ""
             }
            },
            "type": "scattermapbox"
           }
          ],
          "scatterpolar": [
           {
            "marker": {
             "colorbar": {
              "outlinewidth": 0,
              "ticks": ""
             }
            },
            "type": "scatterpolar"
           }
          ],
          "scatterpolargl": [
           {
            "marker": {
             "colorbar": {
              "outlinewidth": 0,
              "ticks": ""
             }
            },
            "type": "scatterpolargl"
           }
          ],
          "scatterternary": [
           {
            "marker": {
             "colorbar": {
              "outlinewidth": 0,
              "ticks": ""
             }
            },
            "type": "scatterternary"
           }
          ],
          "surface": [
           {
            "colorbar": {
             "outlinewidth": 0,
             "ticks": ""
            },
            "colorscale": [
             [
              0,
              "#0d0887"
             ],
             [
              0.1111111111111111,
              "#46039f"
             ],
             [
              0.2222222222222222,
              "#7201a8"
             ],
             [
              0.3333333333333333,
              "#9c179e"
             ],
             [
              0.4444444444444444,
              "#bd3786"
             ],
             [
              0.5555555555555556,
              "#d8576b"
             ],
             [
              0.6666666666666666,
              "#ed7953"
             ],
             [
              0.7777777777777778,
              "#fb9f3a"
             ],
             [
              0.8888888888888888,
              "#fdca26"
             ],
             [
              1,
              "#f0f921"
             ]
            ],
            "type": "surface"
           }
          ],
          "table": [
           {
            "cells": {
             "fill": {
              "color": "#EBF0F8"
             },
             "line": {
              "color": "white"
             }
            },
            "header": {
             "fill": {
              "color": "#C8D4E3"
             },
             "line": {
              "color": "white"
             }
            },
            "type": "table"
           }
          ]
         },
         "layout": {
          "annotationdefaults": {
           "arrowcolor": "#2a3f5f",
           "arrowhead": 0,
           "arrowwidth": 1
          },
          "autotypenumbers": "strict",
          "coloraxis": {
           "colorbar": {
            "outlinewidth": 0,
            "ticks": ""
           }
          },
          "colorscale": {
           "diverging": [
            [
             0,
             "#8e0152"
            ],
            [
             0.1,
             "#c51b7d"
            ],
            [
             0.2,
             "#de77ae"
            ],
            [
             0.3,
             "#f1b6da"
            ],
            [
             0.4,
             "#fde0ef"
            ],
            [
             0.5,
             "#f7f7f7"
            ],
            [
             0.6,
             "#e6f5d0"
            ],
            [
             0.7,
             "#b8e186"
            ],
            [
             0.8,
             "#7fbc41"
            ],
            [
             0.9,
             "#4d9221"
            ],
            [
             1,
             "#276419"
            ]
           ],
           "sequential": [
            [
             0,
             "#0d0887"
            ],
            [
             0.1111111111111111,
             "#46039f"
            ],
            [
             0.2222222222222222,
             "#7201a8"
            ],
            [
             0.3333333333333333,
             "#9c179e"
            ],
            [
             0.4444444444444444,
             "#bd3786"
            ],
            [
             0.5555555555555556,
             "#d8576b"
            ],
            [
             0.6666666666666666,
             "#ed7953"
            ],
            [
             0.7777777777777778,
             "#fb9f3a"
            ],
            [
             0.8888888888888888,
             "#fdca26"
            ],
            [
             1,
             "#f0f921"
            ]
           ],
           "sequentialminus": [
            [
             0,
             "#0d0887"
            ],
            [
             0.1111111111111111,
             "#46039f"
            ],
            [
             0.2222222222222222,
             "#7201a8"
            ],
            [
             0.3333333333333333,
             "#9c179e"
            ],
            [
             0.4444444444444444,
             "#bd3786"
            ],
            [
             0.5555555555555556,
             "#d8576b"
            ],
            [
             0.6666666666666666,
             "#ed7953"
            ],
            [
             0.7777777777777778,
             "#fb9f3a"
            ],
            [
             0.8888888888888888,
             "#fdca26"
            ],
            [
             1,
             "#f0f921"
            ]
           ]
          },
          "colorway": [
           "#636efa",
           "#EF553B",
           "#00cc96",
           "#ab63fa",
           "#FFA15A",
           "#19d3f3",
           "#FF6692",
           "#B6E880",
           "#FF97FF",
           "#FECB52"
          ],
          "font": {
           "color": "#2a3f5f"
          },
          "geo": {
           "bgcolor": "white",
           "lakecolor": "white",
           "landcolor": "#E5ECF6",
           "showlakes": true,
           "showland": true,
           "subunitcolor": "white"
          },
          "hoverlabel": {
           "align": "left"
          },
          "hovermode": "closest",
          "mapbox": {
           "style": "light"
          },
          "paper_bgcolor": "white",
          "plot_bgcolor": "#E5ECF6",
          "polar": {
           "angularaxis": {
            "gridcolor": "white",
            "linecolor": "white",
            "ticks": ""
           },
           "bgcolor": "#E5ECF6",
           "radialaxis": {
            "gridcolor": "white",
            "linecolor": "white",
            "ticks": ""
           }
          },
          "scene": {
           "xaxis": {
            "backgroundcolor": "#E5ECF6",
            "gridcolor": "white",
            "gridwidth": 2,
            "linecolor": "white",
            "showbackground": true,
            "ticks": "",
            "zerolinecolor": "white"
           },
           "yaxis": {
            "backgroundcolor": "#E5ECF6",
            "gridcolor": "white",
            "gridwidth": 2,
            "linecolor": "white",
            "showbackground": true,
            "ticks": "",
            "zerolinecolor": "white"
           },
           "zaxis": {
            "backgroundcolor": "#E5ECF6",
            "gridcolor": "white",
            "gridwidth": 2,
            "linecolor": "white",
            "showbackground": true,
            "ticks": "",
            "zerolinecolor": "white"
           }
          },
          "shapedefaults": {
           "line": {
            "color": "#2a3f5f"
           }
          },
          "ternary": {
           "aaxis": {
            "gridcolor": "white",
            "linecolor": "white",
            "ticks": ""
           },
           "baxis": {
            "gridcolor": "white",
            "linecolor": "white",
            "ticks": ""
           },
           "bgcolor": "#E5ECF6",
           "caxis": {
            "gridcolor": "white",
            "linecolor": "white",
            "ticks": ""
           }
          },
          "title": {
           "x": 0.05
          },
          "xaxis": {
           "automargin": true,
           "gridcolor": "white",
           "linecolor": "white",
           "ticks": "",
           "title": {
            "standoff": 15
           },
           "zerolinecolor": "white",
           "zerolinewidth": 2
          },
          "yaxis": {
           "automargin": true,
           "gridcolor": "white",
           "linecolor": "white",
           "ticks": "",
           "title": {
            "standoff": 15
           },
           "zerolinecolor": "white",
           "zerolinewidth": 2
          }
         }
        },
        "title": {
         "text": "Stacked Confusion Chart (goal-med-rag)",
         "x": 0.5,
         "xanchor": "center"
        },
        "width": 600,
        "xaxis": {
         "title": {
          "text": "inclusion_ratio Bins"
         }
        },
        "yaxis": {
         "title": {
          "text": "Count"
         }
        }
       }
      }
     },
     "metadata": {},
     "output_type": "display_data"
    },
    {
     "name": "stdout",
     "output_type": "stream",
     "text": [
      "\n",
      "=== Per-bin Metrics ===\n",
      "\n",
      "Bin -0.0–0.33:\n",
      "  Accuracy:  0.340\n",
      "  Precision: 0.255\n",
      "  Recall:    1.000\n",
      "  F1 Score:  0.407\n",
      "\n",
      "Bin 0.33–0.67:\n",
      "  Accuracy:  0.706\n",
      "  Precision: 0.667\n",
      "  Recall:    1.000\n",
      "  F1 Score:  0.800\n",
      "\n",
      "Bin 0.67–1.0:\n",
      "  Accuracy:  0.696\n",
      "  Precision: 0.671\n",
      "  Recall:    0.944\n",
      "  F1 Score:  0.785\n",
      "Final total: 213\n",
      "TP: 91 | TN: 31 | FP: 87 | FN: 4\n"
     ]
    },
    {
     "data": {
      "application/vnd.plotly.v1+json": {
       "config": {
        "plotlyServerURL": "https://plot.ly"
       },
       "data": [
        {
         "insidetextanchor": "middle",
         "marker": {
          "color": "green"
         },
         "name": "TP",
         "text": [
          "17.0%",
          "52.9%",
          "50.0%"
         ],
         "textfont": {
          "color": "white",
          "size": 12
         },
         "textposition": "inside",
         "type": "bar",
         "x": [
          "-0.0–0.33",
          "0.33–0.67",
          "0.67–1.0"
         ],
         "y": {
          "bdata": "CSQu",
          "dtype": "i1"
         }
        },
        {
         "insidetextanchor": "middle",
         "marker": {
          "color": "gray"
         },
         "name": "TN",
         "text": [
          "15.1%",
          "17.6%",
          "12.0%"
         ],
         "textfont": {
          "color": "white",
          "size": 12
         },
         "textposition": "inside",
         "type": "bar",
         "x": [
          "-0.0–0.33",
          "0.33–0.67",
          "0.67–1.0"
         ],
         "y": {
          "bdata": "CAwL",
          "dtype": "i1"
         }
        },
        {
         "insidetextanchor": "middle",
         "marker": {
          "color": "red"
         },
         "name": "FP",
         "text": [
          "66.0%",
          "26.5%",
          "37.0%"
         ],
         "textfont": {
          "color": "white",
          "size": 12
         },
         "textposition": "inside",
         "type": "bar",
         "x": [
          "-0.0–0.33",
          "0.33–0.67",
          "0.67–1.0"
         ],
         "y": {
          "bdata": "IxIi",
          "dtype": "i1"
         }
        },
        {
         "insidetextanchor": "middle",
         "marker": {
          "color": "black"
         },
         "name": "FN",
         "text": [
          "1.9%",
          "2.9%",
          "1.1%"
         ],
         "textfont": {
          "color": "white",
          "size": 12
         },
         "textposition": "inside",
         "type": "bar",
         "x": [
          "-0.0–0.33",
          "0.33–0.67",
          "0.67–1.0"
         ],
         "y": {
          "bdata": "AQIB",
          "dtype": "i1"
         }
        }
       ],
       "layout": {
        "bargap": 0.4,
        "barmode": "stack",
        "height": 500,
        "template": {
         "data": {
          "bar": [
           {
            "error_x": {
             "color": "#2a3f5f"
            },
            "error_y": {
             "color": "#2a3f5f"
            },
            "marker": {
             "line": {
              "color": "#E5ECF6",
              "width": 0.5
             },
             "pattern": {
              "fillmode": "overlay",
              "size": 10,
              "solidity": 0.2
             }
            },
            "type": "bar"
           }
          ],
          "barpolar": [
           {
            "marker": {
             "line": {
              "color": "#E5ECF6",
              "width": 0.5
             },
             "pattern": {
              "fillmode": "overlay",
              "size": 10,
              "solidity": 0.2
             }
            },
            "type": "barpolar"
           }
          ],
          "carpet": [
           {
            "aaxis": {
             "endlinecolor": "#2a3f5f",
             "gridcolor": "white",
             "linecolor": "white",
             "minorgridcolor": "white",
             "startlinecolor": "#2a3f5f"
            },
            "baxis": {
             "endlinecolor": "#2a3f5f",
             "gridcolor": "white",
             "linecolor": "white",
             "minorgridcolor": "white",
             "startlinecolor": "#2a3f5f"
            },
            "type": "carpet"
           }
          ],
          "choropleth": [
           {
            "colorbar": {
             "outlinewidth": 0,
             "ticks": ""
            },
            "type": "choropleth"
           }
          ],
          "contour": [
           {
            "colorbar": {
             "outlinewidth": 0,
             "ticks": ""
            },
            "colorscale": [
             [
              0,
              "#0d0887"
             ],
             [
              0.1111111111111111,
              "#46039f"
             ],
             [
              0.2222222222222222,
              "#7201a8"
             ],
             [
              0.3333333333333333,
              "#9c179e"
             ],
             [
              0.4444444444444444,
              "#bd3786"
             ],
             [
              0.5555555555555556,
              "#d8576b"
             ],
             [
              0.6666666666666666,
              "#ed7953"
             ],
             [
              0.7777777777777778,
              "#fb9f3a"
             ],
             [
              0.8888888888888888,
              "#fdca26"
             ],
             [
              1,
              "#f0f921"
             ]
            ],
            "type": "contour"
           }
          ],
          "contourcarpet": [
           {
            "colorbar": {
             "outlinewidth": 0,
             "ticks": ""
            },
            "type": "contourcarpet"
           }
          ],
          "heatmap": [
           {
            "colorbar": {
             "outlinewidth": 0,
             "ticks": ""
            },
            "colorscale": [
             [
              0,
              "#0d0887"
             ],
             [
              0.1111111111111111,
              "#46039f"
             ],
             [
              0.2222222222222222,
              "#7201a8"
             ],
             [
              0.3333333333333333,
              "#9c179e"
             ],
             [
              0.4444444444444444,
              "#bd3786"
             ],
             [
              0.5555555555555556,
              "#d8576b"
             ],
             [
              0.6666666666666666,
              "#ed7953"
             ],
             [
              0.7777777777777778,
              "#fb9f3a"
             ],
             [
              0.8888888888888888,
              "#fdca26"
             ],
             [
              1,
              "#f0f921"
             ]
            ],
            "type": "heatmap"
           }
          ],
          "histogram": [
           {
            "marker": {
             "pattern": {
              "fillmode": "overlay",
              "size": 10,
              "solidity": 0.2
             }
            },
            "type": "histogram"
           }
          ],
          "histogram2d": [
           {
            "colorbar": {
             "outlinewidth": 0,
             "ticks": ""
            },
            "colorscale": [
             [
              0,
              "#0d0887"
             ],
             [
              0.1111111111111111,
              "#46039f"
             ],
             [
              0.2222222222222222,
              "#7201a8"
             ],
             [
              0.3333333333333333,
              "#9c179e"
             ],
             [
              0.4444444444444444,
              "#bd3786"
             ],
             [
              0.5555555555555556,
              "#d8576b"
             ],
             [
              0.6666666666666666,
              "#ed7953"
             ],
             [
              0.7777777777777778,
              "#fb9f3a"
             ],
             [
              0.8888888888888888,
              "#fdca26"
             ],
             [
              1,
              "#f0f921"
             ]
            ],
            "type": "histogram2d"
           }
          ],
          "histogram2dcontour": [
           {
            "colorbar": {
             "outlinewidth": 0,
             "ticks": ""
            },
            "colorscale": [
             [
              0,
              "#0d0887"
             ],
             [
              0.1111111111111111,
              "#46039f"
             ],
             [
              0.2222222222222222,
              "#7201a8"
             ],
             [
              0.3333333333333333,
              "#9c179e"
             ],
             [
              0.4444444444444444,
              "#bd3786"
             ],
             [
              0.5555555555555556,
              "#d8576b"
             ],
             [
              0.6666666666666666,
              "#ed7953"
             ],
             [
              0.7777777777777778,
              "#fb9f3a"
             ],
             [
              0.8888888888888888,
              "#fdca26"
             ],
             [
              1,
              "#f0f921"
             ]
            ],
            "type": "histogram2dcontour"
           }
          ],
          "mesh3d": [
           {
            "colorbar": {
             "outlinewidth": 0,
             "ticks": ""
            },
            "type": "mesh3d"
           }
          ],
          "parcoords": [
           {
            "line": {
             "colorbar": {
              "outlinewidth": 0,
              "ticks": ""
             }
            },
            "type": "parcoords"
           }
          ],
          "pie": [
           {
            "automargin": true,
            "type": "pie"
           }
          ],
          "scatter": [
           {
            "fillpattern": {
             "fillmode": "overlay",
             "size": 10,
             "solidity": 0.2
            },
            "type": "scatter"
           }
          ],
          "scatter3d": [
           {
            "line": {
             "colorbar": {
              "outlinewidth": 0,
              "ticks": ""
             }
            },
            "marker": {
             "colorbar": {
              "outlinewidth": 0,
              "ticks": ""
             }
            },
            "type": "scatter3d"
           }
          ],
          "scattercarpet": [
           {
            "marker": {
             "colorbar": {
              "outlinewidth": 0,
              "ticks": ""
             }
            },
            "type": "scattercarpet"
           }
          ],
          "scattergeo": [
           {
            "marker": {
             "colorbar": {
              "outlinewidth": 0,
              "ticks": ""
             }
            },
            "type": "scattergeo"
           }
          ],
          "scattergl": [
           {
            "marker": {
             "colorbar": {
              "outlinewidth": 0,
              "ticks": ""
             }
            },
            "type": "scattergl"
           }
          ],
          "scattermap": [
           {
            "marker": {
             "colorbar": {
              "outlinewidth": 0,
              "ticks": ""
             }
            },
            "type": "scattermap"
           }
          ],
          "scattermapbox": [
           {
            "marker": {
             "colorbar": {
              "outlinewidth": 0,
              "ticks": ""
             }
            },
            "type": "scattermapbox"
           }
          ],
          "scatterpolar": [
           {
            "marker": {
             "colorbar": {
              "outlinewidth": 0,
              "ticks": ""
             }
            },
            "type": "scatterpolar"
           }
          ],
          "scatterpolargl": [
           {
            "marker": {
             "colorbar": {
              "outlinewidth": 0,
              "ticks": ""
             }
            },
            "type": "scatterpolargl"
           }
          ],
          "scatterternary": [
           {
            "marker": {
             "colorbar": {
              "outlinewidth": 0,
              "ticks": ""
             }
            },
            "type": "scatterternary"
           }
          ],
          "surface": [
           {
            "colorbar": {
             "outlinewidth": 0,
             "ticks": ""
            },
            "colorscale": [
             [
              0,
              "#0d0887"
             ],
             [
              0.1111111111111111,
              "#46039f"
             ],
             [
              0.2222222222222222,
              "#7201a8"
             ],
             [
              0.3333333333333333,
              "#9c179e"
             ],
             [
              0.4444444444444444,
              "#bd3786"
             ],
             [
              0.5555555555555556,
              "#d8576b"
             ],
             [
              0.6666666666666666,
              "#ed7953"
             ],
             [
              0.7777777777777778,
              "#fb9f3a"
             ],
             [
              0.8888888888888888,
              "#fdca26"
             ],
             [
              1,
              "#f0f921"
             ]
            ],
            "type": "surface"
           }
          ],
          "table": [
           {
            "cells": {
             "fill": {
              "color": "#EBF0F8"
             },
             "line": {
              "color": "white"
             }
            },
            "header": {
             "fill": {
              "color": "#C8D4E3"
             },
             "line": {
              "color": "white"
             }
            },
            "type": "table"
           }
          ]
         },
         "layout": {
          "annotationdefaults": {
           "arrowcolor": "#2a3f5f",
           "arrowhead": 0,
           "arrowwidth": 1
          },
          "autotypenumbers": "strict",
          "coloraxis": {
           "colorbar": {
            "outlinewidth": 0,
            "ticks": ""
           }
          },
          "colorscale": {
           "diverging": [
            [
             0,
             "#8e0152"
            ],
            [
             0.1,
             "#c51b7d"
            ],
            [
             0.2,
             "#de77ae"
            ],
            [
             0.3,
             "#f1b6da"
            ],
            [
             0.4,
             "#fde0ef"
            ],
            [
             0.5,
             "#f7f7f7"
            ],
            [
             0.6,
             "#e6f5d0"
            ],
            [
             0.7,
             "#b8e186"
            ],
            [
             0.8,
             "#7fbc41"
            ],
            [
             0.9,
             "#4d9221"
            ],
            [
             1,
             "#276419"
            ]
           ],
           "sequential": [
            [
             0,
             "#0d0887"
            ],
            [
             0.1111111111111111,
             "#46039f"
            ],
            [
             0.2222222222222222,
             "#7201a8"
            ],
            [
             0.3333333333333333,
             "#9c179e"
            ],
            [
             0.4444444444444444,
             "#bd3786"
            ],
            [
             0.5555555555555556,
             "#d8576b"
            ],
            [
             0.6666666666666666,
             "#ed7953"
            ],
            [
             0.7777777777777778,
             "#fb9f3a"
            ],
            [
             0.8888888888888888,
             "#fdca26"
            ],
            [
             1,
             "#f0f921"
            ]
           ],
           "sequentialminus": [
            [
             0,
             "#0d0887"
            ],
            [
             0.1111111111111111,
             "#46039f"
            ],
            [
             0.2222222222222222,
             "#7201a8"
            ],
            [
             0.3333333333333333,
             "#9c179e"
            ],
            [
             0.4444444444444444,
             "#bd3786"
            ],
            [
             0.5555555555555556,
             "#d8576b"
            ],
            [
             0.6666666666666666,
             "#ed7953"
            ],
            [
             0.7777777777777778,
             "#fb9f3a"
            ],
            [
             0.8888888888888888,
             "#fdca26"
            ],
            [
             1,
             "#f0f921"
            ]
           ]
          },
          "colorway": [
           "#636efa",
           "#EF553B",
           "#00cc96",
           "#ab63fa",
           "#FFA15A",
           "#19d3f3",
           "#FF6692",
           "#B6E880",
           "#FF97FF",
           "#FECB52"
          ],
          "font": {
           "color": "#2a3f5f"
          },
          "geo": {
           "bgcolor": "white",
           "lakecolor": "white",
           "landcolor": "#E5ECF6",
           "showlakes": true,
           "showland": true,
           "subunitcolor": "white"
          },
          "hoverlabel": {
           "align": "left"
          },
          "hovermode": "closest",
          "mapbox": {
           "style": "light"
          },
          "paper_bgcolor": "white",
          "plot_bgcolor": "#E5ECF6",
          "polar": {
           "angularaxis": {
            "gridcolor": "white",
            "linecolor": "white",
            "ticks": ""
           },
           "bgcolor": "#E5ECF6",
           "radialaxis": {
            "gridcolor": "white",
            "linecolor": "white",
            "ticks": ""
           }
          },
          "scene": {
           "xaxis": {
            "backgroundcolor": "#E5ECF6",
            "gridcolor": "white",
            "gridwidth": 2,
            "linecolor": "white",
            "showbackground": true,
            "ticks": "",
            "zerolinecolor": "white"
           },
           "yaxis": {
            "backgroundcolor": "#E5ECF6",
            "gridcolor": "white",
            "gridwidth": 2,
            "linecolor": "white",
            "showbackground": true,
            "ticks": "",
            "zerolinecolor": "white"
           },
           "zaxis": {
            "backgroundcolor": "#E5ECF6",
            "gridcolor": "white",
            "gridwidth": 2,
            "linecolor": "white",
            "showbackground": true,
            "ticks": "",
            "zerolinecolor": "white"
           }
          },
          "shapedefaults": {
           "line": {
            "color": "#2a3f5f"
           }
          },
          "ternary": {
           "aaxis": {
            "gridcolor": "white",
            "linecolor": "white",
            "ticks": ""
           },
           "baxis": {
            "gridcolor": "white",
            "linecolor": "white",
            "ticks": ""
           },
           "bgcolor": "#E5ECF6",
           "caxis": {
            "gridcolor": "white",
            "linecolor": "white",
            "ticks": ""
           }
          },
          "title": {
           "x": 0.05
          },
          "xaxis": {
           "automargin": true,
           "gridcolor": "white",
           "linecolor": "white",
           "ticks": "",
           "title": {
            "standoff": 15
           },
           "zerolinecolor": "white",
           "zerolinewidth": 2
          },
          "yaxis": {
           "automargin": true,
           "gridcolor": "white",
           "linecolor": "white",
           "ticks": "",
           "title": {
            "standoff": 15
           },
           "zerolinecolor": "white",
           "zerolinewidth": 2
          }
         }
        },
        "title": {
         "text": "Stacked Confusion Chart (goal-med)",
         "x": 0.5,
         "xanchor": "center"
        },
        "width": 600,
        "xaxis": {
         "title": {
          "text": "inclusion_ratio Bins"
         }
        },
        "yaxis": {
         "title": {
          "text": "Count"
         }
        }
       }
      }
     },
     "metadata": {},
     "output_type": "display_data"
    },
    {
     "name": "stdout",
     "output_type": "stream",
     "text": [
      "\n",
      "=== Per-bin Metrics ===\n",
      "\n",
      "Bin -0.0–0.33:\n",
      "  Accuracy:  0.321\n",
      "  Precision: 0.205\n",
      "  Recall:    0.900\n",
      "  F1 Score:  0.333\n",
      "\n",
      "Bin 0.33–0.67:\n",
      "  Accuracy:  0.706\n",
      "  Precision: 0.667\n",
      "  Recall:    0.947\n",
      "  F1 Score:  0.783\n",
      "\n",
      "Bin 0.67–1.0:\n",
      "  Accuracy:  0.620\n",
      "  Precision: 0.575\n",
      "  Recall:    0.979\n",
      "  F1 Score:  0.724\n"
     ]
    },
    {
     "data": {
      "application/vnd.plotly.v1+json": {
       "config": {
        "plotlyServerURL": "https://plot.ly"
       },
       "data": [
        {
         "insidetextanchor": "middle",
         "marker": {
          "color": "green"
         },
         "name": "TRUE",
         "text": [
          "7.1%",
          "36.4%",
          "52.4%",
          "55.8%",
          "73.1%"
         ],
         "textfont": {
          "color": "white",
          "size": 12
         },
         "textposition": "inside",
         "type": "bar",
         "x": [
          "-0.0–0.2",
          "0.2–0.4",
          "0.4–0.6",
          "0.6–0.8",
          "0.8–1.0"
         ],
         "y": {
          "bdata": "AgwWGDE=",
          "dtype": "i1"
         }
        },
        {
         "insidetextanchor": "middle",
         "marker": {
          "color": "red"
         },
         "name": "FAlSE",
         "text": [
          "92.9%",
          "63.6%",
          "47.6%",
          "44.2%",
          "26.9%"
         ],
         "textfont": {
          "color": "white",
          "size": 12
         },
         "textposition": "inside",
         "type": "bar",
         "x": [
          "-0.0–0.2",
          "0.2–0.4",
          "0.4–0.6",
          "0.6–0.8",
          "0.8–1.0"
         ],
         "y": {
          "bdata": "GhUUExI=",
          "dtype": "i1"
         }
        }
       ],
       "layout": {
        "bargap": 0.25,
        "barmode": "stack",
        "height": 500,
        "template": {
         "data": {
          "bar": [
           {
            "error_x": {
             "color": "#2a3f5f"
            },
            "error_y": {
             "color": "#2a3f5f"
            },
            "marker": {
             "line": {
              "color": "#E5ECF6",
              "width": 0.5
             },
             "pattern": {
              "fillmode": "overlay",
              "size": 10,
              "solidity": 0.2
             }
            },
            "type": "bar"
           }
          ],
          "barpolar": [
           {
            "marker": {
             "line": {
              "color": "#E5ECF6",
              "width": 0.5
             },
             "pattern": {
              "fillmode": "overlay",
              "size": 10,
              "solidity": 0.2
             }
            },
            "type": "barpolar"
           }
          ],
          "carpet": [
           {
            "aaxis": {
             "endlinecolor": "#2a3f5f",
             "gridcolor": "white",
             "linecolor": "white",
             "minorgridcolor": "white",
             "startlinecolor": "#2a3f5f"
            },
            "baxis": {
             "endlinecolor": "#2a3f5f",
             "gridcolor": "white",
             "linecolor": "white",
             "minorgridcolor": "white",
             "startlinecolor": "#2a3f5f"
            },
            "type": "carpet"
           }
          ],
          "choropleth": [
           {
            "colorbar": {
             "outlinewidth": 0,
             "ticks": ""
            },
            "type": "choropleth"
           }
          ],
          "contour": [
           {
            "colorbar": {
             "outlinewidth": 0,
             "ticks": ""
            },
            "colorscale": [
             [
              0,
              "#0d0887"
             ],
             [
              0.1111111111111111,
              "#46039f"
             ],
             [
              0.2222222222222222,
              "#7201a8"
             ],
             [
              0.3333333333333333,
              "#9c179e"
             ],
             [
              0.4444444444444444,
              "#bd3786"
             ],
             [
              0.5555555555555556,
              "#d8576b"
             ],
             [
              0.6666666666666666,
              "#ed7953"
             ],
             [
              0.7777777777777778,
              "#fb9f3a"
             ],
             [
              0.8888888888888888,
              "#fdca26"
             ],
             [
              1,
              "#f0f921"
             ]
            ],
            "type": "contour"
           }
          ],
          "contourcarpet": [
           {
            "colorbar": {
             "outlinewidth": 0,
             "ticks": ""
            },
            "type": "contourcarpet"
           }
          ],
          "heatmap": [
           {
            "colorbar": {
             "outlinewidth": 0,
             "ticks": ""
            },
            "colorscale": [
             [
              0,
              "#0d0887"
             ],
             [
              0.1111111111111111,
              "#46039f"
             ],
             [
              0.2222222222222222,
              "#7201a8"
             ],
             [
              0.3333333333333333,
              "#9c179e"
             ],
             [
              0.4444444444444444,
              "#bd3786"
             ],
             [
              0.5555555555555556,
              "#d8576b"
             ],
             [
              0.6666666666666666,
              "#ed7953"
             ],
             [
              0.7777777777777778,
              "#fb9f3a"
             ],
             [
              0.8888888888888888,
              "#fdca26"
             ],
             [
              1,
              "#f0f921"
             ]
            ],
            "type": "heatmap"
           }
          ],
          "histogram": [
           {
            "marker": {
             "pattern": {
              "fillmode": "overlay",
              "size": 10,
              "solidity": 0.2
             }
            },
            "type": "histogram"
           }
          ],
          "histogram2d": [
           {
            "colorbar": {
             "outlinewidth": 0,
             "ticks": ""
            },
            "colorscale": [
             [
              0,
              "#0d0887"
             ],
             [
              0.1111111111111111,
              "#46039f"
             ],
             [
              0.2222222222222222,
              "#7201a8"
             ],
             [
              0.3333333333333333,
              "#9c179e"
             ],
             [
              0.4444444444444444,
              "#bd3786"
             ],
             [
              0.5555555555555556,
              "#d8576b"
             ],
             [
              0.6666666666666666,
              "#ed7953"
             ],
             [
              0.7777777777777778,
              "#fb9f3a"
             ],
             [
              0.8888888888888888,
              "#fdca26"
             ],
             [
              1,
              "#f0f921"
             ]
            ],
            "type": "histogram2d"
           }
          ],
          "histogram2dcontour": [
           {
            "colorbar": {
             "outlinewidth": 0,
             "ticks": ""
            },
            "colorscale": [
             [
              0,
              "#0d0887"
             ],
             [
              0.1111111111111111,
              "#46039f"
             ],
             [
              0.2222222222222222,
              "#7201a8"
             ],
             [
              0.3333333333333333,
              "#9c179e"
             ],
             [
              0.4444444444444444,
              "#bd3786"
             ],
             [
              0.5555555555555556,
              "#d8576b"
             ],
             [
              0.6666666666666666,
              "#ed7953"
             ],
             [
              0.7777777777777778,
              "#fb9f3a"
             ],
             [
              0.8888888888888888,
              "#fdca26"
             ],
             [
              1,
              "#f0f921"
             ]
            ],
            "type": "histogram2dcontour"
           }
          ],
          "mesh3d": [
           {
            "colorbar": {
             "outlinewidth": 0,
             "ticks": ""
            },
            "type": "mesh3d"
           }
          ],
          "parcoords": [
           {
            "line": {
             "colorbar": {
              "outlinewidth": 0,
              "ticks": ""
             }
            },
            "type": "parcoords"
           }
          ],
          "pie": [
           {
            "automargin": true,
            "type": "pie"
           }
          ],
          "scatter": [
           {
            "fillpattern": {
             "fillmode": "overlay",
             "size": 10,
             "solidity": 0.2
            },
            "type": "scatter"
           }
          ],
          "scatter3d": [
           {
            "line": {
             "colorbar": {
              "outlinewidth": 0,
              "ticks": ""
             }
            },
            "marker": {
             "colorbar": {
              "outlinewidth": 0,
              "ticks": ""
             }
            },
            "type": "scatter3d"
           }
          ],
          "scattercarpet": [
           {
            "marker": {
             "colorbar": {
              "outlinewidth": 0,
              "ticks": ""
             }
            },
            "type": "scattercarpet"
           }
          ],
          "scattergeo": [
           {
            "marker": {
             "colorbar": {
              "outlinewidth": 0,
              "ticks": ""
             }
            },
            "type": "scattergeo"
           }
          ],
          "scattergl": [
           {
            "marker": {
             "colorbar": {
              "outlinewidth": 0,
              "ticks": ""
             }
            },
            "type": "scattergl"
           }
          ],
          "scattermap": [
           {
            "marker": {
             "colorbar": {
              "outlinewidth": 0,
              "ticks": ""
             }
            },
            "type": "scattermap"
           }
          ],
          "scattermapbox": [
           {
            "marker": {
             "colorbar": {
              "outlinewidth": 0,
              "ticks": ""
             }
            },
            "type": "scattermapbox"
           }
          ],
          "scatterpolar": [
           {
            "marker": {
             "colorbar": {
              "outlinewidth": 0,
              "ticks": ""
             }
            },
            "type": "scatterpolar"
           }
          ],
          "scatterpolargl": [
           {
            "marker": {
             "colorbar": {
              "outlinewidth": 0,
              "ticks": ""
             }
            },
            "type": "scatterpolargl"
           }
          ],
          "scatterternary": [
           {
            "marker": {
             "colorbar": {
              "outlinewidth": 0,
              "ticks": ""
             }
            },
            "type": "scatterternary"
           }
          ],
          "surface": [
           {
            "colorbar": {
             "outlinewidth": 0,
             "ticks": ""
            },
            "colorscale": [
             [
              0,
              "#0d0887"
             ],
             [
              0.1111111111111111,
              "#46039f"
             ],
             [
              0.2222222222222222,
              "#7201a8"
             ],
             [
              0.3333333333333333,
              "#9c179e"
             ],
             [
              0.4444444444444444,
              "#bd3786"
             ],
             [
              0.5555555555555556,
              "#d8576b"
             ],
             [
              0.6666666666666666,
              "#ed7953"
             ],
             [
              0.7777777777777778,
              "#fb9f3a"
             ],
             [
              0.8888888888888888,
              "#fdca26"
             ],
             [
              1,
              "#f0f921"
             ]
            ],
            "type": "surface"
           }
          ],
          "table": [
           {
            "cells": {
             "fill": {
              "color": "#EBF0F8"
             },
             "line": {
              "color": "white"
             }
            },
            "header": {
             "fill": {
              "color": "#C8D4E3"
             },
             "line": {
              "color": "white"
             }
            },
            "type": "table"
           }
          ]
         },
         "layout": {
          "annotationdefaults": {
           "arrowcolor": "#2a3f5f",
           "arrowhead": 0,
           "arrowwidth": 1
          },
          "autotypenumbers": "strict",
          "coloraxis": {
           "colorbar": {
            "outlinewidth": 0,
            "ticks": ""
           }
          },
          "colorscale": {
           "diverging": [
            [
             0,
             "#8e0152"
            ],
            [
             0.1,
             "#c51b7d"
            ],
            [
             0.2,
             "#de77ae"
            ],
            [
             0.3,
             "#f1b6da"
            ],
            [
             0.4,
             "#fde0ef"
            ],
            [
             0.5,
             "#f7f7f7"
            ],
            [
             0.6,
             "#e6f5d0"
            ],
            [
             0.7,
             "#b8e186"
            ],
            [
             0.8,
             "#7fbc41"
            ],
            [
             0.9,
             "#4d9221"
            ],
            [
             1,
             "#276419"
            ]
           ],
           "sequential": [
            [
             0,
             "#0d0887"
            ],
            [
             0.1111111111111111,
             "#46039f"
            ],
            [
             0.2222222222222222,
             "#7201a8"
            ],
            [
             0.3333333333333333,
             "#9c179e"
            ],
            [
             0.4444444444444444,
             "#bd3786"
            ],
            [
             0.5555555555555556,
             "#d8576b"
            ],
            [
             0.6666666666666666,
             "#ed7953"
            ],
            [
             0.7777777777777778,
             "#fb9f3a"
            ],
            [
             0.8888888888888888,
             "#fdca26"
            ],
            [
             1,
             "#f0f921"
            ]
           ],
           "sequentialminus": [
            [
             0,
             "#0d0887"
            ],
            [
             0.1111111111111111,
             "#46039f"
            ],
            [
             0.2222222222222222,
             "#7201a8"
            ],
            [
             0.3333333333333333,
             "#9c179e"
            ],
            [
             0.4444444444444444,
             "#bd3786"
            ],
            [
             0.5555555555555556,
             "#d8576b"
            ],
            [
             0.6666666666666666,
             "#ed7953"
            ],
            [
             0.7777777777777778,
             "#fb9f3a"
            ],
            [
             0.8888888888888888,
             "#fdca26"
            ],
            [
             1,
             "#f0f921"
            ]
           ]
          },
          "colorway": [
           "#636efa",
           "#EF553B",
           "#00cc96",
           "#ab63fa",
           "#FFA15A",
           "#19d3f3",
           "#FF6692",
           "#B6E880",
           "#FF97FF",
           "#FECB52"
          ],
          "font": {
           "color": "#2a3f5f"
          },
          "geo": {
           "bgcolor": "white",
           "lakecolor": "white",
           "landcolor": "#E5ECF6",
           "showlakes": true,
           "showland": true,
           "subunitcolor": "white"
          },
          "hoverlabel": {
           "align": "left"
          },
          "hovermode": "closest",
          "mapbox": {
           "style": "light"
          },
          "paper_bgcolor": "white",
          "plot_bgcolor": "#E5ECF6",
          "polar": {
           "angularaxis": {
            "gridcolor": "white",
            "linecolor": "white",
            "ticks": ""
           },
           "bgcolor": "#E5ECF6",
           "radialaxis": {
            "gridcolor": "white",
            "linecolor": "white",
            "ticks": ""
           }
          },
          "scene": {
           "xaxis": {
            "backgroundcolor": "#E5ECF6",
            "gridcolor": "white",
            "gridwidth": 2,
            "linecolor": "white",
            "showbackground": true,
            "ticks": "",
            "zerolinecolor": "white"
           },
           "yaxis": {
            "backgroundcolor": "#E5ECF6",
            "gridcolor": "white",
            "gridwidth": 2,
            "linecolor": "white",
            "showbackground": true,
            "ticks": "",
            "zerolinecolor": "white"
           },
           "zaxis": {
            "backgroundcolor": "#E5ECF6",
            "gridcolor": "white",
            "gridwidth": 2,
            "linecolor": "white",
            "showbackground": true,
            "ticks": "",
            "zerolinecolor": "white"
           }
          },
          "shapedefaults": {
           "line": {
            "color": "#2a3f5f"
           }
          },
          "ternary": {
           "aaxis": {
            "gridcolor": "white",
            "linecolor": "white",
            "ticks": ""
           },
           "baxis": {
            "gridcolor": "white",
            "linecolor": "white",
            "ticks": ""
           },
           "bgcolor": "#E5ECF6",
           "caxis": {
            "gridcolor": "white",
            "linecolor": "white",
            "ticks": ""
           }
          },
          "title": {
           "x": 0.05
          },
          "xaxis": {
           "automargin": true,
           "gridcolor": "white",
           "linecolor": "white",
           "ticks": "",
           "title": {
            "standoff": 15
           },
           "zerolinecolor": "white",
           "zerolinewidth": 2
          },
          "yaxis": {
           "automargin": true,
           "gridcolor": "white",
           "linecolor": "white",
           "ticks": "",
           "title": {
            "standoff": 15
           },
           "zerolinecolor": "white",
           "zerolinewidth": 2
          }
         }
        },
        "title": {
         "text": "Stacked Bar of 'TRUE' and 'FAlSE' by binned 'inclusion_ratio'",
         "x": 0.5,
         "xanchor": "center"
        },
        "width": 800,
        "xaxis": {
         "title": {
          "text": "inclusion_ratio Bins"
         }
        },
        "yaxis": {
         "title": {
          "text": "Count"
         }
        }
       }
      }
     },
     "metadata": {},
     "output_type": "display_data"
    },
    {
     "data": {
      "application/vnd.plotly.v1+json": {
       "config": {
        "plotlyServerURL": "https://plot.ly"
       },
       "data": [
        {
         "insidetextanchor": "middle",
         "marker": {
          "color": "green"
         },
         "name": "POSITIVE",
         "text": [
          "3.6%",
          "18.2%",
          "47.6%",
          "55.8%",
          "56.7%"
         ],
         "textfont": {
          "color": "white",
          "size": 12
         },
         "textposition": "inside",
         "type": "bar",
         "x": [
          "-0.0–0.2",
          "0.2–0.4",
          "0.4–0.6",
          "0.6–0.8",
          "0.8–1.0"
         ],
         "y": {
          "bdata": "AQYUGCY=",
          "dtype": "i1"
         }
        },
        {
         "insidetextanchor": "middle",
         "marker": {
          "color": "red"
         },
         "name": "NEGATIVE",
         "text": [
          "96.4%",
          "81.8%",
          "52.4%",
          "44.2%",
          "43.3%"
         ],
         "textfont": {
          "color": "white",
          "size": 12
         },
         "textposition": "inside",
         "type": "bar",
         "x": [
          "-0.0–0.2",
          "0.2–0.4",
          "0.4–0.6",
          "0.6–0.8",
          "0.8–1.0"
         ],
         "y": {
          "bdata": "GxsWEx0=",
          "dtype": "i1"
         }
        }
       ],
       "layout": {
        "bargap": 0.25,
        "barmode": "stack",
        "height": 500,
        "template": {
         "data": {
          "bar": [
           {
            "error_x": {
             "color": "#2a3f5f"
            },
            "error_y": {
             "color": "#2a3f5f"
            },
            "marker": {
             "line": {
              "color": "#E5ECF6",
              "width": 0.5
             },
             "pattern": {
              "fillmode": "overlay",
              "size": 10,
              "solidity": 0.2
             }
            },
            "type": "bar"
           }
          ],
          "barpolar": [
           {
            "marker": {
             "line": {
              "color": "#E5ECF6",
              "width": 0.5
             },
             "pattern": {
              "fillmode": "overlay",
              "size": 10,
              "solidity": 0.2
             }
            },
            "type": "barpolar"
           }
          ],
          "carpet": [
           {
            "aaxis": {
             "endlinecolor": "#2a3f5f",
             "gridcolor": "white",
             "linecolor": "white",
             "minorgridcolor": "white",
             "startlinecolor": "#2a3f5f"
            },
            "baxis": {
             "endlinecolor": "#2a3f5f",
             "gridcolor": "white",
             "linecolor": "white",
             "minorgridcolor": "white",
             "startlinecolor": "#2a3f5f"
            },
            "type": "carpet"
           }
          ],
          "choropleth": [
           {
            "colorbar": {
             "outlinewidth": 0,
             "ticks": ""
            },
            "type": "choropleth"
           }
          ],
          "contour": [
           {
            "colorbar": {
             "outlinewidth": 0,
             "ticks": ""
            },
            "colorscale": [
             [
              0,
              "#0d0887"
             ],
             [
              0.1111111111111111,
              "#46039f"
             ],
             [
              0.2222222222222222,
              "#7201a8"
             ],
             [
              0.3333333333333333,
              "#9c179e"
             ],
             [
              0.4444444444444444,
              "#bd3786"
             ],
             [
              0.5555555555555556,
              "#d8576b"
             ],
             [
              0.6666666666666666,
              "#ed7953"
             ],
             [
              0.7777777777777778,
              "#fb9f3a"
             ],
             [
              0.8888888888888888,
              "#fdca26"
             ],
             [
              1,
              "#f0f921"
             ]
            ],
            "type": "contour"
           }
          ],
          "contourcarpet": [
           {
            "colorbar": {
             "outlinewidth": 0,
             "ticks": ""
            },
            "type": "contourcarpet"
           }
          ],
          "heatmap": [
           {
            "colorbar": {
             "outlinewidth": 0,
             "ticks": ""
            },
            "colorscale": [
             [
              0,
              "#0d0887"
             ],
             [
              0.1111111111111111,
              "#46039f"
             ],
             [
              0.2222222222222222,
              "#7201a8"
             ],
             [
              0.3333333333333333,
              "#9c179e"
             ],
             [
              0.4444444444444444,
              "#bd3786"
             ],
             [
              0.5555555555555556,
              "#d8576b"
             ],
             [
              0.6666666666666666,
              "#ed7953"
             ],
             [
              0.7777777777777778,
              "#fb9f3a"
             ],
             [
              0.8888888888888888,
              "#fdca26"
             ],
             [
              1,
              "#f0f921"
             ]
            ],
            "type": "heatmap"
           }
          ],
          "histogram": [
           {
            "marker": {
             "pattern": {
              "fillmode": "overlay",
              "size": 10,
              "solidity": 0.2
             }
            },
            "type": "histogram"
           }
          ],
          "histogram2d": [
           {
            "colorbar": {
             "outlinewidth": 0,
             "ticks": ""
            },
            "colorscale": [
             [
              0,
              "#0d0887"
             ],
             [
              0.1111111111111111,
              "#46039f"
             ],
             [
              0.2222222222222222,
              "#7201a8"
             ],
             [
              0.3333333333333333,
              "#9c179e"
             ],
             [
              0.4444444444444444,
              "#bd3786"
             ],
             [
              0.5555555555555556,
              "#d8576b"
             ],
             [
              0.6666666666666666,
              "#ed7953"
             ],
             [
              0.7777777777777778,
              "#fb9f3a"
             ],
             [
              0.8888888888888888,
              "#fdca26"
             ],
             [
              1,
              "#f0f921"
             ]
            ],
            "type": "histogram2d"
           }
          ],
          "histogram2dcontour": [
           {
            "colorbar": {
             "outlinewidth": 0,
             "ticks": ""
            },
            "colorscale": [
             [
              0,
              "#0d0887"
             ],
             [
              0.1111111111111111,
              "#46039f"
             ],
             [
              0.2222222222222222,
              "#7201a8"
             ],
             [
              0.3333333333333333,
              "#9c179e"
             ],
             [
              0.4444444444444444,
              "#bd3786"
             ],
             [
              0.5555555555555556,
              "#d8576b"
             ],
             [
              0.6666666666666666,
              "#ed7953"
             ],
             [
              0.7777777777777778,
              "#fb9f3a"
             ],
             [
              0.8888888888888888,
              "#fdca26"
             ],
             [
              1,
              "#f0f921"
             ]
            ],
            "type": "histogram2dcontour"
           }
          ],
          "mesh3d": [
           {
            "colorbar": {
             "outlinewidth": 0,
             "ticks": ""
            },
            "type": "mesh3d"
           }
          ],
          "parcoords": [
           {
            "line": {
             "colorbar": {
              "outlinewidth": 0,
              "ticks": ""
             }
            },
            "type": "parcoords"
           }
          ],
          "pie": [
           {
            "automargin": true,
            "type": "pie"
           }
          ],
          "scatter": [
           {
            "fillpattern": {
             "fillmode": "overlay",
             "size": 10,
             "solidity": 0.2
            },
            "type": "scatter"
           }
          ],
          "scatter3d": [
           {
            "line": {
             "colorbar": {
              "outlinewidth": 0,
              "ticks": ""
             }
            },
            "marker": {
             "colorbar": {
              "outlinewidth": 0,
              "ticks": ""
             }
            },
            "type": "scatter3d"
           }
          ],
          "scattercarpet": [
           {
            "marker": {
             "colorbar": {
              "outlinewidth": 0,
              "ticks": ""
             }
            },
            "type": "scattercarpet"
           }
          ],
          "scattergeo": [
           {
            "marker": {
             "colorbar": {
              "outlinewidth": 0,
              "ticks": ""
             }
            },
            "type": "scattergeo"
           }
          ],
          "scattergl": [
           {
            "marker": {
             "colorbar": {
              "outlinewidth": 0,
              "ticks": ""
             }
            },
            "type": "scattergl"
           }
          ],
          "scattermap": [
           {
            "marker": {
             "colorbar": {
              "outlinewidth": 0,
              "ticks": ""
             }
            },
            "type": "scattermap"
           }
          ],
          "scattermapbox": [
           {
            "marker": {
             "colorbar": {
              "outlinewidth": 0,
              "ticks": ""
             }
            },
            "type": "scattermapbox"
           }
          ],
          "scatterpolar": [
           {
            "marker": {
             "colorbar": {
              "outlinewidth": 0,
              "ticks": ""
             }
            },
            "type": "scatterpolar"
           }
          ],
          "scatterpolargl": [
           {
            "marker": {
             "colorbar": {
              "outlinewidth": 0,
              "ticks": ""
             }
            },
            "type": "scatterpolargl"
           }
          ],
          "scatterternary": [
           {
            "marker": {
             "colorbar": {
              "outlinewidth": 0,
              "ticks": ""
             }
            },
            "type": "scatterternary"
           }
          ],
          "surface": [
           {
            "colorbar": {
             "outlinewidth": 0,
             "ticks": ""
            },
            "colorscale": [
             [
              0,
              "#0d0887"
             ],
             [
              0.1111111111111111,
              "#46039f"
             ],
             [
              0.2222222222222222,
              "#7201a8"
             ],
             [
              0.3333333333333333,
              "#9c179e"
             ],
             [
              0.4444444444444444,
              "#bd3786"
             ],
             [
              0.5555555555555556,
              "#d8576b"
             ],
             [
              0.6666666666666666,
              "#ed7953"
             ],
             [
              0.7777777777777778,
              "#fb9f3a"
             ],
             [
              0.8888888888888888,
              "#fdca26"
             ],
             [
              1,
              "#f0f921"
             ]
            ],
            "type": "surface"
           }
          ],
          "table": [
           {
            "cells": {
             "fill": {
              "color": "#EBF0F8"
             },
             "line": {
              "color": "white"
             }
            },
            "header": {
             "fill": {
              "color": "#C8D4E3"
             },
             "line": {
              "color": "white"
             }
            },
            "type": "table"
           }
          ]
         },
         "layout": {
          "annotationdefaults": {
           "arrowcolor": "#2a3f5f",
           "arrowhead": 0,
           "arrowwidth": 1
          },
          "autotypenumbers": "strict",
          "coloraxis": {
           "colorbar": {
            "outlinewidth": 0,
            "ticks": ""
           }
          },
          "colorscale": {
           "diverging": [
            [
             0,
             "#8e0152"
            ],
            [
             0.1,
             "#c51b7d"
            ],
            [
             0.2,
             "#de77ae"
            ],
            [
             0.3,
             "#f1b6da"
            ],
            [
             0.4,
             "#fde0ef"
            ],
            [
             0.5,
             "#f7f7f7"
            ],
            [
             0.6,
             "#e6f5d0"
            ],
            [
             0.7,
             "#b8e186"
            ],
            [
             0.8,
             "#7fbc41"
            ],
            [
             0.9,
             "#4d9221"
            ],
            [
             1,
             "#276419"
            ]
           ],
           "sequential": [
            [
             0,
             "#0d0887"
            ],
            [
             0.1111111111111111,
             "#46039f"
            ],
            [
             0.2222222222222222,
             "#7201a8"
            ],
            [
             0.3333333333333333,
             "#9c179e"
            ],
            [
             0.4444444444444444,
             "#bd3786"
            ],
            [
             0.5555555555555556,
             "#d8576b"
            ],
            [
             0.6666666666666666,
             "#ed7953"
            ],
            [
             0.7777777777777778,
             "#fb9f3a"
            ],
            [
             0.8888888888888888,
             "#fdca26"
            ],
            [
             1,
             "#f0f921"
            ]
           ],
           "sequentialminus": [
            [
             0,
             "#0d0887"
            ],
            [
             0.1111111111111111,
             "#46039f"
            ],
            [
             0.2222222222222222,
             "#7201a8"
            ],
            [
             0.3333333333333333,
             "#9c179e"
            ],
            [
             0.4444444444444444,
             "#bd3786"
            ],
            [
             0.5555555555555556,
             "#d8576b"
            ],
            [
             0.6666666666666666,
             "#ed7953"
            ],
            [
             0.7777777777777778,
             "#fb9f3a"
            ],
            [
             0.8888888888888888,
             "#fdca26"
            ],
            [
             1,
             "#f0f921"
            ]
           ]
          },
          "colorway": [
           "#636efa",
           "#EF553B",
           "#00cc96",
           "#ab63fa",
           "#FFA15A",
           "#19d3f3",
           "#FF6692",
           "#B6E880",
           "#FF97FF",
           "#FECB52"
          ],
          "font": {
           "color": "#2a3f5f"
          },
          "geo": {
           "bgcolor": "white",
           "lakecolor": "white",
           "landcolor": "#E5ECF6",
           "showlakes": true,
           "showland": true,
           "subunitcolor": "white"
          },
          "hoverlabel": {
           "align": "left"
          },
          "hovermode": "closest",
          "mapbox": {
           "style": "light"
          },
          "paper_bgcolor": "white",
          "plot_bgcolor": "#E5ECF6",
          "polar": {
           "angularaxis": {
            "gridcolor": "white",
            "linecolor": "white",
            "ticks": ""
           },
           "bgcolor": "#E5ECF6",
           "radialaxis": {
            "gridcolor": "white",
            "linecolor": "white",
            "ticks": ""
           }
          },
          "scene": {
           "xaxis": {
            "backgroundcolor": "#E5ECF6",
            "gridcolor": "white",
            "gridwidth": 2,
            "linecolor": "white",
            "showbackground": true,
            "ticks": "",
            "zerolinecolor": "white"
           },
           "yaxis": {
            "backgroundcolor": "#E5ECF6",
            "gridcolor": "white",
            "gridwidth": 2,
            "linecolor": "white",
            "showbackground": true,
            "ticks": "",
            "zerolinecolor": "white"
           },
           "zaxis": {
            "backgroundcolor": "#E5ECF6",
            "gridcolor": "white",
            "gridwidth": 2,
            "linecolor": "white",
            "showbackground": true,
            "ticks": "",
            "zerolinecolor": "white"
           }
          },
          "shapedefaults": {
           "line": {
            "color": "#2a3f5f"
           }
          },
          "ternary": {
           "aaxis": {
            "gridcolor": "white",
            "linecolor": "white",
            "ticks": ""
           },
           "baxis": {
            "gridcolor": "white",
            "linecolor": "white",
            "ticks": ""
           },
           "bgcolor": "#E5ECF6",
           "caxis": {
            "gridcolor": "white",
            "linecolor": "white",
            "ticks": ""
           }
          },
          "title": {
           "x": 0.05
          },
          "xaxis": {
           "automargin": true,
           "gridcolor": "white",
           "linecolor": "white",
           "ticks": "",
           "title": {
            "standoff": 15
           },
           "zerolinecolor": "white",
           "zerolinewidth": 2
          },
          "yaxis": {
           "automargin": true,
           "gridcolor": "white",
           "linecolor": "white",
           "ticks": "",
           "title": {
            "standoff": 15
           },
           "zerolinecolor": "white",
           "zerolinewidth": 2
          }
         }
        },
        "title": {
         "text": "Stacked Bar of 'POSITIVE' and 'NEGATIVE' by binned 'inclusion_ratio'",
         "x": 0.5,
         "xanchor": "center"
        },
        "width": 800,
        "xaxis": {
         "title": {
          "text": "inclusion_ratio Bins"
         }
        },
        "yaxis": {
         "title": {
          "text": "Count"
         }
        }
       }
      }
     },
     "metadata": {},
     "output_type": "display_data"
    },
    {
     "data": {
      "application/vnd.plotly.v1+json": {
       "config": {
        "plotlyServerURL": "https://plot.ly"
       },
       "data": [
        {
         "insidetextanchor": "middle",
         "marker": {
          "color": "green"
         },
         "name": "POSITIVE",
         "text": [
          "3.6%",
          "27.3%",
          "28.6%",
          "65.1%",
          "62.7%"
         ],
         "textfont": {
          "color": "white",
          "size": 12
         },
         "textposition": "inside",
         "type": "bar",
         "x": [
          "-0.0–0.2",
          "0.2–0.4",
          "0.4–0.6",
          "0.6–0.8",
          "0.8–1.0"
         ],
         "y": {
          "bdata": "AQkMHCo=",
          "dtype": "i1"
         }
        },
        {
         "insidetextanchor": "middle",
         "marker": {
          "color": "red"
         },
         "name": "NEGATIVE",
         "text": [
          "96.4%",
          "72.7%",
          "71.4%",
          "34.9%",
          "37.3%"
         ],
         "textfont": {
          "color": "white",
          "size": 12
         },
         "textposition": "inside",
         "type": "bar",
         "x": [
          "-0.0–0.2",
          "0.2–0.4",
          "0.4–0.6",
          "0.6–0.8",
          "0.8–1.0"
         ],
         "y": {
          "bdata": "GxgeDxk=",
          "dtype": "i1"
         }
        }
       ],
       "layout": {
        "bargap": 0.25,
        "barmode": "stack",
        "height": 500,
        "template": {
         "data": {
          "bar": [
           {
            "error_x": {
             "color": "#2a3f5f"
            },
            "error_y": {
             "color": "#2a3f5f"
            },
            "marker": {
             "line": {
              "color": "#E5ECF6",
              "width": 0.5
             },
             "pattern": {
              "fillmode": "overlay",
              "size": 10,
              "solidity": 0.2
             }
            },
            "type": "bar"
           }
          ],
          "barpolar": [
           {
            "marker": {
             "line": {
              "color": "#E5ECF6",
              "width": 0.5
             },
             "pattern": {
              "fillmode": "overlay",
              "size": 10,
              "solidity": 0.2
             }
            },
            "type": "barpolar"
           }
          ],
          "carpet": [
           {
            "aaxis": {
             "endlinecolor": "#2a3f5f",
             "gridcolor": "white",
             "linecolor": "white",
             "minorgridcolor": "white",
             "startlinecolor": "#2a3f5f"
            },
            "baxis": {
             "endlinecolor": "#2a3f5f",
             "gridcolor": "white",
             "linecolor": "white",
             "minorgridcolor": "white",
             "startlinecolor": "#2a3f5f"
            },
            "type": "carpet"
           }
          ],
          "choropleth": [
           {
            "colorbar": {
             "outlinewidth": 0,
             "ticks": ""
            },
            "type": "choropleth"
           }
          ],
          "contour": [
           {
            "colorbar": {
             "outlinewidth": 0,
             "ticks": ""
            },
            "colorscale": [
             [
              0,
              "#0d0887"
             ],
             [
              0.1111111111111111,
              "#46039f"
             ],
             [
              0.2222222222222222,
              "#7201a8"
             ],
             [
              0.3333333333333333,
              "#9c179e"
             ],
             [
              0.4444444444444444,
              "#bd3786"
             ],
             [
              0.5555555555555556,
              "#d8576b"
             ],
             [
              0.6666666666666666,
              "#ed7953"
             ],
             [
              0.7777777777777778,
              "#fb9f3a"
             ],
             [
              0.8888888888888888,
              "#fdca26"
             ],
             [
              1,
              "#f0f921"
             ]
            ],
            "type": "contour"
           }
          ],
          "contourcarpet": [
           {
            "colorbar": {
             "outlinewidth": 0,
             "ticks": ""
            },
            "type": "contourcarpet"
           }
          ],
          "heatmap": [
           {
            "colorbar": {
             "outlinewidth": 0,
             "ticks": ""
            },
            "colorscale": [
             [
              0,
              "#0d0887"
             ],
             [
              0.1111111111111111,
              "#46039f"
             ],
             [
              0.2222222222222222,
              "#7201a8"
             ],
             [
              0.3333333333333333,
              "#9c179e"
             ],
             [
              0.4444444444444444,
              "#bd3786"
             ],
             [
              0.5555555555555556,
              "#d8576b"
             ],
             [
              0.6666666666666666,
              "#ed7953"
             ],
             [
              0.7777777777777778,
              "#fb9f3a"
             ],
             [
              0.8888888888888888,
              "#fdca26"
             ],
             [
              1,
              "#f0f921"
             ]
            ],
            "type": "heatmap"
           }
          ],
          "histogram": [
           {
            "marker": {
             "pattern": {
              "fillmode": "overlay",
              "size": 10,
              "solidity": 0.2
             }
            },
            "type": "histogram"
           }
          ],
          "histogram2d": [
           {
            "colorbar": {
             "outlinewidth": 0,
             "ticks": ""
            },
            "colorscale": [
             [
              0,
              "#0d0887"
             ],
             [
              0.1111111111111111,
              "#46039f"
             ],
             [
              0.2222222222222222,
              "#7201a8"
             ],
             [
              0.3333333333333333,
              "#9c179e"
             ],
             [
              0.4444444444444444,
              "#bd3786"
             ],
             [
              0.5555555555555556,
              "#d8576b"
             ],
             [
              0.6666666666666666,
              "#ed7953"
             ],
             [
              0.7777777777777778,
              "#fb9f3a"
             ],
             [
              0.8888888888888888,
              "#fdca26"
             ],
             [
              1,
              "#f0f921"
             ]
            ],
            "type": "histogram2d"
           }
          ],
          "histogram2dcontour": [
           {
            "colorbar": {
             "outlinewidth": 0,
             "ticks": ""
            },
            "colorscale": [
             [
              0,
              "#0d0887"
             ],
             [
              0.1111111111111111,
              "#46039f"
             ],
             [
              0.2222222222222222,
              "#7201a8"
             ],
             [
              0.3333333333333333,
              "#9c179e"
             ],
             [
              0.4444444444444444,
              "#bd3786"
             ],
             [
              0.5555555555555556,
              "#d8576b"
             ],
             [
              0.6666666666666666,
              "#ed7953"
             ],
             [
              0.7777777777777778,
              "#fb9f3a"
             ],
             [
              0.8888888888888888,
              "#fdca26"
             ],
             [
              1,
              "#f0f921"
             ]
            ],
            "type": "histogram2dcontour"
           }
          ],
          "mesh3d": [
           {
            "colorbar": {
             "outlinewidth": 0,
             "ticks": ""
            },
            "type": "mesh3d"
           }
          ],
          "parcoords": [
           {
            "line": {
             "colorbar": {
              "outlinewidth": 0,
              "ticks": ""
             }
            },
            "type": "parcoords"
           }
          ],
          "pie": [
           {
            "automargin": true,
            "type": "pie"
           }
          ],
          "scatter": [
           {
            "fillpattern": {
             "fillmode": "overlay",
             "size": 10,
             "solidity": 0.2
            },
            "type": "scatter"
           }
          ],
          "scatter3d": [
           {
            "line": {
             "colorbar": {
              "outlinewidth": 0,
              "ticks": ""
             }
            },
            "marker": {
             "colorbar": {
              "outlinewidth": 0,
              "ticks": ""
             }
            },
            "type": "scatter3d"
           }
          ],
          "scattercarpet": [
           {
            "marker": {
             "colorbar": {
              "outlinewidth": 0,
              "ticks": ""
             }
            },
            "type": "scattercarpet"
           }
          ],
          "scattergeo": [
           {
            "marker": {
             "colorbar": {
              "outlinewidth": 0,
              "ticks": ""
             }
            },
            "type": "scattergeo"
           }
          ],
          "scattergl": [
           {
            "marker": {
             "colorbar": {
              "outlinewidth": 0,
              "ticks": ""
             }
            },
            "type": "scattergl"
           }
          ],
          "scattermap": [
           {
            "marker": {
             "colorbar": {
              "outlinewidth": 0,
              "ticks": ""
             }
            },
            "type": "scattermap"
           }
          ],
          "scattermapbox": [
           {
            "marker": {
             "colorbar": {
              "outlinewidth": 0,
              "ticks": ""
             }
            },
            "type": "scattermapbox"
           }
          ],
          "scatterpolar": [
           {
            "marker": {
             "colorbar": {
              "outlinewidth": 0,
              "ticks": ""
             }
            },
            "type": "scatterpolar"
           }
          ],
          "scatterpolargl": [
           {
            "marker": {
             "colorbar": {
              "outlinewidth": 0,
              "ticks": ""
             }
            },
            "type": "scatterpolargl"
           }
          ],
          "scatterternary": [
           {
            "marker": {
             "colorbar": {
              "outlinewidth": 0,
              "ticks": ""
             }
            },
            "type": "scatterternary"
           }
          ],
          "surface": [
           {
            "colorbar": {
             "outlinewidth": 0,
             "ticks": ""
            },
            "colorscale": [
             [
              0,
              "#0d0887"
             ],
             [
              0.1111111111111111,
              "#46039f"
             ],
             [
              0.2222222222222222,
              "#7201a8"
             ],
             [
              0.3333333333333333,
              "#9c179e"
             ],
             [
              0.4444444444444444,
              "#bd3786"
             ],
             [
              0.5555555555555556,
              "#d8576b"
             ],
             [
              0.6666666666666666,
              "#ed7953"
             ],
             [
              0.7777777777777778,
              "#fb9f3a"
             ],
             [
              0.8888888888888888,
              "#fdca26"
             ],
             [
              1,
              "#f0f921"
             ]
            ],
            "type": "surface"
           }
          ],
          "table": [
           {
            "cells": {
             "fill": {
              "color": "#EBF0F8"
             },
             "line": {
              "color": "white"
             }
            },
            "header": {
             "fill": {
              "color": "#C8D4E3"
             },
             "line": {
              "color": "white"
             }
            },
            "type": "table"
           }
          ]
         },
         "layout": {
          "annotationdefaults": {
           "arrowcolor": "#2a3f5f",
           "arrowhead": 0,
           "arrowwidth": 1
          },
          "autotypenumbers": "strict",
          "coloraxis": {
           "colorbar": {
            "outlinewidth": 0,
            "ticks": ""
           }
          },
          "colorscale": {
           "diverging": [
            [
             0,
             "#8e0152"
            ],
            [
             0.1,
             "#c51b7d"
            ],
            [
             0.2,
             "#de77ae"
            ],
            [
             0.3,
             "#f1b6da"
            ],
            [
             0.4,
             "#fde0ef"
            ],
            [
             0.5,
             "#f7f7f7"
            ],
            [
             0.6,
             "#e6f5d0"
            ],
            [
             0.7,
             "#b8e186"
            ],
            [
             0.8,
             "#7fbc41"
            ],
            [
             0.9,
             "#4d9221"
            ],
            [
             1,
             "#276419"
            ]
           ],
           "sequential": [
            [
             0,
             "#0d0887"
            ],
            [
             0.1111111111111111,
             "#46039f"
            ],
            [
             0.2222222222222222,
             "#7201a8"
            ],
            [
             0.3333333333333333,
             "#9c179e"
            ],
            [
             0.4444444444444444,
             "#bd3786"
            ],
            [
             0.5555555555555556,
             "#d8576b"
            ],
            [
             0.6666666666666666,
             "#ed7953"
            ],
            [
             0.7777777777777778,
             "#fb9f3a"
            ],
            [
             0.8888888888888888,
             "#fdca26"
            ],
            [
             1,
             "#f0f921"
            ]
           ],
           "sequentialminus": [
            [
             0,
             "#0d0887"
            ],
            [
             0.1111111111111111,
             "#46039f"
            ],
            [
             0.2222222222222222,
             "#7201a8"
            ],
            [
             0.3333333333333333,
             "#9c179e"
            ],
            [
             0.4444444444444444,
             "#bd3786"
            ],
            [
             0.5555555555555556,
             "#d8576b"
            ],
            [
             0.6666666666666666,
             "#ed7953"
            ],
            [
             0.7777777777777778,
             "#fb9f3a"
            ],
            [
             0.8888888888888888,
             "#fdca26"
            ],
            [
             1,
             "#f0f921"
            ]
           ]
          },
          "colorway": [
           "#636efa",
           "#EF553B",
           "#00cc96",
           "#ab63fa",
           "#FFA15A",
           "#19d3f3",
           "#FF6692",
           "#B6E880",
           "#FF97FF",
           "#FECB52"
          ],
          "font": {
           "color": "#2a3f5f"
          },
          "geo": {
           "bgcolor": "white",
           "lakecolor": "white",
           "landcolor": "#E5ECF6",
           "showlakes": true,
           "showland": true,
           "subunitcolor": "white"
          },
          "hoverlabel": {
           "align": "left"
          },
          "hovermode": "closest",
          "mapbox": {
           "style": "light"
          },
          "paper_bgcolor": "white",
          "plot_bgcolor": "#E5ECF6",
          "polar": {
           "angularaxis": {
            "gridcolor": "white",
            "linecolor": "white",
            "ticks": ""
           },
           "bgcolor": "#E5ECF6",
           "radialaxis": {
            "gridcolor": "white",
            "linecolor": "white",
            "ticks": ""
           }
          },
          "scene": {
           "xaxis": {
            "backgroundcolor": "#E5ECF6",
            "gridcolor": "white",
            "gridwidth": 2,
            "linecolor": "white",
            "showbackground": true,
            "ticks": "",
            "zerolinecolor": "white"
           },
           "yaxis": {
            "backgroundcolor": "#E5ECF6",
            "gridcolor": "white",
            "gridwidth": 2,
            "linecolor": "white",
            "showbackground": true,
            "ticks": "",
            "zerolinecolor": "white"
           },
           "zaxis": {
            "backgroundcolor": "#E5ECF6",
            "gridcolor": "white",
            "gridwidth": 2,
            "linecolor": "white",
            "showbackground": true,
            "ticks": "",
            "zerolinecolor": "white"
           }
          },
          "shapedefaults": {
           "line": {
            "color": "#2a3f5f"
           }
          },
          "ternary": {
           "aaxis": {
            "gridcolor": "white",
            "linecolor": "white",
            "ticks": ""
           },
           "baxis": {
            "gridcolor": "white",
            "linecolor": "white",
            "ticks": ""
           },
           "bgcolor": "#E5ECF6",
           "caxis": {
            "gridcolor": "white",
            "linecolor": "white",
            "ticks": ""
           }
          },
          "title": {
           "x": 0.05
          },
          "xaxis": {
           "automargin": true,
           "gridcolor": "white",
           "linecolor": "white",
           "ticks": "",
           "title": {
            "standoff": 15
           },
           "zerolinecolor": "white",
           "zerolinewidth": 2
          },
          "yaxis": {
           "automargin": true,
           "gridcolor": "white",
           "linecolor": "white",
           "ticks": "",
           "title": {
            "standoff": 15
           },
           "zerolinecolor": "white",
           "zerolinewidth": 2
          }
         }
        },
        "title": {
         "text": "Stacked Bar of 'POSITIVE' and 'NEGATIVE' by binned 'inclusion_ratio'",
         "x": 0.5,
         "xanchor": "center"
        },
        "width": 800,
        "xaxis": {
         "title": {
          "text": "inclusion_ratio Bins"
         }
        },
        "yaxis": {
         "title": {
          "text": "Count"
         }
        }
       }
      }
     },
     "metadata": {},
     "output_type": "display_data"
    },
    {
     "data": {
      "application/vnd.plotly.v1+json": {
       "config": {
        "plotlyServerURL": "https://plot.ly"
       },
       "data": [
        {
         "insidetextanchor": "middle",
         "marker": {
          "color": "green"
         },
         "name": "POSITIVE",
         "text": [
          "10.7%",
          "36.4%",
          "59.5%",
          "60.5%",
          "59.7%"
         ],
         "textfont": {
          "color": "white",
          "size": 12
         },
         "textposition": "inside",
         "type": "bar",
         "x": [
          "-0.0–0.2",
          "0.2–0.4",
          "0.4–0.6",
          "0.6–0.8",
          "0.8–1.0"
         ],
         "y": {
          "bdata": "AwwZGig=",
          "dtype": "i1"
         }
        },
        {
         "insidetextanchor": "middle",
         "marker": {
          "color": "red"
         },
         "name": "NEGATIVE",
         "text": [
          "89.3%",
          "63.6%",
          "40.5%",
          "39.5%",
          "40.3%"
         ],
         "textfont": {
          "color": "white",
          "size": 12
         },
         "textposition": "inside",
         "type": "bar",
         "x": [
          "-0.0–0.2",
          "0.2–0.4",
          "0.4–0.6",
          "0.6–0.8",
          "0.8–1.0"
         ],
         "y": {
          "bdata": "GRURERs=",
          "dtype": "i1"
         }
        }
       ],
       "layout": {
        "bargap": 0.25,
        "barmode": "stack",
        "height": 500,
        "template": {
         "data": {
          "bar": [
           {
            "error_x": {
             "color": "#2a3f5f"
            },
            "error_y": {
             "color": "#2a3f5f"
            },
            "marker": {
             "line": {
              "color": "#E5ECF6",
              "width": 0.5
             },
             "pattern": {
              "fillmode": "overlay",
              "size": 10,
              "solidity": 0.2
             }
            },
            "type": "bar"
           }
          ],
          "barpolar": [
           {
            "marker": {
             "line": {
              "color": "#E5ECF6",
              "width": 0.5
             },
             "pattern": {
              "fillmode": "overlay",
              "size": 10,
              "solidity": 0.2
             }
            },
            "type": "barpolar"
           }
          ],
          "carpet": [
           {
            "aaxis": {
             "endlinecolor": "#2a3f5f",
             "gridcolor": "white",
             "linecolor": "white",
             "minorgridcolor": "white",
             "startlinecolor": "#2a3f5f"
            },
            "baxis": {
             "endlinecolor": "#2a3f5f",
             "gridcolor": "white",
             "linecolor": "white",
             "minorgridcolor": "white",
             "startlinecolor": "#2a3f5f"
            },
            "type": "carpet"
           }
          ],
          "choropleth": [
           {
            "colorbar": {
             "outlinewidth": 0,
             "ticks": ""
            },
            "type": "choropleth"
           }
          ],
          "contour": [
           {
            "colorbar": {
             "outlinewidth": 0,
             "ticks": ""
            },
            "colorscale": [
             [
              0,
              "#0d0887"
             ],
             [
              0.1111111111111111,
              "#46039f"
             ],
             [
              0.2222222222222222,
              "#7201a8"
             ],
             [
              0.3333333333333333,
              "#9c179e"
             ],
             [
              0.4444444444444444,
              "#bd3786"
             ],
             [
              0.5555555555555556,
              "#d8576b"
             ],
             [
              0.6666666666666666,
              "#ed7953"
             ],
             [
              0.7777777777777778,
              "#fb9f3a"
             ],
             [
              0.8888888888888888,
              "#fdca26"
             ],
             [
              1,
              "#f0f921"
             ]
            ],
            "type": "contour"
           }
          ],
          "contourcarpet": [
           {
            "colorbar": {
             "outlinewidth": 0,
             "ticks": ""
            },
            "type": "contourcarpet"
           }
          ],
          "heatmap": [
           {
            "colorbar": {
             "outlinewidth": 0,
             "ticks": ""
            },
            "colorscale": [
             [
              0,
              "#0d0887"
             ],
             [
              0.1111111111111111,
              "#46039f"
             ],
             [
              0.2222222222222222,
              "#7201a8"
             ],
             [
              0.3333333333333333,
              "#9c179e"
             ],
             [
              0.4444444444444444,
              "#bd3786"
             ],
             [
              0.5555555555555556,
              "#d8576b"
             ],
             [
              0.6666666666666666,
              "#ed7953"
             ],
             [
              0.7777777777777778,
              "#fb9f3a"
             ],
             [
              0.8888888888888888,
              "#fdca26"
             ],
             [
              1,
              "#f0f921"
             ]
            ],
            "type": "heatmap"
           }
          ],
          "histogram": [
           {
            "marker": {
             "pattern": {
              "fillmode": "overlay",
              "size": 10,
              "solidity": 0.2
             }
            },
            "type": "histogram"
           }
          ],
          "histogram2d": [
           {
            "colorbar": {
             "outlinewidth": 0,
             "ticks": ""
            },
            "colorscale": [
             [
              0,
              "#0d0887"
             ],
             [
              0.1111111111111111,
              "#46039f"
             ],
             [
              0.2222222222222222,
              "#7201a8"
             ],
             [
              0.3333333333333333,
              "#9c179e"
             ],
             [
              0.4444444444444444,
              "#bd3786"
             ],
             [
              0.5555555555555556,
              "#d8576b"
             ],
             [
              0.6666666666666666,
              "#ed7953"
             ],
             [
              0.7777777777777778,
              "#fb9f3a"
             ],
             [
              0.8888888888888888,
              "#fdca26"
             ],
             [
              1,
              "#f0f921"
             ]
            ],
            "type": "histogram2d"
           }
          ],
          "histogram2dcontour": [
           {
            "colorbar": {
             "outlinewidth": 0,
             "ticks": ""
            },
            "colorscale": [
             [
              0,
              "#0d0887"
             ],
             [
              0.1111111111111111,
              "#46039f"
             ],
             [
              0.2222222222222222,
              "#7201a8"
             ],
             [
              0.3333333333333333,
              "#9c179e"
             ],
             [
              0.4444444444444444,
              "#bd3786"
             ],
             [
              0.5555555555555556,
              "#d8576b"
             ],
             [
              0.6666666666666666,
              "#ed7953"
             ],
             [
              0.7777777777777778,
              "#fb9f3a"
             ],
             [
              0.8888888888888888,
              "#fdca26"
             ],
             [
              1,
              "#f0f921"
             ]
            ],
            "type": "histogram2dcontour"
           }
          ],
          "mesh3d": [
           {
            "colorbar": {
             "outlinewidth": 0,
             "ticks": ""
            },
            "type": "mesh3d"
           }
          ],
          "parcoords": [
           {
            "line": {
             "colorbar": {
              "outlinewidth": 0,
              "ticks": ""
             }
            },
            "type": "parcoords"
           }
          ],
          "pie": [
           {
            "automargin": true,
            "type": "pie"
           }
          ],
          "scatter": [
           {
            "fillpattern": {
             "fillmode": "overlay",
             "size": 10,
             "solidity": 0.2
            },
            "type": "scatter"
           }
          ],
          "scatter3d": [
           {
            "line": {
             "colorbar": {
              "outlinewidth": 0,
              "ticks": ""
             }
            },
            "marker": {
             "colorbar": {
              "outlinewidth": 0,
              "ticks": ""
             }
            },
            "type": "scatter3d"
           }
          ],
          "scattercarpet": [
           {
            "marker": {
             "colorbar": {
              "outlinewidth": 0,
              "ticks": ""
             }
            },
            "type": "scattercarpet"
           }
          ],
          "scattergeo": [
           {
            "marker": {
             "colorbar": {
              "outlinewidth": 0,
              "ticks": ""
             }
            },
            "type": "scattergeo"
           }
          ],
          "scattergl": [
           {
            "marker": {
             "colorbar": {
              "outlinewidth": 0,
              "ticks": ""
             }
            },
            "type": "scattergl"
           }
          ],
          "scattermap": [
           {
            "marker": {
             "colorbar": {
              "outlinewidth": 0,
              "ticks": ""
             }
            },
            "type": "scattermap"
           }
          ],
          "scattermapbox": [
           {
            "marker": {
             "colorbar": {
              "outlinewidth": 0,
              "ticks": ""
             }
            },
            "type": "scattermapbox"
           }
          ],
          "scatterpolar": [
           {
            "marker": {
             "colorbar": {
              "outlinewidth": 0,
              "ticks": ""
             }
            },
            "type": "scatterpolar"
           }
          ],
          "scatterpolargl": [
           {
            "marker": {
             "colorbar": {
              "outlinewidth": 0,
              "ticks": ""
             }
            },
            "type": "scatterpolargl"
           }
          ],
          "scatterternary": [
           {
            "marker": {
             "colorbar": {
              "outlinewidth": 0,
              "ticks": ""
             }
            },
            "type": "scatterternary"
           }
          ],
          "surface": [
           {
            "colorbar": {
             "outlinewidth": 0,
             "ticks": ""
            },
            "colorscale": [
             [
              0,
              "#0d0887"
             ],
             [
              0.1111111111111111,
              "#46039f"
             ],
             [
              0.2222222222222222,
              "#7201a8"
             ],
             [
              0.3333333333333333,
              "#9c179e"
             ],
             [
              0.4444444444444444,
              "#bd3786"
             ],
             [
              0.5555555555555556,
              "#d8576b"
             ],
             [
              0.6666666666666666,
              "#ed7953"
             ],
             [
              0.7777777777777778,
              "#fb9f3a"
             ],
             [
              0.8888888888888888,
              "#fdca26"
             ],
             [
              1,
              "#f0f921"
             ]
            ],
            "type": "surface"
           }
          ],
          "table": [
           {
            "cells": {
             "fill": {
              "color": "#EBF0F8"
             },
             "line": {
              "color": "white"
             }
            },
            "header": {
             "fill": {
              "color": "#C8D4E3"
             },
             "line": {
              "color": "white"
             }
            },
            "type": "table"
           }
          ]
         },
         "layout": {
          "annotationdefaults": {
           "arrowcolor": "#2a3f5f",
           "arrowhead": 0,
           "arrowwidth": 1
          },
          "autotypenumbers": "strict",
          "coloraxis": {
           "colorbar": {
            "outlinewidth": 0,
            "ticks": ""
           }
          },
          "colorscale": {
           "diverging": [
            [
             0,
             "#8e0152"
            ],
            [
             0.1,
             "#c51b7d"
            ],
            [
             0.2,
             "#de77ae"
            ],
            [
             0.3,
             "#f1b6da"
            ],
            [
             0.4,
             "#fde0ef"
            ],
            [
             0.5,
             "#f7f7f7"
            ],
            [
             0.6,
             "#e6f5d0"
            ],
            [
             0.7,
             "#b8e186"
            ],
            [
             0.8,
             "#7fbc41"
            ],
            [
             0.9,
             "#4d9221"
            ],
            [
             1,
             "#276419"
            ]
           ],
           "sequential": [
            [
             0,
             "#0d0887"
            ],
            [
             0.1111111111111111,
             "#46039f"
            ],
            [
             0.2222222222222222,
             "#7201a8"
            ],
            [
             0.3333333333333333,
             "#9c179e"
            ],
            [
             0.4444444444444444,
             "#bd3786"
            ],
            [
             0.5555555555555556,
             "#d8576b"
            ],
            [
             0.6666666666666666,
             "#ed7953"
            ],
            [
             0.7777777777777778,
             "#fb9f3a"
            ],
            [
             0.8888888888888888,
             "#fdca26"
            ],
            [
             1,
             "#f0f921"
            ]
           ],
           "sequentialminus": [
            [
             0,
             "#0d0887"
            ],
            [
             0.1111111111111111,
             "#46039f"
            ],
            [
             0.2222222222222222,
             "#7201a8"
            ],
            [
             0.3333333333333333,
             "#9c179e"
            ],
            [
             0.4444444444444444,
             "#bd3786"
            ],
            [
             0.5555555555555556,
             "#d8576b"
            ],
            [
             0.6666666666666666,
             "#ed7953"
            ],
            [
             0.7777777777777778,
             "#fb9f3a"
            ],
            [
             0.8888888888888888,
             "#fdca26"
            ],
            [
             1,
             "#f0f921"
            ]
           ]
          },
          "colorway": [
           "#636efa",
           "#EF553B",
           "#00cc96",
           "#ab63fa",
           "#FFA15A",
           "#19d3f3",
           "#FF6692",
           "#B6E880",
           "#FF97FF",
           "#FECB52"
          ],
          "font": {
           "color": "#2a3f5f"
          },
          "geo": {
           "bgcolor": "white",
           "lakecolor": "white",
           "landcolor": "#E5ECF6",
           "showlakes": true,
           "showland": true,
           "subunitcolor": "white"
          },
          "hoverlabel": {
           "align": "left"
          },
          "hovermode": "closest",
          "mapbox": {
           "style": "light"
          },
          "paper_bgcolor": "white",
          "plot_bgcolor": "#E5ECF6",
          "polar": {
           "angularaxis": {
            "gridcolor": "white",
            "linecolor": "white",
            "ticks": ""
           },
           "bgcolor": "#E5ECF6",
           "radialaxis": {
            "gridcolor": "white",
            "linecolor": "white",
            "ticks": ""
           }
          },
          "scene": {
           "xaxis": {
            "backgroundcolor": "#E5ECF6",
            "gridcolor": "white",
            "gridwidth": 2,
            "linecolor": "white",
            "showbackground": true,
            "ticks": "",
            "zerolinecolor": "white"
           },
           "yaxis": {
            "backgroundcolor": "#E5ECF6",
            "gridcolor": "white",
            "gridwidth": 2,
            "linecolor": "white",
            "showbackground": true,
            "ticks": "",
            "zerolinecolor": "white"
           },
           "zaxis": {
            "backgroundcolor": "#E5ECF6",
            "gridcolor": "white",
            "gridwidth": 2,
            "linecolor": "white",
            "showbackground": true,
            "ticks": "",
            "zerolinecolor": "white"
           }
          },
          "shapedefaults": {
           "line": {
            "color": "#2a3f5f"
           }
          },
          "ternary": {
           "aaxis": {
            "gridcolor": "white",
            "linecolor": "white",
            "ticks": ""
           },
           "baxis": {
            "gridcolor": "white",
            "linecolor": "white",
            "ticks": ""
           },
           "bgcolor": "#E5ECF6",
           "caxis": {
            "gridcolor": "white",
            "linecolor": "white",
            "ticks": ""
           }
          },
          "title": {
           "x": 0.05
          },
          "xaxis": {
           "automargin": true,
           "gridcolor": "white",
           "linecolor": "white",
           "ticks": "",
           "title": {
            "standoff": 15
           },
           "zerolinecolor": "white",
           "zerolinewidth": 2
          },
          "yaxis": {
           "automargin": true,
           "gridcolor": "white",
           "linecolor": "white",
           "ticks": "",
           "title": {
            "standoff": 15
           },
           "zerolinecolor": "white",
           "zerolinewidth": 2
          }
         }
        },
        "title": {
         "text": "Stacked Bar of 'POSITIVE' and 'NEGATIVE' by binned 'inclusion_ratio'",
         "x": 0.5,
         "xanchor": "center"
        },
        "width": 800,
        "xaxis": {
         "title": {
          "text": "inclusion_ratio Bins"
         }
        },
        "yaxis": {
         "title": {
          "text": "Count"
         }
        }
       }
      }
     },
     "metadata": {},
     "output_type": "display_data"
    }
   ],
   "source": [
    "# TRUE POSITIVE / FALSE POSITIVE\n",
    "def plot_confusion_matrix_bins4(df_true, df_false, df_positive, df_negative, classstr='class', N=5):\n",
    "    import pandas as pd\n",
    "    import numpy as np\n",
    "    import plotly.graph_objects as go\n",
    "\n",
    "    # Make clean copies\n",
    "    df_true = df_true.copy()\n",
    "    df_false = df_false.copy()\n",
    "    df_positive = df_positive.copy()\n",
    "    df_negative = df_negative.copy()\n",
    "\n",
    "    # Define bin edges\n",
    "    bin_edges = np.linspace(0, 1, N + 1)\n",
    "\n",
    "    # Intersections to compute TP, FP, FN, TN correctly\n",
    "    df_tp = pd.merge(df_true, df_positive, how='inner')\n",
    "    df_fn = pd.merge(df_false, df_positive, how='inner')\n",
    "    df_fp = pd.merge(df_false, df_negative, how='inner')\n",
    "    df_tn = pd.merge(df_true, df_negative, how='inner')\n",
    "    print(f\"final number: {len(df_tp) + len(df_fn) + len(df_fp) + len(df_tn)}\") \n",
    "    print(f\"false negative {len(df_fn)}\")\n",
    "    # Assign bins\n",
    "    for df in [df_tp, df_fp, df_fn, df_tn]:\n",
    "        df['bin'] = pd.cut(df[classstr], bins=bin_edges, include_lowest=True)\n",
    "\n",
    "    # Count values per bin\n",
    "    tp_counts = df_tp['bin'].value_counts().sort_index()\n",
    "    fp_counts = df_fp['bin'].value_counts().sort_index()\n",
    "    fn_counts = df_fn['bin'].value_counts().sort_index()\n",
    "    tn_counts = df_tn['bin'].value_counts().sort_index()\n",
    "\n",
    "    # Align bins\n",
    "    all_bins = sorted(set(tp_counts.index).union(fn_counts.index, fp_counts.index, tn_counts.index))\n",
    "    bin_labels = [f\"{round(interval.left, 2)}–{round(interval.right, 2)}\" for interval in all_bins]\n",
    "\n",
    "    # Create counts dataframe\n",
    "    counts_df = pd.DataFrame(index=bin_labels)\n",
    "    counts_df['TP'] = [tp_counts.get(b, 0) for b in all_bins]\n",
    "    counts_df['FN'] = [fn_counts.get(b, 0) for b in all_bins]\n",
    "    counts_df['FP'] = [fp_counts.get(b, 0) for b in all_bins]\n",
    "    counts_df['TN'] = [tn_counts.get(b, 0) for b in all_bins]\n",
    "\n",
    "    # Compute percentages\n",
    "    counts_df['Total'] = counts_df.sum(axis=1)\n",
    "    for col in ['TP', 'FN', 'FP', 'TN']:\n",
    "        counts_df[f'{col}_pct'] = (\n",
    "            (counts_df[col] / counts_df['Total'] * 100).round(1).astype(str) + '%'\n",
    "        )\n",
    "\n",
    "    # Plot\n",
    "    fig = go.Figure()\n",
    "    for label, color in zip(['TP', 'TN', 'FP', 'FN'], ['green', 'gray', 'red', 'black']):\n",
    "        fig.add_trace(go.Bar(\n",
    "            x=counts_df.index,\n",
    "            y=counts_df[label],\n",
    "            name=label,\n",
    "            marker_color=color,\n",
    "            text=counts_df[f'{label}_pct'],\n",
    "            textposition='inside',\n",
    "            insidetextanchor='middle',\n",
    "            textfont=dict(color='white', size=12),\n",
    "        ))\n",
    "\n",
    "    fig.update_layout(\n",
    "        title=f\"Stacked Confusion Counts by Binned '{classstr}'\",\n",
    "        xaxis_title=f\"{classstr} Bins\",\n",
    "        yaxis_title=\"Count\",\n",
    "        barmode='stack',\n",
    "        width=950,\n",
    "        height=500\n",
    "    )\n",
    "\n",
    "    fig.show()   \n",
    "\n",
    "# score for all data\n",
    "def plot_confusion_matrix_bins2(df_true, df_false, df_positive, df_negative, classstr='class', N=5):\n",
    "    import pandas as pd\n",
    "    import numpy as np\n",
    "    import plotly.graph_objects as go\n",
    "\n",
    "    # Make clean copies\n",
    "    df_true = df_true.copy()\n",
    "    df_false = df_false.copy()\n",
    "    df_positive = df_positive.copy()\n",
    "    df_negative = df_negative.copy()\n",
    "\n",
    "    # Define bin edges\n",
    "    bin_edges = np.linspace(0, 1, N + 1)\n",
    "\n",
    "    # Intersections to compute TP, FP, FN, TN correctly\n",
    "    df_tp = pd.merge(df_true, df_positive, how='inner')\n",
    "    df_fn = pd.merge(df_false, df_positive, how='inner')\n",
    "    df_fp = pd.merge(df_false, df_negative, how='inner')\n",
    "    df_tn = pd.merge(df_true, df_negative, how='inner')\n",
    "\n",
    "    # Print final counts\n",
    "    total = len(df_tp) + len(df_fn) + len(df_fp) + len(df_tn)\n",
    "    print(f\"Final total: {total}\")\n",
    "    print(f\"TP: {len(df_tp)} | TN: {len(df_tn)} | FP: {len(df_fp)} | FN: {len(df_fn)}\")\n",
    "\n",
    "    # Assign bins\n",
    "    for df in [df_tp, df_fp, df_fn, df_tn]:\n",
    "        df['bin'] = pd.cut(df[classstr], bins=bin_edges, include_lowest=True)\n",
    "\n",
    "    # Count values per bin\n",
    "    tp_counts = df_tp['bin'].value_counts().sort_index()\n",
    "    fp_counts = df_fp['bin'].value_counts().sort_index()\n",
    "    fn_counts = df_fn['bin'].value_counts().sort_index()\n",
    "    tn_counts = df_tn['bin'].value_counts().sort_index()\n",
    "\n",
    "    # Align bins\n",
    "    all_bins = sorted(set(tp_counts.index).union(fn_counts.index, fp_counts.index, tn_counts.index))\n",
    "    bin_labels = [f\"{round(interval.left, 2)}–{round(interval.right, 2)}\" for interval in all_bins]\n",
    "\n",
    "    # Create counts dataframe\n",
    "    counts_df = pd.DataFrame(index=bin_labels)\n",
    "    counts_df['TP'] = [tp_counts.get(b, 0) for b in all_bins]\n",
    "    counts_df['FN'] = [fn_counts.get(b, 0) for b in all_bins]\n",
    "    counts_df['FP'] = [fp_counts.get(b, 0) for b in all_bins]\n",
    "    counts_df['TN'] = [tn_counts.get(b, 0) for b in all_bins]\n",
    "\n",
    "    # Compute percentages\n",
    "    counts_df['Total'] = counts_df.sum(axis=1)\n",
    "    for col in ['TP', 'FN', 'FP', 'TN']:\n",
    "        counts_df[f'{col}_pct'] = (\n",
    "            (counts_df[col] / counts_df['Total'] * 100).round(1).astype(str) + '%'\n",
    "        )\n",
    "\n",
    "    # Plot\n",
    "    fig = go.Figure()\n",
    "    for label, color in zip(['TP', 'TN', 'FP', 'FN'], ['green', 'gray', 'red', 'black']):\n",
    "        fig.add_trace(go.Bar(\n",
    "            x=counts_df.index,\n",
    "            y=counts_df[label],\n",
    "            name=label,\n",
    "            marker_color=color,\n",
    "            text=counts_df[f'{label}_pct'],\n",
    "            textposition='inside',\n",
    "            insidetextanchor='middle',\n",
    "            textfont=dict(color='white', size=12),\n",
    "        ))\n",
    "\n",
    "    fig.update_layout(\n",
    "        title=f\"Stacked Confusion Counts by Binned '{classstr}'\",\n",
    "        xaxis_title=f\"{classstr} Bins\",\n",
    "        yaxis_title=\"Count\",\n",
    "        barmode='stack',\n",
    "        width=950,\n",
    "        height=500\n",
    "    )\n",
    "\n",
    "    fig.show()\n",
    "\n",
    "    # === Compute Global Metrics ===\n",
    "    TP, TN, FP, FN = len(df_tp), len(df_tn), len(df_fp), len(df_fn)\n",
    "    accuracy = (TP + TN) / (TP + TN + FP + FN) if (TP + TN + FP + FN) > 0 else 0\n",
    "    precision = TP / (TP + FP) if (TP + FP) > 0 else 0\n",
    "    recall = TP / (TP + FN) if (TP + FN) > 0 else 0\n",
    "    f1 = 2 * (precision * recall) / (precision + recall) if (precision + recall) > 0 else 0\n",
    "\n",
    "    print(\"\\n=== Global Metrics ===\")\n",
    "    print(f\"Accuracy:  {accuracy:.3f}\")\n",
    "    print(f\"Precision: {precision:.3f}\")\n",
    "    print(f\"Recall:    {recall:.3f}\")\n",
    "    print(f\"F1 Score:  {f1:.3f}\")\n",
    "\n",
    "# scores per bin\n",
    "def plot_confusion_matrix_bins3_old(df_true, df_false, df_positive, df_negative, classstr='class', N=5):\n",
    "    import pandas as pd\n",
    "    import numpy as np\n",
    "    import plotly.graph_objects as go\n",
    "\n",
    "    # Make clean copies\n",
    "    df_true = df_true.copy()\n",
    "    df_false = df_false.copy()\n",
    "    df_positive = df_positive.copy()\n",
    "    df_negative = df_negative.copy()\n",
    "\n",
    "    # Define bin edges\n",
    "    bin_edges = np.linspace(0, 1, N + 1)\n",
    "\n",
    "    # Intersections to compute TP, FP, FN, TN correctly\n",
    "    df_tp = pd.merge(df_true, df_positive, how='inner')\n",
    "    df_fn = pd.merge(df_false, df_positive, how='inner')\n",
    "    df_fp = pd.merge(df_false, df_negative, how='inner')\n",
    "    df_tn = pd.merge(df_true, df_negative, how='inner')\n",
    "\n",
    "    # Print final counts\n",
    "    total = len(df_tp) + len(df_fn) + len(df_fp) + len(df_tn)\n",
    "    print(f\"Final total: {total}\")\n",
    "    print(f\"TP: {len(df_tp)} | TN: {len(df_tn)} | FP: {len(df_fp)} | FN: {len(df_fn)}\")\n",
    "\n",
    "    # Assign bins\n",
    "    for df in [df_tp, df_fp, df_fn, df_tn]:\n",
    "        df['bin'] = pd.cut(df[classstr], bins=bin_edges, include_lowest=True)\n",
    "\n",
    "    # Count values per bin\n",
    "    tp_counts = df_tp['bin'].value_counts().sort_index()\n",
    "    fp_counts = df_fp['bin'].value_counts().sort_index()\n",
    "    fn_counts = df_fn['bin'].value_counts().sort_index()\n",
    "    tn_counts = df_tn['bin'].value_counts().sort_index()\n",
    "\n",
    "    # Align bins\n",
    "    all_bins = sorted(set(tp_counts.index).union(fn_counts.index, fp_counts.index, tn_counts.index))\n",
    "    bin_labels = [f\"{round(interval.left, 2)}–{round(interval.right, 2)}\" for interval in all_bins]\n",
    "\n",
    "    # Create counts dataframe\n",
    "    counts_df = pd.DataFrame(index=bin_labels)\n",
    "    counts_df['TP'] = [tp_counts.get(b, 0) for b in all_bins]\n",
    "    counts_df['FN'] = [fn_counts.get(b, 0) for b in all_bins]\n",
    "    counts_df['FP'] = [fp_counts.get(b, 0) for b in all_bins]\n",
    "    counts_df['TN'] = [tn_counts.get(b, 0) for b in all_bins]\n",
    "\n",
    "    # Compute percentages\n",
    "    counts_df['Total'] = counts_df[['TP', 'FN', 'FP', 'TN']].sum(axis=1)\n",
    "    for col in ['TP', 'FN', 'FP', 'TN']:\n",
    "        counts_df[f'{col}_pct'] = (\n",
    "            (counts_df[col] / counts_df['Total'] * 100).round(1).astype(str) + '%'\n",
    "        )\n",
    "\n",
    "    # Compute per-bin metrics\n",
    "    def safe_div(n, d):\n",
    "        return n / d if d != 0 else 0\n",
    "\n",
    "    counts_df['accuracy'] = counts_df.apply(lambda row: safe_div(row['TP'] + row['TN'], row['Total']), axis=1)\n",
    "    counts_df['precision'] = counts_df.apply(lambda row: safe_div(row['TP'], row['TP'] + row['FP']), axis=1)\n",
    "    counts_df['recall'] = counts_df.apply(lambda row: safe_div(row['TP'], row['TP'] + row['FN']), axis=1)\n",
    "    counts_df['f1'] = counts_df.apply(lambda row: safe_div(2 * row['precision'] * row['recall'],\n",
    "                                                           row['precision'] + row['recall']), axis=1)\n",
    "\n",
    "    # Plot\n",
    "    fig = go.Figure()\n",
    "    for label, color in zip(['TP', 'TN', 'FP', 'FN'], ['green', 'gray', 'red', 'black']):\n",
    "        fig.add_trace(go.Bar(\n",
    "            x=counts_df.index,\n",
    "            y=counts_df[label],\n",
    "            name=label,\n",
    "            marker_color=color,\n",
    "            text=counts_df[f'{label}_pct'],\n",
    "            textposition='inside',\n",
    "            insidetextanchor='middle',\n",
    "            textfont=dict(color='white', size=12),\n",
    "        ))\n",
    "\n",
    "    fig.update_layout(\n",
    "        title=dict(\n",
    "        text=f\"Stacked Confusion Counts by Binned '{classstr}'\",\n",
    "        x=0.5,  # Center the title\n",
    "        xanchor='center'  # Anchor the title at the center\n",
    "        ),        \n",
    "        xaxis_title=f\"{classstr} Bins\",\n",
    "        yaxis_title=\"Count\",\n",
    "        barmode='stack',\n",
    "        width=950,\n",
    "        height=500\n",
    "    )\n",
    "    fig.show()\n",
    "\n",
    "    # Print per-bin metrics\n",
    "    print(\"\\n=== Per-bin Metrics ===\")\n",
    "    for idx, row in counts_df.iterrows():\n",
    "        print(f\"\\nBin {idx}:\")\n",
    "        print(f\"  Accuracy:  {row['accuracy']:.3f}\")\n",
    "        print(f\"  Precision: {row['precision']:.3f}\")\n",
    "        print(f\"  Recall:    {row['recall']:.3f}\")\n",
    "        print(f\"  F1 Score:  {row['f1']:.3f}\")\n",
    "\n",
    "\n",
    "def plot_confusion_matrix_bins3(df_true, df_false, df_positive, df_negative, classstr='class', N=5, title_str=None):\n",
    "    import pandas as pd\n",
    "    import numpy as np\n",
    "    import plotly.graph_objects as go\n",
    "\n",
    "    # Make clean copies\n",
    "    df_true = df_true.copy()\n",
    "    df_false = df_false.copy()\n",
    "    df_positive = df_positive.copy()\n",
    "    df_negative = df_negative.copy()\n",
    "\n",
    "    # Define bin edges\n",
    "    bin_edges = np.linspace(0, 1, N + 1)\n",
    "\n",
    "    # Intersections to compute TP, FP, FN, TN correctly\n",
    "    df_tp = pd.merge(df_true, df_positive, how='inner')\n",
    "    df_fn = pd.merge(df_false, df_positive, how='inner')\n",
    "    df_fp = pd.merge(df_false, df_negative, how='inner')\n",
    "    df_tn = pd.merge(df_true, df_negative, how='inner')\n",
    "\n",
    "    # Print final counts\n",
    "    total = len(df_tp) + len(df_fn) + len(df_fp) + len(df_tn)\n",
    "    print(f\"Final total: {total}\")\n",
    "    print(f\"TP: {len(df_tp)} | TN: {len(df_tn)} | FP: {len(df_fp)} | FN: {len(df_fn)}\")\n",
    "\n",
    "    # Assign bins\n",
    "    for df in [df_tp, df_fp, df_fn, df_tn]:\n",
    "        df['bin'] = pd.cut(df[classstr], bins=bin_edges, include_lowest=True)\n",
    "\n",
    "    # Count values per bin\n",
    "    tp_counts = df_tp['bin'].value_counts().sort_index()\n",
    "    fp_counts = df_fp['bin'].value_counts().sort_index()\n",
    "    fn_counts = df_fn['bin'].value_counts().sort_index()\n",
    "    tn_counts = df_tn['bin'].value_counts().sort_index()\n",
    "\n",
    "    # Align bins\n",
    "    all_bins = sorted(set(tp_counts.index).union(fn_counts.index, fp_counts.index, tn_counts.index))\n",
    "    bin_labels = [f\"{round(interval.left, 2)}–{round(interval.right, 2)}\" for interval in all_bins]\n",
    "\n",
    "    # Create counts dataframe\n",
    "    counts_df = pd.DataFrame(index=bin_labels)\n",
    "    counts_df['TP'] = [tp_counts.get(b, 0) for b in all_bins]\n",
    "    counts_df['FN'] = [fn_counts.get(b, 0) for b in all_bins]\n",
    "    counts_df['FP'] = [fp_counts.get(b, 0) for b in all_bins]\n",
    "    counts_df['TN'] = [tn_counts.get(b, 0) for b in all_bins]\n",
    "\n",
    "    # Compute percentages\n",
    "    counts_df['Total'] = counts_df[['TP', 'FN', 'FP', 'TN']].sum(axis=1)\n",
    "    for col in ['TP', 'FN', 'FP', 'TN']:\n",
    "        counts_df[f'{col}_pct'] = (\n",
    "            (counts_df[col] / counts_df['Total'] * 100).round(1).astype(str) + '%'\n",
    "        )\n",
    "\n",
    "    # Compute per-bin metrics\n",
    "    def safe_div(n, d):\n",
    "        return n / d if d != 0 else 0\n",
    "\n",
    "    counts_df['accuracy'] = counts_df.apply(lambda row: safe_div(row['TP'] + row['TN'], row['Total']), axis=1)\n",
    "    counts_df['precision'] = counts_df.apply(lambda row: safe_div(row['TP'], row['TP'] + row['FP']), axis=1)\n",
    "    counts_df['recall'] = counts_df.apply(lambda row: safe_div(row['TP'], row['TP'] + row['FN']), axis=1)\n",
    "    counts_df['f1'] = counts_df.apply(lambda row: safe_div(2 * row['precision'] * row['recall'],\n",
    "                                                           row['precision'] + row['recall']), axis=1)\n",
    "\n",
    "    # Default title\n",
    "    if title_str is None:\n",
    "        title_str = f\"Stacked Confusion Counts by Binned '{classstr}'\"\n",
    "\n",
    "    # Plot\n",
    "    fig = go.Figure()\n",
    "    for label, color in zip(['TP', 'TN', 'FP', 'FN'], ['green', 'gray', 'red', 'black']):\n",
    "        fig.add_trace(go.Bar(\n",
    "            x=counts_df.index,\n",
    "            y=counts_df[label],\n",
    "            name=label,\n",
    "            marker_color=color,\n",
    "            text=counts_df[f'{label}_pct'],\n",
    "            textposition='inside',\n",
    "            insidetextanchor='middle',\n",
    "            textfont=dict(color='white', size=12),\n",
    "        ))\n",
    "\n",
    "    fig.update_layout(\n",
    "        title=dict(\n",
    "            text=title_str,\n",
    "            x=0.5,\n",
    "            xanchor='center'\n",
    "        ),\n",
    "        xaxis_title=f\"{classstr} Bins\",\n",
    "        yaxis_title=\"Count\",\n",
    "        barmode='stack',\n",
    "        bargap=0.4,  # Make bars slimmer\n",
    "        width=600,\n",
    "        height=500\n",
    "    )\n",
    "\n",
    "    fig.show()\n",
    "\n",
    "    # Print per-bin metrics\n",
    "    print(\"\\n=== Per-bin Metrics ===\")\n",
    "    for idx, row in counts_df.iterrows():\n",
    "        print(f\"\\nBin {idx}:\")\n",
    "        print(f\"  Accuracy:  {row['accuracy']:.3f}\")\n",
    "        print(f\"  Precision: {row['precision']:.3f}\")\n",
    "        print(f\"  Recall:    {row['recall']:.3f}\")\n",
    "        print(f\"  F1 Score:  {row['f1']:.3f}\")\n",
    "\n",
    "\n",
    "def plot_binary_stack_by_bin_old(df_a, df_b, classstr='class', N=5, label_a='A', label_b='B'):\n",
    "    # Define bin edges\n",
    "    bin_edges = np.linspace(0, 1, N + 1)\n",
    "\n",
    "    # Make copies to avoid warnings\n",
    "    df_a = df_a.copy()\n",
    "    df_b = df_b.copy()\n",
    "\n",
    "    # Assign bins\n",
    "    df_a.loc[:, 'bin'] = pd.cut(df_a[classstr], bins=bin_edges, include_lowest=True)\n",
    "    df_b.loc[:, 'bin'] = pd.cut(df_b[classstr], bins=bin_edges, include_lowest=True)\n",
    "\n",
    "    # Count values in each bin\n",
    "    a_counts = df_a['bin'].value_counts().sort_index()\n",
    "    b_counts = df_b['bin'].value_counts().sort_index()\n",
    "\n",
    "    # Ensure all bins present\n",
    "    all_bins = sorted(set(a_counts.index).union(b_counts.index))\n",
    "    bin_labels = [f\"{round(interval.left, 2)}–{round(interval.right, 2)}\" for interval in all_bins]\n",
    "\n",
    "    # Create counts DataFrame\n",
    "    counts_df = pd.DataFrame(index=bin_labels)\n",
    "    counts_df[label_a] = [a_counts.get(b, 0) for b in all_bins]\n",
    "    counts_df[label_b] = [b_counts.get(b, 0) for b in all_bins]\n",
    "\n",
    "    # Calculate total and percentage\n",
    "    counts_df['Total'] = counts_df[label_a] + counts_df[label_b]\n",
    "    for label in [label_a, label_b]:\n",
    "        counts_df[f'{label}_pct'] = (counts_df[label] / counts_df['Total'] * 100).round(1).astype(str) + '%'\n",
    "\n",
    "    # Plot\n",
    "    fig = go.Figure()\n",
    "    for label, color in zip([label_a, label_b], ['green', 'red']):\n",
    "        fig.add_trace(go.Bar(\n",
    "            x=counts_df.index,\n",
    "            y=counts_df[label],\n",
    "            name=label,\n",
    "            marker_color=color,\n",
    "            text=counts_df[f'{label}_pct'],\n",
    "            textposition='inside',\n",
    "            insidetextanchor='middle',\n",
    "            textfont=dict(color='white', size=12),\n",
    "        ))\n",
    "\n",
    "    fig.update_layout(\n",
    "        title=dict(\n",
    "        text=f\"Stacked Bar of '{label_a}' and '{label_b}' by binned '{classstr}'\",\n",
    "        x=0.5,  # Center the title\n",
    "        xanchor='center'  # Anchor the title at the center\n",
    "        ),\n",
    "        xaxis_title=f\"{classstr} Bins\",\n",
    "        yaxis_title=\"Count\",\n",
    "        barmode='stack',\n",
    "        width=800,\n",
    "        height=500\n",
    "    )\n",
    "\n",
    "    fig.show() \n",
    "\n",
    "def plot_binary_stack_by_bin(df_a, df_b, classstr='class', N=5, label_a='A', label_b='B', title_str=None):\n",
    "    import numpy as np\n",
    "    import pandas as pd\n",
    "    import plotly.graph_objects as go\n",
    "\n",
    "    # Define bin edges\n",
    "    bin_edges = np.linspace(0, 1, N + 1)\n",
    "\n",
    "    # Make copies to avoid SettingWithCopyWarning\n",
    "    df_a = df_a.copy()\n",
    "    df_b = df_b.copy()\n",
    "\n",
    "    # Assign bins\n",
    "    df_a['bin'] = pd.cut(df_a[classstr], bins=bin_edges, include_lowest=True)\n",
    "    df_b['bin'] = pd.cut(df_b[classstr], bins=bin_edges, include_lowest=True)\n",
    "\n",
    "    # Count values in each bin\n",
    "    a_counts = df_a['bin'].value_counts().sort_index()\n",
    "    b_counts = df_b['bin'].value_counts().sort_index()\n",
    "\n",
    "    # Ensure consistent bin labels\n",
    "    all_bins = sorted(set(a_counts.index).union(b_counts.index))\n",
    "    bin_labels = [f\"{round(interval.left, 2)}–{round(interval.right, 2)}\" for interval in all_bins]\n",
    "\n",
    "    # Create counts DataFrame\n",
    "    counts_df = pd.DataFrame(index=bin_labels)\n",
    "    counts_df[label_a] = [a_counts.get(b, 0) for b in all_bins]\n",
    "    counts_df[label_b] = [b_counts.get(b, 0) for b in all_bins]\n",
    "\n",
    "    # Calculate total and percentage\n",
    "    counts_df['Total'] = counts_df[label_a] + counts_df[label_b]\n",
    "    for label in [label_a, label_b]:\n",
    "        counts_df[f'{label}_pct'] = (\n",
    "            (counts_df[label] / counts_df['Total'] * 100).round(1).astype(str) + '%'\n",
    "        )\n",
    "\n",
    "    # Plot\n",
    "    fig = go.Figure()\n",
    "    for label, color in zip([label_a, label_b], ['green', 'red']):\n",
    "        fig.add_trace(go.Bar(\n",
    "            x=counts_df.index,\n",
    "            y=counts_df[label],\n",
    "            name=label,\n",
    "            marker_color=color,\n",
    "            text=counts_df[f'{label}_pct'],\n",
    "            textposition='inside',\n",
    "            insidetextanchor='middle',\n",
    "            textfont=dict(color='white', size=12),\n",
    "        ))\n",
    "\n",
    "    # Title logic\n",
    "    if title_str is None:\n",
    "        title_str = f\"Stacked Bar of '{label_a}' and '{label_b}' by binned '{classstr}'\"\n",
    "\n",
    "    fig.update_layout(\n",
    "        title=dict(\n",
    "            text=title_str,\n",
    "            x=0.5,\n",
    "            xanchor='center'\n",
    "        ),\n",
    "        xaxis_title=f\"{classstr} Bins\",\n",
    "        yaxis_title=\"Count\",\n",
    "        barmode='stack',\n",
    "        bargap=0.25,  # Increase gap to make bars slimmer\n",
    "        width=800,\n",
    "        height=500\n",
    "    )\n",
    "\n",
    "    fig.show()\n",
    "\n",
    "# Plot True Positive and False Positive in Bar Graph for all strict baselines\n",
    "#Select한 ratio가 높은게 좋은게 아니라, 정답중에 얼마나 골랐느냐와 고른 것중에 정답이 얼마나 있었는가가 더 중요하다.\n",
    "\n",
    "#=======================\n",
    "# POSITIVES & NEGATIVES\n",
    "#=======================\n",
    "#strict rules\n",
    "rag_positive = efil3_both_rag #POSITIVE\n",
    "rag_negative = df_eval_rag.drop(efil3_both_rag.index) #NEGETIVE\n",
    "rag_true = efil3_human_rag #TRUE\n",
    "rag_false = df_eval_rag.drop(efil3_human_rag.index) #FALSE\n",
    "print(rag_positive.head(20))\n",
    "print(rag_negative.head(20))\n",
    "\n",
    "\n",
    "norag_positive = efil3_both_norag\n",
    "norag_negative = df_eval_norag.drop(efil3_both_norag.index)\n",
    "norag_true = efil3_human_norag\n",
    "norag_false = df_eval_norag.drop(efil3_human_norag.index)\n",
    "\n",
    "#------lenient rules------ for (all entity, all sim, only sequence)\n",
    "# rag_positive = efil3_both_rag2 #TP\n",
    "# rag_negative = df_eval_rag.drop(efil3_both_rag2.index) #TN\n",
    "# rag_true = efil3_human_rag2 #\n",
    "# rag_false = df_eval_rag.drop(efil3_human_rag2.index)\n",
    "\n",
    "# norag_positive = efil3_both_norag2\n",
    "# norag_negative = df_eval_norag.drop(efil3_both_norag2.index)\n",
    "# norag_true = efil3_human_norag2\n",
    "# norag_false = df_eval_norag.drop(efil3_human_norag2.index)\n",
    "#--------------------------\n",
    "\n",
    "raggoal_positive = efil3_raggoal\n",
    "raggoal_negative = df_eval_raggoal.drop(efil3_raggoal.index)\n",
    "raggoal_true = efil3_human_raggoal\n",
    "raggoal_false = df_eval_raggoal.drop(efil3_human_raggoal.index)\n",
    "\n",
    "noraggoal_positive = efil3_noraggoal\n",
    "noraggoal_negative = df_eval_noraggoal.drop(efil3_noraggoal.index)\n",
    "noraggoal_true = efil3_human_noraggoal\n",
    "noraggoal_false = df_eval_noraggoal.drop(efil3_human_noraggoal.index)\n",
    "\n",
    "\n",
    "#=======================\n",
    "# Drawing each values\n",
    "#=======================\n",
    "#N=1\n",
    "print(rag_true.shape[0])\n",
    "print(rag_false.shape[0])\n",
    "print(rag_positive.shape[0])\n",
    "print(rag_negative.shape[0])\n",
    "\n",
    "\n",
    "plot_confusion_matrix_bins3(rag_true, rag_false,rag_positive, rag_negative, classstr='inclusion_ratio', N=1, title_str=\"Stacked Confusion Chart (taxo-med-rag)\")\n",
    " \n",
    "plot_confusion_matrix_bins3(norag_true, norag_false, norag_positive, norag_negative, classstr='inclusion_ratio', N=1, title_str=\"Stacked Confusion Chart (taxo-med)\")\n",
    "\n",
    "plot_confusion_matrix_bins3(raggoal_true, raggoal_false, raggoal_positive, raggoal_negative, classstr='inclusion_ratio', N=1, title_str=\"Stacked Confusion Chart (goal-med-rag)\")\n",
    "\n",
    "plot_confusion_matrix_bins3(noraggoal_true, noraggoal_false, noraggoal_positive, noraggoal_negative, classstr='inclusion_ratio', N=1, title_str=\"Stacked Confusion Chart (goal-med)\")\n",
    "\n",
    "\n",
    "plot_confusion_matrix_bins3(rag_true, rag_false,rag_positive, rag_negative, classstr='inclusion_ratio', N=3, title_str=\"Stacked Confusion Chart (taxo-med-rag)\")\n",
    " \n",
    "plot_confusion_matrix_bins3(norag_true, norag_false, norag_positive, norag_negative, classstr='inclusion_ratio', N=3, title_str=\"Stacked Confusion Chart (taxo-med)\")\n",
    "\n",
    "plot_confusion_matrix_bins3(raggoal_true, raggoal_false, raggoal_positive, raggoal_negative, classstr='inclusion_ratio', N=3, title_str=\"Stacked Confusion Chart (goal-med-rag)\")\n",
    "\n",
    "plot_confusion_matrix_bins3(noraggoal_true, noraggoal_false, noraggoal_positive, noraggoal_negative, classstr='inclusion_ratio', N=3, title_str=\"Stacked Confusion Chart (goal-med)\")\n",
    "\n",
    "\n",
    "\n",
    "# def plot_binary_stack_by_bin(df_a, df_b, classstr='class', N=5, label_a='A', label_b='B'):\n",
    "plot_binary_stack_by_bin(rag_true, rag_false, classstr='inclusion_ratio', N=5, label_a='TRUE', label_b='FAlSE')\n",
    "\n",
    "plot_binary_stack_by_bin(rag_positive, rag_negative, classstr='inclusion_ratio', N=5, label_a='POSITIVE', label_b='NEGATIVE')\n",
    "\n",
    "plot_binary_stack_by_bin(norag_positive, norag_negative, classstr='inclusion_ratio', N=5, label_a='POSITIVE', label_b='NEGATIVE')\n",
    "\n",
    "plot_binary_stack_by_bin(raggoal_positive, raggoal_negative, classstr='inclusion_ratio', N=5, label_a='POSITIVE', label_b='NEGATIVE')\n",
    "#N=3\n",
    "# plot_confusion_matrix_bins3(rag_true, rag_false,rag_positive, rag_negative, classstr='inclusion_ratio', N=3)\n",
    "\n",
    "# plot_confusion_matrix_bins3(norag_true, norag_false, norag_positive, norag_negative, classstr='inclusion_ratio', N=3)\n",
    "\n",
    "# plot_confusion_matrix_bins3(raggoal_true, raggoal_false, raggoal_positive, raggoal_negative, classstr='inclusion_ratio', N=3)\n",
    "\n",
    "# plot_confusion_matrix_bins3(noraggoal_true, noraggoal_false, noraggoal_positive, noraggoal_negative, classstr='inclusion_ratio', N=3)"
   ]
  },
  {
   "cell_type": "code",
   "execution_count": 74,
   "id": "689422e2",
   "metadata": {},
   "outputs": [
    {
     "name": "stdout",
     "output_type": "stream",
     "text": [
      "[0, 0, 0, 1, 1, 1, 2, 2, 2, 3, 3, 3, 4, 4, 4, 5, 5, 5, 6, 6, 6, 7, 7, 7, 8, 8, 8, 9, 9, 9, 10, 10, 10, 11, 11, 11, 12, 12, 12, 13, 13, 13, 14, 14, 14, 15, 15, 15, 16, 16, 16, 17, 17, 17, 18, 18, 18, 19, 19, 19, 20, 20, 20, 21, 21, 21, 22, 22, 22, 23, 23, 23, 24, 24, 24, 25, 25, 25, 26, 26, 26, 27, 27, 27, 28, 28, 28, 29, 29, 29, 30, 30, 30, 31, 31, 31, 32, 32, 32, 33, 33, 33, 34, 34, 34, 35, 35, 35, 36, 36, 36, 37, 37, 37, 38, 38, 38, 39, 39, 39, 40, 40, 40, 41, 41, 41, 42, 42, 42, 43, 43, 43, 44, 44, 44, 45, 45, 45, 46, 46, 46, 47, 47, 47, 48, 48, 48, 49, 49, 49, 50, 50, 50, 51, 51, 51, 52, 52, 52, 53, 53, 53, 54, 54, 54, 55, 55, 55, 56, 56, 56, 57, 57, 57, 58, 58, 58, 59, 59, 59, 60, 60, 60, 61, 61, 61, 62, 62, 62, 63, 63, 63, 64, 64, 64, 65, 65, 65, 66, 66, 66, 67, 67, 67, 68, 68, 68, 69, 69, 69, 70, 70, 70]\n",
      "213\n",
      "213\n",
      "213\n",
      "213\n",
      "213\n",
      "source video grp-ffd863cb-f06b-404e-a013-54acb61f1ed9\n",
      "0.3635432287456949\n",
      "0.3635432287456949\n",
      "0.3554673697559144\n"
     ]
    }
   ],
   "source": [
    "# core activity and goal description \n",
    "import openai\n",
    "openai.api_key = os.getenv(\"OPENAI_API_KEY\")  \n",
    "\n",
    "# def get_embedding(text):\n",
    "#     response = client.embeddings.create(\n",
    "#         model=\"text-embedding-3-large\",\n",
    "#         input=text\n",
    "#     )\n",
    "#     return response.data[0].embedding\n",
    "\n",
    "def get_embedding(text):\n",
    "    response = openai.embeddings.create(\n",
    "        model=\"text-embedding-3-large\",\n",
    "        input=[text]\n",
    "    )\n",
    "    return response.data[0].embedding\n",
    "\n",
    "\n",
    "source_idx_list = [i for i in range(213//3) for _ in range(3)]\n",
    "print(source_idx_list)\n",
    "print(len(source_idx_list))\n",
    "goalsim1 = []\n",
    "goalsim2 = []\n",
    "goalsim3 = []\n",
    "goalsim4 = []\n",
    "print(len(df_eval_rag))\n",
    "print(len(df_eval_norag))\n",
    "print(len(df_eval_raggoal))\n",
    "print(len(df_eval_noraggoal))\n",
    "\n",
    "\n",
    "\n",
    "for i in range(len(source_idx_list)-1, len(source_idx_list)):\n",
    "    # print(i)\n",
    "    source_video_idx = source_idx_list[i]\n",
    "    goalstep_test_video_list = database_init.goalstep_test_video_list\n",
    "    source_goalstep_video = goalstep_test_video_list[source_video_idx]    \n",
    "\n",
    "    print( f\"source video {source_goalstep_video['video_uid']}\" )\n",
    "    # print( f\"goal_desc {source_goalstep_video['goal_description']}\" )\n",
    "    # print( f\"core_activity {df_eval_rag.iloc[i]['core_activity']}\" )\n",
    "\n",
    "    \n",
    "    embedding_description = get_embedding(source_goalstep_video['goal_description'])\n",
    "    embedding_rag = get_embedding(df_eval_rag.iloc[i]['core_activity'])\n",
    "    embedding_norag = get_embedding(df_eval_norag.iloc[i]['core_activity'])\n",
    "    embedding_raggoal = get_embedding(df_eval_raggoal.iloc[i]['core_activity'])\n",
    "    # embedding_noraggoal = get_embedding(df_eval_noraggoal.iloc[i]['core_activity'])\n",
    "\n",
    "    similarity1 = cosine_similarity(np.array(embedding_description), np.array(embedding_rag))\n",
    "    similarity2 = cosine_similarity(np.array(embedding_description), np.array(embedding_norag))\n",
    "    similarity3 = cosine_similarity(np.array(embedding_description), np.array(embedding_raggoal))\n",
    "    # similarity4 = cosine_similarity(np.array(embedding_description), np.array(embedding_noraggoal))\n",
    "    \n",
    "    print(similarity1)\n",
    "    print(similarity2)\n",
    "    print(similarity3)\n",
    "    goalsim1.append(similarity1)\n",
    "    goalsim2.append(similarity2)\n",
    "    goalsim3.append(similarity3)\n",
    "    # goalsim4.append(similarity4)\n",
    "\n",
    "# print(goalsim1)\n",
    "# print(goalsim2)\n",
    "# print(goalsim3)\n",
    "# print(goalsim4)\n",
    "# print(len(goalsim1))\n",
    "# print(len(goalsim2))\n",
    "# print(len(goalsim3))\n",
    "# print(len(goalsim4))\n"
   ]
  },
  {
   "cell_type": "code",
   "execution_count": 73,
   "id": "6ed6191e",
   "metadata": {},
   "outputs": [
    {
     "name": "stdout",
     "output_type": "stream",
     "text": [
      "nan\n"
     ]
    }
   ],
   "source": [
    "\n",
    "\n",
    "\n",
    "# print(goalsim1)\n",
    "# print(goalsim2)\n",
    "# print(goalsim3)\n",
    "# print(goalsim4)\n",
    "\n",
    "\n",
    "print(df_eval_noraggoal.iloc[212]['core_activity'])\n"
   ]
  },
  {
   "cell_type": "code",
   "execution_count": 76,
   "id": "9779989c",
   "metadata": {},
   "outputs": [],
   "source": [
    "similarity1=[0.5778636637447012, 0.582974897182386, 0.5778284959124516, 0.679542106957833, 0.6436508520286807, 0.679542106957833, 0.5483460386832888, 0.5483244494789303, 0.5483460386832888, 0.7705137145340148, 0.7114514054869984, 0.7704460845681002, 0.6325576995118218, 0.589508238521243, 0.6325802688691654, 0.7744213595688373, 0.7398820411007674, 0.5409185542065786, 0.6721210949151936, 0.6720836780494432, 0.6720195044491901, 0.6128996927323961, 0.6128996927323961, 0.9170288585563074, 0.38617919327804573, 0.38616453838135334, 0.38616453838135334, 0.6776448207915785, 0.6774544468701627, 0.6774373890014296, 0.6524793125515148, 0.6525233548081956, 0.670201359262916, 0.4307649610668214, 0.4307649610668214, 0.4307649610668214, 0.3341355650824397, 0.3449026844302219, 0.34481826961991596, 0.5408675552746434, 0.5408675552746434, 0.5408675552746434, 0.25735798506004315, 0.25735798506004315, 0.25740455906370646, 0.47624672582462374, 0.47624672582462374, 0.47624672582462374, 0.39301777440782615, 0.49765122250028365, 0.39301777440782615, 0.557090942972094, 0.5771974724641636, 0.557090942972094, 0.4485141151772602, 0.4485141151772602, 0.47506154443901544, 0.4334910297085468, 0.5417568548473599, 0.4334252189112176, 0.41317893804230205, 0.41317893804230205, 0.41317893804230205, 0.46969598025622333, 0.5449208303465614, 0.46969598025622333, 0.40548632929391404, 0.40548632929391404, 0.405457356015192, 0.3537378236832194, 0.327415362723898, 0.28218294778507513, 0.7990514287184614, 0.7990301388946973, 0.799024608484631, 0.5130483000828613, 0.5130483000828613, 0.5105820987928431, 0.7256648965939693, 0.7256076255241531, 0.7256648965939693, 0.7185290119506106, 0.7185290119506106, 0.7185290119506106, 0.694718896076403, 0.6953022099977036, 0.6946641376601989, 0.31455895726994637, 0.3145525152162654, 0.31455895726994637, 0.39875130558791905, 0.3716429506872173, 0.35314196562446726, 0.6285916440317936, 0.642838133007802, 0.6429188955606232, 0.47691026331058317, 0.47697190561478203, 0.47691026331058317, 0.6174370690258875, 0.46157274897942474, 0.5000071258394309, 0.48498613071790553, 0.46351202318495677, 0.46351202318495677, 0.58557187586642, 0.58557187586642, 0.6204193597294554, 0.5091187335232681, 0.5092528369782692, 0.5092528369782692, 0.7404215830750367, 0.8694092606356736, 0.8694092606356736, 0.24217799988440128, 0.23732106742165782, 0.2373130580573219, 0.8149869618463819, 0.7498228569221376, 0.7425164077638325, 0.8656840941652026, 0.8657080815203794, 0.8657106529747386, 0.36641605672488886, 0.36818186308539075, 0.36646057762948997, 0.5392093997243067, 0.5354907616252497, 0.5392093997243067, 0.3536987994290063, 0.3537155061089267, 0.3536987994290063, 0.5842487748233518, 0.5842487748233518, 0.5842487748233518, 0.39239496621408587, 0.392341865014541, 0.39232670906738404, 0.8384815217604682, 0.8384815217604682, 0.8384815217604682, 0.7819107090333783, 0.7819486540111621, 0.7819486540111621, 0.288233010676044, 0.2882415571862892, 0.3942077396363303, 0.3264425575590685, 0.3264425575590685, 0.326457788439521, 0.759013486352823, 0.759013486352823, 0.3888195020888615, 0.7022789744280139, 0.7022031191369117, 0.7022789744280139, 0.8880398760549424, 0.8880398760549424, 0.8880398760549424, 0.15617376813290915, 0.1561892127473618, 0.15621627919879916, 0.8286782017357481, 0.8287067495860981, 0.8287086633468697, 0.6902239526782921, 0.6902239526782921, 0.6902407850367202, 0.5657193507809647, 0.5657193507809647, 0.5657193507809647, 0.802242057720892, 0.8527690418801647, 0.802242057720892, 0.3840288234517097, 0.38402441601749604, 0.38405652780516053, 0.3163796451963766, 0.3162978737220522, 0.3163059454093794, 0.2071106597824005, 0.20704985895654948, 0.20704985895654948, 0.424802837304989, 0.4247564309672468, 0.4247564309672468, 0.2640132208018344, 0.2516608417257411, 0.3460022145615208, 0.48814310725734567, 0.48811644564481355, 0.48817151553652377, 0.37158770884013037, 0.37158770884013037, 0.37158770884013037, 0.4694627188763364, 0.46945173854990163, 0.46966188459974356, 0.297615841041411, 0.27882005118197617, 0.29768904663996737, 0.30569686977128474, 0.30569686977128474, 0.30569686977128474, 0.6143577430185075, 0.6143577430185075, 0.6159759291964962, 0.41502221316017135, 0.3858066630117833, 0.41502221316017135, 0.3635975122682438, 0.36351278362222283, 0.3635432287456949]\n",
    "\n",
    "similarity2=[0.7996235604519438, 0.7505865952990389, 0.7996235604519438, 0.6436508520286807, 0.679542106957833, 0.6794971893555375, 0.7320037325458781, 0.7320037325458781, 0.7320037325458781, 0.7705137145340148, 0.7704460845681002, 0.7704460845681002, 0.6195611824309806, 0.6564771219018858, 0.6564771219018858, 0.599551425086088, 0.599551425086088, 0.599551425086088, 0.6795807740859883, 0.6795807740859883, 0.6795398046747823, 0.6128996927323961, 0.6128472696622601, 0.612620617315679, 0.4657714873033477, 0.20313262958748873, 0.39504171853899084, 0.7649170809251293, 0.764915047233493, 0.7649170809251293, 0.6524793125515148, 0.6524793125515148, 0.6525446777159358, 0.5525842145325672, 0.5525842145325672, 0.5525842145325672, 0.34481826961991596, 0.34493624171027965, 0.3341355650824397, 0.47463767200835677, 0.4173317130907538, 0.4173317130907538, 0.25735798506004315, 0.25735798506004315, 0.25740455906370646, 0.24114346770797848, 0.24114346770797848, 0.24114346770797848, 0.39301777440782615, 0.39301777440782615, 0.3929758471263424, 0.557090942972094, 0.5570454022578315, 0.5821714822114508, 0.38144611408149326, 0.38144611408149326, 0.4778488601035727, 0.4334399678317037, 0.4334910297085468, 0.3889500607898847, 0.41317893804230205, 0.41317893804230205, 0.41317893804230205, 0.3342417043450787, 0.32670115062055255, 0.2115945539073312, 0.6193084465542829, 0.5306282769504033, 0.5305833853058023, 0.3537378236832194, 0.28218294778507513, 0.3274435296222377, 0.9999990476852048, 1.0000000000000002, 1.0000000000000002, 0.6883347525012372, 0.6883347525012372, 0.6883901056645582, 0.7256648965939693, 0.7256648965939693, 0.7256648965939693, 0.7185290119506106, 0.7185290119506106, 0.7185019419849975, 0.8122172870606168, 0.722075916267506, 0.7668273862143209, 0.2667124786106884, 0.2560461838570885, 0.2667124786106884, 0.42829135875632385, 0.5143416302458235, 0.5143416302458235, 0.6410740422148599, 0.6410094370177746, 0.6086836907165005, 0.4766499775347174, 0.47678595257763273, 0.47691026331058317, 0.45187513955106356, 0.4018062534042619, 0.5000071258394309, 0.4213888619221459, 0.4213888619221459, 0.4852134484021161, 0.5503958158059123, 0.5913557728459251, 0.6113648383049102, 0.7736734667830533, 0.7737222874939718, 0.7736734667830533, 0.7404215830750367, 0.9244798511819445, 0.7650925456542989, 0.27224746109117215, 0.32798163716781703, 0.27224746109117215, 0.7607327962167714, 0.7348161895346612, 0.7348161895346612, 0.6500383353623543, 0.8657080815203794, 0.6500383353623543, 0.36818186308539075, 0.43328299888071914, 0.43328299888071914, 0.5392093997243067, 0.5354948361740165, 0.7783033052822609, 0.3258342116272503, 0.37977927517293525, 0.325877058550351, 0.3477622829198257, 0.3477622829198257, 0.3477622829198257, 0.576387278165039, 0.5762827681974464, 0.4909236111143983, 0.6549386609419069, 0.6549386609419069, 0.6504485691697728, 0.7819107090333783, 0.7819486540111621, 0.7819486540111621, 0.39426312404259073, 0.39416837651442194, 0.3942077396363303, 0.29999394555258685, 0.29999394555258685, 0.29999394555258685, 0.7357665174821139, 0.8062754777540277, 0.8062047200285555, 0.5941204018230147, 0.6856537158862475, 0.6700350676500797, 0.7356055439272154, 0.7356055439272154, 0.8880398760549424, 0.3422956525409453, 0.15617376813290915, 0.15621627919879916, 0.8730221860260554, 0.8287067495860981, 0.8730870722227939, 0.6402869377846522, 0.6402869377846522, 0.6402869377846522, 0.5657193507809647, 0.5657193507809647, 0.5907343930279394, 0.31813734142869177, 0.31813734142869177, 0.31813734142869177, 0.38402441601749604, 0.38402441601749604, 0.38405652780516053, 0.35820882180326863, 0.358128139481723, 0.3581322513426185, 0.5494294845609967, 0.5483328600379044, 0.5483328600379044, 0.4247564309672468, 0.4247564309672468, 0.4247564309672468, 0.3460022145615208, 0.3460022145615208, 0.3460022145615208, 0.48814310725734567, 0.4879851016346898, 0.48817151553652377, 0.3708752421102667, 0.3708752421102667, 0.3708752421102667, 0.33176599344548674, 0.3317678923614604, 0.331836535311467, 0.2975600471762408, 0.29760426389670497, 0.2976428498952826, 0.3875111405078753, 0.2134181406633088, 0.29705268133757046, 0.6143352668811315, 0.6143577430185075, 0.6159759291964962, 0.38572190201429807, 0.3858066630117833, 0.38572190201429807, 0.3635432287456949, 0.36351278362222283, 0.3635432287456949]\n",
    "\n",
    "similarity3=[0.5778636637447012, 0.5288657114684102, 0.7505865952990389, 0.679542106957833, 0.6436508520286807, 0.679542106957833, 0.5483460386832888, 0.5483460386832888, 0.5483244494789303, 0.7704718372343412, 0.7704460845681002, 0.7114514054869984, 0.6325576995118218, 0.6325055302380096, 0.6325576995118218, 0.414218467100062, 0.6640661398728127, 0.5409185542065786, 0.6720836780494432, 0.6720735856117708, 0.6720195044491901, 0.6127659869831276, 0.9171258990300409, 0.6125051416064842, 0.38617919327804573, 0.38616453838135334, 0.38616453838135334, 0.6776448207915785, 0.6774544468701627, 0.6776448207915785, 0.6524793125515148, 0.6524793125515148, 0.6505302253966202, 0.4307649610668214, 0.4307649610668214, 0.5299917696601006, 0.34481826961991596, 0.3449026844302219, 0.34481826961991596, 0.5409736326405354, 0.5408581214383286, 0.5408675552746434, 0.25735798506004315, 0.25735798506004315, 0.25740455906370646, 0.47624672582462374, 0.47624672582462374, 0.47624672582462374, 0.3930446203143297, 0.39301777440782615, 0.39301777440782615, 0.557090942972094, 0.5570454022578315, 0.5772453993548398, 0.4485079138766565, 0.4485079138766565, 0.47506154443901544, 0.4334399678317037, 0.4334399678317037, 0.4334252189112176, 0.41317893804230205, 0.41317893804230205, 0.41317893804230205, 0.46969598025622333, 0.5449208303465614, 0.5449997886000024, 0.40548632929391404, 0.4970282185559906, 0.4970282185559906, 0.28218294778507513, 0.28218294778507513, 0.28218294778507513, 0.7990570154990193, 0.7990301388946973, 0.7990301388946973, 0.5130483000828613, 0.5130483000828613, 0.5131138850628956, 0.7255885938699029, 0.7256648965939693, 0.7256648965939693, 0.7185290119506106, 0.7185290119506106, 0.7185290119506106, 0.6946641376601989, 0.6953022099977036, 0.6946641376601989, 0.2667124786106884, 0.2667021408313746, 0.2668055258279286, 0.39870736531877793, 0.35314196562446726, 0.3986729482988898, 0.6429188955606232, 0.6428083737808097, 0.6095063321715317, 0.47691026331058317, 0.47697190561478203, 0.47691026331058317, 0.417379556202661, 0.46157274897942474, 0.5242472500157076, 0.46351202318495677, 0.46351202318495677, 0.46351202318495677, 0.58557187586642, 0.58557187586642, 0.5854939594757615, 0.5092528369782692, 0.5092528369782692, 0.5092528369782692, 0.7404215830750367, 0.8694092606356736, 0.8694092606356736, 0.23725992928251763, 0.2373017251284376, 0.2373395152809405, 0.8149869618463819, 0.8149869618463819, 0.8149869618463819, 0.8657080815203794, 0.9369673319166362, 0.8657080815203794, 0.3805374380176047, 0.36641605672488886, 0.36641605672488886, 0.5392093997243067, 0.5392093997243067, 0.5869211011380445, 0.3536987994290063, 0.3536987994290063, 0.35357590117844645, 0.5842487748233518, 0.6767207897245249, 0.5842487748233518, 0.5762827681974464, 0.5762827681974464, 0.5762827681974464, 0.8384815217604682, 0.8384815217604682, 0.8384815217604682, 0.7819107090333783, 0.8575444327174657, 0.7819486540111621, 0.4136796921561715, 0.41377001763415255, 0.41374766049197453, 0.3439123460363413, 0.3439123460363413, 0.3439123460363413, 0.8062754777540277, 0.8062754777540277, 0.8062870615221797, 0.6904757732600394, 0.6903388598181182, 0.7023493254416503, 0.8879926991317313, 0.8880398760549424, 0.8880398760549424, 0.3422956525409453, 0.3422956525409453, 0.3423464966458499, 0.8730179396188357, 0.8730489733201523, 0.8730347176085927, 0.6902239526782921, 0.6902239526782921, 0.6902239526782921, 0.5657278797861705, 0.5657193507809647, 0.5657193507809647, 0.8527690418801647, 0.8527690418801647, 0.8527690418801647, 0.3828513357473356, 0.3828513357473356, 0.38405652780516053, 0.38377099442860574, 0.3836636332675569, 0.3163059454093794, 0.2071106597824005, 0.20704985895654948, 0.20704985895654948, 0.4248504687858718, 0.4247564309672468, 0.4247564309672468, 0.34605683543463245, 0.37048023602627206, 0.3460022145615208, 0.48814310725734567, 0.5662033297113395, 0.48817151553652377, 0.3717235643101799, 0.37158770884013037, 0.37166395839971983, 0.33181086832705087, 0.3317678923614604, 0.3317678923614604, 0.29768904663996737, 0.29760426389670497, 0.29768904663996737, 0.31969505696804457, 0.31969505696804457, 0.31969505696804457, 0.6143805774511554, 0.6143577430185075, 0.6160613476825003, 0.41502221316017135, 0.41523315091362273, 0.41502221316017135, 0.3554673697559144, 0.3554461884755766, 0.3554673697559144]\n",
    "\n",
    "similarity4=[0.7996178039719462, 0.7996235604519438, 0.7996235604519438, 0.6436508520286807, 0.679542106957833, 0.6436508520286807, 0.7320037325458781, 0.7320037325458781, 0.7320037325458781, 0.7115154397011639, 0.7114514054869984, 0.7114514054869984, 0.6564771219018858, 0.6195611824309806, 0.6564771219018858, 0.5409185542065786, 0.5409185542065786, 0.6939536245733913, 0.6795807740859883, 0.6796486575140407, 0.6796076304763963, 0.9171258990300409, 0.9171258990300409, 0.612620617315679, 0.20313083977553706, 0.3208506631680508, 0.3208506631680508, 0.7794989653981197, 0.7795192267816579, 0.7649170809251293, 0.6524793125515148, 0.6504668483546245, 0.6525446777159358, 0.4307729090334659, 0.5525842145325672, 0.5299917696601006, 0.34481826961991596, 0.3449026844302219, 0.34481826961991596, 0.47463767200835677, 0.4459158334549976, 0.4459158334549976, 0.25735798506004315, 0.25735798506004315, 0.25740455906370646, 0.24114346770797848, 0.26775656944858295, 0.26775656944858295, 0.39301777440782615, 0.48872364223878695, 0.39306210866100283, 0.5772453993548398, 0.5570454022578315, 0.557090942972094, 0.38144611408149326, 0.557809225939174, 0.5779192776006947, 0.35726532204282196, 0.35723224609372767, 0.5681735106693954, 0.41317893804230205, 0.41317893804230205, 0.24116236726877782, 0.2115945539073312, 0.2115945539073312, 0.29844246944636915, 0.5856682077186474, 0.47934288325742186, 0.3962591664944082, 0.28218294778507513, 0.28218294778507513, 0.22635945603263277, 0.9999988481092739, 1.0000000000000002, 0.2433398790108244, 0.6883347525012372, 0.7473739674968358, 0.3128370824761476, 0.7256648965939693, 0.7256648965939693, 0.24499570334188261, 0.7185290119506106, 0.7185290119506106, 0.5040466211395173, 0.7868334784371397, 0.7875603183730187, 0.1699766706049419, 0.26667093098174727, 0.2667021408313746, 0.6117501152154342, 0.42829135875632385, 0.5058670445650845, 0.15706870803437306, 0.6095693947541161, 0.642838133007802, 0.3700493565910048, 0.47691026331058317, 0.47697190561478203, 0.48057134445695565, 0.5000071258394309, 0.5000071258394309, 0.4311498535534553, 0.46351202318495677, 0.46351202318495677, 0.3956308710183561, 0.5880632322564892, 0.588022717344352, 0.3216653695321419, 0.7736734667830533, 0.7736734667830533, 0.2924321789723051, 0.7404215830750367, 0.8694092606356736, 0.2756253468070174, 0.28664975552354893, 0.30445971136266287, 0.46634990204565213, 0.7464019448671273, 0.7463725148463364, 0.46068080723455906, 0.6500383353623543, 0.8657080815203794, 0.15386844809976025, 0.36818186308539075, 0.21181141521725882, 0.46075322546182373, 0.5392093997243067, 0.5392093997243067, 0.2319507154359239, 0.3258342116272503, 0.3258342116272503, 0.45309729531887344, 0.34777867289549913, 0.3477622829198257, 0.7303546638186429, 0.5332372981172988, 0.5332372981172988, 0.34257959198165233, 0.6363427461310018, 0.4503668324761578, 0.2761825250493331, 0.7819107090333783, 0.7819486540111621, 0.2880296846869825, 0.39426312404259073, 0.39422533353550376, 0.30232552747292296, 0.33296845229741784, 0.29999394555258685, 0.2804620066292179, 0.8062754777540277, 0.8062754777540277, 0.3651027086080847, 0.5825433067342715, 0.5681005811711672, 0.27402620322886195, 0.7357555403309295, 0.8296916049990913, 0.23891567533089933, 0.3422956525409453, 0.3422140508571025, 0.17895441438393675, 0.4271521928344502, 0.8731207816122872, 0.35288908579206346, 0.6402869377846522, 0.650095419001682, 0.3063408726693606, 0.5657193507809647, 0.5907343930279394, 0.15598540689036158, 0.31813734142869177, 0.31813734142869177, 0.3178492487568545, 0.3784611241090053, 0.38402441601749604, 0.29956224657972613, 0.35820882180326863, 0.358128139481723, 0.24903681285567372, 0.606139589313755, 0.5483328600379044, 0.2494083666589625, 0.3627308807276851, 0.3627308807276851, 0.2614685568607895, 0.3460022145615208, 0.37044235748775217, 0.27965085485004154, 0.48814310725734567, 0.48811644564481355, 0.270714289815975, 0.3708752421102667, 0.3548131020552908, 0.34733487186790357, 0.33176599344548674, 0.3317678923614604, 0.48059125145868714, 0.29768904663996737, 0.29760426389670497, 0.13097831408376076, 0.2134181406633088, 0.2134181406633088, 0.15047240374899282, 0.6343406953564659, 0.6143577430185075, 0.3461291874226403, 0.38572190201429807, 0.3858066630117833, 0.379131535852987, 0.3635432287456949, 0.36351278362222283, 0.0]"
   ]
  },
  {
   "cell_type": "code",
   "execution_count": 85,
   "id": "6fe15921",
   "metadata": {},
   "outputs": [
    {
     "name": "stdout",
     "output_type": "stream",
     "text": [
      "Mean of goal_sim: 0.525870\n",
      "Standard Deviation of goal_sim: 0.183792\n",
      "Median of goal_sim: 0.509119\n",
      "Mean of goal_sim: 0.527884\n",
      "Standard Deviation of goal_sim: 0.188357\n",
      "Median of goal_sim: 0.530583\n",
      "Mean of goal_sim: 0.535422\n",
      "Standard Deviation of goal_sim: 0.183184\n",
      "Median of goal_sim: 0.513114\n",
      "Mean of goal_sim: 0.475869\n",
      "Standard Deviation of goal_sim: 0.200216\n",
      "Median of goal_sim: 0.445916\n"
     ]
    },
    {
     "data": {
      "application/vnd.plotly.v1+json": {
       "config": {
        "plotlyServerURL": "https://plot.ly"
       },
       "data": [
        {
         "hovertemplate": "inclusion_ratio=%{x}<br>goal_sim=%{y}<extra></extra>",
         "legendgroup": "",
         "marker": {
          "color": "#636efa",
          "symbol": "circle"
         },
         "mode": "markers",
         "name": "",
         "orientation": "v",
         "showlegend": false,
         "type": "scatter",
         "x": {
          "bdata": "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",
          "dtype": "f8"
         },
         "xaxis": "x",
         "y": {
          "bdata": "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",
          "dtype": "f8"
         },
         "yaxis": "y"
        }
       ],
       "layout": {
        "legend": {
         "tracegroupgap": 0
        },
        "template": {
         "data": {
          "bar": [
           {
            "error_x": {
             "color": "#2a3f5f"
            },
            "error_y": {
             "color": "#2a3f5f"
            },
            "marker": {
             "line": {
              "color": "#E5ECF6",
              "width": 0.5
             },
             "pattern": {
              "fillmode": "overlay",
              "size": 10,
              "solidity": 0.2
             }
            },
            "type": "bar"
           }
          ],
          "barpolar": [
           {
            "marker": {
             "line": {
              "color": "#E5ECF6",
              "width": 0.5
             },
             "pattern": {
              "fillmode": "overlay",
              "size": 10,
              "solidity": 0.2
             }
            },
            "type": "barpolar"
           }
          ],
          "carpet": [
           {
            "aaxis": {
             "endlinecolor": "#2a3f5f",
             "gridcolor": "white",
             "linecolor": "white",
             "minorgridcolor": "white",
             "startlinecolor": "#2a3f5f"
            },
            "baxis": {
             "endlinecolor": "#2a3f5f",
             "gridcolor": "white",
             "linecolor": "white",
             "minorgridcolor": "white",
             "startlinecolor": "#2a3f5f"
            },
            "type": "carpet"
           }
          ],
          "choropleth": [
           {
            "colorbar": {
             "outlinewidth": 0,
             "ticks": ""
            },
            "type": "choropleth"
           }
          ],
          "contour": [
           {
            "colorbar": {
             "outlinewidth": 0,
             "ticks": ""
            },
            "colorscale": [
             [
              0,
              "#0d0887"
             ],
             [
              0.1111111111111111,
              "#46039f"
             ],
             [
              0.2222222222222222,
              "#7201a8"
             ],
             [
              0.3333333333333333,
              "#9c179e"
             ],
             [
              0.4444444444444444,
              "#bd3786"
             ],
             [
              0.5555555555555556,
              "#d8576b"
             ],
             [
              0.6666666666666666,
              "#ed7953"
             ],
             [
              0.7777777777777778,
              "#fb9f3a"
             ],
             [
              0.8888888888888888,
              "#fdca26"
             ],
             [
              1,
              "#f0f921"
             ]
            ],
            "type": "contour"
           }
          ],
          "contourcarpet": [
           {
            "colorbar": {
             "outlinewidth": 0,
             "ticks": ""
            },
            "type": "contourcarpet"
           }
          ],
          "heatmap": [
           {
            "colorbar": {
             "outlinewidth": 0,
             "ticks": ""
            },
            "colorscale": [
             [
              0,
              "#0d0887"
             ],
             [
              0.1111111111111111,
              "#46039f"
             ],
             [
              0.2222222222222222,
              "#7201a8"
             ],
             [
              0.3333333333333333,
              "#9c179e"
             ],
             [
              0.4444444444444444,
              "#bd3786"
             ],
             [
              0.5555555555555556,
              "#d8576b"
             ],
             [
              0.6666666666666666,
              "#ed7953"
             ],
             [
              0.7777777777777778,
              "#fb9f3a"
             ],
             [
              0.8888888888888888,
              "#fdca26"
             ],
             [
              1,
              "#f0f921"
             ]
            ],
            "type": "heatmap"
           }
          ],
          "histogram": [
           {
            "marker": {
             "pattern": {
              "fillmode": "overlay",
              "size": 10,
              "solidity": 0.2
             }
            },
            "type": "histogram"
           }
          ],
          "histogram2d": [
           {
            "colorbar": {
             "outlinewidth": 0,
             "ticks": ""
            },
            "colorscale": [
             [
              0,
              "#0d0887"
             ],
             [
              0.1111111111111111,
              "#46039f"
             ],
             [
              0.2222222222222222,
              "#7201a8"
             ],
             [
              0.3333333333333333,
              "#9c179e"
             ],
             [
              0.4444444444444444,
              "#bd3786"
             ],
             [
              0.5555555555555556,
              "#d8576b"
             ],
             [
              0.6666666666666666,
              "#ed7953"
             ],
             [
              0.7777777777777778,
              "#fb9f3a"
             ],
             [
              0.8888888888888888,
              "#fdca26"
             ],
             [
              1,
              "#f0f921"
             ]
            ],
            "type": "histogram2d"
           }
          ],
          "histogram2dcontour": [
           {
            "colorbar": {
             "outlinewidth": 0,
             "ticks": ""
            },
            "colorscale": [
             [
              0,
              "#0d0887"
             ],
             [
              0.1111111111111111,
              "#46039f"
             ],
             [
              0.2222222222222222,
              "#7201a8"
             ],
             [
              0.3333333333333333,
              "#9c179e"
             ],
             [
              0.4444444444444444,
              "#bd3786"
             ],
             [
              0.5555555555555556,
              "#d8576b"
             ],
             [
              0.6666666666666666,
              "#ed7953"
             ],
             [
              0.7777777777777778,
              "#fb9f3a"
             ],
             [
              0.8888888888888888,
              "#fdca26"
             ],
             [
              1,
              "#f0f921"
             ]
            ],
            "type": "histogram2dcontour"
           }
          ],
          "mesh3d": [
           {
            "colorbar": {
             "outlinewidth": 0,
             "ticks": ""
            },
            "type": "mesh3d"
           }
          ],
          "parcoords": [
           {
            "line": {
             "colorbar": {
              "outlinewidth": 0,
              "ticks": ""
             }
            },
            "type": "parcoords"
           }
          ],
          "pie": [
           {
            "automargin": true,
            "type": "pie"
           }
          ],
          "scatter": [
           {
            "fillpattern": {
             "fillmode": "overlay",
             "size": 10,
             "solidity": 0.2
            },
            "type": "scatter"
           }
          ],
          "scatter3d": [
           {
            "line": {
             "colorbar": {
              "outlinewidth": 0,
              "ticks": ""
             }
            },
            "marker": {
             "colorbar": {
              "outlinewidth": 0,
              "ticks": ""
             }
            },
            "type": "scatter3d"
           }
          ],
          "scattercarpet": [
           {
            "marker": {
             "colorbar": {
              "outlinewidth": 0,
              "ticks": ""
             }
            },
            "type": "scattercarpet"
           }
          ],
          "scattergeo": [
           {
            "marker": {
             "colorbar": {
              "outlinewidth": 0,
              "ticks": ""
             }
            },
            "type": "scattergeo"
           }
          ],
          "scattergl": [
           {
            "marker": {
             "colorbar": {
              "outlinewidth": 0,
              "ticks": ""
             }
            },
            "type": "scattergl"
           }
          ],
          "scattermap": [
           {
            "marker": {
             "colorbar": {
              "outlinewidth": 0,
              "ticks": ""
             }
            },
            "type": "scattermap"
           }
          ],
          "scattermapbox": [
           {
            "marker": {
             "colorbar": {
              "outlinewidth": 0,
              "ticks": ""
             }
            },
            "type": "scattermapbox"
           }
          ],
          "scatterpolar": [
           {
            "marker": {
             "colorbar": {
              "outlinewidth": 0,
              "ticks": ""
             }
            },
            "type": "scatterpolar"
           }
          ],
          "scatterpolargl": [
           {
            "marker": {
             "colorbar": {
              "outlinewidth": 0,
              "ticks": ""
             }
            },
            "type": "scatterpolargl"
           }
          ],
          "scatterternary": [
           {
            "marker": {
             "colorbar": {
              "outlinewidth": 0,
              "ticks": ""
             }
            },
            "type": "scatterternary"
           }
          ],
          "surface": [
           {
            "colorbar": {
             "outlinewidth": 0,
             "ticks": ""
            },
            "colorscale": [
             [
              0,
              "#0d0887"
             ],
             [
              0.1111111111111111,
              "#46039f"
             ],
             [
              0.2222222222222222,
              "#7201a8"
             ],
             [
              0.3333333333333333,
              "#9c179e"
             ],
             [
              0.4444444444444444,
              "#bd3786"
             ],
             [
              0.5555555555555556,
              "#d8576b"
             ],
             [
              0.6666666666666666,
              "#ed7953"
             ],
             [
              0.7777777777777778,
              "#fb9f3a"
             ],
             [
              0.8888888888888888,
              "#fdca26"
             ],
             [
              1,
              "#f0f921"
             ]
            ],
            "type": "surface"
           }
          ],
          "table": [
           {
            "cells": {
             "fill": {
              "color": "#EBF0F8"
             },
             "line": {
              "color": "white"
             }
            },
            "header": {
             "fill": {
              "color": "#C8D4E3"
             },
             "line": {
              "color": "white"
             }
            },
            "type": "table"
           }
          ]
         },
         "layout": {
          "annotationdefaults": {
           "arrowcolor": "#2a3f5f",
           "arrowhead": 0,
           "arrowwidth": 1
          },
          "autotypenumbers": "strict",
          "coloraxis": {
           "colorbar": {
            "outlinewidth": 0,
            "ticks": ""
           }
          },
          "colorscale": {
           "diverging": [
            [
             0,
             "#8e0152"
            ],
            [
             0.1,
             "#c51b7d"
            ],
            [
             0.2,
             "#de77ae"
            ],
            [
             0.3,
             "#f1b6da"
            ],
            [
             0.4,
             "#fde0ef"
            ],
            [
             0.5,
             "#f7f7f7"
            ],
            [
             0.6,
             "#e6f5d0"
            ],
            [
             0.7,
             "#b8e186"
            ],
            [
             0.8,
             "#7fbc41"
            ],
            [
             0.9,
             "#4d9221"
            ],
            [
             1,
             "#276419"
            ]
           ],
           "sequential": [
            [
             0,
             "#0d0887"
            ],
            [
             0.1111111111111111,
             "#46039f"
            ],
            [
             0.2222222222222222,
             "#7201a8"
            ],
            [
             0.3333333333333333,
             "#9c179e"
            ],
            [
             0.4444444444444444,
             "#bd3786"
            ],
            [
             0.5555555555555556,
             "#d8576b"
            ],
            [
             0.6666666666666666,
             "#ed7953"
            ],
            [
             0.7777777777777778,
             "#fb9f3a"
            ],
            [
             0.8888888888888888,
             "#fdca26"
            ],
            [
             1,
             "#f0f921"
            ]
           ],
           "sequentialminus": [
            [
             0,
             "#0d0887"
            ],
            [
             0.1111111111111111,
             "#46039f"
            ],
            [
             0.2222222222222222,
             "#7201a8"
            ],
            [
             0.3333333333333333,
             "#9c179e"
            ],
            [
             0.4444444444444444,
             "#bd3786"
            ],
            [
             0.5555555555555556,
             "#d8576b"
            ],
            [
             0.6666666666666666,
             "#ed7953"
            ],
            [
             0.7777777777777778,
             "#fb9f3a"
            ],
            [
             0.8888888888888888,
             "#fdca26"
            ],
            [
             1,
             "#f0f921"
            ]
           ]
          },
          "colorway": [
           "#636efa",
           "#EF553B",
           "#00cc96",
           "#ab63fa",
           "#FFA15A",
           "#19d3f3",
           "#FF6692",
           "#B6E880",
           "#FF97FF",
           "#FECB52"
          ],
          "font": {
           "color": "#2a3f5f"
          },
          "geo": {
           "bgcolor": "white",
           "lakecolor": "white",
           "landcolor": "#E5ECF6",
           "showlakes": true,
           "showland": true,
           "subunitcolor": "white"
          },
          "hoverlabel": {
           "align": "left"
          },
          "hovermode": "closest",
          "mapbox": {
           "style": "light"
          },
          "paper_bgcolor": "white",
          "plot_bgcolor": "#E5ECF6",
          "polar": {
           "angularaxis": {
            "gridcolor": "white",
            "linecolor": "white",
            "ticks": ""
           },
           "bgcolor": "#E5ECF6",
           "radialaxis": {
            "gridcolor": "white",
            "linecolor": "white",
            "ticks": ""
           }
          },
          "scene": {
           "xaxis": {
            "backgroundcolor": "#E5ECF6",
            "gridcolor": "white",
            "gridwidth": 2,
            "linecolor": "white",
            "showbackground": true,
            "ticks": "",
            "zerolinecolor": "white"
           },
           "yaxis": {
            "backgroundcolor": "#E5ECF6",
            "gridcolor": "white",
            "gridwidth": 2,
            "linecolor": "white",
            "showbackground": true,
            "ticks": "",
            "zerolinecolor": "white"
           },
           "zaxis": {
            "backgroundcolor": "#E5ECF6",
            "gridcolor": "white",
            "gridwidth": 2,
            "linecolor": "white",
            "showbackground": true,
            "ticks": "",
            "zerolinecolor": "white"
           }
          },
          "shapedefaults": {
           "line": {
            "color": "#2a3f5f"
           }
          },
          "ternary": {
           "aaxis": {
            "gridcolor": "white",
            "linecolor": "white",
            "ticks": ""
           },
           "baxis": {
            "gridcolor": "white",
            "linecolor": "white",
            "ticks": ""
           },
           "bgcolor": "#E5ECF6",
           "caxis": {
            "gridcolor": "white",
            "linecolor": "white",
            "ticks": ""
           }
          },
          "title": {
           "x": 0.05
          },
          "xaxis": {
           "automargin": true,
           "gridcolor": "white",
           "linecolor": "white",
           "ticks": "",
           "title": {
            "standoff": 15
           },
           "zerolinecolor": "white",
           "zerolinewidth": 2
          },
          "yaxis": {
           "automargin": true,
           "gridcolor": "white",
           "linecolor": "white",
           "ticks": "",
           "title": {
            "standoff": 15
           },
           "zerolinecolor": "white",
           "zerolinewidth": 2
          }
         }
        },
        "title": {
         "text": "Scatter Plot of inclusion_ratio vs goal_sim"
        },
        "xaxis": {
         "anchor": "y",
         "domain": [
          0,
          1
         ],
         "title": {
          "text": "inclusion_ratio"
         }
        },
        "yaxis": {
         "anchor": "x",
         "domain": [
          0,
          1
         ],
         "title": {
          "text": "goal_sim"
         }
        }
       }
      }
     },
     "metadata": {},
     "output_type": "display_data"
    },
    {
     "data": {
      "application/vnd.plotly.v1+json": {
       "config": {
        "plotlyServerURL": "https://plot.ly"
       },
       "data": [
        {
         "hovertemplate": "inclusion_ratio=%{x}<br>goal_sim=%{y}<extra></extra>",
         "legendgroup": "",
         "marker": {
          "color": "#636efa",
          "symbol": "circle"
         },
         "mode": "markers",
         "name": "",
         "orientation": "v",
         "showlegend": false,
         "type": "scatter",
         "x": {
          "bdata": "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",
          "dtype": "f8"
         },
         "xaxis": "x",
         "y": {
          "bdata": "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",
          "dtype": "f8"
         },
         "yaxis": "y"
        }
       ],
       "layout": {
        "legend": {
         "tracegroupgap": 0
        },
        "template": {
         "data": {
          "bar": [
           {
            "error_x": {
             "color": "#2a3f5f"
            },
            "error_y": {
             "color": "#2a3f5f"
            },
            "marker": {
             "line": {
              "color": "#E5ECF6",
              "width": 0.5
             },
             "pattern": {
              "fillmode": "overlay",
              "size": 10,
              "solidity": 0.2
             }
            },
            "type": "bar"
           }
          ],
          "barpolar": [
           {
            "marker": {
             "line": {
              "color": "#E5ECF6",
              "width": 0.5
             },
             "pattern": {
              "fillmode": "overlay",
              "size": 10,
              "solidity": 0.2
             }
            },
            "type": "barpolar"
           }
          ],
          "carpet": [
           {
            "aaxis": {
             "endlinecolor": "#2a3f5f",
             "gridcolor": "white",
             "linecolor": "white",
             "minorgridcolor": "white",
             "startlinecolor": "#2a3f5f"
            },
            "baxis": {
             "endlinecolor": "#2a3f5f",
             "gridcolor": "white",
             "linecolor": "white",
             "minorgridcolor": "white",
             "startlinecolor": "#2a3f5f"
            },
            "type": "carpet"
           }
          ],
          "choropleth": [
           {
            "colorbar": {
             "outlinewidth": 0,
             "ticks": ""
            },
            "type": "choropleth"
           }
          ],
          "contour": [
           {
            "colorbar": {
             "outlinewidth": 0,
             "ticks": ""
            },
            "colorscale": [
             [
              0,
              "#0d0887"
             ],
             [
              0.1111111111111111,
              "#46039f"
             ],
             [
              0.2222222222222222,
              "#7201a8"
             ],
             [
              0.3333333333333333,
              "#9c179e"
             ],
             [
              0.4444444444444444,
              "#bd3786"
             ],
             [
              0.5555555555555556,
              "#d8576b"
             ],
             [
              0.6666666666666666,
              "#ed7953"
             ],
             [
              0.7777777777777778,
              "#fb9f3a"
             ],
             [
              0.8888888888888888,
              "#fdca26"
             ],
             [
              1,
              "#f0f921"
             ]
            ],
            "type": "contour"
           }
          ],
          "contourcarpet": [
           {
            "colorbar": {
             "outlinewidth": 0,
             "ticks": ""
            },
            "type": "contourcarpet"
           }
          ],
          "heatmap": [
           {
            "colorbar": {
             "outlinewidth": 0,
             "ticks": ""
            },
            "colorscale": [
             [
              0,
              "#0d0887"
             ],
             [
              0.1111111111111111,
              "#46039f"
             ],
             [
              0.2222222222222222,
              "#7201a8"
             ],
             [
              0.3333333333333333,
              "#9c179e"
             ],
             [
              0.4444444444444444,
              "#bd3786"
             ],
             [
              0.5555555555555556,
              "#d8576b"
             ],
             [
              0.6666666666666666,
              "#ed7953"
             ],
             [
              0.7777777777777778,
              "#fb9f3a"
             ],
             [
              0.8888888888888888,
              "#fdca26"
             ],
             [
              1,
              "#f0f921"
             ]
            ],
            "type": "heatmap"
           }
          ],
          "histogram": [
           {
            "marker": {
             "pattern": {
              "fillmode": "overlay",
              "size": 10,
              "solidity": 0.2
             }
            },
            "type": "histogram"
           }
          ],
          "histogram2d": [
           {
            "colorbar": {
             "outlinewidth": 0,
             "ticks": ""
            },
            "colorscale": [
             [
              0,
              "#0d0887"
             ],
             [
              0.1111111111111111,
              "#46039f"
             ],
             [
              0.2222222222222222,
              "#7201a8"
             ],
             [
              0.3333333333333333,
              "#9c179e"
             ],
             [
              0.4444444444444444,
              "#bd3786"
             ],
             [
              0.5555555555555556,
              "#d8576b"
             ],
             [
              0.6666666666666666,
              "#ed7953"
             ],
             [
              0.7777777777777778,
              "#fb9f3a"
             ],
             [
              0.8888888888888888,
              "#fdca26"
             ],
             [
              1,
              "#f0f921"
             ]
            ],
            "type": "histogram2d"
           }
          ],
          "histogram2dcontour": [
           {
            "colorbar": {
             "outlinewidth": 0,
             "ticks": ""
            },
            "colorscale": [
             [
              0,
              "#0d0887"
             ],
             [
              0.1111111111111111,
              "#46039f"
             ],
             [
              0.2222222222222222,
              "#7201a8"
             ],
             [
              0.3333333333333333,
              "#9c179e"
             ],
             [
              0.4444444444444444,
              "#bd3786"
             ],
             [
              0.5555555555555556,
              "#d8576b"
             ],
             [
              0.6666666666666666,
              "#ed7953"
             ],
             [
              0.7777777777777778,
              "#fb9f3a"
             ],
             [
              0.8888888888888888,
              "#fdca26"
             ],
             [
              1,
              "#f0f921"
             ]
            ],
            "type": "histogram2dcontour"
           }
          ],
          "mesh3d": [
           {
            "colorbar": {
             "outlinewidth": 0,
             "ticks": ""
            },
            "type": "mesh3d"
           }
          ],
          "parcoords": [
           {
            "line": {
             "colorbar": {
              "outlinewidth": 0,
              "ticks": ""
             }
            },
            "type": "parcoords"
           }
          ],
          "pie": [
           {
            "automargin": true,
            "type": "pie"
           }
          ],
          "scatter": [
           {
            "fillpattern": {
             "fillmode": "overlay",
             "size": 10,
             "solidity": 0.2
            },
            "type": "scatter"
           }
          ],
          "scatter3d": [
           {
            "line": {
             "colorbar": {
              "outlinewidth": 0,
              "ticks": ""
             }
            },
            "marker": {
             "colorbar": {
              "outlinewidth": 0,
              "ticks": ""
             }
            },
            "type": "scatter3d"
           }
          ],
          "scattercarpet": [
           {
            "marker": {
             "colorbar": {
              "outlinewidth": 0,
              "ticks": ""
             }
            },
            "type": "scattercarpet"
           }
          ],
          "scattergeo": [
           {
            "marker": {
             "colorbar": {
              "outlinewidth": 0,
              "ticks": ""
             }
            },
            "type": "scattergeo"
           }
          ],
          "scattergl": [
           {
            "marker": {
             "colorbar": {
              "outlinewidth": 0,
              "ticks": ""
             }
            },
            "type": "scattergl"
           }
          ],
          "scattermap": [
           {
            "marker": {
             "colorbar": {
              "outlinewidth": 0,
              "ticks": ""
             }
            },
            "type": "scattermap"
           }
          ],
          "scattermapbox": [
           {
            "marker": {
             "colorbar": {
              "outlinewidth": 0,
              "ticks": ""
             }
            },
            "type": "scattermapbox"
           }
          ],
          "scatterpolar": [
           {
            "marker": {
             "colorbar": {
              "outlinewidth": 0,
              "ticks": ""
             }
            },
            "type": "scatterpolar"
           }
          ],
          "scatterpolargl": [
           {
            "marker": {
             "colorbar": {
              "outlinewidth": 0,
              "ticks": ""
             }
            },
            "type": "scatterpolargl"
           }
          ],
          "scatterternary": [
           {
            "marker": {
             "colorbar": {
              "outlinewidth": 0,
              "ticks": ""
             }
            },
            "type": "scatterternary"
           }
          ],
          "surface": [
           {
            "colorbar": {
             "outlinewidth": 0,
             "ticks": ""
            },
            "colorscale": [
             [
              0,
              "#0d0887"
             ],
             [
              0.1111111111111111,
              "#46039f"
             ],
             [
              0.2222222222222222,
              "#7201a8"
             ],
             [
              0.3333333333333333,
              "#9c179e"
             ],
             [
              0.4444444444444444,
              "#bd3786"
             ],
             [
              0.5555555555555556,
              "#d8576b"
             ],
             [
              0.6666666666666666,
              "#ed7953"
             ],
             [
              0.7777777777777778,
              "#fb9f3a"
             ],
             [
              0.8888888888888888,
              "#fdca26"
             ],
             [
              1,
              "#f0f921"
             ]
            ],
            "type": "surface"
           }
          ],
          "table": [
           {
            "cells": {
             "fill": {
              "color": "#EBF0F8"
             },
             "line": {
              "color": "white"
             }
            },
            "header": {
             "fill": {
              "color": "#C8D4E3"
             },
             "line": {
              "color": "white"
             }
            },
            "type": "table"
           }
          ]
         },
         "layout": {
          "annotationdefaults": {
           "arrowcolor": "#2a3f5f",
           "arrowhead": 0,
           "arrowwidth": 1
          },
          "autotypenumbers": "strict",
          "coloraxis": {
           "colorbar": {
            "outlinewidth": 0,
            "ticks": ""
           }
          },
          "colorscale": {
           "diverging": [
            [
             0,
             "#8e0152"
            ],
            [
             0.1,
             "#c51b7d"
            ],
            [
             0.2,
             "#de77ae"
            ],
            [
             0.3,
             "#f1b6da"
            ],
            [
             0.4,
             "#fde0ef"
            ],
            [
             0.5,
             "#f7f7f7"
            ],
            [
             0.6,
             "#e6f5d0"
            ],
            [
             0.7,
             "#b8e186"
            ],
            [
             0.8,
             "#7fbc41"
            ],
            [
             0.9,
             "#4d9221"
            ],
            [
             1,
             "#276419"
            ]
           ],
           "sequential": [
            [
             0,
             "#0d0887"
            ],
            [
             0.1111111111111111,
             "#46039f"
            ],
            [
             0.2222222222222222,
             "#7201a8"
            ],
            [
             0.3333333333333333,
             "#9c179e"
            ],
            [
             0.4444444444444444,
             "#bd3786"
            ],
            [
             0.5555555555555556,
             "#d8576b"
            ],
            [
             0.6666666666666666,
             "#ed7953"
            ],
            [
             0.7777777777777778,
             "#fb9f3a"
            ],
            [
             0.8888888888888888,
             "#fdca26"
            ],
            [
             1,
             "#f0f921"
            ]
           ],
           "sequentialminus": [
            [
             0,
             "#0d0887"
            ],
            [
             0.1111111111111111,
             "#46039f"
            ],
            [
             0.2222222222222222,
             "#7201a8"
            ],
            [
             0.3333333333333333,
             "#9c179e"
            ],
            [
             0.4444444444444444,
             "#bd3786"
            ],
            [
             0.5555555555555556,
             "#d8576b"
            ],
            [
             0.6666666666666666,
             "#ed7953"
            ],
            [
             0.7777777777777778,
             "#fb9f3a"
            ],
            [
             0.8888888888888888,
             "#fdca26"
            ],
            [
             1,
             "#f0f921"
            ]
           ]
          },
          "colorway": [
           "#636efa",
           "#EF553B",
           "#00cc96",
           "#ab63fa",
           "#FFA15A",
           "#19d3f3",
           "#FF6692",
           "#B6E880",
           "#FF97FF",
           "#FECB52"
          ],
          "font": {
           "color": "#2a3f5f"
          },
          "geo": {
           "bgcolor": "white",
           "lakecolor": "white",
           "landcolor": "#E5ECF6",
           "showlakes": true,
           "showland": true,
           "subunitcolor": "white"
          },
          "hoverlabel": {
           "align": "left"
          },
          "hovermode": "closest",
          "mapbox": {
           "style": "light"
          },
          "paper_bgcolor": "white",
          "plot_bgcolor": "#E5ECF6",
          "polar": {
           "angularaxis": {
            "gridcolor": "white",
            "linecolor": "white",
            "ticks": ""
           },
           "bgcolor": "#E5ECF6",
           "radialaxis": {
            "gridcolor": "white",
            "linecolor": "white",
            "ticks": ""
           }
          },
          "scene": {
           "xaxis": {
            "backgroundcolor": "#E5ECF6",
            "gridcolor": "white",
            "gridwidth": 2,
            "linecolor": "white",
            "showbackground": true,
            "ticks": "",
            "zerolinecolor": "white"
           },
           "yaxis": {
            "backgroundcolor": "#E5ECF6",
            "gridcolor": "white",
            "gridwidth": 2,
            "linecolor": "white",
            "showbackground": true,
            "ticks": "",
            "zerolinecolor": "white"
           },
           "zaxis": {
            "backgroundcolor": "#E5ECF6",
            "gridcolor": "white",
            "gridwidth": 2,
            "linecolor": "white",
            "showbackground": true,
            "ticks": "",
            "zerolinecolor": "white"
           }
          },
          "shapedefaults": {
           "line": {
            "color": "#2a3f5f"
           }
          },
          "ternary": {
           "aaxis": {
            "gridcolor": "white",
            "linecolor": "white",
            "ticks": ""
           },
           "baxis": {
            "gridcolor": "white",
            "linecolor": "white",
            "ticks": ""
           },
           "bgcolor": "#E5ECF6",
           "caxis": {
            "gridcolor": "white",
            "linecolor": "white",
            "ticks": ""
           }
          },
          "title": {
           "x": 0.05
          },
          "xaxis": {
           "automargin": true,
           "gridcolor": "white",
           "linecolor": "white",
           "ticks": "",
           "title": {
            "standoff": 15
           },
           "zerolinecolor": "white",
           "zerolinewidth": 2
          },
          "yaxis": {
           "automargin": true,
           "gridcolor": "white",
           "linecolor": "white",
           "ticks": "",
           "title": {
            "standoff": 15
           },
           "zerolinecolor": "white",
           "zerolinewidth": 2
          }
         }
        },
        "title": {
         "text": "Scatter Plot of inclusion_ratio vs goal_sim"
        },
        "xaxis": {
         "anchor": "y",
         "domain": [
          0,
          1
         ],
         "title": {
          "text": "inclusion_ratio"
         }
        },
        "yaxis": {
         "anchor": "x",
         "domain": [
          0,
          1
         ],
         "title": {
          "text": "goal_sim"
         }
        }
       }
      }
     },
     "metadata": {},
     "output_type": "display_data"
    },
    {
     "data": {
      "application/vnd.plotly.v1+json": {
       "config": {
        "plotlyServerURL": "https://plot.ly"
       },
       "data": [
        {
         "hovertemplate": "inclusion_ratio=%{x}<br>goal_sim=%{y}<extra></extra>",
         "legendgroup": "",
         "marker": {
          "color": "#636efa",
          "symbol": "circle"
         },
         "mode": "markers",
         "name": "",
         "orientation": "v",
         "showlegend": false,
         "type": "scatter",
         "x": {
          "bdata": "AAAAAAAAAABVVVVVVVXVP1VVVVVVVdU/HMdxHMdx7D8cx3Ecx3HsPwAAAAAAAPA/VVVVVVVV1T9VVVVVVVXlP1VVVVVVVeU/VVVVVVVV1T8AAAAAAADwPwAAAAAAAPA/mpmZmZmZ2T/sUbgehevhPzMzMzMzM+M/zczMzMzM7D8AAAAAAADwPwAAAAAAAPA/AAAAAAAA6D8AAAAAAADsPwAAAAAAAOw/AAAAAAAAAAAAAAAAAAAAAAAAAAAAAPA/MzMzMzMz4z+amZmZmZnpP83MzMzMzOw/3t3d3d3d3T9mZmZmZmbmP2ZmZmZmZuY/AAAAAAAA4T8AAAAAAADkPwAAAAAAAOQ/AAAAAAAA8D8AAAAAAADwPwAAAAAAAPA/CtejcD0K1z+4HoXrUbjeP+xRuB6F6+E/MzMzMzMz0z+amZmZmZnZP83MzMzMzNw/Tm9605ve5D9Ob3rTm97kP2QhC1nIQuY/AAAAAAAA0D8AAAAAAADkPwAAAAAAAOQ/VVVVVVVVxT9VVVVVVVXFP1VVVVVVVcU/AAAAAAAAAAAAAAAAAAAAAAAAAAAAAPA/zczMzMzM5D8AAAAAAADoPwAAAAAAAOg/AAAAAAAAAAAAAAAAAAAAAAAAAAAAAPA/VVVVVVVV5T9VVVVVVVXlPwAAAAAAAPA/q6qqqqqq2j8AAAAAAADgPwAAAAAAAOA/kiRJkiRJ0j8AAAAAAADgPyVJkiRJkuQ/AAAAAAAAAACSJEmSJEnSP5IkSZIkSdI/AAAAAAAAAAAAAAAAAAAAAAAAAAAAAPA/t23btm3b1j/btm3btm3bPwAAAAAAAOA/HMdxHMdx7D8cx3Ecx3HsPwAAAAAAAPA/Q3kN5TWU5z9DeQ3lNZTnPzaU11BeQ+k/ntiJndiJ3T/ZiZ3YiZ3oP9mJndiJneg/AAAAAAAAAAAzMzMzMzPjPzMzMzMzM+M/1ofG+tBY3z8VvJyCl1PgP5IkSZIkSeI/AAAAAAAA8D8AAAAAAADwPwAAAAAAAPA/ERERERER4T8zMzMzMzPjP3d3d3d3d+c/FDuxEzux0z+e2Imd2IndP7ETO7ETO+E/AAAAAAAA3D8AAAAAAADiPwAAAAAAAOI/zczMzMzM7D/v7u7u7u7uPwAAAAAAAPA/FDuxEzuxsz+e2Imd2InNP57YiZ3Yic0/AAAAAAAA4D+rqqqqqqrqPwAAAAAAAPA/kiRJkiRJwj+SJEmSJEnCP5IkSZIkSeI/AAAAAAAA6D8AAAAAAADsPwAAAAAAAPA/AAAAAAAA8D8AAAAAAADwPwAAAAAAAPA/mpmZmZmZyT8zMzMzMzPTPzMzMzMzM9M/JUmSJEmS5D8lSZIkSZLkP9u2bdu2bes/AAAAAAAA0D8AAAAAAADQPwAAAAAAAOg/HMdxHMdx3D8cx3Ecx3HsPxzHcRzHcew/SZIkSZIk2T8AAAAAAADoP0mSJEmSJOk/nud5nud53j96nud5nufpP3qe53me5+k/AAAAAAAAAAAAAAAAAAAAAAAAAAAAAAAAAAAAAAAA4D9iJ3ZiJ3biP2IndmInduI/mpmZmZmZyT8zMzMzMzPTP5qZmZmZmdk/kiRJkiRJwj+SJEmSJEnCP5IkSZIkSdI/t23btm3b5j/btm3btm3rPwAAAAAAAPA/t23btm3b5j87qIM6qIPqP3zFV3zFV+w/AAAAAAAA0D8AAAAAAADoPwAAAAAAAPA/WlpaWlpa2j8eHh4eHh7ePx4eHh4eHt4/ZmZmZmZm7j8AAAAAAADwPwAAAAAAAPA/x3Ecx3Ec5z8AAAAAAADwPwAAAAAAAPA/AAAAAAAAAAAAAAAAAADgPwAAAAAAAOg/7MRO7MRO7D8AAAAAAADwPwAAAAAAAPA/AAAAAAAA8D8AAAAAAADwPwAAAAAAAPA/VVVVVVVV1T+rqqqqqqraP6uqqqqqqto/AAAAAAAAAABVVVVVVVXVP1VVVVVVVdU/VVVVVVVV1T9VVVVVVVXlPzmO4ziO4+g/FDuxEzux0z/ZiZ3YiZ3YP9mJndiJndg/KK+hvIby6j82lNdQXkPpPxvKayivoew/AAAAAAAAAAAAAAAAAAAAAFVVVVVVVdU/6k1vetOb3j8hC1nIQhbiPzi96U1veuM/VVVVVVVV7T9VVVVVVVXtP1VVVVVVVe0/KK+hvIby6j8or6G8hvLqP4y0YwXCSOs/QxaykIUs5D+nN73pTW/qP8hCFrKQhew/JUmSJEmS5D8AAAAAAADoP5IkSZIkSeo/",
          "dtype": "f8"
         },
         "xaxis": "x",
         "y": {
          "bdata": "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",
          "dtype": "f8"
         },
         "yaxis": "y"
        }
       ],
       "layout": {
        "legend": {
         "tracegroupgap": 0
        },
        "template": {
         "data": {
          "bar": [
           {
            "error_x": {
             "color": "#2a3f5f"
            },
            "error_y": {
             "color": "#2a3f5f"
            },
            "marker": {
             "line": {
              "color": "#E5ECF6",
              "width": 0.5
             },
             "pattern": {
              "fillmode": "overlay",
              "size": 10,
              "solidity": 0.2
             }
            },
            "type": "bar"
           }
          ],
          "barpolar": [
           {
            "marker": {
             "line": {
              "color": "#E5ECF6",
              "width": 0.5
             },
             "pattern": {
              "fillmode": "overlay",
              "size": 10,
              "solidity": 0.2
             }
            },
            "type": "barpolar"
           }
          ],
          "carpet": [
           {
            "aaxis": {
             "endlinecolor": "#2a3f5f",
             "gridcolor": "white",
             "linecolor": "white",
             "minorgridcolor": "white",
             "startlinecolor": "#2a3f5f"
            },
            "baxis": {
             "endlinecolor": "#2a3f5f",
             "gridcolor": "white",
             "linecolor": "white",
             "minorgridcolor": "white",
             "startlinecolor": "#2a3f5f"
            },
            "type": "carpet"
           }
          ],
          "choropleth": [
           {
            "colorbar": {
             "outlinewidth": 0,
             "ticks": ""
            },
            "type": "choropleth"
           }
          ],
          "contour": [
           {
            "colorbar": {
             "outlinewidth": 0,
             "ticks": ""
            },
            "colorscale": [
             [
              0,
              "#0d0887"
             ],
             [
              0.1111111111111111,
              "#46039f"
             ],
             [
              0.2222222222222222,
              "#7201a8"
             ],
             [
              0.3333333333333333,
              "#9c179e"
             ],
             [
              0.4444444444444444,
              "#bd3786"
             ],
             [
              0.5555555555555556,
              "#d8576b"
             ],
             [
              0.6666666666666666,
              "#ed7953"
             ],
             [
              0.7777777777777778,
              "#fb9f3a"
             ],
             [
              0.8888888888888888,
              "#fdca26"
             ],
             [
              1,
              "#f0f921"
             ]
            ],
            "type": "contour"
           }
          ],
          "contourcarpet": [
           {
            "colorbar": {
             "outlinewidth": 0,
             "ticks": ""
            },
            "type": "contourcarpet"
           }
          ],
          "heatmap": [
           {
            "colorbar": {
             "outlinewidth": 0,
             "ticks": ""
            },
            "colorscale": [
             [
              0,
              "#0d0887"
             ],
             [
              0.1111111111111111,
              "#46039f"
             ],
             [
              0.2222222222222222,
              "#7201a8"
             ],
             [
              0.3333333333333333,
              "#9c179e"
             ],
             [
              0.4444444444444444,
              "#bd3786"
             ],
             [
              0.5555555555555556,
              "#d8576b"
             ],
             [
              0.6666666666666666,
              "#ed7953"
             ],
             [
              0.7777777777777778,
              "#fb9f3a"
             ],
             [
              0.8888888888888888,
              "#fdca26"
             ],
             [
              1,
              "#f0f921"
             ]
            ],
            "type": "heatmap"
           }
          ],
          "histogram": [
           {
            "marker": {
             "pattern": {
              "fillmode": "overlay",
              "size": 10,
              "solidity": 0.2
             }
            },
            "type": "histogram"
           }
          ],
          "histogram2d": [
           {
            "colorbar": {
             "outlinewidth": 0,
             "ticks": ""
            },
            "colorscale": [
             [
              0,
              "#0d0887"
             ],
             [
              0.1111111111111111,
              "#46039f"
             ],
             [
              0.2222222222222222,
              "#7201a8"
             ],
             [
              0.3333333333333333,
              "#9c179e"
             ],
             [
              0.4444444444444444,
              "#bd3786"
             ],
             [
              0.5555555555555556,
              "#d8576b"
             ],
             [
              0.6666666666666666,
              "#ed7953"
             ],
             [
              0.7777777777777778,
              "#fb9f3a"
             ],
             [
              0.8888888888888888,
              "#fdca26"
             ],
             [
              1,
              "#f0f921"
             ]
            ],
            "type": "histogram2d"
           }
          ],
          "histogram2dcontour": [
           {
            "colorbar": {
             "outlinewidth": 0,
             "ticks": ""
            },
            "colorscale": [
             [
              0,
              "#0d0887"
             ],
             [
              0.1111111111111111,
              "#46039f"
             ],
             [
              0.2222222222222222,
              "#7201a8"
             ],
             [
              0.3333333333333333,
              "#9c179e"
             ],
             [
              0.4444444444444444,
              "#bd3786"
             ],
             [
              0.5555555555555556,
              "#d8576b"
             ],
             [
              0.6666666666666666,
              "#ed7953"
             ],
             [
              0.7777777777777778,
              "#fb9f3a"
             ],
             [
              0.8888888888888888,
              "#fdca26"
             ],
             [
              1,
              "#f0f921"
             ]
            ],
            "type": "histogram2dcontour"
           }
          ],
          "mesh3d": [
           {
            "colorbar": {
             "outlinewidth": 0,
             "ticks": ""
            },
            "type": "mesh3d"
           }
          ],
          "parcoords": [
           {
            "line": {
             "colorbar": {
              "outlinewidth": 0,
              "ticks": ""
             }
            },
            "type": "parcoords"
           }
          ],
          "pie": [
           {
            "automargin": true,
            "type": "pie"
           }
          ],
          "scatter": [
           {
            "fillpattern": {
             "fillmode": "overlay",
             "size": 10,
             "solidity": 0.2
            },
            "type": "scatter"
           }
          ],
          "scatter3d": [
           {
            "line": {
             "colorbar": {
              "outlinewidth": 0,
              "ticks": ""
             }
            },
            "marker": {
             "colorbar": {
              "outlinewidth": 0,
              "ticks": ""
             }
            },
            "type": "scatter3d"
           }
          ],
          "scattercarpet": [
           {
            "marker": {
             "colorbar": {
              "outlinewidth": 0,
              "ticks": ""
             }
            },
            "type": "scattercarpet"
           }
          ],
          "scattergeo": [
           {
            "marker": {
             "colorbar": {
              "outlinewidth": 0,
              "ticks": ""
             }
            },
            "type": "scattergeo"
           }
          ],
          "scattergl": [
           {
            "marker": {
             "colorbar": {
              "outlinewidth": 0,
              "ticks": ""
             }
            },
            "type": "scattergl"
           }
          ],
          "scattermap": [
           {
            "marker": {
             "colorbar": {
              "outlinewidth": 0,
              "ticks": ""
             }
            },
            "type": "scattermap"
           }
          ],
          "scattermapbox": [
           {
            "marker": {
             "colorbar": {
              "outlinewidth": 0,
              "ticks": ""
             }
            },
            "type": "scattermapbox"
           }
          ],
          "scatterpolar": [
           {
            "marker": {
             "colorbar": {
              "outlinewidth": 0,
              "ticks": ""
             }
            },
            "type": "scatterpolar"
           }
          ],
          "scatterpolargl": [
           {
            "marker": {
             "colorbar": {
              "outlinewidth": 0,
              "ticks": ""
             }
            },
            "type": "scatterpolargl"
           }
          ],
          "scatterternary": [
           {
            "marker": {
             "colorbar": {
              "outlinewidth": 0,
              "ticks": ""
             }
            },
            "type": "scatterternary"
           }
          ],
          "surface": [
           {
            "colorbar": {
             "outlinewidth": 0,
             "ticks": ""
            },
            "colorscale": [
             [
              0,
              "#0d0887"
             ],
             [
              0.1111111111111111,
              "#46039f"
             ],
             [
              0.2222222222222222,
              "#7201a8"
             ],
             [
              0.3333333333333333,
              "#9c179e"
             ],
             [
              0.4444444444444444,
              "#bd3786"
             ],
             [
              0.5555555555555556,
              "#d8576b"
             ],
             [
              0.6666666666666666,
              "#ed7953"
             ],
             [
              0.7777777777777778,
              "#fb9f3a"
             ],
             [
              0.8888888888888888,
              "#fdca26"
             ],
             [
              1,
              "#f0f921"
             ]
            ],
            "type": "surface"
           }
          ],
          "table": [
           {
            "cells": {
             "fill": {
              "color": "#EBF0F8"
             },
             "line": {
              "color": "white"
             }
            },
            "header": {
             "fill": {
              "color": "#C8D4E3"
             },
             "line": {
              "color": "white"
             }
            },
            "type": "table"
           }
          ]
         },
         "layout": {
          "annotationdefaults": {
           "arrowcolor": "#2a3f5f",
           "arrowhead": 0,
           "arrowwidth": 1
          },
          "autotypenumbers": "strict",
          "coloraxis": {
           "colorbar": {
            "outlinewidth": 0,
            "ticks": ""
           }
          },
          "colorscale": {
           "diverging": [
            [
             0,
             "#8e0152"
            ],
            [
             0.1,
             "#c51b7d"
            ],
            [
             0.2,
             "#de77ae"
            ],
            [
             0.3,
             "#f1b6da"
            ],
            [
             0.4,
             "#fde0ef"
            ],
            [
             0.5,
             "#f7f7f7"
            ],
            [
             0.6,
             "#e6f5d0"
            ],
            [
             0.7,
             "#b8e186"
            ],
            [
             0.8,
             "#7fbc41"
            ],
            [
             0.9,
             "#4d9221"
            ],
            [
             1,
             "#276419"
            ]
           ],
           "sequential": [
            [
             0,
             "#0d0887"
            ],
            [
             0.1111111111111111,
             "#46039f"
            ],
            [
             0.2222222222222222,
             "#7201a8"
            ],
            [
             0.3333333333333333,
             "#9c179e"
            ],
            [
             0.4444444444444444,
             "#bd3786"
            ],
            [
             0.5555555555555556,
             "#d8576b"
            ],
            [
             0.6666666666666666,
             "#ed7953"
            ],
            [
             0.7777777777777778,
             "#fb9f3a"
            ],
            [
             0.8888888888888888,
             "#fdca26"
            ],
            [
             1,
             "#f0f921"
            ]
           ],
           "sequentialminus": [
            [
             0,
             "#0d0887"
            ],
            [
             0.1111111111111111,
             "#46039f"
            ],
            [
             0.2222222222222222,
             "#7201a8"
            ],
            [
             0.3333333333333333,
             "#9c179e"
            ],
            [
             0.4444444444444444,
             "#bd3786"
            ],
            [
             0.5555555555555556,
             "#d8576b"
            ],
            [
             0.6666666666666666,
             "#ed7953"
            ],
            [
             0.7777777777777778,
             "#fb9f3a"
            ],
            [
             0.8888888888888888,
             "#fdca26"
            ],
            [
             1,
             "#f0f921"
            ]
           ]
          },
          "colorway": [
           "#636efa",
           "#EF553B",
           "#00cc96",
           "#ab63fa",
           "#FFA15A",
           "#19d3f3",
           "#FF6692",
           "#B6E880",
           "#FF97FF",
           "#FECB52"
          ],
          "font": {
           "color": "#2a3f5f"
          },
          "geo": {
           "bgcolor": "white",
           "lakecolor": "white",
           "landcolor": "#E5ECF6",
           "showlakes": true,
           "showland": true,
           "subunitcolor": "white"
          },
          "hoverlabel": {
           "align": "left"
          },
          "hovermode": "closest",
          "mapbox": {
           "style": "light"
          },
          "paper_bgcolor": "white",
          "plot_bgcolor": "#E5ECF6",
          "polar": {
           "angularaxis": {
            "gridcolor": "white",
            "linecolor": "white",
            "ticks": ""
           },
           "bgcolor": "#E5ECF6",
           "radialaxis": {
            "gridcolor": "white",
            "linecolor": "white",
            "ticks": ""
           }
          },
          "scene": {
           "xaxis": {
            "backgroundcolor": "#E5ECF6",
            "gridcolor": "white",
            "gridwidth": 2,
            "linecolor": "white",
            "showbackground": true,
            "ticks": "",
            "zerolinecolor": "white"
           },
           "yaxis": {
            "backgroundcolor": "#E5ECF6",
            "gridcolor": "white",
            "gridwidth": 2,
            "linecolor": "white",
            "showbackground": true,
            "ticks": "",
            "zerolinecolor": "white"
           },
           "zaxis": {
            "backgroundcolor": "#E5ECF6",
            "gridcolor": "white",
            "gridwidth": 2,
            "linecolor": "white",
            "showbackground": true,
            "ticks": "",
            "zerolinecolor": "white"
           }
          },
          "shapedefaults": {
           "line": {
            "color": "#2a3f5f"
           }
          },
          "ternary": {
           "aaxis": {
            "gridcolor": "white",
            "linecolor": "white",
            "ticks": ""
           },
           "baxis": {
            "gridcolor": "white",
            "linecolor": "white",
            "ticks": ""
           },
           "bgcolor": "#E5ECF6",
           "caxis": {
            "gridcolor": "white",
            "linecolor": "white",
            "ticks": ""
           }
          },
          "title": {
           "x": 0.05
          },
          "xaxis": {
           "automargin": true,
           "gridcolor": "white",
           "linecolor": "white",
           "ticks": "",
           "title": {
            "standoff": 15
           },
           "zerolinecolor": "white",
           "zerolinewidth": 2
          },
          "yaxis": {
           "automargin": true,
           "gridcolor": "white",
           "linecolor": "white",
           "ticks": "",
           "title": {
            "standoff": 15
           },
           "zerolinecolor": "white",
           "zerolinewidth": 2
          }
         }
        },
        "title": {
         "text": "Scatter Plot of inclusion_ratio vs goal_sim"
        },
        "xaxis": {
         "anchor": "y",
         "domain": [
          0,
          1
         ],
         "title": {
          "text": "inclusion_ratio"
         }
        },
        "yaxis": {
         "anchor": "x",
         "domain": [
          0,
          1
         ],
         "title": {
          "text": "goal_sim"
         }
        }
       }
      }
     },
     "metadata": {},
     "output_type": "display_data"
    },
    {
     "data": {
      "application/vnd.plotly.v1+json": {
       "config": {
        "plotlyServerURL": "https://plot.ly"
       },
       "data": [
        {
         "hovertemplate": "inclusion_ratio=%{x}<br>goal_sim=%{y}<extra></extra>",
         "legendgroup": "",
         "marker": {
          "color": "#636efa",
          "symbol": "circle"
         },
         "mode": "markers",
         "name": "",
         "orientation": "v",
         "showlegend": false,
         "type": "scatter",
         "x": {
          "bdata": "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",
          "dtype": "f8"
         },
         "xaxis": "x",
         "y": {
          "bdata": "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",
          "dtype": "f8"
         },
         "yaxis": "y"
        }
       ],
       "layout": {
        "legend": {
         "tracegroupgap": 0
        },
        "template": {
         "data": {
          "bar": [
           {
            "error_x": {
             "color": "#2a3f5f"
            },
            "error_y": {
             "color": "#2a3f5f"
            },
            "marker": {
             "line": {
              "color": "#E5ECF6",
              "width": 0.5
             },
             "pattern": {
              "fillmode": "overlay",
              "size": 10,
              "solidity": 0.2
             }
            },
            "type": "bar"
           }
          ],
          "barpolar": [
           {
            "marker": {
             "line": {
              "color": "#E5ECF6",
              "width": 0.5
             },
             "pattern": {
              "fillmode": "overlay",
              "size": 10,
              "solidity": 0.2
             }
            },
            "type": "barpolar"
           }
          ],
          "carpet": [
           {
            "aaxis": {
             "endlinecolor": "#2a3f5f",
             "gridcolor": "white",
             "linecolor": "white",
             "minorgridcolor": "white",
             "startlinecolor": "#2a3f5f"
            },
            "baxis": {
             "endlinecolor": "#2a3f5f",
             "gridcolor": "white",
             "linecolor": "white",
             "minorgridcolor": "white",
             "startlinecolor": "#2a3f5f"
            },
            "type": "carpet"
           }
          ],
          "choropleth": [
           {
            "colorbar": {
             "outlinewidth": 0,
             "ticks": ""
            },
            "type": "choropleth"
           }
          ],
          "contour": [
           {
            "colorbar": {
             "outlinewidth": 0,
             "ticks": ""
            },
            "colorscale": [
             [
              0,
              "#0d0887"
             ],
             [
              0.1111111111111111,
              "#46039f"
             ],
             [
              0.2222222222222222,
              "#7201a8"
             ],
             [
              0.3333333333333333,
              "#9c179e"
             ],
             [
              0.4444444444444444,
              "#bd3786"
             ],
             [
              0.5555555555555556,
              "#d8576b"
             ],
             [
              0.6666666666666666,
              "#ed7953"
             ],
             [
              0.7777777777777778,
              "#fb9f3a"
             ],
             [
              0.8888888888888888,
              "#fdca26"
             ],
             [
              1,
              "#f0f921"
             ]
            ],
            "type": "contour"
           }
          ],
          "contourcarpet": [
           {
            "colorbar": {
             "outlinewidth": 0,
             "ticks": ""
            },
            "type": "contourcarpet"
           }
          ],
          "heatmap": [
           {
            "colorbar": {
             "outlinewidth": 0,
             "ticks": ""
            },
            "colorscale": [
             [
              0,
              "#0d0887"
             ],
             [
              0.1111111111111111,
              "#46039f"
             ],
             [
              0.2222222222222222,
              "#7201a8"
             ],
             [
              0.3333333333333333,
              "#9c179e"
             ],
             [
              0.4444444444444444,
              "#bd3786"
             ],
             [
              0.5555555555555556,
              "#d8576b"
             ],
             [
              0.6666666666666666,
              "#ed7953"
             ],
             [
              0.7777777777777778,
              "#fb9f3a"
             ],
             [
              0.8888888888888888,
              "#fdca26"
             ],
             [
              1,
              "#f0f921"
             ]
            ],
            "type": "heatmap"
           }
          ],
          "histogram": [
           {
            "marker": {
             "pattern": {
              "fillmode": "overlay",
              "size": 10,
              "solidity": 0.2
             }
            },
            "type": "histogram"
           }
          ],
          "histogram2d": [
           {
            "colorbar": {
             "outlinewidth": 0,
             "ticks": ""
            },
            "colorscale": [
             [
              0,
              "#0d0887"
             ],
             [
              0.1111111111111111,
              "#46039f"
             ],
             [
              0.2222222222222222,
              "#7201a8"
             ],
             [
              0.3333333333333333,
              "#9c179e"
             ],
             [
              0.4444444444444444,
              "#bd3786"
             ],
             [
              0.5555555555555556,
              "#d8576b"
             ],
             [
              0.6666666666666666,
              "#ed7953"
             ],
             [
              0.7777777777777778,
              "#fb9f3a"
             ],
             [
              0.8888888888888888,
              "#fdca26"
             ],
             [
              1,
              "#f0f921"
             ]
            ],
            "type": "histogram2d"
           }
          ],
          "histogram2dcontour": [
           {
            "colorbar": {
             "outlinewidth": 0,
             "ticks": ""
            },
            "colorscale": [
             [
              0,
              "#0d0887"
             ],
             [
              0.1111111111111111,
              "#46039f"
             ],
             [
              0.2222222222222222,
              "#7201a8"
             ],
             [
              0.3333333333333333,
              "#9c179e"
             ],
             [
              0.4444444444444444,
              "#bd3786"
             ],
             [
              0.5555555555555556,
              "#d8576b"
             ],
             [
              0.6666666666666666,
              "#ed7953"
             ],
             [
              0.7777777777777778,
              "#fb9f3a"
             ],
             [
              0.8888888888888888,
              "#fdca26"
             ],
             [
              1,
              "#f0f921"
             ]
            ],
            "type": "histogram2dcontour"
           }
          ],
          "mesh3d": [
           {
            "colorbar": {
             "outlinewidth": 0,
             "ticks": ""
            },
            "type": "mesh3d"
           }
          ],
          "parcoords": [
           {
            "line": {
             "colorbar": {
              "outlinewidth": 0,
              "ticks": ""
             }
            },
            "type": "parcoords"
           }
          ],
          "pie": [
           {
            "automargin": true,
            "type": "pie"
           }
          ],
          "scatter": [
           {
            "fillpattern": {
             "fillmode": "overlay",
             "size": 10,
             "solidity": 0.2
            },
            "type": "scatter"
           }
          ],
          "scatter3d": [
           {
            "line": {
             "colorbar": {
              "outlinewidth": 0,
              "ticks": ""
             }
            },
            "marker": {
             "colorbar": {
              "outlinewidth": 0,
              "ticks": ""
             }
            },
            "type": "scatter3d"
           }
          ],
          "scattercarpet": [
           {
            "marker": {
             "colorbar": {
              "outlinewidth": 0,
              "ticks": ""
             }
            },
            "type": "scattercarpet"
           }
          ],
          "scattergeo": [
           {
            "marker": {
             "colorbar": {
              "outlinewidth": 0,
              "ticks": ""
             }
            },
            "type": "scattergeo"
           }
          ],
          "scattergl": [
           {
            "marker": {
             "colorbar": {
              "outlinewidth": 0,
              "ticks": ""
             }
            },
            "type": "scattergl"
           }
          ],
          "scattermap": [
           {
            "marker": {
             "colorbar": {
              "outlinewidth": 0,
              "ticks": ""
             }
            },
            "type": "scattermap"
           }
          ],
          "scattermapbox": [
           {
            "marker": {
             "colorbar": {
              "outlinewidth": 0,
              "ticks": ""
             }
            },
            "type": "scattermapbox"
           }
          ],
          "scatterpolar": [
           {
            "marker": {
             "colorbar": {
              "outlinewidth": 0,
              "ticks": ""
             }
            },
            "type": "scatterpolar"
           }
          ],
          "scatterpolargl": [
           {
            "marker": {
             "colorbar": {
              "outlinewidth": 0,
              "ticks": ""
             }
            },
            "type": "scatterpolargl"
           }
          ],
          "scatterternary": [
           {
            "marker": {
             "colorbar": {
              "outlinewidth": 0,
              "ticks": ""
             }
            },
            "type": "scatterternary"
           }
          ],
          "surface": [
           {
            "colorbar": {
             "outlinewidth": 0,
             "ticks": ""
            },
            "colorscale": [
             [
              0,
              "#0d0887"
             ],
             [
              0.1111111111111111,
              "#46039f"
             ],
             [
              0.2222222222222222,
              "#7201a8"
             ],
             [
              0.3333333333333333,
              "#9c179e"
             ],
             [
              0.4444444444444444,
              "#bd3786"
             ],
             [
              0.5555555555555556,
              "#d8576b"
             ],
             [
              0.6666666666666666,
              "#ed7953"
             ],
             [
              0.7777777777777778,
              "#fb9f3a"
             ],
             [
              0.8888888888888888,
              "#fdca26"
             ],
             [
              1,
              "#f0f921"
             ]
            ],
            "type": "surface"
           }
          ],
          "table": [
           {
            "cells": {
             "fill": {
              "color": "#EBF0F8"
             },
             "line": {
              "color": "white"
             }
            },
            "header": {
             "fill": {
              "color": "#C8D4E3"
             },
             "line": {
              "color": "white"
             }
            },
            "type": "table"
           }
          ]
         },
         "layout": {
          "annotationdefaults": {
           "arrowcolor": "#2a3f5f",
           "arrowhead": 0,
           "arrowwidth": 1
          },
          "autotypenumbers": "strict",
          "coloraxis": {
           "colorbar": {
            "outlinewidth": 0,
            "ticks": ""
           }
          },
          "colorscale": {
           "diverging": [
            [
             0,
             "#8e0152"
            ],
            [
             0.1,
             "#c51b7d"
            ],
            [
             0.2,
             "#de77ae"
            ],
            [
             0.3,
             "#f1b6da"
            ],
            [
             0.4,
             "#fde0ef"
            ],
            [
             0.5,
             "#f7f7f7"
            ],
            [
             0.6,
             "#e6f5d0"
            ],
            [
             0.7,
             "#b8e186"
            ],
            [
             0.8,
             "#7fbc41"
            ],
            [
             0.9,
             "#4d9221"
            ],
            [
             1,
             "#276419"
            ]
           ],
           "sequential": [
            [
             0,
             "#0d0887"
            ],
            [
             0.1111111111111111,
             "#46039f"
            ],
            [
             0.2222222222222222,
             "#7201a8"
            ],
            [
             0.3333333333333333,
             "#9c179e"
            ],
            [
             0.4444444444444444,
             "#bd3786"
            ],
            [
             0.5555555555555556,
             "#d8576b"
            ],
            [
             0.6666666666666666,
             "#ed7953"
            ],
            [
             0.7777777777777778,
             "#fb9f3a"
            ],
            [
             0.8888888888888888,
             "#fdca26"
            ],
            [
             1,
             "#f0f921"
            ]
           ],
           "sequentialminus": [
            [
             0,
             "#0d0887"
            ],
            [
             0.1111111111111111,
             "#46039f"
            ],
            [
             0.2222222222222222,
             "#7201a8"
            ],
            [
             0.3333333333333333,
             "#9c179e"
            ],
            [
             0.4444444444444444,
             "#bd3786"
            ],
            [
             0.5555555555555556,
             "#d8576b"
            ],
            [
             0.6666666666666666,
             "#ed7953"
            ],
            [
             0.7777777777777778,
             "#fb9f3a"
            ],
            [
             0.8888888888888888,
             "#fdca26"
            ],
            [
             1,
             "#f0f921"
            ]
           ]
          },
          "colorway": [
           "#636efa",
           "#EF553B",
           "#00cc96",
           "#ab63fa",
           "#FFA15A",
           "#19d3f3",
           "#FF6692",
           "#B6E880",
           "#FF97FF",
           "#FECB52"
          ],
          "font": {
           "color": "#2a3f5f"
          },
          "geo": {
           "bgcolor": "white",
           "lakecolor": "white",
           "landcolor": "#E5ECF6",
           "showlakes": true,
           "showland": true,
           "subunitcolor": "white"
          },
          "hoverlabel": {
           "align": "left"
          },
          "hovermode": "closest",
          "mapbox": {
           "style": "light"
          },
          "paper_bgcolor": "white",
          "plot_bgcolor": "#E5ECF6",
          "polar": {
           "angularaxis": {
            "gridcolor": "white",
            "linecolor": "white",
            "ticks": ""
           },
           "bgcolor": "#E5ECF6",
           "radialaxis": {
            "gridcolor": "white",
            "linecolor": "white",
            "ticks": ""
           }
          },
          "scene": {
           "xaxis": {
            "backgroundcolor": "#E5ECF6",
            "gridcolor": "white",
            "gridwidth": 2,
            "linecolor": "white",
            "showbackground": true,
            "ticks": "",
            "zerolinecolor": "white"
           },
           "yaxis": {
            "backgroundcolor": "#E5ECF6",
            "gridcolor": "white",
            "gridwidth": 2,
            "linecolor": "white",
            "showbackground": true,
            "ticks": "",
            "zerolinecolor": "white"
           },
           "zaxis": {
            "backgroundcolor": "#E5ECF6",
            "gridcolor": "white",
            "gridwidth": 2,
            "linecolor": "white",
            "showbackground": true,
            "ticks": "",
            "zerolinecolor": "white"
           }
          },
          "shapedefaults": {
           "line": {
            "color": "#2a3f5f"
           }
          },
          "ternary": {
           "aaxis": {
            "gridcolor": "white",
            "linecolor": "white",
            "ticks": ""
           },
           "baxis": {
            "gridcolor": "white",
            "linecolor": "white",
            "ticks": ""
           },
           "bgcolor": "#E5ECF6",
           "caxis": {
            "gridcolor": "white",
            "linecolor": "white",
            "ticks": ""
           }
          },
          "title": {
           "x": 0.05
          },
          "xaxis": {
           "automargin": true,
           "gridcolor": "white",
           "linecolor": "white",
           "ticks": "",
           "title": {
            "standoff": 15
           },
           "zerolinecolor": "white",
           "zerolinewidth": 2
          },
          "yaxis": {
           "automargin": true,
           "gridcolor": "white",
           "linecolor": "white",
           "ticks": "",
           "title": {
            "standoff": 15
           },
           "zerolinecolor": "white",
           "zerolinewidth": 2
          }
         }
        },
        "title": {
         "text": "Scatter Plot of inclusion_ratio vs goal_sim"
        },
        "xaxis": {
         "anchor": "y",
         "domain": [
          0,
          1
         ],
         "title": {
          "text": "inclusion_ratio"
         }
        },
        "yaxis": {
         "anchor": "x",
         "domain": [
          0,
          1
         ],
         "title": {
          "text": "goal_sim"
         }
        }
       }
      }
     },
     "metadata": {},
     "output_type": "display_data"
    }
   ],
   "source": [
    "df_eval_rag['goal_sim']=pd.Series(similarity1)\n",
    "df_eval_norag['goal_sim']=pd.Series(similarity2)\n",
    "df_eval_raggoal['goal_sim']=pd.Series(similarity3)\n",
    "df_eval_noraggoal['goal_sim']=pd.Series(similarity4)\n",
    "\n",
    "\n",
    "def stat_goal(df, key:str):\n",
    "    mean_a = df[key].mean()\n",
    "    std_a = df[key].std()\n",
    "    median_a = df[key].median()\n",
    "    print(f\"Mean of {key}: {mean_a:2f}\")\n",
    "    print(f\"Standard Deviation of {key}: {std_a:2f}\")\n",
    "    print(f\"Median of {key}: {median_a:2f}\")\n",
    "\n",
    "def plot_goal_vs_inclusion_ratio(df, a, b):\n",
    "    fig = px.scatter(df, x=a, y=b, title=f'Scatter Plot of {a} vs {b}')\n",
    "    fig.show()\n",
    "\n",
    "\n",
    "stat_goal(df_eval_rag ,'goal_sim')\n",
    "stat_goal( df_eval_norag,'goal_sim')\n",
    "stat_goal( df_eval_raggoal,'goal_sim')\n",
    "stat_goal( df_eval_noraggoal,'goal_sim')\n",
    "\n",
    "plot_goal_vs_inclusion_ratio( df_eval_rag,'inclusion_ratio','goal_sim')\n",
    "plot_goal_vs_inclusion_ratio( df_eval_norag,'inclusion_ratio','goal_sim')\n",
    "plot_goal_vs_inclusion_ratio( df_eval_raggoal,'inclusion_ratio','goal_sim')\n",
    "plot_goal_vs_inclusion_ratio( df_eval_noraggoal,'inclusion_ratio','goal_sim')"
   ]
  },
  {
   "cell_type": "code",
   "execution_count": null,
   "id": "5c283a9c",
   "metadata": {},
   "outputs": [],
   "source": []
  }
 ],
 "metadata": {
  "kernelspec": {
   "display_name": "Python 3",
   "language": "python",
   "name": "python3"
  },
  "language_info": {
   "codemirror_mode": {
    "name": "ipython",
    "version": 3
   },
   "file_extension": ".py",
   "mimetype": "text/x-python",
   "name": "python",
   "nbconvert_exporter": "python",
   "pygments_lexer": "ipython3",
   "version": "3.10.12"
  }
 },
 "nbformat": 4,
 "nbformat_minor": 5
}
