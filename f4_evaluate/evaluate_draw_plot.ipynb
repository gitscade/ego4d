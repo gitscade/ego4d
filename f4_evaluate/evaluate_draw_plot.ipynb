{
 "cells": [
  {
   "cell_type": "markdown",
   "id": "325a1267",
   "metadata": {},
   "source": [
    "# Evaluate Plots\n",
    "- T-SNE PLOT\n",
    "- Scene-similiarity vs Sequence Similarity\n",
    "- Scene-smiliarity vs Activity Taxonomy Similatiry\n",
    "- Correlation btw Scene similiaryty vs activity Taxonomy\n",
    "- RAG vs No RAG"
   ]
  },
  {
   "cell_type": "code",
   "execution_count": null,
   "id": "c38f736f",
   "metadata": {},
   "outputs": [],
   "source": []
  }
 ],
 "metadata": {
  "language_info": {
   "name": "python"
  }
 },
 "nbformat": 4,
 "nbformat_minor": 5
}
