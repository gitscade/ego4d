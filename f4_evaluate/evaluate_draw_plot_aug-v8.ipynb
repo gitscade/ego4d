{
 "cells": [
  {
   "cell_type": "markdown",
   "id": "325a1267",
   "metadata": {},
   "source": [
    "# Evaluate Plots V8\n",
    "\n",
    "json을 통해서 읽는다.\n",
    "0613-morning: jch v8 half for preliminary analysis"
   ]
  },
  {
   "cell_type": "code",
   "execution_count": 50,
   "id": "c38f736f",
   "metadata": {},
   "outputs": [
    {
     "name": "stdout",
     "output_type": "stream",
     "text": [
      "/root/project/f4_evaluate/result_v8/jch_ispossible/base2-rag-0-ispossible-pkl_annotations_2025-06-12.json\n"
     ]
    }
   ],
   "source": [
    "# %matplotlib qt\n",
    "import sys\n",
    "import os\n",
    "import numpy as np\n",
    "import json\n",
    "import torch\n",
    "import matplotlib.pyplot as plt\n",
    "import mplcursors\n",
    "from sklearn.manifold import TSNE\n",
    "from sentence_transformers import SentenceTransformer\n",
    "from fastdtw import fastdtw\n",
    "from scipy.spatial.distance import cosine\n",
    "from bert_score import score\n",
    "import pickle\n",
    "\n",
    "#soft dtw\n",
    "import torch\n",
    "from tslearn.metrics import soft_dtw\n",
    "\n",
    "sys.path.append(os.path.abspath('/root/project')) # add root path to sys.path\n",
    "sys.path.append(os.path.abspath('/usr/local/lib/python3.10/dist-packages'))\n",
    "from util import util_constants\n",
    "from util import util_funcs\n",
    "import f4_evaluate.evaluate_scene as evaluate_scene\n",
    "import f1_init.database_init as database_init\n",
    "import f1_init.agent_init as agent_init\n",
    "import f1_init.constants_init as constants_init\n",
    "\n",
    "#Computing similarity\n",
    "import json\n",
    "from sentence_transformers import SentenceTransformer\n",
    "from bert_score import score\n",
    "import numpy as np\n",
    "from numpy.linalg import norm\n",
    "import ast\n",
    "import pandas as pd\n",
    "\n",
    "\n",
    "#BASELINE FROM v8/ index range(300) from jch \n",
    "PATH_CURR_FOLDER = os.path.abspath('') \n",
    "\n",
    "PATH_BASELINE0 = os.path.abspath(os.path.join(PATH_CURR_FOLDER, 'result_v8/jch_ispossible/base0-0-ispossible-pkl_annotations_2025-06-12.json'))\n",
    "\n",
    "PATH_BASELINE1_1 = os.path.abspath(os.path.join(PATH_CURR_FOLDER, 'result_v8/jch_ispossible/base1-norag-0-ispossible-pkl_annotations_2025-06-12.json'))\n",
    "\n",
    "PATH_BASELINE1_2 = os.path.abspath(os.path.join(PATH_CURR_FOLDER, 'result_v8/jch_ispossible/base1-rag-0-ispossible-pkl_annotations_2025-06-12.json'))\n",
    "\n",
    "PATH_BASELINE2_1_p1 = os.path.abspath(os.path.join(PATH_CURR_FOLDER, 'result_v8/jch_ispossible/base2-norag-0-ispossible-pkl_annotations_2025-06-12.json'))\n",
    "PATH_BASELINE2_1_p2 = os.path.abspath(os.path.join(PATH_CURR_FOLDER, 'result_v8/sdh_ispossible/base2-norag_0_part2-300.json'))\n",
    "\n",
    "PATH_BASELINE2_2_p1 = os.path.abspath(os.path.join(PATH_CURR_FOLDER, 'result_v8/jch_ispossible/base2-rag-0-ispossible-pkl_annotations_2025-06-12.json'))\n",
    "PATH_BASELINE2_2_p2 = os.path.abspath(os.path.join(PATH_CURR_FOLDER, 'result_v8/sdh_ispossible/base2-rag_0_part2-300.json'))\n",
    "\n",
    "\n",
    "\n",
    "\n",
    "print(PATH_BASELINE2_2_p1)"
   ]
  },
  {
   "cell_type": "code",
   "execution_count": 51,
   "id": "1d59639f",
   "metadata": {},
   "outputs": [],
   "source": [
    "def load_pickle_file(path):\n",
    "    try:          \n",
    "         with open(path, \"rb\") as f:\n",
    "             data = pickle.load(f)\n",
    "             return data\n",
    "    except:\n",
    "         return None\n",
    "\n",
    "def load_json_file(path):\n",
    "    try:\n",
    "        with open(path, 'r') as f:\n",
    "            data = json.load(f)\n",
    "            return data\n",
    "    except:\n",
    "        return None\n",
    "\n",
    "def load_json_utf8(path):\n",
    "    with open(path, 'r', encoding='utf-8') as f:\n",
    "        dict = json.load(path)\n",
    "    return dict\n",
    "\n",
    "\n",
    "def check_pickle_file(path):\n",
    "    try:\n",
    "        with open(path, \"rb\") as f:\n",
    "            pickle.load(f)  # try loading to ensure file is not empty or corrupted\n",
    "        return True\n",
    "    except (EOFError, FileNotFoundError, PermissionError, IsADirectoryError, pickle.UnpicklingError):\n",
    "        return False\n",
    "\n",
    "def check_json_file(path):\n",
    "    try:\n",
    "        with open(path, \"rb\") as f:\n",
    "            json.load(f)  # try loading to ensure file is not empty or corrupted\n",
    "        return True\n",
    "    except (EOFError, FileNotFoundError, PermissionError, IsADirectoryError, pickle.UnpicklingError):\n",
    "        return False   \n",
    "\n",
    "def normalize_to_string(value):\n",
    "    '''\n",
    "    used so to cope with value from a dictionary that happens to be inside a list bracket    \n",
    "    '''\n",
    "    # If it's a list and the first element is a string, return that\n",
    "    if isinstance(value, list) and len(value) > 0 and isinstance(value[0], str):\n",
    "        return value[0]\n",
    "    # If it's already a string, return it\n",
    "    elif isinstance(value, str):\n",
    "        return value\n",
    "    # Fallback for anything else\n",
    "    else:\n",
    "        return str(value)\n",
    "    \n",
    "\n"
   ]
  },
  {
   "cell_type": "code",
   "execution_count": 52,
   "id": "a828a742",
   "metadata": {},
   "outputs": [],
   "source": [
    "# %matplotlib inline\n",
    "import pandas as pd\n",
    "import matplotlib.pyplot as plt\n",
    "import plotly.express as px\n",
    "import plotly.graph_objects as go"
   ]
  },
  {
   "cell_type": "markdown",
   "id": "2e78b119",
   "metadata": {},
   "source": [
    "## v8_evaluator Plots\n",
    "\n",
    "evaluator_1: (core)  \n",
    "evaluator_2: (entity)(core)  \n",
    "evaluator_3: (entity)(sim)(core)  \n",
    "evaluator_h: (entity)(sim)(human)  "
   ]
  },
  {
   "cell_type": "code",
   "execution_count": 53,
   "id": "bd40cf7e",
   "metadata": {},
   "outputs": [
    {
     "name": "stdout",
     "output_type": "stream",
     "text": [
      "['idx', 'baseline', 'source_idx', 'source_uid', 'target_uid', 'target_equal_ratio', 'trial_idx', 'source_file_name', 'target_file_name', 'source_action_sequence', 'source_scene_graph', 'target_scene_graph', 'source_goal_category', 'source_goal_description', 'core_activity', 'target_sequence', 'human_entitycheck_tax', 'human_entitycheck_seq', 'human_coreactivitycheck', 'human_passcheck_tax', 'human_passcheck_seq', 'source_taxonomy', 'target_taxonomy', 'isPossible', 'edited']\n",
      "dtype: seq, seq, tax, tax\n",
      "object\n",
      "object\n",
      "object\n",
      "object\n",
      "dtype: entitytax, entityseq, passtax, passseq, passcore, ispossible\n",
      "bool\n",
      "bool\n",
      "bool\n",
      "bool\n",
      "bool\n",
      "bool\n",
      "0      \"Cut the mango, Add chopped mango into the pan...\n",
      "1      \"Cut the mango, Add chopped mango into the pan...\n",
      "2      \"Cut the mango, Add chopped mango into the pan...\n",
      "3      \"Cut the mango, Add chopped mango into the pan...\n",
      "4      \"Cut the mango, Add chopped mango into the pan...\n",
      "                             ...                        \n",
      "295    \"dice eggplant on chopping board, thaw diced e...\n",
      "296    \"dice eggplant on chopping board, thaw diced e...\n",
      "297    \"dice eggplant on chopping board, thaw diced e...\n",
      "298    \"dice eggplant on chopping board, thaw diced e...\n",
      "299    \"dice eggplant on chopping board, thaw diced e...\n",
      "Name: source_action_sequence, Length: 300, dtype: object\n"
     ]
    }
   ],
   "source": [
    "path_eval_results = constants_init.PATH_ROOT + \"f4_evaluate/result_v6/\"\n",
    "baseline_folders = ['output-rag-0602','output-norag-0602','output-1goalmediation-0602','output-1goalmediation-norag-0602']\n",
    "\n",
    "# #---------------------------------------\n",
    "# # read human annotated list\n",
    "# #---------------------------------------\n",
    "import json\n",
    "\n",
    "data_base0 = load_json_file(PATH_BASELINE0)\n",
    "data_base1_norag = load_json_file(PATH_BASELINE1_1)\n",
    "data_base1_rag = load_json_file(PATH_BASELINE1_2)\n",
    "data_base2_norag_p1 = load_json_file(PATH_BASELINE2_1_p1)\n",
    "data_base2_rag_p1 = load_json_file(PATH_BASELINE2_2_p1)\n",
    "data_base2_norag_p2 = load_json_file(PATH_BASELINE2_1_p2)\n",
    "data_base2_rag_p2 = load_json_file(PATH_BASELINE2_2_p2)\n",
    "\n",
    "\n",
    "#.sort_values(by='idx').reset_index(drop=True)\n",
    "df_base0 = pd.DataFrame(data_base0)  \n",
    "df_base1_norag = pd.DataFrame(data_base1_norag)\n",
    "df_base1_rag = pd.DataFrame(data_base1_rag)\n",
    "df_base2_norag_p1 = pd.DataFrame(data_base2_norag_p1)\n",
    "df_base2_rag_p1 = pd.DataFrame(data_base2_rag_p1)\n",
    "df_base2_norag_p2 = pd.DataFrame(data_base2_norag_p2)\n",
    "df_base2_rag_p2 = pd.DataFrame(data_base2_rag_p2)\n",
    "\n",
    "print(df_base0.columns.tolist())\n",
    "\n",
    "\n",
    "#[\n",
    "# 'idx', 'baseline', 'source_idx', 'source_uid', 'target_uid',\n",
    "#  'target_equal_ratio', 'trial_idx', \n",
    "# 'source_file_name', 'target_file_name', \n",
    "# 'source_action_sequence', 'source_scene_graph', 'target_scene_graph',\n",
    "#  'source_goal_category', 'source_goal_description', \n",
    "# 'core_activity', 'target_sequence', \n",
    "# 'source_taxonomy', 'target_taxonomy', \n",
    "# 'human_entitycheck_tax', 'human_entitycheck_seq', \n",
    "# 'human_passcheck_tax', 'human_passcheck_seq', \n",
    "# 'human_coreactivitycheck', \n",
    "# 'isPossible', \n",
    "# 'edited'\n",
    "#]\n",
    "\n",
    "print(\"dtype: seq, seq, tax, tax\")\n",
    "#source sequence is a list of characters\n",
    "print(df_base0['source_action_sequence'].dtype)\n",
    "#target sequence is a list of characters\n",
    "print(df_base0['target_sequence'].dtype)\n",
    "print(df_base0['source_taxonomy'].dtype)\n",
    "print(df_base0['target_taxonomy'].dtype)\n",
    "\n",
    "print(\"dtype: entitytax, entityseq, passtax, passseq, passcore, ispossible\")\n",
    "print(df_base0['human_entitycheck_tax'].dtype)\n",
    "print(df_base0['human_entitycheck_seq'].dtype)\n",
    "print(df_base0['human_passcheck_tax'].dtype)\n",
    "print(df_base0['human_passcheck_seq'].dtype)\n",
    "print(df_base0['human_coreactivitycheck'].dtype)\n",
    "print(df_base0['isPossible'].dtype)\n",
    "\n",
    "print(df_base2_rag_p2['source_action_sequence'])"
   ]
  },
  {
   "cell_type": "code",
   "execution_count": 54,
   "id": "1093d2d6",
   "metadata": {},
   "outputs": [
    {
     "name": "stdout",
     "output_type": "stream",
     "text": [
      "object\n",
      "object\n",
      "object\n",
      "object\n"
     ]
    }
   ],
   "source": [
    "#========================================\n",
    "# seq (df object => list of double quoted strings) : read_df_seqence()\n",
    "#========================================\n",
    "def convert_df_sequence(sequence):\n",
    "    '''\n",
    "    converts sequences from df to iterable list of strings for similarity measurement later.\n",
    "\n",
    "    args:\n",
    "        sequence: object datatype from dataframe\n",
    "    \n",
    "    return\n",
    "        list of actions, where each action is enclosed in double quotes\n",
    "    '''\n",
    "    if isinstance(sequence, list):\n",
    "        return [str(x).strip().strip('\"') for x in sequence]\n",
    "    elif isinstance(sequence, str):\n",
    "        # Fall back for stringified list (just in case)\n",
    "        try:\n",
    "            import ast\n",
    "            parsed = ast.literal_eval(sequence)\n",
    "            if isinstance(parsed, list):\n",
    "                return [str(x).strip().strip('\"') for x in parsed]\n",
    "        except:\n",
    "            pass\n",
    "        # fallback to comma split\n",
    "        return [s.strip().strip('\"') for s in sequence.split(',')]\n",
    "    else:\n",
    "        raise ValueError(f\"Unsupported type: {type(sequence)}\")\n",
    "\n",
    "#========================================\n",
    "# tax (df object => list of two dictionaries) : json.loads()\n",
    "#========================================\n",
    "# source_tax = df_base2_rag.loc[4, 'source_taxonomy']\n",
    "# target_tax = df_base2_rag.loc[4, 'target_taxonomy']\n",
    "# source_tax = json.loads(source_tax)\n",
    "# target_tax = json.loads(target_tax)\n",
    "def apply_json_loads(tax):\n",
    "    return json.loads(tax)\n",
    "\n",
    "\n",
    "#========================================\n",
    "# Apply to our dataframes(only once after dataset loading)\n",
    "#========================================\n",
    "def apply_seq_conversion_to_df(df:pd.DataFrame):\n",
    "    df['source_action_sequence'] = df['source_action_sequence'].apply(convert_df_sequence)\n",
    "    df['target_sequence'] = df['target_sequence'].apply(convert_df_sequence)\n",
    "\n",
    "def apply_tax_conversion_to_df(df:pd.DataFrame):\n",
    "    df['source_taxonomy'] = df['source_taxonomy'].apply(apply_json_loads)\n",
    "    df['target_taxonomy'] = df['target_taxonomy'].apply(apply_json_loads)\n",
    "\n",
    "apply_seq_conversion_to_df(df_base0)\n",
    "apply_seq_conversion_to_df(df_base1_norag)\n",
    "apply_seq_conversion_to_df(df_base1_rag)\n",
    "apply_seq_conversion_to_df(df_base2_norag_p1)\n",
    "apply_seq_conversion_to_df(df_base2_rag_p1)\n",
    "apply_seq_conversion_to_df(df_base2_norag_p2)\n",
    "apply_seq_conversion_to_df(df_base2_rag_p2)\n",
    "\n",
    "apply_tax_conversion_to_df(df_base2_norag_p1)\n",
    "apply_tax_conversion_to_df(df_base2_rag_p1)\n",
    "apply_tax_conversion_to_df(df_base2_norag_p2)\n",
    "apply_tax_conversion_to_df(df_base2_rag_p2)\n",
    "\n",
    "print(df_base0['source_action_sequence'].dtype)\n",
    "print(df_base0['target_sequence'].dtype)\n",
    "print(df_base0['source_taxonomy'].dtype)\n",
    "print(df_base0['target_taxonomy'].dtype)\n"
   ]
  },
  {
   "cell_type": "code",
   "execution_count": 56,
   "id": "73883669",
   "metadata": {},
   "outputs": [
    {
     "name": "stdout",
     "output_type": "stream",
     "text": [
      "['Arrange cloth', 'Arrange cloth', 'Arrange cloth', 'Arrange cloth', 'Fold towel', 'Arrange cloth', 'Fold handkerchief', 'Pack hanger']\n",
      "['fold towel', 'fold handkerchief', 'fold cloth', 'arrange towel on plate', 'arrange handkerchief on plate', 'arrange cloth on plate']\n",
      "Arrange cloth\n",
      "Arrange cloth\n",
      "Arrange cloth\n",
      "Arrange cloth\n",
      "Fold towel\n",
      "Arrange cloth\n",
      "Fold handkerchief\n",
      "Pack hanger\n",
      "fold towel\n",
      "fold handkerchief\n",
      "fold cloth\n",
      "arrange towel on plate\n",
      "arrange handkerchief on plate\n",
      "arrange cloth on plate\n",
      "{'arranging surface': 'clothes horse', 'arranging action': 'folding'}\n",
      "{'cloth type': 'towel', 'cloth container': 'clothes horse'}\n",
      "{'arranging surface': 'plate', 'arranging action': 'folding'}\n",
      "{'cloth type': 'towel', 'cloth container': 'plate'}\n",
      "['Cut the mango', 'Add chopped mango into the pan', 'slice mango', 'add slice mango into the pot', 'cut the mango', 'add mango to pot', 'cut the mango', 'add cut mango to pot', 'cut the mango', 'add ingredient to pot', 'cut mango', 'add mango to pan', 'cut mango', 'cut mango', 'cut mango', 'cut mango']\n",
      "['cut tomato on chopping board with cutter']\n",
      "0.4178594233688656\n",
      "['Cut the mango', 'Add chopped mango into the pan', 'slice mango', 'add slice mango into the pot', 'cut the mango', 'add mango to pot', 'cut the mango', 'add cut mango to pot', 'cut the mango', 'add ingredient to pot', 'cut mango', 'add mango to pan', 'cut mango', 'cut mango', 'cut mango', 'cut mango']\n",
      "['cut ball peppers with dough cutter on bowl']\n",
      "0.3806713886665377\n",
      "['Cut the mango', 'Add chopped mango into the pan', 'slice mango', 'add slice mango into the pot', 'cut the mango', 'add mango to pot', 'cut the mango', 'add cut mango to pot', 'cut the mango', 'add ingredient to pot', 'cut mango', 'add mango to pan', 'cut mango', 'cut mango', 'cut mango', 'cut mango']\n",
      "['cut mango', 'add mango to pan']\n",
      "0.7913923768099058\n",
      "['Cut the mango', 'Add chopped mango into the pan', 'slice mango', 'add slice mango into the pot', 'cut the mango', 'add mango to pot', 'cut the mango', 'add cut mango to pot', 'cut the mango', 'add ingredient to pot', 'cut mango', 'add mango to pan', 'cut mango', 'cut mango', 'cut mango', 'cut mango']\n",
      "['place chopping board on table', 'place mango on chopping board', 'cut mango with knife', 'put cut mango into bowl']\n",
      "0.7003551881354926\n",
      "['Cut the mango', 'Add chopped mango into the pan', 'slice mango', 'add slice mango into the pot', 'cut the mango', 'add mango to pot', 'cut the mango', 'add cut mango to pot', 'cut the mango', 'add ingredient to pot', 'cut mango', 'add mango to pan', 'cut mango', 'cut mango', 'cut mango', 'cut mango']\n",
      "['place mango on cutting board', 'cut mango with knife on cutting board', 'put cut mango into bowl']\n",
      "0.7185835205854584\n",
      "['Cut the mango', 'Add chopped mango into the pan', 'slice mango', 'add slice mango into the pot', 'cut the mango', 'add mango to pot', 'cut the mango', 'add cut mango to pot', 'cut the mango', 'add ingredient to pot', 'cut mango', 'add mango to pan', 'cut mango', 'cut mango', 'cut mango', 'cut mango']\n",
      "['place mango on cutting board', 'cut mango with knife on cutting board']\n",
      "0.6776648539108145\n",
      "['Rinse packs of sauce in water', 'Dry hands with a towel', 'Fold papers', 'Arrange kitchen utensils on a countertop', 'Arrange ingredients on the countertop', 'Rinse a cucumber with water', 'Set a knife on a chopping board', 'Reposition a jug on the countertop', 'Dispose the cucumber wrap in a bag', 'Slice the cucumber', 'Eat the cucumber slice', 'Slice the cucumber']\n",
      "['False']\n",
      "0.07024726130906789\n",
      "['Rinse packs of sauce in water', 'Dry hands with a towel', 'Fold papers', 'Arrange kitchen utensils on a countertop', 'Arrange ingredients on the countertop', 'Rinse a cucumber with water', 'Set a knife on a chopping board', 'Reposition a jug on the countertop', 'Dispose the cucumber wrap in a bag', 'Slice the cucumber', 'Eat the cucumber slice', 'Slice the cucumber']\n",
      "['False']\n",
      "0.07027758929823869\n",
      "['Rinse packs of sauce in water', 'Dry hands with a towel', 'Fold papers', 'Arrange kitchen utensils on a countertop', 'Arrange ingredients on the countertop', 'Rinse a cucumber with water', 'Set a knife on a chopping board', 'Reposition a jug on the countertop', 'Dispose the cucumber wrap in a bag', 'Slice the cucumber', 'Eat the cucumber slice', 'Slice the cucumber']\n",
      "['set tray on table', 'set razor on tray', 'slice dough with razor on tray']\n",
      "0.34232340938495465\n",
      "['Rinse packs of sauce in water', 'Dry hands with a towel', 'Fold papers', 'Arrange kitchen utensils on a countertop', 'Arrange ingredients on the countertop', 'Rinse a cucumber with water', 'Set a knife on a chopping board', 'Reposition a jug on the countertop', 'Dispose the cucumber wrap in a bag', 'Slice the cucumber', 'Eat the cucumber slice', 'Slice the cucumber']\n",
      "['set tray on table', 'place cucumber on tray', 'slice cucumber with razor']\n",
      "0.4628616061113793\n",
      "['Rinse packs of sauce in water', 'Dry hands with a towel', 'Fold papers', 'Arrange kitchen utensils on a countertop', 'Arrange ingredients on the countertop', 'Rinse a cucumber with water', 'Set a knife on a chopping board', 'Reposition a jug on the countertop', 'Dispose the cucumber wrap in a bag', 'Slice the cucumber', 'Eat the cucumber slice', 'Slice the cucumber']\n",
      "['set tray on table', 'place cucumber on tray', 'slice cucumber with razor']\n",
      "0.4630404021087965\n",
      "['Rinse packs of sauce in water', 'Dry hands with a towel', 'Fold papers', 'Arrange kitchen utensils on a countertop', 'Arrange ingredients on the countertop', 'Rinse a cucumber with water', 'Set a knife on a chopping board', 'Reposition a jug on the countertop', 'Dispose the cucumber wrap in a bag', 'Slice the cucumber', 'Eat the cucumber slice', 'Slice the cucumber']\n",
      "['arrange utesils on countertop', 'arrange cucumber on countertop', 'set razor on tray', 'slice cucumber']\n",
      "0.5440669693582818\n",
      "['Set up the blender', 'Arrange food items on the countertop for cooking', 'Add brown flat seeds to the blender', 'Add powdered moringa to the blender', 'Add ground pepper to the blender', 'Add plantain to the blender', 'Add mixed berries to the blender', 'Add yoghurt to the blender', 'Activate the blender', 'Regulate the blender', 'Add smoothie to the plate', 'Add cereal to the plate', 'Mix the cereal with the smoothie', 'Add basil powder to the plate']\n",
      "['put pawpaw in bowl', 'add cottage cheese to bowl', 'add pomegranate to bowl', 'mix the contents of the bowl']\n",
      "0.39946495378355895\n",
      "['Set up the blender', 'Arrange food items on the countertop for cooking', 'Add brown flat seeds to the blender', 'Add powdered moringa to the blender', 'Add ground pepper to the blender', 'Add plantain to the blender', 'Add mixed berries to the blender', 'Add yoghurt to the blender', 'Activate the blender', 'Regulate the blender', 'Add smoothie to the plate', 'Add cereal to the plate', 'Mix the cereal with the smoothie', 'Add basil powder to the plate']\n",
      "['put mango on plate', 'add yogurt to plate', 'add moringa powder to plate', 'add cereals to plate', 'add leaves to plate', 'mix contents on plate']\n",
      "0.44006393234241015\n",
      "['Set up the blender', 'Arrange food items on the countertop for cooking', 'Add brown flat seeds to the blender', 'Add powdered moringa to the blender', 'Add ground pepper to the blender', 'Add plantain to the blender', 'Add mixed berries to the blender', 'Add yoghurt to the blender', 'Activate the blender', 'Regulate the blender', 'Add smoothie to the plate', 'Add cereal to the plate', 'Mix the cereal with the smoothie', 'Add basil powder to the plate']\n",
      "['set up the blender', 'add cream to the blender', 'add grapes to the blender', 'add plantain to the blender', 'activate the blender', 'regulate the blender', 'add smoothie to the tray', 'add cereal to the tray', 'mix the cereal with the smoothie']\n",
      "0.7073065612242351\n",
      "['Set up the blender', 'Arrange food items on the countertop for cooking', 'Add brown flat seeds to the blender', 'Add powdered moringa to the blender', 'Add ground pepper to the blender', 'Add plantain to the blender', 'Add mixed berries to the blender', 'Add yoghurt to the blender', 'Activate the blender', 'Regulate the blender', 'Add smoothie to the plate', 'Add cereal to the plate', 'Mix the cereal with the smoothie', 'Add basil powder to the plate']\n",
      "['set up the blender', 'add puree to the blender', 'activate the blender', 'regulate the blender', 'add cereal to the plate', 'add puree to the plate', 'mix the cereal with the puree', 'add basil powder to the plate']\n",
      "0.709754581561024\n",
      "['Set up the blender', 'Arrange food items on the countertop for cooking', 'Add brown flat seeds to the blender', 'Add powdered moringa to the blender', 'Add ground pepper to the blender', 'Add plantain to the blender', 'Add mixed berries to the blender', 'Add yoghurt to the blender', 'Activate the blender', 'Regulate the blender', 'Add smoothie to the plate', 'Add cereal to the plate', 'Mix the cereal with the smoothie', 'Add basil powder to the plate']\n",
      "['set up the blender', 'add brown flat seed to the blender', 'add berries to the blender', 'add yoghurt to the blender', 'activate the blender', 'regulate the blender', 'add smoothie to the plate', 'add cereal to the plate', 'mix the cereal with the smoothie', 'add basil powder to the plate']\n",
      "0.8186329782774071\n",
      "['Set up the blender', 'Arrange food items on the countertop for cooking', 'Add brown flat seeds to the blender', 'Add powdered moringa to the blender', 'Add ground pepper to the blender', 'Add plantain to the blender', 'Add mixed berries to the blender', 'Add yoghurt to the blender', 'Activate the blender', 'Regulate the blender', 'Add smoothie to the plate', 'Add cereal to the plate', 'Mix the cereal with the smoothie', 'Add basil powder to the plate']\n",
      "['set up the blender', 'add brown flat seed to the blender', 'add moringa powder to the blender', 'add pepper shaker to the blender', 'add plantain to the blender', 'add berries to the blender', 'add yoghurt to the blender', 'activate the blender', 'regulate the blender']\n",
      "0.6824790112066028\n",
      "['Wash skillet under kitchen sink', 'Wipe skillet with kitchen towel', 'Heat skillet over stovetop', 'Melt butter in a skillet over stovetop']\n",
      "['wipe jar with napkin']\n",
      "0.31003729811266334\n",
      "['Wash skillet under kitchen sink', 'Wipe skillet with kitchen towel', 'Heat skillet over stovetop', 'Melt butter in a skillet over stovetop']\n",
      "['wash wok under kitchen sink', 'wipe wok with napkin']\n",
      "0.5163902056668841\n",
      "['Wash skillet under kitchen sink', 'Wipe skillet with kitchen towel', 'Heat skillet over stovetop', 'Melt butter in a skillet over stovetop']\n",
      "['wipe towel on griddle']\n",
      "0.42086816315774245\n",
      "['Wash skillet under kitchen sink', 'Wipe skillet with kitchen towel', 'Heat skillet over stovetop', 'Melt butter in a skillet over stovetop']\n",
      "['wash pot under kitchen sink', 'wipe pot with rag']\n",
      "0.39724138244602214\n",
      "['Wash skillet under kitchen sink', 'Wipe skillet with kitchen towel', 'Heat skillet over stovetop', 'Melt butter in a skillet over stovetop']\n",
      "['False']\n",
      "0.05757807304669005\n",
      "['Wash skillet under kitchen sink', 'Wipe skillet with kitchen towel', 'Heat skillet over stovetop', 'Melt butter in a skillet over stovetop']\n",
      "['False']\n",
      "0.05757807304669005\n",
      "['Stir flatbread in the frypan', 'Move the flatbread from the frypan into a bowl', 'Put flatbread into the frypan', 'Stir flatbread in the frypan', 'Stir flatbread in the frypan', 'Stir flatbread in the frypan', 'Move the flatbread from the frypan into the bowl', 'Stir flatbread in the frypan', 'Stir flatbread in the frypan', 'Stir flatbread in the frypan', 'Adjust the bowl on the floor', 'Stir flatbread in the frypan', 'Stir flatbread in the frypan', 'Move the flatbread from the frypan into the bowl', 'Stir flatbread in the frypan', 'Stir flatbread in the frypan', 'Stir flatbread in the frypan', 'Adjust the flatbread in the bowl', 'Stir flatbread in the frypan', 'Stir flatbread in the frypan', 'Move flatbread from the frypan into the bowl', 'Stir flatbread in the frypan', 'Stir flatbread in the frypan', 'Stir flatbread in the frypan', 'Stir flatbread in the frypan', 'Stir flatbread in the frypan', 'Move the flatbread from the frypan into the bowl']\n",
      "['False']\n",
      "0.09904317365425086\n",
      "['Stir flatbread in the frypan', 'Move the flatbread from the frypan into a bowl', 'Put flatbread into the frypan', 'Stir flatbread in the frypan', 'Stir flatbread in the frypan', 'Stir flatbread in the frypan', 'Move the flatbread from the frypan into the bowl', 'Stir flatbread in the frypan', 'Stir flatbread in the frypan', 'Stir flatbread in the frypan', 'Adjust the bowl on the floor', 'Stir flatbread in the frypan', 'Stir flatbread in the frypan', 'Move the flatbread from the frypan into the bowl', 'Stir flatbread in the frypan', 'Stir flatbread in the frypan', 'Stir flatbread in the frypan', 'Adjust the flatbread in the bowl', 'Stir flatbread in the frypan', 'Stir flatbread in the frypan', 'Move flatbread from the frypan into the bowl', 'Stir flatbread in the frypan', 'Stir flatbread in the frypan', 'Stir flatbread in the frypan', 'Stir flatbread in the frypan', 'Stir flatbread in the frypan', 'Move the flatbread from the frypan into the bowl']\n",
      "['put flatbread pizza on griddle', 'stir flatbread pizza on griddle with fork']\n",
      "0.7109228660393341\n",
      "['Stir flatbread in the frypan', 'Move the flatbread from the frypan into a bowl', 'Put flatbread into the frypan', 'Stir flatbread in the frypan', 'Stir flatbread in the frypan', 'Stir flatbread in the frypan', 'Move the flatbread from the frypan into the bowl', 'Stir flatbread in the frypan', 'Stir flatbread in the frypan', 'Stir flatbread in the frypan', 'Adjust the bowl on the floor', 'Stir flatbread in the frypan', 'Stir flatbread in the frypan', 'Move the flatbread from the frypan into the bowl', 'Stir flatbread in the frypan', 'Stir flatbread in the frypan', 'Stir flatbread in the frypan', 'Adjust the flatbread in the bowl', 'Stir flatbread in the frypan', 'Stir flatbread in the frypan', 'Move flatbread from the frypan into the bowl', 'Stir flatbread in the frypan', 'Stir flatbread in the frypan', 'Stir flatbread in the frypan', 'Stir flatbread in the frypan', 'Stir flatbread in the frypan', 'Move the flatbread from the frypan into the bowl']\n",
      "['False']\n",
      "0.09907557412031676\n",
      "['Stir flatbread in the frypan', 'Move the flatbread from the frypan into a bowl', 'Put flatbread into the frypan', 'Stir flatbread in the frypan', 'Stir flatbread in the frypan', 'Stir flatbread in the frypan', 'Move the flatbread from the frypan into the bowl', 'Stir flatbread in the frypan', 'Stir flatbread in the frypan', 'Stir flatbread in the frypan', 'Adjust the bowl on the floor', 'Stir flatbread in the frypan', 'Stir flatbread in the frypan', 'Move the flatbread from the frypan into the bowl', 'Stir flatbread in the frypan', 'Stir flatbread in the frypan', 'Stir flatbread in the frypan', 'Adjust the flatbread in the bowl', 'Stir flatbread in the frypan', 'Stir flatbread in the frypan', 'Move flatbread from the frypan into the bowl', 'Stir flatbread in the frypan', 'Stir flatbread in the frypan', 'Stir flatbread in the frypan', 'Stir flatbread in the frypan', 'Stir flatbread in the frypan', 'Move the flatbread from the frypan into the bowl']\n",
      "['impossible']\n",
      "0.07000629061357089\n",
      "['Stir flatbread in the frypan', 'Move the flatbread from the frypan into a bowl', 'Put flatbread into the frypan', 'Stir flatbread in the frypan', 'Stir flatbread in the frypan', 'Stir flatbread in the frypan', 'Move the flatbread from the frypan into the bowl', 'Stir flatbread in the frypan', 'Stir flatbread in the frypan', 'Stir flatbread in the frypan', 'Adjust the bowl on the floor', 'Stir flatbread in the frypan', 'Stir flatbread in the frypan', 'Move the flatbread from the frypan into the bowl', 'Stir flatbread in the frypan', 'Stir flatbread in the frypan', 'Stir flatbread in the frypan', 'Adjust the flatbread in the bowl', 'Stir flatbread in the frypan', 'Stir flatbread in the frypan', 'Move flatbread from the frypan into the bowl', 'Stir flatbread in the frypan', 'Stir flatbread in the frypan', 'Stir flatbread in the frypan', 'Stir flatbread in the frypan', 'Stir flatbread in the frypan', 'Move the flatbread from the frypan into the bowl']\n",
      "['put flatbread into the bowl', 'stir flatbread in the bowl']\n",
      "0.7931309046587651\n",
      "['Stir flatbread in the frypan', 'Move the flatbread from the frypan into a bowl', 'Put flatbread into the frypan', 'Stir flatbread in the frypan', 'Stir flatbread in the frypan', 'Stir flatbread in the frypan', 'Move the flatbread from the frypan into the bowl', 'Stir flatbread in the frypan', 'Stir flatbread in the frypan', 'Stir flatbread in the frypan', 'Adjust the bowl on the floor', 'Stir flatbread in the frypan', 'Stir flatbread in the frypan', 'Move the flatbread from the frypan into the bowl', 'Stir flatbread in the frypan', 'Stir flatbread in the frypan', 'Stir flatbread in the frypan', 'Adjust the flatbread in the bowl', 'Stir flatbread in the frypan', 'Stir flatbread in the frypan', 'Move flatbread from the frypan into the bowl', 'Stir flatbread in the frypan', 'Stir flatbread in the frypan', 'Stir flatbread in the frypan', 'Stir flatbread in the frypan', 'Stir flatbread in the frypan', 'Move the flatbread from the frypan into the bowl']\n",
      "['put flatbread into the frypan', 'stir flatbread in the frypan']\n",
      "0.87305013416077\n",
      "['smoothens dough with hand', 'spreads flour around table', 'smoothens dough with hands', 'slices dough to pieces', 'smoothen dough with hands', 'sprinkle flour on the table surface', 'smoothens dough with hand', 'cuts dough into smaller sizes', 'smoothens dough with hand']\n",
      "['put mat on table', 'put pancakes on mat', 'smoothen pancakes with hand']\n",
      "0.5112817274153976\n",
      "['smoothens dough with hand', 'spreads flour around table', 'smoothens dough with hands', 'slices dough to pieces', 'smoothen dough with hands', 'sprinkle flour on the table surface', 'smoothens dough with hand', 'cuts dough into smaller sizes', 'smoothens dough with hand']\n",
      "['False']\n",
      "0.09062881884965357\n",
      "['smoothens dough with hand', 'spreads flour around table', 'smoothens dough with hands', 'slices dough to pieces', 'smoothen dough with hands', 'sprinkle flour on the table surface', 'smoothens dough with hand', 'cuts dough into smaller sizes', 'smoothens dough with hand']\n",
      "['put flour in bowl', 'use hand to smoothen flour in bowl']\n",
      "0.6045317152967852\n",
      "['smoothens dough with hand', 'spreads flour around table', 'smoothens dough with hands', 'slices dough to pieces', 'smoothen dough with hands', 'sprinkle flour on the table surface', 'smoothens dough with hand', 'cuts dough into smaller sizes', 'smoothens dough with hand']\n",
      "['put dough in bowl', 'sprinkle flour on kitchen countertop', 'smoothen dough with hand on kitchen countertop']\n",
      "0.6800183946611764\n",
      "['smoothens dough with hand', 'spreads flour around table', 'smoothens dough with hands', 'slices dough to pieces', 'smoothen dough with hands', 'sprinkle flour on the table surface', 'smoothens dough with hand', 'cuts dough into smaller sizes', 'smoothens dough with hand']\n",
      "['place baking sheet on table', 'place dough on baking sheet', 'sprinkle flour on baking sheet', 'cut dough with knife']\n",
      "0.5701534324601243\n",
      "['smoothens dough with hand', 'spreads flour around table', 'smoothens dough with hands', 'slices dough to pieces', 'smoothen dough with hands', 'sprinkle flour on the table surface', 'smoothens dough with hand', 'cuts dough into smaller sizes', 'smoothens dough with hand']\n",
      "['smoothen dough with hand on table', 'smoothen dough with hand on table', 'smoothen dough with hand on table', 'smoothen dough with hand on table', 'smoothen dough with hand on table']\n",
      "0.7208801696981424\n",
      "['clean chop board', 'clean knife ']\n",
      "['clean cutting board in kitchen sink']\n",
      "0.5942692605078761\n",
      "['clean chop board', 'clean knife ']\n",
      "['False']\n",
      "0.11095594100270767\n",
      "['clean chop board', 'clean knife ']\n",
      "['wash utensils with water']\n",
      "0.39032290738087605\n",
      "['clean chop board', 'clean knife ']\n",
      "['False']\n",
      "0.11095011561965895\n",
      "['clean chop board', 'clean knife ']\n",
      "['clean knife with water']\n",
      "0.6610954127430981\n",
      "['clean chop board', 'clean knife ']\n",
      "['clean chop board', 'clean knife']\n",
      "0.9726172967309773\n",
      "['Add dog feed to bowl', 'Stir dog feed in a bowl', 'Add water to dog feed mixture', 'Stir dog feed mixture', 'Wash spoon in the dishwasher']\n",
      "['False']\n",
      "0.07814924317877803\n",
      "['Add dog feed to bowl', 'Stir dog feed in a bowl', 'Add water to dog feed mixture', 'Stir dog feed mixture', 'Wash spoon in the dishwasher']\n",
      "['wash washing tool in sink']\n",
      "0.28536883548943615\n",
      "['Add dog feed to bowl', 'Stir dog feed in a bowl', 'Add water to dog feed mixture', 'Stir dog feed mixture', 'Wash spoon in the dishwasher']\n",
      "['put spoon in dishwasher', 'add water to dishwasher', 'turn on the dishwasher']\n",
      "0.39467275660974976\n",
      "['Add dog feed to bowl', 'Stir dog feed in a bowl', 'Add water to dog feed mixture', 'Stir dog feed mixture', 'Wash spoon in the dishwasher']\n",
      "['put spoon in dishwasher', 'add water to dishwasher', 'turn on the dishwasher']\n",
      "0.39467275660974976\n",
      "['Add dog feed to bowl', 'Stir dog feed in a bowl', 'Add water to dog feed mixture', 'Stir dog feed mixture', 'Wash spoon in the dishwasher']\n",
      "['put spoon in dishwasher', 'turn on the dishwasher']\n",
      "0.33743221643846133\n",
      "['Add dog feed to bowl', 'Stir dog feed in a bowl', 'Add water to dog feed mixture', 'Stir dog feed mixture', 'Wash spoon in the dishwasher']\n",
      "['put spoon in dishwasher', 'add water to dishwasher', 'turn on dishwasher']\n",
      "0.3901243384793791\n",
      "['get cooking utensils to use', 'dice onion into tiny cubes', 'pack remaining onions into a container', 'get mushroom from plastic container']\n",
      "['get cooking tools to use']\n",
      "0.42814357536938585\n",
      "['get cooking utensils to use', 'dice onion into tiny cubes', 'pack remaining onions into a container', 'get mushroom from plastic container']\n",
      "['get mushroom']\n",
      "0.39452071414832557\n",
      "['get cooking utensils to use', 'dice onion into tiny cubes', 'pack remaining onions into a container', 'get mushroom from plastic container']\n",
      "['get onion from shelf']\n",
      "0.4693329827888517\n",
      "['get cooking utensils to use', 'dice onion into tiny cubes', 'pack remaining onions into a container', 'get mushroom from plastic container']\n",
      "['get knife', 'get chopping board', 'place onion on chopping board', 'dice onion with knife']\n",
      "0.4258792685653259\n",
      "['get cooking utensils to use', 'dice onion into tiny cubes', 'pack remaining onions into a container', 'get mushroom from plastic container']\n",
      "['get mushroom']\n",
      "0.3946246879150176\n",
      "['get cooking utensils to use', 'dice onion into tiny cubes', 'pack remaining onions into a container', 'get mushroom from plastic container']\n",
      "['get utensils to use', 'get onion', 'get knife', 'get cutting board', 'place onion on cutting board', 'dice onion into tiny cubes']\n",
      "0.49524611319692446\n",
      "['Check the temperature of the pan', 'Simmer vegetable in the pan', 'Set the pan on the stove']\n",
      "['set grill basket on charcoal grill', 'add leaves to grill basket', 'turn on the charcoal grill', 'simmer leaves in grill basket']\n",
      "0.3435798556051741\n",
      "['Check the temperature of the pan', 'Simmer vegetable in the pan', 'Set the pan on the stove']\n",
      "['set the wok on charcoal grill', 'check the temperature of the wok', 'simmer veggies in the wok']\n",
      "0.5417700578062093\n",
      "['Check the temperature of the pan', 'Simmer vegetable in the pan', 'Set the pan on the stove']\n",
      "['set grill basket on charcoal grill', 'put vegetable in grill basket', 'turn on the charcoal grill', 'simmer vegetable in grill basket']\n",
      "0.3659287844769695\n",
      "['Check the temperature of the pan', 'Simmer vegetable in the pan', 'Set the pan on the stove']\n",
      "['set the skillet on the stove', 'add leaves to the skillet', 'turn on the stove', 'simmer leaves in the skillet']\n",
      "0.5117875116874283\n",
      "['Check the temperature of the pan', 'Simmer vegetable in the pan', 'Set the pan on the stove']\n",
      "['set the pan on the stove', 'check the temperature of the pan', 'put veggies in the pan', 'turn on the stove', 'simmer veggies in the pan']\n",
      "0.6628144500972064\n",
      "['Check the temperature of the pan', 'Simmer vegetable in the pan', 'Set the pan on the stove']\n",
      "['set the pan on the stove', 'check the temperature of the pan', 'put vegetable in the pan', 'turn on the stove', 'simmer vegetable in the pan']\n",
      "0.675097559274475\n",
      "['Drop tray on table', 'Put on oven', 'Put tomato on tray', 'Place tray into oven', 'Get water into pot', 'Put pot on stovetop', 'Put salt in pot', 'Dice potato', 'Break out root from celery', 'Mix water and liquid soap.', 'Return cooking utensils', 'Look at tomato in oven through glass', 'Dispose an item in the trash bin', 'Clean and return chopstick']\n",
      "['put container on table', 'put veggies in container', 'place container into air fryer']\n",
      "0.3545042850743638\n",
      "['Drop tray on table', 'Put on oven', 'Put tomato on tray', 'Place tray into oven', 'Get water into pot', 'Put pot on stovetop', 'Put salt in pot', 'Dice potato', 'Break out root from celery', 'Mix water and liquid soap.', 'Return cooking utensils', 'Look at tomato in oven through glass', 'Dispose an item in the trash bin', 'Clean and return chopstick']\n",
      "['put container on table', 'put tomato in container', 'put container on stovetop', 'turn on the stove', 'wait until tomato is roasted']\n",
      "0.4025406136681813\n",
      "['Drop tray on table', 'Put on oven', 'Put tomato on tray', 'Place tray into oven', 'Get water into pot', 'Put pot on stovetop', 'Put salt in pot', 'Dice potato', 'Break out root from celery', 'Mix water and liquid soap.', 'Return cooking utensils', 'Look at tomato in oven through glass', 'Dispose an item in the trash bin', 'Clean and return chopstick']\n",
      "['put container on table']\n",
      "0.3237270549026471\n",
      "['Drop tray on table', 'Put on oven', 'Put tomato on tray', 'Place tray into oven', 'Get water into pot', 'Put pot on stovetop', 'Put salt in pot', 'Dice potato', 'Break out root from celery', 'Mix water and liquid soap.', 'Return cooking utensils', 'Look at tomato in oven through glass', 'Dispose an item in the trash bin', 'Clean and return chopstick']\n",
      "['drop tray on table', 'put tomato on tray', 'place tray into oven']\n",
      "0.4282729214569553\n",
      "['Drop tray on table', 'Put on oven', 'Put tomato on tray', 'Place tray into oven', 'Get water into pot', 'Put pot on stovetop', 'Put salt in pot', 'Dice potato', 'Break out root from celery', 'Mix water and liquid soap.', 'Return cooking utensils', 'Look at tomato in oven through glass', 'Dispose an item in the trash bin', 'Clean and return chopstick']\n",
      "['drop tray on table']\n",
      "0.3233596562944072\n",
      "['Drop tray on table', 'Put on oven', 'Put tomato on tray', 'Place tray into oven', 'Get water into pot', 'Put pot on stovetop', 'Put salt in pot', 'Dice potato', 'Break out root from celery', 'Mix water and liquid soap.', 'Return cooking utensils', 'Look at tomato in oven through glass', 'Dispose an item in the trash bin', 'Clean and return chopstick']\n",
      "['drop tray on table', 'put tray on table', 'put tomato on tray', 'place tray into oven']\n",
      "0.42639020350184054\n",
      "['Stir fry the sauce', 'Adjust heat', 'Stir fry sauce']\n",
      "['False']\n",
      "0.08826644988737253\n",
      "['Stir fry the sauce', 'Adjust heat', 'Stir fry sauce']\n",
      "['turn on cooking gas', 'add vegetable on cooking gas', 'stir fry vegetable']\n",
      "0.45872087705843867\n",
      "['Stir fry the sauce', 'Adjust heat', 'Stir fry sauce']\n",
      "['put pan on stove', 'add chicken to pan', 'add oil to pan', 'stir fry chicken with whisk', 'adjust heat on stove', 'stir fry chicken with whisk']\n",
      "0.5663504533358492\n",
      "['Stir fry the sauce', 'Adjust heat', 'Stir fry sauce']\n",
      "['use tong to stir fry soy meat on stovetop', 'adjust heat on stovetop', 'continue stir frying soy meat with tong']\n",
      "0.5916945345315219\n",
      "['Stir fry the sauce', 'Adjust heat', 'Stir fry sauce']\n",
      "['put minced pork in oven', 'heat minced pork in oven']\n",
      "0.33839302109624325\n",
      "['Stir fry the sauce', 'Adjust heat', 'Stir fry sauce']\n",
      "['put meat on stovetop', 'turn on the stovetop', 'fry meat on stovetop', 'stir meat with spatula']\n",
      "0.4475527732323408\n",
      "['Unpack potato', 'Slice potato into pieces', 'Clean hands with napkin', 'Add sliced potatoes into pan on stove', 'Wash hands', 'Read recipe', 'Check roast level of the sausages', 'Transfer potatoes into bigger pot', 'Add water from kettle into pot', 'Place pot of potato on stove']\n",
      "['put mashed potatoes in wok', 'add spices to wok', 'turn on cooker', 'boil mashed potatoes in wok']\n",
      "0.41026710607114103\n",
      "['Unpack potato', 'Slice potato into pieces', 'Clean hands with napkin', 'Add sliced potatoes into pan on stove', 'Wash hands', 'Read recipe', 'Check roast level of the sausages', 'Transfer potatoes into bigger pot', 'Add water from kettle into pot', 'Place pot of potato on stove']\n",
      "['impossible']\n",
      "0.07828982816331709\n",
      "['Unpack potato', 'Slice potato into pieces', 'Clean hands with napkin', 'Add sliced potatoes into pan on stove', 'Wash hands', 'Read recipe', 'Check roast level of the sausages', 'Transfer potatoes into bigger pot', 'Add water from kettle into pot', 'Place pot of potato on stove']\n",
      "['False']\n",
      "0.07319635705131877\n",
      "['Unpack potato', 'Slice potato into pieces', 'Clean hands with napkin', 'Add sliced potatoes into pan on stove', 'Wash hands', 'Read recipe', 'Check roast level of the sausages', 'Transfer potatoes into bigger pot', 'Add water from kettle into pot', 'Place pot of potato on stove']\n",
      "['Peel yam', 'Slice yam on cutting board with knife', 'Add sliced yam into pan', 'Pour limewater into pan', 'Place pan on cooker', 'Turn on the cooker', 'Boil yam in limewater']\n",
      "0.39452055091465066\n",
      "['Unpack potato', 'Slice potato into pieces', 'Clean hands with napkin', 'Add sliced potatoes into pan on stove', 'Wash hands', 'Read recipe', 'Check roast level of the sausages', 'Transfer potatoes into bigger pot', 'Add water from kettle into pot', 'Place pot of potato on stove']\n",
      "['place veggies on cutting board', 'slice veggies with knife', 'add sliced veggies into pot', 'add water into pot', 'place pot on cooker', 'turn on the cooker']\n",
      "0.420251634316973\n",
      "['Unpack potato', 'Slice potato into pieces', 'Clean hands with napkin', 'Add sliced potatoes into pan on stove', 'Wash hands', 'Read recipe', 'Check roast level of the sausages', 'Transfer potatoes into bigger pot', 'Add water from kettle into pot', 'Place pot of potato on stove']\n",
      "['unpack potato', 'slice potato into pieces', 'clean hands with napkin', 'add sliced potatoes into pot', 'wash hands', 'add water into pot', 'place pot on stove']\n",
      "0.7061634737731737\n",
      "['put the dough in the tortilla press', 'put nylon on the dough', 'flatten the dough with a tortilla press', 'flip the dough', 'flatten the dough with a tortilla press', 'place the flattened dough on the mat \\\\n', 'put nylon on the tortilla press', 'lubricate the nylon with oil', 'knead the dough', 'put the dough in the tortilla press', 'spread a nylon the dough', '\\\\nflatten the dough with a tortilla press', 'flip the dough', 'flatten the dough with a tortilla press', 'place the flattened dough on the mat', 'put nylon on the tortilla press', 'put the dough in the tortilla press', 'put nylon on the dough \\\\n', 'flatten the dough with a tortilla press \\\\n', 'flip the dough', 'place the flattened dough on the mat \\\\n', 'adjust the nylon on the tortilla press', 'knead the dough', 'put the dough in the tortilla press', 'put nylon on the dough', 'flatten the dough with a tortilla press', 'flip the dough\\\\n', 'flatten the dough with a tortilla press', 'place the flattened dough on the mat \\\\n', 'put nylon on the tortilla press \\\\n', 'knead the dough', 'put the dough in the tortilla press', 'put nylon on the dough', 'flatten the dough with a tortilla press \\\\n', 'flatten the dough with a tortilla press \\\\n']\n",
      "['put dough on tray', 'cover dough with foil', 'flatten dough with dough shaper', 'knead dough with dough shaper']\n",
      "0.5647218682720032\n",
      "['put the dough in the tortilla press', 'put nylon on the dough', 'flatten the dough with a tortilla press', 'flip the dough', 'flatten the dough with a tortilla press', 'place the flattened dough on the mat \\\\n', 'put nylon on the tortilla press', 'lubricate the nylon with oil', 'knead the dough', 'put the dough in the tortilla press', 'spread a nylon the dough', '\\\\nflatten the dough with a tortilla press', 'flip the dough', 'flatten the dough with a tortilla press', 'place the flattened dough on the mat', 'put nylon on the tortilla press', 'put the dough in the tortilla press', 'put nylon on the dough \\\\n', 'flatten the dough with a tortilla press \\\\n', 'flip the dough', 'place the flattened dough on the mat \\\\n', 'adjust the nylon on the tortilla press', 'knead the dough', 'put the dough in the tortilla press', 'put nylon on the dough', 'flatten the dough with a tortilla press', 'flip the dough\\\\n', 'flatten the dough with a tortilla press', 'place the flattened dough on the mat \\\\n', 'put nylon on the tortilla press \\\\n', 'knead the dough', 'put the dough in the tortilla press', 'put nylon on the dough', 'flatten the dough with a tortilla press \\\\n', 'flatten the dough with a tortilla press \\\\n']\n",
      "['put batter on plate', 'cover batter with parchment paper', 'knead batter by hand']\n",
      "0.4380532658126324\n",
      "['put the dough in the tortilla press', 'put nylon on the dough', 'flatten the dough with a tortilla press', 'flip the dough', 'flatten the dough with a tortilla press', 'place the flattened dough on the mat \\\\n', 'put nylon on the tortilla press', 'lubricate the nylon with oil', 'knead the dough', 'put the dough in the tortilla press', 'spread a nylon the dough', '\\\\nflatten the dough with a tortilla press', 'flip the dough', 'flatten the dough with a tortilla press', 'place the flattened dough on the mat', 'put nylon on the tortilla press', 'put the dough in the tortilla press', 'put nylon on the dough \\\\n', 'flatten the dough with a tortilla press \\\\n', 'flip the dough', 'place the flattened dough on the mat \\\\n', 'adjust the nylon on the tortilla press', 'knead the dough', 'put the dough in the tortilla press', 'put nylon on the dough', 'flatten the dough with a tortilla press', 'flip the dough\\\\n', 'flatten the dough with a tortilla press', 'place the flattened dough on the mat \\\\n', 'put nylon on the tortilla press \\\\n', 'knead the dough', 'put the dough in the tortilla press', 'put nylon on the dough', 'flatten the dough with a tortilla press \\\\n', 'flatten the dough with a tortilla press \\\\n']\n",
      "['put wheat on plate', 'cover wheat with plastic bag', 'knead wheat by hand']\n",
      "0.4284438606403679\n",
      "['put the dough in the tortilla press', 'put nylon on the dough', 'flatten the dough with a tortilla press', 'flip the dough', 'flatten the dough with a tortilla press', 'place the flattened dough on the mat \\\\n', 'put nylon on the tortilla press', 'lubricate the nylon with oil', 'knead the dough', 'put the dough in the tortilla press', 'spread a nylon the dough', '\\\\nflatten the dough with a tortilla press', 'flip the dough', 'flatten the dough with a tortilla press', 'place the flattened dough on the mat', 'put nylon on the tortilla press', 'put the dough in the tortilla press', 'put nylon on the dough \\\\n', 'flatten the dough with a tortilla press \\\\n', 'flip the dough', 'place the flattened dough on the mat \\\\n', 'adjust the nylon on the tortilla press', 'knead the dough', 'put the dough in the tortilla press', 'put nylon on the dough', 'flatten the dough with a tortilla press', 'flip the dough\\\\n', 'flatten the dough with a tortilla press', 'place the flattened dough on the mat \\\\n', 'put nylon on the tortilla press \\\\n', 'knead the dough', 'put the dough in the tortilla press', 'put nylon on the dough', 'flatten the dough with a tortilla press \\\\n', 'flatten the dough with a tortilla press \\\\n']\n",
      "['put grains on kitchen countertop', 'cover grains with napkin', 'knead grains with hand']\n",
      "0.4247130280580891\n",
      "['put the dough in the tortilla press', 'put nylon on the dough', 'flatten the dough with a tortilla press', 'flip the dough', 'flatten the dough with a tortilla press', 'place the flattened dough on the mat \\\\n', 'put nylon on the tortilla press', 'lubricate the nylon with oil', 'knead the dough', 'put the dough in the tortilla press', 'spread a nylon the dough', '\\\\nflatten the dough with a tortilla press', 'flip the dough', 'flatten the dough with a tortilla press', 'place the flattened dough on the mat', 'put nylon on the tortilla press', 'put the dough in the tortilla press', 'put nylon on the dough \\\\n', 'flatten the dough with a tortilla press \\\\n', 'flip the dough', 'place the flattened dough on the mat \\\\n', 'adjust the nylon on the tortilla press', 'knead the dough', 'put the dough in the tortilla press', 'put nylon on the dough', 'flatten the dough with a tortilla press', 'flip the dough\\\\n', 'flatten the dough with a tortilla press', 'place the flattened dough on the mat \\\\n', 'put nylon on the tortilla press \\\\n', 'knead the dough', 'put the dough in the tortilla press', 'put nylon on the dough', 'flatten the dough with a tortilla press \\\\n', 'flatten the dough with a tortilla press \\\\n']\n",
      "['put plastic wrap on pan', 'put spinach puff pastry on pan', 'flatten spinach puff pastry with hand', 'flip spinach puff pastry', 'flatten spinach puff pastry with hand']\n",
      "0.45841529408053927\n",
      "['put the dough in the tortilla press', 'put nylon on the dough', 'flatten the dough with a tortilla press', 'flip the dough', 'flatten the dough with a tortilla press', 'place the flattened dough on the mat \\\\n', 'put nylon on the tortilla press', 'lubricate the nylon with oil', 'knead the dough', 'put the dough in the tortilla press', 'spread a nylon the dough', '\\\\nflatten the dough with a tortilla press', 'flip the dough', 'flatten the dough with a tortilla press', 'place the flattened dough on the mat', 'put nylon on the tortilla press', 'put the dough in the tortilla press', 'put nylon on the dough \\\\n', 'flatten the dough with a tortilla press \\\\n', 'flip the dough', 'place the flattened dough on the mat \\\\n', 'adjust the nylon on the tortilla press', 'knead the dough', 'put the dough in the tortilla press', 'put nylon on the dough', 'flatten the dough with a tortilla press', 'flip the dough\\\\n', 'flatten the dough with a tortilla press', 'place the flattened dough on the mat \\\\n', 'put nylon on the tortilla press \\\\n', 'knead the dough', 'put the dough in the tortilla press', 'put nylon on the dough', 'flatten the dough with a tortilla press \\\\n', 'flatten the dough with a tortilla press \\\\n']\n",
      "['combine flour with water to make dough', 'cover the dough with plastic wrap', 'knead the dough by hand']\n",
      "0.5200304007671315\n",
      "['add sliced beef in macaroni', 'add sliced liver to macaroni', 'regulate cooking gas heat', 'break raw egg in macaroni\\\\n', 'rinse hand under tap', 'add milk in macaroni', 'stirs macaroni in pot', 'add milk in macaroni', 'add pepper in macaroni', 'grates cheese into macaroni', 'stir macaroni in pot', 'grate cheese into macaroni', 'stir macaroni in pot', 'add  seasoning powder in macaroni', 'stir macaroni in pot', 'cover macaroni pot with lid', 'regulate cooking gas heat', 'dispose egg shell in trash bin', 'store cheese in fridge']\n",
      "['put pan on countertop', 'add flour to pan', 'add water to pan', 'add beef stock to pan', 'add spices to pan', 'stir mixture in pan']\n",
      "0.3810405389117859\n",
      "['add sliced beef in macaroni', 'add sliced liver to macaroni', 'regulate cooking gas heat', 'break raw egg in macaroni\\\\n', 'rinse hand under tap', 'add milk in macaroni', 'stirs macaroni in pot', 'add milk in macaroni', 'add pepper in macaroni', 'grates cheese into macaroni', 'stir macaroni in pot', 'grate cheese into macaroni', 'stir macaroni in pot', 'add  seasoning powder in macaroni', 'stir macaroni in pot', 'cover macaroni pot with lid', 'regulate cooking gas heat', 'dispose egg shell in trash bin', 'store cheese in fridge']\n",
      "['put noodles in wok', 'add water in wok', 'turn on cooking gas stove', 'stir noodles in wok', 'add cream in wok', 'stir noodles in wok', 'add bell pepper in wok', 'stir noodles in wok', 'turn off cooking gas stove']\n",
      "0.43987138097467293\n",
      "['add sliced beef in macaroni', 'add sliced liver to macaroni', 'regulate cooking gas heat', 'break raw egg in macaroni\\\\n', 'rinse hand under tap', 'add milk in macaroni', 'stirs macaroni in pot', 'add milk in macaroni', 'add pepper in macaroni', 'grates cheese into macaroni', 'stir macaroni in pot', 'grate cheese into macaroni', 'stir macaroni in pot', 'add  seasoning powder in macaroni', 'stir macaroni in pot', 'cover macaroni pot with lid', 'regulate cooking gas heat', 'dispose egg shell in trash bin', 'store cheese in fridge']\n",
      "['put macaroni in skillet', 'add water to skillet', 'turn on cooking gas stove', 'boil macaroni in skillet', 'turn off cooking gas stove']\n",
      "0.5542689905986107\n",
      "['add sliced beef in macaroni', 'add sliced liver to macaroni', 'regulate cooking gas heat', 'break raw egg in macaroni\\\\n', 'rinse hand under tap', 'add milk in macaroni', 'stirs macaroni in pot', 'add milk in macaroni', 'add pepper in macaroni', 'grates cheese into macaroni', 'stir macaroni in pot', 'grate cheese into macaroni', 'stir macaroni in pot', 'add  seasoning powder in macaroni', 'stir macaroni in pot', 'cover macaroni pot with lid', 'regulate cooking gas heat', 'dispose egg shell in trash bin', 'store cheese in fridge']\n",
      "['add beef in pot', 'add liver to pot', 'add milk in pot', 'add pepper in pot', 'add mascarpone cheese in pot', 'add seasoning powder in pot', 'put pot on cooking gas stove', 'turn on cooking gas stove', 'stir pot with spoon', 'cover pot with lid']\n",
      "0.5182329052331737\n",
      "['add sliced beef in macaroni', 'add sliced liver to macaroni', 'regulate cooking gas heat', 'break raw egg in macaroni\\\\n', 'rinse hand under tap', 'add milk in macaroni', 'stirs macaroni in pot', 'add milk in macaroni', 'add pepper in macaroni', 'grates cheese into macaroni', 'stir macaroni in pot', 'grate cheese into macaroni', 'stir macaroni in pot', 'add  seasoning powder in macaroni', 'stir macaroni in pot', 'cover macaroni pot with lid', 'regulate cooking gas heat', 'dispose egg shell in trash bin', 'store cheese in fridge']\n",
      "['put pot on cooking gas stove', 'add macaroni into pot', 'add beef into pot', 'add milk into pot', 'add seasoning powder into pot', 'turn on cooking gas stove', 'stir macaroni in pot with stirring spoon', 'cover pot with lid', 'turn off cooking gas stove']\n",
      "0.5407135896364608\n",
      "['add sliced beef in macaroni', 'add sliced liver to macaroni', 'regulate cooking gas heat', 'break raw egg in macaroni\\\\n', 'rinse hand under tap', 'add milk in macaroni', 'stirs macaroni in pot', 'add milk in macaroni', 'add pepper in macaroni', 'grates cheese into macaroni', 'stir macaroni in pot', 'grate cheese into macaroni', 'stir macaroni in pot', 'add  seasoning powder in macaroni', 'stir macaroni in pot', 'cover macaroni pot with lid', 'regulate cooking gas heat', 'dispose egg shell in trash bin', 'store cheese in fridge']\n",
      "['add beef in macaroni', 'add liver to macaroni', 'add egg in macaroni', 'add milk in macaroni', 'add milk in macaroni', 'add pepper in macaroni', 'grate cheese into macaroni', 'stir macaroni in pot', 'grate cheese into macaroni', 'stir macaroni in pot', 'add seasoning powder in macaroni', 'stir macaroni in pot', 'cover macaroni pot with lid']\n",
      "0.7518407964653779\n",
      "['add vegetable salad to bowl', 'add sweet onion vinaigrette to vegetable salad', 'mix vegetable with sweet onion vinaigrette', 'add ingredient to vegetable salad', 'add cheddar cheese to vegetable salad', 'rinse bell pepper', 'dry bell pepper with paper towel', 'cut bell pepper', 'get bell pepper from fridge', 'rinse bell pepper', 'dry bell pepper with paper towel', 'cut bell pepper', 'slice bell pepper', 'add bell pepper to container', 'add bell pepper to container ']\n",
      "['pick up vegetable', 'put vegetable in basket']\n",
      "0.43247771764642995\n",
      "['add vegetable salad to bowl', 'add sweet onion vinaigrette to vegetable salad', 'mix vegetable with sweet onion vinaigrette', 'add ingredient to vegetable salad', 'add cheddar cheese to vegetable salad', 'rinse bell pepper', 'dry bell pepper with paper towel', 'cut bell pepper', 'get bell pepper from fridge', 'rinse bell pepper', 'dry bell pepper with paper towel', 'cut bell pepper', 'slice bell pepper', 'add bell pepper to container', 'add bell pepper to container ']\n",
      "['slice chilli pepper', 'add chilli pepper to container']\n",
      "0.5311537746987411\n",
      "['add vegetable salad to bowl', 'add sweet onion vinaigrette to vegetable salad', 'mix vegetable with sweet onion vinaigrette', 'add ingredient to vegetable salad', 'add cheddar cheese to vegetable salad', 'rinse bell pepper', 'dry bell pepper with paper towel', 'cut bell pepper', 'get bell pepper from fridge', 'rinse bell pepper', 'dry bell pepper with paper towel', 'cut bell pepper', 'slice bell pepper', 'add bell pepper to container', 'add bell pepper to container ']\n",
      "['slice jalapeno', 'add jalapeno to container']\n",
      "0.47675474971979337\n",
      "['add vegetable salad to bowl', 'add sweet onion vinaigrette to vegetable salad', 'mix vegetable with sweet onion vinaigrette', 'add ingredient to vegetable salad', 'add cheddar cheese to vegetable salad', 'rinse bell pepper', 'dry bell pepper with paper towel', 'cut bell pepper', 'get bell pepper from fridge', 'rinse bell pepper', 'dry bell pepper with paper towel', 'cut bell pepper', 'slice bell pepper', 'add bell pepper to container', 'add bell pepper to container ']\n",
      "['False']\n",
      "0.051810167876360835\n",
      "['add vegetable salad to bowl', 'add sweet onion vinaigrette to vegetable salad', 'mix vegetable with sweet onion vinaigrette', 'add ingredient to vegetable salad', 'add cheddar cheese to vegetable salad', 'rinse bell pepper', 'dry bell pepper with paper towel', 'cut bell pepper', 'get bell pepper from fridge', 'rinse bell pepper', 'dry bell pepper with paper towel', 'cut bell pepper', 'slice bell pepper', 'add bell pepper to container', 'add bell pepper to container ']\n",
      "['get bell pepper from refrigerator', 'slice bell pepper', 'add bell pepper to container']\n",
      "0.6580284443381306\n",
      "['add vegetable salad to bowl', 'add sweet onion vinaigrette to vegetable salad', 'mix vegetable with sweet onion vinaigrette', 'add ingredient to vegetable salad', 'add cheddar cheese to vegetable salad', 'rinse bell pepper', 'dry bell pepper with paper towel', 'cut bell pepper', 'get bell pepper from fridge', 'rinse bell pepper', 'dry bell pepper with paper towel', 'cut bell pepper', 'slice bell pepper', 'add bell pepper to container', 'add bell pepper to container ']\n",
      "['get bell pepper from fridge', 'rinse bell pepper', 'dry bell pepper with paper towel', 'cut bell pepper', 'slice bell pepper', 'add bell pepper to container']\n",
      "0.7178207503132332\n",
      "['Add coffee to coffee maker', 'Rinse coffee jar', 'Add water to coffee', 'Dispose water in sink', 'Wash pan', 'Wash hand', 'Wash pan ']\n",
      "['False']\n",
      "0.08420198804962997\n",
      "['Add coffee to coffee maker', 'Rinse coffee jar', 'Add water to coffee', 'Dispose water in sink', 'Wash pan', 'Wash hand', 'Wash pan ']\n",
      "['False']\n",
      "0.08420533320460677\n",
      "['Add coffee to coffee maker', 'Rinse coffee jar', 'Add water to coffee', 'Dispose water in sink', 'Wash pan', 'Wash hand', 'Wash pan ']\n",
      "['put rag in pot', 'wash pot with rag']\n",
      "0.42809054822051296\n",
      "['Add coffee to coffee maker', 'Rinse coffee jar', 'Add water to coffee', 'Dispose water in sink', 'Wash pan', 'Wash hand', 'Wash pan ']\n",
      "['put pan in sink', 'wet tissue', 'wipe pan with tissue', 'rinse pan in sink']\n",
      "0.4063148074639399\n",
      "['Add coffee to coffee maker', 'Rinse coffee jar', 'Add water to coffee', 'Dispose water in sink', 'Wash pan', 'Wash hand', 'Wash pan ']\n",
      "['take tissue', 'take pan', 'bring pan to sink', 'wash pan with tissue in sink']\n",
      "0.4097245442121683\n",
      "['Add coffee to coffee maker', 'Rinse coffee jar', 'Add water to coffee', 'Dispose water in sink', 'Wash pan', 'Wash hand', 'Wash pan ']\n",
      "['take tissue', 'wet tissue with water from a bottle of water', 'wipe pan with wet tissue at sink', 'rinse pan at sink']\n",
      "0.4121774273282126\n",
      "['Serve hotdog', 'Gather ingredient', 'Microwave the hotdog', 'Dice onion into smaller sizes', 'Remove hotdog from the microwave', 'Add sliced bread to the plate', 'Add spices to the food', 'Add diced ingredients to the bread in the plate', 'Serve the food']\n",
      "['gather minced beef', 'place minced beef on table', 'serve minced beef']\n",
      "0.39532329752067696\n",
      "['Serve hotdog', 'Gather ingredient', 'Microwave the hotdog', 'Dice onion into smaller sizes', 'Remove hotdog from the microwave', 'Add sliced bread to the plate', 'Add spices to the food', 'Add diced ingredients to the bread in the plate', 'Serve the food']\n",
      "['gather carton, coriander seeds, and breadsticks', 'open carton', 'place breadsticks in carton', 'add coriander seeds to breadsticks', 'serve breadsticks in carton']\n",
      "0.3832233656327846\n",
      "['Serve hotdog', 'Gather ingredient', 'Microwave the hotdog', 'Dice onion into smaller sizes', 'Remove hotdog from the microwave', 'Add sliced bread to the plate', 'Add spices to the food', 'Add diced ingredients to the bread in the plate', 'Serve the food']\n",
      "['gather corn dogs', 'place corn dogs on plate', 'serve corn dogs on plate']\n",
      "0.43252628982525065\n",
      "['Serve hotdog', 'Gather ingredient', 'Microwave the hotdog', 'Dice onion into smaller sizes', 'Remove hotdog from the microwave', 'Add sliced bread to the plate', 'Add spices to the food', 'Add diced ingredients to the bread in the plate', 'Serve the food']\n",
      "['dice onion with knife', 'put onion on plate', 'serve onion on plate']\n",
      "0.4386766087356667\n",
      "['Serve hotdog', 'Gather ingredient', 'Microwave the hotdog', 'Dice onion into smaller sizes', 'Remove hotdog from the microwave', 'Add sliced bread to the plate', 'Add spices to the food', 'Add diced ingredients to the bread in the plate', 'Serve the food']\n",
      "['gather pasta, bread, garlic, spice bottle, plate', 'put pasta on plate', 'add bread to plate', 'dice garlic', 'add diced garlic to plate', 'add spice bottle contents to plate', 'serve pasta on plate']\n",
      "0.4381441874391707\n",
      "['Serve hotdog', 'Gather ingredient', 'Microwave the hotdog', 'Dice onion into smaller sizes', 'Remove hotdog from the microwave', 'Add sliced bread to the plate', 'Add spices to the food', 'Add diced ingredients to the bread in the plate', 'Serve the food']\n",
      "['gather ingredients', 'microwave the hotdog', 'remove hotdog from the microwave', 'dice onion into smaller sizes', 'add bread to the plate', 'add spices to the food', 'add diced onion to the bread on the plate', 'serve the food']\n",
      "0.7492823898532336\n",
      "['Peel the banana blossom', 'Lubricate both hands', 'Wear a protective rubber on the finger', 'Slice the florets', 'Remove the head of the banana blossom', 'Chop the banana blossom', 'Remove the banana blossom bract', 'Chop the banana blossom', 'Chop the banana blossom', 'Mix the chop banana blossom together', 'Add oil to the banana blossom', 'Add curry to the banana blossom', 'Mix the banana blossom ingredients together', 'Slice banana blossom', 'Mix the banana blossom ingredients together']\n",
      "['peel the potato', 'slice the potato', 'chop the potato', 'put chopped potato in pot', 'mix the potato with spoon']\n",
      "0.39519457888779563\n",
      "['Peel the banana blossom', 'Lubricate both hands', 'Wear a protective rubber on the finger', 'Slice the florets', 'Remove the head of the banana blossom', 'Chop the banana blossom', 'Remove the banana blossom bract', 'Chop the banana blossom', 'Chop the banana blossom', 'Mix the chop banana blossom together', 'Add oil to the banana blossom', 'Add curry to the banana blossom', 'Mix the banana blossom ingredients together', 'Slice banana blossom', 'Mix the banana blossom ingredients together']\n",
      "['place potato on cutting board', 'slice potato with knife', 'chop potato with knife']\n",
      "0.31080426671319883\n",
      "['Peel the banana blossom', 'Lubricate both hands', 'Wear a protective rubber on the finger', 'Slice the florets', 'Remove the head of the banana blossom', 'Chop the banana blossom', 'Remove the banana blossom bract', 'Chop the banana blossom', 'Chop the banana blossom', 'Mix the chop banana blossom together', 'Add oil to the banana blossom', 'Add curry to the banana blossom', 'Mix the banana blossom ingredients together', 'Slice banana blossom', 'Mix the banana blossom ingredients together']\n",
      "['peel the potato', 'slice the potato', 'chop the potato', 'put chopped potato in bowl', 'mix the potato with spoon']\n",
      "0.3987648034241399\n",
      "['Peel the banana blossom', 'Lubricate both hands', 'Wear a protective rubber on the finger', 'Slice the florets', 'Remove the head of the banana blossom', 'Chop the banana blossom', 'Remove the banana blossom bract', 'Chop the banana blossom', 'Chop the banana blossom', 'Mix the chop banana blossom together', 'Add oil to the banana blossom', 'Add curry to the banana blossom', 'Mix the banana blossom ingredients together', 'Slice banana blossom', 'Mix the banana blossom ingredients together']\n",
      "['peel the cabbage', 'slice the cabbage', 'chop the cabbage', 'add spices to the chopped cabbage', 'mix the chopped cabbage and spices together with spoon']\n",
      "0.443519890086841\n",
      "['Peel the banana blossom', 'Lubricate both hands', 'Wear a protective rubber on the finger', 'Slice the florets', 'Remove the head of the banana blossom', 'Chop the banana blossom', 'Remove the banana blossom bract', 'Chop the banana blossom', 'Chop the banana blossom', 'Mix the chop banana blossom together', 'Add oil to the banana blossom', 'Add curry to the banana blossom', 'Mix the banana blossom ingredients together', 'Slice banana blossom', 'Mix the banana blossom ingredients together']\n",
      "['slice floret with knife on cutting board', 'chop floret with knife on cutting board', 'put chopped floret in pot', 'add curry to pot', 'add oil to pot', 'mix ingredients in pot with spoon']\n",
      "0.4015431788982101\n",
      "['Peel the banana blossom', 'Lubricate both hands', 'Wear a protective rubber on the finger', 'Slice the florets', 'Remove the head of the banana blossom', 'Chop the banana blossom', 'Remove the banana blossom bract', 'Chop the banana blossom', 'Chop the banana blossom', 'Mix the chop banana blossom together', 'Add oil to the banana blossom', 'Add curry to the banana blossom', 'Mix the banana blossom ingredients together', 'Slice banana blossom', 'Mix the banana blossom ingredients together']\n",
      "['peel the banana blossom', 'slice the banana blossom', 'chop the banana blossom', 'mix the chopped banana blossom florets by hand']\n",
      "0.728023540248053\n",
      "['Chop mangoes', 'Clean chopping knife', 'Sort chopped mangoes', 'Move chopped mangoes into bowl']\n",
      "['move pawpaw onto plate']\n",
      "0.40789678763544934\n",
      "['Chop mangoes', 'Clean chopping knife', 'Sort chopped mangoes', 'Move chopped mangoes into bowl']\n",
      "['move jujubes into basket']\n",
      "0.3796660548895533\n",
      "['Chop mangoes', 'Clean chopping knife', 'Sort chopped mangoes', 'Move chopped mangoes into bowl']\n",
      "['move cheese onto plate']\n",
      "0.3483048716748657\n",
      "['Chop mangoes', 'Clean chopping knife', 'Sort chopped mangoes', 'Move chopped mangoes into bowl']\n",
      "['move melon into bowl']\n",
      "0.4652725445378306\n",
      "['Chop mangoes', 'Clean chopping knife', 'Sort chopped mangoes', 'Move chopped mangoes into bowl']\n",
      "['move mango into bowl']\n",
      "0.6028149099389072\n",
      "['Chop mangoes', 'Clean chopping knife', 'Sort chopped mangoes', 'Move chopped mangoes into bowl']\n",
      "['chop mango with knife on cutting board', 'move chopped mango into bowl']\n",
      "0.7515685272208598\n",
      "['Pour lemon wine in the amaro', 'Mix the drink with a spoon', 'Fetch water in the ice cube tray', 'Fetch water in the ice cube tray', 'Store the water in the ice cube tray in a fridge', 'Store the water in the ice cube tray in a fridge']\n",
      "['False']\n",
      "0.05479033054047999\n",
      "['Pour lemon wine in the amaro', 'Mix the drink with a spoon', 'Fetch water in the ice cube tray', 'Fetch water in the ice cube tray', 'Store the water in the ice cube tray in a fridge', 'Store the water in the ice cube tray in a fridge']\n",
      "['False']\n",
      "0.054798709273027435\n",
      "['Pour lemon wine in the amaro', 'Mix the drink with a spoon', 'Fetch water in the ice cube tray', 'Fetch water in the ice cube tray', 'Store the water in the ice cube tray in a fridge', 'Store the water in the ice cube tray in a fridge']\n",
      "['False']\n",
      "0.05478141612610321\n",
      "['Pour lemon wine in the amaro', 'Mix the drink with a spoon', 'Fetch water in the ice cube tray', 'Fetch water in the ice cube tray', 'Store the water in the ice cube tray in a fridge', 'Store the water in the ice cube tray in a fridge']\n",
      "['False']\n",
      "0.0547948636903236\n",
      "['Pour lemon wine in the amaro', 'Mix the drink with a spoon', 'Fetch water in the ice cube tray', 'Fetch water in the ice cube tray', 'Store the water in the ice cube tray in a fridge', 'Store the water in the ice cube tray in a fridge']\n",
      "['False']\n",
      "0.0547948636903236\n",
      "['Pour lemon wine in the amaro', 'Mix the drink with a spoon', 'Fetch water in the ice cube tray', 'Fetch water in the ice cube tray', 'Store the water in the ice cube tray in a fridge', 'Store the water in the ice cube tray in a fridge']\n",
      "['fetch water with ice cube tray', 'store the ice cube tray in the freezer']\n",
      "0.6684055230699673\n",
      "['Place plates on counter top', 'Place cup on counter top', 'Remove trash bag from trash bucket', 'Place new trash bag in trash bucket', 'Place lid on counter top', 'Place cup on the counter top', 'Add tomato paste to pasta in pot', 'Stir pasta in pot', 'Add tomato paste to pasta in pot ']\n",
      "['add ketchup to spaghetti in pan', 'stir spaghetti in pan']\n",
      "0.3478747542417494\n",
      "['Place plates on counter top', 'Place cup on counter top', 'Remove trash bag from trash bucket', 'Place new trash bag in trash bucket', 'Place lid on counter top', 'Place cup on the counter top', 'Add tomato paste to pasta in pot', 'Stir pasta in pot', 'Add tomato paste to pasta in pot ']\n",
      "['add stew to pan', 'stir stew in pan']\n",
      "0.32264986684996055\n",
      "['Place plates on counter top', 'Place cup on counter top', 'Remove trash bag from trash bucket', 'Place new trash bag in trash bucket', 'Place lid on counter top', 'Place cup on the counter top', 'Add tomato paste to pasta in pot', 'Stir pasta in pot', 'Add tomato paste to pasta in pot ']\n",
      "['put food in pan']\n",
      "0.36176383429142556\n",
      "['Place plates on counter top', 'Place cup on counter top', 'Remove trash bag from trash bucket', 'Place new trash bag in trash bucket', 'Place lid on counter top', 'Place cup on the counter top', 'Add tomato paste to pasta in pot', 'Stir pasta in pot', 'Add tomato paste to pasta in pot ']\n",
      "['put pan on gas stove', 'add sauce to spaghetti in pan', 'stir spaghetti in pan with spatula']\n",
      "0.4161549910943225\n",
      "['Place plates on counter top', 'Place cup on counter top', 'Remove trash bag from trash bucket', 'Place new trash bag in trash bucket', 'Place lid on counter top', 'Place cup on the counter top', 'Add tomato paste to pasta in pot', 'Stir pasta in pot', 'Add tomato paste to pasta in pot ']\n",
      "['put pan on stove', 'add pasta to pan', 'add onion to pan', 'stir pasta in pan with whisk']\n",
      "0.3997029521777916\n",
      "['Place plates on counter top', 'Place cup on counter top', 'Remove trash bag from trash bucket', 'Place new trash bag in trash bucket', 'Place lid on counter top', 'Place cup on the counter top', 'Add tomato paste to pasta in pot', 'Stir pasta in pot', 'Add tomato paste to pasta in pot ']\n",
      "['put pasta in pan']\n",
      "0.4157173917732283\n",
      "['Peel outer skin of potato', 'Slice potato', 'Pour sliced potato into bowl', 'Peel outer skin of lotus roots', 'Slice lotus roots', 'Pour sliced lotus roots into bowl', 'Peel outer skin of lotus roots', 'Slice lotus roots', 'Pour sliced lotus roots into bowl', 'Slice mushroom', 'Pour sliced mushroom into bowl', 'Slice mushroom', 'Pour sliced mushroom into bowl', 'Slice mushroom', 'Pour sliced mushroom into bowl', 'Unpack sausage', 'Slice sausage', 'Slice tofu', 'Pour sliced tofu into bowl']\n",
      "['False']\n",
      "0.06198567126360255\n",
      "['Peel outer skin of potato', 'Slice potato', 'Pour sliced potato into bowl', 'Peel outer skin of lotus roots', 'Slice lotus roots', 'Pour sliced lotus roots into bowl', 'Peel outer skin of lotus roots', 'Slice lotus roots', 'Pour sliced lotus roots into bowl', 'Slice mushroom', 'Pour sliced mushroom into bowl', 'Slice mushroom', 'Pour sliced mushroom into bowl', 'Slice mushroom', 'Pour sliced mushroom into bowl', 'Unpack sausage', 'Slice sausage', 'Slice tofu', 'Pour sliced tofu into bowl']\n",
      "['False']\n",
      "0.06215512514789001\n",
      "['Peel outer skin of potato', 'Slice potato', 'Pour sliced potato into bowl', 'Peel outer skin of lotus roots', 'Slice lotus roots', 'Pour sliced lotus roots into bowl', 'Peel outer skin of lotus roots', 'Slice lotus roots', 'Pour sliced lotus roots into bowl', 'Slice mushroom', 'Pour sliced mushroom into bowl', 'Slice mushroom', 'Pour sliced mushroom into bowl', 'Slice mushroom', 'Pour sliced mushroom into bowl', 'Unpack sausage', 'Slice sausage', 'Slice tofu', 'Pour sliced tofu into bowl']\n",
      "['slice potato', 'put sliced potato into bowl']\n",
      "0.5432185623207608\n",
      "['Peel outer skin of potato', 'Slice potato', 'Pour sliced potato into bowl', 'Peel outer skin of lotus roots', 'Slice lotus roots', 'Pour sliced lotus roots into bowl', 'Peel outer skin of lotus roots', 'Slice lotus roots', 'Pour sliced lotus roots into bowl', 'Slice mushroom', 'Pour sliced mushroom into bowl', 'Slice mushroom', 'Pour sliced mushroom into bowl', 'Slice mushroom', 'Pour sliced mushroom into bowl', 'Unpack sausage', 'Slice sausage', 'Slice tofu', 'Pour sliced tofu into bowl']\n",
      "['put potato in bowl']\n",
      "0.43278339923287135\n",
      "['Peel outer skin of potato', 'Slice potato', 'Pour sliced potato into bowl', 'Peel outer skin of lotus roots', 'Slice lotus roots', 'Pour sliced lotus roots into bowl', 'Peel outer skin of lotus roots', 'Slice lotus roots', 'Pour sliced lotus roots into bowl', 'Slice mushroom', 'Pour sliced mushroom into bowl', 'Slice mushroom', 'Pour sliced mushroom into bowl', 'Slice mushroom', 'Pour sliced mushroom into bowl', 'Unpack sausage', 'Slice sausage', 'Slice tofu', 'Pour sliced tofu into bowl']\n",
      "['pick up knife', 'pick up potato', 'slice potato with knife', 'put sliced potato into bowl']\n",
      "0.5220457951304784\n",
      "['Peel outer skin of potato', 'Slice potato', 'Pour sliced potato into bowl', 'Peel outer skin of lotus roots', 'Slice lotus roots', 'Pour sliced lotus roots into bowl', 'Peel outer skin of lotus roots', 'Slice lotus roots', 'Pour sliced lotus roots into bowl', 'Slice mushroom', 'Pour sliced mushroom into bowl', 'Slice mushroom', 'Pour sliced mushroom into bowl', 'Slice mushroom', 'Pour sliced mushroom into bowl', 'Unpack sausage', 'Slice sausage', 'Slice tofu', 'Pour sliced tofu into bowl']\n",
      "['peel potato with peeler', 'slice potato with knife', 'put sliced potato into bowl']\n",
      "0.5461603438639231\n",
      "['prepare lettuce', 'wash lettuce', 'shred lettuce with hands', 'wash hand', 'drain lettuce', 'unwrap fish', 'cook fish in pan', 'add lettuce to a bowl', 'add mixed salad to bowl', 'add spices to bowl', 'mix ingredients together with chopsticks', 'add smoked salmon', 'mix ingredients together with chopsticks', 'dispose salmon wrap', 'add tomatoes to bowl', 'remove seed from avocado', 'dispose avocado seed', 'add avocado to bowl', 'add sesame sauce to bowl', 'mix ingredients together with chopsticks', 'mash fish in pan with chopsticks', 'turn off stovetop', 'add mashed fish to bowl', 'mix ingredients together with chopsticks', 'add mashed fish to bowl']\n",
      "['prepare cabbage', 'wash cabbage', 'shred cabbage with knife', 'add meat to skillet', 'cook meat in skillet', 'add cabbage to skillet', 'add coriander seeds to skillet', 'mix ingredients together with utensils']\n",
      "0.47046841489845537\n",
      "['prepare lettuce', 'wash lettuce', 'shred lettuce with hands', 'wash hand', 'drain lettuce', 'unwrap fish', 'cook fish in pan', 'add lettuce to a bowl', 'add mixed salad to bowl', 'add spices to bowl', 'mix ingredients together with chopsticks', 'add smoked salmon', 'mix ingredients together with chopsticks', 'dispose salmon wrap', 'add tomatoes to bowl', 'remove seed from avocado', 'dispose avocado seed', 'add avocado to bowl', 'add sesame sauce to bowl', 'mix ingredients together with chopsticks', 'mash fish in pan with chopsticks', 'turn off stovetop', 'add mashed fish to bowl', 'mix ingredients together with chopsticks', 'add mashed fish to bowl']\n",
      "['prepare vegetable', 'cut vegetable with knife', 'add vegetable to bowl', 'mix ingredients together with stick']\n",
      "0.5201713689537804\n",
      "['prepare lettuce', 'wash lettuce', 'shred lettuce with hands', 'wash hand', 'drain lettuce', 'unwrap fish', 'cook fish in pan', 'add lettuce to a bowl', 'add mixed salad to bowl', 'add spices to bowl', 'mix ingredients together with chopsticks', 'add smoked salmon', 'mix ingredients together with chopsticks', 'dispose salmon wrap', 'add tomatoes to bowl', 'remove seed from avocado', 'dispose avocado seed', 'add avocado to bowl', 'add sesame sauce to bowl', 'mix ingredients together with chopsticks', 'mash fish in pan with chopsticks', 'turn off stovetop', 'add mashed fish to bowl', 'mix ingredients together with chopsticks', 'add mashed fish to bowl']\n",
      "['prepare lettuce', 'shred lettuce with knife', 'add lettuce to bowl', 'add mashed fish to bowl', 'add paprika to bowl', 'mix ingredients together in bowl']\n",
      "0.575852292462303\n",
      "['prepare lettuce', 'wash lettuce', 'shred lettuce with hands', 'wash hand', 'drain lettuce', 'unwrap fish', 'cook fish in pan', 'add lettuce to a bowl', 'add mixed salad to bowl', 'add spices to bowl', 'mix ingredients together with chopsticks', 'add smoked salmon', 'mix ingredients together with chopsticks', 'dispose salmon wrap', 'add tomatoes to bowl', 'remove seed from avocado', 'dispose avocado seed', 'add avocado to bowl', 'add sesame sauce to bowl', 'mix ingredients together with chopsticks', 'mash fish in pan with chopsticks', 'turn off stovetop', 'add mashed fish to bowl', 'mix ingredients together with chopsticks', 'add mashed fish to bowl']\n",
      "['put salmon in bowl', 'put vegetable in bowl', 'put tomato in bowl', 'put avocado in bowl', 'add soy sauce to bowl', 'add pepper to bowl', 'mix ingredients together with chopsticks']\n",
      "0.5660079507316271\n",
      "['prepare lettuce', 'wash lettuce', 'shred lettuce with hands', 'wash hand', 'drain lettuce', 'unwrap fish', 'cook fish in pan', 'add lettuce to a bowl', 'add mixed salad to bowl', 'add spices to bowl', 'mix ingredients together with chopsticks', 'add smoked salmon', 'mix ingredients together with chopsticks', 'dispose salmon wrap', 'add tomatoes to bowl', 'remove seed from avocado', 'dispose avocado seed', 'add avocado to bowl', 'add sesame sauce to bowl', 'mix ingredients together with chopsticks', 'mash fish in pan with chopsticks', 'turn off stovetop', 'add mashed fish to bowl', 'mix ingredients together with chopsticks', 'add mashed fish to bowl']\n",
      "['wash lettuce', 'shred lettuce with knife', 'drain lettuce with colander', 'add lettuce to bowl', 'add tomato to bowl', 'remove seed from avocado', 'add avocado to bowl', 'add spices to bowl', 'add fish to bowl', 'add salmon to bowl', 'mix ingredients together with chopsticks']\n",
      "0.6605250563947191\n",
      "['prepare lettuce', 'wash lettuce', 'shred lettuce with hands', 'wash hand', 'drain lettuce', 'unwrap fish', 'cook fish in pan', 'add lettuce to a bowl', 'add mixed salad to bowl', 'add spices to bowl', 'mix ingredients together with chopsticks', 'add smoked salmon', 'mix ingredients together with chopsticks', 'dispose salmon wrap', 'add tomatoes to bowl', 'remove seed from avocado', 'dispose avocado seed', 'add avocado to bowl', 'add sesame sauce to bowl', 'mix ingredients together with chopsticks', 'mash fish in pan with chopsticks', 'turn off stovetop', 'add mashed fish to bowl', 'mix ingredients together with chopsticks', 'add mashed fish to bowl']\n",
      "['prepare lettuce', 'wash lettuce', 'shred lettuce with knife', 'drain lettuce with colander', 'unwrap fish', 'cook fish in pan', 'add lettuce to bowl', 'add salad to bowl', 'add spices to bowl', 'mix ingredients together with chopsticks', 'add salmon to bowl', 'mix ingredients together with chopsticks', 'add tomato to bowl', 'remove seed from avocado', 'add avocado to bowl', 'add sauce to bowl', 'mix ingredients together with chopsticks', 'mash fish in pan with chopsticks', 'add mashed fish to bowl', 'mix ingredients together with chopsticks']\n",
      "0.8530933340035103\n",
      "['peel eggplant', 'slice eggplant', 'add oil to eggplant on oven tray', 'peel eggplant', 'slice eggplant', 'add oil to eggplant on oven tray', 'put eggplant in oven', 'slice eggplant', 'peel eggplant ']\n",
      "['False']\n",
      "0.022814417594726688\n",
      "['peel eggplant', 'slice eggplant', 'add oil to eggplant on oven tray', 'peel eggplant', 'slice eggplant', 'add oil to eggplant on oven tray', 'put eggplant in oven', 'slice eggplant', 'peel eggplant ']\n",
      "['False']\n",
      "0.022814417594726688\n",
      "['peel eggplant', 'slice eggplant', 'add oil to eggplant on oven tray', 'peel eggplant', 'slice eggplant', 'add oil to eggplant on oven tray', 'put eggplant in oven', 'slice eggplant', 'peel eggplant ']\n",
      "['peel eggplant', 'slice eggplant', 'put eggplant on baking sheet']\n",
      "0.822521693525149\n",
      "['peel eggplant', 'slice eggplant', 'add oil to eggplant on oven tray', 'peel eggplant', 'slice eggplant', 'add oil to eggplant on oven tray', 'put eggplant in oven', 'slice eggplant', 'peel eggplant ']\n",
      "['False']\n",
      "0.022814417594726688\n",
      "['peel eggplant', 'slice eggplant', 'add oil to eggplant on oven tray', 'peel eggplant', 'slice eggplant', 'add oil to eggplant on oven tray', 'put eggplant in oven', 'slice eggplant', 'peel eggplant ']\n",
      "['peel eggplant', 'slice eggplant', 'put eggplant on oven tray', 'slice eggplant', 'peel eggplant']\n",
      "0.8941878574182353\n",
      "['peel eggplant', 'slice eggplant', 'add oil to eggplant on oven tray', 'peel eggplant', 'slice eggplant', 'add oil to eggplant on oven tray', 'put eggplant in oven', 'slice eggplant', 'peel eggplant ']\n",
      "['put eggplant on cutting board', 'take knife', 'slice eggplant on cutting board']\n",
      "0.6655874186695093\n",
      "['pipe batter on mat', 'add batter to piping bag', 'pipe batter on mat', 'add batter to piping bag', 'pipe batter on mat', 'add batter to piping bag', 'pipe batter on mat', 'add batter to piping bag', 'pipe batter on mat', 'add batter to piping bag', 'pipe batter on mat', 'add batter to piping bag', 'pipe batter on mat', 'add batter to piping bag', 'pipe batter on mat', 'add batter to piping bag', 'pipe batter on mat', 'add batter to piping bag', 'pipe batter on mat', 'add batter to piping bag', 'pipe batter on mat']\n",
      "['False']\n",
      "0.08291716940558003\n",
      "['pipe batter on mat', 'add batter to piping bag', 'pipe batter on mat', 'add batter to piping bag', 'pipe batter on mat', 'add batter to piping bag', 'pipe batter on mat', 'add batter to piping bag', 'pipe batter on mat', 'add batter to piping bag', 'pipe batter on mat', 'add batter to piping bag', 'pipe batter on mat', 'add batter to piping bag', 'pipe batter on mat', 'add batter to piping bag', 'pipe batter on mat', 'add batter to piping bag', 'pipe batter on mat', 'add batter to piping bag', 'pipe batter on mat']\n",
      "['add sausage to piping bag', 'pipe sausage on plate']\n",
      "0.5410603682551196\n",
      "['pipe batter on mat', 'add batter to piping bag', 'pipe batter on mat', 'add batter to piping bag', 'pipe batter on mat', 'add batter to piping bag', 'pipe batter on mat', 'add batter to piping bag', 'pipe batter on mat', 'add batter to piping bag', 'pipe batter on mat', 'add batter to piping bag', 'pipe batter on mat', 'add batter to piping bag', 'pipe batter on mat', 'add batter to piping bag', 'pipe batter on mat', 'add batter to piping bag', 'pipe batter on mat', 'add batter to piping bag', 'pipe batter on mat']\n",
      "['False']\n",
      "0.08291062523535009\n",
      "['pipe batter on mat', 'add batter to piping bag', 'pipe batter on mat', 'add batter to piping bag', 'pipe batter on mat', 'add batter to piping bag', 'pipe batter on mat', 'add batter to piping bag', 'pipe batter on mat', 'add batter to piping bag', 'pipe batter on mat', 'add batter to piping bag', 'pipe batter on mat', 'add batter to piping bag', 'pipe batter on mat', 'add batter to piping bag', 'pipe batter on mat', 'add batter to piping bag', 'pipe batter on mat', 'add batter to piping bag', 'pipe batter on mat']\n",
      "['add batter to piping bag', 'pipe batter on parchment paper']\n",
      "0.7900997934281643\n",
      "['pipe batter on mat', 'add batter to piping bag', 'pipe batter on mat', 'add batter to piping bag', 'pipe batter on mat', 'add batter to piping bag', 'pipe batter on mat', 'add batter to piping bag', 'pipe batter on mat', 'add batter to piping bag', 'pipe batter on mat', 'add batter to piping bag', 'pipe batter on mat', 'add batter to piping bag', 'pipe batter on mat', 'add batter to piping bag', 'pipe batter on mat', 'add batter to piping bag', 'pipe batter on mat', 'add batter to piping bag', 'pipe batter on mat']\n",
      "['pour batter on mat']\n",
      "0.6103667778806653\n",
      "['pipe batter on mat', 'add batter to piping bag', 'pipe batter on mat', 'add batter to piping bag', 'pipe batter on mat', 'add batter to piping bag', 'pipe batter on mat', 'add batter to piping bag', 'pipe batter on mat', 'add batter to piping bag', 'pipe batter on mat', 'add batter to piping bag', 'pipe batter on mat', 'add batter to piping bag', 'pipe batter on mat', 'add batter to piping bag', 'pipe batter on mat', 'add batter to piping bag', 'pipe batter on mat', 'add batter to piping bag', 'pipe batter on mat']\n",
      "['add batter to piping bag', 'pipe batter on mat']\n",
      "0.7989481495280868\n",
      "['Wrap meat with leaves', 'Place wrapped meat on grill basket', 'Place grill basket on grill', 'Adjust grill basket on grill', 'Flip grill basket on grill', 'Check meat on grill', 'Flip  meat on grill', 'Check meat on grill', 'Remove meat from grill', 'Check meat on grill', 'Flip meat on grill', 'Place leaf on grilled meat', 'Flip meat on grill', 'Flip meat on grill', 'Remove grilled meat from grill']\n",
      "['put pot on stove', 'add steak to pot', 'flip steak in pot']\n",
      "0.4726289333038495\n",
      "['Wrap meat with leaves', 'Place wrapped meat on grill basket', 'Place grill basket on grill', 'Adjust grill basket on grill', 'Flip grill basket on grill', 'Check meat on grill', 'Flip  meat on grill', 'Check meat on grill', 'Remove meat from grill', 'Check meat on grill', 'Flip meat on grill', 'Place leaf on grilled meat', 'Flip meat on grill', 'Flip meat on grill', 'Remove grilled meat from grill']\n",
      "['wrap minced beef with cabbage', 'place wrapped minced beef in basket', 'place basket on grill', 'flip basket on grill', 'remove basket from grill', 'remove wrapped minced beef from basket']\n",
      "0.6169403465136051\n",
      "['Wrap meat with leaves', 'Place wrapped meat on grill basket', 'Place grill basket on grill', 'Adjust grill basket on grill', 'Flip grill basket on grill', 'Check meat on grill', 'Flip  meat on grill', 'Check meat on grill', 'Remove meat from grill', 'Check meat on grill', 'Flip meat on grill', 'Place leaf on grilled meat', 'Flip meat on grill', 'Flip meat on grill', 'Remove grilled meat from grill']\n",
      "['wrap meat with lettuce', 'put skillet on grill', 'put meat in skillet', 'flip meat in skillet']\n",
      "0.6051898669323463\n",
      "['Wrap meat with leaves', 'Place wrapped meat on grill basket', 'Place grill basket on grill', 'Adjust grill basket on grill', 'Flip grill basket on grill', 'Check meat on grill', 'Flip  meat on grill', 'Check meat on grill', 'Remove meat from grill', 'Check meat on grill', 'Flip meat on grill', 'Place leaf on grilled meat', 'Flip meat on grill', 'Flip meat on grill', 'Remove grilled meat from grill']\n",
      "['wrap meat with leaf', 'place wrapped meat in basket', 'place basket on grill', 'flip basket on grill', 'remove basket from grill', 'remove meat from basket', 'flip meat on grill']\n",
      "0.6874159063376969\n",
      "['Wrap meat with leaves', 'Place wrapped meat on grill basket', 'Place grill basket on grill', 'Adjust grill basket on grill', 'Flip grill basket on grill', 'Check meat on grill', 'Flip  meat on grill', 'Check meat on grill', 'Remove meat from grill', 'Check meat on grill', 'Flip meat on grill', 'Place leaf on grilled meat', 'Flip meat on grill', 'Flip meat on grill', 'Remove grilled meat from grill']\n",
      "['wrap meat with leaves', 'place wrapped meat on grill', 'flip meat on grill', 'check meat on grill', 'flip meat on grill', 'check meat on grill', 'remove meat from grill']\n",
      "0.8036969812709063\n",
      "['Wrap meat with leaves', 'Place wrapped meat on grill basket', 'Place grill basket on grill', 'Adjust grill basket on grill', 'Flip grill basket on grill', 'Check meat on grill', 'Flip  meat on grill', 'Check meat on grill', 'Remove meat from grill', 'Check meat on grill', 'Flip meat on grill', 'Place leaf on grilled meat', 'Flip meat on grill', 'Flip meat on grill', 'Remove grilled meat from grill']\n",
      "['wrap meat with leaves', 'place wrapped meat on grill rack', 'place grill rack on grill', 'flip meat on grill', 'flip meat on grill']\n",
      "0.7594091543032417\n",
      "['Fetch water in a container', 'add water to soup', 'peel outer skin of potato', 'stir soup', 'cut potato into soup', 'stir soup', 'cut potato into soup', 'stir soup', 'add salt to soup', 'stir soup', 'cover pot with lid ']\n",
      "['put pan on stove', 'add onions to pan', 'stir onions in pan with wooden spoon']\n",
      "0.4324829235037525\n",
      "['Fetch water in a container', 'add water to soup', 'peel outer skin of potato', 'stir soup', 'cut potato into soup', 'stir soup', 'cut potato into soup', 'stir soup', 'add salt to soup', 'stir soup', 'cover pot with lid ']\n",
      "['put pot on stove', 'add minced meat to pot', 'add salt to pot', 'stir pot with wooden spoon']\n",
      "0.5021067147063109\n",
      "['Fetch water in a container', 'add water to soup', 'peel outer skin of potato', 'stir soup', 'cut potato into soup', 'stir soup', 'cut potato into soup', 'stir soup', 'add salt to soup', 'stir soup', 'cover pot with lid ']\n",
      "['fetch water in container', 'add onions to container', 'add water to container', 'stir container', 'add salt to container', 'stir container']\n",
      "0.5214119402372406\n",
      "['Fetch water in a container', 'add water to soup', 'peel outer skin of potato', 'stir soup', 'cut potato into soup', 'stir soup', 'cut potato into soup', 'stir soup', 'add salt to soup', 'stir soup', 'cover pot with lid ']\n",
      "['fetch water in container', 'add water to soup', 'peel potatoes', 'cut potatoes', 'add potatoes to soup', 'stir soup']\n",
      "0.7720446528563578\n",
      "['Fetch water in a container', 'add water to soup', 'peel outer skin of potato', 'stir soup', 'cut potato into soup', 'stir soup', 'cut potato into soup', 'stir soup', 'add salt to soup', 'stir soup', 'cover pot with lid ']\n",
      "['fetch water in container', 'add water to container', 'peel potato', 'cut potato into container', 'stir container', 'cover container']\n",
      "0.6014713211854028\n",
      "['Fetch water in a container', 'add water to soup', 'peel outer skin of potato', 'stir soup', 'cut potato into soup', 'stir soup', 'cut potato into soup', 'stir soup', 'add salt to soup', 'stir soup', 'cover pot with lid ']\n",
      "['fetch water in container', 'add water to soup', 'peel potato', 'cut potato into soup', 'stir soup', 'cut potato into soup', 'stir soup', 'cut potato into soup', 'stir soup', 'stir soup', 'cover container with lid']\n",
      "0.8961359739934907\n",
      "['activate the cooker', 'stir flour in the pan', 'adjust the cooker heat', 'stir flour in the pan', 'stir flour in the pan', 'adjust the cooker heat', 'stir flour in the pan', 'adjust the cooker heat', 'stir flour in the pan', 'adjust the cooker heat', 'stir flour in the pan']\n",
      "['put utensils in skillet', 'stir skillet with utensils']\n",
      "0.5158565335031661\n",
      "['activate the cooker', 'stir flour in the pan', 'adjust the cooker heat', 'stir flour in the pan', 'stir flour in the pan', 'adjust the cooker heat', 'stir flour in the pan', 'adjust the cooker heat', 'stir flour in the pan', 'adjust the cooker heat', 'stir flour in the pan']\n",
      "['False']\n",
      "0.07589987903574391\n",
      "['activate the cooker', 'stir flour in the pan', 'adjust the cooker heat', 'stir flour in the pan', 'stir flour in the pan', 'adjust the cooker heat', 'stir flour in the pan', 'adjust the cooker heat', 'stir flour in the pan', 'adjust the cooker heat', 'stir flour in the pan']\n",
      "['False']\n",
      "0.07588704464202756\n",
      "['activate the cooker', 'stir flour in the pan', 'adjust the cooker heat', 'stir flour in the pan', 'stir flour in the pan', 'adjust the cooker heat', 'stir flour in the pan', 'adjust the cooker heat', 'stir flour in the pan', 'adjust the cooker heat', 'stir flour in the pan']\n",
      "['put flour in pan', 'stir flour in pan with knife']\n",
      "0.6421605731740445\n",
      "['activate the cooker', 'stir flour in the pan', 'adjust the cooker heat', 'stir flour in the pan', 'stir flour in the pan', 'adjust the cooker heat', 'stir flour in the pan', 'adjust the cooker heat', 'stir flour in the pan', 'adjust the cooker heat', 'stir flour in the pan']\n",
      "['put flour in bowl', 'stir flour in bowl with spatula']\n",
      "0.5898254683005193\n",
      "['activate the cooker', 'stir flour in the pan', 'adjust the cooker heat', 'stir flour in the pan', 'stir flour in the pan', 'adjust the cooker heat', 'stir flour in the pan', 'adjust the cooker heat', 'stir flour in the pan', 'adjust the cooker heat', 'stir flour in the pan']\n",
      "['activate the cooker', 'put pan on cooker', 'add flour to pan', 'stir flour in the pan']\n",
      "0.7418428273955251\n",
      "['prepare coffee in a coffee maker', 'drop pack into the cabinet', 'close cabinet', 'adjust jar in cabinet', 'operate phone', 'arrange groceries in the fridge', 'play with dog']\n",
      "['False']\n",
      "0.09428642371855922\n",
      "['prepare coffee in a coffee maker', 'drop pack into the cabinet', 'close cabinet', 'adjust jar in cabinet', 'operate phone', 'arrange groceries in the fridge', 'play with dog']\n",
      "['put coffee maker on table', 'add coffee into coffee maker', 'add water into coffee maker', 'operate coffee maker']\n",
      "0.3195399341184936\n",
      "['prepare coffee in a coffee maker', 'drop pack into the cabinet', 'close cabinet', 'adjust jar in cabinet', 'operate phone', 'arrange groceries in the fridge', 'play with dog']\n",
      "['False']\n",
      "0.09428642371855922\n",
      "['prepare coffee in a coffee maker', 'drop pack into the cabinet', 'close cabinet', 'adjust jar in cabinet', 'operate phone', 'arrange groceries in the fridge', 'play with dog']\n",
      "['arrange jar in cabinet']\n",
      "0.4484775779541448\n",
      "['prepare coffee in a coffee maker', 'drop pack into the cabinet', 'close cabinet', 'adjust jar in cabinet', 'operate phone', 'arrange groceries in the fridge', 'play with dog']\n",
      "['prepare coffee in a coffee maker']\n",
      "0.30525401653215944\n",
      "['prepare coffee in a coffee maker', 'drop pack into the cabinet', 'close cabinet', 'adjust jar in cabinet', 'operate phone', 'arrange groceries in the fridge', 'play with dog']\n",
      "['put coffee maker on cabinet', 'put pack in coffee maker', 'add coffee to coffee maker']\n",
      "0.3937299268977773\n",
      "['Taste food', 'Drink water', 'regulate the heat temperature on the stovetop', 'open the pot lid to check for doneness', 'regulate the heat temperature on the stovetop', 'refrigerate drinks', 'Arrange the items in the refrigerator', 'Trash the nylon', 'Rinse the potatoes', 'Peel the potato', 'Rinse the potato', 'Slice the potato', 'Add potato to the pot', 'Rinse the potato', 'Peel the potato', 'Slice the potato', 'Add the potato to the pot', 'Trash the nylon', 'Trash potato peel', 'Wash hands']\n",
      "['False']\n",
      "0.08462378285843086\n",
      "['Taste food', 'Drink water', 'regulate the heat temperature on the stovetop', 'open the pot lid to check for doneness', 'regulate the heat temperature on the stovetop', 'refrigerate drinks', 'Arrange the items in the refrigerator', 'Trash the nylon', 'Rinse the potatoes', 'Peel the potato', 'Rinse the potato', 'Slice the potato', 'Add potato to the pot', 'Rinse the potato', 'Peel the potato', 'Slice the potato', 'Add the potato to the pot', 'Trash the nylon', 'Trash potato peel', 'Wash hands']\n",
      "['False']\n",
      "0.08462603421161585\n",
      "['Taste food', 'Drink water', 'regulate the heat temperature on the stovetop', 'open the pot lid to check for doneness', 'regulate the heat temperature on the stovetop', 'refrigerate drinks', 'Arrange the items in the refrigerator', 'Trash the nylon', 'Rinse the potatoes', 'Peel the potato', 'Rinse the potato', 'Slice the potato', 'Add potato to the pot', 'Rinse the potato', 'Peel the potato', 'Slice the potato', 'Add the potato to the pot', 'Trash the nylon', 'Trash potato peel', 'Wash hands']\n",
      "['False']\n",
      "0.08462378285843086\n",
      "['Taste food', 'Drink water', 'regulate the heat temperature on the stovetop', 'open the pot lid to check for doneness', 'regulate the heat temperature on the stovetop', 'refrigerate drinks', 'Arrange the items in the refrigerator', 'Trash the nylon', 'Rinse the potatoes', 'Peel the potato', 'Rinse the potato', 'Slice the potato', 'Add potato to the pot', 'Rinse the potato', 'Peel the potato', 'Slice the potato', 'Add the potato to the pot', 'Trash the nylon', 'Trash potato peel', 'Wash hands']\n",
      "['rinse the potato', 'peel the potato', 'slice the potato with cutter', 'add the potato to the container']\n",
      "0.49546464271537694\n",
      "['Taste food', 'Drink water', 'regulate the heat temperature on the stovetop', 'open the pot lid to check for doneness', 'regulate the heat temperature on the stovetop', 'refrigerate drinks', 'Arrange the items in the refrigerator', 'Trash the nylon', 'Rinse the potatoes', 'Peel the potato', 'Rinse the potato', 'Slice the potato', 'Add potato to the pot', 'Rinse the potato', 'Peel the potato', 'Slice the potato', 'Add the potato to the pot', 'Trash the nylon', 'Trash potato peel', 'Wash hands']\n",
      "['slice onion on cutting board with knife']\n",
      "0.24496180706006343\n",
      "['Taste food', 'Drink water', 'regulate the heat temperature on the stovetop', 'open the pot lid to check for doneness', 'regulate the heat temperature on the stovetop', 'refrigerate drinks', 'Arrange the items in the refrigerator', 'Trash the nylon', 'Rinse the potatoes', 'Peel the potato', 'Rinse the potato', 'Slice the potato', 'Add potato to the pot', 'Rinse the potato', 'Peel the potato', 'Slice the potato', 'Add the potato to the pot', 'Trash the nylon', 'Trash potato peel', 'Wash hands']\n",
      "['Rinse the potatoes', 'Peel the potatoes', 'Rinse the potatoes', 'Slice the potatoes', 'Add potatoes to the pot', 'Add water to the pot', 'Place the pot on the stove', 'Turn on the stove', 'Boil the potatoes', 'Check potatoes for doneness', 'Turn off the stove', 'Remove pot from stove']\n",
      "0.46756181735261815\n",
      "['Fold omelet', 'serve the omelet ']\n",
      "['False']\n",
      "0.08301162569394505\n",
      "['Fold omelet', 'serve the omelet ']\n",
      "['put omelet on baking tray', 'fold omelet', 'serve omelet']\n",
      "0.7993507218243403\n",
      "['Fold omelet', 'serve the omelet ']\n",
      "['fold crepe', 'serve the crepe']\n",
      "0.6359783735569979\n",
      "['Fold omelet', 'serve the omelet ']\n",
      "['fold omelet with spatula', 'put omelet on plate', 'serve the omelet']\n",
      "0.8197205586367092\n",
      "['Fold omelet', 'serve the omelet ']\n",
      "['put omelet on griddle', 'fold omelet', 'put omelet on plate', 'serve the omelet']\n",
      "0.82022158494714\n",
      "['Fold omelet', 'serve the omelet ']\n",
      "['fold omelet in pan', 'serve the omelet on plate']\n",
      "0.8467427881705332\n",
      "['Pour maize into the pot', 'Add chili pepper and seasonings into the maize']\n",
      "['put ingredient in bottle', 'add chili into ingredient']\n",
      "0.4998181582732337\n",
      "['Pour maize into the pot', 'Add chili pepper and seasonings into the maize']\n",
      "['pour ingredient into the pot', 'add chilli pepper into the ingredient']\n",
      "0.619011647204769\n",
      "['Pour maize into the pot', 'Add chili pepper and seasonings into the maize']\n",
      "['pour ingredient into the pot', 'add turmeric into the ingredient']\n",
      "0.4964049017505494\n",
      "['Pour maize into the pot', 'Add chili pepper and seasonings into the maize']\n",
      "['pour sweet corn into the pot', 'add chili pepper into the sweet corn']\n",
      "0.721185168275286\n",
      "['Pour maize into the pot', 'Add chili pepper and seasonings into the maize']\n",
      "['pour maize into the pot', 'add chili pepper into the maize']\n",
      "0.9190264724265254\n",
      "['Pour maize into the pot', 'Add chili pepper and seasonings into the maize']\n",
      "['put pot on counter', 'add maize into pot', 'add chili pepper into pot']\n",
      "0.6535459271548067\n",
      "['open tomato sauce', 'spreads tomato sauce on pizza dough']\n",
      "['take tomato', 'place tomato on pizza', 'spread tomato on pizza']\n",
      "0.7561402161745232\n",
      "['open tomato sauce', 'spreads tomato sauce on pizza dough']\n",
      "['spread sauce on wraps']\n",
      "0.5251559714094531\n",
      "['open tomato sauce', 'spreads tomato sauce on pizza dough']\n",
      "['False']\n",
      "0.06667582312323184\n",
      "['open tomato sauce', 'spreads tomato sauce on pizza dough']\n",
      "['open soy sauce', 'scoop soy sauce with ladle', 'spread soy sauce on dough with ladle']\n",
      "0.5464255655562047\n",
      "['open tomato sauce', 'spreads tomato sauce on pizza dough']\n",
      "['open tomato sauce bottle', 'spread tomato sauce on dough']\n",
      "0.8578045472431052\n",
      "['open tomato sauce', 'spreads tomato sauce on pizza dough']\n",
      "['open tomato sauce bottle', 'spread tomato sauce on dough']\n",
      "0.8578045472431052\n",
      "['Turns on the cooker', 'Adds meat to the pot', 'Stirs the meat in the pot with a chopstick', 'Adjust the heat of the cooker', 'Stirs the meat in the pot with a chopstick', 'Cuts the pack of sauce', 'pours sauce into the meat', 'Stirs the meat in the pot with a chopstick', 'picks a pot from the kitchen cabinet', 'Turns on the cooker', 'Adds egg to the pan', 'pours the meat on a plate', 'Pours the egg on the plate', 'pours the meat on a plate', 'Pours the egg on the plate']\n",
      "['put Fish Fillet on oven tray', 'add Guacamole to Fish Fillet on oven tray', 'stir Fish Fillet with Spoon on oven tray']\n",
      "0.3683530635279162\n",
      "['Turns on the cooker', 'Adds meat to the pot', 'Stirs the meat in the pot with a chopstick', 'Adjust the heat of the cooker', 'Stirs the meat in the pot with a chopstick', 'Cuts the pack of sauce', 'pours sauce into the meat', 'Stirs the meat in the pot with a chopstick', 'picks a pot from the kitchen cabinet', 'Turns on the cooker', 'Adds egg to the pan', 'pours the meat on a plate', 'Pours the egg on the plate', 'pours the meat on a plate', 'Pours the egg on the plate']\n",
      "['put oven tray on table', 'add corned beef to oven tray', 'add spice to corned beef in oven tray', 'stir corned beef in oven tray with stick']\n",
      "0.37901947303659045\n",
      "['Turns on the cooker', 'Adds meat to the pot', 'Stirs the meat in the pot with a chopstick', 'Adjust the heat of the cooker', 'Stirs the meat in the pot with a chopstick', 'Cuts the pack of sauce', 'pours sauce into the meat', 'Stirs the meat in the pot with a chopstick', 'picks a pot from the kitchen cabinet', 'Turns on the cooker', 'Adds egg to the pan', 'pours the meat on a plate', 'Pours the egg on the plate', 'pours the meat on a plate', 'Pours the egg on the plate']\n",
      "['put pan on table', 'add meat to pan', 'pour sauce into pan', 'stir the meat in the pan with spoon', 'cook the meat in the pan', 'transfer the cooked meat to plate']\n",
      "0.5138668726281332\n",
      "['Turns on the cooker', 'Adds meat to the pot', 'Stirs the meat in the pot with a chopstick', 'Adjust the heat of the cooker', 'Stirs the meat in the pot with a chopstick', 'Cuts the pack of sauce', 'pours sauce into the meat', 'Stirs the meat in the pot with a chopstick', 'picks a pot from the kitchen cabinet', 'Turns on the cooker', 'Adds egg to the pan', 'pours the meat on a plate', 'Pours the egg on the plate', 'pours the meat on a plate', 'Pours the egg on the plate']\n",
      "['put pot on table', 'add ground beef to pot', 'stir ground beef in pot with spoon', 'adjust oven heat', 'stir ground beef in pot with spoon', 'cut pack of sauce', 'pour sauce into pot', 'stir ground beef in pot with spoon']\n",
      "0.4909263024376278\n",
      "['Turns on the cooker', 'Adds meat to the pot', 'Stirs the meat in the pot with a chopstick', 'Adjust the heat of the cooker', 'Stirs the meat in the pot with a chopstick', 'Cuts the pack of sauce', 'pours sauce into the meat', 'Stirs the meat in the pot with a chopstick', 'picks a pot from the kitchen cabinet', 'Turns on the cooker', 'Adds egg to the pan', 'pours the meat on a plate', 'Pours the egg on the plate', 'pours the meat on a plate', 'Pours the egg on the plate']\n",
      "['turn on the cooker', 'add meat to the pot', 'stir the meat in the pot with a chopstick', 'adjust the heat of the cooker', 'stir the meat in the pot with a chopstick', 'cut the pack of sauce', 'pour sauce into the meat', 'stir the meat in the pot with a chopstick']\n",
      "0.6478352031802377\n",
      "['Turns on the cooker', 'Adds meat to the pot', 'Stirs the meat in the pot with a chopstick', 'Adjust the heat of the cooker', 'Stirs the meat in the pot with a chopstick', 'Cuts the pack of sauce', 'pours sauce into the meat', 'Stirs the meat in the pot with a chopstick', 'picks a pot from the kitchen cabinet', 'Turns on the cooker', 'Adds egg to the pan', 'pours the meat on a plate', 'Pours the egg on the plate', 'pours the meat on a plate', 'Pours the egg on the plate']\n",
      "['turn on the cooker', 'add meat to the pot', 'stir the meat in the pot with a chopstick', 'adjust the heat of the cooker', 'stir the meat in the pot with a chopstick', 'cut the pack of sauce', 'pour pack of sauce into the meat', 'stir the meat in the pot with a chopstick']\n",
      "0.6413033744778307\n",
      "['Gather Ingredients', 'Open the window blind', 'Dice vegetables into smaller sizes', 'Stir fry vegetable in a skillet']\n",
      "['gather carrot', 'dice carrot on chopping board', 'put pan on stove', 'add diced carrot to pan', 'stir carrot in pan']\n",
      "0.4194226504439931\n",
      "['Gather Ingredients', 'Open the window blind', 'Dice vegetables into smaller sizes', 'Stir fry vegetable in a skillet']\n",
      "['gather vegetables', 'place vegetables on chopping board', 'cut vegetables with knife', 'put pan on gas stove', 'add vegetables to pan', 'stir fry vegetables in pan']\n",
      "0.5500843482983544\n",
      "['Gather Ingredients', 'Open the window blind', 'Dice vegetables into smaller sizes', 'Stir fry vegetable in a skillet']\n",
      "['pick up cucumber', 'place cucumber on chopping board', 'cut cucumber with knife', 'put pan on gas stove', 'turn on gas stove', 'add chopped cucumber to pan', 'stir fry cucumber in pan']\n",
      "0.40873513980012\n",
      "['Gather Ingredients', 'Open the window blind', 'Dice vegetables into smaller sizes', 'Stir fry vegetable in a skillet']\n",
      "['gather zucchini', 'open the window blind', 'dice zucchini on chopping board with knife', 'stir fry zucchini in pan']\n",
      "0.6849330003826802\n",
      "['Gather Ingredients', 'Open the window blind', 'Dice vegetables into smaller sizes', 'Stir fry vegetable in a skillet']\n",
      "['gather vegetable', 'gather knife', 'dice vegetable with knife', 'stir fry vegetable in skillet']\n",
      "0.6188294814987622\n",
      "['Gather Ingredients', 'Open the window blind', 'Dice vegetables into smaller sizes', 'Stir fry vegetable in a skillet']\n",
      "['gather ingredient', 'dice vegetable with knife', 'stir fry vegetable in skillet']\n",
      "0.6615011935889755\n",
      "['Add charcoal to grill', 'Preheat charcoal grill']\n",
      "['False']\n",
      "0.053131480441886314\n",
      "['Add charcoal to grill', 'Preheat charcoal grill']\n",
      "['False']\n",
      "0.053131480441886314\n",
      "['Add charcoal to grill', 'Preheat charcoal grill']\n",
      "['False']\n",
      "0.053120295227214065\n",
      "['Add charcoal to grill', 'Preheat charcoal grill']\n",
      "['add charcoal to grill', 'preheat charcoal grill']\n",
      "0.9493519608598406\n",
      "['Add charcoal to grill', 'Preheat charcoal grill']\n",
      "['add charcoal to grill', 'preheat charcoal grill']\n",
      "0.9493661873414483\n",
      "['Add charcoal to grill', 'Preheat charcoal grill']\n",
      "['add charcoal to grill', 'preheat charcoal grill']\n",
      "0.9493595269447695\n",
      "['Peel onion', 'Rinse onion', 'Dice onion', 'Add onion to pot', 'Adjust heat on the stovetop', 'Add onion to pot', 'Wash hands', 'Dice onion', 'Add onion to pot', 'Adjust heat on the stovetop', 'Add oil to the pot']\n",
      "['dice food item', 'add food item to plate']\n",
      "0.30664135688248273\n",
      "['Peel onion', 'Rinse onion', 'Dice onion', 'Add onion to pot', 'Adjust heat on the stovetop', 'Add onion to pot', 'Wash hands', 'Dice onion', 'Add onion to pot', 'Adjust heat on the stovetop', 'Add oil to the pot']\n",
      "['add spring onion to pot']\n",
      "0.4909146195216709\n",
      "['Peel onion', 'Rinse onion', 'Dice onion', 'Add onion to pot', 'Adjust heat on the stovetop', 'Add onion to pot', 'Wash hands', 'Dice onion', 'Add onion to pot', 'Adjust heat on the stovetop', 'Add oil to the pot']\n",
      "['put onion on plate']\n",
      "0.5059679026934714\n",
      "['Peel onion', 'Rinse onion', 'Dice onion', 'Add onion to pot', 'Adjust heat on the stovetop', 'Add onion to pot', 'Wash hands', 'Dice onion', 'Add onion to pot', 'Adjust heat on the stovetop', 'Add oil to the pot']\n",
      "['peel onion', 'rinse onion', 'dice onion']\n",
      "0.5435076163112388\n",
      "['Peel onion', 'Rinse onion', 'Dice onion', 'Add onion to pot', 'Adjust heat on the stovetop', 'Add onion to pot', 'Wash hands', 'Dice onion', 'Add onion to pot', 'Adjust heat on the stovetop', 'Add oil to the pot']\n",
      "['peel onion', 'rinse onion', 'add onion to pot']\n",
      "0.675836512138567\n",
      "['Peel onion', 'Rinse onion', 'Dice onion', 'Add onion to pot', 'Adjust heat on the stovetop', 'Add onion to pot', 'Wash hands', 'Dice onion', 'Add onion to pot', 'Adjust heat on the stovetop', 'Add oil to the pot']\n",
      "['peel onion', 'rinse onion', 'dice onion', 'add onion to pot']\n",
      "0.6952939669208182\n",
      "['slice turkey', 'serve turkey in a bowl']\n",
      "['False']\n",
      "0.06504761490620581\n",
      "['slice turkey', 'serve turkey in a bowl']\n",
      "['slice corned beef on chopping board with dough cutter', 'serve corned beef in rice bowl']\n",
      "0.5567649994038399\n",
      "['slice turkey', 'serve turkey in a bowl']\n",
      "['False']\n",
      "0.06504866045470026\n",
      "['slice turkey', 'serve turkey in a bowl']\n",
      "['slice soy meat with dough cutter', 'serve soy meat in bowl']\n",
      "0.5909795277867176\n",
      "['slice turkey', 'serve turkey in a bowl']\n",
      "['False']\n",
      "0.06504593665970315\n",
      "['slice turkey', 'serve turkey in a bowl']\n",
      "['serve turkey in a bowl']\n",
      "0.7695555754055825\n",
      "['wash cutting board in sink', 'dry cutting board with a towel']\n",
      "['False']\n",
      "0.05809026646052362\n",
      "['wash cutting board in sink', 'dry cutting board with a towel']\n",
      "['False']\n",
      "0.05807553403033561\n",
      "['wash cutting board in sink', 'dry cutting board with a towel']\n",
      "['False']\n",
      "0.05807553403033561\n",
      "['wash cutting board in sink', 'dry cutting board with a towel']\n",
      "['False']\n",
      "0.05809026646052362\n",
      "['wash cutting board in sink', 'dry cutting board with a towel']\n",
      "['wash cutting board in sink', 'dry cutting board with a towel']\n",
      "0.9999996672893599\n",
      "['wash cutting board in sink', 'dry cutting board with a towel']\n",
      "['wash cutting board in sink', 'dry cutting board with a towel']\n",
      "0.9999995265991856\n",
      "['puts tea bag in cup', 'adds boiled water to tea bag in cup', 'puts tea bag in cup', 'adds boiled water to tea bag in cup', 'serves toast bread', 'scrapes toast bread', 'spread butter on toast bread', 'spreads toppings on toast bread', 'serves food on dinning']\n",
      "['put croissant on countertop', 'spread margarine on croissant', 'serve croissant on countertop']\n",
      "0.38796318332218815\n",
      "['puts tea bag in cup', 'adds boiled water to tea bag in cup', 'puts tea bag in cup', 'adds boiled water to tea bag in cup', 'serves toast bread', 'scrapes toast bread', 'spread butter on toast bread', 'spreads toppings on toast bread', 'serves food on dinning']\n",
      "['put breadsticks on plate', 'spread jams on breadsticks', 'serve breadsticks on plate']\n",
      "0.4227792447083838\n",
      "['puts tea bag in cup', 'adds boiled water to tea bag in cup', 'puts tea bag in cup', 'adds boiled water to tea bag in cup', 'serves toast bread', 'scrapes toast bread', 'spread butter on toast bread', 'spreads toppings on toast bread', 'serves food on dinning']\n",
      "['put jams on table', 'serve jams on table']\n",
      "0.3709658821727214\n",
      "['puts tea bag in cup', 'adds boiled water to tea bag in cup', 'puts tea bag in cup', 'adds boiled water to tea bag in cup', 'serves toast bread', 'scrapes toast bread', 'spread butter on toast bread', 'spreads toppings on toast bread', 'serves food on dinning']\n",
      "['put margarine on dish', 'serve dish on table']\n",
      "0.3895544741268462\n",
      "['puts tea bag in cup', 'adds boiled water to tea bag in cup', 'puts tea bag in cup', 'adds boiled water to tea bag in cup', 'serves toast bread', 'scrapes toast bread', 'spread butter on toast bread', 'spreads toppings on toast bread', 'serves food on dinning']\n",
      "['put bread on table', 'spread jam on bread', 'serve bread on table']\n",
      "0.49974650486088434\n",
      "['puts tea bag in cup', 'adds boiled water to tea bag in cup', 'puts tea bag in cup', 'adds boiled water to tea bag in cup', 'serves toast bread', 'scrapes toast bread', 'spread butter on toast bread', 'spreads toppings on toast bread', 'serves food on dinning']\n",
      "['put bread on table', 'spread butter on bread', 'spread jams on bread', 'serve bread on table']\n",
      "0.517551560805254\n",
      "['Add flour into the bowl\\\\n', 'Add diced vegetables into the bowl', 'Add salt into the bowl \\\\n', 'Add Baking Powder into the bowl\\\\n', 'Add oil into the bowl\\\\n', 'Add water into the bowl']\n",
      "['add grains into the pot', 'add leek into the pot']\n",
      "0.47587796552689154\n",
      "['Add flour into the bowl\\\\n', 'Add diced vegetables into the bowl', 'Add salt into the bowl \\\\n', 'Add Baking Powder into the bowl\\\\n', 'Add oil into the bowl\\\\n', 'Add water into the bowl']\n",
      "['add flour into the pot', 'add tofu into the pot', 'add salt into the pot', 'add baking soda into the pot', 'add oil into the pot', 'add water into the pot']\n",
      "0.6777005471134334\n",
      "['Add flour into the bowl\\\\n', 'Add diced vegetables into the bowl', 'Add salt into the bowl \\\\n', 'Add Baking Powder into the bowl\\\\n', 'Add oil into the bowl\\\\n', 'Add water into the bowl']\n",
      "['add flour into the pot', 'add vegetables into the pot', 'add baking powder into the pot', 'add oil into the pot']\n",
      "0.6562075185824385\n",
      "['Add flour into the bowl\\\\n', 'Add diced vegetables into the bowl', 'Add salt into the bowl \\\\n', 'Add Baking Powder into the bowl\\\\n', 'Add oil into the bowl\\\\n', 'Add water into the bowl']\n",
      "['add dry mixture into the bowl', 'add vegetables into the bowl', 'add salt shaker into the bowl', 'add oil bottle into the bowl', 'add water from tap into the bowl']\n",
      "0.7187518589246105\n",
      "['Add flour into the bowl\\\\n', 'Add diced vegetables into the bowl', 'Add salt into the bowl \\\\n', 'Add Baking Powder into the bowl\\\\n', 'Add oil into the bowl\\\\n', 'Add water into the bowl']\n",
      "['add flour into the bowl', 'add vegetables into the bowl']\n",
      "0.663442279299217\n",
      "['Add flour into the bowl\\\\n', 'Add diced vegetables into the bowl', 'Add salt into the bowl \\\\n', 'Add Baking Powder into the bowl\\\\n', 'Add oil into the bowl\\\\n', 'Add water into the bowl']\n",
      "['add flour into the bowl', 'add vegetables into the bowl']\n",
      "0.6634559700889433\n",
      "['patterns goyna bori with piping bag', 'pours goyna bori in piping bag', 'patterns goyna bori with piping bag', 'pours goyna bori in piping bag', 'patterns goyna bori with piping bag']\n",
      "['put icing in bowl', 'pattern icing in bowl']\n",
      "0.5149540544440288\n",
      "['patterns goyna bori with piping bag', 'pours goyna bori in piping bag', 'patterns goyna bori with piping bag', 'pours goyna bori in piping bag', 'patterns goyna bori with piping bag']\n",
      "['False']\n",
      "0.08655027353763811\n",
      "['patterns goyna bori with piping bag', 'pours goyna bori in piping bag', 'patterns goyna bori with piping bag', 'pours goyna bori in piping bag', 'patterns goyna bori with piping bag']\n",
      "['False']\n",
      "0.08655027353763811\n",
      "['patterns goyna bori with piping bag', 'pours goyna bori in piping bag', 'patterns goyna bori with piping bag', 'pours goyna bori in piping bag', 'patterns goyna bori with piping bag']\n",
      "['put goyna bori in piping bag', 'pattern goyna bori with piping bag into bowl']\n",
      "0.8809718121541084\n",
      "['patterns goyna bori with piping bag', 'pours goyna bori in piping bag', 'patterns goyna bori with piping bag', 'pours goyna bori in piping bag', 'patterns goyna bori with piping bag']\n",
      "['put baking sheet on kitchen countertop', 'fill piping bag with goyna bori', 'pattern goyna bori on baking sheet with piping bag']\n",
      "0.7388421590006556\n",
      "['patterns goyna bori with piping bag', 'pours goyna bori in piping bag', 'patterns goyna bori with piping bag', 'pours goyna bori in piping bag', 'patterns goyna bori with piping bag']\n",
      "['put goyna bori in piping bag', 'pattern goyna bori with piping bag on baking tray']\n",
      "0.8815340113712605\n",
      "['puts chicken pieces into bowl', 'adds green peas into bowl', 'add hot water to recipe', 'stirs recipe with chopstick', 'drains water from recipe', 'adds soy sauce to recipe', 'add hot water to recipe', 'stir recipe', 'store soy sauce in freezer', 'adds black spice to recipe', 'stirs recipe', 'serves chicken stir fry mixture', 'unpack cabbage', 'dice cabbage', 'rinses cabbage', 'unwrap chicken', 'pours chicken to pan', 'turn on stovetop', 'stir chicken in pan', 'add cabbage to pan', 'stirs cabbage and chicken in pan', 'adjust temperature of stovetop', 'covers cooking pan with lid', 'stir rice', 'gathers plates', 'serves rice', 'stirs chicken and cabbage', 'serves chicken stir fry']\n",
      "['put meat in frypan', 'turn on cooker', 'add pack of sauce to meat in frypan', 'stir meat and sauce in frypan', 'cook meat in frypan', 'serve meat on plate']\n",
      "0.4300399430677341\n",
      "['puts chicken pieces into bowl', 'adds green peas into bowl', 'add hot water to recipe', 'stirs recipe with chopstick', 'drains water from recipe', 'adds soy sauce to recipe', 'add hot water to recipe', 'stir recipe', 'store soy sauce in freezer', 'adds black spice to recipe', 'stirs recipe', 'serves chicken stir fry mixture', 'unpack cabbage', 'dice cabbage', 'rinses cabbage', 'unwrap chicken', 'pours chicken to pan', 'turn on stovetop', 'stir chicken in pan', 'add cabbage to pan', 'stirs cabbage and chicken in pan', 'adjust temperature of stovetop', 'covers cooking pan with lid', 'stir rice', 'gathers plates', 'serves rice', 'stirs chicken and cabbage', 'serves chicken stir fry']\n",
      "['put pot on cooker', 'add meat to pot', 'add vegetables to pot', 'turn on cooker', 'stir meat and vegetables in pot with chopstick', 'adjust temperature of cooker if needed', 'serve cooked meat and vegetables on plate']\n",
      "0.44971214395050974\n",
      "['puts chicken pieces into bowl', 'adds green peas into bowl', 'add hot water to recipe', 'stirs recipe with chopstick', 'drains water from recipe', 'adds soy sauce to recipe', 'add hot water to recipe', 'stir recipe', 'store soy sauce in freezer', 'adds black spice to recipe', 'stirs recipe', 'serves chicken stir fry mixture', 'unpack cabbage', 'dice cabbage', 'rinses cabbage', 'unwrap chicken', 'pours chicken to pan', 'turn on stovetop', 'stir chicken in pan', 'add cabbage to pan', 'stirs cabbage and chicken in pan', 'adjust temperature of stovetop', 'covers cooking pan with lid', 'stir rice', 'gathers plates', 'serves rice', 'stirs chicken and cabbage', 'serves chicken stir fry']\n",
      "['put pan on cooker', 'add meat to pan', 'turn on cooker', 'stir meat in pan with chopstick', 'add soy sauce to pan', 'stir meat and soy sauce in pan', 'serve meat on plate']\n",
      "0.45118610574885876\n",
      "['puts chicken pieces into bowl', 'adds green peas into bowl', 'add hot water to recipe', 'stirs recipe with chopstick', 'drains water from recipe', 'adds soy sauce to recipe', 'add hot water to recipe', 'stir recipe', 'store soy sauce in freezer', 'adds black spice to recipe', 'stirs recipe', 'serves chicken stir fry mixture', 'unpack cabbage', 'dice cabbage', 'rinses cabbage', 'unwrap chicken', 'pours chicken to pan', 'turn on stovetop', 'stir chicken in pan', 'add cabbage to pan', 'stirs cabbage and chicken in pan', 'adjust temperature of stovetop', 'covers cooking pan with lid', 'stir rice', 'gathers plates', 'serves rice', 'stirs chicken and cabbage', 'serves chicken stir fry']\n",
      "['unwrap meat', 'dice meat', 'add meat to pan', 'turn on stove', 'stir meat in pan with chopstick', 'add peas to pan', 'add lettuce to pan', 'stir meat, peas, and lettuce in pan with chopstick', 'open pack of sauce', 'add pack of sauce to pan', 'add black spice to pan', 'stir everything in pan with chopstick', 'serve meat stir fry on plate']\n",
      "0.46596773434793615\n",
      "['puts chicken pieces into bowl', 'adds green peas into bowl', 'add hot water to recipe', 'stirs recipe with chopstick', 'drains water from recipe', 'adds soy sauce to recipe', 'add hot water to recipe', 'stir recipe', 'store soy sauce in freezer', 'adds black spice to recipe', 'stirs recipe', 'serves chicken stir fry mixture', 'unpack cabbage', 'dice cabbage', 'rinses cabbage', 'unwrap chicken', 'pours chicken to pan', 'turn on stovetop', 'stir chicken in pan', 'add cabbage to pan', 'stirs cabbage and chicken in pan', 'adjust temperature of stovetop', 'covers cooking pan with lid', 'stir rice', 'gathers plates', 'serves rice', 'stirs chicken and cabbage', 'serves chicken stir fry']\n",
      "['unpack cabbage', 'dice cabbage', 'rinses cabbage', 'unwrap chicken', 'pours chicken to pan', 'turn on stove', 'stir chicken in pan', 'add cabbage to pan', 'stirs cabbage and chicken in pan', 'add pack of sauce to pan', 'stirs cabbage and chicken in pan', 'adjust temperature of stove', 'covers cooking pan with lid', 'serve chicken stir fry on plate']\n",
      "0.6238773176448225\n",
      "['puts chicken pieces into bowl', 'adds green peas into bowl', 'add hot water to recipe', 'stirs recipe with chopstick', 'drains water from recipe', 'adds soy sauce to recipe', 'add hot water to recipe', 'stir recipe', 'store soy sauce in freezer', 'adds black spice to recipe', 'stirs recipe', 'serves chicken stir fry mixture', 'unpack cabbage', 'dice cabbage', 'rinses cabbage', 'unwrap chicken', 'pours chicken to pan', 'turn on stovetop', 'stir chicken in pan', 'add cabbage to pan', 'stirs cabbage and chicken in pan', 'adjust temperature of stovetop', 'covers cooking pan with lid', 'stir rice', 'gathers plates', 'serves rice', 'stirs chicken and cabbage', 'serves chicken stir fry']\n",
      "['unwrap chicken', 'cut chicken with knife on chopping board', 'dice cabbage with knife on chopping board', 'put pan on stove', 'add chicken to pan', 'turn on stove', 'stir chicken in pan with chopstick', 'add cabbage to pan', 'stir cabbage and chicken in pan with chopstick', 'add soy sauce to pan', 'add black spice to pan', 'stir contents in pan with chopstick', 'serve chicken and cabbage stirfry on plate']\n",
      "0.49824055340019335\n",
      "['slice cucumber', 'slice ham', 'slice onion', 'break an egg into a bowl', 'whisk egg with chopsticks', 'remove excess oil from pan', 'cook egg in pan', 'adjust heat', 'dish fried egg on chopping board', 'adjust heat', 'dissolve pasta', 'heat ingredient in the microwave', 'adjust microwave setting', 'refrigerate noodles', 'dish pasta on a plate', 'add sliced ham to the plate', 'add sliced cucumber to plate', 'add fried egg to the plate', 'add sliced tomatoes to the plate', 'add sliced cheese to the plate', 'add sauce to the plate']\n",
      "['put pancake on tray', 'add seafood to tray', 'add mayo to tray']\n",
      "0.3790698548361944\n",
      "['slice cucumber', 'slice ham', 'slice onion', 'break an egg into a bowl', 'whisk egg with chopsticks', 'remove excess oil from pan', 'cook egg in pan', 'adjust heat', 'dish fried egg on chopping board', 'adjust heat', 'dissolve pasta', 'heat ingredient in the microwave', 'adjust microwave setting', 'refrigerate noodles', 'dish pasta on a plate', 'add sliced ham to the plate', 'add sliced cucumber to plate', 'add fried egg to the plate', 'add sliced tomatoes to the plate', 'add sliced cheese to the plate', 'add sauce to the plate']\n",
      "['place pot on stove', 'add maggie to pot', 'add water to pot', 'turn on stove', 'cook maggie in pot', 'turn off stove', 'scoop maggie into bowl', 'add soy sauce to bowl']\n",
      "0.3911519639993517\n",
      "['slice cucumber', 'slice ham', 'slice onion', 'break an egg into a bowl', 'whisk egg with chopsticks', 'remove excess oil from pan', 'cook egg in pan', 'adjust heat', 'dish fried egg on chopping board', 'adjust heat', 'dissolve pasta', 'heat ingredient in the microwave', 'adjust microwave setting', 'refrigerate noodles', 'dish pasta on a plate', 'add sliced ham to the plate', 'add sliced cucumber to plate', 'add fried egg to the plate', 'add sliced tomatoes to the plate', 'add sliced cheese to the plate', 'add sauce to the plate']\n",
      "['place maggie on plate', 'add ketchup on plate']\n",
      "0.42503980623099147\n",
      "['slice cucumber', 'slice ham', 'slice onion', 'break an egg into a bowl', 'whisk egg with chopsticks', 'remove excess oil from pan', 'cook egg in pan', 'adjust heat', 'dish fried egg on chopping board', 'adjust heat', 'dissolve pasta', 'heat ingredient in the microwave', 'adjust microwave setting', 'refrigerate noodles', 'dish pasta on a plate', 'add sliced ham to the plate', 'add sliced cucumber to plate', 'add fried egg to the plate', 'add sliced tomatoes to the plate', 'add sliced cheese to the plate', 'add sauce to the plate']\n",
      "['slice cucumber on chopping board with knife', 'slice onion on chopping board with knife', 'crack egg into bowl', 'whisk egg in bowl', 'add oil to pot', 'heat pot on stove', 'cook egg in pot', 'boil water in pot', 'add pasta to boiling water', 'drain pasta', 'place pasta on plate', 'add sliced cucumber to plate', 'add sliced onion to plate', 'add cooked egg to plate', 'add sauce to plate']\n",
      "0.6322052893756926\n",
      "['slice cucumber', 'slice ham', 'slice onion', 'break an egg into a bowl', 'whisk egg with chopsticks', 'remove excess oil from pan', 'cook egg in pan', 'adjust heat', 'dish fried egg on chopping board', 'adjust heat', 'dissolve pasta', 'heat ingredient in the microwave', 'adjust microwave setting', 'refrigerate noodles', 'dish pasta on a plate', 'add sliced ham to the plate', 'add sliced cucumber to plate', 'add fried egg to the plate', 'add sliced tomatoes to the plate', 'add sliced cheese to the plate', 'add sauce to the plate']\n",
      "['add meat to plate', 'add cheese to plate', 'add sauce to plate']\n",
      "0.4617164520492325\n",
      "['slice cucumber', 'slice ham', 'slice onion', 'break an egg into a bowl', 'whisk egg with chopsticks', 'remove excess oil from pan', 'cook egg in pan', 'adjust heat', 'dish fried egg on chopping board', 'adjust heat', 'dissolve pasta', 'heat ingredient in the microwave', 'adjust microwave setting', 'refrigerate noodles', 'dish pasta on a plate', 'add sliced ham to the plate', 'add sliced cucumber to plate', 'add fried egg to the plate', 'add sliced tomatoes to the plate', 'add sliced cheese to the plate', 'add sauce to the plate']\n",
      "['place pasta on plate', 'place sliced ham on plate', 'place cucumber slice on plate', 'place fried egg on plate', 'place tomato slice on plate', 'place cheese on plate', 'add sauce to plate']\n",
      "0.5129347799308819\n",
      "['peel onion', 'slice onion', 'wash the dried leaves', 'put dried leaves in the pot', 'set the heat temperature', 'add vinegar', 'add soy sauce', 'add vegetable oil', 'regulate heat', 'add sliced onion to pot', 'stir sauce', 'add spices', 'add pepper', 'add garlic', 'stir sauce', 'clean tomatoes', 'slice tomatoes', 'add tomatoes into the broth']\n",
      "['add soup to bowl']\n",
      "0.38561577059021634\n",
      "['peel onion', 'slice onion', 'wash the dried leaves', 'put dried leaves in the pot', 'set the heat temperature', 'add vinegar', 'add soy sauce', 'add vegetable oil', 'regulate heat', 'add sliced onion to pot', 'stir sauce', 'add spices', 'add pepper', 'add garlic', 'stir sauce', 'clean tomatoes', 'slice tomatoes', 'add tomatoes into the broth']\n",
      "['put soup in bowl', 'add vegetable to bowl', 'boil bowl on stove']\n",
      "0.4157653852926241\n",
      "['peel onion', 'slice onion', 'wash the dried leaves', 'put dried leaves in the pot', 'set the heat temperature', 'add vinegar', 'add soy sauce', 'add vegetable oil', 'regulate heat', 'add sliced onion to pot', 'stir sauce', 'add spices', 'add pepper', 'add garlic', 'stir sauce', 'clean tomatoes', 'slice tomatoes', 'add tomatoes into the broth']\n",
      "['put stew in bowl']\n",
      "0.35839367482905526\n",
      "['peel onion', 'slice onion', 'wash the dried leaves', 'put dried leaves in the pot', 'set the heat temperature', 'add vinegar', 'add soy sauce', 'add vegetable oil', 'regulate heat', 'add sliced onion to pot', 'stir sauce', 'add spices', 'add pepper', 'add garlic', 'stir sauce', 'clean tomatoes', 'slice tomatoes', 'add tomatoes into the broth']\n",
      "['peel onion', 'slice onion', 'put dried leaves in the pot', 'add soy sauce', 'add onion to pot', 'add tomatoes into the pot']\n",
      "0.641761783494674\n",
      "['peel onion', 'slice onion', 'wash the dried leaves', 'put dried leaves in the pot', 'set the heat temperature', 'add vinegar', 'add soy sauce', 'add vegetable oil', 'regulate heat', 'add sliced onion to pot', 'stir sauce', 'add spices', 'add pepper', 'add garlic', 'stir sauce', 'clean tomatoes', 'slice tomatoes', 'add tomatoes into the broth']\n",
      "['peel onion', 'slice onion', 'wash dried leaves', 'put dried leaves in pot', 'add beef stock to pot', 'add spices to pot', 'add garlic to pot', 'slice tomato', 'add tomato to pot']\n",
      "0.655502627137236\n",
      "['peel onion', 'slice onion', 'wash the dried leaves', 'put dried leaves in the pot', 'set the heat temperature', 'add vinegar', 'add soy sauce', 'add vegetable oil', 'regulate heat', 'add sliced onion to pot', 'stir sauce', 'add spices', 'add pepper', 'add garlic', 'stir sauce', 'clean tomatoes', 'slice tomatoes', 'add tomatoes into the broth']\n",
      "['peel onion', 'slice onion', 'wash the dried leaves', 'put dried leaves in the pot', 'add water to pot', 'add sliced onion to pot', 'turn on the stove', 'put pot on stove', 'boil contents of pot']\n",
      "0.5620886004849428\n",
      "['flip the bread in the pan', 'regulate the heat of the', 'add oil to the pan', 'add meat to the pan', 'add spice to the stir fried meat', 'add spice to the stir fried meat', 'wash the kitchen utensils', 'clean the pan with a kitchen roll', 'arrange the pan into the rack', 'clean the sink area', 'clean the cooker', 'clean the kitchen wall']\n",
      "['clean the pan with a tissue']\n",
      "0.45576728643898057\n",
      "['flip the bread in the pan', 'regulate the heat of the', 'add oil to the pan', 'add meat to the pan', 'add spice to the stir fried meat', 'add spice to the stir fried meat', 'wash the kitchen utensils', 'clean the pan with a kitchen roll', 'arrange the pan into the rack', 'clean the sink area', 'clean the cooker', 'clean the kitchen wall']\n",
      "['clean the rack with tissue']\n",
      "0.34003163942627845\n",
      "['flip the bread in the pan', 'regulate the heat of the', 'add oil to the pan', 'add meat to the pan', 'add spice to the stir fried meat', 'add spice to the stir fried meat', 'wash the kitchen utensils', 'clean the pan with a kitchen roll', 'arrange the pan into the rack', 'clean the sink area', 'clean the cooker', 'clean the kitchen wall']\n",
      "['False']\n",
      "0.05273993186335246\n",
      "['flip the bread in the pan', 'regulate the heat of the', 'add oil to the pan', 'add meat to the pan', 'add spice to the stir fried meat', 'add spice to the stir fried meat', 'wash the kitchen utensils', 'clean the pan with a kitchen roll', 'arrange the pan into the rack', 'clean the sink area', 'clean the cooker', 'clean the kitchen wall']\n",
      "['False']\n",
      "0.05276807657962923\n",
      "['flip the bread in the pan', 'regulate the heat of the', 'add oil to the pan', 'add meat to the pan', 'add spice to the stir fried meat', 'add spice to the stir fried meat', 'wash the kitchen utensils', 'clean the pan with a kitchen roll', 'arrange the pan into the rack', 'clean the sink area', 'clean the cooker', 'clean the kitchen wall']\n",
      "['clean the pan with a tissue']\n",
      "0.4556983434195009\n",
      "['flip the bread in the pan', 'regulate the heat of the', 'add oil to the pan', 'add meat to the pan', 'add spice to the stir fried meat', 'add spice to the stir fried meat', 'wash the kitchen utensils', 'clean the pan with a kitchen roll', 'arrange the pan into the rack', 'clean the sink area', 'clean the cooker', 'clean the kitchen wall']\n",
      "['clean the pan with tissue']\n",
      "0.4504725993552654\n",
      "['Dices Scallion', 'Dices Duck', 'Heat Oil', 'Adds diced Scallion and Duck into hot Oil', 'Adds meat to the recipe', 'Adds Spice into Recipe', 'Returns Ingredients to the refrigerator', 'Gathers utensils', 'Adds water to the recipe', 'Adds Duck seasoning', 'Adds Tofu to the recipe', 'Cooks Tofu', 'Adds seasoning to recipe']\n",
      "['gather green onion, tomato, and enoki mushroom from refrigerator', 'place green onion, tomato, and enoki mushroom on cutting board', 'use knife to dice green onion, tomato, and enoki mushroom', 'gather tofu', 'place tofu on cutting board', 'use knife to cut tofu', 'gather utensils from table', 'place griddle on kitchen area', 'add sauce to griddle', 'heat griddle', 'add diced green onion, tomato, enoki mushroom, and tofu onto hot griddle', 'cook tofu with vegetables', 'serve cooked tofu']\n",
      "0.3320387552919606\n",
      "['Dices Scallion', 'Dices Duck', 'Heat Oil', 'Adds diced Scallion and Duck into hot Oil', 'Adds meat to the recipe', 'Adds Spice into Recipe', 'Returns Ingredients to the refrigerator', 'Gathers utensils', 'Adds water to the recipe', 'Adds Duck seasoning', 'Adds Tofu to the recipe', 'Cooks Tofu', 'Adds seasoning to recipe']\n",
      "['dice sausage on cutting board with knife', 'dice green onion on cutting board with knife', 'put griddle on counter top', 'add sausage to griddle', 'add green onion to griddle', 'add seasoning to griddle', 'cook sausage and green onion on griddle']\n",
      "0.33981538487945506\n",
      "['Dices Scallion', 'Dices Duck', 'Heat Oil', 'Adds diced Scallion and Duck into hot Oil', 'Adds meat to the recipe', 'Adds Spice into Recipe', 'Returns Ingredients to the refrigerator', 'Gathers utensils', 'Adds water to the recipe', 'Adds Duck seasoning', 'Adds Tofu to the recipe', 'Cooks Tofu', 'Adds seasoning to recipe']\n",
      "['gather pan', 'gather oil', 'gather tofu', 'gather seasoning', 'turn on stovetop', 'place pan on stovetop', 'add oil to pan', 'heat oil in pan', 'add tofu to pan', 'fry tofu in pan', 'add seasoning to tofu', 'remove cooked tofu from pan']\n",
      "0.40437726902785387\n",
      "['Dices Scallion', 'Dices Duck', 'Heat Oil', 'Adds diced Scallion and Duck into hot Oil', 'Adds meat to the recipe', 'Adds Spice into Recipe', 'Returns Ingredients to the refrigerator', 'Gathers utensils', 'Adds water to the recipe', 'Adds Duck seasoning', 'Adds Tofu to the recipe', 'Cooks Tofu', 'Adds seasoning to recipe']\n",
      "['gather pan', 'gather oil', 'gather tofu', 'gather seasoning', 'gather utensils', 'add oil to pan', 'heat pan', 'add tofu to pan', 'fry tofu', 'add seasoning to tofu']\n",
      "0.45519234903569883\n",
      "['Dices Scallion', 'Dices Duck', 'Heat Oil', 'Adds diced Scallion and Duck into hot Oil', 'Adds meat to the recipe', 'Adds Spice into Recipe', 'Returns Ingredients to the refrigerator', 'Gathers utensils', 'Adds water to the recipe', 'Adds Duck seasoning', 'Adds Tofu to the recipe', 'Cooks Tofu', 'Adds seasoning to recipe']\n",
      "['dice scallion', 'dice duck', 'gather utensils', 'add oil to skillet', 'heat skillet', 'add diced scallion and duck to hot skillet', 'add tofu to skillet', 'cook tofu', 'add seasoning to tofu']\n",
      "0.5076031813813701\n",
      "['Dices Scallion', 'Dices Duck', 'Heat Oil', 'Adds diced Scallion and Duck into hot Oil', 'Adds meat to the recipe', 'Adds Spice into Recipe', 'Returns Ingredients to the refrigerator', 'Gathers utensils', 'Adds water to the recipe', 'Adds Duck seasoning', 'Adds Tofu to the recipe', 'Cooks Tofu', 'Adds seasoning to recipe']\n",
      "['dice scallion on cutting board with knife', 'dice duck on cutting board with knife', 'put pan on stove', 'add oil to pan', 'heat pan with oil', 'add diced scallion and diced duck into hot oil in pan', 'add duck to recipe', 'add seasoning to recipe', 'add water to pan', 'add tofu to pan', 'cook tofu in pan', 'add seasoning to pan']\n",
      "0.5930166310192158\n",
      "['Weigh measurement cup on a weighing scale', 'Turn on weighing scale', 'Add water to the measuring cup on the weighing scale', 'Adjust water', 'Stir flour and sugar in a bowl', 'Add salt to flour mixture', 'Stir the flour mixture together', 'Add milk to the flour mixture', 'Mix flour mixture together', 'Put dough in oven', 'Set oven']\n",
      "['put flour on table', 'mix flour with stirrer']\n",
      "0.44919102588553617\n",
      "['Weigh measurement cup on a weighing scale', 'Turn on weighing scale', 'Add water to the measuring cup on the weighing scale', 'Adjust water', 'Stir flour and sugar in a bowl', 'Add salt to flour mixture', 'Stir the flour mixture together', 'Add milk to the flour mixture', 'Mix flour mixture together', 'Put dough in oven', 'Set oven']\n",
      "['add potato starch to measuring cup', 'add salt to measuring cup', 'mix with stirrer']\n",
      "0.4176192829394437\n",
      "['Weigh measurement cup on a weighing scale', 'Turn on weighing scale', 'Add water to the measuring cup on the weighing scale', 'Adjust water', 'Stir flour and sugar in a bowl', 'Add salt to flour mixture', 'Stir the flour mixture together', 'Add milk to the flour mixture', 'Mix flour mixture together', 'Put dough in oven', 'Set oven']\n",
      "['add salt to flour mixture', 'add water to flour mixture', 'mix flour mixture with stirrer']\n",
      "0.508345030554582\n",
      "['Weigh measurement cup on a weighing scale', 'Turn on weighing scale', 'Add water to the measuring cup on the weighing scale', 'Adjust water', 'Stir flour and sugar in a bowl', 'Add salt to flour mixture', 'Stir the flour mixture together', 'Add milk to the flour mixture', 'Mix flour mixture together', 'Put dough in oven', 'Set oven']\n",
      "['put flour in jug', 'put sugar in jug', 'add milk to jug', 'add water to jug', 'add salt to jug', 'mix contents in jug with spatula']\n",
      "0.3978786978888105\n",
      "['Weigh measurement cup on a weighing scale', 'Turn on weighing scale', 'Add water to the measuring cup on the weighing scale', 'Adjust water', 'Stir flour and sugar in a bowl', 'Add salt to flour mixture', 'Stir the flour mixture together', 'Add milk to the flour mixture', 'Mix flour mixture together', 'Put dough in oven', 'Set oven']\n",
      "['put flour from flour bag into bowl', 'add sugar into bowl', 'add water into bowl', 'add powdered milk into bowl', 'add salt into bowl', 'mix contents of bowl with spatula']\n",
      "0.4631235869319933\n",
      "['Weigh measurement cup on a weighing scale', 'Turn on weighing scale', 'Add water to the measuring cup on the weighing scale', 'Adjust water', 'Stir flour and sugar in a bowl', 'Add salt to flour mixture', 'Stir the flour mixture together', 'Add milk to the flour mixture', 'Mix flour mixture together', 'Put dough in oven', 'Set oven']\n",
      "['add flour to bowl', 'add sugar to bowl', 'add salt to bowl', 'add milk to bowl', 'add water to bowl', 'mix contents of bowl with spatula']\n",
      "0.44982321118810376\n",
      "['dice eggplant on chopping board', 'thaw diced eggplants in water', 'cut eggplant on chopping board', 'extract moisture from diced eggplants with paper towels', 'refrigerate wrapped eggplants', 'heat oil in a pan', 'add meat to pan', 'clean meat wraps', 'regulate heat', 'stir meat in pan', 'flip meat in pan', 'dice eggplant on chopping board', 'add diced eggplant to pan', 'stir eggplants with meat']\n",
      "['False']\n",
      "0.062351394032584495\n",
      "['dice eggplant on chopping board', 'thaw diced eggplants in water', 'cut eggplant on chopping board', 'extract moisture from diced eggplants with paper towels', 'refrigerate wrapped eggplants', 'heat oil in a pan', 'add meat to pan', 'clean meat wraps', 'regulate heat', 'stir meat in pan', 'flip meat in pan', 'dice eggplant on chopping board', 'add diced eggplant to pan', 'stir eggplants with meat']\n",
      "['heat oil in pan', 'turn on stove', 'add minced beef to pan', 'stir minced beef in pan', 'flip minced beef in pan']\n",
      "0.4558608753833936\n",
      "['dice eggplant on chopping board', 'thaw diced eggplants in water', 'cut eggplant on chopping board', 'extract moisture from diced eggplants with paper towels', 'refrigerate wrapped eggplants', 'heat oil in a pan', 'add meat to pan', 'clean meat wraps', 'regulate heat', 'stir meat in pan', 'flip meat in pan', 'dice eggplant on chopping board', 'add diced eggplant to pan', 'stir eggplants with meat']\n",
      "['heat oil in pan', 'add meat to pan', 'stir meat in pan']\n",
      "0.5324477718824479\n",
      "['dice eggplant on chopping board', 'thaw diced eggplants in water', 'cut eggplant on chopping board', 'extract moisture from diced eggplants with paper towels', 'refrigerate wrapped eggplants', 'heat oil in a pan', 'add meat to pan', 'clean meat wraps', 'regulate heat', 'stir meat in pan', 'flip meat in pan', 'dice eggplant on chopping board', 'add diced eggplant to pan', 'stir eggplants with meat']\n",
      "['add oil to pan', 'turn on stove', 'add veggies to pan', 'add soy meat to pan', 'stir veggies with soy meat in pan']\n",
      "0.45969827171913746\n",
      "['dice eggplant on chopping board', 'thaw diced eggplants in water', 'cut eggplant on chopping board', 'extract moisture from diced eggplants with paper towels', 'refrigerate wrapped eggplants', 'heat oil in a pan', 'add meat to pan', 'clean meat wraps', 'regulate heat', 'stir meat in pan', 'flip meat in pan', 'dice eggplant on chopping board', 'add diced eggplant to pan', 'stir eggplants with meat']\n",
      "['heat oil in a pan', 'add meat to pan', 'stir meat in pan']\n",
      "0.5345411338672209\n",
      "['dice eggplant on chopping board', 'thaw diced eggplants in water', 'cut eggplant on chopping board', 'extract moisture from diced eggplants with paper towels', 'refrigerate wrapped eggplants', 'heat oil in a pan', 'add meat to pan', 'clean meat wraps', 'regulate heat', 'stir meat in pan', 'flip meat in pan', 'dice eggplant on chopping board', 'add diced eggplant to pan', 'stir eggplants with meat']\n",
      "['dice eggplant on chopping board', 'extract moisture from eggplant with paper towel', 'heat oil in pan', 'add meat to pan', 'stir meat in pan', 'add eggplant to pan', 'stir eggplant with meat']\n",
      "0.7824631548578685\n",
      "['Cut the mango', 'Add chopped mango into the pan', 'slice mango', 'add slice mango into the pot', 'cut the mango', 'add mango to pot', 'cut the mango', 'add cut mango to pot', 'cut the mango', 'add ingredient to pot', 'cut mango', 'add mango to pan', 'cut mango', 'cut mango', 'cut mango', 'cut mango']\n",
      "['cut tomato on chopping board with cutter']\n",
      "0.4178425311169901\n",
      "['Cut the mango', 'Add chopped mango into the pan', 'slice mango', 'add slice mango into the pot', 'cut the mango', 'add mango to pot', 'cut the mango', 'add cut mango to pot', 'cut the mango', 'add ingredient to pot', 'cut mango', 'add mango to pan', 'cut mango', 'cut mango', 'cut mango', 'cut mango']\n",
      "['False']\n",
      "0.05474105474217772\n",
      "['Cut the mango', 'Add chopped mango into the pan', 'slice mango', 'add slice mango into the pot', 'cut the mango', 'add mango to pot', 'cut the mango', 'add cut mango to pot', 'cut the mango', 'add ingredient to pot', 'cut mango', 'add mango to pan', 'cut mango', 'cut mango', 'cut mango', 'cut mango']\n",
      "['cut mango with knife', 'add mango to pan']\n",
      "0.7212275132619571\n",
      "['Cut the mango', 'Add chopped mango into the pan', 'slice mango', 'add slice mango into the pot', 'cut the mango', 'add mango to pot', 'cut the mango', 'add cut mango to pot', 'cut the mango', 'add ingredient to pot', 'cut mango', 'add mango to pan', 'cut mango', 'cut mango', 'cut mango', 'cut mango']\n",
      "['place chopping board on table', 'place mango on chopping board', 'cut mango with knife', 'put cut mango into bowl']\n",
      "0.7003445226395042\n",
      "['Cut the mango', 'Add chopped mango into the pan', 'slice mango', 'add slice mango into the pot', 'cut the mango', 'add mango to pot', 'cut the mango', 'add cut mango to pot', 'cut the mango', 'add ingredient to pot', 'cut mango', 'add mango to pan', 'cut mango', 'cut mango', 'cut mango', 'cut mango']\n",
      "['place mango on cutting board', 'cut mango with knife on cutting board', 'put cut mango into bowl']\n",
      "0.7185791671880399\n",
      "['Cut the mango', 'Add chopped mango into the pan', 'slice mango', 'add slice mango into the pot', 'cut the mango', 'add mango to pot', 'cut the mango', 'add cut mango to pot', 'cut the mango', 'add ingredient to pot', 'cut mango', 'add mango to pan', 'cut mango', 'cut mango', 'cut mango', 'cut mango']\n",
      "['place mango on cutting board', 'cut mango with knife on cutting board', 'add cut mango to pot']\n",
      "0.7404871358569496\n",
      "['Rinse packs of sauce in water', 'Dry hands with a towel', 'Fold papers', 'Arrange kitchen utensils on a countertop', 'Arrange ingredients on the countertop', 'Rinse a cucumber with water', 'Set a knife on a chopping board', 'Reposition a jug on the countertop', 'Dispose the cucumber wrap in a bag', 'Slice the cucumber', 'Eat the cucumber slice', 'Slice the cucumber']\n",
      "['False']\n",
      "0.0702637692566569\n",
      "['Rinse packs of sauce in water', 'Dry hands with a towel', 'Fold papers', 'Arrange kitchen utensils on a countertop', 'Arrange ingredients on the countertop', 'Rinse a cucumber with water', 'Set a knife on a chopping board', 'Reposition a jug on the countertop', 'Dispose the cucumber wrap in a bag', 'Slice the cucumber', 'Eat the cucumber slice', 'Slice the cucumber']\n",
      "['False']\n",
      "0.0702637692566569\n",
      "['Rinse packs of sauce in water', 'Dry hands with a towel', 'Fold papers', 'Arrange kitchen utensils on a countertop', 'Arrange ingredients on the countertop', 'Rinse a cucumber with water', 'Set a knife on a chopping board', 'Reposition a jug on the countertop', 'Dispose the cucumber wrap in a bag', 'Slice the cucumber', 'Eat the cucumber slice', 'Slice the cucumber']\n",
      "['set mat on table', 'set razor on mat', 'impossible']\n",
      "0.2421571255636592\n",
      "['Rinse packs of sauce in water', 'Dry hands with a towel', 'Fold papers', 'Arrange kitchen utensils on a countertop', 'Arrange ingredients on the countertop', 'Rinse a cucumber with water', 'Set a knife on a chopping board', 'Reposition a jug on the countertop', 'Dispose the cucumber wrap in a bag', 'Slice the cucumber', 'Eat the cucumber slice', 'Slice the cucumber']\n",
      "['place tray on table', 'place cucumber on tray', 'use razor to slice cucumber']\n",
      "0.4720127505780105\n",
      "['Rinse packs of sauce in water', 'Dry hands with a towel', 'Fold papers', 'Arrange kitchen utensils on a countertop', 'Arrange ingredients on the countertop', 'Rinse a cucumber with water', 'Set a knife on a chopping board', 'Reposition a jug on the countertop', 'Dispose the cucumber wrap in a bag', 'Slice the cucumber', 'Eat the cucumber slice', 'Slice the cucumber']\n",
      "['set tray on table', 'place cucumber on tray', 'slice cucumber with razor']\n",
      "0.4629499737200967\n",
      "['Rinse packs of sauce in water', 'Dry hands with a towel', 'Fold papers', 'Arrange kitchen utensils on a countertop', 'Arrange ingredients on the countertop', 'Rinse a cucumber with water', 'Set a knife on a chopping board', 'Reposition a jug on the countertop', 'Dispose the cucumber wrap in a bag', 'Slice the cucumber', 'Eat the cucumber slice', 'Slice the cucumber']\n",
      "['set tray on countertop', 'place cucumber on tray', 'slice cucumber with razor']\n",
      "0.4970625034795506\n",
      "['Set up the blender', 'Arrange food items on the countertop for cooking', 'Add brown flat seeds to the blender', 'Add powdered moringa to the blender', 'Add ground pepper to the blender', 'Add plantain to the blender', 'Add mixed berries to the blender', 'Add yoghurt to the blender', 'Activate the blender', 'Regulate the blender', 'Add smoothie to the plate', 'Add cereal to the plate', 'Mix the cereal with the smoothie', 'Add basil powder to the plate']\n",
      "['put bowl on counter', 'add puree to bowl', 'mix the puree in bowl']\n",
      "0.4526454504277553\n",
      "['Set up the blender', 'Arrange food items on the countertop for cooking', 'Add brown flat seeds to the blender', 'Add powdered moringa to the blender', 'Add ground pepper to the blender', 'Add plantain to the blender', 'Add mixed berries to the blender', 'Add yoghurt to the blender', 'Activate the blender', 'Regulate the blender', 'Add smoothie to the plate', 'Add cereal to the plate', 'Mix the cereal with the smoothie', 'Add basil powder to the plate']\n",
      "['slice mango with knife', 'put mango on plate', 'add yogurt on plate', 'mix mango and yogurt on plate']\n",
      "0.4020352922729433\n",
      "['Set up the blender', 'Arrange food items on the countertop for cooking', 'Add brown flat seeds to the blender', 'Add powdered moringa to the blender', 'Add ground pepper to the blender', 'Add plantain to the blender', 'Add mixed berries to the blender', 'Add yoghurt to the blender', 'Activate the blender', 'Regulate the blender', 'Add smoothie to the plate', 'Add cereal to the plate', 'Mix the cereal with the smoothie', 'Add basil powder to the plate']\n",
      "['set up the blender', 'add plantain to the blender', 'add cream to the blender', 'activate the blender', 'regulate the blender']\n",
      "0.5977823068083816\n",
      "['Set up the blender', 'Arrange food items on the countertop for cooking', 'Add brown flat seeds to the blender', 'Add powdered moringa to the blender', 'Add ground pepper to the blender', 'Add plantain to the blender', 'Add mixed berries to the blender', 'Add yoghurt to the blender', 'Activate the blender', 'Regulate the blender', 'Add smoothie to the plate', 'Add cereal to the plate', 'Mix the cereal with the smoothie', 'Add basil powder to the plate']\n",
      "['set up the blender', 'add apple to the blender', 'add milk to the blender', 'activate the blender', 'regulate the blender', 'add puree to the plate']\n",
      "0.6596476237269924\n",
      "['Set up the blender', 'Arrange food items on the countertop for cooking', 'Add brown flat seeds to the blender', 'Add powdered moringa to the blender', 'Add ground pepper to the blender', 'Add plantain to the blender', 'Add mixed berries to the blender', 'Add yoghurt to the blender', 'Activate the blender', 'Regulate the blender', 'Add smoothie to the plate', 'Add cereal to the plate', 'Mix the cereal with the smoothie', 'Add basil powder to the plate']\n",
      "['set up the blender', 'add brown flat seed to the blender', 'add yoghurt to the blender', 'activate the blender', 'regulate the blender']\n",
      "0.6101523442494411\n",
      "['Set up the blender', 'Arrange food items on the countertop for cooking', 'Add brown flat seeds to the blender', 'Add powdered moringa to the blender', 'Add ground pepper to the blender', 'Add plantain to the blender', 'Add mixed berries to the blender', 'Add yoghurt to the blender', 'Activate the blender', 'Regulate the blender', 'Add smoothie to the plate', 'Add cereal to the plate', 'Mix the cereal with the smoothie', 'Add basil powder to the plate']\n",
      "['set up the blender', 'add brown flat seed to the blender', 'add moringa powder to the blender', 'add pepper shaker to the blender', 'add plantain to the blender', 'add berries to the blender', 'add yoghurt to the blender', 'activate the blender', 'regulate the blender']\n",
      "0.6820984440127364\n",
      "['Wash skillet under kitchen sink', 'Wipe skillet with kitchen towel', 'Heat skillet over stovetop', 'Melt butter in a skillet over stovetop']\n",
      "['put jar in microwave', 'add oil to jar', 'heat jar in microwave']\n",
      "0.31642976644061094\n",
      "['Wash skillet under kitchen sink', 'Wipe skillet with kitchen towel', 'Heat skillet over stovetop', 'Melt butter in a skillet over stovetop']\n",
      "['put wok on table', 'add oil to wok']\n",
      "0.42155794775904976\n",
      "['Wash skillet under kitchen sink', 'Wipe skillet with kitchen towel', 'Heat skillet over stovetop', 'Melt butter in a skillet over stovetop']\n",
      "['put griddle on gas stove', 'turn on the gas stove']\n",
      "0.43566903761308806\n",
      "['Wash skillet under kitchen sink', 'Wipe skillet with kitchen towel', 'Heat skillet over stovetop', 'Melt butter in a skillet over stovetop']\n",
      "['wash pot under kitchen sink', 'wipe pot with rag', 'put pot on stove', 'turn on the stove', 'impossible']\n",
      "0.4687950133392963\n",
      "['Wash skillet under kitchen sink', 'Wipe skillet with kitchen towel', 'Heat skillet over stovetop', 'Melt butter in a skillet over stovetop']\n",
      "['False']\n",
      "0.05757807304669005\n",
      "['Wash skillet under kitchen sink', 'Wipe skillet with kitchen towel', 'Heat skillet over stovetop', 'Melt butter in a skillet over stovetop']\n",
      "['put baking pan on table', 'add butter to baking pan']\n",
      "0.410032447110535\n",
      "['Stir flatbread in the frypan', 'Move the flatbread from the frypan into a bowl', 'Put flatbread into the frypan', 'Stir flatbread in the frypan', 'Stir flatbread in the frypan', 'Stir flatbread in the frypan', 'Move the flatbread from the frypan into the bowl', 'Stir flatbread in the frypan', 'Stir flatbread in the frypan', 'Stir flatbread in the frypan', 'Adjust the bowl on the floor', 'Stir flatbread in the frypan', 'Stir flatbread in the frypan', 'Move the flatbread from the frypan into the bowl', 'Stir flatbread in the frypan', 'Stir flatbread in the frypan', 'Stir flatbread in the frypan', 'Adjust the flatbread in the bowl', 'Stir flatbread in the frypan', 'Stir flatbread in the frypan', 'Move flatbread from the frypan into the bowl', 'Stir flatbread in the frypan', 'Stir flatbread in the frypan', 'Stir flatbread in the frypan', 'Stir flatbread in the frypan', 'Stir flatbread in the frypan', 'Move the flatbread from the frypan into the bowl']\n",
      "['False']\n",
      "0.09904886170267091\n",
      "['Stir flatbread in the frypan', 'Move the flatbread from the frypan into a bowl', 'Put flatbread into the frypan', 'Stir flatbread in the frypan', 'Stir flatbread in the frypan', 'Stir flatbread in the frypan', 'Move the flatbread from the frypan into the bowl', 'Stir flatbread in the frypan', 'Stir flatbread in the frypan', 'Stir flatbread in the frypan', 'Adjust the bowl on the floor', 'Stir flatbread in the frypan', 'Stir flatbread in the frypan', 'Move the flatbread from the frypan into the bowl', 'Stir flatbread in the frypan', 'Stir flatbread in the frypan', 'Stir flatbread in the frypan', 'Adjust the flatbread in the bowl', 'Stir flatbread in the frypan', 'Stir flatbread in the frypan', 'Move flatbread from the frypan into the bowl', 'Stir flatbread in the frypan', 'Stir flatbread in the frypan', 'Stir flatbread in the frypan', 'Stir flatbread in the frypan', 'Stir flatbread in the frypan', 'Move the flatbread from the frypan into the bowl']\n",
      "['put flatbread pizza on griddle', 'stir flatbread pizza in griddle with fork']\n",
      "0.7206771846772864\n",
      "['Stir flatbread in the frypan', 'Move the flatbread from the frypan into a bowl', 'Put flatbread into the frypan', 'Stir flatbread in the frypan', 'Stir flatbread in the frypan', 'Stir flatbread in the frypan', 'Move the flatbread from the frypan into the bowl', 'Stir flatbread in the frypan', 'Stir flatbread in the frypan', 'Stir flatbread in the frypan', 'Adjust the bowl on the floor', 'Stir flatbread in the frypan', 'Stir flatbread in the frypan', 'Move the flatbread from the frypan into the bowl', 'Stir flatbread in the frypan', 'Stir flatbread in the frypan', 'Stir flatbread in the frypan', 'Adjust the flatbread in the bowl', 'Stir flatbread in the frypan', 'Stir flatbread in the frypan', 'Move flatbread from the frypan into the bowl', 'Stir flatbread in the frypan', 'Stir flatbread in the frypan', 'Stir flatbread in the frypan', 'Stir flatbread in the frypan', 'Stir flatbread in the frypan', 'Move the flatbread from the frypan into the bowl']\n",
      "['put dough into the bowl', 'stir dough in the bowl using knife']\n",
      "0.5195616864854788\n",
      "['Stir flatbread in the frypan', 'Move the flatbread from the frypan into a bowl', 'Put flatbread into the frypan', 'Stir flatbread in the frypan', 'Stir flatbread in the frypan', 'Stir flatbread in the frypan', 'Move the flatbread from the frypan into the bowl', 'Stir flatbread in the frypan', 'Stir flatbread in the frypan', 'Stir flatbread in the frypan', 'Adjust the bowl on the floor', 'Stir flatbread in the frypan', 'Stir flatbread in the frypan', 'Move the flatbread from the frypan into the bowl', 'Stir flatbread in the frypan', 'Stir flatbread in the frypan', 'Stir flatbread in the frypan', 'Adjust the flatbread in the bowl', 'Stir flatbread in the frypan', 'Stir flatbread in the frypan', 'Move flatbread from the frypan into the bowl', 'Stir flatbread in the frypan', 'Stir flatbread in the frypan', 'Stir flatbread in the frypan', 'Stir flatbread in the frypan', 'Stir flatbread in the frypan', 'Move the flatbread from the frypan into the bowl']\n",
      "['False']\n",
      "0.09904212222692488\n",
      "['Stir flatbread in the frypan', 'Move the flatbread from the frypan into a bowl', 'Put flatbread into the frypan', 'Stir flatbread in the frypan', 'Stir flatbread in the frypan', 'Stir flatbread in the frypan', 'Move the flatbread from the frypan into the bowl', 'Stir flatbread in the frypan', 'Stir flatbread in the frypan', 'Stir flatbread in the frypan', 'Adjust the bowl on the floor', 'Stir flatbread in the frypan', 'Stir flatbread in the frypan', 'Move the flatbread from the frypan into the bowl', 'Stir flatbread in the frypan', 'Stir flatbread in the frypan', 'Stir flatbread in the frypan', 'Adjust the flatbread in the bowl', 'Stir flatbread in the frypan', 'Stir flatbread in the frypan', 'Move flatbread from the frypan into the bowl', 'Stir flatbread in the frypan', 'Stir flatbread in the frypan', 'Stir flatbread in the frypan', 'Stir flatbread in the frypan', 'Stir flatbread in the frypan', 'Move the flatbread from the frypan into the bowl']\n",
      "['put flatbread into the bowl', 'stir flatbread in the bowl']\n",
      "0.7932656480675377\n",
      "['Stir flatbread in the frypan', 'Move the flatbread from the frypan into a bowl', 'Put flatbread into the frypan', 'Stir flatbread in the frypan', 'Stir flatbread in the frypan', 'Stir flatbread in the frypan', 'Move the flatbread from the frypan into the bowl', 'Stir flatbread in the frypan', 'Stir flatbread in the frypan', 'Stir flatbread in the frypan', 'Adjust the bowl on the floor', 'Stir flatbread in the frypan', 'Stir flatbread in the frypan', 'Move the flatbread from the frypan into the bowl', 'Stir flatbread in the frypan', 'Stir flatbread in the frypan', 'Stir flatbread in the frypan', 'Adjust the flatbread in the bowl', 'Stir flatbread in the frypan', 'Stir flatbread in the frypan', 'Move flatbread from the frypan into the bowl', 'Stir flatbread in the frypan', 'Stir flatbread in the frypan', 'Stir flatbread in the frypan', 'Stir flatbread in the frypan', 'Stir flatbread in the frypan', 'Move the flatbread from the frypan into the bowl']\n",
      "['put flatbread into the frypan', 'stir flatbread in the frypan', 'move the flatbread from the frypan into the bowl']\n",
      "0.8820581411517622\n",
      "['smoothens dough with hand', 'spreads flour around table', 'smoothens dough with hands', 'slices dough to pieces', 'smoothen dough with hands', 'sprinkle flour on the table surface', 'smoothens dough with hand', 'cuts dough into smaller sizes', 'smoothens dough with hand']\n",
      "['impossible']\n",
      "0.11235705309821564\n",
      "['smoothens dough with hand', 'spreads flour around table', 'smoothens dough with hands', 'slices dough to pieces', 'smoothen dough with hands', 'sprinkle flour on the table surface', 'smoothens dough with hand', 'cuts dough into smaller sizes', 'smoothens dough with hand']\n",
      "['put wheat on kneading table', 'knead wheat with hand']\n",
      "0.5546074032017287\n",
      "['smoothens dough with hand', 'spreads flour around table', 'smoothens dough with hands', 'slices dough to pieces', 'smoothen dough with hands', 'sprinkle flour on the table surface', 'smoothens dough with hand', 'cuts dough into smaller sizes', 'smoothens dough with hand']\n",
      "['put cereal in bowl', 'slice cereal with hand']\n",
      "0.4211440089891919\n",
      "['smoothens dough with hand', 'spreads flour around table', 'smoothens dough with hands', 'slices dough to pieces', 'smoothen dough with hands', 'sprinkle flour on the table surface', 'smoothens dough with hand', 'cuts dough into smaller sizes', 'smoothens dough with hand']\n",
      "['place dough on kitchen countertop', 'sprinkle flour on kitchen countertop', 'smoothen dough with hand', 'cut dough into pieces with knife']\n",
      "0.7066550829748295\n",
      "['smoothens dough with hand', 'spreads flour around table', 'smoothens dough with hands', 'slices dough to pieces', 'smoothen dough with hands', 'sprinkle flour on the table surface', 'smoothens dough with hand', 'cuts dough into smaller sizes', 'smoothens dough with hand']\n",
      "['place mat on table', 'place bowl on mat', 'put dough in bowl', 'sprinkle flour on mat', 'smoothen dough with hand', 'slice dough with knife', 'cut dough into smaller sizes']\n",
      "0.5893689723510953\n",
      "['smoothens dough with hand', 'spreads flour around table', 'smoothens dough with hands', 'slices dough to pieces', 'smoothen dough with hands', 'sprinkle flour on the table surface', 'smoothens dough with hand', 'cuts dough into smaller sizes', 'smoothens dough with hand']\n",
      "['put dough in bowl', 'smoothen dough with hand', 'put bowl on table']\n",
      "0.6275254694815349\n",
      "['clean chop board', 'clean knife ']\n",
      "['clean cutting board in kitchen sink']\n",
      "0.5941983680046823\n",
      "['clean chop board', 'clean knife ']\n",
      "['False']\n",
      "0.11093170702847788\n",
      "['clean chop board', 'clean knife ']\n",
      "['wash utensils with water']\n",
      "0.39032290738087605\n",
      "['clean chop board', 'clean knife ']\n",
      "['False']\n",
      "0.11095594100270767\n",
      "['clean chop board', 'clean knife ']\n",
      "['clean knife with water']\n",
      "0.6610980865257297\n",
      "['clean chop board', 'clean knife ']\n",
      "['wash chop board with water']\n",
      "0.6114359821480653\n",
      "['Add dog feed to bowl', 'Stir dog feed in a bowl', 'Add water to dog feed mixture', 'Stir dog feed mixture', 'Wash spoon in the dishwasher']\n",
      "['put spoon in sink', 'turn on water at sink', 'use washing tool to wash spoon in sink', 'rinse spoon with water in sink']\n",
      "0.3880742267460221\n",
      "['Add dog feed to bowl', 'Stir dog feed in a bowl', 'Add water to dog feed mixture', 'Stir dog feed mixture', 'Wash spoon in the dishwasher']\n",
      "['put spoon in sink', 'turn on water at sink', 'use washing tool to clean spoon in sink']\n",
      "0.4037997013536827\n",
      "['Add dog feed to bowl', 'Stir dog feed in a bowl', 'Add water to dog feed mixture', 'Stir dog feed mixture', 'Wash spoon in the dishwasher']\n",
      "['put spoon in dishwasher', 'turn on the dishwasher']\n",
      "0.33742333912344036\n",
      "['Add dog feed to bowl', 'Stir dog feed in a bowl', 'Add water to dog feed mixture', 'Stir dog feed mixture', 'Wash spoon in the dishwasher']\n",
      "['put spoon in dishwasher', 'add water to dishwasher', 'turn on the dishwasher']\n",
      "0.39467275660974976\n",
      "['Add dog feed to bowl', 'Stir dog feed in a bowl', 'Add water to dog feed mixture', 'Stir dog feed mixture', 'Wash spoon in the dishwasher']\n",
      "['put spoon in dishwasher', 'add water to dishwasher', 'turn on dishwasher']\n",
      "0.3895137737058768\n",
      "['Add dog feed to bowl', 'Stir dog feed in a bowl', 'Add water to dog feed mixture', 'Stir dog feed mixture', 'Wash spoon in the dishwasher']\n",
      "['put spoon in dishwasher', 'turn on the dishwasher']\n",
      "0.33743221643846133\n",
      "['get cooking utensils to use', 'dice onion into tiny cubes', 'pack remaining onions into a container', 'get mushroom from plastic container']\n",
      "['get knife to use', 'dice daikon into tiny cubes']\n",
      "0.47509312742632304\n",
      "['get cooking utensils to use', 'dice onion into tiny cubes', 'pack remaining onions into a container', 'get mushroom from plastic container']\n",
      "['get knife', 'get chopping board', 'place chopping board on table', 'place mango on chopping board', 'dice mango into tiny cubes']\n",
      "0.3663971437178274\n",
      "['get cooking utensils to use', 'dice onion into tiny cubes', 'pack remaining onions into a container', 'get mushroom from plastic container']\n",
      "['get knife', 'get chopping board', 'place onion on chopping board', 'dice onion with knife']\n",
      "0.42588670529401995\n",
      "['get cooking utensils to use', 'dice onion into tiny cubes', 'pack remaining onions into a container', 'get mushroom from plastic container']\n",
      "['get knife', 'get chopping board', 'place onion on chopping board', 'dice onion with knife']\n",
      "0.42588670529401995\n",
      "['get cooking utensils to use', 'dice onion into tiny cubes', 'pack remaining onions into a container', 'get mushroom from plastic container']\n",
      "['get knife', 'get chopping board', 'place onion on chopping board', 'dice onion with knife']\n",
      "0.4258753992788491\n",
      "['get cooking utensils to use', 'dice onion into tiny cubes', 'pack remaining onions into a container', 'get mushroom from plastic container']\n",
      "['get utensils to use', 'get onion', 'get knife', 'place onion on table', 'dice onion into tiny cubes']\n",
      "0.5203726987916891\n",
      "['Check the temperature of the pan', 'Simmer vegetable in the pan', 'Set the pan on the stove']\n",
      "['set grill basket on charcoal grill', 'put zucchini in grill basket', 'turn on the charcoal grill', 'simmer zucchini in grill basket']\n",
      "0.32770803962225936\n",
      "['Check the temperature of the pan', 'Simmer vegetable in the pan', 'Set the pan on the stove']\n",
      "['set wok on charcoal grill', 'add veggies to wok', 'turn on the charcoal grill', 'simmer veggies in the wok']\n",
      "0.3864331257473276\n",
      "['Check the temperature of the pan', 'Simmer vegetable in the pan', 'Set the pan on the stove']\n",
      "['set grill basket on charcoal grill', 'put vegetable in grill basket', 'turn on the charcoal grill', 'simmer vegetable in grill basket']\n",
      "0.3659787397392339\n",
      "['Check the temperature of the pan', 'Simmer vegetable in the pan', 'Set the pan on the stove']\n",
      "['set the skillet on the stove', 'add Japanese mustard green to the skillet', 'turn on the stove', 'simmer Japanese mustard green in the skillet']\n",
      "0.47745527381711517\n",
      "['Check the temperature of the pan', 'Simmer vegetable in the pan', 'Set the pan on the stove']\n",
      "['set the pan on the stove', 'check the temperature of the pan', 'add veggies to the pan', 'turn on the stove', 'simmer veggies in the pan']\n",
      "0.6542317902743486\n",
      "['Check the temperature of the pan', 'Simmer vegetable in the pan', 'Set the pan on the stove']\n",
      "['set the pan on the stove', 'put vegetable in the pan', 'turn on the stove', 'simmer vegetable in the pan']\n",
      "0.6074109725459672\n",
      "['Drop tray on table', 'Put on oven', 'Put tomato on tray', 'Place tray into oven', 'Get water into pot', 'Put pot on stovetop', 'Put salt in pot', 'Dice potato', 'Break out root from celery', 'Mix water and liquid soap.', 'Return cooking utensils', 'Look at tomato in oven through glass', 'Dispose an item in the trash bin', 'Clean and return chopstick']\n",
      "['put container on table', 'put soup in container', 'put salt in container', 'place container in air fryer']\n",
      "0.3687295497095392\n",
      "['Drop tray on table', 'Put on oven', 'Put tomato on tray', 'Place tray into oven', 'Get water into pot', 'Put pot on stovetop', 'Put salt in pot', 'Dice potato', 'Break out root from celery', 'Mix water and liquid soap.', 'Return cooking utensils', 'Look at tomato in oven through glass', 'Dispose an item in the trash bin', 'Clean and return chopstick']\n",
      "['put container on table', 'put tomato in container']\n",
      "0.3818838903251949\n",
      "['Drop tray on table', 'Put on oven', 'Put tomato on tray', 'Place tray into oven', 'Get water into pot', 'Put pot on stovetop', 'Put salt in pot', 'Dice potato', 'Break out root from celery', 'Mix water and liquid soap.', 'Return cooking utensils', 'Look at tomato in oven through glass', 'Dispose an item in the trash bin', 'Clean and return chopstick']\n",
      "['put tray on table', 'put tomato on tray', 'put tray in oven substitute (impossible)', 'False']\n",
      "0.40606043999530783\n",
      "['Drop tray on table', 'Put on oven', 'Put tomato on tray', 'Place tray into oven', 'Get water into pot', 'Put pot on stovetop', 'Put salt in pot', 'Dice potato', 'Break out root from celery', 'Mix water and liquid soap.', 'Return cooking utensils', 'Look at tomato in oven through glass', 'Dispose an item in the trash bin', 'Clean and return chopstick']\n",
      "['put tray on table', 'put tomato on tray', 'place tray into oven']\n",
      "0.4172897504392148\n",
      "['Drop tray on table', 'Put on oven', 'Put tomato on tray', 'Place tray into oven', 'Get water into pot', 'Put pot on stovetop', 'Put salt in pot', 'Dice potato', 'Break out root from celery', 'Mix water and liquid soap.', 'Return cooking utensils', 'Look at tomato in oven through glass', 'Dispose an item in the trash bin', 'Clean and return chopstick']\n",
      "['put baking tray on table', 'put tomato on baking tray', 'place baking tray into oven']\n",
      "0.39786300269540187\n",
      "['Drop tray on table', 'Put on oven', 'Put tomato on tray', 'Place tray into oven', 'Get water into pot', 'Put pot on stovetop', 'Put salt in pot', 'Dice potato', 'Break out root from celery', 'Mix water and liquid soap.', 'Return cooking utensils', 'Look at tomato in oven through glass', 'Dispose an item in the trash bin', 'Clean and return chopstick']\n",
      "['put tray on table', 'put tomato on tray', 'place tray into oven']\n",
      "0.41730741790781134\n",
      "['Stir fry the sauce', 'Adjust heat', 'Stir fry sauce']\n",
      "['use chopstick to stir salsa', 'heat salsa', 'use chopstick to stir salsa']\n",
      "0.44313626172932385\n",
      "['Stir fry the sauce', 'Adjust heat', 'Stir fry sauce']\n",
      "['False']\n",
      "0.08826644988737253\n",
      "['Stir fry the sauce', 'Adjust heat', 'Stir fry sauce']\n",
      "['put pan on stove', 'add chicken to pan', 'add rice to pan', 'stir with whisk', 'turn on stove', 'heat the mixture', 'stir with whisk']\n",
      "0.4721302810024903\n",
      "['Stir fry the sauce', 'Adjust heat', 'Stir fry sauce']\n",
      "['put tong on stovetop', 'add soy meat to risotto', 'stir fry risotto with tong on stovetop']\n",
      "0.4017709848682144\n",
      "['Stir fry the sauce', 'Adjust heat', 'Stir fry sauce']\n",
      "['False']\n",
      "0.08826644988737253\n",
      "['Stir fry the sauce', 'Adjust heat', 'Stir fry sauce']\n",
      "['put meat on stovetop', 'use spatula to stir meat on stovetop', 'adjust heat on stovetop', 'use spatula to stir meat on stovetop']\n",
      "0.49145168375969805\n",
      "['Unpack potato', 'Slice potato into pieces', 'Clean hands with napkin', 'Add sliced potatoes into pan on stove', 'Wash hands', 'Read recipe', 'Check roast level of the sausages', 'Transfer potatoes into bigger pot', 'Add water from kettle into pot', 'Place pot of potato on stove']\n",
      "['False']\n",
      "0.07320018862391575\n",
      "['Unpack potato', 'Slice potato into pieces', 'Clean hands with napkin', 'Add sliced potatoes into pan on stove', 'Wash hands', 'Read recipe', 'Check roast level of the sausages', 'Transfer potatoes into bigger pot', 'Add water from kettle into pot', 'Place pot of potato on stove']\n",
      "['False']\n",
      "0.07320018862391575\n",
      "['Unpack potato', 'Slice potato into pieces', 'Clean hands with napkin', 'Add sliced potatoes into pan on stove', 'Wash hands', 'Read recipe', 'Check roast level of the sausages', 'Transfer potatoes into bigger pot', 'Add water from kettle into pot', 'Place pot of potato on stove']\n",
      "['impossible']\n",
      "0.07828982816331709\n",
      "['Unpack potato', 'Slice potato into pieces', 'Clean hands with napkin', 'Add sliced potatoes into pan on stove', 'Wash hands', 'Read recipe', 'Check roast level of the sausages', 'Transfer potatoes into bigger pot', 'Add water from kettle into pot', 'Place pot of potato on stove']\n",
      "['Clean hands with napkin', 'Slice yam into pieces on cutting board', 'Add sliced yam into pan', 'Place pan on cooker']\n",
      "0.42054235450937416\n",
      "['Unpack potato', 'Slice potato into pieces', 'Clean hands with napkin', 'Add sliced potatoes into pan on stove', 'Wash hands', 'Read recipe', 'Check roast level of the sausages', 'Transfer potatoes into bigger pot', 'Add water from kettle into pot', 'Place pot of potato on stove']\n",
      "['impossible']\n",
      "0.0783437647774139\n",
      "['Unpack potato', 'Slice potato into pieces', 'Clean hands with napkin', 'Add sliced potatoes into pan on stove', 'Wash hands', 'Read recipe', 'Check roast level of the sausages', 'Transfer potatoes into bigger pot', 'Add water from kettle into pot', 'Place pot of potato on stove']\n",
      "['unpack potato', 'slice potato into pieces', 'clean hands with napkin', 'add sliced potatoes into pot', 'wash hands', 'place pot of potato on stove']\n",
      "0.6968311676237107\n",
      "['put the dough in the tortilla press', 'put nylon on the dough', 'flatten the dough with a tortilla press', 'flip the dough', 'flatten the dough with a tortilla press', 'place the flattened dough on the mat \\\\n', 'put nylon on the tortilla press', 'lubricate the nylon with oil', 'knead the dough', 'put the dough in the tortilla press', 'spread a nylon the dough', '\\\\nflatten the dough with a tortilla press', 'flip the dough', 'flatten the dough with a tortilla press', 'place the flattened dough on the mat', 'put nylon on the tortilla press', 'put the dough in the tortilla press', 'put nylon on the dough \\\\n', 'flatten the dough with a tortilla press \\\\n', 'flip the dough', 'place the flattened dough on the mat \\\\n', 'adjust the nylon on the tortilla press', 'knead the dough', 'put the dough in the tortilla press', 'put nylon on the dough', 'flatten the dough with a tortilla press', 'flip the dough\\\\n', 'flatten the dough with a tortilla press', 'place the flattened dough on the mat \\\\n', 'put nylon on the tortilla press \\\\n', 'knead the dough', 'put the dough in the tortilla press', 'put nylon on the dough', 'flatten the dough with a tortilla press \\\\n', 'flatten the dough with a tortilla press \\\\n']\n",
      "['put tray on table', 'put dough on tray', 'knead the dough with hand']\n",
      "0.5341878599958996\n",
      "['put the dough in the tortilla press', 'put nylon on the dough', 'flatten the dough with a tortilla press', 'flip the dough', 'flatten the dough with a tortilla press', 'place the flattened dough on the mat \\\\n', 'put nylon on the tortilla press', 'lubricate the nylon with oil', 'knead the dough', 'put the dough in the tortilla press', 'spread a nylon the dough', '\\\\nflatten the dough with a tortilla press', 'flip the dough', 'flatten the dough with a tortilla press', 'place the flattened dough on the mat', 'put nylon on the tortilla press', 'put the dough in the tortilla press', 'put nylon on the dough \\\\n', 'flatten the dough with a tortilla press \\\\n', 'flip the dough', 'place the flattened dough on the mat \\\\n', 'adjust the nylon on the tortilla press', 'knead the dough', 'put the dough in the tortilla press', 'put nylon on the dough', 'flatten the dough with a tortilla press', 'flip the dough\\\\n', 'flatten the dough with a tortilla press', 'place the flattened dough on the mat \\\\n', 'put nylon on the tortilla press \\\\n', 'knead the dough', 'put the dough in the tortilla press', 'put nylon on the dough', 'flatten the dough with a tortilla press \\\\n', 'flatten the dough with a tortilla press \\\\n']\n",
      "['knead the player']\n",
      "0.38176704578317966\n",
      "['put the dough in the tortilla press', 'put nylon on the dough', 'flatten the dough with a tortilla press', 'flip the dough', 'flatten the dough with a tortilla press', 'place the flattened dough on the mat \\\\n', 'put nylon on the tortilla press', 'lubricate the nylon with oil', 'knead the dough', 'put the dough in the tortilla press', 'spread a nylon the dough', '\\\\nflatten the dough with a tortilla press', 'flip the dough', 'flatten the dough with a tortilla press', 'place the flattened dough on the mat', 'put nylon on the tortilla press', 'put the dough in the tortilla press', 'put nylon on the dough \\\\n', 'flatten the dough with a tortilla press \\\\n', 'flip the dough', 'place the flattened dough on the mat \\\\n', 'adjust the nylon on the tortilla press', 'knead the dough', 'put the dough in the tortilla press', 'put nylon on the dough', 'flatten the dough with a tortilla press', 'flip the dough\\\\n', 'flatten the dough with a tortilla press', 'place the flattened dough on the mat \\\\n', 'put nylon on the tortilla press \\\\n', 'knead the dough', 'put the dough in the tortilla press', 'put nylon on the dough', 'flatten the dough with a tortilla press \\\\n', 'flatten the dough with a tortilla press \\\\n']\n",
      "['put batter on plate', 'knead batter with hand']\n",
      "0.44714322774760185\n",
      "['put the dough in the tortilla press', 'put nylon on the dough', 'flatten the dough with a tortilla press', 'flip the dough', 'flatten the dough with a tortilla press', 'place the flattened dough on the mat \\\\n', 'put nylon on the tortilla press', 'lubricate the nylon with oil', 'knead the dough', 'put the dough in the tortilla press', 'spread a nylon the dough', '\\\\nflatten the dough with a tortilla press', 'flip the dough', 'flatten the dough with a tortilla press', 'place the flattened dough on the mat', 'put nylon on the tortilla press', 'put the dough in the tortilla press', 'put nylon on the dough \\\\n', 'flatten the dough with a tortilla press \\\\n', 'flip the dough', 'place the flattened dough on the mat \\\\n', 'adjust the nylon on the tortilla press', 'knead the dough', 'put the dough in the tortilla press', 'put nylon on the dough', 'flatten the dough with a tortilla press', 'flip the dough\\\\n', 'flatten the dough with a tortilla press', 'place the flattened dough on the mat \\\\n', 'put nylon on the tortilla press \\\\n', 'knead the dough', 'put the dough in the tortilla press', 'put nylon on the dough', 'flatten the dough with a tortilla press \\\\n', 'flatten the dough with a tortilla press \\\\n']\n",
      "['False']\n",
      "0.08500610072815618\n",
      "['put the dough in the tortilla press', 'put nylon on the dough', 'flatten the dough with a tortilla press', 'flip the dough', 'flatten the dough with a tortilla press', 'place the flattened dough on the mat \\\\n', 'put nylon on the tortilla press', 'lubricate the nylon with oil', 'knead the dough', 'put the dough in the tortilla press', 'spread a nylon the dough', '\\\\nflatten the dough with a tortilla press', 'flip the dough', 'flatten the dough with a tortilla press', 'place the flattened dough on the mat', 'put nylon on the tortilla press', 'put the dough in the tortilla press', 'put nylon on the dough \\\\n', 'flatten the dough with a tortilla press \\\\n', 'flip the dough', 'place the flattened dough on the mat \\\\n', 'adjust the nylon on the tortilla press', 'knead the dough', 'put the dough in the tortilla press', 'put nylon on the dough', 'flatten the dough with a tortilla press', 'flip the dough\\\\n', 'flatten the dough with a tortilla press', 'place the flattened dough on the mat \\\\n', 'put nylon on the tortilla press \\\\n', 'knead the dough', 'put the dough in the tortilla press', 'put nylon on the dough', 'flatten the dough with a tortilla press \\\\n', 'flatten the dough with a tortilla press \\\\n']\n",
      "['knead the player']\n",
      "0.38171890271663356\n",
      "['put the dough in the tortilla press', 'put nylon on the dough', 'flatten the dough with a tortilla press', 'flip the dough', 'flatten the dough with a tortilla press', 'place the flattened dough on the mat \\\\n', 'put nylon on the tortilla press', 'lubricate the nylon with oil', 'knead the dough', 'put the dough in the tortilla press', 'spread a nylon the dough', '\\\\nflatten the dough with a tortilla press', 'flip the dough', 'flatten the dough with a tortilla press', 'place the flattened dough on the mat', 'put nylon on the tortilla press', 'put the dough in the tortilla press', 'put nylon on the dough \\\\n', 'flatten the dough with a tortilla press \\\\n', 'flip the dough', 'place the flattened dough on the mat \\\\n', 'adjust the nylon on the tortilla press', 'knead the dough', 'put the dough in the tortilla press', 'put nylon on the dough', 'flatten the dough with a tortilla press', 'flip the dough\\\\n', 'flatten the dough with a tortilla press', 'place the flattened dough on the mat \\\\n', 'put nylon on the tortilla press \\\\n', 'knead the dough', 'put the dough in the tortilla press', 'put nylon on the dough', 'flatten the dough with a tortilla press \\\\n', 'flatten the dough with a tortilla press \\\\n']\n",
      "['put plate on table', 'put wheat on plate', 'knead wheat with hand']\n",
      "0.43807372391170163\n",
      "['add sliced beef in macaroni', 'add sliced liver to macaroni', 'regulate cooking gas heat', 'break raw egg in macaroni\\\\n', 'rinse hand under tap', 'add milk in macaroni', 'stirs macaroni in pot', 'add milk in macaroni', 'add pepper in macaroni', 'grates cheese into macaroni', 'stir macaroni in pot', 'grate cheese into macaroni', 'stir macaroni in pot', 'add  seasoning powder in macaroni', 'stir macaroni in pot', 'cover macaroni pot with lid', 'regulate cooking gas heat', 'dispose egg shell in trash bin', 'store cheese in fridge']\n",
      "['add flour in pan', 'add beef stock in pan', 'add water in pan', 'boil pan on stove (implied)', 'stir mixture in pan']\n",
      "0.3908996880601251\n",
      "['add sliced beef in macaroni', 'add sliced liver to macaroni', 'regulate cooking gas heat', 'break raw egg in macaroni\\\\n', 'rinse hand under tap', 'add milk in macaroni', 'stirs macaroni in pot', 'add milk in macaroni', 'add pepper in macaroni', 'grates cheese into macaroni', 'stir macaroni in pot', 'grate cheese into macaroni', 'stir macaroni in pot', 'add  seasoning powder in macaroni', 'stir macaroni in pot', 'cover macaroni pot with lid', 'regulate cooking gas heat', 'dispose egg shell in trash bin', 'store cheese in fridge']\n",
      "['add noodles to wok', 'add water to wok', 'turn on cooking gas stove', 'boil noodles in wok', 'drain noodles from wok']\n",
      "0.40048668098196727\n",
      "['add sliced beef in macaroni', 'add sliced liver to macaroni', 'regulate cooking gas heat', 'break raw egg in macaroni\\\\n', 'rinse hand under tap', 'add milk in macaroni', 'stirs macaroni in pot', 'add milk in macaroni', 'add pepper in macaroni', 'grates cheese into macaroni', 'stir macaroni in pot', 'grate cheese into macaroni', 'stir macaroni in pot', 'add  seasoning powder in macaroni', 'stir macaroni in pot', 'cover macaroni pot with lid', 'regulate cooking gas heat', 'dispose egg shell in trash bin', 'store cheese in fridge']\n",
      "['put skillet on cooking gas stove', 'add macaroni to skillet', 'add shrimp to skillet', 'turn on the cooking gas stove', 'stir macaroni in skillet']\n",
      "0.5328038775781556\n",
      "['add sliced beef in macaroni', 'add sliced liver to macaroni', 'regulate cooking gas heat', 'break raw egg in macaroni\\\\n', 'rinse hand under tap', 'add milk in macaroni', 'stirs macaroni in pot', 'add milk in macaroni', 'add pepper in macaroni', 'grates cheese into macaroni', 'stir macaroni in pot', 'grate cheese into macaroni', 'stir macaroni in pot', 'add  seasoning powder in macaroni', 'stir macaroni in pot', 'cover macaroni pot with lid', 'regulate cooking gas heat', 'dispose egg shell in trash bin', 'store cheese in fridge']\n",
      "['add beef in macaroni pot', 'add liver to macaroni pot', 'regulate cooking gas stove heat', 'add milk in macaroni pot', 'stir macaroni in macaroni pot', 'add pepper in macaroni pot', 'add seasoning powder in macaroni pot', 'stir macaroni in macaroni pot', 'cover macaroni pot with lid', 'regulate cooking gas stove heat']\n",
      "0.7165843421967205\n",
      "['add sliced beef in macaroni', 'add sliced liver to macaroni', 'regulate cooking gas heat', 'break raw egg in macaroni\\\\n', 'rinse hand under tap', 'add milk in macaroni', 'stirs macaroni in pot', 'add milk in macaroni', 'add pepper in macaroni', 'grates cheese into macaroni', 'stir macaroni in pot', 'grate cheese into macaroni', 'stir macaroni in pot', 'add  seasoning powder in macaroni', 'stir macaroni in pot', 'cover macaroni pot with lid', 'regulate cooking gas heat', 'dispose egg shell in trash bin', 'store cheese in fridge']\n",
      "['add macaroni in pot', 'add beef in pot', 'add water in pot', 'place pot on cooking gas stove', 'turn on cooking gas stove', 'regulate heat with knob', 'add milk in pot', 'stir macaroni in pot with stirring spoon', 'add seasoning powder in pot', 'cover pot with lid', 'regulate heat with knob']\n",
      "0.5635891426303282\n",
      "['add sliced beef in macaroni', 'add sliced liver to macaroni', 'regulate cooking gas heat', 'break raw egg in macaroni\\\\n', 'rinse hand under tap', 'add milk in macaroni', 'stirs macaroni in pot', 'add milk in macaroni', 'add pepper in macaroni', 'grates cheese into macaroni', 'stir macaroni in pot', 'grate cheese into macaroni', 'stir macaroni in pot', 'add  seasoning powder in macaroni', 'stir macaroni in pot', 'cover macaroni pot with lid', 'regulate cooking gas heat', 'dispose egg shell in trash bin', 'store cheese in fridge']\n",
      "['add macaroni in macaroni pot', 'add water in macaroni pot', 'put macaroni pot on cooking gas stove', 'turn on the cooking gas stove', 'boil macaroni in macaroni pot', 'add milk in macaroni pot', 'add beef in macaroni pot', 'add liver in macaroni pot', 'add pepper in macaroni pot', 'grate cheese into macaroni pot', 'add seasoning powder in macaroni pot', 'stir macaroni in macaroni pot with stirring spoon', 'cover macaroni pot with lid', 'regulate cooking gas heat with knob']\n",
      "0.6518069668354924\n",
      "['add vegetable salad to bowl', 'add sweet onion vinaigrette to vegetable salad', 'mix vegetable with sweet onion vinaigrette', 'add ingredient to vegetable salad', 'add cheddar cheese to vegetable salad', 'rinse bell pepper', 'dry bell pepper with paper towel', 'cut bell pepper', 'get bell pepper from fridge', 'rinse bell pepper', 'dry bell pepper with paper towel', 'cut bell pepper', 'slice bell pepper', 'add bell pepper to container', 'add bell pepper to container ']\n",
      "['False']\n",
      "0.051813978629765445\n",
      "['add vegetable salad to bowl', 'add sweet onion vinaigrette to vegetable salad', 'mix vegetable with sweet onion vinaigrette', 'add ingredient to vegetable salad', 'add cheddar cheese to vegetable salad', 'rinse bell pepper', 'dry bell pepper with paper towel', 'cut bell pepper', 'get bell pepper from fridge', 'rinse bell pepper', 'dry bell pepper with paper towel', 'cut bell pepper', 'slice bell pepper', 'add bell pepper to container', 'add bell pepper to container ']\n",
      "['slice chilli pepper', 'add chilli pepper to container']\n",
      "0.5311553870741417\n",
      "['add vegetable salad to bowl', 'add sweet onion vinaigrette to vegetable salad', 'mix vegetable with sweet onion vinaigrette', 'add ingredient to vegetable salad', 'add cheddar cheese to vegetable salad', 'rinse bell pepper', 'dry bell pepper with paper towel', 'cut bell pepper', 'get bell pepper from fridge', 'rinse bell pepper', 'dry bell pepper with paper towel', 'cut bell pepper', 'slice bell pepper', 'add bell pepper to container', 'add bell pepper to container ']\n",
      "['slice jalapeno', 'add jalapeno to container']\n",
      "0.47676311047119024\n",
      "['add vegetable salad to bowl', 'add sweet onion vinaigrette to vegetable salad', 'mix vegetable with sweet onion vinaigrette', 'add ingredient to vegetable salad', 'add cheddar cheese to vegetable salad', 'rinse bell pepper', 'dry bell pepper with paper towel', 'cut bell pepper', 'get bell pepper from fridge', 'rinse bell pepper', 'dry bell pepper with paper towel', 'cut bell pepper', 'slice bell pepper', 'add bell pepper to container', 'add bell pepper to container ']\n",
      "['False']\n",
      "0.051813978629765445\n",
      "['add vegetable salad to bowl', 'add sweet onion vinaigrette to vegetable salad', 'mix vegetable with sweet onion vinaigrette', 'add ingredient to vegetable salad', 'add cheddar cheese to vegetable salad', 'rinse bell pepper', 'dry bell pepper with paper towel', 'cut bell pepper', 'get bell pepper from fridge', 'rinse bell pepper', 'dry bell pepper with paper towel', 'cut bell pepper', 'slice bell pepper', 'add bell pepper to container', 'add bell pepper to container ']\n",
      "['open the refrigerator', 'get bell pepper from refrigerator', 'place bell pepper on table', 'get knife', 'slice bell pepper with knife', 'get container', 'add sliced bell pepper to container']\n",
      "0.5663117201487426\n",
      "['add vegetable salad to bowl', 'add sweet onion vinaigrette to vegetable salad', 'mix vegetable with sweet onion vinaigrette', 'add ingredient to vegetable salad', 'add cheddar cheese to vegetable salad', 'rinse bell pepper', 'dry bell pepper with paper towel', 'cut bell pepper', 'get bell pepper from fridge', 'rinse bell pepper', 'dry bell pepper with paper towel', 'cut bell pepper', 'slice bell pepper', 'add bell pepper to container', 'add bell pepper to container ']\n",
      "['open the fridge', 'get bell pepper from fridge', 'rinse bell pepper', 'dry bell pepper with paper towel', 'cut bell pepper', 'slice bell pepper', 'add bell pepper to container']\n",
      "0.709906593660501\n",
      "['Add coffee to coffee maker', 'Rinse coffee jar', 'Add water to coffee', 'Dispose water in sink', 'Wash pan', 'Wash hand', 'Wash pan ']\n",
      "['False']\n",
      "0.08420533320460677\n",
      "['Add coffee to coffee maker', 'Rinse coffee jar', 'Add water to coffee', 'Dispose water in sink', 'Wash pan', 'Wash hand', 'Wash pan ']\n",
      "['False']\n",
      "0.08420533320460677\n",
      "['Add coffee to coffee maker', 'Rinse coffee jar', 'Add water to coffee', 'Dispose water in sink', 'Wash pan', 'Wash hand', 'Wash pan ']\n",
      "['wet rag', 'wipe pot with rag']\n",
      "0.3010652787621749\n",
      "['Add coffee to coffee maker', 'Rinse coffee jar', 'Add water to coffee', 'Dispose water in sink', 'Wash pan', 'Wash hand', 'Wash pan ']\n",
      "['take tissue', 'bring pan to sink', 'wet tissue with water from sink', 'wipe pan with tissue']\n",
      "0.385429366692548\n",
      "['Add coffee to coffee maker', 'Rinse coffee jar', 'Add water to coffee', 'Dispose water in sink', 'Wash pan', 'Wash hand', 'Wash pan ']\n",
      "['take tissue', 'wet tissue at sink', 'wipe pan with tissue', 'rinse pan at sink']\n",
      "0.39245612714861244\n",
      "['Add coffee to coffee maker', 'Rinse coffee jar', 'Add water to coffee', 'Dispose water in sink', 'Wash pan', 'Wash hand', 'Wash pan ']\n",
      "['take tissue', 'wet tissue with water from a bottle of water', 'wipe pan with wet tissue at sink', 'rinse pan at sink']\n",
      "0.41207346208325446\n",
      "['Serve hotdog', 'Gather ingredient', 'Microwave the hotdog', 'Dice onion into smaller sizes', 'Remove hotdog from the microwave', 'Add sliced bread to the plate', 'Add spices to the food', 'Add diced ingredients to the bread in the plate', 'Serve the food']\n",
      "['put minced beef on table', 'serve minced beef']\n",
      "0.37877218543857016\n",
      "['Serve hotdog', 'Gather ingredient', 'Microwave the hotdog', 'Dice onion into smaller sizes', 'Remove hotdog from the microwave', 'Add sliced bread to the plate', 'Add spices to the food', 'Add diced ingredients to the bread in the plate', 'Serve the food']\n",
      "['False']\n",
      "0.07252169998805968\n",
      "['Serve hotdog', 'Gather ingredient', 'Microwave the hotdog', 'Dice onion into smaller sizes', 'Remove hotdog from the microwave', 'Add sliced bread to the plate', 'Add spices to the food', 'Add diced ingredients to the bread in the plate', 'Serve the food']\n",
      "['gather corn dogs', 'place corn dogs on plate', 'serve corn dogs on plate']\n",
      "0.43252628982525065\n",
      "['Serve hotdog', 'Gather ingredient', 'Microwave the hotdog', 'Dice onion into smaller sizes', 'Remove hotdog from the microwave', 'Add sliced bread to the plate', 'Add spices to the food', 'Add diced ingredients to the bread in the plate', 'Serve the food']\n",
      "['gather onion', 'dice onion with knife', 'place plate on table', 'add onion to plate', 'serve plate']\n",
      "0.4866749554911649\n",
      "['Serve hotdog', 'Gather ingredient', 'Microwave the hotdog', 'Dice onion into smaller sizes', 'Remove hotdog from the microwave', 'Add sliced bread to the plate', 'Add spices to the food', 'Add diced ingredients to the bread in the plate', 'Serve the food']\n",
      "['gather pasta and garlic', 'put plate on table', 'put pasta on plate', 'dice garlic', 'add diced garlic to pasta on plate', 'add spice bottle to pasta on plate', 'serve pasta on plate']\n",
      "0.4086967935546758\n",
      "['Serve hotdog', 'Gather ingredient', 'Microwave the hotdog', 'Dice onion into smaller sizes', 'Remove hotdog from the microwave', 'Add sliced bread to the plate', 'Add spices to the food', 'Add diced ingredients to the bread in the plate', 'Serve the food']\n",
      "['gather hotdog, bread, onion, spice bottle, plate', 'slice bread', 'dice onion', 'put hotdog on plate', 'add sliced bread to plate', 'add diced onion to bread on plate', 'add spices to food', 'serve hotdog on plate']\n",
      "0.6304861721193591\n",
      "['Peel the banana blossom', 'Lubricate both hands', 'Wear a protective rubber on the finger', 'Slice the florets', 'Remove the head of the banana blossom', 'Chop the banana blossom', 'Remove the banana blossom bract', 'Chop the banana blossom', 'Chop the banana blossom', 'Mix the chop banana blossom together', 'Add oil to the banana blossom', 'Add curry to the banana blossom', 'Mix the banana blossom ingredients together', 'Slice banana blossom', 'Mix the banana blossom ingredients together']\n",
      "['peel the potato']\n",
      "0.33418743734790324\n",
      "['Peel the banana blossom', 'Lubricate both hands', 'Wear a protective rubber on the finger', 'Slice the florets', 'Remove the head of the banana blossom', 'Chop the banana blossom', 'Remove the banana blossom bract', 'Chop the banana blossom', 'Chop the banana blossom', 'Mix the chop banana blossom together', 'Add oil to the banana blossom', 'Add curry to the banana blossom', 'Mix the banana blossom ingredients together', 'Slice banana blossom', 'Mix the banana blossom ingredients together']\n",
      "['place potato on cutting board', 'hold potato steady', 'slice potato with knife', 'chop potato with knife']\n",
      "0.31731179779797825\n",
      "['Peel the banana blossom', 'Lubricate both hands', 'Wear a protective rubber on the finger', 'Slice the florets', 'Remove the head of the banana blossom', 'Chop the banana blossom', 'Remove the banana blossom bract', 'Chop the banana blossom', 'Chop the banana blossom', 'Mix the chop banana blossom together', 'Add oil to the banana blossom', 'Add curry to the banana blossom', 'Mix the banana blossom ingredients together', 'Slice banana blossom', 'Mix the banana blossom ingredients together']\n",
      "['place potato on cutting board', 'slice potato with knife', 'chop potato with knife']\n",
      "0.310791179956724\n",
      "['Peel the banana blossom', 'Lubricate both hands', 'Wear a protective rubber on the finger', 'Slice the florets', 'Remove the head of the banana blossom', 'Chop the banana blossom', 'Remove the banana blossom bract', 'Chop the banana blossom', 'Chop the banana blossom', 'Mix the chop banana blossom together', 'Add oil to the banana blossom', 'Add curry to the banana blossom', 'Mix the banana blossom ingredients together', 'Slice banana blossom', 'Mix the banana blossom ingredients together']\n",
      "['place cabbage on cutting board', 'slice cabbage with knife', 'chop cabbage with knife']\n",
      "0.3664452781184855\n",
      "['Peel the banana blossom', 'Lubricate both hands', 'Wear a protective rubber on the finger', 'Slice the florets', 'Remove the head of the banana blossom', 'Chop the banana blossom', 'Remove the banana blossom bract', 'Chop the banana blossom', 'Chop the banana blossom', 'Mix the chop banana blossom together', 'Add oil to the banana blossom', 'Add curry to the banana blossom', 'Mix the banana blossom ingredients together', 'Slice banana blossom', 'Mix the banana blossom ingredients together']\n",
      "['place floret on cutting board', 'use knife to chop the floret']\n",
      "0.3912196207172456\n",
      "['Peel the banana blossom', 'Lubricate both hands', 'Wear a protective rubber on the finger', 'Slice the florets', 'Remove the head of the banana blossom', 'Chop the banana blossom', 'Remove the banana blossom bract', 'Chop the banana blossom', 'Chop the banana blossom', 'Mix the chop banana blossom together', 'Add oil to the banana blossom', 'Add curry to the banana blossom', 'Mix the banana blossom ingredients together', 'Slice banana blossom', 'Mix the banana blossom ingredients together']\n",
      "['place banana blossom on cutting board', 'peel the banana blossom', 'remove the banana blossom bract', 'remove the head of the banana blossom', 'separate florets from banana blossom', 'slice the florets with knife', 'chop the florets with knife']\n",
      "0.6050096705010555\n",
      "['Chop mangoes', 'Clean chopping knife', 'Sort chopped mangoes', 'Move chopped mangoes into bowl']\n",
      "['place pawpaw on plate', 'cut pawpaw with dough shaper', 'sort cut pawpaw on plate']\n",
      "0.48040824134431137\n",
      "['Chop mangoes', 'Clean chopping knife', 'Sort chopped mangoes', 'Move chopped mangoes into bowl']\n",
      "['False']\n",
      "0.07662141992559146\n",
      "['Chop mangoes', 'Clean chopping knife', 'Sort chopped mangoes', 'Move chopped mangoes into bowl']\n",
      "['chop zucchini with knife', 'move chopped zucchini onto plate', 'clean knife']\n",
      "0.4764647108339993\n",
      "['Chop mangoes', 'Clean chopping knife', 'Sort chopped mangoes', 'Move chopped mangoes into bowl']\n",
      "['chop melon with dough cutter', 'move chopped melon into bowl']\n",
      "0.6227739427461652\n",
      "['Chop mangoes', 'Clean chopping knife', 'Sort chopped mangoes', 'Move chopped mangoes into bowl']\n",
      "['move mango into bowl']\n",
      "0.6028149099389072\n",
      "['Chop mangoes', 'Clean chopping knife', 'Sort chopped mangoes', 'Move chopped mangoes into bowl']\n",
      "['place cutting board on table', 'place mango on cutting board', 'chop mango with knife', 'move chopped mango into bowl']\n",
      "0.5954583905749518\n",
      "['Pour lemon wine in the amaro', 'Mix the drink with a spoon', 'Fetch water in the ice cube tray', 'Fetch water in the ice cube tray', 'Store the water in the ice cube tray in a fridge', 'Store the water in the ice cube tray in a fridge']\n",
      "['False']\n",
      "0.05476213374764727\n",
      "['Pour lemon wine in the amaro', 'Mix the drink with a spoon', 'Fetch water in the ice cube tray', 'Fetch water in the ice cube tray', 'Store the water in the ice cube tray in a fridge', 'Store the water in the ice cube tray in a fridge']\n",
      "['False']\n",
      "0.0547948636903236\n",
      "['Pour lemon wine in the amaro', 'Mix the drink with a spoon', 'Fetch water in the ice cube tray', 'Fetch water in the ice cube tray', 'Store the water in the ice cube tray in a fridge', 'Store the water in the ice cube tray in a fridge']\n",
      "['False']\n",
      "0.05480982316428806\n",
      "['Pour lemon wine in the amaro', 'Mix the drink with a spoon', 'Fetch water in the ice cube tray', 'Fetch water in the ice cube tray', 'Store the water in the ice cube tray in a fridge', 'Store the water in the ice cube tray in a fridge']\n",
      "['mix the drinks with a spoon']\n",
      "0.41917047816341424\n",
      "['Pour lemon wine in the amaro', 'Mix the drink with a spoon', 'Fetch water in the ice cube tray', 'Fetch water in the ice cube tray', 'Store the water in the ice cube tray in a fridge', 'Store the water in the ice cube tray in a fridge']\n",
      "['False']\n",
      "0.0547948636903236\n",
      "['Pour lemon wine in the amaro', 'Mix the drink with a spoon', 'Fetch water in the ice cube tray', 'Fetch water in the ice cube tray', 'Store the water in the ice cube tray in a fridge', 'Store the water in the ice cube tray in a fridge']\n",
      "['mix the amaro with a spoon']\n",
      "0.38079463464537555\n",
      "['Place plates on counter top', 'Place cup on counter top', 'Remove trash bag from trash bucket', 'Place new trash bag in trash bucket', 'Place lid on counter top', 'Place cup on the counter top', 'Add tomato paste to pasta in pot', 'Stir pasta in pot', 'Add tomato paste to pasta in pot ']\n",
      "['put pan on dining table', 'add spaghetti to pan', 'add ketchup to pan', 'heat pan', 'stir spaghetti in pan']\n",
      "0.42393176095665774\n",
      "['Place plates on counter top', 'Place cup on counter top', 'Remove trash bag from trash bucket', 'Place new trash bag in trash bucket', 'Place lid on counter top', 'Place cup on the counter top', 'Add tomato paste to pasta in pot', 'Stir pasta in pot', 'Add tomato paste to pasta in pot ']\n",
      "['add chili to pan', 'stir chili in pan']\n",
      "0.3079592267958544\n",
      "['Place plates on counter top', 'Place cup on counter top', 'Remove trash bag from trash bucket', 'Place new trash bag in trash bucket', 'Place lid on counter top', 'Place cup on the counter top', 'Add tomato paste to pasta in pot', 'Stir pasta in pot', 'Add tomato paste to pasta in pot ']\n",
      "['put pan on stove', 'add stir fry to pan', 'heat stir fry in pan']\n",
      "0.36152382737971955\n",
      "['Place plates on counter top', 'Place cup on counter top', 'Remove trash bag from trash bucket', 'Place new trash bag in trash bucket', 'Place lid on counter top', 'Place cup on the counter top', 'Add tomato paste to pasta in pot', 'Stir pasta in pot', 'Add tomato paste to pasta in pot ']\n",
      "['pick up carton', 'open carton', 'pour sauce onto spaghetti', 'stir spaghetti with spatula']\n",
      "0.4159941824220529\n",
      "['Place plates on counter top', 'Place cup on counter top', 'Remove trash bag from trash bucket', 'Place new trash bag in trash bucket', 'Place lid on counter top', 'Place cup on the counter top', 'Add tomato paste to pasta in pot', 'Stir pasta in pot', 'Add tomato paste to pasta in pot ']\n",
      "['put pasta in pan', 'put pan on stove', 'turn on the stove', 'stir pasta in pan with whisk']\n",
      "0.41508921251337527\n",
      "['Place plates on counter top', 'Place cup on counter top', 'Remove trash bag from trash bucket', 'Place new trash bag in trash bucket', 'Place lid on counter top', 'Place cup on the counter top', 'Add tomato paste to pasta in pot', 'Stir pasta in pot', 'Add tomato paste to pasta in pot ']\n",
      "['place pan on stovetop', 'add pasta to pan', 'heat pan on stovetop', 'stir pasta in pan with whisk']\n",
      "0.4289002064702516\n",
      "['Peel outer skin of potato', 'Slice potato', 'Pour sliced potato into bowl', 'Peel outer skin of lotus roots', 'Slice lotus roots', 'Pour sliced lotus roots into bowl', 'Peel outer skin of lotus roots', 'Slice lotus roots', 'Pour sliced lotus roots into bowl', 'Slice mushroom', 'Pour sliced mushroom into bowl', 'Slice mushroom', 'Pour sliced mushroom into bowl', 'Slice mushroom', 'Pour sliced mushroom into bowl', 'Unpack sausage', 'Slice sausage', 'Slice tofu', 'Pour sliced tofu into bowl']\n",
      "['False']\n",
      "0.062175821031832945\n",
      "['Peel outer skin of potato', 'Slice potato', 'Pour sliced potato into bowl', 'Peel outer skin of lotus roots', 'Slice lotus roots', 'Pour sliced lotus roots into bowl', 'Peel outer skin of lotus roots', 'Slice lotus roots', 'Pour sliced lotus roots into bowl', 'Slice mushroom', 'Pour sliced mushroom into bowl', 'Slice mushroom', 'Pour sliced mushroom into bowl', 'Slice mushroom', 'Pour sliced mushroom into bowl', 'Unpack sausage', 'Slice sausage', 'Slice tofu', 'Pour sliced tofu into bowl']\n",
      "['False']\n",
      "0.06218013087965557\n",
      "['Peel outer skin of potato', 'Slice potato', 'Pour sliced potato into bowl', 'Peel outer skin of lotus roots', 'Slice lotus roots', 'Pour sliced lotus roots into bowl', 'Peel outer skin of lotus roots', 'Slice lotus roots', 'Pour sliced lotus roots into bowl', 'Slice mushroom', 'Pour sliced mushroom into bowl', 'Slice mushroom', 'Pour sliced mushroom into bowl', 'Slice mushroom', 'Pour sliced mushroom into bowl', 'Unpack sausage', 'Slice sausage', 'Slice tofu', 'Pour sliced tofu into bowl']\n",
      "['slice potato', 'pour sliced potato into bowl']\n",
      "0.5600390380005253\n",
      "['Peel outer skin of potato', 'Slice potato', 'Pour sliced potato into bowl', 'Peel outer skin of lotus roots', 'Slice lotus roots', 'Pour sliced lotus roots into bowl', 'Peel outer skin of lotus roots', 'Slice lotus roots', 'Pour sliced lotus roots into bowl', 'Slice mushroom', 'Pour sliced mushroom into bowl', 'Slice mushroom', 'Pour sliced mushroom into bowl', 'Slice mushroom', 'Pour sliced mushroom into bowl', 'Unpack sausage', 'Slice sausage', 'Slice tofu', 'Pour sliced tofu into bowl']\n",
      "['False']\n",
      "0.06218746489977589\n",
      "['Peel outer skin of potato', 'Slice potato', 'Pour sliced potato into bowl', 'Peel outer skin of lotus roots', 'Slice lotus roots', 'Pour sliced lotus roots into bowl', 'Peel outer skin of lotus roots', 'Slice lotus roots', 'Pour sliced lotus roots into bowl', 'Slice mushroom', 'Pour sliced mushroom into bowl', 'Slice mushroom', 'Pour sliced mushroom into bowl', 'Slice mushroom', 'Pour sliced mushroom into bowl', 'Unpack sausage', 'Slice sausage', 'Slice tofu', 'Pour sliced tofu into bowl']\n",
      "['peel potato', 'slice potato with knife', 'pour sliced potato into bowl']\n",
      "0.5648649112782762\n",
      "['Peel outer skin of potato', 'Slice potato', 'Pour sliced potato into bowl', 'Peel outer skin of lotus roots', 'Slice lotus roots', 'Pour sliced lotus roots into bowl', 'Peel outer skin of lotus roots', 'Slice lotus roots', 'Pour sliced lotus roots into bowl', 'Slice mushroom', 'Pour sliced mushroom into bowl', 'Slice mushroom', 'Pour sliced mushroom into bowl', 'Slice mushroom', 'Pour sliced mushroom into bowl', 'Unpack sausage', 'Slice sausage', 'Slice tofu', 'Pour sliced tofu into bowl']\n",
      "['peel potato with peeler', 'slice potato with knife', 'put sliced potato into bowl']\n",
      "0.5461178824323367\n",
      "['prepare lettuce', 'wash lettuce', 'shred lettuce with hands', 'wash hand', 'drain lettuce', 'unwrap fish', 'cook fish in pan', 'add lettuce to a bowl', 'add mixed salad to bowl', 'add spices to bowl', 'mix ingredients together with chopsticks', 'add smoked salmon', 'mix ingredients together with chopsticks', 'dispose salmon wrap', 'add tomatoes to bowl', 'remove seed from avocado', 'dispose avocado seed', 'add avocado to bowl', 'add sesame sauce to bowl', 'mix ingredients together with chopsticks', 'mash fish in pan with chopsticks', 'turn off stovetop', 'add mashed fish to bowl', 'mix ingredients together with chopsticks', 'add mashed fish to bowl']\n",
      "['prepare vegetables', 'wash vegetables', 'shred vegetables with utensils', 'add vegetables to utensils', 'add coriander seeds to utensils', 'mix ingredients together with utensils']\n",
      "0.4673895816682919\n",
      "['prepare lettuce', 'wash lettuce', 'shred lettuce with hands', 'wash hand', 'drain lettuce', 'unwrap fish', 'cook fish in pan', 'add lettuce to a bowl', 'add mixed salad to bowl', 'add spices to bowl', 'mix ingredients together with chopsticks', 'add smoked salmon', 'mix ingredients together with chopsticks', 'dispose salmon wrap', 'add tomatoes to bowl', 'remove seed from avocado', 'dispose avocado seed', 'add avocado to bowl', 'add sesame sauce to bowl', 'mix ingredients together with chopsticks', 'mash fish in pan with chopsticks', 'turn off stovetop', 'add mashed fish to bowl', 'mix ingredients together with chopsticks', 'add mashed fish to bowl']\n",
      "['prepare vegetable', 'cut vegetable with knife', 'add vegetable to bowl', 'add toppings to bowl', 'mix ingredients together with stick']\n",
      "0.519796902654508\n",
      "['prepare lettuce', 'wash lettuce', 'shred lettuce with hands', 'wash hand', 'drain lettuce', 'unwrap fish', 'cook fish in pan', 'add lettuce to a bowl', 'add mixed salad to bowl', 'add spices to bowl', 'mix ingredients together with chopsticks', 'add smoked salmon', 'mix ingredients together with chopsticks', 'dispose salmon wrap', 'add tomatoes to bowl', 'remove seed from avocado', 'dispose avocado seed', 'add avocado to bowl', 'add sesame sauce to bowl', 'mix ingredients together with chopsticks', 'mash fish in pan with chopsticks', 'turn off stovetop', 'add mashed fish to bowl', 'mix ingredients together with chopsticks', 'add mashed fish to bowl']\n",
      "['wash lettuce', 'shred lettuce with knife', 'add lettuce to bowl', 'add tomato to bowl', 'add salsa to bowl', 'mix ingredients together in bowl']\n",
      "0.5909972111449324\n",
      "['prepare lettuce', 'wash lettuce', 'shred lettuce with hands', 'wash hand', 'drain lettuce', 'unwrap fish', 'cook fish in pan', 'add lettuce to a bowl', 'add mixed salad to bowl', 'add spices to bowl', 'mix ingredients together with chopsticks', 'add smoked salmon', 'mix ingredients together with chopsticks', 'dispose salmon wrap', 'add tomatoes to bowl', 'remove seed from avocado', 'dispose avocado seed', 'add avocado to bowl', 'add sesame sauce to bowl', 'mix ingredients together with chopsticks', 'mash fish in pan with chopsticks', 'turn off stovetop', 'add mashed fish to bowl', 'mix ingredients together with chopsticks', 'add mashed fish to bowl']\n",
      "['wash vegetable', 'shred vegetable with knife', 'add vegetable to bowl', 'add soy sauce to bowl', 'mix ingredients together with chopsticks']\n",
      "0.5623467838792477\n",
      "['prepare lettuce', 'wash lettuce', 'shred lettuce with hands', 'wash hand', 'drain lettuce', 'unwrap fish', 'cook fish in pan', 'add lettuce to a bowl', 'add mixed salad to bowl', 'add spices to bowl', 'mix ingredients together with chopsticks', 'add smoked salmon', 'mix ingredients together with chopsticks', 'dispose salmon wrap', 'add tomatoes to bowl', 'remove seed from avocado', 'dispose avocado seed', 'add avocado to bowl', 'add sesame sauce to bowl', 'mix ingredients together with chopsticks', 'mash fish in pan with chopsticks', 'turn off stovetop', 'add mashed fish to bowl', 'mix ingredients together with chopsticks', 'add mashed fish to bowl']\n",
      "['prepare lettuce', 'wash lettuce', 'shred lettuce with knife', 'drain lettuce with colander', 'unwrap fish with knife', 'cook fish in pan', 'add lettuce to bowl', 'add salad to bowl', 'add spices to bowl', 'mix ingredients together with chopsticks', 'add salmon to bowl', 'mix ingredients together with chopsticks', 'add tomato to bowl', 'remove seed from avocado with knife', 'add avocado to bowl', 'add sauce to bowl', 'mix ingredients together with chopsticks', 'mash fish in pan with masher', 'add mashed fish to bowl', 'mix ingredients together with chopsticks']\n",
      "0.8331784198198315\n",
      "['prepare lettuce', 'wash lettuce', 'shred lettuce with hands', 'wash hand', 'drain lettuce', 'unwrap fish', 'cook fish in pan', 'add lettuce to a bowl', 'add mixed salad to bowl', 'add spices to bowl', 'mix ingredients together with chopsticks', 'add smoked salmon', 'mix ingredients together with chopsticks', 'dispose salmon wrap', 'add tomatoes to bowl', 'remove seed from avocado', 'dispose avocado seed', 'add avocado to bowl', 'add sesame sauce to bowl', 'mix ingredients together with chopsticks', 'mash fish in pan with chopsticks', 'turn off stovetop', 'add mashed fish to bowl', 'mix ingredients together with chopsticks', 'add mashed fish to bowl']\n",
      "['wash lettuce', 'shred lettuce with knife', 'add lettuce to bowl', 'add tomato to bowl', 'add avocado to bowl', 'add fish to bowl', 'add salmon to bowl', 'add sauce to bowl', 'add spices to bowl', 'mix ingredients together with chopsticks']\n",
      "0.6246303348857308\n",
      "['peel eggplant', 'slice eggplant', 'add oil to eggplant on oven tray', 'peel eggplant', 'slice eggplant', 'add oil to eggplant on oven tray', 'put eggplant in oven', 'slice eggplant', 'peel eggplant ']\n",
      "['False']\n",
      "0.022814417594726688\n",
      "['peel eggplant', 'slice eggplant', 'add oil to eggplant on oven tray', 'peel eggplant', 'slice eggplant', 'add oil to eggplant on oven tray', 'put eggplant in oven', 'slice eggplant', 'peel eggplant ']\n",
      "['False']\n",
      "0.022814417594726688\n",
      "['peel eggplant', 'slice eggplant', 'add oil to eggplant on oven tray', 'peel eggplant', 'slice eggplant', 'add oil to eggplant on oven tray', 'put eggplant in oven', 'slice eggplant', 'peel eggplant ']\n",
      "['slice eggplant', 'put eggplant on baking sheet']\n",
      "0.796300021923921\n",
      "['peel eggplant', 'slice eggplant', 'add oil to eggplant on oven tray', 'peel eggplant', 'slice eggplant', 'add oil to eggplant on oven tray', 'put eggplant in oven', 'slice eggplant', 'peel eggplant ']\n",
      "['False']\n",
      "0.022814153380173674\n",
      "['peel eggplant', 'slice eggplant', 'add oil to eggplant on oven tray', 'peel eggplant', 'slice eggplant', 'add oil to eggplant on oven tray', 'put eggplant in oven', 'slice eggplant', 'peel eggplant ']\n",
      "['peel eggplant', 'slice eggplant', 'put eggplant on oven tray', 'put oven tray in oven']\n",
      "0.7865581549218622\n",
      "['peel eggplant', 'slice eggplant', 'add oil to eggplant on oven tray', 'peel eggplant', 'slice eggplant', 'add oil to eggplant on oven tray', 'put eggplant in oven', 'slice eggplant', 'peel eggplant ']\n",
      "['peel eggplant', 'slice eggplant', 'add oil to eggplant on oven tray', 'put eggplant in oven']\n",
      "0.865996614777344\n",
      "['pipe batter on mat', 'add batter to piping bag', 'pipe batter on mat', 'add batter to piping bag', 'pipe batter on mat', 'add batter to piping bag', 'pipe batter on mat', 'add batter to piping bag', 'pipe batter on mat', 'add batter to piping bag', 'pipe batter on mat', 'add batter to piping bag', 'pipe batter on mat', 'add batter to piping bag', 'pipe batter on mat', 'add batter to piping bag', 'pipe batter on mat', 'add batter to piping bag', 'pipe batter on mat', 'add batter to piping bag', 'pipe batter on mat']\n",
      "['False']\n",
      "0.08291716940558003\n",
      "['pipe batter on mat', 'add batter to piping bag', 'pipe batter on mat', 'add batter to piping bag', 'pipe batter on mat', 'add batter to piping bag', 'pipe batter on mat', 'add batter to piping bag', 'pipe batter on mat', 'add batter to piping bag', 'pipe batter on mat', 'add batter to piping bag', 'pipe batter on mat', 'add batter to piping bag', 'pipe batter on mat', 'add batter to piping bag', 'pipe batter on mat', 'add batter to piping bag', 'pipe batter on mat', 'add batter to piping bag', 'pipe batter on mat']\n",
      "['add sausage to piping bag', 'pipe sausage on plate']\n",
      "0.5410255133851192\n",
      "['pipe batter on mat', 'add batter to piping bag', 'pipe batter on mat', 'add batter to piping bag', 'pipe batter on mat', 'add batter to piping bag', 'pipe batter on mat', 'add batter to piping bag', 'pipe batter on mat', 'add batter to piping bag', 'pipe batter on mat', 'add batter to piping bag', 'pipe batter on mat', 'add batter to piping bag', 'pipe batter on mat', 'add batter to piping bag', 'pipe batter on mat', 'add batter to piping bag', 'pipe batter on mat', 'add batter to piping bag', 'pipe batter on mat']\n",
      "['add pastry to piping bag', 'pipe pastry on plate']\n",
      "0.648002350323112\n",
      "['pipe batter on mat', 'add batter to piping bag', 'pipe batter on mat', 'add batter to piping bag', 'pipe batter on mat', 'add batter to piping bag', 'pipe batter on mat', 'add batter to piping bag', 'pipe batter on mat', 'add batter to piping bag', 'pipe batter on mat', 'add batter to piping bag', 'pipe batter on mat', 'add batter to piping bag', 'pipe batter on mat', 'add batter to piping bag', 'pipe batter on mat', 'add batter to piping bag', 'pipe batter on mat', 'add batter to piping bag', 'pipe batter on mat']\n",
      "['add batter to piping bag', 'pipe batter on parchment paper']\n",
      "0.7900997934281643\n",
      "['pipe batter on mat', 'add batter to piping bag', 'pipe batter on mat', 'add batter to piping bag', 'pipe batter on mat', 'add batter to piping bag', 'pipe batter on mat', 'add batter to piping bag', 'pipe batter on mat', 'add batter to piping bag', 'pipe batter on mat', 'add batter to piping bag', 'pipe batter on mat', 'add batter to piping bag', 'pipe batter on mat', 'add batter to piping bag', 'pipe batter on mat', 'add batter to piping bag', 'pipe batter on mat', 'add batter to piping bag', 'pipe batter on mat']\n",
      "['pour batter on mat']\n",
      "0.610340306341272\n",
      "['pipe batter on mat', 'add batter to piping bag', 'pipe batter on mat', 'add batter to piping bag', 'pipe batter on mat', 'add batter to piping bag', 'pipe batter on mat', 'add batter to piping bag', 'pipe batter on mat', 'add batter to piping bag', 'pipe batter on mat', 'add batter to piping bag', 'pipe batter on mat', 'add batter to piping bag', 'pipe batter on mat', 'add batter to piping bag', 'pipe batter on mat', 'add batter to piping bag', 'pipe batter on mat', 'add batter to piping bag', 'pipe batter on mat']\n",
      "['add batter to piping bag', 'pipe batter on mat']\n",
      "0.7989481495280868\n",
      "['Wrap meat with leaves', 'Place wrapped meat on grill basket', 'Place grill basket on grill', 'Adjust grill basket on grill', 'Flip grill basket on grill', 'Check meat on grill', 'Flip  meat on grill', 'Check meat on grill', 'Remove meat from grill', 'Check meat on grill', 'Flip meat on grill', 'Place leaf on grilled meat', 'Flip meat on grill', 'Flip meat on grill', 'Remove grilled meat from grill']\n",
      "['wrap steak with lettuce', 'put pot on stove', 'add oil in pot', 'turn on the stove', 'put wrapped steak in pot', 'flip steak in pot', 'check steak in pot', 'remove steak from pot']\n",
      "0.47327679896200836\n",
      "['Wrap meat with leaves', 'Place wrapped meat on grill basket', 'Place grill basket on grill', 'Adjust grill basket on grill', 'Flip grill basket on grill', 'Check meat on grill', 'Flip  meat on grill', 'Check meat on grill', 'Remove meat from grill', 'Check meat on grill', 'Flip meat on grill', 'Place leaf on grilled meat', 'Flip meat on grill', 'Flip meat on grill', 'Remove grilled meat from grill']\n",
      "['wrap minced beef with cabbage', 'place wrapped minced beef in basket', 'put basket on grill', 'turn on the grill', 'grill minced beef in basket', 'remove basket from grill', 'remove grilled minced beef from basket']\n",
      "0.5970089086854387\n",
      "['Wrap meat with leaves', 'Place wrapped meat on grill basket', 'Place grill basket on grill', 'Adjust grill basket on grill', 'Flip grill basket on grill', 'Check meat on grill', 'Flip  meat on grill', 'Check meat on grill', 'Remove meat from grill', 'Check meat on grill', 'Flip meat on grill', 'Place leaf on grilled meat', 'Flip meat on grill', 'Flip meat on grill', 'Remove grilled meat from grill']\n",
      "['wrap meat with lettuce', 'put skillet on charcoal grill', 'place wrapped meat on skillet', 'flip meat on skillet', 'check meat on skillet', 'flip meat on skillet', 'check meat on skillet', 'remove grilled meat from skillet']\n",
      "0.6703048548615311\n",
      "['Wrap meat with leaves', 'Place wrapped meat on grill basket', 'Place grill basket on grill', 'Adjust grill basket on grill', 'Flip grill basket on grill', 'Check meat on grill', 'Flip  meat on grill', 'Check meat on grill', 'Remove meat from grill', 'Check meat on grill', 'Flip meat on grill', 'Place leaf on grilled meat', 'Flip meat on grill', 'Flip meat on grill', 'Remove grilled meat from grill']\n",
      "['wrap meat with leaf', 'place wrapped meat in basket', 'place basket on grill', 'turn on the grill', 'flip basket on grill', 'check meat in basket', 'remove basket from grill', 'remove grilled meat from basket']\n",
      "0.6628346531036835\n",
      "['Wrap meat with leaves', 'Place wrapped meat on grill basket', 'Place grill basket on grill', 'Adjust grill basket on grill', 'Flip grill basket on grill', 'Check meat on grill', 'Flip  meat on grill', 'Check meat on grill', 'Remove meat from grill', 'Check meat on grill', 'Flip meat on grill', 'Place leaf on grilled meat', 'Flip meat on grill', 'Flip meat on grill', 'Remove grilled meat from grill']\n",
      "['wrap meat with leaves', 'place wrapped meat on grill', 'turn on charcoal grill', 'grill meat on grill', 'flip meat on grill', 'check meat on grill', 'remove grilled meat from grill']\n",
      "0.7687671265734242\n",
      "['Wrap meat with leaves', 'Place wrapped meat on grill basket', 'Place grill basket on grill', 'Adjust grill basket on grill', 'Flip grill basket on grill', 'Check meat on grill', 'Flip  meat on grill', 'Check meat on grill', 'Remove meat from grill', 'Check meat on grill', 'Flip meat on grill', 'Place leaf on grilled meat', 'Flip meat on grill', 'Flip meat on grill', 'Remove grilled meat from grill']\n",
      "['wrap meat with leaves', 'place wrapped meat on grill rack', 'place grill rack on grill', 'flip wrapped meat on grill rack', 'check wrapped meat on grill rack', 'remove wrapped meat from grill rack']\n",
      "0.7251468471487337\n",
      "['Fetch water in a container', 'add water to soup', 'peel outer skin of potato', 'stir soup', 'cut potato into soup', 'stir soup', 'cut potato into soup', 'stir soup', 'add salt to soup', 'stir soup', 'cover pot with lid ']\n",
      "['put pan on stove', 'add vegetables to pan', 'add water to pan', 'boil vegetables in pan']\n",
      "0.4094406857406043\n",
      "['Fetch water in a container', 'add water to soup', 'peel outer skin of potato', 'stir soup', 'cut potato into soup', 'stir soup', 'cut potato into soup', 'stir soup', 'add salt to soup', 'stir soup', 'cover pot with lid ']\n",
      "['put pot on stove', 'add onions to pot', 'stir pot']\n",
      "0.5222974922483783\n",
      "['Fetch water in a container', 'add water to soup', 'peel outer skin of potato', 'stir soup', 'cut potato into soup', 'stir soup', 'cut potato into soup', 'stir soup', 'add salt to soup', 'stir soup', 'cover pot with lid ']\n",
      "['fetch water in container', 'add water to container', 'add onions to container', 'stir container', 'add salt to container', 'stir container']\n",
      "0.5512263153695631\n",
      "['Fetch water in a container', 'add water to soup', 'peel outer skin of potato', 'stir soup', 'cut potato into soup', 'stir soup', 'cut potato into soup', 'stir soup', 'add salt to soup', 'stir soup', 'cover pot with lid ']\n",
      "['fetch water in container', 'add water to soup', 'peel potatoes', 'cut potatoes into soup', 'stir soup']\n",
      "0.805367312400771\n",
      "['Fetch water in a container', 'add water to soup', 'peel outer skin of potato', 'stir soup', 'cut potato into soup', 'stir soup', 'cut potato into soup', 'stir soup', 'add salt to soup', 'stir soup', 'cover pot with lid ']\n",
      "['fetch water in container', 'add water to container', 'peel potato', 'cut potato', 'add potato to container', 'stir container', 'cover container']\n",
      "0.5993492895494743\n",
      "['Fetch water in a container', 'add water to soup', 'peel outer skin of potato', 'stir soup', 'cut potato into soup', 'stir soup', 'cut potato into soup', 'stir soup', 'add salt to soup', 'stir soup', 'cover pot with lid ']\n",
      "['fetch water in container', 'add water to soup', 'peel potato', 'cut potato', 'add potato to soup', 'stir soup', 'add potato to soup', 'stir soup', 'add potato to soup', 'stir soup', 'stir soup', 'cover container with lid']\n",
      "0.8565881184081807\n",
      "['activate the cooker', 'stir flour in the pan', 'adjust the cooker heat', 'stir flour in the pan', 'stir flour in the pan', 'adjust the cooker heat', 'stir flour in the pan', 'adjust the cooker heat', 'stir flour in the pan', 'adjust the cooker heat', 'stir flour in the pan']\n",
      "['False']\n",
      "0.07589987903574391\n",
      "['activate the cooker', 'stir flour in the pan', 'adjust the cooker heat', 'stir flour in the pan', 'stir flour in the pan', 'adjust the cooker heat', 'stir flour in the pan', 'adjust the cooker heat', 'stir flour in the pan', 'adjust the cooker heat', 'stir flour in the pan']\n",
      "['False']\n",
      "0.07589987903574391\n",
      "['activate the cooker', 'stir flour in the pan', 'adjust the cooker heat', 'stir flour in the pan', 'stir flour in the pan', 'adjust the cooker heat', 'stir flour in the pan', 'adjust the cooker heat', 'stir flour in the pan', 'adjust the cooker heat', 'stir flour in the pan']\n",
      "['False']\n",
      "0.07589662630234495\n",
      "['activate the cooker', 'stir flour in the pan', 'adjust the cooker heat', 'stir flour in the pan', 'stir flour in the pan', 'adjust the cooker heat', 'stir flour in the pan', 'adjust the cooker heat', 'stir flour in the pan', 'adjust the cooker heat', 'stir flour in the pan']\n",
      "['put flour in pan', 'use knife to stir flour in pan']\n",
      "0.6068568063973352\n",
      "['activate the cooker', 'stir flour in the pan', 'adjust the cooker heat', 'stir flour in the pan', 'stir flour in the pan', 'adjust the cooker heat', 'stir flour in the pan', 'adjust the cooker heat', 'stir flour in the pan', 'adjust the cooker heat', 'stir flour in the pan']\n",
      "['put flour in bowl', 'hold bowl steady', 'stir flour in bowl with spatula']\n",
      "0.5794713179559479\n",
      "['activate the cooker', 'stir flour in the pan', 'adjust the cooker heat', 'stir flour in the pan', 'stir flour in the pan', 'adjust the cooker heat', 'stir flour in the pan', 'adjust the cooker heat', 'stir flour in the pan', 'adjust the cooker heat', 'stir flour in the pan']\n",
      "['activate the cooker', 'put pan on cooker', 'add flour to pan', 'stir flour in the pan']\n",
      "0.7418428273955251\n",
      "['prepare coffee in a coffee maker', 'drop pack into the cabinet', 'close cabinet', 'adjust jar in cabinet', 'operate phone', 'arrange groceries in the fridge', 'play with dog']\n",
      "['False']\n",
      "0.09431343785706248\n",
      "['prepare coffee in a coffee maker', 'drop pack into the cabinet', 'close cabinet', 'adjust jar in cabinet', 'operate phone', 'arrange groceries in the fridge', 'play with dog']\n",
      "['put coffee maker on table', 'add coffee to coffee maker', 'add water to coffee maker', 'brew coffee in coffee maker']\n",
      "0.296717095203194\n",
      "['prepare coffee in a coffee maker', 'drop pack into the cabinet', 'close cabinet', 'adjust jar in cabinet', 'operate phone', 'arrange groceries in the fridge', 'play with dog']\n",
      "['False']\n",
      "0.09429299860435714\n",
      "['prepare coffee in a coffee maker', 'drop pack into the cabinet', 'close cabinet', 'adjust jar in cabinet', 'operate phone', 'arrange groceries in the fridge', 'play with dog']\n",
      "['False']\n",
      "0.09428668604407453\n",
      "['prepare coffee in a coffee maker', 'drop pack into the cabinet', 'close cabinet', 'adjust jar in cabinet', 'operate phone', 'arrange groceries in the fridge', 'play with dog']\n",
      "['prepare coffee in a coffee maker']\n",
      "0.30525401653215944\n",
      "['prepare coffee in a coffee maker', 'drop pack into the cabinet', 'close cabinet', 'adjust jar in cabinet', 'operate phone', 'arrange groceries in the fridge', 'play with dog']\n",
      "['put coffee maker in cabinet', 'put coffee in coffee maker']\n",
      "0.40963960601846594\n",
      "['Taste food', 'Drink water', 'regulate the heat temperature on the stovetop', 'open the pot lid to check for doneness', 'regulate the heat temperature on the stovetop', 'refrigerate drinks', 'Arrange the items in the refrigerator', 'Trash the nylon', 'Rinse the potatoes', 'Peel the potato', 'Rinse the potato', 'Slice the potato', 'Add potato to the pot', 'Rinse the potato', 'Peel the potato', 'Slice the potato', 'Add the potato to the pot', 'Trash the nylon', 'Trash potato peel', 'Wash hands']\n",
      "['False']\n",
      "0.08462437339427231\n",
      "['Taste food', 'Drink water', 'regulate the heat temperature on the stovetop', 'open the pot lid to check for doneness', 'regulate the heat temperature on the stovetop', 'refrigerate drinks', 'Arrange the items in the refrigerator', 'Trash the nylon', 'Rinse the potatoes', 'Peel the potato', 'Rinse the potato', 'Slice the potato', 'Add potato to the pot', 'Rinse the potato', 'Peel the potato', 'Slice the potato', 'Add the potato to the pot', 'Trash the nylon', 'Trash potato peel', 'Wash hands']\n",
      "['False']\n",
      "0.08465627447380919\n",
      "['Taste food', 'Drink water', 'regulate the heat temperature on the stovetop', 'open the pot lid to check for doneness', 'regulate the heat temperature on the stovetop', 'refrigerate drinks', 'Arrange the items in the refrigerator', 'Trash the nylon', 'Rinse the potatoes', 'Peel the potato', 'Rinse the potato', 'Slice the potato', 'Add potato to the pot', 'Rinse the potato', 'Peel the potato', 'Slice the potato', 'Add the potato to the pot', 'Trash the nylon', 'Trash potato peel', 'Wash hands']\n",
      "['Rinse the potato', 'Slice the potato']\n",
      "0.513174106243868\n",
      "['Taste food', 'Drink water', 'regulate the heat temperature on the stovetop', 'open the pot lid to check for doneness', 'regulate the heat temperature on the stovetop', 'refrigerate drinks', 'Arrange the items in the refrigerator', 'Trash the nylon', 'Rinse the potatoes', 'Peel the potato', 'Rinse the potato', 'Slice the potato', 'Add potato to the pot', 'Rinse the potato', 'Peel the potato', 'Slice the potato', 'Add the potato to the pot', 'Trash the nylon', 'Trash potato peel', 'Wash hands']\n",
      "['Rinse the potato', 'Peel the potato', 'Rinse the potato', 'Slice the potato']\n",
      "0.5287667304572365\n",
      "['Taste food', 'Drink water', 'regulate the heat temperature on the stovetop', 'open the pot lid to check for doneness', 'regulate the heat temperature on the stovetop', 'refrigerate drinks', 'Arrange the items in the refrigerator', 'Trash the nylon', 'Rinse the potatoes', 'Peel the potato', 'Rinse the potato', 'Slice the potato', 'Add potato to the pot', 'Rinse the potato', 'Peel the potato', 'Slice the potato', 'Add the potato to the pot', 'Trash the nylon', 'Trash potato peel', 'Wash hands']\n",
      "['Rinse the onion', 'Peel the onion', 'Slice the onion', 'Add onion to the pot', 'Add water to the pot', 'Put pot on stove', 'Turn on the stove', 'Boil the onion', 'Turn off the stove']\n",
      "0.398025902819495\n",
      "['Taste food', 'Drink water', 'regulate the heat temperature on the stovetop', 'open the pot lid to check for doneness', 'regulate the heat temperature on the stovetop', 'refrigerate drinks', 'Arrange the items in the refrigerator', 'Trash the nylon', 'Rinse the potatoes', 'Peel the potato', 'Rinse the potato', 'Slice the potato', 'Add potato to the pot', 'Rinse the potato', 'Peel the potato', 'Slice the potato', 'Add the potato to the pot', 'Trash the nylon', 'Trash potato peel', 'Wash hands']\n",
      "['rinse the potatoes', 'peel the potato', 'rinse the potato', 'slice the potato', 'add potato to the pot', 'fill pot with water', 'put pot on stove', 'turn on the stove', 'boil the potatoes']\n",
      "0.46980201134637434\n",
      "['Fold omelet', 'serve the omelet ']\n",
      "['fold french toast', 'serve the french toast']\n",
      "0.6788930687068178\n",
      "['Fold omelet', 'serve the omelet ']\n",
      "['fold omelet on baking tray', 'serve the omelet']\n",
      "0.8716061720850359\n",
      "['Fold omelet', 'serve the omelet ']\n",
      "['put crepe on baking tray', 'fold crepe', 'serve crepe']\n",
      "0.5343422027718072\n",
      "['Fold omelet', 'serve the omelet ']\n",
      "['fold omelet with spatula', 'serve the omelet on plate']\n",
      "0.8231953709153413\n",
      "['Fold omelet', 'serve the omelet ']\n",
      "['put omelet on griddle', 'fold omelet', 'put omelet on plate']\n",
      "0.7776714112964122\n",
      "['Fold omelet', 'serve the omelet ']\n",
      "['fold omelet in pan', 'serve the omelet']\n",
      "0.8856547233964535\n",
      "['Pour maize into the pot', 'Add chili pepper and seasonings into the maize']\n",
      "['pour ingredient into the pan', 'add chili into the ingredient']\n",
      "0.5462488305150004\n",
      "['Pour maize into the pot', 'Add chili pepper and seasonings into the maize']\n",
      "['pour ingredient into the pot', 'add chilli pepper into the ingredient']\n",
      "0.6190309003887553\n",
      "['Pour maize into the pot', 'Add chili pepper and seasonings into the maize']\n",
      "['pour ingredient into the pot', 'add turmeric into the ingredient']\n",
      "0.4964049017505494\n",
      "['Pour maize into the pot', 'Add chili pepper and seasonings into the maize']\n",
      "['pour sweet corn into the pot', 'add chili pepper into the sweet corn']\n",
      "0.7211289594656923\n",
      "['Pour maize into the pot', 'Add chili pepper and seasonings into the maize']\n",
      "['pour maize into the pot', 'add chili pepper into the maize in the pot']\n",
      "0.8915195633005004\n",
      "['Pour maize into the pot', 'Add chili pepper and seasonings into the maize']\n",
      "['pour maize into the pot', 'add chili pepper into the maize']\n",
      "0.9190264724265254\n",
      "['open tomato sauce', 'spreads tomato sauce on pizza dough']\n",
      "['spread sauce on pizza']\n",
      "0.6732287316726496\n",
      "['open tomato sauce', 'spreads tomato sauce on pizza dough']\n",
      "['open sauce', 'spread sauce on wraps']\n",
      "0.5557208980149929\n",
      "['open tomato sauce', 'spreads tomato sauce on pizza dough']\n",
      "['open soy sauce bottle', 'spread soy sauce on dough']\n",
      "0.6182250666837661\n",
      "['open tomato sauce', 'spreads tomato sauce on pizza dough']\n",
      "['False']\n",
      "0.06671064288391282\n",
      "['open tomato sauce', 'spreads tomato sauce on pizza dough']\n",
      "['open tomato sauce bottle', 'spread tomato sauce from bottle on dough']\n",
      "0.8381695669442533\n",
      "['open tomato sauce', 'spreads tomato sauce on pizza dough']\n",
      "['open tomato sauce bottle', 'spread tomato sauce on dough']\n",
      "0.8578052587251903\n",
      "['Turns on the cooker', 'Adds meat to the pot', 'Stirs the meat in the pot with a chopstick', 'Adjust the heat of the cooker', 'Stirs the meat in the pot with a chopstick', 'Cuts the pack of sauce', 'pours sauce into the meat', 'Stirs the meat in the pot with a chopstick', 'picks a pot from the kitchen cabinet', 'Turns on the cooker', 'Adds egg to the pan', 'pours the meat on a plate', 'Pours the egg on the plate', 'pours the meat on a plate', 'Pours the egg on the plate']\n",
      "['put Fish Fillet on oven tray', 'add Spicy on Fish Fillet', 'stir Fish Fillet in oven tray with Spoon']\n",
      "0.37199727759674783\n",
      "['Turns on the cooker', 'Adds meat to the pot', 'Stirs the meat in the pot with a chopstick', 'Adjust the heat of the cooker', 'Stirs the meat in the pot with a chopstick', 'Cuts the pack of sauce', 'pours sauce into the meat', 'Stirs the meat in the pot with a chopstick', 'picks a pot from the kitchen cabinet', 'Turns on the cooker', 'Adds egg to the pan', 'pours the meat on a plate', 'Pours the egg on the plate', 'pours the meat on a plate', 'Pours the egg on the plate']\n",
      "['put oven tray on table', 'add corned beef to oven tray', 'add spice to oven tray', 'stir corned beef in oven tray with stick']\n",
      "0.37875261447275554\n",
      "['Turns on the cooker', 'Adds meat to the pot', 'Stirs the meat in the pot with a chopstick', 'Adjust the heat of the cooker', 'Stirs the meat in the pot with a chopstick', 'Cuts the pack of sauce', 'pours sauce into the meat', 'Stirs the meat in the pot with a chopstick', 'picks a pot from the kitchen cabinet', 'Turns on the cooker', 'Adds egg to the pan', 'pours the meat on a plate', 'Pours the egg on the plate', 'pours the meat on a plate', 'Pours the egg on the plate']\n",
      "['put pot on table', 'add meat to pot', 'add sauce to pot', 'stir meat in pot with spoon']\n",
      "0.49249901989741107\n",
      "['Turns on the cooker', 'Adds meat to the pot', 'Stirs the meat in the pot with a chopstick', 'Adjust the heat of the cooker', 'Stirs the meat in the pot with a chopstick', 'Cuts the pack of sauce', 'pours sauce into the meat', 'Stirs the meat in the pot with a chopstick', 'picks a pot from the kitchen cabinet', 'Turns on the cooker', 'Adds egg to the pan', 'pours the meat on a plate', 'Pours the egg on the plate', 'pours the meat on a plate', 'Pours the egg on the plate']\n",
      "['put pot on table', 'add ground beef to pot', 'stir ground beef in pot with spoon', 'adjust oven heat', 'stir ground beef in pot with spoon', 'cut pack of sauce', 'pour sauce into pot', 'stir ground beef in pot with spoon']\n",
      "0.49093153906195697\n",
      "['Turns on the cooker', 'Adds meat to the pot', 'Stirs the meat in the pot with a chopstick', 'Adjust the heat of the cooker', 'Stirs the meat in the pot with a chopstick', 'Cuts the pack of sauce', 'pours sauce into the meat', 'Stirs the meat in the pot with a chopstick', 'picks a pot from the kitchen cabinet', 'Turns on the cooker', 'Adds egg to the pan', 'pours the meat on a plate', 'Pours the egg on the plate', 'pours the meat on a plate', 'Pours the egg on the plate']\n",
      "['turn on the cooker', 'add meat to the pot', 'stir the meat in the pot with a chopstick', 'adjust the heat of the cooker', 'stir the meat in the pot with a chopstick', 'cut the pack of sauce', 'pour sauce into the meat', 'stir the meat in the pot with a chopstick']\n",
      "0.6478387864753092\n",
      "['Turns on the cooker', 'Adds meat to the pot', 'Stirs the meat in the pot with a chopstick', 'Adjust the heat of the cooker', 'Stirs the meat in the pot with a chopstick', 'Cuts the pack of sauce', 'pours sauce into the meat', 'Stirs the meat in the pot with a chopstick', 'picks a pot from the kitchen cabinet', 'Turns on the cooker', 'Adds egg to the pan', 'pours the meat on a plate', 'Pours the egg on the plate', 'pours the meat on a plate', 'Pours the egg on the plate']\n",
      "['turn on the cooker', 'add meat to the pot', 'stir the meat in the pot with a chopstick', 'adjust the heat of the cooker', 'stir the meat in the pot with a chopstick', 'cut the pack of sauce', 'pour sauce into the meat', 'stir the meat in the pot with a chopstick']\n",
      "0.6478382991193288\n",
      "['Gather Ingredients', 'Open the window blind', 'Dice vegetables into smaller sizes', 'Stir fry vegetable in a skillet']\n",
      "['gather carrot', 'dice carrot on chopping board', 'stir fry carrot in pan']\n",
      "0.4749925039101415\n",
      "['Gather Ingredients', 'Open the window blind', 'Dice vegetables into smaller sizes', 'Stir fry vegetable in a skillet']\n",
      "['gather vegetables', 'place vegetables on chopping board', 'cut vegetables with knife', 'put pan on gas stove', 'add vegetables to pan', 'turn on gas stove', 'stir vegetables in pan']\n",
      "0.5021919545712907\n",
      "['Gather Ingredients', 'Open the window blind', 'Dice vegetables into smaller sizes', 'Stir fry vegetable in a skillet']\n",
      "['gather cucumber', 'place cucumber on chopping board', 'cut cucumber with knife', 'put pan on gas stove', 'turn on the gas stove', 'add chopped cucumber to pan', 'stir fry cucumber in pan']\n",
      "0.417586995250252\n",
      "['Gather Ingredients', 'Open the window blind', 'Dice vegetables into smaller sizes', 'Stir fry vegetable in a skillet']\n",
      "['gather onion, zucchini, cucumber, bell pepper, and okra', 'open the window blind', 'place chopping board on counter', 'dice onion, zucchini, cucumber, bell pepper, and okra with knife on chopping board', 'transfer diced vegetables into bowl', 'put pan on cooker', 'add diced vegetables to pan']\n",
      "0.5493992005934787\n",
      "['Gather Ingredients', 'Open the window blind', 'Dice vegetables into smaller sizes', 'Stir fry vegetable in a skillet']\n",
      "['gather vegetable', 'open the window blind', 'dice vegetable with knife', 'stir fry vegetable in skillet']\n",
      "0.7920355481732358\n",
      "['Gather Ingredients', 'Open the window blind', 'Dice vegetables into smaller sizes', 'Stir fry vegetable in a skillet']\n",
      "['gather vegetable', 'gather knife', 'gather skillet', 'gather oil', 'dice vegetable with knife on chopping board', 'add oil to skillet', 'add diced vegetable to skillet', 'put skillet on stove', 'turn on stove', 'stir fry vegetable in skillet']\n",
      "0.5426743114482637\n",
      "['Add charcoal to grill', 'Preheat charcoal grill']\n",
      "['False']\n",
      "0.053193715534266994\n",
      "['Add charcoal to grill', 'Preheat charcoal grill']\n",
      "['impossible']\n",
      "0.0607783708114531\n",
      "['Add charcoal to grill', 'Preheat charcoal grill']\n",
      "['impossible']\n",
      "0.060751717786037385\n",
      "['Add charcoal to grill', 'Preheat charcoal grill']\n",
      "['add charcoal to grill', 'preheat charcoal grill']\n",
      "0.9493595269447695\n",
      "['Add charcoal to grill', 'Preheat charcoal grill']\n",
      "['add charcoal to grill', 'preheat charcoal grill']\n",
      "0.9493595945952218\n",
      "['Add charcoal to grill', 'Preheat charcoal grill']\n",
      "['add charcoal to grill', 'preheat grill']\n",
      "0.892148390890867\n",
      "['Peel onion', 'Rinse onion', 'Dice onion', 'Add onion to pot', 'Adjust heat on the stovetop', 'Add onion to pot', 'Wash hands', 'Dice onion', 'Add onion to pot', 'Adjust heat on the stovetop', 'Add oil to the pot']\n",
      "['add vegetable to plate']\n",
      "0.35732825062386586\n",
      "['Peel onion', 'Rinse onion', 'Dice onion', 'Add onion to pot', 'Adjust heat on the stovetop', 'Add onion to pot', 'Wash hands', 'Dice onion', 'Add onion to pot', 'Adjust heat on the stovetop', 'Add oil to the pot']\n",
      "['add spring onion to pot']\n",
      "0.4909146195216709\n",
      "['Peel onion', 'Rinse onion', 'Dice onion', 'Add onion to pot', 'Adjust heat on the stovetop', 'Add onion to pot', 'Wash hands', 'Dice onion', 'Add onion to pot', 'Adjust heat on the stovetop', 'Add oil to the pot']\n",
      "['put plate on counter', 'add onion to plate']\n",
      "0.4877854619461578\n",
      "['Peel onion', 'Rinse onion', 'Dice onion', 'Add onion to pot', 'Adjust heat on the stovetop', 'Add onion to pot', 'Wash hands', 'Dice onion', 'Add onion to pot', 'Adjust heat on the stovetop', 'Add oil to the pot']\n",
      "['peel onion', 'rinse onion', 'dice onion']\n",
      "0.5435212135311153\n",
      "['Peel onion', 'Rinse onion', 'Dice onion', 'Add onion to pot', 'Adjust heat on the stovetop', 'Add onion to pot', 'Wash hands', 'Dice onion', 'Add onion to pot', 'Adjust heat on the stovetop', 'Add oil to the pot']\n",
      "['peel onion', 'dice onion', 'add onion to pot']\n",
      "0.670381283388299\n",
      "['Peel onion', 'Rinse onion', 'Dice onion', 'Add onion to pot', 'Adjust heat on the stovetop', 'Add onion to pot', 'Wash hands', 'Dice onion', 'Add onion to pot', 'Adjust heat on the stovetop', 'Add oil to the pot']\n",
      "['peel onion', 'rinse onion', 'dice onion', 'add onion to pot']\n",
      "0.6952957047418462\n",
      "['slice turkey', 'serve turkey in a bowl']\n",
      "['serve rice in rice bowl']\n",
      "0.4985816344382379\n",
      "['slice turkey', 'serve turkey in a bowl']\n",
      "['serve corned beef in a rice bowl']\n",
      "0.4531736624884759\n",
      "['slice turkey', 'serve turkey in a bowl']\n",
      "['False']\n",
      "0.06504761490620581\n",
      "['slice turkey', 'serve turkey in a bowl']\n",
      "['False']\n",
      "0.06504761490620581\n",
      "['slice turkey', 'serve turkey in a bowl']\n",
      "['False']\n",
      "0.06504866045470026\n",
      "['slice turkey', 'serve turkey in a bowl']\n",
      "['serve turkey in a bowl']\n",
      "0.7695555754055825\n",
      "['wash cutting board in sink', 'dry cutting board with a towel']\n",
      "['False']\n",
      "0.05807334990251234\n",
      "['wash cutting board in sink', 'dry cutting board with a towel']\n",
      "['False']\n",
      "0.05807553403033561\n",
      "['wash cutting board in sink', 'dry cutting board with a towel']\n",
      "['False']\n",
      "0.05807553403033561\n",
      "['wash cutting board in sink', 'dry cutting board with a towel']\n",
      "['False']\n",
      "0.05807553403033561\n",
      "['wash cutting board in sink', 'dry cutting board with a towel']\n",
      "['wash cutting board in sink', 'dry cutting board with a towel']\n",
      "0.999998834302842\n",
      "['wash cutting board in sink', 'dry cutting board with a towel']\n",
      "['wash cutting board in sink', 'dry cutting board with a towel']\n",
      "0.9999990349310559\n",
      "['puts tea bag in cup', 'adds boiled water to tea bag in cup', 'puts tea bag in cup', 'adds boiled water to tea bag in cup', 'serves toast bread', 'scrapes toast bread', 'spread butter on toast bread', 'spreads toppings on toast bread', 'serves food on dinning']\n",
      "['put leaves in jar', 'add limewater to leaves in jar']\n",
      "0.30913313153489363\n",
      "['puts tea bag in cup', 'adds boiled water to tea bag in cup', 'puts tea bag in cup', 'adds boiled water to tea bag in cup', 'serves toast bread', 'scrapes toast bread', 'spread butter on toast bread', 'spreads toppings on toast bread', 'serves food on dinning']\n",
      "['False']\n",
      "0.07697433551226907\n",
      "['puts tea bag in cup', 'adds boiled water to tea bag in cup', 'puts tea bag in cup', 'adds boiled water to tea bag in cup', 'serves toast bread', 'scrapes toast bread', 'spread butter on toast bread', 'spreads toppings on toast bread', 'serves food on dinning']\n",
      "['pour water from water bottle into cup']\n",
      "0.32797626979494465\n",
      "['puts tea bag in cup', 'adds boiled water to tea bag in cup', 'puts tea bag in cup', 'adds boiled water to tea bag in cup', 'serves toast bread', 'scrapes toast bread', 'spread butter on toast bread', 'spreads toppings on toast bread', 'serves food on dinning']\n",
      "['pour water from water bottle into cup']\n",
      "0.32797626979494465\n",
      "['puts tea bag in cup', 'adds boiled water to tea bag in cup', 'puts tea bag in cup', 'adds boiled water to tea bag in cup', 'serves toast bread', 'scrapes toast bread', 'spread butter on toast bread', 'spreads toppings on toast bread', 'serves food on dinning']\n",
      "['impossible']\n",
      "0.10633577543538619\n",
      "['puts tea bag in cup', 'adds boiled water to tea bag in cup', 'puts tea bag in cup', 'adds boiled water to tea bag in cup', 'serves toast bread', 'scrapes toast bread', 'spread butter on toast bread', 'spreads toppings on toast bread', 'serves food on dinning']\n",
      "['put tea bag in cup']\n",
      "0.5231389624421303\n",
      "['Add flour into the bowl\\\\n', 'Add diced vegetables into the bowl', 'Add salt into the bowl \\\\n', 'Add Baking Powder into the bowl\\\\n', 'Add oil into the bowl\\\\n', 'Add water into the bowl']\n",
      "['add grains into the pot']\n",
      "0.4781810618439736\n",
      "['Add flour into the bowl\\\\n', 'Add diced vegetables into the bowl', 'Add salt into the bowl \\\\n', 'Add Baking Powder into the bowl\\\\n', 'Add oil into the bowl\\\\n', 'Add water into the bowl']\n",
      "['add flour into the pot', 'add tofu into the pot', 'add salt into the pot', 'add baking soda into the pot', 'add oil into the pot', 'add water into the pot']\n",
      "0.6777005471134334\n",
      "['Add flour into the bowl\\\\n', 'Add diced vegetables into the bowl', 'Add salt into the bowl \\\\n', 'Add Baking Powder into the bowl\\\\n', 'Add oil into the bowl\\\\n', 'Add water into the bowl']\n",
      "['add dry mixture into the pot', 'add vegetables into the pot', 'add baking powder into the pot', 'add oil into the pot']\n",
      "0.6204262568877263\n",
      "['Add flour into the bowl\\\\n', 'Add diced vegetables into the bowl', 'Add salt into the bowl \\\\n', 'Add Baking Powder into the bowl\\\\n', 'Add oil into the bowl\\\\n', 'Add water into the bowl']\n",
      "['add dry mixture into the bowl', 'add vegetables into the bowl']\n",
      "0.6266354222015984\n",
      "['Add flour into the bowl\\\\n', 'Add diced vegetables into the bowl', 'Add salt into the bowl \\\\n', 'Add Baking Powder into the bowl\\\\n', 'Add oil into the bowl\\\\n', 'Add water into the bowl']\n",
      "['add flour into the bowl', 'add vegetables into the bowl']\n",
      "0.6634559700889433\n",
      "['Add flour into the bowl\\\\n', 'Add diced vegetables into the bowl', 'Add salt into the bowl \\\\n', 'Add Baking Powder into the bowl\\\\n', 'Add oil into the bowl\\\\n', 'Add water into the bowl']\n",
      "['add flour into the bowl', 'add vegetables into the bowl', 'add salt into the bowl', 'add baking powder into the bowl', 'add oil into the bowl', 'add water into the bowl']\n",
      "0.8563778611011349\n",
      "['patterns goyna bori with piping bag', 'pours goyna bori in piping bag', 'patterns goyna bori with piping bag', 'pours goyna bori in piping bag', 'patterns goyna bori with piping bag']\n",
      "['False']\n",
      "0.08655027353763811\n",
      "['patterns goyna bori with piping bag', 'pours goyna bori in piping bag', 'patterns goyna bori with piping bag', 'pours goyna bori in piping bag', 'patterns goyna bori with piping bag']\n",
      "['False']\n",
      "0.08655027353763811\n",
      "['patterns goyna bori with piping bag', 'pours goyna bori in piping bag', 'patterns goyna bori with piping bag', 'pours goyna bori in piping bag', 'patterns goyna bori with piping bag']\n",
      "['False']\n",
      "0.08655313921746077\n",
      "['patterns goyna bori with piping bag', 'pours goyna bori in piping bag', 'patterns goyna bori with piping bag', 'pours goyna bori in piping bag', 'patterns goyna bori with piping bag']\n",
      "['put goyna bori in piping bag', 'pattern goyna bori with piping bag onto bowl']\n",
      "0.8757795039215222\n",
      "['patterns goyna bori with piping bag', 'pours goyna bori in piping bag', 'patterns goyna bori with piping bag', 'pours goyna bori in piping bag', 'patterns goyna bori with piping bag']\n",
      "['put baking sheet on kitchen countertop', 'fill piping bag with goyna bori', 'pattern goyna bori on baking sheet with piping bag']\n",
      "0.738844496986853\n",
      "['patterns goyna bori with piping bag', 'pours goyna bori in piping bag', 'patterns goyna bori with piping bag', 'pours goyna bori in piping bag', 'patterns goyna bori with piping bag']\n",
      "['fill piping bag with goyna bori', 'pattern goyna bori with piping bag on baking tray']\n",
      "0.8525271904165752\n",
      "['puts chicken pieces into bowl', 'adds green peas into bowl', 'add hot water to recipe', 'stirs recipe with chopstick', 'drains water from recipe', 'adds soy sauce to recipe', 'add hot water to recipe', 'stir recipe', 'store soy sauce in freezer', 'adds black spice to recipe', 'stirs recipe', 'serves chicken stir fry mixture', 'unpack cabbage', 'dice cabbage', 'rinses cabbage', 'unwrap chicken', 'pours chicken to pan', 'turn on stovetop', 'stir chicken in pan', 'add cabbage to pan', 'stirs cabbage and chicken in pan', 'adjust temperature of stovetop', 'covers cooking pan with lid', 'stir rice', 'gathers plates', 'serves rice', 'stirs chicken and cabbage', 'serves chicken stir fry']\n",
      "['put meat into frypan', 'turn on cooker', 'add pack of sauce to frypan', 'use whisk to stir meat in frypan', 'serve meat']\n",
      "0.4306918998350361\n",
      "['puts chicken pieces into bowl', 'adds green peas into bowl', 'add hot water to recipe', 'stirs recipe with chopstick', 'drains water from recipe', 'adds soy sauce to recipe', 'add hot water to recipe', 'stir recipe', 'store soy sauce in freezer', 'adds black spice to recipe', 'stirs recipe', 'serves chicken stir fry mixture', 'unpack cabbage', 'dice cabbage', 'rinses cabbage', 'unwrap chicken', 'pours chicken to pan', 'turn on stovetop', 'stir chicken in pan', 'add cabbage to pan', 'stirs cabbage and chicken in pan', 'adjust temperature of stovetop', 'covers cooking pan with lid', 'stir rice', 'gathers plates', 'serves rice', 'stirs chicken and cabbage', 'serves chicken stir fry']\n",
      "['put pot on cooker', 'add meat into pot', 'add vegetable into pot', 'add water into pot', 'turn on cooker', 'stir meat and vegetable in pot with chopstick', 'serve meat and vegetable']\n",
      "0.4529694952240535\n",
      "['puts chicken pieces into bowl', 'adds green peas into bowl', 'add hot water to recipe', 'stirs recipe with chopstick', 'drains water from recipe', 'adds soy sauce to recipe', 'add hot water to recipe', 'stir recipe', 'store soy sauce in freezer', 'adds black spice to recipe', 'stirs recipe', 'serves chicken stir fry mixture', 'unpack cabbage', 'dice cabbage', 'rinses cabbage', 'unwrap chicken', 'pours chicken to pan', 'turn on stovetop', 'stir chicken in pan', 'add cabbage to pan', 'stirs cabbage and chicken in pan', 'adjust temperature of stovetop', 'covers cooking pan with lid', 'stir rice', 'gathers plates', 'serves rice', 'stirs chicken and cabbage', 'serves chicken stir fry']\n",
      "['unwrap meat', 'put meat in pan', 'turn on cooker', 'stir meat in pan with chopstick', 'add Japanese mustard green to pan', 'stir meat and Japanese mustard green in pan with chopstick', 'add soy sauce to pan', 'stir mixture in pan with chopstick']\n",
      "0.45111797377973073\n",
      "['puts chicken pieces into bowl', 'adds green peas into bowl', 'add hot water to recipe', 'stirs recipe with chopstick', 'drains water from recipe', 'adds soy sauce to recipe', 'add hot water to recipe', 'stir recipe', 'store soy sauce in freezer', 'adds black spice to recipe', 'stirs recipe', 'serves chicken stir fry mixture', 'unpack cabbage', 'dice cabbage', 'rinses cabbage', 'unwrap chicken', 'pours chicken to pan', 'turn on stovetop', 'stir chicken in pan', 'add cabbage to pan', 'stirs cabbage and chicken in pan', 'adjust temperature of stovetop', 'covers cooking pan with lid', 'stir rice', 'gathers plates', 'serves rice', 'stirs chicken and cabbage', 'serves chicken stir fry']\n",
      "['put pan on stove', 'add meat to pan', 'turn on the stove', 'stir meat in pan with chopstick', 'add lettuce to pan', 'stir meat and lettuce in pan with chopstick']\n",
      "0.45853055988983304\n",
      "['puts chicken pieces into bowl', 'adds green peas into bowl', 'add hot water to recipe', 'stirs recipe with chopstick', 'drains water from recipe', 'adds soy sauce to recipe', 'add hot water to recipe', 'stir recipe', 'store soy sauce in freezer', 'adds black spice to recipe', 'stirs recipe', 'serves chicken stir fry mixture', 'unpack cabbage', 'dice cabbage', 'rinses cabbage', 'unwrap chicken', 'pours chicken to pan', 'turn on stovetop', 'stir chicken in pan', 'add cabbage to pan', 'stirs cabbage and chicken in pan', 'adjust temperature of stovetop', 'covers cooking pan with lid', 'stir rice', 'gathers plates', 'serves rice', 'stirs chicken and cabbage', 'serves chicken stir fry']\n",
      "['unpack cabbage', 'dice cabbage', 'rinse cabbage', 'unwrap chicken', 'put pan on stove', 'add chicken to pan', 'turn on stove', 'stir chicken in pan with chopstick', 'add cabbage to pan', 'stir chicken and cabbage in pan with chopstick', 'serve chicken and cabbage from pan to plate']\n",
      "0.5414626681441478\n",
      "['puts chicken pieces into bowl', 'adds green peas into bowl', 'add hot water to recipe', 'stirs recipe with chopstick', 'drains water from recipe', 'adds soy sauce to recipe', 'add hot water to recipe', 'stir recipe', 'store soy sauce in freezer', 'adds black spice to recipe', 'stirs recipe', 'serves chicken stir fry mixture', 'unpack cabbage', 'dice cabbage', 'rinses cabbage', 'unwrap chicken', 'pours chicken to pan', 'turn on stovetop', 'stir chicken in pan', 'add cabbage to pan', 'stirs cabbage and chicken in pan', 'adjust temperature of stovetop', 'covers cooking pan with lid', 'stir rice', 'gathers plates', 'serves rice', 'stirs chicken and cabbage', 'serves chicken stir fry']\n",
      "['unwrap chicken', 'dice cabbage', 'rinses cabbage', 'put pan on stove', 'turn on stove', 'pours chicken to pan', 'stir chicken in pan with chopstick', 'add cabbage to pan', 'stirs cabbage and chicken in pan with chopstick']\n",
      "0.5309808023200461\n",
      "['slice cucumber', 'slice ham', 'slice onion', 'break an egg into a bowl', 'whisk egg with chopsticks', 'remove excess oil from pan', 'cook egg in pan', 'adjust heat', 'dish fried egg on chopping board', 'adjust heat', 'dissolve pasta', 'heat ingredient in the microwave', 'adjust microwave setting', 'refrigerate noodles', 'dish pasta on a plate', 'add sliced ham to the plate', 'add sliced cucumber to plate', 'add fried egg to the plate', 'add sliced tomatoes to the plate', 'add sliced cheese to the plate', 'add sauce to the plate']\n",
      "['slice grains with cutter', 'put grains in cup', 'add mayo to cup']\n",
      "0.37982093468349376\n",
      "['slice cucumber', 'slice ham', 'slice onion', 'break an egg into a bowl', 'whisk egg with chopsticks', 'remove excess oil from pan', 'cook egg in pan', 'adjust heat', 'dish fried egg on chopping board', 'adjust heat', 'dissolve pasta', 'heat ingredient in the microwave', 'adjust microwave setting', 'refrigerate noodles', 'dish pasta on a plate', 'add sliced ham to the plate', 'add sliced cucumber to plate', 'add fried egg to the plate', 'add sliced tomatoes to the plate', 'add sliced cheese to the plate', 'add sauce to the plate']\n",
      "['slice onion with cutter', 'boil maggie in pot on stove', 'dish maggie in bowl', 'add soy sauce to bowl']\n",
      "0.4261016405200069\n",
      "['slice cucumber', 'slice ham', 'slice onion', 'break an egg into a bowl', 'whisk egg with chopsticks', 'remove excess oil from pan', 'cook egg in pan', 'adjust heat', 'dish fried egg on chopping board', 'adjust heat', 'dissolve pasta', 'heat ingredient in the microwave', 'adjust microwave setting', 'refrigerate noodles', 'dish pasta on a plate', 'add sliced ham to the plate', 'add sliced cucumber to plate', 'add fried egg to the plate', 'add sliced tomatoes to the plate', 'add sliced cheese to the plate', 'add sauce to the plate']\n",
      "['slice onion with knife on chopping board', 'add sliced ham to bowl', 'add cucumber slice to bowl', 'add maggie to pot', 'add water to pot', 'cook maggie in pot on stove', 'dish maggie into bowl', 'add sliced ham to bowl', 'add cucumber slice to bowl', 'add ketchup to bowl']\n",
      "0.48709012120340955\n",
      "['slice cucumber', 'slice ham', 'slice onion', 'break an egg into a bowl', 'whisk egg with chopsticks', 'remove excess oil from pan', 'cook egg in pan', 'adjust heat', 'dish fried egg on chopping board', 'adjust heat', 'dissolve pasta', 'heat ingredient in the microwave', 'adjust microwave setting', 'refrigerate noodles', 'dish pasta on a plate', 'add sliced ham to the plate', 'add sliced cucumber to plate', 'add fried egg to the plate', 'add sliced tomatoes to the plate', 'add sliced cheese to the plate', 'add sauce to the plate']\n",
      "['slice cucumber on chopping board', 'slice onion on chopping board', 'break egg into bowl', 'whisk egg in bowl', 'add oil to pot', 'turn on stove', 'cook egg in pot', 'boil water in pot', 'add pasta to pot', 'cook pasta in pot', 'drain pasta', 'dish pasta onto bowl', 'add sliced onion to bowl', 'add sliced cucumber to bowl', 'add cooked egg to bowl', 'add sauce to bowl']\n",
      "0.6042165916874223\n",
      "['slice cucumber', 'slice ham', 'slice onion', 'break an egg into a bowl', 'whisk egg with chopsticks', 'remove excess oil from pan', 'cook egg in pan', 'adjust heat', 'dish fried egg on chopping board', 'adjust heat', 'dissolve pasta', 'heat ingredient in the microwave', 'adjust microwave setting', 'refrigerate noodles', 'dish pasta on a plate', 'add sliced ham to the plate', 'add sliced cucumber to plate', 'add fried egg to the plate', 'add sliced tomatoes to the plate', 'add sliced cheese to the plate', 'add sauce to the plate']\n",
      "['slice onion on chopping board with knife', 'break egg into bowl', 'whisk egg with chopsticks', 'cook egg in frypan', 'dish fried egg on plate', 'add cucumber slice to plate', 'add onion to plate', 'add fried egg to plate', 'add tomato slice to plate', 'add cheese to plate', 'add sauce to plate']\n",
      "0.6244118144265342\n",
      "['slice cucumber', 'slice ham', 'slice onion', 'break an egg into a bowl', 'whisk egg with chopsticks', 'remove excess oil from pan', 'cook egg in pan', 'adjust heat', 'dish fried egg on chopping board', 'adjust heat', 'dissolve pasta', 'heat ingredient in the microwave', 'adjust microwave setting', 'refrigerate noodles', 'dish pasta on a plate', 'add sliced ham to the plate', 'add sliced cucumber to plate', 'add fried egg to the plate', 'add sliced tomatoes to the plate', 'add sliced cheese to the plate', 'add sauce to the plate']\n",
      "['slice cucumber on chopping board with knife', 'slice onion on chopping board with knife', 'break egg into bowl', 'whisk egg in bowl with chopsticks', 'cook egg in pan', 'slice tomato on chopping board with knife', 'dish pasta on plate', 'add sliced ham to plate', 'add cucumber slice to plate', 'add fried egg to plate', 'add tomato slice to plate', 'add cheese to plate', 'add sauce to plate']\n",
      "0.6982770242415486\n",
      "['peel onion', 'slice onion', 'wash the dried leaves', 'put dried leaves in the pot', 'set the heat temperature', 'add vinegar', 'add soy sauce', 'add vegetable oil', 'regulate heat', 'add sliced onion to pot', 'stir sauce', 'add spices', 'add pepper', 'add garlic', 'stir sauce', 'clean tomatoes', 'slice tomatoes', 'add tomatoes into the broth']\n",
      "['put soup in bowl']\n",
      "0.3449870057508263\n",
      "['peel onion', 'slice onion', 'wash the dried leaves', 'put dried leaves in the pot', 'set the heat temperature', 'add vinegar', 'add soy sauce', 'add vegetable oil', 'regulate heat', 'add sliced onion to pot', 'stir sauce', 'add spices', 'add pepper', 'add garlic', 'stir sauce', 'clean tomatoes', 'slice tomatoes', 'add tomatoes into the broth']\n",
      "['add soup to bowl', 'add soy sauce to bowl']\n",
      "0.41985568545730856\n",
      "['peel onion', 'slice onion', 'wash the dried leaves', 'put dried leaves in the pot', 'set the heat temperature', 'add vinegar', 'add soy sauce', 'add vegetable oil', 'regulate heat', 'add sliced onion to pot', 'stir sauce', 'add spices', 'add pepper', 'add garlic', 'stir sauce', 'clean tomatoes', 'slice tomatoes', 'add tomatoes into the broth']\n",
      "['add water to bowl', 'add stew to bowl', 'add veggies to bowl']\n",
      "0.41548684331716423\n",
      "['peel onion', 'slice onion', 'wash the dried leaves', 'put dried leaves in the pot', 'set the heat temperature', 'add vinegar', 'add soy sauce', 'add vegetable oil', 'regulate heat', 'add sliced onion to pot', 'stir sauce', 'add spices', 'add pepper', 'add garlic', 'stir sauce', 'clean tomatoes', 'slice tomatoes', 'add tomatoes into the broth']\n",
      "['peel onion', 'slice onion', 'put dried leaves in the pot', 'add soy sauce', 'add onion to pot', 'add tomato to pot', 'stir soup in pot with knife']\n",
      "0.621180402106281\n",
      "['peel onion', 'slice onion', 'wash the dried leaves', 'put dried leaves in the pot', 'set the heat temperature', 'add vinegar', 'add soy sauce', 'add vegetable oil', 'regulate heat', 'add sliced onion to pot', 'stir sauce', 'add spices', 'add pepper', 'add garlic', 'stir sauce', 'clean tomatoes', 'slice tomatoes', 'add tomatoes into the broth']\n",
      "['peel onion', 'slice onion', 'wash dried leaves', 'put dried leaves in the pot', 'add beef stock to pot', 'add sliced onion to pot', 'add spices to pot', 'add garlic to pot', 'clean tomatoes', 'slice tomatoes', 'add tomatoes into the pot']\n",
      "0.6950610930863691\n",
      "['peel onion', 'slice onion', 'wash the dried leaves', 'put dried leaves in the pot', 'set the heat temperature', 'add vinegar', 'add soy sauce', 'add vegetable oil', 'regulate heat', 'add sliced onion to pot', 'stir sauce', 'add spices', 'add pepper', 'add garlic', 'stir sauce', 'clean tomatoes', 'slice tomatoes', 'add tomatoes into the broth']\n",
      "['peel onion', 'slice onion', 'wash dried leaves', 'put dried leaves in pot', 'set pot on stove', 'add water to pot', 'turn on stove', 'add sliced onion to pot', 'add spices to pot', 'add garlic to pot', 'clean tomato', 'slice tomato', 'add tomato to pot']\n",
      "0.7083443880424837\n",
      "['flip the bread in the pan', 'regulate the heat of the', 'add oil to the pan', 'add meat to the pan', 'add spice to the stir fried meat', 'add spice to the stir fried meat', 'wash the kitchen utensils', 'clean the pan with a kitchen roll', 'arrange the pan into the rack', 'clean the sink area', 'clean the cooker', 'clean the kitchen wall']\n",
      "['clean the pan with a tissue']\n",
      "0.45576728643898057\n",
      "['flip the bread in the pan', 'regulate the heat of the', 'add oil to the pan', 'add meat to the pan', 'add spice to the stir fried meat', 'add spice to the stir fried meat', 'wash the kitchen utensils', 'clean the pan with a kitchen roll', 'arrange the pan into the rack', 'clean the sink area', 'clean the cooker', 'clean the kitchen wall']\n",
      "['False']\n",
      "0.052766063797515805\n",
      "['flip the bread in the pan', 'regulate the heat of the', 'add oil to the pan', 'add meat to the pan', 'add spice to the stir fried meat', 'add spice to the stir fried meat', 'wash the kitchen utensils', 'clean the pan with a kitchen roll', 'arrange the pan into the rack', 'clean the sink area', 'clean the cooker', 'clean the kitchen wall']\n",
      "['False']\n",
      "0.052773960350496085\n",
      "['flip the bread in the pan', 'regulate the heat of the', 'add oil to the pan', 'add meat to the pan', 'add spice to the stir fried meat', 'add spice to the stir fried meat', 'wash the kitchen utensils', 'clean the pan with a kitchen roll', 'arrange the pan into the rack', 'clean the sink area', 'clean the cooker', 'clean the kitchen wall']\n",
      "['clean the pan with a tissue']\n",
      "0.45577105884650926\n",
      "['flip the bread in the pan', 'regulate the heat of the', 'add oil to the pan', 'add meat to the pan', 'add spice to the stir fried meat', 'add spice to the stir fried meat', 'wash the kitchen utensils', 'clean the pan with a kitchen roll', 'arrange the pan into the rack', 'clean the sink area', 'clean the cooker', 'clean the kitchen wall']\n",
      "['clean the pan with a tissue']\n",
      "0.45576728643898057\n",
      "['flip the bread in the pan', 'regulate the heat of the', 'add oil to the pan', 'add meat to the pan', 'add spice to the stir fried meat', 'add spice to the stir fried meat', 'wash the kitchen utensils', 'clean the pan with a kitchen roll', 'arrange the pan into the rack', 'clean the sink area', 'clean the cooker', 'clean the kitchen wall']\n",
      "['clean the pan with a tissue']\n",
      "0.45576524251208306\n",
      "['Dices Scallion', 'Dices Duck', 'Heat Oil', 'Adds diced Scallion and Duck into hot Oil', 'Adds meat to the recipe', 'Adds Spice into Recipe', 'Returns Ingredients to the refrigerator', 'Gathers utensils', 'Adds water to the recipe', 'Adds Duck seasoning', 'Adds Tofu to the recipe', 'Cooks Tofu', 'Adds seasoning to recipe']\n",
      "['gather utesils from table', 'place griddle on counter top', 'slice green onion on cutting board with knife', 'add sauce to griddle', 'add tofu to griddle', 'fry tofu on griddle', 'add sliced green onion to tofu']\n",
      "0.38079441892697785\n",
      "['Dices Scallion', 'Dices Duck', 'Heat Oil', 'Adds diced Scallion and Duck into hot Oil', 'Adds meat to the recipe', 'Adds Spice into Recipe', 'Returns Ingredients to the refrigerator', 'Gathers utensils', 'Adds water to the recipe', 'Adds Duck seasoning', 'Adds Tofu to the recipe', 'Cooks Tofu', 'Adds seasoning to recipe']\n",
      "['gather griddle', 'gather tofu', 'gather seasoning', 'place griddle on counter top', 'add tofu to griddle', 'add seasoning to tofu', 'cook tofu on griddle']\n",
      "0.39236615487615467\n",
      "['Dices Scallion', 'Dices Duck', 'Heat Oil', 'Adds diced Scallion and Duck into hot Oil', 'Adds meat to the recipe', 'Adds Spice into Recipe', 'Returns Ingredients to the refrigerator', 'Gathers utensils', 'Adds water to the recipe', 'Adds Duck seasoning', 'Adds Tofu to the recipe', 'Cooks Tofu', 'Adds seasoning to recipe']\n",
      "['gather pan', 'gather oil', 'gather seasoning', 'gather water', 'turn on stovetop', 'place pan on stovetop', 'add oil to pan', 'heat oil in pan', 'add seasoning to pan', 'add water to pan']\n",
      "0.3799711978533551\n",
      "['Dices Scallion', 'Dices Duck', 'Heat Oil', 'Adds diced Scallion and Duck into hot Oil', 'Adds meat to the recipe', 'Adds Spice into Recipe', 'Returns Ingredients to the refrigerator', 'Gathers utensils', 'Adds water to the recipe', 'Adds Duck seasoning', 'Adds Tofu to the recipe', 'Cooks Tofu', 'Adds seasoning to recipe']\n",
      "['gather pan', 'gather oil', 'gather tofu', 'gather seasoning', 'add oil to pan', 'heat pan with oil', 'add tofu to pan', 'fry tofu in pan', 'add seasoning to tofu']\n",
      "0.4256723341737374\n",
      "['Dices Scallion', 'Dices Duck', 'Heat Oil', 'Adds diced Scallion and Duck into hot Oil', 'Adds meat to the recipe', 'Adds Spice into Recipe', 'Returns Ingredients to the refrigerator', 'Gathers utensils', 'Adds water to the recipe', 'Adds Duck seasoning', 'Adds Tofu to the recipe', 'Cooks Tofu', 'Adds seasoning to recipe']\n",
      "['gather utensils', 'place skillet on counter top', 'dice scallion', 'dice duck', 'dice tofu', 'add diced scallion to skillet', 'add diced duck to skillet', 'add diced tofu to skillet', 'add seasoning to skillet', 'add water to skillet', 'cook tofu in skillet']\n",
      "0.4540531860147099\n",
      "['Dices Scallion', 'Dices Duck', 'Heat Oil', 'Adds diced Scallion and Duck into hot Oil', 'Adds meat to the recipe', 'Adds Spice into Recipe', 'Returns Ingredients to the refrigerator', 'Gathers utensils', 'Adds water to the recipe', 'Adds Duck seasoning', 'Adds Tofu to the recipe', 'Cooks Tofu', 'Adds seasoning to recipe']\n",
      "['dice scallion', 'dice duck', 'heat oil in pan', 'add diced scallion and duck into hot oil in pan', 'add tofu to pan', 'add seasoning to pan', 'cook tofu in pan']\n",
      "0.5450473151302643\n",
      "['Weigh measurement cup on a weighing scale', 'Turn on weighing scale', 'Add water to the measuring cup on the weighing scale', 'Adjust water', 'Stir flour and sugar in a bowl', 'Add salt to flour mixture', 'Stir the flour mixture together', 'Add milk to the flour mixture', 'Mix flour mixture together', 'Put dough in oven', 'Set oven']\n",
      "['put flour on table', 'mix flour with stirrer']\n",
      "0.44919478155150216\n",
      "['Weigh measurement cup on a weighing scale', 'Turn on weighing scale', 'Add water to the measuring cup on the weighing scale', 'Adjust water', 'Stir flour and sugar in a bowl', 'Add salt to flour mixture', 'Stir the flour mixture together', 'Add milk to the flour mixture', 'Mix flour mixture together', 'Put dough in oven', 'Set oven']\n",
      "['add potato starch to measuring cup', 'add salt to measuring cup', 'mix potato starch and salt in measuring cup with stirrer']\n",
      "0.4292292480628388\n",
      "['Weigh measurement cup on a weighing scale', 'Turn on weighing scale', 'Add water to the measuring cup on the weighing scale', 'Adjust water', 'Stir flour and sugar in a bowl', 'Add salt to flour mixture', 'Stir the flour mixture together', 'Add milk to the flour mixture', 'Mix flour mixture together', 'Put dough in oven', 'Set oven']\n",
      "['add salt to flour mixture', 'mix flour mixture with stirrer', 'combine dough with flour mixture', 'mix dough with stirrer']\n",
      "0.5183874432304945\n",
      "['Weigh measurement cup on a weighing scale', 'Turn on weighing scale', 'Add water to the measuring cup on the weighing scale', 'Adjust water', 'Stir flour and sugar in a bowl', 'Add salt to flour mixture', 'Stir the flour mixture together', 'Add milk to the flour mixture', 'Mix flour mixture together', 'Put dough in oven', 'Set oven']\n",
      "['put flour bag in jug', 'add sugar in jug', 'add salt in jug', 'add milk in jug', 'add water in jug', 'mix contents in jug with spatula', 'take dough from jug']\n",
      "0.41090438396128526\n",
      "['Weigh measurement cup on a weighing scale', 'Turn on weighing scale', 'Add water to the measuring cup on the weighing scale', 'Adjust water', 'Stir flour and sugar in a bowl', 'Add salt to flour mixture', 'Stir the flour mixture together', 'Add milk to the flour mixture', 'Mix flour mixture together', 'Put dough in oven', 'Set oven']\n",
      "['put wheat in bowl', 'add sugar to bowl', 'add water to bowl', 'add salt to bowl', 'mix contents of bowl with spatula']\n",
      "0.45737004524242364\n",
      "['Weigh measurement cup on a weighing scale', 'Turn on weighing scale', 'Add water to the measuring cup on the weighing scale', 'Adjust water', 'Stir flour and sugar in a bowl', 'Add salt to flour mixture', 'Stir the flour mixture together', 'Add milk to the flour mixture', 'Mix flour mixture together', 'Put dough in oven', 'Set oven']\n",
      "['add flour to bowl', 'add sugar to bowl', 'add salt to bowl', 'add milk to bowl', 'add water to bowl', 'mix ingredients in bowl with spatula']\n",
      "0.45281451554668284\n",
      "['dice eggplant on chopping board', 'thaw diced eggplants in water', 'cut eggplant on chopping board', 'extract moisture from diced eggplants with paper towels', 'refrigerate wrapped eggplants', 'heat oil in a pan', 'add meat to pan', 'clean meat wraps', 'regulate heat', 'stir meat in pan', 'flip meat in pan', 'dice eggplant on chopping board', 'add diced eggplant to pan', 'stir eggplants with meat']\n",
      "['put spinach in skillet', 'add turkey to skillet', 'stir spinach with turkey in skillet']\n",
      "0.41562745745258367\n",
      "['dice eggplant on chopping board', 'thaw diced eggplants in water', 'cut eggplant on chopping board', 'extract moisture from diced eggplants with paper towels', 'refrigerate wrapped eggplants', 'heat oil in a pan', 'add meat to pan', 'clean meat wraps', 'regulate heat', 'stir meat in pan', 'flip meat in pan', 'dice eggplant on chopping board', 'add diced eggplant to pan', 'stir eggplants with meat']\n",
      "['heat oil in pan', 'add minced beef to pan', 'stir minced beef in pan']\n",
      "0.45531807796752344\n",
      "['dice eggplant on chopping board', 'thaw diced eggplants in water', 'cut eggplant on chopping board', 'extract moisture from diced eggplants with paper towels', 'refrigerate wrapped eggplants', 'heat oil in a pan', 'add meat to pan', 'clean meat wraps', 'regulate heat', 'stir meat in pan', 'flip meat in pan', 'dice eggplant on chopping board', 'add diced eggplant to pan', 'stir eggplants with meat']\n",
      "['add oil to pan', 'turn on stove', 'add meat to pan', 'stir meat in pan']\n",
      "0.5014122723264758\n",
      "['dice eggplant on chopping board', 'thaw diced eggplants in water', 'cut eggplant on chopping board', 'extract moisture from diced eggplants with paper towels', 'refrigerate wrapped eggplants', 'heat oil in a pan', 'add meat to pan', 'clean meat wraps', 'regulate heat', 'stir meat in pan', 'flip meat in pan', 'dice eggplant on chopping board', 'add diced eggplant to pan', 'stir eggplants with meat']\n",
      "['put pan on stove', 'add oil to pan', 'turn on the stove', 'add veggies to pan', 'add soy meat to pan', 'stir veggies with soy meat in pan']\n",
      "0.4568802165441175\n",
      "['dice eggplant on chopping board', 'thaw diced eggplants in water', 'cut eggplant on chopping board', 'extract moisture from diced eggplants with paper towels', 'refrigerate wrapped eggplants', 'heat oil in a pan', 'add meat to pan', 'clean meat wraps', 'regulate heat', 'stir meat in pan', 'flip meat in pan', 'dice eggplant on chopping board', 'add diced eggplant to pan', 'stir eggplants with meat']\n",
      "['heat oil in pan', 'add meat to pan', 'stir meat in pan']\n",
      "0.5324344591215694\n",
      "['dice eggplant on chopping board', 'thaw diced eggplants in water', 'cut eggplant on chopping board', 'extract moisture from diced eggplants with paper towels', 'refrigerate wrapped eggplants', 'heat oil in a pan', 'add meat to pan', 'clean meat wraps', 'regulate heat', 'stir meat in pan', 'flip meat in pan', 'dice eggplant on chopping board', 'add diced eggplant to pan', 'stir eggplants with meat']\n",
      "['dice eggplant on chopping board', 'extract moisture from eggplant with paper towel', 'heat pan on stove', 'add oil to pan', 'add meat to pan', 'stir meat in pan', 'add eggplant to pan', 'stir eggplant with meat']\n",
      "0.7481942175588947\n"
     ]
    }
   ],
   "source": [
    "#========================================\n",
    "# check iterations and sizes of sequence and tax\n",
    "#========================================\n",
    "source_seq = df_base2_rag_p1.loc[4, 'source_action_sequence']\n",
    "target_seq = df_base2_rag_p1.loc[4, 'target_sequence']\n",
    "\n",
    "print(source_seq)\n",
    "print(target_seq)\n",
    "\n",
    "for item in source_seq:\n",
    "    print(item)\n",
    "\n",
    "for item in target_seq:\n",
    "    print(item)\n",
    "\n",
    "source_tax = df_base2_rag_p1.loc[4, 'source_taxonomy']\n",
    "target_tax = df_base2_rag_p1.loc[4, 'target_taxonomy']\n",
    "\n",
    "for item in source_tax:\n",
    "    print(item)\n",
    "\n",
    "for item in target_tax:\n",
    "    print(item)\n",
    "\n",
    "#========================================\n",
    "# dtw between df columns\n",
    "#========================================\n",
    "import openai\n",
    "import numpy as np\n",
    "from fastdtw import fastdtw\n",
    "\n",
    "openai.api_key = os.getenv(\"OPENAI_API_KEY\")  \n",
    "\n",
    "def embed_texts(text_list, model=\"text-embedding-3-large\"):\n",
    "    \"\"\"Generate embeddings for a list of text strings.\"\"\"\n",
    "    response = openai.embeddings.create(\n",
    "        model=model,\n",
    "        input=text_list\n",
    "    )\n",
    "    return np.array([d.embedding for d in response.data])\n",
    "\n",
    "def compute_dtw_distance(seq1, seq2):\n",
    "    \"\"\"Compute DTW distance between two sequences of text using embeddings.\"\"\"\n",
    "    if not isinstance(seq1, list) or not isinstance(seq2, list) or len(seq1) == 0 or len(seq2) == 0:\n",
    "        return np.nan\n",
    "\n",
    "    embeddings1 = embed_texts(seq1)\n",
    "    embeddings2 = embed_texts(seq2)\n",
    "\n",
    "    distance, path = fastdtw(embeddings1, embeddings2, dist=cosine)\n",
    "    similarity = 1 - (distance / len(path))\n",
    "    return similarity\n",
    "\n",
    "def compute_dtw_column(df):\n",
    "    \"\"\"Compute DTW for each row of the DataFrame and store it in a new column.\"\"\"\n",
    "    dtw_results = []\n",
    "    for i, row in df.iterrows():\n",
    "        try:\n",
    "            print(row['source_action_sequence'])\n",
    "            print(row['target_sequence'])\n",
    "            dtw_val = compute_dtw_distance(row['source_action_sequence'], row['target_sequence'])\n",
    "            print(dtw_val)\n",
    "        except Exception as e:\n",
    "            print(f\"Error on row {i}: {e}\")\n",
    "            dtw_val = np.nan\n",
    "        dtw_results.append(dtw_val)\n",
    "    df['dtw_similarity'] = dtw_results\n",
    "    return df\n",
    "\n",
    "\n",
    "# df_base0_dt = compute_dtw_column(df_base0)\n",
    "# df_base1_norag_dt = compute_dtw_column(df_base1_norag)\n",
    "# df_base1_rag_dt = compute_dtw_column(df_base1_rag)\n",
    "# df_base2_norag_dt_p1 = compute_dtw_column(df_base2_norag_p1)\n",
    "# df_base2_rag_dt_p1 = compute_dtw_column(df_base2_rag_p1)\n",
    "df_base2_norag_dt_p2 = compute_dtw_column(df_base2_norag_p2)\n",
    "df_base2_rag_dt_p2 = compute_dtw_column(df_base2_rag_p2)\n",
    "\n",
    "# df_base0_dt.to_pickle(\"df_base0_dtw.pkl\")\n",
    "# df_base1_norag_dt.to_pickle(\"df_base1_norag_dtw.pkl\")\n",
    "# df_base1_rag_dt.to_pickle(\"df_base1_rag_dtw.pkl\")\n",
    "# df_base2_norag_dt_p1.to_pickle(\"df_base2_norag_p1_dtw.pkl\")\n",
    "# df_base2_rag_dt_p1.to_pickle(\"df_base2_rag_p1_dtw.pkl\")\n",
    "df_base2_norag_dt_p2.to_pickle(\"df_base2_norag_p2_dtw.pkl\")\n",
    "df_base2_rag_dt_p2.to_pickle(\"df_base2_rag_p2_dtw.pkl\")"
   ]
  },
  {
   "cell_type": "code",
   "execution_count": 62,
   "id": "bca6d60c",
   "metadata": {},
   "outputs": [
    {
     "name": "stdout",
     "output_type": "stream",
     "text": [
      "ISPOSSIBLE\n",
      "171 175 195\n",
      "base2 pt1 pt1 pt2 pt2 163 184 149 143\n",
      "base2 total: 312 327\n",
      "YIELD\n",
      "154 165 181\n",
      "pt1 pt1 pt2 pt2 159 183 141 135\n",
      "300 318\n",
      "YIELD / ISPOSSIBLE\n",
      "0.90 0.94 0.93\n",
      "0.98 0.99 0.95 0.94\n"
     ]
    }
   ],
   "source": [
    "df_base0_dt = load_pickle_file(\"df_base0_dtw.pkl\")\n",
    "df_base1_norag_dt= load_pickle_file(\"df_base1_norag_dtw.pkl\")\n",
    "df_base1_rag_dt= load_pickle_file(\"df_base1_rag_dtw.pkl\")\n",
    "df_base2_norag_dt_p1= load_pickle_file(\"df_base2_norag_p1_dtw.pkl\")\n",
    "df_base2_rag_dt_p1= load_pickle_file(\"df_base2_rag_p1_dtw.pkl\")\n",
    "df_base2_norag_dt_p2= load_pickle_file(\"df_base2_norag_p2_dtw.pkl\")\n",
    "df_base2_rag_dt_p2= load_pickle_file(\"df_base2_rag_p2_dtw.pkl\")\n",
    "\n",
    "num_bools0 = df_base0_dt[\"isPossible\"].eq(True).sum()\n",
    "num_bools1_1 = df_base1_norag_dt[\"isPossible\"].eq(True).sum()\n",
    "num_bools1_2 = df_base1_rag_dt[\"isPossible\"].eq(True).sum()\n",
    "num_bools2_1_p1 = df_base2_norag_dt_p1[\"isPossible\"].eq(True).sum()\n",
    "num_bools2_2_p1 = df_base2_rag_dt_p1[\"isPossible\"].eq(True).sum()\n",
    "num_bools2_1_p2 = df_base2_norag_dt_p2[\"isPossible\"].eq(True).sum()\n",
    "num_bools2_2_p2 = df_base2_rag_dt_p2[\"isPossible\"].eq(True).sum()\n",
    "\n",
    "yield_0 = df_base0_dt[(df_base0_dt['isPossible'] == True) & (df_base0_dt['human_passcheck_seq'] == True)]\n",
    "yield_1_1 = df_base1_norag_dt[(df_base1_norag_dt['isPossible'] == True) & (df_base1_norag_dt['human_passcheck_seq'] == True)]\n",
    "yield_1_2 = df_base1_rag_dt[(df_base1_rag_dt['isPossible'] == True) & (df_base1_rag_dt['human_passcheck_seq'] == True)]\n",
    "yield_2_1_p1 = df_base2_norag_dt_p1[(df_base2_norag_dt_p1['isPossible'] == True) & (df_base2_norag_dt_p1['human_passcheck_seq'] == True)]\n",
    "yield_2_2_p1 = df_base2_rag_dt_p1[(df_base2_rag_dt_p1['isPossible'] == True) & (df_base2_rag_dt_p1['human_passcheck_seq'] == True)]\n",
    "yield_2_1_p2 = df_base2_norag_dt_p2[(df_base2_norag_dt_p2['isPossible'] == True) & (df_base2_norag_dt_p2['human_passcheck_seq'] == True)]\n",
    "yield_2_2_p2 = df_base2_rag_dt_p2[(df_base2_rag_dt_p2['isPossible'] == True) & (df_base2_rag_dt_p2['human_passcheck_seq'] == True)]\n",
    "\n",
    "print(\"ISPOSSIBLE\")\n",
    "print(f\"{num_bools0} {num_bools1_1} {num_bools1_2}\")\n",
    "print(f\"base2 pt1 pt1 pt2 pt2 {num_bools2_1_p1} {num_bools2_2_p1} {num_bools2_1_p2} {num_bools2_2_p2}\")\n",
    "print(f\"base2 total: {num_bools2_1_p1+num_bools2_1_p2} {num_bools2_2_p1+num_bools2_2_p2}\") \n",
    "\n",
    "print(\"YIELD\")\n",
    "print(f\"{yield_0.shape[0]} {yield_1_1.shape[0]} {yield_1_2.shape[0]}\")\n",
    "print(f\"pt1 pt1 pt2 pt2 {yield_2_1_p1.shape[0]} {yield_2_2_p1.shape[0]} {yield_2_1_p2.shape[0]} {yield_2_2_p2.shape[0]}\")\n",
    "print(f\"{yield_2_1_p1.shape[0]+yield_2_1_p2.shape[0]} {yield_2_2_p1.shape[0]+yield_2_2_p2.shape[0]}\")\n",
    "\n",
    "print(\"YIELD / ISPOSSIBLE\")\n",
    "print(f\"{yield_0.shape[0]/num_bools0:.2f} {yield_1_1.shape[0]/num_bools1_1:.2f} {yield_1_2.shape[0]/num_bools1_2:.2f}\")\n",
    "print(f\"{yield_2_1_p1.shape[0]/num_bools2_1_p1:.2f} {yield_2_2_p1.shape[0]/num_bools2_2_p1:.2f} {yield_2_1_p2.shape[0]/num_bools2_1_p2:.2f} {yield_2_2_p2.shape[0]/num_bools2_2_p2:.2f}\")\n",
    "\n",
    "\n",
    "# for 0-299 idx 0th:\n",
    "# is possible = 171 175 195 163 184\n",
    "# seq yield in ispossible = 154 165 181 159 183"
   ]
  },
  {
   "cell_type": "markdown",
   "id": "e2a265d9",
   "metadata": {},
   "source": [
    "## Plot\n",
    "### target_target_equal_ratio VS ACCEPTANCE RATE\n",
    "### target_target_equal_ratio vs ispossible RATIO \n",
    "\n",
    "\n",
    "- 'idx', 'baseline', 'source_idx', 'source_uid', 'target_uid',\n",
    "-  'target_equal_ratio', 'trial_idx', \n",
    "- 'source_file_name', 'target_file_name', \n",
    "- 'source_action_sequence', 'source_scene_graph', 'target_scene_graph',\n",
    "-  'source_goal_category', 'source_goal_description', \n",
    "- 'core_activity', 'target_sequence', \n",
    "- 'source_taxonomy', 'target_taxonomy', \n",
    "- 'human_entitycheck_tax', 'human_entitycheck_seq', \n",
    "- 'human_passcheck_tax', 'human_passcheck_seq', \n",
    "- 'human_coreactivitycheck', \n",
    "- 'isPossible', \n",
    "- 'edited'"
   ]
  },
  {
   "cell_type": "code",
   "execution_count": null,
   "id": "3ff221c9",
   "metadata": {},
   "outputs": [],
   "source": [
    "#==================================\n",
    "# 1. target_equal_ratio vs ACCEPTANCE RATE\n",
    "#==================================\n",
    "\n",
    "\n",
    "\n",
    "#==================================\n",
    "# 2. target_equal_ratio vs ispossible RATIO\n",
    "#==================================\n",
    "\n",
    "\n",
    "\n"
   ]
  },
  {
   "cell_type": "code",
   "execution_count": 15,
   "id": "4947ed75",
   "metadata": {},
   "outputs": [],
   "source": [
    "#-------------------------------------\n",
    "# SELECTION RATIO FUNCTIONS\n",
    "#-------------------------------------\n",
    "#HUMAN EVALUATOR가 가장 이상적이라고 가정할 때에 다른 evaluator에 대해서 precision-recall curve를 그릴 수 있다.\n",
    "#PRECISION = TP / (TP+FP)예측한 positive\n",
    "#RECALL = TP / (TP+FN)실제 positive\n",
    "#-------------------------------------\n",
    "# OLDER PLOTS with scatters\n",
    "#-------------------------------------\n",
    "def plot_sequence_cursor_interactive(df: pd.DataFrame, mybool: bool, key2plot: str, bin_num:int):\n",
    "    # df = df.dropna(subset=['target_equal_ratio', 'sequence_similarity_sbert', 'sequence_boolean'])\n",
    "    filtered_df = df[df['sequence_boolean'] == mybool]\n",
    "    size1 = df.shape[0]\n",
    "    size2 = filtered_df.shape[0]\n",
    "    print(size1, size2)\n",
    "\n",
    "    #===============================\n",
    "    #ratio of selection\n",
    "    #===============================\n",
    "    # Step 1: Bin the data by target_equal_ratio\n",
    "    bin_width = 1.0/bin_num\n",
    "    # bins = np.arange(0, 1.0001 + bin_width, bin_width)\n",
    "    bins = np.arange(0, 0.9001 + bin_width, bin_width)\n",
    "    df['inclusion_bin'] = pd.cut(df['target_equal_ratio'], bins=bins, include_lowest=True)\n",
    "\n",
    "    # Step 2: Group by bins and calculate ratio\n",
    "    grouped = df.groupby('inclusion_bin')\n",
    "    bin_centers = [interval.mid for interval in grouped.groups.keys()]\n",
    "\n",
    "    ratios = []\n",
    "    for bin_label, group in grouped:\n",
    "        total = len(group)\n",
    "        true_count = group[group['sequence_boolean'] == True].shape[0]\n",
    "        ratio = true_count / total if total > 0 else 0\n",
    "        ratios.append(ratio)\n",
    "\n",
    "\n",
    "    # Scatter plot with hover info\n",
    "    fig = px.scatter(\n",
    "        filtered_df,\n",
    "        x='target_equal_ratio',\n",
    "        y=key2plot,\n",
    "        hover_data=['idx','source_uid'],\n",
    "        labels={\n",
    "            'target_equal_ratio': 'Inclusion Ratio',\n",
    "            key2plot: key2plot,\n",
    "        },\n",
    "        title=f'Inclusion Ratio vs. {key2plot} (bool={mybool}) {size2}/{size1}',\n",
    "    )\n",
    "\n",
    "    fig.update_layout(\n",
    "        xaxis=dict(range=[-0.1, 1.1]),\n",
    "        yaxis=dict(range=[0, 1.1]),\n",
    "    )\n",
    "\n",
    "    #===============================\n",
    "    #ratio of selection\n",
    "    #===============================\n",
    "    # Add ratio line trace with secondary y-axis\n",
    "    fig.add_trace(go.Scatter(\n",
    "        x=bin_centers,\n",
    "        y=ratios,\n",
    "        mode='lines+markers',\n",
    "        name='Ratio (mybool=True / all)',\n",
    "        line=dict(color='green', dash='dot'),\n",
    "        yaxis='y2'\n",
    "    ))\n",
    "\n",
    "    # Configure secondary y-axis\n",
    "    fig.update_layout(\n",
    "        yaxis2=dict(\n",
    "            title='Ratio',\n",
    "            overlaying='y',\n",
    "            side='right',\n",
    "            range=[0, 1.1]\n",
    "        )\n",
    "    )\n",
    "\n",
    "    fig.show()\n",
    "\n",
    "def plot_taxonomy_cursor_interactive(df: pd.DataFrame, togglebool: bool, mybool: bool, key2plot: str, bin_num:int):\n",
    "    # Clean data\n",
    "    df = df.dropna(subset=['target_equal_ratio', 'taxonomy_similarity_sbert', 'taxonomy_boolean', 'taxonomy_weighted_similarity'])\n",
    "    size1 = df.shape[0]\n",
    "    \n",
    "    # Filter based on toggle\n",
    "    if togglebool:\n",
    "        filtered_df = df[df['taxonomy_boolean'] == mybool]\n",
    "    else:\n",
    "        filtered_df = df\n",
    "    size2 = filtered_df.shape[0]\n",
    "\n",
    "    #===============================\n",
    "    #ratio of selection\n",
    "    #===============================\n",
    "    # Step 1: Bin the data by target_equal_ratio\n",
    "    bin_width = 1.0/bin_num\n",
    "    # bins = np.arange(0, 1.0001 + bin_width, bin_width)\n",
    "    bins = np.arange(0, 0.9001 + bin_width, bin_width)\n",
    "    df['inclusion_bin'] = pd.cut(df['target_equal_ratio'], bins=bins, include_lowest=True)\n",
    "\n",
    "    # Step 2: Group by bins and calculate ratio\n",
    "    grouped = df.groupby('inclusion_bin')\n",
    "    bin_centers = [interval.mid for interval in grouped.groups.keys()]\n",
    "\n",
    "    ratios = []\n",
    "    for bin_label, group in grouped:\n",
    "        total = len(group)\n",
    "        true_count = group[group['taxonomy_boolean'] == True].shape[0]\n",
    "        ratio = true_count / total if total > 0 else 0\n",
    "        ratios.append(ratio)\n",
    "\n",
    "\n",
    "    # Polynomial fit (linear)\n",
    "    N = 1\n",
    "    coeffs = np.polyfit(filtered_df['target_equal_ratio'], filtered_df[key2plot], deg=N)\n",
    "    poly_func = np.poly1d(coeffs)\n",
    "    x_smooth = np.linspace(filtered_df['target_equal_ratio'].min(), filtered_df['target_equal_ratio'].max(), 200)\n",
    "    y_smooth = poly_func(x_smooth)\n",
    "\n",
    "    # Plotly scatter plot\n",
    "    fig = px.scatter(\n",
    "        filtered_df,\n",
    "        x='target_equal_ratiotio',\n",
    "        y=key2plot,\n",
    "        hover_data=['source_uid', 'idx'],\n",
    "        labels={\n",
    "            'target_equal_ratiotiotio': 'Inclusion Ratio',\n",
    "            key2plot: 'Taxonomy Similarity'\n",
    "        },\n",
    "        title=f'Inclusion Ratio vs. {key2plot} (taxonomy_boolean={mybool}) {size2}/{size1}'\n",
    "    )\n",
    "\n",
    "    # Add polynomial fit line\n",
    "    fig.add_scatter(\n",
    "        x=x_smooth,\n",
    "        y=y_smooth,\n",
    "        mode='lines',\n",
    "        name=f'{N}° polynomial fit',\n",
    "        line=dict(color='red')\n",
    "    )\n",
    "\n",
    "    # Adjust axis and layout\n",
    "    fig.update_layout(\n",
    "        xaxis=dict(range=[-0.1, 1.1]),\n",
    "        yaxis=dict(range=[0, 1.1]),\n",
    "        height=600,\n",
    "        width=800\n",
    "    )\n",
    "\n",
    "    #===============================\n",
    "    #ratio of selection\n",
    "    #===============================\n",
    "    # Add ratio line trace with secondary y-axis\n",
    "    fig.add_trace(go.Scatter(\n",
    "        x=bin_centers,\n",
    "        y=ratios,\n",
    "        mode='lines+markers',\n",
    "        name='Ratio (mybool=True / all)',\n",
    "        line=dict(color='green', dash='dot'),\n",
    "        yaxis='y2'\n",
    "    ))\n",
    "\n",
    "    # Configure secondary y-axis\n",
    "    fig.update_layout(\n",
    "        yaxis2=dict(\n",
    "            title='Ratio',\n",
    "            overlaying='y',\n",
    "            side='right',\n",
    "            range=[0, 1.1]\n",
    "        )\n",
    "    )\n",
    "\n",
    "    fig.show()\n",
    "\n",
    "def plot_sequence_cursor_interactive2(df: pd.DataFrame, mybool: bool, key2plot: str, bin_num:int):\n",
    "    # df = df.dropna(subset=['target_equal_ratiotio', 'sequence_similarity_sbert', 'core_check_seq'])\n",
    "    filtered_df = df[df['core_check_seq'] == mybool]\n",
    "    size1 = df.shape[0]\n",
    "    size2 = filtered_df.shape[0]\n",
    "    print(size1, size2)\n",
    "\n",
    "    #===============================\n",
    "    #ratio of selection\n",
    "    #===============================\n",
    "    # Step 1: Bin the data by target_equal_ratiotio\n",
    "    bin_width = 1.0/bin_num\n",
    "    # bins = np.arange(0, 1.0001 + bin_width, bin_width)\n",
    "    bins = np.arange(0, 0.9001 + bin_width, bin_width)\n",
    "    df['inclusion_bin'] = pd.cut(df['target_equal_ratiotio'], bins=bins, include_lowest=True)\n",
    "\n",
    "    # Step 2: Group by bins and calculate ratio\n",
    "    grouped = df.groupby('inclusion_bin', observed=True)\n",
    "    bin_centers = [interval.mid for interval in grouped.groups.keys()]\n",
    "\n",
    "    ratios = []\n",
    "    for bin_label, group in grouped:\n",
    "        total = len(group)\n",
    "        true_count = group[group['core_check_seq'] == True].shape[0]\n",
    "        ratio = true_count / total if total > 0 else 0\n",
    "        ratios.append(ratio)\n",
    "\n",
    "\n",
    "\n",
    "    # Scatter plot with hover info\n",
    "    fig = px.scatter(\n",
    "        filtered_df,\n",
    "        x='target_equal_ratiotio',\n",
    "        y=key2plot,\n",
    "        hover_data=['idx','source_uid'],\n",
    "        labels={\n",
    "            'target_equal_ratio': 'Inclusion Ratio',\n",
    "            key2plot: key2plot,\n",
    "        },\n",
    "        title=f'Inclusion Ratio vs. {key2plot} (bool={mybool}) {size2}/{size1}',\n",
    "    )\n",
    "\n",
    "    fig.update_layout(\n",
    "        xaxis=dict(range=[-0.1, 1.1]),\n",
    "        yaxis=dict(range=[0, 1.1]),\n",
    "    )\n",
    "\n",
    "    #===============================\n",
    "    #ratio of selection\n",
    "    #===============================\n",
    "    # Add ratio line trace with secondary y-axis\n",
    "    fig.add_trace(go.Scatter(\n",
    "        x=bin_centers,\n",
    "        y=ratios,\n",
    "        mode='lines+markers',\n",
    "        name='Ratio (mybool=True / all)',\n",
    "        line=dict(color='green', dash='dot'),\n",
    "        yaxis='y2'\n",
    "    ))\n",
    "\n",
    "    # Configure secondary y-axis\n",
    "    fig.update_layout(\n",
    "        yaxis2=dict(\n",
    "            title='Ratio',\n",
    "            overlaying='y',\n",
    "            side='right',\n",
    "            range=[0, 1.1]\n",
    "        )\n",
    "    )\n",
    "\n",
    "    fig.update_layout(\n",
    "        title={\n",
    "            'text': f'Inclusion Ratio vs. {key2plot} (bool={mybool}) {size2}/{size1}',\n",
    "            'x': 0.5,  # Center title\n",
    "            'xanchor': 'center'\n",
    "        },\n",
    "        xaxis=dict(range=[-0.1, 1.1]),\n",
    "        yaxis=dict(range=[0, 1.1]),\n",
    "        width=700,   # Adjust width to be closer to height\n",
    "        height=700,  # Make height the same or slightly less/more\n",
    "    )    \n",
    "\n",
    "    fig.show()\n",
    "\n",
    "#taxonomy_similarity_sbert\n",
    "#taxonomy_weighted_similarity\n",
    "# plot_taxonomy_cursor_interactive(df_rag, False, True, 'taxonomy_similarity_sbert', 9)\n",
    "# plot_taxonomy_cursor_interactive(df_norag, False, True, 'taxonomy_similarity_sbert',9)\n",
    "# plot_taxonomy_cursor_interactive(df_rag, False, True, 'taxonomy_weighted_similarity', 9)\n",
    "# plot_taxonomy_cursor_interactive(df_norag, False, True, 'taxonomy_weighted_similarity',9)\n",
    "\n",
    "# plot_sequence_cursor_interactive(df_rag, True, 'sequence_similarity_sbert', 9)\n",
    "# plot_sequence_cursor_interactive(df_norag, True, 'sequence_similarity_sbert',9)\n",
    "# plot_sequence_cursor_interactive(df_raggoal, True, 'sequence_similarity_sbert', 9)\n",
    "# plot_sequence_cursor_interactive(df_noraggoal, True, 'sequence_similarity_sbert', 9)\n",
    "\n",
    "# plot_sequence_cursor_interactive(df_rag, True, 'sequence_dtw_similarity', 9)\n",
    "# plot_sequence_cursor_interactive(df_norag, True, 'sequence_dtw_similarity',9)\n",
    "# plot_sequence_cursor_interactive(df_raggoal, True, 'sequence_dtw_similarity', 9)\n",
    "# plot_sequence_cursor_interactive(df_noraggoal, True, 'sequence_dtw_similarity', 9)\n",
    "\n",
    "# plot_sequence_cursor_interactive2(df_eval_rag, True, 'sim_tax3', 5)\n",
    "# plot_sequence_cursor_interactive2(df_eval_norag, True, 'sim_tax3', 5)\n",
    "# plot_sequence_cursor_interactive2(df_eval_rag, True, 'sim_seq3', 5)\n",
    "# plot_sequence_cursor_interactive2(df_eval_norag, True, 'sim_seq3', 5)\n",
    "# plot_sequence_cursor_interactive2(df_eval_raggoal, True, 'sim_seq3', 5)\n",
    "# plot_sequence_cursor_interactive2(df_eval_noraggoal, True, 'sim_seq3', 5)\n",
    "\n",
    "\n",
    "#selection ratio plot\n",
    "#-------------------------------------\n",
    "#scene selection ratio vs selected ratio from baseline \n",
    "#------------------------------------\n",
    "def plot_single_selection_ratio_by_inclusion_bins(df_full, df_selected, num_bins=10):\n",
    "    \"\"\"\n",
    "    Plots the selection ratio per target_equal_ratio bin using Plotly.\n",
    "\n",
    "    Parameters:\n",
    "        df_full (pd.DataFrame): Full dataframe containing 'target_equal_ratio'.\n",
    "        df_selected (pd.DataFrame): Filtered dataframe, subset of df_full.\n",
    "        num_bins (int): Number of bins to divide the target_equal_ratio into (default: 10).\n",
    "    \"\"\"\n",
    "    assert 'target_equal_ratio' in df_full.columns and 'target_equal_ratio' in df_selected.columns, \\\n",
    "        \"Both dataframes must have an 'target_equal_ratio' column.\"\n",
    "\n",
    "    # Define bin edges\n",
    "    bins = np.linspace(0, 1.0, num_bins + 1)\n",
    "    bin_labels = [f\"{round(bins[i], 2)}–{round(bins[i+1], 2)}\" for i in range(len(bins)-1)]\n",
    "\n",
    "    # Assign bins\n",
    "    df_full = df_full.copy()\n",
    "    df_selected = df_selected.copy()\n",
    "    df_full['bin'] = pd.cut(df_full['target_equal_ratio'], bins=bins, labels=bin_labels, include_lowest=True)\n",
    "    df_selected['bin'] = pd.cut(df_selected['target_equal_ratio'], bins=bins, labels=bin_labels, include_lowest=True)\n",
    "\n",
    "    # Count entries in each bin\n",
    "    total_counts = df_full['bin'].value_counts().sort_index()\n",
    "    selected_counts = df_selected['bin'].value_counts().sort_index()\n",
    "\n",
    "    # Compute selection ratio\n",
    "    selection_ratio = (selected_counts / total_counts).fillna(0)\n",
    "\n",
    "    # Plot with Plotly\n",
    "    fig = go.Figure()\n",
    "    fig.add_trace(go.Bar(\n",
    "        x=selection_ratio.index.astype(str),\n",
    "        y=selection_ratio.values,\n",
    "        marker=dict(color='steelblue'),\n",
    "        name='Selection Ratio'\n",
    "    ))\n",
    "\n",
    "    fig.update_layout(\n",
    "        title=\"Selection Ratio vs. Inclusion Ratio\",\n",
    "        xaxis_title=\"Inclusion Ratio (Binned)\",\n",
    "        yaxis_title=\"Selection Ratio\",\n",
    "        yaxis=dict(range=[0, 1]),\n",
    "        width=900,\n",
    "        height=600,\n",
    "        bargap=0.1,\n",
    "    )\n",
    "\n",
    "    fig.show()\n",
    "\n",
    "# draw without barplot\n",
    "def plot_multiple_selection_vs_target_equal_ratio(data_pairs, bins=10, title_str=\"\"):\n",
    "    \"\"\"\n",
    "    Plots multiple selection vs. inclusion ratio lines in one graph.\n",
    "    Args:\n",
    "        data_pairs (list of tuples): Each tuple contains (df_total, df_selected, label).\n",
    "        bins (int): Number of bins for target_equal_ratio.\n",
    "    \"\"\"\n",
    "\n",
    "    # Create bins and labels\n",
    "    bin_edges = np.linspace(0, 1, bins + 1)\n",
    "    bin_centers = [(bin_edges[i] + bin_edges[i + 1]) / 2 for i in range(bins)]\n",
    "\n",
    "    # make a list of linecolor, markertype, and linetype\n",
    "    colors = ['blue', 'red', 'green', 'orange', 'purple', 'brown', 'teal', 'pink']\n",
    "    dash_styles = ['solid', 'dot', 'dash', 'longdash', 'dashdot', 'longdashdot']\n",
    "    marker_symbols = ['circle', 'square', 'diamond', 'cross', 'x', 'triangle-up']\n",
    "\n",
    "    fig = go.Figure()\n",
    "\n",
    "    for i, (df_total, df_selected, label) in enumerate(data_pairs):\n",
    "        # Bin the inclusion ratios\n",
    "        total_binned = pd.cut(df_total[\"target_equal_ratio\"], bins=bin_edges, include_lowest=True)\n",
    "        selected_binned = pd.cut(df_selected[\"target_equal_ratio\"], bins=bin_edges, include_lowest=True)\n",
    "\n",
    "        # Count per bin\n",
    "        total_counts = total_binned.value_counts(sort=False)\n",
    "        selected_counts = selected_binned.value_counts(sort=False)\n",
    "        # print(f\"bins num at {i} {selected_counts}\")\n",
    "\n",
    "        # Compute selection ratio\n",
    "        selection_ratio = (selected_counts / total_counts).fillna(0)\n",
    "\n",
    "        # Add line to plot\n",
    "        fig.add_trace(go.Scatter(\n",
    "            x=bin_centers,\n",
    "            y=selection_ratio.values,\n",
    "            mode='lines+markers',\n",
    "            name=label,\n",
    "            line=dict(color=colors[i % len(colors)], dash=dash_styles[i % len(dash_styles)]),\n",
    "            marker=dict(symbol=marker_symbols[i % len(marker_symbols)], size=8),            \n",
    "        ))\n",
    "\n",
    "    # Layout settings\n",
    "    fig.update_layout(\n",
    "        title=dict(\n",
    "        text=f\"Selection Ratio vs. Inclusion Ratio ({title_str})\",\n",
    "        x=0.5,  # Center the title\n",
    "        xanchor='center'  # Anchor the title at the center\n",
    "        ),\n",
    "        # title=f\"Selection Ratio vs. Inclusion Ratio ({title_str})\",\n",
    "        xaxis_title=\"Inclusion Ratio\",\n",
    "        yaxis_title=\"Selection Ratio\",\n",
    "        xaxis=dict(range=[0, 1]),\n",
    "        yaxis=dict(range=[0, 1]),\n",
    "        width=500,\n",
    "        height=500,\n",
    "        legend=dict(title=\"Legend\", x=0.01, y=0.99),\n",
    "    )\n",
    "\n",
    "    fig.show()\n",
    "\n",
    "\n",
    "# PLOT\n",
    "#-------------------------------------\n",
    "# 베이스라인이 similarity의 변화에 따라서 어느 정도의 수용성 그래프를 보이는지 그린다.(false/positive + positive/positive)\n",
    "# input (baselines, filtered_baselines, titlename)\n",
    "# x = target_equal_ratio\n",
    "# y = acceptance_rate per bin\n",
    "#-------------------------------------\n",
    "\n",
    "# plot_single_selection_ratio_by_inclusion_bins(df_eval_rag, efil3_both_rag, 8)\n",
    "# plot_single_selection_ratio_by_inclusion_bins(df_eval_norag, efil3_both_norag, 8)\n",
    "# plot_single_selection_ratio_by_inclusion_bins(df_eval_raggoal, efil3_raggoal, 8)\n",
    "# plot_single_selection_ratio_by_inclusion_bins(df_eval_noraggoal, efil3_noraggoal, 8)\n",
    "\n",
    "\n",
    "# plot_multiple_selection_vs_target_equal_ratio([\n",
    "#     # (df_eval_rag, efil1_both_rag, \"ours-(simple examiner)\"),\n",
    "#     # (df_eval_norag, efil1_both_norag, \"norag-(simple examiner)\"),\n",
    "#     # (df_eval_rag, efil2_both_rag, \"ours-(entity check examiner)\"),\n",
    "#     # (df_eval_norag, efil3_both_norag, \"norag-(entity check examiner)\"),\n",
    "#     (df_eval_rag, efil3_seq_rag, \"ours-(strict seq examiner)\"),\n",
    "#     (df_eval_norag, efil3_seq_norag, \"norag-(strict seq examiner)\"),    \n",
    "# ], bins=8, title_str='stric sequence binary examiner')\n",
    "\n",
    "# plot_multiple_selection_vs_target_equal_ratio([\n",
    "#     (df_eval_rag, efil1_both_rag, \"ours\"),\n",
    "#     (df_eval_norag, efil1_both_norag, \"base1 (no RAG)\"),\n",
    "# ], bins=8, title_str='simple evaluator')\n",
    "\n",
    "# plot_multiple_selection_vs_target_equal_ratio([\n",
    "#     (df_eval_rag, efil2_both_rag, \"ours\"),\n",
    "#     (df_eval_norag, efil2_both_norag, \"base1 (no RAG)\"),\n",
    "# ], bins=8, title_str='entity evaluator')\n",
    "\n",
    "# plot_multiple_selection_vs_target_equal_ratio([\n",
    "#     (df_eval_rag, efil3_both_rag, \"ours\"),\n",
    "#     (df_eval_norag, efil3_both_norag, \"base1 (no RAG)\"),\n",
    "# ], bins=8, title_str='strict evaluator')\n",
    "\n",
    "# plot_multiple_selection_vs_target_equal_ratio([\n",
    "#     (df_eval_raggoal, efil3_raggoal, \"base2 (no Taxonomy)\"),\n",
    "#     (df_eval_noraggoal, efil3_noraggoal, \"base3 (no Taxonomy, no RAG)\"),\n",
    "# ], bins=8, title_str='strict evaluator')\n",
    "\n",
    "\n"
   ]
  },
  {
   "cell_type": "code",
   "execution_count": null,
   "id": "c2db5759",
   "metadata": {},
   "outputs": [
    {
     "name": "stdout",
     "output_type": "stream",
     "text": [
      "=================================================\n",
      "SIMILARITY vs INCLUSION\n",
      "=================================================\n"
     ]
    },
    {
     "data": {
      "application/vnd.plotly.v1+json": {
       "config": {
        "plotlyServerURL": "https://plot.ly"
       },
       "data": [
        {
         "error_y": {
          "array": {
           "bdata": "FI1Bl/UHvD+UDx1VTe7CP3NbjnUFHb4/ndtuoS0HwT+mmJAha3nBPw==",
           "dtype": "f8"
          },
          "color": "blue",
          "type": "data",
          "visible": true
         },
         "line": {
          "color": "blue",
          "dash": "solid"
         },
         "marker": {
          "size": 8,
          "symbol": "circle"
         },
         "mode": "lines+markers",
         "name": "s2s",
         "type": "scatter",
         "x": [
          0.1,
          0.30000000000000004,
          0.5,
          0.7000000000000001,
          0.9
         ],
         "y": {
          "bdata": "denNQU6v4z/mSw3OYZzkP8Tma63Vguc/MYdxNGyq6D95nxVdN87pPw==",
          "dtype": "f8"
         }
        },
        {
         "error_y": {
          "array": {
           "bdata": "9OgL2vy0wD+U9HZtfy3EPwZhSh4n3cM/LqHk0IETxz+W6yjPJWLGPw==",
           "dtype": "f8"
          },
          "color": "red",
          "type": "data",
          "visible": true
         },
         "line": {
          "color": "red",
          "dash": "dot"
         },
         "marker": {
          "size": 8,
          "symbol": "square"
         },
         "mode": "lines+markers",
         "name": "sgs-norag",
         "type": "scatter",
         "x": [
          0.1,
          0.30000000000000004,
          0.5,
          0.7000000000000001,
          0.9
         ],
         "y": {
          "bdata": "aRf3qrVm4T/JdH+Kj3niP39LeAkBreQ/CcyfPQ9Z5T8BS/RHRI3mPw==",
          "dtype": "f8"
         }
        },
        {
         "error_y": {
          "array": {
           "bdata": "7aVbYXNTvj+c2F+0GEbBP1ukOsTgHsM/xBJHTOeHwz9lvPkSpwnGPw==",
           "dtype": "f8"
          },
          "color": "green",
          "type": "data",
          "visible": true
         },
         "line": {
          "color": "green",
          "dash": "dash"
         },
         "marker": {
          "size": 8,
          "symbol": "diamond"
         },
         "mode": "lines+markers",
         "name": "sgs-rag",
         "type": "scatter",
         "x": [
          0.1,
          0.30000000000000004,
          0.5,
          0.7000000000000001,
          0.9
         ],
         "y": {
          "bdata": "Eito1qgJ4T+cTUOYi2DhPxqDhcOnfuQ/+SvFQvIG5j80WO1HrPDlPw==",
          "dtype": "f8"
         }
        },
        {
         "error_y": {
          "array": {
           "bdata": "NJF0adcUvD9FCtnL2AnAP/Ls1tcMxsI/7IHcbQ8BxT/N8f2bGPPEPw==",
           "dtype": "f8"
          },
          "color": "orange",
          "type": "data",
          "visible": true
         },
         "line": {
          "color": "orange",
          "dash": "longdash"
         },
         "marker": {
          "size": 8,
          "symbol": "cross"
         },
         "mode": "lines+markers",
         "name": "sps-norag",
         "type": "scatter",
         "x": [
          0.1,
          0.30000000000000004,
          0.5,
          0.7000000000000001,
          0.9
         ],
         "y": {
          "bdata": "V/mbklbo3z+nQSEZXqffP/W2xjax3+A/U0ipOFsw5D9SIi4kKLHkPw==",
          "dtype": "f8"
         }
        },
        {
         "error_y": {
          "array": {
           "bdata": "glKN40BpvD+OjGFt8m3APyy2q8VzxcE/vjbKNaLQxD+QbY4akxXFPw==",
           "dtype": "f8"
          },
          "color": "black",
          "type": "data",
          "visible": true
         },
         "line": {
          "color": "black",
          "dash": "dash"
         },
         "marker": {
          "size": 8,
          "symbol": "circle"
         },
         "mode": "lines+markers",
         "name": "sps-rag",
         "type": "scatter",
         "x": [
          0.1,
          0.30000000000000004,
          0.5,
          0.7000000000000001,
          0.9
         ],
         "y": {
          "bdata": "3Z1FFzZo3T9VyQ7mwbTgP+KvAIOVWeI/2sR0ca2I4z+nhgc/fXXkPw==",
          "dtype": "f8"
         }
        }
       ],
       "layout": {
        "height": 500,
        "legend": {
         "title": {
          "text": "Legend"
         },
         "x": 0.01,
         "y": 0.05
        },
        "template": {
         "data": {
          "bar": [
           {
            "error_x": {
             "color": "#2a3f5f"
            },
            "error_y": {
             "color": "#2a3f5f"
            },
            "marker": {
             "line": {
              "color": "#E5ECF6",
              "width": 0.5
             },
             "pattern": {
              "fillmode": "overlay",
              "size": 10,
              "solidity": 0.2
             }
            },
            "type": "bar"
           }
          ],
          "barpolar": [
           {
            "marker": {
             "line": {
              "color": "#E5ECF6",
              "width": 0.5
             },
             "pattern": {
              "fillmode": "overlay",
              "size": 10,
              "solidity": 0.2
             }
            },
            "type": "barpolar"
           }
          ],
          "carpet": [
           {
            "aaxis": {
             "endlinecolor": "#2a3f5f",
             "gridcolor": "white",
             "linecolor": "white",
             "minorgridcolor": "white",
             "startlinecolor": "#2a3f5f"
            },
            "baxis": {
             "endlinecolor": "#2a3f5f",
             "gridcolor": "white",
             "linecolor": "white",
             "minorgridcolor": "white",
             "startlinecolor": "#2a3f5f"
            },
            "type": "carpet"
           }
          ],
          "choropleth": [
           {
            "colorbar": {
             "outlinewidth": 0,
             "ticks": ""
            },
            "type": "choropleth"
           }
          ],
          "contour": [
           {
            "colorbar": {
             "outlinewidth": 0,
             "ticks": ""
            },
            "colorscale": [
             [
              0,
              "#0d0887"
             ],
             [
              0.1111111111111111,
              "#46039f"
             ],
             [
              0.2222222222222222,
              "#7201a8"
             ],
             [
              0.3333333333333333,
              "#9c179e"
             ],
             [
              0.4444444444444444,
              "#bd3786"
             ],
             [
              0.5555555555555556,
              "#d8576b"
             ],
             [
              0.6666666666666666,
              "#ed7953"
             ],
             [
              0.7777777777777778,
              "#fb9f3a"
             ],
             [
              0.8888888888888888,
              "#fdca26"
             ],
             [
              1,
              "#f0f921"
             ]
            ],
            "type": "contour"
           }
          ],
          "contourcarpet": [
           {
            "colorbar": {
             "outlinewidth": 0,
             "ticks": ""
            },
            "type": "contourcarpet"
           }
          ],
          "heatmap": [
           {
            "colorbar": {
             "outlinewidth": 0,
             "ticks": ""
            },
            "colorscale": [
             [
              0,
              "#0d0887"
             ],
             [
              0.1111111111111111,
              "#46039f"
             ],
             [
              0.2222222222222222,
              "#7201a8"
             ],
             [
              0.3333333333333333,
              "#9c179e"
             ],
             [
              0.4444444444444444,
              "#bd3786"
             ],
             [
              0.5555555555555556,
              "#d8576b"
             ],
             [
              0.6666666666666666,
              "#ed7953"
             ],
             [
              0.7777777777777778,
              "#fb9f3a"
             ],
             [
              0.8888888888888888,
              "#fdca26"
             ],
             [
              1,
              "#f0f921"
             ]
            ],
            "type": "heatmap"
           }
          ],
          "histogram": [
           {
            "marker": {
             "pattern": {
              "fillmode": "overlay",
              "size": 10,
              "solidity": 0.2
             }
            },
            "type": "histogram"
           }
          ],
          "histogram2d": [
           {
            "colorbar": {
             "outlinewidth": 0,
             "ticks": ""
            },
            "colorscale": [
             [
              0,
              "#0d0887"
             ],
             [
              0.1111111111111111,
              "#46039f"
             ],
             [
              0.2222222222222222,
              "#7201a8"
             ],
             [
              0.3333333333333333,
              "#9c179e"
             ],
             [
              0.4444444444444444,
              "#bd3786"
             ],
             [
              0.5555555555555556,
              "#d8576b"
             ],
             [
              0.6666666666666666,
              "#ed7953"
             ],
             [
              0.7777777777777778,
              "#fb9f3a"
             ],
             [
              0.8888888888888888,
              "#fdca26"
             ],
             [
              1,
              "#f0f921"
             ]
            ],
            "type": "histogram2d"
           }
          ],
          "histogram2dcontour": [
           {
            "colorbar": {
             "outlinewidth": 0,
             "ticks": ""
            },
            "colorscale": [
             [
              0,
              "#0d0887"
             ],
             [
              0.1111111111111111,
              "#46039f"
             ],
             [
              0.2222222222222222,
              "#7201a8"
             ],
             [
              0.3333333333333333,
              "#9c179e"
             ],
             [
              0.4444444444444444,
              "#bd3786"
             ],
             [
              0.5555555555555556,
              "#d8576b"
             ],
             [
              0.6666666666666666,
              "#ed7953"
             ],
             [
              0.7777777777777778,
              "#fb9f3a"
             ],
             [
              0.8888888888888888,
              "#fdca26"
             ],
             [
              1,
              "#f0f921"
             ]
            ],
            "type": "histogram2dcontour"
           }
          ],
          "mesh3d": [
           {
            "colorbar": {
             "outlinewidth": 0,
             "ticks": ""
            },
            "type": "mesh3d"
           }
          ],
          "parcoords": [
           {
            "line": {
             "colorbar": {
              "outlinewidth": 0,
              "ticks": ""
             }
            },
            "type": "parcoords"
           }
          ],
          "pie": [
           {
            "automargin": true,
            "type": "pie"
           }
          ],
          "scatter": [
           {
            "fillpattern": {
             "fillmode": "overlay",
             "size": 10,
             "solidity": 0.2
            },
            "type": "scatter"
           }
          ],
          "scatter3d": [
           {
            "line": {
             "colorbar": {
              "outlinewidth": 0,
              "ticks": ""
             }
            },
            "marker": {
             "colorbar": {
              "outlinewidth": 0,
              "ticks": ""
             }
            },
            "type": "scatter3d"
           }
          ],
          "scattercarpet": [
           {
            "marker": {
             "colorbar": {
              "outlinewidth": 0,
              "ticks": ""
             }
            },
            "type": "scattercarpet"
           }
          ],
          "scattergeo": [
           {
            "marker": {
             "colorbar": {
              "outlinewidth": 0,
              "ticks": ""
             }
            },
            "type": "scattergeo"
           }
          ],
          "scattergl": [
           {
            "marker": {
             "colorbar": {
              "outlinewidth": 0,
              "ticks": ""
             }
            },
            "type": "scattergl"
           }
          ],
          "scattermap": [
           {
            "marker": {
             "colorbar": {
              "outlinewidth": 0,
              "ticks": ""
             }
            },
            "type": "scattermap"
           }
          ],
          "scattermapbox": [
           {
            "marker": {
             "colorbar": {
              "outlinewidth": 0,
              "ticks": ""
             }
            },
            "type": "scattermapbox"
           }
          ],
          "scatterpolar": [
           {
            "marker": {
             "colorbar": {
              "outlinewidth": 0,
              "ticks": ""
             }
            },
            "type": "scatterpolar"
           }
          ],
          "scatterpolargl": [
           {
            "marker": {
             "colorbar": {
              "outlinewidth": 0,
              "ticks": ""
             }
            },
            "type": "scatterpolargl"
           }
          ],
          "scatterternary": [
           {
            "marker": {
             "colorbar": {
              "outlinewidth": 0,
              "ticks": ""
             }
            },
            "type": "scatterternary"
           }
          ],
          "surface": [
           {
            "colorbar": {
             "outlinewidth": 0,
             "ticks": ""
            },
            "colorscale": [
             [
              0,
              "#0d0887"
             ],
             [
              0.1111111111111111,
              "#46039f"
             ],
             [
              0.2222222222222222,
              "#7201a8"
             ],
             [
              0.3333333333333333,
              "#9c179e"
             ],
             [
              0.4444444444444444,
              "#bd3786"
             ],
             [
              0.5555555555555556,
              "#d8576b"
             ],
             [
              0.6666666666666666,
              "#ed7953"
             ],
             [
              0.7777777777777778,
              "#fb9f3a"
             ],
             [
              0.8888888888888888,
              "#fdca26"
             ],
             [
              1,
              "#f0f921"
             ]
            ],
            "type": "surface"
           }
          ],
          "table": [
           {
            "cells": {
             "fill": {
              "color": "#EBF0F8"
             },
             "line": {
              "color": "white"
             }
            },
            "header": {
             "fill": {
              "color": "#C8D4E3"
             },
             "line": {
              "color": "white"
             }
            },
            "type": "table"
           }
          ]
         },
         "layout": {
          "annotationdefaults": {
           "arrowcolor": "#2a3f5f",
           "arrowhead": 0,
           "arrowwidth": 1
          },
          "autotypenumbers": "strict",
          "coloraxis": {
           "colorbar": {
            "outlinewidth": 0,
            "ticks": ""
           }
          },
          "colorscale": {
           "diverging": [
            [
             0,
             "#8e0152"
            ],
            [
             0.1,
             "#c51b7d"
            ],
            [
             0.2,
             "#de77ae"
            ],
            [
             0.3,
             "#f1b6da"
            ],
            [
             0.4,
             "#fde0ef"
            ],
            [
             0.5,
             "#f7f7f7"
            ],
            [
             0.6,
             "#e6f5d0"
            ],
            [
             0.7,
             "#b8e186"
            ],
            [
             0.8,
             "#7fbc41"
            ],
            [
             0.9,
             "#4d9221"
            ],
            [
             1,
             "#276419"
            ]
           ],
           "sequential": [
            [
             0,
             "#0d0887"
            ],
            [
             0.1111111111111111,
             "#46039f"
            ],
            [
             0.2222222222222222,
             "#7201a8"
            ],
            [
             0.3333333333333333,
             "#9c179e"
            ],
            [
             0.4444444444444444,
             "#bd3786"
            ],
            [
             0.5555555555555556,
             "#d8576b"
            ],
            [
             0.6666666666666666,
             "#ed7953"
            ],
            [
             0.7777777777777778,
             "#fb9f3a"
            ],
            [
             0.8888888888888888,
             "#fdca26"
            ],
            [
             1,
             "#f0f921"
            ]
           ],
           "sequentialminus": [
            [
             0,
             "#0d0887"
            ],
            [
             0.1111111111111111,
             "#46039f"
            ],
            [
             0.2222222222222222,
             "#7201a8"
            ],
            [
             0.3333333333333333,
             "#9c179e"
            ],
            [
             0.4444444444444444,
             "#bd3786"
            ],
            [
             0.5555555555555556,
             "#d8576b"
            ],
            [
             0.6666666666666666,
             "#ed7953"
            ],
            [
             0.7777777777777778,
             "#fb9f3a"
            ],
            [
             0.8888888888888888,
             "#fdca26"
            ],
            [
             1,
             "#f0f921"
            ]
           ]
          },
          "colorway": [
           "#636efa",
           "#EF553B",
           "#00cc96",
           "#ab63fa",
           "#FFA15A",
           "#19d3f3",
           "#FF6692",
           "#B6E880",
           "#FF97FF",
           "#FECB52"
          ],
          "font": {
           "color": "#2a3f5f"
          },
          "geo": {
           "bgcolor": "white",
           "lakecolor": "white",
           "landcolor": "#E5ECF6",
           "showlakes": true,
           "showland": true,
           "subunitcolor": "white"
          },
          "hoverlabel": {
           "align": "left"
          },
          "hovermode": "closest",
          "mapbox": {
           "style": "light"
          },
          "paper_bgcolor": "white",
          "plot_bgcolor": "#E5ECF6",
          "polar": {
           "angularaxis": {
            "gridcolor": "white",
            "linecolor": "white",
            "ticks": ""
           },
           "bgcolor": "#E5ECF6",
           "radialaxis": {
            "gridcolor": "white",
            "linecolor": "white",
            "ticks": ""
           }
          },
          "scene": {
           "xaxis": {
            "backgroundcolor": "#E5ECF6",
            "gridcolor": "white",
            "gridwidth": 2,
            "linecolor": "white",
            "showbackground": true,
            "ticks": "",
            "zerolinecolor": "white"
           },
           "yaxis": {
            "backgroundcolor": "#E5ECF6",
            "gridcolor": "white",
            "gridwidth": 2,
            "linecolor": "white",
            "showbackground": true,
            "ticks": "",
            "zerolinecolor": "white"
           },
           "zaxis": {
            "backgroundcolor": "#E5ECF6",
            "gridcolor": "white",
            "gridwidth": 2,
            "linecolor": "white",
            "showbackground": true,
            "ticks": "",
            "zerolinecolor": "white"
           }
          },
          "shapedefaults": {
           "line": {
            "color": "#2a3f5f"
           }
          },
          "ternary": {
           "aaxis": {
            "gridcolor": "white",
            "linecolor": "white",
            "ticks": ""
           },
           "baxis": {
            "gridcolor": "white",
            "linecolor": "white",
            "ticks": ""
           },
           "bgcolor": "#E5ECF6",
           "caxis": {
            "gridcolor": "white",
            "linecolor": "white",
            "ticks": ""
           }
          },
          "title": {
           "x": 0.05
          },
          "xaxis": {
           "automargin": true,
           "gridcolor": "white",
           "linecolor": "white",
           "ticks": "",
           "title": {
            "standoff": 15
           },
           "zerolinecolor": "white",
           "zerolinewidth": 2
          },
          "yaxis": {
           "automargin": true,
           "gridcolor": "white",
           "linecolor": "white",
           "ticks": "",
           "title": {
            "standoff": 15
           },
           "zerolinecolor": "white",
           "zerolinewidth": 2
          }
         }
        },
        "title": {
         "text": "Inclusion Ratio vs Taxonomy Weighted Similarity",
         "x": 0.5,
         "xanchor": "center"
        },
        "width": 600,
        "xaxis": {
         "range": [
          0,
          1
         ],
         "title": {
          "text": "Inclusion Ratio"
         }
        },
        "yaxis": {
         "range": [
          0,
          1
         ],
         "title": {
          "text": "Similarity (mean ± std)"
         }
        }
       }
      }
     },
     "metadata": {},
     "output_type": "display_data"
    },
    {
     "data": {
      "application/vnd.plotly.v1+json": {
       "config": {
        "plotlyServerURL": "https://plot.ly"
       },
       "data": [
        {
         "error_y": {
          "array": {
           "bdata": "NJF0adcUvD9FCtnL2AnAP/Ls1tcMxsI/7IHcbQ8BxT/N8f2bGPPEPw==",
           "dtype": "f8"
          },
          "color": "blue",
          "type": "data",
          "visible": true
         },
         "line": {
          "color": "blue",
          "dash": "solid"
         },
         "marker": {
          "size": 8,
          "symbol": "circle"
         },
         "mode": "lines+markers",
         "name": "sps-norag",
         "type": "scatter",
         "x": [
          0.1,
          0.30000000000000004,
          0.5,
          0.7000000000000001,
          0.9
         ],
         "y": {
          "bdata": "V/mbklbo3z+nQSEZXqffP/W2xjax3+A/U0ipOFsw5D9SIi4kKLHkPw==",
          "dtype": "f8"
         }
        },
        {
         "error_y": {
          "array": {
           "bdata": "glKN40BpvD+OjGFt8m3APyy2q8VzxcE/vjbKNaLQxD+QbY4akxXFPw==",
           "dtype": "f8"
          },
          "color": "red",
          "type": "data",
          "visible": true
         },
         "line": {
          "color": "red",
          "dash": "dot"
         },
         "marker": {
          "size": 8,
          "symbol": "square"
         },
         "mode": "lines+markers",
         "name": "sps-rag",
         "type": "scatter",
         "x": [
          0.1,
          0.30000000000000004,
          0.5,
          0.7000000000000001,
          0.9
         ],
         "y": {
          "bdata": "3Z1FFzZo3T9VyQ7mwbTgP+KvAIOVWeI/2sR0ca2I4z+nhgc/fXXkPw==",
          "dtype": "f8"
         }
        }
       ],
       "layout": {
        "height": 500,
        "legend": {
         "title": {
          "text": "Legend"
         },
         "x": 0.01,
         "y": 0.05
        },
        "template": {
         "data": {
          "bar": [
           {
            "error_x": {
             "color": "#2a3f5f"
            },
            "error_y": {
             "color": "#2a3f5f"
            },
            "marker": {
             "line": {
              "color": "#E5ECF6",
              "width": 0.5
             },
             "pattern": {
              "fillmode": "overlay",
              "size": 10,
              "solidity": 0.2
             }
            },
            "type": "bar"
           }
          ],
          "barpolar": [
           {
            "marker": {
             "line": {
              "color": "#E5ECF6",
              "width": 0.5
             },
             "pattern": {
              "fillmode": "overlay",
              "size": 10,
              "solidity": 0.2
             }
            },
            "type": "barpolar"
           }
          ],
          "carpet": [
           {
            "aaxis": {
             "endlinecolor": "#2a3f5f",
             "gridcolor": "white",
             "linecolor": "white",
             "minorgridcolor": "white",
             "startlinecolor": "#2a3f5f"
            },
            "baxis": {
             "endlinecolor": "#2a3f5f",
             "gridcolor": "white",
             "linecolor": "white",
             "minorgridcolor": "white",
             "startlinecolor": "#2a3f5f"
            },
            "type": "carpet"
           }
          ],
          "choropleth": [
           {
            "colorbar": {
             "outlinewidth": 0,
             "ticks": ""
            },
            "type": "choropleth"
           }
          ],
          "contour": [
           {
            "colorbar": {
             "outlinewidth": 0,
             "ticks": ""
            },
            "colorscale": [
             [
              0,
              "#0d0887"
             ],
             [
              0.1111111111111111,
              "#46039f"
             ],
             [
              0.2222222222222222,
              "#7201a8"
             ],
             [
              0.3333333333333333,
              "#9c179e"
             ],
             [
              0.4444444444444444,
              "#bd3786"
             ],
             [
              0.5555555555555556,
              "#d8576b"
             ],
             [
              0.6666666666666666,
              "#ed7953"
             ],
             [
              0.7777777777777778,
              "#fb9f3a"
             ],
             [
              0.8888888888888888,
              "#fdca26"
             ],
             [
              1,
              "#f0f921"
             ]
            ],
            "type": "contour"
           }
          ],
          "contourcarpet": [
           {
            "colorbar": {
             "outlinewidth": 0,
             "ticks": ""
            },
            "type": "contourcarpet"
           }
          ],
          "heatmap": [
           {
            "colorbar": {
             "outlinewidth": 0,
             "ticks": ""
            },
            "colorscale": [
             [
              0,
              "#0d0887"
             ],
             [
              0.1111111111111111,
              "#46039f"
             ],
             [
              0.2222222222222222,
              "#7201a8"
             ],
             [
              0.3333333333333333,
              "#9c179e"
             ],
             [
              0.4444444444444444,
              "#bd3786"
             ],
             [
              0.5555555555555556,
              "#d8576b"
             ],
             [
              0.6666666666666666,
              "#ed7953"
             ],
             [
              0.7777777777777778,
              "#fb9f3a"
             ],
             [
              0.8888888888888888,
              "#fdca26"
             ],
             [
              1,
              "#f0f921"
             ]
            ],
            "type": "heatmap"
           }
          ],
          "histogram": [
           {
            "marker": {
             "pattern": {
              "fillmode": "overlay",
              "size": 10,
              "solidity": 0.2
             }
            },
            "type": "histogram"
           }
          ],
          "histogram2d": [
           {
            "colorbar": {
             "outlinewidth": 0,
             "ticks": ""
            },
            "colorscale": [
             [
              0,
              "#0d0887"
             ],
             [
              0.1111111111111111,
              "#46039f"
             ],
             [
              0.2222222222222222,
              "#7201a8"
             ],
             [
              0.3333333333333333,
              "#9c179e"
             ],
             [
              0.4444444444444444,
              "#bd3786"
             ],
             [
              0.5555555555555556,
              "#d8576b"
             ],
             [
              0.6666666666666666,
              "#ed7953"
             ],
             [
              0.7777777777777778,
              "#fb9f3a"
             ],
             [
              0.8888888888888888,
              "#fdca26"
             ],
             [
              1,
              "#f0f921"
             ]
            ],
            "type": "histogram2d"
           }
          ],
          "histogram2dcontour": [
           {
            "colorbar": {
             "outlinewidth": 0,
             "ticks": ""
            },
            "colorscale": [
             [
              0,
              "#0d0887"
             ],
             [
              0.1111111111111111,
              "#46039f"
             ],
             [
              0.2222222222222222,
              "#7201a8"
             ],
             [
              0.3333333333333333,
              "#9c179e"
             ],
             [
              0.4444444444444444,
              "#bd3786"
             ],
             [
              0.5555555555555556,
              "#d8576b"
             ],
             [
              0.6666666666666666,
              "#ed7953"
             ],
             [
              0.7777777777777778,
              "#fb9f3a"
             ],
             [
              0.8888888888888888,
              "#fdca26"
             ],
             [
              1,
              "#f0f921"
             ]
            ],
            "type": "histogram2dcontour"
           }
          ],
          "mesh3d": [
           {
            "colorbar": {
             "outlinewidth": 0,
             "ticks": ""
            },
            "type": "mesh3d"
           }
          ],
          "parcoords": [
           {
            "line": {
             "colorbar": {
              "outlinewidth": 0,
              "ticks": ""
             }
            },
            "type": "parcoords"
           }
          ],
          "pie": [
           {
            "automargin": true,
            "type": "pie"
           }
          ],
          "scatter": [
           {
            "fillpattern": {
             "fillmode": "overlay",
             "size": 10,
             "solidity": 0.2
            },
            "type": "scatter"
           }
          ],
          "scatter3d": [
           {
            "line": {
             "colorbar": {
              "outlinewidth": 0,
              "ticks": ""
             }
            },
            "marker": {
             "colorbar": {
              "outlinewidth": 0,
              "ticks": ""
             }
            },
            "type": "scatter3d"
           }
          ],
          "scattercarpet": [
           {
            "marker": {
             "colorbar": {
              "outlinewidth": 0,
              "ticks": ""
             }
            },
            "type": "scattercarpet"
           }
          ],
          "scattergeo": [
           {
            "marker": {
             "colorbar": {
              "outlinewidth": 0,
              "ticks": ""
             }
            },
            "type": "scattergeo"
           }
          ],
          "scattergl": [
           {
            "marker": {
             "colorbar": {
              "outlinewidth": 0,
              "ticks": ""
             }
            },
            "type": "scattergl"
           }
          ],
          "scattermap": [
           {
            "marker": {
             "colorbar": {
              "outlinewidth": 0,
              "ticks": ""
             }
            },
            "type": "scattermap"
           }
          ],
          "scattermapbox": [
           {
            "marker": {
             "colorbar": {
              "outlinewidth": 0,
              "ticks": ""
             }
            },
            "type": "scattermapbox"
           }
          ],
          "scatterpolar": [
           {
            "marker": {
             "colorbar": {
              "outlinewidth": 0,
              "ticks": ""
             }
            },
            "type": "scatterpolar"
           }
          ],
          "scatterpolargl": [
           {
            "marker": {
             "colorbar": {
              "outlinewidth": 0,
              "ticks": ""
             }
            },
            "type": "scatterpolargl"
           }
          ],
          "scatterternary": [
           {
            "marker": {
             "colorbar": {
              "outlinewidth": 0,
              "ticks": ""
             }
            },
            "type": "scatterternary"
           }
          ],
          "surface": [
           {
            "colorbar": {
             "outlinewidth": 0,
             "ticks": ""
            },
            "colorscale": [
             [
              0,
              "#0d0887"
             ],
             [
              0.1111111111111111,
              "#46039f"
             ],
             [
              0.2222222222222222,
              "#7201a8"
             ],
             [
              0.3333333333333333,
              "#9c179e"
             ],
             [
              0.4444444444444444,
              "#bd3786"
             ],
             [
              0.5555555555555556,
              "#d8576b"
             ],
             [
              0.6666666666666666,
              "#ed7953"
             ],
             [
              0.7777777777777778,
              "#fb9f3a"
             ],
             [
              0.8888888888888888,
              "#fdca26"
             ],
             [
              1,
              "#f0f921"
             ]
            ],
            "type": "surface"
           }
          ],
          "table": [
           {
            "cells": {
             "fill": {
              "color": "#EBF0F8"
             },
             "line": {
              "color": "white"
             }
            },
            "header": {
             "fill": {
              "color": "#C8D4E3"
             },
             "line": {
              "color": "white"
             }
            },
            "type": "table"
           }
          ]
         },
         "layout": {
          "annotationdefaults": {
           "arrowcolor": "#2a3f5f",
           "arrowhead": 0,
           "arrowwidth": 1
          },
          "autotypenumbers": "strict",
          "coloraxis": {
           "colorbar": {
            "outlinewidth": 0,
            "ticks": ""
           }
          },
          "colorscale": {
           "diverging": [
            [
             0,
             "#8e0152"
            ],
            [
             0.1,
             "#c51b7d"
            ],
            [
             0.2,
             "#de77ae"
            ],
            [
             0.3,
             "#f1b6da"
            ],
            [
             0.4,
             "#fde0ef"
            ],
            [
             0.5,
             "#f7f7f7"
            ],
            [
             0.6,
             "#e6f5d0"
            ],
            [
             0.7,
             "#b8e186"
            ],
            [
             0.8,
             "#7fbc41"
            ],
            [
             0.9,
             "#4d9221"
            ],
            [
             1,
             "#276419"
            ]
           ],
           "sequential": [
            [
             0,
             "#0d0887"
            ],
            [
             0.1111111111111111,
             "#46039f"
            ],
            [
             0.2222222222222222,
             "#7201a8"
            ],
            [
             0.3333333333333333,
             "#9c179e"
            ],
            [
             0.4444444444444444,
             "#bd3786"
            ],
            [
             0.5555555555555556,
             "#d8576b"
            ],
            [
             0.6666666666666666,
             "#ed7953"
            ],
            [
             0.7777777777777778,
             "#fb9f3a"
            ],
            [
             0.8888888888888888,
             "#fdca26"
            ],
            [
             1,
             "#f0f921"
            ]
           ],
           "sequentialminus": [
            [
             0,
             "#0d0887"
            ],
            [
             0.1111111111111111,
             "#46039f"
            ],
            [
             0.2222222222222222,
             "#7201a8"
            ],
            [
             0.3333333333333333,
             "#9c179e"
            ],
            [
             0.4444444444444444,
             "#bd3786"
            ],
            [
             0.5555555555555556,
             "#d8576b"
            ],
            [
             0.6666666666666666,
             "#ed7953"
            ],
            [
             0.7777777777777778,
             "#fb9f3a"
            ],
            [
             0.8888888888888888,
             "#fdca26"
            ],
            [
             1,
             "#f0f921"
            ]
           ]
          },
          "colorway": [
           "#636efa",
           "#EF553B",
           "#00cc96",
           "#ab63fa",
           "#FFA15A",
           "#19d3f3",
           "#FF6692",
           "#B6E880",
           "#FF97FF",
           "#FECB52"
          ],
          "font": {
           "color": "#2a3f5f"
          },
          "geo": {
           "bgcolor": "white",
           "lakecolor": "white",
           "landcolor": "#E5ECF6",
           "showlakes": true,
           "showland": true,
           "subunitcolor": "white"
          },
          "hoverlabel": {
           "align": "left"
          },
          "hovermode": "closest",
          "mapbox": {
           "style": "light"
          },
          "paper_bgcolor": "white",
          "plot_bgcolor": "#E5ECF6",
          "polar": {
           "angularaxis": {
            "gridcolor": "white",
            "linecolor": "white",
            "ticks": ""
           },
           "bgcolor": "#E5ECF6",
           "radialaxis": {
            "gridcolor": "white",
            "linecolor": "white",
            "ticks": ""
           }
          },
          "scene": {
           "xaxis": {
            "backgroundcolor": "#E5ECF6",
            "gridcolor": "white",
            "gridwidth": 2,
            "linecolor": "white",
            "showbackground": true,
            "ticks": "",
            "zerolinecolor": "white"
           },
           "yaxis": {
            "backgroundcolor": "#E5ECF6",
            "gridcolor": "white",
            "gridwidth": 2,
            "linecolor": "white",
            "showbackground": true,
            "ticks": "",
            "zerolinecolor": "white"
           },
           "zaxis": {
            "backgroundcolor": "#E5ECF6",
            "gridcolor": "white",
            "gridwidth": 2,
            "linecolor": "white",
            "showbackground": true,
            "ticks": "",
            "zerolinecolor": "white"
           }
          },
          "shapedefaults": {
           "line": {
            "color": "#2a3f5f"
           }
          },
          "ternary": {
           "aaxis": {
            "gridcolor": "white",
            "linecolor": "white",
            "ticks": ""
           },
           "baxis": {
            "gridcolor": "white",
            "linecolor": "white",
            "ticks": ""
           },
           "bgcolor": "#E5ECF6",
           "caxis": {
            "gridcolor": "white",
            "linecolor": "white",
            "ticks": ""
           }
          },
          "title": {
           "x": 0.05
          },
          "xaxis": {
           "automargin": true,
           "gridcolor": "white",
           "linecolor": "white",
           "ticks": "",
           "title": {
            "standoff": 15
           },
           "zerolinecolor": "white",
           "zerolinewidth": 2
          },
          "yaxis": {
           "automargin": true,
           "gridcolor": "white",
           "linecolor": "white",
           "ticks": "",
           "title": {
            "standoff": 15
           },
           "zerolinecolor": "white",
           "zerolinewidth": 2
          }
         }
        },
        "title": {
         "text": "Inclusion Ratio vs Taxonomy Weighted Similarity",
         "x": 0.5,
         "xanchor": "center"
        },
        "width": 600,
        "xaxis": {
         "range": [
          0,
          1
         ],
         "title": {
          "text": "Inclusion Ratio"
         }
        },
        "yaxis": {
         "range": [
          0,
          1
         ],
         "title": {
          "text": "Similarity (mean ± std)"
         }
        }
       }
      }
     },
     "metadata": {},
     "output_type": "display_data"
    }
   ],
   "source": [
    "#------------------------------------------------\n",
    "# Q0: Selection Ratios\n",
    "#------------------------------------------------\n",
    "\n",
    "\n",
    "# THIS IS FUNCTION WITHOUT ERROR BAR\n",
    "# plot_multiple_selection_vs_target_equal_ratio([\n",
    "#     (df_eval_rag, efil3_human_rag2, \"ours-humaneval\"),\n",
    "#     (df_eval_rag, efil3_both_rag2, \"ours-strict\"),\n",
    "#     (df_eval_norag, efil3_human_norag2, \"norag-humaneval\"),\n",
    "#     (df_eval_norag, efil3_both_norag2, \"norag-strict\"),\n",
    "# ], bins=5, title_str='strict evaluator')\n",
    "\n",
    "# plot_multiple_selection_vs_target_equal_ratio([\n",
    "#     (df_eval_rag, efil3_human_rag, \"ours-humaneval\"),\n",
    "#     (df_eval_rag, efil3_both_rag, \"ours-strict\"),\n",
    "#     (df_eval_norag, efil3_human_norag, \"norag-humaneval\"),\n",
    "#     (df_eval_norag, efil3_both_norag, \"norag-strict\"),\n",
    "# ], bins=5, title_str='strict evaluator')\n",
    "\n",
    "# plot_multiple_selection_vs_target_equal_ratio([\n",
    "#     (df_eval_rag, efil3_human_rag, \"ours-human\"),\n",
    "#     (df_eval_norag, efil3_both_rag, \"ours-strict\"),\n",
    "# ], bins=5, title_str='strict evaluator')\n",
    "\n",
    "# plot_multiple_selection_vs_target_equal_ratio([\n",
    "#     (df_eval_rag, efil3_human_norag, \"baseline1-human\"),\n",
    "#     (df_eval_norag, efil3_both_norag, \"baseline1-strict\"),\n",
    "# ], bins=5, title_str='strict evaluator')\n",
    "\n",
    "# plot_multiple_selection_vs_target_equal_ratio([\n",
    "#     (df_eval_raggoal, efil3_human_raggoal, \"baseline2-human\"),\n",
    "#     (df_eval_raggoal, efil3_raggoal, \"baseline2-strict\"),\n",
    "# ], bins=5, title_str='strict evaluator')\n",
    "\n",
    "# plot_multiple_selection_vs_target_equal_ratio([\n",
    "#     (df_eval_noraggoal, efil3_human_noraggoal, \"baseline3-human\"),\n",
    "#     (df_eval_noraggoal, efil3_noraggoal, \"baseline3-strict\"),\n",
    "# ], bins=5, title_str='strict evaluator')\n",
    "\n",
    "# draw with barplot\n",
    "def plot_similarity_vs_inclusion(data_pairs, bins=10, title_str=\"\", column_name=\"\"):\n",
    "    \"\"\"\n",
    "    Plots similarity (mean ± std) vs. inclusion ratio for multiple (df_selected, label) pairs.\n",
    "    \n",
    "    Args:\n",
    "        data_pairs (list of tuples): Each tuple contains (df_selected, label). df_selected must contain 'target_equal_ratio' and 'similarity'.\n",
    "        bins (int): Number of bins for target_equal_ratio.\n",
    "        title_str (str): Title for the plot.\n",
    "    \"\"\"\n",
    "    bin_edges = np.linspace(0, 1, bins + 1)\n",
    "    bin_centers = [(bin_edges[i] + bin_edges[i + 1]) / 2 for i in range(bins)]\n",
    "\n",
    "    colors = ['blue', 'red', 'green', 'orange', 'purple', 'brown', 'teal', 'pink']\n",
    "    dash_styles = ['solid', 'dot', 'dash', 'longdash', 'dashdot', 'longdashdot']\n",
    "    marker_symbols = ['circle', 'square', 'diamond', 'cross', 'x', 'triangle-up']\n",
    "\n",
    "    fig = go.Figure()\n",
    "\n",
    "    for i, (df_selected, label) in enumerate(data_pairs):\n",
    "        # Bin data\n",
    "        selected_binned = pd.cut(df_selected[\"target_equal_ratio\"], bins=bin_edges, include_lowest=True)\n",
    "        mean_similarity = df_selected.groupby(selected_binned, observed=True)[column_name].mean()\n",
    "        std_similarity = df_selected.groupby(selected_binned, observed=True)[column_name].std().fillna(0)\n",
    "\n",
    "        # Count how many samples are in each bin\n",
    "        counts = df_selected.groupby(selected_binned, observed=True).size()\n",
    "        print(f\"Counts per bin for {label}:\")\n",
    "        print(counts)\n",
    "\n",
    "\n",
    "        # Add mean line with error bars (sticks)\n",
    "        fig.add_trace(go.Scatter(\n",
    "            x=bin_centers,\n",
    "            y=mean_similarity.values,\n",
    "            mode='lines+markers',\n",
    "            name=label,\n",
    "            line=dict(color=colors[i % len(colors)], dash=dash_styles[i % len(dash_styles)]),\n",
    "            marker=dict(symbol=marker_symbols[i % len(marker_symbols)], size=8),\n",
    "            error_y=dict(\n",
    "                type='data',\n",
    "                array=std_similarity.values,\n",
    "                visible=True,\n",
    "                color=colors[i % len(colors)]\n",
    "            )\n",
    "        ))\n",
    "\n",
    "    fig.update_layout(\n",
    "        title=dict(\n",
    "        text=f\"{title_str}\",\n",
    "        x=0.5,  # Center the title\n",
    "        xanchor='center'  # Anchor the title at the center\n",
    "        ),\n",
    "        xaxis_title=\"Inclusion Ratio\",\n",
    "        yaxis_title=\"Similarity (mean ± std)\",\n",
    "        xaxis=dict(range=[0.0, 1]),\n",
    "        yaxis=dict(range=[0, 1]),\n",
    "        width=600,\n",
    "        height=500,\n",
    "        legend=dict(title=\"Legend\", x=0.01, y=0.05),\n",
    "    )\n",
    "\n",
    "    fig.show()\n",
    "\n",
    "def plot_similarity_vs_inclusion_trimmed(data_pairs, bins=5, title_str=\"\", column_name=\"\"):\n",
    "    import numpy as np\n",
    "    import pandas as pd\n",
    "    import plotly.graph_objects as go\n",
    "\n",
    "    bin_edges = np.linspace(0.2, 1.0, bins + 1)  # Start at 0.2 instead of 0.0\n",
    "    bin_edges = np.linspace(0.0, 1.0, bins + 1)  # Start at 0.2 instead of 0.0\n",
    "    bin_centers = [(bin_edges[i] + bin_edges[i + 1]) / 2 for i in range(bins)]\n",
    "\n",
    "    colors = ['blue', 'red', 'green', 'orange', 'black']\n",
    "    dash_styles = ['solid', 'dot', 'dash', 'longdash', 'dash']\n",
    "    marker_symbols = ['circle', 'square', 'diamond', 'cross']\n",
    "\n",
    "    fig = go.Figure()\n",
    "\n",
    "    for i, (df_selected, label) in enumerate(data_pairs):\n",
    "        selected_binned = pd.cut(df_selected[\"target_equal_ratio\"], bins=bin_edges, include_lowest=True)\n",
    "        mean_similarity = df_selected.groupby(selected_binned, observed=True)[column_name].mean()\n",
    "        std_similarity = df_selected.groupby(selected_binned, observed=True)[column_name].std().fillna(0)\n",
    "\n",
    "        fig.add_trace(go.Scatter(\n",
    "            x=bin_centers,\n",
    "            y=mean_similarity.values,\n",
    "            mode='lines+markers',\n",
    "            name=label,\n",
    "            line=dict(color=colors[i % len(colors)], dash=dash_styles[i % len(dash_styles)]),\n",
    "            marker=dict(symbol=marker_symbols[i % len(marker_symbols)], size=8),\n",
    "            error_y=dict(\n",
    "                type='data',\n",
    "                array=std_similarity.values,\n",
    "                visible=True,\n",
    "                color=colors[i % len(colors)]\n",
    "            )\n",
    "        ))\n",
    "\n",
    "    fig.update_layout(\n",
    "        title=dict(\n",
    "            text=f\"{title_str}\",\n",
    "            x=0.5,\n",
    "            xanchor='center'\n",
    "        ),\n",
    "        xaxis_title=\"Inclusion Ratio\",\n",
    "        yaxis_title=\"Similarity (mean ± std)\",\n",
    "        xaxis=dict(range=[0, 1.0]),\n",
    "        yaxis=dict(range=[0, 1]),\n",
    "        width=600,\n",
    "        height=500,\n",
    "        legend=dict(title=\"Legend\", x=0.01, y=0.05),\n",
    "    )\n",
    "\n",
    "    fig.show()\n",
    "\n",
    "def compute_bin_stats(df, column_name, start=0.0, stop=1.0, bins=5):\n",
    "    # Step 1: Define bin edges\n",
    "    bin_edges = np.linspace(start, stop, bins + 1)\n",
    "    df['bin'] = pd.cut(df['target_equal_ratio'], bins=bin_edges, include_lowest=True)\n",
    "\n",
    "    # Step 2: Compute per-bin stats\n",
    "    bin_stats = df.groupby('bin', observed=True)[column_name].agg(['mean', 'std', 'count']).reset_index()\n",
    "\n",
    "    # Step 3: Overall stats\n",
    "    overall_mean = df[column_name].mean()\n",
    "    overall_std = df[column_name].std()\n",
    "    overall_count = len(df)\n",
    "\n",
    "    print(\"\\n🔹 Per-bin stats:\")\n",
    "    print(bin_stats)\n",
    "\n",
    "    print(f\"\\n🔸 Overall stats:\\nMean = {overall_mean:.3f}, Std = {overall_std:.3f}, Count = {overall_count}\")\n",
    "    \n",
    "    return bin_stats, overall_mean, overall_std\n",
    "\n",
    "print(\"=================================================\")\n",
    "print(\"SIMILARITY vs INCLUSION\")\n",
    "print(\"=================================================\")\n",
    "#------------------------------------------------\n",
    "# Q1: Similarity for EACH BASELINES under Human PASS/FAIL\n",
    "#------------------------------------------------\n",
    "# PLOT Similarities of SELECTED VALUES in each bin\n",
    "# Remove first-bin data (e.g., 0–0.2 if 5 bins)\n",
    "filtered_data_pairs = []\n",
    "for df, label in [\n",
    "    (yield_0, \"s2s\"),\n",
    "    (yield_1_1, \"sgs-norag\"),\n",
    "    (yield_1_2, \"sgs-rag\"),\n",
    "    (yield_2_1_p1, \"sps-norag\"),\n",
    "    (yield_2_2_p1, \"sps-rag\"),\n",
    "]:\n",
    "    # df_filtered = df[df['target_equal_ratio'] > 0.2]  # adjust based on actual bin edges\n",
    "    # filtered_data_pairs.append((df_filtered, label))\n",
    "    filtered_data_pairs.append((df, label))\n",
    "\n",
    "plot_similarity_vs_inclusion_trimmed(\n",
    "    filtered_data_pairs,\n",
    "    title_str=\"Inclusion Ratio vs Taxonomy Weighted Similarity\",\n",
    "    bins=5,\n",
    "    column_name='dtw_similarity'\n",
    ")\n",
    "\n",
    "\n",
    "\n",
    "filtered_data_pairs = []\n",
    "for df, label in [\n",
    "    (yield_2_1_p1, \"sps-norag\"),\n",
    "    (yield_2_2_p1, \"sps-rag\"),\n",
    "]:\n",
    "    # df_filtered = df[df['target_equal_ratio'] > 0.2]  # adjust based on actual bin edges\n",
    "    # filtered_data_pairs.append((df_filtered, label))\n",
    "    filtered_data_pairs.append((df, label))\n",
    "\n",
    "plot_similarity_vs_inclusion_trimmed(\n",
    "    filtered_data_pairs,\n",
    "    title_str=\"Inclusion Ratio vs Taxonomy Weighted Similarity\",\n",
    "    bins=5,\n",
    "    column_name='dtw_similarity'\n",
    ")\n",
    "\n",
    "\n",
    "\n",
    "# filtered_data_pairs2 = []\n",
    "# for df, label in [\n",
    "#     (efil3_raggoal, \"goal-med-rag\"),\n",
    "#     (efil3_noraggoal, \"goal-med-norag\")\n",
    "# ]:\n",
    "#     df_filtered = df[df['target_equal_ratio'] > 0.2]  # adjust based on actual bin edges\n",
    "#     filtered_data_pairs2.append((df_filtered, label))\n",
    "\n",
    "# plot_similarity_vs_inclusion_trimmed(\n",
    "#     filtered_data_pairs2,\n",
    "#     title_str=\"Inclusion Ratio vs Sequence Similarity (DTW)\",\n",
    "#     bins=4, column_name='sim_seq3'\n",
    "#     )\n",
    "\n",
    "# # similarity between taxonomy\n",
    "# compute_bin_stats(efil3_human_rag, column_name='sim_tax3', start=0.2, stop=1.0, bins=4)\n",
    "# compute_bin_stats(efil3_human_norag, column_name='sim_tax3', start=0.2, stop=1.0, bins=4)\n",
    "\n",
    "# # similarity between sequences\n",
    "# compute_bin_stats(efil3_human_seq_rag, column_name='sim_seq3', start=0.2, stop=1.0, bins=4)\n",
    "# compute_bin_stats(efil3_human_seq_norag, column_name='sim_seq3', start=0.2, stop=1.0, bins=4)\n",
    "# compute_bin_stats(efil3_human_raggoal, column_name='sim_seq3', start=0.2, stop=1.0, bins=4)\n",
    "# compute_bin_stats(efil3_human_noraggoal, column_name='sim_seq3', start=0.2, stop=1.0, bins=4)"
   ]
  },
  {
   "cell_type": "code",
   "execution_count": null,
   "id": "024af0a8",
   "metadata": {},
   "outputs": [
    {
     "name": "stdout",
     "output_type": "stream",
     "text": [
      "    idx           baseline                            source_uid  \\\n",
      "13   13  /output-rag-0602/  1a894d3c-b3ef-448a-a3de-2b38677cef36   \n",
      "15   15  /output-rag-0602/  1dc85adb-fbdd-4275-b9cf-42976acb4d14   \n",
      "16   16  /output-rag-0602/  1dc85adb-fbdd-4275-b9cf-42976acb4d14   \n",
      "24   24  /output-rag-0602/  2978ddbc-cdc9-4bfa-9a7c-4bf056904010   \n",
      "25   25  /output-rag-0602/  2978ddbc-cdc9-4bfa-9a7c-4bf056904010   \n",
      "26   26  /output-rag-0602/  2978ddbc-cdc9-4bfa-9a7c-4bf056904010   \n",
      "29   29  /output-rag-0602/  29e00040-6e0f-4f0e-816d-1ac97c1e5485   \n",
      "30   30  /output-rag-0602/  2ba0becb-58c2-43a1-97bb-7e153a34eb47   \n",
      "31   31  /output-rag-0602/  2ba0becb-58c2-43a1-97bb-7e153a34eb47   \n",
      "35   35  /output-rag-0602/  2bc7d6fa-a02e-4367-b316-d6b4e8a2ce3f   \n",
      "36   36  /output-rag-0602/  2c27b5f1-4af6-49ad-a43c-3efb0c150868   \n",
      "37   37  /output-rag-0602/  2c27b5f1-4af6-49ad-a43c-3efb0c150868   \n",
      "38   38  /output-rag-0602/  2c27b5f1-4af6-49ad-a43c-3efb0c150868   \n",
      "42   42  /output-rag-0602/  2f46d1e6-2a85-4d46-b955-10c2eded661c   \n",
      "43   43  /output-rag-0602/  2f46d1e6-2a85-4d46-b955-10c2eded661c   \n",
      "44   44  /output-rag-0602/  2f46d1e6-2a85-4d46-b955-10c2eded661c   \n",
      "60   60  /output-rag-0602/  38a7b760-56f9-4565-8b70-f8dad5768ace   \n",
      "61   61  /output-rag-0602/  38a7b760-56f9-4565-8b70-f8dad5768ace   \n",
      "62   62  /output-rag-0602/  38a7b760-56f9-4565-8b70-f8dad5768ace   \n",
      "64   64  /output-rag-0602/  3ec3eab7-842d-409d-8866-42ddcbd24cd9   \n",
      "\n",
      "                              target_uid  \\\n",
      "13  2f46d1e6-2a85-4d46-b955-10c2eded661c   \n",
      "15  31d6fe77-da70-42da-8f47-66bb79b9285b   \n",
      "16  31d6fe77-da70-42da-8f47-66bb79b9285b   \n",
      "24  35080724-6604-401c-8b06-19b7cece3d45   \n",
      "25  35080724-6604-401c-8b06-19b7cece3d45   \n",
      "26  35080724-6604-401c-8b06-19b7cece3d45   \n",
      "29  3728f856-0d47-4614-824f-37b6dda8e357   \n",
      "30  38a7b760-56f9-4565-8b70-f8dad5768ace   \n",
      "31  38a7b760-56f9-4565-8b70-f8dad5768ace   \n",
      "35  3ec3eab7-842d-409d-8866-42ddcbd24cd9   \n",
      "36  46e07357-6946-4ff0-ba36-ae11840bdc39   \n",
      "37  46e07357-6946-4ff0-ba36-ae11840bdc39   \n",
      "38  46e07357-6946-4ff0-ba36-ae11840bdc39   \n",
      "42  487d752c-6e22-43e3-9c08-627bc2a6c6d4   \n",
      "43  487d752c-6e22-43e3-9c08-627bc2a6c6d4   \n",
      "44  487d752c-6e22-43e3-9c08-627bc2a6c6d4   \n",
      "60  5c15607b-96af-4503-84b4-d1745f3a3ae0   \n",
      "61  5c15607b-96af-4503-84b4-d1745f3a3ae0   \n",
      "62  5c15607b-96af-4503-84b4-d1745f3a3ae0   \n",
      "64  5c2e910c-84e0-4042-b5d6-880a731c3e67   \n",
      "\n",
      "                                      target_taxonomy  \\\n",
      "13  {\"main ingredient\": \"dough\", \"liquid\": \"juice\"...   \n",
      "15  {\"main ingredient\": \"pepper\", \"secondary ingre...   \n",
      "16  {\"main ingredient\": \"pepper\", \"secondary ingre...   \n",
      "24  {\"main ingredient\": \"meat\", \"preparation metho...   \n",
      "25  {\"main ingredient\": \"meat\", \"preparation metho...   \n",
      "26  {\"main ingredient\": \"meat\", \"preparation metho...   \n",
      "29  {\"main ingredient\": \"noodles\", \"cooking method...   \n",
      "30  {\"main ingredient\": \"avocado\", \"preparation me...   \n",
      "31  {\"main ingredient\": \"avocado\", \"preparation me...   \n",
      "35  {\"main ingredient\": \"flatbread\", \"preparation ...   \n",
      "36  {\"main ingredient\": \"bell pepper\", \"liquid\": \"...   \n",
      "37  {\"main ingredient\": \"bell pepper\", \"preparatio...   \n",
      "38  {\"main ingredient\": \"bell pepper\", \"preparatio...   \n",
      "42  {\"main ingredient\": \"potato\", \"preparation met...   \n",
      "43  {\"main ingredient\": \"potato\", \"preparation met...   \n",
      "44  {\"main ingredient\": \"potato\", \"preparation met...   \n",
      "60  {\"main ingredient\": \"potato\", \"preparation met...   \n",
      "61  {\"main ingredient\": \"potato\", \"preparation met...   \n",
      "62  {\"main ingredient\": \"potato\", \"cooking method\"...   \n",
      "64  {\"main ingredient\": \"nut\", \"cooking method\": \"...   \n",
      "\n",
      "                                      target_sequence       core_activity  \\\n",
      "13  [\"Place dough in dough mixer.\", \"Pour juice in...       prepare dough   \n",
      "15  [\"Retrieve knife from table\", \"Place pepper on...  cutting vegetables   \n",
      "16  [\"Pick up knife\", \"Pick up pepper\", \"Place pep...      cut vegetables   \n",
      "24  [\"Open refrigerator\", \"Take out meat\", \"Place ...        prepare meat   \n",
      "25  [\"Pick up meat from table\", \"Place meat on tab...        prepare meat   \n",
      "26  [\"Select fresh meat from table or refrigerator...        prepare meat   \n",
      "29  [\"Pick up pot\", \"Place pot on stove\", \"Pick up...        boil noodles   \n",
      "30  [\"Pick up avocado from refrigerator\", \"Place a...     prepare avocado   \n",
      "31  [\"Select avocado\", \"Place avocado on chopping ...     prepare avocado   \n",
      "35  [\"pick up pan\", \"pour oil into pan\", \"place pa...       fry flatbread   \n",
      "36  [\"Open refrigerator\", \"Take out bell pepper\", ...     blending pepper   \n",
      "37  [\"Take bell pepper from fridge\", \"Slice bell p...        blend pepper   \n",
      "38  [\"Pick up bell pepper (33)\", \"Wash bell pepper...        blend pepper   \n",
      "42  [\"pick up knife\", \"pick up potato\", \"place pot...         mash potato   \n",
      "43  [\"take potato from table or refrigerator\", \"pl...         mash potato   \n",
      "44  [\"pick up potato\", \"place potato in pan\", \"pla...         mash potato   \n",
      "60  [\"player picks up potato\", \"player opens pot\",...         bake potato   \n",
      "61  [\"pick up potato\", \"place potato in pan\", \"pla...         bake potato   \n",
      "62  [\"Pick up potato\", \"Place potato in oven\", \"Ba...         bake potato   \n",
      "64  [\"turn nuts in pan\", \"strain oil from fried nu...      frying a snack   \n",
      "\n",
      "    entity_check_tax  entity_check_seq  sim_tax1  ...  sim_seq3  \\\n",
      "13              True              True  0.756019  ...  0.577408   \n",
      "15              True              True  0.888057  ...  0.592011   \n",
      "16              True              True  1.000000  ...  0.643955   \n",
      "24              True              True  0.860114  ...  0.320774   \n",
      "25              True              True  0.861086  ...  0.398810   \n",
      "26              True              True  0.805166  ...  0.392667   \n",
      "29              True              True  0.700000  ...  0.442250   \n",
      "30              True              True  0.700000  ...  0.563784   \n",
      "31              True              True  0.700000  ...  0.558014   \n",
      "35              True              True  0.965988  ...  0.644787   \n",
      "36              True              True  1.000000  ...  0.357595   \n",
      "37              True              True  0.910093  ...  0.511785   \n",
      "38              True              True  0.957583  ...  0.474869   \n",
      "42              True              True  0.715320  ...  0.465193   \n",
      "43              True              True  0.842892  ...  0.438480   \n",
      "44              True              True  0.790673  ...  0.472470   \n",
      "60              True              True  0.796970  ...  0.414778   \n",
      "61              True              True  0.845309  ...  0.549338   \n",
      "62              True              True  0.900000  ...  0.685608   \n",
      "64              True              True  0.568289  ...  0.621887   \n",
      "\n",
      "    core_check_tax  core_check_seq  human_check_tax  human_check_seq  \\\n",
      "13            True            True             True             True   \n",
      "15            True            True             True             True   \n",
      "16            True            True             True             True   \n",
      "24            True            True             True             True   \n",
      "25            True            True             True             True   \n",
      "26            True            True             True             True   \n",
      "29            True            True             True             True   \n",
      "30            True            True             True             True   \n",
      "31            True            True             True             True   \n",
      "35            True            True             True             True   \n",
      "36            True            True             True             True   \n",
      "37            True            True             True             True   \n",
      "38            True            True             True             True   \n",
      "42            True            True             True             True   \n",
      "43            True            True             True             True   \n",
      "44            True            True             True             True   \n",
      "60            True            True             True             True   \n",
      "61            True            True             True             True   \n",
      "62            True            True             True             True   \n",
      "64            True            True             True             True   \n",
      "\n",
      "            filename                                          filepath  \\\n",
      "13  evaluator_13.pkl  ../../v6_result/output-rag-0602\\evaluator_13.pkl   \n",
      "15  evaluator_15.pkl  ../../v6_result/output-rag-0602\\evaluator_15.pkl   \n",
      "16  evaluator_16.pkl  ../../v6_result/output-rag-0602\\evaluator_16.pkl   \n",
      "24  evaluator_24.pkl  ../../v6_result/output-rag-0602\\evaluator_24.pkl   \n",
      "25  evaluator_25.pkl  ../../v6_result/output-rag-0602\\evaluator_25.pkl   \n",
      "26  evaluator_26.pkl  ../../v6_result/output-rag-0602\\evaluator_26.pkl   \n",
      "29  evaluator_29.pkl  ../../v6_result/output-rag-0602\\evaluator_29.pkl   \n",
      "30  evaluator_30.pkl  ../../v6_result/output-rag-0602\\evaluator_30.pkl   \n",
      "31  evaluator_31.pkl  ../../v6_result/output-rag-0602\\evaluator_31.pkl   \n",
      "35  evaluator_35.pkl  ../../v6_result/output-rag-0602\\evaluator_35.pkl   \n",
      "36  evaluator_36.pkl  ../../v6_result/output-rag-0602\\evaluator_36.pkl   \n",
      "37  evaluator_37.pkl  ../../v6_result/output-rag-0602\\evaluator_37.pkl   \n",
      "38  evaluator_38.pkl  ../../v6_result/output-rag-0602\\evaluator_38.pkl   \n",
      "42  evaluator_42.pkl  ../../v6_result/output-rag-0602\\evaluator_42.pkl   \n",
      "43  evaluator_43.pkl  ../../v6_result/output-rag-0602\\evaluator_43.pkl   \n",
      "44  evaluator_44.pkl  ../../v6_result/output-rag-0602\\evaluator_44.pkl   \n",
      "60  evaluator_60.pkl  ../../v6_result/output-rag-0602\\evaluator_60.pkl   \n",
      "61  evaluator_61.pkl  ../../v6_result/output-rag-0602\\evaluator_61.pkl   \n",
      "62  evaluator_62.pkl  ../../v6_result/output-rag-0602\\evaluator_62.pkl   \n",
      "64  evaluator_64.pkl  ../../v6_result/output-rag-0602\\evaluator_64.pkl   \n",
      "\n",
      "    extracted_baseline  inclusion_ratio inclusion_bin  \n",
      "13                             0.560000    (0.4, 0.6]  \n",
      "15                             0.900000    (0.8, 1.0]  \n",
      "16                             1.000000    (0.8, 1.0]  \n",
      "24                             0.600000    (0.4, 0.6]  \n",
      "25                             0.800000    (0.6, 0.8]  \n",
      "26                             0.900000    (0.8, 1.0]  \n",
      "29                             0.700000    (0.6, 0.8]  \n",
      "30                             0.531250    (0.4, 0.6]  \n",
      "31                             0.625000    (0.6, 0.8]  \n",
      "35                             1.000000    (0.8, 1.0]  \n",
      "36                             0.360000    (0.2, 0.4]  \n",
      "37                             0.480000    (0.4, 0.6]  \n",
      "38                             0.560000    (0.4, 0.6]  \n",
      "42                             0.652174    (0.6, 0.8]  \n",
      "43                             0.652174    (0.6, 0.8]  \n",
      "44                             0.695652    (0.6, 0.8]  \n",
      "60                             0.666667    (0.6, 0.8]  \n",
      "61                             0.666667    (0.6, 0.8]  \n",
      "62                             1.000000    (0.8, 1.0]  \n",
      "64                             0.500000    (0.4, 0.6]  \n",
      "\n",
      "[20 rows x 24 columns]\n",
      "    idx           baseline                            source_uid  \\\n",
      "0     0  /output-rag-0602/  01ce4fd6-197a-4792-8778-775b03780369   \n",
      "1     1  /output-rag-0602/  01ce4fd6-197a-4792-8778-775b03780369   \n",
      "2     2  /output-rag-0602/  01ce4fd6-197a-4792-8778-775b03780369   \n",
      "3     3  /output-rag-0602/  026dac2d-2ab3-4f9c-9e1d-6198db4fb080   \n",
      "4     4  /output-rag-0602/  026dac2d-2ab3-4f9c-9e1d-6198db4fb080   \n",
      "5     5  /output-rag-0602/  026dac2d-2ab3-4f9c-9e1d-6198db4fb080   \n",
      "6     6  /output-rag-0602/  02a06bf1-51b8-4902-b088-573e29fcd7ec   \n",
      "7     7  /output-rag-0602/  02a06bf1-51b8-4902-b088-573e29fcd7ec   \n",
      "8     8  /output-rag-0602/  02a06bf1-51b8-4902-b088-573e29fcd7ec   \n",
      "9     9  /output-rag-0602/  14bcb17c-f70a-41d5-b10d-294388084dfc   \n",
      "10   10  /output-rag-0602/  14bcb17c-f70a-41d5-b10d-294388084dfc   \n",
      "11   11  /output-rag-0602/  14bcb17c-f70a-41d5-b10d-294388084dfc   \n",
      "12   12  /output-rag-0602/  1a894d3c-b3ef-448a-a3de-2b38677cef36   \n",
      "14   14  /output-rag-0602/  1a894d3c-b3ef-448a-a3de-2b38677cef36   \n",
      "17   17  /output-rag-0602/  1dc85adb-fbdd-4275-b9cf-42976acb4d14   \n",
      "18   18  /output-rag-0602/  24ba7993-7fc8-4447-afd5-7ff6d548b11a   \n",
      "19   19  /output-rag-0602/  24ba7993-7fc8-4447-afd5-7ff6d548b11a   \n",
      "20   20  /output-rag-0602/  24ba7993-7fc8-4447-afd5-7ff6d548b11a   \n",
      "21   21  /output-rag-0602/  28e0affc-cacb-4db8-ab32-dfc16931b86a   \n",
      "22   22  /output-rag-0602/  28e0affc-cacb-4db8-ab32-dfc16931b86a   \n",
      "\n",
      "                              target_uid  \\\n",
      "0   2ba0becb-58c2-43a1-97bb-7e153a34eb47   \n",
      "1   2ba0becb-58c2-43a1-97bb-7e153a34eb47   \n",
      "2   2ba0becb-58c2-43a1-97bb-7e153a34eb47   \n",
      "3   2bc7d6fa-a02e-4367-b316-d6b4e8a2ce3f   \n",
      "4   2bc7d6fa-a02e-4367-b316-d6b4e8a2ce3f   \n",
      "5   2bc7d6fa-a02e-4367-b316-d6b4e8a2ce3f   \n",
      "6   2c27b5f1-4af6-49ad-a43c-3efb0c150868   \n",
      "7   2c27b5f1-4af6-49ad-a43c-3efb0c150868   \n",
      "8   2c27b5f1-4af6-49ad-a43c-3efb0c150868   \n",
      "9   2da5c1ee-bd40-406d-83a7-2f3d93293949   \n",
      "10  2da5c1ee-bd40-406d-83a7-2f3d93293949   \n",
      "11  2da5c1ee-bd40-406d-83a7-2f3d93293949   \n",
      "12  2f46d1e6-2a85-4d46-b955-10c2eded661c   \n",
      "14  2f46d1e6-2a85-4d46-b955-10c2eded661c   \n",
      "17  31d6fe77-da70-42da-8f47-66bb79b9285b   \n",
      "18  321b5e21-2951-40c9-a2f9-6ce0c145cfb8   \n",
      "19  321b5e21-2951-40c9-a2f9-6ce0c145cfb8   \n",
      "20  321b5e21-2951-40c9-a2f9-6ce0c145cfb8   \n",
      "21  341b5211-bb72-4bec-bd3d-c0d518887960   \n",
      "22  341b5211-bb72-4bec-bd3d-c0d518887960   \n",
      "\n",
      "                                      target_taxonomy  \\\n",
      "0   {\"main item\": \"impossible\", \"organization meth...   \n",
      "1   {\"main item\": \"towel\", \"arrangement method\": \"...   \n",
      "2   {\"main item\": \"towel\", \"organization method\": ...   \n",
      "3   {\"main ingredient\": \"steak\", \"oil\": \"impossibl...   \n",
      "4   {\"main activity\": \"seasoning steak\", \"steps\": ...   \n",
      "5   {\"main ingredient\": \"steak\", \"oil\": \"oil\", \"se...   \n",
      "6   {\"main ingredient\": \"bell pepper\", \"processing...   \n",
      "7   {\"activity\": \"shelling\", \"category\": \"preparat...   \n",
      "8   {\"main ingredient\": \"corn\", \"processing method...   \n",
      "9   {\"main ingredient\": \"impossible\", \"preparation...   \n",
      "10  {\"main ingredient\": \"garlic\", \"preparation met...   \n",
      "11  {\"main ingredient\": \"garlic\", \"preparation met...   \n",
      "12  {\"main ingredient\": \"impossible\", \"liquid\": \"j...   \n",
      "14  {\"main ingredient\": \"impossible\", \"liquid\": \"i...   \n",
      "17  {\"main ingredient\": \"pepper\", \"variety\": \"empt...   \n",
      "18  {\"main ingredient\": \"bread\", \"filling\": \"impos...   \n",
      "19  {\"main ingredient\": \"bread\", \"filling\": \"empty...   \n",
      "20  {\"main ingredient\": \"bread\", \"filling\": \"empty...   \n",
      "21  {\"main ingredient\": \"impossible\", \"preparation...   \n",
      "22  {\"main ingredient\": \"impossible\", \"preparation...   \n",
      "\n",
      "                                      target_sequence     core_activity  \\\n",
      "0                                                  []  organize laundry   \n",
      "1   [\"Arrange towel\", \"Arrange towel\", \"Arrange to...     arrange cloth   \n",
      "2   [\"Arrange towel\", \"Arrange towel\", \"Arrange to...  organize laundry   \n",
      "3                                                  []      season steak   \n",
      "4   [\"pick up steak\", \"rub steak\", \"rub steak\", \"r...   seasoning steak   \n",
      "5   [\"select steak\", \"open refrigerator\", \"take oi...      season steak   \n",
      "6   [\"player picks up bell pepper\", \"player moves ...        shell corn   \n",
      "7   [\"open refrigerator\", \"take corn from refriger...        shell corn   \n",
      "8   [\"go to refrigerator\", \"open refrigerator\", \"t...        shell corn   \n",
      "9                                                  []       peel garlic   \n",
      "10  [\"Take garlic from refrigerator\", \"Place garli...    peeling garlic   \n",
      "11                  [\"Peel off outer skin of garlic\"]       peel garlic   \n",
      "12  [\"Open the kitchen drawer.\", \"Take the cup (wi...        make dough   \n",
      "14  [\"Open kitchen drawer.\", \"Take cup from drawer...        make dough   \n",
      "17  [\"Slice pepper\", \"Slice onion\", \"Slice pepper\"...    slicing pepper   \n",
      "18                           [\"slice bread into two\"]     make sandwich   \n",
      "19  [\"take two pieces of bread\", \"take grapes\", \"r...     make sandwich   \n",
      "20  [\"take two slices of bread\", \"open refrigerato...     make sandwich   \n",
      "21                          [\"player turns on stove\"]          heat oil   \n",
      "22                                  [\"Turn on stove\"]          heat oil   \n",
      "\n",
      "    entity_check_tax  entity_check_seq  sim_tax1  ...  sim_seq3  \\\n",
      "0               True              True  0.000000  ...  0.000000   \n",
      "1               True              True  0.492757  ...  0.617376   \n",
      "2               True              True  0.499899  ...  0.637829   \n",
      "3              False              True  0.500000  ...  0.000000   \n",
      "4              False              True  0.000000  ...  0.648668   \n",
      "5              False              True  0.700000  ...  0.530379   \n",
      "6               True              True  0.444556  ...  0.272645   \n",
      "7               True              True  0.000000  ...  0.494348   \n",
      "8              False              True  0.838195  ...  0.348027   \n",
      "9              False              True  0.000000  ...  0.000000   \n",
      "10             False              True  0.772552  ...  0.717406   \n",
      "11             False              True  0.800000  ...  0.825671   \n",
      "12             False              True  0.253308  ...  0.339217   \n",
      "14             False              True  0.300000  ...  0.439010   \n",
      "17              True              True  0.800000  ...  0.898761   \n",
      "18             False              True  0.500000  ...  0.487465   \n",
      "19              True              True  0.600000  ...  0.549502   \n",
      "20              True             False  0.600000  ...  0.702610   \n",
      "21             False              True  0.387245  ...  0.345745   \n",
      "22             False              True  0.387245  ...  0.490860   \n",
      "\n",
      "    core_check_tax  core_check_seq  human_check_tax  human_check_seq  \\\n",
      "0            False           False            False            False   \n",
      "1             True           False             True             True   \n",
      "2            False            True             True             True   \n",
      "3             True           False             True            False   \n",
      "4             True           False            False            False   \n",
      "5             True           False             True             True   \n",
      "6            False           False            False            False   \n",
      "7             True            True             True             True   \n",
      "8             True            True             True             True   \n",
      "9            False           False            False            False   \n",
      "10            True            True             True             True   \n",
      "11            True            True             True             True   \n",
      "12           False            True            False             True   \n",
      "14           False           False             True             True   \n",
      "17            True           False             True             True   \n",
      "18            True           False             True             True   \n",
      "19           False           False             True             True   \n",
      "20           False            True             True             True   \n",
      "21           False           False             True             True   \n",
      "22           False           False             True             True   \n",
      "\n",
      "            filename                                          filepath  \\\n",
      "0    evaluator_0.pkl   ../../v6_result/output-rag-0602\\evaluator_0.pkl   \n",
      "1    evaluator_1.pkl   ../../v6_result/output-rag-0602\\evaluator_1.pkl   \n",
      "2    evaluator_2.pkl   ../../v6_result/output-rag-0602\\evaluator_2.pkl   \n",
      "3    evaluator_3.pkl   ../../v6_result/output-rag-0602\\evaluator_3.pkl   \n",
      "4    evaluator_4.pkl   ../../v6_result/output-rag-0602\\evaluator_4.pkl   \n",
      "5    evaluator_5.pkl   ../../v6_result/output-rag-0602\\evaluator_5.pkl   \n",
      "6    evaluator_6.pkl   ../../v6_result/output-rag-0602\\evaluator_6.pkl   \n",
      "7    evaluator_7.pkl   ../../v6_result/output-rag-0602\\evaluator_7.pkl   \n",
      "8    evaluator_8.pkl   ../../v6_result/output-rag-0602\\evaluator_8.pkl   \n",
      "9    evaluator_9.pkl   ../../v6_result/output-rag-0602\\evaluator_9.pkl   \n",
      "10  evaluator_10.pkl  ../../v6_result/output-rag-0602\\evaluator_10.pkl   \n",
      "11  evaluator_11.pkl  ../../v6_result/output-rag-0602\\evaluator_11.pkl   \n",
      "12  evaluator_12.pkl  ../../v6_result/output-rag-0602\\evaluator_12.pkl   \n",
      "14  evaluator_14.pkl  ../../v6_result/output-rag-0602\\evaluator_14.pkl   \n",
      "17  evaluator_17.pkl  ../../v6_result/output-rag-0602\\evaluator_17.pkl   \n",
      "18  evaluator_18.pkl  ../../v6_result/output-rag-0602\\evaluator_18.pkl   \n",
      "19  evaluator_19.pkl  ../../v6_result/output-rag-0602\\evaluator_19.pkl   \n",
      "20  evaluator_20.pkl  ../../v6_result/output-rag-0602\\evaluator_20.pkl   \n",
      "21  evaluator_21.pkl  ../../v6_result/output-rag-0602\\evaluator_21.pkl   \n",
      "22  evaluator_22.pkl  ../../v6_result/output-rag-0602\\evaluator_22.pkl   \n",
      "\n",
      "    extracted_baseline  inclusion_ratio  inclusion_bin  \n",
      "0                              0.000000  (-0.001, 0.2]  \n",
      "1                              0.333333     (0.2, 0.4]  \n",
      "2                              0.333333     (0.2, 0.4]  \n",
      "3                              0.888889     (0.8, 1.0]  \n",
      "4                              0.888889     (0.8, 1.0]  \n",
      "5                              1.000000     (0.8, 1.0]  \n",
      "6                              0.333333     (0.2, 0.4]  \n",
      "7                              0.666667     (0.6, 0.8]  \n",
      "8                              0.666667     (0.6, 0.8]  \n",
      "9                              0.333333     (0.2, 0.4]  \n",
      "10                             1.000000     (0.8, 1.0]  \n",
      "11                             1.000000     (0.8, 1.0]  \n",
      "12                             0.400000     (0.2, 0.4]  \n",
      "14                             0.600000     (0.4, 0.6]  \n",
      "17                             1.000000     (0.8, 1.0]  \n",
      "18                             0.750000     (0.6, 0.8]  \n",
      "19                             0.875000     (0.8, 1.0]  \n",
      "20                             0.875000     (0.8, 1.0]  \n",
      "21                             0.000000  (-0.001, 0.2]  \n",
      "22                             0.000000  (-0.001, 0.2]  \n",
      "\n",
      "[20 rows x 24 columns]\n",
      "109\n",
      "104\n",
      "89\n",
      "124\n",
      "Final total: 213\n",
      "TP: 87 | TN: 22 | FP: 102 | FN: 2\n"
     ]
    },
    {
     "data": {
      "application/vnd.plotly.v1+json": {
       "config": {
        "plotlyServerURL": "https://plot.ly"
       },
       "data": [
        {
         "insidetextanchor": "middle",
         "marker": {
          "color": "green"
         },
         "name": "TP",
         "text": [
          "40.8%"
         ],
         "textfont": {
          "color": "white",
          "size": 12
         },
         "textposition": "inside",
         "type": "bar",
         "x": [
          "-0.0–1.0"
         ],
         "y": {
          "bdata": "Vw==",
          "dtype": "i1"
         }
        },
        {
         "insidetextanchor": "middle",
         "marker": {
          "color": "gray"
         },
         "name": "TN",
         "text": [
          "10.3%"
         ],
         "textfont": {
          "color": "white",
          "size": 12
         },
         "textposition": "inside",
         "type": "bar",
         "x": [
          "-0.0–1.0"
         ],
         "y": {
          "bdata": "Fg==",
          "dtype": "i1"
         }
        },
        {
         "insidetextanchor": "middle",
         "marker": {
          "color": "red"
         },
         "name": "FP",
         "text": [
          "47.9%"
         ],
         "textfont": {
          "color": "white",
          "size": 12
         },
         "textposition": "inside",
         "type": "bar",
         "x": [
          "-0.0–1.0"
         ],
         "y": {
          "bdata": "Zg==",
          "dtype": "i1"
         }
        },
        {
         "insidetextanchor": "middle",
         "marker": {
          "color": "black"
         },
         "name": "FN",
         "text": [
          "0.9%"
         ],
         "textfont": {
          "color": "white",
          "size": 12
         },
         "textposition": "inside",
         "type": "bar",
         "x": [
          "-0.0–1.0"
         ],
         "y": {
          "bdata": "Ag==",
          "dtype": "i1"
         }
        }
       ],
       "layout": {
        "bargap": 0.4,
        "barmode": "stack",
        "height": 500,
        "template": {
         "data": {
          "bar": [
           {
            "error_x": {
             "color": "#2a3f5f"
            },
            "error_y": {
             "color": "#2a3f5f"
            },
            "marker": {
             "line": {
              "color": "#E5ECF6",
              "width": 0.5
             },
             "pattern": {
              "fillmode": "overlay",
              "size": 10,
              "solidity": 0.2
             }
            },
            "type": "bar"
           }
          ],
          "barpolar": [
           {
            "marker": {
             "line": {
              "color": "#E5ECF6",
              "width": 0.5
             },
             "pattern": {
              "fillmode": "overlay",
              "size": 10,
              "solidity": 0.2
             }
            },
            "type": "barpolar"
           }
          ],
          "carpet": [
           {
            "aaxis": {
             "endlinecolor": "#2a3f5f",
             "gridcolor": "white",
             "linecolor": "white",
             "minorgridcolor": "white",
             "startlinecolor": "#2a3f5f"
            },
            "baxis": {
             "endlinecolor": "#2a3f5f",
             "gridcolor": "white",
             "linecolor": "white",
             "minorgridcolor": "white",
             "startlinecolor": "#2a3f5f"
            },
            "type": "carpet"
           }
          ],
          "choropleth": [
           {
            "colorbar": {
             "outlinewidth": 0,
             "ticks": ""
            },
            "type": "choropleth"
           }
          ],
          "contour": [
           {
            "colorbar": {
             "outlinewidth": 0,
             "ticks": ""
            },
            "colorscale": [
             [
              0,
              "#0d0887"
             ],
             [
              0.1111111111111111,
              "#46039f"
             ],
             [
              0.2222222222222222,
              "#7201a8"
             ],
             [
              0.3333333333333333,
              "#9c179e"
             ],
             [
              0.4444444444444444,
              "#bd3786"
             ],
             [
              0.5555555555555556,
              "#d8576b"
             ],
             [
              0.6666666666666666,
              "#ed7953"
             ],
             [
              0.7777777777777778,
              "#fb9f3a"
             ],
             [
              0.8888888888888888,
              "#fdca26"
             ],
             [
              1,
              "#f0f921"
             ]
            ],
            "type": "contour"
           }
          ],
          "contourcarpet": [
           {
            "colorbar": {
             "outlinewidth": 0,
             "ticks": ""
            },
            "type": "contourcarpet"
           }
          ],
          "heatmap": [
           {
            "colorbar": {
             "outlinewidth": 0,
             "ticks": ""
            },
            "colorscale": [
             [
              0,
              "#0d0887"
             ],
             [
              0.1111111111111111,
              "#46039f"
             ],
             [
              0.2222222222222222,
              "#7201a8"
             ],
             [
              0.3333333333333333,
              "#9c179e"
             ],
             [
              0.4444444444444444,
              "#bd3786"
             ],
             [
              0.5555555555555556,
              "#d8576b"
             ],
             [
              0.6666666666666666,
              "#ed7953"
             ],
             [
              0.7777777777777778,
              "#fb9f3a"
             ],
             [
              0.8888888888888888,
              "#fdca26"
             ],
             [
              1,
              "#f0f921"
             ]
            ],
            "type": "heatmap"
           }
          ],
          "histogram": [
           {
            "marker": {
             "pattern": {
              "fillmode": "overlay",
              "size": 10,
              "solidity": 0.2
             }
            },
            "type": "histogram"
           }
          ],
          "histogram2d": [
           {
            "colorbar": {
             "outlinewidth": 0,
             "ticks": ""
            },
            "colorscale": [
             [
              0,
              "#0d0887"
             ],
             [
              0.1111111111111111,
              "#46039f"
             ],
             [
              0.2222222222222222,
              "#7201a8"
             ],
             [
              0.3333333333333333,
              "#9c179e"
             ],
             [
              0.4444444444444444,
              "#bd3786"
             ],
             [
              0.5555555555555556,
              "#d8576b"
             ],
             [
              0.6666666666666666,
              "#ed7953"
             ],
             [
              0.7777777777777778,
              "#fb9f3a"
             ],
             [
              0.8888888888888888,
              "#fdca26"
             ],
             [
              1,
              "#f0f921"
             ]
            ],
            "type": "histogram2d"
           }
          ],
          "histogram2dcontour": [
           {
            "colorbar": {
             "outlinewidth": 0,
             "ticks": ""
            },
            "colorscale": [
             [
              0,
              "#0d0887"
             ],
             [
              0.1111111111111111,
              "#46039f"
             ],
             [
              0.2222222222222222,
              "#7201a8"
             ],
             [
              0.3333333333333333,
              "#9c179e"
             ],
             [
              0.4444444444444444,
              "#bd3786"
             ],
             [
              0.5555555555555556,
              "#d8576b"
             ],
             [
              0.6666666666666666,
              "#ed7953"
             ],
             [
              0.7777777777777778,
              "#fb9f3a"
             ],
             [
              0.8888888888888888,
              "#fdca26"
             ],
             [
              1,
              "#f0f921"
             ]
            ],
            "type": "histogram2dcontour"
           }
          ],
          "mesh3d": [
           {
            "colorbar": {
             "outlinewidth": 0,
             "ticks": ""
            },
            "type": "mesh3d"
           }
          ],
          "parcoords": [
           {
            "line": {
             "colorbar": {
              "outlinewidth": 0,
              "ticks": ""
             }
            },
            "type": "parcoords"
           }
          ],
          "pie": [
           {
            "automargin": true,
            "type": "pie"
           }
          ],
          "scatter": [
           {
            "fillpattern": {
             "fillmode": "overlay",
             "size": 10,
             "solidity": 0.2
            },
            "type": "scatter"
           }
          ],
          "scatter3d": [
           {
            "line": {
             "colorbar": {
              "outlinewidth": 0,
              "ticks": ""
             }
            },
            "marker": {
             "colorbar": {
              "outlinewidth": 0,
              "ticks": ""
             }
            },
            "type": "scatter3d"
           }
          ],
          "scattercarpet": [
           {
            "marker": {
             "colorbar": {
              "outlinewidth": 0,
              "ticks": ""
             }
            },
            "type": "scattercarpet"
           }
          ],
          "scattergeo": [
           {
            "marker": {
             "colorbar": {
              "outlinewidth": 0,
              "ticks": ""
             }
            },
            "type": "scattergeo"
           }
          ],
          "scattergl": [
           {
            "marker": {
             "colorbar": {
              "outlinewidth": 0,
              "ticks": ""
             }
            },
            "type": "scattergl"
           }
          ],
          "scattermap": [
           {
            "marker": {
             "colorbar": {
              "outlinewidth": 0,
              "ticks": ""
             }
            },
            "type": "scattermap"
           }
          ],
          "scattermapbox": [
           {
            "marker": {
             "colorbar": {
              "outlinewidth": 0,
              "ticks": ""
             }
            },
            "type": "scattermapbox"
           }
          ],
          "scatterpolar": [
           {
            "marker": {
             "colorbar": {
              "outlinewidth": 0,
              "ticks": ""
             }
            },
            "type": "scatterpolar"
           }
          ],
          "scatterpolargl": [
           {
            "marker": {
             "colorbar": {
              "outlinewidth": 0,
              "ticks": ""
             }
            },
            "type": "scatterpolargl"
           }
          ],
          "scatterternary": [
           {
            "marker": {
             "colorbar": {
              "outlinewidth": 0,
              "ticks": ""
             }
            },
            "type": "scatterternary"
           }
          ],
          "surface": [
           {
            "colorbar": {
             "outlinewidth": 0,
             "ticks": ""
            },
            "colorscale": [
             [
              0,
              "#0d0887"
             ],
             [
              0.1111111111111111,
              "#46039f"
             ],
             [
              0.2222222222222222,
              "#7201a8"
             ],
             [
              0.3333333333333333,
              "#9c179e"
             ],
             [
              0.4444444444444444,
              "#bd3786"
             ],
             [
              0.5555555555555556,
              "#d8576b"
             ],
             [
              0.6666666666666666,
              "#ed7953"
             ],
             [
              0.7777777777777778,
              "#fb9f3a"
             ],
             [
              0.8888888888888888,
              "#fdca26"
             ],
             [
              1,
              "#f0f921"
             ]
            ],
            "type": "surface"
           }
          ],
          "table": [
           {
            "cells": {
             "fill": {
              "color": "#EBF0F8"
             },
             "line": {
              "color": "white"
             }
            },
            "header": {
             "fill": {
              "color": "#C8D4E3"
             },
             "line": {
              "color": "white"
             }
            },
            "type": "table"
           }
          ]
         },
         "layout": {
          "annotationdefaults": {
           "arrowcolor": "#2a3f5f",
           "arrowhead": 0,
           "arrowwidth": 1
          },
          "autotypenumbers": "strict",
          "coloraxis": {
           "colorbar": {
            "outlinewidth": 0,
            "ticks": ""
           }
          },
          "colorscale": {
           "diverging": [
            [
             0,
             "#8e0152"
            ],
            [
             0.1,
             "#c51b7d"
            ],
            [
             0.2,
             "#de77ae"
            ],
            [
             0.3,
             "#f1b6da"
            ],
            [
             0.4,
             "#fde0ef"
            ],
            [
             0.5,
             "#f7f7f7"
            ],
            [
             0.6,
             "#e6f5d0"
            ],
            [
             0.7,
             "#b8e186"
            ],
            [
             0.8,
             "#7fbc41"
            ],
            [
             0.9,
             "#4d9221"
            ],
            [
             1,
             "#276419"
            ]
           ],
           "sequential": [
            [
             0,
             "#0d0887"
            ],
            [
             0.1111111111111111,
             "#46039f"
            ],
            [
             0.2222222222222222,
             "#7201a8"
            ],
            [
             0.3333333333333333,
             "#9c179e"
            ],
            [
             0.4444444444444444,
             "#bd3786"
            ],
            [
             0.5555555555555556,
             "#d8576b"
            ],
            [
             0.6666666666666666,
             "#ed7953"
            ],
            [
             0.7777777777777778,
             "#fb9f3a"
            ],
            [
             0.8888888888888888,
             "#fdca26"
            ],
            [
             1,
             "#f0f921"
            ]
           ],
           "sequentialminus": [
            [
             0,
             "#0d0887"
            ],
            [
             0.1111111111111111,
             "#46039f"
            ],
            [
             0.2222222222222222,
             "#7201a8"
            ],
            [
             0.3333333333333333,
             "#9c179e"
            ],
            [
             0.4444444444444444,
             "#bd3786"
            ],
            [
             0.5555555555555556,
             "#d8576b"
            ],
            [
             0.6666666666666666,
             "#ed7953"
            ],
            [
             0.7777777777777778,
             "#fb9f3a"
            ],
            [
             0.8888888888888888,
             "#fdca26"
            ],
            [
             1,
             "#f0f921"
            ]
           ]
          },
          "colorway": [
           "#636efa",
           "#EF553B",
           "#00cc96",
           "#ab63fa",
           "#FFA15A",
           "#19d3f3",
           "#FF6692",
           "#B6E880",
           "#FF97FF",
           "#FECB52"
          ],
          "font": {
           "color": "#2a3f5f"
          },
          "geo": {
           "bgcolor": "white",
           "lakecolor": "white",
           "landcolor": "#E5ECF6",
           "showlakes": true,
           "showland": true,
           "subunitcolor": "white"
          },
          "hoverlabel": {
           "align": "left"
          },
          "hovermode": "closest",
          "mapbox": {
           "style": "light"
          },
          "paper_bgcolor": "white",
          "plot_bgcolor": "#E5ECF6",
          "polar": {
           "angularaxis": {
            "gridcolor": "white",
            "linecolor": "white",
            "ticks": ""
           },
           "bgcolor": "#E5ECF6",
           "radialaxis": {
            "gridcolor": "white",
            "linecolor": "white",
            "ticks": ""
           }
          },
          "scene": {
           "xaxis": {
            "backgroundcolor": "#E5ECF6",
            "gridcolor": "white",
            "gridwidth": 2,
            "linecolor": "white",
            "showbackground": true,
            "ticks": "",
            "zerolinecolor": "white"
           },
           "yaxis": {
            "backgroundcolor": "#E5ECF6",
            "gridcolor": "white",
            "gridwidth": 2,
            "linecolor": "white",
            "showbackground": true,
            "ticks": "",
            "zerolinecolor": "white"
           },
           "zaxis": {
            "backgroundcolor": "#E5ECF6",
            "gridcolor": "white",
            "gridwidth": 2,
            "linecolor": "white",
            "showbackground": true,
            "ticks": "",
            "zerolinecolor": "white"
           }
          },
          "shapedefaults": {
           "line": {
            "color": "#2a3f5f"
           }
          },
          "ternary": {
           "aaxis": {
            "gridcolor": "white",
            "linecolor": "white",
            "ticks": ""
           },
           "baxis": {
            "gridcolor": "white",
            "linecolor": "white",
            "ticks": ""
           },
           "bgcolor": "#E5ECF6",
           "caxis": {
            "gridcolor": "white",
            "linecolor": "white",
            "ticks": ""
           }
          },
          "title": {
           "x": 0.05
          },
          "xaxis": {
           "automargin": true,
           "gridcolor": "white",
           "linecolor": "white",
           "ticks": "",
           "title": {
            "standoff": 15
           },
           "zerolinecolor": "white",
           "zerolinewidth": 2
          },
          "yaxis": {
           "automargin": true,
           "gridcolor": "white",
           "linecolor": "white",
           "ticks": "",
           "title": {
            "standoff": 15
           },
           "zerolinecolor": "white",
           "zerolinewidth": 2
          }
         }
        },
        "title": {
         "text": "Stacked Confusion Chart (taxo-med-rag)",
         "x": 0.5,
         "xanchor": "center"
        },
        "width": 600,
        "xaxis": {
         "title": {
          "text": "inclusion_ratio Bins"
         }
        },
        "yaxis": {
         "title": {
          "text": "Count"
         }
        }
       }
      }
     },
     "metadata": {},
     "output_type": "display_data"
    },
    {
     "name": "stdout",
     "output_type": "stream",
     "text": [
      "\n",
      "=== Per-bin Metrics ===\n",
      "\n",
      "Bin -0.0–1.0:\n",
      "  Accuracy:  0.512\n",
      "  Precision: 0.460\n",
      "  Recall:    0.978\n",
      "  F1 Score:  0.626\n",
      "Final total: 213\n",
      "TP: 89 | TN: 28 | FP: 93 | FN: 3\n"
     ]
    },
    {
     "data": {
      "application/vnd.plotly.v1+json": {
       "config": {
        "plotlyServerURL": "https://plot.ly"
       },
       "data": [
        {
         "insidetextanchor": "middle",
         "marker": {
          "color": "green"
         },
         "name": "TP",
         "text": [
          "41.8%"
         ],
         "textfont": {
          "color": "white",
          "size": 12
         },
         "textposition": "inside",
         "type": "bar",
         "x": [
          "-0.0–1.0"
         ],
         "y": {
          "bdata": "WQ==",
          "dtype": "i1"
         }
        },
        {
         "insidetextanchor": "middle",
         "marker": {
          "color": "gray"
         },
         "name": "TN",
         "text": [
          "13.1%"
         ],
         "textfont": {
          "color": "white",
          "size": 12
         },
         "textposition": "inside",
         "type": "bar",
         "x": [
          "-0.0–1.0"
         ],
         "y": {
          "bdata": "HA==",
          "dtype": "i1"
         }
        },
        {
         "insidetextanchor": "middle",
         "marker": {
          "color": "red"
         },
         "name": "FP",
         "text": [
          "43.7%"
         ],
         "textfont": {
          "color": "white",
          "size": 12
         },
         "textposition": "inside",
         "type": "bar",
         "x": [
          "-0.0–1.0"
         ],
         "y": {
          "bdata": "XQ==",
          "dtype": "i1"
         }
        },
        {
         "insidetextanchor": "middle",
         "marker": {
          "color": "black"
         },
         "name": "FN",
         "text": [
          "1.4%"
         ],
         "textfont": {
          "color": "white",
          "size": 12
         },
         "textposition": "inside",
         "type": "bar",
         "x": [
          "-0.0–1.0"
         ],
         "y": {
          "bdata": "Aw==",
          "dtype": "i1"
         }
        }
       ],
       "layout": {
        "bargap": 0.4,
        "barmode": "stack",
        "height": 500,
        "template": {
         "data": {
          "bar": [
           {
            "error_x": {
             "color": "#2a3f5f"
            },
            "error_y": {
             "color": "#2a3f5f"
            },
            "marker": {
             "line": {
              "color": "#E5ECF6",
              "width": 0.5
             },
             "pattern": {
              "fillmode": "overlay",
              "size": 10,
              "solidity": 0.2
             }
            },
            "type": "bar"
           }
          ],
          "barpolar": [
           {
            "marker": {
             "line": {
              "color": "#E5ECF6",
              "width": 0.5
             },
             "pattern": {
              "fillmode": "overlay",
              "size": 10,
              "solidity": 0.2
             }
            },
            "type": "barpolar"
           }
          ],
          "carpet": [
           {
            "aaxis": {
             "endlinecolor": "#2a3f5f",
             "gridcolor": "white",
             "linecolor": "white",
             "minorgridcolor": "white",
             "startlinecolor": "#2a3f5f"
            },
            "baxis": {
             "endlinecolor": "#2a3f5f",
             "gridcolor": "white",
             "linecolor": "white",
             "minorgridcolor": "white",
             "startlinecolor": "#2a3f5f"
            },
            "type": "carpet"
           }
          ],
          "choropleth": [
           {
            "colorbar": {
             "outlinewidth": 0,
             "ticks": ""
            },
            "type": "choropleth"
           }
          ],
          "contour": [
           {
            "colorbar": {
             "outlinewidth": 0,
             "ticks": ""
            },
            "colorscale": [
             [
              0,
              "#0d0887"
             ],
             [
              0.1111111111111111,
              "#46039f"
             ],
             [
              0.2222222222222222,
              "#7201a8"
             ],
             [
              0.3333333333333333,
              "#9c179e"
             ],
             [
              0.4444444444444444,
              "#bd3786"
             ],
             [
              0.5555555555555556,
              "#d8576b"
             ],
             [
              0.6666666666666666,
              "#ed7953"
             ],
             [
              0.7777777777777778,
              "#fb9f3a"
             ],
             [
              0.8888888888888888,
              "#fdca26"
             ],
             [
              1,
              "#f0f921"
             ]
            ],
            "type": "contour"
           }
          ],
          "contourcarpet": [
           {
            "colorbar": {
             "outlinewidth": 0,
             "ticks": ""
            },
            "type": "contourcarpet"
           }
          ],
          "heatmap": [
           {
            "colorbar": {
             "outlinewidth": 0,
             "ticks": ""
            },
            "colorscale": [
             [
              0,
              "#0d0887"
             ],
             [
              0.1111111111111111,
              "#46039f"
             ],
             [
              0.2222222222222222,
              "#7201a8"
             ],
             [
              0.3333333333333333,
              "#9c179e"
             ],
             [
              0.4444444444444444,
              "#bd3786"
             ],
             [
              0.5555555555555556,
              "#d8576b"
             ],
             [
              0.6666666666666666,
              "#ed7953"
             ],
             [
              0.7777777777777778,
              "#fb9f3a"
             ],
             [
              0.8888888888888888,
              "#fdca26"
             ],
             [
              1,
              "#f0f921"
             ]
            ],
            "type": "heatmap"
           }
          ],
          "histogram": [
           {
            "marker": {
             "pattern": {
              "fillmode": "overlay",
              "size": 10,
              "solidity": 0.2
             }
            },
            "type": "histogram"
           }
          ],
          "histogram2d": [
           {
            "colorbar": {
             "outlinewidth": 0,
             "ticks": ""
            },
            "colorscale": [
             [
              0,
              "#0d0887"
             ],
             [
              0.1111111111111111,
              "#46039f"
             ],
             [
              0.2222222222222222,
              "#7201a8"
             ],
             [
              0.3333333333333333,
              "#9c179e"
             ],
             [
              0.4444444444444444,
              "#bd3786"
             ],
             [
              0.5555555555555556,
              "#d8576b"
             ],
             [
              0.6666666666666666,
              "#ed7953"
             ],
             [
              0.7777777777777778,
              "#fb9f3a"
             ],
             [
              0.8888888888888888,
              "#fdca26"
             ],
             [
              1,
              "#f0f921"
             ]
            ],
            "type": "histogram2d"
           }
          ],
          "histogram2dcontour": [
           {
            "colorbar": {
             "outlinewidth": 0,
             "ticks": ""
            },
            "colorscale": [
             [
              0,
              "#0d0887"
             ],
             [
              0.1111111111111111,
              "#46039f"
             ],
             [
              0.2222222222222222,
              "#7201a8"
             ],
             [
              0.3333333333333333,
              "#9c179e"
             ],
             [
              0.4444444444444444,
              "#bd3786"
             ],
             [
              0.5555555555555556,
              "#d8576b"
             ],
             [
              0.6666666666666666,
              "#ed7953"
             ],
             [
              0.7777777777777778,
              "#fb9f3a"
             ],
             [
              0.8888888888888888,
              "#fdca26"
             ],
             [
              1,
              "#f0f921"
             ]
            ],
            "type": "histogram2dcontour"
           }
          ],
          "mesh3d": [
           {
            "colorbar": {
             "outlinewidth": 0,
             "ticks": ""
            },
            "type": "mesh3d"
           }
          ],
          "parcoords": [
           {
            "line": {
             "colorbar": {
              "outlinewidth": 0,
              "ticks": ""
             }
            },
            "type": "parcoords"
           }
          ],
          "pie": [
           {
            "automargin": true,
            "type": "pie"
           }
          ],
          "scatter": [
           {
            "fillpattern": {
             "fillmode": "overlay",
             "size": 10,
             "solidity": 0.2
            },
            "type": "scatter"
           }
          ],
          "scatter3d": [
           {
            "line": {
             "colorbar": {
              "outlinewidth": 0,
              "ticks": ""
             }
            },
            "marker": {
             "colorbar": {
              "outlinewidth": 0,
              "ticks": ""
             }
            },
            "type": "scatter3d"
           }
          ],
          "scattercarpet": [
           {
            "marker": {
             "colorbar": {
              "outlinewidth": 0,
              "ticks": ""
             }
            },
            "type": "scattercarpet"
           }
          ],
          "scattergeo": [
           {
            "marker": {
             "colorbar": {
              "outlinewidth": 0,
              "ticks": ""
             }
            },
            "type": "scattergeo"
           }
          ],
          "scattergl": [
           {
            "marker": {
             "colorbar": {
              "outlinewidth": 0,
              "ticks": ""
             }
            },
            "type": "scattergl"
           }
          ],
          "scattermap": [
           {
            "marker": {
             "colorbar": {
              "outlinewidth": 0,
              "ticks": ""
             }
            },
            "type": "scattermap"
           }
          ],
          "scattermapbox": [
           {
            "marker": {
             "colorbar": {
              "outlinewidth": 0,
              "ticks": ""
             }
            },
            "type": "scattermapbox"
           }
          ],
          "scatterpolar": [
           {
            "marker": {
             "colorbar": {
              "outlinewidth": 0,
              "ticks": ""
             }
            },
            "type": "scatterpolar"
           }
          ],
          "scatterpolargl": [
           {
            "marker": {
             "colorbar": {
              "outlinewidth": 0,
              "ticks": ""
             }
            },
            "type": "scatterpolargl"
           }
          ],
          "scatterternary": [
           {
            "marker": {
             "colorbar": {
              "outlinewidth": 0,
              "ticks": ""
             }
            },
            "type": "scatterternary"
           }
          ],
          "surface": [
           {
            "colorbar": {
             "outlinewidth": 0,
             "ticks": ""
            },
            "colorscale": [
             [
              0,
              "#0d0887"
             ],
             [
              0.1111111111111111,
              "#46039f"
             ],
             [
              0.2222222222222222,
              "#7201a8"
             ],
             [
              0.3333333333333333,
              "#9c179e"
             ],
             [
              0.4444444444444444,
              "#bd3786"
             ],
             [
              0.5555555555555556,
              "#d8576b"
             ],
             [
              0.6666666666666666,
              "#ed7953"
             ],
             [
              0.7777777777777778,
              "#fb9f3a"
             ],
             [
              0.8888888888888888,
              "#fdca26"
             ],
             [
              1,
              "#f0f921"
             ]
            ],
            "type": "surface"
           }
          ],
          "table": [
           {
            "cells": {
             "fill": {
              "color": "#EBF0F8"
             },
             "line": {
              "color": "white"
             }
            },
            "header": {
             "fill": {
              "color": "#C8D4E3"
             },
             "line": {
              "color": "white"
             }
            },
            "type": "table"
           }
          ]
         },
         "layout": {
          "annotationdefaults": {
           "arrowcolor": "#2a3f5f",
           "arrowhead": 0,
           "arrowwidth": 1
          },
          "autotypenumbers": "strict",
          "coloraxis": {
           "colorbar": {
            "outlinewidth": 0,
            "ticks": ""
           }
          },
          "colorscale": {
           "diverging": [
            [
             0,
             "#8e0152"
            ],
            [
             0.1,
             "#c51b7d"
            ],
            [
             0.2,
             "#de77ae"
            ],
            [
             0.3,
             "#f1b6da"
            ],
            [
             0.4,
             "#fde0ef"
            ],
            [
             0.5,
             "#f7f7f7"
            ],
            [
             0.6,
             "#e6f5d0"
            ],
            [
             0.7,
             "#b8e186"
            ],
            [
             0.8,
             "#7fbc41"
            ],
            [
             0.9,
             "#4d9221"
            ],
            [
             1,
             "#276419"
            ]
           ],
           "sequential": [
            [
             0,
             "#0d0887"
            ],
            [
             0.1111111111111111,
             "#46039f"
            ],
            [
             0.2222222222222222,
             "#7201a8"
            ],
            [
             0.3333333333333333,
             "#9c179e"
            ],
            [
             0.4444444444444444,
             "#bd3786"
            ],
            [
             0.5555555555555556,
             "#d8576b"
            ],
            [
             0.6666666666666666,
             "#ed7953"
            ],
            [
             0.7777777777777778,
             "#fb9f3a"
            ],
            [
             0.8888888888888888,
             "#fdca26"
            ],
            [
             1,
             "#f0f921"
            ]
           ],
           "sequentialminus": [
            [
             0,
             "#0d0887"
            ],
            [
             0.1111111111111111,
             "#46039f"
            ],
            [
             0.2222222222222222,
             "#7201a8"
            ],
            [
             0.3333333333333333,
             "#9c179e"
            ],
            [
             0.4444444444444444,
             "#bd3786"
            ],
            [
             0.5555555555555556,
             "#d8576b"
            ],
            [
             0.6666666666666666,
             "#ed7953"
            ],
            [
             0.7777777777777778,
             "#fb9f3a"
            ],
            [
             0.8888888888888888,
             "#fdca26"
            ],
            [
             1,
             "#f0f921"
            ]
           ]
          },
          "colorway": [
           "#636efa",
           "#EF553B",
           "#00cc96",
           "#ab63fa",
           "#FFA15A",
           "#19d3f3",
           "#FF6692",
           "#B6E880",
           "#FF97FF",
           "#FECB52"
          ],
          "font": {
           "color": "#2a3f5f"
          },
          "geo": {
           "bgcolor": "white",
           "lakecolor": "white",
           "landcolor": "#E5ECF6",
           "showlakes": true,
           "showland": true,
           "subunitcolor": "white"
          },
          "hoverlabel": {
           "align": "left"
          },
          "hovermode": "closest",
          "mapbox": {
           "style": "light"
          },
          "paper_bgcolor": "white",
          "plot_bgcolor": "#E5ECF6",
          "polar": {
           "angularaxis": {
            "gridcolor": "white",
            "linecolor": "white",
            "ticks": ""
           },
           "bgcolor": "#E5ECF6",
           "radialaxis": {
            "gridcolor": "white",
            "linecolor": "white",
            "ticks": ""
           }
          },
          "scene": {
           "xaxis": {
            "backgroundcolor": "#E5ECF6",
            "gridcolor": "white",
            "gridwidth": 2,
            "linecolor": "white",
            "showbackground": true,
            "ticks": "",
            "zerolinecolor": "white"
           },
           "yaxis": {
            "backgroundcolor": "#E5ECF6",
            "gridcolor": "white",
            "gridwidth": 2,
            "linecolor": "white",
            "showbackground": true,
            "ticks": "",
            "zerolinecolor": "white"
           },
           "zaxis": {
            "backgroundcolor": "#E5ECF6",
            "gridcolor": "white",
            "gridwidth": 2,
            "linecolor": "white",
            "showbackground": true,
            "ticks": "",
            "zerolinecolor": "white"
           }
          },
          "shapedefaults": {
           "line": {
            "color": "#2a3f5f"
           }
          },
          "ternary": {
           "aaxis": {
            "gridcolor": "white",
            "linecolor": "white",
            "ticks": ""
           },
           "baxis": {
            "gridcolor": "white",
            "linecolor": "white",
            "ticks": ""
           },
           "bgcolor": "#E5ECF6",
           "caxis": {
            "gridcolor": "white",
            "linecolor": "white",
            "ticks": ""
           }
          },
          "title": {
           "x": 0.05
          },
          "xaxis": {
           "automargin": true,
           "gridcolor": "white",
           "linecolor": "white",
           "ticks": "",
           "title": {
            "standoff": 15
           },
           "zerolinecolor": "white",
           "zerolinewidth": 2
          },
          "yaxis": {
           "automargin": true,
           "gridcolor": "white",
           "linecolor": "white",
           "ticks": "",
           "title": {
            "standoff": 15
           },
           "zerolinecolor": "white",
           "zerolinewidth": 2
          }
         }
        },
        "title": {
         "text": "Stacked Confusion Chart (taxo-med)",
         "x": 0.5,
         "xanchor": "center"
        },
        "width": 600,
        "xaxis": {
         "title": {
          "text": "inclusion_ratio Bins"
         }
        },
        "yaxis": {
         "title": {
          "text": "Count"
         }
        }
       }
      }
     },
     "metadata": {},
     "output_type": "display_data"
    },
    {
     "name": "stdout",
     "output_type": "stream",
     "text": [
      "\n",
      "=== Per-bin Metrics ===\n",
      "\n",
      "Bin -0.0–1.0:\n",
      "  Accuracy:  0.549\n",
      "  Precision: 0.489\n",
      "  Recall:    0.967\n",
      "  F1 Score:  0.650\n",
      "Final total: 213\n",
      "TP: 103 | TN: 27 | FP: 80 | FN: 3\n"
     ]
    },
    {
     "data": {
      "application/vnd.plotly.v1+json": {
       "config": {
        "plotlyServerURL": "https://plot.ly"
       },
       "data": [
        {
         "insidetextanchor": "middle",
         "marker": {
          "color": "green"
         },
         "name": "TP",
         "text": [
          "48.4%"
         ],
         "textfont": {
          "color": "white",
          "size": 12
         },
         "textposition": "inside",
         "type": "bar",
         "x": [
          "-0.0–1.0"
         ],
         "y": {
          "bdata": "Zw==",
          "dtype": "i1"
         }
        },
        {
         "insidetextanchor": "middle",
         "marker": {
          "color": "gray"
         },
         "name": "TN",
         "text": [
          "12.7%"
         ],
         "textfont": {
          "color": "white",
          "size": 12
         },
         "textposition": "inside",
         "type": "bar",
         "x": [
          "-0.0–1.0"
         ],
         "y": {
          "bdata": "Gw==",
          "dtype": "i1"
         }
        },
        {
         "insidetextanchor": "middle",
         "marker": {
          "color": "red"
         },
         "name": "FP",
         "text": [
          "37.6%"
         ],
         "textfont": {
          "color": "white",
          "size": 12
         },
         "textposition": "inside",
         "type": "bar",
         "x": [
          "-0.0–1.0"
         ],
         "y": {
          "bdata": "UA==",
          "dtype": "i1"
         }
        },
        {
         "insidetextanchor": "middle",
         "marker": {
          "color": "black"
         },
         "name": "FN",
         "text": [
          "1.4%"
         ],
         "textfont": {
          "color": "white",
          "size": 12
         },
         "textposition": "inside",
         "type": "bar",
         "x": [
          "-0.0–1.0"
         ],
         "y": {
          "bdata": "Aw==",
          "dtype": "i1"
         }
        }
       ],
       "layout": {
        "bargap": 0.4,
        "barmode": "stack",
        "height": 500,
        "template": {
         "data": {
          "bar": [
           {
            "error_x": {
             "color": "#2a3f5f"
            },
            "error_y": {
             "color": "#2a3f5f"
            },
            "marker": {
             "line": {
              "color": "#E5ECF6",
              "width": 0.5
             },
             "pattern": {
              "fillmode": "overlay",
              "size": 10,
              "solidity": 0.2
             }
            },
            "type": "bar"
           }
          ],
          "barpolar": [
           {
            "marker": {
             "line": {
              "color": "#E5ECF6",
              "width": 0.5
             },
             "pattern": {
              "fillmode": "overlay",
              "size": 10,
              "solidity": 0.2
             }
            },
            "type": "barpolar"
           }
          ],
          "carpet": [
           {
            "aaxis": {
             "endlinecolor": "#2a3f5f",
             "gridcolor": "white",
             "linecolor": "white",
             "minorgridcolor": "white",
             "startlinecolor": "#2a3f5f"
            },
            "baxis": {
             "endlinecolor": "#2a3f5f",
             "gridcolor": "white",
             "linecolor": "white",
             "minorgridcolor": "white",
             "startlinecolor": "#2a3f5f"
            },
            "type": "carpet"
           }
          ],
          "choropleth": [
           {
            "colorbar": {
             "outlinewidth": 0,
             "ticks": ""
            },
            "type": "choropleth"
           }
          ],
          "contour": [
           {
            "colorbar": {
             "outlinewidth": 0,
             "ticks": ""
            },
            "colorscale": [
             [
              0,
              "#0d0887"
             ],
             [
              0.1111111111111111,
              "#46039f"
             ],
             [
              0.2222222222222222,
              "#7201a8"
             ],
             [
              0.3333333333333333,
              "#9c179e"
             ],
             [
              0.4444444444444444,
              "#bd3786"
             ],
             [
              0.5555555555555556,
              "#d8576b"
             ],
             [
              0.6666666666666666,
              "#ed7953"
             ],
             [
              0.7777777777777778,
              "#fb9f3a"
             ],
             [
              0.8888888888888888,
              "#fdca26"
             ],
             [
              1,
              "#f0f921"
             ]
            ],
            "type": "contour"
           }
          ],
          "contourcarpet": [
           {
            "colorbar": {
             "outlinewidth": 0,
             "ticks": ""
            },
            "type": "contourcarpet"
           }
          ],
          "heatmap": [
           {
            "colorbar": {
             "outlinewidth": 0,
             "ticks": ""
            },
            "colorscale": [
             [
              0,
              "#0d0887"
             ],
             [
              0.1111111111111111,
              "#46039f"
             ],
             [
              0.2222222222222222,
              "#7201a8"
             ],
             [
              0.3333333333333333,
              "#9c179e"
             ],
             [
              0.4444444444444444,
              "#bd3786"
             ],
             [
              0.5555555555555556,
              "#d8576b"
             ],
             [
              0.6666666666666666,
              "#ed7953"
             ],
             [
              0.7777777777777778,
              "#fb9f3a"
             ],
             [
              0.8888888888888888,
              "#fdca26"
             ],
             [
              1,
              "#f0f921"
             ]
            ],
            "type": "heatmap"
           }
          ],
          "histogram": [
           {
            "marker": {
             "pattern": {
              "fillmode": "overlay",
              "size": 10,
              "solidity": 0.2
             }
            },
            "type": "histogram"
           }
          ],
          "histogram2d": [
           {
            "colorbar": {
             "outlinewidth": 0,
             "ticks": ""
            },
            "colorscale": [
             [
              0,
              "#0d0887"
             ],
             [
              0.1111111111111111,
              "#46039f"
             ],
             [
              0.2222222222222222,
              "#7201a8"
             ],
             [
              0.3333333333333333,
              "#9c179e"
             ],
             [
              0.4444444444444444,
              "#bd3786"
             ],
             [
              0.5555555555555556,
              "#d8576b"
             ],
             [
              0.6666666666666666,
              "#ed7953"
             ],
             [
              0.7777777777777778,
              "#fb9f3a"
             ],
             [
              0.8888888888888888,
              "#fdca26"
             ],
             [
              1,
              "#f0f921"
             ]
            ],
            "type": "histogram2d"
           }
          ],
          "histogram2dcontour": [
           {
            "colorbar": {
             "outlinewidth": 0,
             "ticks": ""
            },
            "colorscale": [
             [
              0,
              "#0d0887"
             ],
             [
              0.1111111111111111,
              "#46039f"
             ],
             [
              0.2222222222222222,
              "#7201a8"
             ],
             [
              0.3333333333333333,
              "#9c179e"
             ],
             [
              0.4444444444444444,
              "#bd3786"
             ],
             [
              0.5555555555555556,
              "#d8576b"
             ],
             [
              0.6666666666666666,
              "#ed7953"
             ],
             [
              0.7777777777777778,
              "#fb9f3a"
             ],
             [
              0.8888888888888888,
              "#fdca26"
             ],
             [
              1,
              "#f0f921"
             ]
            ],
            "type": "histogram2dcontour"
           }
          ],
          "mesh3d": [
           {
            "colorbar": {
             "outlinewidth": 0,
             "ticks": ""
            },
            "type": "mesh3d"
           }
          ],
          "parcoords": [
           {
            "line": {
             "colorbar": {
              "outlinewidth": 0,
              "ticks": ""
             }
            },
            "type": "parcoords"
           }
          ],
          "pie": [
           {
            "automargin": true,
            "type": "pie"
           }
          ],
          "scatter": [
           {
            "fillpattern": {
             "fillmode": "overlay",
             "size": 10,
             "solidity": 0.2
            },
            "type": "scatter"
           }
          ],
          "scatter3d": [
           {
            "line": {
             "colorbar": {
              "outlinewidth": 0,
              "ticks": ""
             }
            },
            "marker": {
             "colorbar": {
              "outlinewidth": 0,
              "ticks": ""
             }
            },
            "type": "scatter3d"
           }
          ],
          "scattercarpet": [
           {
            "marker": {
             "colorbar": {
              "outlinewidth": 0,
              "ticks": ""
             }
            },
            "type": "scattercarpet"
           }
          ],
          "scattergeo": [
           {
            "marker": {
             "colorbar": {
              "outlinewidth": 0,
              "ticks": ""
             }
            },
            "type": "scattergeo"
           }
          ],
          "scattergl": [
           {
            "marker": {
             "colorbar": {
              "outlinewidth": 0,
              "ticks": ""
             }
            },
            "type": "scattergl"
           }
          ],
          "scattermap": [
           {
            "marker": {
             "colorbar": {
              "outlinewidth": 0,
              "ticks": ""
             }
            },
            "type": "scattermap"
           }
          ],
          "scattermapbox": [
           {
            "marker": {
             "colorbar": {
              "outlinewidth": 0,
              "ticks": ""
             }
            },
            "type": "scattermapbox"
           }
          ],
          "scatterpolar": [
           {
            "marker": {
             "colorbar": {
              "outlinewidth": 0,
              "ticks": ""
             }
            },
            "type": "scatterpolar"
           }
          ],
          "scatterpolargl": [
           {
            "marker": {
             "colorbar": {
              "outlinewidth": 0,
              "ticks": ""
             }
            },
            "type": "scatterpolargl"
           }
          ],
          "scatterternary": [
           {
            "marker": {
             "colorbar": {
              "outlinewidth": 0,
              "ticks": ""
             }
            },
            "type": "scatterternary"
           }
          ],
          "surface": [
           {
            "colorbar": {
             "outlinewidth": 0,
             "ticks": ""
            },
            "colorscale": [
             [
              0,
              "#0d0887"
             ],
             [
              0.1111111111111111,
              "#46039f"
             ],
             [
              0.2222222222222222,
              "#7201a8"
             ],
             [
              0.3333333333333333,
              "#9c179e"
             ],
             [
              0.4444444444444444,
              "#bd3786"
             ],
             [
              0.5555555555555556,
              "#d8576b"
             ],
             [
              0.6666666666666666,
              "#ed7953"
             ],
             [
              0.7777777777777778,
              "#fb9f3a"
             ],
             [
              0.8888888888888888,
              "#fdca26"
             ],
             [
              1,
              "#f0f921"
             ]
            ],
            "type": "surface"
           }
          ],
          "table": [
           {
            "cells": {
             "fill": {
              "color": "#EBF0F8"
             },
             "line": {
              "color": "white"
             }
            },
            "header": {
             "fill": {
              "color": "#C8D4E3"
             },
             "line": {
              "color": "white"
             }
            },
            "type": "table"
           }
          ]
         },
         "layout": {
          "annotationdefaults": {
           "arrowcolor": "#2a3f5f",
           "arrowhead": 0,
           "arrowwidth": 1
          },
          "autotypenumbers": "strict",
          "coloraxis": {
           "colorbar": {
            "outlinewidth": 0,
            "ticks": ""
           }
          },
          "colorscale": {
           "diverging": [
            [
             0,
             "#8e0152"
            ],
            [
             0.1,
             "#c51b7d"
            ],
            [
             0.2,
             "#de77ae"
            ],
            [
             0.3,
             "#f1b6da"
            ],
            [
             0.4,
             "#fde0ef"
            ],
            [
             0.5,
             "#f7f7f7"
            ],
            [
             0.6,
             "#e6f5d0"
            ],
            [
             0.7,
             "#b8e186"
            ],
            [
             0.8,
             "#7fbc41"
            ],
            [
             0.9,
             "#4d9221"
            ],
            [
             1,
             "#276419"
            ]
           ],
           "sequential": [
            [
             0,
             "#0d0887"
            ],
            [
             0.1111111111111111,
             "#46039f"
            ],
            [
             0.2222222222222222,
             "#7201a8"
            ],
            [
             0.3333333333333333,
             "#9c179e"
            ],
            [
             0.4444444444444444,
             "#bd3786"
            ],
            [
             0.5555555555555556,
             "#d8576b"
            ],
            [
             0.6666666666666666,
             "#ed7953"
            ],
            [
             0.7777777777777778,
             "#fb9f3a"
            ],
            [
             0.8888888888888888,
             "#fdca26"
            ],
            [
             1,
             "#f0f921"
            ]
           ],
           "sequentialminus": [
            [
             0,
             "#0d0887"
            ],
            [
             0.1111111111111111,
             "#46039f"
            ],
            [
             0.2222222222222222,
             "#7201a8"
            ],
            [
             0.3333333333333333,
             "#9c179e"
            ],
            [
             0.4444444444444444,
             "#bd3786"
            ],
            [
             0.5555555555555556,
             "#d8576b"
            ],
            [
             0.6666666666666666,
             "#ed7953"
            ],
            [
             0.7777777777777778,
             "#fb9f3a"
            ],
            [
             0.8888888888888888,
             "#fdca26"
            ],
            [
             1,
             "#f0f921"
            ]
           ]
          },
          "colorway": [
           "#636efa",
           "#EF553B",
           "#00cc96",
           "#ab63fa",
           "#FFA15A",
           "#19d3f3",
           "#FF6692",
           "#B6E880",
           "#FF97FF",
           "#FECB52"
          ],
          "font": {
           "color": "#2a3f5f"
          },
          "geo": {
           "bgcolor": "white",
           "lakecolor": "white",
           "landcolor": "#E5ECF6",
           "showlakes": true,
           "showland": true,
           "subunitcolor": "white"
          },
          "hoverlabel": {
           "align": "left"
          },
          "hovermode": "closest",
          "mapbox": {
           "style": "light"
          },
          "paper_bgcolor": "white",
          "plot_bgcolor": "#E5ECF6",
          "polar": {
           "angularaxis": {
            "gridcolor": "white",
            "linecolor": "white",
            "ticks": ""
           },
           "bgcolor": "#E5ECF6",
           "radialaxis": {
            "gridcolor": "white",
            "linecolor": "white",
            "ticks": ""
           }
          },
          "scene": {
           "xaxis": {
            "backgroundcolor": "#E5ECF6",
            "gridcolor": "white",
            "gridwidth": 2,
            "linecolor": "white",
            "showbackground": true,
            "ticks": "",
            "zerolinecolor": "white"
           },
           "yaxis": {
            "backgroundcolor": "#E5ECF6",
            "gridcolor": "white",
            "gridwidth": 2,
            "linecolor": "white",
            "showbackground": true,
            "ticks": "",
            "zerolinecolor": "white"
           },
           "zaxis": {
            "backgroundcolor": "#E5ECF6",
            "gridcolor": "white",
            "gridwidth": 2,
            "linecolor": "white",
            "showbackground": true,
            "ticks": "",
            "zerolinecolor": "white"
           }
          },
          "shapedefaults": {
           "line": {
            "color": "#2a3f5f"
           }
          },
          "ternary": {
           "aaxis": {
            "gridcolor": "white",
            "linecolor": "white",
            "ticks": ""
           },
           "baxis": {
            "gridcolor": "white",
            "linecolor": "white",
            "ticks": ""
           },
           "bgcolor": "#E5ECF6",
           "caxis": {
            "gridcolor": "white",
            "linecolor": "white",
            "ticks": ""
           }
          },
          "title": {
           "x": 0.05
          },
          "xaxis": {
           "automargin": true,
           "gridcolor": "white",
           "linecolor": "white",
           "ticks": "",
           "title": {
            "standoff": 15
           },
           "zerolinecolor": "white",
           "zerolinewidth": 2
          },
          "yaxis": {
           "automargin": true,
           "gridcolor": "white",
           "linecolor": "white",
           "ticks": "",
           "title": {
            "standoff": 15
           },
           "zerolinecolor": "white",
           "zerolinewidth": 2
          }
         }
        },
        "title": {
         "text": "Stacked Confusion Chart (goal-med-rag)",
         "x": 0.5,
         "xanchor": "center"
        },
        "width": 600,
        "xaxis": {
         "title": {
          "text": "inclusion_ratio Bins"
         }
        },
        "yaxis": {
         "title": {
          "text": "Count"
         }
        }
       }
      }
     },
     "metadata": {},
     "output_type": "display_data"
    },
    {
     "name": "stdout",
     "output_type": "stream",
     "text": [
      "\n",
      "=== Per-bin Metrics ===\n",
      "\n",
      "Bin -0.0–1.0:\n",
      "  Accuracy:  0.610\n",
      "  Precision: 0.563\n",
      "  Recall:    0.972\n",
      "  F1 Score:  0.713\n",
      "Final total: 213\n",
      "TP: 91 | TN: 31 | FP: 87 | FN: 4\n"
     ]
    },
    {
     "data": {
      "application/vnd.plotly.v1+json": {
       "config": {
        "plotlyServerURL": "https://plot.ly"
       },
       "data": [
        {
         "insidetextanchor": "middle",
         "marker": {
          "color": "green"
         },
         "name": "TP",
         "text": [
          "42.7%"
         ],
         "textfont": {
          "color": "white",
          "size": 12
         },
         "textposition": "inside",
         "type": "bar",
         "x": [
          "-0.0–1.0"
         ],
         "y": {
          "bdata": "Ww==",
          "dtype": "i1"
         }
        },
        {
         "insidetextanchor": "middle",
         "marker": {
          "color": "gray"
         },
         "name": "TN",
         "text": [
          "14.6%"
         ],
         "textfont": {
          "color": "white",
          "size": 12
         },
         "textposition": "inside",
         "type": "bar",
         "x": [
          "-0.0–1.0"
         ],
         "y": {
          "bdata": "Hw==",
          "dtype": "i1"
         }
        },
        {
         "insidetextanchor": "middle",
         "marker": {
          "color": "red"
         },
         "name": "FP",
         "text": [
          "40.8%"
         ],
         "textfont": {
          "color": "white",
          "size": 12
         },
         "textposition": "inside",
         "type": "bar",
         "x": [
          "-0.0–1.0"
         ],
         "y": {
          "bdata": "Vw==",
          "dtype": "i1"
         }
        },
        {
         "insidetextanchor": "middle",
         "marker": {
          "color": "black"
         },
         "name": "FN",
         "text": [
          "1.9%"
         ],
         "textfont": {
          "color": "white",
          "size": 12
         },
         "textposition": "inside",
         "type": "bar",
         "x": [
          "-0.0–1.0"
         ],
         "y": {
          "bdata": "BA==",
          "dtype": "i1"
         }
        }
       ],
       "layout": {
        "bargap": 0.4,
        "barmode": "stack",
        "height": 500,
        "template": {
         "data": {
          "bar": [
           {
            "error_x": {
             "color": "#2a3f5f"
            },
            "error_y": {
             "color": "#2a3f5f"
            },
            "marker": {
             "line": {
              "color": "#E5ECF6",
              "width": 0.5
             },
             "pattern": {
              "fillmode": "overlay",
              "size": 10,
              "solidity": 0.2
             }
            },
            "type": "bar"
           }
          ],
          "barpolar": [
           {
            "marker": {
             "line": {
              "color": "#E5ECF6",
              "width": 0.5
             },
             "pattern": {
              "fillmode": "overlay",
              "size": 10,
              "solidity": 0.2
             }
            },
            "type": "barpolar"
           }
          ],
          "carpet": [
           {
            "aaxis": {
             "endlinecolor": "#2a3f5f",
             "gridcolor": "white",
             "linecolor": "white",
             "minorgridcolor": "white",
             "startlinecolor": "#2a3f5f"
            },
            "baxis": {
             "endlinecolor": "#2a3f5f",
             "gridcolor": "white",
             "linecolor": "white",
             "minorgridcolor": "white",
             "startlinecolor": "#2a3f5f"
            },
            "type": "carpet"
           }
          ],
          "choropleth": [
           {
            "colorbar": {
             "outlinewidth": 0,
             "ticks": ""
            },
            "type": "choropleth"
           }
          ],
          "contour": [
           {
            "colorbar": {
             "outlinewidth": 0,
             "ticks": ""
            },
            "colorscale": [
             [
              0,
              "#0d0887"
             ],
             [
              0.1111111111111111,
              "#46039f"
             ],
             [
              0.2222222222222222,
              "#7201a8"
             ],
             [
              0.3333333333333333,
              "#9c179e"
             ],
             [
              0.4444444444444444,
              "#bd3786"
             ],
             [
              0.5555555555555556,
              "#d8576b"
             ],
             [
              0.6666666666666666,
              "#ed7953"
             ],
             [
              0.7777777777777778,
              "#fb9f3a"
             ],
             [
              0.8888888888888888,
              "#fdca26"
             ],
             [
              1,
              "#f0f921"
             ]
            ],
            "type": "contour"
           }
          ],
          "contourcarpet": [
           {
            "colorbar": {
             "outlinewidth": 0,
             "ticks": ""
            },
            "type": "contourcarpet"
           }
          ],
          "heatmap": [
           {
            "colorbar": {
             "outlinewidth": 0,
             "ticks": ""
            },
            "colorscale": [
             [
              0,
              "#0d0887"
             ],
             [
              0.1111111111111111,
              "#46039f"
             ],
             [
              0.2222222222222222,
              "#7201a8"
             ],
             [
              0.3333333333333333,
              "#9c179e"
             ],
             [
              0.4444444444444444,
              "#bd3786"
             ],
             [
              0.5555555555555556,
              "#d8576b"
             ],
             [
              0.6666666666666666,
              "#ed7953"
             ],
             [
              0.7777777777777778,
              "#fb9f3a"
             ],
             [
              0.8888888888888888,
              "#fdca26"
             ],
             [
              1,
              "#f0f921"
             ]
            ],
            "type": "heatmap"
           }
          ],
          "histogram": [
           {
            "marker": {
             "pattern": {
              "fillmode": "overlay",
              "size": 10,
              "solidity": 0.2
             }
            },
            "type": "histogram"
           }
          ],
          "histogram2d": [
           {
            "colorbar": {
             "outlinewidth": 0,
             "ticks": ""
            },
            "colorscale": [
             [
              0,
              "#0d0887"
             ],
             [
              0.1111111111111111,
              "#46039f"
             ],
             [
              0.2222222222222222,
              "#7201a8"
             ],
             [
              0.3333333333333333,
              "#9c179e"
             ],
             [
              0.4444444444444444,
              "#bd3786"
             ],
             [
              0.5555555555555556,
              "#d8576b"
             ],
             [
              0.6666666666666666,
              "#ed7953"
             ],
             [
              0.7777777777777778,
              "#fb9f3a"
             ],
             [
              0.8888888888888888,
              "#fdca26"
             ],
             [
              1,
              "#f0f921"
             ]
            ],
            "type": "histogram2d"
           }
          ],
          "histogram2dcontour": [
           {
            "colorbar": {
             "outlinewidth": 0,
             "ticks": ""
            },
            "colorscale": [
             [
              0,
              "#0d0887"
             ],
             [
              0.1111111111111111,
              "#46039f"
             ],
             [
              0.2222222222222222,
              "#7201a8"
             ],
             [
              0.3333333333333333,
              "#9c179e"
             ],
             [
              0.4444444444444444,
              "#bd3786"
             ],
             [
              0.5555555555555556,
              "#d8576b"
             ],
             [
              0.6666666666666666,
              "#ed7953"
             ],
             [
              0.7777777777777778,
              "#fb9f3a"
             ],
             [
              0.8888888888888888,
              "#fdca26"
             ],
             [
              1,
              "#f0f921"
             ]
            ],
            "type": "histogram2dcontour"
           }
          ],
          "mesh3d": [
           {
            "colorbar": {
             "outlinewidth": 0,
             "ticks": ""
            },
            "type": "mesh3d"
           }
          ],
          "parcoords": [
           {
            "line": {
             "colorbar": {
              "outlinewidth": 0,
              "ticks": ""
             }
            },
            "type": "parcoords"
           }
          ],
          "pie": [
           {
            "automargin": true,
            "type": "pie"
           }
          ],
          "scatter": [
           {
            "fillpattern": {
             "fillmode": "overlay",
             "size": 10,
             "solidity": 0.2
            },
            "type": "scatter"
           }
          ],
          "scatter3d": [
           {
            "line": {
             "colorbar": {
              "outlinewidth": 0,
              "ticks": ""
             }
            },
            "marker": {
             "colorbar": {
              "outlinewidth": 0,
              "ticks": ""
             }
            },
            "type": "scatter3d"
           }
          ],
          "scattercarpet": [
           {
            "marker": {
             "colorbar": {
              "outlinewidth": 0,
              "ticks": ""
             }
            },
            "type": "scattercarpet"
           }
          ],
          "scattergeo": [
           {
            "marker": {
             "colorbar": {
              "outlinewidth": 0,
              "ticks": ""
             }
            },
            "type": "scattergeo"
           }
          ],
          "scattergl": [
           {
            "marker": {
             "colorbar": {
              "outlinewidth": 0,
              "ticks": ""
             }
            },
            "type": "scattergl"
           }
          ],
          "scattermap": [
           {
            "marker": {
             "colorbar": {
              "outlinewidth": 0,
              "ticks": ""
             }
            },
            "type": "scattermap"
           }
          ],
          "scattermapbox": [
           {
            "marker": {
             "colorbar": {
              "outlinewidth": 0,
              "ticks": ""
             }
            },
            "type": "scattermapbox"
           }
          ],
          "scatterpolar": [
           {
            "marker": {
             "colorbar": {
              "outlinewidth": 0,
              "ticks": ""
             }
            },
            "type": "scatterpolar"
           }
          ],
          "scatterpolargl": [
           {
            "marker": {
             "colorbar": {
              "outlinewidth": 0,
              "ticks": ""
             }
            },
            "type": "scatterpolargl"
           }
          ],
          "scatterternary": [
           {
            "marker": {
             "colorbar": {
              "outlinewidth": 0,
              "ticks": ""
             }
            },
            "type": "scatterternary"
           }
          ],
          "surface": [
           {
            "colorbar": {
             "outlinewidth": 0,
             "ticks": ""
            },
            "colorscale": [
             [
              0,
              "#0d0887"
             ],
             [
              0.1111111111111111,
              "#46039f"
             ],
             [
              0.2222222222222222,
              "#7201a8"
             ],
             [
              0.3333333333333333,
              "#9c179e"
             ],
             [
              0.4444444444444444,
              "#bd3786"
             ],
             [
              0.5555555555555556,
              "#d8576b"
             ],
             [
              0.6666666666666666,
              "#ed7953"
             ],
             [
              0.7777777777777778,
              "#fb9f3a"
             ],
             [
              0.8888888888888888,
              "#fdca26"
             ],
             [
              1,
              "#f0f921"
             ]
            ],
            "type": "surface"
           }
          ],
          "table": [
           {
            "cells": {
             "fill": {
              "color": "#EBF0F8"
             },
             "line": {
              "color": "white"
             }
            },
            "header": {
             "fill": {
              "color": "#C8D4E3"
             },
             "line": {
              "color": "white"
             }
            },
            "type": "table"
           }
          ]
         },
         "layout": {
          "annotationdefaults": {
           "arrowcolor": "#2a3f5f",
           "arrowhead": 0,
           "arrowwidth": 1
          },
          "autotypenumbers": "strict",
          "coloraxis": {
           "colorbar": {
            "outlinewidth": 0,
            "ticks": ""
           }
          },
          "colorscale": {
           "diverging": [
            [
             0,
             "#8e0152"
            ],
            [
             0.1,
             "#c51b7d"
            ],
            [
             0.2,
             "#de77ae"
            ],
            [
             0.3,
             "#f1b6da"
            ],
            [
             0.4,
             "#fde0ef"
            ],
            [
             0.5,
             "#f7f7f7"
            ],
            [
             0.6,
             "#e6f5d0"
            ],
            [
             0.7,
             "#b8e186"
            ],
            [
             0.8,
             "#7fbc41"
            ],
            [
             0.9,
             "#4d9221"
            ],
            [
             1,
             "#276419"
            ]
           ],
           "sequential": [
            [
             0,
             "#0d0887"
            ],
            [
             0.1111111111111111,
             "#46039f"
            ],
            [
             0.2222222222222222,
             "#7201a8"
            ],
            [
             0.3333333333333333,
             "#9c179e"
            ],
            [
             0.4444444444444444,
             "#bd3786"
            ],
            [
             0.5555555555555556,
             "#d8576b"
            ],
            [
             0.6666666666666666,
             "#ed7953"
            ],
            [
             0.7777777777777778,
             "#fb9f3a"
            ],
            [
             0.8888888888888888,
             "#fdca26"
            ],
            [
             1,
             "#f0f921"
            ]
           ],
           "sequentialminus": [
            [
             0,
             "#0d0887"
            ],
            [
             0.1111111111111111,
             "#46039f"
            ],
            [
             0.2222222222222222,
             "#7201a8"
            ],
            [
             0.3333333333333333,
             "#9c179e"
            ],
            [
             0.4444444444444444,
             "#bd3786"
            ],
            [
             0.5555555555555556,
             "#d8576b"
            ],
            [
             0.6666666666666666,
             "#ed7953"
            ],
            [
             0.7777777777777778,
             "#fb9f3a"
            ],
            [
             0.8888888888888888,
             "#fdca26"
            ],
            [
             1,
             "#f0f921"
            ]
           ]
          },
          "colorway": [
           "#636efa",
           "#EF553B",
           "#00cc96",
           "#ab63fa",
           "#FFA15A",
           "#19d3f3",
           "#FF6692",
           "#B6E880",
           "#FF97FF",
           "#FECB52"
          ],
          "font": {
           "color": "#2a3f5f"
          },
          "geo": {
           "bgcolor": "white",
           "lakecolor": "white",
           "landcolor": "#E5ECF6",
           "showlakes": true,
           "showland": true,
           "subunitcolor": "white"
          },
          "hoverlabel": {
           "align": "left"
          },
          "hovermode": "closest",
          "mapbox": {
           "style": "light"
          },
          "paper_bgcolor": "white",
          "plot_bgcolor": "#E5ECF6",
          "polar": {
           "angularaxis": {
            "gridcolor": "white",
            "linecolor": "white",
            "ticks": ""
           },
           "bgcolor": "#E5ECF6",
           "radialaxis": {
            "gridcolor": "white",
            "linecolor": "white",
            "ticks": ""
           }
          },
          "scene": {
           "xaxis": {
            "backgroundcolor": "#E5ECF6",
            "gridcolor": "white",
            "gridwidth": 2,
            "linecolor": "white",
            "showbackground": true,
            "ticks": "",
            "zerolinecolor": "white"
           },
           "yaxis": {
            "backgroundcolor": "#E5ECF6",
            "gridcolor": "white",
            "gridwidth": 2,
            "linecolor": "white",
            "showbackground": true,
            "ticks": "",
            "zerolinecolor": "white"
           },
           "zaxis": {
            "backgroundcolor": "#E5ECF6",
            "gridcolor": "white",
            "gridwidth": 2,
            "linecolor": "white",
            "showbackground": true,
            "ticks": "",
            "zerolinecolor": "white"
           }
          },
          "shapedefaults": {
           "line": {
            "color": "#2a3f5f"
           }
          },
          "ternary": {
           "aaxis": {
            "gridcolor": "white",
            "linecolor": "white",
            "ticks": ""
           },
           "baxis": {
            "gridcolor": "white",
            "linecolor": "white",
            "ticks": ""
           },
           "bgcolor": "#E5ECF6",
           "caxis": {
            "gridcolor": "white",
            "linecolor": "white",
            "ticks": ""
           }
          },
          "title": {
           "x": 0.05
          },
          "xaxis": {
           "automargin": true,
           "gridcolor": "white",
           "linecolor": "white",
           "ticks": "",
           "title": {
            "standoff": 15
           },
           "zerolinecolor": "white",
           "zerolinewidth": 2
          },
          "yaxis": {
           "automargin": true,
           "gridcolor": "white",
           "linecolor": "white",
           "ticks": "",
           "title": {
            "standoff": 15
           },
           "zerolinecolor": "white",
           "zerolinewidth": 2
          }
         }
        },
        "title": {
         "text": "Stacked Confusion Chart (goal-med)",
         "x": 0.5,
         "xanchor": "center"
        },
        "width": 600,
        "xaxis": {
         "title": {
          "text": "inclusion_ratio Bins"
         }
        },
        "yaxis": {
         "title": {
          "text": "Count"
         }
        }
       }
      }
     },
     "metadata": {},
     "output_type": "display_data"
    },
    {
     "name": "stdout",
     "output_type": "stream",
     "text": [
      "\n",
      "=== Per-bin Metrics ===\n",
      "\n",
      "Bin -0.0–1.0:\n",
      "  Accuracy:  0.573\n",
      "  Precision: 0.511\n",
      "  Recall:    0.958\n",
      "  F1 Score:  0.667\n",
      "Final total: 213\n",
      "TP: 87 | TN: 22 | FP: 102 | FN: 2\n"
     ]
    },
    {
     "data": {
      "application/vnd.plotly.v1+json": {
       "config": {
        "plotlyServerURL": "https://plot.ly"
       },
       "data": [
        {
         "insidetextanchor": "middle",
         "marker": {
          "color": "green"
         },
         "name": "TP",
         "text": [
          "11.3%",
          "41.2%",
          "57.6%"
         ],
         "textfont": {
          "color": "white",
          "size": 12
         },
         "textposition": "inside",
         "type": "bar",
         "x": [
          "-0.0–0.33",
          "0.33–0.67",
          "0.67–1.0"
         ],
         "y": {
          "bdata": "Bhw1",
          "dtype": "i1"
         }
        },
        {
         "insidetextanchor": "middle",
         "marker": {
          "color": "gray"
         },
         "name": "TN",
         "text": [
          "11.3%",
          "5.9%",
          "13.0%"
         ],
         "textfont": {
          "color": "white",
          "size": 12
         },
         "textposition": "inside",
         "type": "bar",
         "x": [
          "-0.0–0.33",
          "0.33–0.67",
          "0.67–1.0"
         ],
         "y": {
          "bdata": "BgQM",
          "dtype": "i1"
         }
        },
        {
         "insidetextanchor": "middle",
         "marker": {
          "color": "red"
         },
         "name": "FP",
         "text": [
          "77.4%",
          "50.0%",
          "29.3%"
         ],
         "textfont": {
          "color": "white",
          "size": 12
         },
         "textposition": "inside",
         "type": "bar",
         "x": [
          "-0.0–0.33",
          "0.33–0.67",
          "0.67–1.0"
         ],
         "y": {
          "bdata": "KSIb",
          "dtype": "i1"
         }
        },
        {
         "insidetextanchor": "middle",
         "marker": {
          "color": "black"
         },
         "name": "FN",
         "text": [
          "0.0%",
          "2.9%",
          "0.0%"
         ],
         "textfont": {
          "color": "white",
          "size": 12
         },
         "textposition": "inside",
         "type": "bar",
         "x": [
          "-0.0–0.33",
          "0.33–0.67",
          "0.67–1.0"
         ],
         "y": {
          "bdata": "AAIA",
          "dtype": "i1"
         }
        }
       ],
       "layout": {
        "bargap": 0.4,
        "barmode": "stack",
        "height": 500,
        "template": {
         "data": {
          "bar": [
           {
            "error_x": {
             "color": "#2a3f5f"
            },
            "error_y": {
             "color": "#2a3f5f"
            },
            "marker": {
             "line": {
              "color": "#E5ECF6",
              "width": 0.5
             },
             "pattern": {
              "fillmode": "overlay",
              "size": 10,
              "solidity": 0.2
             }
            },
            "type": "bar"
           }
          ],
          "barpolar": [
           {
            "marker": {
             "line": {
              "color": "#E5ECF6",
              "width": 0.5
             },
             "pattern": {
              "fillmode": "overlay",
              "size": 10,
              "solidity": 0.2
             }
            },
            "type": "barpolar"
           }
          ],
          "carpet": [
           {
            "aaxis": {
             "endlinecolor": "#2a3f5f",
             "gridcolor": "white",
             "linecolor": "white",
             "minorgridcolor": "white",
             "startlinecolor": "#2a3f5f"
            },
            "baxis": {
             "endlinecolor": "#2a3f5f",
             "gridcolor": "white",
             "linecolor": "white",
             "minorgridcolor": "white",
             "startlinecolor": "#2a3f5f"
            },
            "type": "carpet"
           }
          ],
          "choropleth": [
           {
            "colorbar": {
             "outlinewidth": 0,
             "ticks": ""
            },
            "type": "choropleth"
           }
          ],
          "contour": [
           {
            "colorbar": {
             "outlinewidth": 0,
             "ticks": ""
            },
            "colorscale": [
             [
              0,
              "#0d0887"
             ],
             [
              0.1111111111111111,
              "#46039f"
             ],
             [
              0.2222222222222222,
              "#7201a8"
             ],
             [
              0.3333333333333333,
              "#9c179e"
             ],
             [
              0.4444444444444444,
              "#bd3786"
             ],
             [
              0.5555555555555556,
              "#d8576b"
             ],
             [
              0.6666666666666666,
              "#ed7953"
             ],
             [
              0.7777777777777778,
              "#fb9f3a"
             ],
             [
              0.8888888888888888,
              "#fdca26"
             ],
             [
              1,
              "#f0f921"
             ]
            ],
            "type": "contour"
           }
          ],
          "contourcarpet": [
           {
            "colorbar": {
             "outlinewidth": 0,
             "ticks": ""
            },
            "type": "contourcarpet"
           }
          ],
          "heatmap": [
           {
            "colorbar": {
             "outlinewidth": 0,
             "ticks": ""
            },
            "colorscale": [
             [
              0,
              "#0d0887"
             ],
             [
              0.1111111111111111,
              "#46039f"
             ],
             [
              0.2222222222222222,
              "#7201a8"
             ],
             [
              0.3333333333333333,
              "#9c179e"
             ],
             [
              0.4444444444444444,
              "#bd3786"
             ],
             [
              0.5555555555555556,
              "#d8576b"
             ],
             [
              0.6666666666666666,
              "#ed7953"
             ],
             [
              0.7777777777777778,
              "#fb9f3a"
             ],
             [
              0.8888888888888888,
              "#fdca26"
             ],
             [
              1,
              "#f0f921"
             ]
            ],
            "type": "heatmap"
           }
          ],
          "histogram": [
           {
            "marker": {
             "pattern": {
              "fillmode": "overlay",
              "size": 10,
              "solidity": 0.2
             }
            },
            "type": "histogram"
           }
          ],
          "histogram2d": [
           {
            "colorbar": {
             "outlinewidth": 0,
             "ticks": ""
            },
            "colorscale": [
             [
              0,
              "#0d0887"
             ],
             [
              0.1111111111111111,
              "#46039f"
             ],
             [
              0.2222222222222222,
              "#7201a8"
             ],
             [
              0.3333333333333333,
              "#9c179e"
             ],
             [
              0.4444444444444444,
              "#bd3786"
             ],
             [
              0.5555555555555556,
              "#d8576b"
             ],
             [
              0.6666666666666666,
              "#ed7953"
             ],
             [
              0.7777777777777778,
              "#fb9f3a"
             ],
             [
              0.8888888888888888,
              "#fdca26"
             ],
             [
              1,
              "#f0f921"
             ]
            ],
            "type": "histogram2d"
           }
          ],
          "histogram2dcontour": [
           {
            "colorbar": {
             "outlinewidth": 0,
             "ticks": ""
            },
            "colorscale": [
             [
              0,
              "#0d0887"
             ],
             [
              0.1111111111111111,
              "#46039f"
             ],
             [
              0.2222222222222222,
              "#7201a8"
             ],
             [
              0.3333333333333333,
              "#9c179e"
             ],
             [
              0.4444444444444444,
              "#bd3786"
             ],
             [
              0.5555555555555556,
              "#d8576b"
             ],
             [
              0.6666666666666666,
              "#ed7953"
             ],
             [
              0.7777777777777778,
              "#fb9f3a"
             ],
             [
              0.8888888888888888,
              "#fdca26"
             ],
             [
              1,
              "#f0f921"
             ]
            ],
            "type": "histogram2dcontour"
           }
          ],
          "mesh3d": [
           {
            "colorbar": {
             "outlinewidth": 0,
             "ticks": ""
            },
            "type": "mesh3d"
           }
          ],
          "parcoords": [
           {
            "line": {
             "colorbar": {
              "outlinewidth": 0,
              "ticks": ""
             }
            },
            "type": "parcoords"
           }
          ],
          "pie": [
           {
            "automargin": true,
            "type": "pie"
           }
          ],
          "scatter": [
           {
            "fillpattern": {
             "fillmode": "overlay",
             "size": 10,
             "solidity": 0.2
            },
            "type": "scatter"
           }
          ],
          "scatter3d": [
           {
            "line": {
             "colorbar": {
              "outlinewidth": 0,
              "ticks": ""
             }
            },
            "marker": {
             "colorbar": {
              "outlinewidth": 0,
              "ticks": ""
             }
            },
            "type": "scatter3d"
           }
          ],
          "scattercarpet": [
           {
            "marker": {
             "colorbar": {
              "outlinewidth": 0,
              "ticks": ""
             }
            },
            "type": "scattercarpet"
           }
          ],
          "scattergeo": [
           {
            "marker": {
             "colorbar": {
              "outlinewidth": 0,
              "ticks": ""
             }
            },
            "type": "scattergeo"
           }
          ],
          "scattergl": [
           {
            "marker": {
             "colorbar": {
              "outlinewidth": 0,
              "ticks": ""
             }
            },
            "type": "scattergl"
           }
          ],
          "scattermap": [
           {
            "marker": {
             "colorbar": {
              "outlinewidth": 0,
              "ticks": ""
             }
            },
            "type": "scattermap"
           }
          ],
          "scattermapbox": [
           {
            "marker": {
             "colorbar": {
              "outlinewidth": 0,
              "ticks": ""
             }
            },
            "type": "scattermapbox"
           }
          ],
          "scatterpolar": [
           {
            "marker": {
             "colorbar": {
              "outlinewidth": 0,
              "ticks": ""
             }
            },
            "type": "scatterpolar"
           }
          ],
          "scatterpolargl": [
           {
            "marker": {
             "colorbar": {
              "outlinewidth": 0,
              "ticks": ""
             }
            },
            "type": "scatterpolargl"
           }
          ],
          "scatterternary": [
           {
            "marker": {
             "colorbar": {
              "outlinewidth": 0,
              "ticks": ""
             }
            },
            "type": "scatterternary"
           }
          ],
          "surface": [
           {
            "colorbar": {
             "outlinewidth": 0,
             "ticks": ""
            },
            "colorscale": [
             [
              0,
              "#0d0887"
             ],
             [
              0.1111111111111111,
              "#46039f"
             ],
             [
              0.2222222222222222,
              "#7201a8"
             ],
             [
              0.3333333333333333,
              "#9c179e"
             ],
             [
              0.4444444444444444,
              "#bd3786"
             ],
             [
              0.5555555555555556,
              "#d8576b"
             ],
             [
              0.6666666666666666,
              "#ed7953"
             ],
             [
              0.7777777777777778,
              "#fb9f3a"
             ],
             [
              0.8888888888888888,
              "#fdca26"
             ],
             [
              1,
              "#f0f921"
             ]
            ],
            "type": "surface"
           }
          ],
          "table": [
           {
            "cells": {
             "fill": {
              "color": "#EBF0F8"
             },
             "line": {
              "color": "white"
             }
            },
            "header": {
             "fill": {
              "color": "#C8D4E3"
             },
             "line": {
              "color": "white"
             }
            },
            "type": "table"
           }
          ]
         },
         "layout": {
          "annotationdefaults": {
           "arrowcolor": "#2a3f5f",
           "arrowhead": 0,
           "arrowwidth": 1
          },
          "autotypenumbers": "strict",
          "coloraxis": {
           "colorbar": {
            "outlinewidth": 0,
            "ticks": ""
           }
          },
          "colorscale": {
           "diverging": [
            [
             0,
             "#8e0152"
            ],
            [
             0.1,
             "#c51b7d"
            ],
            [
             0.2,
             "#de77ae"
            ],
            [
             0.3,
             "#f1b6da"
            ],
            [
             0.4,
             "#fde0ef"
            ],
            [
             0.5,
             "#f7f7f7"
            ],
            [
             0.6,
             "#e6f5d0"
            ],
            [
             0.7,
             "#b8e186"
            ],
            [
             0.8,
             "#7fbc41"
            ],
            [
             0.9,
             "#4d9221"
            ],
            [
             1,
             "#276419"
            ]
           ],
           "sequential": [
            [
             0,
             "#0d0887"
            ],
            [
             0.1111111111111111,
             "#46039f"
            ],
            [
             0.2222222222222222,
             "#7201a8"
            ],
            [
             0.3333333333333333,
             "#9c179e"
            ],
            [
             0.4444444444444444,
             "#bd3786"
            ],
            [
             0.5555555555555556,
             "#d8576b"
            ],
            [
             0.6666666666666666,
             "#ed7953"
            ],
            [
             0.7777777777777778,
             "#fb9f3a"
            ],
            [
             0.8888888888888888,
             "#fdca26"
            ],
            [
             1,
             "#f0f921"
            ]
           ],
           "sequentialminus": [
            [
             0,
             "#0d0887"
            ],
            [
             0.1111111111111111,
             "#46039f"
            ],
            [
             0.2222222222222222,
             "#7201a8"
            ],
            [
             0.3333333333333333,
             "#9c179e"
            ],
            [
             0.4444444444444444,
             "#bd3786"
            ],
            [
             0.5555555555555556,
             "#d8576b"
            ],
            [
             0.6666666666666666,
             "#ed7953"
            ],
            [
             0.7777777777777778,
             "#fb9f3a"
            ],
            [
             0.8888888888888888,
             "#fdca26"
            ],
            [
             1,
             "#f0f921"
            ]
           ]
          },
          "colorway": [
           "#636efa",
           "#EF553B",
           "#00cc96",
           "#ab63fa",
           "#FFA15A",
           "#19d3f3",
           "#FF6692",
           "#B6E880",
           "#FF97FF",
           "#FECB52"
          ],
          "font": {
           "color": "#2a3f5f"
          },
          "geo": {
           "bgcolor": "white",
           "lakecolor": "white",
           "landcolor": "#E5ECF6",
           "showlakes": true,
           "showland": true,
           "subunitcolor": "white"
          },
          "hoverlabel": {
           "align": "left"
          },
          "hovermode": "closest",
          "mapbox": {
           "style": "light"
          },
          "paper_bgcolor": "white",
          "plot_bgcolor": "#E5ECF6",
          "polar": {
           "angularaxis": {
            "gridcolor": "white",
            "linecolor": "white",
            "ticks": ""
           },
           "bgcolor": "#E5ECF6",
           "radialaxis": {
            "gridcolor": "white",
            "linecolor": "white",
            "ticks": ""
           }
          },
          "scene": {
           "xaxis": {
            "backgroundcolor": "#E5ECF6",
            "gridcolor": "white",
            "gridwidth": 2,
            "linecolor": "white",
            "showbackground": true,
            "ticks": "",
            "zerolinecolor": "white"
           },
           "yaxis": {
            "backgroundcolor": "#E5ECF6",
            "gridcolor": "white",
            "gridwidth": 2,
            "linecolor": "white",
            "showbackground": true,
            "ticks": "",
            "zerolinecolor": "white"
           },
           "zaxis": {
            "backgroundcolor": "#E5ECF6",
            "gridcolor": "white",
            "gridwidth": 2,
            "linecolor": "white",
            "showbackground": true,
            "ticks": "",
            "zerolinecolor": "white"
           }
          },
          "shapedefaults": {
           "line": {
            "color": "#2a3f5f"
           }
          },
          "ternary": {
           "aaxis": {
            "gridcolor": "white",
            "linecolor": "white",
            "ticks": ""
           },
           "baxis": {
            "gridcolor": "white",
            "linecolor": "white",
            "ticks": ""
           },
           "bgcolor": "#E5ECF6",
           "caxis": {
            "gridcolor": "white",
            "linecolor": "white",
            "ticks": ""
           }
          },
          "title": {
           "x": 0.05
          },
          "xaxis": {
           "automargin": true,
           "gridcolor": "white",
           "linecolor": "white",
           "ticks": "",
           "title": {
            "standoff": 15
           },
           "zerolinecolor": "white",
           "zerolinewidth": 2
          },
          "yaxis": {
           "automargin": true,
           "gridcolor": "white",
           "linecolor": "white",
           "ticks": "",
           "title": {
            "standoff": 15
           },
           "zerolinecolor": "white",
           "zerolinewidth": 2
          }
         }
        },
        "title": {
         "text": "Stacked Confusion Chart (taxo-med-rag)",
         "x": 0.5,
         "xanchor": "center"
        },
        "width": 600,
        "xaxis": {
         "title": {
          "text": "inclusion_ratio Bins"
         }
        },
        "yaxis": {
         "title": {
          "text": "Count"
         }
        }
       }
      }
     },
     "metadata": {},
     "output_type": "display_data"
    },
    {
     "name": "stdout",
     "output_type": "stream",
     "text": [
      "\n",
      "=== Per-bin Metrics ===\n",
      "\n",
      "Bin -0.0–0.33:\n",
      "  Accuracy:  0.226\n",
      "  Precision: 0.128\n",
      "  Recall:    1.000\n",
      "  F1 Score:  0.226\n",
      "\n",
      "Bin 0.33–0.67:\n",
      "  Accuracy:  0.471\n",
      "  Precision: 0.452\n",
      "  Recall:    0.933\n",
      "  F1 Score:  0.609\n",
      "\n",
      "Bin 0.67–1.0:\n",
      "  Accuracy:  0.707\n",
      "  Precision: 0.662\n",
      "  Recall:    1.000\n",
      "  F1 Score:  0.797\n",
      "Final total: 213\n",
      "TP: 89 | TN: 28 | FP: 93 | FN: 3\n"
     ]
    },
    {
     "data": {
      "application/vnd.plotly.v1+json": {
       "config": {
        "plotlyServerURL": "https://plot.ly"
       },
       "data": [
        {
         "insidetextanchor": "middle",
         "marker": {
          "color": "green"
         },
         "name": "TP",
         "text": [
          "15.1%",
          "36.8%",
          "60.9%"
         ],
         "textfont": {
          "color": "white",
          "size": 12
         },
         "textposition": "inside",
         "type": "bar",
         "x": [
          "-0.0–0.33",
          "0.33–0.67",
          "0.67–1.0"
         ],
         "y": {
          "bdata": "CBk4",
          "dtype": "i1"
         }
        },
        {
         "insidetextanchor": "middle",
         "marker": {
          "color": "gray"
         },
         "name": "TN",
         "text": [
          "9.4%",
          "20.6%",
          "9.8%"
         ],
         "textfont": {
          "color": "white",
          "size": 12
         },
         "textposition": "inside",
         "type": "bar",
         "x": [
          "-0.0–0.33",
          "0.33–0.67",
          "0.67–1.0"
         ],
         "y": {
          "bdata": "BQ4J",
          "dtype": "i1"
         }
        },
        {
         "insidetextanchor": "middle",
         "marker": {
          "color": "red"
         },
         "name": "FP",
         "text": [
          "73.6%",
          "42.6%",
          "27.2%"
         ],
         "textfont": {
          "color": "white",
          "size": 12
         },
         "textposition": "inside",
         "type": "bar",
         "x": [
          "-0.0–0.33",
          "0.33–0.67",
          "0.67–1.0"
         ],
         "y": {
          "bdata": "Jx0Z",
          "dtype": "i1"
         }
        },
        {
         "insidetextanchor": "middle",
         "marker": {
          "color": "black"
         },
         "name": "FN",
         "text": [
          "1.9%",
          "0.0%",
          "2.2%"
         ],
         "textfont": {
          "color": "white",
          "size": 12
         },
         "textposition": "inside",
         "type": "bar",
         "x": [
          "-0.0–0.33",
          "0.33–0.67",
          "0.67–1.0"
         ],
         "y": {
          "bdata": "AQAC",
          "dtype": "i1"
         }
        }
       ],
       "layout": {
        "bargap": 0.4,
        "barmode": "stack",
        "height": 500,
        "template": {
         "data": {
          "bar": [
           {
            "error_x": {
             "color": "#2a3f5f"
            },
            "error_y": {
             "color": "#2a3f5f"
            },
            "marker": {
             "line": {
              "color": "#E5ECF6",
              "width": 0.5
             },
             "pattern": {
              "fillmode": "overlay",
              "size": 10,
              "solidity": 0.2
             }
            },
            "type": "bar"
           }
          ],
          "barpolar": [
           {
            "marker": {
             "line": {
              "color": "#E5ECF6",
              "width": 0.5
             },
             "pattern": {
              "fillmode": "overlay",
              "size": 10,
              "solidity": 0.2
             }
            },
            "type": "barpolar"
           }
          ],
          "carpet": [
           {
            "aaxis": {
             "endlinecolor": "#2a3f5f",
             "gridcolor": "white",
             "linecolor": "white",
             "minorgridcolor": "white",
             "startlinecolor": "#2a3f5f"
            },
            "baxis": {
             "endlinecolor": "#2a3f5f",
             "gridcolor": "white",
             "linecolor": "white",
             "minorgridcolor": "white",
             "startlinecolor": "#2a3f5f"
            },
            "type": "carpet"
           }
          ],
          "choropleth": [
           {
            "colorbar": {
             "outlinewidth": 0,
             "ticks": ""
            },
            "type": "choropleth"
           }
          ],
          "contour": [
           {
            "colorbar": {
             "outlinewidth": 0,
             "ticks": ""
            },
            "colorscale": [
             [
              0,
              "#0d0887"
             ],
             [
              0.1111111111111111,
              "#46039f"
             ],
             [
              0.2222222222222222,
              "#7201a8"
             ],
             [
              0.3333333333333333,
              "#9c179e"
             ],
             [
              0.4444444444444444,
              "#bd3786"
             ],
             [
              0.5555555555555556,
              "#d8576b"
             ],
             [
              0.6666666666666666,
              "#ed7953"
             ],
             [
              0.7777777777777778,
              "#fb9f3a"
             ],
             [
              0.8888888888888888,
              "#fdca26"
             ],
             [
              1,
              "#f0f921"
             ]
            ],
            "type": "contour"
           }
          ],
          "contourcarpet": [
           {
            "colorbar": {
             "outlinewidth": 0,
             "ticks": ""
            },
            "type": "contourcarpet"
           }
          ],
          "heatmap": [
           {
            "colorbar": {
             "outlinewidth": 0,
             "ticks": ""
            },
            "colorscale": [
             [
              0,
              "#0d0887"
             ],
             [
              0.1111111111111111,
              "#46039f"
             ],
             [
              0.2222222222222222,
              "#7201a8"
             ],
             [
              0.3333333333333333,
              "#9c179e"
             ],
             [
              0.4444444444444444,
              "#bd3786"
             ],
             [
              0.5555555555555556,
              "#d8576b"
             ],
             [
              0.6666666666666666,
              "#ed7953"
             ],
             [
              0.7777777777777778,
              "#fb9f3a"
             ],
             [
              0.8888888888888888,
              "#fdca26"
             ],
             [
              1,
              "#f0f921"
             ]
            ],
            "type": "heatmap"
           }
          ],
          "histogram": [
           {
            "marker": {
             "pattern": {
              "fillmode": "overlay",
              "size": 10,
              "solidity": 0.2
             }
            },
            "type": "histogram"
           }
          ],
          "histogram2d": [
           {
            "colorbar": {
             "outlinewidth": 0,
             "ticks": ""
            },
            "colorscale": [
             [
              0,
              "#0d0887"
             ],
             [
              0.1111111111111111,
              "#46039f"
             ],
             [
              0.2222222222222222,
              "#7201a8"
             ],
             [
              0.3333333333333333,
              "#9c179e"
             ],
             [
              0.4444444444444444,
              "#bd3786"
             ],
             [
              0.5555555555555556,
              "#d8576b"
             ],
             [
              0.6666666666666666,
              "#ed7953"
             ],
             [
              0.7777777777777778,
              "#fb9f3a"
             ],
             [
              0.8888888888888888,
              "#fdca26"
             ],
             [
              1,
              "#f0f921"
             ]
            ],
            "type": "histogram2d"
           }
          ],
          "histogram2dcontour": [
           {
            "colorbar": {
             "outlinewidth": 0,
             "ticks": ""
            },
            "colorscale": [
             [
              0,
              "#0d0887"
             ],
             [
              0.1111111111111111,
              "#46039f"
             ],
             [
              0.2222222222222222,
              "#7201a8"
             ],
             [
              0.3333333333333333,
              "#9c179e"
             ],
             [
              0.4444444444444444,
              "#bd3786"
             ],
             [
              0.5555555555555556,
              "#d8576b"
             ],
             [
              0.6666666666666666,
              "#ed7953"
             ],
             [
              0.7777777777777778,
              "#fb9f3a"
             ],
             [
              0.8888888888888888,
              "#fdca26"
             ],
             [
              1,
              "#f0f921"
             ]
            ],
            "type": "histogram2dcontour"
           }
          ],
          "mesh3d": [
           {
            "colorbar": {
             "outlinewidth": 0,
             "ticks": ""
            },
            "type": "mesh3d"
           }
          ],
          "parcoords": [
           {
            "line": {
             "colorbar": {
              "outlinewidth": 0,
              "ticks": ""
             }
            },
            "type": "parcoords"
           }
          ],
          "pie": [
           {
            "automargin": true,
            "type": "pie"
           }
          ],
          "scatter": [
           {
            "fillpattern": {
             "fillmode": "overlay",
             "size": 10,
             "solidity": 0.2
            },
            "type": "scatter"
           }
          ],
          "scatter3d": [
           {
            "line": {
             "colorbar": {
              "outlinewidth": 0,
              "ticks": ""
             }
            },
            "marker": {
             "colorbar": {
              "outlinewidth": 0,
              "ticks": ""
             }
            },
            "type": "scatter3d"
           }
          ],
          "scattercarpet": [
           {
            "marker": {
             "colorbar": {
              "outlinewidth": 0,
              "ticks": ""
             }
            },
            "type": "scattercarpet"
           }
          ],
          "scattergeo": [
           {
            "marker": {
             "colorbar": {
              "outlinewidth": 0,
              "ticks": ""
             }
            },
            "type": "scattergeo"
           }
          ],
          "scattergl": [
           {
            "marker": {
             "colorbar": {
              "outlinewidth": 0,
              "ticks": ""
             }
            },
            "type": "scattergl"
           }
          ],
          "scattermap": [
           {
            "marker": {
             "colorbar": {
              "outlinewidth": 0,
              "ticks": ""
             }
            },
            "type": "scattermap"
           }
          ],
          "scattermapbox": [
           {
            "marker": {
             "colorbar": {
              "outlinewidth": 0,
              "ticks": ""
             }
            },
            "type": "scattermapbox"
           }
          ],
          "scatterpolar": [
           {
            "marker": {
             "colorbar": {
              "outlinewidth": 0,
              "ticks": ""
             }
            },
            "type": "scatterpolar"
           }
          ],
          "scatterpolargl": [
           {
            "marker": {
             "colorbar": {
              "outlinewidth": 0,
              "ticks": ""
             }
            },
            "type": "scatterpolargl"
           }
          ],
          "scatterternary": [
           {
            "marker": {
             "colorbar": {
              "outlinewidth": 0,
              "ticks": ""
             }
            },
            "type": "scatterternary"
           }
          ],
          "surface": [
           {
            "colorbar": {
             "outlinewidth": 0,
             "ticks": ""
            },
            "colorscale": [
             [
              0,
              "#0d0887"
             ],
             [
              0.1111111111111111,
              "#46039f"
             ],
             [
              0.2222222222222222,
              "#7201a8"
             ],
             [
              0.3333333333333333,
              "#9c179e"
             ],
             [
              0.4444444444444444,
              "#bd3786"
             ],
             [
              0.5555555555555556,
              "#d8576b"
             ],
             [
              0.6666666666666666,
              "#ed7953"
             ],
             [
              0.7777777777777778,
              "#fb9f3a"
             ],
             [
              0.8888888888888888,
              "#fdca26"
             ],
             [
              1,
              "#f0f921"
             ]
            ],
            "type": "surface"
           }
          ],
          "table": [
           {
            "cells": {
             "fill": {
              "color": "#EBF0F8"
             },
             "line": {
              "color": "white"
             }
            },
            "header": {
             "fill": {
              "color": "#C8D4E3"
             },
             "line": {
              "color": "white"
             }
            },
            "type": "table"
           }
          ]
         },
         "layout": {
          "annotationdefaults": {
           "arrowcolor": "#2a3f5f",
           "arrowhead": 0,
           "arrowwidth": 1
          },
          "autotypenumbers": "strict",
          "coloraxis": {
           "colorbar": {
            "outlinewidth": 0,
            "ticks": ""
           }
          },
          "colorscale": {
           "diverging": [
            [
             0,
             "#8e0152"
            ],
            [
             0.1,
             "#c51b7d"
            ],
            [
             0.2,
             "#de77ae"
            ],
            [
             0.3,
             "#f1b6da"
            ],
            [
             0.4,
             "#fde0ef"
            ],
            [
             0.5,
             "#f7f7f7"
            ],
            [
             0.6,
             "#e6f5d0"
            ],
            [
             0.7,
             "#b8e186"
            ],
            [
             0.8,
             "#7fbc41"
            ],
            [
             0.9,
             "#4d9221"
            ],
            [
             1,
             "#276419"
            ]
           ],
           "sequential": [
            [
             0,
             "#0d0887"
            ],
            [
             0.1111111111111111,
             "#46039f"
            ],
            [
             0.2222222222222222,
             "#7201a8"
            ],
            [
             0.3333333333333333,
             "#9c179e"
            ],
            [
             0.4444444444444444,
             "#bd3786"
            ],
            [
             0.5555555555555556,
             "#d8576b"
            ],
            [
             0.6666666666666666,
             "#ed7953"
            ],
            [
             0.7777777777777778,
             "#fb9f3a"
            ],
            [
             0.8888888888888888,
             "#fdca26"
            ],
            [
             1,
             "#f0f921"
            ]
           ],
           "sequentialminus": [
            [
             0,
             "#0d0887"
            ],
            [
             0.1111111111111111,
             "#46039f"
            ],
            [
             0.2222222222222222,
             "#7201a8"
            ],
            [
             0.3333333333333333,
             "#9c179e"
            ],
            [
             0.4444444444444444,
             "#bd3786"
            ],
            [
             0.5555555555555556,
             "#d8576b"
            ],
            [
             0.6666666666666666,
             "#ed7953"
            ],
            [
             0.7777777777777778,
             "#fb9f3a"
            ],
            [
             0.8888888888888888,
             "#fdca26"
            ],
            [
             1,
             "#f0f921"
            ]
           ]
          },
          "colorway": [
           "#636efa",
           "#EF553B",
           "#00cc96",
           "#ab63fa",
           "#FFA15A",
           "#19d3f3",
           "#FF6692",
           "#B6E880",
           "#FF97FF",
           "#FECB52"
          ],
          "font": {
           "color": "#2a3f5f"
          },
          "geo": {
           "bgcolor": "white",
           "lakecolor": "white",
           "landcolor": "#E5ECF6",
           "showlakes": true,
           "showland": true,
           "subunitcolor": "white"
          },
          "hoverlabel": {
           "align": "left"
          },
          "hovermode": "closest",
          "mapbox": {
           "style": "light"
          },
          "paper_bgcolor": "white",
          "plot_bgcolor": "#E5ECF6",
          "polar": {
           "angularaxis": {
            "gridcolor": "white",
            "linecolor": "white",
            "ticks": ""
           },
           "bgcolor": "#E5ECF6",
           "radialaxis": {
            "gridcolor": "white",
            "linecolor": "white",
            "ticks": ""
           }
          },
          "scene": {
           "xaxis": {
            "backgroundcolor": "#E5ECF6",
            "gridcolor": "white",
            "gridwidth": 2,
            "linecolor": "white",
            "showbackground": true,
            "ticks": "",
            "zerolinecolor": "white"
           },
           "yaxis": {
            "backgroundcolor": "#E5ECF6",
            "gridcolor": "white",
            "gridwidth": 2,
            "linecolor": "white",
            "showbackground": true,
            "ticks": "",
            "zerolinecolor": "white"
           },
           "zaxis": {
            "backgroundcolor": "#E5ECF6",
            "gridcolor": "white",
            "gridwidth": 2,
            "linecolor": "white",
            "showbackground": true,
            "ticks": "",
            "zerolinecolor": "white"
           }
          },
          "shapedefaults": {
           "line": {
            "color": "#2a3f5f"
           }
          },
          "ternary": {
           "aaxis": {
            "gridcolor": "white",
            "linecolor": "white",
            "ticks": ""
           },
           "baxis": {
            "gridcolor": "white",
            "linecolor": "white",
            "ticks": ""
           },
           "bgcolor": "#E5ECF6",
           "caxis": {
            "gridcolor": "white",
            "linecolor": "white",
            "ticks": ""
           }
          },
          "title": {
           "x": 0.05
          },
          "xaxis": {
           "automargin": true,
           "gridcolor": "white",
           "linecolor": "white",
           "ticks": "",
           "title": {
            "standoff": 15
           },
           "zerolinecolor": "white",
           "zerolinewidth": 2
          },
          "yaxis": {
           "automargin": true,
           "gridcolor": "white",
           "linecolor": "white",
           "ticks": "",
           "title": {
            "standoff": 15
           },
           "zerolinecolor": "white",
           "zerolinewidth": 2
          }
         }
        },
        "title": {
         "text": "Stacked Confusion Chart (taxo-med)",
         "x": 0.5,
         "xanchor": "center"
        },
        "width": 600,
        "xaxis": {
         "title": {
          "text": "inclusion_ratio Bins"
         }
        },
        "yaxis": {
         "title": {
          "text": "Count"
         }
        }
       }
      }
     },
     "metadata": {},
     "output_type": "display_data"
    },
    {
     "name": "stdout",
     "output_type": "stream",
     "text": [
      "\n",
      "=== Per-bin Metrics ===\n",
      "\n",
      "Bin -0.0–0.33:\n",
      "  Accuracy:  0.245\n",
      "  Precision: 0.170\n",
      "  Recall:    0.889\n",
      "  F1 Score:  0.286\n",
      "\n",
      "Bin 0.33–0.67:\n",
      "  Accuracy:  0.574\n",
      "  Precision: 0.463\n",
      "  Recall:    1.000\n",
      "  F1 Score:  0.633\n",
      "\n",
      "Bin 0.67–1.0:\n",
      "  Accuracy:  0.707\n",
      "  Precision: 0.691\n",
      "  Recall:    0.966\n",
      "  F1 Score:  0.806\n",
      "Final total: 213\n",
      "TP: 103 | TN: 27 | FP: 80 | FN: 3\n"
     ]
    },
    {
     "data": {
      "application/vnd.plotly.v1+json": {
       "config": {
        "plotlyServerURL": "https://plot.ly"
       },
       "data": [
        {
         "insidetextanchor": "middle",
         "marker": {
          "color": "green"
         },
         "name": "TP",
         "text": [
          "22.6%",
          "58.8%",
          "55.4%"
         ],
         "textfont": {
          "color": "white",
          "size": 12
         },
         "textposition": "inside",
         "type": "bar",
         "x": [
          "-0.0–0.33",
          "0.33–0.67",
          "0.67–1.0"
         ],
         "y": {
          "bdata": "DCgz",
          "dtype": "i1"
         }
        },
        {
         "insidetextanchor": "middle",
         "marker": {
          "color": "gray"
         },
         "name": "TN",
         "text": [
          "11.3%",
          "11.8%",
          "14.1%"
         ],
         "textfont": {
          "color": "white",
          "size": 12
         },
         "textposition": "inside",
         "type": "bar",
         "x": [
          "-0.0–0.33",
          "0.33–0.67",
          "0.67–1.0"
         ],
         "y": {
          "bdata": "BggN",
          "dtype": "i1"
         }
        },
        {
         "insidetextanchor": "middle",
         "marker": {
          "color": "red"
         },
         "name": "FP",
         "text": [
          "66.0%",
          "29.4%",
          "27.2%"
         ],
         "textfont": {
          "color": "white",
          "size": 12
         },
         "textposition": "inside",
         "type": "bar",
         "x": [
          "-0.0–0.33",
          "0.33–0.67",
          "0.67–1.0"
         ],
         "y": {
          "bdata": "IxQZ",
          "dtype": "i1"
         }
        },
        {
         "insidetextanchor": "middle",
         "marker": {
          "color": "black"
         },
         "name": "FN",
         "text": [
          "0.0%",
          "0.0%",
          "3.3%"
         ],
         "textfont": {
          "color": "white",
          "size": 12
         },
         "textposition": "inside",
         "type": "bar",
         "x": [
          "-0.0–0.33",
          "0.33–0.67",
          "0.67–1.0"
         ],
         "y": {
          "bdata": "AAAD",
          "dtype": "i1"
         }
        }
       ],
       "layout": {
        "bargap": 0.4,
        "barmode": "stack",
        "height": 500,
        "template": {
         "data": {
          "bar": [
           {
            "error_x": {
             "color": "#2a3f5f"
            },
            "error_y": {
             "color": "#2a3f5f"
            },
            "marker": {
             "line": {
              "color": "#E5ECF6",
              "width": 0.5
             },
             "pattern": {
              "fillmode": "overlay",
              "size": 10,
              "solidity": 0.2
             }
            },
            "type": "bar"
           }
          ],
          "barpolar": [
           {
            "marker": {
             "line": {
              "color": "#E5ECF6",
              "width": 0.5
             },
             "pattern": {
              "fillmode": "overlay",
              "size": 10,
              "solidity": 0.2
             }
            },
            "type": "barpolar"
           }
          ],
          "carpet": [
           {
            "aaxis": {
             "endlinecolor": "#2a3f5f",
             "gridcolor": "white",
             "linecolor": "white",
             "minorgridcolor": "white",
             "startlinecolor": "#2a3f5f"
            },
            "baxis": {
             "endlinecolor": "#2a3f5f",
             "gridcolor": "white",
             "linecolor": "white",
             "minorgridcolor": "white",
             "startlinecolor": "#2a3f5f"
            },
            "type": "carpet"
           }
          ],
          "choropleth": [
           {
            "colorbar": {
             "outlinewidth": 0,
             "ticks": ""
            },
            "type": "choropleth"
           }
          ],
          "contour": [
           {
            "colorbar": {
             "outlinewidth": 0,
             "ticks": ""
            },
            "colorscale": [
             [
              0,
              "#0d0887"
             ],
             [
              0.1111111111111111,
              "#46039f"
             ],
             [
              0.2222222222222222,
              "#7201a8"
             ],
             [
              0.3333333333333333,
              "#9c179e"
             ],
             [
              0.4444444444444444,
              "#bd3786"
             ],
             [
              0.5555555555555556,
              "#d8576b"
             ],
             [
              0.6666666666666666,
              "#ed7953"
             ],
             [
              0.7777777777777778,
              "#fb9f3a"
             ],
             [
              0.8888888888888888,
              "#fdca26"
             ],
             [
              1,
              "#f0f921"
             ]
            ],
            "type": "contour"
           }
          ],
          "contourcarpet": [
           {
            "colorbar": {
             "outlinewidth": 0,
             "ticks": ""
            },
            "type": "contourcarpet"
           }
          ],
          "heatmap": [
           {
            "colorbar": {
             "outlinewidth": 0,
             "ticks": ""
            },
            "colorscale": [
             [
              0,
              "#0d0887"
             ],
             [
              0.1111111111111111,
              "#46039f"
             ],
             [
              0.2222222222222222,
              "#7201a8"
             ],
             [
              0.3333333333333333,
              "#9c179e"
             ],
             [
              0.4444444444444444,
              "#bd3786"
             ],
             [
              0.5555555555555556,
              "#d8576b"
             ],
             [
              0.6666666666666666,
              "#ed7953"
             ],
             [
              0.7777777777777778,
              "#fb9f3a"
             ],
             [
              0.8888888888888888,
              "#fdca26"
             ],
             [
              1,
              "#f0f921"
             ]
            ],
            "type": "heatmap"
           }
          ],
          "histogram": [
           {
            "marker": {
             "pattern": {
              "fillmode": "overlay",
              "size": 10,
              "solidity": 0.2
             }
            },
            "type": "histogram"
           }
          ],
          "histogram2d": [
           {
            "colorbar": {
             "outlinewidth": 0,
             "ticks": ""
            },
            "colorscale": [
             [
              0,
              "#0d0887"
             ],
             [
              0.1111111111111111,
              "#46039f"
             ],
             [
              0.2222222222222222,
              "#7201a8"
             ],
             [
              0.3333333333333333,
              "#9c179e"
             ],
             [
              0.4444444444444444,
              "#bd3786"
             ],
             [
              0.5555555555555556,
              "#d8576b"
             ],
             [
              0.6666666666666666,
              "#ed7953"
             ],
             [
              0.7777777777777778,
              "#fb9f3a"
             ],
             [
              0.8888888888888888,
              "#fdca26"
             ],
             [
              1,
              "#f0f921"
             ]
            ],
            "type": "histogram2d"
           }
          ],
          "histogram2dcontour": [
           {
            "colorbar": {
             "outlinewidth": 0,
             "ticks": ""
            },
            "colorscale": [
             [
              0,
              "#0d0887"
             ],
             [
              0.1111111111111111,
              "#46039f"
             ],
             [
              0.2222222222222222,
              "#7201a8"
             ],
             [
              0.3333333333333333,
              "#9c179e"
             ],
             [
              0.4444444444444444,
              "#bd3786"
             ],
             [
              0.5555555555555556,
              "#d8576b"
             ],
             [
              0.6666666666666666,
              "#ed7953"
             ],
             [
              0.7777777777777778,
              "#fb9f3a"
             ],
             [
              0.8888888888888888,
              "#fdca26"
             ],
             [
              1,
              "#f0f921"
             ]
            ],
            "type": "histogram2dcontour"
           }
          ],
          "mesh3d": [
           {
            "colorbar": {
             "outlinewidth": 0,
             "ticks": ""
            },
            "type": "mesh3d"
           }
          ],
          "parcoords": [
           {
            "line": {
             "colorbar": {
              "outlinewidth": 0,
              "ticks": ""
             }
            },
            "type": "parcoords"
           }
          ],
          "pie": [
           {
            "automargin": true,
            "type": "pie"
           }
          ],
          "scatter": [
           {
            "fillpattern": {
             "fillmode": "overlay",
             "size": 10,
             "solidity": 0.2
            },
            "type": "scatter"
           }
          ],
          "scatter3d": [
           {
            "line": {
             "colorbar": {
              "outlinewidth": 0,
              "ticks": ""
             }
            },
            "marker": {
             "colorbar": {
              "outlinewidth": 0,
              "ticks": ""
             }
            },
            "type": "scatter3d"
           }
          ],
          "scattercarpet": [
           {
            "marker": {
             "colorbar": {
              "outlinewidth": 0,
              "ticks": ""
             }
            },
            "type": "scattercarpet"
           }
          ],
          "scattergeo": [
           {
            "marker": {
             "colorbar": {
              "outlinewidth": 0,
              "ticks": ""
             }
            },
            "type": "scattergeo"
           }
          ],
          "scattergl": [
           {
            "marker": {
             "colorbar": {
              "outlinewidth": 0,
              "ticks": ""
             }
            },
            "type": "scattergl"
           }
          ],
          "scattermap": [
           {
            "marker": {
             "colorbar": {
              "outlinewidth": 0,
              "ticks": ""
             }
            },
            "type": "scattermap"
           }
          ],
          "scattermapbox": [
           {
            "marker": {
             "colorbar": {
              "outlinewidth": 0,
              "ticks": ""
             }
            },
            "type": "scattermapbox"
           }
          ],
          "scatterpolar": [
           {
            "marker": {
             "colorbar": {
              "outlinewidth": 0,
              "ticks": ""
             }
            },
            "type": "scatterpolar"
           }
          ],
          "scatterpolargl": [
           {
            "marker": {
             "colorbar": {
              "outlinewidth": 0,
              "ticks": ""
             }
            },
            "type": "scatterpolargl"
           }
          ],
          "scatterternary": [
           {
            "marker": {
             "colorbar": {
              "outlinewidth": 0,
              "ticks": ""
             }
            },
            "type": "scatterternary"
           }
          ],
          "surface": [
           {
            "colorbar": {
             "outlinewidth": 0,
             "ticks": ""
            },
            "colorscale": [
             [
              0,
              "#0d0887"
             ],
             [
              0.1111111111111111,
              "#46039f"
             ],
             [
              0.2222222222222222,
              "#7201a8"
             ],
             [
              0.3333333333333333,
              "#9c179e"
             ],
             [
              0.4444444444444444,
              "#bd3786"
             ],
             [
              0.5555555555555556,
              "#d8576b"
             ],
             [
              0.6666666666666666,
              "#ed7953"
             ],
             [
              0.7777777777777778,
              "#fb9f3a"
             ],
             [
              0.8888888888888888,
              "#fdca26"
             ],
             [
              1,
              "#f0f921"
             ]
            ],
            "type": "surface"
           }
          ],
          "table": [
           {
            "cells": {
             "fill": {
              "color": "#EBF0F8"
             },
             "line": {
              "color": "white"
             }
            },
            "header": {
             "fill": {
              "color": "#C8D4E3"
             },
             "line": {
              "color": "white"
             }
            },
            "type": "table"
           }
          ]
         },
         "layout": {
          "annotationdefaults": {
           "arrowcolor": "#2a3f5f",
           "arrowhead": 0,
           "arrowwidth": 1
          },
          "autotypenumbers": "strict",
          "coloraxis": {
           "colorbar": {
            "outlinewidth": 0,
            "ticks": ""
           }
          },
          "colorscale": {
           "diverging": [
            [
             0,
             "#8e0152"
            ],
            [
             0.1,
             "#c51b7d"
            ],
            [
             0.2,
             "#de77ae"
            ],
            [
             0.3,
             "#f1b6da"
            ],
            [
             0.4,
             "#fde0ef"
            ],
            [
             0.5,
             "#f7f7f7"
            ],
            [
             0.6,
             "#e6f5d0"
            ],
            [
             0.7,
             "#b8e186"
            ],
            [
             0.8,
             "#7fbc41"
            ],
            [
             0.9,
             "#4d9221"
            ],
            [
             1,
             "#276419"
            ]
           ],
           "sequential": [
            [
             0,
             "#0d0887"
            ],
            [
             0.1111111111111111,
             "#46039f"
            ],
            [
             0.2222222222222222,
             "#7201a8"
            ],
            [
             0.3333333333333333,
             "#9c179e"
            ],
            [
             0.4444444444444444,
             "#bd3786"
            ],
            [
             0.5555555555555556,
             "#d8576b"
            ],
            [
             0.6666666666666666,
             "#ed7953"
            ],
            [
             0.7777777777777778,
             "#fb9f3a"
            ],
            [
             0.8888888888888888,
             "#fdca26"
            ],
            [
             1,
             "#f0f921"
            ]
           ],
           "sequentialminus": [
            [
             0,
             "#0d0887"
            ],
            [
             0.1111111111111111,
             "#46039f"
            ],
            [
             0.2222222222222222,
             "#7201a8"
            ],
            [
             0.3333333333333333,
             "#9c179e"
            ],
            [
             0.4444444444444444,
             "#bd3786"
            ],
            [
             0.5555555555555556,
             "#d8576b"
            ],
            [
             0.6666666666666666,
             "#ed7953"
            ],
            [
             0.7777777777777778,
             "#fb9f3a"
            ],
            [
             0.8888888888888888,
             "#fdca26"
            ],
            [
             1,
             "#f0f921"
            ]
           ]
          },
          "colorway": [
           "#636efa",
           "#EF553B",
           "#00cc96",
           "#ab63fa",
           "#FFA15A",
           "#19d3f3",
           "#FF6692",
           "#B6E880",
           "#FF97FF",
           "#FECB52"
          ],
          "font": {
           "color": "#2a3f5f"
          },
          "geo": {
           "bgcolor": "white",
           "lakecolor": "white",
           "landcolor": "#E5ECF6",
           "showlakes": true,
           "showland": true,
           "subunitcolor": "white"
          },
          "hoverlabel": {
           "align": "left"
          },
          "hovermode": "closest",
          "mapbox": {
           "style": "light"
          },
          "paper_bgcolor": "white",
          "plot_bgcolor": "#E5ECF6",
          "polar": {
           "angularaxis": {
            "gridcolor": "white",
            "linecolor": "white",
            "ticks": ""
           },
           "bgcolor": "#E5ECF6",
           "radialaxis": {
            "gridcolor": "white",
            "linecolor": "white",
            "ticks": ""
           }
          },
          "scene": {
           "xaxis": {
            "backgroundcolor": "#E5ECF6",
            "gridcolor": "white",
            "gridwidth": 2,
            "linecolor": "white",
            "showbackground": true,
            "ticks": "",
            "zerolinecolor": "white"
           },
           "yaxis": {
            "backgroundcolor": "#E5ECF6",
            "gridcolor": "white",
            "gridwidth": 2,
            "linecolor": "white",
            "showbackground": true,
            "ticks": "",
            "zerolinecolor": "white"
           },
           "zaxis": {
            "backgroundcolor": "#E5ECF6",
            "gridcolor": "white",
            "gridwidth": 2,
            "linecolor": "white",
            "showbackground": true,
            "ticks": "",
            "zerolinecolor": "white"
           }
          },
          "shapedefaults": {
           "line": {
            "color": "#2a3f5f"
           }
          },
          "ternary": {
           "aaxis": {
            "gridcolor": "white",
            "linecolor": "white",
            "ticks": ""
           },
           "baxis": {
            "gridcolor": "white",
            "linecolor": "white",
            "ticks": ""
           },
           "bgcolor": "#E5ECF6",
           "caxis": {
            "gridcolor": "white",
            "linecolor": "white",
            "ticks": ""
           }
          },
          "title": {
           "x": 0.05
          },
          "xaxis": {
           "automargin": true,
           "gridcolor": "white",
           "linecolor": "white",
           "ticks": "",
           "title": {
            "standoff": 15
           },
           "zerolinecolor": "white",
           "zerolinewidth": 2
          },
          "yaxis": {
           "automargin": true,
           "gridcolor": "white",
           "linecolor": "white",
           "ticks": "",
           "title": {
            "standoff": 15
           },
           "zerolinecolor": "white",
           "zerolinewidth": 2
          }
         }
        },
        "title": {
         "text": "Stacked Confusion Chart (goal-med-rag)",
         "x": 0.5,
         "xanchor": "center"
        },
        "width": 600,
        "xaxis": {
         "title": {
          "text": "inclusion_ratio Bins"
         }
        },
        "yaxis": {
         "title": {
          "text": "Count"
         }
        }
       }
      }
     },
     "metadata": {},
     "output_type": "display_data"
    },
    {
     "name": "stdout",
     "output_type": "stream",
     "text": [
      "\n",
      "=== Per-bin Metrics ===\n",
      "\n",
      "Bin -0.0–0.33:\n",
      "  Accuracy:  0.340\n",
      "  Precision: 0.255\n",
      "  Recall:    1.000\n",
      "  F1 Score:  0.407\n",
      "\n",
      "Bin 0.33–0.67:\n",
      "  Accuracy:  0.706\n",
      "  Precision: 0.667\n",
      "  Recall:    1.000\n",
      "  F1 Score:  0.800\n",
      "\n",
      "Bin 0.67–1.0:\n",
      "  Accuracy:  0.696\n",
      "  Precision: 0.671\n",
      "  Recall:    0.944\n",
      "  F1 Score:  0.785\n",
      "Final total: 213\n",
      "TP: 91 | TN: 31 | FP: 87 | FN: 4\n"
     ]
    },
    {
     "data": {
      "application/vnd.plotly.v1+json": {
       "config": {
        "plotlyServerURL": "https://plot.ly"
       },
       "data": [
        {
         "insidetextanchor": "middle",
         "marker": {
          "color": "green"
         },
         "name": "TP",
         "text": [
          "17.0%",
          "52.9%",
          "50.0%"
         ],
         "textfont": {
          "color": "white",
          "size": 12
         },
         "textposition": "inside",
         "type": "bar",
         "x": [
          "-0.0–0.33",
          "0.33–0.67",
          "0.67–1.0"
         ],
         "y": {
          "bdata": "CSQu",
          "dtype": "i1"
         }
        },
        {
         "insidetextanchor": "middle",
         "marker": {
          "color": "gray"
         },
         "name": "TN",
         "text": [
          "15.1%",
          "17.6%",
          "12.0%"
         ],
         "textfont": {
          "color": "white",
          "size": 12
         },
         "textposition": "inside",
         "type": "bar",
         "x": [
          "-0.0–0.33",
          "0.33–0.67",
          "0.67–1.0"
         ],
         "y": {
          "bdata": "CAwL",
          "dtype": "i1"
         }
        },
        {
         "insidetextanchor": "middle",
         "marker": {
          "color": "red"
         },
         "name": "FP",
         "text": [
          "66.0%",
          "26.5%",
          "37.0%"
         ],
         "textfont": {
          "color": "white",
          "size": 12
         },
         "textposition": "inside",
         "type": "bar",
         "x": [
          "-0.0–0.33",
          "0.33–0.67",
          "0.67–1.0"
         ],
         "y": {
          "bdata": "IxIi",
          "dtype": "i1"
         }
        },
        {
         "insidetextanchor": "middle",
         "marker": {
          "color": "black"
         },
         "name": "FN",
         "text": [
          "1.9%",
          "2.9%",
          "1.1%"
         ],
         "textfont": {
          "color": "white",
          "size": 12
         },
         "textposition": "inside",
         "type": "bar",
         "x": [
          "-0.0–0.33",
          "0.33–0.67",
          "0.67–1.0"
         ],
         "y": {
          "bdata": "AQIB",
          "dtype": "i1"
         }
        }
       ],
       "layout": {
        "bargap": 0.4,
        "barmode": "stack",
        "height": 500,
        "template": {
         "data": {
          "bar": [
           {
            "error_x": {
             "color": "#2a3f5f"
            },
            "error_y": {
             "color": "#2a3f5f"
            },
            "marker": {
             "line": {
              "color": "#E5ECF6",
              "width": 0.5
             },
             "pattern": {
              "fillmode": "overlay",
              "size": 10,
              "solidity": 0.2
             }
            },
            "type": "bar"
           }
          ],
          "barpolar": [
           {
            "marker": {
             "line": {
              "color": "#E5ECF6",
              "width": 0.5
             },
             "pattern": {
              "fillmode": "overlay",
              "size": 10,
              "solidity": 0.2
             }
            },
            "type": "barpolar"
           }
          ],
          "carpet": [
           {
            "aaxis": {
             "endlinecolor": "#2a3f5f",
             "gridcolor": "white",
             "linecolor": "white",
             "minorgridcolor": "white",
             "startlinecolor": "#2a3f5f"
            },
            "baxis": {
             "endlinecolor": "#2a3f5f",
             "gridcolor": "white",
             "linecolor": "white",
             "minorgridcolor": "white",
             "startlinecolor": "#2a3f5f"
            },
            "type": "carpet"
           }
          ],
          "choropleth": [
           {
            "colorbar": {
             "outlinewidth": 0,
             "ticks": ""
            },
            "type": "choropleth"
           }
          ],
          "contour": [
           {
            "colorbar": {
             "outlinewidth": 0,
             "ticks": ""
            },
            "colorscale": [
             [
              0,
              "#0d0887"
             ],
             [
              0.1111111111111111,
              "#46039f"
             ],
             [
              0.2222222222222222,
              "#7201a8"
             ],
             [
              0.3333333333333333,
              "#9c179e"
             ],
             [
              0.4444444444444444,
              "#bd3786"
             ],
             [
              0.5555555555555556,
              "#d8576b"
             ],
             [
              0.6666666666666666,
              "#ed7953"
             ],
             [
              0.7777777777777778,
              "#fb9f3a"
             ],
             [
              0.8888888888888888,
              "#fdca26"
             ],
             [
              1,
              "#f0f921"
             ]
            ],
            "type": "contour"
           }
          ],
          "contourcarpet": [
           {
            "colorbar": {
             "outlinewidth": 0,
             "ticks": ""
            },
            "type": "contourcarpet"
           }
          ],
          "heatmap": [
           {
            "colorbar": {
             "outlinewidth": 0,
             "ticks": ""
            },
            "colorscale": [
             [
              0,
              "#0d0887"
             ],
             [
              0.1111111111111111,
              "#46039f"
             ],
             [
              0.2222222222222222,
              "#7201a8"
             ],
             [
              0.3333333333333333,
              "#9c179e"
             ],
             [
              0.4444444444444444,
              "#bd3786"
             ],
             [
              0.5555555555555556,
              "#d8576b"
             ],
             [
              0.6666666666666666,
              "#ed7953"
             ],
             [
              0.7777777777777778,
              "#fb9f3a"
             ],
             [
              0.8888888888888888,
              "#fdca26"
             ],
             [
              1,
              "#f0f921"
             ]
            ],
            "type": "heatmap"
           }
          ],
          "histogram": [
           {
            "marker": {
             "pattern": {
              "fillmode": "overlay",
              "size": 10,
              "solidity": 0.2
             }
            },
            "type": "histogram"
           }
          ],
          "histogram2d": [
           {
            "colorbar": {
             "outlinewidth": 0,
             "ticks": ""
            },
            "colorscale": [
             [
              0,
              "#0d0887"
             ],
             [
              0.1111111111111111,
              "#46039f"
             ],
             [
              0.2222222222222222,
              "#7201a8"
             ],
             [
              0.3333333333333333,
              "#9c179e"
             ],
             [
              0.4444444444444444,
              "#bd3786"
             ],
             [
              0.5555555555555556,
              "#d8576b"
             ],
             [
              0.6666666666666666,
              "#ed7953"
             ],
             [
              0.7777777777777778,
              "#fb9f3a"
             ],
             [
              0.8888888888888888,
              "#fdca26"
             ],
             [
              1,
              "#f0f921"
             ]
            ],
            "type": "histogram2d"
           }
          ],
          "histogram2dcontour": [
           {
            "colorbar": {
             "outlinewidth": 0,
             "ticks": ""
            },
            "colorscale": [
             [
              0,
              "#0d0887"
             ],
             [
              0.1111111111111111,
              "#46039f"
             ],
             [
              0.2222222222222222,
              "#7201a8"
             ],
             [
              0.3333333333333333,
              "#9c179e"
             ],
             [
              0.4444444444444444,
              "#bd3786"
             ],
             [
              0.5555555555555556,
              "#d8576b"
             ],
             [
              0.6666666666666666,
              "#ed7953"
             ],
             [
              0.7777777777777778,
              "#fb9f3a"
             ],
             [
              0.8888888888888888,
              "#fdca26"
             ],
             [
              1,
              "#f0f921"
             ]
            ],
            "type": "histogram2dcontour"
           }
          ],
          "mesh3d": [
           {
            "colorbar": {
             "outlinewidth": 0,
             "ticks": ""
            },
            "type": "mesh3d"
           }
          ],
          "parcoords": [
           {
            "line": {
             "colorbar": {
              "outlinewidth": 0,
              "ticks": ""
             }
            },
            "type": "parcoords"
           }
          ],
          "pie": [
           {
            "automargin": true,
            "type": "pie"
           }
          ],
          "scatter": [
           {
            "fillpattern": {
             "fillmode": "overlay",
             "size": 10,
             "solidity": 0.2
            },
            "type": "scatter"
           }
          ],
          "scatter3d": [
           {
            "line": {
             "colorbar": {
              "outlinewidth": 0,
              "ticks": ""
             }
            },
            "marker": {
             "colorbar": {
              "outlinewidth": 0,
              "ticks": ""
             }
            },
            "type": "scatter3d"
           }
          ],
          "scattercarpet": [
           {
            "marker": {
             "colorbar": {
              "outlinewidth": 0,
              "ticks": ""
             }
            },
            "type": "scattercarpet"
           }
          ],
          "scattergeo": [
           {
            "marker": {
             "colorbar": {
              "outlinewidth": 0,
              "ticks": ""
             }
            },
            "type": "scattergeo"
           }
          ],
          "scattergl": [
           {
            "marker": {
             "colorbar": {
              "outlinewidth": 0,
              "ticks": ""
             }
            },
            "type": "scattergl"
           }
          ],
          "scattermap": [
           {
            "marker": {
             "colorbar": {
              "outlinewidth": 0,
              "ticks": ""
             }
            },
            "type": "scattermap"
           }
          ],
          "scattermapbox": [
           {
            "marker": {
             "colorbar": {
              "outlinewidth": 0,
              "ticks": ""
             }
            },
            "type": "scattermapbox"
           }
          ],
          "scatterpolar": [
           {
            "marker": {
             "colorbar": {
              "outlinewidth": 0,
              "ticks": ""
             }
            },
            "type": "scatterpolar"
           }
          ],
          "scatterpolargl": [
           {
            "marker": {
             "colorbar": {
              "outlinewidth": 0,
              "ticks": ""
             }
            },
            "type": "scatterpolargl"
           }
          ],
          "scatterternary": [
           {
            "marker": {
             "colorbar": {
              "outlinewidth": 0,
              "ticks": ""
             }
            },
            "type": "scatterternary"
           }
          ],
          "surface": [
           {
            "colorbar": {
             "outlinewidth": 0,
             "ticks": ""
            },
            "colorscale": [
             [
              0,
              "#0d0887"
             ],
             [
              0.1111111111111111,
              "#46039f"
             ],
             [
              0.2222222222222222,
              "#7201a8"
             ],
             [
              0.3333333333333333,
              "#9c179e"
             ],
             [
              0.4444444444444444,
              "#bd3786"
             ],
             [
              0.5555555555555556,
              "#d8576b"
             ],
             [
              0.6666666666666666,
              "#ed7953"
             ],
             [
              0.7777777777777778,
              "#fb9f3a"
             ],
             [
              0.8888888888888888,
              "#fdca26"
             ],
             [
              1,
              "#f0f921"
             ]
            ],
            "type": "surface"
           }
          ],
          "table": [
           {
            "cells": {
             "fill": {
              "color": "#EBF0F8"
             },
             "line": {
              "color": "white"
             }
            },
            "header": {
             "fill": {
              "color": "#C8D4E3"
             },
             "line": {
              "color": "white"
             }
            },
            "type": "table"
           }
          ]
         },
         "layout": {
          "annotationdefaults": {
           "arrowcolor": "#2a3f5f",
           "arrowhead": 0,
           "arrowwidth": 1
          },
          "autotypenumbers": "strict",
          "coloraxis": {
           "colorbar": {
            "outlinewidth": 0,
            "ticks": ""
           }
          },
          "colorscale": {
           "diverging": [
            [
             0,
             "#8e0152"
            ],
            [
             0.1,
             "#c51b7d"
            ],
            [
             0.2,
             "#de77ae"
            ],
            [
             0.3,
             "#f1b6da"
            ],
            [
             0.4,
             "#fde0ef"
            ],
            [
             0.5,
             "#f7f7f7"
            ],
            [
             0.6,
             "#e6f5d0"
            ],
            [
             0.7,
             "#b8e186"
            ],
            [
             0.8,
             "#7fbc41"
            ],
            [
             0.9,
             "#4d9221"
            ],
            [
             1,
             "#276419"
            ]
           ],
           "sequential": [
            [
             0,
             "#0d0887"
            ],
            [
             0.1111111111111111,
             "#46039f"
            ],
            [
             0.2222222222222222,
             "#7201a8"
            ],
            [
             0.3333333333333333,
             "#9c179e"
            ],
            [
             0.4444444444444444,
             "#bd3786"
            ],
            [
             0.5555555555555556,
             "#d8576b"
            ],
            [
             0.6666666666666666,
             "#ed7953"
            ],
            [
             0.7777777777777778,
             "#fb9f3a"
            ],
            [
             0.8888888888888888,
             "#fdca26"
            ],
            [
             1,
             "#f0f921"
            ]
           ],
           "sequentialminus": [
            [
             0,
             "#0d0887"
            ],
            [
             0.1111111111111111,
             "#46039f"
            ],
            [
             0.2222222222222222,
             "#7201a8"
            ],
            [
             0.3333333333333333,
             "#9c179e"
            ],
            [
             0.4444444444444444,
             "#bd3786"
            ],
            [
             0.5555555555555556,
             "#d8576b"
            ],
            [
             0.6666666666666666,
             "#ed7953"
            ],
            [
             0.7777777777777778,
             "#fb9f3a"
            ],
            [
             0.8888888888888888,
             "#fdca26"
            ],
            [
             1,
             "#f0f921"
            ]
           ]
          },
          "colorway": [
           "#636efa",
           "#EF553B",
           "#00cc96",
           "#ab63fa",
           "#FFA15A",
           "#19d3f3",
           "#FF6692",
           "#B6E880",
           "#FF97FF",
           "#FECB52"
          ],
          "font": {
           "color": "#2a3f5f"
          },
          "geo": {
           "bgcolor": "white",
           "lakecolor": "white",
           "landcolor": "#E5ECF6",
           "showlakes": true,
           "showland": true,
           "subunitcolor": "white"
          },
          "hoverlabel": {
           "align": "left"
          },
          "hovermode": "closest",
          "mapbox": {
           "style": "light"
          },
          "paper_bgcolor": "white",
          "plot_bgcolor": "#E5ECF6",
          "polar": {
           "angularaxis": {
            "gridcolor": "white",
            "linecolor": "white",
            "ticks": ""
           },
           "bgcolor": "#E5ECF6",
           "radialaxis": {
            "gridcolor": "white",
            "linecolor": "white",
            "ticks": ""
           }
          },
          "scene": {
           "xaxis": {
            "backgroundcolor": "#E5ECF6",
            "gridcolor": "white",
            "gridwidth": 2,
            "linecolor": "white",
            "showbackground": true,
            "ticks": "",
            "zerolinecolor": "white"
           },
           "yaxis": {
            "backgroundcolor": "#E5ECF6",
            "gridcolor": "white",
            "gridwidth": 2,
            "linecolor": "white",
            "showbackground": true,
            "ticks": "",
            "zerolinecolor": "white"
           },
           "zaxis": {
            "backgroundcolor": "#E5ECF6",
            "gridcolor": "white",
            "gridwidth": 2,
            "linecolor": "white",
            "showbackground": true,
            "ticks": "",
            "zerolinecolor": "white"
           }
          },
          "shapedefaults": {
           "line": {
            "color": "#2a3f5f"
           }
          },
          "ternary": {
           "aaxis": {
            "gridcolor": "white",
            "linecolor": "white",
            "ticks": ""
           },
           "baxis": {
            "gridcolor": "white",
            "linecolor": "white",
            "ticks": ""
           },
           "bgcolor": "#E5ECF6",
           "caxis": {
            "gridcolor": "white",
            "linecolor": "white",
            "ticks": ""
           }
          },
          "title": {
           "x": 0.05
          },
          "xaxis": {
           "automargin": true,
           "gridcolor": "white",
           "linecolor": "white",
           "ticks": "",
           "title": {
            "standoff": 15
           },
           "zerolinecolor": "white",
           "zerolinewidth": 2
          },
          "yaxis": {
           "automargin": true,
           "gridcolor": "white",
           "linecolor": "white",
           "ticks": "",
           "title": {
            "standoff": 15
           },
           "zerolinecolor": "white",
           "zerolinewidth": 2
          }
         }
        },
        "title": {
         "text": "Stacked Confusion Chart (goal-med)",
         "x": 0.5,
         "xanchor": "center"
        },
        "width": 600,
        "xaxis": {
         "title": {
          "text": "inclusion_ratio Bins"
         }
        },
        "yaxis": {
         "title": {
          "text": "Count"
         }
        }
       }
      }
     },
     "metadata": {},
     "output_type": "display_data"
    },
    {
     "name": "stdout",
     "output_type": "stream",
     "text": [
      "\n",
      "=== Per-bin Metrics ===\n",
      "\n",
      "Bin -0.0–0.33:\n",
      "  Accuracy:  0.321\n",
      "  Precision: 0.205\n",
      "  Recall:    0.900\n",
      "  F1 Score:  0.333\n",
      "\n",
      "Bin 0.33–0.67:\n",
      "  Accuracy:  0.706\n",
      "  Precision: 0.667\n",
      "  Recall:    0.947\n",
      "  F1 Score:  0.783\n",
      "\n",
      "Bin 0.67–1.0:\n",
      "  Accuracy:  0.620\n",
      "  Precision: 0.575\n",
      "  Recall:    0.979\n",
      "  F1 Score:  0.724\n"
     ]
    },
    {
     "data": {
      "application/vnd.plotly.v1+json": {
       "config": {
        "plotlyServerURL": "https://plot.ly"
       },
       "data": [
        {
         "insidetextanchor": "middle",
         "marker": {
          "color": "green"
         },
         "name": "TRUE",
         "text": [
          "7.1%",
          "36.4%",
          "52.4%",
          "55.8%",
          "73.1%"
         ],
         "textfont": {
          "color": "white",
          "size": 12
         },
         "textposition": "inside",
         "type": "bar",
         "x": [
          "-0.0–0.2",
          "0.2–0.4",
          "0.4–0.6",
          "0.6–0.8",
          "0.8–1.0"
         ],
         "y": {
          "bdata": "AgwWGDE=",
          "dtype": "i1"
         }
        },
        {
         "insidetextanchor": "middle",
         "marker": {
          "color": "red"
         },
         "name": "FAlSE",
         "text": [
          "92.9%",
          "63.6%",
          "47.6%",
          "44.2%",
          "26.9%"
         ],
         "textfont": {
          "color": "white",
          "size": 12
         },
         "textposition": "inside",
         "type": "bar",
         "x": [
          "-0.0–0.2",
          "0.2–0.4",
          "0.4–0.6",
          "0.6–0.8",
          "0.8–1.0"
         ],
         "y": {
          "bdata": "GhUUExI=",
          "dtype": "i1"
         }
        }
       ],
       "layout": {
        "bargap": 0.25,
        "barmode": "stack",
        "height": 500,
        "template": {
         "data": {
          "bar": [
           {
            "error_x": {
             "color": "#2a3f5f"
            },
            "error_y": {
             "color": "#2a3f5f"
            },
            "marker": {
             "line": {
              "color": "#E5ECF6",
              "width": 0.5
             },
             "pattern": {
              "fillmode": "overlay",
              "size": 10,
              "solidity": 0.2
             }
            },
            "type": "bar"
           }
          ],
          "barpolar": [
           {
            "marker": {
             "line": {
              "color": "#E5ECF6",
              "width": 0.5
             },
             "pattern": {
              "fillmode": "overlay",
              "size": 10,
              "solidity": 0.2
             }
            },
            "type": "barpolar"
           }
          ],
          "carpet": [
           {
            "aaxis": {
             "endlinecolor": "#2a3f5f",
             "gridcolor": "white",
             "linecolor": "white",
             "minorgridcolor": "white",
             "startlinecolor": "#2a3f5f"
            },
            "baxis": {
             "endlinecolor": "#2a3f5f",
             "gridcolor": "white",
             "linecolor": "white",
             "minorgridcolor": "white",
             "startlinecolor": "#2a3f5f"
            },
            "type": "carpet"
           }
          ],
          "choropleth": [
           {
            "colorbar": {
             "outlinewidth": 0,
             "ticks": ""
            },
            "type": "choropleth"
           }
          ],
          "contour": [
           {
            "colorbar": {
             "outlinewidth": 0,
             "ticks": ""
            },
            "colorscale": [
             [
              0,
              "#0d0887"
             ],
             [
              0.1111111111111111,
              "#46039f"
             ],
             [
              0.2222222222222222,
              "#7201a8"
             ],
             [
              0.3333333333333333,
              "#9c179e"
             ],
             [
              0.4444444444444444,
              "#bd3786"
             ],
             [
              0.5555555555555556,
              "#d8576b"
             ],
             [
              0.6666666666666666,
              "#ed7953"
             ],
             [
              0.7777777777777778,
              "#fb9f3a"
             ],
             [
              0.8888888888888888,
              "#fdca26"
             ],
             [
              1,
              "#f0f921"
             ]
            ],
            "type": "contour"
           }
          ],
          "contourcarpet": [
           {
            "colorbar": {
             "outlinewidth": 0,
             "ticks": ""
            },
            "type": "contourcarpet"
           }
          ],
          "heatmap": [
           {
            "colorbar": {
             "outlinewidth": 0,
             "ticks": ""
            },
            "colorscale": [
             [
              0,
              "#0d0887"
             ],
             [
              0.1111111111111111,
              "#46039f"
             ],
             [
              0.2222222222222222,
              "#7201a8"
             ],
             [
              0.3333333333333333,
              "#9c179e"
             ],
             [
              0.4444444444444444,
              "#bd3786"
             ],
             [
              0.5555555555555556,
              "#d8576b"
             ],
             [
              0.6666666666666666,
              "#ed7953"
             ],
             [
              0.7777777777777778,
              "#fb9f3a"
             ],
             [
              0.8888888888888888,
              "#fdca26"
             ],
             [
              1,
              "#f0f921"
             ]
            ],
            "type": "heatmap"
           }
          ],
          "histogram": [
           {
            "marker": {
             "pattern": {
              "fillmode": "overlay",
              "size": 10,
              "solidity": 0.2
             }
            },
            "type": "histogram"
           }
          ],
          "histogram2d": [
           {
            "colorbar": {
             "outlinewidth": 0,
             "ticks": ""
            },
            "colorscale": [
             [
              0,
              "#0d0887"
             ],
             [
              0.1111111111111111,
              "#46039f"
             ],
             [
              0.2222222222222222,
              "#7201a8"
             ],
             [
              0.3333333333333333,
              "#9c179e"
             ],
             [
              0.4444444444444444,
              "#bd3786"
             ],
             [
              0.5555555555555556,
              "#d8576b"
             ],
             [
              0.6666666666666666,
              "#ed7953"
             ],
             [
              0.7777777777777778,
              "#fb9f3a"
             ],
             [
              0.8888888888888888,
              "#fdca26"
             ],
             [
              1,
              "#f0f921"
             ]
            ],
            "type": "histogram2d"
           }
          ],
          "histogram2dcontour": [
           {
            "colorbar": {
             "outlinewidth": 0,
             "ticks": ""
            },
            "colorscale": [
             [
              0,
              "#0d0887"
             ],
             [
              0.1111111111111111,
              "#46039f"
             ],
             [
              0.2222222222222222,
              "#7201a8"
             ],
             [
              0.3333333333333333,
              "#9c179e"
             ],
             [
              0.4444444444444444,
              "#bd3786"
             ],
             [
              0.5555555555555556,
              "#d8576b"
             ],
             [
              0.6666666666666666,
              "#ed7953"
             ],
             [
              0.7777777777777778,
              "#fb9f3a"
             ],
             [
              0.8888888888888888,
              "#fdca26"
             ],
             [
              1,
              "#f0f921"
             ]
            ],
            "type": "histogram2dcontour"
           }
          ],
          "mesh3d": [
           {
            "colorbar": {
             "outlinewidth": 0,
             "ticks": ""
            },
            "type": "mesh3d"
           }
          ],
          "parcoords": [
           {
            "line": {
             "colorbar": {
              "outlinewidth": 0,
              "ticks": ""
             }
            },
            "type": "parcoords"
           }
          ],
          "pie": [
           {
            "automargin": true,
            "type": "pie"
           }
          ],
          "scatter": [
           {
            "fillpattern": {
             "fillmode": "overlay",
             "size": 10,
             "solidity": 0.2
            },
            "type": "scatter"
           }
          ],
          "scatter3d": [
           {
            "line": {
             "colorbar": {
              "outlinewidth": 0,
              "ticks": ""
             }
            },
            "marker": {
             "colorbar": {
              "outlinewidth": 0,
              "ticks": ""
             }
            },
            "type": "scatter3d"
           }
          ],
          "scattercarpet": [
           {
            "marker": {
             "colorbar": {
              "outlinewidth": 0,
              "ticks": ""
             }
            },
            "type": "scattercarpet"
           }
          ],
          "scattergeo": [
           {
            "marker": {
             "colorbar": {
              "outlinewidth": 0,
              "ticks": ""
             }
            },
            "type": "scattergeo"
           }
          ],
          "scattergl": [
           {
            "marker": {
             "colorbar": {
              "outlinewidth": 0,
              "ticks": ""
             }
            },
            "type": "scattergl"
           }
          ],
          "scattermap": [
           {
            "marker": {
             "colorbar": {
              "outlinewidth": 0,
              "ticks": ""
             }
            },
            "type": "scattermap"
           }
          ],
          "scattermapbox": [
           {
            "marker": {
             "colorbar": {
              "outlinewidth": 0,
              "ticks": ""
             }
            },
            "type": "scattermapbox"
           }
          ],
          "scatterpolar": [
           {
            "marker": {
             "colorbar": {
              "outlinewidth": 0,
              "ticks": ""
             }
            },
            "type": "scatterpolar"
           }
          ],
          "scatterpolargl": [
           {
            "marker": {
             "colorbar": {
              "outlinewidth": 0,
              "ticks": ""
             }
            },
            "type": "scatterpolargl"
           }
          ],
          "scatterternary": [
           {
            "marker": {
             "colorbar": {
              "outlinewidth": 0,
              "ticks": ""
             }
            },
            "type": "scatterternary"
           }
          ],
          "surface": [
           {
            "colorbar": {
             "outlinewidth": 0,
             "ticks": ""
            },
            "colorscale": [
             [
              0,
              "#0d0887"
             ],
             [
              0.1111111111111111,
              "#46039f"
             ],
             [
              0.2222222222222222,
              "#7201a8"
             ],
             [
              0.3333333333333333,
              "#9c179e"
             ],
             [
              0.4444444444444444,
              "#bd3786"
             ],
             [
              0.5555555555555556,
              "#d8576b"
             ],
             [
              0.6666666666666666,
              "#ed7953"
             ],
             [
              0.7777777777777778,
              "#fb9f3a"
             ],
             [
              0.8888888888888888,
              "#fdca26"
             ],
             [
              1,
              "#f0f921"
             ]
            ],
            "type": "surface"
           }
          ],
          "table": [
           {
            "cells": {
             "fill": {
              "color": "#EBF0F8"
             },
             "line": {
              "color": "white"
             }
            },
            "header": {
             "fill": {
              "color": "#C8D4E3"
             },
             "line": {
              "color": "white"
             }
            },
            "type": "table"
           }
          ]
         },
         "layout": {
          "annotationdefaults": {
           "arrowcolor": "#2a3f5f",
           "arrowhead": 0,
           "arrowwidth": 1
          },
          "autotypenumbers": "strict",
          "coloraxis": {
           "colorbar": {
            "outlinewidth": 0,
            "ticks": ""
           }
          },
          "colorscale": {
           "diverging": [
            [
             0,
             "#8e0152"
            ],
            [
             0.1,
             "#c51b7d"
            ],
            [
             0.2,
             "#de77ae"
            ],
            [
             0.3,
             "#f1b6da"
            ],
            [
             0.4,
             "#fde0ef"
            ],
            [
             0.5,
             "#f7f7f7"
            ],
            [
             0.6,
             "#e6f5d0"
            ],
            [
             0.7,
             "#b8e186"
            ],
            [
             0.8,
             "#7fbc41"
            ],
            [
             0.9,
             "#4d9221"
            ],
            [
             1,
             "#276419"
            ]
           ],
           "sequential": [
            [
             0,
             "#0d0887"
            ],
            [
             0.1111111111111111,
             "#46039f"
            ],
            [
             0.2222222222222222,
             "#7201a8"
            ],
            [
             0.3333333333333333,
             "#9c179e"
            ],
            [
             0.4444444444444444,
             "#bd3786"
            ],
            [
             0.5555555555555556,
             "#d8576b"
            ],
            [
             0.6666666666666666,
             "#ed7953"
            ],
            [
             0.7777777777777778,
             "#fb9f3a"
            ],
            [
             0.8888888888888888,
             "#fdca26"
            ],
            [
             1,
             "#f0f921"
            ]
           ],
           "sequentialminus": [
            [
             0,
             "#0d0887"
            ],
            [
             0.1111111111111111,
             "#46039f"
            ],
            [
             0.2222222222222222,
             "#7201a8"
            ],
            [
             0.3333333333333333,
             "#9c179e"
            ],
            [
             0.4444444444444444,
             "#bd3786"
            ],
            [
             0.5555555555555556,
             "#d8576b"
            ],
            [
             0.6666666666666666,
             "#ed7953"
            ],
            [
             0.7777777777777778,
             "#fb9f3a"
            ],
            [
             0.8888888888888888,
             "#fdca26"
            ],
            [
             1,
             "#f0f921"
            ]
           ]
          },
          "colorway": [
           "#636efa",
           "#EF553B",
           "#00cc96",
           "#ab63fa",
           "#FFA15A",
           "#19d3f3",
           "#FF6692",
           "#B6E880",
           "#FF97FF",
           "#FECB52"
          ],
          "font": {
           "color": "#2a3f5f"
          },
          "geo": {
           "bgcolor": "white",
           "lakecolor": "white",
           "landcolor": "#E5ECF6",
           "showlakes": true,
           "showland": true,
           "subunitcolor": "white"
          },
          "hoverlabel": {
           "align": "left"
          },
          "hovermode": "closest",
          "mapbox": {
           "style": "light"
          },
          "paper_bgcolor": "white",
          "plot_bgcolor": "#E5ECF6",
          "polar": {
           "angularaxis": {
            "gridcolor": "white",
            "linecolor": "white",
            "ticks": ""
           },
           "bgcolor": "#E5ECF6",
           "radialaxis": {
            "gridcolor": "white",
            "linecolor": "white",
            "ticks": ""
           }
          },
          "scene": {
           "xaxis": {
            "backgroundcolor": "#E5ECF6",
            "gridcolor": "white",
            "gridwidth": 2,
            "linecolor": "white",
            "showbackground": true,
            "ticks": "",
            "zerolinecolor": "white"
           },
           "yaxis": {
            "backgroundcolor": "#E5ECF6",
            "gridcolor": "white",
            "gridwidth": 2,
            "linecolor": "white",
            "showbackground": true,
            "ticks": "",
            "zerolinecolor": "white"
           },
           "zaxis": {
            "backgroundcolor": "#E5ECF6",
            "gridcolor": "white",
            "gridwidth": 2,
            "linecolor": "white",
            "showbackground": true,
            "ticks": "",
            "zerolinecolor": "white"
           }
          },
          "shapedefaults": {
           "line": {
            "color": "#2a3f5f"
           }
          },
          "ternary": {
           "aaxis": {
            "gridcolor": "white",
            "linecolor": "white",
            "ticks": ""
           },
           "baxis": {
            "gridcolor": "white",
            "linecolor": "white",
            "ticks": ""
           },
           "bgcolor": "#E5ECF6",
           "caxis": {
            "gridcolor": "white",
            "linecolor": "white",
            "ticks": ""
           }
          },
          "title": {
           "x": 0.05
          },
          "xaxis": {
           "automargin": true,
           "gridcolor": "white",
           "linecolor": "white",
           "ticks": "",
           "title": {
            "standoff": 15
           },
           "zerolinecolor": "white",
           "zerolinewidth": 2
          },
          "yaxis": {
           "automargin": true,
           "gridcolor": "white",
           "linecolor": "white",
           "ticks": "",
           "title": {
            "standoff": 15
           },
           "zerolinecolor": "white",
           "zerolinewidth": 2
          }
         }
        },
        "title": {
         "text": "Stacked Bar of 'TRUE' and 'FAlSE' by binned 'inclusion_ratio'",
         "x": 0.5,
         "xanchor": "center"
        },
        "width": 800,
        "xaxis": {
         "title": {
          "text": "inclusion_ratio Bins"
         }
        },
        "yaxis": {
         "title": {
          "text": "Count"
         }
        }
       }
      }
     },
     "metadata": {},
     "output_type": "display_data"
    },
    {
     "data": {
      "application/vnd.plotly.v1+json": {
       "config": {
        "plotlyServerURL": "https://plot.ly"
       },
       "data": [
        {
         "insidetextanchor": "middle",
         "marker": {
          "color": "green"
         },
         "name": "POSITIVE",
         "text": [
          "3.6%",
          "18.2%",
          "47.6%",
          "55.8%",
          "56.7%"
         ],
         "textfont": {
          "color": "white",
          "size": 12
         },
         "textposition": "inside",
         "type": "bar",
         "x": [
          "-0.0–0.2",
          "0.2–0.4",
          "0.4–0.6",
          "0.6–0.8",
          "0.8–1.0"
         ],
         "y": {
          "bdata": "AQYUGCY=",
          "dtype": "i1"
         }
        },
        {
         "insidetextanchor": "middle",
         "marker": {
          "color": "red"
         },
         "name": "NEGATIVE",
         "text": [
          "96.4%",
          "81.8%",
          "52.4%",
          "44.2%",
          "43.3%"
         ],
         "textfont": {
          "color": "white",
          "size": 12
         },
         "textposition": "inside",
         "type": "bar",
         "x": [
          "-0.0–0.2",
          "0.2–0.4",
          "0.4–0.6",
          "0.6–0.8",
          "0.8–1.0"
         ],
         "y": {
          "bdata": "GxsWEx0=",
          "dtype": "i1"
         }
        }
       ],
       "layout": {
        "bargap": 0.25,
        "barmode": "stack",
        "height": 500,
        "template": {
         "data": {
          "bar": [
           {
            "error_x": {
             "color": "#2a3f5f"
            },
            "error_y": {
             "color": "#2a3f5f"
            },
            "marker": {
             "line": {
              "color": "#E5ECF6",
              "width": 0.5
             },
             "pattern": {
              "fillmode": "overlay",
              "size": 10,
              "solidity": 0.2
             }
            },
            "type": "bar"
           }
          ],
          "barpolar": [
           {
            "marker": {
             "line": {
              "color": "#E5ECF6",
              "width": 0.5
             },
             "pattern": {
              "fillmode": "overlay",
              "size": 10,
              "solidity": 0.2
             }
            },
            "type": "barpolar"
           }
          ],
          "carpet": [
           {
            "aaxis": {
             "endlinecolor": "#2a3f5f",
             "gridcolor": "white",
             "linecolor": "white",
             "minorgridcolor": "white",
             "startlinecolor": "#2a3f5f"
            },
            "baxis": {
             "endlinecolor": "#2a3f5f",
             "gridcolor": "white",
             "linecolor": "white",
             "minorgridcolor": "white",
             "startlinecolor": "#2a3f5f"
            },
            "type": "carpet"
           }
          ],
          "choropleth": [
           {
            "colorbar": {
             "outlinewidth": 0,
             "ticks": ""
            },
            "type": "choropleth"
           }
          ],
          "contour": [
           {
            "colorbar": {
             "outlinewidth": 0,
             "ticks": ""
            },
            "colorscale": [
             [
              0,
              "#0d0887"
             ],
             [
              0.1111111111111111,
              "#46039f"
             ],
             [
              0.2222222222222222,
              "#7201a8"
             ],
             [
              0.3333333333333333,
              "#9c179e"
             ],
             [
              0.4444444444444444,
              "#bd3786"
             ],
             [
              0.5555555555555556,
              "#d8576b"
             ],
             [
              0.6666666666666666,
              "#ed7953"
             ],
             [
              0.7777777777777778,
              "#fb9f3a"
             ],
             [
              0.8888888888888888,
              "#fdca26"
             ],
             [
              1,
              "#f0f921"
             ]
            ],
            "type": "contour"
           }
          ],
          "contourcarpet": [
           {
            "colorbar": {
             "outlinewidth": 0,
             "ticks": ""
            },
            "type": "contourcarpet"
           }
          ],
          "heatmap": [
           {
            "colorbar": {
             "outlinewidth": 0,
             "ticks": ""
            },
            "colorscale": [
             [
              0,
              "#0d0887"
             ],
             [
              0.1111111111111111,
              "#46039f"
             ],
             [
              0.2222222222222222,
              "#7201a8"
             ],
             [
              0.3333333333333333,
              "#9c179e"
             ],
             [
              0.4444444444444444,
              "#bd3786"
             ],
             [
              0.5555555555555556,
              "#d8576b"
             ],
             [
              0.6666666666666666,
              "#ed7953"
             ],
             [
              0.7777777777777778,
              "#fb9f3a"
             ],
             [
              0.8888888888888888,
              "#fdca26"
             ],
             [
              1,
              "#f0f921"
             ]
            ],
            "type": "heatmap"
           }
          ],
          "histogram": [
           {
            "marker": {
             "pattern": {
              "fillmode": "overlay",
              "size": 10,
              "solidity": 0.2
             }
            },
            "type": "histogram"
           }
          ],
          "histogram2d": [
           {
            "colorbar": {
             "outlinewidth": 0,
             "ticks": ""
            },
            "colorscale": [
             [
              0,
              "#0d0887"
             ],
             [
              0.1111111111111111,
              "#46039f"
             ],
             [
              0.2222222222222222,
              "#7201a8"
             ],
             [
              0.3333333333333333,
              "#9c179e"
             ],
             [
              0.4444444444444444,
              "#bd3786"
             ],
             [
              0.5555555555555556,
              "#d8576b"
             ],
             [
              0.6666666666666666,
              "#ed7953"
             ],
             [
              0.7777777777777778,
              "#fb9f3a"
             ],
             [
              0.8888888888888888,
              "#fdca26"
             ],
             [
              1,
              "#f0f921"
             ]
            ],
            "type": "histogram2d"
           }
          ],
          "histogram2dcontour": [
           {
            "colorbar": {
             "outlinewidth": 0,
             "ticks": ""
            },
            "colorscale": [
             [
              0,
              "#0d0887"
             ],
             [
              0.1111111111111111,
              "#46039f"
             ],
             [
              0.2222222222222222,
              "#7201a8"
             ],
             [
              0.3333333333333333,
              "#9c179e"
             ],
             [
              0.4444444444444444,
              "#bd3786"
             ],
             [
              0.5555555555555556,
              "#d8576b"
             ],
             [
              0.6666666666666666,
              "#ed7953"
             ],
             [
              0.7777777777777778,
              "#fb9f3a"
             ],
             [
              0.8888888888888888,
              "#fdca26"
             ],
             [
              1,
              "#f0f921"
             ]
            ],
            "type": "histogram2dcontour"
           }
          ],
          "mesh3d": [
           {
            "colorbar": {
             "outlinewidth": 0,
             "ticks": ""
            },
            "type": "mesh3d"
           }
          ],
          "parcoords": [
           {
            "line": {
             "colorbar": {
              "outlinewidth": 0,
              "ticks": ""
             }
            },
            "type": "parcoords"
           }
          ],
          "pie": [
           {
            "automargin": true,
            "type": "pie"
           }
          ],
          "scatter": [
           {
            "fillpattern": {
             "fillmode": "overlay",
             "size": 10,
             "solidity": 0.2
            },
            "type": "scatter"
           }
          ],
          "scatter3d": [
           {
            "line": {
             "colorbar": {
              "outlinewidth": 0,
              "ticks": ""
             }
            },
            "marker": {
             "colorbar": {
              "outlinewidth": 0,
              "ticks": ""
             }
            },
            "type": "scatter3d"
           }
          ],
          "scattercarpet": [
           {
            "marker": {
             "colorbar": {
              "outlinewidth": 0,
              "ticks": ""
             }
            },
            "type": "scattercarpet"
           }
          ],
          "scattergeo": [
           {
            "marker": {
             "colorbar": {
              "outlinewidth": 0,
              "ticks": ""
             }
            },
            "type": "scattergeo"
           }
          ],
          "scattergl": [
           {
            "marker": {
             "colorbar": {
              "outlinewidth": 0,
              "ticks": ""
             }
            },
            "type": "scattergl"
           }
          ],
          "scattermap": [
           {
            "marker": {
             "colorbar": {
              "outlinewidth": 0,
              "ticks": ""
             }
            },
            "type": "scattermap"
           }
          ],
          "scattermapbox": [
           {
            "marker": {
             "colorbar": {
              "outlinewidth": 0,
              "ticks": ""
             }
            },
            "type": "scattermapbox"
           }
          ],
          "scatterpolar": [
           {
            "marker": {
             "colorbar": {
              "outlinewidth": 0,
              "ticks": ""
             }
            },
            "type": "scatterpolar"
           }
          ],
          "scatterpolargl": [
           {
            "marker": {
             "colorbar": {
              "outlinewidth": 0,
              "ticks": ""
             }
            },
            "type": "scatterpolargl"
           }
          ],
          "scatterternary": [
           {
            "marker": {
             "colorbar": {
              "outlinewidth": 0,
              "ticks": ""
             }
            },
            "type": "scatterternary"
           }
          ],
          "surface": [
           {
            "colorbar": {
             "outlinewidth": 0,
             "ticks": ""
            },
            "colorscale": [
             [
              0,
              "#0d0887"
             ],
             [
              0.1111111111111111,
              "#46039f"
             ],
             [
              0.2222222222222222,
              "#7201a8"
             ],
             [
              0.3333333333333333,
              "#9c179e"
             ],
             [
              0.4444444444444444,
              "#bd3786"
             ],
             [
              0.5555555555555556,
              "#d8576b"
             ],
             [
              0.6666666666666666,
              "#ed7953"
             ],
             [
              0.7777777777777778,
              "#fb9f3a"
             ],
             [
              0.8888888888888888,
              "#fdca26"
             ],
             [
              1,
              "#f0f921"
             ]
            ],
            "type": "surface"
           }
          ],
          "table": [
           {
            "cells": {
             "fill": {
              "color": "#EBF0F8"
             },
             "line": {
              "color": "white"
             }
            },
            "header": {
             "fill": {
              "color": "#C8D4E3"
             },
             "line": {
              "color": "white"
             }
            },
            "type": "table"
           }
          ]
         },
         "layout": {
          "annotationdefaults": {
           "arrowcolor": "#2a3f5f",
           "arrowhead": 0,
           "arrowwidth": 1
          },
          "autotypenumbers": "strict",
          "coloraxis": {
           "colorbar": {
            "outlinewidth": 0,
            "ticks": ""
           }
          },
          "colorscale": {
           "diverging": [
            [
             0,
             "#8e0152"
            ],
            [
             0.1,
             "#c51b7d"
            ],
            [
             0.2,
             "#de77ae"
            ],
            [
             0.3,
             "#f1b6da"
            ],
            [
             0.4,
             "#fde0ef"
            ],
            [
             0.5,
             "#f7f7f7"
            ],
            [
             0.6,
             "#e6f5d0"
            ],
            [
             0.7,
             "#b8e186"
            ],
            [
             0.8,
             "#7fbc41"
            ],
            [
             0.9,
             "#4d9221"
            ],
            [
             1,
             "#276419"
            ]
           ],
           "sequential": [
            [
             0,
             "#0d0887"
            ],
            [
             0.1111111111111111,
             "#46039f"
            ],
            [
             0.2222222222222222,
             "#7201a8"
            ],
            [
             0.3333333333333333,
             "#9c179e"
            ],
            [
             0.4444444444444444,
             "#bd3786"
            ],
            [
             0.5555555555555556,
             "#d8576b"
            ],
            [
             0.6666666666666666,
             "#ed7953"
            ],
            [
             0.7777777777777778,
             "#fb9f3a"
            ],
            [
             0.8888888888888888,
             "#fdca26"
            ],
            [
             1,
             "#f0f921"
            ]
           ],
           "sequentialminus": [
            [
             0,
             "#0d0887"
            ],
            [
             0.1111111111111111,
             "#46039f"
            ],
            [
             0.2222222222222222,
             "#7201a8"
            ],
            [
             0.3333333333333333,
             "#9c179e"
            ],
            [
             0.4444444444444444,
             "#bd3786"
            ],
            [
             0.5555555555555556,
             "#d8576b"
            ],
            [
             0.6666666666666666,
             "#ed7953"
            ],
            [
             0.7777777777777778,
             "#fb9f3a"
            ],
            [
             0.8888888888888888,
             "#fdca26"
            ],
            [
             1,
             "#f0f921"
            ]
           ]
          },
          "colorway": [
           "#636efa",
           "#EF553B",
           "#00cc96",
           "#ab63fa",
           "#FFA15A",
           "#19d3f3",
           "#FF6692",
           "#B6E880",
           "#FF97FF",
           "#FECB52"
          ],
          "font": {
           "color": "#2a3f5f"
          },
          "geo": {
           "bgcolor": "white",
           "lakecolor": "white",
           "landcolor": "#E5ECF6",
           "showlakes": true,
           "showland": true,
           "subunitcolor": "white"
          },
          "hoverlabel": {
           "align": "left"
          },
          "hovermode": "closest",
          "mapbox": {
           "style": "light"
          },
          "paper_bgcolor": "white",
          "plot_bgcolor": "#E5ECF6",
          "polar": {
           "angularaxis": {
            "gridcolor": "white",
            "linecolor": "white",
            "ticks": ""
           },
           "bgcolor": "#E5ECF6",
           "radialaxis": {
            "gridcolor": "white",
            "linecolor": "white",
            "ticks": ""
           }
          },
          "scene": {
           "xaxis": {
            "backgroundcolor": "#E5ECF6",
            "gridcolor": "white",
            "gridwidth": 2,
            "linecolor": "white",
            "showbackground": true,
            "ticks": "",
            "zerolinecolor": "white"
           },
           "yaxis": {
            "backgroundcolor": "#E5ECF6",
            "gridcolor": "white",
            "gridwidth": 2,
            "linecolor": "white",
            "showbackground": true,
            "ticks": "",
            "zerolinecolor": "white"
           },
           "zaxis": {
            "backgroundcolor": "#E5ECF6",
            "gridcolor": "white",
            "gridwidth": 2,
            "linecolor": "white",
            "showbackground": true,
            "ticks": "",
            "zerolinecolor": "white"
           }
          },
          "shapedefaults": {
           "line": {
            "color": "#2a3f5f"
           }
          },
          "ternary": {
           "aaxis": {
            "gridcolor": "white",
            "linecolor": "white",
            "ticks": ""
           },
           "baxis": {
            "gridcolor": "white",
            "linecolor": "white",
            "ticks": ""
           },
           "bgcolor": "#E5ECF6",
           "caxis": {
            "gridcolor": "white",
            "linecolor": "white",
            "ticks": ""
           }
          },
          "title": {
           "x": 0.05
          },
          "xaxis": {
           "automargin": true,
           "gridcolor": "white",
           "linecolor": "white",
           "ticks": "",
           "title": {
            "standoff": 15
           },
           "zerolinecolor": "white",
           "zerolinewidth": 2
          },
          "yaxis": {
           "automargin": true,
           "gridcolor": "white",
           "linecolor": "white",
           "ticks": "",
           "title": {
            "standoff": 15
           },
           "zerolinecolor": "white",
           "zerolinewidth": 2
          }
         }
        },
        "title": {
         "text": "Stacked Bar of 'POSITIVE' and 'NEGATIVE' by binned 'inclusion_ratio'",
         "x": 0.5,
         "xanchor": "center"
        },
        "width": 800,
        "xaxis": {
         "title": {
          "text": "inclusion_ratio Bins"
         }
        },
        "yaxis": {
         "title": {
          "text": "Count"
         }
        }
       }
      }
     },
     "metadata": {},
     "output_type": "display_data"
    },
    {
     "data": {
      "application/vnd.plotly.v1+json": {
       "config": {
        "plotlyServerURL": "https://plot.ly"
       },
       "data": [
        {
         "insidetextanchor": "middle",
         "marker": {
          "color": "green"
         },
         "name": "POSITIVE",
         "text": [
          "3.6%",
          "27.3%",
          "28.6%",
          "65.1%",
          "62.7%"
         ],
         "textfont": {
          "color": "white",
          "size": 12
         },
         "textposition": "inside",
         "type": "bar",
         "x": [
          "-0.0–0.2",
          "0.2–0.4",
          "0.4–0.6",
          "0.6–0.8",
          "0.8–1.0"
         ],
         "y": {
          "bdata": "AQkMHCo=",
          "dtype": "i1"
         }
        },
        {
         "insidetextanchor": "middle",
         "marker": {
          "color": "red"
         },
         "name": "NEGATIVE",
         "text": [
          "96.4%",
          "72.7%",
          "71.4%",
          "34.9%",
          "37.3%"
         ],
         "textfont": {
          "color": "white",
          "size": 12
         },
         "textposition": "inside",
         "type": "bar",
         "x": [
          "-0.0–0.2",
          "0.2–0.4",
          "0.4–0.6",
          "0.6–0.8",
          "0.8–1.0"
         ],
         "y": {
          "bdata": "GxgeDxk=",
          "dtype": "i1"
         }
        }
       ],
       "layout": {
        "bargap": 0.25,
        "barmode": "stack",
        "height": 500,
        "template": {
         "data": {
          "bar": [
           {
            "error_x": {
             "color": "#2a3f5f"
            },
            "error_y": {
             "color": "#2a3f5f"
            },
            "marker": {
             "line": {
              "color": "#E5ECF6",
              "width": 0.5
             },
             "pattern": {
              "fillmode": "overlay",
              "size": 10,
              "solidity": 0.2
             }
            },
            "type": "bar"
           }
          ],
          "barpolar": [
           {
            "marker": {
             "line": {
              "color": "#E5ECF6",
              "width": 0.5
             },
             "pattern": {
              "fillmode": "overlay",
              "size": 10,
              "solidity": 0.2
             }
            },
            "type": "barpolar"
           }
          ],
          "carpet": [
           {
            "aaxis": {
             "endlinecolor": "#2a3f5f",
             "gridcolor": "white",
             "linecolor": "white",
             "minorgridcolor": "white",
             "startlinecolor": "#2a3f5f"
            },
            "baxis": {
             "endlinecolor": "#2a3f5f",
             "gridcolor": "white",
             "linecolor": "white",
             "minorgridcolor": "white",
             "startlinecolor": "#2a3f5f"
            },
            "type": "carpet"
           }
          ],
          "choropleth": [
           {
            "colorbar": {
             "outlinewidth": 0,
             "ticks": ""
            },
            "type": "choropleth"
           }
          ],
          "contour": [
           {
            "colorbar": {
             "outlinewidth": 0,
             "ticks": ""
            },
            "colorscale": [
             [
              0,
              "#0d0887"
             ],
             [
              0.1111111111111111,
              "#46039f"
             ],
             [
              0.2222222222222222,
              "#7201a8"
             ],
             [
              0.3333333333333333,
              "#9c179e"
             ],
             [
              0.4444444444444444,
              "#bd3786"
             ],
             [
              0.5555555555555556,
              "#d8576b"
             ],
             [
              0.6666666666666666,
              "#ed7953"
             ],
             [
              0.7777777777777778,
              "#fb9f3a"
             ],
             [
              0.8888888888888888,
              "#fdca26"
             ],
             [
              1,
              "#f0f921"
             ]
            ],
            "type": "contour"
           }
          ],
          "contourcarpet": [
           {
            "colorbar": {
             "outlinewidth": 0,
             "ticks": ""
            },
            "type": "contourcarpet"
           }
          ],
          "heatmap": [
           {
            "colorbar": {
             "outlinewidth": 0,
             "ticks": ""
            },
            "colorscale": [
             [
              0,
              "#0d0887"
             ],
             [
              0.1111111111111111,
              "#46039f"
             ],
             [
              0.2222222222222222,
              "#7201a8"
             ],
             [
              0.3333333333333333,
              "#9c179e"
             ],
             [
              0.4444444444444444,
              "#bd3786"
             ],
             [
              0.5555555555555556,
              "#d8576b"
             ],
             [
              0.6666666666666666,
              "#ed7953"
             ],
             [
              0.7777777777777778,
              "#fb9f3a"
             ],
             [
              0.8888888888888888,
              "#fdca26"
             ],
             [
              1,
              "#f0f921"
             ]
            ],
            "type": "heatmap"
           }
          ],
          "histogram": [
           {
            "marker": {
             "pattern": {
              "fillmode": "overlay",
              "size": 10,
              "solidity": 0.2
             }
            },
            "type": "histogram"
           }
          ],
          "histogram2d": [
           {
            "colorbar": {
             "outlinewidth": 0,
             "ticks": ""
            },
            "colorscale": [
             [
              0,
              "#0d0887"
             ],
             [
              0.1111111111111111,
              "#46039f"
             ],
             [
              0.2222222222222222,
              "#7201a8"
             ],
             [
              0.3333333333333333,
              "#9c179e"
             ],
             [
              0.4444444444444444,
              "#bd3786"
             ],
             [
              0.5555555555555556,
              "#d8576b"
             ],
             [
              0.6666666666666666,
              "#ed7953"
             ],
             [
              0.7777777777777778,
              "#fb9f3a"
             ],
             [
              0.8888888888888888,
              "#fdca26"
             ],
             [
              1,
              "#f0f921"
             ]
            ],
            "type": "histogram2d"
           }
          ],
          "histogram2dcontour": [
           {
            "colorbar": {
             "outlinewidth": 0,
             "ticks": ""
            },
            "colorscale": [
             [
              0,
              "#0d0887"
             ],
             [
              0.1111111111111111,
              "#46039f"
             ],
             [
              0.2222222222222222,
              "#7201a8"
             ],
             [
              0.3333333333333333,
              "#9c179e"
             ],
             [
              0.4444444444444444,
              "#bd3786"
             ],
             [
              0.5555555555555556,
              "#d8576b"
             ],
             [
              0.6666666666666666,
              "#ed7953"
             ],
             [
              0.7777777777777778,
              "#fb9f3a"
             ],
             [
              0.8888888888888888,
              "#fdca26"
             ],
             [
              1,
              "#f0f921"
             ]
            ],
            "type": "histogram2dcontour"
           }
          ],
          "mesh3d": [
           {
            "colorbar": {
             "outlinewidth": 0,
             "ticks": ""
            },
            "type": "mesh3d"
           }
          ],
          "parcoords": [
           {
            "line": {
             "colorbar": {
              "outlinewidth": 0,
              "ticks": ""
             }
            },
            "type": "parcoords"
           }
          ],
          "pie": [
           {
            "automargin": true,
            "type": "pie"
           }
          ],
          "scatter": [
           {
            "fillpattern": {
             "fillmode": "overlay",
             "size": 10,
             "solidity": 0.2
            },
            "type": "scatter"
           }
          ],
          "scatter3d": [
           {
            "line": {
             "colorbar": {
              "outlinewidth": 0,
              "ticks": ""
             }
            },
            "marker": {
             "colorbar": {
              "outlinewidth": 0,
              "ticks": ""
             }
            },
            "type": "scatter3d"
           }
          ],
          "scattercarpet": [
           {
            "marker": {
             "colorbar": {
              "outlinewidth": 0,
              "ticks": ""
             }
            },
            "type": "scattercarpet"
           }
          ],
          "scattergeo": [
           {
            "marker": {
             "colorbar": {
              "outlinewidth": 0,
              "ticks": ""
             }
            },
            "type": "scattergeo"
           }
          ],
          "scattergl": [
           {
            "marker": {
             "colorbar": {
              "outlinewidth": 0,
              "ticks": ""
             }
            },
            "type": "scattergl"
           }
          ],
          "scattermap": [
           {
            "marker": {
             "colorbar": {
              "outlinewidth": 0,
              "ticks": ""
             }
            },
            "type": "scattermap"
           }
          ],
          "scattermapbox": [
           {
            "marker": {
             "colorbar": {
              "outlinewidth": 0,
              "ticks": ""
             }
            },
            "type": "scattermapbox"
           }
          ],
          "scatterpolar": [
           {
            "marker": {
             "colorbar": {
              "outlinewidth": 0,
              "ticks": ""
             }
            },
            "type": "scatterpolar"
           }
          ],
          "scatterpolargl": [
           {
            "marker": {
             "colorbar": {
              "outlinewidth": 0,
              "ticks": ""
             }
            },
            "type": "scatterpolargl"
           }
          ],
          "scatterternary": [
           {
            "marker": {
             "colorbar": {
              "outlinewidth": 0,
              "ticks": ""
             }
            },
            "type": "scatterternary"
           }
          ],
          "surface": [
           {
            "colorbar": {
             "outlinewidth": 0,
             "ticks": ""
            },
            "colorscale": [
             [
              0,
              "#0d0887"
             ],
             [
              0.1111111111111111,
              "#46039f"
             ],
             [
              0.2222222222222222,
              "#7201a8"
             ],
             [
              0.3333333333333333,
              "#9c179e"
             ],
             [
              0.4444444444444444,
              "#bd3786"
             ],
             [
              0.5555555555555556,
              "#d8576b"
             ],
             [
              0.6666666666666666,
              "#ed7953"
             ],
             [
              0.7777777777777778,
              "#fb9f3a"
             ],
             [
              0.8888888888888888,
              "#fdca26"
             ],
             [
              1,
              "#f0f921"
             ]
            ],
            "type": "surface"
           }
          ],
          "table": [
           {
            "cells": {
             "fill": {
              "color": "#EBF0F8"
             },
             "line": {
              "color": "white"
             }
            },
            "header": {
             "fill": {
              "color": "#C8D4E3"
             },
             "line": {
              "color": "white"
             }
            },
            "type": "table"
           }
          ]
         },
         "layout": {
          "annotationdefaults": {
           "arrowcolor": "#2a3f5f",
           "arrowhead": 0,
           "arrowwidth": 1
          },
          "autotypenumbers": "strict",
          "coloraxis": {
           "colorbar": {
            "outlinewidth": 0,
            "ticks": ""
           }
          },
          "colorscale": {
           "diverging": [
            [
             0,
             "#8e0152"
            ],
            [
             0.1,
             "#c51b7d"
            ],
            [
             0.2,
             "#de77ae"
            ],
            [
             0.3,
             "#f1b6da"
            ],
            [
             0.4,
             "#fde0ef"
            ],
            [
             0.5,
             "#f7f7f7"
            ],
            [
             0.6,
             "#e6f5d0"
            ],
            [
             0.7,
             "#b8e186"
            ],
            [
             0.8,
             "#7fbc41"
            ],
            [
             0.9,
             "#4d9221"
            ],
            [
             1,
             "#276419"
            ]
           ],
           "sequential": [
            [
             0,
             "#0d0887"
            ],
            [
             0.1111111111111111,
             "#46039f"
            ],
            [
             0.2222222222222222,
             "#7201a8"
            ],
            [
             0.3333333333333333,
             "#9c179e"
            ],
            [
             0.4444444444444444,
             "#bd3786"
            ],
            [
             0.5555555555555556,
             "#d8576b"
            ],
            [
             0.6666666666666666,
             "#ed7953"
            ],
            [
             0.7777777777777778,
             "#fb9f3a"
            ],
            [
             0.8888888888888888,
             "#fdca26"
            ],
            [
             1,
             "#f0f921"
            ]
           ],
           "sequentialminus": [
            [
             0,
             "#0d0887"
            ],
            [
             0.1111111111111111,
             "#46039f"
            ],
            [
             0.2222222222222222,
             "#7201a8"
            ],
            [
             0.3333333333333333,
             "#9c179e"
            ],
            [
             0.4444444444444444,
             "#bd3786"
            ],
            [
             0.5555555555555556,
             "#d8576b"
            ],
            [
             0.6666666666666666,
             "#ed7953"
            ],
            [
             0.7777777777777778,
             "#fb9f3a"
            ],
            [
             0.8888888888888888,
             "#fdca26"
            ],
            [
             1,
             "#f0f921"
            ]
           ]
          },
          "colorway": [
           "#636efa",
           "#EF553B",
           "#00cc96",
           "#ab63fa",
           "#FFA15A",
           "#19d3f3",
           "#FF6692",
           "#B6E880",
           "#FF97FF",
           "#FECB52"
          ],
          "font": {
           "color": "#2a3f5f"
          },
          "geo": {
           "bgcolor": "white",
           "lakecolor": "white",
           "landcolor": "#E5ECF6",
           "showlakes": true,
           "showland": true,
           "subunitcolor": "white"
          },
          "hoverlabel": {
           "align": "left"
          },
          "hovermode": "closest",
          "mapbox": {
           "style": "light"
          },
          "paper_bgcolor": "white",
          "plot_bgcolor": "#E5ECF6",
          "polar": {
           "angularaxis": {
            "gridcolor": "white",
            "linecolor": "white",
            "ticks": ""
           },
           "bgcolor": "#E5ECF6",
           "radialaxis": {
            "gridcolor": "white",
            "linecolor": "white",
            "ticks": ""
           }
          },
          "scene": {
           "xaxis": {
            "backgroundcolor": "#E5ECF6",
            "gridcolor": "white",
            "gridwidth": 2,
            "linecolor": "white",
            "showbackground": true,
            "ticks": "",
            "zerolinecolor": "white"
           },
           "yaxis": {
            "backgroundcolor": "#E5ECF6",
            "gridcolor": "white",
            "gridwidth": 2,
            "linecolor": "white",
            "showbackground": true,
            "ticks": "",
            "zerolinecolor": "white"
           },
           "zaxis": {
            "backgroundcolor": "#E5ECF6",
            "gridcolor": "white",
            "gridwidth": 2,
            "linecolor": "white",
            "showbackground": true,
            "ticks": "",
            "zerolinecolor": "white"
           }
          },
          "shapedefaults": {
           "line": {
            "color": "#2a3f5f"
           }
          },
          "ternary": {
           "aaxis": {
            "gridcolor": "white",
            "linecolor": "white",
            "ticks": ""
           },
           "baxis": {
            "gridcolor": "white",
            "linecolor": "white",
            "ticks": ""
           },
           "bgcolor": "#E5ECF6",
           "caxis": {
            "gridcolor": "white",
            "linecolor": "white",
            "ticks": ""
           }
          },
          "title": {
           "x": 0.05
          },
          "xaxis": {
           "automargin": true,
           "gridcolor": "white",
           "linecolor": "white",
           "ticks": "",
           "title": {
            "standoff": 15
           },
           "zerolinecolor": "white",
           "zerolinewidth": 2
          },
          "yaxis": {
           "automargin": true,
           "gridcolor": "white",
           "linecolor": "white",
           "ticks": "",
           "title": {
            "standoff": 15
           },
           "zerolinecolor": "white",
           "zerolinewidth": 2
          }
         }
        },
        "title": {
         "text": "Stacked Bar of 'POSITIVE' and 'NEGATIVE' by binned 'inclusion_ratio'",
         "x": 0.5,
         "xanchor": "center"
        },
        "width": 800,
        "xaxis": {
         "title": {
          "text": "inclusion_ratio Bins"
         }
        },
        "yaxis": {
         "title": {
          "text": "Count"
         }
        }
       }
      }
     },
     "metadata": {},
     "output_type": "display_data"
    },
    {
     "data": {
      "application/vnd.plotly.v1+json": {
       "config": {
        "plotlyServerURL": "https://plot.ly"
       },
       "data": [
        {
         "insidetextanchor": "middle",
         "marker": {
          "color": "green"
         },
         "name": "POSITIVE",
         "text": [
          "10.7%",
          "36.4%",
          "59.5%",
          "60.5%",
          "59.7%"
         ],
         "textfont": {
          "color": "white",
          "size": 12
         },
         "textposition": "inside",
         "type": "bar",
         "x": [
          "-0.0–0.2",
          "0.2–0.4",
          "0.4–0.6",
          "0.6–0.8",
          "0.8–1.0"
         ],
         "y": {
          "bdata": "AwwZGig=",
          "dtype": "i1"
         }
        },
        {
         "insidetextanchor": "middle",
         "marker": {
          "color": "red"
         },
         "name": "NEGATIVE",
         "text": [
          "89.3%",
          "63.6%",
          "40.5%",
          "39.5%",
          "40.3%"
         ],
         "textfont": {
          "color": "white",
          "size": 12
         },
         "textposition": "inside",
         "type": "bar",
         "x": [
          "-0.0–0.2",
          "0.2–0.4",
          "0.4–0.6",
          "0.6–0.8",
          "0.8–1.0"
         ],
         "y": {
          "bdata": "GRURERs=",
          "dtype": "i1"
         }
        }
       ],
       "layout": {
        "bargap": 0.25,
        "barmode": "stack",
        "height": 500,
        "template": {
         "data": {
          "bar": [
           {
            "error_x": {
             "color": "#2a3f5f"
            },
            "error_y": {
             "color": "#2a3f5f"
            },
            "marker": {
             "line": {
              "color": "#E5ECF6",
              "width": 0.5
             },
             "pattern": {
              "fillmode": "overlay",
              "size": 10,
              "solidity": 0.2
             }
            },
            "type": "bar"
           }
          ],
          "barpolar": [
           {
            "marker": {
             "line": {
              "color": "#E5ECF6",
              "width": 0.5
             },
             "pattern": {
              "fillmode": "overlay",
              "size": 10,
              "solidity": 0.2
             }
            },
            "type": "barpolar"
           }
          ],
          "carpet": [
           {
            "aaxis": {
             "endlinecolor": "#2a3f5f",
             "gridcolor": "white",
             "linecolor": "white",
             "minorgridcolor": "white",
             "startlinecolor": "#2a3f5f"
            },
            "baxis": {
             "endlinecolor": "#2a3f5f",
             "gridcolor": "white",
             "linecolor": "white",
             "minorgridcolor": "white",
             "startlinecolor": "#2a3f5f"
            },
            "type": "carpet"
           }
          ],
          "choropleth": [
           {
            "colorbar": {
             "outlinewidth": 0,
             "ticks": ""
            },
            "type": "choropleth"
           }
          ],
          "contour": [
           {
            "colorbar": {
             "outlinewidth": 0,
             "ticks": ""
            },
            "colorscale": [
             [
              0,
              "#0d0887"
             ],
             [
              0.1111111111111111,
              "#46039f"
             ],
             [
              0.2222222222222222,
              "#7201a8"
             ],
             [
              0.3333333333333333,
              "#9c179e"
             ],
             [
              0.4444444444444444,
              "#bd3786"
             ],
             [
              0.5555555555555556,
              "#d8576b"
             ],
             [
              0.6666666666666666,
              "#ed7953"
             ],
             [
              0.7777777777777778,
              "#fb9f3a"
             ],
             [
              0.8888888888888888,
              "#fdca26"
             ],
             [
              1,
              "#f0f921"
             ]
            ],
            "type": "contour"
           }
          ],
          "contourcarpet": [
           {
            "colorbar": {
             "outlinewidth": 0,
             "ticks": ""
            },
            "type": "contourcarpet"
           }
          ],
          "heatmap": [
           {
            "colorbar": {
             "outlinewidth": 0,
             "ticks": ""
            },
            "colorscale": [
             [
              0,
              "#0d0887"
             ],
             [
              0.1111111111111111,
              "#46039f"
             ],
             [
              0.2222222222222222,
              "#7201a8"
             ],
             [
              0.3333333333333333,
              "#9c179e"
             ],
             [
              0.4444444444444444,
              "#bd3786"
             ],
             [
              0.5555555555555556,
              "#d8576b"
             ],
             [
              0.6666666666666666,
              "#ed7953"
             ],
             [
              0.7777777777777778,
              "#fb9f3a"
             ],
             [
              0.8888888888888888,
              "#fdca26"
             ],
             [
              1,
              "#f0f921"
             ]
            ],
            "type": "heatmap"
           }
          ],
          "histogram": [
           {
            "marker": {
             "pattern": {
              "fillmode": "overlay",
              "size": 10,
              "solidity": 0.2
             }
            },
            "type": "histogram"
           }
          ],
          "histogram2d": [
           {
            "colorbar": {
             "outlinewidth": 0,
             "ticks": ""
            },
            "colorscale": [
             [
              0,
              "#0d0887"
             ],
             [
              0.1111111111111111,
              "#46039f"
             ],
             [
              0.2222222222222222,
              "#7201a8"
             ],
             [
              0.3333333333333333,
              "#9c179e"
             ],
             [
              0.4444444444444444,
              "#bd3786"
             ],
             [
              0.5555555555555556,
              "#d8576b"
             ],
             [
              0.6666666666666666,
              "#ed7953"
             ],
             [
              0.7777777777777778,
              "#fb9f3a"
             ],
             [
              0.8888888888888888,
              "#fdca26"
             ],
             [
              1,
              "#f0f921"
             ]
            ],
            "type": "histogram2d"
           }
          ],
          "histogram2dcontour": [
           {
            "colorbar": {
             "outlinewidth": 0,
             "ticks": ""
            },
            "colorscale": [
             [
              0,
              "#0d0887"
             ],
             [
              0.1111111111111111,
              "#46039f"
             ],
             [
              0.2222222222222222,
              "#7201a8"
             ],
             [
              0.3333333333333333,
              "#9c179e"
             ],
             [
              0.4444444444444444,
              "#bd3786"
             ],
             [
              0.5555555555555556,
              "#d8576b"
             ],
             [
              0.6666666666666666,
              "#ed7953"
             ],
             [
              0.7777777777777778,
              "#fb9f3a"
             ],
             [
              0.8888888888888888,
              "#fdca26"
             ],
             [
              1,
              "#f0f921"
             ]
            ],
            "type": "histogram2dcontour"
           }
          ],
          "mesh3d": [
           {
            "colorbar": {
             "outlinewidth": 0,
             "ticks": ""
            },
            "type": "mesh3d"
           }
          ],
          "parcoords": [
           {
            "line": {
             "colorbar": {
              "outlinewidth": 0,
              "ticks": ""
             }
            },
            "type": "parcoords"
           }
          ],
          "pie": [
           {
            "automargin": true,
            "type": "pie"
           }
          ],
          "scatter": [
           {
            "fillpattern": {
             "fillmode": "overlay",
             "size": 10,
             "solidity": 0.2
            },
            "type": "scatter"
           }
          ],
          "scatter3d": [
           {
            "line": {
             "colorbar": {
              "outlinewidth": 0,
              "ticks": ""
             }
            },
            "marker": {
             "colorbar": {
              "outlinewidth": 0,
              "ticks": ""
             }
            },
            "type": "scatter3d"
           }
          ],
          "scattercarpet": [
           {
            "marker": {
             "colorbar": {
              "outlinewidth": 0,
              "ticks": ""
             }
            },
            "type": "scattercarpet"
           }
          ],
          "scattergeo": [
           {
            "marker": {
             "colorbar": {
              "outlinewidth": 0,
              "ticks": ""
             }
            },
            "type": "scattergeo"
           }
          ],
          "scattergl": [
           {
            "marker": {
             "colorbar": {
              "outlinewidth": 0,
              "ticks": ""
             }
            },
            "type": "scattergl"
           }
          ],
          "scattermap": [
           {
            "marker": {
             "colorbar": {
              "outlinewidth": 0,
              "ticks": ""
             }
            },
            "type": "scattermap"
           }
          ],
          "scattermapbox": [
           {
            "marker": {
             "colorbar": {
              "outlinewidth": 0,
              "ticks": ""
             }
            },
            "type": "scattermapbox"
           }
          ],
          "scatterpolar": [
           {
            "marker": {
             "colorbar": {
              "outlinewidth": 0,
              "ticks": ""
             }
            },
            "type": "scatterpolar"
           }
          ],
          "scatterpolargl": [
           {
            "marker": {
             "colorbar": {
              "outlinewidth": 0,
              "ticks": ""
             }
            },
            "type": "scatterpolargl"
           }
          ],
          "scatterternary": [
           {
            "marker": {
             "colorbar": {
              "outlinewidth": 0,
              "ticks": ""
             }
            },
            "type": "scatterternary"
           }
          ],
          "surface": [
           {
            "colorbar": {
             "outlinewidth": 0,
             "ticks": ""
            },
            "colorscale": [
             [
              0,
              "#0d0887"
             ],
             [
              0.1111111111111111,
              "#46039f"
             ],
             [
              0.2222222222222222,
              "#7201a8"
             ],
             [
              0.3333333333333333,
              "#9c179e"
             ],
             [
              0.4444444444444444,
              "#bd3786"
             ],
             [
              0.5555555555555556,
              "#d8576b"
             ],
             [
              0.6666666666666666,
              "#ed7953"
             ],
             [
              0.7777777777777778,
              "#fb9f3a"
             ],
             [
              0.8888888888888888,
              "#fdca26"
             ],
             [
              1,
              "#f0f921"
             ]
            ],
            "type": "surface"
           }
          ],
          "table": [
           {
            "cells": {
             "fill": {
              "color": "#EBF0F8"
             },
             "line": {
              "color": "white"
             }
            },
            "header": {
             "fill": {
              "color": "#C8D4E3"
             },
             "line": {
              "color": "white"
             }
            },
            "type": "table"
           }
          ]
         },
         "layout": {
          "annotationdefaults": {
           "arrowcolor": "#2a3f5f",
           "arrowhead": 0,
           "arrowwidth": 1
          },
          "autotypenumbers": "strict",
          "coloraxis": {
           "colorbar": {
            "outlinewidth": 0,
            "ticks": ""
           }
          },
          "colorscale": {
           "diverging": [
            [
             0,
             "#8e0152"
            ],
            [
             0.1,
             "#c51b7d"
            ],
            [
             0.2,
             "#de77ae"
            ],
            [
             0.3,
             "#f1b6da"
            ],
            [
             0.4,
             "#fde0ef"
            ],
            [
             0.5,
             "#f7f7f7"
            ],
            [
             0.6,
             "#e6f5d0"
            ],
            [
             0.7,
             "#b8e186"
            ],
            [
             0.8,
             "#7fbc41"
            ],
            [
             0.9,
             "#4d9221"
            ],
            [
             1,
             "#276419"
            ]
           ],
           "sequential": [
            [
             0,
             "#0d0887"
            ],
            [
             0.1111111111111111,
             "#46039f"
            ],
            [
             0.2222222222222222,
             "#7201a8"
            ],
            [
             0.3333333333333333,
             "#9c179e"
            ],
            [
             0.4444444444444444,
             "#bd3786"
            ],
            [
             0.5555555555555556,
             "#d8576b"
            ],
            [
             0.6666666666666666,
             "#ed7953"
            ],
            [
             0.7777777777777778,
             "#fb9f3a"
            ],
            [
             0.8888888888888888,
             "#fdca26"
            ],
            [
             1,
             "#f0f921"
            ]
           ],
           "sequentialminus": [
            [
             0,
             "#0d0887"
            ],
            [
             0.1111111111111111,
             "#46039f"
            ],
            [
             0.2222222222222222,
             "#7201a8"
            ],
            [
             0.3333333333333333,
             "#9c179e"
            ],
            [
             0.4444444444444444,
             "#bd3786"
            ],
            [
             0.5555555555555556,
             "#d8576b"
            ],
            [
             0.6666666666666666,
             "#ed7953"
            ],
            [
             0.7777777777777778,
             "#fb9f3a"
            ],
            [
             0.8888888888888888,
             "#fdca26"
            ],
            [
             1,
             "#f0f921"
            ]
           ]
          },
          "colorway": [
           "#636efa",
           "#EF553B",
           "#00cc96",
           "#ab63fa",
           "#FFA15A",
           "#19d3f3",
           "#FF6692",
           "#B6E880",
           "#FF97FF",
           "#FECB52"
          ],
          "font": {
           "color": "#2a3f5f"
          },
          "geo": {
           "bgcolor": "white",
           "lakecolor": "white",
           "landcolor": "#E5ECF6",
           "showlakes": true,
           "showland": true,
           "subunitcolor": "white"
          },
          "hoverlabel": {
           "align": "left"
          },
          "hovermode": "closest",
          "mapbox": {
           "style": "light"
          },
          "paper_bgcolor": "white",
          "plot_bgcolor": "#E5ECF6",
          "polar": {
           "angularaxis": {
            "gridcolor": "white",
            "linecolor": "white",
            "ticks": ""
           },
           "bgcolor": "#E5ECF6",
           "radialaxis": {
            "gridcolor": "white",
            "linecolor": "white",
            "ticks": ""
           }
          },
          "scene": {
           "xaxis": {
            "backgroundcolor": "#E5ECF6",
            "gridcolor": "white",
            "gridwidth": 2,
            "linecolor": "white",
            "showbackground": true,
            "ticks": "",
            "zerolinecolor": "white"
           },
           "yaxis": {
            "backgroundcolor": "#E5ECF6",
            "gridcolor": "white",
            "gridwidth": 2,
            "linecolor": "white",
            "showbackground": true,
            "ticks": "",
            "zerolinecolor": "white"
           },
           "zaxis": {
            "backgroundcolor": "#E5ECF6",
            "gridcolor": "white",
            "gridwidth": 2,
            "linecolor": "white",
            "showbackground": true,
            "ticks": "",
            "zerolinecolor": "white"
           }
          },
          "shapedefaults": {
           "line": {
            "color": "#2a3f5f"
           }
          },
          "ternary": {
           "aaxis": {
            "gridcolor": "white",
            "linecolor": "white",
            "ticks": ""
           },
           "baxis": {
            "gridcolor": "white",
            "linecolor": "white",
            "ticks": ""
           },
           "bgcolor": "#E5ECF6",
           "caxis": {
            "gridcolor": "white",
            "linecolor": "white",
            "ticks": ""
           }
          },
          "title": {
           "x": 0.05
          },
          "xaxis": {
           "automargin": true,
           "gridcolor": "white",
           "linecolor": "white",
           "ticks": "",
           "title": {
            "standoff": 15
           },
           "zerolinecolor": "white",
           "zerolinewidth": 2
          },
          "yaxis": {
           "automargin": true,
           "gridcolor": "white",
           "linecolor": "white",
           "ticks": "",
           "title": {
            "standoff": 15
           },
           "zerolinecolor": "white",
           "zerolinewidth": 2
          }
         }
        },
        "title": {
         "text": "Stacked Bar of 'POSITIVE' and 'NEGATIVE' by binned 'inclusion_ratio'",
         "x": 0.5,
         "xanchor": "center"
        },
        "width": 800,
        "xaxis": {
         "title": {
          "text": "inclusion_ratio Bins"
         }
        },
        "yaxis": {
         "title": {
          "text": "Count"
         }
        }
       }
      }
     },
     "metadata": {},
     "output_type": "display_data"
    }
   ],
   "source": [
    "# TRUE POSITIVE / FALSE POSITIVE\n",
    "def plot_confusion_matrix_bins4(df_true, df_false, df_positive, df_negative, classstr='class', N=5):\n",
    "    import pandas as pd\n",
    "    import numpy as np\n",
    "    import plotly.graph_objects as go\n",
    "\n",
    "    # Make clean copies\n",
    "    df_true = df_true.copy()\n",
    "    df_false = df_false.copy()\n",
    "    df_positive = df_positive.copy()\n",
    "    df_negative = df_negative.copy()\n",
    "\n",
    "    # Define bin edges\n",
    "    bin_edges = np.linspace(0, 1, N + 1)\n",
    "\n",
    "    # Intersections to compute TP, FP, FN, TN correctly\n",
    "    df_tp = pd.merge(df_true, df_positive, how='inner')\n",
    "    df_fn = pd.merge(df_false, df_positive, how='inner')\n",
    "    df_fp = pd.merge(df_false, df_negative, how='inner')\n",
    "    df_tn = pd.merge(df_true, df_negative, how='inner')\n",
    "    print(f\"final number: {len(df_tp) + len(df_fn) + len(df_fp) + len(df_tn)}\") \n",
    "    print(f\"false negative {len(df_fn)}\")\n",
    "    # Assign bins\n",
    "    for df in [df_tp, df_fp, df_fn, df_tn]:\n",
    "        df['bin'] = pd.cut(df[classstr], bins=bin_edges, include_lowest=True)\n",
    "\n",
    "    # Count values per bin\n",
    "    tp_counts = df_tp['bin'].value_counts().sort_index()\n",
    "    fp_counts = df_fp['bin'].value_counts().sort_index()\n",
    "    fn_counts = df_fn['bin'].value_counts().sort_index()\n",
    "    tn_counts = df_tn['bin'].value_counts().sort_index()\n",
    "\n",
    "    # Align bins\n",
    "    all_bins = sorted(set(tp_counts.index).union(fn_counts.index, fp_counts.index, tn_counts.index))\n",
    "    bin_labels = [f\"{round(interval.left, 2)}–{round(interval.right, 2)}\" for interval in all_bins]\n",
    "\n",
    "    # Create counts dataframe\n",
    "    counts_df = pd.DataFrame(index=bin_labels)\n",
    "    counts_df['TP'] = [tp_counts.get(b, 0) for b in all_bins]\n",
    "    counts_df['FN'] = [fn_counts.get(b, 0) for b in all_bins]\n",
    "    counts_df['FP'] = [fp_counts.get(b, 0) for b in all_bins]\n",
    "    counts_df['TN'] = [tn_counts.get(b, 0) for b in all_bins]\n",
    "\n",
    "    # Compute percentages\n",
    "    counts_df['Total'] = counts_df.sum(axis=1)\n",
    "    for col in ['TP', 'FN', 'FP', 'TN']:\n",
    "        counts_df[f'{col}_pct'] = (\n",
    "            (counts_df[col] / counts_df['Total'] * 100).round(1).astype(str) + '%'\n",
    "        )\n",
    "\n",
    "    # Plot\n",
    "    fig = go.Figure()\n",
    "    for label, color in zip(['TP', 'TN', 'FP', 'FN'], ['green', 'gray', 'red', 'black']):\n",
    "        fig.add_trace(go.Bar(\n",
    "            x=counts_df.index,\n",
    "            y=counts_df[label],\n",
    "            name=label,\n",
    "            marker_color=color,\n",
    "            text=counts_df[f'{label}_pct'],\n",
    "            textposition='inside',\n",
    "            insidetextanchor='middle',\n",
    "            textfont=dict(color='white', size=12),\n",
    "        ))\n",
    "\n",
    "    fig.update_layout(\n",
    "        title=f\"Stacked Confusion Counts by Binned '{classstr}'\",\n",
    "        xaxis_title=f\"{classstr} Bins\",\n",
    "        yaxis_title=\"Count\",\n",
    "        barmode='stack',\n",
    "        width=950,\n",
    "        height=500\n",
    "    )\n",
    "\n",
    "    fig.show()   \n",
    "\n",
    "# score for all data\n",
    "def plot_confusion_matrix_bins2(df_true, df_false, df_positive, df_negative, classstr='class', N=5):\n",
    "    import pandas as pd\n",
    "    import numpy as np\n",
    "    import plotly.graph_objects as go\n",
    "\n",
    "    # Make clean copies\n",
    "    df_true = df_true.copy()\n",
    "    df_false = df_false.copy()\n",
    "    df_positive = df_positive.copy()\n",
    "    df_negative = df_negative.copy()\n",
    "\n",
    "    # Define bin edges\n",
    "    bin_edges = np.linspace(0, 1, N + 1)\n",
    "\n",
    "    # Intersections to compute TP, FP, FN, TN correctly\n",
    "    df_tp = pd.merge(df_true, df_positive, how='inner')\n",
    "    df_fn = pd.merge(df_false, df_positive, how='inner')\n",
    "    df_fp = pd.merge(df_false, df_negative, how='inner')\n",
    "    df_tn = pd.merge(df_true, df_negative, how='inner')\n",
    "\n",
    "    # Print final counts\n",
    "    total = len(df_tp) + len(df_fn) + len(df_fp) + len(df_tn)\n",
    "    print(f\"Final total: {total}\")\n",
    "    print(f\"TP: {len(df_tp)} | TN: {len(df_tn)} | FP: {len(df_fp)} | FN: {len(df_fn)}\")\n",
    "\n",
    "    # Assign bins\n",
    "    for df in [df_tp, df_fp, df_fn, df_tn]:\n",
    "        df['bin'] = pd.cut(df[classstr], bins=bin_edges, include_lowest=True)\n",
    "\n",
    "    # Count values per bin\n",
    "    tp_counts = df_tp['bin'].value_counts().sort_index()\n",
    "    fp_counts = df_fp['bin'].value_counts().sort_index()\n",
    "    fn_counts = df_fn['bin'].value_counts().sort_index()\n",
    "    tn_counts = df_tn['bin'].value_counts().sort_index()\n",
    "\n",
    "    # Align bins\n",
    "    all_bins = sorted(set(tp_counts.index).union(fn_counts.index, fp_counts.index, tn_counts.index))\n",
    "    bin_labels = [f\"{round(interval.left, 2)}–{round(interval.right, 2)}\" for interval in all_bins]\n",
    "\n",
    "    # Create counts dataframe\n",
    "    counts_df = pd.DataFrame(index=bin_labels)\n",
    "    counts_df['TP'] = [tp_counts.get(b, 0) for b in all_bins]\n",
    "    counts_df['FN'] = [fn_counts.get(b, 0) for b in all_bins]\n",
    "    counts_df['FP'] = [fp_counts.get(b, 0) for b in all_bins]\n",
    "    counts_df['TN'] = [tn_counts.get(b, 0) for b in all_bins]\n",
    "\n",
    "    # Compute percentages\n",
    "    counts_df['Total'] = counts_df.sum(axis=1)\n",
    "    for col in ['TP', 'FN', 'FP', 'TN']:\n",
    "        counts_df[f'{col}_pct'] = (\n",
    "            (counts_df[col] / counts_df['Total'] * 100).round(1).astype(str) + '%'\n",
    "        )\n",
    "\n",
    "    # Plot\n",
    "    fig = go.Figure()\n",
    "    for label, color in zip(['TP', 'TN', 'FP', 'FN'], ['green', 'gray', 'red', 'black']):\n",
    "        fig.add_trace(go.Bar(\n",
    "            x=counts_df.index,\n",
    "            y=counts_df[label],\n",
    "            name=label,\n",
    "            marker_color=color,\n",
    "            text=counts_df[f'{label}_pct'],\n",
    "            textposition='inside',\n",
    "            insidetextanchor='middle',\n",
    "            textfont=dict(color='white', size=12),\n",
    "        ))\n",
    "\n",
    "    fig.update_layout(\n",
    "        title=f\"Stacked Confusion Counts by Binned '{classstr}'\",\n",
    "        xaxis_title=f\"{classstr} Bins\",\n",
    "        yaxis_title=\"Count\",\n",
    "        barmode='stack',\n",
    "        width=950,\n",
    "        height=500\n",
    "    )\n",
    "\n",
    "    fig.show()\n",
    "\n",
    "    # === Compute Global Metrics ===\n",
    "    TP, TN, FP, FN = len(df_tp), len(df_tn), len(df_fp), len(df_fn)\n",
    "    accuracy = (TP + TN) / (TP + TN + FP + FN) if (TP + TN + FP + FN) > 0 else 0\n",
    "    precision = TP / (TP + FP) if (TP + FP) > 0 else 0\n",
    "    recall = TP / (TP + FN) if (TP + FN) > 0 else 0\n",
    "    f1 = 2 * (precision * recall) / (precision + recall) if (precision + recall) > 0 else 0\n",
    "\n",
    "    print(\"\\n=== Global Metrics ===\")\n",
    "    print(f\"Accuracy:  {accuracy:.3f}\")\n",
    "    print(f\"Precision: {precision:.3f}\")\n",
    "    print(f\"Recall:    {recall:.3f}\")\n",
    "    print(f\"F1 Score:  {f1:.3f}\")\n",
    "\n",
    "# scores per bin\n",
    "def plot_confusion_matrix_bins3_old(df_true, df_false, df_positive, df_negative, classstr='class', N=5):\n",
    "    import pandas as pd\n",
    "    import numpy as np\n",
    "    import plotly.graph_objects as go\n",
    "\n",
    "    # Make clean copies\n",
    "    df_true = df_true.copy()\n",
    "    df_false = df_false.copy()\n",
    "    df_positive = df_positive.copy()\n",
    "    df_negative = df_negative.copy()\n",
    "\n",
    "    # Define bin edges\n",
    "    bin_edges = np.linspace(0, 1, N + 1)\n",
    "\n",
    "    # Intersections to compute TP, FP, FN, TN correctly\n",
    "    df_tp = pd.merge(df_true, df_positive, how='inner')\n",
    "    df_fn = pd.merge(df_false, df_positive, how='inner')\n",
    "    df_fp = pd.merge(df_false, df_negative, how='inner')\n",
    "    df_tn = pd.merge(df_true, df_negative, how='inner')\n",
    "\n",
    "    # Print final counts\n",
    "    total = len(df_tp) + len(df_fn) + len(df_fp) + len(df_tn)\n",
    "    print(f\"Final total: {total}\")\n",
    "    print(f\"TP: {len(df_tp)} | TN: {len(df_tn)} | FP: {len(df_fp)} | FN: {len(df_fn)}\")\n",
    "\n",
    "    # Assign bins\n",
    "    for df in [df_tp, df_fp, df_fn, df_tn]:\n",
    "        df['bin'] = pd.cut(df[classstr], bins=bin_edges, include_lowest=True)\n",
    "\n",
    "    # Count values per bin\n",
    "    tp_counts = df_tp['bin'].value_counts().sort_index()\n",
    "    fp_counts = df_fp['bin'].value_counts().sort_index()\n",
    "    fn_counts = df_fn['bin'].value_counts().sort_index()\n",
    "    tn_counts = df_tn['bin'].value_counts().sort_index()\n",
    "\n",
    "    # Align bins\n",
    "    all_bins = sorted(set(tp_counts.index).union(fn_counts.index, fp_counts.index, tn_counts.index))\n",
    "    bin_labels = [f\"{round(interval.left, 2)}–{round(interval.right, 2)}\" for interval in all_bins]\n",
    "\n",
    "    # Create counts dataframe\n",
    "    counts_df = pd.DataFrame(index=bin_labels)\n",
    "    counts_df['TP'] = [tp_counts.get(b, 0) for b in all_bins]\n",
    "    counts_df['FN'] = [fn_counts.get(b, 0) for b in all_bins]\n",
    "    counts_df['FP'] = [fp_counts.get(b, 0) for b in all_bins]\n",
    "    counts_df['TN'] = [tn_counts.get(b, 0) for b in all_bins]\n",
    "\n",
    "    # Compute percentages\n",
    "    counts_df['Total'] = counts_df[['TP', 'FN', 'FP', 'TN']].sum(axis=1)\n",
    "    for col in ['TP', 'FN', 'FP', 'TN']:\n",
    "        counts_df[f'{col}_pct'] = (\n",
    "            (counts_df[col] / counts_df['Total'] * 100).round(1).astype(str) + '%'\n",
    "        )\n",
    "\n",
    "    # Compute per-bin metrics\n",
    "    def safe_div(n, d):\n",
    "        return n / d if d != 0 else 0\n",
    "\n",
    "    counts_df['accuracy'] = counts_df.apply(lambda row: safe_div(row['TP'] + row['TN'], row['Total']), axis=1)\n",
    "    counts_df['precision'] = counts_df.apply(lambda row: safe_div(row['TP'], row['TP'] + row['FP']), axis=1)\n",
    "    counts_df['recall'] = counts_df.apply(lambda row: safe_div(row['TP'], row['TP'] + row['FN']), axis=1)\n",
    "    counts_df['f1'] = counts_df.apply(lambda row: safe_div(2 * row['precision'] * row['recall'],\n",
    "                                                           row['precision'] + row['recall']), axis=1)\n",
    "\n",
    "    # Plot\n",
    "    fig = go.Figure()\n",
    "    for label, color in zip(['TP', 'TN', 'FP', 'FN'], ['green', 'gray', 'red', 'black']):\n",
    "        fig.add_trace(go.Bar(\n",
    "            x=counts_df.index,\n",
    "            y=counts_df[label],\n",
    "            name=label,\n",
    "            marker_color=color,\n",
    "            text=counts_df[f'{label}_pct'],\n",
    "            textposition='inside',\n",
    "            insidetextanchor='middle',\n",
    "            textfont=dict(color='white', size=12),\n",
    "        ))\n",
    "\n",
    "    fig.update_layout(\n",
    "        title=dict(\n",
    "        text=f\"Stacked Confusion Counts by Binned '{classstr}'\",\n",
    "        x=0.5,  # Center the title\n",
    "        xanchor='center'  # Anchor the title at the center\n",
    "        ),        \n",
    "        xaxis_title=f\"{classstr} Bins\",\n",
    "        yaxis_title=\"Count\",\n",
    "        barmode='stack',\n",
    "        width=950,\n",
    "        height=500\n",
    "    )\n",
    "    fig.show()\n",
    "\n",
    "    # Print per-bin metrics\n",
    "    print(\"\\n=== Per-bin Metrics ===\")\n",
    "    for idx, row in counts_df.iterrows():\n",
    "        print(f\"\\nBin {idx}:\")\n",
    "        print(f\"  Accuracy:  {row['accuracy']:.3f}\")\n",
    "        print(f\"  Precision: {row['precision']:.3f}\")\n",
    "        print(f\"  Recall:    {row['recall']:.3f}\")\n",
    "        print(f\"  F1 Score:  {row['f1']:.3f}\")\n",
    "\n",
    "\n",
    "def plot_confusion_matrix_bins3(df_true, df_false, df_positive, df_negative, classstr='class', N=5, title_str=None):\n",
    "    import pandas as pd\n",
    "    import numpy as np\n",
    "    import plotly.graph_objects as go\n",
    "\n",
    "    # Make clean copies\n",
    "    df_true = df_true.copy()\n",
    "    df_false = df_false.copy()\n",
    "    df_positive = df_positive.copy()\n",
    "    df_negative = df_negative.copy()\n",
    "\n",
    "    # Define bin edges\n",
    "    bin_edges = np.linspace(0, 1, N + 1)\n",
    "\n",
    "    # Intersections to compute TP, FP, FN, TN correctly\n",
    "    df_tp = pd.merge(df_true, df_positive, how='inner')\n",
    "    df_fn = pd.merge(df_false, df_positive, how='inner')\n",
    "    df_fp = pd.merge(df_false, df_negative, how='inner')\n",
    "    df_tn = pd.merge(df_true, df_negative, how='inner')\n",
    "\n",
    "    # Print final counts\n",
    "    total = len(df_tp) + len(df_fn) + len(df_fp) + len(df_tn)\n",
    "    print(f\"Final total: {total}\")\n",
    "    print(f\"TP: {len(df_tp)} | TN: {len(df_tn)} | FP: {len(df_fp)} | FN: {len(df_fn)}\")\n",
    "\n",
    "    # Assign bins\n",
    "    for df in [df_tp, df_fp, df_fn, df_tn]:\n",
    "        df['bin'] = pd.cut(df[classstr], bins=bin_edges, include_lowest=True)\n",
    "\n",
    "    # Count values per bin\n",
    "    tp_counts = df_tp['bin'].value_counts().sort_index()\n",
    "    fp_counts = df_fp['bin'].value_counts().sort_index()\n",
    "    fn_counts = df_fn['bin'].value_counts().sort_index()\n",
    "    tn_counts = df_tn['bin'].value_counts().sort_index()\n",
    "\n",
    "    # Align bins\n",
    "    all_bins = sorted(set(tp_counts.index).union(fn_counts.index, fp_counts.index, tn_counts.index))\n",
    "    bin_labels = [f\"{round(interval.left, 2)}–{round(interval.right, 2)}\" for interval in all_bins]\n",
    "\n",
    "    # Create counts dataframe\n",
    "    counts_df = pd.DataFrame(index=bin_labels)\n",
    "    counts_df['TP'] = [tp_counts.get(b, 0) for b in all_bins]\n",
    "    counts_df['FN'] = [fn_counts.get(b, 0) for b in all_bins]\n",
    "    counts_df['FP'] = [fp_counts.get(b, 0) for b in all_bins]\n",
    "    counts_df['TN'] = [tn_counts.get(b, 0) for b in all_bins]\n",
    "\n",
    "    # Compute percentages\n",
    "    counts_df['Total'] = counts_df[['TP', 'FN', 'FP', 'TN']].sum(axis=1)\n",
    "    for col in ['TP', 'FN', 'FP', 'TN']:\n",
    "        counts_df[f'{col}_pct'] = (\n",
    "            (counts_df[col] / counts_df['Total'] * 100).round(1).astype(str) + '%'\n",
    "        )\n",
    "\n",
    "    # Compute per-bin metrics\n",
    "    def safe_div(n, d):\n",
    "        return n / d if d != 0 else 0\n",
    "\n",
    "    counts_df['accuracy'] = counts_df.apply(lambda row: safe_div(row['TP'] + row['TN'], row['Total']), axis=1)\n",
    "    counts_df['precision'] = counts_df.apply(lambda row: safe_div(row['TP'], row['TP'] + row['FP']), axis=1)\n",
    "    counts_df['recall'] = counts_df.apply(lambda row: safe_div(row['TP'], row['TP'] + row['FN']), axis=1)\n",
    "    counts_df['f1'] = counts_df.apply(lambda row: safe_div(2 * row['precision'] * row['recall'],\n",
    "                                                           row['precision'] + row['recall']), axis=1)\n",
    "\n",
    "    # Default title\n",
    "    if title_str is None:\n",
    "        title_str = f\"Stacked Confusion Counts by Binned '{classstr}'\"\n",
    "\n",
    "    # Plot\n",
    "    fig = go.Figure()\n",
    "    for label, color in zip(['TP', 'TN', 'FP', 'FN'], ['green', 'gray', 'red', 'black']):\n",
    "        fig.add_trace(go.Bar(\n",
    "            x=counts_df.index,\n",
    "            y=counts_df[label],\n",
    "            name=label,\n",
    "            marker_color=color,\n",
    "            text=counts_df[f'{label}_pct'],\n",
    "            textposition='inside',\n",
    "            insidetextanchor='middle',\n",
    "            textfont=dict(color='white', size=12),\n",
    "        ))\n",
    "\n",
    "    fig.update_layout(\n",
    "        title=dict(\n",
    "            text=title_str,\n",
    "            x=0.5,\n",
    "            xanchor='center'\n",
    "        ),\n",
    "        xaxis_title=f\"{classstr} Bins\",\n",
    "        yaxis_title=\"Count\",\n",
    "        barmode='stack',\n",
    "        bargap=0.4,  # Make bars slimmer\n",
    "        width=600,\n",
    "        height=500\n",
    "    )\n",
    "\n",
    "    fig.show()\n",
    "\n",
    "    # Print per-bin metrics\n",
    "    print(\"\\n=== Per-bin Metrics ===\")\n",
    "    for idx, row in counts_df.iterrows():\n",
    "        print(f\"\\nBin {idx}:\")\n",
    "        print(f\"  Accuracy:  {row['accuracy']:.3f}\")\n",
    "        print(f\"  Precision: {row['precision']:.3f}\")\n",
    "        print(f\"  Recall:    {row['recall']:.3f}\")\n",
    "        print(f\"  F1 Score:  {row['f1']:.3f}\")\n",
    "\n",
    "\n",
    "def plot_binary_stack_by_bin_old(df_a, df_b, classstr='class', N=5, label_a='A', label_b='B'):\n",
    "    # Define bin edges\n",
    "    bin_edges = np.linspace(0, 1, N + 1)\n",
    "\n",
    "    # Make copies to avoid warnings\n",
    "    df_a = df_a.copy()\n",
    "    df_b = df_b.copy()\n",
    "\n",
    "    # Assign bins\n",
    "    df_a.loc[:, 'bin'] = pd.cut(df_a[classstr], bins=bin_edges, include_lowest=True)\n",
    "    df_b.loc[:, 'bin'] = pd.cut(df_b[classstr], bins=bin_edges, include_lowest=True)\n",
    "\n",
    "    # Count values in each bin\n",
    "    a_counts = df_a['bin'].value_counts().sort_index()\n",
    "    b_counts = df_b['bin'].value_counts().sort_index()\n",
    "\n",
    "    # Ensure all bins present\n",
    "    all_bins = sorted(set(a_counts.index).union(b_counts.index))\n",
    "    bin_labels = [f\"{round(interval.left, 2)}–{round(interval.right, 2)}\" for interval in all_bins]\n",
    "\n",
    "    # Create counts DataFrame\n",
    "    counts_df = pd.DataFrame(index=bin_labels)\n",
    "    counts_df[label_a] = [a_counts.get(b, 0) for b in all_bins]\n",
    "    counts_df[label_b] = [b_counts.get(b, 0) for b in all_bins]\n",
    "\n",
    "    # Calculate total and percentage\n",
    "    counts_df['Total'] = counts_df[label_a] + counts_df[label_b]\n",
    "    for label in [label_a, label_b]:\n",
    "        counts_df[f'{label}_pct'] = (counts_df[label] / counts_df['Total'] * 100).round(1).astype(str) + '%'\n",
    "\n",
    "    # Plot\n",
    "    fig = go.Figure()\n",
    "    for label, color in zip([label_a, label_b], ['green', 'red']):\n",
    "        fig.add_trace(go.Bar(\n",
    "            x=counts_df.index,\n",
    "            y=counts_df[label],\n",
    "            name=label,\n",
    "            marker_color=color,\n",
    "            text=counts_df[f'{label}_pct'],\n",
    "            textposition='inside',\n",
    "            insidetextanchor='middle',\n",
    "            textfont=dict(color='white', size=12),\n",
    "        ))\n",
    "\n",
    "    fig.update_layout(\n",
    "        title=dict(\n",
    "        text=f\"Stacked Bar of '{label_a}' and '{label_b}' by binned '{classstr}'\",\n",
    "        x=0.5,  # Center the title\n",
    "        xanchor='center'  # Anchor the title at the center\n",
    "        ),\n",
    "        xaxis_title=f\"{classstr} Bins\",\n",
    "        yaxis_title=\"Count\",\n",
    "        barmode='stack',\n",
    "        width=800,\n",
    "        height=500\n",
    "    )\n",
    "\n",
    "    fig.show() \n",
    "\n",
    "def plot_binary_stack_by_bin(df_a, df_b, classstr='class', N=5, label_a='A', label_b='B', title_str=None):\n",
    "    import numpy as np\n",
    "    import pandas as pd\n",
    "    import plotly.graph_objects as go\n",
    "\n",
    "    # Define bin edges\n",
    "    bin_edges = np.linspace(0, 1, N + 1)\n",
    "\n",
    "    # Make copies to avoid SettingWithCopyWarning\n",
    "    df_a = df_a.copy()\n",
    "    df_b = df_b.copy()\n",
    "\n",
    "    # Assign bins\n",
    "    df_a['bin'] = pd.cut(df_a[classstr], bins=bin_edges, include_lowest=True)\n",
    "    df_b['bin'] = pd.cut(df_b[classstr], bins=bin_edges, include_lowest=True)\n",
    "\n",
    "    # Count values in each bin\n",
    "    a_counts = df_a['bin'].value_counts().sort_index()\n",
    "    b_counts = df_b['bin'].value_counts().sort_index()\n",
    "\n",
    "    # Ensure consistent bin labels\n",
    "    all_bins = sorted(set(a_counts.index).union(b_counts.index))\n",
    "    bin_labels = [f\"{round(interval.left, 2)}–{round(interval.right, 2)}\" for interval in all_bins]\n",
    "\n",
    "    # Create counts DataFrame\n",
    "    counts_df = pd.DataFrame(index=bin_labels)\n",
    "    counts_df[label_a] = [a_counts.get(b, 0) for b in all_bins]\n",
    "    counts_df[label_b] = [b_counts.get(b, 0) for b in all_bins]\n",
    "\n",
    "    # Calculate total and percentage\n",
    "    counts_df['Total'] = counts_df[label_a] + counts_df[label_b]\n",
    "    for label in [label_a, label_b]:\n",
    "        counts_df[f'{label}_pct'] = (\n",
    "            (counts_df[label] / counts_df['Total'] * 100).round(1).astype(str) + '%'\n",
    "        )\n",
    "\n",
    "    # Plot\n",
    "    fig = go.Figure()\n",
    "    for label, color in zip([label_a, label_b], ['green', 'red']):\n",
    "        fig.add_trace(go.Bar(\n",
    "            x=counts_df.index,\n",
    "            y=counts_df[label],\n",
    "            name=label,\n",
    "            marker_color=color,\n",
    "            text=counts_df[f'{label}_pct'],\n",
    "            textposition='inside',\n",
    "            insidetextanchor='middle',\n",
    "            textfont=dict(color='white', size=12),\n",
    "        ))\n",
    "\n",
    "    # Title logic\n",
    "    if title_str is None:\n",
    "        title_str = f\"Stacked Bar of '{label_a}' and '{label_b}' by binned '{classstr}'\"\n",
    "\n",
    "    fig.update_layout(\n",
    "        title=dict(\n",
    "            text=title_str,\n",
    "            x=0.5,\n",
    "            xanchor='center'\n",
    "        ),\n",
    "        xaxis_title=f\"{classstr} Bins\",\n",
    "        yaxis_title=\"Count\",\n",
    "        barmode='stack',\n",
    "        bargap=0.25,  # Increase gap to make bars slimmer\n",
    "        width=800,\n",
    "        height=500\n",
    "    )\n",
    "\n",
    "    fig.show()\n",
    "\n",
    "# Plot True Positive and False Positive in Bar Graph for all strict baselines\n",
    "#Select한 ratio가 높은게 좋은게 아니라, 정답중에 얼마나 골랐느냐와 고른 것중에 정답이 얼마나 있었는가가 더 중요하다.\n",
    "\n",
    "#=======================\n",
    "# POSITIVES & NEGATIVES\n",
    "#=======================\n",
    "#strict rules\n",
    "rag_positive = efil3_both_rag #POSITIVE\n",
    "rag_negative = df_eval_rag.drop(efil3_both_rag.index) #NEGETIVE\n",
    "rag_true = efil3_human_rag #TRUE\n",
    "rag_false = df_eval_rag.drop(efil3_human_rag.index) #FALSE\n",
    "print(rag_positive.head(20))\n",
    "print(rag_negative.head(20))\n",
    "\n",
    "\n",
    "norag_positive = efil3_both_norag\n",
    "norag_negative = df_eval_norag.drop(efil3_both_norag.index)\n",
    "norag_true = efil3_human_norag\n",
    "norag_false = df_eval_norag.drop(efil3_human_norag.index)\n",
    "\n",
    "#------lenient rules------ for (all entity, all sim, only sequence)\n",
    "# rag_positive = efil3_both_rag2 #TP\n",
    "# rag_negative = df_eval_rag.drop(efil3_both_rag2.index) #TN\n",
    "# rag_true = efil3_human_rag2 #\n",
    "# rag_false = df_eval_rag.drop(efil3_human_rag2.index)\n",
    "\n",
    "# norag_positive = efil3_both_norag2\n",
    "# norag_negative = df_eval_norag.drop(efil3_both_norag2.index)\n",
    "# norag_true = efil3_human_norag2\n",
    "# norag_false = df_eval_norag.drop(efil3_human_norag2.index)\n",
    "#--------------------------\n",
    "\n",
    "raggoal_positive = efil3_raggoal\n",
    "raggoal_negative = df_eval_raggoal.drop(efil3_raggoal.index)\n",
    "raggoal_true = efil3_human_raggoal\n",
    "raggoal_false = df_eval_raggoal.drop(efil3_human_raggoal.index)\n",
    "\n",
    "noraggoal_positive = efil3_noraggoal\n",
    "noraggoal_negative = df_eval_noraggoal.drop(efil3_noraggoal.index)\n",
    "noraggoal_true = efil3_human_noraggoal\n",
    "noraggoal_false = df_eval_noraggoal.drop(efil3_human_noraggoal.index)\n",
    "\n",
    "\n",
    "#=======================\n",
    "# Drawing each values\n",
    "#=======================\n",
    "#N=1\n",
    "print(rag_true.shape[0])\n",
    "print(rag_false.shape[0])\n",
    "print(rag_positive.shape[0])\n",
    "print(rag_negative.shape[0])\n",
    "\n",
    "\n",
    "plot_confusion_matrix_bins3(rag_true, rag_false,rag_positive, rag_negative, classstr='target_equal_ratio', N=1, title_str=\"Stacked Confusion Chart (taxo-med-rag)\")\n",
    " \n",
    "plot_confusion_matrix_bins3(norag_true, norag_false, norag_positive, norag_negative, classstr='target_equal_ratio', N=1, title_str=\"Stacked Confusion Chart (taxo-med)\")\n",
    "\n",
    "plot_confusion_matrix_bins3(raggoal_true, raggoal_false, raggoal_positive, raggoal_negative, classstr='target_equal_ratio', N=1, title_str=\"Stacked Confusion Chart (goal-med-rag)\")\n",
    "\n",
    "plot_confusion_matrix_bins3(noraggoal_true, noraggoal_false, noraggoal_positive, noraggoal_negative, classstr='target_equal_ratio', N=1, title_str=\"Stacked Confusion Chart (goal-med)\")\n",
    "\n",
    "\n",
    "plot_confusion_matrix_bins3(rag_true, rag_false,rag_positive, rag_negative, classstr='target_equal_ratio', N=3, title_str=\"Stacked Confusion Chart (taxo-med-rag)\")\n",
    " \n",
    "plot_confusion_matrix_bins3(norag_true, norag_false, norag_positive, norag_negative, classstr='target_equal_ratio', N=3, title_str=\"Stacked Confusion Chart (taxo-med)\")\n",
    "\n",
    "plot_confusion_matrix_bins3(raggoal_true, raggoal_false, raggoal_positive, raggoal_negative, classstr='target_equal_ratio', N=3, title_str=\"Stacked Confusion Chart (goal-med-rag)\")\n",
    "\n",
    "plot_confusion_matrix_bins3(noraggoal_true, noraggoal_false, noraggoal_positive, noraggoal_negative, classstr='target_equal_ratio', N=3, title_str=\"Stacked Confusion Chart (goal-med)\")\n",
    "\n",
    "\n",
    "\n",
    "# def plot_binary_stack_by_bin(df_a, df_b, classstr='class', N=5, label_a='A', label_b='B'):\n",
    "plot_binary_stack_by_bin(rag_true, rag_false, classstr='target_equal_ratio', N=5, label_a='TRUE', label_b='FAlSE')\n",
    "\n",
    "plot_binary_stack_by_bin(rag_positive, rag_negative, classstr='target_equal_ratio', N=5, label_a='POSITIVE', label_b='NEGATIVE')\n",
    "\n",
    "plot_binary_stack_by_bin(norag_positive, norag_negative, classstr='target_equal_ratio', N=5, label_a='POSITIVE', label_b='NEGATIVE')\n",
    "\n",
    "plot_binary_stack_by_bin(raggoal_positive, raggoal_negative, classstr='target_equal_ratio', N=5, label_a='POSITIVE', label_b='NEGATIVE')\n",
    "#N=3\n",
    "# plot_confusion_matrix_bins3(rag_true, rag_false,rag_positive, rag_negative, classstr='target_equal_ratio', N=3)\n",
    "\n",
    "# plot_confusion_matrix_bins3(norag_true, norag_false, norag_positive, norag_negative, classstr='target_equal_ratio', N=3)\n",
    "\n",
    "# plot_confusion_matrix_bins3(raggoal_true, raggoal_false, raggoal_positive, raggoal_negative, classstr='target_equal_ratio', N=3)\n",
    "\n",
    "# plot_confusion_matrix_bins3(noraggoal_true, noraggoal_false, noraggoal_positive, noraggoal_negative, classstr='target_equal_ratio', N=3)"
   ]
  },
  {
   "cell_type": "code",
   "execution_count": 74,
   "id": "689422e2",
   "metadata": {},
   "outputs": [
    {
     "name": "stdout",
     "output_type": "stream",
     "text": [
      "[0, 0, 0, 1, 1, 1, 2, 2, 2, 3, 3, 3, 4, 4, 4, 5, 5, 5, 6, 6, 6, 7, 7, 7, 8, 8, 8, 9, 9, 9, 10, 10, 10, 11, 11, 11, 12, 12, 12, 13, 13, 13, 14, 14, 14, 15, 15, 15, 16, 16, 16, 17, 17, 17, 18, 18, 18, 19, 19, 19, 20, 20, 20, 21, 21, 21, 22, 22, 22, 23, 23, 23, 24, 24, 24, 25, 25, 25, 26, 26, 26, 27, 27, 27, 28, 28, 28, 29, 29, 29, 30, 30, 30, 31, 31, 31, 32, 32, 32, 33, 33, 33, 34, 34, 34, 35, 35, 35, 36, 36, 36, 37, 37, 37, 38, 38, 38, 39, 39, 39, 40, 40, 40, 41, 41, 41, 42, 42, 42, 43, 43, 43, 44, 44, 44, 45, 45, 45, 46, 46, 46, 47, 47, 47, 48, 48, 48, 49, 49, 49, 50, 50, 50, 51, 51, 51, 52, 52, 52, 53, 53, 53, 54, 54, 54, 55, 55, 55, 56, 56, 56, 57, 57, 57, 58, 58, 58, 59, 59, 59, 60, 60, 60, 61, 61, 61, 62, 62, 62, 63, 63, 63, 64, 64, 64, 65, 65, 65, 66, 66, 66, 67, 67, 67, 68, 68, 68, 69, 69, 69, 70, 70, 70]\n",
      "213\n",
      "213\n",
      "213\n",
      "213\n",
      "213\n",
      "source video grp-ffd863cb-f06b-404e-a013-54acb61f1ed9\n",
      "0.3635432287456949\n",
      "0.3635432287456949\n",
      "0.3554673697559144\n"
     ]
    }
   ],
   "source": [
    "# core activity and goal description \n",
    "import openai\n",
    "openai.api_key = os.getenv(\"OPENAI_API_KEY\")  \n",
    "\n",
    "# def get_embedding(text):\n",
    "#     response = client.embeddings.create(\n",
    "#         model=\"text-embedding-3-large\",\n",
    "#         input=text\n",
    "#     )\n",
    "#     return response.data[0].embedding\n",
    "\n",
    "def get_embedding(text):\n",
    "    response = openai.embeddings.create(\n",
    "        model=\"text-embedding-3-large\",\n",
    "        input=[text]\n",
    "    )\n",
    "    return response.data[0].embedding\n",
    "\n",
    "\n",
    "source_idx_list = [i for i in range(213//3) for _ in range(3)]\n",
    "print(source_idx_list)\n",
    "print(len(source_idx_list))\n",
    "goalsim1 = []\n",
    "goalsim2 = []\n",
    "goalsim3 = []\n",
    "goalsim4 = []\n",
    "print(len(df_eval_rag))\n",
    "print(len(df_eval_norag))\n",
    "print(len(df_eval_raggoal))\n",
    "print(len(df_eval_noraggoal))\n",
    "\n",
    "\n",
    "\n",
    "for i in range(len(source_idx_list)-1, len(source_idx_list)):\n",
    "    # print(i)\n",
    "    source_video_idx = source_idx_list[i]\n",
    "    goalstep_test_video_list = database_init.goalstep_test_video_list\n",
    "    source_goalstep_video = goalstep_test_video_list[source_video_idx]    \n",
    "\n",
    "    print( f\"source video {source_goalstep_video['video_uid']}\" )\n",
    "    # print( f\"goal_desc {source_goalstep_video['goal_description']}\" )\n",
    "    # print( f\"core_activity {df_eval_rag.iloc[i]['core_activity']}\" )\n",
    "\n",
    "    \n",
    "    embedding_description = get_embedding(source_goalstep_video['goal_description'])\n",
    "    embedding_rag = get_embedding(df_eval_rag.iloc[i]['core_activity'])\n",
    "    embedding_norag = get_embedding(df_eval_norag.iloc[i]['core_activity'])\n",
    "    embedding_raggoal = get_embedding(df_eval_raggoal.iloc[i]['core_activity'])\n",
    "    # embedding_noraggoal = get_embedding(df_eval_noraggoal.iloc[i]['core_activity'])\n",
    "\n",
    "    similarity1 = cosine_similarity(np.array(embedding_description), np.array(embedding_rag))\n",
    "    similarity2 = cosine_similarity(np.array(embedding_description), np.array(embedding_norag))\n",
    "    similarity3 = cosine_similarity(np.array(embedding_description), np.array(embedding_raggoal))\n",
    "    # similarity4 = cosine_similarity(np.array(embedding_description), np.array(embedding_noraggoal))\n",
    "    \n",
    "    print(similarity1)\n",
    "    print(similarity2)\n",
    "    print(similarity3)\n",
    "    goalsim1.append(similarity1)\n",
    "    goalsim2.append(similarity2)\n",
    "    goalsim3.append(similarity3)\n",
    "    # goalsim4.append(similarity4)\n",
    "\n",
    "# print(goalsim1)\n",
    "# print(goalsim2)\n",
    "# print(goalsim3)\n",
    "# print(goalsim4)\n",
    "# print(len(goalsim1))\n",
    "# print(len(goalsim2))\n",
    "# print(len(goalsim3))\n",
    "# print(len(goalsim4))\n"
   ]
  },
  {
   "cell_type": "code",
   "execution_count": 73,
   "id": "6ed6191e",
   "metadata": {},
   "outputs": [
    {
     "name": "stdout",
     "output_type": "stream",
     "text": [
      "nan\n"
     ]
    }
   ],
   "source": [
    "\n",
    "\n",
    "\n",
    "# print(goalsim1)\n",
    "# print(goalsim2)\n",
    "# print(goalsim3)\n",
    "# print(goalsim4)\n",
    "\n",
    "\n",
    "print(df_eval_noraggoal.iloc[212]['core_activity'])\n"
   ]
  },
  {
   "cell_type": "code",
   "execution_count": 76,
   "id": "9779989c",
   "metadata": {},
   "outputs": [],
   "source": [
    "similarity1=[0.5778636637447012, 0.582974897182386, 0.5778284959124516, 0.679542106957833, 0.6436508520286807, 0.679542106957833, 0.5483460386832888, 0.5483244494789303, 0.5483460386832888, 0.7705137145340148, 0.7114514054869984, 0.7704460845681002, 0.6325576995118218, 0.589508238521243, 0.6325802688691654, 0.7744213595688373, 0.7398820411007674, 0.5409185542065786, 0.6721210949151936, 0.6720836780494432, 0.6720195044491901, 0.6128996927323961, 0.6128996927323961, 0.9170288585563074, 0.38617919327804573, 0.38616453838135334, 0.38616453838135334, 0.6776448207915785, 0.6774544468701627, 0.6774373890014296, 0.6524793125515148, 0.6525233548081956, 0.670201359262916, 0.4307649610668214, 0.4307649610668214, 0.4307649610668214, 0.3341355650824397, 0.3449026844302219, 0.34481826961991596, 0.5408675552746434, 0.5408675552746434, 0.5408675552746434, 0.25735798506004315, 0.25735798506004315, 0.25740455906370646, 0.47624672582462374, 0.47624672582462374, 0.47624672582462374, 0.39301777440782615, 0.49765122250028365, 0.39301777440782615, 0.557090942972094, 0.5771974724641636, 0.557090942972094, 0.4485141151772602, 0.4485141151772602, 0.47506154443901544, 0.4334910297085468, 0.5417568548473599, 0.4334252189112176, 0.41317893804230205, 0.41317893804230205, 0.41317893804230205, 0.46969598025622333, 0.5449208303465614, 0.46969598025622333, 0.40548632929391404, 0.40548632929391404, 0.405457356015192, 0.3537378236832194, 0.327415362723898, 0.28218294778507513, 0.7990514287184614, 0.7990301388946973, 0.799024608484631, 0.5130483000828613, 0.5130483000828613, 0.5105820987928431, 0.7256648965939693, 0.7256076255241531, 0.7256648965939693, 0.7185290119506106, 0.7185290119506106, 0.7185290119506106, 0.694718896076403, 0.6953022099977036, 0.6946641376601989, 0.31455895726994637, 0.3145525152162654, 0.31455895726994637, 0.39875130558791905, 0.3716429506872173, 0.35314196562446726, 0.6285916440317936, 0.642838133007802, 0.6429188955606232, 0.47691026331058317, 0.47697190561478203, 0.47691026331058317, 0.6174370690258875, 0.46157274897942474, 0.5000071258394309, 0.48498613071790553, 0.46351202318495677, 0.46351202318495677, 0.58557187586642, 0.58557187586642, 0.6204193597294554, 0.5091187335232681, 0.5092528369782692, 0.5092528369782692, 0.7404215830750367, 0.8694092606356736, 0.8694092606356736, 0.24217799988440128, 0.23732106742165782, 0.2373130580573219, 0.8149869618463819, 0.7498228569221376, 0.7425164077638325, 0.8656840941652026, 0.8657080815203794, 0.8657106529747386, 0.36641605672488886, 0.36818186308539075, 0.36646057762948997, 0.5392093997243067, 0.5354907616252497, 0.5392093997243067, 0.3536987994290063, 0.3537155061089267, 0.3536987994290063, 0.5842487748233518, 0.5842487748233518, 0.5842487748233518, 0.39239496621408587, 0.392341865014541, 0.39232670906738404, 0.8384815217604682, 0.8384815217604682, 0.8384815217604682, 0.7819107090333783, 0.7819486540111621, 0.7819486540111621, 0.288233010676044, 0.2882415571862892, 0.3942077396363303, 0.3264425575590685, 0.3264425575590685, 0.326457788439521, 0.759013486352823, 0.759013486352823, 0.3888195020888615, 0.7022789744280139, 0.7022031191369117, 0.7022789744280139, 0.8880398760549424, 0.8880398760549424, 0.8880398760549424, 0.15617376813290915, 0.1561892127473618, 0.15621627919879916, 0.8286782017357481, 0.8287067495860981, 0.8287086633468697, 0.6902239526782921, 0.6902239526782921, 0.6902407850367202, 0.5657193507809647, 0.5657193507809647, 0.5657193507809647, 0.802242057720892, 0.8527690418801647, 0.802242057720892, 0.3840288234517097, 0.38402441601749604, 0.38405652780516053, 0.3163796451963766, 0.3162978737220522, 0.3163059454093794, 0.2071106597824005, 0.20704985895654948, 0.20704985895654948, 0.424802837304989, 0.4247564309672468, 0.4247564309672468, 0.2640132208018344, 0.2516608417257411, 0.3460022145615208, 0.48814310725734567, 0.48811644564481355, 0.48817151553652377, 0.37158770884013037, 0.37158770884013037, 0.37158770884013037, 0.4694627188763364, 0.46945173854990163, 0.46966188459974356, 0.297615841041411, 0.27882005118197617, 0.29768904663996737, 0.30569686977128474, 0.30569686977128474, 0.30569686977128474, 0.6143577430185075, 0.6143577430185075, 0.6159759291964962, 0.41502221316017135, 0.3858066630117833, 0.41502221316017135, 0.3635975122682438, 0.36351278362222283, 0.3635432287456949]\n",
    "\n",
    "similarity2=[0.7996235604519438, 0.7505865952990389, 0.7996235604519438, 0.6436508520286807, 0.679542106957833, 0.6794971893555375, 0.7320037325458781, 0.7320037325458781, 0.7320037325458781, 0.7705137145340148, 0.7704460845681002, 0.7704460845681002, 0.6195611824309806, 0.6564771219018858, 0.6564771219018858, 0.599551425086088, 0.599551425086088, 0.599551425086088, 0.6795807740859883, 0.6795807740859883, 0.6795398046747823, 0.6128996927323961, 0.6128472696622601, 0.612620617315679, 0.4657714873033477, 0.20313262958748873, 0.39504171853899084, 0.7649170809251293, 0.764915047233493, 0.7649170809251293, 0.6524793125515148, 0.6524793125515148, 0.6525446777159358, 0.5525842145325672, 0.5525842145325672, 0.5525842145325672, 0.34481826961991596, 0.34493624171027965, 0.3341355650824397, 0.47463767200835677, 0.4173317130907538, 0.4173317130907538, 0.25735798506004315, 0.25735798506004315, 0.25740455906370646, 0.24114346770797848, 0.24114346770797848, 0.24114346770797848, 0.39301777440782615, 0.39301777440782615, 0.3929758471263424, 0.557090942972094, 0.5570454022578315, 0.5821714822114508, 0.38144611408149326, 0.38144611408149326, 0.4778488601035727, 0.4334399678317037, 0.4334910297085468, 0.3889500607898847, 0.41317893804230205, 0.41317893804230205, 0.41317893804230205, 0.3342417043450787, 0.32670115062055255, 0.2115945539073312, 0.6193084465542829, 0.5306282769504033, 0.5305833853058023, 0.3537378236832194, 0.28218294778507513, 0.3274435296222377, 0.9999990476852048, 1.0000000000000002, 1.0000000000000002, 0.6883347525012372, 0.6883347525012372, 0.6883901056645582, 0.7256648965939693, 0.7256648965939693, 0.7256648965939693, 0.7185290119506106, 0.7185290119506106, 0.7185019419849975, 0.8122172870606168, 0.722075916267506, 0.7668273862143209, 0.2667124786106884, 0.2560461838570885, 0.2667124786106884, 0.42829135875632385, 0.5143416302458235, 0.5143416302458235, 0.6410740422148599, 0.6410094370177746, 0.6086836907165005, 0.4766499775347174, 0.47678595257763273, 0.47691026331058317, 0.45187513955106356, 0.4018062534042619, 0.5000071258394309, 0.4213888619221459, 0.4213888619221459, 0.4852134484021161, 0.5503958158059123, 0.5913557728459251, 0.6113648383049102, 0.7736734667830533, 0.7737222874939718, 0.7736734667830533, 0.7404215830750367, 0.9244798511819445, 0.7650925456542989, 0.27224746109117215, 0.32798163716781703, 0.27224746109117215, 0.7607327962167714, 0.7348161895346612, 0.7348161895346612, 0.6500383353623543, 0.8657080815203794, 0.6500383353623543, 0.36818186308539075, 0.43328299888071914, 0.43328299888071914, 0.5392093997243067, 0.5354948361740165, 0.7783033052822609, 0.3258342116272503, 0.37977927517293525, 0.325877058550351, 0.3477622829198257, 0.3477622829198257, 0.3477622829198257, 0.576387278165039, 0.5762827681974464, 0.4909236111143983, 0.6549386609419069, 0.6549386609419069, 0.6504485691697728, 0.7819107090333783, 0.7819486540111621, 0.7819486540111621, 0.39426312404259073, 0.39416837651442194, 0.3942077396363303, 0.29999394555258685, 0.29999394555258685, 0.29999394555258685, 0.7357665174821139, 0.8062754777540277, 0.8062047200285555, 0.5941204018230147, 0.6856537158862475, 0.6700350676500797, 0.7356055439272154, 0.7356055439272154, 0.8880398760549424, 0.3422956525409453, 0.15617376813290915, 0.15621627919879916, 0.8730221860260554, 0.8287067495860981, 0.8730870722227939, 0.6402869377846522, 0.6402869377846522, 0.6402869377846522, 0.5657193507809647, 0.5657193507809647, 0.5907343930279394, 0.31813734142869177, 0.31813734142869177, 0.31813734142869177, 0.38402441601749604, 0.38402441601749604, 0.38405652780516053, 0.35820882180326863, 0.358128139481723, 0.3581322513426185, 0.5494294845609967, 0.5483328600379044, 0.5483328600379044, 0.4247564309672468, 0.4247564309672468, 0.4247564309672468, 0.3460022145615208, 0.3460022145615208, 0.3460022145615208, 0.48814310725734567, 0.4879851016346898, 0.48817151553652377, 0.3708752421102667, 0.3708752421102667, 0.3708752421102667, 0.33176599344548674, 0.3317678923614604, 0.331836535311467, 0.2975600471762408, 0.29760426389670497, 0.2976428498952826, 0.3875111405078753, 0.2134181406633088, 0.29705268133757046, 0.6143352668811315, 0.6143577430185075, 0.6159759291964962, 0.38572190201429807, 0.3858066630117833, 0.38572190201429807, 0.3635432287456949, 0.36351278362222283, 0.3635432287456949]\n",
    "\n",
    "similarity3=[0.5778636637447012, 0.5288657114684102, 0.7505865952990389, 0.679542106957833, 0.6436508520286807, 0.679542106957833, 0.5483460386832888, 0.5483460386832888, 0.5483244494789303, 0.7704718372343412, 0.7704460845681002, 0.7114514054869984, 0.6325576995118218, 0.6325055302380096, 0.6325576995118218, 0.414218467100062, 0.6640661398728127, 0.5409185542065786, 0.6720836780494432, 0.6720735856117708, 0.6720195044491901, 0.6127659869831276, 0.9171258990300409, 0.6125051416064842, 0.38617919327804573, 0.38616453838135334, 0.38616453838135334, 0.6776448207915785, 0.6774544468701627, 0.6776448207915785, 0.6524793125515148, 0.6524793125515148, 0.6505302253966202, 0.4307649610668214, 0.4307649610668214, 0.5299917696601006, 0.34481826961991596, 0.3449026844302219, 0.34481826961991596, 0.5409736326405354, 0.5408581214383286, 0.5408675552746434, 0.25735798506004315, 0.25735798506004315, 0.25740455906370646, 0.47624672582462374, 0.47624672582462374, 0.47624672582462374, 0.3930446203143297, 0.39301777440782615, 0.39301777440782615, 0.557090942972094, 0.5570454022578315, 0.5772453993548398, 0.4485079138766565, 0.4485079138766565, 0.47506154443901544, 0.4334399678317037, 0.4334399678317037, 0.4334252189112176, 0.41317893804230205, 0.41317893804230205, 0.41317893804230205, 0.46969598025622333, 0.5449208303465614, 0.5449997886000024, 0.40548632929391404, 0.4970282185559906, 0.4970282185559906, 0.28218294778507513, 0.28218294778507513, 0.28218294778507513, 0.7990570154990193, 0.7990301388946973, 0.7990301388946973, 0.5130483000828613, 0.5130483000828613, 0.5131138850628956, 0.7255885938699029, 0.7256648965939693, 0.7256648965939693, 0.7185290119506106, 0.7185290119506106, 0.7185290119506106, 0.6946641376601989, 0.6953022099977036, 0.6946641376601989, 0.2667124786106884, 0.2667021408313746, 0.2668055258279286, 0.39870736531877793, 0.35314196562446726, 0.3986729482988898, 0.6429188955606232, 0.6428083737808097, 0.6095063321715317, 0.47691026331058317, 0.47697190561478203, 0.47691026331058317, 0.417379556202661, 0.46157274897942474, 0.5242472500157076, 0.46351202318495677, 0.46351202318495677, 0.46351202318495677, 0.58557187586642, 0.58557187586642, 0.5854939594757615, 0.5092528369782692, 0.5092528369782692, 0.5092528369782692, 0.7404215830750367, 0.8694092606356736, 0.8694092606356736, 0.23725992928251763, 0.2373017251284376, 0.2373395152809405, 0.8149869618463819, 0.8149869618463819, 0.8149869618463819, 0.8657080815203794, 0.9369673319166362, 0.8657080815203794, 0.3805374380176047, 0.36641605672488886, 0.36641605672488886, 0.5392093997243067, 0.5392093997243067, 0.5869211011380445, 0.3536987994290063, 0.3536987994290063, 0.35357590117844645, 0.5842487748233518, 0.6767207897245249, 0.5842487748233518, 0.5762827681974464, 0.5762827681974464, 0.5762827681974464, 0.8384815217604682, 0.8384815217604682, 0.8384815217604682, 0.7819107090333783, 0.8575444327174657, 0.7819486540111621, 0.4136796921561715, 0.41377001763415255, 0.41374766049197453, 0.3439123460363413, 0.3439123460363413, 0.3439123460363413, 0.8062754777540277, 0.8062754777540277, 0.8062870615221797, 0.6904757732600394, 0.6903388598181182, 0.7023493254416503, 0.8879926991317313, 0.8880398760549424, 0.8880398760549424, 0.3422956525409453, 0.3422956525409453, 0.3423464966458499, 0.8730179396188357, 0.8730489733201523, 0.8730347176085927, 0.6902239526782921, 0.6902239526782921, 0.6902239526782921, 0.5657278797861705, 0.5657193507809647, 0.5657193507809647, 0.8527690418801647, 0.8527690418801647, 0.8527690418801647, 0.3828513357473356, 0.3828513357473356, 0.38405652780516053, 0.38377099442860574, 0.3836636332675569, 0.3163059454093794, 0.2071106597824005, 0.20704985895654948, 0.20704985895654948, 0.4248504687858718, 0.4247564309672468, 0.4247564309672468, 0.34605683543463245, 0.37048023602627206, 0.3460022145615208, 0.48814310725734567, 0.5662033297113395, 0.48817151553652377, 0.3717235643101799, 0.37158770884013037, 0.37166395839971983, 0.33181086832705087, 0.3317678923614604, 0.3317678923614604, 0.29768904663996737, 0.29760426389670497, 0.29768904663996737, 0.31969505696804457, 0.31969505696804457, 0.31969505696804457, 0.6143805774511554, 0.6143577430185075, 0.6160613476825003, 0.41502221316017135, 0.41523315091362273, 0.41502221316017135, 0.3554673697559144, 0.3554461884755766, 0.3554673697559144]\n",
    "\n",
    "similarity4=[0.7996178039719462, 0.7996235604519438, 0.7996235604519438, 0.6436508520286807, 0.679542106957833, 0.6436508520286807, 0.7320037325458781, 0.7320037325458781, 0.7320037325458781, 0.7115154397011639, 0.7114514054869984, 0.7114514054869984, 0.6564771219018858, 0.6195611824309806, 0.6564771219018858, 0.5409185542065786, 0.5409185542065786, 0.6939536245733913, 0.6795807740859883, 0.6796486575140407, 0.6796076304763963, 0.9171258990300409, 0.9171258990300409, 0.612620617315679, 0.20313083977553706, 0.3208506631680508, 0.3208506631680508, 0.7794989653981197, 0.7795192267816579, 0.7649170809251293, 0.6524793125515148, 0.6504668483546245, 0.6525446777159358, 0.4307729090334659, 0.5525842145325672, 0.5299917696601006, 0.34481826961991596, 0.3449026844302219, 0.34481826961991596, 0.47463767200835677, 0.4459158334549976, 0.4459158334549976, 0.25735798506004315, 0.25735798506004315, 0.25740455906370646, 0.24114346770797848, 0.26775656944858295, 0.26775656944858295, 0.39301777440782615, 0.48872364223878695, 0.39306210866100283, 0.5772453993548398, 0.5570454022578315, 0.557090942972094, 0.38144611408149326, 0.557809225939174, 0.5779192776006947, 0.35726532204282196, 0.35723224609372767, 0.5681735106693954, 0.41317893804230205, 0.41317893804230205, 0.24116236726877782, 0.2115945539073312, 0.2115945539073312, 0.29844246944636915, 0.5856682077186474, 0.47934288325742186, 0.3962591664944082, 0.28218294778507513, 0.28218294778507513, 0.22635945603263277, 0.9999988481092739, 1.0000000000000002, 0.2433398790108244, 0.6883347525012372, 0.7473739674968358, 0.3128370824761476, 0.7256648965939693, 0.7256648965939693, 0.24499570334188261, 0.7185290119506106, 0.7185290119506106, 0.5040466211395173, 0.7868334784371397, 0.7875603183730187, 0.1699766706049419, 0.26667093098174727, 0.2667021408313746, 0.6117501152154342, 0.42829135875632385, 0.5058670445650845, 0.15706870803437306, 0.6095693947541161, 0.642838133007802, 0.3700493565910048, 0.47691026331058317, 0.47697190561478203, 0.48057134445695565, 0.5000071258394309, 0.5000071258394309, 0.4311498535534553, 0.46351202318495677, 0.46351202318495677, 0.3956308710183561, 0.5880632322564892, 0.588022717344352, 0.3216653695321419, 0.7736734667830533, 0.7736734667830533, 0.2924321789723051, 0.7404215830750367, 0.8694092606356736, 0.2756253468070174, 0.28664975552354893, 0.30445971136266287, 0.46634990204565213, 0.7464019448671273, 0.7463725148463364, 0.46068080723455906, 0.6500383353623543, 0.8657080815203794, 0.15386844809976025, 0.36818186308539075, 0.21181141521725882, 0.46075322546182373, 0.5392093997243067, 0.5392093997243067, 0.2319507154359239, 0.3258342116272503, 0.3258342116272503, 0.45309729531887344, 0.34777867289549913, 0.3477622829198257, 0.7303546638186429, 0.5332372981172988, 0.5332372981172988, 0.34257959198165233, 0.6363427461310018, 0.4503668324761578, 0.2761825250493331, 0.7819107090333783, 0.7819486540111621, 0.2880296846869825, 0.39426312404259073, 0.39422533353550376, 0.30232552747292296, 0.33296845229741784, 0.29999394555258685, 0.2804620066292179, 0.8062754777540277, 0.8062754777540277, 0.3651027086080847, 0.5825433067342715, 0.5681005811711672, 0.27402620322886195, 0.7357555403309295, 0.8296916049990913, 0.23891567533089933, 0.3422956525409453, 0.3422140508571025, 0.17895441438393675, 0.4271521928344502, 0.8731207816122872, 0.35288908579206346, 0.6402869377846522, 0.650095419001682, 0.3063408726693606, 0.5657193507809647, 0.5907343930279394, 0.15598540689036158, 0.31813734142869177, 0.31813734142869177, 0.3178492487568545, 0.3784611241090053, 0.38402441601749604, 0.29956224657972613, 0.35820882180326863, 0.358128139481723, 0.24903681285567372, 0.606139589313755, 0.5483328600379044, 0.2494083666589625, 0.3627308807276851, 0.3627308807276851, 0.2614685568607895, 0.3460022145615208, 0.37044235748775217, 0.27965085485004154, 0.48814310725734567, 0.48811644564481355, 0.270714289815975, 0.3708752421102667, 0.3548131020552908, 0.34733487186790357, 0.33176599344548674, 0.3317678923614604, 0.48059125145868714, 0.29768904663996737, 0.29760426389670497, 0.13097831408376076, 0.2134181406633088, 0.2134181406633088, 0.15047240374899282, 0.6343406953564659, 0.6143577430185075, 0.3461291874226403, 0.38572190201429807, 0.3858066630117833, 0.379131535852987, 0.3635432287456949, 0.36351278362222283, 0.0]"
   ]
  },
  {
   "cell_type": "code",
   "execution_count": null,
   "id": "6fe15921",
   "metadata": {},
   "outputs": [
    {
     "name": "stdout",
     "output_type": "stream",
     "text": [
      "Mean of goal_sim: 0.525870\n",
      "Standard Deviation of goal_sim: 0.183792\n",
      "Median of goal_sim: 0.509119\n",
      "Mean of goal_sim: 0.527884\n",
      "Standard Deviation of goal_sim: 0.188357\n",
      "Median of goal_sim: 0.530583\n",
      "Mean of goal_sim: 0.535422\n",
      "Standard Deviation of goal_sim: 0.183184\n",
      "Median of goal_sim: 0.513114\n",
      "Mean of goal_sim: 0.475869\n",
      "Standard Deviation of goal_sim: 0.200216\n",
      "Median of goal_sim: 0.445916\n"
     ]
    },
    {
     "data": {
      "application/vnd.plotly.v1+json": {
       "config": {
        "plotlyServerURL": "https://plot.ly"
       },
       "data": [
        {
         "hovertemplate": "inclusion_ratio=%{x}<br>goal_sim=%{y}<extra></extra>",
         "legendgroup": "",
         "marker": {
          "color": "#636efa",
          "symbol": "circle"
         },
         "mode": "markers",
         "name": "",
         "orientation": "v",
         "showlegend": false,
         "type": "scatter",
         "x": {
          "bdata": "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",
          "dtype": "f8"
         },
         "xaxis": "x",
         "y": {
          "bdata": "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",
          "dtype": "f8"
         },
         "yaxis": "y"
        }
       ],
       "layout": {
        "legend": {
         "tracegroupgap": 0
        },
        "template": {
         "data": {
          "bar": [
           {
            "error_x": {
             "color": "#2a3f5f"
            },
            "error_y": {
             "color": "#2a3f5f"
            },
            "marker": {
             "line": {
              "color": "#E5ECF6",
              "width": 0.5
             },
             "pattern": {
              "fillmode": "overlay",
              "size": 10,
              "solidity": 0.2
             }
            },
            "type": "bar"
           }
          ],
          "barpolar": [
           {
            "marker": {
             "line": {
              "color": "#E5ECF6",
              "width": 0.5
             },
             "pattern": {
              "fillmode": "overlay",
              "size": 10,
              "solidity": 0.2
             }
            },
            "type": "barpolar"
           }
          ],
          "carpet": [
           {
            "aaxis": {
             "endlinecolor": "#2a3f5f",
             "gridcolor": "white",
             "linecolor": "white",
             "minorgridcolor": "white",
             "startlinecolor": "#2a3f5f"
            },
            "baxis": {
             "endlinecolor": "#2a3f5f",
             "gridcolor": "white",
             "linecolor": "white",
             "minorgridcolor": "white",
             "startlinecolor": "#2a3f5f"
            },
            "type": "carpet"
           }
          ],
          "choropleth": [
           {
            "colorbar": {
             "outlinewidth": 0,
             "ticks": ""
            },
            "type": "choropleth"
           }
          ],
          "contour": [
           {
            "colorbar": {
             "outlinewidth": 0,
             "ticks": ""
            },
            "colorscale": [
             [
              0,
              "#0d0887"
             ],
             [
              0.1111111111111111,
              "#46039f"
             ],
             [
              0.2222222222222222,
              "#7201a8"
             ],
             [
              0.3333333333333333,
              "#9c179e"
             ],
             [
              0.4444444444444444,
              "#bd3786"
             ],
             [
              0.5555555555555556,
              "#d8576b"
             ],
             [
              0.6666666666666666,
              "#ed7953"
             ],
             [
              0.7777777777777778,
              "#fb9f3a"
             ],
             [
              0.8888888888888888,
              "#fdca26"
             ],
             [
              1,
              "#f0f921"
             ]
            ],
            "type": "contour"
           }
          ],
          "contourcarpet": [
           {
            "colorbar": {
             "outlinewidth": 0,
             "ticks": ""
            },
            "type": "contourcarpet"
           }
          ],
          "heatmap": [
           {
            "colorbar": {
             "outlinewidth": 0,
             "ticks": ""
            },
            "colorscale": [
             [
              0,
              "#0d0887"
             ],
             [
              0.1111111111111111,
              "#46039f"
             ],
             [
              0.2222222222222222,
              "#7201a8"
             ],
             [
              0.3333333333333333,
              "#9c179e"
             ],
             [
              0.4444444444444444,
              "#bd3786"
             ],
             [
              0.5555555555555556,
              "#d8576b"
             ],
             [
              0.6666666666666666,
              "#ed7953"
             ],
             [
              0.7777777777777778,
              "#fb9f3a"
             ],
             [
              0.8888888888888888,
              "#fdca26"
             ],
             [
              1,
              "#f0f921"
             ]
            ],
            "type": "heatmap"
           }
          ],
          "histogram": [
           {
            "marker": {
             "pattern": {
              "fillmode": "overlay",
              "size": 10,
              "solidity": 0.2
             }
            },
            "type": "histogram"
           }
          ],
          "histogram2d": [
           {
            "colorbar": {
             "outlinewidth": 0,
             "ticks": ""
            },
            "colorscale": [
             [
              0,
              "#0d0887"
             ],
             [
              0.1111111111111111,
              "#46039f"
             ],
             [
              0.2222222222222222,
              "#7201a8"
             ],
             [
              0.3333333333333333,
              "#9c179e"
             ],
             [
              0.4444444444444444,
              "#bd3786"
             ],
             [
              0.5555555555555556,
              "#d8576b"
             ],
             [
              0.6666666666666666,
              "#ed7953"
             ],
             [
              0.7777777777777778,
              "#fb9f3a"
             ],
             [
              0.8888888888888888,
              "#fdca26"
             ],
             [
              1,
              "#f0f921"
             ]
            ],
            "type": "histogram2d"
           }
          ],
          "histogram2dcontour": [
           {
            "colorbar": {
             "outlinewidth": 0,
             "ticks": ""
            },
            "colorscale": [
             [
              0,
              "#0d0887"
             ],
             [
              0.1111111111111111,
              "#46039f"
             ],
             [
              0.2222222222222222,
              "#7201a8"
             ],
             [
              0.3333333333333333,
              "#9c179e"
             ],
             [
              0.4444444444444444,
              "#bd3786"
             ],
             [
              0.5555555555555556,
              "#d8576b"
             ],
             [
              0.6666666666666666,
              "#ed7953"
             ],
             [
              0.7777777777777778,
              "#fb9f3a"
             ],
             [
              0.8888888888888888,
              "#fdca26"
             ],
             [
              1,
              "#f0f921"
             ]
            ],
            "type": "histogram2dcontour"
           }
          ],
          "mesh3d": [
           {
            "colorbar": {
             "outlinewidth": 0,
             "ticks": ""
            },
            "type": "mesh3d"
           }
          ],
          "parcoords": [
           {
            "line": {
             "colorbar": {
              "outlinewidth": 0,
              "ticks": ""
             }
            },
            "type": "parcoords"
           }
          ],
          "pie": [
           {
            "automargin": true,
            "type": "pie"
           }
          ],
          "scatter": [
           {
            "fillpattern": {
             "fillmode": "overlay",
             "size": 10,
             "solidity": 0.2
            },
            "type": "scatter"
           }
          ],
          "scatter3d": [
           {
            "line": {
             "colorbar": {
              "outlinewidth": 0,
              "ticks": ""
             }
            },
            "marker": {
             "colorbar": {
              "outlinewidth": 0,
              "ticks": ""
             }
            },
            "type": "scatter3d"
           }
          ],
          "scattercarpet": [
           {
            "marker": {
             "colorbar": {
              "outlinewidth": 0,
              "ticks": ""
             }
            },
            "type": "scattercarpet"
           }
          ],
          "scattergeo": [
           {
            "marker": {
             "colorbar": {
              "outlinewidth": 0,
              "ticks": ""
             }
            },
            "type": "scattergeo"
           }
          ],
          "scattergl": [
           {
            "marker": {
             "colorbar": {
              "outlinewidth": 0,
              "ticks": ""
             }
            },
            "type": "scattergl"
           }
          ],
          "scattermap": [
           {
            "marker": {
             "colorbar": {
              "outlinewidth": 0,
              "ticks": ""
             }
            },
            "type": "scattermap"
           }
          ],
          "scattermapbox": [
           {
            "marker": {
             "colorbar": {
              "outlinewidth": 0,
              "ticks": ""
             }
            },
            "type": "scattermapbox"
           }
          ],
          "scatterpolar": [
           {
            "marker": {
             "colorbar": {
              "outlinewidth": 0,
              "ticks": ""
             }
            },
            "type": "scatterpolar"
           }
          ],
          "scatterpolargl": [
           {
            "marker": {
             "colorbar": {
              "outlinewidth": 0,
              "ticks": ""
             }
            },
            "type": "scatterpolargl"
           }
          ],
          "scatterternary": [
           {
            "marker": {
             "colorbar": {
              "outlinewidth": 0,
              "ticks": ""
             }
            },
            "type": "scatterternary"
           }
          ],
          "surface": [
           {
            "colorbar": {
             "outlinewidth": 0,
             "ticks": ""
            },
            "colorscale": [
             [
              0,
              "#0d0887"
             ],
             [
              0.1111111111111111,
              "#46039f"
             ],
             [
              0.2222222222222222,
              "#7201a8"
             ],
             [
              0.3333333333333333,
              "#9c179e"
             ],
             [
              0.4444444444444444,
              "#bd3786"
             ],
             [
              0.5555555555555556,
              "#d8576b"
             ],
             [
              0.6666666666666666,
              "#ed7953"
             ],
             [
              0.7777777777777778,
              "#fb9f3a"
             ],
             [
              0.8888888888888888,
              "#fdca26"
             ],
             [
              1,
              "#f0f921"
             ]
            ],
            "type": "surface"
           }
          ],
          "table": [
           {
            "cells": {
             "fill": {
              "color": "#EBF0F8"
             },
             "line": {
              "color": "white"
             }
            },
            "header": {
             "fill": {
              "color": "#C8D4E3"
             },
             "line": {
              "color": "white"
             }
            },
            "type": "table"
           }
          ]
         },
         "layout": {
          "annotationdefaults": {
           "arrowcolor": "#2a3f5f",
           "arrowhead": 0,
           "arrowwidth": 1
          },
          "autotypenumbers": "strict",
          "coloraxis": {
           "colorbar": {
            "outlinewidth": 0,
            "ticks": ""
           }
          },
          "colorscale": {
           "diverging": [
            [
             0,
             "#8e0152"
            ],
            [
             0.1,
             "#c51b7d"
            ],
            [
             0.2,
             "#de77ae"
            ],
            [
             0.3,
             "#f1b6da"
            ],
            [
             0.4,
             "#fde0ef"
            ],
            [
             0.5,
             "#f7f7f7"
            ],
            [
             0.6,
             "#e6f5d0"
            ],
            [
             0.7,
             "#b8e186"
            ],
            [
             0.8,
             "#7fbc41"
            ],
            [
             0.9,
             "#4d9221"
            ],
            [
             1,
             "#276419"
            ]
           ],
           "sequential": [
            [
             0,
             "#0d0887"
            ],
            [
             0.1111111111111111,
             "#46039f"
            ],
            [
             0.2222222222222222,
             "#7201a8"
            ],
            [
             0.3333333333333333,
             "#9c179e"
            ],
            [
             0.4444444444444444,
             "#bd3786"
            ],
            [
             0.5555555555555556,
             "#d8576b"
            ],
            [
             0.6666666666666666,
             "#ed7953"
            ],
            [
             0.7777777777777778,
             "#fb9f3a"
            ],
            [
             0.8888888888888888,
             "#fdca26"
            ],
            [
             1,
             "#f0f921"
            ]
           ],
           "sequentialminus": [
            [
             0,
             "#0d0887"
            ],
            [
             0.1111111111111111,
             "#46039f"
            ],
            [
             0.2222222222222222,
             "#7201a8"
            ],
            [
             0.3333333333333333,
             "#9c179e"
            ],
            [
             0.4444444444444444,
             "#bd3786"
            ],
            [
             0.5555555555555556,
             "#d8576b"
            ],
            [
             0.6666666666666666,
             "#ed7953"
            ],
            [
             0.7777777777777778,
             "#fb9f3a"
            ],
            [
             0.8888888888888888,
             "#fdca26"
            ],
            [
             1,
             "#f0f921"
            ]
           ]
          },
          "colorway": [
           "#636efa",
           "#EF553B",
           "#00cc96",
           "#ab63fa",
           "#FFA15A",
           "#19d3f3",
           "#FF6692",
           "#B6E880",
           "#FF97FF",
           "#FECB52"
          ],
          "font": {
           "color": "#2a3f5f"
          },
          "geo": {
           "bgcolor": "white",
           "lakecolor": "white",
           "landcolor": "#E5ECF6",
           "showlakes": true,
           "showland": true,
           "subunitcolor": "white"
          },
          "hoverlabel": {
           "align": "left"
          },
          "hovermode": "closest",
          "mapbox": {
           "style": "light"
          },
          "paper_bgcolor": "white",
          "plot_bgcolor": "#E5ECF6",
          "polar": {
           "angularaxis": {
            "gridcolor": "white",
            "linecolor": "white",
            "ticks": ""
           },
           "bgcolor": "#E5ECF6",
           "radialaxis": {
            "gridcolor": "white",
            "linecolor": "white",
            "ticks": ""
           }
          },
          "scene": {
           "xaxis": {
            "backgroundcolor": "#E5ECF6",
            "gridcolor": "white",
            "gridwidth": 2,
            "linecolor": "white",
            "showbackground": true,
            "ticks": "",
            "zerolinecolor": "white"
           },
           "yaxis": {
            "backgroundcolor": "#E5ECF6",
            "gridcolor": "white",
            "gridwidth": 2,
            "linecolor": "white",
            "showbackground": true,
            "ticks": "",
            "zerolinecolor": "white"
           },
           "zaxis": {
            "backgroundcolor": "#E5ECF6",
            "gridcolor": "white",
            "gridwidth": 2,
            "linecolor": "white",
            "showbackground": true,
            "ticks": "",
            "zerolinecolor": "white"
           }
          },
          "shapedefaults": {
           "line": {
            "color": "#2a3f5f"
           }
          },
          "ternary": {
           "aaxis": {
            "gridcolor": "white",
            "linecolor": "white",
            "ticks": ""
           },
           "baxis": {
            "gridcolor": "white",
            "linecolor": "white",
            "ticks": ""
           },
           "bgcolor": "#E5ECF6",
           "caxis": {
            "gridcolor": "white",
            "linecolor": "white",
            "ticks": ""
           }
          },
          "title": {
           "x": 0.05
          },
          "xaxis": {
           "automargin": true,
           "gridcolor": "white",
           "linecolor": "white",
           "ticks": "",
           "title": {
            "standoff": 15
           },
           "zerolinecolor": "white",
           "zerolinewidth": 2
          },
          "yaxis": {
           "automargin": true,
           "gridcolor": "white",
           "linecolor": "white",
           "ticks": "",
           "title": {
            "standoff": 15
           },
           "zerolinecolor": "white",
           "zerolinewidth": 2
          }
         }
        },
        "title": {
         "text": "Scatter Plot of inclusion_ratio vs goal_sim"
        },
        "xaxis": {
         "anchor": "y",
         "domain": [
          0,
          1
         ],
         "title": {
          "text": "inclusion_ratio"
         }
        },
        "yaxis": {
         "anchor": "x",
         "domain": [
          0,
          1
         ],
         "title": {
          "text": "goal_sim"
         }
        }
       }
      }
     },
     "metadata": {},
     "output_type": "display_data"
    },
    {
     "data": {
      "application/vnd.plotly.v1+json": {
       "config": {
        "plotlyServerURL": "https://plot.ly"
       },
       "data": [
        {
         "hovertemplate": "inclusion_ratio=%{x}<br>goal_sim=%{y}<extra></extra>",
         "legendgroup": "",
         "marker": {
          "color": "#636efa",
          "symbol": "circle"
         },
         "mode": "markers",
         "name": "",
         "orientation": "v",
         "showlegend": false,
         "type": "scatter",
         "x": {
          "bdata": "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",
          "dtype": "f8"
         },
         "xaxis": "x",
         "y": {
          "bdata": "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",
          "dtype": "f8"
         },
         "yaxis": "y"
        }
       ],
       "layout": {
        "legend": {
         "tracegroupgap": 0
        },
        "template": {
         "data": {
          "bar": [
           {
            "error_x": {
             "color": "#2a3f5f"
            },
            "error_y": {
             "color": "#2a3f5f"
            },
            "marker": {
             "line": {
              "color": "#E5ECF6",
              "width": 0.5
             },
             "pattern": {
              "fillmode": "overlay",
              "size": 10,
              "solidity": 0.2
             }
            },
            "type": "bar"
           }
          ],
          "barpolar": [
           {
            "marker": {
             "line": {
              "color": "#E5ECF6",
              "width": 0.5
             },
             "pattern": {
              "fillmode": "overlay",
              "size": 10,
              "solidity": 0.2
             }
            },
            "type": "barpolar"
           }
          ],
          "carpet": [
           {
            "aaxis": {
             "endlinecolor": "#2a3f5f",
             "gridcolor": "white",
             "linecolor": "white",
             "minorgridcolor": "white",
             "startlinecolor": "#2a3f5f"
            },
            "baxis": {
             "endlinecolor": "#2a3f5f",
             "gridcolor": "white",
             "linecolor": "white",
             "minorgridcolor": "white",
             "startlinecolor": "#2a3f5f"
            },
            "type": "carpet"
           }
          ],
          "choropleth": [
           {
            "colorbar": {
             "outlinewidth": 0,
             "ticks": ""
            },
            "type": "choropleth"
           }
          ],
          "contour": [
           {
            "colorbar": {
             "outlinewidth": 0,
             "ticks": ""
            },
            "colorscale": [
             [
              0,
              "#0d0887"
             ],
             [
              0.1111111111111111,
              "#46039f"
             ],
             [
              0.2222222222222222,
              "#7201a8"
             ],
             [
              0.3333333333333333,
              "#9c179e"
             ],
             [
              0.4444444444444444,
              "#bd3786"
             ],
             [
              0.5555555555555556,
              "#d8576b"
             ],
             [
              0.6666666666666666,
              "#ed7953"
             ],
             [
              0.7777777777777778,
              "#fb9f3a"
             ],
             [
              0.8888888888888888,
              "#fdca26"
             ],
             [
              1,
              "#f0f921"
             ]
            ],
            "type": "contour"
           }
          ],
          "contourcarpet": [
           {
            "colorbar": {
             "outlinewidth": 0,
             "ticks": ""
            },
            "type": "contourcarpet"
           }
          ],
          "heatmap": [
           {
            "colorbar": {
             "outlinewidth": 0,
             "ticks": ""
            },
            "colorscale": [
             [
              0,
              "#0d0887"
             ],
             [
              0.1111111111111111,
              "#46039f"
             ],
             [
              0.2222222222222222,
              "#7201a8"
             ],
             [
              0.3333333333333333,
              "#9c179e"
             ],
             [
              0.4444444444444444,
              "#bd3786"
             ],
             [
              0.5555555555555556,
              "#d8576b"
             ],
             [
              0.6666666666666666,
              "#ed7953"
             ],
             [
              0.7777777777777778,
              "#fb9f3a"
             ],
             [
              0.8888888888888888,
              "#fdca26"
             ],
             [
              1,
              "#f0f921"
             ]
            ],
            "type": "heatmap"
           }
          ],
          "histogram": [
           {
            "marker": {
             "pattern": {
              "fillmode": "overlay",
              "size": 10,
              "solidity": 0.2
             }
            },
            "type": "histogram"
           }
          ],
          "histogram2d": [
           {
            "colorbar": {
             "outlinewidth": 0,
             "ticks": ""
            },
            "colorscale": [
             [
              0,
              "#0d0887"
             ],
             [
              0.1111111111111111,
              "#46039f"
             ],
             [
              0.2222222222222222,
              "#7201a8"
             ],
             [
              0.3333333333333333,
              "#9c179e"
             ],
             [
              0.4444444444444444,
              "#bd3786"
             ],
             [
              0.5555555555555556,
              "#d8576b"
             ],
             [
              0.6666666666666666,
              "#ed7953"
             ],
             [
              0.7777777777777778,
              "#fb9f3a"
             ],
             [
              0.8888888888888888,
              "#fdca26"
             ],
             [
              1,
              "#f0f921"
             ]
            ],
            "type": "histogram2d"
           }
          ],
          "histogram2dcontour": [
           {
            "colorbar": {
             "outlinewidth": 0,
             "ticks": ""
            },
            "colorscale": [
             [
              0,
              "#0d0887"
             ],
             [
              0.1111111111111111,
              "#46039f"
             ],
             [
              0.2222222222222222,
              "#7201a8"
             ],
             [
              0.3333333333333333,
              "#9c179e"
             ],
             [
              0.4444444444444444,
              "#bd3786"
             ],
             [
              0.5555555555555556,
              "#d8576b"
             ],
             [
              0.6666666666666666,
              "#ed7953"
             ],
             [
              0.7777777777777778,
              "#fb9f3a"
             ],
             [
              0.8888888888888888,
              "#fdca26"
             ],
             [
              1,
              "#f0f921"
             ]
            ],
            "type": "histogram2dcontour"
           }
          ],
          "mesh3d": [
           {
            "colorbar": {
             "outlinewidth": 0,
             "ticks": ""
            },
            "type": "mesh3d"
           }
          ],
          "parcoords": [
           {
            "line": {
             "colorbar": {
              "outlinewidth": 0,
              "ticks": ""
             }
            },
            "type": "parcoords"
           }
          ],
          "pie": [
           {
            "automargin": true,
            "type": "pie"
           }
          ],
          "scatter": [
           {
            "fillpattern": {
             "fillmode": "overlay",
             "size": 10,
             "solidity": 0.2
            },
            "type": "scatter"
           }
          ],
          "scatter3d": [
           {
            "line": {
             "colorbar": {
              "outlinewidth": 0,
              "ticks": ""
             }
            },
            "marker": {
             "colorbar": {
              "outlinewidth": 0,
              "ticks": ""
             }
            },
            "type": "scatter3d"
           }
          ],
          "scattercarpet": [
           {
            "marker": {
             "colorbar": {
              "outlinewidth": 0,
              "ticks": ""
             }
            },
            "type": "scattercarpet"
           }
          ],
          "scattergeo": [
           {
            "marker": {
             "colorbar": {
              "outlinewidth": 0,
              "ticks": ""
             }
            },
            "type": "scattergeo"
           }
          ],
          "scattergl": [
           {
            "marker": {
             "colorbar": {
              "outlinewidth": 0,
              "ticks": ""
             }
            },
            "type": "scattergl"
           }
          ],
          "scattermap": [
           {
            "marker": {
             "colorbar": {
              "outlinewidth": 0,
              "ticks": ""
             }
            },
            "type": "scattermap"
           }
          ],
          "scattermapbox": [
           {
            "marker": {
             "colorbar": {
              "outlinewidth": 0,
              "ticks": ""
             }
            },
            "type": "scattermapbox"
           }
          ],
          "scatterpolar": [
           {
            "marker": {
             "colorbar": {
              "outlinewidth": 0,
              "ticks": ""
             }
            },
            "type": "scatterpolar"
           }
          ],
          "scatterpolargl": [
           {
            "marker": {
             "colorbar": {
              "outlinewidth": 0,
              "ticks": ""
             }
            },
            "type": "scatterpolargl"
           }
          ],
          "scatterternary": [
           {
            "marker": {
             "colorbar": {
              "outlinewidth": 0,
              "ticks": ""
             }
            },
            "type": "scatterternary"
           }
          ],
          "surface": [
           {
            "colorbar": {
             "outlinewidth": 0,
             "ticks": ""
            },
            "colorscale": [
             [
              0,
              "#0d0887"
             ],
             [
              0.1111111111111111,
              "#46039f"
             ],
             [
              0.2222222222222222,
              "#7201a8"
             ],
             [
              0.3333333333333333,
              "#9c179e"
             ],
             [
              0.4444444444444444,
              "#bd3786"
             ],
             [
              0.5555555555555556,
              "#d8576b"
             ],
             [
              0.6666666666666666,
              "#ed7953"
             ],
             [
              0.7777777777777778,
              "#fb9f3a"
             ],
             [
              0.8888888888888888,
              "#fdca26"
             ],
             [
              1,
              "#f0f921"
             ]
            ],
            "type": "surface"
           }
          ],
          "table": [
           {
            "cells": {
             "fill": {
              "color": "#EBF0F8"
             },
             "line": {
              "color": "white"
             }
            },
            "header": {
             "fill": {
              "color": "#C8D4E3"
             },
             "line": {
              "color": "white"
             }
            },
            "type": "table"
           }
          ]
         },
         "layout": {
          "annotationdefaults": {
           "arrowcolor": "#2a3f5f",
           "arrowhead": 0,
           "arrowwidth": 1
          },
          "autotypenumbers": "strict",
          "coloraxis": {
           "colorbar": {
            "outlinewidth": 0,
            "ticks": ""
           }
          },
          "colorscale": {
           "diverging": [
            [
             0,
             "#8e0152"
            ],
            [
             0.1,
             "#c51b7d"
            ],
            [
             0.2,
             "#de77ae"
            ],
            [
             0.3,
             "#f1b6da"
            ],
            [
             0.4,
             "#fde0ef"
            ],
            [
             0.5,
             "#f7f7f7"
            ],
            [
             0.6,
             "#e6f5d0"
            ],
            [
             0.7,
             "#b8e186"
            ],
            [
             0.8,
             "#7fbc41"
            ],
            [
             0.9,
             "#4d9221"
            ],
            [
             1,
             "#276419"
            ]
           ],
           "sequential": [
            [
             0,
             "#0d0887"
            ],
            [
             0.1111111111111111,
             "#46039f"
            ],
            [
             0.2222222222222222,
             "#7201a8"
            ],
            [
             0.3333333333333333,
             "#9c179e"
            ],
            [
             0.4444444444444444,
             "#bd3786"
            ],
            [
             0.5555555555555556,
             "#d8576b"
            ],
            [
             0.6666666666666666,
             "#ed7953"
            ],
            [
             0.7777777777777778,
             "#fb9f3a"
            ],
            [
             0.8888888888888888,
             "#fdca26"
            ],
            [
             1,
             "#f0f921"
            ]
           ],
           "sequentialminus": [
            [
             0,
             "#0d0887"
            ],
            [
             0.1111111111111111,
             "#46039f"
            ],
            [
             0.2222222222222222,
             "#7201a8"
            ],
            [
             0.3333333333333333,
             "#9c179e"
            ],
            [
             0.4444444444444444,
             "#bd3786"
            ],
            [
             0.5555555555555556,
             "#d8576b"
            ],
            [
             0.6666666666666666,
             "#ed7953"
            ],
            [
             0.7777777777777778,
             "#fb9f3a"
            ],
            [
             0.8888888888888888,
             "#fdca26"
            ],
            [
             1,
             "#f0f921"
            ]
           ]
          },
          "colorway": [
           "#636efa",
           "#EF553B",
           "#00cc96",
           "#ab63fa",
           "#FFA15A",
           "#19d3f3",
           "#FF6692",
           "#B6E880",
           "#FF97FF",
           "#FECB52"
          ],
          "font": {
           "color": "#2a3f5f"
          },
          "geo": {
           "bgcolor": "white",
           "lakecolor": "white",
           "landcolor": "#E5ECF6",
           "showlakes": true,
           "showland": true,
           "subunitcolor": "white"
          },
          "hoverlabel": {
           "align": "left"
          },
          "hovermode": "closest",
          "mapbox": {
           "style": "light"
          },
          "paper_bgcolor": "white",
          "plot_bgcolor": "#E5ECF6",
          "polar": {
           "angularaxis": {
            "gridcolor": "white",
            "linecolor": "white",
            "ticks": ""
           },
           "bgcolor": "#E5ECF6",
           "radialaxis": {
            "gridcolor": "white",
            "linecolor": "white",
            "ticks": ""
           }
          },
          "scene": {
           "xaxis": {
            "backgroundcolor": "#E5ECF6",
            "gridcolor": "white",
            "gridwidth": 2,
            "linecolor": "white",
            "showbackground": true,
            "ticks": "",
            "zerolinecolor": "white"
           },
           "yaxis": {
            "backgroundcolor": "#E5ECF6",
            "gridcolor": "white",
            "gridwidth": 2,
            "linecolor": "white",
            "showbackground": true,
            "ticks": "",
            "zerolinecolor": "white"
           },
           "zaxis": {
            "backgroundcolor": "#E5ECF6",
            "gridcolor": "white",
            "gridwidth": 2,
            "linecolor": "white",
            "showbackground": true,
            "ticks": "",
            "zerolinecolor": "white"
           }
          },
          "shapedefaults": {
           "line": {
            "color": "#2a3f5f"
           }
          },
          "ternary": {
           "aaxis": {
            "gridcolor": "white",
            "linecolor": "white",
            "ticks": ""
           },
           "baxis": {
            "gridcolor": "white",
            "linecolor": "white",
            "ticks": ""
           },
           "bgcolor": "#E5ECF6",
           "caxis": {
            "gridcolor": "white",
            "linecolor": "white",
            "ticks": ""
           }
          },
          "title": {
           "x": 0.05
          },
          "xaxis": {
           "automargin": true,
           "gridcolor": "white",
           "linecolor": "white",
           "ticks": "",
           "title": {
            "standoff": 15
           },
           "zerolinecolor": "white",
           "zerolinewidth": 2
          },
          "yaxis": {
           "automargin": true,
           "gridcolor": "white",
           "linecolor": "white",
           "ticks": "",
           "title": {
            "standoff": 15
           },
           "zerolinecolor": "white",
           "zerolinewidth": 2
          }
         }
        },
        "title": {
         "text": "Scatter Plot of inclusion_ratio vs goal_sim"
        },
        "xaxis": {
         "anchor": "y",
         "domain": [
          0,
          1
         ],
         "title": {
          "text": "inclusion_ratio"
         }
        },
        "yaxis": {
         "anchor": "x",
         "domain": [
          0,
          1
         ],
         "title": {
          "text": "goal_sim"
         }
        }
       }
      }
     },
     "metadata": {},
     "output_type": "display_data"
    },
    {
     "data": {
      "application/vnd.plotly.v1+json": {
       "config": {
        "plotlyServerURL": "https://plot.ly"
       },
       "data": [
        {
         "hovertemplate": "inclusion_ratio=%{x}<br>goal_sim=%{y}<extra></extra>",
         "legendgroup": "",
         "marker": {
          "color": "#636efa",
          "symbol": "circle"
         },
         "mode": "markers",
         "name": "",
         "orientation": "v",
         "showlegend": false,
         "type": "scatter",
         "x": {
          "bdata": "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",
          "dtype": "f8"
         },
         "xaxis": "x",
         "y": {
          "bdata": "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",
          "dtype": "f8"
         },
         "yaxis": "y"
        }
       ],
       "layout": {
        "legend": {
         "tracegroupgap": 0
        },
        "template": {
         "data": {
          "bar": [
           {
            "error_x": {
             "color": "#2a3f5f"
            },
            "error_y": {
             "color": "#2a3f5f"
            },
            "marker": {
             "line": {
              "color": "#E5ECF6",
              "width": 0.5
             },
             "pattern": {
              "fillmode": "overlay",
              "size": 10,
              "solidity": 0.2
             }
            },
            "type": "bar"
           }
          ],
          "barpolar": [
           {
            "marker": {
             "line": {
              "color": "#E5ECF6",
              "width": 0.5
             },
             "pattern": {
              "fillmode": "overlay",
              "size": 10,
              "solidity": 0.2
             }
            },
            "type": "barpolar"
           }
          ],
          "carpet": [
           {
            "aaxis": {
             "endlinecolor": "#2a3f5f",
             "gridcolor": "white",
             "linecolor": "white",
             "minorgridcolor": "white",
             "startlinecolor": "#2a3f5f"
            },
            "baxis": {
             "endlinecolor": "#2a3f5f",
             "gridcolor": "white",
             "linecolor": "white",
             "minorgridcolor": "white",
             "startlinecolor": "#2a3f5f"
            },
            "type": "carpet"
           }
          ],
          "choropleth": [
           {
            "colorbar": {
             "outlinewidth": 0,
             "ticks": ""
            },
            "type": "choropleth"
           }
          ],
          "contour": [
           {
            "colorbar": {
             "outlinewidth": 0,
             "ticks": ""
            },
            "colorscale": [
             [
              0,
              "#0d0887"
             ],
             [
              0.1111111111111111,
              "#46039f"
             ],
             [
              0.2222222222222222,
              "#7201a8"
             ],
             [
              0.3333333333333333,
              "#9c179e"
             ],
             [
              0.4444444444444444,
              "#bd3786"
             ],
             [
              0.5555555555555556,
              "#d8576b"
             ],
             [
              0.6666666666666666,
              "#ed7953"
             ],
             [
              0.7777777777777778,
              "#fb9f3a"
             ],
             [
              0.8888888888888888,
              "#fdca26"
             ],
             [
              1,
              "#f0f921"
             ]
            ],
            "type": "contour"
           }
          ],
          "contourcarpet": [
           {
            "colorbar": {
             "outlinewidth": 0,
             "ticks": ""
            },
            "type": "contourcarpet"
           }
          ],
          "heatmap": [
           {
            "colorbar": {
             "outlinewidth": 0,
             "ticks": ""
            },
            "colorscale": [
             [
              0,
              "#0d0887"
             ],
             [
              0.1111111111111111,
              "#46039f"
             ],
             [
              0.2222222222222222,
              "#7201a8"
             ],
             [
              0.3333333333333333,
              "#9c179e"
             ],
             [
              0.4444444444444444,
              "#bd3786"
             ],
             [
              0.5555555555555556,
              "#d8576b"
             ],
             [
              0.6666666666666666,
              "#ed7953"
             ],
             [
              0.7777777777777778,
              "#fb9f3a"
             ],
             [
              0.8888888888888888,
              "#fdca26"
             ],
             [
              1,
              "#f0f921"
             ]
            ],
            "type": "heatmap"
           }
          ],
          "histogram": [
           {
            "marker": {
             "pattern": {
              "fillmode": "overlay",
              "size": 10,
              "solidity": 0.2
             }
            },
            "type": "histogram"
           }
          ],
          "histogram2d": [
           {
            "colorbar": {
             "outlinewidth": 0,
             "ticks": ""
            },
            "colorscale": [
             [
              0,
              "#0d0887"
             ],
             [
              0.1111111111111111,
              "#46039f"
             ],
             [
              0.2222222222222222,
              "#7201a8"
             ],
             [
              0.3333333333333333,
              "#9c179e"
             ],
             [
              0.4444444444444444,
              "#bd3786"
             ],
             [
              0.5555555555555556,
              "#d8576b"
             ],
             [
              0.6666666666666666,
              "#ed7953"
             ],
             [
              0.7777777777777778,
              "#fb9f3a"
             ],
             [
              0.8888888888888888,
              "#fdca26"
             ],
             [
              1,
              "#f0f921"
             ]
            ],
            "type": "histogram2d"
           }
          ],
          "histogram2dcontour": [
           {
            "colorbar": {
             "outlinewidth": 0,
             "ticks": ""
            },
            "colorscale": [
             [
              0,
              "#0d0887"
             ],
             [
              0.1111111111111111,
              "#46039f"
             ],
             [
              0.2222222222222222,
              "#7201a8"
             ],
             [
              0.3333333333333333,
              "#9c179e"
             ],
             [
              0.4444444444444444,
              "#bd3786"
             ],
             [
              0.5555555555555556,
              "#d8576b"
             ],
             [
              0.6666666666666666,
              "#ed7953"
             ],
             [
              0.7777777777777778,
              "#fb9f3a"
             ],
             [
              0.8888888888888888,
              "#fdca26"
             ],
             [
              1,
              "#f0f921"
             ]
            ],
            "type": "histogram2dcontour"
           }
          ],
          "mesh3d": [
           {
            "colorbar": {
             "outlinewidth": 0,
             "ticks": ""
            },
            "type": "mesh3d"
           }
          ],
          "parcoords": [
           {
            "line": {
             "colorbar": {
              "outlinewidth": 0,
              "ticks": ""
             }
            },
            "type": "parcoords"
           }
          ],
          "pie": [
           {
            "automargin": true,
            "type": "pie"
           }
          ],
          "scatter": [
           {
            "fillpattern": {
             "fillmode": "overlay",
             "size": 10,
             "solidity": 0.2
            },
            "type": "scatter"
           }
          ],
          "scatter3d": [
           {
            "line": {
             "colorbar": {
              "outlinewidth": 0,
              "ticks": ""
             }
            },
            "marker": {
             "colorbar": {
              "outlinewidth": 0,
              "ticks": ""
             }
            },
            "type": "scatter3d"
           }
          ],
          "scattercarpet": [
           {
            "marker": {
             "colorbar": {
              "outlinewidth": 0,
              "ticks": ""
             }
            },
            "type": "scattercarpet"
           }
          ],
          "scattergeo": [
           {
            "marker": {
             "colorbar": {
              "outlinewidth": 0,
              "ticks": ""
             }
            },
            "type": "scattergeo"
           }
          ],
          "scattergl": [
           {
            "marker": {
             "colorbar": {
              "outlinewidth": 0,
              "ticks": ""
             }
            },
            "type": "scattergl"
           }
          ],
          "scattermap": [
           {
            "marker": {
             "colorbar": {
              "outlinewidth": 0,
              "ticks": ""
             }
            },
            "type": "scattermap"
           }
          ],
          "scattermapbox": [
           {
            "marker": {
             "colorbar": {
              "outlinewidth": 0,
              "ticks": ""
             }
            },
            "type": "scattermapbox"
           }
          ],
          "scatterpolar": [
           {
            "marker": {
             "colorbar": {
              "outlinewidth": 0,
              "ticks": ""
             }
            },
            "type": "scatterpolar"
           }
          ],
          "scatterpolargl": [
           {
            "marker": {
             "colorbar": {
              "outlinewidth": 0,
              "ticks": ""
             }
            },
            "type": "scatterpolargl"
           }
          ],
          "scatterternary": [
           {
            "marker": {
             "colorbar": {
              "outlinewidth": 0,
              "ticks": ""
             }
            },
            "type": "scatterternary"
           }
          ],
          "surface": [
           {
            "colorbar": {
             "outlinewidth": 0,
             "ticks": ""
            },
            "colorscale": [
             [
              0,
              "#0d0887"
             ],
             [
              0.1111111111111111,
              "#46039f"
             ],
             [
              0.2222222222222222,
              "#7201a8"
             ],
             [
              0.3333333333333333,
              "#9c179e"
             ],
             [
              0.4444444444444444,
              "#bd3786"
             ],
             [
              0.5555555555555556,
              "#d8576b"
             ],
             [
              0.6666666666666666,
              "#ed7953"
             ],
             [
              0.7777777777777778,
              "#fb9f3a"
             ],
             [
              0.8888888888888888,
              "#fdca26"
             ],
             [
              1,
              "#f0f921"
             ]
            ],
            "type": "surface"
           }
          ],
          "table": [
           {
            "cells": {
             "fill": {
              "color": "#EBF0F8"
             },
             "line": {
              "color": "white"
             }
            },
            "header": {
             "fill": {
              "color": "#C8D4E3"
             },
             "line": {
              "color": "white"
             }
            },
            "type": "table"
           }
          ]
         },
         "layout": {
          "annotationdefaults": {
           "arrowcolor": "#2a3f5f",
           "arrowhead": 0,
           "arrowwidth": 1
          },
          "autotypenumbers": "strict",
          "coloraxis": {
           "colorbar": {
            "outlinewidth": 0,
            "ticks": ""
           }
          },
          "colorscale": {
           "diverging": [
            [
             0,
             "#8e0152"
            ],
            [
             0.1,
             "#c51b7d"
            ],
            [
             0.2,
             "#de77ae"
            ],
            [
             0.3,
             "#f1b6da"
            ],
            [
             0.4,
             "#fde0ef"
            ],
            [
             0.5,
             "#f7f7f7"
            ],
            [
             0.6,
             "#e6f5d0"
            ],
            [
             0.7,
             "#b8e186"
            ],
            [
             0.8,
             "#7fbc41"
            ],
            [
             0.9,
             "#4d9221"
            ],
            [
             1,
             "#276419"
            ]
           ],
           "sequential": [
            [
             0,
             "#0d0887"
            ],
            [
             0.1111111111111111,
             "#46039f"
            ],
            [
             0.2222222222222222,
             "#7201a8"
            ],
            [
             0.3333333333333333,
             "#9c179e"
            ],
            [
             0.4444444444444444,
             "#bd3786"
            ],
            [
             0.5555555555555556,
             "#d8576b"
            ],
            [
             0.6666666666666666,
             "#ed7953"
            ],
            [
             0.7777777777777778,
             "#fb9f3a"
            ],
            [
             0.8888888888888888,
             "#fdca26"
            ],
            [
             1,
             "#f0f921"
            ]
           ],
           "sequentialminus": [
            [
             0,
             "#0d0887"
            ],
            [
             0.1111111111111111,
             "#46039f"
            ],
            [
             0.2222222222222222,
             "#7201a8"
            ],
            [
             0.3333333333333333,
             "#9c179e"
            ],
            [
             0.4444444444444444,
             "#bd3786"
            ],
            [
             0.5555555555555556,
             "#d8576b"
            ],
            [
             0.6666666666666666,
             "#ed7953"
            ],
            [
             0.7777777777777778,
             "#fb9f3a"
            ],
            [
             0.8888888888888888,
             "#fdca26"
            ],
            [
             1,
             "#f0f921"
            ]
           ]
          },
          "colorway": [
           "#636efa",
           "#EF553B",
           "#00cc96",
           "#ab63fa",
           "#FFA15A",
           "#19d3f3",
           "#FF6692",
           "#B6E880",
           "#FF97FF",
           "#FECB52"
          ],
          "font": {
           "color": "#2a3f5f"
          },
          "geo": {
           "bgcolor": "white",
           "lakecolor": "white",
           "landcolor": "#E5ECF6",
           "showlakes": true,
           "showland": true,
           "subunitcolor": "white"
          },
          "hoverlabel": {
           "align": "left"
          },
          "hovermode": "closest",
          "mapbox": {
           "style": "light"
          },
          "paper_bgcolor": "white",
          "plot_bgcolor": "#E5ECF6",
          "polar": {
           "angularaxis": {
            "gridcolor": "white",
            "linecolor": "white",
            "ticks": ""
           },
           "bgcolor": "#E5ECF6",
           "radialaxis": {
            "gridcolor": "white",
            "linecolor": "white",
            "ticks": ""
           }
          },
          "scene": {
           "xaxis": {
            "backgroundcolor": "#E5ECF6",
            "gridcolor": "white",
            "gridwidth": 2,
            "linecolor": "white",
            "showbackground": true,
            "ticks": "",
            "zerolinecolor": "white"
           },
           "yaxis": {
            "backgroundcolor": "#E5ECF6",
            "gridcolor": "white",
            "gridwidth": 2,
            "linecolor": "white",
            "showbackground": true,
            "ticks": "",
            "zerolinecolor": "white"
           },
           "zaxis": {
            "backgroundcolor": "#E5ECF6",
            "gridcolor": "white",
            "gridwidth": 2,
            "linecolor": "white",
            "showbackground": true,
            "ticks": "",
            "zerolinecolor": "white"
           }
          },
          "shapedefaults": {
           "line": {
            "color": "#2a3f5f"
           }
          },
          "ternary": {
           "aaxis": {
            "gridcolor": "white",
            "linecolor": "white",
            "ticks": ""
           },
           "baxis": {
            "gridcolor": "white",
            "linecolor": "white",
            "ticks": ""
           },
           "bgcolor": "#E5ECF6",
           "caxis": {
            "gridcolor": "white",
            "linecolor": "white",
            "ticks": ""
           }
          },
          "title": {
           "x": 0.05
          },
          "xaxis": {
           "automargin": true,
           "gridcolor": "white",
           "linecolor": "white",
           "ticks": "",
           "title": {
            "standoff": 15
           },
           "zerolinecolor": "white",
           "zerolinewidth": 2
          },
          "yaxis": {
           "automargin": true,
           "gridcolor": "white",
           "linecolor": "white",
           "ticks": "",
           "title": {
            "standoff": 15
           },
           "zerolinecolor": "white",
           "zerolinewidth": 2
          }
         }
        },
        "title": {
         "text": "Scatter Plot of inclusion_ratio vs goal_sim"
        },
        "xaxis": {
         "anchor": "y",
         "domain": [
          0,
          1
         ],
         "title": {
          "text": "inclusion_ratio"
         }
        },
        "yaxis": {
         "anchor": "x",
         "domain": [
          0,
          1
         ],
         "title": {
          "text": "goal_sim"
         }
        }
       }
      }
     },
     "metadata": {},
     "output_type": "display_data"
    },
    {
     "data": {
      "application/vnd.plotly.v1+json": {
       "config": {
        "plotlyServerURL": "https://plot.ly"
       },
       "data": [
        {
         "hovertemplate": "inclusion_ratio=%{x}<br>goal_sim=%{y}<extra></extra>",
         "legendgroup": "",
         "marker": {
          "color": "#636efa",
          "symbol": "circle"
         },
         "mode": "markers",
         "name": "",
         "orientation": "v",
         "showlegend": false,
         "type": "scatter",
         "x": {
          "bdata": "AAAAAAAAAABVVVVVVVXVP1VVVVVVVdU/HMdxHMdx7D8cx3Ecx3HsPwAAAAAAAPA/VVVVVVVV1T9VVVVVVVXlP1VVVVVVVeU/VVVVVVVV1T8AAAAAAADwPwAAAAAAAPA/mpmZmZmZ2T/sUbgehevhPzMzMzMzM+M/zczMzMzM7D8AAAAAAADwPwAAAAAAAPA/AAAAAAAA6D8AAAAAAADsPwAAAAAAAOw/AAAAAAAAAAAAAAAAAAAAAAAAAAAAAPA/MzMzMzMz4z+amZmZmZnpP83MzMzMzOw/3t3d3d3d3T9mZmZmZmbmP2ZmZmZmZuY/AAAAAAAA4T8AAAAAAADkPwAAAAAAAOQ/AAAAAAAA8D8AAAAAAADwPwAAAAAAAPA/CtejcD0K1z+4HoXrUbjeP+xRuB6F6+E/MzMzMzMz0z+amZmZmZnZP83MzMzMzNw/Tm9605ve5D9Ob3rTm97kP2QhC1nIQuY/AAAAAAAA0D8AAAAAAADkPwAAAAAAAOQ/VVVVVVVVxT9VVVVVVVXFP1VVVVVVVcU/AAAAAAAAAAAAAAAAAAAAAAAAAAAAAPA/zczMzMzM5D8AAAAAAADoPwAAAAAAAOg/AAAAAAAAAAAAAAAAAAAAAAAAAAAAAPA/VVVVVVVV5T9VVVVVVVXlPwAAAAAAAPA/q6qqqqqq2j8AAAAAAADgPwAAAAAAAOA/kiRJkiRJ0j8AAAAAAADgPyVJkiRJkuQ/AAAAAAAAAACSJEmSJEnSP5IkSZIkSdI/AAAAAAAAAAAAAAAAAAAAAAAAAAAAAPA/t23btm3b1j/btm3btm3bPwAAAAAAAOA/HMdxHMdx7D8cx3Ecx3HsPwAAAAAAAPA/Q3kN5TWU5z9DeQ3lNZTnPzaU11BeQ+k/ntiJndiJ3T/ZiZ3YiZ3oP9mJndiJneg/AAAAAAAAAAAzMzMzMzPjPzMzMzMzM+M/1ofG+tBY3z8VvJyCl1PgP5IkSZIkSeI/AAAAAAAA8D8AAAAAAADwPwAAAAAAAPA/ERERERER4T8zMzMzMzPjP3d3d3d3d+c/FDuxEzux0z+e2Imd2IndP7ETO7ETO+E/AAAAAAAA3D8AAAAAAADiPwAAAAAAAOI/zczMzMzM7D/v7u7u7u7uPwAAAAAAAPA/FDuxEzuxsz+e2Imd2InNP57YiZ3Yic0/AAAAAAAA4D+rqqqqqqrqPwAAAAAAAPA/kiRJkiRJwj+SJEmSJEnCP5IkSZIkSeI/AAAAAAAA6D8AAAAAAADsPwAAAAAAAPA/AAAAAAAA8D8AAAAAAADwPwAAAAAAAPA/mpmZmZmZyT8zMzMzMzPTPzMzMzMzM9M/JUmSJEmS5D8lSZIkSZLkP9u2bdu2bes/AAAAAAAA0D8AAAAAAADQPwAAAAAAAOg/HMdxHMdx3D8cx3Ecx3HsPxzHcRzHcew/SZIkSZIk2T8AAAAAAADoP0mSJEmSJOk/nud5nud53j96nud5nufpP3qe53me5+k/AAAAAAAAAAAAAAAAAAAAAAAAAAAAAAAAAAAAAAAA4D9iJ3ZiJ3biP2IndmInduI/mpmZmZmZyT8zMzMzMzPTP5qZmZmZmdk/kiRJkiRJwj+SJEmSJEnCP5IkSZIkSdI/t23btm3b5j/btm3btm3rPwAAAAAAAPA/t23btm3b5j87qIM6qIPqP3zFV3zFV+w/AAAAAAAA0D8AAAAAAADoPwAAAAAAAPA/WlpaWlpa2j8eHh4eHh7ePx4eHh4eHt4/ZmZmZmZm7j8AAAAAAADwPwAAAAAAAPA/x3Ecx3Ec5z8AAAAAAADwPwAAAAAAAPA/AAAAAAAAAAAAAAAAAADgPwAAAAAAAOg/7MRO7MRO7D8AAAAAAADwPwAAAAAAAPA/AAAAAAAA8D8AAAAAAADwPwAAAAAAAPA/VVVVVVVV1T+rqqqqqqraP6uqqqqqqto/AAAAAAAAAABVVVVVVVXVP1VVVVVVVdU/VVVVVVVV1T9VVVVVVVXlPzmO4ziO4+g/FDuxEzux0z/ZiZ3YiZ3YP9mJndiJndg/KK+hvIby6j82lNdQXkPpPxvKayivoew/AAAAAAAAAAAAAAAAAAAAAFVVVVVVVdU/6k1vetOb3j8hC1nIQhbiPzi96U1veuM/VVVVVVVV7T9VVVVVVVXtP1VVVVVVVe0/KK+hvIby6j8or6G8hvLqP4y0YwXCSOs/QxaykIUs5D+nN73pTW/qP8hCFrKQhew/JUmSJEmS5D8AAAAAAADoP5IkSZIkSeo/",
          "dtype": "f8"
         },
         "xaxis": "x",
         "y": {
          "bdata": "rnurE3iW6T/XESgmhJbpP9cRKCaEluk/2S7wq8mY5D9FcbQWz77lP9ku8KvJmOQ/CrR6F5Ns5z8KtHoXk2znPwq0eheTbOc/qbIDB7zE5j8LUei8NcTmPwtR6Lw1xOY/eYEkT9wB5T9YMA35cdPjP3mBJE/cAeU/Tr2DbTRP4T9OvYNtNE/hP9R3TzveNOY/5BH2LSC/5T8nYZmKrr/lP/hCYIBYv+U/h8HUaRhZ7T+HwdRpGFntP848h42WmuM/pY3S/DAAyj9oOk040YjUP2g6TTjRiNQ/BtN00Kfx6D93LDRO0vHoP/g012Izeug/zzWXSxzh5D/4Fhran9DkP3IAP2Cl4eQ/FkwTiciR2z/QgDYXxa7hP4bbukyx9eA/oyzFpYAR1j/ci3u14hLWP6MsxaWAEdY/DW6ur3Zg3j+NTF2Q4oncP41MXZDiidw/QKFMoI140D9AoUygjXjQP11GwfhQedA/CZO5Bcrdzj9CiERz7CLRP0KIRHPsItE/LgP1BTQn2T9ipQyHP0ffP0e7f/ntJ9k/G9v/V8t44j+ktCLhUNPhP3LQnmKw0+E/o6RK9pxp2D9CG9q7ktnhP9a7oJFQfuI/Fc6KXm/d1j/VJYOj5NzWP/fp2DZ6LuI/o2mSEoZx2j+jaZIShnHaP/QAOZBo3s4/2ZeFxIcVyz/Zl4XEhxXLP9udgHGuGdM/PazOQMu94j9hTcrFja3eP2BbNWhPXNk/EnMOEUkP0j8Scw4RSQ/SPwl3Zr5Y+cw/FliVlf3/7z8BAAAAAADwP9MAFdvCJc8/nS1WmtYG5j9O+4jPfOrnP86CjdOFBdQ/Az7XlqU45z8DPteWpTjnP5nHweoEXM8/GcPxjTD+5j8Zw/GNMP7mP0+DLmEmIeA/SyIpZ70t6T9IQ2GysTPpP29kqqjLwcU/ERLX8yIR0T9RNinbpRHRP6+VRfp0k+M/3iPBKCBp2z+x/5AVEDDgP/7FHdLTGsQ/8JDjrJeB4z+VfLxGIZLkP5S1HX/jrtc/zuwCoLKF3j9/e+4rtYbeP4+X9U+uwd4/++mn8Q4A4D/76afxDgDgP2X8K471l9s/sHU4VS6q3T+wdThVLqrdPxX1EyUEUtk/jLHQ+2nR4j/EkYkEFdHiPw1dmVgqltQ/jbez2+7B6D+Nt7Pb7sHoP/76PnU1t9I/IOqRmoix5z/coaheM9LrP+0Gn37Yo9E/i1JYN3hY0j+lJNCVRHzTPynZcUKt2N0/4ADcVIbi5z/JvrycSOLnP27oPVrLe90/CeLwMR3N5D/vaUBv4bPrP2bEPBj2scM/k6c7qUqQ1z+CiKPuohzLP56kuBj7fN0/wV8wEjRB4T/BXzASNEHhP1dhiqCPsM0/z9i2vHfa1D/P2La8d9rUP0g9U8yL/9w/3kaVegFC1j+gEfu7vEHWP/Cgcr4QX+c/enqNqkcQ4T96eo2qRxDhP2il9fPS7NU/VL51dutc5D+bCyxoz9LcP80RNHj5rNE/1hh2m2kF6T8VIgQvuQXpP39/AA8Ub9I/rQfyZZs72T8hirLk/DrZP3J/TytNWdM/t+VN6VpP1T8MXknOGTPTP72Nj+oW89E/gKYQOwLN6T+AphA7As3pP4TGScDXXdc/M61d3DGk4j8OAB9F4S3iP1pcRzOlidE/EE/yM0+L5z9BlKdo1YzqP8UjBvLJlM4/WHxOBizo1T+LbSrD1ebVP9d9oG7658Y/od+oJnZW2z+Kck/+mvDrP3DnpRq8ldY/B+o6CDt95D9TiHzolM3kP5TAYr8Wm9M/7zHKd18a4j9YrVXQS+fiP12pn25U98M/wqVEuVxc1D/CpUS5XFzUP8gBHmCkV9Q/vcG2AbU42D/+R+ok25PYPw1HCyEHLNM/pCiyseTs1j8jfLZJkuvWP2GLWzNw4M8/+Tod2n5l4z8R66Va8YvhPxwTEwWd7M8/OmF+lfs21z86YX6V+zbXP+SPKZ3mu9A/3qj4eOYk1j9jop3cU7XXP59H+LLM5dE/KApclrw93z+FyqvCTD3fP1ZyVAdiU9E/jp7wgmu81z8mRGEDQrXWPza22wq8OtY/An7xbqc71T9giuNlrzvVP7+P8M4Bwt4/jYzsW1YN0z89iSXB8gvTP8bLvLvlw8A/LdJCH0lRyz8t0kIfSVHLPxe2hgKuQsM/Un6i24RM5D8z4smR0ajjP372Cgn7JtY/Hyag6qqv2D9nug1uDrHYP7C71+qwQ9g/ykeJ0UpE1z+6dlUfy0PXPwAAAAAAAAAA",
          "dtype": "f8"
         },
         "yaxis": "y"
        }
       ],
       "layout": {
        "legend": {
         "tracegroupgap": 0
        },
        "template": {
         "data": {
          "bar": [
           {
            "error_x": {
             "color": "#2a3f5f"
            },
            "error_y": {
             "color": "#2a3f5f"
            },
            "marker": {
             "line": {
              "color": "#E5ECF6",
              "width": 0.5
             },
             "pattern": {
              "fillmode": "overlay",
              "size": 10,
              "solidity": 0.2
             }
            },
            "type": "bar"
           }
          ],
          "barpolar": [
           {
            "marker": {
             "line": {
              "color": "#E5ECF6",
              "width": 0.5
             },
             "pattern": {
              "fillmode": "overlay",
              "size": 10,
              "solidity": 0.2
             }
            },
            "type": "barpolar"
           }
          ],
          "carpet": [
           {
            "aaxis": {
             "endlinecolor": "#2a3f5f",
             "gridcolor": "white",
             "linecolor": "white",
             "minorgridcolor": "white",
             "startlinecolor": "#2a3f5f"
            },
            "baxis": {
             "endlinecolor": "#2a3f5f",
             "gridcolor": "white",
             "linecolor": "white",
             "minorgridcolor": "white",
             "startlinecolor": "#2a3f5f"
            },
            "type": "carpet"
           }
          ],
          "choropleth": [
           {
            "colorbar": {
             "outlinewidth": 0,
             "ticks": ""
            },
            "type": "choropleth"
           }
          ],
          "contour": [
           {
            "colorbar": {
             "outlinewidth": 0,
             "ticks": ""
            },
            "colorscale": [
             [
              0,
              "#0d0887"
             ],
             [
              0.1111111111111111,
              "#46039f"
             ],
             [
              0.2222222222222222,
              "#7201a8"
             ],
             [
              0.3333333333333333,
              "#9c179e"
             ],
             [
              0.4444444444444444,
              "#bd3786"
             ],
             [
              0.5555555555555556,
              "#d8576b"
             ],
             [
              0.6666666666666666,
              "#ed7953"
             ],
             [
              0.7777777777777778,
              "#fb9f3a"
             ],
             [
              0.8888888888888888,
              "#fdca26"
             ],
             [
              1,
              "#f0f921"
             ]
            ],
            "type": "contour"
           }
          ],
          "contourcarpet": [
           {
            "colorbar": {
             "outlinewidth": 0,
             "ticks": ""
            },
            "type": "contourcarpet"
           }
          ],
          "heatmap": [
           {
            "colorbar": {
             "outlinewidth": 0,
             "ticks": ""
            },
            "colorscale": [
             [
              0,
              "#0d0887"
             ],
             [
              0.1111111111111111,
              "#46039f"
             ],
             [
              0.2222222222222222,
              "#7201a8"
             ],
             [
              0.3333333333333333,
              "#9c179e"
             ],
             [
              0.4444444444444444,
              "#bd3786"
             ],
             [
              0.5555555555555556,
              "#d8576b"
             ],
             [
              0.6666666666666666,
              "#ed7953"
             ],
             [
              0.7777777777777778,
              "#fb9f3a"
             ],
             [
              0.8888888888888888,
              "#fdca26"
             ],
             [
              1,
              "#f0f921"
             ]
            ],
            "type": "heatmap"
           }
          ],
          "histogram": [
           {
            "marker": {
             "pattern": {
              "fillmode": "overlay",
              "size": 10,
              "solidity": 0.2
             }
            },
            "type": "histogram"
           }
          ],
          "histogram2d": [
           {
            "colorbar": {
             "outlinewidth": 0,
             "ticks": ""
            },
            "colorscale": [
             [
              0,
              "#0d0887"
             ],
             [
              0.1111111111111111,
              "#46039f"
             ],
             [
              0.2222222222222222,
              "#7201a8"
             ],
             [
              0.3333333333333333,
              "#9c179e"
             ],
             [
              0.4444444444444444,
              "#bd3786"
             ],
             [
              0.5555555555555556,
              "#d8576b"
             ],
             [
              0.6666666666666666,
              "#ed7953"
             ],
             [
              0.7777777777777778,
              "#fb9f3a"
             ],
             [
              0.8888888888888888,
              "#fdca26"
             ],
             [
              1,
              "#f0f921"
             ]
            ],
            "type": "histogram2d"
           }
          ],
          "histogram2dcontour": [
           {
            "colorbar": {
             "outlinewidth": 0,
             "ticks": ""
            },
            "colorscale": [
             [
              0,
              "#0d0887"
             ],
             [
              0.1111111111111111,
              "#46039f"
             ],
             [
              0.2222222222222222,
              "#7201a8"
             ],
             [
              0.3333333333333333,
              "#9c179e"
             ],
             [
              0.4444444444444444,
              "#bd3786"
             ],
             [
              0.5555555555555556,
              "#d8576b"
             ],
             [
              0.6666666666666666,
              "#ed7953"
             ],
             [
              0.7777777777777778,
              "#fb9f3a"
             ],
             [
              0.8888888888888888,
              "#fdca26"
             ],
             [
              1,
              "#f0f921"
             ]
            ],
            "type": "histogram2dcontour"
           }
          ],
          "mesh3d": [
           {
            "colorbar": {
             "outlinewidth": 0,
             "ticks": ""
            },
            "type": "mesh3d"
           }
          ],
          "parcoords": [
           {
            "line": {
             "colorbar": {
              "outlinewidth": 0,
              "ticks": ""
             }
            },
            "type": "parcoords"
           }
          ],
          "pie": [
           {
            "automargin": true,
            "type": "pie"
           }
          ],
          "scatter": [
           {
            "fillpattern": {
             "fillmode": "overlay",
             "size": 10,
             "solidity": 0.2
            },
            "type": "scatter"
           }
          ],
          "scatter3d": [
           {
            "line": {
             "colorbar": {
              "outlinewidth": 0,
              "ticks": ""
             }
            },
            "marker": {
             "colorbar": {
              "outlinewidth": 0,
              "ticks": ""
             }
            },
            "type": "scatter3d"
           }
          ],
          "scattercarpet": [
           {
            "marker": {
             "colorbar": {
              "outlinewidth": 0,
              "ticks": ""
             }
            },
            "type": "scattercarpet"
           }
          ],
          "scattergeo": [
           {
            "marker": {
             "colorbar": {
              "outlinewidth": 0,
              "ticks": ""
             }
            },
            "type": "scattergeo"
           }
          ],
          "scattergl": [
           {
            "marker": {
             "colorbar": {
              "outlinewidth": 0,
              "ticks": ""
             }
            },
            "type": "scattergl"
           }
          ],
          "scattermap": [
           {
            "marker": {
             "colorbar": {
              "outlinewidth": 0,
              "ticks": ""
             }
            },
            "type": "scattermap"
           }
          ],
          "scattermapbox": [
           {
            "marker": {
             "colorbar": {
              "outlinewidth": 0,
              "ticks": ""
             }
            },
            "type": "scattermapbox"
           }
          ],
          "scatterpolar": [
           {
            "marker": {
             "colorbar": {
              "outlinewidth": 0,
              "ticks": ""
             }
            },
            "type": "scatterpolar"
           }
          ],
          "scatterpolargl": [
           {
            "marker": {
             "colorbar": {
              "outlinewidth": 0,
              "ticks": ""
             }
            },
            "type": "scatterpolargl"
           }
          ],
          "scatterternary": [
           {
            "marker": {
             "colorbar": {
              "outlinewidth": 0,
              "ticks": ""
             }
            },
            "type": "scatterternary"
           }
          ],
          "surface": [
           {
            "colorbar": {
             "outlinewidth": 0,
             "ticks": ""
            },
            "colorscale": [
             [
              0,
              "#0d0887"
             ],
             [
              0.1111111111111111,
              "#46039f"
             ],
             [
              0.2222222222222222,
              "#7201a8"
             ],
             [
              0.3333333333333333,
              "#9c179e"
             ],
             [
              0.4444444444444444,
              "#bd3786"
             ],
             [
              0.5555555555555556,
              "#d8576b"
             ],
             [
              0.6666666666666666,
              "#ed7953"
             ],
             [
              0.7777777777777778,
              "#fb9f3a"
             ],
             [
              0.8888888888888888,
              "#fdca26"
             ],
             [
              1,
              "#f0f921"
             ]
            ],
            "type": "surface"
           }
          ],
          "table": [
           {
            "cells": {
             "fill": {
              "color": "#EBF0F8"
             },
             "line": {
              "color": "white"
             }
            },
            "header": {
             "fill": {
              "color": "#C8D4E3"
             },
             "line": {
              "color": "white"
             }
            },
            "type": "table"
           }
          ]
         },
         "layout": {
          "annotationdefaults": {
           "arrowcolor": "#2a3f5f",
           "arrowhead": 0,
           "arrowwidth": 1
          },
          "autotypenumbers": "strict",
          "coloraxis": {
           "colorbar": {
            "outlinewidth": 0,
            "ticks": ""
           }
          },
          "colorscale": {
           "diverging": [
            [
             0,
             "#8e0152"
            ],
            [
             0.1,
             "#c51b7d"
            ],
            [
             0.2,
             "#de77ae"
            ],
            [
             0.3,
             "#f1b6da"
            ],
            [
             0.4,
             "#fde0ef"
            ],
            [
             0.5,
             "#f7f7f7"
            ],
            [
             0.6,
             "#e6f5d0"
            ],
            [
             0.7,
             "#b8e186"
            ],
            [
             0.8,
             "#7fbc41"
            ],
            [
             0.9,
             "#4d9221"
            ],
            [
             1,
             "#276419"
            ]
           ],
           "sequential": [
            [
             0,
             "#0d0887"
            ],
            [
             0.1111111111111111,
             "#46039f"
            ],
            [
             0.2222222222222222,
             "#7201a8"
            ],
            [
             0.3333333333333333,
             "#9c179e"
            ],
            [
             0.4444444444444444,
             "#bd3786"
            ],
            [
             0.5555555555555556,
             "#d8576b"
            ],
            [
             0.6666666666666666,
             "#ed7953"
            ],
            [
             0.7777777777777778,
             "#fb9f3a"
            ],
            [
             0.8888888888888888,
             "#fdca26"
            ],
            [
             1,
             "#f0f921"
            ]
           ],
           "sequentialminus": [
            [
             0,
             "#0d0887"
            ],
            [
             0.1111111111111111,
             "#46039f"
            ],
            [
             0.2222222222222222,
             "#7201a8"
            ],
            [
             0.3333333333333333,
             "#9c179e"
            ],
            [
             0.4444444444444444,
             "#bd3786"
            ],
            [
             0.5555555555555556,
             "#d8576b"
            ],
            [
             0.6666666666666666,
             "#ed7953"
            ],
            [
             0.7777777777777778,
             "#fb9f3a"
            ],
            [
             0.8888888888888888,
             "#fdca26"
            ],
            [
             1,
             "#f0f921"
            ]
           ]
          },
          "colorway": [
           "#636efa",
           "#EF553B",
           "#00cc96",
           "#ab63fa",
           "#FFA15A",
           "#19d3f3",
           "#FF6692",
           "#B6E880",
           "#FF97FF",
           "#FECB52"
          ],
          "font": {
           "color": "#2a3f5f"
          },
          "geo": {
           "bgcolor": "white",
           "lakecolor": "white",
           "landcolor": "#E5ECF6",
           "showlakes": true,
           "showland": true,
           "subunitcolor": "white"
          },
          "hoverlabel": {
           "align": "left"
          },
          "hovermode": "closest",
          "mapbox": {
           "style": "light"
          },
          "paper_bgcolor": "white",
          "plot_bgcolor": "#E5ECF6",
          "polar": {
           "angularaxis": {
            "gridcolor": "white",
            "linecolor": "white",
            "ticks": ""
           },
           "bgcolor": "#E5ECF6",
           "radialaxis": {
            "gridcolor": "white",
            "linecolor": "white",
            "ticks": ""
           }
          },
          "scene": {
           "xaxis": {
            "backgroundcolor": "#E5ECF6",
            "gridcolor": "white",
            "gridwidth": 2,
            "linecolor": "white",
            "showbackground": true,
            "ticks": "",
            "zerolinecolor": "white"
           },
           "yaxis": {
            "backgroundcolor": "#E5ECF6",
            "gridcolor": "white",
            "gridwidth": 2,
            "linecolor": "white",
            "showbackground": true,
            "ticks": "",
            "zerolinecolor": "white"
           },
           "zaxis": {
            "backgroundcolor": "#E5ECF6",
            "gridcolor": "white",
            "gridwidth": 2,
            "linecolor": "white",
            "showbackground": true,
            "ticks": "",
            "zerolinecolor": "white"
           }
          },
          "shapedefaults": {
           "line": {
            "color": "#2a3f5f"
           }
          },
          "ternary": {
           "aaxis": {
            "gridcolor": "white",
            "linecolor": "white",
            "ticks": ""
           },
           "baxis": {
            "gridcolor": "white",
            "linecolor": "white",
            "ticks": ""
           },
           "bgcolor": "#E5ECF6",
           "caxis": {
            "gridcolor": "white",
            "linecolor": "white",
            "ticks": ""
           }
          },
          "title": {
           "x": 0.05
          },
          "xaxis": {
           "automargin": true,
           "gridcolor": "white",
           "linecolor": "white",
           "ticks": "",
           "title": {
            "standoff": 15
           },
           "zerolinecolor": "white",
           "zerolinewidth": 2
          },
          "yaxis": {
           "automargin": true,
           "gridcolor": "white",
           "linecolor": "white",
           "ticks": "",
           "title": {
            "standoff": 15
           },
           "zerolinecolor": "white",
           "zerolinewidth": 2
          }
         }
        },
        "title": {
         "text": "Scatter Plot of inclusion_ratio vs goal_sim"
        },
        "xaxis": {
         "anchor": "y",
         "domain": [
          0,
          1
         ],
         "title": {
          "text": "inclusion_ratio"
         }
        },
        "yaxis": {
         "anchor": "x",
         "domain": [
          0,
          1
         ],
         "title": {
          "text": "goal_sim"
         }
        }
       }
      }
     },
     "metadata": {},
     "output_type": "display_data"
    }
   ],
   "source": [
    "df_eval_rag['goal_sim']=pd.Series(similarity1)\n",
    "df_eval_norag['goal_sim']=pd.Series(similarity2)\n",
    "df_eval_raggoal['goal_sim']=pd.Series(similarity3)\n",
    "df_eval_noraggoal['goal_sim']=pd.Series(similarity4)\n",
    "\n",
    "\n",
    "def stat_goal(df, key:str):\n",
    "    mean_a = df[key].mean()\n",
    "    std_a = df[key].std()\n",
    "    median_a = df[key].median()\n",
    "    print(f\"Mean of {key}: {mean_a:2f}\")\n",
    "    print(f\"Standard Deviation of {key}: {std_a:2f}\")\n",
    "    print(f\"Median of {key}: {median_a:2f}\")\n",
    "\n",
    "def plot_goal_vs_target_equal_ratio(df, a, b):\n",
    "    fig = px.scatter(df, x=a, y=b, title=f'Scatter Plot of {a} vs {b}')\n",
    "    fig.show()\n",
    "\n",
    "\n",
    "stat_goal(df_eval_rag ,'goal_sim')\n",
    "stat_goal( df_eval_norag,'goal_sim')\n",
    "stat_goal( df_eval_raggoal,'goal_sim')\n",
    "stat_goal( df_eval_noraggoal,'goal_sim')\n",
    "\n",
    "plot_goal_vs_target_equal_ratio( df_eval_rag,'target_equal_ratio','goal_sim')\n",
    "plot_goal_vs_target_equal_ratio( df_eval_norag,'target_equal_ratio','goal_sim')\n",
    "plot_goal_vs_target_equal_ratio( df_eval_raggoal,'target_equal_ratio','goal_sim')\n",
    "plot_goal_vs_target_equal_ratio( df_eval_noraggoal,'target_equal_ratio','goal_sim')"
   ]
  },
  {
   "cell_type": "code",
   "execution_count": null,
   "id": "5c283a9c",
   "metadata": {},
   "outputs": [],
   "source": []
  }
 ],
 "metadata": {
  "kernelspec": {
   "display_name": "Python 3",
   "language": "python",
   "name": "python3"
  },
  "language_info": {
   "codemirror_mode": {
    "name": "ipython",
    "version": 3
   },
   "file_extension": ".py",
   "mimetype": "text/x-python",
   "name": "python",
   "nbconvert_exporter": "python",
   "pygments_lexer": "ipython3",
   "version": "3.10.12"
  }
 },
 "nbformat": 4,
 "nbformat_minor": 5
}
