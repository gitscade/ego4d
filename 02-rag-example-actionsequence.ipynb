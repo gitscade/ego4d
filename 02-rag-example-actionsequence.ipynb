{
 "cells": [
  {
   "cell_type": "markdown",
   "metadata": {},
   "source": [
    "# RAG Action Sequence Prediction\n",
    "\n",
    "This is a system for target space action sequence prediction.\n",
    "\n",
    "input: (goals & subgoals) .\n",
    "output: .\n",
    "\n",
    "\n"
   ]
  }
 ],
 "metadata": {
  "language_info": {
   "name": "python"
  }
 },
 "nbformat": 4,
 "nbformat_minor": 2
}
