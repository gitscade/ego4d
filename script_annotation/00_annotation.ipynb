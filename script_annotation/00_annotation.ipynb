{
 "cells": [
  {
   "cell_type": "code",
   "execution_count": 5,
   "metadata": {},
   "outputs": [],
   "source": [
    "import json\n",
    "from collections import Counter\n",
    "# path\n",
    "common_data_path = '../egogoal/v2/annotations/'\n",
    "ego4d_json_path = \"../ego4d_data/ego4d.json\"\n",
    "goalstep_train_path = common_data_path + \"goalstep_train.json\"\n",
    "goalstep_test_path = common_data_path + \"goalstep_test_unannotated.json\"\n",
    "goalstep_val_path = common_data_path + \"goalstep_val.json\"\n",
    "\n",
    "# read files\n",
    "with open(ego4d_json_path, \"r\") as file:\n",
    "    ego4d_json = json.load(file)\n",
    "with open(goalstep_train_path, \"r\") as file:\n",
    "    goalstep_train_json = json.load(file)\n",
    "with open(goalstep_test_path, \"r\") as file:\n",
    "    goalstep_test_json = json.load(file)\n",
    "with open(goalstep_val_path, \"r\") as file:\n",
    "    goalstep_val_json = json.load(file)\n"
   ]
  },
  {
   "cell_type": "code",
   "execution_count": 9,
   "metadata": {},
   "outputs": [
    {
     "name": "stdout",
     "output_type": "stream",
     "text": [
      "['Cooking', 'Baker', 'Cleaning / laundry', 'Talking with family members', 'Eating', 'Talking with friends/housemates', 'Watching tv', \"BBQ'ing/picnics\", 'On a screen (phone/laptop)', 'Preparing hopot', 'Playing with pets', 'Listening to music', 'Farmer', 'Sleeping', 'Hosting a party', 'Playing games / video games', 'Household management - caring for kids', 'Making a salad/sandwich', 'Indoor Navigation (walking)', 'Play with cellphone', 'Household cleaners', 'Reading books', 'Daily hygiene', 'Working at desk', 'Doing yardwork / shoveling snow', 'Assembling a puzzle', 'Crafting/knitting/sewing/drawing/painting', 'Dancing', 'Street art', 'Bus', 'Talking to colleagues', 'Working in outdoor store', 'Camp setup/pack-up/chores', 'Car mechanic', 'Skateboard/scooter', 'Swimming in a pool/ocean', 'Grocery shopping indoors']\n"
     ]
    }
   ],
   "source": [
    "#apply filters\n",
    "#check goalsteps first\n",
    "\n",
    "scenario_list = ['Cooking', 'Baker', 'Cleaning / laundry', 'Talking with family members', 'Eating', 'Talking with friends/housemates', 'Watching tv', \"BBQ'ing/picnics\", 'On a screen (phone/laptop)', 'Preparing hopot', 'Playing with pets', 'Listening to music', 'Farmer', 'Sleeping', 'Hosting a party', 'Playing games / video games', 'Household management - caring for kids', 'Making a salad/sandwich', 'Indoor Navigation (walking)', 'Play with cellphone', 'Household cleaners', 'Reading books', 'Daily hygiene', 'Working at desk', 'Doing yardwork / shoveling snow', 'Assembling a puzzle', 'Crafting/knitting/sewing/drawing/painting', 'Dancing', 'Street art', 'Bus', 'Talking to colleagues', 'Working in outdoor store', 'Camp setup/pack-up/chores', 'Car mechanic', 'Skateboard/scooter', 'Swimming in a pool/ocean', 'Grocery shopping indoors']\n",
    "\n",
    "#input filter values\n",
    "scenario_num = input(\"write scenario indexS: \")\n",
    "scenario = scenario_list[scenario_num -1]\n",
    "min_sec = input(\"mininum duration in secs: \")\n",
    "max_sec = input(\"maximum duration in secs(default: 100000000): \")\n",
    "\n",
    "video_list = [] # 851 for goalstep benchmarks\n",
    "for video in ego4d_json[\"videos\"]:\n",
    "    if video[\"split_goalstep\"] is not None:\n",
    "        video_list.append(video)\n",
    "\n",
    "# scenario_type = []\n",
    "# for video in video_list:\n",
    "#     scenario_type.extend(video[\"scenarios\"])\n",
    "# frequency = Counter(scenario_type)\n",
    "# scenario_type = [item for item, count in frequency.most_common()]\n",
    "# print(scenario_type)\n",
    "\n",
    "\n",
    "scenario_list = []\n",
    "for video in video_list:\n",
    "    if video[\"scenarios\"] is scenario:\n",
    "        scenario_list.append(video)\n",
    "\n",
    "duration_list = []\n",
    "for video in scenario_list:\n",
    "    if min_sec <= video[\"duration_sec\"] and video[\"duration_sec\"] < max_sec:\n",
    "        duration_list.append(video)\n",
    "\n",
    "uid_list = []\n",
    "for video in duration_list:\n",
    "    uid_list.append(video[\"video_uid\"])\n",
    "\n",
    "#save duration_list and uid list\n",
    "#can also save by splits(train and only val useful)"
   ]
  },
  {
   "cell_type": "code",
   "execution_count": null,
   "metadata": {},
   "outputs": [],
   "source": [
    "# make empty format for annotation\n",
    "\n",
    "#input=>duration_list or uid_list\n",
    "#output=>separate file with nested properties as follows\n",
    "#\n",
    "#\n",
    "#\n",
    "#\n",
    "#\n",
    "#\n",
    "#\n",
    "#\n",
    "#"
   ]
  }
 ],
 "metadata": {
  "kernelspec": {
   "display_name": "Python 3",
   "language": "python",
   "name": "python3"
  },
  "language_info": {
   "codemirror_mode": {
    "name": "ipython",
    "version": 3
   },
   "file_extension": ".py",
   "mimetype": "text/x-python",
   "name": "python",
   "nbconvert_exporter": "python",
   "pygments_lexer": "ipython3",
   "version": "3.10.12"
  }
 },
 "nbformat": 4,
 "nbformat_minor": 2
}
