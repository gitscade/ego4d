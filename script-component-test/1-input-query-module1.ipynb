{
 "cells": [
  {
   "cell_type": "markdown",
   "metadata": {
    "vscode": {
     "languageId": "plaintext"
    }
   },
   "source": [
    "# 1-input-query-module1-for goalstep prediction\n",
    "\n",
    "- https://github.com/brown-palm/AntGPT\n",
    "- https://github.com/brown-palm/AntGPT/blob/main/GPT_models/ICL_COT/counterfactual.ipynb"
   ]
  },
  {
   "cell_type": "code",
   "execution_count": null,
   "metadata": {},
   "outputs": [],
   "source": [
    "import json\n",
    "import os\n",
    "from dotenv import load_dotenv\n",
    "import pandas as pandas\n",
    "import numpy as np\n",
    "import time\n",
    "import openai\n",
    "import argparse\n",
    "\n",
    "# load api keys\n",
    "load_dotenv()\n",
    "openai.api_key = os.getenv(\"OPENAI_API_KEY\")\n",
    "\n",
    "# load datasets (train, val)\n",
    "\n",
    "\n",
    "\n",
    "\n",
    "#============================================\n",
    "# EXAMPLE SCRIPT from ANTGPT\n",
    "import json\n",
    "import pandas as pd\n",
    "import numpy as np\n",
    "import pickle\n",
    "\n",
    "dicts = json.load(open(\"dataset/dicts.json\",\"r\"))\n",
    "train_df = pd.read_json(\"dataset/train_nseg8.jsonl\", lines=True)\n",
    "val_df = pd.read_json(\"dataset/val_nseg8_recog_subset600.jsonl\", lines=True)\n",
    "val_df_gt = pd.read_json(\"dataset/val_nseg8_subset600.jsonl\", lines=True)\n",
    "\n",
    "train_x = train_df['prompt'].apply(lambda x: x.replace(\"\\n\",\"\").replace(\"#\",\"\")[:-1]).tolist()\n",
    "train_y = train_df['completion'].apply(lambda x: x.strip().replace(\"\\n\",\"\").replace(\"#\",\"\")[:-1]).tolist()\n",
    "\n",
    "val_x = val_df['prompt'].apply(lambda x: x.replace(\"\\n\",\"\").replace(\"#\",\"\")[:-1]).tolist()\n",
    "val_y = val_df['completion'].apply(lambda x: x.strip().replace(\"\\n\",\"\").replace(\"#\",\"\")[:-1]).tolist()\n",
    "val_x_gt = val_df_gt['prompt'].apply(lambda x: x.replace(\"\\n\",\"\").replace(\"#\",\"\")[:-1]).tolist()\n",
    "\n",
    "similar_matrix = pickle.load(open(\"dataset/similar_matrix_subset600.pkl\",\"rb\"))\n",
    "\n",
    "goal_list = json.load(open(\"dataset/goal_val600.json\",\"r\"))\n",
    "\n",
    "index_to_verb = dicts['i2v']\n",
    "verb_to_index = dicts['v2i']\n",
    "noun_to_index = dicts['n2i']\n",
    "index_to_noun = dicts['i2n']"
   ]
  },
  {
   "cell_type": "code",
   "execution_count": null,
   "metadata": {},
   "outputs": [],
   "source": [
    "import openai\n",
    "import json\n",
    "import pandas as pd\n",
    "\n",
    "message = [{'role':'system', 'content': f\"Suppose a person has performed the given actions in the form of a sequence of action pairs, there should be no more than two words in each action pair Each action pair is defined by a {{verb}} and a {{noun}}, separated by a space. What will be the possible next 20 actions? \\\\You should follow the following rules: 1.For each action pairs, you can only choose the {{verb}} from the following words: [adjust, apply, arrange, attach, blow, break, carry, catch, clap, clean, climb, close, consume, count, cover, crochet, cut, detach, dig, dip, divide, draw, drill, drive, enter, feed, file, fill, fold, fry, give, grate, grind, hang, hit, hold, insert, inspect, iron, kick, knead, knit, lift, lock, loosen, mark, measure, mix, mold, move, open, operate, pack, paint, park, peel, pet, plant, play, point, pour, press, pull, pump, push, put, read, remove, repair, roll, sand, scoop, scrape, screw, scroll, search, serve, sew, shake, sharpen, shuffle, sieve, sit, smooth, spray, sprinkle, squeeze, stand, step, stick, stretch, swing, take, talk, throw, tie, tighten, tilt, touch, turn, turn, turn, uncover, unfold, unroll, unscrew, untie, walk, wash, water, wear, weld, wipe, write, zip] \\\\ 2. For each action pairs, you can only choose the {{noun}} from the following words: [apple, apron, arm, artwork, asparagus, avocado, awl, axe, baby, bacon, bag, baking, ball, ball, balloon, banana, bar, baseboard, basket, bat, bat, bathtub, batter, battery, bead, beaker, bean, bed, belt, bench, berry, beverage, bicycle, blanket, blender, block, blower, bolt, book, bookcase, bottle, bowl, bracelet, brake, brake, branch, bread, brick, broccoli, broom, brush, bubble, bucket, buckle, burger, butter, butterfly, button, cabbage, cabinet, calculator, caliper, camera, can, candle, canvas, car, card, cardboard, carpet, carrot, cart, cat, ceiling, celery, cello, cement, cereal, chaff, chain, chair, chalk, cheese, chicken, chip, chip, chip, chisel, chocolate, chopping, chopstick, cigarette, circuit, clamp, clay, clip, clock, cloth, coaster, coconut, coffee, coffee, colander, comb, computer, container, cooker, cookie, cork, corn, corner, countertop, crab, cracker, crayon, cream, crochet, crowbar, cucumber, cup, curtain, cushion, cutter, decoration, derailleur, detergent, dice, dishwasher, dog, door, doorbell, dough, dough, doughnut, drawer, dress, drill, drill, drum, dumbbell, dust, duster, dustpan, egg, eggplant, engine, envelope, eraser, facemask, fan, faucet, fence, file, filler, filter, fish, fishing, flash, floor, flour, flower, foam, foil, food, foot, fork, fridge, fries, fuel, funnel, game, garbage, garlic, gasket, gate, gauge, gauze, gear, generator, ginger, glass, glasses, glove, glue, glue, golf, gourd, grain, grape, grapefruit, grass, grater, grill, grinder, guava, guitar, hair, hammer, hand, handle, hanger, hat, hay, haystack, head, headphones, heater, helmet, hinge, hole, horse, hose, house, ice, ice, ink, iron, jack, jacket, jug, kale, ketchup, kettle, key, keyboard, knife, label, ladder, leaf, leash, leg, lemon, lever, lid, light, lighter, lime, lock, lubricant, magnet, mango, manure, mask, mat, matchstick, meat, medicine, metal, microscope, microwave, milk, mirror, mixer, mold, money, mop, motorcycle, mouse, mouth, mower, multimeter, mushroom, nail, nail, nail, napkin, necklace, needle, net, nozzle, nut, nut, oil, okra, onion, oven, paddle, paint, paint, paintbrush, palette, pan, pancake, panel, pants, papaya, paper, pasta, paste, pastry, pea, peanut, pear, pedal, peel, peeler, peg, pen, pencil, pepper, phone, photo, piano, pickle, picture, pie, pillow, pilot, pin, pipe, pizza, planer, plant, plate, playing, plier, plug, pole, popcorn, pot, pot, potato, pump, pumpkin, purse, puzzle, rack, radio, rail, rake, razor, remote, rice, ring, rod, rolling, root, rope, router, rubber, ruler, sand, sander, sandpaper, sandwich, sauce, sausage, saw, scarf, scissors, scoop, scraper, screw, screwdriver, sculpture, seasoning, seed, set, sewing, sharpener, shears, sheet, shelf, shell, shirt, shoe, shovel, shower, sickle, sieve, sink, sketch, skirt, slab, snorkel, soap, sock, socket, sofa, soil, solder, soup, spacer, spatula, speaker, sphygmomanometer, spice, spinach, spirit, sponge, spoon, spray, spring, squeezer, stairs, stamp, stapler, steamer, steering, stick, sticker, stock, stone, stool, stove, strap, straw, string, stroller, switch, syringe, table, tablet, taco, tape, tape, tea, teapot, television, tent, test, tie, tile, timer, toaster, toilet, toilet, tomato, tongs, toolbox, toothbrush, toothpick, torch, towel, toy, tractor, trash, tray, treadmill, tree, trimmer, trowel, truck, tweezer, umbrella, undergarment, vacuum, vacuum, valve, vase, video, violin, wall, wallet, wallpaper, washing, watch, water, watermelon, weighing, welding, wheat, wheel, wheelbarrow, whisk, window, windshield, wiper, wire, wood, worm, wrapper, wrench, yam, yeast, yoghurt, zipper, zucchini].\\\\Remember the output must be exact 20 actions in the form of {{verb}} and a {{noun}}, which means there are 19 ',' in the output.\\n\"},]\n",
    "\n",
    "demos = [\n",
    "\"scene: gardening ## observed actions: tie leaf, carry leaf, put plant, adjust cloth, take plant, put plant, take sickle, take sickle => cut plant, put sickle, take leaf, stretch rubber, take sickle, cut plant, hold plant, put sickle, take rubber, pull rubber, take rubber, tie rubber, move plant, take rubber, pull rubber, put plant, hold plant, cut plant, cut plant, hold plant ###\\n\",\n",
    "\n",
    "\"scene: making bricks ## observed actions: put cement, wipe mold, arrange mold, turn mold, put mold, take soil, pour mold, remove mold => put mold, wipe floor, cut cement, mix cement, arrange mold, put cement, remove cement, put cement, wipe cement, carry mold, put mold, turn mold, put mold, pour sand, put mold, cut clay, arrange mold, put clay, remove clay, carry mold ###\\n\",\n",
    "\n",
    "\"scene: baking bread ## observed actions: put dough, put dough, take dough, take dough, take dough, put dough, adjust dough, adjust tray => take dough, put dough, roll dough, take cutter, cut dough, put cutter, take dough, put dough, take dough, put dough, take dough, put dough, take dough, put dough, take dough, take dough, put dough, take brush, hold bowl, take bottle ###\\n\",\n",
    "\n",
    "\"scene: prune plant ## observed actions: take plier, hold plant, cut plant, cut plant, throw plant, cut plant, hold plant, cut plant => hold plant, cut plant, cut plant, cut plant, put plier, take plier, cut stick, put stick, put shears, take bucket, pour soil, put bucket, break soil, take vase, pour soil, put vase, take soil, take soil, throw soil, take soil ###\\n\",\n",
    "\n",
    "\"scene: chop carrots ## observed actions: take carrot, cut carrot, cut carrot, cut carrot, take carrot, put carrot, cut carrot, cut carrot => cut carrot, take carrot, put carrot, cut carrot, cut carrot, put carrot, move carrot, take carrot, cut carrot, cut carrot, cut carrot, put carrot, cut carrot, cut carrot, cut carrot, take carrot, put carrot, put carrot, take carrot, cut carrot ###\\n\",\n",
    "\n",
    "\"scene: painting metal ## observed actions: put paper, put metal, take paper, adjust paper, put paper, adjust paper, take paintbrush, dip paintbrush => apply paper, dip container, apply paper, dip container, apply paper, dip container, apply paper, take paper, put paper, take paper, stick paper, smooth paper, take paper, put paper, fold paper, turn paper, smooth paper, turn paper, smooth paper, turn paper ###\\n\",\n",
    "\n",
    "\"scene: make drink ## observed actions: take lid, close container, put container, close drawer, mix beverage, take bottle, put bottle, pet dog => hold cup, open bottle, take bottle, close bottle, put bottle, mix beverage, push bottle, take cup, mix beverage, consume beverage, put cup, take bottle, put bottle, take cabinet, pour whisk, close bottle, put whisk, take bottle, open fridge, put bottle ###\\n\",\n",
    "\n",
    "\"scene: woodworking ## observed actions: tighten clamp, sand sander, sand wood, sand wood, wipe wood, sand wood, sand wood, sand wood => wipe wood, wipe wood, sand wood, wipe wood, sand wood, sand wood, sand wood, sand wood, sand wood, sand wood, sand wood, sand wood, sand wood, sand wood, sand wood, sand wood, wipe wood, wipe wood, sand wood, sand wood ###\\n\",\n",
    "\n",
    "\"scene: clean dishes ## observed actions: take sponge, take soap, put sponge, put soap, take plate, wash plate, wash plate, put plate => close faucet, take chopstick, adjust bag, adjust zucchini, hold pan, take napkin, clean countertop, put napkin, adjust zucchini, adjust zucchini, take napkin, put chopstick, open faucet, wash napkin, squeeze napkin, close faucet, clean napkin, put napkin, turn zucchini, take lid ###\\n\",\n",
    "\n",
    "\"scene: sew clothes ## observed actions: take scissors, move cloth, put cloth, take cloth, put cloth, hold cloth, cut cloth, give scissors => give scissors, put scissors, lift cloth, put cloth, fold cloth, take cloth, attach cloth, put cloth, move cloth, adjust sewing-machine, adjust cloth, turn wheel, sew cloth, move cloth, take scissors, give scissors, give scissors, put scissors, adjust cloth, sew cloth ###\\n\",\n",
    "\n",
    "\"scene: make bread ## observed actions: take dough, mold dough, put dough, take dough, mold dough, put dough, take dough, mold dough => mold dough, put dough, take dough, mold dough, put dough, take dough, cut dough, put dough, put dough, put dough, put dough, take dough, cut dough, mold dough, put pan, adjust dough, take dough, cut dough, mold dough, put dough ###\\n\",\n",
    "\n",
    "\"scene: fix wheel ## observed actions: put nut, put drill, take nut, screw nut, hold wheel, screw screw, hold screw, take drill => insert screw, hold drill, put drill, take wrench, remove nut, insert nut, tighten nut, put bolt, take screwdriver, take nut, put screwdriver, insert screw, screw screw, insert screw, screw screw, screw screw, screw screw, shake wheel, put screwdriver, take wrench ###\\n\",\n",
    "    \n",
    "]"
   ]
  },
  {
   "cell_type": "markdown",
   "metadata": {},
   "source": [
    "# Predictions with Right Goal"
   ]
  },
  {
   "cell_type": "code",
   "execution_count": null,
   "metadata": {},
   "outputs": [],
   "source": [
    "#TODO: 2.change id from 0 to 599\n",
    "sample_idx = 0"
   ]
  },
  {
   "cell_type": "code",
   "execution_count": null,
   "metadata": {},
   "outputs": [],
   "source": [
    "prompt_message = \"\"\n",
    "\n",
    "for demo in demos:\n",
    "    prompt_message += demo\n",
    "prompt_message += \"scene: \" + goal_list[sample_idx] + \" ## observed actions: \"\n",
    "prompt_message += val_x[sample_idx] + \" => \"\n",
    "mes = message + [{'role':'user', 'content': prompt_message}]\n",
    "print('oracle goal: ', goal_list[sample_idx])\n",
    "print('observations: ', val_x[sample_idx])\n",
    "\n",
    "response = openai.ChatCompletion.create(\n",
    "                                model='gpt-3.5-turbo',\n",
    "                                messages=mes,\n",
    "                                max_tokens = 500,\n",
    "                                n = 5,\n",
    "                                temperature = 0.3,\n",
    "                                )\n",
    "choices = response['choices']\n",
    "answers = []\n",
    "answer_len = []\n",
    "res_list = []\n",
    "for choice, i in zip(choices, range(len(choices))):\n",
    "    res_list.append(choice[\"message\"][\"content\"])\n",
    "\n",
    "print('oracle answer: ')\n",
    "for res in res_li\n"
   ]
  },
  {
   "cell_type": "markdown",
   "metadata": {},
   "source": [
    "# Prediction with Wrong Goal"
   ]
  },
  {
   "cell_type": "markdown",
   "metadata": {},
   "source": []
  }
 ],
 "metadata": {
  "kernelspec": {
   "display_name": "Python 3",
   "language": "python",
   "name": "python3"
  },
  "language_info": {
   "codemirror_mode": {
    "name": "ipython",
    "version": 3
   },
   "file_extension": ".py",
   "mimetype": "text/x-python",
   "name": "python",
   "nbconvert_exporter": "python",
   "pygments_lexer": "ipython3",
   "version": "3.10.12"
  }
 },
 "nbformat": 4,
 "nbformat_minor": 2
}
