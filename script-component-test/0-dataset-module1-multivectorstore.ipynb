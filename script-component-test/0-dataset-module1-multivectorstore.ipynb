{
 "cells": [
  {
   "cell_type": "markdown",
   "metadata": {},
   "source": [
    "# 0-dataset-module1-vectorstoreretriever\n",
    "\n",
    "- parent 관련된 모듈\n",
    "    1. https://asidefine.tistory.com/298\n",
    "    2. https://wikidocs.net/234164\n",
    "- multi-vector retriever\n",
    "    1. https://wikidocs.net/234281"
   ]
  },
  {
   "cell_type": "markdown",
   "metadata": {},
   "source": [
    "### 1. datapath & read\n",
    "\n",
    "json을 일단 읽어준다."
   ]
  },
  {
   "cell_type": "code",
   "execution_count": 1,
   "metadata": {},
   "outputs": [
    {
     "ename": "FileNotFoundError",
     "evalue": "[Errno 2] No such file or directory: './egogoal/v2/goalstep_test_unannotated.json'",
     "output_type": "error",
     "traceback": [
      "\u001b[0;31m---------------------------------------------------------------------------\u001b[0m",
      "\u001b[0;31mFileNotFoundError\u001b[0m                         Traceback (most recent call last)",
      "Cell \u001b[0;32mIn[1], line 18\u001b[0m\n\u001b[1;32m     15\u001b[0m PATH_VAL \u001b[38;5;241m=\u001b[39m \u001b[38;5;124m\"\u001b[39m\u001b[38;5;124m./egogoal/v2/goalstep_val.json\u001b[39m\u001b[38;5;124m\"\u001b[39m\n\u001b[1;32m     16\u001b[0m PATH_TRAINVAL \u001b[38;5;241m=\u001b[39m \u001b[38;5;124m\"\u001b[39m\u001b[38;5;124m./egogoal/v2/goalstep_trainval.json\u001b[39m\u001b[38;5;124m\"\u001b[39m\n\u001b[0;32m---> 18\u001b[0m data_test \u001b[38;5;241m=\u001b[39m json\u001b[38;5;241m.\u001b[39mload(\u001b[38;5;28;43mopen\u001b[39;49m\u001b[43m(\u001b[49m\u001b[43mPATH_TEST\u001b[49m\u001b[43m)\u001b[49m)\n\u001b[1;32m     19\u001b[0m data_train \u001b[38;5;241m=\u001b[39m json\u001b[38;5;241m.\u001b[39mload(\u001b[38;5;28mopen\u001b[39m(PATH_TRAIN))\n\u001b[1;32m     20\u001b[0m data_val \u001b[38;5;241m=\u001b[39m json\u001b[38;5;241m.\u001b[39mload(\u001b[38;5;28mopen\u001b[39m(PATH_VAL))\n",
      "File \u001b[0;32m~/.local/lib/python3.10/site-packages/IPython/core/interactiveshell.py:324\u001b[0m, in \u001b[0;36m_modified_open\u001b[0;34m(file, *args, **kwargs)\u001b[0m\n\u001b[1;32m    317\u001b[0m \u001b[38;5;28;01mif\u001b[39;00m file \u001b[38;5;129;01min\u001b[39;00m {\u001b[38;5;241m0\u001b[39m, \u001b[38;5;241m1\u001b[39m, \u001b[38;5;241m2\u001b[39m}:\n\u001b[1;32m    318\u001b[0m     \u001b[38;5;28;01mraise\u001b[39;00m \u001b[38;5;167;01mValueError\u001b[39;00m(\n\u001b[1;32m    319\u001b[0m         \u001b[38;5;124mf\u001b[39m\u001b[38;5;124m\"\u001b[39m\u001b[38;5;124mIPython won\u001b[39m\u001b[38;5;124m'\u001b[39m\u001b[38;5;124mt let you open fd=\u001b[39m\u001b[38;5;132;01m{\u001b[39;00mfile\u001b[38;5;132;01m}\u001b[39;00m\u001b[38;5;124m by default \u001b[39m\u001b[38;5;124m\"\u001b[39m\n\u001b[1;32m    320\u001b[0m         \u001b[38;5;124m\"\u001b[39m\u001b[38;5;124mas it is likely to crash IPython. If you know what you are doing, \u001b[39m\u001b[38;5;124m\"\u001b[39m\n\u001b[1;32m    321\u001b[0m         \u001b[38;5;124m\"\u001b[39m\u001b[38;5;124myou can use builtins\u001b[39m\u001b[38;5;124m'\u001b[39m\u001b[38;5;124m open.\u001b[39m\u001b[38;5;124m\"\u001b[39m\n\u001b[1;32m    322\u001b[0m     )\n\u001b[0;32m--> 324\u001b[0m \u001b[38;5;28;01mreturn\u001b[39;00m \u001b[43mio_open\u001b[49m\u001b[43m(\u001b[49m\u001b[43mfile\u001b[49m\u001b[43m,\u001b[49m\u001b[43m \u001b[49m\u001b[38;5;241;43m*\u001b[39;49m\u001b[43margs\u001b[49m\u001b[43m,\u001b[49m\u001b[43m \u001b[49m\u001b[38;5;241;43m*\u001b[39;49m\u001b[38;5;241;43m*\u001b[39;49m\u001b[43mkwargs\u001b[49m\u001b[43m)\u001b[49m\n",
      "\u001b[0;31mFileNotFoundError\u001b[0m: [Errno 2] No such file or directory: './egogoal/v2/goalstep_test_unannotated.json'"
     ]
    }
   ],
   "source": [
    "import os\n",
    "from dotenv import load_dotenv\n",
    "import openai\n",
    "import json\n",
    "import logging #logging for queries\n",
    "# from langchain_community.document_loaders import TextLoader\n",
    "# from langchain.document_loaders import JSONLoader\n",
    "\n",
    "# load api keys\n",
    "load_dotenv()\n",
    "openai.api_key = os.getenv(\"OPENAI_API_KEY\")\n",
    "\n",
    "PATH_TEST = \"../egogoal/v2/annotations/goalstep_test_unannotated.json\"\n",
    "PATH_TRAIN = \"../egogoal/v2/annotations/goalstep_train.json\"\n",
    "PATH_VAL = \"../egogoal/v2/annotations/goalstep_val.json\"\n",
    "PATH_TRAINVAL = \"../egogoal/v2/annotations/goalstep_trainval.json\"\n",
    "\n",
    "data_test = json.load(open(PATH_TEST))\n",
    "data_train = json.load(open(PATH_TRAIN))\n",
    "data_val = json.load(open(PATH_VAL))\n",
    "\n",
    "train_video_uids = set(x.get(\"video_id\", x.get(\"video_uid\", None)) for x in data_test[\"annotations\"])\n",
    "val_video_uids = set(x.get(\"video_id\", x.get(\"video_uid\", None)) for x in data_train[\"annotations\"])\n",
    "test_video_uids = set(x.get(\"video_id\", x.get(\"video_uid\", None)) for x in data_val[\"annotations\"])\n"
   ]
  },
  {
   "cell_type": "markdown",
   "metadata": {
    "vscode": {
     "languageId": "plaintext"
    }
   },
   "source": [
    "### 2. make hierarchical \n",
    "\n",
    "어떠한 chunk에 대한 유사도가 감지되었다면, 그 chunk를 가지고 있는 원본 document를 모두 참고하는 방법이다.\n",
    "- 각 비디오는 separate document로 documents에 들어가야 한다.\n",
    "- 각 비디오가 많이 길수가 있으니까 역시 chunk를 만들어서 줘야 한다.\n",
    "- 다만, 맨 처음의 spatial context는 무조건 줘야 한다."
   ]
  },
  {
   "cell_type": "code",
   "execution_count": null,
   "metadata": {},
   "outputs": [],
   "source": [
    "# Loading and Splitting\n",
    "from langchain_openai.embeddings import OpenAIEmbeddings\n",
    "from langchain.text_splitter import RecursiveCharacterTextSplitter\n",
    "from langchain.retrievers.multi_query import MultiQueryRetriever\n",
    "from langchain_community.vectorstores import Chroma\n",
    "from langchain.storage import InMemoryStore\n",
    "from langchain.retrievers import ParentDocumentRetriever\n",
    "\n",
    "\n",
    "# split dataset into lists\n",
    "documents = []\n",
    "embeddings = OpenAIEmbeddings()\n",
    "\n",
    "# text splitter\n",
    "parent_splitter = RecursiveCharacterTextSplitter(chunk_size=1000)\n",
    "child_splitter = RecursiveCharacterTextSplitter(chunk_size=1000)\n",
    "vectorstore = Chroma(\n",
    "    collection_name=\"full_docs\", embedding = embeddings\n",
    ")\n",
    "\n",
    "# storage layer for the parent documents\n",
    "store = InMemoryStore()\n",
    "retriever = ParentDocumentRetriever(\n",
    "    vectorstore=vectorstore,\n",
    "    docstore=store,\n",
    "    child_splitter=child_splitter,\n",
    "    parent_splitter=parent_splitter,\n",
    ")"
   ]
  },
  {
   "cell_type": "markdown",
   "metadata": {},
   "source": [
    "### 3. Retrieve from documents list"
   ]
  },
  {
   "cell_type": "code",
   "execution_count": null,
   "metadata": {},
   "outputs": [],
   "source": [
    "QUERY = \"\"\n",
    "\n",
    "# add documents to retriever and see how many chunk the full document has\n",
    "retriever.add_documents(documents)\n",
    "len(list(store.yield_keys()))\n",
    "\n",
    "# check if search is possible for smaller chunks\n",
    "sub_docs = vectorstore.similarity_search(QUERY)\n",
    "print(sub_docs[0].page_content)\n",
    "len(sub_docs[0].page_content)\n",
    "\n",
    "# two ways of retrieving documents\n",
    "retrieved_docs = retriever.invoke(QUERY) \n",
    "retrieved_docs = retriever.get_relevant_documents(QUERY)\n",
    "\n",
    "# print the searched document\n",
    "print(retrieved_docs[0].page_content)\n",
    "len(retrieved_docs[0].page_content)"
   ]
  },
  {
   "cell_type": "markdown",
   "metadata": {},
   "source": [
    "### 4. Store VectorStore"
   ]
  },
  {
   "cell_type": "code",
   "execution_count": null,
   "metadata": {},
   "outputs": [],
   "source": []
  }
 ],
 "metadata": {
  "kernelspec": {
   "display_name": "Python 3",
   "language": "python",
   "name": "python3"
  },
  "language_info": {
   "codemirror_mode": {
    "name": "ipython",
    "version": 3
   },
   "file_extension": ".py",
   "mimetype": "text/x-python",
   "name": "python",
   "nbconvert_exporter": "python",
   "pygments_lexer": "ipython3",
   "version": "3.10.12"
  }
 },
 "nbformat": 4,
 "nbformat_minor": 2
}
