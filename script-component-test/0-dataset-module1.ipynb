{
 "cells": [
  {
   "cell_type": "markdown",
   "metadata": {},
   "source": [
    "# 0-dataset-module1\n",
    "\n",
    "1. configure hierarchical dataset from annotation and goalstep data"
   ]
  },
  {
   "cell_type": "markdown",
   "metadata": {},
   "source": [
    "### 1. datapath & read"
   ]
  },
  {
   "cell_type": "code",
   "execution_count": null,
   "metadata": {},
   "outputs": [],
   "source": []
  },
  {
   "cell_type": "code",
   "execution_count": null,
   "metadata": {},
   "outputs": [],
   "source": [
    "import os\n",
    "import json\n",
    "\n",
    "PATH_TEST = \"./egogoal/v2/goalstep_test_unannotated.json\"\n",
    "PATH_TRAIN = \"./egogoal/v2/goalstep_train.json\"\n",
    "PATH_VAL = \"./egogoal/v2/goalstep_val.json\"\n",
    "PATH_TRAINVAL = \"./egogoal/v2/goalstep_trainval.json\"\n",
    "\n",
    "data_test = json.load(open(PATH_TEST))\n",
    "data_train = json.load(open(PATH_TRAIN))\n",
    "data_val = json.load(open(PATH_VAL))\n",
    "\n",
    "train_video_uids = set(x.get(\"video_id\", x.get(\"video_uid\", None)) for x in data_test[\"annotations\"])\n",
    "val_video_uids = set(x.get(\"video_id\", x.get(\"video_uid\", None)) for x in data_train[\"annotations\"])\n",
    "test_video_uids = set(x.get(\"video_id\", x.get(\"video_uid\", None)) for x in data_val[\"annotations\"])\n"
   ]
  },
  {
   "cell_type": "markdown",
   "metadata": {
    "vscode": {
     "languageId": "plaintext"
    }
   },
   "source": [
    "### 2. make hierarchical documents"
   ]
  },
  {
   "cell_type": "code",
   "execution_count": null,
   "metadata": {},
   "outputs": [],
   "source": [
    "# Loading and Splitting\n",
    "from langchain_community.document_loaders import TextLoader\n",
    "from langchain.document_loaders import JSONLoader\n",
    "from langchain.text_splitter import RecursiveCharacterTextSplitter\n",
    "\n",
    "# text splitter & documents\n",
    "\n"
   ]
  },
  {
   "cell_type": "markdown",
   "metadata": {},
   "source": [
    "### 3. Make into VectorStore"
   ]
  },
  {
   "cell_type": "code",
   "execution_count": null,
   "metadata": {},
   "outputs": [],
   "source": [
    "# Embedding Database\n",
    "from langchain_openai.embeddings import OpenAIEmbeddings\n",
    "from sklearn.metrics.pairwise import cosine_similarity\n",
    "from langchain_community.vectorstores import DocArrayInMemorySearch\n",
    "from langchain_core.runnables import RunnableParallel, RunnablePassthrough\n",
    "\n",
    "# embeddings\n",
    "embeddings = OpenAIEmbeddings()\n",
    "\n",
    "# documents\n",
    "#vectorstore1 = DocArrayInMemorySearch.from_documents(documents1, embeddings)"
   ]
  },
  {
   "cell_type": "markdown",
   "metadata": {},
   "source": [
    "### 4. Store VectorStore"
   ]
  },
  {
   "cell_type": "code",
   "execution_count": null,
   "metadata": {},
   "outputs": [],
   "source": []
  }
 ],
 "metadata": {
  "kernelspec": {
   "display_name": "Python 3",
   "language": "python",
   "name": "python3"
  },
  "language_info": {
   "codemirror_mode": {
    "name": "ipython",
    "version": 3
   },
   "file_extension": ".py",
   "mimetype": "text/x-python",
   "name": "python",
   "nbconvert_exporter": "python",
   "pygments_lexer": "ipython3",
   "version": "3.10.12"
  }
 },
 "nbformat": 4,
 "nbformat_minor": 2
}
