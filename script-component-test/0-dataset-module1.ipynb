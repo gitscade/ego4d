{
 "cells": [
  {
   "cell_type": "markdown",
   "metadata": {},
   "source": [
    "# 0-dataset-module1\n",
    "\n",
    "https://asidefine.tistory.com/298\n",
    "https://wikidocs.net/234164\n",
    "1. configure hierarchical dataset from annotation and goalstep data"
   ]
  },
  {
   "cell_type": "markdown",
   "metadata": {},
   "source": [
    "### 1. datapath & read\n",
    "\n",
    "json을 일단 읽어준다."
   ]
  },
  {
   "cell_type": "code",
   "execution_count": null,
   "metadata": {},
   "outputs": [],
   "source": [
    "import os\n",
    "from dotenv import load_dotenv\n",
    "import openai\n",
    "import json\n",
    "import logging #logging for queries\n",
    "# from langchain_community.document_loaders import TextLoader\n",
    "# from langchain.document_loaders import JSONLoader\n",
    "\n",
    "# load api keys\n",
    "load_dotenv()\n",
    "openai.api_key = os.getenv(\"OPENAI_API_KEY\")\n",
    "\n",
    "PATH_TEST = \"./egogoal/v2/goalstep_test_unannotated.json\"\n",
    "PATH_TRAIN = \"./egogoal/v2/goalstep_train.json\"\n",
    "PATH_VAL = \"./egogoal/v2/goalstep_val.json\"\n",
    "PATH_TRAINVAL = \"./egogoal/v2/goalstep_trainval.json\"\n",
    "\n",
    "data_test = json.load(open(PATH_TEST))\n",
    "data_train = json.load(open(PATH_TRAIN))\n",
    "data_val = json.load(open(PATH_VAL))\n",
    "\n",
    "train_video_uids = set(x.get(\"video_id\", x.get(\"video_uid\", None)) for x in data_test[\"annotations\"])\n",
    "val_video_uids = set(x.get(\"video_id\", x.get(\"video_uid\", None)) for x in data_train[\"annotations\"])\n",
    "test_video_uids = set(x.get(\"video_id\", x.get(\"video_uid\", None)) for x in data_val[\"annotations\"])\n"
   ]
  },
  {
   "cell_type": "markdown",
   "metadata": {
    "vscode": {
     "languageId": "plaintext"
    }
   },
   "source": [
    "### 2. make hierarchical \n",
    "\n",
    "어떠한 chunk에 대한 유사도가 감지되었다면, 그 chunk를 가지고 있는 원본 document를 모두 참고하는 방법이다.\n",
    "- 각 비디오는 separate document로 documents에 들어가야 한다.\n",
    "- 각 비디오가 많이 길수가 있으니까 역시 chunk를 만들어서 줘야 한다.\n",
    "- 다만, 맨 처음의 spatial context는 무조건 줘야 한다."
   ]
  },
  {
   "cell_type": "code",
   "execution_count": null,
   "metadata": {},
   "outputs": [],
   "source": [
    "# Loading and Splitting\n",
    "from langchain_openai.embeddings import OpenAIEmbeddings\n",
    "from langchain.text_splitter import RecursiveCharacterTextSplitter\n",
    "from langchain.retrievers.multi_query import MultiQueryRetriever\n",
    "from langchain_community.vectorstores import Chroma\n",
    "from langchain.storage import InMemoryStore\n",
    "from langchain.retrievers import ParentDocumentRetriever\n",
    "\n",
    "\n",
    "# split dataset into lists\n",
    "documents = []\n",
    "embeddings = OpenAIEmbeddings()\n",
    "\n",
    "# text splitter\n",
    "parent_splitter = RecursiveCharacterTextSplitter(chunk_size=1000)\n",
    "child_splitter = RecursiveCharacterTextSplitter(chunk_size=1000)\n",
    "vectorstore = Chroma(\n",
    "    collection_name=\"full_docs\", embedding = embeddings\n",
    ")\n",
    "\n",
    "# storage layer for the parent documents\n",
    "store = InMemoryStore()\n",
    "retriever = ParentDocumentRetriever(\n",
    "    vectorstore=vectorstore,\n",
    "    docstore=store,\n",
    "    child_splitter=child_splitter,\n",
    "    parent_splitter=parent_splitter,\n",
    ")"
   ]
  },
  {
   "cell_type": "markdown",
   "metadata": {},
   "source": [
    "### 3. Retrieve from documents list"
   ]
  },
  {
   "cell_type": "code",
   "execution_count": null,
   "metadata": {},
   "outputs": [],
   "source": [
    "QUERY = \"\"\n",
    "\n",
    "# add documents to retriever and see how many chunk the full document has\n",
    "retriever.add_documents(documents)\n",
    "len(list(store.yield_keys()))\n",
    "\n",
    "# check if search is possible for smaller chunks\n",
    "sub_docs = vectorstore.similarity_search(QUERY)\n",
    "print(sub_docs[0].page_content)\n",
    "len(sub_docs[0].page_content)\n",
    "\n",
    "# two ways of retrieving documents\n",
    "retrieved_docs = retriever.invoke(QUERY) \n",
    "retrieved_docs = retriever.get_relevant_documents(QUERY)\n",
    "\n",
    "# print the searched document\n",
    "print(retrieved_docs[0].page_content)\n",
    "len(retrieved_docs[0].page_content)"
   ]
  },
  {
   "cell_type": "markdown",
   "metadata": {},
   "source": [
    "### 4. Store VectorStore"
   ]
  },
  {
   "cell_type": "code",
   "execution_count": null,
   "metadata": {},
   "outputs": [],
   "source": []
  }
 ],
 "metadata": {
  "kernelspec": {
   "display_name": "Python 3",
   "language": "python",
   "name": "python3"
  },
  "language_info": {
   "codemirror_mode": {
    "name": "ipython",
    "version": 3
   },
   "file_extension": ".py",
   "mimetype": "text/x-python",
   "name": "python",
   "nbconvert_exporter": "python",
   "pygments_lexer": "ipython3",
   "version": "3.10.12"
  }
 },
 "nbformat": 4,
 "nbformat_minor": 2
}
