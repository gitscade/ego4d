{
 "cells": [
  {
   "cell_type": "markdown",
   "metadata": {},
   "source": [
    "# Json Processing\n",
    "0. Read Basic files\n",
    "1. Fetch ID by filters\n",
    "2. Fetch Basic Nested Structure with Video ID\n",
    "3. Provide Basic interactive for fetched ID"
   ]
  },
  {
   "cell_type": "markdown",
   "metadata": {},
   "source": [
    "## 0. Import Json files\n",
    "- master (ego4d)\n",
    "    1. ego4d.json\n",
    "\n",
    "- goalstap annotations (both in ego4d and egogoal)\n",
    "    1. goalstep_train.json\n",
    "    2. goalstep_test_unannotated.json\n",
    "    3. goalstep_trainval.json\n",
    "    4. goalstep_val.json\n",
    "\n"
   ]
  },
  {
   "cell_type": "code",
   "execution_count": null,
   "metadata": {},
   "outputs": [],
   "source": [
    "import os\n",
    "import json\n",
    "from langchain.document_loaders import JSONLoader\n",
    "\n",
    "path_master = \"../ego4d_data/ego4d.json\"\n",
    "path_goalstep = \"../ego4d_data/v2/annotations/\"\n",
    "\n",
    "\n"
   ]
  },
  {
   "cell_type": "markdown",
   "metadata": {},
   "source": [
    "## 1. Fetch UID by filters\n",
    "\n",
    "Look at master for specific info on benchmark, scenario, and duration\n",
    "For Annotation, look at individual file for the specific split of the dataset\n",
    "\n",
    "-benchmark : \"split_goalstep\": null (split_goalstep is not \"test\", \"val\", or \"train\")\n",
    "-scenario : Need to cross look at master since scenario information is not inside annotations\n",
    "-duration=endtime (frames)\n"
   ]
  },
  {
   "cell_type": "code",
   "execution_count": null,
   "metadata": {},
   "outputs": [],
   "source": []
  }
 ],
 "metadata": {
  "kernelspec": {
   "display_name": "Python 3",
   "language": "python",
   "name": "python3"
  },
  "language_info": {
   "name": "python",
   "version": "3.8.10"
  }
 },
 "nbformat": 4,
 "nbformat_minor": 2
}
