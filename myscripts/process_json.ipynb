{
 "cells": [
  {
   "cell_type": "markdown",
   "metadata": {},
   "source": [
    "# Json Processing\n",
    "0. Read Basic files\n",
    "1. Fetch ID by filters\n",
    "2. Fetch Basic Nested Structure with Video ID\n",
    "3. Provide Basic interactive for fetched ID"
   ]
  },
  {
   "cell_type": "markdown",
   "metadata": {},
   "source": [
    "## 0. Import Json files\n",
    "- master (ego4d)\n",
    "    1. ego4d.json\n",
    "\n",
    "- goalstap annotations (both in ego4d and egogoal)\n",
    "    1. goalstep_train.json\n",
    "    2. goalstep_test_unannotated.json\n",
    "    3. goalstep_trainval.json\n",
    "    4. goalstep_val.json\n",
    "\n"
   ]
  },
  {
   "cell_type": "code",
   "execution_count": 7,
   "metadata": {},
   "outputs": [
    {
     "ename": "KeyError",
     "evalue": "0",
     "output_type": "error",
     "traceback": [
      "\u001b[0;31m---------------------------------------------------------------------------\u001b[0m",
      "\u001b[0;31mKeyError\u001b[0m                                  Traceback (most recent call last)",
      "Cell \u001b[0;32mIn[7], line 25\u001b[0m\n\u001b[1;32m     22\u001b[0m \u001b[38;5;28;01mwith\u001b[39;00m \u001b[38;5;28mopen\u001b[39m(path_master, \u001b[38;5;124m\"\u001b[39m\u001b[38;5;124mr\u001b[39m\u001b[38;5;124m\"\u001b[39m) \u001b[38;5;28;01mas\u001b[39;00m file:\n\u001b[1;32m     23\u001b[0m     data_goalstep_trainval \u001b[38;5;241m=\u001b[39m json\u001b[38;5;241m.\u001b[39mload(file)\n\u001b[0;32m---> 25\u001b[0m \u001b[38;5;28mprint\u001b[39m(\u001b[43mdata_master\u001b[49m\u001b[43m[\u001b[49m\u001b[38;5;241;43m0\u001b[39;49m\u001b[43m]\u001b[49m)\n\u001b[1;32m     26\u001b[0m \u001b[38;5;28mprint\u001b[39m(\u001b[38;5;28mlen\u001b[39m(data_goalstep_train))\n\u001b[1;32m     27\u001b[0m \u001b[38;5;28mprint\u001b[39m(\u001b[38;5;28mlen\u001b[39m(data_goalstep_test))\n",
      "\u001b[0;31mKeyError\u001b[0m: 0"
     ]
    }
   ],
   "source": [
    "import os\n",
    "import json\n",
    "from langchain.document_loaders import JSONLoader\n",
    "from langchain_community.vectorstores import DocArrayInMemorySearch\n",
    "\n",
    "path_master = \"../ego4d_data/ego4d.json\"\n",
    "path_goalstep = \"../ego4d_data/v2/annotations/\"\n",
    "path_goalstep_train = path_goalstep + \"goalstep_train.json\"\n",
    "path_goalstep_test = path_goalstep + \"goalstep_test_unannotated.json\"\n",
    "path_goalstep_val = path_goalstep + \"goalstep_val.json\"\n",
    "path_goalstep_trainval = path_goalstep + \"goalstep_trainval.json\"\n",
    "\n",
    "\n",
    "with open(path_master, \"r\") as file:\n",
    "    data_master = json.load(file)\n",
    "with open(path_master, \"r\") as file:\n",
    "    data_goalstep_train = json.load(file)\n",
    "with open(path_master, \"r\") as file:\n",
    "    data_goalstep_test = json.load(file)\n",
    "with open(path_master, \"r\") as file:\n",
    "    data_goalstep_val = json.load(file)\n",
    "with open(path_master, \"r\") as file:\n",
    "    data_goalstep_trainval = json.load(file)\n",
    "\n",
    "print(len(data_master))\n",
    "print(len(data_goalstep_train))\n",
    "print(len(data_goalstep_test))\n",
    "print(len(data_goalstep_val))\n",
    "print(len(data_goalstep_trainval))"
   ]
  },
  {
   "cell_type": "markdown",
   "metadata": {},
   "source": [
    "## 1. Fetch UID by filters\n",
    "\n",
    "Look at master for specific info on benchmark, scenario, and duration\n",
    "For Annotation, look at individual file for the specific split of the dataset\n",
    "\n",
    "1. benchmark : \"split_goalstep\": null (split_goalstep is not \"test\", \"val\", or \"train\")\n",
    "2. scenario : Need to cross look at master since scenario information is not inside annotations\n",
    "3. duration=endtime (frames)\n"
   ]
  },
  {
   "cell_type": "code",
   "execution_count": null,
   "metadata": {},
   "outputs": [],
   "source": [
    "\n",
    "\n",
    "\n",
    "# convert master json to documents->vectorstore\n",
    "with open(path_master, \"r\") as file:\n",
    "    data_master = json.load(file)\n",
    "\n",
    "# query with filters and retrieve list of uids\n",
    "\n",
    "vectorstore_master = DocArrayInMemorySearch.from_documents(documents, embeddings)\n",
    "\n",
    "\n",
    "# convert each split(test, train, val) to documentss->vecstores\n",
    "with open(\"your_file.json\", \"r\") as file:\n",
    "    data = json.load(file)\n",
    "\n",
    "\n",
    "\n",
    "\n",
    "def query_by_filter(vectorstore, filter_name, filter_value):\n",
    "    # Define the retriever with a filter for the specific video_uid\n",
    "    retriever = vectorstore.as_retriever(\n",
    "        search_type=\"similarity\",  # Optional: 'similarity' or 'mmr'\n",
    "        search_kwargs={\"k\": 10},  # Adjust the number of results as needed\n",
    "        filter={filter_name: filter_value}\n",
    "        #filter={\"video_uid\": \"39d087b0-afc2-47d8-ba91-b70dd8fab90e\"}\n",
    "    )\n",
    "\n",
    "    # Query the retriever (this ignores the query string and filters by metadata)\n",
    "    query = \"irrelevant query since we're filtering by metadata\"\n",
    "    results = retriever.get_relevant_documents(query)\n",
    "\n",
    "    # Display the results\n",
    "    for result in results:\n",
    "        print(\"Page Content:\", result.page_content)\n",
    "        print(\"Metadata:\", result.metadata)\n",
    "\n"
   ]
  },
  {
   "cell_type": "code",
   "execution_count": 1,
   "metadata": {},
   "outputs": [],
   "source": [
    "filter_name = input(\"input filter_name: \")\n",
    "print(\"name\" + filter_name)\n",
    "filter_value = input(\"input filter_value: \")\n",
    "print(\"value:\" + filter_name)\n",
    "\n",
    "\n"
   ]
  },
  {
   "cell_type": "code",
   "execution_count": null,
   "metadata": {},
   "outputs": [],
   "source": []
  }
 ],
 "metadata": {
  "kernelspec": {
   "display_name": "Python 3",
   "language": "python",
   "name": "python3"
  },
  "language_info": {
   "codemirror_mode": {
    "name": "ipython",
    "version": 3
   },
   "file_extension": ".py",
   "mimetype": "text/x-python",
   "name": "python",
   "nbconvert_exporter": "python",
   "pygments_lexer": "ipython3",
   "version": "3.10.12"
  }
 },
 "nbformat": 4,
 "nbformat_minor": 2
}
