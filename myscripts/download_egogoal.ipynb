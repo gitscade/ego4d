{
 "cells": [
  {
   "cell_type": "markdown",
   "metadata": {},
   "source": [
    "# Ego Goal Step\n",
    "\n",
    "- github link\n",
    "https://github.com/facebookresearch/ego4d-goalstep\n",
    "\n",
    "\n",
    "- visualizing on browser\n",
    "https://visualize.ego4d-data.org/?q=%22benchmarks+include+goalstep%22"
   ]
  },
  {
   "cell_type": "code",
   "execution_count": 1,
   "metadata": {},
   "outputs": [],
   "source": [
    "import json\n",
    "import numpy as np\n",
    "import matplotlib.pyplot as plt\n",
    "import pandas as pd\n",
    "%matplotlib inline"
   ]
  },
  {
   "cell_type": "code",
   "execution_count": null,
   "metadata": {},
   "outputs": [],
   "source": []
  },
  {
   "cell_type": "code",
   "execution_count": 4,
   "metadata": {},
   "outputs": [],
   "source": [
    "ego4d_json = json.load(open(\"../data/egogoal/ego4d.json\"))\n",
    "egogoal_nonann_data = json.load(open(\"../data/egogoal/v2/annotations/goalstep_test_unannotated.json\"))\n",
    "egogoal_ann_train_data = json.load(open(\"../data/egogoal/v2/annotations/goalstep_train.json\"))\n",
    "egogoal_nonann_trainval_data = json.load(open(\"../data/egogoal/v2/annotations/goalstep_trainval.json\"))\n",
    "egogoal_nonann_val_data = json.load(open(\"../data/egogoal/v2/annotations/goalstep_val.json\"))\n"
   ]
  },
  {
   "cell_type": "code",
   "execution_count": 8,
   "metadata": {},
   "outputs": [
    {
     "name": "stdout",
     "output_type": "stream",
     "text": [
      "test:  Index(['version', 'date', 'description', 'split', 'videos'], dtype='object')\n",
      "train:  Index(['version', 'date', 'description', 'split', 'videos'], dtype='object')\n",
      "val:  Index(['version', 'date', 'description', 'split', 'videos'], dtype='object')\n",
      "trainval:  Index(['version', 'date', 'description', 'videos'], dtype='object')\n"
     ]
    }
   ],
   "source": [
    "import pandas as pd\n",
    "test_df = df = pd.json_normalize(egogoal_nonann_data)\n",
    "train_df = df = pd.json_normalize(egogoal_ann_train_data)\n",
    "val_df = df = pd.json_normalize(egogoal_nonann_val_data)\n",
    "trainval_df = df = pd.json_normalize(egogoal_nonann_trainval_data)\n",
    "\n",
    "print(\"test: \", test_df.columns)\n",
    "print(\"train: \", train_df.columns)\n",
    "print(\"val: \", val_df.columns)\n",
    "print(\"trainval: \", trainval_df.columns)\n"
   ]
  },
  {
   "cell_type": "markdown",
   "metadata": {},
   "source": [
    "ann_data = json.load(open(\"../data/ego4d/v2/annotations/nlq_train.json\"))\n",
    "fho_sta_data = json.load(open(\"../data/ego4d/v2/annotations/fho_sta_train.json\"))"
   ]
  }
 ],
 "metadata": {
  "kernelspec": {
   "display_name": "Python 3",
   "language": "python",
   "name": "python3"
  },
  "language_info": {
   "codemirror_mode": {
    "name": "ipython",
    "version": 3
   },
   "file_extension": ".py",
   "mimetype": "text/x-python",
   "name": "python",
   "nbconvert_exporter": "python",
   "pygments_lexer": "ipython3",
   "version": "3.10.12"
  }
 },
 "nbformat": 4,
 "nbformat_minor": 2
}
