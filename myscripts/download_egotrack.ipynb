{
 "cells": [
  {
   "cell_type": "markdown",
   "metadata": {},
   "source": [
    "# EgoTrack\n",
    "\n",
    "- annotation json names: \"Visual Queries - EgoTracks_<set>.json schema\"\n",
    "- schema for annotation here\n",
    "https://ego4d-data.org/docs/data/egotracks/"
   ]
  },
  {
   "cell_type": "code",
   "execution_count": 1,
   "metadata": {},
   "outputs": [],
   "source": [
    "import json\n",
    "import numpy as np\n",
    "import matplotlib.pyplot as plt\n",
    "import pandas as pd\n",
    "%matplotlib inline"
   ]
  },
  {
   "cell_type": "code",
   "execution_count": null,
   "metadata": {},
   "outputs": [],
   "source": [
    "# ego4d --output_directory ./data/egotrack --datasets egotracks clips --benchmark EM --version v2"
   ]
  },
  {
   "cell_type": "code",
   "execution_count": null,
   "metadata": {},
   "outputs": [],
   "source": [
    "ego4d_json = json.load(open(\"../data/egotrack/ego4d.json\"))\n",
    "\n",
    "# TODO: IDENTIFY WHERE EGOTRACK ANNOTATIONS ARE?\n",
    "# egogoal_nonann_data = json.load(open(\"../data/egotrack/v2/annotations/goalstep_test_unannotated.json\"))\n",
    "# egogoal_ann_train_data = json.load(open(\"../data/egotrack/v2/annotations/goalstep_train.json\"))\n",
    "# egogoal_nonann_trainval_data = json.load(open(\"../data/egotrack/v2/annotations/goalstep_trainval.json\"))\n",
    "# egogoal_nonann_val_data = json.load(open(\"../data/egotrack/v2/annotations/goalstep_val.json\"))"
   ]
  }
 ],
 "metadata": {
  "kernelspec": {
   "display_name": "Python 3",
   "language": "python",
   "name": "python3"
  },
  "language_info": {
   "codemirror_mode": {
    "name": "ipython",
    "version": 3
   },
   "file_extension": ".py",
   "mimetype": "text/x-python",
   "name": "python",
   "nbconvert_exporter": "python",
   "pygments_lexer": "ipython3",
   "version": "3.10.12"
  }
 },
 "nbformat": 4,
 "nbformat_minor": 2
}
