{
 "cells": [
  {
   "cell_type": "markdown",
   "metadata": {},
   "source": [
    "# 0-dataset-module1-vectorstoreretriever\n",
    "\n",
    "- parent 관련된 모듈\n",
    "    1. https://asidefine.tistory.com/298\n",
    "    2. https://wikidocs.net/234164\n",
    "- multi-vector retriever\n",
    "    1. https://wikidocs.net/234281"
   ]
  },
  {
   "cell_type": "markdown",
   "metadata": {},
   "source": [
    "### 1. datapath & read\n",
    "\n",
    "json을 일단 읽어준다."
   ]
  },
  {
   "cell_type": "code",
   "execution_count": 7,
   "metadata": {},
   "outputs": [],
   "source": [
    "import os\n",
    "from dotenv import load_dotenv\n",
    "import openai\n",
    "import langchain\n",
    "import json\n",
    "import logging #logging for queries\n",
    "# from langchain_community.document_loaders import TextLoader\n",
    "# from langchain.document_loaders import JSONLoader\n",
    "\n",
    "# load api keys\n",
    "load_dotenv()\n",
    "openai.api_key = os.getenv(\"OPENAI_API_KEY\")\n",
    "\n",
    "PATH_TEST = \"../egogoal/v2/annotations/goalstep_test_unannotated.json\"\n",
    "PATH_TRAIN = \"../egogoal/v2/annotations/goalstep_train.json\"\n",
    "PATH_VAL = \"../egogoal/v2/annotations/goalstep_val.json\"\n",
    "PATH_TRAINVAL = \"../egogoal/v2/annotations/goalstep_trainval.json\"\n",
    "\n",
    "data_test = json.load(open(PATH_TEST))\n",
    "data_train = json.load(open(PATH_TRAIN))\n",
    "data_val = json.load(open(PATH_VAL))\n",
    "\n",
    "# train_video_uids = set(x.get(\"video_id\", x.get(\"video_uid\", None)) for x in data_test[\"annotations\"])\n",
    "# val_video_uids = set(x.get(\"video_id\", x.get(\"video_uid\", None)) for x in data_train[\"annotations\"])\n",
    "# test_video_uids = set(x.get(\"video_id\", x.get(\"video_uid\", None)) for x in data_val[\"annotations\"])\n"
   ]
  },
  {
   "cell_type": "markdown",
   "metadata": {
    "vscode": {
     "languageId": "plaintext"
    }
   },
   "source": [
    "### 3 1. Manual Method\n",
    "\n",
    "어떠한 chunk에 대한 유사도가 감지되었다면, 그 chunk를 가지고 있는 원본 document를 모두 참고하는 방법이다.\n",
    "- 각 비디오는 separate document로 documents에 들어가야 한다.\n",
    "- 각 비디오가 많이 길수가 있으니까 역시 chunk를 만들어서 줘야 한다.\n",
    "- 다만, 맨 처음의 spatial context는 무조건 줘야 한다.\n",
    "\n",
    "### Plan\n",
    "- `Parse Input JSON`: \n",
    "\n",
    "Extract the \"segments_sequence\" and other required data structures from the JSON.\n",
    "Create Vector Representations: Convert the segments' context and change information into vector representations (e.g., using embeddings from a pre-trained model like OpenAI's or Hugging Face's).\n",
    "\n",
    "- `Index Segments into a Vectorstore:`\n",
    "\n",
    "Each level 3 segment will be a document with its context and change attributes.\n",
    "Store metadata for parent relationships (e.g., level 2 and level 1 parent information).\n",
    "\n",
    "- `Query the Vectorstore:`\n",
    "\n",
    "Match the input sequence to the most similar level 3 segment using embeddings.\n",
    "Retrieve metadata to locate parent level 2 and level 1 segments.\n",
    "\n",
    "- `Return Results:`\n",
    "\n",
    "Return the level 3 segment, its parent level 2 segment, and the level 1 parent.\n"
   ]
  },
  {
   "cell_type": "code",
   "execution_count": 8,
   "metadata": {},
   "outputs": [],
   "source": [
    "from langchain.embeddings import OpenAIEmbeddings\n",
    "from langchain.vectorstores import FAISS\n",
    "import json\n",
    "\n",
    "def extract_segments(data):\n",
    "    segments = []\n",
    "\n",
    "    def recurse_segments(segment, parent_id=None, level=1):\n",
    "        segment_id = segment.get(\"number\")\n",
    "        text = json.dumps(segment.get(\"context\"))\n",
    "        metadata = {\n",
    "            \"level\": level,\n",
    "            \"segment_id\": segment_id,\n",
    "            \"parent_id\": parent_id,\n",
    "            \"video_uid\": segment.get(\"video_uid\"),\n",
    "        }\n",
    "        segments.append({\"text\": text, \"metadata\": metadata})\n",
    "        \n",
    "        # Process child segments recursively\n",
    "        for child_segment in segment.get(\"segments\", []):\n",
    "            recurse_segments(child_segment, parent_id=segment_id, level=level+1)\n",
    "\n",
    "    for video in data[\"videos\"]:\n",
    "        recurse_segments(video, parent_id=None, level=1)\n",
    "    \n",
    "    return segments"
   ]
  },
  {
   "cell_type": "code",
   "execution_count": null,
   "metadata": {},
   "outputs": [],
   "source": [
    "# Load your JSON data\n",
    "with open(\"database.json\") as f:\n",
    "    data = json.load(f)\n",
    "segments = extract_segments(data)\n",
    "\n",
    "# Initialize embeddings\n",
    "embeddings = OpenAIEmbeddings()\n",
    "\n",
    "# Create FAISS index\n",
    "texts = [segment[\"text\"] for segment in segments]\n",
    "metadata = [segment[\"metadata\"] for segment in segments]\n",
    "vectorstore = FAISS.from_texts(texts, embeddings, metadatas=metadata)"
   ]
  },
  {
   "cell_type": "code",
   "execution_count": null,
   "metadata": {},
   "outputs": [],
   "source": [
    "# query and traverse\n",
    "def query_hierarchy(query_sequence, vectorstore):\n",
    "    # Generate query embedding (1 result is picked)\n",
    "    query_text = json.dumps(query_sequence)\n",
    "    result = vectorstore.similarity_search(query_text, k=1)\n",
    "    \n",
    "    if not result:\n",
    "        return None\n",
    "    \n",
    "    level3_match = result[0]\n",
    "    level3_metadata = level3_match.metadata\n",
    "    \n",
    "    # Retrieve parent level 2\n",
    "    level2_match = next(\n",
    "        (seg for seg in segments if seg[\"metadata\"][\"segment_id\"] == level3_metadata[\"parent_id\"]),\n",
    "        None\n",
    "    )\n",
    "    \n",
    "    # Retrieve parent level 1\n",
    "    level1_match = next(\n",
    "        (seg for seg in segments if seg[\"metadata\"][\"segment_id\"] == level2_match[\"metadata\"][\"parent_id\"]),\n",
    "        None\n",
    "    ) if level2_match else None\n",
    "    \n",
    "    return {\n",
    "        \"level3\": level3_match,\n",
    "        \"level2\": level2_match,\n",
    "        \"level1\": level1_match,\n",
    "    }\n",
    "\n",
    "query_sequence = [...]  # Input your level 3 segment sequence\n",
    "result_hierarchy = query_hierarchy(query_sequence, vectorstore)\n",
    "\n",
    "# Display results\n",
    "print(\"Level 3 Match:\", result_hierarchy[\"level3\"])\n",
    "print(\"Level 2 Parent:\", result_hierarchy[\"level2\"])\n",
    "print(\"Level 1 Parent:\", result_hierarchy[\"level1\"])"
   ]
  },
  {
   "cell_type": "markdown",
   "metadata": {},
   "source": [
    "### 3 2. make hierarchical \n",
    "\n",
    "어떠한 chunk에 대한 유사도가 감지되었다면, 그 chunk를 가지고 있는 원본 document를 모두 참고하는 방법이다.\n",
    "- 각 비디오는 separate document로 documents에 들어가야 한다.\n",
    "- 각 비디오가 많이 길수가 있으니까 역시 chunk를 만들어서 줘야 한다.\n",
    "- 다만, 맨 처음의 spatial context는 무조건 줘야 한다."
   ]
  },
  {
   "cell_type": "code",
   "execution_count": null,
   "metadata": {},
   "outputs": [],
   "source": [
    "# Loading and Splitting\n",
    "from langchain_openai.embeddings import OpenAIEmbeddings\n",
    "from langchain.text_splitter import RecursiveCharacterTextSplitter\n",
    "from langchain.retrievers.multi_query import MultiQueryRetriever\n",
    "from langchain_community.vectorstores import Chroma\n",
    "from langchain.storage import InMemoryStore\n",
    "from langchain.retrievers import ParentDocumentRetriever\n",
    "\n",
    "\n",
    "# split dataset into lists\n",
    "documents = []\n",
    "embeddings = OpenAIEmbeddings()\n",
    "\n",
    "# text splitter\n",
    "parent_splitter = RecursiveCharacterTextSplitter(chunk_size=1000)\n",
    "child_splitter = RecursiveCharacterTextSplitter(chunk_size=1000)\n",
    "vectorstore = Chroma(\n",
    "    collection_name=\"full_docs\", embedding = embeddings\n",
    ")\n",
    "\n",
    "# storage layer for the parent documents\n",
    "store = InMemoryStore()\n",
    "retriever = ParentDocumentRetriever(\n",
    "    vectorstore=vectorstore,\n",
    "    docstore=store,\n",
    "    child_splitter=child_splitter,\n",
    "    parent_splitter=parent_splitter,\n",
    ")"
   ]
  },
  {
   "cell_type": "markdown",
   "metadata": {},
   "source": [
    "### 3. Retrieve from documents list"
   ]
  },
  {
   "cell_type": "code",
   "execution_count": null,
   "metadata": {},
   "outputs": [],
   "source": [
    "QUERY = \"\"\n",
    "\n",
    "# add documents to retriever and see how many chunk the full document has\n",
    "retriever.add_documents(documents)\n",
    "len(list(store.yield_keys()))\n",
    "\n",
    "# check if search is possible for smaller chunks\n",
    "sub_docs = vectorstore.similarity_search(QUERY)\n",
    "print(sub_docs[0].page_content)\n",
    "len(sub_docs[0].page_content)\n",
    "\n",
    "# two ways of retrieving documents\n",
    "retrieved_docs = retriever.invoke(QUERY) \n",
    "retrieved_docs = retriever.get_relevant_documents(QUERY)\n",
    "\n",
    "# print the searched document\n",
    "print(retrieved_docs[0].page_content)\n",
    "len(retrieved_docs[0].page_content)"
   ]
  },
  {
   "cell_type": "markdown",
   "metadata": {},
   "source": [
    "### 4. Store VectorStore"
   ]
  },
  {
   "cell_type": "code",
   "execution_count": null,
   "metadata": {},
   "outputs": [],
   "source": []
  }
 ],
 "metadata": {
  "kernelspec": {
   "display_name": "Python 3",
   "language": "python",
   "name": "python3"
  },
  "language_info": {
   "codemirror_mode": {
    "name": "ipython",
    "version": 3
   },
   "file_extension": ".py",
   "mimetype": "text/x-python",
   "name": "python",
   "nbconvert_exporter": "python",
   "pygments_lexer": "ipython3",
   "version": "3.10.12"
  }
 },
 "nbformat": 4,
 "nbformat_minor": 2
}
