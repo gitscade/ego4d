{
 "cells": [
  {
   "cell_type": "code",
   "execution_count": 4,
   "metadata": {},
   "outputs": [
    {
     "name": "stdout",
     "output_type": "stream",
     "text": [
      "[INFO] Ollama 서버가 백그라운드에서 실행되었습니다.\n"
     ]
    }
   ],
   "source": [
    "# Run Ollama\n",
    "import langchain_ollama\n",
    "import requests\n",
    "import json\n",
    "import subprocess\n",
    "import time\n",
    "\n",
    "def start_ollama_server():\n",
    "    \"\"\"\n",
    "    Ollama 서버를 백그라운드에서 실행하여 llava:34b 모델을 로드.\n",
    "    \"\"\"\n",
    "    try:\n",
    "        # Ollama 서버를 백그라운드에서 실행\n",
    "        subprocess.Popen([\"ollama\", \"serve\"], stdout=subprocess.DEVNULL, stderr=subprocess.DEVNULL)\n",
    "        time.sleep(2)  # 서버가 시작될 시간을 확보\n",
    "        print(\"[INFO] Ollama 서버가 백그라운드에서 실행되었습니다.\")\n",
    "    except Exception as e:\n",
    "        print(f\"[ERROR] Ollama 서버 실행 실패: {e}\")\n",
    "        \n",
    "start_ollama_server()"
   ]
  },
  {
   "cell_type": "code",
   "execution_count": 10,
   "metadata": {},
   "outputs": [
    {
     "name": "stdout",
     "output_type": "stream",
     "text": [
      "NAME         ID              SIZE      MODIFIED    \n",
      "llava:34b    3d2d24f46674    20 GB     5 weeks ago    \n",
      "llama3:8b    365c0bd3c000    4.7 GB    5 weeks ago    \n",
      "\n",
      "[INFO] Ollama is running with PID: 3741503\n"
     ]
    }
   ],
   "source": [
    "# CURRENT DOWNLOADS / CURRENT PROCESSES\n",
    "import subprocess\n",
    "output = subprocess.check_output([\"ollama\", \"list\"]).decode()\n",
    "print(output) # prints available models\n",
    "\n",
    "try:\n",
    "    output = subprocess.check_output([\"pgrep\", \"-f\", \"ollama\"], stderr=subprocess.DEVNULL).decode().strip()\n",
    "    if output:\n",
    "        print(f\"[INFO] Ollama is running with PID: {output}\")\n",
    "    else:\n",
    "        print(\"[WARNING] Ollama is NOT running.\")\n",
    "except subprocess.CalledProcessError:\n",
    "    print(\"[WARNING] Ollama is NOT running.\")"
   ]
  },
  {
   "cell_type": "code",
   "execution_count": null,
   "metadata": {},
   "outputs": [],
   "source": [
    "# Get Ollama Model\n",
    "import subprocess\n",
    "\n",
    "model_name = \"llava:34b\"  # Change this to any model you want to pull\n",
    "model_name = \"\"\n",
    "# Pull the model\n",
    "subprocess.run([\"ollama\", \"pull\", model_name], check=True)\n",
    "\n",
    "print(f\"[INFO] Model {model_name} pulled successfully!\")\n"
   ]
  },
  {
   "cell_type": "code",
   "execution_count": 5,
   "metadata": {},
   "outputs": [
    {
     "name": "stdout",
     "output_type": "stream",
     "text": [
      "[INFO] Ollama 서버가 중지되었습니다.\n",
      "[INFO] Ollama is running with PID: 3745054\n"
     ]
    }
   ],
   "source": [
    "# Stop Ollama\n",
    "import os\n",
    "\n",
    "os.system(\"pkill -f 'ollama serve'\")\n",
    "print(\"[INFO] Ollama 서버가 중지되었습니다.\")\n",
    "\n",
    "\n",
    "try:\n",
    "    output = subprocess.check_output([\"pgrep\", \"-f\", \"ollama\"], stderr=subprocess.DEVNULL).decode().strip()\n",
    "    if output:\n",
    "        print(f\"[INFO] Ollama is running with PID: {output}\")\n",
    "    else:\n",
    "        print(\"[WARNING] Ollama is NOT running.\")\n",
    "except subprocess.CalledProcessError:\n",
    "    print(\"[WARNING] Ollama is NOT running.\")"
   ]
  },
  {
   "cell_type": "code",
   "execution_count": null,
   "metadata": {},
   "outputs": [],
   "source": []
  }
 ],
 "metadata": {
  "kernelspec": {
   "display_name": "Python 3",
   "language": "python",
   "name": "python3"
  },
  "language_info": {
   "codemirror_mode": {
    "name": "ipython",
    "version": 3
   },
   "file_extension": ".py",
   "mimetype": "text/x-python",
   "name": "python",
   "nbconvert_exporter": "python",
   "pygments_lexer": "ipython3",
   "version": "3.10.12"
  }
 },
 "nbformat": 4,
 "nbformat_minor": 2
}
