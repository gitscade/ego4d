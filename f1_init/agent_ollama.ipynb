{
 "cells": [
  {
   "cell_type": "markdown",
   "metadata": {},
   "source": [
    "# Run Ollama Server"
   ]
  },
  {
   "cell_type": "code",
   "execution_count": 16,
   "metadata": {},
   "outputs": [
    {
     "name": "stdout",
     "output_type": "stream",
     "text": [
      "[INFO] Ollama 서버가 백그라운드에서 실행되었습니다.\n"
     ]
    }
   ],
   "source": [
    "# Run Ollama\n",
    "import langchain_ollama\n",
    "import requests\n",
    "import json\n",
    "import subprocess\n",
    "import time\n",
    "\n",
    "def start_ollama_server():\n",
    "    \"\"\"\n",
    "    Ollama 서버를 백그라운드에서 실행\n",
    "    \"\"\"\n",
    "    try:\n",
    "        # Ollama 서버를 백그라운드에서 실행\n",
    "        subprocess.Popen([\"ollama\", \"serve\"], stdout=subprocess.DEVNULL, stderr=subprocess.DEVNULL)\n",
    "        time.sleep(2)  # 서버가 시작될 시간을 확보\n",
    "        print(\"[INFO] Ollama 서버가 백그라운드에서 실행되었습니다.\")\n",
    "    except Exception as e:\n",
    "        print(f\"[ERROR] Ollama 서버 실행 실패: {e}\")\n",
    "        \n",
    "start_ollama_server()"
   ]
  },
  {
   "cell_type": "code",
   "execution_count": 17,
   "metadata": {},
   "outputs": [
    {
     "name": "stdout",
     "output_type": "stream",
     "text": [
      "NAME                                                  ID              SIZE     MODIFIED       \n",
      "deepseek-r1:32b                                       38056bbcbb2d    19 GB    6 minutes ago     \n",
      "nidumai/nidum-gemma-3-27b-instruct-uncensored:q8_0    c68590903024    28 GB    28 minutes ago    \n",
      "llama3.3:70b                                          a6eb4748fd29    42 GB    2 hours ago       \n",
      "llama3:70b-instruct                                   786f3184aec0    39 GB    2 weeks ago       \n",
      "llava:34b                                             3d2d24f46674    20 GB    2 months ago      \n",
      "\n",
      "[INFO] Ollama is running with PID: 3558899\n",
      "3558963\n"
     ]
    }
   ],
   "source": [
    "# CHECK DOWNLOADS / PID PROCESSES\n",
    "import subprocess\n",
    "output = subprocess.check_output([\"ollama\", \"list\"]).decode()\n",
    "print(output) # prints available models\n",
    "\n",
    "try:\n",
    "    output = subprocess.check_output([\"pgrep\", \"-f\", \"ollama\"], stderr=subprocess.DEVNULL).decode().strip()\n",
    "    if output:\n",
    "        print(f\"[INFO] Ollama is running with PID: {output}\")\n",
    "    else:\n",
    "        print(\"[WARNING] Ollama is NOT running.\")\n",
    "except subprocess.CalledProcessError:\n",
    "    print(\"[WARNING] Ollama is NOT running.\")"
   ]
  },
  {
   "cell_type": "code",
   "execution_count": null,
   "metadata": {},
   "outputs": [],
   "source": [
    "# Get Ollama Model\n",
    "import subprocess\n",
    "\n",
    "model_name = \"llava:34b\"  # Change this to any model you want to pull\n",
    "model_name = \"\"\n",
    "# Pull the model\n",
    "subprocess.run([\"ollama\", \"pull\", model_name], check=True)\n",
    "\n",
    "print(f\"[INFO] Model {model_name} pulled successfully!\")\n"
   ]
  },
  {
   "cell_type": "code",
   "execution_count": 2,
   "metadata": {},
   "outputs": [
    {
     "name": "stdout",
     "output_type": "stream",
     "text": [
      "[INFO] Ollama 서버가 중지되었습니다.\n",
      "[WARNING] Ollama is NOT running.\n"
     ]
    }
   ],
   "source": [
    "# KILL Ollama PID\n",
    "import os\n",
    "\n",
    "os.system(\"pkill -f 'ollama serve'\")\n",
    "print(\"[INFO] Ollama 서버가 중지되었습니다.\")\n",
    "\n",
    "\n",
    "try:\n",
    "    output = subprocess.check_output([\"pgrep\", \"-f\", \"ollama\"], stderr=subprocess.DEVNULL).decode().strip()\n",
    "    if output:\n",
    "        print(f\"[INFO] Ollama is running with PID: {output}\")\n",
    "    else:\n",
    "        print(\"[WARNING] Ollama is NOT running.\")\n",
    "except subprocess.CalledProcessError:\n",
    "    print(\"[WARNING] Ollama is NOT running.\")"
   ]
  }
 ],
 "metadata": {
  "kernelspec": {
   "display_name": "Python 3",
   "language": "python",
   "name": "python3"
  },
  "language_info": {
   "codemirror_mode": {
    "name": "ipython",
    "version": 3
   },
   "file_extension": ".py",
   "mimetype": "text/x-python",
   "name": "python",
   "nbconvert_exporter": "python",
   "pygments_lexer": "ipython3",
   "version": "3.10.12"
  }
 },
 "nbformat": 4,
 "nbformat_minor": 2
}
